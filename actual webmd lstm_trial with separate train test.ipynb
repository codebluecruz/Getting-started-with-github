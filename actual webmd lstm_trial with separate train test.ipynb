{
  "nbformat": 4,
  "nbformat_minor": 0,
  "metadata": {
    "colab": {
      "name": "predicted lstm trial.ipynb",
      "provenance": [],
      "collapsed_sections": [],
      "toc_visible": true,
      "machine_shape": "hm",
      "include_colab_link": true
    },
    "kernelspec": {
      "name": "python3",
      "display_name": "Python 3"
    },
    "accelerator": "TPU"
  },
  "cells": [
    {
      "cell_type": "markdown",
      "metadata": {
        "id": "view-in-github",
        "colab_type": "text"
      },
      "source": [
        "<a href=\"https://colab.research.google.com/github/codebluecruz/Getting-started-with-github/blob/master/actual%20webmd%20lstm_trial%20with%20separate%20train%20test.ipynb\" target=\"_parent\"><img src=\"https://colab.research.google.com/assets/colab-badge.svg\" alt=\"Open In Colab\"/></a>"
      ]
    },
    {
      "cell_type": "markdown",
      "metadata": {
        "_uuid": "dd4d87a956090846d694ee5cb73e9d4581fa24f6",
        "id": "1TCeMoZ_7PIv",
        "colab_type": "text"
      },
      "source": [
        "# Exploratory Data Analysis w/ Python\n",
        "\n",
        "This kernel comprise exploratory data analysis on the provided data, including: \n",
        "- Data loading\n",
        "- Data cleaning \n",
        "- Descriptive Analysis\n",
        "- Temporal Analysis\n",
        "- Sentiment Analysis\n",
        "- Text Analysis\n",
        "- Importing Models\n",
        "- Comparing Classifier outputs\n",
        "- Hyperparameter Optimisation\n",
        "- Evaluating Results(Accuracy, F1-Score, Roc_auc score, ROC_AUC Cruve)\n",
        "\n"
      ]
    },
    {
      "cell_type": "code",
      "metadata": {
        "trusted": true,
        "_uuid": "8c3b51399825e356312a7849da35ecc580227f55",
        "id": "4fXWe39B7PIx",
        "colab_type": "code",
        "colab": {
          "base_uri": "https://localhost:8080/",
          "height": 125
        },
        "outputId": "36eee078-6d98-4574-83a4-b7cc53f5c67c"
      },
      "source": [
        "# Importing all libraries which will be used for our model\n",
        "import pandas as pd\n",
        "import matplotlib.pyplot as plt\n",
        "from scipy import stats\n",
        "import numpy as np\n",
        "import re\n",
        "import seaborn as sns\n",
        "import string\n",
        "import html\n",
        "from sklearn.preprocessing import normalize, MinMaxScaler\n",
        "from scipy.stats import spearmanr, pearsonr\n",
        "\n",
        "# NLTK\n",
        "import nltk\n",
        "from nltk.corpus import stopwords\n",
        "from nltk.stem import SnowballStemmer\n",
        "import nltk\n",
        "nltk.download('stopwords')\n",
        "\n",
        "# Keras\n",
        "from keras.preprocessing.text import Tokenizer\n",
        "from keras.preprocessing.sequence import pad_sequences\n",
        "from keras.models import Sequential\n",
        "from keras.layers import Dense, Flatten, LSTM, Conv1D, MaxPooling1D, Dropout, Activation\n",
        "from keras.layers.embeddings import Embedding\n",
        "\n",
        "import warnings\n",
        "warnings.filterwarnings(\"ignore\", category=UserWarning, module='bs4')\n",
        "plt.style.use('ggplot')"
      ],
      "execution_count": 1,
      "outputs": [
        {
          "output_type": "stream",
          "text": [
            "/usr/local/lib/python3.6/dist-packages/statsmodels/tools/_testing.py:19: FutureWarning: pandas.util.testing is deprecated. Use the functions in the public API at pandas.testing instead.\n",
            "  import pandas.util.testing as tm\n"
          ],
          "name": "stderr"
        },
        {
          "output_type": "stream",
          "text": [
            "[nltk_data] Downloading package stopwords to /root/nltk_data...\n",
            "[nltk_data]   Unzipping corpora/stopwords.zip.\n"
          ],
          "name": "stdout"
        },
        {
          "output_type": "stream",
          "text": [
            "Using TensorFlow backend.\n"
          ],
          "name": "stderr"
        }
      ]
    },
    {
      "cell_type": "code",
      "metadata": {
        "id": "JNA-8waoDxUq",
        "colab_type": "code",
        "colab": {
          "base_uri": "https://localhost:8080/",
          "height": 125
        },
        "outputId": "0e0a6946-a8b1-46e9-999f-9604590e1bd8"
      },
      "source": [
        "# Environment used for codefile if GooGle Collaboratory, Here we're mounting our google drive as all our data is saved on drive itself,\n",
        "# saves us from upload time.\n",
        "from google.colab import drive\n",
        "drive.mount('/content/drive')"
      ],
      "execution_count": 2,
      "outputs": [
        {
          "output_type": "stream",
          "text": [
            "Go to this URL in a browser: https://accounts.google.com/o/oauth2/auth?client_id=947318989803-6bn6qk8qdgf4n4g3pfee6491hc0brc4i.apps.googleusercontent.com&redirect_uri=urn%3aietf%3awg%3aoauth%3a2.0%3aoob&response_type=code&scope=email%20https%3a%2f%2fwww.googleapis.com%2fauth%2fdocs.test%20https%3a%2f%2fwww.googleapis.com%2fauth%2fdrive%20https%3a%2f%2fwww.googleapis.com%2fauth%2fdrive.photos.readonly%20https%3a%2f%2fwww.googleapis.com%2fauth%2fpeopleapi.readonly\n",
            "\n",
            "Enter your authorization code:\n",
            "··········\n",
            "Mounted at /content/drive\n"
          ],
          "name": "stdout"
        }
      ]
    },
    {
      "cell_type": "markdown",
      "metadata": {
        "_uuid": "9211934c152e8b40da08ba819800775662979593",
        "id": "DPR5Rjae7PI1",
        "colab_type": "text"
      },
      "source": [
        "## Loading Data\n",
        "\n",
        "Since we are just doing an exploratory analysis of the data, **we are going to concatenate test and train data into one dataset**."
      ]
    },
    {
      "cell_type": "code",
      "metadata": {
        "_kg_hide-input": false,
        "trusted": true,
        "_uuid": "8678481568c9b1bdd42da356206c2561cd521119",
        "id": "VFDWZdts7PI2",
        "colab_type": "code",
        "colab": {
          "base_uri": "https://localhost:8080/",
          "height": 72
        },
        "outputId": "593d05be-0851-4279-a697-7ef9e93fd5d7"
      },
      "source": [
        "# Reading data \n",
        "drugs = pd.read_csv('/content/drive/My Drive/newset_webmd.csv', skiprows=0)\n",
        "totrainnlp = pd.read_csv('/content/drive/My Drive/totrainnlp.csv', skiprows=0)"
      ],
      "execution_count": 8,
      "outputs": [
        {
          "output_type": "stream",
          "text": [
            "/usr/local/lib/python3.6/dist-packages/IPython/core/interactiveshell.py:2718: DtypeWarning: Columns (0,1,2,3,7,9,10) have mixed types.Specify dtype option on import or set low_memory=False.\n",
            "  interactivity=interactivity, compiler=compiler, result=result)\n"
          ],
          "name": "stderr"
        }
      ]
    },
    {
      "cell_type": "code",
      "metadata": {
        "trusted": true,
        "_uuid": "a722edbd3dbf642d1d437517f259510a039e00d3",
        "id": "nK0kAzIL7PI6",
        "colab_type": "code",
        "colab": {}
      },
      "source": [
        "# droping any NaN rows from our dataset, changing all string values to LowerCase, removing Date column as it doesnt seem to be of much use.\n",
        "drugs = drugs.dropna(how = 'any', axis = 0)\n",
        "drugs.shape\n",
        "drugs.columns = drugs.columns.str.lower()\n",
        "drugs.reset_index(drop = True, inplace = True)\n",
        "drugs['condition'].isnull().sum(axis = 0)\n",
        "#dropping unnecessary columns\n",
        "drugs.drop(['date', 'sex', 'sides'], axis=1, inplace=True)\n",
        "drugs = drugs.drop_duplicates(subset=['reviews'], keep='first')"
      ],
      "execution_count": 9,
      "outputs": []
    },
    {
      "cell_type": "code",
      "metadata": {
        "id": "djX9BGM1VSLq",
        "colab_type": "code",
        "colab": {}
      },
      "source": [
        "# droping any NaN rows from our dataset, changing all string values to LowerCase, removing Date column as it doesnt seem to be of much use.\n",
        "totrainnlp = totrainnlp.dropna(how = 'any', axis = 0)\n",
        "totrainnlp.columns = totrainnlp.columns.str.lower()\n",
        "totrainnlp.reset_index(drop = True, inplace = True)\n",
        "totrainnlp['condition'].isnull().sum(axis = 0)\n",
        "#dropping unnecessary columns\n",
        "totrainnlp.drop(['date', 'sex', 'sides', 'condition', 'effectiveness', 'easeofuse', 'usefulcount', 'drug', 'drugid', 'age'], axis=1, inplace=True)\n",
        "totrainnlp = totrainnlp.drop_duplicates(subset=['reviews'], keep='first')"
      ],
      "execution_count": 10,
      "outputs": []
    },
    {
      "cell_type": "code",
      "metadata": {
        "id": "33IZFACaWHA5",
        "colab_type": "code",
        "colab": {
          "base_uri": "https://localhost:8080/",
          "height": 77
        },
        "outputId": "c4bb9f2d-6bf3-4b81-8720-5e1949c6162e"
      },
      "source": [
        "totrainnlp.head(1)"
      ],
      "execution_count": 11,
      "outputs": [
        {
          "output_type": "execute_result",
          "data": {
            "text/html": [
              "<div>\n",
              "<style scoped>\n",
              "    .dataframe tbody tr th:only-of-type {\n",
              "        vertical-align: middle;\n",
              "    }\n",
              "\n",
              "    .dataframe tbody tr th {\n",
              "        vertical-align: top;\n",
              "    }\n",
              "\n",
              "    .dataframe thead th {\n",
              "        text-align: right;\n",
              "    }\n",
              "</style>\n",
              "<table border=\"1\" class=\"dataframe\">\n",
              "  <thead>\n",
              "    <tr style=\"text-align: right;\">\n",
              "      <th></th>\n",
              "      <th>reviews</th>\n",
              "      <th>satisfaction</th>\n",
              "    </tr>\n",
              "  </thead>\n",
              "  <tbody>\n",
              "    <tr>\n",
              "      <th>0</th>\n",
              "      <td>I've been on prozac, zoloft and celexa over th...</td>\n",
              "      <td>5</td>\n",
              "    </tr>\n",
              "  </tbody>\n",
              "</table>\n",
              "</div>"
            ],
            "text/plain": [
              "                                             reviews  satisfaction\n",
              "0  I've been on prozac, zoloft and celexa over th...             5"
            ]
          },
          "metadata": {
            "tags": []
          },
          "execution_count": 11
        }
      ]
    },
    {
      "cell_type": "code",
      "metadata": {
        "id": "di30muySyigE",
        "colab_type": "code",
        "colab": {
          "base_uri": "https://localhost:8080/",
          "height": 178
        },
        "outputId": "b5936180-1253-4307-c948-f64aac0f9e25"
      },
      "source": [
        "# example of random undersampling to balance the class distribution\n",
        "from collections import Counter\n",
        "from sklearn.datasets import make_classification\n",
        "from imblearn.under_sampling import RandomUnderSampler\n",
        "# define dataset\n",
        "#X, y = make_classification(n_samples=10000, weights=[0.99], flip_y=0)\n",
        "# summarize class distribution\n",
        "print(Counter(drugs['satisfaction']))\n",
        "# define undersample strategy\n",
        "undersample = RandomUnderSampler(sampling_strategy='all')\n",
        "# fit and apply the transform\n",
        "X_over, y_over = undersample.fit_resample(drugs.drop(['satisfaction'], axis=1), drugs['satisfaction'])\n",
        "# summarize class distribution\n",
        "print(Counter(y_over))"
      ],
      "execution_count": 12,
      "outputs": [
        {
          "output_type": "stream",
          "text": [
            "/usr/local/lib/python3.6/dist-packages/sklearn/externals/six.py:31: FutureWarning: The module is deprecated in version 0.21 and will be removed in version 0.23 since we've dropped support for Python 2.7. Please rely on the official version of six (https://pypi.org/project/six/).\n",
            "  \"(https://pypi.org/project/six/).\", FutureWarning)\n",
            "/usr/local/lib/python3.6/dist-packages/sklearn/utils/deprecation.py:144: FutureWarning: The sklearn.neighbors.base module is  deprecated in version 0.22 and will be removed in version 0.24. The corresponding classes / functions should instead be imported from sklearn.neighbors. Anything that cannot be imported from sklearn.neighbors is now part of the private API.\n",
            "  warnings.warn(message, FutureWarning)\n"
          ],
          "name": "stderr"
        },
        {
          "output_type": "stream",
          "text": [
            "Counter({1.0: 27616, 5.0: 27277, 4.0: 14026, 3.0: 11424, 2.0: 8494})\n",
            "Counter({1.0: 8494, 2.0: 8494, 3.0: 8494, 4.0: 8494, 5.0: 8494})\n"
          ],
          "name": "stdout"
        },
        {
          "output_type": "stream",
          "text": [
            "/usr/local/lib/python3.6/dist-packages/sklearn/utils/deprecation.py:87: FutureWarning: Function safe_indexing is deprecated; safe_indexing is deprecated in version 0.22 and will be removed in version 0.24.\n",
            "  warnings.warn(msg, category=FutureWarning)\n"
          ],
          "name": "stderr"
        }
      ]
    },
    {
      "cell_type": "code",
      "metadata": {
        "id": "zMy5QDfWzwYI",
        "colab_type": "code",
        "colab": {}
      },
      "source": [
        "drugs=pd.DataFrame(X_over)\n",
        "drugs1=pd.DataFrame(y_over)"
      ],
      "execution_count": 14,
      "outputs": []
    },
    {
      "cell_type": "code",
      "metadata": {
        "id": "rmq2QdMc1Zst",
        "colab_type": "code",
        "colab": {
          "base_uri": "https://localhost:8080/",
          "height": 77
        },
        "outputId": "c7cc50b8-af68-413e-e8bc-1db05aea3d0d"
      },
      "source": [
        "drugs1.rename(columns={0:'satisfaction'}, inplace = True)\n",
        "drugs1.head(1)"
      ],
      "execution_count": 15,
      "outputs": [
        {
          "output_type": "execute_result",
          "data": {
            "text/html": [
              "<div>\n",
              "<style scoped>\n",
              "    .dataframe tbody tr th:only-of-type {\n",
              "        vertical-align: middle;\n",
              "    }\n",
              "\n",
              "    .dataframe tbody tr th {\n",
              "        vertical-align: top;\n",
              "    }\n",
              "\n",
              "    .dataframe thead th {\n",
              "        text-align: right;\n",
              "    }\n",
              "</style>\n",
              "<table border=\"1\" class=\"dataframe\">\n",
              "  <thead>\n",
              "    <tr style=\"text-align: right;\">\n",
              "      <th></th>\n",
              "      <th>satisfaction</th>\n",
              "    </tr>\n",
              "  </thead>\n",
              "  <tbody>\n",
              "    <tr>\n",
              "      <th>0</th>\n",
              "      <td>1.0</td>\n",
              "    </tr>\n",
              "  </tbody>\n",
              "</table>\n",
              "</div>"
            ],
            "text/plain": [
              "   satisfaction\n",
              "0           1.0"
            ]
          },
          "metadata": {
            "tags": []
          },
          "execution_count": 15
        }
      ]
    },
    {
      "cell_type": "code",
      "metadata": {
        "id": "C41_wBsBz5DK",
        "colab_type": "code",
        "colab": {
          "base_uri": "https://localhost:8080/",
          "height": 77
        },
        "outputId": "9f2cb2d6-7dc9-4f29-d432-73ee378d39ce"
      },
      "source": [
        "drugs.rename(columns = {0:'age', 1:'condition',2:'drug',3:'drugid',4:'easeofuse',5:'effectiveness', 6:'reviews',7:'usefulcount'}, inplace = True)\n",
        "drugs.head(1)"
      ],
      "execution_count": 16,
      "outputs": [
        {
          "output_type": "execute_result",
          "data": {
            "text/html": [
              "<div>\n",
              "<style scoped>\n",
              "    .dataframe tbody tr th:only-of-type {\n",
              "        vertical-align: middle;\n",
              "    }\n",
              "\n",
              "    .dataframe tbody tr th {\n",
              "        vertical-align: top;\n",
              "    }\n",
              "\n",
              "    .dataframe thead th {\n",
              "        text-align: right;\n",
              "    }\n",
              "</style>\n",
              "<table border=\"1\" class=\"dataframe\">\n",
              "  <thead>\n",
              "    <tr style=\"text-align: right;\">\n",
              "      <th></th>\n",
              "      <th>age</th>\n",
              "      <th>condition</th>\n",
              "      <th>drug</th>\n",
              "      <th>drugid</th>\n",
              "      <th>easeofuse</th>\n",
              "      <th>effectiveness</th>\n",
              "      <th>reviews</th>\n",
              "      <th>usefulcount</th>\n",
              "    </tr>\n",
              "  </thead>\n",
              "  <tbody>\n",
              "    <tr>\n",
              "      <th>0</th>\n",
              "      <td>25-34</td>\n",
              "      <td>Bipolar Depression</td>\n",
              "      <td>seroquel</td>\n",
              "      <td>4718</td>\n",
              "      <td>5</td>\n",
              "      <td>1</td>\n",
              "      <td>side effects worse than original problem, i do...</td>\n",
              "      <td>4</td>\n",
              "    </tr>\n",
              "  </tbody>\n",
              "</table>\n",
              "</div>"
            ],
            "text/plain": [
              "     age  ... usefulcount\n",
              "0  25-34  ...           4\n",
              "\n",
              "[1 rows x 8 columns]"
            ]
          },
          "metadata": {
            "tags": []
          },
          "execution_count": 16
        }
      ]
    },
    {
      "cell_type": "code",
      "metadata": {
        "id": "aTPJHSLE1soo",
        "colab_type": "code",
        "colab": {
          "base_uri": "https://localhost:8080/",
          "height": 77
        },
        "outputId": "286f9bab-2a7a-4573-ad89-2f6eade7b207"
      },
      "source": [
        "drugs = pd.concat([drugs, drugs1], axis = 1)\n",
        "drugs.shape\n",
        "drugs.head(1)"
      ],
      "execution_count": 17,
      "outputs": [
        {
          "output_type": "execute_result",
          "data": {
            "text/html": [
              "<div>\n",
              "<style scoped>\n",
              "    .dataframe tbody tr th:only-of-type {\n",
              "        vertical-align: middle;\n",
              "    }\n",
              "\n",
              "    .dataframe tbody tr th {\n",
              "        vertical-align: top;\n",
              "    }\n",
              "\n",
              "    .dataframe thead th {\n",
              "        text-align: right;\n",
              "    }\n",
              "</style>\n",
              "<table border=\"1\" class=\"dataframe\">\n",
              "  <thead>\n",
              "    <tr style=\"text-align: right;\">\n",
              "      <th></th>\n",
              "      <th>age</th>\n",
              "      <th>condition</th>\n",
              "      <th>drug</th>\n",
              "      <th>drugid</th>\n",
              "      <th>easeofuse</th>\n",
              "      <th>effectiveness</th>\n",
              "      <th>reviews</th>\n",
              "      <th>usefulcount</th>\n",
              "      <th>satisfaction</th>\n",
              "    </tr>\n",
              "  </thead>\n",
              "  <tbody>\n",
              "    <tr>\n",
              "      <th>0</th>\n",
              "      <td>25-34</td>\n",
              "      <td>Bipolar Depression</td>\n",
              "      <td>seroquel</td>\n",
              "      <td>4718</td>\n",
              "      <td>5</td>\n",
              "      <td>1</td>\n",
              "      <td>side effects worse than original problem, i do...</td>\n",
              "      <td>4</td>\n",
              "      <td>1.0</td>\n",
              "    </tr>\n",
              "  </tbody>\n",
              "</table>\n",
              "</div>"
            ],
            "text/plain": [
              "     age           condition  ... usefulcount satisfaction\n",
              "0  25-34  Bipolar Depression  ...           4          1.0\n",
              "\n",
              "[1 rows x 9 columns]"
            ]
          },
          "metadata": {
            "tags": []
          },
          "execution_count": 17
        }
      ]
    },
    {
      "cell_type": "code",
      "metadata": {
        "id": "QjDGqGRG5j4d",
        "colab_type": "code",
        "colab": {}
      },
      "source": [
        "# shuffle data to prepare final dataset\n",
        "drugs=drugs.sample(frac=1)"
      ],
      "execution_count": 18,
      "outputs": []
    },
    {
      "cell_type": "markdown",
      "metadata": {
        "_uuid": "78ba9cdda16fc81c70e845bff88e402f9345922c",
        "id": "6BRPIx2R7PJD",
        "colab_type": "text"
      },
      "source": [
        "## Data Cleaning and Data Glimpse\n",
        "\n",
        "We are willing to check if this dataset have some corrupted data or non present values. \n",
        "\n",
        "**condition** is a field which present problems in 1171 registers, probably due to some bug in the data web scraping. The value of those registers is the usefulCount value with an ```span``` HTML tag and the following text: ```users found this comment helpful```. We ignored these registers."
      ]
    },
    {
      "cell_type": "code",
      "metadata": {
        "trusted": true,
        "_uuid": "1958006c6caf1d44ec2a2c26b2fb987a658b123b",
        "id": "lrbF5-GF7PJH",
        "colab_type": "code",
        "colab": {
          "base_uri": "https://localhost:8080/",
          "height": 34
        },
        "outputId": "4594ad1c-6513-4c01-e200-53f87a93c393"
      },
      "source": [
        "# Let's delete all of these corrupted rows\n",
        "print(\"Number of Corrupted Reviews: \", len(drugs[drugs.condition.str.contains(\" users found this comment helpful.\",na=False)]))\n",
        "drugs = drugs[~drugs.condition.str.contains(\" users found this comment helpful.\",na=False)]"
      ],
      "execution_count": 19,
      "outputs": [
        {
          "output_type": "stream",
          "text": [
            "Number of Corrupted Reviews:  0\n"
          ],
          "name": "stdout"
        }
      ]
    },
    {
      "cell_type": "code",
      "metadata": {
        "trusted": true,
        "_uuid": "908dba91c19c44a2ca447a29e62ea8ec9a683b46",
        "id": "74F8yLtL7PJL",
        "colab_type": "code",
        "colab": {
          "base_uri": "https://localhost:8080/",
          "height": 287
        },
        "outputId": "82572bdd-65d0-4b14-8f5f-086ae33d575d"
      },
      "source": [
        "drugs.describe()"
      ],
      "execution_count": 20,
      "outputs": [
        {
          "output_type": "execute_result",
          "data": {
            "text/html": [
              "<div>\n",
              "<style scoped>\n",
              "    .dataframe tbody tr th:only-of-type {\n",
              "        vertical-align: middle;\n",
              "    }\n",
              "\n",
              "    .dataframe tbody tr th {\n",
              "        vertical-align: top;\n",
              "    }\n",
              "\n",
              "    .dataframe thead th {\n",
              "        text-align: right;\n",
              "    }\n",
              "</style>\n",
              "<table border=\"1\" class=\"dataframe\">\n",
              "  <thead>\n",
              "    <tr style=\"text-align: right;\">\n",
              "      <th></th>\n",
              "      <th>satisfaction</th>\n",
              "    </tr>\n",
              "  </thead>\n",
              "  <tbody>\n",
              "    <tr>\n",
              "      <th>count</th>\n",
              "      <td>42470.00000</td>\n",
              "    </tr>\n",
              "    <tr>\n",
              "      <th>mean</th>\n",
              "      <td>3.00000</td>\n",
              "    </tr>\n",
              "    <tr>\n",
              "      <th>std</th>\n",
              "      <td>1.41423</td>\n",
              "    </tr>\n",
              "    <tr>\n",
              "      <th>min</th>\n",
              "      <td>1.00000</td>\n",
              "    </tr>\n",
              "    <tr>\n",
              "      <th>25%</th>\n",
              "      <td>2.00000</td>\n",
              "    </tr>\n",
              "    <tr>\n",
              "      <th>50%</th>\n",
              "      <td>3.00000</td>\n",
              "    </tr>\n",
              "    <tr>\n",
              "      <th>75%</th>\n",
              "      <td>4.00000</td>\n",
              "    </tr>\n",
              "    <tr>\n",
              "      <th>max</th>\n",
              "      <td>5.00000</td>\n",
              "    </tr>\n",
              "  </tbody>\n",
              "</table>\n",
              "</div>"
            ],
            "text/plain": [
              "       satisfaction\n",
              "count   42470.00000\n",
              "mean        3.00000\n",
              "std         1.41423\n",
              "min         1.00000\n",
              "25%         2.00000\n",
              "50%         3.00000\n",
              "75%         4.00000\n",
              "max         5.00000"
            ]
          },
          "metadata": {
            "tags": []
          },
          "execution_count": 20
        }
      ]
    },
    {
      "cell_type": "code",
      "metadata": {
        "trusted": true,
        "id": "RWA2D03i7PJP",
        "colab_type": "code",
        "colab": {
          "base_uri": "https://localhost:8080/",
          "height": 197
        },
        "outputId": "3d96cc94-6f40-415d-df61-5fd59965ea65"
      },
      "source": [
        "### Thought flow for Depression Confidence Intervals\n",
        "\"\"\"\n",
        "I want to take the df, filter by condition, drug, confidence interval, sample size cutoff)\n",
        "Then loop through all the drugs for a specific condition and calculate their\n",
        "mean, top limit, and bottom limit. \n",
        "\"\"\"\n",
        "# Create Confidence Interval Function\n",
        "def confidence_interval (data, ci_percent):\n",
        "  data = np.array(data) # Makes sure our data is in a numpy array\n",
        "  mean = np.mean(data)\n",
        "  n = len(data)\n",
        "  stderr = stats.sem(data)\n",
        "  interval = stderr * stats.t.ppf((1 + ci_percent) / 2., n - 1)\n",
        "  return (mean, mean - interval, mean + interval)\n",
        "\n",
        "\n",
        "def condition_compare (drugs, condition_id, ci_percent, sample_size_cutoff):\n",
        "  output_names = [\"Drug Name\", \"Sample Mean\", \"Lower Bound\", \"Upper Bound\", \"Sample Size\"]\n",
        "  drug_compare = []\n",
        "  data = drugs[drugs.condition == condition_id]\n",
        "  for drug in data.drug.unique():\n",
        "    one_drug = data[data.drug == drug].satisfaction\n",
        "    if one_drug.size > sample_size_cutoff:\n",
        "      mean, ilower, iupper= confidence_interval(one_drug, ci_percent)\n",
        "      entry = [drug, mean, ilower, iupper, one_drug.size]\n",
        "      drug_compare.append(entry)\n",
        "  return pd.DataFrame(drug_compare, columns=output_names)\n",
        "\n",
        "\n",
        "drugs2 = condition_compare(drugs, \"Cough\", 0.95, 10).sort_values(by=\"Sample Mean\", ascending=False)\n",
        "drugs2"
      ],
      "execution_count": 21,
      "outputs": [
        {
          "output_type": "execute_result",
          "data": {
            "text/html": [
              "<div>\n",
              "<style scoped>\n",
              "    .dataframe tbody tr th:only-of-type {\n",
              "        vertical-align: middle;\n",
              "    }\n",
              "\n",
              "    .dataframe tbody tr th {\n",
              "        vertical-align: top;\n",
              "    }\n",
              "\n",
              "    .dataframe thead th {\n",
              "        text-align: right;\n",
              "    }\n",
              "</style>\n",
              "<table border=\"1\" class=\"dataframe\">\n",
              "  <thead>\n",
              "    <tr style=\"text-align: right;\">\n",
              "      <th></th>\n",
              "      <th>Drug Name</th>\n",
              "      <th>Sample Mean</th>\n",
              "      <th>Lower Bound</th>\n",
              "      <th>Upper Bound</th>\n",
              "      <th>Sample Size</th>\n",
              "    </tr>\n",
              "  </thead>\n",
              "  <tbody>\n",
              "    <tr>\n",
              "      <th>0</th>\n",
              "      <td>tussionex</td>\n",
              "      <td>4.030303</td>\n",
              "      <td>3.619413</td>\n",
              "      <td>4.441193</td>\n",
              "      <td>33</td>\n",
              "    </tr>\n",
              "    <tr>\n",
              "      <th>3</th>\n",
              "      <td>promethazine-codeine</td>\n",
              "      <td>3.615385</td>\n",
              "      <td>2.938033</td>\n",
              "      <td>4.292736</td>\n",
              "      <td>13</td>\n",
              "    </tr>\n",
              "    <tr>\n",
              "      <th>1</th>\n",
              "      <td>tessalon perle</td>\n",
              "      <td>3.252252</td>\n",
              "      <td>2.941129</td>\n",
              "      <td>3.563375</td>\n",
              "      <td>111</td>\n",
              "    </tr>\n",
              "    <tr>\n",
              "      <th>4</th>\n",
              "      <td>virtussin ac</td>\n",
              "      <td>3.250000</td>\n",
              "      <td>2.231785</td>\n",
              "      <td>4.268215</td>\n",
              "      <td>12</td>\n",
              "    </tr>\n",
              "    <tr>\n",
              "      <th>2</th>\n",
              "      <td>promethazine-dm</td>\n",
              "      <td>2.863636</td>\n",
              "      <td>2.189203</td>\n",
              "      <td>3.538070</td>\n",
              "      <td>22</td>\n",
              "    </tr>\n",
              "  </tbody>\n",
              "</table>\n",
              "</div>"
            ],
            "text/plain": [
              "              Drug Name  Sample Mean  Lower Bound  Upper Bound  Sample Size\n",
              "0             tussionex     4.030303     3.619413     4.441193           33\n",
              "3  promethazine-codeine     3.615385     2.938033     4.292736           13\n",
              "1        tessalon perle     3.252252     2.941129     3.563375          111\n",
              "4          virtussin ac     3.250000     2.231785     4.268215           12\n",
              "2       promethazine-dm     2.863636     2.189203     3.538070           22"
            ]
          },
          "metadata": {
            "tags": []
          },
          "execution_count": 21
        }
      ]
    },
    {
      "cell_type": "code",
      "metadata": {
        "id": "YfH81ZoYzS-q",
        "colab_type": "code",
        "colab": {
          "base_uri": "https://localhost:8080/",
          "height": 281
        },
        "outputId": "f982b1f6-ab6d-47f2-f74f-bbdb650c4ab3"
      },
      "source": [
        "#We have created a column named \"uniqueid\" for every row, to easen up or operations.\n",
        "drugs['uniqueid'] = np.arange(len(drugs))\n",
        "drugs.head()"
      ],
      "execution_count": 22,
      "outputs": [
        {
          "output_type": "execute_result",
          "data": {
            "text/html": [
              "<div>\n",
              "<style scoped>\n",
              "    .dataframe tbody tr th:only-of-type {\n",
              "        vertical-align: middle;\n",
              "    }\n",
              "\n",
              "    .dataframe tbody tr th {\n",
              "        vertical-align: top;\n",
              "    }\n",
              "\n",
              "    .dataframe thead th {\n",
              "        text-align: right;\n",
              "    }\n",
              "</style>\n",
              "<table border=\"1\" class=\"dataframe\">\n",
              "  <thead>\n",
              "    <tr style=\"text-align: right;\">\n",
              "      <th></th>\n",
              "      <th>age</th>\n",
              "      <th>condition</th>\n",
              "      <th>drug</th>\n",
              "      <th>drugid</th>\n",
              "      <th>easeofuse</th>\n",
              "      <th>effectiveness</th>\n",
              "      <th>reviews</th>\n",
              "      <th>usefulcount</th>\n",
              "      <th>satisfaction</th>\n",
              "      <th>uniqueid</th>\n",
              "    </tr>\n",
              "  </thead>\n",
              "  <tbody>\n",
              "    <tr>\n",
              "      <th>29133</th>\n",
              "      <td>19-24</td>\n",
              "      <td>Skin Rash with Sloughing</td>\n",
              "      <td>prednisone concentrate</td>\n",
              "      <td>6007</td>\n",
              "      <td>4</td>\n",
              "      <td>4</td>\n",
              "      <td>Took 40 mg a day for 5 days to reduce a stingi...</td>\n",
              "      <td>0</td>\n",
              "      <td>4.0</td>\n",
              "      <td>0</td>\n",
              "    </tr>\n",
              "    <tr>\n",
              "      <th>23100</th>\n",
              "      <td>35-44</td>\n",
              "      <td>Overweight</td>\n",
              "      <td>phentermine hcl</td>\n",
              "      <td>4151</td>\n",
              "      <td>5</td>\n",
              "      <td>4</td>\n",
              "      <td>I started taking this medication on 12/24/08 t...</td>\n",
              "      <td>3</td>\n",
              "      <td>3.0</td>\n",
              "      <td>1</td>\n",
              "    </tr>\n",
              "    <tr>\n",
              "      <th>24228</th>\n",
              "      <td></td>\n",
              "      <td>Deficient Activity of the Testis</td>\n",
              "      <td>testopel pellet</td>\n",
              "      <td>9833</td>\n",
              "      <td>3</td>\n",
              "      <td>4</td>\n",
              "      <td>As noted in other cases, daily headaches, itch...</td>\n",
              "      <td>1</td>\n",
              "      <td>3.0</td>\n",
              "      <td>2</td>\n",
              "    </tr>\n",
              "    <tr>\n",
              "      <th>27688</th>\n",
              "      <td>35-44</td>\n",
              "      <td>Birth Control</td>\n",
              "      <td>mirena intrauterine device</td>\n",
              "      <td>20420</td>\n",
              "      <td>4</td>\n",
              "      <td>5</td>\n",
              "      <td>I am about to have my second Mirena inserted. ...</td>\n",
              "      <td>2</td>\n",
              "      <td>4.0</td>\n",
              "      <td>3</td>\n",
              "    </tr>\n",
              "    <tr>\n",
              "      <th>39916</th>\n",
              "      <td>35-44</td>\n",
              "      <td>High Blood Pressure</td>\n",
              "      <td>tarka</td>\n",
              "      <td>16209</td>\n",
              "      <td>5</td>\n",
              "      <td>5</td>\n",
              "      <td>This drug has worked well for me. however it i...</td>\n",
              "      <td>0</td>\n",
              "      <td>5.0</td>\n",
              "      <td>4</td>\n",
              "    </tr>\n",
              "  </tbody>\n",
              "</table>\n",
              "</div>"
            ],
            "text/plain": [
              "         age                         condition  ... satisfaction uniqueid\n",
              "29133  19-24          Skin Rash with Sloughing  ...          4.0        0\n",
              "23100  35-44                        Overweight  ...          3.0        1\n",
              "24228         Deficient Activity of the Testis  ...          3.0        2\n",
              "27688  35-44                     Birth Control  ...          4.0        3\n",
              "39916  35-44               High Blood Pressure  ...          5.0        4\n",
              "\n",
              "[5 rows x 10 columns]"
            ]
          },
          "metadata": {
            "tags": []
          },
          "execution_count": 22
        }
      ]
    },
    {
      "cell_type": "code",
      "metadata": {
        "trusted": true,
        "_uuid": "cafe21fe35819e34426b87275a8a45accb8d0538",
        "id": "iz9v5wjz7PJR",
        "colab_type": "code",
        "colab": {
          "base_uri": "https://localhost:8080/",
          "height": 323
        },
        "outputId": "bb5a7a7d-5eed-4818-8682-7cfb037abede"
      },
      "source": [
        "# We will use this groupings later on...\n",
        "\n",
        "print(\"Number of Reviews per Drug\")\n",
        "# Number of reviews per drug\n",
        "reviews_per_drug = drugs.groupby([\"drug\"]).agg({\n",
        "    \"uniqueid\": pd.Series.nunique\n",
        "})\n",
        "reviews_per_drug.describe()\n",
        "\n",
        "\n",
        "print(\"Number of Reviews per Condition\")\n",
        "# Number of reviews per condition\n",
        "reviews_per_condition = drugs.groupby([\"condition\"]).agg({\n",
        "    \"uniqueid\": pd.Series.nunique\n",
        "})\n",
        "\n",
        "reviews_per_condition.describe()"
      ],
      "execution_count": 23,
      "outputs": [
        {
          "output_type": "stream",
          "text": [
            "Number of Reviews per Drug\n",
            "Number of Reviews per Condition\n"
          ],
          "name": "stdout"
        },
        {
          "output_type": "execute_result",
          "data": {
            "text/html": [
              "<div>\n",
              "<style scoped>\n",
              "    .dataframe tbody tr th:only-of-type {\n",
              "        vertical-align: middle;\n",
              "    }\n",
              "\n",
              "    .dataframe tbody tr th {\n",
              "        vertical-align: top;\n",
              "    }\n",
              "\n",
              "    .dataframe thead th {\n",
              "        text-align: right;\n",
              "    }\n",
              "</style>\n",
              "<table border=\"1\" class=\"dataframe\">\n",
              "  <thead>\n",
              "    <tr style=\"text-align: right;\">\n",
              "      <th></th>\n",
              "      <th>uniqueid</th>\n",
              "    </tr>\n",
              "  </thead>\n",
              "  <tbody>\n",
              "    <tr>\n",
              "      <th>count</th>\n",
              "      <td>947.000000</td>\n",
              "    </tr>\n",
              "    <tr>\n",
              "      <th>mean</th>\n",
              "      <td>44.846885</td>\n",
              "    </tr>\n",
              "    <tr>\n",
              "      <th>std</th>\n",
              "      <td>257.921085</td>\n",
              "    </tr>\n",
              "    <tr>\n",
              "      <th>min</th>\n",
              "      <td>1.000000</td>\n",
              "    </tr>\n",
              "    <tr>\n",
              "      <th>25%</th>\n",
              "      <td>2.000000</td>\n",
              "    </tr>\n",
              "    <tr>\n",
              "      <th>50%</th>\n",
              "      <td>5.000000</td>\n",
              "    </tr>\n",
              "    <tr>\n",
              "      <th>75%</th>\n",
              "      <td>17.000000</td>\n",
              "    </tr>\n",
              "    <tr>\n",
              "      <th>max</th>\n",
              "      <td>6093.000000</td>\n",
              "    </tr>\n",
              "  </tbody>\n",
              "</table>\n",
              "</div>"
            ],
            "text/plain": [
              "          uniqueid\n",
              "count   947.000000\n",
              "mean     44.846885\n",
              "std     257.921085\n",
              "min       1.000000\n",
              "25%       2.000000\n",
              "50%       5.000000\n",
              "75%      17.000000\n",
              "max    6093.000000"
            ]
          },
          "metadata": {
            "tags": []
          },
          "execution_count": 23
        }
      ]
    },
    {
      "cell_type": "code",
      "metadata": {
        "trusted": true,
        "id": "NJ1ZQlw07PJY",
        "colab_type": "code",
        "colab": {
          "base_uri": "https://localhost:8080/",
          "height": 281
        },
        "outputId": "a8030578-64c4-4d0c-bd2f-03360aea885a"
      },
      "source": [
        "# Inspect the lower cased reviews text. \n",
        "drugs['reviews'] = drugs['reviews'].str.lower()\n",
        "drugs.head(5)"
      ],
      "execution_count": 24,
      "outputs": [
        {
          "output_type": "execute_result",
          "data": {
            "text/html": [
              "<div>\n",
              "<style scoped>\n",
              "    .dataframe tbody tr th:only-of-type {\n",
              "        vertical-align: middle;\n",
              "    }\n",
              "\n",
              "    .dataframe tbody tr th {\n",
              "        vertical-align: top;\n",
              "    }\n",
              "\n",
              "    .dataframe thead th {\n",
              "        text-align: right;\n",
              "    }\n",
              "</style>\n",
              "<table border=\"1\" class=\"dataframe\">\n",
              "  <thead>\n",
              "    <tr style=\"text-align: right;\">\n",
              "      <th></th>\n",
              "      <th>age</th>\n",
              "      <th>condition</th>\n",
              "      <th>drug</th>\n",
              "      <th>drugid</th>\n",
              "      <th>easeofuse</th>\n",
              "      <th>effectiveness</th>\n",
              "      <th>reviews</th>\n",
              "      <th>usefulcount</th>\n",
              "      <th>satisfaction</th>\n",
              "      <th>uniqueid</th>\n",
              "    </tr>\n",
              "  </thead>\n",
              "  <tbody>\n",
              "    <tr>\n",
              "      <th>29133</th>\n",
              "      <td>19-24</td>\n",
              "      <td>Skin Rash with Sloughing</td>\n",
              "      <td>prednisone concentrate</td>\n",
              "      <td>6007</td>\n",
              "      <td>4</td>\n",
              "      <td>4</td>\n",
              "      <td>took 40 mg a day for 5 days to reduce a stingi...</td>\n",
              "      <td>0</td>\n",
              "      <td>4.0</td>\n",
              "      <td>0</td>\n",
              "    </tr>\n",
              "    <tr>\n",
              "      <th>23100</th>\n",
              "      <td>35-44</td>\n",
              "      <td>Overweight</td>\n",
              "      <td>phentermine hcl</td>\n",
              "      <td>4151</td>\n",
              "      <td>5</td>\n",
              "      <td>4</td>\n",
              "      <td>i started taking this medication on 12/24/08 t...</td>\n",
              "      <td>3</td>\n",
              "      <td>3.0</td>\n",
              "      <td>1</td>\n",
              "    </tr>\n",
              "    <tr>\n",
              "      <th>24228</th>\n",
              "      <td></td>\n",
              "      <td>Deficient Activity of the Testis</td>\n",
              "      <td>testopel pellet</td>\n",
              "      <td>9833</td>\n",
              "      <td>3</td>\n",
              "      <td>4</td>\n",
              "      <td>as noted in other cases, daily headaches, itch...</td>\n",
              "      <td>1</td>\n",
              "      <td>3.0</td>\n",
              "      <td>2</td>\n",
              "    </tr>\n",
              "    <tr>\n",
              "      <th>27688</th>\n",
              "      <td>35-44</td>\n",
              "      <td>Birth Control</td>\n",
              "      <td>mirena intrauterine device</td>\n",
              "      <td>20420</td>\n",
              "      <td>4</td>\n",
              "      <td>5</td>\n",
              "      <td>i am about to have my second mirena inserted. ...</td>\n",
              "      <td>2</td>\n",
              "      <td>4.0</td>\n",
              "      <td>3</td>\n",
              "    </tr>\n",
              "    <tr>\n",
              "      <th>39916</th>\n",
              "      <td>35-44</td>\n",
              "      <td>High Blood Pressure</td>\n",
              "      <td>tarka</td>\n",
              "      <td>16209</td>\n",
              "      <td>5</td>\n",
              "      <td>5</td>\n",
              "      <td>this drug has worked well for me. however it i...</td>\n",
              "      <td>0</td>\n",
              "      <td>5.0</td>\n",
              "      <td>4</td>\n",
              "    </tr>\n",
              "  </tbody>\n",
              "</table>\n",
              "</div>"
            ],
            "text/plain": [
              "         age                         condition  ... satisfaction uniqueid\n",
              "29133  19-24          Skin Rash with Sloughing  ...          4.0        0\n",
              "23100  35-44                        Overweight  ...          3.0        1\n",
              "24228         Deficient Activity of the Testis  ...          3.0        2\n",
              "27688  35-44                     Birth Control  ...          4.0        3\n",
              "39916  35-44               High Blood Pressure  ...          5.0        4\n",
              "\n",
              "[5 rows x 10 columns]"
            ]
          },
          "metadata": {
            "tags": []
          },
          "execution_count": 24
        }
      ]
    },
    {
      "cell_type": "markdown",
      "metadata": {
        "_uuid": "1bd4479c3cf50ef94ede37c534c614d63f281d09",
        "id": "mpPlGfl97PJb",
        "colab_type": "text"
      },
      "source": [
        "## Descriptive Analysis\n"
      ]
    },
    {
      "cell_type": "markdown",
      "metadata": {
        "_uuid": "21f27039787d989de7c88dd89b85ea1987018625",
        "id": "XZUrxpOI7PJc",
        "colab_type": "text"
      },
      "source": [
        "### Top 10 Reviewed Drugs"
      ]
    },
    {
      "cell_type": "code",
      "metadata": {
        "trusted": true,
        "_uuid": "f16ea5b368c49b31858d6eeafb59e76f6eaa0ef6",
        "id": "gYDXmEh97PJc",
        "colab_type": "code",
        "colab": {
          "base_uri": "https://localhost:8080/",
          "height": 514
        },
        "outputId": "b05ae08e-68f8-4847-ce0d-8aa56057a3d8"
      },
      "source": [
        "# Top 10 most reviewed drug names\n",
        "plot = drugs.drug.value_counts().nlargest(10).plot(kind='bar', title=\"Top 10 reviewed drugs\", figsize=(12,6))"
      ],
      "execution_count": 25,
      "outputs": [
        {
          "output_type": "display_data",
          "data": {
            "image/png": "[encoded data removed]",
            "text/plain": [
              "<Figure size 864x432 with 1 Axes>"
            ]
          },
          "metadata": {
            "tags": [],
            "needs_background": "light"
          }
        }
      ]
    },
    {
      "cell_type": "markdown",
      "metadata": {
        "_uuid": "99e11383a879a953948824850dd53c3213b26da6",
        "id": "u8iBWtrj7PJf",
        "colab_type": "text"
      },
      "source": [
        "### Top 10 conditions undergoing by drug reviewers"
      ]
    },
    {
      "cell_type": "code",
      "metadata": {
        "trusted": true,
        "_uuid": "bff251a70cf485ee3cef2c5b778bea947f0d5a96",
        "id": "b2Wdswkx7PJg",
        "colab_type": "code",
        "colab": {
          "base_uri": "https://localhost:8080/",
          "height": 603
        },
        "outputId": "0199bba7-6b36-4e89-9314-bd095977e422"
      },
      "source": [
        "# Top 10 most suffered condition by reviewers\n",
        "plot = drugs.condition.value_counts().nlargest(10).plot(kind='bar', title=\"Top 10 conditions in reviews\", figsize=(12,6))"
      ],
      "execution_count": 26,
      "outputs": [
        {
          "output_type": "display_data",
          "data": {
            "image/png": "[encoded data removed]",
            "text/plain": [
              "<Figure size 864x432 with 1 Axes>"
            ]
          },
          "metadata": {
            "tags": [],
            "needs_background": "light"
          }
        }
      ]
    },
    {
      "cell_type": "markdown",
      "metadata": {
        "_uuid": "7e96f07fca2e6310085893f128d95a2a53a4f184",
        "id": "TmBO_Q687PJi",
        "colab_type": "text"
      },
      "source": [
        "### Top 10 drugs with best and worst rating\n",
        "\n",
        "When doing this analysis for all the drugs, there is a factor which affect the results: **the number of reviews of a drug**. I.e. if we want to compute the drug with best rating, the drug which in **only 1 review** was given a 10 rating would be in TOP 1. For this reason, we only consider drugs with a significant number of reviews. A significant number of reviews is when the number of reviews for a drug is above the 75% of the number of reviews distribution per drug.\n"
      ]
    },
    {
      "cell_type": "code",
      "metadata": {
        "trusted": true,
        "_uuid": "81b8bbe61ea3e8dcfb54d6eb89362c94a352e4bb",
        "id": "FFXcIGsw7PJj",
        "colab_type": "code",
        "colab": {
          "base_uri": "https://localhost:8080/",
          "height": 927
        },
        "outputId": "d3eab708-3a71-4837-ce91-131c0008c44e"
      },
      "source": [
        "drugs_rating = drugs.groupby('drug').agg({\n",
        "    'satisfaction': np.mean,\n",
        "    'uniqueid': pd.Series.nunique\n",
        "})\n",
        "\n",
        "print(\"Significant number of reviews: More than\", reviews_per_drug.quantile(q=0.75).values[0], \"reviews\")\n",
        "\n",
        "# We only use the drugs which number of reviews is higher than a threshold\n",
        "drugs_rating = drugs_rating[drugs_rating['uniqueid'] > int(reviews_per_drug.quantile(q=0.75))]\n",
        "\n",
        "# Top 10\n",
        "top_drugs_rating = drugs_rating.nlargest(10, 'satisfaction')\n",
        "plot = top_drugs_rating.plot(y='satisfaction', kind='bar', figsize = (16, 3))\n",
        "dummy = plt.title(\"Top 10 'significant' drugs with best rating\") # Assigned to variable to prevent output\n",
        "dummy = plt.ylim(4, 5) # Assigned to variable to prevent output\n",
        "\n",
        "# Bottom 10\n",
        "bottom_drugs_rating = drugs_rating.nsmallest(10, 'satisfaction')\n",
        "plot = bottom_drugs_rating.plot(y='satisfaction', kind='bar', figsize = (16, 3))\n",
        "dummy = plt.title(\"Top 10 'significant' drugs with worst rating\") # Assigned to variable to prevent output\n",
        "dummy = plt.ylim(1, 3) # Assigned to variable to prevent output"
      ],
      "execution_count": 27,
      "outputs": [
        {
          "output_type": "stream",
          "text": [
            "Significant number of reviews: More than 14.0 reviews\n"
          ],
          "name": "stdout"
        },
        {
          "output_type": "display_data",
          "data": {
            "image/png": "[encoded data removed]",
            "text/plain": [
              "<Figure size 1152x216 with 1 Axes>"
            ]
          },
          "metadata": {
            "tags": [],
            "needs_background": "light"
          }
        },
        {
          "output_type": "display_data",
          "data": {
            "image/png": "[encoded data removed]",
            "text/plain": [
              "<Figure size 1152x216 with 1 Axes>"
            ]
          },
          "metadata": {
            "tags": [],
            "needs_background": "light"
          }
        }
      ]
    },
    {
      "cell_type": "markdown",
      "metadata": {
        "_uuid": "d6d058a52a8a2e7b297679d2b5f5f8a351d1dffb",
        "id": "59vpYdmP7PJm",
        "colab_type": "text"
      },
      "source": [
        "### Analyzing Pairs (Drug, Condition) with best and worst ratings\n",
        "\n",
        "We theorize that the rating of a drug, is strongly related to the condition that the person who reviewed was suffering. We are going to compute the top 10 best and worst rating of reviews for (Drug, condition) pairs."
      ]
    },
    {
      "cell_type": "code",
      "metadata": {
        "trusted": true,
        "_uuid": "bdd2896065bcba7fe0f3acc83eba37fc1c53c545",
        "id": "Fj2G98887PJm",
        "colab_type": "code",
        "colab": {
          "base_uri": "https://localhost:8080/",
          "height": 1000
        },
        "outputId": "12a3471e-2ef1-4d0e-8294-502d685a42bc"
      },
      "source": [
        "drugs_condition_rating = drugs.groupby(['drug', 'condition']).agg({\n",
        "    'satisfaction': np.mean,\n",
        "    'uniqueid': pd.Series.nunique\n",
        "})\n",
        "\n",
        "print(\"Number of pairs (Drug, Condition):\", len(drugs_condition_rating))\n",
        "\n",
        "print(\"Significant number of reviews: More than\", drugs_condition_rating['uniqueid'].quantile(q=0.75), \"reviews\")\n",
        "\n",
        "drugs_condition_rating = drugs_condition_rating[drugs_condition_rating['uniqueid'] > int(drugs_condition_rating['uniqueid'].quantile(q=0.75))]\n",
        "# drugs_condition_rating.sort_values('rating', ascending=False)\n",
        "top_drugs_condition_rating = drugs_condition_rating.nlargest(10, 'satisfaction')\n",
        "plot = top_drugs_condition_rating.plot(y='satisfaction', kind='bar', figsize = (16, 3))\n",
        "dummy = plt.title(\"Top 10 (Drug - Condition) with best rating\") # Assigned to variable to prevent output\n",
        "dummy = plt.ylim(4, 5) # Assigned to variable to prevent output\n",
        "\n",
        "bottom_drugs_condition_rating = drugs_condition_rating.nsmallest(10, 'satisfaction')\n",
        "plot = bottom_drugs_condition_rating.plot(y='satisfaction', kind='bar', figsize = (16, 3))\n",
        "dummy = plt.title(\"Top 10 (Drug - Condition) with worst rating\") # Assigned to variable to prevent output\n",
        "dummy = plt.ylim(1, 3) # Assigned to variable to prevent output"
      ],
      "execution_count": 28,
      "outputs": [
        {
          "output_type": "stream",
          "text": [
            "Number of pairs (Drug, Condition): 4225\n",
            "Significant number of reviews: More than 7.0 reviews\n"
          ],
          "name": "stdout"
        },
        {
          "output_type": "display_data",
          "data": {
            "image/png": "[encoded data removed]",
            "text/plain": [
              "<Figure size 1152x216 with 1 Axes>"
            ]
          },
          "metadata": {
            "tags": [],
            "needs_background": "light"
          }
        },
        {
          "output_type": "display_data",
          "data": {
            "image/png": "[encoded data removed]",
            "text/plain": [
              "<Figure size 1152x216 with 1 Axes>"
            ]
          },
          "metadata": {
            "tags": [],
            "needs_background": "light"
          }
        }
      ]
    },
    {
      "cell_type": "markdown",
      "metadata": {
        "_uuid": "1f2fe1f3ad597c01b77ed36c8c0dc4e42824b85f",
        "id": "WAUBLIFT7PJp",
        "colab_type": "text"
      },
      "source": [
        "## Temporal Analysis\n",
        "\n",
        "Building a good prediction model is **no** trivial task. Temporal features ***could*** help a model to perform better if we can foresee some **temporal patterns**. We will analyze monthly patterns over different years of all the reviews."
      ]
    },
    {
      "cell_type": "code",
      "metadata": {
        "id": "tMqPWFwKL8xW",
        "colab_type": "code",
        "colab": {}
      },
      "source": [
        "# Our target column has been labeled as 1=Positive, 0= Negative, to get 1/0 output after we perform our operations on Reviews column.\n",
        "# We only want a review to be classified either as Positive(1)(if rating is above 3) or Negative(0)(if rating is 3 and less).\n",
        "labels = totrainnlp['satisfaction'].map(lambda x : 1 if int(x) > 3 else 0)"
      ],
      "execution_count": 29,
      "outputs": []
    },
    {
      "cell_type": "code",
      "metadata": {
        "trusted": true,
        "_uuid": "a120c3db91cf8281e954a2a9f95a99e5b1a1ba74",
        "id": "bzPLytVi7PJq",
        "colab_type": "code",
        "colab": {}
      },
      "source": [
        "# Function to perform cleansing operations on our Text column\n",
        "def clean_reviews(reviews):\n",
        "    \n",
        "    ## Remove puncuation\n",
        "    reviews = reviews.translate(string.punctuation)\n",
        "    \n",
        "    ## Convert words to lower case and split them\n",
        "    reviews = reviews.lower().split()\n",
        "    \n",
        "    ## Remove stop words\n",
        "    stops = set(stopwords.words(\"english\"))\n",
        "    reviews = [w for w in reviews if not w in stops and len(w) >= 3]\n",
        "    \n",
        "    reviews = \" \".join(reviews)\n",
        "\n",
        "    # Clean the reviews\n",
        "    reviews = re.sub(r\"[^A-Za-z0-9^,!.\\/'+-=]\", \" \", reviews)\n",
        "    reviews = re.sub(r\"what's\", \"what is \", reviews)\n",
        "    reviews = re.sub(r\"\\'s\", \" \", reviews)\n",
        "    reviews = re.sub(r\"\\'ve\", \" have \", reviews)\n",
        "    reviews = re.sub(r\"n't\", \" not \", reviews)\n",
        "    reviews = re.sub(r\"i'm\", \"i am \", reviews)\n",
        "    reviews = re.sub(r\"\\'re\", \" are \", reviews)\n",
        "    reviews = re.sub(r\"\\'d\", \" would \", reviews)\n",
        "    reviews = re.sub(r\"\\'ll\", \" will \", reviews)\n",
        "    reviews = re.sub(r\",\", \" \", reviews)\n",
        "    reviews = re.sub(r\"\\.\", \" \", reviews)\n",
        "    reviews = re.sub(r\"!\", \" ! \", reviews)\n",
        "    reviews = re.sub(r\"\\/\", \" \", reviews)\n",
        "    reviews = re.sub(r\"\\^\", \" ^ \", reviews)\n",
        "    reviews = re.sub(r\"\\+\", \" + \", reviews)\n",
        "    reviews = re.sub(r\"\\-\", \" - \", reviews)\n",
        "    reviews = re.sub(r\"\\=\", \" = \", reviews)\n",
        "    reviews = re.sub(r\"'\", \" \", reviews)\n",
        "    reviews = re.sub(r\"(\\d+)(k)\", r\"\\g<1>000\", reviews)\n",
        "    reviews = re.sub(r\":\", \" : \", reviews)\n",
        "    reviews = re.sub(r\" e g \", \" eg \", reviews)\n",
        "    reviews = re.sub(r\" b g \", \" bg \", reviews)\n",
        "    reviews = re.sub(r\" u s \", \" american \", reviews)\n",
        "    reviews = re.sub(r\"\\0s\", \"0\", reviews)\n",
        "    reviews = re.sub(r\" 9 11 \", \"911\", reviews)\n",
        "    reviews = re.sub(r\"e - mail\", \"email\", reviews)\n",
        "    reviews = re.sub(r\"j k\", \"jk\", reviews)\n",
        "    reviews = re.sub(r\"\\s{2,}\", \" \", reviews)\n",
        "    \n",
        "    reviews = reviews.split()\n",
        "    stemmer = SnowballStemmer('english')\n",
        "    stemmed_words = [stemmer.stem(word) for word in reviews]\n",
        "    reviews = \" \".join(stemmed_words)\n",
        "\n",
        "    return reviews"
      ],
      "execution_count": 30,
      "outputs": []
    },
    {
      "cell_type": "code",
      "metadata": {
        "trusted": true,
        "_uuid": "f0d8ef760881866f8548e0f6a5d8c026477c8550",
        "id": "gi9pWwKF7PJu",
        "colab_type": "code",
        "colab": {}
      },
      "source": [
        "drugs['reviews_clean'] = drugs['reviews'].map(lambda x: clean_reviews(x))"
      ],
      "execution_count": 31,
      "outputs": []
    },
    {
      "cell_type": "code",
      "metadata": {
        "trusted": true,
        "_uuid": "8a28655fc06b9e44c25b8e6a1b2fde6aa570bfbd",
        "id": "oJEk0jEl7PJx",
        "colab_type": "code",
        "colab": {
          "base_uri": "https://localhost:8080/",
          "height": 34
        },
        "outputId": "09da380a-7829-47dc-d3f5-1fcce1a460e4"
      },
      "source": [
        "drugs.shape"
      ],
      "execution_count": 32,
      "outputs": [
        {
          "output_type": "execute_result",
          "data": {
            "text/plain": [
              "(42470, 11)"
            ]
          },
          "metadata": {
            "tags": []
          },
          "execution_count": 32
        }
      ]
    },
    {
      "cell_type": "code",
      "metadata": {
        "id": "9YvMwVCstVnu",
        "colab_type": "code",
        "colab": {}
      },
      "source": [
        "drugs_copy=drugs"
      ],
      "execution_count": 33,
      "outputs": []
    },
    {
      "cell_type": "markdown",
      "metadata": {
        "_uuid": "70e65bc849d8b7633facf67ff44e887af54b7def",
        "id": "b5fNu_LZ7PJ2",
        "colab_type": "text"
      },
      "source": [
        "## Sentiment Analysis\n",
        "\n",
        "We will analyze the sentiment of the reviews. We theorize that **the sentiment embedded on a review can be a key factor** to determine the review rating, the review impact on people (usefulCount), or how good a drug is for an specific condition. \n",
        "\n",
        "However, reviews can expose many different manifestations, such as: condition symptoms (usually negative), feelings before the drug (usually negative), feelings after the drug (could be positive or negative), side effects (usually negative), symptoms after the drug (could be positive or negative). This mix of manifestations could make any sentiment analysis method to struggle determining a single score for the entire review. Therefore, a aspect-based S.A. could be more viable (such as the ones used by Gräßer et al.).\n",
        "\n",
        "For now, we are going to use Vader [1], a rule-based sentiment analysis approach available in Python NLTK. To **obtain a single sentiment score for every review** (-1|negative to 1|positive), and see how it correlates with ratings (spearman coeff.).\n",
        "\n",
        "Before doing this, **text** must be processed:\n",
        "\n",
        "- HTML characters are converted to legible text\n",
        "- Punctuation signs are removed\n",
        "\n",
        "[1] Gilbert, C. H. E. (2014). Vader: A parsimonious rule-based model for sentiment analysis of social media text. In Eighth International Conference on Weblogs and Social Media (ICWSM-14). Available at (20/04/16) http://comp.social.gatech.edu/papers/icwsm14.vader.hutto.pdf."
      ]
    },
    {
      "cell_type": "markdown",
      "metadata": {
        "id": "OvRhb5i1QRxq",
        "colab_type": "text"
      },
      "source": [
        "#### CNN LSTM o/p\n",
        "- We're now trying to improve our operations on Reviews column using CNN+LSTM, the reason being, LSTM takes into consideration the sequences of our model in its Cell State, which is really important for any Text Data, coz it gives meaning to it.\n",
        "- \"I Love Dogs\" in this sequence is meaningful but \"Dog Love I\" sounds confusing. than again with longer text size, the sequences or order becomes more important.\n",
        "- We'll be using embedding layer for Word Embeddings, which helps us to see semantics or meaning behind \"Reviews\", being positive or negative.\n",
        "- Tokeniser helps in encoding our data\n",
        "- We have padded our Reviews accordingly, considering the maximum length of a Review."
      ]
    },
    {
      "cell_type": "code",
      "metadata": {
        "id": "-SWUQY3P8IbY",
        "colab_type": "code",
        "colab": {}
      },
      "source": [
        "train_sentences1 = totrainnlp['reviews'].map(lambda x: clean_reviews(x))"
      ],
      "execution_count": 52,
      "outputs": []
    },
    {
      "cell_type": "code",
      "metadata": {
        "id": "K3-0xRzFXmUL",
        "colab_type": "code",
        "colab": {}
      },
      "source": [
        "train_sentences = drugs['reviews'].map(lambda y: clean_reviews(y))"
      ],
      "execution_count": 53,
      "outputs": []
    },
    {
      "cell_type": "code",
      "metadata": {
        "id": "3IrTdhlIBR8p",
        "colab_type": "code",
        "colab": {
          "base_uri": "https://localhost:8080/",
          "height": 230
        },
        "outputId": "4b3d3761-89ad-42bc-bad6-30d790aa0e7b"
      },
      "source": [
        "train_sentences1"
      ],
      "execution_count": 54,
      "outputs": [
        {
          "output_type": "execute_result",
          "data": {
            "text/plain": [
              "0         i have prozac zoloft celexa year feel better e...\n",
              "1         diarrhea diarrhea diarrhea ! ! ! ! ! hate it !...\n",
              "2         read review one get littl scare yes harsh stom...\n",
              "3                             taken long enough judg effect\n",
              "4         finish sampl packet almost done 1st month supp...\n",
              "                                ...                        \n",
              "142786    took whole week i could stop drug sooner thoug...\n",
              "142787    dad strat take chantix month ago fine stop smo...\n",
              "142788    long chantix smoke terribl stomach upset dose ...\n",
              "142789    start medic oct 5th 2008 smoke week plan full ...\n",
              "142790    one year ago tri chantix stop take nauseous mo...\n",
              "Name: reviews, Length: 103148, dtype: object"
            ]
          },
          "metadata": {
            "tags": []
          },
          "execution_count": 54
        }
      ]
    },
    {
      "cell_type": "code",
      "metadata": {
        "id": "2ZsvBmp1nNSX",
        "colab_type": "code",
        "colab": {
          "base_uri": "https://localhost:8080/",
          "height": 230
        },
        "outputId": "203f08e9-0a43-45c4-e047-ddbe70d30bf7"
      },
      "source": [
        "train_sentences"
      ],
      "execution_count": 55,
      "outputs": [
        {
          "output_type": "execute_result",
          "data": {
            "text/plain": [
              "29133    took day day reduc sting rash probabl nummular...\n",
              "23100    start take medic 12 24 08 date 1 28 09 lost 13...\n",
              "24228    note case daili headach itchi butt procedur ta...\n",
              "27688    second mirena insert given bodi year rest cont...\n",
              "39916    drug work well me howev expens becam genric today\n",
              "                               ...                        \n",
              "29349    i am old femal suffer w adult acn year i have ...\n",
              "12887    i have taken two year atop dermatitus sinc sta...\n",
              "23112                       start take along abilfi limict\n",
              "5940     doctor increas trazodon 100 caus terribl heada...\n",
              "8051     awesom time after year come took month taper y...\n",
              "Name: reviews, Length: 42470, dtype: object"
            ]
          },
          "metadata": {
            "tags": []
          },
          "execution_count": 55
        }
      ]
    },
    {
      "cell_type": "code",
      "metadata": {
        "id": "XVkgQqlInM90",
        "colab_type": "code",
        "colab": {
          "base_uri": "https://localhost:8080/",
          "height": 105
        },
        "outputId": "d3e5b8ee-068a-4fc5-9af9-3cf7210de334"
      },
      "source": [
        "from nltk.stem import WordNetLemmatizer\n",
        "lemmatizer = WordNetLemmatizer()\n",
        "from bs4 import BeautifulSoup\n",
        "from nltk.tokenize import word_tokenize\n",
        "from tqdm import tqdm\n",
        "nltk.download('punkt') ## added for GoogleCollab\n",
        "nltk.download('wordnet') ## added for GoogleCollab\n",
        "\n",
        "\n",
        "def clean_sentences(reviews):\n",
        "    reviews = []\n",
        "\n",
        "    for sent in tqdm(train_sentences):\n",
        "        \n",
        "        #remove html content\n",
        "        review_text = BeautifulSoup(sent).get_text()\n",
        "        \n",
        "        #remove non-alphabetic characters\n",
        "        review_text = re.sub(\"[^a-zA-Z]\",\" \", review_text)\n",
        "    \n",
        "        #tokenize the sentences\n",
        "        words = word_tokenize(review_text.lower())\n",
        "    \n",
        "        #lemmatize each word to its lemma\n",
        "        lemma_words = [lemmatizer.lemmatize(i) for i in words]\n",
        "    \n",
        "        reviews.append(lemma_words)\n",
        "\n",
        "    return(reviews)\n",
        "\n",
        "train_sentences = clean_sentences(train_sentences)"
      ],
      "execution_count": 56,
      "outputs": [
        {
          "output_type": "stream",
          "text": [
            "  0%|          | 166/42470 [00:00<00:25, 1646.43it/s]"
          ],
          "name": "stderr"
        },
        {
          "output_type": "stream",
          "text": [
            "[nltk_data] Downloading package punkt to /root/nltk_data...\n",
            "[nltk_data]   Package punkt is already up-to-date!\n",
            "[nltk_data] Downloading package wordnet to /root/nltk_data...\n",
            "[nltk_data]   Package wordnet is already up-to-date!\n"
          ],
          "name": "stdout"
        },
        {
          "output_type": "stream",
          "text": [
            "100%|██████████| 42470/42470 [00:25<00:00, 1650.26it/s]\n"
          ],
          "name": "stderr"
        }
      ]
    },
    {
      "cell_type": "code",
      "metadata": {
        "id": "Wb6VE6REnMq8",
        "colab_type": "code",
        "colab": {
          "base_uri": "https://localhost:8080/",
          "height": 34
        },
        "outputId": "70064473-5589-4fa6-aacd-05224236f655"
      },
      "source": [
        "\n",
        "def clean_sentences(reviews):\n",
        "    reviews = []\n",
        "\n",
        "    for sent in tqdm(train_sentences1):\n",
        "        \n",
        "        #remove html content\n",
        "        review_text = BeautifulSoup(sent).get_text()\n",
        "        \n",
        "        #remove non-alphabetic characters\n",
        "        review_text = re.sub(\"[^a-zA-Z]\",\" \", review_text)\n",
        "    \n",
        "        #tokenize the sentences\n",
        "        words = word_tokenize(review_text.lower())\n",
        "    \n",
        "        #lemmatize each word to its lemma\n",
        "        lemma_words = [lemmatizer.lemmatize(i) for i in words]\n",
        "    \n",
        "        reviews.append(lemma_words)\n",
        "\n",
        "    return(reviews)\n",
        "train_sentences1 = clean_sentences(train_sentences1)\n"
      ],
      "execution_count": 57,
      "outputs": [
        {
          "output_type": "stream",
          "text": [
            "100%|██████████| 103148/103148 [01:02<00:00, 1645.74it/s]\n"
          ],
          "name": "stderr"
        }
      ]
    },
    {
      "cell_type": "code",
      "metadata": {
        "id": "8fosKNKkX5fX",
        "colab_type": "code",
        "colab": {
          "base_uri": "https://localhost:8080/",
          "height": 70
        },
        "outputId": "a755e459-4687-4b0a-aef5-4379c9e0a56c"
      },
      "source": [
        "unique_words1 = set()\n",
        "len_max1 = 0\n",
        "\n",
        "for sent in tqdm(train_sentences1):\n",
        "    \n",
        "    unique_words1.update(sent)\n",
        "    \n",
        "    if(len_max1<len(sent)):\n",
        "        len_max1 = len(sent)\n",
        "        \n",
        "#length of the list of unique_words gives the no of unique words\n",
        "print(len(list(unique_words1)))\n",
        "print(len_max1)"
      ],
      "execution_count": 106,
      "outputs": [
        {
          "output_type": "stream",
          "text": [
            "100%|██████████| 103148/103148 [00:00<00:00, 474923.12it/s]"
          ],
          "name": "stderr"
        },
        {
          "output_type": "stream",
          "text": [
            "43941\n",
            "255\n"
          ],
          "name": "stdout"
        },
        {
          "output_type": "stream",
          "text": [
            "\n"
          ],
          "name": "stderr"
        }
      ]
    },
    {
      "cell_type": "code",
      "metadata": {
        "id": "H2_EIqPAnMaQ",
        "colab_type": "code",
        "colab": {
          "base_uri": "https://localhost:8080/",
          "height": 70
        },
        "outputId": "2b7bc6af-033a-4ec4-f861-d7a55bd25539"
      },
      "source": [
        "unique_words = set()\n",
        "len_max = 0\n",
        "\n",
        "for sent in tqdm(train_sentences):\n",
        "    \n",
        "    unique_words.update(sent)\n",
        "    \n",
        "    if(len_max<len(sent)):\n",
        "        len_max = len(sent)\n",
        "        \n",
        "#length of the list of unique_words gives the no of unique words\n",
        "print(len(list(unique_words)))\n",
        "print(len_max)"
      ],
      "execution_count": 107,
      "outputs": [
        {
          "output_type": "stream",
          "text": [
            "100%|██████████| 42470/42470 [00:00<00:00, 441361.29it/s]"
          ],
          "name": "stderr"
        },
        {
          "output_type": "stream",
          "text": [
            "26630\n",
            "325\n"
          ],
          "name": "stdout"
        },
        {
          "output_type": "stream",
          "text": [
            "\n"
          ],
          "name": "stderr"
        }
      ]
    },
    {
      "cell_type": "code",
      "metadata": {
        "id": "Kuq8CR5lDnqu",
        "colab_type": "code",
        "colab": {}
      },
      "source": [
        "# oov_tok replaces unknown words with \"<OOV>\" as a value\n",
        "# incase truncating is requirred out model will do so behind the text rows.\n",
        "trunc_type='post'\n",
        "oov_tok=\"<OOV>\"\n",
        "tokenizer = Tokenizer(num_words= len(list(unique_words1)), oov_token=oov_tok)\n",
        "tokenizer.fit_on_texts(train_sentences1)\n",
        "\n",
        "sequences1 = tokenizer.texts_to_sequences(train_sentences1)\n",
        "data1 = pad_sequences(sequences1, maxlen=len_max1, truncating=trunc_type)"
      ],
      "execution_count": 108,
      "outputs": []
    },
    {
      "cell_type": "code",
      "metadata": {
        "id": "_Ak4EKYhB-Sq",
        "colab_type": "code",
        "colab": {}
      },
      "source": [
        "# Early stopping incase scores doesnt change aroung cycles.\n",
        "from keras.callbacks import EarlyStopping\n",
        "early_stopping = EarlyStopping(min_delta = 0.001, mode = 'max', monitor='val_auc', patience = 2)\n",
        "callback = [early_stopping]"
      ],
      "execution_count": 109,
      "outputs": []
    },
    {
      "cell_type": "code",
      "metadata": {
        "id": "gAR7Fow8KOYy",
        "colab_type": "code",
        "colab": {}
      },
      "source": [
        "from keras.utils import to_categorical\n",
        "y_target=to_categorical(totrainnlp['satisfaction'])\n",
        "num_classes=y_target.shape[1]"
      ],
      "execution_count": 110,
      "outputs": []
    },
    {
      "cell_type": "code",
      "metadata": {
        "id": "bwBR2qr6L159",
        "colab_type": "code",
        "colab": {
          "base_uri": "https://localhost:8080/",
          "height": 34
        },
        "outputId": "3d089872-c5a9-47fb-ebd1-348e1abde6f9"
      },
      "source": [
        "num_classes"
      ],
      "execution_count": 111,
      "outputs": [
        {
          "output_type": "execute_result",
          "data": {
            "text/plain": [
              "6"
            ]
          },
          "metadata": {
            "tags": []
          },
          "execution_count": 111
        }
      ]
    },
    {
      "cell_type": "code",
      "metadata": {
        "id": "y2cPs1pERxFE",
        "colab_type": "code",
        "colab": {}
      },
      "source": [
        "# we have used one LSTM layer for our operations, with a combination of a CNN Layer coz it really speeds up our task,\n",
        "# further Maxpooling helps in reducing the problem of high dimensionality coz LSTM would usually return 2D array.\n",
        "# Sigmoid activator is used coz we have binary(0/1) semantics for our reviews\n",
        "# Two layer LSTM can also be implmented(with return sequence \"True\" meaning the feedback cycle will be used) but \n",
        "# for now i have commented them out.\n",
        "import tensorflow as tf\n",
        "from keras.losses import categorical_crossentropy\n",
        "from keras.optimizers import Adam\n",
        "\n",
        "def create_conv_model():\n",
        "    model_conv = Sequential()\n",
        "    model_conv.add(Embedding(len(list(unique_words1)), 300, input_length=len_max1))\n",
        "    model_conv.add(Dropout(0.2))\n",
        "    model_conv.add(Conv1D(256, 5, activation='relu'))\n",
        "    model_conv.add(MaxPooling1D(pool_size=4))\n",
        "    model_conv.add(LSTM(128))\n",
        "    \n",
        "    model_conv.add(Dense(num_classes, activation='softmax'))\n",
        "    model_conv.compile(loss='categorical_crossentropy', optimizer=Adam(lr=0.001), metrics=[tf.keras.metrics.AUC()])\n",
        "    model_conv.summary()\n",
        "    return model_conv"
      ],
      "execution_count": 112,
      "outputs": []
    },
    {
      "cell_type": "code",
      "metadata": {
        "id": "fDRPiYl9QA--",
        "colab_type": "code",
        "colab": {
          "base_uri": "https://localhost:8080/",
          "height": 372
        },
        "outputId": "06496059-383c-43de-ae2f-1384ac8d3fc7"
      },
      "source": [
        "model_conv = create_conv_model()"
      ],
      "execution_count": 113,
      "outputs": [
        {
          "output_type": "stream",
          "text": [
            "Model: \"sequential_6\"\n",
            "_________________________________________________________________\n",
            "Layer (type)                 Output Shape              Param #   \n",
            "=================================================================\n",
            "embedding_6 (Embedding)      (None, 255, 300)          13182300  \n",
            "_________________________________________________________________\n",
            "dropout_6 (Dropout)          (None, 255, 300)          0         \n",
            "_________________________________________________________________\n",
            "conv1d_6 (Conv1D)            (None, 251, 256)          384256    \n",
            "_________________________________________________________________\n",
            "max_pooling1d_6 (MaxPooling1 (None, 62, 256)           0         \n",
            "_________________________________________________________________\n",
            "lstm_6 (LSTM)                (None, 128)               197120    \n",
            "_________________________________________________________________\n",
            "dense_6 (Dense)              (None, 6)                 774       \n",
            "=================================================================\n",
            "Total params: 13,764,450\n",
            "Trainable params: 13,764,450\n",
            "Non-trainable params: 0\n",
            "_________________________________________________________________\n"
          ],
          "name": "stdout"
        }
      ]
    },
    {
      "cell_type": "code",
      "metadata": {
        "id": "tjQu8DHoh1Hy",
        "colab_type": "code",
        "colab": {
          "base_uri": "https://localhost:8080/",
          "height": 196
        },
        "outputId": "35d5d239-6c9d-4ab9-c5d9-8cf4eafce954"
      },
      "source": [
        "history =model_conv.fit(data1, y_target, validation_split=0.4, epochs = 2, callbacks=callback)"
      ],
      "execution_count": 114,
      "outputs": [
        {
          "output_type": "stream",
          "text": [
            "/usr/local/lib/python3.6/dist-packages/tensorflow/python/framework/indexed_slices.py:434: UserWarning: Converting sparse IndexedSlices to a dense Tensor of unknown shape. This may consume a large amount of memory.\n",
            "  \"Converting sparse IndexedSlices to a dense Tensor of unknown shape. \"\n"
          ],
          "name": "stderr"
        },
        {
          "output_type": "stream",
          "text": [
            "Train on 61888 samples, validate on 41260 samples\n",
            "Epoch 1/2\n",
            "61888/61888 [==============================] - 388s 6ms/step - loss: 1.3165 - auc_5: 0.7882 - val_loss: 1.2642 - val_auc_5: 0.8139\n",
            "Epoch 2/2\n",
            "   32/61888 [..............................] - ETA: 5:33 - loss: 1.2561 - auc_5: 0.8169"
          ],
          "name": "stdout"
        },
        {
          "output_type": "stream",
          "text": [
            "/usr/local/lib/python3.6/dist-packages/keras/callbacks/callbacks.py:846: RuntimeWarning: Early stopping conditioned on metric `val_auc` which is not available. Available metrics are: val_loss,val_auc_5,loss,auc_5\n",
            "  (self.monitor, ','.join(list(logs.keys()))), RuntimeWarning\n"
          ],
          "name": "stderr"
        },
        {
          "output_type": "stream",
          "text": [
            "61888/61888 [==============================] - 391s 6ms/step - loss: 1.1677 - auc_5: 0.8260 - val_loss: 1.2584 - val_auc_5: 0.8318\n"
          ],
          "name": "stdout"
        }
      ]
    },
    {
      "cell_type": "code",
      "metadata": {
        "id": "D15NRouzmnvb",
        "colab_type": "code",
        "colab": {
          "base_uri": "https://localhost:8080/",
          "height": 282
        },
        "outputId": "95150b55-c658-4e92-96de-43e0428c7f84"
      },
      "source": [
        "import matplotlib.pyplot as plt\n",
        "\n",
        "# Create count of the number of epochs\n",
        "epoch_count = range(1, len(history.history['loss']) + 1)\n",
        "\n",
        "# Visualize learning curve. Here learning curve is not ideal. It should be much smoother as it decreases.\n",
        "#As mentioned before, altering different hyper parameters especially learning rate can have a positive impact\n",
        "#on accuracy and learning curve.\n",
        "plt.plot(epoch_count, history.history['loss'], 'r--')\n",
        "plt.plot(epoch_count, history.history['val_loss'], 'b--')\n",
        "plt.plot(epoch_count, history.history['auc_5'], 'g-')\n",
        "plt.plot(epoch_count, history.history['val_auc_5'], 'y-')\n",
        "plt.legend(['Training Loss', 'Validation Loss', 'Training AUC', 'Validation AUC'])\n",
        "plt.xlabel('Epoch')\n",
        "plt.ylabel('Loss')\n",
        "plt.show()"
      ],
      "execution_count": 116,
      "outputs": [
        {
          "output_type": "display_data",
          "data": {
            "image/png": "[encoded data removed]",
            "text/plain": [
              "<Figure size 432x288 with 1 Axes>"
            ]
          },
          "metadata": {
            "tags": [],
            "needs_background": "light"
          }
        }
      ]
    },
    {
      "cell_type": "code",
      "metadata": {
        "id": "NEHpGRmLQHwV",
        "colab_type": "code",
        "colab": {}
      },
      "source": [
        "#df_save = pd.DataFrame(data)\n",
        "#df_label = pd.DataFrame(np.array(labels))\n",
        "#np.array(labels)"
      ],
      "execution_count": null,
      "outputs": []
    },
    {
      "cell_type": "code",
      "metadata": {
        "id": "WJ3vbPpgr3fn",
        "colab_type": "code",
        "colab": {}
      },
      "source": [
        "#df_label_copy=df_label"
      ],
      "execution_count": null,
      "outputs": []
    },
    {
      "cell_type": "code",
      "metadata": {
        "id": "Rsw9k-7od3Yz",
        "colab_type": "code",
        "colab": {}
      },
      "source": [
        "tokenizer1 = Tokenizer(num_words= len(list(unique_words1)), oov_token=oov_tok)\n",
        "tokenizer1.fit_on_texts(train_sentences)\n",
        "\n",
        "sequences = tokenizer1.texts_to_sequences(train_sentences)\n",
        "data = pad_sequences(sequences, maxlen=len_max1, truncating=trunc_type)"
      ],
      "execution_count": 119,
      "outputs": []
    },
    {
      "cell_type": "code",
      "metadata": {
        "id": "rf4cY-YkhAW-",
        "colab_type": "code",
        "colab": {}
      },
      "source": [
        "#nlp_pred=model_conv.predict_classes(data1)\n",
        "nlp_pred=model_conv.predict_classes(data)"
      ],
      "execution_count": 120,
      "outputs": []
    },
    {
      "cell_type": "code",
      "metadata": {
        "id": "LNMd2WkpoGpr",
        "colab_type": "code",
        "colab": {}
      },
      "source": [
        "lstm_op=pd.DataFrame(nlp_pred)\n",
        "#df_labels=pd.DataFrame(labels)\n",
        "df_target=pd.DataFrame(y_target)"
      ],
      "execution_count": 121,
      "outputs": []
    },
    {
      "cell_type": "code",
      "metadata": {
        "id": "2BA2xiloSrBD",
        "colab_type": "code",
        "colab": {
          "base_uri": "https://localhost:8080/",
          "height": 406
        },
        "outputId": "22b0a563-844d-46dc-a208-f7365ebd69d4"
      },
      "source": [
        "lstm_op"
      ],
      "execution_count": 122,
      "outputs": [
        {
          "output_type": "execute_result",
          "data": {
            "text/html": [
              "<div>\n",
              "<style scoped>\n",
              "    .dataframe tbody tr th:only-of-type {\n",
              "        vertical-align: middle;\n",
              "    }\n",
              "\n",
              "    .dataframe tbody tr th {\n",
              "        vertical-align: top;\n",
              "    }\n",
              "\n",
              "    .dataframe thead th {\n",
              "        text-align: right;\n",
              "    }\n",
              "</style>\n",
              "<table border=\"1\" class=\"dataframe\">\n",
              "  <thead>\n",
              "    <tr style=\"text-align: right;\">\n",
              "      <th></th>\n",
              "      <th>0</th>\n",
              "    </tr>\n",
              "  </thead>\n",
              "  <tbody>\n",
              "    <tr>\n",
              "      <th>0</th>\n",
              "      <td>1</td>\n",
              "    </tr>\n",
              "    <tr>\n",
              "      <th>1</th>\n",
              "      <td>1</td>\n",
              "    </tr>\n",
              "    <tr>\n",
              "      <th>2</th>\n",
              "      <td>1</td>\n",
              "    </tr>\n",
              "    <tr>\n",
              "      <th>3</th>\n",
              "      <td>5</td>\n",
              "    </tr>\n",
              "    <tr>\n",
              "      <th>4</th>\n",
              "      <td>3</td>\n",
              "    </tr>\n",
              "    <tr>\n",
              "      <th>...</th>\n",
              "      <td>...</td>\n",
              "    </tr>\n",
              "    <tr>\n",
              "      <th>42465</th>\n",
              "      <td>5</td>\n",
              "    </tr>\n",
              "    <tr>\n",
              "      <th>42466</th>\n",
              "      <td>1</td>\n",
              "    </tr>\n",
              "    <tr>\n",
              "      <th>42467</th>\n",
              "      <td>5</td>\n",
              "    </tr>\n",
              "    <tr>\n",
              "      <th>42468</th>\n",
              "      <td>5</td>\n",
              "    </tr>\n",
              "    <tr>\n",
              "      <th>42469</th>\n",
              "      <td>5</td>\n",
              "    </tr>\n",
              "  </tbody>\n",
              "</table>\n",
              "<p>42470 rows × 1 columns</p>\n",
              "</div>"
            ],
            "text/plain": [
              "       0\n",
              "0      1\n",
              "1      1\n",
              "2      1\n",
              "3      5\n",
              "4      3\n",
              "...   ..\n",
              "42465  5\n",
              "42466  1\n",
              "42467  5\n",
              "42468  5\n",
              "42469  5\n",
              "\n",
              "[42470 rows x 1 columns]"
            ]
          },
          "metadata": {
            "tags": []
          },
          "execution_count": 122
        }
      ]
    },
    {
      "cell_type": "code",
      "metadata": {
        "id": "uJPRm4cdSuNb",
        "colab_type": "code",
        "colab": {
          "base_uri": "https://localhost:8080/",
          "height": 406
        },
        "outputId": "b9abc6ba-dad6-470c-c25f-5afc89da2d96"
      },
      "source": [
        "df_target"
      ],
      "execution_count": 123,
      "outputs": [
        {
          "output_type": "execute_result",
          "data": {
            "text/html": [
              "<div>\n",
              "<style scoped>\n",
              "    .dataframe tbody tr th:only-of-type {\n",
              "        vertical-align: middle;\n",
              "    }\n",
              "\n",
              "    .dataframe tbody tr th {\n",
              "        vertical-align: top;\n",
              "    }\n",
              "\n",
              "    .dataframe thead th {\n",
              "        text-align: right;\n",
              "    }\n",
              "</style>\n",
              "<table border=\"1\" class=\"dataframe\">\n",
              "  <thead>\n",
              "    <tr style=\"text-align: right;\">\n",
              "      <th></th>\n",
              "      <th>0</th>\n",
              "      <th>1</th>\n",
              "      <th>2</th>\n",
              "      <th>3</th>\n",
              "      <th>4</th>\n",
              "      <th>5</th>\n",
              "    </tr>\n",
              "  </thead>\n",
              "  <tbody>\n",
              "    <tr>\n",
              "      <th>0</th>\n",
              "      <td>0.0</td>\n",
              "      <td>0.0</td>\n",
              "      <td>0.0</td>\n",
              "      <td>0.0</td>\n",
              "      <td>0.0</td>\n",
              "      <td>1.0</td>\n",
              "    </tr>\n",
              "    <tr>\n",
              "      <th>1</th>\n",
              "      <td>0.0</td>\n",
              "      <td>0.0</td>\n",
              "      <td>1.0</td>\n",
              "      <td>0.0</td>\n",
              "      <td>0.0</td>\n",
              "      <td>0.0</td>\n",
              "    </tr>\n",
              "    <tr>\n",
              "      <th>2</th>\n",
              "      <td>0.0</td>\n",
              "      <td>0.0</td>\n",
              "      <td>0.0</td>\n",
              "      <td>0.0</td>\n",
              "      <td>1.0</td>\n",
              "      <td>0.0</td>\n",
              "    </tr>\n",
              "    <tr>\n",
              "      <th>3</th>\n",
              "      <td>0.0</td>\n",
              "      <td>0.0</td>\n",
              "      <td>1.0</td>\n",
              "      <td>0.0</td>\n",
              "      <td>0.0</td>\n",
              "      <td>0.0</td>\n",
              "    </tr>\n",
              "    <tr>\n",
              "      <th>4</th>\n",
              "      <td>0.0</td>\n",
              "      <td>1.0</td>\n",
              "      <td>0.0</td>\n",
              "      <td>0.0</td>\n",
              "      <td>0.0</td>\n",
              "      <td>0.0</td>\n",
              "    </tr>\n",
              "    <tr>\n",
              "      <th>...</th>\n",
              "      <td>...</td>\n",
              "      <td>...</td>\n",
              "      <td>...</td>\n",
              "      <td>...</td>\n",
              "      <td>...</td>\n",
              "      <td>...</td>\n",
              "    </tr>\n",
              "    <tr>\n",
              "      <th>103143</th>\n",
              "      <td>0.0</td>\n",
              "      <td>0.0</td>\n",
              "      <td>0.0</td>\n",
              "      <td>0.0</td>\n",
              "      <td>0.0</td>\n",
              "      <td>1.0</td>\n",
              "    </tr>\n",
              "    <tr>\n",
              "      <th>103144</th>\n",
              "      <td>0.0</td>\n",
              "      <td>1.0</td>\n",
              "      <td>0.0</td>\n",
              "      <td>0.0</td>\n",
              "      <td>0.0</td>\n",
              "      <td>0.0</td>\n",
              "    </tr>\n",
              "    <tr>\n",
              "      <th>103145</th>\n",
              "      <td>0.0</td>\n",
              "      <td>0.0</td>\n",
              "      <td>1.0</td>\n",
              "      <td>0.0</td>\n",
              "      <td>0.0</td>\n",
              "      <td>0.0</td>\n",
              "    </tr>\n",
              "    <tr>\n",
              "      <th>103146</th>\n",
              "      <td>0.0</td>\n",
              "      <td>0.0</td>\n",
              "      <td>0.0</td>\n",
              "      <td>0.0</td>\n",
              "      <td>0.0</td>\n",
              "      <td>1.0</td>\n",
              "    </tr>\n",
              "    <tr>\n",
              "      <th>103147</th>\n",
              "      <td>0.0</td>\n",
              "      <td>0.0</td>\n",
              "      <td>0.0</td>\n",
              "      <td>0.0</td>\n",
              "      <td>0.0</td>\n",
              "      <td>1.0</td>\n",
              "    </tr>\n",
              "  </tbody>\n",
              "</table>\n",
              "<p>103148 rows × 6 columns</p>\n",
              "</div>"
            ],
            "text/plain": [
              "          0    1    2    3    4    5\n",
              "0       0.0  0.0  0.0  0.0  0.0  1.0\n",
              "1       0.0  0.0  1.0  0.0  0.0  0.0\n",
              "2       0.0  0.0  0.0  0.0  1.0  0.0\n",
              "3       0.0  0.0  1.0  0.0  0.0  0.0\n",
              "4       0.0  1.0  0.0  0.0  0.0  0.0\n",
              "...     ...  ...  ...  ...  ...  ...\n",
              "103143  0.0  0.0  0.0  0.0  0.0  1.0\n",
              "103144  0.0  1.0  0.0  0.0  0.0  0.0\n",
              "103145  0.0  0.0  1.0  0.0  0.0  0.0\n",
              "103146  0.0  0.0  0.0  0.0  0.0  1.0\n",
              "103147  0.0  0.0  0.0  0.0  0.0  1.0\n",
              "\n",
              "[103148 rows x 6 columns]"
            ]
          },
          "metadata": {
            "tags": []
          },
          "execution_count": 123
        }
      ]
    },
    {
      "cell_type": "code",
      "metadata": {
        "id": "RHq0orXXCPf4",
        "colab_type": "code",
        "colab": {
          "base_uri": "https://localhost:8080/",
          "height": 406
        },
        "outputId": "affcf71f-f9b5-43f5-b4c2-c6f1571732a7"
      },
      "source": [
        "lstm_op.rename(columns = {0:'lstm_score'}, inplace = True)\n",
        "lstm_op"
      ],
      "execution_count": 124,
      "outputs": [
        {
          "output_type": "execute_result",
          "data": {
            "text/html": [
              "<div>\n",
              "<style scoped>\n",
              "    .dataframe tbody tr th:only-of-type {\n",
              "        vertical-align: middle;\n",
              "    }\n",
              "\n",
              "    .dataframe tbody tr th {\n",
              "        vertical-align: top;\n",
              "    }\n",
              "\n",
              "    .dataframe thead th {\n",
              "        text-align: right;\n",
              "    }\n",
              "</style>\n",
              "<table border=\"1\" class=\"dataframe\">\n",
              "  <thead>\n",
              "    <tr style=\"text-align: right;\">\n",
              "      <th></th>\n",
              "      <th>lstm_score</th>\n",
              "    </tr>\n",
              "  </thead>\n",
              "  <tbody>\n",
              "    <tr>\n",
              "      <th>0</th>\n",
              "      <td>1</td>\n",
              "    </tr>\n",
              "    <tr>\n",
              "      <th>1</th>\n",
              "      <td>1</td>\n",
              "    </tr>\n",
              "    <tr>\n",
              "      <th>2</th>\n",
              "      <td>1</td>\n",
              "    </tr>\n",
              "    <tr>\n",
              "      <th>3</th>\n",
              "      <td>5</td>\n",
              "    </tr>\n",
              "    <tr>\n",
              "      <th>4</th>\n",
              "      <td>3</td>\n",
              "    </tr>\n",
              "    <tr>\n",
              "      <th>...</th>\n",
              "      <td>...</td>\n",
              "    </tr>\n",
              "    <tr>\n",
              "      <th>42465</th>\n",
              "      <td>5</td>\n",
              "    </tr>\n",
              "    <tr>\n",
              "      <th>42466</th>\n",
              "      <td>1</td>\n",
              "    </tr>\n",
              "    <tr>\n",
              "      <th>42467</th>\n",
              "      <td>5</td>\n",
              "    </tr>\n",
              "    <tr>\n",
              "      <th>42468</th>\n",
              "      <td>5</td>\n",
              "    </tr>\n",
              "    <tr>\n",
              "      <th>42469</th>\n",
              "      <td>5</td>\n",
              "    </tr>\n",
              "  </tbody>\n",
              "</table>\n",
              "<p>42470 rows × 1 columns</p>\n",
              "</div>"
            ],
            "text/plain": [
              "       lstm_score\n",
              "0               1\n",
              "1               1\n",
              "2               1\n",
              "3               5\n",
              "4               3\n",
              "...           ...\n",
              "42465           5\n",
              "42466           1\n",
              "42467           5\n",
              "42468           5\n",
              "42469           5\n",
              "\n",
              "[42470 rows x 1 columns]"
            ]
          },
          "metadata": {
            "tags": []
          },
          "execution_count": 124
        }
      ]
    },
    {
      "cell_type": "code",
      "metadata": {
        "id": "iN7fYj2BQZh1",
        "colab_type": "code",
        "colab": {}
      },
      "source": [
        "# the last column being our output column\n",
        "#drugs = pd.concat([drugs, lstm_op], axis = 1)\n",
        "drugs = pd.concat([drugs_copy.reset_index(), lstm_op.reset_index()], axis = 1)\n"
      ],
      "execution_count": 125,
      "outputs": []
    },
    {
      "cell_type": "code",
      "metadata": {
        "id": "iLUK08tSUrOd",
        "colab_type": "code",
        "colab": {
          "base_uri": "https://localhost:8080/",
          "height": 584
        },
        "outputId": "77ec2b1c-3119-4c28-d041-71def893f520"
      },
      "source": [
        "drugs.head()"
      ],
      "execution_count": 126,
      "outputs": [
        {
          "output_type": "execute_result",
          "data": {
            "text/html": [
              "<div>\n",
              "<style scoped>\n",
              "    .dataframe tbody tr th:only-of-type {\n",
              "        vertical-align: middle;\n",
              "    }\n",
              "\n",
              "    .dataframe tbody tr th {\n",
              "        vertical-align: top;\n",
              "    }\n",
              "\n",
              "    .dataframe thead th {\n",
              "        text-align: right;\n",
              "    }\n",
              "</style>\n",
              "<table border=\"1\" class=\"dataframe\">\n",
              "  <thead>\n",
              "    <tr style=\"text-align: right;\">\n",
              "      <th></th>\n",
              "      <th>index</th>\n",
              "      <th>age</th>\n",
              "      <th>condition</th>\n",
              "      <th>drug</th>\n",
              "      <th>drugid</th>\n",
              "      <th>easeofuse</th>\n",
              "      <th>effectiveness</th>\n",
              "      <th>reviews</th>\n",
              "      <th>usefulcount</th>\n",
              "      <th>satisfaction</th>\n",
              "      <th>uniqueid</th>\n",
              "      <th>reviews_clean</th>\n",
              "      <th>index</th>\n",
              "      <th>lstm_score</th>\n",
              "    </tr>\n",
              "  </thead>\n",
              "  <tbody>\n",
              "    <tr>\n",
              "      <th>0</th>\n",
              "      <td>29133</td>\n",
              "      <td>19-24</td>\n",
              "      <td>Skin Rash with Sloughing</td>\n",
              "      <td>prednisone concentrate</td>\n",
              "      <td>6007</td>\n",
              "      <td>4</td>\n",
              "      <td>4</td>\n",
              "      <td>took 40 mg a day for 5 days to reduce a stingi...</td>\n",
              "      <td>0</td>\n",
              "      <td>4.0</td>\n",
              "      <td>0</td>\n",
              "      <td>took day day reduc sting rash probabl nummular...</td>\n",
              "      <td>0</td>\n",
              "      <td>1</td>\n",
              "    </tr>\n",
              "    <tr>\n",
              "      <th>1</th>\n",
              "      <td>23100</td>\n",
              "      <td>35-44</td>\n",
              "      <td>Overweight</td>\n",
              "      <td>phentermine hcl</td>\n",
              "      <td>4151</td>\n",
              "      <td>5</td>\n",
              "      <td>4</td>\n",
              "      <td>i started taking this medication on 12/24/08 t...</td>\n",
              "      <td>3</td>\n",
              "      <td>3.0</td>\n",
              "      <td>1</td>\n",
              "      <td>start take medic 12 24 08 date 1 28 09 lost 13...</td>\n",
              "      <td>1</td>\n",
              "      <td>1</td>\n",
              "    </tr>\n",
              "    <tr>\n",
              "      <th>2</th>\n",
              "      <td>24228</td>\n",
              "      <td></td>\n",
              "      <td>Deficient Activity of the Testis</td>\n",
              "      <td>testopel pellet</td>\n",
              "      <td>9833</td>\n",
              "      <td>3</td>\n",
              "      <td>4</td>\n",
              "      <td>as noted in other cases, daily headaches, itch...</td>\n",
              "      <td>1</td>\n",
              "      <td>3.0</td>\n",
              "      <td>2</td>\n",
              "      <td>note case daili headach itchi butt procedur ta...</td>\n",
              "      <td>2</td>\n",
              "      <td>1</td>\n",
              "    </tr>\n",
              "    <tr>\n",
              "      <th>3</th>\n",
              "      <td>27688</td>\n",
              "      <td>35-44</td>\n",
              "      <td>Birth Control</td>\n",
              "      <td>mirena intrauterine device</td>\n",
              "      <td>20420</td>\n",
              "      <td>4</td>\n",
              "      <td>5</td>\n",
              "      <td>i am about to have my second mirena inserted. ...</td>\n",
              "      <td>2</td>\n",
              "      <td>4.0</td>\n",
              "      <td>3</td>\n",
              "      <td>second mirena insert given bodi year rest cont...</td>\n",
              "      <td>3</td>\n",
              "      <td>5</td>\n",
              "    </tr>\n",
              "    <tr>\n",
              "      <th>4</th>\n",
              "      <td>39916</td>\n",
              "      <td>35-44</td>\n",
              "      <td>High Blood Pressure</td>\n",
              "      <td>tarka</td>\n",
              "      <td>16209</td>\n",
              "      <td>5</td>\n",
              "      <td>5</td>\n",
              "      <td>this drug has worked well for me. however it i...</td>\n",
              "      <td>0</td>\n",
              "      <td>5.0</td>\n",
              "      <td>4</td>\n",
              "      <td>drug work well me howev expens becam genric today</td>\n",
              "      <td>4</td>\n",
              "      <td>3</td>\n",
              "    </tr>\n",
              "  </tbody>\n",
              "</table>\n",
              "</div>"
            ],
            "text/plain": [
              "   index    age  ... index lstm_score\n",
              "0  29133  19-24  ...     0          1\n",
              "1  23100  35-44  ...     1          1\n",
              "2  24228         ...     2          1\n",
              "3  27688  35-44  ...     3          5\n",
              "4  39916  35-44  ...     4          3\n",
              "\n",
              "[5 rows x 14 columns]"
            ]
          },
          "metadata": {
            "tags": []
          },
          "execution_count": 126
        }
      ]
    },
    {
      "cell_type": "code",
      "metadata": {
        "id": "BdPBB13hn-jG",
        "colab_type": "code",
        "colab": {
          "base_uri": "https://localhost:8080/",
          "height": 127
        },
        "outputId": "f253d639-f07c-435b-a159-0ddd13329762"
      },
      "source": [
        "drugs.drop(['index'], axis=1, inplace=True)\n",
        "drugs.head(1)"
      ],
      "execution_count": 127,
      "outputs": [
        {
          "output_type": "execute_result",
          "data": {
            "text/html": [
              "<div>\n",
              "<style scoped>\n",
              "    .dataframe tbody tr th:only-of-type {\n",
              "        vertical-align: middle;\n",
              "    }\n",
              "\n",
              "    .dataframe tbody tr th {\n",
              "        vertical-align: top;\n",
              "    }\n",
              "\n",
              "    .dataframe thead th {\n",
              "        text-align: right;\n",
              "    }\n",
              "</style>\n",
              "<table border=\"1\" class=\"dataframe\">\n",
              "  <thead>\n",
              "    <tr style=\"text-align: right;\">\n",
              "      <th></th>\n",
              "      <th>age</th>\n",
              "      <th>condition</th>\n",
              "      <th>drug</th>\n",
              "      <th>drugid</th>\n",
              "      <th>easeofuse</th>\n",
              "      <th>effectiveness</th>\n",
              "      <th>reviews</th>\n",
              "      <th>usefulcount</th>\n",
              "      <th>satisfaction</th>\n",
              "      <th>uniqueid</th>\n",
              "      <th>reviews_clean</th>\n",
              "      <th>lstm_score</th>\n",
              "    </tr>\n",
              "  </thead>\n",
              "  <tbody>\n",
              "    <tr>\n",
              "      <th>0</th>\n",
              "      <td>19-24</td>\n",
              "      <td>Skin Rash with Sloughing</td>\n",
              "      <td>prednisone concentrate</td>\n",
              "      <td>6007</td>\n",
              "      <td>4</td>\n",
              "      <td>4</td>\n",
              "      <td>took 40 mg a day for 5 days to reduce a stingi...</td>\n",
              "      <td>0</td>\n",
              "      <td>4.0</td>\n",
              "      <td>0</td>\n",
              "      <td>took day day reduc sting rash probabl nummular...</td>\n",
              "      <td>1</td>\n",
              "    </tr>\n",
              "  </tbody>\n",
              "</table>\n",
              "</div>"
            ],
            "text/plain": [
              "     age  ... lstm_score\n",
              "0  19-24  ...          1\n",
              "\n",
              "[1 rows x 12 columns]"
            ]
          },
          "metadata": {
            "tags": []
          },
          "execution_count": 127
        }
      ]
    },
    {
      "cell_type": "code",
      "metadata": {
        "id": "TYsNA8VW7ymT",
        "colab_type": "code",
        "colab": {
          "base_uri": "https://localhost:8080/",
          "height": 390
        },
        "outputId": "8aaa7770-1182-42b7-acf8-c77aea546d76"
      },
      "source": [
        "# Counting how many times each condition occured in our dataset, with head of 20\n",
        "drugs['condition'].value_counts().head(20)"
      ],
      "execution_count": 128,
      "outputs": [
        {
          "output_type": "execute_result",
          "data": {
            "text/plain": [
              "Other                                                        6093\n",
              "Birth Control                                                2714\n",
              "Depression                                                   2629\n",
              "Pain                                                         1598\n",
              "Chronic Trouble Sleeping                                     1388\n",
              "Overweight                                                    982\n",
              "High Blood Pressure                                           953\n",
              "High Cholesterol                                              871\n",
              "Attention Deficit Disorder with Hyperactivity                 858\n",
              "Migraine Prevention                                           806\n",
              "Bipolar Depression                                            754\n",
              "Major Depressive Disorder                                     627\n",
              "Disorder characterized by Stiff, Tender & Painful Muscles     579\n",
              "Panic Disorder                                                553\n",
              "Migraine Headache                                             549\n",
              "Rheumatoid Arthritis                                          518\n",
              "Acne                                                          476\n",
              "Asthma                                                        419\n",
              "Muscle Spasm                                                  397\n",
              "Underactive Thyroid                                           362\n",
              "Name: condition, dtype: int64"
            ]
          },
          "metadata": {
            "tags": []
          },
          "execution_count": 128
        }
      ]
    },
    {
      "cell_type": "markdown",
      "metadata": {
        "id": "_AXFEXYQ-iWd",
        "colab_type": "text"
      },
      "source": [
        "# Feature Engineering"
      ]
    },
    {
      "cell_type": "code",
      "metadata": {
        "trusted": true,
        "_uuid": "c67dafd5a56dfbe0ce25b56bb7763b7dcc8d9d18",
        "id": "rGGLWsjO7PJ5",
        "colab_type": "code",
        "colab": {
          "base_uri": "https://localhost:8080/",
          "height": 52
        },
        "outputId": "20ad1877-d159-4e62-e7ee-f633a749ae6d"
      },
      "source": [
        "#Word count in each review\n",
        "drugs['count_word']=drugs[\"reviews_clean\"].apply(lambda x: len(str(x).split()))\n",
        "\n",
        "#Unique word count \n",
        "drugs['count_unique_word']=drugs[\"reviews_clean\"].apply(lambda x: len(set(str(x).split())))\n",
        "\n",
        "#Letter count\n",
        "drugs['count_letters']=drugs[\"reviews_clean\"].apply(lambda x: len(str(x)))\n",
        "\n",
        "#punctuation count\n",
        "drugs[\"count_punctuations\"] = drugs[\"reviews\"].apply(lambda x: len([c for c in str(x) if c in string.punctuation]))\n",
        "\n",
        "\n",
        "#Number of stopwords\n",
        "stops = set(stopwords.words(\"english\"))\n",
        "drugs[\"count_stopwords\"] = drugs[\"reviews\"].apply(lambda x: len([w for w in str(x).lower().split() if w in stops]))\n",
        "\n",
        "#Average length of the words\n",
        "drugs[\"mean_word_len\"] = drugs[\"reviews_clean\"].apply(lambda x: np.mean([len(w) for w in str(x).split()]))"
      ],
      "execution_count": 129,
      "outputs": [
        {
          "output_type": "stream",
          "text": [
            "/usr/local/lib/python3.6/dist-packages/numpy/core/fromnumeric.py:3335: RuntimeWarning: Mean of empty slice.\n",
            "  out=out, **kwargs)\n"
          ],
          "name": "stderr"
        }
      ]
    },
    {
      "cell_type": "code",
      "metadata": {
        "trusted": true,
        "_uuid": "f2471e72f47ee19eecd4252f1dd96940308b009f",
        "id": "Sd-jPhEl7PJ_",
        "colab_type": "code",
        "colab": {}
      },
      "source": [
        "# Label Encoding Conditions\n",
        "from sklearn.preprocessing import LabelEncoder\n",
        "label_encoder_feat = {}\n",
        "for feature in ['condition']:\n",
        "    label_encoder_feat[feature] = LabelEncoder()\n",
        "    drugs[feature] = label_encoder_feat[feature].fit_transform(drugs[feature])"
      ],
      "execution_count": 130,
      "outputs": []
    },
    {
      "cell_type": "code",
      "metadata": {
        "id": "AnpcOH8OHIoS",
        "colab_type": "code",
        "colab": {}
      },
      "source": [
        "drugs['easeofuse']=drugs['easeofuse'].astype(float)\n",
        "drugs['effectiveness']=drugs['effectiveness'].astype(float)\n",
        "drugs['usefulcount']=drugs['usefulcount'].astype(float)"
      ],
      "execution_count": 131,
      "outputs": []
    },
    {
      "cell_type": "code",
      "metadata": {
        "id": "Hb5OIlubD5sm",
        "colab_type": "code",
        "colab": {}
      },
      "source": [
        "corr=drugs.corr(method ='pearson')"
      ],
      "execution_count": 132,
      "outputs": []
    },
    {
      "cell_type": "code",
      "metadata": {
        "id": "eIlThq6pEhwh",
        "colab_type": "code",
        "colab": {
          "base_uri": "https://localhost:8080/",
          "height": 266
        },
        "outputId": "63275cc0-9bbd-4ee8-b2b8-82702e20ed4d"
      },
      "source": [
        "cmap = cmap=sns.diverging_palette(5, 250, as_cmap=True)\n",
        "\n",
        "def magnify():\n",
        "    return [dict(selector=\"th\",\n",
        "                 props=[(\"font-size\", \"7pt\")]),\n",
        "            dict(selector=\"td\",\n",
        "                 props=[('padding', \"0em 0em\")]),\n",
        "            dict(selector=\"th:hover\",\n",
        "                 props=[(\"font-size\", \"12pt\")]),\n",
        "            dict(selector=\"tr:hover td:hover\",\n",
        "                 props=[('max-width', '200px'),\n",
        "                        ('font-size', '12pt')])\n",
        "]\n",
        "\n",
        "corr.style.background_gradient(cmap, axis=1)\\\n",
        "    .set_properties(**{'max-width': '80px', 'font-size': '10pt'})\\\n",
        "    .set_caption(\"Hover to magify\")\\\n",
        "    .set_precision(2)\\\n",
        "    .set_table_styles(magnify())"
      ],
      "execution_count": 133,
      "outputs": [
        {
          "output_type": "execute_result",
          "data": {
            "text/html": [
              "<style  type=\"text/css\" >\n",
              "    #T_fc62f2b2_c4c7_11ea_8cce_0242ac1c0002 th {\n",
              "          font-size: 7pt;\n",
              "    }    #T_fc62f2b2_c4c7_11ea_8cce_0242ac1c0002 td {\n",
              "          padding: 0em 0em;\n",
              "    }    #T_fc62f2b2_c4c7_11ea_8cce_0242ac1c0002 th:hover {\n",
              "          font-size: 12pt;\n",
              "    }    #T_fc62f2b2_c4c7_11ea_8cce_0242ac1c0002 tr:hover td:hover {\n",
              "          max-width: 200px;\n",
              "          font-size: 12pt;\n",
              "    }    #T_fc62f2b2_c4c7_11ea_8cce_0242ac1c0002row0_col0 {\n",
              "            background-color:  #4479bb;\n",
              "            color:  #000000;\n",
              "            max-width:  80px;\n",
              "            font-size:  10pt;\n",
              "        }    #T_fc62f2b2_c4c7_11ea_8cce_0242ac1c0002row0_col1 {\n",
              "            background-color:  #da4966;\n",
              "            color:  #000000;\n",
              "            max-width:  80px;\n",
              "            font-size:  10pt;\n",
              "        }    #T_fc62f2b2_c4c7_11ea_8cce_0242ac1c0002row0_col2 {\n",
              "            background-color:  #d94462;\n",
              "            color:  #f1f1f1;\n",
              "            max-width:  80px;\n",
              "            font-size:  10pt;\n",
              "        }    #T_fc62f2b2_c4c7_11ea_8cce_0242ac1c0002row0_col3 {\n",
              "            background-color:  #db4e6a;\n",
              "            color:  #000000;\n",
              "            max-width:  80px;\n",
              "            font-size:  10pt;\n",
              "        }    #T_fc62f2b2_c4c7_11ea_8cce_0242ac1c0002row0_col4 {\n",
              "            background-color:  #de5e77;\n",
              "            color:  #000000;\n",
              "            max-width:  80px;\n",
              "            font-size:  10pt;\n",
              "        }    #T_fc62f2b2_c4c7_11ea_8cce_0242ac1c0002row0_col5 {\n",
              "            background-color:  #dc516d;\n",
              "            color:  #000000;\n",
              "            max-width:  80px;\n",
              "            font-size:  10pt;\n",
              "        }    #T_fc62f2b2_c4c7_11ea_8cce_0242ac1c0002row0_col6 {\n",
              "            background-color:  #dc546f;\n",
              "            color:  #000000;\n",
              "            max-width:  80px;\n",
              "            font-size:  10pt;\n",
              "        }    #T_fc62f2b2_c4c7_11ea_8cce_0242ac1c0002row0_col7 {\n",
              "            background-color:  #d73d5c;\n",
              "            color:  #f1f1f1;\n",
              "            max-width:  80px;\n",
              "            font-size:  10pt;\n",
              "        }    #T_fc62f2b2_c4c7_11ea_8cce_0242ac1c0002row0_col8 {\n",
              "            background-color:  #d73d5c;\n",
              "            color:  #f1f1f1;\n",
              "            max-width:  80px;\n",
              "            font-size:  10pt;\n",
              "        }    #T_fc62f2b2_c4c7_11ea_8cce_0242ac1c0002row0_col9 {\n",
              "            background-color:  #d83e5d;\n",
              "            color:  #f1f1f1;\n",
              "            max-width:  80px;\n",
              "            font-size:  10pt;\n",
              "        }    #T_fc62f2b2_c4c7_11ea_8cce_0242ac1c0002row0_col10 {\n",
              "            background-color:  #d83e5d;\n",
              "            color:  #f1f1f1;\n",
              "            max-width:  80px;\n",
              "            font-size:  10pt;\n",
              "        }    #T_fc62f2b2_c4c7_11ea_8cce_0242ac1c0002row0_col11 {\n",
              "            background-color:  #d73c5b;\n",
              "            color:  #f1f1f1;\n",
              "            max-width:  80px;\n",
              "            font-size:  10pt;\n",
              "        }    #T_fc62f2b2_c4c7_11ea_8cce_0242ac1c0002row0_col12 {\n",
              "            background-color:  #dc516d;\n",
              "            color:  #000000;\n",
              "            max-width:  80px;\n",
              "            font-size:  10pt;\n",
              "        }    #T_fc62f2b2_c4c7_11ea_8cce_0242ac1c0002row1_col0 {\n",
              "            background-color:  #d73c5b;\n",
              "            color:  #f1f1f1;\n",
              "            max-width:  80px;\n",
              "            font-size:  10pt;\n",
              "        }    #T_fc62f2b2_c4c7_11ea_8cce_0242ac1c0002row1_col1 {\n",
              "            background-color:  #4479bb;\n",
              "            color:  #000000;\n",
              "            max-width:  80px;\n",
              "            font-size:  10pt;\n",
              "        }    #T_fc62f2b2_c4c7_11ea_8cce_0242ac1c0002row1_col2 {\n",
              "            background-color:  #f2f2f2;\n",
              "            color:  #000000;\n",
              "            max-width:  80px;\n",
              "            font-size:  10pt;\n",
              "        }    #T_fc62f2b2_c4c7_11ea_8cce_0242ac1c0002row1_col3 {\n",
              "            background-color:  #dc526e;\n",
              "            color:  #000000;\n",
              "            max-width:  80px;\n",
              "            font-size:  10pt;\n",
              "        }    #T_fc62f2b2_c4c7_11ea_8cce_0242ac1c0002row1_col4 {\n",
              "            background-color:  #f2f2f2;\n",
              "            color:  #000000;\n",
              "            max-width:  80px;\n",
              "            font-size:  10pt;\n",
              "        }    #T_fc62f2b2_c4c7_11ea_8cce_0242ac1c0002row1_col5 {\n",
              "            background-color:  #d83e5d;\n",
              "            color:  #f1f1f1;\n",
              "            max-width:  80px;\n",
              "            font-size:  10pt;\n",
              "        }    #T_fc62f2b2_c4c7_11ea_8cce_0242ac1c0002row1_col6 {\n",
              "            background-color:  #d8405e;\n",
              "            color:  #f1f1f1;\n",
              "            max-width:  80px;\n",
              "            font-size:  10pt;\n",
              "        }    #T_fc62f2b2_c4c7_11ea_8cce_0242ac1c0002row1_col7 {\n",
              "            background-color:  #d8405e;\n",
              "            color:  #f1f1f1;\n",
              "            max-width:  80px;\n",
              "            font-size:  10pt;\n",
              "        }    #T_fc62f2b2_c4c7_11ea_8cce_0242ac1c0002row1_col8 {\n",
              "            background-color:  #d8415f;\n",
              "            color:  #f1f1f1;\n",
              "            max-width:  80px;\n",
              "            font-size:  10pt;\n",
              "        }    #T_fc62f2b2_c4c7_11ea_8cce_0242ac1c0002row1_col9 {\n",
              "            background-color:  #d8405e;\n",
              "            color:  #f1f1f1;\n",
              "            max-width:  80px;\n",
              "            font-size:  10pt;\n",
              "        }    #T_fc62f2b2_c4c7_11ea_8cce_0242ac1c0002row1_col10 {\n",
              "            background-color:  #d8415f;\n",
              "            color:  #f1f1f1;\n",
              "            max-width:  80px;\n",
              "            font-size:  10pt;\n",
              "        }    #T_fc62f2b2_c4c7_11ea_8cce_0242ac1c0002row1_col11 {\n",
              "            background-color:  #d94563;\n",
              "            color:  #f1f1f1;\n",
              "            max-width:  80px;\n",
              "            font-size:  10pt;\n",
              "        }    #T_fc62f2b2_c4c7_11ea_8cce_0242ac1c0002row1_col12 {\n",
              "            background-color:  #d83e5d;\n",
              "            color:  #f1f1f1;\n",
              "            max-width:  80px;\n",
              "            font-size:  10pt;\n",
              "        }    #T_fc62f2b2_c4c7_11ea_8cce_0242ac1c0002row2_col0 {\n",
              "            background-color:  #d73c5b;\n",
              "            color:  #f1f1f1;\n",
              "            max-width:  80px;\n",
              "            font-size:  10pt;\n",
              "        }    #T_fc62f2b2_c4c7_11ea_8cce_0242ac1c0002row2_col1 {\n",
              "            background-color:  #f2f2f2;\n",
              "            color:  #000000;\n",
              "            max-width:  80px;\n",
              "            font-size:  10pt;\n",
              "        }    #T_fc62f2b2_c4c7_11ea_8cce_0242ac1c0002row2_col2 {\n",
              "            background-color:  #4479bb;\n",
              "            color:  #000000;\n",
              "            max-width:  80px;\n",
              "            font-size:  10pt;\n",
              "        }    #T_fc62f2b2_c4c7_11ea_8cce_0242ac1c0002row2_col3 {\n",
              "            background-color:  #de5e77;\n",
              "            color:  #000000;\n",
              "            max-width:  80px;\n",
              "            font-size:  10pt;\n",
              "        }    #T_fc62f2b2_c4c7_11ea_8cce_0242ac1c0002row2_col4 {\n",
              "            background-color:  #a2bcdd;\n",
              "            color:  #000000;\n",
              "            max-width:  80px;\n",
              "            font-size:  10pt;\n",
              "        }    #T_fc62f2b2_c4c7_11ea_8cce_0242ac1c0002row2_col5 {\n",
              "            background-color:  #d94261;\n",
              "            color:  #f1f1f1;\n",
              "            max-width:  80px;\n",
              "            font-size:  10pt;\n",
              "        }    #T_fc62f2b2_c4c7_11ea_8cce_0242ac1c0002row2_col6 {\n",
              "            background-color:  #d94462;\n",
              "            color:  #f1f1f1;\n",
              "            max-width:  80px;\n",
              "            font-size:  10pt;\n",
              "        }    #T_fc62f2b2_c4c7_11ea_8cce_0242ac1c0002row2_col7 {\n",
              "            background-color:  #df617a;\n",
              "            color:  #000000;\n",
              "            max-width:  80px;\n",
              "            font-size:  10pt;\n",
              "        }    #T_fc62f2b2_c4c7_11ea_8cce_0242ac1c0002row2_col8 {\n",
              "            background-color:  #df637c;\n",
              "            color:  #000000;\n",
              "            max-width:  80px;\n",
              "            font-size:  10pt;\n",
              "        }    #T_fc62f2b2_c4c7_11ea_8cce_0242ac1c0002row2_col9 {\n",
              "            background-color:  #df617a;\n",
              "            color:  #000000;\n",
              "            max-width:  80px;\n",
              "            font-size:  10pt;\n",
              "        }    #T_fc62f2b2_c4c7_11ea_8cce_0242ac1c0002row2_col10 {\n",
              "            background-color:  #de5c76;\n",
              "            color:  #000000;\n",
              "            max-width:  80px;\n",
              "            font-size:  10pt;\n",
              "        }    #T_fc62f2b2_c4c7_11ea_8cce_0242ac1c0002row2_col11 {\n",
              "            background-color:  #e0657d;\n",
              "            color:  #000000;\n",
              "            max-width:  80px;\n",
              "            font-size:  10pt;\n",
              "        }    #T_fc62f2b2_c4c7_11ea_8cce_0242ac1c0002row2_col12 {\n",
              "            background-color:  #d94563;\n",
              "            color:  #f1f1f1;\n",
              "            max-width:  80px;\n",
              "            font-size:  10pt;\n",
              "        }    #T_fc62f2b2_c4c7_11ea_8cce_0242ac1c0002row3_col0 {\n",
              "            background-color:  #da4b68;\n",
              "            color:  #000000;\n",
              "            max-width:  80px;\n",
              "            font-size:  10pt;\n",
              "        }    #T_fc62f2b2_c4c7_11ea_8cce_0242ac1c0002row3_col1 {\n",
              "            background-color:  #de5e77;\n",
              "            color:  #000000;\n",
              "            max-width:  80px;\n",
              "            font-size:  10pt;\n",
              "        }    #T_fc62f2b2_c4c7_11ea_8cce_0242ac1c0002row3_col2 {\n",
              "            background-color:  #df637c;\n",
              "            color:  #000000;\n",
              "            max-width:  80px;\n",
              "            font-size:  10pt;\n",
              "        }    #T_fc62f2b2_c4c7_11ea_8cce_0242ac1c0002row3_col3 {\n",
              "            background-color:  #4479bb;\n",
              "            color:  #000000;\n",
              "            max-width:  80px;\n",
              "            font-size:  10pt;\n",
              "        }    #T_fc62f2b2_c4c7_11ea_8cce_0242ac1c0002row3_col4 {\n",
              "            background-color:  #e0657d;\n",
              "            color:  #000000;\n",
              "            max-width:  80px;\n",
              "            font-size:  10pt;\n",
              "        }    #T_fc62f2b2_c4c7_11ea_8cce_0242ac1c0002row3_col5 {\n",
              "            background-color:  #db4d69;\n",
              "            color:  #000000;\n",
              "            max-width:  80px;\n",
              "            font-size:  10pt;\n",
              "        }    #T_fc62f2b2_c4c7_11ea_8cce_0242ac1c0002row3_col6 {\n",
              "            background-color:  #d73c5b;\n",
              "            color:  #f1f1f1;\n",
              "            max-width:  80px;\n",
              "            font-size:  10pt;\n",
              "        }    #T_fc62f2b2_c4c7_11ea_8cce_0242ac1c0002row3_col7 {\n",
              "            background-color:  #e991a3;\n",
              "            color:  #000000;\n",
              "            max-width:  80px;\n",
              "            font-size:  10pt;\n",
              "        }    #T_fc62f2b2_c4c7_11ea_8cce_0242ac1c0002row3_col8 {\n",
              "            background-color:  #e994a5;\n",
              "            color:  #000000;\n",
              "            max-width:  80px;\n",
              "            font-size:  10pt;\n",
              "        }    #T_fc62f2b2_c4c7_11ea_8cce_0242ac1c0002row3_col9 {\n",
              "            background-color:  #e991a3;\n",
              "            color:  #000000;\n",
              "            max-width:  80px;\n",
              "            font-size:  10pt;\n",
              "        }    #T_fc62f2b2_c4c7_11ea_8cce_0242ac1c0002row3_col10 {\n",
              "            background-color:  #e88d9f;\n",
              "            color:  #000000;\n",
              "            max-width:  80px;\n",
              "            font-size:  10pt;\n",
              "        }    #T_fc62f2b2_c4c7_11ea_8cce_0242ac1c0002row3_col11 {\n",
              "            background-color:  #e88d9f;\n",
              "            color:  #000000;\n",
              "            max-width:  80px;\n",
              "            font-size:  10pt;\n",
              "        }    #T_fc62f2b2_c4c7_11ea_8cce_0242ac1c0002row3_col12 {\n",
              "            background-color:  #da4b68;\n",
              "            color:  #000000;\n",
              "            max-width:  80px;\n",
              "            font-size:  10pt;\n",
              "        }    #T_fc62f2b2_c4c7_11ea_8cce_0242ac1c0002row4_col0 {\n",
              "            background-color:  #dc526e;\n",
              "            color:  #000000;\n",
              "            max-width:  80px;\n",
              "            font-size:  10pt;\n",
              "        }    #T_fc62f2b2_c4c7_11ea_8cce_0242ac1c0002row4_col1 {\n",
              "            background-color:  #f2f2f2;\n",
              "            color:  #000000;\n",
              "            max-width:  80px;\n",
              "            font-size:  10pt;\n",
              "        }    #T_fc62f2b2_c4c7_11ea_8cce_0242ac1c0002row4_col2 {\n",
              "            background-color:  #a2bcdd;\n",
              "            color:  #000000;\n",
              "            max-width:  80px;\n",
              "            font-size:  10pt;\n",
              "        }    #T_fc62f2b2_c4c7_11ea_8cce_0242ac1c0002row4_col3 {\n",
              "            background-color:  #de5e77;\n",
              "            color:  #000000;\n",
              "            max-width:  80px;\n",
              "            font-size:  10pt;\n",
              "        }    #T_fc62f2b2_c4c7_11ea_8cce_0242ac1c0002row4_col4 {\n",
              "            background-color:  #4479bb;\n",
              "            color:  #000000;\n",
              "            max-width:  80px;\n",
              "            font-size:  10pt;\n",
              "        }    #T_fc62f2b2_c4c7_11ea_8cce_0242ac1c0002row4_col5 {\n",
              "            background-color:  #d94462;\n",
              "            color:  #f1f1f1;\n",
              "            max-width:  80px;\n",
              "            font-size:  10pt;\n",
              "        }    #T_fc62f2b2_c4c7_11ea_8cce_0242ac1c0002row4_col6 {\n",
              "            background-color:  #db4e6a;\n",
              "            color:  #000000;\n",
              "            max-width:  80px;\n",
              "            font-size:  10pt;\n",
              "        }    #T_fc62f2b2_c4c7_11ea_8cce_0242ac1c0002row4_col7 {\n",
              "            background-color:  #d73d5c;\n",
              "            color:  #f1f1f1;\n",
              "            max-width:  80px;\n",
              "            font-size:  10pt;\n",
              "        }    #T_fc62f2b2_c4c7_11ea_8cce_0242ac1c0002row4_col8 {\n",
              "            background-color:  #d73d5c;\n",
              "            color:  #f1f1f1;\n",
              "            max-width:  80px;\n",
              "            font-size:  10pt;\n",
              "        }    #T_fc62f2b2_c4c7_11ea_8cce_0242ac1c0002row4_col9 {\n",
              "            background-color:  #d73c5b;\n",
              "            color:  #f1f1f1;\n",
              "            max-width:  80px;\n",
              "            font-size:  10pt;\n",
              "        }    #T_fc62f2b2_c4c7_11ea_8cce_0242ac1c0002row4_col10 {\n",
              "            background-color:  #d73c5b;\n",
              "            color:  #f1f1f1;\n",
              "            max-width:  80px;\n",
              "            font-size:  10pt;\n",
              "        }    #T_fc62f2b2_c4c7_11ea_8cce_0242ac1c0002row4_col11 {\n",
              "            background-color:  #d94261;\n",
              "            color:  #f1f1f1;\n",
              "            max-width:  80px;\n",
              "            font-size:  10pt;\n",
              "        }    #T_fc62f2b2_c4c7_11ea_8cce_0242ac1c0002row4_col12 {\n",
              "            background-color:  #d94462;\n",
              "            color:  #f1f1f1;\n",
              "            max-width:  80px;\n",
              "            font-size:  10pt;\n",
              "        }    #T_fc62f2b2_c4c7_11ea_8cce_0242ac1c0002row5_col0 {\n",
              "            background-color:  #d83e5d;\n",
              "            color:  #f1f1f1;\n",
              "            max-width:  80px;\n",
              "            font-size:  10pt;\n",
              "        }    #T_fc62f2b2_c4c7_11ea_8cce_0242ac1c0002row5_col1 {\n",
              "            background-color:  #d73c5b;\n",
              "            color:  #f1f1f1;\n",
              "            max-width:  80px;\n",
              "            font-size:  10pt;\n",
              "        }    #T_fc62f2b2_c4c7_11ea_8cce_0242ac1c0002row5_col2 {\n",
              "            background-color:  #d73c5b;\n",
              "            color:  #f1f1f1;\n",
              "            max-width:  80px;\n",
              "            font-size:  10pt;\n",
              "        }    #T_fc62f2b2_c4c7_11ea_8cce_0242ac1c0002row5_col3 {\n",
              "            background-color:  #d83e5d;\n",
              "            color:  #f1f1f1;\n",
              "            max-width:  80px;\n",
              "            font-size:  10pt;\n",
              "        }    #T_fc62f2b2_c4c7_11ea_8cce_0242ac1c0002row5_col4 {\n",
              "            background-color:  #d83e5d;\n",
              "            color:  #f1f1f1;\n",
              "            max-width:  80px;\n",
              "            font-size:  10pt;\n",
              "        }    #T_fc62f2b2_c4c7_11ea_8cce_0242ac1c0002row5_col5 {\n",
              "            background-color:  #4479bb;\n",
              "            color:  #000000;\n",
              "            max-width:  80px;\n",
              "            font-size:  10pt;\n",
              "        }    #T_fc62f2b2_c4c7_11ea_8cce_0242ac1c0002row5_col6 {\n",
              "            background-color:  #d83e5d;\n",
              "            color:  #f1f1f1;\n",
              "            max-width:  80px;\n",
              "            font-size:  10pt;\n",
              "        }    #T_fc62f2b2_c4c7_11ea_8cce_0242ac1c0002row5_col7 {\n",
              "            background-color:  #d73d5c;\n",
              "            color:  #f1f1f1;\n",
              "            max-width:  80px;\n",
              "            font-size:  10pt;\n",
              "        }    #T_fc62f2b2_c4c7_11ea_8cce_0242ac1c0002row5_col8 {\n",
              "            background-color:  #d73d5c;\n",
              "            color:  #f1f1f1;\n",
              "            max-width:  80px;\n",
              "            font-size:  10pt;\n",
              "        }    #T_fc62f2b2_c4c7_11ea_8cce_0242ac1c0002row5_col9 {\n",
              "            background-color:  #d73d5c;\n",
              "            color:  #f1f1f1;\n",
              "            max-width:  80px;\n",
              "            font-size:  10pt;\n",
              "        }    #T_fc62f2b2_c4c7_11ea_8cce_0242ac1c0002row5_col10 {\n",
              "            background-color:  #d73d5c;\n",
              "            color:  #f1f1f1;\n",
              "            max-width:  80px;\n",
              "            font-size:  10pt;\n",
              "        }    #T_fc62f2b2_c4c7_11ea_8cce_0242ac1c0002row5_col11 {\n",
              "            background-color:  #d83e5d;\n",
              "            color:  #f1f1f1;\n",
              "            max-width:  80px;\n",
              "            font-size:  10pt;\n",
              "        }    #T_fc62f2b2_c4c7_11ea_8cce_0242ac1c0002row5_col12 {\n",
              "            background-color:  #d73c5b;\n",
              "            color:  #f1f1f1;\n",
              "            max-width:  80px;\n",
              "            font-size:  10pt;\n",
              "        }    #T_fc62f2b2_c4c7_11ea_8cce_0242ac1c0002row6_col0 {\n",
              "            background-color:  #e26f86;\n",
              "            color:  #000000;\n",
              "            max-width:  80px;\n",
              "            font-size:  10pt;\n",
              "        }    #T_fc62f2b2_c4c7_11ea_8cce_0242ac1c0002row6_col1 {\n",
              "            background-color:  #e16b82;\n",
              "            color:  #000000;\n",
              "            max-width:  80px;\n",
              "            font-size:  10pt;\n",
              "        }    #T_fc62f2b2_c4c7_11ea_8cce_0242ac1c0002row6_col2 {\n",
              "            background-color:  #e16981;\n",
              "            color:  #000000;\n",
              "            max-width:  80px;\n",
              "            font-size:  10pt;\n",
              "        }    #T_fc62f2b2_c4c7_11ea_8cce_0242ac1c0002row6_col3 {\n",
              "            background-color:  #de5c76;\n",
              "            color:  #000000;\n",
              "            max-width:  80px;\n",
              "            font-size:  10pt;\n",
              "        }    #T_fc62f2b2_c4c7_11ea_8cce_0242ac1c0002row6_col4 {\n",
              "            background-color:  #e3748a;\n",
              "            color:  #000000;\n",
              "            max-width:  80px;\n",
              "            font-size:  10pt;\n",
              "        }    #T_fc62f2b2_c4c7_11ea_8cce_0242ac1c0002row6_col5 {\n",
              "            background-color:  #e16c84;\n",
              "            color:  #000000;\n",
              "            max-width:  80px;\n",
              "            font-size:  10pt;\n",
              "        }    #T_fc62f2b2_c4c7_11ea_8cce_0242ac1c0002row6_col6 {\n",
              "            background-color:  #4479bb;\n",
              "            color:  #000000;\n",
              "            max-width:  80px;\n",
              "            font-size:  10pt;\n",
              "        }    #T_fc62f2b2_c4c7_11ea_8cce_0242ac1c0002row6_col7 {\n",
              "            background-color:  #d73d5c;\n",
              "            color:  #f1f1f1;\n",
              "            max-width:  80px;\n",
              "            font-size:  10pt;\n",
              "        }    #T_fc62f2b2_c4c7_11ea_8cce_0242ac1c0002row6_col8 {\n",
              "            background-color:  #d73c5b;\n",
              "            color:  #f1f1f1;\n",
              "            max-width:  80px;\n",
              "            font-size:  10pt;\n",
              "        }    #T_fc62f2b2_c4c7_11ea_8cce_0242ac1c0002row6_col9 {\n",
              "            background-color:  #d73d5c;\n",
              "            color:  #f1f1f1;\n",
              "            max-width:  80px;\n",
              "            font-size:  10pt;\n",
              "        }    #T_fc62f2b2_c4c7_11ea_8cce_0242ac1c0002row6_col10 {\n",
              "            background-color:  #d8415f;\n",
              "            color:  #f1f1f1;\n",
              "            max-width:  80px;\n",
              "            font-size:  10pt;\n",
              "        }    #T_fc62f2b2_c4c7_11ea_8cce_0242ac1c0002row6_col11 {\n",
              "            background-color:  #d8405e;\n",
              "            color:  #f1f1f1;\n",
              "            max-width:  80px;\n",
              "            font-size:  10pt;\n",
              "        }    #T_fc62f2b2_c4c7_11ea_8cce_0242ac1c0002row6_col12 {\n",
              "            background-color:  #e16d85;\n",
              "            color:  #000000;\n",
              "            max-width:  80px;\n",
              "            font-size:  10pt;\n",
              "        }    #T_fc62f2b2_c4c7_11ea_8cce_0242ac1c0002row7_col0 {\n",
              "            background-color:  #dd5872;\n",
              "            color:  #000000;\n",
              "            max-width:  80px;\n",
              "            font-size:  10pt;\n",
              "        }    #T_fc62f2b2_c4c7_11ea_8cce_0242ac1c0002row7_col1 {\n",
              "            background-color:  #e16981;\n",
              "            color:  #000000;\n",
              "            max-width:  80px;\n",
              "            font-size:  10pt;\n",
              "        }    #T_fc62f2b2_c4c7_11ea_8cce_0242ac1c0002row7_col2 {\n",
              "            background-color:  #e58195;\n",
              "            color:  #000000;\n",
              "            max-width:  80px;\n",
              "            font-size:  10pt;\n",
              "        }    #T_fc62f2b2_c4c7_11ea_8cce_0242ac1c0002row7_col3 {\n",
              "            background-color:  #eda8b6;\n",
              "            color:  #000000;\n",
              "            max-width:  80px;\n",
              "            font-size:  10pt;\n",
              "        }    #T_fc62f2b2_c4c7_11ea_8cce_0242ac1c0002row7_col4 {\n",
              "            background-color:  #df627b;\n",
              "            color:  #000000;\n",
              "            max-width:  80px;\n",
              "            font-size:  10pt;\n",
              "        }    #T_fc62f2b2_c4c7_11ea_8cce_0242ac1c0002row7_col5 {\n",
              "            background-color:  #e16981;\n",
              "            color:  #000000;\n",
              "            max-width:  80px;\n",
              "            font-size:  10pt;\n",
              "        }    #T_fc62f2b2_c4c7_11ea_8cce_0242ac1c0002row7_col6 {\n",
              "            background-color:  #d73c5b;\n",
              "            color:  #f1f1f1;\n",
              "            max-width:  80px;\n",
              "            font-size:  10pt;\n",
              "        }    #T_fc62f2b2_c4c7_11ea_8cce_0242ac1c0002row7_col7 {\n",
              "            background-color:  #4479bb;\n",
              "            color:  #000000;\n",
              "            max-width:  80px;\n",
              "            font-size:  10pt;\n",
              "        }    #T_fc62f2b2_c4c7_11ea_8cce_0242ac1c0002row7_col8 {\n",
              "            background-color:  #477bbc;\n",
              "            color:  #000000;\n",
              "            max-width:  80px;\n",
              "            font-size:  10pt;\n",
              "        }    #T_fc62f2b2_c4c7_11ea_8cce_0242ac1c0002row7_col9 {\n",
              "            background-color:  #457abb;\n",
              "            color:  #000000;\n",
              "            max-width:  80px;\n",
              "            font-size:  10pt;\n",
              "        }    #T_fc62f2b2_c4c7_11ea_8cce_0242ac1c0002row7_col10 {\n",
              "            background-color:  #5e8bc4;\n",
              "            color:  #000000;\n",
              "            max-width:  80px;\n",
              "            font-size:  10pt;\n",
              "        }    #T_fc62f2b2_c4c7_11ea_8cce_0242ac1c0002row7_col11 {\n",
              "            background-color:  #5485c1;\n",
              "            color:  #000000;\n",
              "            max-width:  80px;\n",
              "            font-size:  10pt;\n",
              "        }    #T_fc62f2b2_c4c7_11ea_8cce_0242ac1c0002row7_col12 {\n",
              "            background-color:  #e0657d;\n",
              "            color:  #000000;\n",
              "            max-width:  80px;\n",
              "            font-size:  10pt;\n",
              "        }    #T_fc62f2b2_c4c7_11ea_8cce_0242ac1c0002row8_col0 {\n",
              "            background-color:  #de5b75;\n",
              "            color:  #000000;\n",
              "            max-width:  80px;\n",
              "            font-size:  10pt;\n",
              "        }    #T_fc62f2b2_c4c7_11ea_8cce_0242ac1c0002row8_col1 {\n",
              "            background-color:  #e16c84;\n",
              "            color:  #000000;\n",
              "            max-width:  80px;\n",
              "            font-size:  10pt;\n",
              "        }    #T_fc62f2b2_c4c7_11ea_8cce_0242ac1c0002row8_col2 {\n",
              "            background-color:  #e68598;\n",
              "            color:  #000000;\n",
              "            max-width:  80px;\n",
              "            font-size:  10pt;\n",
              "        }    #T_fc62f2b2_c4c7_11ea_8cce_0242ac1c0002row8_col3 {\n",
              "            background-color:  #eeacba;\n",
              "            color:  #000000;\n",
              "            max-width:  80px;\n",
              "            font-size:  10pt;\n",
              "        }    #T_fc62f2b2_c4c7_11ea_8cce_0242ac1c0002row8_col4 {\n",
              "            background-color:  #e0657d;\n",
              "            color:  #000000;\n",
              "            max-width:  80px;\n",
              "            font-size:  10pt;\n",
              "        }    #T_fc62f2b2_c4c7_11ea_8cce_0242ac1c0002row8_col5 {\n",
              "            background-color:  #e16b82;\n",
              "            color:  #000000;\n",
              "            max-width:  80px;\n",
              "            font-size:  10pt;\n",
              "        }    #T_fc62f2b2_c4c7_11ea_8cce_0242ac1c0002row8_col6 {\n",
              "            background-color:  #d73c5b;\n",
              "            color:  #f1f1f1;\n",
              "            max-width:  80px;\n",
              "            font-size:  10pt;\n",
              "        }    #T_fc62f2b2_c4c7_11ea_8cce_0242ac1c0002row8_col7 {\n",
              "            background-color:  #477bbc;\n",
              "            color:  #000000;\n",
              "            max-width:  80px;\n",
              "            font-size:  10pt;\n",
              "        }    #T_fc62f2b2_c4c7_11ea_8cce_0242ac1c0002row8_col8 {\n",
              "            background-color:  #4479bb;\n",
              "            color:  #000000;\n",
              "            max-width:  80px;\n",
              "            font-size:  10pt;\n",
              "        }    #T_fc62f2b2_c4c7_11ea_8cce_0242ac1c0002row8_col9 {\n",
              "            background-color:  #477bbc;\n",
              "            color:  #000000;\n",
              "            max-width:  80px;\n",
              "            font-size:  10pt;\n",
              "        }    #T_fc62f2b2_c4c7_11ea_8cce_0242ac1c0002row8_col10 {\n",
              "            background-color:  #618ec5;\n",
              "            color:  #000000;\n",
              "            max-width:  80px;\n",
              "            font-size:  10pt;\n",
              "        }    #T_fc62f2b2_c4c7_11ea_8cce_0242ac1c0002row8_col11 {\n",
              "            background-color:  #5686c1;\n",
              "            color:  #000000;\n",
              "            max-width:  80px;\n",
              "            font-size:  10pt;\n",
              "        }    #T_fc62f2b2_c4c7_11ea_8cce_0242ac1c0002row8_col12 {\n",
              "            background-color:  #e06880;\n",
              "            color:  #000000;\n",
              "            max-width:  80px;\n",
              "            font-size:  10pt;\n",
              "        }    #T_fc62f2b2_c4c7_11ea_8cce_0242ac1c0002row9_col0 {\n",
              "            background-color:  #dd5872;\n",
              "            color:  #000000;\n",
              "            max-width:  80px;\n",
              "            font-size:  10pt;\n",
              "        }    #T_fc62f2b2_c4c7_11ea_8cce_0242ac1c0002row9_col1 {\n",
              "            background-color:  #e16981;\n",
              "            color:  #000000;\n",
              "            max-width:  80px;\n",
              "            font-size:  10pt;\n",
              "        }    #T_fc62f2b2_c4c7_11ea_8cce_0242ac1c0002row9_col2 {\n",
              "            background-color:  #e58195;\n",
              "            color:  #000000;\n",
              "            max-width:  80px;\n",
              "            font-size:  10pt;\n",
              "        }    #T_fc62f2b2_c4c7_11ea_8cce_0242ac1c0002row9_col3 {\n",
              "            background-color:  #eeaab7;\n",
              "            color:  #000000;\n",
              "            max-width:  80px;\n",
              "            font-size:  10pt;\n",
              "        }    #T_fc62f2b2_c4c7_11ea_8cce_0242ac1c0002row9_col4 {\n",
              "            background-color:  #df627b;\n",
              "            color:  #000000;\n",
              "            max-width:  80px;\n",
              "            font-size:  10pt;\n",
              "        }    #T_fc62f2b2_c4c7_11ea_8cce_0242ac1c0002row9_col5 {\n",
              "            background-color:  #e16981;\n",
              "            color:  #000000;\n",
              "            max-width:  80px;\n",
              "            font-size:  10pt;\n",
              "        }    #T_fc62f2b2_c4c7_11ea_8cce_0242ac1c0002row9_col6 {\n",
              "            background-color:  #d73c5b;\n",
              "            color:  #f1f1f1;\n",
              "            max-width:  80px;\n",
              "            font-size:  10pt;\n",
              "        }    #T_fc62f2b2_c4c7_11ea_8cce_0242ac1c0002row9_col7 {\n",
              "            background-color:  #457abb;\n",
              "            color:  #000000;\n",
              "            max-width:  80px;\n",
              "            font-size:  10pt;\n",
              "        }    #T_fc62f2b2_c4c7_11ea_8cce_0242ac1c0002row9_col8 {\n",
              "            background-color:  #477bbc;\n",
              "            color:  #000000;\n",
              "            max-width:  80px;\n",
              "            font-size:  10pt;\n",
              "        }    #T_fc62f2b2_c4c7_11ea_8cce_0242ac1c0002row9_col9 {\n",
              "            background-color:  #4479bb;\n",
              "            color:  #000000;\n",
              "            max-width:  80px;\n",
              "            font-size:  10pt;\n",
              "        }    #T_fc62f2b2_c4c7_11ea_8cce_0242ac1c0002row9_col10 {\n",
              "            background-color:  #628fc6;\n",
              "            color:  #000000;\n",
              "            max-width:  80px;\n",
              "            font-size:  10pt;\n",
              "        }    #T_fc62f2b2_c4c7_11ea_8cce_0242ac1c0002row9_col11 {\n",
              "            background-color:  #5485c1;\n",
              "            color:  #000000;\n",
              "            max-width:  80px;\n",
              "            font-size:  10pt;\n",
              "        }    #T_fc62f2b2_c4c7_11ea_8cce_0242ac1c0002row9_col12 {\n",
              "            background-color:  #e27389;\n",
              "            color:  #000000;\n",
              "            max-width:  80px;\n",
              "            font-size:  10pt;\n",
              "        }    #T_fc62f2b2_c4c7_11ea_8cce_0242ac1c0002row10_col0 {\n",
              "            background-color:  #dc5570;\n",
              "            color:  #000000;\n",
              "            max-width:  80px;\n",
              "            font-size:  10pt;\n",
              "        }    #T_fc62f2b2_c4c7_11ea_8cce_0242ac1c0002row10_col1 {\n",
              "            background-color:  #e0667e;\n",
              "            color:  #000000;\n",
              "            max-width:  80px;\n",
              "            font-size:  10pt;\n",
              "        }    #T_fc62f2b2_c4c7_11ea_8cce_0242ac1c0002row10_col2 {\n",
              "            background-color:  #e4798e;\n",
              "            color:  #000000;\n",
              "            max-width:  80px;\n",
              "            font-size:  10pt;\n",
              "        }    #T_fc62f2b2_c4c7_11ea_8cce_0242ac1c0002row10_col3 {\n",
              "            background-color:  #eca1b0;\n",
              "            color:  #000000;\n",
              "            max-width:  80px;\n",
              "            font-size:  10pt;\n",
              "        }    #T_fc62f2b2_c4c7_11ea_8cce_0242ac1c0002row10_col4 {\n",
              "            background-color:  #de5c76;\n",
              "            color:  #000000;\n",
              "            max-width:  80px;\n",
              "            font-size:  10pt;\n",
              "        }    #T_fc62f2b2_c4c7_11ea_8cce_0242ac1c0002row10_col5 {\n",
              "            background-color:  #df637c;\n",
              "            color:  #000000;\n",
              "            max-width:  80px;\n",
              "            font-size:  10pt;\n",
              "        }    #T_fc62f2b2_c4c7_11ea_8cce_0242ac1c0002row10_col6 {\n",
              "            background-color:  #d73c5b;\n",
              "            color:  #f1f1f1;\n",
              "            max-width:  80px;\n",
              "            font-size:  10pt;\n",
              "        }    #T_fc62f2b2_c4c7_11ea_8cce_0242ac1c0002row10_col7 {\n",
              "            background-color:  #5e8bc4;\n",
              "            color:  #000000;\n",
              "            max-width:  80px;\n",
              "            font-size:  10pt;\n",
              "        }    #T_fc62f2b2_c4c7_11ea_8cce_0242ac1c0002row10_col8 {\n",
              "            background-color:  #618ec5;\n",
              "            color:  #000000;\n",
              "            max-width:  80px;\n",
              "            font-size:  10pt;\n",
              "        }    #T_fc62f2b2_c4c7_11ea_8cce_0242ac1c0002row10_col9 {\n",
              "            background-color:  #628fc6;\n",
              "            color:  #000000;\n",
              "            max-width:  80px;\n",
              "            font-size:  10pt;\n",
              "        }    #T_fc62f2b2_c4c7_11ea_8cce_0242ac1c0002row10_col10 {\n",
              "            background-color:  #4479bb;\n",
              "            color:  #000000;\n",
              "            max-width:  80px;\n",
              "            font-size:  10pt;\n",
              "        }    #T_fc62f2b2_c4c7_11ea_8cce_0242ac1c0002row10_col11 {\n",
              "            background-color:  #7ba0cf;\n",
              "            color:  #000000;\n",
              "            max-width:  80px;\n",
              "            font-size:  10pt;\n",
              "        }    #T_fc62f2b2_c4c7_11ea_8cce_0242ac1c0002row10_col12 {\n",
              "            background-color:  #df617a;\n",
              "            color:  #000000;\n",
              "            max-width:  80px;\n",
              "            font-size:  10pt;\n",
              "        }    #T_fc62f2b2_c4c7_11ea_8cce_0242ac1c0002row11_col0 {\n",
              "            background-color:  #dc546f;\n",
              "            color:  #000000;\n",
              "            max-width:  80px;\n",
              "            font-size:  10pt;\n",
              "        }    #T_fc62f2b2_c4c7_11ea_8cce_0242ac1c0002row11_col1 {\n",
              "            background-color:  #e16c84;\n",
              "            color:  #000000;\n",
              "            max-width:  80px;\n",
              "            font-size:  10pt;\n",
              "        }    #T_fc62f2b2_c4c7_11ea_8cce_0242ac1c0002row11_col2 {\n",
              "            background-color:  #e68396;\n",
              "            color:  #000000;\n",
              "            max-width:  80px;\n",
              "            font-size:  10pt;\n",
              "        }    #T_fc62f2b2_c4c7_11ea_8cce_0242ac1c0002row11_col3 {\n",
              "            background-color:  #eca3b1;\n",
              "            color:  #000000;\n",
              "            max-width:  80px;\n",
              "            font-size:  10pt;\n",
              "        }    #T_fc62f2b2_c4c7_11ea_8cce_0242ac1c0002row11_col4 {\n",
              "            background-color:  #e0667e;\n",
              "            color:  #000000;\n",
              "            max-width:  80px;\n",
              "            font-size:  10pt;\n",
              "        }    #T_fc62f2b2_c4c7_11ea_8cce_0242ac1c0002row11_col5 {\n",
              "            background-color:  #e06880;\n",
              "            color:  #000000;\n",
              "            max-width:  80px;\n",
              "            font-size:  10pt;\n",
              "        }    #T_fc62f2b2_c4c7_11ea_8cce_0242ac1c0002row11_col6 {\n",
              "            background-color:  #d73c5b;\n",
              "            color:  #f1f1f1;\n",
              "            max-width:  80px;\n",
              "            font-size:  10pt;\n",
              "        }    #T_fc62f2b2_c4c7_11ea_8cce_0242ac1c0002row11_col7 {\n",
              "            background-color:  #5485c1;\n",
              "            color:  #000000;\n",
              "            max-width:  80px;\n",
              "            font-size:  10pt;\n",
              "        }    #T_fc62f2b2_c4c7_11ea_8cce_0242ac1c0002row11_col8 {\n",
              "            background-color:  #5686c1;\n",
              "            color:  #000000;\n",
              "            max-width:  80px;\n",
              "            font-size:  10pt;\n",
              "        }    #T_fc62f2b2_c4c7_11ea_8cce_0242ac1c0002row11_col9 {\n",
              "            background-color:  #5485c1;\n",
              "            color:  #000000;\n",
              "            max-width:  80px;\n",
              "            font-size:  10pt;\n",
              "        }    #T_fc62f2b2_c4c7_11ea_8cce_0242ac1c0002row11_col10 {\n",
              "            background-color:  #799fce;\n",
              "            color:  #000000;\n",
              "            max-width:  80px;\n",
              "            font-size:  10pt;\n",
              "        }    #T_fc62f2b2_c4c7_11ea_8cce_0242ac1c0002row11_col11 {\n",
              "            background-color:  #4479bb;\n",
              "            color:  #000000;\n",
              "            max-width:  80px;\n",
              "            font-size:  10pt;\n",
              "        }    #T_fc62f2b2_c4c7_11ea_8cce_0242ac1c0002row11_col12 {\n",
              "            background-color:  #df637c;\n",
              "            color:  #000000;\n",
              "            max-width:  80px;\n",
              "            font-size:  10pt;\n",
              "        }    #T_fc62f2b2_c4c7_11ea_8cce_0242ac1c0002row12_col0 {\n",
              "            background-color:  #d8415f;\n",
              "            color:  #f1f1f1;\n",
              "            max-width:  80px;\n",
              "            font-size:  10pt;\n",
              "        }    #T_fc62f2b2_c4c7_11ea_8cce_0242ac1c0002row12_col1 {\n",
              "            background-color:  #d83e5d;\n",
              "            color:  #f1f1f1;\n",
              "            max-width:  80px;\n",
              "            font-size:  10pt;\n",
              "        }    #T_fc62f2b2_c4c7_11ea_8cce_0242ac1c0002row12_col2 {\n",
              "            background-color:  #d8405e;\n",
              "            color:  #f1f1f1;\n",
              "            max-width:  80px;\n",
              "            font-size:  10pt;\n",
              "        }    #T_fc62f2b2_c4c7_11ea_8cce_0242ac1c0002row12_col3 {\n",
              "            background-color:  #d83e5d;\n",
              "            color:  #f1f1f1;\n",
              "            max-width:  80px;\n",
              "            font-size:  10pt;\n",
              "        }    #T_fc62f2b2_c4c7_11ea_8cce_0242ac1c0002row12_col4 {\n",
              "            background-color:  #d8415f;\n",
              "            color:  #f1f1f1;\n",
              "            max-width:  80px;\n",
              "            font-size:  10pt;\n",
              "        }    #T_fc62f2b2_c4c7_11ea_8cce_0242ac1c0002row12_col5 {\n",
              "            background-color:  #d83e5d;\n",
              "            color:  #f1f1f1;\n",
              "            max-width:  80px;\n",
              "            font-size:  10pt;\n",
              "        }    #T_fc62f2b2_c4c7_11ea_8cce_0242ac1c0002row12_col6 {\n",
              "            background-color:  #d94261;\n",
              "            color:  #f1f1f1;\n",
              "            max-width:  80px;\n",
              "            font-size:  10pt;\n",
              "        }    #T_fc62f2b2_c4c7_11ea_8cce_0242ac1c0002row12_col7 {\n",
              "            background-color:  #d73c5b;\n",
              "            color:  #f1f1f1;\n",
              "            max-width:  80px;\n",
              "            font-size:  10pt;\n",
              "        }    #T_fc62f2b2_c4c7_11ea_8cce_0242ac1c0002row12_col8 {\n",
              "            background-color:  #d73c5b;\n",
              "            color:  #f1f1f1;\n",
              "            max-width:  80px;\n",
              "            font-size:  10pt;\n",
              "        }    #T_fc62f2b2_c4c7_11ea_8cce_0242ac1c0002row12_col9 {\n",
              "            background-color:  #da4b68;\n",
              "            color:  #000000;\n",
              "            max-width:  80px;\n",
              "            font-size:  10pt;\n",
              "        }    #T_fc62f2b2_c4c7_11ea_8cce_0242ac1c0002row12_col10 {\n",
              "            background-color:  #d73c5b;\n",
              "            color:  #f1f1f1;\n",
              "            max-width:  80px;\n",
              "            font-size:  10pt;\n",
              "        }    #T_fc62f2b2_c4c7_11ea_8cce_0242ac1c0002row12_col11 {\n",
              "            background-color:  #d73d5c;\n",
              "            color:  #f1f1f1;\n",
              "            max-width:  80px;\n",
              "            font-size:  10pt;\n",
              "        }    #T_fc62f2b2_c4c7_11ea_8cce_0242ac1c0002row12_col12 {\n",
              "            background-color:  #4479bb;\n",
              "            color:  #000000;\n",
              "            max-width:  80px;\n",
              "            font-size:  10pt;\n",
              "        }</style><table id=\"T_fc62f2b2_c4c7_11ea_8cce_0242ac1c0002\" ><caption>Hover to magify</caption><thead>    <tr>        <th class=\"blank level0\" ></th>        <th class=\"col_heading level0 col0\" >condition</th>        <th class=\"col_heading level0 col1\" >easeofuse</th>        <th class=\"col_heading level0 col2\" >effectiveness</th>        <th class=\"col_heading level0 col3\" >usefulcount</th>        <th class=\"col_heading level0 col4\" >satisfaction</th>        <th class=\"col_heading level0 col5\" >uniqueid</th>        <th class=\"col_heading level0 col6\" >lstm_score</th>        <th class=\"col_heading level0 col7\" >count_word</th>        <th class=\"col_heading level0 col8\" >count_unique_word</th>        <th class=\"col_heading level0 col9\" >count_letters</th>        <th class=\"col_heading level0 col10\" >count_punctuations</th>        <th class=\"col_heading level0 col11\" >count_stopwords</th>        <th class=\"col_heading level0 col12\" >mean_word_len</th>    </tr></thead><tbody>\n",
              "                <tr>\n",
              "                        <th id=\"T_fc62f2b2_c4c7_11ea_8cce_0242ac1c0002level0_row0\" class=\"row_heading level0 row0\" >condition</th>\n",
              "                        <td id=\"T_fc62f2b2_c4c7_11ea_8cce_0242ac1c0002row0_col0\" class=\"data row0 col0\" >1.00</td>\n",
              "                        <td id=\"T_fc62f2b2_c4c7_11ea_8cce_0242ac1c0002row0_col1\" class=\"data row0 col1\" >-0.02</td>\n",
              "                        <td id=\"T_fc62f2b2_c4c7_11ea_8cce_0242ac1c0002row0_col2\" class=\"data row0 col2\" >-0.03</td>\n",
              "                        <td id=\"T_fc62f2b2_c4c7_11ea_8cce_0242ac1c0002row0_col3\" class=\"data row0 col3\" >-0.00</td>\n",
              "                        <td id=\"T_fc62f2b2_c4c7_11ea_8cce_0242ac1c0002row0_col4\" class=\"data row0 col4\" >0.04</td>\n",
              "                        <td id=\"T_fc62f2b2_c4c7_11ea_8cce_0242ac1c0002row0_col5\" class=\"data row0 col5\" >0.00</td>\n",
              "                        <td id=\"T_fc62f2b2_c4c7_11ea_8cce_0242ac1c0002row0_col6\" class=\"data row0 col6\" >0.01</td>\n",
              "                        <td id=\"T_fc62f2b2_c4c7_11ea_8cce_0242ac1c0002row0_col7\" class=\"data row0 col7\" >-0.05</td>\n",
              "                        <td id=\"T_fc62f2b2_c4c7_11ea_8cce_0242ac1c0002row0_col8\" class=\"data row0 col8\" >-0.05</td>\n",
              "                        <td id=\"T_fc62f2b2_c4c7_11ea_8cce_0242ac1c0002row0_col9\" class=\"data row0 col9\" >-0.05</td>\n",
              "                        <td id=\"T_fc62f2b2_c4c7_11ea_8cce_0242ac1c0002row0_col10\" class=\"data row0 col10\" >-0.05</td>\n",
              "                        <td id=\"T_fc62f2b2_c4c7_11ea_8cce_0242ac1c0002row0_col11\" class=\"data row0 col11\" >-0.06</td>\n",
              "                        <td id=\"T_fc62f2b2_c4c7_11ea_8cce_0242ac1c0002row0_col12\" class=\"data row0 col12\" >0.00</td>\n",
              "            </tr>\n",
              "            <tr>\n",
              "                        <th id=\"T_fc62f2b2_c4c7_11ea_8cce_0242ac1c0002level0_row1\" class=\"row_heading level0 row1\" >easeofuse</th>\n",
              "                        <td id=\"T_fc62f2b2_c4c7_11ea_8cce_0242ac1c0002row1_col0\" class=\"data row1 col0\" >-0.02</td>\n",
              "                        <td id=\"T_fc62f2b2_c4c7_11ea_8cce_0242ac1c0002row1_col1\" class=\"data row1 col1\" >1.00</td>\n",
              "                        <td id=\"T_fc62f2b2_c4c7_11ea_8cce_0242ac1c0002row1_col2\" class=\"data row1 col2\" >0.48</td>\n",
              "                        <td id=\"T_fc62f2b2_c4c7_11ea_8cce_0242ac1c0002row1_col3\" class=\"data row1 col3\" >0.05</td>\n",
              "                        <td id=\"T_fc62f2b2_c4c7_11ea_8cce_0242ac1c0002row1_col4\" class=\"data row1 col4\" >0.49</td>\n",
              "                        <td id=\"T_fc62f2b2_c4c7_11ea_8cce_0242ac1c0002row1_col5\" class=\"data row1 col5\" >-0.01</td>\n",
              "                        <td id=\"T_fc62f2b2_c4c7_11ea_8cce_0242ac1c0002row1_col6\" class=\"data row1 col6\" >-0.00</td>\n",
              "                        <td id=\"T_fc62f2b2_c4c7_11ea_8cce_0242ac1c0002row1_col7\" class=\"data row1 col7\" >-0.00</td>\n",
              "                        <td id=\"T_fc62f2b2_c4c7_11ea_8cce_0242ac1c0002row1_col8\" class=\"data row1 col8\" >0.00</td>\n",
              "                        <td id=\"T_fc62f2b2_c4c7_11ea_8cce_0242ac1c0002row1_col9\" class=\"data row1 col9\" >-0.00</td>\n",
              "                        <td id=\"T_fc62f2b2_c4c7_11ea_8cce_0242ac1c0002row1_col10\" class=\"data row1 col10\" >0.00</td>\n",
              "                        <td id=\"T_fc62f2b2_c4c7_11ea_8cce_0242ac1c0002row1_col11\" class=\"data row1 col11\" >0.01</td>\n",
              "                        <td id=\"T_fc62f2b2_c4c7_11ea_8cce_0242ac1c0002row1_col12\" class=\"data row1 col12\" >-0.01</td>\n",
              "            </tr>\n",
              "            <tr>\n",
              "                        <th id=\"T_fc62f2b2_c4c7_11ea_8cce_0242ac1c0002level0_row2\" class=\"row_heading level0 row2\" >effectiveness</th>\n",
              "                        <td id=\"T_fc62f2b2_c4c7_11ea_8cce_0242ac1c0002row2_col0\" class=\"data row2 col0\" >-0.03</td>\n",
              "                        <td id=\"T_fc62f2b2_c4c7_11ea_8cce_0242ac1c0002row2_col1\" class=\"data row2 col1\" >0.48</td>\n",
              "                        <td id=\"T_fc62f2b2_c4c7_11ea_8cce_0242ac1c0002row2_col2\" class=\"data row2 col2\" >1.00</td>\n",
              "                        <td id=\"T_fc62f2b2_c4c7_11ea_8cce_0242ac1c0002row2_col3\" class=\"data row2 col3\" >0.07</td>\n",
              "                        <td id=\"T_fc62f2b2_c4c7_11ea_8cce_0242ac1c0002row2_col4\" class=\"data row2 col4\" >0.72</td>\n",
              "                        <td id=\"T_fc62f2b2_c4c7_11ea_8cce_0242ac1c0002row2_col5\" class=\"data row2 col5\" >-0.01</td>\n",
              "                        <td id=\"T_fc62f2b2_c4c7_11ea_8cce_0242ac1c0002row2_col6\" class=\"data row2 col6\" >-0.01</td>\n",
              "                        <td id=\"T_fc62f2b2_c4c7_11ea_8cce_0242ac1c0002row2_col7\" class=\"data row2 col7\" >0.08</td>\n",
              "                        <td id=\"T_fc62f2b2_c4c7_11ea_8cce_0242ac1c0002row2_col8\" class=\"data row2 col8\" >0.08</td>\n",
              "                        <td id=\"T_fc62f2b2_c4c7_11ea_8cce_0242ac1c0002row2_col9\" class=\"data row2 col9\" >0.07</td>\n",
              "                        <td id=\"T_fc62f2b2_c4c7_11ea_8cce_0242ac1c0002row2_col10\" class=\"data row2 col10\" >0.06</td>\n",
              "                        <td id=\"T_fc62f2b2_c4c7_11ea_8cce_0242ac1c0002row2_col11\" class=\"data row2 col11\" >0.09</td>\n",
              "                        <td id=\"T_fc62f2b2_c4c7_11ea_8cce_0242ac1c0002row2_col12\" class=\"data row2 col12\" >-0.00</td>\n",
              "            </tr>\n",
              "            <tr>\n",
              "                        <th id=\"T_fc62f2b2_c4c7_11ea_8cce_0242ac1c0002level0_row3\" class=\"row_heading level0 row3\" >usefulcount</th>\n",
              "                        <td id=\"T_fc62f2b2_c4c7_11ea_8cce_0242ac1c0002row3_col0\" class=\"data row3 col0\" >-0.00</td>\n",
              "                        <td id=\"T_fc62f2b2_c4c7_11ea_8cce_0242ac1c0002row3_col1\" class=\"data row3 col1\" >0.05</td>\n",
              "                        <td id=\"T_fc62f2b2_c4c7_11ea_8cce_0242ac1c0002row3_col2\" class=\"data row3 col2\" >0.07</td>\n",
              "                        <td id=\"T_fc62f2b2_c4c7_11ea_8cce_0242ac1c0002row3_col3\" class=\"data row3 col3\" >1.00</td>\n",
              "                        <td id=\"T_fc62f2b2_c4c7_11ea_8cce_0242ac1c0002row3_col4\" class=\"data row3 col4\" >0.07</td>\n",
              "                        <td id=\"T_fc62f2b2_c4c7_11ea_8cce_0242ac1c0002row3_col5\" class=\"data row3 col5\" >0.00</td>\n",
              "                        <td id=\"T_fc62f2b2_c4c7_11ea_8cce_0242ac1c0002row3_col6\" class=\"data row3 col6\" >-0.05</td>\n",
              "                        <td id=\"T_fc62f2b2_c4c7_11ea_8cce_0242ac1c0002row3_col7\" class=\"data row3 col7\" >0.20</td>\n",
              "                        <td id=\"T_fc62f2b2_c4c7_11ea_8cce_0242ac1c0002row3_col8\" class=\"data row3 col8\" >0.20</td>\n",
              "                        <td id=\"T_fc62f2b2_c4c7_11ea_8cce_0242ac1c0002row3_col9\" class=\"data row3 col9\" >0.20</td>\n",
              "                        <td id=\"T_fc62f2b2_c4c7_11ea_8cce_0242ac1c0002row3_col10\" class=\"data row3 col10\" >0.18</td>\n",
              "                        <td id=\"T_fc62f2b2_c4c7_11ea_8cce_0242ac1c0002row3_col11\" class=\"data row3 col11\" >0.18</td>\n",
              "                        <td id=\"T_fc62f2b2_c4c7_11ea_8cce_0242ac1c0002row3_col12\" class=\"data row3 col12\" >-0.00</td>\n",
              "            </tr>\n",
              "            <tr>\n",
              "                        <th id=\"T_fc62f2b2_c4c7_11ea_8cce_0242ac1c0002level0_row4\" class=\"row_heading level0 row4\" >satisfaction</th>\n",
              "                        <td id=\"T_fc62f2b2_c4c7_11ea_8cce_0242ac1c0002row4_col0\" class=\"data row4 col0\" >0.04</td>\n",
              "                        <td id=\"T_fc62f2b2_c4c7_11ea_8cce_0242ac1c0002row4_col1\" class=\"data row4 col1\" >0.49</td>\n",
              "                        <td id=\"T_fc62f2b2_c4c7_11ea_8cce_0242ac1c0002row4_col2\" class=\"data row4 col2\" >0.72</td>\n",
              "                        <td id=\"T_fc62f2b2_c4c7_11ea_8cce_0242ac1c0002row4_col3\" class=\"data row4 col3\" >0.07</td>\n",
              "                        <td id=\"T_fc62f2b2_c4c7_11ea_8cce_0242ac1c0002row4_col4\" class=\"data row4 col4\" >1.00</td>\n",
              "                        <td id=\"T_fc62f2b2_c4c7_11ea_8cce_0242ac1c0002row4_col5\" class=\"data row4 col5\" >-0.00</td>\n",
              "                        <td id=\"T_fc62f2b2_c4c7_11ea_8cce_0242ac1c0002row4_col6\" class=\"data row4 col6\" >0.03</td>\n",
              "                        <td id=\"T_fc62f2b2_c4c7_11ea_8cce_0242ac1c0002row4_col7\" class=\"data row4 col7\" >-0.02</td>\n",
              "                        <td id=\"T_fc62f2b2_c4c7_11ea_8cce_0242ac1c0002row4_col8\" class=\"data row4 col8\" >-0.02</td>\n",
              "                        <td id=\"T_fc62f2b2_c4c7_11ea_8cce_0242ac1c0002row4_col9\" class=\"data row4 col9\" >-0.02</td>\n",
              "                        <td id=\"T_fc62f2b2_c4c7_11ea_8cce_0242ac1c0002row4_col10\" class=\"data row4 col10\" >-0.03</td>\n",
              "                        <td id=\"T_fc62f2b2_c4c7_11ea_8cce_0242ac1c0002row4_col11\" class=\"data row4 col11\" >-0.00</td>\n",
              "                        <td id=\"T_fc62f2b2_c4c7_11ea_8cce_0242ac1c0002row4_col12\" class=\"data row4 col12\" >0.00</td>\n",
              "            </tr>\n",
              "            <tr>\n",
              "                        <th id=\"T_fc62f2b2_c4c7_11ea_8cce_0242ac1c0002level0_row5\" class=\"row_heading level0 row5\" >uniqueid</th>\n",
              "                        <td id=\"T_fc62f2b2_c4c7_11ea_8cce_0242ac1c0002row5_col0\" class=\"data row5 col0\" >0.00</td>\n",
              "                        <td id=\"T_fc62f2b2_c4c7_11ea_8cce_0242ac1c0002row5_col1\" class=\"data row5 col1\" >-0.01</td>\n",
              "                        <td id=\"T_fc62f2b2_c4c7_11ea_8cce_0242ac1c0002row5_col2\" class=\"data row5 col2\" >-0.01</td>\n",
              "                        <td id=\"T_fc62f2b2_c4c7_11ea_8cce_0242ac1c0002row5_col3\" class=\"data row5 col3\" >0.00</td>\n",
              "                        <td id=\"T_fc62f2b2_c4c7_11ea_8cce_0242ac1c0002row5_col4\" class=\"data row5 col4\" >-0.00</td>\n",
              "                        <td id=\"T_fc62f2b2_c4c7_11ea_8cce_0242ac1c0002row5_col5\" class=\"data row5 col5\" >1.00</td>\n",
              "                        <td id=\"T_fc62f2b2_c4c7_11ea_8cce_0242ac1c0002row5_col6\" class=\"data row5 col6\" >0.00</td>\n",
              "                        <td id=\"T_fc62f2b2_c4c7_11ea_8cce_0242ac1c0002row5_col7\" class=\"data row5 col7\" >-0.00</td>\n",
              "                        <td id=\"T_fc62f2b2_c4c7_11ea_8cce_0242ac1c0002row5_col8\" class=\"data row5 col8\" >-0.00</td>\n",
              "                        <td id=\"T_fc62f2b2_c4c7_11ea_8cce_0242ac1c0002row5_col9\" class=\"data row5 col9\" >-0.00</td>\n",
              "                        <td id=\"T_fc62f2b2_c4c7_11ea_8cce_0242ac1c0002row5_col10\" class=\"data row5 col10\" >-0.00</td>\n",
              "                        <td id=\"T_fc62f2b2_c4c7_11ea_8cce_0242ac1c0002row5_col11\" class=\"data row5 col11\" >-0.00</td>\n",
              "                        <td id=\"T_fc62f2b2_c4c7_11ea_8cce_0242ac1c0002row5_col12\" class=\"data row5 col12\" >-0.01</td>\n",
              "            </tr>\n",
              "            <tr>\n",
              "                        <th id=\"T_fc62f2b2_c4c7_11ea_8cce_0242ac1c0002level0_row6\" class=\"row_heading level0 row6\" >lstm_score</th>\n",
              "                        <td id=\"T_fc62f2b2_c4c7_11ea_8cce_0242ac1c0002row6_col0\" class=\"data row6 col0\" >0.01</td>\n",
              "                        <td id=\"T_fc62f2b2_c4c7_11ea_8cce_0242ac1c0002row6_col1\" class=\"data row6 col1\" >-0.00</td>\n",
              "                        <td id=\"T_fc62f2b2_c4c7_11ea_8cce_0242ac1c0002row6_col2\" class=\"data row6 col2\" >-0.01</td>\n",
              "                        <td id=\"T_fc62f2b2_c4c7_11ea_8cce_0242ac1c0002row6_col3\" class=\"data row6 col3\" >-0.05</td>\n",
              "                        <td id=\"T_fc62f2b2_c4c7_11ea_8cce_0242ac1c0002row6_col4\" class=\"data row6 col4\" >0.03</td>\n",
              "                        <td id=\"T_fc62f2b2_c4c7_11ea_8cce_0242ac1c0002row6_col5\" class=\"data row6 col5\" >0.00</td>\n",
              "                        <td id=\"T_fc62f2b2_c4c7_11ea_8cce_0242ac1c0002row6_col6\" class=\"data row6 col6\" >1.00</td>\n",
              "                        <td id=\"T_fc62f2b2_c4c7_11ea_8cce_0242ac1c0002row6_col7\" class=\"data row6 col7\" >-0.14</td>\n",
              "                        <td id=\"T_fc62f2b2_c4c7_11ea_8cce_0242ac1c0002row6_col8\" class=\"data row6 col8\" >-0.15</td>\n",
              "                        <td id=\"T_fc62f2b2_c4c7_11ea_8cce_0242ac1c0002row6_col9\" class=\"data row6 col9\" >-0.15</td>\n",
              "                        <td id=\"T_fc62f2b2_c4c7_11ea_8cce_0242ac1c0002row6_col10\" class=\"data row6 col10\" >-0.13</td>\n",
              "                        <td id=\"T_fc62f2b2_c4c7_11ea_8cce_0242ac1c0002row6_col11\" class=\"data row6 col11\" >-0.14</td>\n",
              "                        <td id=\"T_fc62f2b2_c4c7_11ea_8cce_0242ac1c0002row6_col12\" class=\"data row6 col12\" >0.01</td>\n",
              "            </tr>\n",
              "            <tr>\n",
              "                        <th id=\"T_fc62f2b2_c4c7_11ea_8cce_0242ac1c0002level0_row7\" class=\"row_heading level0 row7\" >count_word</th>\n",
              "                        <td id=\"T_fc62f2b2_c4c7_11ea_8cce_0242ac1c0002row7_col0\" class=\"data row7 col0\" >-0.05</td>\n",
              "                        <td id=\"T_fc62f2b2_c4c7_11ea_8cce_0242ac1c0002row7_col1\" class=\"data row7 col1\" >-0.00</td>\n",
              "                        <td id=\"T_fc62f2b2_c4c7_11ea_8cce_0242ac1c0002row7_col2\" class=\"data row7 col2\" >0.08</td>\n",
              "                        <td id=\"T_fc62f2b2_c4c7_11ea_8cce_0242ac1c0002row7_col3\" class=\"data row7 col3\" >0.20</td>\n",
              "                        <td id=\"T_fc62f2b2_c4c7_11ea_8cce_0242ac1c0002row7_col4\" class=\"data row7 col4\" >-0.02</td>\n",
              "                        <td id=\"T_fc62f2b2_c4c7_11ea_8cce_0242ac1c0002row7_col5\" class=\"data row7 col5\" >-0.00</td>\n",
              "                        <td id=\"T_fc62f2b2_c4c7_11ea_8cce_0242ac1c0002row7_col6\" class=\"data row7 col6\" >-0.14</td>\n",
              "                        <td id=\"T_fc62f2b2_c4c7_11ea_8cce_0242ac1c0002row7_col7\" class=\"data row7 col7\" >1.00</td>\n",
              "                        <td id=\"T_fc62f2b2_c4c7_11ea_8cce_0242ac1c0002row7_col8\" class=\"data row7 col8\" >0.99</td>\n",
              "                        <td id=\"T_fc62f2b2_c4c7_11ea_8cce_0242ac1c0002row7_col9\" class=\"data row7 col9\" >0.99</td>\n",
              "                        <td id=\"T_fc62f2b2_c4c7_11ea_8cce_0242ac1c0002row7_col10\" class=\"data row7 col10\" >0.91</td>\n",
              "                        <td id=\"T_fc62f2b2_c4c7_11ea_8cce_0242ac1c0002row7_col11\" class=\"data row7 col11\" >0.94</td>\n",
              "                        <td id=\"T_fc62f2b2_c4c7_11ea_8cce_0242ac1c0002row7_col12\" class=\"data row7 col12\" >-0.01</td>\n",
              "            </tr>\n",
              "            <tr>\n",
              "                        <th id=\"T_fc62f2b2_c4c7_11ea_8cce_0242ac1c0002level0_row8\" class=\"row_heading level0 row8\" >count_unique_word</th>\n",
              "                        <td id=\"T_fc62f2b2_c4c7_11ea_8cce_0242ac1c0002row8_col0\" class=\"data row8 col0\" >-0.05</td>\n",
              "                        <td id=\"T_fc62f2b2_c4c7_11ea_8cce_0242ac1c0002row8_col1\" class=\"data row8 col1\" >0.00</td>\n",
              "                        <td id=\"T_fc62f2b2_c4c7_11ea_8cce_0242ac1c0002row8_col2\" class=\"data row8 col2\" >0.08</td>\n",
              "                        <td id=\"T_fc62f2b2_c4c7_11ea_8cce_0242ac1c0002row8_col3\" class=\"data row8 col3\" >0.20</td>\n",
              "                        <td id=\"T_fc62f2b2_c4c7_11ea_8cce_0242ac1c0002row8_col4\" class=\"data row8 col4\" >-0.02</td>\n",
              "                        <td id=\"T_fc62f2b2_c4c7_11ea_8cce_0242ac1c0002row8_col5\" class=\"data row8 col5\" >-0.00</td>\n",
              "                        <td id=\"T_fc62f2b2_c4c7_11ea_8cce_0242ac1c0002row8_col6\" class=\"data row8 col6\" >-0.15</td>\n",
              "                        <td id=\"T_fc62f2b2_c4c7_11ea_8cce_0242ac1c0002row8_col7\" class=\"data row8 col7\" >0.99</td>\n",
              "                        <td id=\"T_fc62f2b2_c4c7_11ea_8cce_0242ac1c0002row8_col8\" class=\"data row8 col8\" >1.00</td>\n",
              "                        <td id=\"T_fc62f2b2_c4c7_11ea_8cce_0242ac1c0002row8_col9\" class=\"data row8 col9\" >0.99</td>\n",
              "                        <td id=\"T_fc62f2b2_c4c7_11ea_8cce_0242ac1c0002row8_col10\" class=\"data row8 col10\" >0.90</td>\n",
              "                        <td id=\"T_fc62f2b2_c4c7_11ea_8cce_0242ac1c0002row8_col11\" class=\"data row8 col11\" >0.94</td>\n",
              "                        <td id=\"T_fc62f2b2_c4c7_11ea_8cce_0242ac1c0002row8_col12\" class=\"data row8 col12\" >-0.01</td>\n",
              "            </tr>\n",
              "            <tr>\n",
              "                        <th id=\"T_fc62f2b2_c4c7_11ea_8cce_0242ac1c0002level0_row9\" class=\"row_heading level0 row9\" >count_letters</th>\n",
              "                        <td id=\"T_fc62f2b2_c4c7_11ea_8cce_0242ac1c0002row9_col0\" class=\"data row9 col0\" >-0.05</td>\n",
              "                        <td id=\"T_fc62f2b2_c4c7_11ea_8cce_0242ac1c0002row9_col1\" class=\"data row9 col1\" >-0.00</td>\n",
              "                        <td id=\"T_fc62f2b2_c4c7_11ea_8cce_0242ac1c0002row9_col2\" class=\"data row9 col2\" >0.07</td>\n",
              "                        <td id=\"T_fc62f2b2_c4c7_11ea_8cce_0242ac1c0002row9_col3\" class=\"data row9 col3\" >0.20</td>\n",
              "                        <td id=\"T_fc62f2b2_c4c7_11ea_8cce_0242ac1c0002row9_col4\" class=\"data row9 col4\" >-0.02</td>\n",
              "                        <td id=\"T_fc62f2b2_c4c7_11ea_8cce_0242ac1c0002row9_col5\" class=\"data row9 col5\" >-0.00</td>\n",
              "                        <td id=\"T_fc62f2b2_c4c7_11ea_8cce_0242ac1c0002row9_col6\" class=\"data row9 col6\" >-0.15</td>\n",
              "                        <td id=\"T_fc62f2b2_c4c7_11ea_8cce_0242ac1c0002row9_col7\" class=\"data row9 col7\" >0.99</td>\n",
              "                        <td id=\"T_fc62f2b2_c4c7_11ea_8cce_0242ac1c0002row9_col8\" class=\"data row9 col8\" >0.99</td>\n",
              "                        <td id=\"T_fc62f2b2_c4c7_11ea_8cce_0242ac1c0002row9_col9\" class=\"data row9 col9\" >1.00</td>\n",
              "                        <td id=\"T_fc62f2b2_c4c7_11ea_8cce_0242ac1c0002row9_col10\" class=\"data row9 col10\" >0.90</td>\n",
              "                        <td id=\"T_fc62f2b2_c4c7_11ea_8cce_0242ac1c0002row9_col11\" class=\"data row9 col11\" >0.94</td>\n",
              "                        <td id=\"T_fc62f2b2_c4c7_11ea_8cce_0242ac1c0002row9_col12\" class=\"data row9 col12\" >0.03</td>\n",
              "            </tr>\n",
              "            <tr>\n",
              "                        <th id=\"T_fc62f2b2_c4c7_11ea_8cce_0242ac1c0002level0_row10\" class=\"row_heading level0 row10\" >count_punctuations</th>\n",
              "                        <td id=\"T_fc62f2b2_c4c7_11ea_8cce_0242ac1c0002row10_col0\" class=\"data row10 col0\" >-0.05</td>\n",
              "                        <td id=\"T_fc62f2b2_c4c7_11ea_8cce_0242ac1c0002row10_col1\" class=\"data row10 col1\" >0.00</td>\n",
              "                        <td id=\"T_fc62f2b2_c4c7_11ea_8cce_0242ac1c0002row10_col2\" class=\"data row10 col2\" >0.06</td>\n",
              "                        <td id=\"T_fc62f2b2_c4c7_11ea_8cce_0242ac1c0002row10_col3\" class=\"data row10 col3\" >0.18</td>\n",
              "                        <td id=\"T_fc62f2b2_c4c7_11ea_8cce_0242ac1c0002row10_col4\" class=\"data row10 col4\" >-0.03</td>\n",
              "                        <td id=\"T_fc62f2b2_c4c7_11ea_8cce_0242ac1c0002row10_col5\" class=\"data row10 col5\" >-0.00</td>\n",
              "                        <td id=\"T_fc62f2b2_c4c7_11ea_8cce_0242ac1c0002row10_col6\" class=\"data row10 col6\" >-0.13</td>\n",
              "                        <td id=\"T_fc62f2b2_c4c7_11ea_8cce_0242ac1c0002row10_col7\" class=\"data row10 col7\" >0.91</td>\n",
              "                        <td id=\"T_fc62f2b2_c4c7_11ea_8cce_0242ac1c0002row10_col8\" class=\"data row10 col8\" >0.90</td>\n",
              "                        <td id=\"T_fc62f2b2_c4c7_11ea_8cce_0242ac1c0002row10_col9\" class=\"data row10 col9\" >0.90</td>\n",
              "                        <td id=\"T_fc62f2b2_c4c7_11ea_8cce_0242ac1c0002row10_col10\" class=\"data row10 col10\" >1.00</td>\n",
              "                        <td id=\"T_fc62f2b2_c4c7_11ea_8cce_0242ac1c0002row10_col11\" class=\"data row10 col11\" >0.82</td>\n",
              "                        <td id=\"T_fc62f2b2_c4c7_11ea_8cce_0242ac1c0002row10_col12\" class=\"data row10 col12\" >-0.02</td>\n",
              "            </tr>\n",
              "            <tr>\n",
              "                        <th id=\"T_fc62f2b2_c4c7_11ea_8cce_0242ac1c0002level0_row11\" class=\"row_heading level0 row11\" >count_stopwords</th>\n",
              "                        <td id=\"T_fc62f2b2_c4c7_11ea_8cce_0242ac1c0002row11_col0\" class=\"data row11 col0\" >-0.06</td>\n",
              "                        <td id=\"T_fc62f2b2_c4c7_11ea_8cce_0242ac1c0002row11_col1\" class=\"data row11 col1\" >0.01</td>\n",
              "                        <td id=\"T_fc62f2b2_c4c7_11ea_8cce_0242ac1c0002row11_col2\" class=\"data row11 col2\" >0.09</td>\n",
              "                        <td id=\"T_fc62f2b2_c4c7_11ea_8cce_0242ac1c0002row11_col3\" class=\"data row11 col3\" >0.18</td>\n",
              "                        <td id=\"T_fc62f2b2_c4c7_11ea_8cce_0242ac1c0002row11_col4\" class=\"data row11 col4\" >-0.00</td>\n",
              "                        <td id=\"T_fc62f2b2_c4c7_11ea_8cce_0242ac1c0002row11_col5\" class=\"data row11 col5\" >-0.00</td>\n",
              "                        <td id=\"T_fc62f2b2_c4c7_11ea_8cce_0242ac1c0002row11_col6\" class=\"data row11 col6\" >-0.14</td>\n",
              "                        <td id=\"T_fc62f2b2_c4c7_11ea_8cce_0242ac1c0002row11_col7\" class=\"data row11 col7\" >0.94</td>\n",
              "                        <td id=\"T_fc62f2b2_c4c7_11ea_8cce_0242ac1c0002row11_col8\" class=\"data row11 col8\" >0.94</td>\n",
              "                        <td id=\"T_fc62f2b2_c4c7_11ea_8cce_0242ac1c0002row11_col9\" class=\"data row11 col9\" >0.94</td>\n",
              "                        <td id=\"T_fc62f2b2_c4c7_11ea_8cce_0242ac1c0002row11_col10\" class=\"data row11 col10\" >0.82</td>\n",
              "                        <td id=\"T_fc62f2b2_c4c7_11ea_8cce_0242ac1c0002row11_col11\" class=\"data row11 col11\" >1.00</td>\n",
              "                        <td id=\"T_fc62f2b2_c4c7_11ea_8cce_0242ac1c0002row11_col12\" class=\"data row11 col12\" >-0.01</td>\n",
              "            </tr>\n",
              "            <tr>\n",
              "                        <th id=\"T_fc62f2b2_c4c7_11ea_8cce_0242ac1c0002level0_row12\" class=\"row_heading level0 row12\" >mean_word_len</th>\n",
              "                        <td id=\"T_fc62f2b2_c4c7_11ea_8cce_0242ac1c0002row12_col0\" class=\"data row12 col0\" >0.00</td>\n",
              "                        <td id=\"T_fc62f2b2_c4c7_11ea_8cce_0242ac1c0002row12_col1\" class=\"data row12 col1\" >-0.01</td>\n",
              "                        <td id=\"T_fc62f2b2_c4c7_11ea_8cce_0242ac1c0002row12_col2\" class=\"data row12 col2\" >-0.00</td>\n",
              "                        <td id=\"T_fc62f2b2_c4c7_11ea_8cce_0242ac1c0002row12_col3\" class=\"data row12 col3\" >-0.00</td>\n",
              "                        <td id=\"T_fc62f2b2_c4c7_11ea_8cce_0242ac1c0002row12_col4\" class=\"data row12 col4\" >0.00</td>\n",
              "                        <td id=\"T_fc62f2b2_c4c7_11ea_8cce_0242ac1c0002row12_col5\" class=\"data row12 col5\" >-0.01</td>\n",
              "                        <td id=\"T_fc62f2b2_c4c7_11ea_8cce_0242ac1c0002row12_col6\" class=\"data row12 col6\" >0.01</td>\n",
              "                        <td id=\"T_fc62f2b2_c4c7_11ea_8cce_0242ac1c0002row12_col7\" class=\"data row12 col7\" >-0.01</td>\n",
              "                        <td id=\"T_fc62f2b2_c4c7_11ea_8cce_0242ac1c0002row12_col8\" class=\"data row12 col8\" >-0.01</td>\n",
              "                        <td id=\"T_fc62f2b2_c4c7_11ea_8cce_0242ac1c0002row12_col9\" class=\"data row12 col9\" >0.03</td>\n",
              "                        <td id=\"T_fc62f2b2_c4c7_11ea_8cce_0242ac1c0002row12_col10\" class=\"data row12 col10\" >-0.02</td>\n",
              "                        <td id=\"T_fc62f2b2_c4c7_11ea_8cce_0242ac1c0002row12_col11\" class=\"data row12 col11\" >-0.01</td>\n",
              "                        <td id=\"T_fc62f2b2_c4c7_11ea_8cce_0242ac1c0002row12_col12\" class=\"data row12 col12\" >1.00</td>\n",
              "            </tr>\n",
              "    </tbody></table>"
            ],
            "text/plain": [
              "<pandas.io.formats.style.Styler at 0x7fce52ed61d0>"
            ]
          },
          "metadata": {
            "tags": []
          },
          "execution_count": 133
        }
      ]
    },
    {
      "cell_type": "code",
      "metadata": {
        "trusted": true,
        "_uuid": "f59cf45b806c2b619244d6e8e7f2d81f297e4d87",
        "id": "XZiW2E8t7PJ8",
        "colab_type": "code",
        "colab": {}
      },
      "source": [
        "# Correlation Heatmap of the features engineered\n",
        "#plt.rcParams['figure.figsize'] = [17,15]\n",
        "#sns.set(font_scale = 1.2)\n",
        "#corr = drugs.select_dtypes(include='float64').corr()\n",
        "#sns_ = sns.heatmap(corr, annot = True, cmap = 'YlGnBu')\n",
        "#plt.setp(sns_.get_xticklabels(), rotation = 45);"
      ],
      "execution_count": 134,
      "outputs": []
    },
    {
      "cell_type": "code",
      "metadata": {
        "id": "1q0fyCU7UZ_A",
        "colab_type": "code",
        "colab": {}
      },
      "source": [
        "drugs = drugs.dropna(how = 'any', axis = 0)"
      ],
      "execution_count": 135,
      "outputs": []
    },
    {
      "cell_type": "code",
      "metadata": {
        "id": "C7EwRBynUFKG",
        "colab_type": "code",
        "colab": {
          "base_uri": "https://localhost:8080/",
          "height": 354
        },
        "outputId": "c929de72-44df-41b8-e06e-692e06d951e9"
      },
      "source": [
        "drugs.isna().sum()"
      ],
      "execution_count": 136,
      "outputs": [
        {
          "output_type": "execute_result",
          "data": {
            "text/plain": [
              "age                   0\n",
              "condition             0\n",
              "drug                  0\n",
              "drugid                0\n",
              "easeofuse             0\n",
              "effectiveness         0\n",
              "reviews               0\n",
              "usefulcount           0\n",
              "satisfaction          0\n",
              "uniqueid              0\n",
              "reviews_clean         0\n",
              "lstm_score            0\n",
              "count_word            0\n",
              "count_unique_word     0\n",
              "count_letters         0\n",
              "count_punctuations    0\n",
              "count_stopwords       0\n",
              "mean_word_len         0\n",
              "dtype: int64"
            ]
          },
          "metadata": {
            "tags": []
          },
          "execution_count": 136
        }
      ]
    },
    {
      "cell_type": "code",
      "metadata": {
        "id": "5oXLnxKyGrh2",
        "colab_type": "code",
        "colab": {
          "base_uri": "https://localhost:8080/",
          "height": 354
        },
        "outputId": "cf92d1c9-8a1e-4fcc-b68f-1c08ff14fb79"
      },
      "source": [
        "drugs.dtypes"
      ],
      "execution_count": 137,
      "outputs": [
        {
          "output_type": "execute_result",
          "data": {
            "text/plain": [
              "age                    object\n",
              "condition               int64\n",
              "drug                   object\n",
              "drugid                 object\n",
              "easeofuse             float64\n",
              "effectiveness         float64\n",
              "reviews                object\n",
              "usefulcount           float64\n",
              "satisfaction          float64\n",
              "uniqueid                int64\n",
              "reviews_clean          object\n",
              "lstm_score              int64\n",
              "count_word              int64\n",
              "count_unique_word       int64\n",
              "count_letters           int64\n",
              "count_punctuations      int64\n",
              "count_stopwords         int64\n",
              "mean_word_len         float64\n",
              "dtype: object"
            ]
          },
          "metadata": {
            "tags": []
          },
          "execution_count": 137
        }
      ]
    },
    {
      "cell_type": "code",
      "metadata": {
        "id": "VFELlO4NPhNq",
        "colab_type": "code",
        "colab": {
          "base_uri": "https://localhost:8080/",
          "height": 181
        },
        "outputId": "2edd9e7d-c578-46bb-edd8-37b0a48dc976"
      },
      "source": [
        "drugs.head(1)"
      ],
      "execution_count": 138,
      "outputs": [
        {
          "output_type": "execute_result",
          "data": {
            "text/html": [
              "<div>\n",
              "<style scoped>\n",
              "    .dataframe tbody tr th:only-of-type {\n",
              "        vertical-align: middle;\n",
              "    }\n",
              "\n",
              "    .dataframe tbody tr th {\n",
              "        vertical-align: top;\n",
              "    }\n",
              "\n",
              "    .dataframe thead th {\n",
              "        text-align: right;\n",
              "    }\n",
              "</style>\n",
              "<table border=\"1\" class=\"dataframe\">\n",
              "  <thead>\n",
              "    <tr style=\"text-align: right;\">\n",
              "      <th></th>\n",
              "      <th>age</th>\n",
              "      <th>condition</th>\n",
              "      <th>drug</th>\n",
              "      <th>drugid</th>\n",
              "      <th>easeofuse</th>\n",
              "      <th>effectiveness</th>\n",
              "      <th>reviews</th>\n",
              "      <th>usefulcount</th>\n",
              "      <th>satisfaction</th>\n",
              "      <th>uniqueid</th>\n",
              "      <th>reviews_clean</th>\n",
              "      <th>lstm_score</th>\n",
              "      <th>count_word</th>\n",
              "      <th>count_unique_word</th>\n",
              "      <th>count_letters</th>\n",
              "      <th>count_punctuations</th>\n",
              "      <th>count_stopwords</th>\n",
              "      <th>mean_word_len</th>\n",
              "    </tr>\n",
              "  </thead>\n",
              "  <tbody>\n",
              "    <tr>\n",
              "      <th>0</th>\n",
              "      <td>19-24</td>\n",
              "      <td>808</td>\n",
              "      <td>prednisone concentrate</td>\n",
              "      <td>6007</td>\n",
              "      <td>4.0</td>\n",
              "      <td>4.0</td>\n",
              "      <td>took 40 mg a day for 5 days to reduce a stingi...</td>\n",
              "      <td>0.0</td>\n",
              "      <td>4.0</td>\n",
              "      <td>0</td>\n",
              "      <td>took day day reduc sting rash probabl nummular...</td>\n",
              "      <td>1</td>\n",
              "      <td>26</td>\n",
              "      <td>23</td>\n",
              "      <td>163</td>\n",
              "      <td>6</td>\n",
              "      <td>16</td>\n",
              "      <td>5.307692</td>\n",
              "    </tr>\n",
              "  </tbody>\n",
              "</table>\n",
              "</div>"
            ],
            "text/plain": [
              "     age  condition  ... count_stopwords mean_word_len\n",
              "0  19-24        808  ...              16      5.307692\n",
              "\n",
              "[1 rows x 18 columns]"
            ]
          },
          "metadata": {
            "tags": []
          },
          "execution_count": 138
        }
      ]
    },
    {
      "cell_type": "markdown",
      "metadata": {
        "id": "7MHIYRuQ7PKD",
        "colab_type": "text"
      },
      "source": [
        "# Importing Libraries for the Machine Learning Model\n"
      ]
    },
    {
      "cell_type": "code",
      "metadata": {
        "trusted": true,
        "id": "MADHXiIa7PKE",
        "colab_type": "code",
        "colab": {}
      },
      "source": [
        "# Importing Libraries for the Machine Learning Model\n",
        "from sklearn.model_selection import KFold, cross_val_score\n",
        "from xgboost import XGBClassifier\n",
        "from sklearn.naive_bayes import GaussianNB\n",
        "from lightgbm import LGBMModel,LGBMClassifier, plot_importance\n",
        "from sklearn.linear_model import SGDClassifier\n",
        "from sklearn.neighbors import KNeighborsClassifier\n",
        "from xgboost import XGBClassifier\n",
        "import time\n",
        "from sklearn.metrics import confusion_matrix, accuracy_score, classification_report, precision_score\n",
        "from sklearn.model_selection import train_test_split, cross_val_predict\n",
        "\n",
        "\n",
        "from sklearn.metrics import roc_auc_score\n",
        "from sklearn.preprocessing import LabelBinarizer"
      ],
      "execution_count": 139,
      "outputs": []
    },
    {
      "cell_type": "code",
      "metadata": {
        "id": "eXKflaR1Dgnp",
        "colab_type": "code",
        "colab": {
          "base_uri": "https://localhost:8080/",
          "height": 123
        },
        "outputId": "41101d83-b4bc-49a2-873a-cbe4caa4f3d5"
      },
      "source": [
        "drugs['satisfaction'].value_counts()"
      ],
      "execution_count": 140,
      "outputs": [
        {
          "output_type": "execute_result",
          "data": {
            "text/plain": [
              "5.0    8492\n",
              "1.0    8492\n",
              "2.0    8491\n",
              "4.0    8490\n",
              "3.0    8487\n",
              "Name: satisfaction, dtype: int64"
            ]
          },
          "metadata": {
            "tags": []
          },
          "execution_count": 140
        }
      ]
    },
    {
      "cell_type": "code",
      "metadata": {
        "trusted": true,
        "id": "ztlt9AC47PKH",
        "colab_type": "code",
        "colab": {
          "base_uri": "https://localhost:8080/",
          "height": 52
        },
        "outputId": "86ad49b8-5498-4419-b522-4bf3fbcf6740"
      },
      "source": [
        "# Defining Features and splitting the data as train and test set\n",
        "features = drugs[[ 'effectiveness', 'lstm_score', 'easeofuse', 'condition', 'count_letters',\n",
        "                   ]]\n",
        "\n",
        "target = drugs['satisfaction']\n",
        "\n",
        "X_train, X_test, y_train, y_test = train_test_split(features, target, test_size = 0.3, shuffle=True, random_state = 42)\n",
        "print (\"The Train set size \", X_train.shape)\n",
        "print (\"The Test set size \", X_test.shape)"
      ],
      "execution_count": 141,
      "outputs": [
        {
          "output_type": "stream",
          "text": [
            "The Train set size  (29716, 5)\n",
            "The Test set size  (12736, 5)\n"
          ],
          "name": "stdout"
        }
      ]
    },
    {
      "cell_type": "markdown",
      "metadata": {
        "id": "-A0U6r82nPPo",
        "colab_type": "text"
      },
      "source": [
        "#### Firstly we'll try and check which classifier performs the best with our training data, then we'll take that classifier and perform HyperParameter Optimisation on that model."
      ]
    },
    {
      "cell_type": "code",
      "metadata": {
        "id": "VcviE1dkGc25",
        "colab_type": "code",
        "colab": {
          "base_uri": "https://localhost:8080/",
          "height": 105
        },
        "outputId": "8d208af6-4144-4017-dfaa-d2d5ae65f0a9"
      },
      "source": [
        "knn = KNeighborsClassifier()\n",
        "training_start = time.perf_counter()\n",
        "knn.fit(X_train, y_train)\n",
        "training_end = time.perf_counter()\n",
        "prediction_start = time.perf_counter()\n",
        "preds = knn.predict(X_test)\n",
        "prediction_end = time.perf_counter()\n",
        "acc_knn = (preds == y_test).sum().astype(float) / len(preds)*100\n",
        "knn_train_time = training_end-training_start\n",
        "knn_prediction_time = prediction_end-prediction_start\n",
        "precision_score_knn=precision_score(y_test, preds, average='micro')\n",
        "\n",
        "lb = LabelBinarizer()\n",
        "lb.fit(y_test)\n",
        "y_test1 = lb.transform(y_test)\n",
        "y_pred1= lb.transform(preds)\n",
        "roc_auc_score_knn=roc_auc_score(y_test1, y_pred1, average=\"macro\")\n",
        "print(\"Roc_auc_score for test data: %3.5f \" % (roc_auc_score_knn))\n",
        "print(\"Scikit-Learn's K Nearest Neighbors Classifier's prediction accuracy is: %3.2f\" % (acc_knn))\n",
        "print(\"Time consumed for training: %4.3f seconds\" % (knn_train_time))\n",
        "print(\"Time consumed for prediction: %6.5f seconds\" % (knn_prediction_time))\n",
        "print(\"Precision on test dataset:\", precision_score_knn)"
      ],
      "execution_count": 142,
      "outputs": [
        {
          "output_type": "stream",
          "text": [
            "Roc_auc_score for test data: 0.56123 \n",
            "Scikit-Learn's K Nearest Neighbors Classifier's prediction accuracy is: 29.82\n",
            "Time consumed for training: 0.038 seconds\n",
            "Time consumed for prediction: 0.36968 seconds\n",
            "Precision on test dataset: 0.29820979899497485\n"
          ],
          "name": "stdout"
        }
      ]
    },
    {
      "cell_type": "code",
      "metadata": {
        "id": "W19h8dlfESEv",
        "colab_type": "code",
        "colab": {
          "base_uri": "https://localhost:8080/",
          "height": 105
        },
        "outputId": "4459b184-5836-4eb2-81b9-023bbd516ebb"
      },
      "source": [
        "from sklearn.ensemble import GradientBoostingClassifier\n",
        "gbk = GradientBoostingClassifier()\n",
        "gbk.fit(X_train, y_train)\n",
        "\n",
        "training_start = time.perf_counter()\n",
        "gbk.fit(X_train, y_train)\n",
        "training_end = time.perf_counter()\n",
        "prediction_start = time.perf_counter()\n",
        "preds = gbk.predict(X_test)\n",
        "prediction_end = time.perf_counter()\n",
        "acc_gbk = (preds == y_test).sum().astype(float) / len(preds)*100\n",
        "gbk_train_time = training_end-training_start\n",
        "gbk_prediction_time = prediction_end-prediction_start\n",
        "precision_score_gbk=precision_score(y_test, preds, average='micro')\n",
        "\n",
        "y_pred1= lb.transform(preds)\n",
        "roc_auc_score_gbk=roc_auc_score(y_test1, y_pred1, average=\"macro\")\n",
        "print(\"Roc_auc_score for test data: %3.5f \" % (roc_auc_score_gbk))\n",
        "print(\"Scikit-Learn's GBK Classifier's prediction accuracy is: %3.2f\" % (acc_gbk))\n",
        "print(\"Time consumed for training: %4.3f seconds\" % (gbk_train_time))\n",
        "print(\"Time consumed for prediction: %6.5f seconds\" % (gbk_prediction_time))\n",
        "print(\"Precision on test dataset:\", precision_score_gbk)"
      ],
      "execution_count": 143,
      "outputs": [
        {
          "output_type": "stream",
          "text": [
            "Roc_auc_score for test data: 0.73879 \n",
            "Scikit-Learn's GBK Classifier's prediction accuracy is: 58.17\n",
            "Time consumed for training: 14.547 seconds\n",
            "Time consumed for prediction: 0.11613 seconds\n",
            "Precision on test dataset: 0.5816582914572864\n"
          ],
          "name": "stdout"
        }
      ]
    },
    {
      "cell_type": "code",
      "metadata": {
        "id": "8KQRp_Mj2l3Q",
        "colab_type": "code",
        "colab": {
          "base_uri": "https://localhost:8080/",
          "height": 105
        },
        "outputId": "af507ada-ea19-443b-ab94-7f1bde0efcce"
      },
      "source": [
        "GNB= GaussianNB()\n",
        "training_start = time.perf_counter()\n",
        "GNB.fit(X_train, y_train)\n",
        "training_end = time.perf_counter()\n",
        "prediction_start = time.perf_counter()\n",
        "preds = GNB.predict(X_test)\n",
        "prediction_end = time.perf_counter()\n",
        "acc_gnb = (preds == y_test).sum().astype(float) / len(preds)*100\n",
        "gnb_train_time = training_end-training_start\n",
        "gnb_prediction_time = prediction_end-prediction_start\n",
        "precision_score_gnb=precision_score(y_test, preds, average='micro')\n",
        "y_pred1= lb.transform(preds)\n",
        "roc_auc_score_gnb=roc_auc_score(y_test1, y_pred1, average=\"macro\")\n",
        "print(\"Roc_auc_score for test data: %3.5f \" % (roc_auc_score_gnb))\n",
        "print(\"Naive Bayes Classifier's prediction accuracy is: %3.2f\" % (acc_gnb))\n",
        "print(\"Time consumed for training: %4.3f seconds\" % (gnb_train_time))\n",
        "print(\"Time consumed for prediction: %6.5f seconds\" % (gnb_prediction_time))\n",
        "print(\"Precision on test dataset:\", precision_score_gnb)"
      ],
      "execution_count": 144,
      "outputs": [
        {
          "output_type": "stream",
          "text": [
            "Roc_auc_score for test data: 0.72434 \n",
            "Naive Bayes Classifier's prediction accuracy is: 55.87\n",
            "Time consumed for training: 0.009 seconds\n",
            "Time consumed for prediction: 0.00385 seconds\n",
            "Precision on test dataset: 0.5586526381909548\n"
          ],
          "name": "stdout"
        }
      ]
    },
    {
      "cell_type": "code",
      "metadata": {
        "trusted": true,
        "id": "DOxSbmhO7PKK",
        "colab_type": "code",
        "colab": {
          "base_uri": "https://localhost:8080/",
          "height": 105
        },
        "outputId": "611a75cb-6552-461a-bc04-893afff70dd7"
      },
      "source": [
        "LGBM = LGBMClassifier(\n",
        "        \n",
        "        )\n",
        "#n_estimators=10000,\n",
        "#        learning_rate=0.10,\n",
        "#        num_leaves=30,\n",
        "#        subsample=.9,\n",
        "#        max_depth=7,\n",
        "#        reg_alpha=.1,\n",
        "#        reg_lambda=.1,\n",
        "#        min_split_gain=.01,\n",
        "#        min_child_weight=2,\n",
        "#        silent=-1,\n",
        "#        verbose=-1,\n",
        "training_start = time.perf_counter()\n",
        "LGBM.fit(X_train, y_train)\n",
        "training_end = time.perf_counter()\n",
        "prediction_start = time.perf_counter()\n",
        "preds = LGBM.predict(X_test)\n",
        "prediction_end = time.perf_counter()\n",
        "acc_LGBM = (preds == y_test).sum().astype(float) / len(preds)*100\n",
        "LGBM_train_time = training_end-training_start\n",
        "LGBM_prediction_time = prediction_end-prediction_start\n",
        "precision_score_lgbm=precision_score(y_test, preds, average='micro')\n",
        "\n",
        "y_pred1= lb.transform(preds)\n",
        "roc_auc_score_lgbm=roc_auc_score(y_test1, y_pred1, average=\"macro\")\n",
        "print(\"Roc_auc_score for test data: %3.5f \" % (roc_auc_score_lgbm))\n",
        "print(\"Scikit-Learn's LGBM Classifier's prediction accuracy is: %3.2f\" % (acc_LGBM))\n",
        "print(\"Time consumed for training: %4.3f seconds\" % (LGBM_train_time))\n",
        "print(\"Time consumed for prediction: %6.5f seconds\" % (LGBM_prediction_time))\n",
        "print(\"Precision on test dataset:\", precision_score_lgbm)\n"
      ],
      "execution_count": 145,
      "outputs": [
        {
          "output_type": "stream",
          "text": [
            "Roc_auc_score for test data: 0.74077 \n",
            "Scikit-Learn's LGBM Classifier's prediction accuracy is: 58.48\n",
            "Time consumed for training: 1.568 seconds\n",
            "Time consumed for prediction: 0.01847 seconds\n",
            "Precision on test dataset: 0.5847989949748744\n"
          ],
          "name": "stdout"
        }
      ]
    },
    {
      "cell_type": "code",
      "metadata": {
        "id": "MUOfB2EACOCe",
        "colab_type": "code",
        "colab": {
          "base_uri": "https://localhost:8080/",
          "height": 577
        },
        "outputId": "f3c61161-4fd6-43f9-8b6e-80a0e8c14ec3"
      },
      "source": [
        "# Feature Importance Plot using LGBM\n",
        "plt.rcParams['figure.figsize'] = [12, 9]\n",
        "sns.set(style = 'whitegrid', font_scale = 1.2)\n",
        "plot_importance(LGBM);"
      ],
      "execution_count": 146,
      "outputs": [
        {
          "output_type": "display_data",
          "data": {
            "image/png": "[encoded data removed]",
            "text/plain": [
              "<Figure size 864x648 with 1 Axes>"
            ]
          },
          "metadata": {
            "tags": []
          }
        }
      ]
    },
    {
      "cell_type": "code",
      "metadata": {
        "id": "zBnE0C03HDbf",
        "colab_type": "code",
        "colab": {
          "base_uri": "https://localhost:8080/",
          "height": 247
        },
        "outputId": "a7d28877-59ec-49ed-b7b9-ffc84dcf1817"
      },
      "source": [
        "from sklearn.linear_model import LogisticRegression\n",
        "\n",
        "LR = LogisticRegression()\n",
        "training_start = time.perf_counter()\n",
        "LR.fit(X_train, y_train)\n",
        "training_end = time.perf_counter()\n",
        "prediction_start = time.perf_counter()\n",
        "preds = LR.predict(X_test)\n",
        "prediction_end = time.perf_counter()\n",
        "acc_LR = (preds == y_test).sum().astype(float) / len(preds)*100\n",
        "LR_train_time = training_end-training_start\n",
        "LR_prediction_time = prediction_end-prediction_start\n",
        "precision_score_LR=precision_score(y_test, preds, average='micro')\n",
        "\n",
        "y_pred1= lb.transform(preds)\n",
        "roc_auc_score_LR=roc_auc_score(y_test1, y_pred1, average=\"macro\")\n",
        "print(\"Roc_auc_score for test data: %3.5f \" % (roc_auc_score_LR))\n",
        "print(\"Scikit-Learn's LR Classifier's prediction accuracy is: %3.2f\" % (acc_LR))\n",
        "print(\"Time consumed for training: %4.3f seconds\" % (LR_train_time))\n",
        "print(\"Time consumed for prediction: %6.5f seconds\" % (LR_prediction_time))\n",
        "print(\"Precision on test dataset:\", precision_score_LR)\n"
      ],
      "execution_count": 147,
      "outputs": [
        {
          "output_type": "stream",
          "text": [
            "Roc_auc_score for test data: 0.60207 \n",
            "Scikit-Learn's LR Classifier's prediction accuracy is: 36.33\n",
            "Time consumed for training: 2.343 seconds\n",
            "Time consumed for prediction: 0.00395 seconds\n",
            "Precision on test dataset: 0.3633008793969849\n"
          ],
          "name": "stdout"
        },
        {
          "output_type": "stream",
          "text": [
            "/usr/local/lib/python3.6/dist-packages/sklearn/linear_model/_logistic.py:940: ConvergenceWarning: lbfgs failed to converge (status=1):\n",
            "STOP: TOTAL NO. of ITERATIONS REACHED LIMIT.\n",
            "\n",
            "Increase the number of iterations (max_iter) or scale the data as shown in:\n",
            "    https://scikit-learn.org/stable/modules/preprocessing.html\n",
            "Please also refer to the documentation for alternative solver options:\n",
            "    https://scikit-learn.org/stable/modules/linear_model.html#logistic-regression\n",
            "  extra_warning_msg=_LOGISTIC_SOLVER_CONVERGENCE_MSG)\n"
          ],
          "name": "stderr"
        }
      ]
    },
    {
      "cell_type": "code",
      "metadata": {
        "id": "oM4vEaDiCAq-",
        "colab_type": "code",
        "colab": {
          "base_uri": "https://localhost:8080/",
          "height": 105
        },
        "outputId": "76b302ce-6fa1-46ca-cc0c-83cac1010743"
      },
      "source": [
        "from sklearn.ensemble import RandomForestClassifier\n",
        "import time\n",
        "\n",
        "rfc = RandomForestClassifier(n_estimators=10)\n",
        "training_start = time.perf_counter()\n",
        "rfc.fit(X_train, y_train)\n",
        "training_end = time.perf_counter()\n",
        "prediction_start = time.perf_counter()\n",
        "preds = rfc.predict(X_test)\n",
        "prediction_end = time.perf_counter()\n",
        "acc_rfc = (preds == y_test).sum().astype(float) / len(preds)*100\n",
        "rfc_train_time = training_end-training_start\n",
        "rfc_prediction_time = prediction_end-prediction_start\n",
        "precision_score_rfc=precision_score(y_test, preds, average='micro')\n",
        "\n",
        "y_pred1= lb.transform(preds)\n",
        "roc_auc_score_rfc=roc_auc_score(y_test1, y_pred1, average=\"macro\")\n",
        "print(\"Roc_auc_score for test data: %3.5f \" % (roc_auc_score_rfc))\n",
        "print(\"Scikit-Learn's Random Forest Classifier's prediction accuracy is: %3.2f\" % (acc_rfc))\n",
        "print(\"Time consumed for training: %4.3f seconds\" % (rfc_train_time))\n",
        "print(\"Time consumed for prediction: %6.5f seconds\" % (rfc_prediction_time))\n",
        "print(\"Precision on test dataset:\", precision_score_rfc)"
      ],
      "execution_count": 148,
      "outputs": [
        {
          "output_type": "stream",
          "text": [
            "Roc_auc_score for test data: 0.68036 \n",
            "Scikit-Learn's Random Forest Classifier's prediction accuracy is: 48.86\n",
            "Time consumed for training: 0.402 seconds\n",
            "Time consumed for prediction: 0.04012 seconds\n",
            "Precision on test dataset: 0.4886149497487437\n"
          ],
          "name": "stdout"
        }
      ]
    },
    {
      "cell_type": "code",
      "metadata": {
        "id": "lQfT18hbHX4a",
        "colab_type": "code",
        "colab": {
          "base_uri": "https://localhost:8080/",
          "height": 257
        },
        "outputId": "630cf45a-8561-4919-858a-b853e26602f7"
      },
      "source": [
        "#After running all classifier models individually, we compare them all together for best performance\n",
        "results = pd.DataFrame({\n",
        "    'Model': ['KNN', 'GNB', 'LGBM', 'gbk', 'LR', 'Random Forest'],\n",
        "    'Roc_auc_score': [roc_auc_score_knn, roc_auc_score_gnb, roc_auc_score_lgbm, roc_auc_score_gbk, roc_auc_score_LR, roc_auc_score_rfc],\n",
        "    'Accuracy': [acc_knn, acc_gnb, acc_LGBM, acc_gbk, acc_LR, acc_rfc],\n",
        "    'Precision': [precision_score_knn, precision_score_gnb, precision_score_lgbm, precision_score_gbk, precision_score_LR, precision_score_rfc],\n",
        "    'Runtime Training': [knn_train_time, gnb_train_time, LGBM_train_time, gbk_train_time, \n",
        "                         LR_train_time, rfc_train_time],\n",
        "    'Runtime Prediction': [knn_prediction_time, gnb_prediction_time, LGBM_prediction_time, gbk_prediction_time,\n",
        "                          LR_prediction_time, rfc_prediction_time]})\n",
        "result_df = results.sort_values(by='Roc_auc_score', ascending=False)\n",
        "result_df = result_df.set_index('Model')\n",
        "result_df"
      ],
      "execution_count": 149,
      "outputs": [
        {
          "output_type": "execute_result",
          "data": {
            "text/html": [
              "<div>\n",
              "<style scoped>\n",
              "    .dataframe tbody tr th:only-of-type {\n",
              "        vertical-align: middle;\n",
              "    }\n",
              "\n",
              "    .dataframe tbody tr th {\n",
              "        vertical-align: top;\n",
              "    }\n",
              "\n",
              "    .dataframe thead th {\n",
              "        text-align: right;\n",
              "    }\n",
              "</style>\n",
              "<table border=\"1\" class=\"dataframe\">\n",
              "  <thead>\n",
              "    <tr style=\"text-align: right;\">\n",
              "      <th></th>\n",
              "      <th>Roc_auc_score</th>\n",
              "      <th>Accuracy</th>\n",
              "      <th>Precision</th>\n",
              "      <th>Runtime Training</th>\n",
              "      <th>Runtime Prediction</th>\n",
              "    </tr>\n",
              "    <tr>\n",
              "      <th>Model</th>\n",
              "      <th></th>\n",
              "      <th></th>\n",
              "      <th></th>\n",
              "      <th></th>\n",
              "      <th></th>\n",
              "    </tr>\n",
              "  </thead>\n",
              "  <tbody>\n",
              "    <tr>\n",
              "      <th>LGBM</th>\n",
              "      <td>0.740768</td>\n",
              "      <td>58.479899</td>\n",
              "      <td>0.584799</td>\n",
              "      <td>1.567977</td>\n",
              "      <td>0.018465</td>\n",
              "    </tr>\n",
              "    <tr>\n",
              "      <th>gbk</th>\n",
              "      <td>0.738794</td>\n",
              "      <td>58.165829</td>\n",
              "      <td>0.581658</td>\n",
              "      <td>14.547339</td>\n",
              "      <td>0.116130</td>\n",
              "    </tr>\n",
              "    <tr>\n",
              "      <th>GNB</th>\n",
              "      <td>0.724339</td>\n",
              "      <td>55.865264</td>\n",
              "      <td>0.558653</td>\n",
              "      <td>0.008719</td>\n",
              "      <td>0.003849</td>\n",
              "    </tr>\n",
              "    <tr>\n",
              "      <th>Random Forest</th>\n",
              "      <td>0.680364</td>\n",
              "      <td>48.861495</td>\n",
              "      <td>0.488615</td>\n",
              "      <td>0.402269</td>\n",
              "      <td>0.040122</td>\n",
              "    </tr>\n",
              "    <tr>\n",
              "      <th>LR</th>\n",
              "      <td>0.602069</td>\n",
              "      <td>36.330088</td>\n",
              "      <td>0.363301</td>\n",
              "      <td>2.343220</td>\n",
              "      <td>0.003945</td>\n",
              "    </tr>\n",
              "    <tr>\n",
              "      <th>KNN</th>\n",
              "      <td>0.561231</td>\n",
              "      <td>29.820980</td>\n",
              "      <td>0.298210</td>\n",
              "      <td>0.038130</td>\n",
              "      <td>0.369680</td>\n",
              "    </tr>\n",
              "  </tbody>\n",
              "</table>\n",
              "</div>"
            ],
            "text/plain": [
              "               Roc_auc_score   Accuracy  ...  Runtime Training  Runtime Prediction\n",
              "Model                                    ...                                      \n",
              "LGBM                0.740768  58.479899  ...          1.567977            0.018465\n",
              "gbk                 0.738794  58.165829  ...         14.547339            0.116130\n",
              "GNB                 0.724339  55.865264  ...          0.008719            0.003849\n",
              "Random Forest       0.680364  48.861495  ...          0.402269            0.040122\n",
              "LR                  0.602069  36.330088  ...          2.343220            0.003945\n",
              "KNN                 0.561231  29.820980  ...          0.038130            0.369680\n",
              "\n",
              "[6 rows x 5 columns]"
            ]
          },
          "metadata": {
            "tags": []
          },
          "execution_count": 149
        }
      ]
    },
    {
      "cell_type": "code",
      "metadata": {
        "id": "kxZBCX53FFAr",
        "colab_type": "code",
        "colab": {
          "base_uri": "https://localhost:8080/",
          "height": 54
        },
        "outputId": "b583f826-4722-4d2b-e8f7-f406e524dd47"
      },
      "source": [
        "from sklearn.model_selection import cross_validate\n",
        "gbk_cv = GradientBoostingClassifier(n_estimators=10)\n",
        "scoring = {'acc': 'accuracy',\n",
        "           'prec_macro': 'precision_macro',\n",
        "           'rec_micro': 'recall_macro'}\n",
        "scores = cross_validate(gbk_cv, X_train, y_train, cv=3, scoring = scoring)\n",
        "print(\"Scores:\", scores)\n",
        "#print(\"Mean:\", scores.mean())\n",
        "#print(\"Standard Deviation:\", scores.std())"
      ],
      "execution_count": 150,
      "outputs": [
        {
          "output_type": "stream",
          "text": [
            "Scores: {'fit_time': array([1.00136304, 0.99489951, 0.9948132 ]), 'score_time': array([0.03024793, 0.02959871, 0.03020024]), 'test_acc': array([0.58025439, 0.57768804, 0.57566885]), 'test_prec_macro': array([0.5998733 , 0.59114781, 0.58991853]), 'test_rec_micro': array([0.5801191 , 0.5774636 , 0.57546933])}\n"
          ],
          "name": "stdout"
        }
      ]
    },
    {
      "cell_type": "code",
      "metadata": {
        "id": "wDOBGC4UHk-D",
        "colab_type": "code",
        "colab": {
          "base_uri": "https://localhost:8080/",
          "height": 227
        },
        "outputId": "be3a9081-8dda-4968-f918-18de342fe49d"
      },
      "source": [
        "importances = pd.DataFrame({\n",
        "    #'Feature': dTreated.drop('Satisfaction', axis=1).columns,\n",
        "    'Feature': features.columns,\n",
        "    'Importance': gbk.feature_importances_\n",
        "})\n",
        "importances = importances.sort_values(by='Importance', ascending=True)\n",
        "importances = importances.set_index('Feature')\n",
        "importances"
      ],
      "execution_count": 151,
      "outputs": [
        {
          "output_type": "execute_result",
          "data": {
            "text/html": [
              "<div>\n",
              "<style scoped>\n",
              "    .dataframe tbody tr th:only-of-type {\n",
              "        vertical-align: middle;\n",
              "    }\n",
              "\n",
              "    .dataframe tbody tr th {\n",
              "        vertical-align: top;\n",
              "    }\n",
              "\n",
              "    .dataframe thead th {\n",
              "        text-align: right;\n",
              "    }\n",
              "</style>\n",
              "<table border=\"1\" class=\"dataframe\">\n",
              "  <thead>\n",
              "    <tr style=\"text-align: right;\">\n",
              "      <th></th>\n",
              "      <th>Importance</th>\n",
              "    </tr>\n",
              "    <tr>\n",
              "      <th>Feature</th>\n",
              "      <th></th>\n",
              "    </tr>\n",
              "  </thead>\n",
              "  <tbody>\n",
              "    <tr>\n",
              "      <th>lstm_score</th>\n",
              "      <td>0.001082</td>\n",
              "    </tr>\n",
              "    <tr>\n",
              "      <th>count_letters</th>\n",
              "      <td>0.030894</td>\n",
              "    </tr>\n",
              "    <tr>\n",
              "      <th>condition</th>\n",
              "      <td>0.044320</td>\n",
              "    </tr>\n",
              "    <tr>\n",
              "      <th>easeofuse</th>\n",
              "      <td>0.096808</td>\n",
              "    </tr>\n",
              "    <tr>\n",
              "      <th>effectiveness</th>\n",
              "      <td>0.826896</td>\n",
              "    </tr>\n",
              "  </tbody>\n",
              "</table>\n",
              "</div>"
            ],
            "text/plain": [
              "               Importance\n",
              "Feature                  \n",
              "lstm_score       0.001082\n",
              "count_letters    0.030894\n",
              "condition        0.044320\n",
              "easeofuse        0.096808\n",
              "effectiveness    0.826896"
            ]
          },
          "metadata": {
            "tags": []
          },
          "execution_count": 151
        }
      ]
    },
    {
      "cell_type": "code",
      "metadata": {
        "id": "sp6Bxto5Hmu5",
        "colab_type": "code",
        "colab": {
          "base_uri": "https://localhost:8080/",
          "height": 654
        },
        "outputId": "e1f20848-d6d6-416d-e066-647a7c1fb010"
      },
      "source": [
        "importances.plot.bar()"
      ],
      "execution_count": 152,
      "outputs": [
        {
          "output_type": "execute_result",
          "data": {
            "text/plain": [
              "<matplotlib.axes._subplots.AxesSubplot at 0x7fce53305630>"
            ]
          },
          "metadata": {
            "tags": []
          },
          "execution_count": 152
        },
        {
          "output_type": "display_data",
          "data": {
            "image/png": "[encoded data removed]",
            "text/plain": [
              "<Figure size 864x648 with 1 Axes>"
            ]
          },
          "metadata": {
            "tags": []
          }
        }
      ]
    },
    {
      "cell_type": "markdown",
      "metadata": {
        "id": "1hf14QBnSJDS",
        "colab_type": "text"
      },
      "source": [
        "# Hyperparameter Tuning"
      ]
    },
    {
      "cell_type": "code",
      "metadata": {
        "id": "4wwUyzQQSAz1",
        "colab_type": "code",
        "colab": {
          "base_uri": "https://localhost:8080/",
          "height": 443
        },
        "outputId": "ef85a962-617f-4759-cfa9-fbf0107038dc"
      },
      "source": [
        "from pprint import pprint\n",
        "# Look at parameters used by our current forest\n",
        "print('Parameters currently in use:\\n')\n",
        "pprint(gbk.get_params())"
      ],
      "execution_count": 153,
      "outputs": [
        {
          "output_type": "stream",
          "text": [
            "Parameters currently in use:\n",
            "\n",
            "{'ccp_alpha': 0.0,\n",
            " 'criterion': 'friedman_mse',\n",
            " 'init': None,\n",
            " 'learning_rate': 0.1,\n",
            " 'loss': 'deviance',\n",
            " 'max_depth': 3,\n",
            " 'max_features': None,\n",
            " 'max_leaf_nodes': None,\n",
            " 'min_impurity_decrease': 0.0,\n",
            " 'min_impurity_split': None,\n",
            " 'min_samples_leaf': 1,\n",
            " 'min_samples_split': 2,\n",
            " 'min_weight_fraction_leaf': 0.0,\n",
            " 'n_estimators': 100,\n",
            " 'n_iter_no_change': None,\n",
            " 'presort': 'deprecated',\n",
            " 'random_state': None,\n",
            " 'subsample': 1.0,\n",
            " 'tol': 0.0001,\n",
            " 'validation_fraction': 0.1,\n",
            " 'verbose': 0,\n",
            " 'warm_start': False}\n"
          ],
          "name": "stdout"
        }
      ]
    },
    {
      "cell_type": "code",
      "metadata": {
        "id": "Ec2UzuTuSAnT",
        "colab_type": "code",
        "colab": {
          "base_uri": "https://localhost:8080/",
          "height": 105
        },
        "outputId": "29bdbb1f-9de4-4314-a34a-d6b646d774b8"
      },
      "source": [
        "from sklearn.model_selection import RandomizedSearchCV\n",
        "# Number of trees in GradientBoostingClassifier()\n",
        "n_estimators = [int(x) for x in np.linspace(start = 100, stop = 500, num = 5)]\n",
        "# Number of features to consider at every split\n",
        "#max_features = ['None', 'sqrt']\n",
        "# Maximum number of levels in tree\n",
        "max_depth = [int(x) for x in np.linspace(1, 19, num = 10)]\n",
        "max_depth.append(None)\n",
        "# Minimum number of samples required to split a node\n",
        "min_samples_split = [2, 5, 10]\n",
        "# Minimum number of samples required at each leaf node\n",
        "min_samples_leaf = [1, 2, 4]\n",
        "# Method of selecting samples for training each tree\n",
        "learning_rate = [0.001, 0.01, 0.1, 0.2]\n",
        "# Create the random grid\n",
        "random_grid = {'n_estimators': n_estimators,\n",
        "               \n",
        "               'max_depth': max_depth,\n",
        "               'min_samples_split': min_samples_split,\n",
        "               'min_samples_leaf': min_samples_leaf,\n",
        "               'learning_rate': learning_rate}\n",
        "pprint(random_grid)"
      ],
      "execution_count": 154,
      "outputs": [
        {
          "output_type": "stream",
          "text": [
            "{'learning_rate': [0.001, 0.01, 0.1, 0.2],\n",
            " 'max_depth': [1, 3, 5, 7, 9, 11, 13, 15, 17, 19, None],\n",
            " 'min_samples_leaf': [1, 2, 4],\n",
            " 'min_samples_split': [2, 5, 10],\n",
            " 'n_estimators': [100, 200, 300, 400, 500]}\n"
          ],
          "name": "stdout"
        }
      ]
    },
    {
      "cell_type": "code",
      "metadata": {
        "id": "Xk0NBv0lScLE",
        "colab_type": "code",
        "colab": {
          "base_uri": "https://localhost:8080/",
          "height": 585
        },
        "outputId": "e0521a77-9110-4732-951a-3685f4f92f05"
      },
      "source": [
        "# Use the random grid to search for best hyperparameters\n",
        "\n",
        "# Random search of parameters, using 3 fold cross validation, \n",
        "# search across 10 different combinations, and use all available cores\n",
        "gbk_random = RandomizedSearchCV(estimator = gbk, param_distributions = random_grid, n_iter = 1, cv = 3, verbose=2, random_state=42, n_jobs = -1)\n",
        "# Fit the random search model\n",
        "gbk_random.fit(X_train, y_train)"
      ],
      "execution_count": 155,
      "outputs": [
        {
          "output_type": "stream",
          "text": [
            "Fitting 3 folds for each of 1 candidates, totalling 3 fits\n"
          ],
          "name": "stdout"
        },
        {
          "output_type": "stream",
          "text": [
            "[Parallel(n_jobs=-1)]: Using backend LokyBackend with 40 concurrent workers.\n",
            "[Parallel(n_jobs=-1)]: Done   3 out of   3 | elapsed:   39.2s finished\n"
          ],
          "name": "stderr"
        },
        {
          "output_type": "execute_result",
          "data": {
            "text/plain": [
              "RandomizedSearchCV(cv=3, error_score=nan,\n",
              "                   estimator=GradientBoostingClassifier(ccp_alpha=0.0,\n",
              "                                                        criterion='friedman_mse',\n",
              "                                                        init=None,\n",
              "                                                        learning_rate=0.1,\n",
              "                                                        loss='deviance',\n",
              "                                                        max_depth=3,\n",
              "                                                        max_features=None,\n",
              "                                                        max_leaf_nodes=None,\n",
              "                                                        min_impurity_decrease=0.0,\n",
              "                                                        min_impurity_split=None,\n",
              "                                                        min_samples_leaf=1,\n",
              "                                                        min_samples_split=2,\n",
              "                                                        min_weight_fraction_leaf=0.0,\n",
              "                                                        n_estimators=100,\n",
              "                                                        n_ite...\n",
              "                                                        verbose=0,\n",
              "                                                        warm_start=False),\n",
              "                   iid='deprecated', n_iter=1, n_jobs=-1,\n",
              "                   param_distributions={'learning_rate': [0.001, 0.01, 0.1,\n",
              "                                                          0.2],\n",
              "                                        'max_depth': [1, 3, 5, 7, 9, 11, 13, 15,\n",
              "                                                      17, 19, None],\n",
              "                                        'min_samples_leaf': [1, 2, 4],\n",
              "                                        'min_samples_split': [2, 5, 10],\n",
              "                                        'n_estimators': [100, 200, 300, 400,\n",
              "                                                         500]},\n",
              "                   pre_dispatch='2*n_jobs', random_state=42, refit=True,\n",
              "                   return_train_score=False, scoring=None, verbose=2)"
            ]
          },
          "metadata": {
            "tags": []
          },
          "execution_count": 155
        }
      ]
    },
    {
      "cell_type": "code",
      "metadata": {
        "id": "9T-JGgqLScAY",
        "colab_type": "code",
        "colab": {
          "base_uri": "https://localhost:8080/",
          "height": 123
        },
        "outputId": "eb0f7039-a185-474e-f77d-eadfd6b30a01"
      },
      "source": [
        "# Best parameter values, with best score of accuracy using Hyperparameter tuning\n",
        "gbk_random.best_params_,gbk_random.best_score_"
      ],
      "execution_count": 156,
      "outputs": [
        {
          "output_type": "execute_result",
          "data": {
            "text/plain": [
              "({'learning_rate': 0.1,\n",
              "  'max_depth': 7,\n",
              "  'min_samples_leaf': 1,\n",
              "  'min_samples_split': 2,\n",
              "  'n_estimators': 200},\n",
              " 0.5502087585613364)"
            ]
          },
          "metadata": {
            "tags": []
          },
          "execution_count": 156
        }
      ]
    },
    {
      "cell_type": "code",
      "metadata": {
        "id": "mP6HTwrgSb3k",
        "colab_type": "code",
        "colab": {
          "base_uri": "https://localhost:8080/",
          "height": 34
        },
        "outputId": "4937c131-0ef3-40b4-b859-b106b2ab3790"
      },
      "source": [
        "#implementing hyperopt tuning with set parameter values\n",
        "GBoost = GradientBoostingClassifier(max_depth=3, min_samples_leaf=1, min_samples_split=2, n_estimators=400, learning_rate=0.07)\n",
        "#max_depth=3, min_samples_leaf=1, min_samples_split=2, n_estimators=400, learning_rate=0.07\n",
        "\n",
        "GBoost.fit(X_train, y_train)\n",
        "preds = GBoost.predict(X_test)\n",
        "\n",
        "accuracy = (preds == y_test).sum().astype(float) / len(preds)*100\n",
        "\n",
        "print(\"Gradient Boost's prediction accuracy WITH optimal hyperparameters is: %3.2f\" % (accuracy))"
      ],
      "execution_count": 157,
      "outputs": [
        {
          "output_type": "stream",
          "text": [
            "Gradient Boost's prediction accuracy WITH optimal hyperparameters is: 58.26\n"
          ],
          "name": "stdout"
        }
      ]
    },
    {
      "cell_type": "code",
      "metadata": {
        "id": "3hUXuyqgSbu6",
        "colab_type": "code",
        "colab": {
          "base_uri": "https://localhost:8080/",
          "height": 54
        },
        "outputId": "3e1f2455-d60a-4781-f373-82e2606eb1d7"
      },
      "source": [
        "scores = cross_validate(GBoost, X_train, y_train, cv=3, scoring = scoring)\n",
        "print(\"Scores:\", scores)"
      ],
      "execution_count": 158,
      "outputs": [
        {
          "output_type": "stream",
          "text": [
            "Scores: {'fit_time': array([39.67041993, 39.83368683, 39.32980704]), 'score_time': array([0.28179169, 0.28071523, 0.29255915]), 'test_acc': array([0.57793257, 0.5800101 , 0.58081777]), 'test_prec_macro': array([0.58238809, 0.58592562, 0.5853025 ]), 'test_rec_micro': array([0.57773897, 0.57975956, 0.58060689])}\n"
          ],
          "name": "stdout"
        }
      ]
    },
    {
      "cell_type": "code",
      "metadata": {
        "id": "DOHjU4Qp38f7",
        "colab_type": "code",
        "colab": {
          "base_uri": "https://localhost:8080/",
          "height": 105
        },
        "outputId": "74ca5aa2-2328-479b-bfbc-bbaac047af5e"
      },
      "source": [
        "confusion_matrix(preds, y_test)"
      ],
      "execution_count": 159,
      "outputs": [
        {
          "output_type": "execute_result",
          "data": {
            "text/plain": [
              "array([[1650,  256,   77,   16,    7],\n",
              "       [ 474, 1008,  383,  130,   42],\n",
              "       [ 186,  693, 1069,  244,   43],\n",
              "       [ 136,  393,  711, 1624,  364],\n",
              "       [ 134,  185,  329,  513, 2069]])"
            ]
          },
          "metadata": {
            "tags": []
          },
          "execution_count": 159
        }
      ]
    },
    {
      "cell_type": "code",
      "metadata": {
        "id": "8opz7nYG5d-l",
        "colab_type": "code",
        "colab": {
          "base_uri": "https://localhost:8080/",
          "height": 70
        },
        "outputId": "632b7f51-60ab-4cce-b6b0-76a15a26530a"
      },
      "source": [
        "from sklearn.metrics import recall_score, f1_score\n",
        "print(\"Precision on test dataset:\", precision_score(y_test, preds, average='micro'))\n",
        "print(\"Recall on test dataset:\",recall_score(y_test, preds, average='micro'))\n",
        "print(\"F1-Score on test dataset:\", f1_score(y_test, preds, average='micro'))"
      ],
      "execution_count": 160,
      "outputs": [
        {
          "output_type": "stream",
          "text": [
            "Precision on test dataset: 0.5826005025125628\n",
            "Recall on test dataset: 0.5826005025125628\n",
            "F1-Score on test dataset: 0.5826005025125628\n"
          ],
          "name": "stdout"
        }
      ]
    },
    {
      "cell_type": "code",
      "metadata": {
        "id": "hf4-jOLr5vq3",
        "colab_type": "code",
        "colab": {
          "base_uri": "https://localhost:8080/",
          "height": 283
        },
        "outputId": "037555c9-a04f-4b6b-86f1-c4857be8ce0e"
      },
      "source": [
        "# Classification report\n",
        "import sklearn.metrics as metrics\n",
        "print('\\t\\t\\t\\tCLASSIFICATIION METRICS \\n \\t\\t\\tfor test dataset\\n')\n",
        "print(metrics.classification_report(y_test, preds))"
      ],
      "execution_count": 161,
      "outputs": [
        {
          "output_type": "stream",
          "text": [
            "\t\t\t\tCLASSIFICATIION METRICS \n",
            " \t\t\tfor test dataset\n",
            "\n",
            "              precision    recall  f1-score   support\n",
            "\n",
            "         1.0       0.82      0.64      0.72      2580\n",
            "         2.0       0.49      0.40      0.44      2535\n",
            "         3.0       0.48      0.42      0.45      2569\n",
            "         4.0       0.50      0.64      0.56      2527\n",
            "         5.0       0.64      0.82      0.72      2525\n",
            "\n",
            "    accuracy                           0.58     12736\n",
            "   macro avg       0.59      0.58      0.58     12736\n",
            "weighted avg       0.59      0.58      0.58     12736\n",
            "\n"
          ],
          "name": "stdout"
        }
      ]
    },
    {
      "cell_type": "code",
      "metadata": {
        "id": "WxDbFuqKJArH",
        "colab_type": "code",
        "colab": {
          "base_uri": "https://localhost:8080/",
          "height": 34
        },
        "outputId": "b0f2bc8e-a0ad-46f7-cc73-ceadf975830b"
      },
      "source": [
        "y_pred1= lb.transform(preds)\n",
        "# roc_auc_score for test data\n",
        "roc_auc_score(y_test1, y_pred1, average=\"macro\")"
      ],
      "execution_count": 162,
      "outputs": [
        {
          "output_type": "execute_result",
          "data": {
            "text/plain": [
              "0.7393920880920113"
            ]
          },
          "metadata": {
            "tags": []
          },
          "execution_count": 162
        }
      ]
    },
    {
      "cell_type": "code",
      "metadata": {
        "id": "OncL2coYJGdv",
        "colab_type": "code",
        "colab": {}
      },
      "source": [
        "from itertools import cycle\n",
        "from sklearn.metrics import roc_curve, auc\n",
        "from sklearn.preprocessing import label_binarize\n",
        "from scipy import interp\n",
        "\n",
        "statis=target\n",
        "y = label_binarize(statis, classes=[0, 1, 2, 3, 4])\n",
        "n_classes = y.shape[1]\n",
        "\n",
        "# Compute ROC curve and ROC area for each class\n",
        "fpr = dict()\n",
        "tpr = dict()\n",
        "roc_auc = dict()\n",
        "for i in range(n_classes):\n",
        "    fpr[i], tpr[i], _ = roc_curve(y_test1[:, i], y_pred1[:, i])\n",
        "    roc_auc[i] = auc(fpr[i], tpr[i])\n",
        "\n",
        "# Compute micro-average ROC curve and ROC area\n",
        "fpr[\"micro\"], tpr[\"micro\"], _ = roc_curve(y_test1.ravel(), y_pred1.ravel())\n",
        "roc_auc[\"micro\"] = auc(fpr[\"micro\"], tpr[\"micro\"])"
      ],
      "execution_count": 163,
      "outputs": []
    },
    {
      "cell_type": "code",
      "metadata": {
        "id": "sUMmYjxVJUpO",
        "colab_type": "code",
        "colab": {
          "base_uri": "https://localhost:8080/",
          "height": 577
        },
        "outputId": "cdba998d-0d97-43d9-e645-677722dfa11a"
      },
      "source": [
        "plt.figure()\n",
        "lw = 2\n",
        "plt.plot(fpr[2], tpr[2], color='darkorange',\n",
        "         lw=lw, label='ROC curve (area = %0.2f)' % roc_auc[2])\n",
        "plt.plot([0, 1], [0, 1], color='navy', lw=lw, linestyle='--')\n",
        "plt.xlim([0.0, 1.0])\n",
        "plt.ylim([0.0, 1.05])\n",
        "plt.xlabel('False Positive Rate')\n",
        "plt.ylabel('True Positive Rate')\n",
        "plt.title('Receiver operating characteristic example')\n",
        "plt.legend(loc=\"lower right\")\n",
        "plt.show()"
      ],
      "execution_count": 164,
      "outputs": [
        {
          "output_type": "display_data",
          "data": {
            "image/png": "[encoded data removed]",
            "text/plain": [
              "<Figure size 864x648 with 1 Axes>"
            ]
          },
          "metadata": {
            "tags": []
          }
        }
      ]
    },
    {
      "cell_type": "code",
      "metadata": {
        "id": "91PPdZxqJcGO",
        "colab_type": "code",
        "colab": {
          "base_uri": "https://localhost:8080/",
          "height": 633
        },
        "outputId": "5ec26f68-6c1e-4e70-b986-f90ce5afad37"
      },
      "source": [
        "from scipy import interp\n",
        "from itertools import cycle\n",
        "\n",
        "# First aggregate all false positive rates\n",
        "all_fpr = np.unique(np.concatenate([fpr[i] for i in range(n_classes)]))\n",
        "\n",
        "# Then interpolate all ROC curves at this points\n",
        "mean_tpr = np.zeros_like(all_fpr)\n",
        "for i in range(n_classes):\n",
        "    mean_tpr += interp(all_fpr, fpr[i], tpr[i])\n",
        "\n",
        "# Finally average it and compute AUC\n",
        "mean_tpr /= n_classes\n",
        "\n",
        "fpr[\"macro\"] = all_fpr\n",
        "tpr[\"macro\"] = mean_tpr\n",
        "roc_auc[\"macro\"] = auc(fpr[\"macro\"], tpr[\"macro\"])\n",
        "\n",
        "# Plot all ROC curves\n",
        "plt.figure()\n",
        "plt.plot(fpr[\"micro\"], tpr[\"micro\"],\n",
        "         label='micro-average ROC curve (area = {0:0.2f})'\n",
        "               ''.format(roc_auc[\"micro\"]),\n",
        "         color='deeppink', linestyle=':', linewidth=4)\n",
        "\n",
        "plt.plot(fpr[\"macro\"], tpr[\"macro\"],\n",
        "         label='macro-average ROC curve (area = {0:0.2f})'\n",
        "               ''.format(roc_auc[\"macro\"]),\n",
        "         color='navy', linestyle=':', linewidth=4)\n",
        "\n",
        "colors = cycle(['aqua', 'darkorange', 'cornflowerblue'])\n",
        "for i, color in zip(range(n_classes), colors):\n",
        "    plt.plot(fpr[i], tpr[i], color=color, lw=lw,\n",
        "             label='ROC curve of class {0} (area = {1:0.2f})'\n",
        "             ''.format(i, roc_auc[i]))\n",
        "\n",
        "plt.plot([0, 1], [0, 1], 'k--', lw=lw)\n",
        "plt.xlim([0.0, 1.0])\n",
        "plt.ylim([0.0, 1.0])\n",
        "plt.xlabel('False Positive Rate')\n",
        "plt.ylabel('True Positive Rate')\n",
        "plt.title('Some extension of Receiver operating characteristic to multi-class on test data')\n",
        "plt.legend(loc=\"lower right\")\n",
        "plt.show()"
      ],
      "execution_count": 165,
      "outputs": [
        {
          "output_type": "stream",
          "text": [
            "/usr/local/lib/python3.6/dist-packages/ipykernel_launcher.py:10: DeprecationWarning: scipy.interp is deprecated and will be removed in SciPy 2.0.0, use numpy.interp instead\n",
            "  # Remove the CWD from sys.path while we load stuff.\n"
          ],
          "name": "stderr"
        },
        {
          "output_type": "display_data",
          "data": {
            "image/png": "[encoded data removed]",
            "text/plain": [
              "<Figure size 864x648 with 1 Axes>"
            ]
          },
          "metadata": {
            "tags": []
          }
        }
      ]
    },
    {
      "cell_type": "code",
      "metadata": {
        "id": "BCoYUYTeY50r",
        "colab_type": "code",
        "colab": {}
      },
      "source": [
        ""
      ],
      "execution_count": 165,
      "outputs": []
    }
  ]
}