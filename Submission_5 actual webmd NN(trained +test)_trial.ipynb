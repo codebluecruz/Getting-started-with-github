{
  "nbformat": 4,
  "nbformat_minor": 0,
  "metadata": {
    "colab": {
      "name": "predicted_lstm_trial.ipynb",
      "provenance": [],
      "collapsed_sections": [],
      "machine_shape": "hm",
      "include_colab_link": true
    },
    "kernelspec": {
      "name": "python3",
      "display_name": "Python 3"
    },
    "accelerator": "TPU"
  },
  "cells": [
    {
      "cell_type": "markdown",
      "metadata": {
        "id": "view-in-github",
        "colab_type": "text"
      },
      "source": [
        "<a href=\"https://colab.research.google.com/github/codebluecruz/Getting-started-with-github/blob/master/Submission_5%20actual%20webmd%20NN(trained%20%2Btest)_trial.ipynb\" target=\"_parent\"><img src=\"https://colab.research.google.com/assets/colab-badge.svg\" alt=\"Open In Colab\"/></a>"
      ]
    },
    {
      "cell_type": "markdown",
      "metadata": {
        "_uuid": "dd4d87a956090846d694ee5cb73e9d4581fa24f6",
        "id": "1TCeMoZ_7PIv",
        "colab_type": "text"
      },
      "source": [
        "# Exploratory Data Analysis w/ Python\n",
        "\n",
        "This kernel comprise exploratory data analysis on the provided data, including: \n",
        "- Data loading\n",
        "- Data cleaning \n",
        "- Descriptive Analysis\n",
        "- Cleansing Op. on Reviews Column\n",
        "- Sentiment Analysis\n",
        "- Implementing Neural Network Model\n",
        "- Evaluating Results(Accuracy, F1-Score, Roc_auc score, ROC_AUC Cruve)\n",
        "\n"
      ]
    },
    {
      "cell_type": "code",
      "metadata": {
        "trusted": true,
        "_uuid": "8c3b51399825e356312a7849da35ecc580227f55",
        "id": "4fXWe39B7PIx",
        "colab_type": "code",
        "colab": {
          "base_uri": "https://localhost:8080/",
          "height": 107
        },
        "outputId": "adba7b0f-5f7f-4b18-ce91-a020a841a94a"
      },
      "source": [
        "# Importing major libraries which will be used for our model\n",
        "import pandas as pd\n",
        "import matplotlib.pyplot as plt\n",
        "from scipy import stats\n",
        "import numpy as np\n",
        "import re\n",
        "import seaborn as sns\n",
        "import string\n",
        "import html\n",
        "from sklearn.preprocessing import normalize, MinMaxScaler\n",
        "from scipy.stats import spearmanr, pearsonr\n",
        "\n",
        "# NLTK for Text based analysis\n",
        "import nltk\n",
        "from nltk.corpus import stopwords\n",
        "from nltk.stem import SnowballStemmer\n",
        "import nltk\n",
        "nltk.download('stopwords')\n",
        "\n",
        "import warnings\n",
        "warnings.filterwarnings(\"ignore\", category=UserWarning, module='bs4')\n",
        "plt.style.use('ggplot')"
      ],
      "execution_count": null,
      "outputs": [
        {
          "output_type": "stream",
          "text": [
            "/usr/local/lib/python3.6/dist-packages/statsmodels/tools/_testing.py:19: FutureWarning: pandas.util.testing is deprecated. Use the functions in the public API at pandas.testing instead.\n",
            "  import pandas.util.testing as tm\n"
          ],
          "name": "stderr"
        },
        {
          "output_type": "stream",
          "text": [
            "[nltk_data] Downloading package stopwords to /root/nltk_data...\n",
            "[nltk_data]   Unzipping corpora/stopwords.zip.\n"
          ],
          "name": "stdout"
        }
      ]
    },
    {
      "cell_type": "code",
      "metadata": {
        "id": "JNA-8waoDxUq",
        "colab_type": "code",
        "colab": {
          "base_uri": "https://localhost:8080/",
          "height": 125
        },
        "outputId": "f6f1f920-2023-4136-914d-51076283cd8a"
      },
      "source": [
        "# Environment used for codefile is Google Collaboratory, Here we're mounting our google drive as all our data is saved on drive itself,\n",
        "# saves us upload time.\n",
        "from google.colab import drive\n",
        "drive.mount('/content/drive')"
      ],
      "execution_count": null,
      "outputs": [
        {
          "output_type": "stream",
          "text": [
            "Go to this URL in a browser: https://accounts.google.com/o/oauth2/auth?client_id=947318989803-6bn6qk8qdgf4n4g3pfee6491hc0brc4i.apps.googleusercontent.com&redirect_uri=urn%3aietf%3awg%3aoauth%3a2.0%3aoob&response_type=code&scope=email%20https%3a%2f%2fwww.googleapis.com%2fauth%2fdocs.test%20https%3a%2f%2fwww.googleapis.com%2fauth%2fdrive%20https%3a%2f%2fwww.googleapis.com%2fauth%2fdrive.photos.readonly%20https%3a%2f%2fwww.googleapis.com%2fauth%2fpeopleapi.readonly\n",
            "\n",
            "Enter your authorization code:\n",
            "··········\n",
            "Mounted at /content/drive\n"
          ],
          "name": "stdout"
        }
      ]
    },
    {
      "cell_type": "markdown",
      "metadata": {
        "_uuid": "9211934c152e8b40da08ba819800775662979593",
        "id": "DPR5Rjae7PI1",
        "colab_type": "text"
      },
      "source": [
        "## Data Loading \n",
        "\n",
        "Since we're using Google Colab, we'll directly upload our data file from Google Drive."
      ]
    },
    {
      "cell_type": "code",
      "metadata": {
        "_kg_hide-input": false,
        "trusted": true,
        "_uuid": "8678481568c9b1bdd42da356206c2561cd521119",
        "id": "VFDWZdts7PI2",
        "colab_type": "code",
        "colab": {
          "base_uri": "https://localhost:8080/",
          "height": 72
        },
        "outputId": "f57e7e80-69e9-4bd8-d6d0-c411c179a1a7"
      },
      "source": [
        "# Reading data \n",
        "drugs = pd.read_csv('/content/drive/My Drive/newset_webmd.csv', skiprows=0)\n",
        "totrainnlp = pd.read_csv('/content/drive/My Drive/totrainnlp.csv', skiprows=0)"
      ],
      "execution_count": null,
      "outputs": [
        {
          "output_type": "stream",
          "text": [
            "/usr/local/lib/python3.6/dist-packages/IPython/core/interactiveshell.py:2718: DtypeWarning: Columns (0,1,2,3,7,9,10) have mixed types.Specify dtype option on import or set low_memory=False.\n",
            "  interactivity=interactivity, compiler=compiler, result=result)\n"
          ],
          "name": "stderr"
        }
      ]
    },
    {
      "cell_type": "markdown",
      "metadata": {
        "id": "iUT5LDrBuPxa",
        "colab_type": "text"
      },
      "source": [
        "## Data Cleansing\n",
        "Before we perform any operations on our dataset, we need to be very sure of How clean our data is, or else it will not show us actual results."
      ]
    },
    {
      "cell_type": "code",
      "metadata": {
        "trusted": true,
        "_uuid": "a722edbd3dbf642d1d437517f259510a039e00d3",
        "id": "nK0kAzIL7PI6",
        "colab_type": "code",
        "colab": {}
      },
      "source": [
        "# droping any NaN rows from our dataset, , ,\n",
        "drugs = drugs.dropna(how = 'any', axis = 0)\n",
        "# changing all column names to LowerCase for uniformity\n",
        "drugs.columns = drugs.columns.str.lower()\n",
        "drugs.reset_index(drop = True, inplace = True)\n",
        "drugs['condition'].isnull().sum(axis = 0)\n",
        "#dropping unnecessary columns\n",
        "# removing Data columns(Date, Sex, Sides(Side effects)) which doesnt seem to be of much use\n",
        "drugs.drop(['date', 'sex', 'sides','age'], axis=1, inplace=True)\n",
        "# Also we're removing all duplicate reviews which appear in our dataset, as every individual must have given unique reviews to all drugs.\n",
        "drugs = drugs.drop_duplicates(subset=['reviews'], keep='first')"
      ],
      "execution_count": null,
      "outputs": []
    },
    {
      "cell_type": "code",
      "metadata": {
        "id": "jzWFy-uLCuYj",
        "colab_type": "code",
        "colab": {}
      },
      "source": [
        "# droping any NaN rows from our dataset, changing all string values to LowerCase, removing Date column as it doesnt seem to be of much use.\n",
        "totrainnlp = totrainnlp.dropna(how = 'any', axis = 0)\n",
        "totrainnlp.columns = totrainnlp.columns.str.lower()\n",
        "totrainnlp.reset_index(drop = True, inplace = True)\n",
        "totrainnlp['condition'].isnull().sum(axis = 0)\n",
        "#dropping unnecessary columns\n",
        "totrainnlp.drop(['date', 'sex', 'sides', 'condition', 'effectiveness', 'easeofuse', 'usefulcount', 'drug', 'drugid', 'age'], axis=1, inplace=True)\n",
        "totrainnlp = totrainnlp.drop_duplicates(subset=['reviews'], keep='first')"
      ],
      "execution_count": null,
      "outputs": []
    },
    {
      "cell_type": "code",
      "metadata": {
        "id": "-pX1tJHiC1zQ",
        "colab_type": "code",
        "colab": {
          "base_uri": "https://localhost:8080/",
          "height": 77
        },
        "outputId": "a07c832b-7a66-4c94-e81c-40646410f38c"
      },
      "source": [
        "totrainnlp.head(1)"
      ],
      "execution_count": null,
      "outputs": [
        {
          "output_type": "execute_result",
          "data": {
            "text/html": [
              "<div>\n",
              "<style scoped>\n",
              "    .dataframe tbody tr th:only-of-type {\n",
              "        vertical-align: middle;\n",
              "    }\n",
              "\n",
              "    .dataframe tbody tr th {\n",
              "        vertical-align: top;\n",
              "    }\n",
              "\n",
              "    .dataframe thead th {\n",
              "        text-align: right;\n",
              "    }\n",
              "</style>\n",
              "<table border=\"1\" class=\"dataframe\">\n",
              "  <thead>\n",
              "    <tr style=\"text-align: right;\">\n",
              "      <th></th>\n",
              "      <th>reviews</th>\n",
              "      <th>satisfaction</th>\n",
              "    </tr>\n",
              "  </thead>\n",
              "  <tbody>\n",
              "    <tr>\n",
              "      <th>0</th>\n",
              "      <td>I've been on prozac, zoloft and celexa over th...</td>\n",
              "      <td>5</td>\n",
              "    </tr>\n",
              "  </tbody>\n",
              "</table>\n",
              "</div>"
            ],
            "text/plain": [
              "                                             reviews  satisfaction\n",
              "0  I've been on prozac, zoloft and celexa over th...             5"
            ]
          },
          "metadata": {
            "tags": []
          },
          "execution_count": 7
        }
      ]
    },
    {
      "cell_type": "markdown",
      "metadata": {
        "id": "qJkSFk7Uump6",
        "colab_type": "text"
      },
      "source": [
        "### Resampling Dataset\n",
        "Here we have performed Data resampling, reason being we have 5 different classes for our dataset, and being a multi class problem it's better if we either Undersample or Oversample(SMOTE) our dataset, so to provide equal number of instances for each class.\n",
        "\n",
        "**We have performed Undersampling here, reason being dataset remains more closes to original values as it cuts down to the total number of instances present in dataset for any class**\n",
        "\n",
        "In counter1: It projects number of instances for each class, minimum being 8494 and maximum being 27616\n",
        "In counter 2: We can see the result of undersamlping our dataset. With equal instances of 8494 for each class."
      ]
    },
    {
      "cell_type": "code",
      "metadata": {
        "id": "di30muySyigE",
        "colab_type": "code",
        "colab": {
          "base_uri": "https://localhost:8080/",
          "height": 178
        },
        "outputId": "63ce2d49-bc7c-4cb2-c328-f7801d847336"
      },
      "source": [
        "# example of random undersampling to balance the class distribution\n",
        "from collections import Counter\n",
        "from sklearn.datasets import make_classification\n",
        "from imblearn.under_sampling import RandomUnderSampler\n",
        "# summarize class distribution in original dataset\n",
        "print(Counter(drugs['satisfaction']))\n",
        "# define undersample strategy, \"all\" metric suggests all classes will be undersampled to the least number of instances for any class.\n",
        "undersample = RandomUnderSampler(sampling_strategy='all')\n",
        "# fit and apply the transform\n",
        "X_over, y_over = undersample.fit_resample(drugs.drop(['satisfaction'], axis=1), drugs['satisfaction'])\n",
        "# summarize class distribution, we can check the result after Undersamlping.\n",
        "print(Counter(y_over))"
      ],
      "execution_count": null,
      "outputs": [
        {
          "output_type": "stream",
          "text": [
            "/usr/local/lib/python3.6/dist-packages/sklearn/externals/six.py:31: FutureWarning: The module is deprecated in version 0.21 and will be removed in version 0.23 since we've dropped support for Python 2.7. Please rely on the official version of six (https://pypi.org/project/six/).\n",
            "  \"(https://pypi.org/project/six/).\", FutureWarning)\n",
            "/usr/local/lib/python3.6/dist-packages/sklearn/utils/deprecation.py:144: FutureWarning: The sklearn.neighbors.base module is  deprecated in version 0.22 and will be removed in version 0.24. The corresponding classes / functions should instead be imported from sklearn.neighbors. Anything that cannot be imported from sklearn.neighbors is now part of the private API.\n",
            "  warnings.warn(message, FutureWarning)\n"
          ],
          "name": "stderr"
        },
        {
          "output_type": "stream",
          "text": [
            "Counter({1.0: 27616, 5.0: 27277, 4.0: 14026, 3.0: 11424, 2.0: 8494})\n",
            "Counter({1.0: 8494, 2.0: 8494, 3.0: 8494, 4.0: 8494, 5.0: 8494})\n"
          ],
          "name": "stdout"
        },
        {
          "output_type": "stream",
          "text": [
            "/usr/local/lib/python3.6/dist-packages/sklearn/utils/deprecation.py:87: FutureWarning: Function safe_indexing is deprecated; safe_indexing is deprecated in version 0.22 and will be removed in version 0.24.\n",
            "  warnings.warn(msg, category=FutureWarning)\n"
          ],
          "name": "stderr"
        }
      ]
    },
    {
      "cell_type": "code",
      "metadata": {
        "id": "zMy5QDfWzwYI",
        "colab_type": "code",
        "colab": {}
      },
      "source": [
        "# Undersamlping was performed with Separately keeping in mind about our features(X_over) and targets(y_over).\n",
        "drugs=pd.DataFrame(X_over)\n",
        "drugs1=pd.DataFrame(y_over)"
      ],
      "execution_count": null,
      "outputs": []
    },
    {
      "cell_type": "code",
      "metadata": {
        "id": "rmq2QdMc1Zst",
        "colab_type": "code",
        "colab": {
          "base_uri": "https://localhost:8080/",
          "height": 77
        },
        "outputId": "92f43f36-a2c2-44af-8219-8b9b1390710b"
      },
      "source": [
        "# After we perform Undersampling, system replaces the original column names with Index values, hence we're renaming our columns back to the Original names.\n",
        "drugs1.rename(columns={0:'satisfaction'}, inplace = True)\n",
        "drugs1.head(1)"
      ],
      "execution_count": null,
      "outputs": [
        {
          "output_type": "execute_result",
          "data": {
            "text/html": [
              "<div>\n",
              "<style scoped>\n",
              "    .dataframe tbody tr th:only-of-type {\n",
              "        vertical-align: middle;\n",
              "    }\n",
              "\n",
              "    .dataframe tbody tr th {\n",
              "        vertical-align: top;\n",
              "    }\n",
              "\n",
              "    .dataframe thead th {\n",
              "        text-align: right;\n",
              "    }\n",
              "</style>\n",
              "<table border=\"1\" class=\"dataframe\">\n",
              "  <thead>\n",
              "    <tr style=\"text-align: right;\">\n",
              "      <th></th>\n",
              "      <th>satisfaction</th>\n",
              "    </tr>\n",
              "  </thead>\n",
              "  <tbody>\n",
              "    <tr>\n",
              "      <th>0</th>\n",
              "      <td>1.0</td>\n",
              "    </tr>\n",
              "  </tbody>\n",
              "</table>\n",
              "</div>"
            ],
            "text/plain": [
              "   satisfaction\n",
              "0           1.0"
            ]
          },
          "metadata": {
            "tags": []
          },
          "execution_count": 10
        }
      ]
    },
    {
      "cell_type": "code",
      "metadata": {
        "id": "C41_wBsBz5DK",
        "colab_type": "code",
        "colab": {
          "base_uri": "https://localhost:8080/",
          "height": 197
        },
        "outputId": "b22e9f70-f0af-48fc-fd94-0793b76c5e2b"
      },
      "source": [
        "drugs.rename(columns = {0:'condition', 1:'drug',2:'drugid',3:'easeofuse',4:'effectiveness',5:'reviews', 6:'usefulcount'}, inplace = True)\n",
        "drugs.head(5)"
      ],
      "execution_count": null,
      "outputs": [
        {
          "output_type": "execute_result",
          "data": {
            "text/html": [
              "<div>\n",
              "<style scoped>\n",
              "    .dataframe tbody tr th:only-of-type {\n",
              "        vertical-align: middle;\n",
              "    }\n",
              "\n",
              "    .dataframe tbody tr th {\n",
              "        vertical-align: top;\n",
              "    }\n",
              "\n",
              "    .dataframe thead th {\n",
              "        text-align: right;\n",
              "    }\n",
              "</style>\n",
              "<table border=\"1\" class=\"dataframe\">\n",
              "  <thead>\n",
              "    <tr style=\"text-align: right;\">\n",
              "      <th></th>\n",
              "      <th>condition</th>\n",
              "      <th>drug</th>\n",
              "      <th>drugid</th>\n",
              "      <th>easeofuse</th>\n",
              "      <th>effectiveness</th>\n",
              "      <th>reviews</th>\n",
              "      <th>usefulcount</th>\n",
              "    </tr>\n",
              "  </thead>\n",
              "  <tbody>\n",
              "    <tr>\n",
              "      <th>0</th>\n",
              "      <td>Allergic Conjunctivitis</td>\n",
              "      <td>pataday drops</td>\n",
              "      <td>147073</td>\n",
              "      <td>3</td>\n",
              "      <td>2</td>\n",
              "      <td>The price of this drug is just out of this wor...</td>\n",
              "      <td>4</td>\n",
              "    </tr>\n",
              "    <tr>\n",
              "      <th>1</th>\n",
              "      <td>Decreased Bone Mass Following Menopause</td>\n",
              "      <td>prolia syringe</td>\n",
              "      <td>154218</td>\n",
              "      <td>4</td>\n",
              "      <td>1</td>\n",
              "      <td>After 2nd injection experienced horrible abd p...</td>\n",
              "      <td>18</td>\n",
              "    </tr>\n",
              "    <tr>\n",
              "      <th>2</th>\n",
              "      <td>Chronic Trouble Sleeping</td>\n",
              "      <td>silenor</td>\n",
              "      <td>154518</td>\n",
              "      <td>2</td>\n",
              "      <td>2</td>\n",
              "      <td>PSA - I was prescribed doxepin for insomnia an...</td>\n",
              "      <td>0</td>\n",
              "    </tr>\n",
              "    <tr>\n",
              "      <th>3</th>\n",
              "      <td>High Blood Pressure</td>\n",
              "      <td>quinapril hcl</td>\n",
              "      <td>6254</td>\n",
              "      <td>4</td>\n",
              "      <td>4</td>\n",
              "      <td>I am not sure if this is causing my head to hu...</td>\n",
              "      <td>2</td>\n",
              "    </tr>\n",
              "    <tr>\n",
              "      <th>4</th>\n",
              "      <td>High Blood Pressure</td>\n",
              "      <td>prinivil</td>\n",
              "      <td>6993</td>\n",
              "      <td>1</td>\n",
              "      <td>1</td>\n",
              "      <td>I am a Asian woman who's very active,playing g...</td>\n",
              "      <td>1</td>\n",
              "    </tr>\n",
              "  </tbody>\n",
              "</table>\n",
              "</div>"
            ],
            "text/plain": [
              "                                 condition  ... usefulcount\n",
              "0                  Allergic Conjunctivitis  ...           4\n",
              "1  Decreased Bone Mass Following Menopause  ...          18\n",
              "2                 Chronic Trouble Sleeping  ...           0\n",
              "3                      High Blood Pressure  ...           2\n",
              "4                      High Blood Pressure  ...           1\n",
              "\n",
              "[5 rows x 7 columns]"
            ]
          },
          "metadata": {
            "tags": []
          },
          "execution_count": 11
        }
      ]
    },
    {
      "cell_type": "code",
      "metadata": {
        "id": "aTPJHSLE1soo",
        "colab_type": "code",
        "colab": {
          "base_uri": "https://localhost:8080/",
          "height": 77
        },
        "outputId": "0402519b-bb6b-48fd-8dea-55b75fc12f06"
      },
      "source": [
        "# We need to concat our features(X_over) and targets(y_over) back in one dataset named Drugs\n",
        "drugs = pd.concat([drugs, drugs1], axis = 1)\n",
        "drugs.shape\n",
        "drugs.head(1)"
      ],
      "execution_count": null,
      "outputs": [
        {
          "output_type": "execute_result",
          "data": {
            "text/html": [
              "<div>\n",
              "<style scoped>\n",
              "    .dataframe tbody tr th:only-of-type {\n",
              "        vertical-align: middle;\n",
              "    }\n",
              "\n",
              "    .dataframe tbody tr th {\n",
              "        vertical-align: top;\n",
              "    }\n",
              "\n",
              "    .dataframe thead th {\n",
              "        text-align: right;\n",
              "    }\n",
              "</style>\n",
              "<table border=\"1\" class=\"dataframe\">\n",
              "  <thead>\n",
              "    <tr style=\"text-align: right;\">\n",
              "      <th></th>\n",
              "      <th>condition</th>\n",
              "      <th>drug</th>\n",
              "      <th>drugid</th>\n",
              "      <th>easeofuse</th>\n",
              "      <th>effectiveness</th>\n",
              "      <th>reviews</th>\n",
              "      <th>usefulcount</th>\n",
              "      <th>satisfaction</th>\n",
              "    </tr>\n",
              "  </thead>\n",
              "  <tbody>\n",
              "    <tr>\n",
              "      <th>0</th>\n",
              "      <td>Allergic Conjunctivitis</td>\n",
              "      <td>pataday drops</td>\n",
              "      <td>147073</td>\n",
              "      <td>3</td>\n",
              "      <td>2</td>\n",
              "      <td>The price of this drug is just out of this wor...</td>\n",
              "      <td>4</td>\n",
              "      <td>1.0</td>\n",
              "    </tr>\n",
              "  </tbody>\n",
              "</table>\n",
              "</div>"
            ],
            "text/plain": [
              "                 condition           drug  ... usefulcount satisfaction\n",
              "0  Allergic Conjunctivitis  pataday drops  ...           4          1.0\n",
              "\n",
              "[1 rows x 8 columns]"
            ]
          },
          "metadata": {
            "tags": []
          },
          "execution_count": 12
        }
      ]
    },
    {
      "cell_type": "code",
      "metadata": {
        "id": "QjDGqGRG5j4d",
        "colab_type": "code",
        "colab": {}
      },
      "source": [
        "# shuffle data to prepare final dataset, coz after resampling our dataset was arranged in \n",
        "# ascending order of Target(y_over) values which is a problem for our Model Performance.\n",
        "drugs=drugs.sample(frac=1)"
      ],
      "execution_count": null,
      "outputs": []
    },
    {
      "cell_type": "markdown",
      "metadata": {
        "_uuid": "78ba9cdda16fc81c70e845bff88e402f9345922c",
        "id": "6BRPIx2R7PJD",
        "colab_type": "text"
      },
      "source": [
        "## Data Glimpse\n",
        "\n",
        "We are willing to check if this dataset have some corrupted data or non present values. \n"
      ]
    },
    {
      "cell_type": "code",
      "metadata": {
        "trusted": true,
        "_uuid": "1958006c6caf1d44ec2a2c26b2fb987a658b123b",
        "id": "lrbF5-GF7PJH",
        "colab_type": "code",
        "colab": {
          "base_uri": "https://localhost:8080/",
          "height": 34
        },
        "outputId": "f01591dd-32a8-4c46-8a50-98b5531561e5"
      },
      "source": [
        "# Let's delete all of these corrupted rows\n",
        "print(\"Number of Corrupted Reviews: \", len(drugs[drugs.condition.str.contains(\" users found this comment helpful.\",na=False)]))\n",
        "drugs = drugs[~drugs.condition.str.contains(\" users found this comment helpful.\",na=False)]"
      ],
      "execution_count": null,
      "outputs": [
        {
          "output_type": "stream",
          "text": [
            "Number of Corrupted Reviews:  0\n"
          ],
          "name": "stdout"
        }
      ]
    },
    {
      "cell_type": "code",
      "metadata": {
        "id": "eJ3YiKOH83gr",
        "colab_type": "code",
        "colab": {}
      },
      "source": [
        "# Converting desired columns in float dType.\n",
        "drugs['easeofuse']=drugs['easeofuse'].astype(float)\n",
        "drugs['effectiveness']=drugs['effectiveness'].astype(float)\n",
        "drugs['usefulcount']=drugs['usefulcount'].astype(float)\n",
        "drugs['drugid']=drugs['drugid'].astype(float)\n",
        "drugs['satisfaction']=drugs['satisfaction'].astype(float)"
      ],
      "execution_count": null,
      "outputs": []
    },
    {
      "cell_type": "code",
      "metadata": {
        "trusted": true,
        "_uuid": "908dba91c19c44a2ca447a29e62ea8ec9a683b46",
        "id": "74F8yLtL7PJL",
        "colab_type": "code",
        "colab": {
          "base_uri": "https://localhost:8080/",
          "height": 287
        },
        "outputId": "b2330dd4-5bc7-4a84-fbbc-f76bc13319ea"
      },
      "source": [
        "drugs.describe()"
      ],
      "execution_count": null,
      "outputs": [
        {
          "output_type": "execute_result",
          "data": {
            "text/html": [
              "<div>\n",
              "<style scoped>\n",
              "    .dataframe tbody tr th:only-of-type {\n",
              "        vertical-align: middle;\n",
              "    }\n",
              "\n",
              "    .dataframe tbody tr th {\n",
              "        vertical-align: top;\n",
              "    }\n",
              "\n",
              "    .dataframe thead th {\n",
              "        text-align: right;\n",
              "    }\n",
              "</style>\n",
              "<table border=\"1\" class=\"dataframe\">\n",
              "  <thead>\n",
              "    <tr style=\"text-align: right;\">\n",
              "      <th></th>\n",
              "      <th>drugid</th>\n",
              "      <th>easeofuse</th>\n",
              "      <th>effectiveness</th>\n",
              "      <th>usefulcount</th>\n",
              "      <th>satisfaction</th>\n",
              "    </tr>\n",
              "  </thead>\n",
              "  <tbody>\n",
              "    <tr>\n",
              "      <th>count</th>\n",
              "      <td>42470.000000</td>\n",
              "      <td>42470.000000</td>\n",
              "      <td>42470.000000</td>\n",
              "      <td>42470.000000</td>\n",
              "      <td>42470.00000</td>\n",
              "    </tr>\n",
              "    <tr>\n",
              "      <th>mean</th>\n",
              "      <td>46337.442147</td>\n",
              "      <td>4.023970</td>\n",
              "      <td>3.542453</td>\n",
              "      <td>6.949329</td>\n",
              "      <td>3.00000</td>\n",
              "    </tr>\n",
              "    <tr>\n",
              "      <th>std</th>\n",
              "      <td>58474.782109</td>\n",
              "      <td>1.255393</td>\n",
              "      <td>1.352363</td>\n",
              "      <td>8.912267</td>\n",
              "      <td>1.41423</td>\n",
              "    </tr>\n",
              "    <tr>\n",
              "      <th>min</th>\n",
              "      <td>1.000000</td>\n",
              "      <td>1.000000</td>\n",
              "      <td>1.000000</td>\n",
              "      <td>0.000000</td>\n",
              "      <td>1.00000</td>\n",
              "    </tr>\n",
              "    <tr>\n",
              "      <th>25%</th>\n",
              "      <td>6007.000000</td>\n",
              "      <td>3.000000</td>\n",
              "      <td>3.000000</td>\n",
              "      <td>1.000000</td>\n",
              "      <td>2.00000</td>\n",
              "    </tr>\n",
              "    <tr>\n",
              "      <th>50%</th>\n",
              "      <td>12403.000000</td>\n",
              "      <td>5.000000</td>\n",
              "      <td>4.000000</td>\n",
              "      <td>4.000000</td>\n",
              "      <td>3.00000</td>\n",
              "    </tr>\n",
              "    <tr>\n",
              "      <th>75%</th>\n",
              "      <td>78126.000000</td>\n",
              "      <td>5.000000</td>\n",
              "      <td>5.000000</td>\n",
              "      <td>9.000000</td>\n",
              "      <td>4.00000</td>\n",
              "    </tr>\n",
              "    <tr>\n",
              "      <th>max</th>\n",
              "      <td>178546.000000</td>\n",
              "      <td>5.000000</td>\n",
              "      <td>5.000000</td>\n",
              "      <td>169.000000</td>\n",
              "      <td>5.00000</td>\n",
              "    </tr>\n",
              "  </tbody>\n",
              "</table>\n",
              "</div>"
            ],
            "text/plain": [
              "              drugid     easeofuse  effectiveness   usefulcount  satisfaction\n",
              "count   42470.000000  42470.000000   42470.000000  42470.000000   42470.00000\n",
              "mean    46337.442147      4.023970       3.542453      6.949329       3.00000\n",
              "std     58474.782109      1.255393       1.352363      8.912267       1.41423\n",
              "min         1.000000      1.000000       1.000000      0.000000       1.00000\n",
              "25%      6007.000000      3.000000       3.000000      1.000000       2.00000\n",
              "50%     12403.000000      5.000000       4.000000      4.000000       3.00000\n",
              "75%     78126.000000      5.000000       5.000000      9.000000       4.00000\n",
              "max    178546.000000      5.000000       5.000000    169.000000       5.00000"
            ]
          },
          "metadata": {
            "tags": []
          },
          "execution_count": 16
        }
      ]
    },
    {
      "cell_type": "code",
      "metadata": {
        "trusted": true,
        "id": "RWA2D03i7PJP",
        "colab_type": "code",
        "colab": {
          "base_uri": "https://localhost:8080/",
          "height": 197
        },
        "outputId": "ca3197bf-ccf4-4081-9c20-775040b54cf1"
      },
      "source": [
        "### Thought flow for Depression Confidence Intervals\n",
        "\"\"\"\n",
        "I want to take the df, filter by condition, drug, confidence interval, sample size cutoff)\n",
        "Then loop through all the drugs for a specific condition and calculate their\n",
        "mean, top limit, and bottom limit. \n",
        "\"\"\"\n",
        "# Create Confidence Interval Function\n",
        "def confidence_interval (data, ci_percent):\n",
        "  data = np.array(data) # Makes sure our data is in a numpy array\n",
        "  mean = np.mean(data)\n",
        "  n = len(data)\n",
        "  stderr = stats.sem(data)\n",
        "  interval = stderr * stats.t.ppf((1 + ci_percent) / 2., n - 1)\n",
        "  return (mean, mean - interval, mean + interval)\n",
        "\n",
        "\n",
        "def condition_compare (drugs, condition_id, ci_percent, sample_size_cutoff):\n",
        "  output_names = [\"Drug Name\", \"Sample Mean\", \"Lower Bound\", \"Upper Bound\", \"Sample Size\"]\n",
        "  drug_compare = []\n",
        "  data = drugs[drugs.condition == condition_id]\n",
        "  for drug in data.drug.unique():\n",
        "    one_drug = data[data.drug == drug].satisfaction\n",
        "    if one_drug.size > sample_size_cutoff:\n",
        "      mean, ilower, iupper= confidence_interval(one_drug, ci_percent)\n",
        "      entry = [drug, mean, ilower, iupper, one_drug.size]\n",
        "      drug_compare.append(entry)\n",
        "  return pd.DataFrame(drug_compare, columns=output_names)\n",
        "\n",
        "# COndition passed on here by us is \"Cough\".\n",
        "drugs2 = condition_compare(drugs, \"Cough\", 0.95, 10).sort_values(by=\"Sample Mean\", ascending=False)\n",
        "drugs2"
      ],
      "execution_count": null,
      "outputs": [
        {
          "output_type": "execute_result",
          "data": {
            "text/html": [
              "<div>\n",
              "<style scoped>\n",
              "    .dataframe tbody tr th:only-of-type {\n",
              "        vertical-align: middle;\n",
              "    }\n",
              "\n",
              "    .dataframe tbody tr th {\n",
              "        vertical-align: top;\n",
              "    }\n",
              "\n",
              "    .dataframe thead th {\n",
              "        text-align: right;\n",
              "    }\n",
              "</style>\n",
              "<table border=\"1\" class=\"dataframe\">\n",
              "  <thead>\n",
              "    <tr style=\"text-align: right;\">\n",
              "      <th></th>\n",
              "      <th>Drug Name</th>\n",
              "      <th>Sample Mean</th>\n",
              "      <th>Lower Bound</th>\n",
              "      <th>Upper Bound</th>\n",
              "      <th>Sample Size</th>\n",
              "    </tr>\n",
              "  </thead>\n",
              "  <tbody>\n",
              "    <tr>\n",
              "      <th>1</th>\n",
              "      <td>tussionex</td>\n",
              "      <td>4.107143</td>\n",
              "      <td>3.693812</td>\n",
              "      <td>4.520474</td>\n",
              "      <td>28</td>\n",
              "    </tr>\n",
              "    <tr>\n",
              "      <th>4</th>\n",
              "      <td>promethazine-codeine</td>\n",
              "      <td>4.000000</td>\n",
              "      <td>3.399116</td>\n",
              "      <td>4.600884</td>\n",
              "      <td>11</td>\n",
              "    </tr>\n",
              "    <tr>\n",
              "      <th>0</th>\n",
              "      <td>tessalon perle</td>\n",
              "      <td>2.974359</td>\n",
              "      <td>2.658610</td>\n",
              "      <td>3.290108</td>\n",
              "      <td>117</td>\n",
              "    </tr>\n",
              "    <tr>\n",
              "      <th>3</th>\n",
              "      <td>virtussin ac</td>\n",
              "      <td>2.769231</td>\n",
              "      <td>1.777690</td>\n",
              "      <td>3.760772</td>\n",
              "      <td>13</td>\n",
              "    </tr>\n",
              "    <tr>\n",
              "      <th>2</th>\n",
              "      <td>promethazine-dm</td>\n",
              "      <td>2.473684</td>\n",
              "      <td>1.680589</td>\n",
              "      <td>3.266780</td>\n",
              "      <td>19</td>\n",
              "    </tr>\n",
              "  </tbody>\n",
              "</table>\n",
              "</div>"
            ],
            "text/plain": [
              "              Drug Name  Sample Mean  Lower Bound  Upper Bound  Sample Size\n",
              "1             tussionex     4.107143     3.693812     4.520474           28\n",
              "4  promethazine-codeine     4.000000     3.399116     4.600884           11\n",
              "0        tessalon perle     2.974359     2.658610     3.290108          117\n",
              "3          virtussin ac     2.769231     1.777690     3.760772           13\n",
              "2       promethazine-dm     2.473684     1.680589     3.266780           19"
            ]
          },
          "metadata": {
            "tags": []
          },
          "execution_count": 17
        }
      ]
    },
    {
      "cell_type": "code",
      "metadata": {
        "id": "YfH81ZoYzS-q",
        "colab_type": "code",
        "colab": {
          "base_uri": "https://localhost:8080/",
          "height": 197
        },
        "outputId": "f969dc27-afba-4163-89f9-2c604989a329"
      },
      "source": [
        "#We have created a column named \"uniqueid\" for every row, to easen up our operations.\n",
        "drugs['uniqueid'] = np.arange(len(drugs))\n",
        "drugs.head()"
      ],
      "execution_count": null,
      "outputs": [
        {
          "output_type": "execute_result",
          "data": {
            "text/html": [
              "<div>\n",
              "<style scoped>\n",
              "    .dataframe tbody tr th:only-of-type {\n",
              "        vertical-align: middle;\n",
              "    }\n",
              "\n",
              "    .dataframe tbody tr th {\n",
              "        vertical-align: top;\n",
              "    }\n",
              "\n",
              "    .dataframe thead th {\n",
              "        text-align: right;\n",
              "    }\n",
              "</style>\n",
              "<table border=\"1\" class=\"dataframe\">\n",
              "  <thead>\n",
              "    <tr style=\"text-align: right;\">\n",
              "      <th></th>\n",
              "      <th>condition</th>\n",
              "      <th>drug</th>\n",
              "      <th>drugid</th>\n",
              "      <th>easeofuse</th>\n",
              "      <th>effectiveness</th>\n",
              "      <th>reviews</th>\n",
              "      <th>usefulcount</th>\n",
              "      <th>satisfaction</th>\n",
              "      <th>uniqueid</th>\n",
              "    </tr>\n",
              "  </thead>\n",
              "  <tbody>\n",
              "    <tr>\n",
              "      <th>37718</th>\n",
              "      <td>Panic Disorder</td>\n",
              "      <td>zoloft</td>\n",
              "      <td>35.0</td>\n",
              "      <td>5.0</td>\n",
              "      <td>5.0</td>\n",
              "      <td>I started having panic attacks 7 years ago and...</td>\n",
              "      <td>5.0</td>\n",
              "      <td>5.0</td>\n",
              "      <td>0</td>\n",
              "    </tr>\n",
              "    <tr>\n",
              "      <th>26664</th>\n",
              "      <td>Other</td>\n",
              "      <td>ritalin</td>\n",
              "      <td>9475.0</td>\n",
              "      <td>5.0</td>\n",
              "      <td>5.0</td>\n",
              "      <td>I have been taking Ritalin 15mg 3 times a day ...</td>\n",
              "      <td>6.0</td>\n",
              "      <td>4.0</td>\n",
              "      <td>1</td>\n",
              "    </tr>\n",
              "    <tr>\n",
              "      <th>13496</th>\n",
              "      <td>Pain</td>\n",
              "      <td>tramadol hcl er</td>\n",
              "      <td>4398.0</td>\n",
              "      <td>5.0</td>\n",
              "      <td>2.0</td>\n",
              "      <td>taking 50mg for pain during periods from endom...</td>\n",
              "      <td>1.0</td>\n",
              "      <td>2.0</td>\n",
              "      <td>2</td>\n",
              "    </tr>\n",
              "    <tr>\n",
              "      <th>32150</th>\n",
              "      <td>High Cholesterol</td>\n",
              "      <td>zocor</td>\n",
              "      <td>6040.0</td>\n",
              "      <td>5.0</td>\n",
              "      <td>4.0</td>\n",
              "      <td>I have been on Zocor for over 2 years and for ...</td>\n",
              "      <td>13.0</td>\n",
              "      <td>4.0</td>\n",
              "      <td>3</td>\n",
              "    </tr>\n",
              "    <tr>\n",
              "      <th>23668</th>\n",
              "      <td>Other</td>\n",
              "      <td>remeron tablet</td>\n",
              "      <td>13707.0</td>\n",
              "      <td>4.0</td>\n",
              "      <td>4.0</td>\n",
              "      <td>Perscribed for anxiety and insomnia. Helped gr...</td>\n",
              "      <td>4.0</td>\n",
              "      <td>3.0</td>\n",
              "      <td>4</td>\n",
              "    </tr>\n",
              "  </tbody>\n",
              "</table>\n",
              "</div>"
            ],
            "text/plain": [
              "              condition             drug  ...  satisfaction  uniqueid\n",
              "37718    Panic Disorder           zoloft  ...           5.0         0\n",
              "26664             Other          ritalin  ...           4.0         1\n",
              "13496              Pain  tramadol hcl er  ...           2.0         2\n",
              "32150  High Cholesterol            zocor  ...           4.0         3\n",
              "23668             Other   remeron tablet  ...           3.0         4\n",
              "\n",
              "[5 rows x 9 columns]"
            ]
          },
          "metadata": {
            "tags": []
          },
          "execution_count": 18
        }
      ]
    },
    {
      "cell_type": "code",
      "metadata": {
        "trusted": true,
        "_uuid": "cafe21fe35819e34426b87275a8a45accb8d0538",
        "id": "iz9v5wjz7PJR",
        "colab_type": "code",
        "colab": {
          "base_uri": "https://localhost:8080/",
          "height": 323
        },
        "outputId": "0082db61-5f5a-4c9f-9d9a-8bef3490e55d"
      },
      "source": [
        "# We will use this groupings later on for Descriptive analysis...\n",
        "\n",
        "print(\"Number of Reviews per Drug\")\n",
        "# Number of reviews per drug\n",
        "reviews_per_drug = drugs.groupby([\"drug\"]).agg({\n",
        "    \"uniqueid\": pd.Series.nunique\n",
        "})\n",
        "reviews_per_drug.describe()\n",
        "\n",
        "\n",
        "print(\"Number of Reviews per Condition\")\n",
        "# Number of reviews per condition\n",
        "reviews_per_condition = drugs.groupby([\"condition\"]).agg({\n",
        "    \"uniqueid\": pd.Series.nunique\n",
        "})\n",
        "\n",
        "reviews_per_condition.describe()"
      ],
      "execution_count": null,
      "outputs": [
        {
          "output_type": "stream",
          "text": [
            "Number of Reviews per Drug\n",
            "Number of Reviews per Condition\n"
          ],
          "name": "stdout"
        },
        {
          "output_type": "execute_result",
          "data": {
            "text/html": [
              "<div>\n",
              "<style scoped>\n",
              "    .dataframe tbody tr th:only-of-type {\n",
              "        vertical-align: middle;\n",
              "    }\n",
              "\n",
              "    .dataframe tbody tr th {\n",
              "        vertical-align: top;\n",
              "    }\n",
              "\n",
              "    .dataframe thead th {\n",
              "        text-align: right;\n",
              "    }\n",
              "</style>\n",
              "<table border=\"1\" class=\"dataframe\">\n",
              "  <thead>\n",
              "    <tr style=\"text-align: right;\">\n",
              "      <th></th>\n",
              "      <th>uniqueid</th>\n",
              "    </tr>\n",
              "  </thead>\n",
              "  <tbody>\n",
              "    <tr>\n",
              "      <th>count</th>\n",
              "      <td>944.000000</td>\n",
              "    </tr>\n",
              "    <tr>\n",
              "      <th>mean</th>\n",
              "      <td>44.989407</td>\n",
              "    </tr>\n",
              "    <tr>\n",
              "      <th>std</th>\n",
              "      <td>255.626753</td>\n",
              "    </tr>\n",
              "    <tr>\n",
              "      <th>min</th>\n",
              "      <td>1.000000</td>\n",
              "    </tr>\n",
              "    <tr>\n",
              "      <th>25%</th>\n",
              "      <td>2.000000</td>\n",
              "    </tr>\n",
              "    <tr>\n",
              "      <th>50%</th>\n",
              "      <td>4.500000</td>\n",
              "    </tr>\n",
              "    <tr>\n",
              "      <th>75%</th>\n",
              "      <td>18.000000</td>\n",
              "    </tr>\n",
              "    <tr>\n",
              "      <th>max</th>\n",
              "      <td>6021.000000</td>\n",
              "    </tr>\n",
              "  </tbody>\n",
              "</table>\n",
              "</div>"
            ],
            "text/plain": [
              "          uniqueid\n",
              "count   944.000000\n",
              "mean     44.989407\n",
              "std     255.626753\n",
              "min       1.000000\n",
              "25%       2.000000\n",
              "50%       4.500000\n",
              "75%      18.000000\n",
              "max    6021.000000"
            ]
          },
          "metadata": {
            "tags": []
          },
          "execution_count": 19
        }
      ]
    },
    {
      "cell_type": "code",
      "metadata": {
        "trusted": true,
        "id": "NJ1ZQlw07PJY",
        "colab_type": "code",
        "colab": {
          "base_uri": "https://localhost:8080/",
          "height": 197
        },
        "outputId": "b9521e4d-d3e4-4198-ff94-db921420724d"
      },
      "source": [
        "# Conerting all reviews in our dataset, to lower case. for uniformity.\n",
        "drugs['reviews'] = drugs['reviews'].str.lower()\n",
        "drugs.head(5)"
      ],
      "execution_count": null,
      "outputs": [
        {
          "output_type": "execute_result",
          "data": {
            "text/html": [
              "<div>\n",
              "<style scoped>\n",
              "    .dataframe tbody tr th:only-of-type {\n",
              "        vertical-align: middle;\n",
              "    }\n",
              "\n",
              "    .dataframe tbody tr th {\n",
              "        vertical-align: top;\n",
              "    }\n",
              "\n",
              "    .dataframe thead th {\n",
              "        text-align: right;\n",
              "    }\n",
              "</style>\n",
              "<table border=\"1\" class=\"dataframe\">\n",
              "  <thead>\n",
              "    <tr style=\"text-align: right;\">\n",
              "      <th></th>\n",
              "      <th>condition</th>\n",
              "      <th>drug</th>\n",
              "      <th>drugid</th>\n",
              "      <th>easeofuse</th>\n",
              "      <th>effectiveness</th>\n",
              "      <th>reviews</th>\n",
              "      <th>usefulcount</th>\n",
              "      <th>satisfaction</th>\n",
              "      <th>uniqueid</th>\n",
              "    </tr>\n",
              "  </thead>\n",
              "  <tbody>\n",
              "    <tr>\n",
              "      <th>37718</th>\n",
              "      <td>Panic Disorder</td>\n",
              "      <td>zoloft</td>\n",
              "      <td>35.0</td>\n",
              "      <td>5.0</td>\n",
              "      <td>5.0</td>\n",
              "      <td>i started having panic attacks 7 years ago and...</td>\n",
              "      <td>5.0</td>\n",
              "      <td>5.0</td>\n",
              "      <td>0</td>\n",
              "    </tr>\n",
              "    <tr>\n",
              "      <th>26664</th>\n",
              "      <td>Other</td>\n",
              "      <td>ritalin</td>\n",
              "      <td>9475.0</td>\n",
              "      <td>5.0</td>\n",
              "      <td>5.0</td>\n",
              "      <td>i have been taking ritalin 15mg 3 times a day ...</td>\n",
              "      <td>6.0</td>\n",
              "      <td>4.0</td>\n",
              "      <td>1</td>\n",
              "    </tr>\n",
              "    <tr>\n",
              "      <th>13496</th>\n",
              "      <td>Pain</td>\n",
              "      <td>tramadol hcl er</td>\n",
              "      <td>4398.0</td>\n",
              "      <td>5.0</td>\n",
              "      <td>2.0</td>\n",
              "      <td>taking 50mg for pain during periods from endom...</td>\n",
              "      <td>1.0</td>\n",
              "      <td>2.0</td>\n",
              "      <td>2</td>\n",
              "    </tr>\n",
              "    <tr>\n",
              "      <th>32150</th>\n",
              "      <td>High Cholesterol</td>\n",
              "      <td>zocor</td>\n",
              "      <td>6040.0</td>\n",
              "      <td>5.0</td>\n",
              "      <td>4.0</td>\n",
              "      <td>i have been on zocor for over 2 years and for ...</td>\n",
              "      <td>13.0</td>\n",
              "      <td>4.0</td>\n",
              "      <td>3</td>\n",
              "    </tr>\n",
              "    <tr>\n",
              "      <th>23668</th>\n",
              "      <td>Other</td>\n",
              "      <td>remeron tablet</td>\n",
              "      <td>13707.0</td>\n",
              "      <td>4.0</td>\n",
              "      <td>4.0</td>\n",
              "      <td>perscribed for anxiety and insomnia. helped gr...</td>\n",
              "      <td>4.0</td>\n",
              "      <td>3.0</td>\n",
              "      <td>4</td>\n",
              "    </tr>\n",
              "  </tbody>\n",
              "</table>\n",
              "</div>"
            ],
            "text/plain": [
              "              condition             drug  ...  satisfaction  uniqueid\n",
              "37718    Panic Disorder           zoloft  ...           5.0         0\n",
              "26664             Other          ritalin  ...           4.0         1\n",
              "13496              Pain  tramadol hcl er  ...           2.0         2\n",
              "32150  High Cholesterol            zocor  ...           4.0         3\n",
              "23668             Other   remeron tablet  ...           3.0         4\n",
              "\n",
              "[5 rows x 9 columns]"
            ]
          },
          "metadata": {
            "tags": []
          },
          "execution_count": 20
        }
      ]
    },
    {
      "cell_type": "markdown",
      "metadata": {
        "_uuid": "1bd4479c3cf50ef94ede37c534c614d63f281d09",
        "id": "mpPlGfl97PJb",
        "colab_type": "text"
      },
      "source": [
        "## Descriptive Analysis\n"
      ]
    },
    {
      "cell_type": "markdown",
      "metadata": {
        "_uuid": "21f27039787d989de7c88dd89b85ea1987018625",
        "id": "XZUrxpOI7PJc",
        "colab_type": "text"
      },
      "source": [
        "### Top 10 Reviewed Drugs"
      ]
    },
    {
      "cell_type": "code",
      "metadata": {
        "trusted": true,
        "_uuid": "f16ea5b368c49b31858d6eeafb59e76f6eaa0ef6",
        "id": "gYDXmEh97PJc",
        "colab_type": "code",
        "colab": {
          "base_uri": "https://localhost:8080/",
          "height": 514
        },
        "outputId": "8db494e7-91f9-4ec4-ab86-d3f62e5a6798"
      },
      "source": [
        "# Top 10 most reviewed drug names\n",
        "plot = drugs.drug.value_counts().nlargest(10).plot(kind='bar', title=\"Top 10 reviewed drugs\", figsize=(12,6))"
      ],
      "execution_count": null,
      "outputs": [
        {
          "output_type": "display_data",
          "data": {
            "image/png": "[encoded data removed]",
            "text/plain": [
              "<Figure size 864x432 with 1 Axes>"
            ]
          },
          "metadata": {
            "tags": []
          }
        }
      ]
    },
    {
      "cell_type": "markdown",
      "metadata": {
        "_uuid": "99e11383a879a953948824850dd53c3213b26da6",
        "id": "u8iBWtrj7PJf",
        "colab_type": "text"
      },
      "source": [
        "### Top 10 conditions undergoing by drug reviewers"
      ]
    },
    {
      "cell_type": "code",
      "metadata": {
        "trusted": true,
        "_uuid": "bff251a70cf485ee3cef2c5b778bea947f0d5a96",
        "id": "b2Wdswkx7PJg",
        "colab_type": "code",
        "colab": {
          "base_uri": "https://localhost:8080/",
          "height": 603
        },
        "outputId": "b745d229-3310-49f8-ece6-220be464e4a0"
      },
      "source": [
        "# Top 10 most suffered condition by reviewers\n",
        "plot = drugs.condition.value_counts().nlargest(10).plot(kind='bar', title=\"Top 10 conditions in reviews\", figsize=(12,6))"
      ],
      "execution_count": null,
      "outputs": [
        {
          "output_type": "display_data",
          "data": {
            "image/png": "[encoded data removed]",
            "text/plain": [
              "<Figure size 864x432 with 1 Axes>"
            ]
          },
          "metadata": {
            "tags": []
          }
        }
      ]
    },
    {
      "cell_type": "markdown",
      "metadata": {
        "_uuid": "7e96f07fca2e6310085893f128d95a2a53a4f184",
        "id": "TmBO_Q687PJi",
        "colab_type": "text"
      },
      "source": [
        "### Top 10 drugs with best and worst rating\n",
        "\n",
        "When doing this analysis for all the drugs, there is a factor which affect the results: **the number of reviews of a drug**. I.e. if we want to compute the drug with best rating, the drug which in **only 1 review** was given a 10 rating would be in TOP 1. For this reason, we only consider drugs with a significant number of reviews. **A significant number of reviews is when the number of reviews for a drug is above the 75% of the number of reviews distribution per drug.**\n"
      ]
    },
    {
      "cell_type": "code",
      "metadata": {
        "trusted": true,
        "_uuid": "81b8bbe61ea3e8dcfb54d6eb89362c94a352e4bb",
        "id": "FFXcIGsw7PJj",
        "colab_type": "code",
        "colab": {
          "base_uri": "https://localhost:8080/",
          "height": 992
        },
        "outputId": "102e5654-ef06-4269-f178-0fca330fb3cd"
      },
      "source": [
        "drugs_rating = drugs.groupby('drug').agg({\n",
        "    'satisfaction': np.mean,\n",
        "    'uniqueid': pd.Series.nunique\n",
        "})\n",
        "\n",
        "print(\"Significant number of reviews: More than\", reviews_per_drug.quantile(q=0.75).values[0], \"reviews\")\n",
        "\n",
        "# We only use the drugs which number of reviews is higher than a threshold\n",
        "drugs_rating = drugs_rating[drugs_rating['uniqueid'] > int(reviews_per_drug.quantile(q=0.75))]\n",
        "\n",
        "# Top 10\n",
        "top_drugs_rating = drugs_rating.nlargest(10, 'satisfaction')\n",
        "plot = top_drugs_rating.plot(y='satisfaction', kind='bar', figsize = (16, 3))\n",
        "dummy = plt.title(\"Top 10 'significant' drugs with best rating\") # Assigned to variable to prevent output\n",
        "dummy = plt.ylim(4, 5) # Assigned to variable to prevent output\n",
        "\n",
        "# Bottom 10\n",
        "bottom_drugs_rating = drugs_rating.nsmallest(10, 'satisfaction')\n",
        "plot = bottom_drugs_rating.plot(y='satisfaction', kind='bar', figsize = (16, 3))\n",
        "dummy = plt.title(\"Top 10 'significant' drugs with worst rating\") # Assigned to variable to prevent output\n",
        "dummy = plt.ylim(1, 3) # Assigned to variable to prevent output"
      ],
      "execution_count": null,
      "outputs": [
        {
          "output_type": "stream",
          "text": [
            "Significant number of reviews: More than 15.0 reviews\n"
          ],
          "name": "stdout"
        },
        {
          "output_type": "display_data",
          "data": {
            "image/png": "[encoded data removed]",
            "text/plain": [
              "<Figure size 1152x216 with 1 Axes>"
            ]
          },
          "metadata": {
            "tags": []
          }
        },
        {
          "output_type": "display_data",
          "data": {
            "image/png": "[encoded data removed]",
            "text/plain": [
              "<Figure size 1152x216 with 1 Axes>"
            ]
          },
          "metadata": {
            "tags": []
          }
        }
      ]
    },
    {
      "cell_type": "markdown",
      "metadata": {
        "_uuid": "d6d058a52a8a2e7b297679d2b5f5f8a351d1dffb",
        "id": "59vpYdmP7PJm",
        "colab_type": "text"
      },
      "source": [
        "### Analyzing Pairs (Drug, Condition) with best and worst ratings\n",
        "\n",
        "We theorize that the rating of a drug, is strongly related to the condition that the person who reviewed was suffering. We are going to compute the top 10 best and worst rating of reviews for (Drug, condition) pairs."
      ]
    },
    {
      "cell_type": "code",
      "metadata": {
        "trusted": true,
        "_uuid": "bdd2896065bcba7fe0f3acc83eba37fc1c53c545",
        "id": "Fj2G98887PJm",
        "colab_type": "code",
        "colab": {
          "base_uri": "https://localhost:8080/",
          "height": 1000
        },
        "outputId": "40b71389-b439-4f0a-89ac-12643e1b8cbc"
      },
      "source": [
        "drugs_condition_rating = drugs.groupby(['drug', 'condition']).agg({\n",
        "    'satisfaction': np.mean,\n",
        "    'uniqueid': pd.Series.nunique\n",
        "})\n",
        "\n",
        "print(\"Number of pairs (Drug, Condition):\", len(drugs_condition_rating))\n",
        "\n",
        "print(\"Significant number of reviews: More than\", drugs_condition_rating['uniqueid'].quantile(q=0.75), \"reviews\")\n",
        "\n",
        "drugs_condition_rating = drugs_condition_rating[drugs_condition_rating['uniqueid'] > int(drugs_condition_rating['uniqueid'].quantile(q=0.75))]\n",
        "# drugs_condition_rating.sort_values('rating', ascending=False)\n",
        "top_drugs_condition_rating = drugs_condition_rating.nlargest(10, 'satisfaction')\n",
        "plot = top_drugs_condition_rating.plot(y='satisfaction', kind='bar', figsize = (16, 3))\n",
        "dummy = plt.title(\"Top 10 (Drug - Condition) with best rating\") # Assigned to variable to prevent output\n",
        "dummy = plt.ylim(4, 5) # Assigned to variable to prevent output\n",
        "\n",
        "bottom_drugs_condition_rating = drugs_condition_rating.nsmallest(10, 'satisfaction')\n",
        "plot = bottom_drugs_condition_rating.plot(y='satisfaction', kind='bar', figsize = (16, 3))\n",
        "dummy = plt.title(\"Top 10 (Drug - Condition) with worst rating\") # Assigned to variable to prevent output\n",
        "dummy = plt.ylim(1, 3) # Assigned to variable to prevent output"
      ],
      "execution_count": null,
      "outputs": [
        {
          "output_type": "stream",
          "text": [
            "Number of pairs (Drug, Condition): 4189\n",
            "Significant number of reviews: More than 7.0 reviews\n"
          ],
          "name": "stdout"
        },
        {
          "output_type": "display_data",
          "data": {
            "image/png": "[encoded data removed]",
            "text/plain": [
              "<Figure size 1152x216 with 1 Axes>"
            ]
          },
          "metadata": {
            "tags": []
          }
        },
        {
          "output_type": "display_data",
          "data": {
            "image/png": "[encoded data removed]",
            "text/plain": [
              "<Figure size 1152x216 with 1 Axes>"
            ]
          },
          "metadata": {
            "tags": []
          }
        }
      ]
    },
    {
      "cell_type": "markdown",
      "metadata": {
        "_uuid": "1f2fe1f3ad597c01b77ed36c8c0dc4e42824b85f",
        "id": "WAUBLIFT7PJp",
        "colab_type": "text"
      },
      "source": [
        "## Cleansing Op. on Reviews Column\n"
      ]
    },
    {
      "cell_type": "code",
      "metadata": {
        "trusted": true,
        "_uuid": "a120c3db91cf8281e954a2a9f95a99e5b1a1ba74",
        "id": "bzPLytVi7PJq",
        "colab_type": "code",
        "colab": {}
      },
      "source": [
        "# Function to perform cleansing operations on our Text column\n",
        "def clean_reviews(reviews):\n",
        "    \n",
        "    ## Remove puncuation\n",
        "    reviews = reviews.translate(string.punctuation)\n",
        "    \n",
        "    ## Convert words to lower case and split them\n",
        "    reviews = reviews.lower().split()\n",
        "    \n",
        "    ## Remove stop words\n",
        "    stops = set(stopwords.words(\"english\"))\n",
        "    reviews = [w for w in reviews if not w in stops and len(w) >= 3]\n",
        "    \n",
        "    reviews = \" \".join(reviews)\n",
        "\n",
        "    # Clean the reviews\n",
        "    reviews = re.sub(r\"[^A-Za-z0-9^,!.\\/'+-=]\", \" \", reviews)\n",
        "    reviews = re.sub(r\"what's\", \"what is \", reviews)\n",
        "    reviews = re.sub(r\"\\'s\", \" \", reviews)\n",
        "    reviews = re.sub(r\"\\'ve\", \" have \", reviews)\n",
        "    reviews = re.sub(r\"n't\", \" not \", reviews)\n",
        "    reviews = re.sub(r\"i'm\", \"i am \", reviews)\n",
        "    reviews = re.sub(r\"\\'re\", \" are \", reviews)\n",
        "    reviews = re.sub(r\"\\'d\", \" would \", reviews)\n",
        "    reviews = re.sub(r\"\\'ll\", \" will \", reviews)\n",
        "    reviews = re.sub(r\",\", \" \", reviews)\n",
        "    reviews = re.sub(r\"\\.\", \" \", reviews)\n",
        "    reviews = re.sub(r\"!\", \" ! \", reviews)\n",
        "    reviews = re.sub(r\"\\/\", \" \", reviews)\n",
        "    reviews = re.sub(r\"\\^\", \" ^ \", reviews)\n",
        "    reviews = re.sub(r\"\\+\", \" + \", reviews)\n",
        "    reviews = re.sub(r\"\\-\", \" - \", reviews)\n",
        "    reviews = re.sub(r\"\\=\", \" = \", reviews)\n",
        "    reviews = re.sub(r\"'\", \" \", reviews)\n",
        "    reviews = re.sub(r\"(\\d+)(k)\", r\"\\g<1>000\", reviews)\n",
        "    reviews = re.sub(r\":\", \" : \", reviews)\n",
        "    reviews = re.sub(r\" e g \", \" eg \", reviews)\n",
        "    reviews = re.sub(r\" b g \", \" bg \", reviews)\n",
        "    reviews = re.sub(r\" u s \", \" american \", reviews)\n",
        "    reviews = re.sub(r\"\\0s\", \"0\", reviews)\n",
        "    reviews = re.sub(r\" 9 11 \", \"911\", reviews)\n",
        "    reviews = re.sub(r\"e - mail\", \"email\", reviews)\n",
        "    reviews = re.sub(r\"j k\", \"jk\", reviews)\n",
        "    reviews = re.sub(r\"\\s{2,}\", \" \", reviews)\n",
        "    \n",
        "    reviews = reviews.split()\n",
        "    stemmer = SnowballStemmer('english')\n",
        "    stemmed_words = [stemmer.stem(word) for word in reviews]\n",
        "    reviews = \" \".join(stemmed_words)\n",
        "\n",
        "    return reviews"
      ],
      "execution_count": null,
      "outputs": []
    },
    {
      "cell_type": "code",
      "metadata": {
        "trusted": true,
        "_uuid": "f0d8ef760881866f8548e0f6a5d8c026477c8550",
        "id": "gi9pWwKF7PJu",
        "colab_type": "code",
        "colab": {}
      },
      "source": [
        "drugs['reviews_clean'] = drugs['reviews'].map(lambda x: clean_reviews(x))"
      ],
      "execution_count": null,
      "outputs": []
    },
    {
      "cell_type": "code",
      "metadata": {
        "trusted": true,
        "_uuid": "8a28655fc06b9e44c25b8e6a1b2fde6aa570bfbd",
        "id": "oJEk0jEl7PJx",
        "colab_type": "code",
        "colab": {
          "base_uri": "https://localhost:8080/",
          "height": 34
        },
        "outputId": "4fcdf669-4386-47d1-8297-2ca0e2234cd5"
      },
      "source": [
        "drugs.shape"
      ],
      "execution_count": null,
      "outputs": [
        {
          "output_type": "execute_result",
          "data": {
            "text/plain": [
              "(42470, 10)"
            ]
          },
          "metadata": {
            "tags": []
          },
          "execution_count": 27
        }
      ]
    },
    {
      "cell_type": "code",
      "metadata": {
        "id": "9YvMwVCstVnu",
        "colab_type": "code",
        "colab": {}
      },
      "source": [
        "# We have made a copy of our original dataset, for just in case.\n",
        "drugs_copy=drugs"
      ],
      "execution_count": null,
      "outputs": []
    },
    {
      "cell_type": "markdown",
      "metadata": {
        "_uuid": "70e65bc849d8b7633facf67ff44e887af54b7def",
        "id": "b5fNu_LZ7PJ2",
        "colab_type": "text"
      },
      "source": [
        "## Sentiment Analysis\n",
        "\n",
        "Before doing this, **text** must be processed:\n",
        "\n",
        "- Punctuation signs are removed already in last step.\n",
        "- Removing special characters\n",
        "- Stemming\n",
        "- Removing Stopwords\n",
        "\n",
        "Although a RNN can learn dependencies however, it can only learn about recent information. LSTM can help solve this problem as it can understand context along with recent dependency. Hence, LSTM are a special kind of RNN where understanding context can help to be useful.\n",
        "LSTM networks are similar to RNNs with one major difference that hidden layer updates are replaced by memory cells. This makes them better at finding and exposing long range dependencies in data which is imperative for sentence structures. Image below shows a representation of LSTM sequence tagging model which has LSTM memory cells in place of hidden layers.\n",
        "-NLTK was the library used in this code file. With BeautifulSoup and Tensorflow.\n",
        "To transform each review into relevant rating for the drug, firstly NLP was performed on review columns only, separating it from the metadata.\n",
        "This contains just phrases. You must assign a sentiment label to each phrase.\n",
        "The sentiment labels are:\n",
        "1 - negative\n",
        "2 - somewhat negative\n",
        "3 - neutral\n",
        "4 - somewhat positive\n",
        "5 - positive\n"
      ]
    },
    {
      "cell_type": "markdown",
      "metadata": {
        "id": "u8nGwsugaGcT",
        "colab_type": "text"
      },
      "source": [
        "CNN LSTM\n",
        "- We're now trying to improve our operations on Reviews column using CNN+LSTM, the reason being, LSTM takes into consideration the sequences of our model in its Cell State, which is really important for any Text Data, coz it gives meaning to it.\n",
        "- \"I Love Dogs\" in this sequence is meaningful but \"Dog Love I\" sounds confusing. than again with longer text size, the sequences or order becomes more important.\n",
        "- We'll be using embedding layer for Word Embeddings, which helps us to see semantics or meaning behind \"Reviews\", being positive or negative.\n",
        "- Tokeniser helps in encoding our data\n",
        "- We have padded our Reviews accordingly, considering the maximum length of a Review."
      ]
    },
    {
      "cell_type": "markdown",
      "metadata": {
        "id": "1is62hom8kAN",
        "colab_type": "text"
      },
      "source": [
        "## LSTM Implementation"
      ]
    },
    {
      "cell_type": "code",
      "metadata": {
        "id": "fcxDmeJjk-na",
        "colab_type": "code",
        "colab": {
          "base_uri": "https://localhost:8080/",
          "height": 123
        },
        "outputId": "ba41c260-bdad-462f-c8a1-f6825872923d"
      },
      "source": [
        "# Keras\n",
        "from keras.preprocessing.text import Tokenizer\n",
        "from keras.preprocessing.sequence import pad_sequences\n",
        "from keras.models import Sequential\n",
        "from keras.layers import Dense, Flatten, LSTM, Conv1D, MaxPooling1D, Dropout, Activation\n",
        "from keras.layers.embeddings import Embedding\n",
        "from nltk.stem import WordNetLemmatizer\n",
        "lemmatizer = WordNetLemmatizer()\n",
        "from bs4 import BeautifulSoup\n",
        "from nltk.tokenize import word_tokenize\n",
        "import tensorflow as tf\n",
        "from keras.losses import categorical_crossentropy\n",
        "from keras.optimizers import Adam\n",
        "\n",
        "from tqdm import tqdm\n",
        "nltk.download('punkt') ## added for GoogleCollab\n",
        "nltk.download('wordnet') ## added for GoogleCollab"
      ],
      "execution_count": null,
      "outputs": [
        {
          "output_type": "stream",
          "text": [
            "Using TensorFlow backend.\n"
          ],
          "name": "stderr"
        },
        {
          "output_type": "stream",
          "text": [
            "[nltk_data] Downloading package punkt to /root/nltk_data...\n",
            "[nltk_data]   Unzipping tokenizers/punkt.zip.\n",
            "[nltk_data] Downloading package wordnet to /root/nltk_data...\n",
            "[nltk_data]   Unzipping corpora/wordnet.zip.\n"
          ],
          "name": "stdout"
        },
        {
          "output_type": "execute_result",
          "data": {
            "text/plain": [
              "True"
            ]
          },
          "metadata": {
            "tags": []
          },
          "execution_count": 29
        }
      ]
    },
    {
      "cell_type": "code",
      "metadata": {
        "id": "bigAaMNEaAKm",
        "colab_type": "code",
        "colab": {}
      },
      "source": [
        "# Applying clean_reviews function to our training and test(original) dataset\n",
        "train_sentences = drugs['reviews'].map(lambda x: clean_reviews(x))\n",
        "train_sentences1 = totrainnlp['reviews'].map(lambda x: clean_reviews(x))"
      ],
      "execution_count": null,
      "outputs": []
    },
    {
      "cell_type": "code",
      "metadata": {
        "id": "ohwG0XGcbMYj",
        "colab_type": "code",
        "colab": {}
      },
      "source": [
        "# Function for test(original) dataset\n",
        "def clean_sentences(reviews):\n",
        "    reviews = []\n",
        "\n",
        "    for sent in tqdm(train_sentences):\n",
        "        \n",
        "        #remove html content\n",
        "        review_text = BeautifulSoup(sent).get_text()\n",
        "        \n",
        "        #remove non-alphabetic characters\n",
        "        review_text = re.sub(\"[^a-zA-Z]\",\" \", review_text)\n",
        "    \n",
        "        #tokenize the sentences\n",
        "        words = word_tokenize(review_text.lower())\n",
        "    \n",
        "        #lemmatize each word to its lemma\n",
        "        lemma_words = [lemmatizer.lemmatize(i) for i in words]\n",
        "    \n",
        "        reviews.append(lemma_words)\n",
        "\n",
        "    return(reviews)"
      ],
      "execution_count": null,
      "outputs": []
    },
    {
      "cell_type": "code",
      "metadata": {
        "id": "6iEnvbDVDMzd",
        "colab_type": "code",
        "colab": {}
      },
      "source": [
        "# Function for training dataset, suffixed with \"1\" at the end.\n",
        "def clean_sentences1(reviews):\n",
        "    reviews = []\n",
        "\n",
        "    for sent in tqdm(train_sentences1):\n",
        "        \n",
        "        #remove html content\n",
        "        review_text = BeautifulSoup(sent).get_text()\n",
        "        \n",
        "        #remove non-alphabetic characters\n",
        "        review_text = re.sub(\"[^a-zA-Z]\",\" \", review_text)\n",
        "    \n",
        "        #tokenize the sentences\n",
        "        words = word_tokenize(review_text.lower())\n",
        "    \n",
        "        #lemmatize each word to its lemma\n",
        "        lemma_words = [lemmatizer.lemmatize(i) for i in words]\n",
        "    \n",
        "        reviews.append(lemma_words)\n",
        "\n",
        "    return(reviews)\n"
      ],
      "execution_count": null,
      "outputs": []
    },
    {
      "cell_type": "code",
      "metadata": {
        "id": "Mq3potOZba4v",
        "colab_type": "code",
        "colab": {
          "base_uri": "https://localhost:8080/",
          "height": 52
        },
        "outputId": "e866be4d-0265-4c77-f26f-937540ff788e"
      },
      "source": [
        "# Pre processing our test/original dataset\n",
        "train_sentences = clean_sentences(train_sentences)\n",
        "# Pre processing our training dataset\n",
        "train_sentences1 = clean_sentences1(train_sentences1)"
      ],
      "execution_count": null,
      "outputs": [
        {
          "output_type": "stream",
          "text": [
            "100%|██████████| 42470/42470 [00:27<00:00, 1526.94it/s]\n",
            "100%|██████████| 103148/103148 [01:01<00:00, 1665.48it/s]\n"
          ],
          "name": "stderr"
        }
      ]
    },
    {
      "cell_type": "code",
      "metadata": {
        "id": "9en9E_QMZ_hP",
        "colab_type": "code",
        "colab": {
          "base_uri": "https://localhost:8080/",
          "height": 70
        },
        "outputId": "afb87f39-d485-4b3f-e943-02a087cf57df"
      },
      "source": [
        "# Here we're trying to find the maximum length of any reviews given by Patient\n",
        "# Which will help us in padding our reviews in LSTM model.\n",
        "unique_words = set()\n",
        "len_max = 0\n",
        "\n",
        "for sent in tqdm(train_sentences):\n",
        "    \n",
        "    unique_words.update(sent)\n",
        "    \n",
        "    if(len_max<len(sent)):\n",
        "        len_max = len(sent)\n",
        "        \n",
        "#length of the list of unique_words gives the no of unique words\n",
        "print(len(list(unique_words)))\n",
        "print(len_max)"
      ],
      "execution_count": null,
      "outputs": [
        {
          "output_type": "stream",
          "text": [
            "100%|██████████| 42470/42470 [00:00<00:00, 460544.31it/s]"
          ],
          "name": "stderr"
        },
        {
          "output_type": "stream",
          "text": [
            "26813\n",
            "325\n"
          ],
          "name": "stdout"
        },
        {
          "output_type": "stream",
          "text": [
            "\n"
          ],
          "name": "stderr"
        }
      ]
    },
    {
      "cell_type": "code",
      "metadata": {
        "id": "z057sUFiDjPZ",
        "colab_type": "code",
        "colab": {
          "base_uri": "https://localhost:8080/",
          "height": 70
        },
        "outputId": "84438a2e-657a-4e57-ff9f-d72e6881444a"
      },
      "source": [
        "# Here we're trying to find the maximum length of any reviews given by Patient\n",
        "# Which will help us in padding our reviews in LSTM model.unique_words1 = set()\n",
        "unique_words1 = set()\n",
        "len_max1 = 0\n",
        "\n",
        "for sent in tqdm(train_sentences1):\n",
        "    \n",
        "    unique_words1.update(sent)\n",
        "    \n",
        "    if(len_max1<len(sent)):\n",
        "        len_max1 = len(sent)\n",
        "        \n",
        "#length of the list of unique_words gives the no of unique words\n",
        "print(len(list(unique_words1)))\n",
        "print(len_max1)"
      ],
      "execution_count": null,
      "outputs": [
        {
          "output_type": "stream",
          "text": [
            "100%|██████████| 103148/103148 [00:00<00:00, 461125.64it/s]"
          ],
          "name": "stderr"
        },
        {
          "output_type": "stream",
          "text": [
            "43941\n",
            "255\n"
          ],
          "name": "stdout"
        },
        {
          "output_type": "stream",
          "text": [
            "\n"
          ],
          "name": "stderr"
        }
      ]
    },
    {
      "cell_type": "code",
      "metadata": {
        "id": "8PWomkXIZ_By",
        "colab_type": "code",
        "colab": {}
      },
      "source": [
        "# oov_tok replaces unknown words with \"<OOV>\" as a value\n",
        "# incase truncating is requirred out model will do so behind the text rows.\n",
        "trunc_type='post'\n",
        "oov_tok=\"<OOV>\"\n",
        "tokenizer1 = Tokenizer(num_words= len(list(unique_words1)), oov_token=oov_tok)\n",
        "tokenizer1.fit_on_texts(train_sentences1)\n",
        "\n",
        "sequences1 = tokenizer1.texts_to_sequences(train_sentences1)\n",
        "data1 = pad_sequences(sequences1, maxlen=len_max, truncating=trunc_type)"
      ],
      "execution_count": null,
      "outputs": []
    },
    {
      "cell_type": "code",
      "metadata": {
        "id": "AWl8u68db5pZ",
        "colab_type": "code",
        "colab": {}
      },
      "source": [
        "# Early stopping incase scores doesnt change aroung cycles.\n",
        "from keras.callbacks import EarlyStopping\n",
        "early_stopping = EarlyStopping(min_delta = 0.001, mode = 'max', monitor='val_auc', patience = 2)\n",
        "callback = [early_stopping]"
      ],
      "execution_count": null,
      "outputs": []
    },
    {
      "cell_type": "code",
      "metadata": {
        "id": "1wn-eSYsb5Xp",
        "colab_type": "code",
        "colab": {}
      },
      "source": [
        "# to_categorical function helps us in transform the target column for training dataset\n",
        "from keras.utils import to_categorical\n",
        "y_target=to_categorical(totrainnlp['satisfaction'])\n",
        "num_classes=y_target.shape[1]"
      ],
      "execution_count": null,
      "outputs": []
    },
    {
      "cell_type": "code",
      "metadata": {
        "id": "-uAXAPfwcCAx",
        "colab_type": "code",
        "colab": {
          "base_uri": "https://localhost:8080/",
          "height": 34
        },
        "outputId": "e353d2c1-5536-48f5-b8a5-6c8197809744"
      },
      "source": [
        "# classes are shown as 6 coz after applying to_categorical, it changes into an array which includes \"0\", no need to worry it'll not coz problem in modelling\n",
        "num_classes"
      ],
      "execution_count": null,
      "outputs": [
        {
          "output_type": "execute_result",
          "data": {
            "text/plain": [
              "6"
            ]
          },
          "metadata": {
            "tags": []
          },
          "execution_count": 39
        }
      ]
    },
    {
      "cell_type": "code",
      "metadata": {
        "id": "dt8ArWnlcBpo",
        "colab_type": "code",
        "colab": {}
      },
      "source": [
        "# we have used one LSTM layer for our operations, with a combination of a CNN Layer coz it really speeds up our task,\n",
        "# further Maxpooling helps in reducing the problem of high dimensionality coz LSTM would usually return 2D array.\n",
        "# Sigmoid activator is used coz we have binary(0/1) semantics for our reviews\n",
        "# Two layer LSTM can also be implmented(with return sequence \"True\" meaning the feedback cycle will be used) but \n",
        "# for now i have commented them out.\n",
        "\n",
        "def create_conv_model():\n",
        "    model_conv = Sequential()\n",
        "    model_conv.add(Embedding(len(list(unique_words1)), 300, input_length=len_max))\n",
        "    model_conv.add(Dropout(0.2))\n",
        "    model_conv.add(Conv1D(256, 5, activation='relu'))\n",
        "    model_conv.add(MaxPooling1D(pool_size=4))\n",
        "    model_conv.add(LSTM(128))\n",
        "    \n",
        "    model_conv.add(Dense(num_classes, activation='softmax'))\n",
        "    model_conv.compile(loss='categorical_crossentropy', optimizer=Adam(lr=0.001), metrics=[tf.keras.metrics.AUC()])\n",
        "    model_conv.summary()\n",
        "    return model_conv"
      ],
      "execution_count": null,
      "outputs": []
    },
    {
      "cell_type": "code",
      "metadata": {
        "id": "kX3u6YSncOme",
        "colab_type": "code",
        "colab": {
          "base_uri": "https://localhost:8080/",
          "height": 372
        },
        "outputId": "c59aee0a-cbc8-47c0-c281-af6026c842d2"
      },
      "source": [
        "model_conv = create_conv_model()"
      ],
      "execution_count": null,
      "outputs": [
        {
          "output_type": "stream",
          "text": [
            "Model: \"sequential_1\"\n",
            "_________________________________________________________________\n",
            "Layer (type)                 Output Shape              Param #   \n",
            "=================================================================\n",
            "embedding_1 (Embedding)      (None, 325, 300)          13182300  \n",
            "_________________________________________________________________\n",
            "dropout_1 (Dropout)          (None, 325, 300)          0         \n",
            "_________________________________________________________________\n",
            "conv1d_1 (Conv1D)            (None, 321, 256)          384256    \n",
            "_________________________________________________________________\n",
            "max_pooling1d_1 (MaxPooling1 (None, 80, 256)           0         \n",
            "_________________________________________________________________\n",
            "lstm_1 (LSTM)                (None, 128)               197120    \n",
            "_________________________________________________________________\n",
            "dense_1 (Dense)              (None, 6)                 774       \n",
            "=================================================================\n",
            "Total params: 13,764,450\n",
            "Trainable params: 13,764,450\n",
            "Non-trainable params: 0\n",
            "_________________________________________________________________\n"
          ],
          "name": "stdout"
        }
      ]
    },
    {
      "cell_type": "code",
      "metadata": {
        "id": "9mIswX-6cOYC",
        "colab_type": "code",
        "colab": {
          "base_uri": "https://localhost:8080/",
          "height": 161
        },
        "outputId": "854edd15-e095-4867-e665-bd5d6589d22c"
      },
      "source": [
        "# our training dataset itself will be used here for validation\n",
        "history =model_conv.fit(data1, y_target, validation_split=0.4, epochs = 2, callbacks=callback)"
      ],
      "execution_count": null,
      "outputs": [
        {
          "output_type": "stream",
          "text": [
            "/usr/local/lib/python3.6/dist-packages/tensorflow/python/framework/indexed_slices.py:434: UserWarning: Converting sparse IndexedSlices to a dense Tensor of unknown shape. This may consume a large amount of memory.\n",
            "  \"Converting sparse IndexedSlices to a dense Tensor of unknown shape. \"\n"
          ],
          "name": "stderr"
        },
        {
          "output_type": "stream",
          "text": [
            "Train on 61888 samples, validate on 41260 samples\n",
            "Epoch 1/2\n",
            "61888/61888 [==============================] - 483s 8ms/step - loss: 1.2904 - auc: 0.7944 - val_loss: 1.2125 - val_auc: 0.8248\n",
            "Epoch 2/2\n",
            "61888/61888 [==============================] - 480s 8ms/step - loss: 1.1304 - auc: 0.8373 - val_loss: 1.2368 - val_auc: 0.8422\n"
          ],
          "name": "stdout"
        }
      ]
    },
    {
      "cell_type": "code",
      "metadata": {
        "id": "5HWX_A2NcXjE",
        "colab_type": "code",
        "colab": {
          "base_uri": "https://localhost:8080/",
          "height": 282
        },
        "outputId": "f391abec-3834-4784-d944-dc9ebe16851b"
      },
      "source": [
        "# Create count of the number of epochs\n",
        "epoch_count = range(1, len(history.history['loss']) + 1)\n",
        "\n",
        "# Visualize learning curve. Here learning curve is not ideal. It should be much smoother as it decreases.\n",
        "#As mentioned before, altering different hyper parameters especially learning rate can have a positive impact\n",
        "#on accuracy and learning curve.\n",
        "plt.plot(epoch_count, history.history['loss'], 'r--')\n",
        "plt.plot(epoch_count, history.history['val_loss'], 'b--')\n",
        "plt.plot(epoch_count, history.history['auc'], 'g-')\n",
        "plt.plot(epoch_count, history.history['val_auc'], 'y-')\n",
        "plt.legend(['Training Loss', 'Validation Loss', 'Training AUC', 'Validation AUC'])\n",
        "plt.xlabel('Epoch')\n",
        "plt.ylabel('Loss')\n",
        "plt.show()"
      ],
      "execution_count": null,
      "outputs": [
        {
          "output_type": "display_data",
          "data": {
            "image/png": "[encoded data removed]",
            "text/plain": [
              "<Figure size 432x288 with 1 Axes>"
            ]
          },
          "metadata": {
            "tags": []
          }
        }
      ]
    },
    {
      "cell_type": "code",
      "metadata": {
        "id": "CXUevouiIkwU",
        "colab_type": "code",
        "colab": {}
      },
      "source": [
        "# Predicting target values for Training dataset, which is not a very good idea, coz we trained on same set.\n",
        "nlp_pred1=model_conv.predict_classes(data1)"
      ],
      "execution_count": null,
      "outputs": []
    },
    {
      "cell_type": "code",
      "metadata": {
        "id": "Mw0J_7OfcgS4",
        "colab_type": "code",
        "colab": {
          "base_uri": "https://localhost:8080/",
          "height": 406
        },
        "outputId": "89c2f5be-fd70-4451-f9cc-f86c5eb991ad"
      },
      "source": [
        "# applying some transformation to treat variables later on, if needed\n",
        "lstm_op1=pd.DataFrame(nlp_pred1)\n",
        "df_target=pd.DataFrame(y_target)\n",
        "\n",
        "df_target=df_target.idxmax(axis=1)\n",
        "df_target=pd.DataFrame(df_target)\n",
        "df_target"
      ],
      "execution_count": null,
      "outputs": [
        {
          "output_type": "execute_result",
          "data": {
            "text/html": [
              "<div>\n",
              "<style scoped>\n",
              "    .dataframe tbody tr th:only-of-type {\n",
              "        vertical-align: middle;\n",
              "    }\n",
              "\n",
              "    .dataframe tbody tr th {\n",
              "        vertical-align: top;\n",
              "    }\n",
              "\n",
              "    .dataframe thead th {\n",
              "        text-align: right;\n",
              "    }\n",
              "</style>\n",
              "<table border=\"1\" class=\"dataframe\">\n",
              "  <thead>\n",
              "    <tr style=\"text-align: right;\">\n",
              "      <th></th>\n",
              "      <th>0</th>\n",
              "    </tr>\n",
              "  </thead>\n",
              "  <tbody>\n",
              "    <tr>\n",
              "      <th>0</th>\n",
              "      <td>5</td>\n",
              "    </tr>\n",
              "    <tr>\n",
              "      <th>1</th>\n",
              "      <td>2</td>\n",
              "    </tr>\n",
              "    <tr>\n",
              "      <th>2</th>\n",
              "      <td>4</td>\n",
              "    </tr>\n",
              "    <tr>\n",
              "      <th>3</th>\n",
              "      <td>2</td>\n",
              "    </tr>\n",
              "    <tr>\n",
              "      <th>4</th>\n",
              "      <td>1</td>\n",
              "    </tr>\n",
              "    <tr>\n",
              "      <th>...</th>\n",
              "      <td>...</td>\n",
              "    </tr>\n",
              "    <tr>\n",
              "      <th>103143</th>\n",
              "      <td>5</td>\n",
              "    </tr>\n",
              "    <tr>\n",
              "      <th>103144</th>\n",
              "      <td>1</td>\n",
              "    </tr>\n",
              "    <tr>\n",
              "      <th>103145</th>\n",
              "      <td>2</td>\n",
              "    </tr>\n",
              "    <tr>\n",
              "      <th>103146</th>\n",
              "      <td>5</td>\n",
              "    </tr>\n",
              "    <tr>\n",
              "      <th>103147</th>\n",
              "      <td>5</td>\n",
              "    </tr>\n",
              "  </tbody>\n",
              "</table>\n",
              "<p>103148 rows × 1 columns</p>\n",
              "</div>"
            ],
            "text/plain": [
              "        0\n",
              "0       5\n",
              "1       2\n",
              "2       4\n",
              "3       2\n",
              "4       1\n",
              "...    ..\n",
              "103143  5\n",
              "103144  1\n",
              "103145  2\n",
              "103146  5\n",
              "103147  5\n",
              "\n",
              "[103148 rows x 1 columns]"
            ]
          },
          "metadata": {
            "tags": []
          },
          "execution_count": 45
        }
      ]
    },
    {
      "cell_type": "code",
      "metadata": {
        "id": "-QgEdlaEVd0P",
        "colab_type": "code",
        "colab": {
          "base_uri": "https://localhost:8080/",
          "height": 406
        },
        "outputId": "c19a894c-6eef-4dbb-8e29-775d19e21a81"
      },
      "source": [
        "lstm_op1"
      ],
      "execution_count": null,
      "outputs": [
        {
          "output_type": "execute_result",
          "data": {
            "text/html": [
              "<div>\n",
              "<style scoped>\n",
              "    .dataframe tbody tr th:only-of-type {\n",
              "        vertical-align: middle;\n",
              "    }\n",
              "\n",
              "    .dataframe tbody tr th {\n",
              "        vertical-align: top;\n",
              "    }\n",
              "\n",
              "    .dataframe thead th {\n",
              "        text-align: right;\n",
              "    }\n",
              "</style>\n",
              "<table border=\"1\" class=\"dataframe\">\n",
              "  <thead>\n",
              "    <tr style=\"text-align: right;\">\n",
              "      <th></th>\n",
              "      <th>0</th>\n",
              "    </tr>\n",
              "  </thead>\n",
              "  <tbody>\n",
              "    <tr>\n",
              "      <th>0</th>\n",
              "      <td>5</td>\n",
              "    </tr>\n",
              "    <tr>\n",
              "      <th>1</th>\n",
              "      <td>1</td>\n",
              "    </tr>\n",
              "    <tr>\n",
              "      <th>2</th>\n",
              "      <td>4</td>\n",
              "    </tr>\n",
              "    <tr>\n",
              "      <th>3</th>\n",
              "      <td>3</td>\n",
              "    </tr>\n",
              "    <tr>\n",
              "      <th>4</th>\n",
              "      <td>1</td>\n",
              "    </tr>\n",
              "    <tr>\n",
              "      <th>...</th>\n",
              "      <td>...</td>\n",
              "    </tr>\n",
              "    <tr>\n",
              "      <th>103143</th>\n",
              "      <td>1</td>\n",
              "    </tr>\n",
              "    <tr>\n",
              "      <th>103144</th>\n",
              "      <td>1</td>\n",
              "    </tr>\n",
              "    <tr>\n",
              "      <th>103145</th>\n",
              "      <td>1</td>\n",
              "    </tr>\n",
              "    <tr>\n",
              "      <th>103146</th>\n",
              "      <td>3</td>\n",
              "    </tr>\n",
              "    <tr>\n",
              "      <th>103147</th>\n",
              "      <td>1</td>\n",
              "    </tr>\n",
              "  </tbody>\n",
              "</table>\n",
              "<p>103148 rows × 1 columns</p>\n",
              "</div>"
            ],
            "text/plain": [
              "        0\n",
              "0       5\n",
              "1       1\n",
              "2       4\n",
              "3       3\n",
              "4       1\n",
              "...    ..\n",
              "103143  1\n",
              "103144  1\n",
              "103145  1\n",
              "103146  3\n",
              "103147  1\n",
              "\n",
              "[103148 rows x 1 columns]"
            ]
          },
          "metadata": {
            "tags": []
          },
          "execution_count": 46
        }
      ]
    },
    {
      "cell_type": "code",
      "metadata": {
        "id": "vzPj-tylV_pC",
        "colab_type": "code",
        "colab": {
          "base_uri": "https://localhost:8080/",
          "height": 34
        },
        "outputId": "853b398a-b577-4b17-c611-b4b88a247b47"
      },
      "source": [
        "# ROC score between Target and predicted values for Trained dataset\n",
        "from sklearn.metrics import roc_auc_score\n",
        "from sklearn.preprocessing import LabelBinarizer\n",
        "\n",
        "lb = LabelBinarizer()\n",
        "lb.fit(df_target)\n",
        "y_test1 = lb.transform(df_target)\n",
        "y_pred1= lb.transform(lstm_op1)\n",
        "roc_auc_score_trainset=roc_auc_score(y_test1, y_pred1, average=\"macro\")\n",
        "roc_auc_score_trainset"
      ],
      "execution_count": null,
      "outputs": [
        {
          "output_type": "execute_result",
          "data": {
            "text/plain": [
              "0.6727370519220559"
            ]
          },
          "metadata": {
            "tags": []
          },
          "execution_count": 47
        }
      ]
    },
    {
      "cell_type": "markdown",
      "metadata": {
        "id": "Qx3GMGkIVsb1",
        "colab_type": "text"
      },
      "source": [
        "### LSTM Test dataset"
      ]
    },
    {
      "cell_type": "code",
      "metadata": {
        "id": "_eeq-pHNICiR",
        "colab_type": "code",
        "colab": {}
      },
      "source": [
        "# Padding our Test/Original dataset for prediction process/ to apply neural layers.\n",
        "tokenizer = Tokenizer(num_words= len(list(unique_words1)), oov_token=oov_tok)\n",
        "tokenizer.fit_on_texts(train_sentences)\n",
        "\n",
        "sequences = tokenizer.texts_to_sequences(train_sentences)\n",
        "data = pad_sequences(sequences, maxlen=len_max, truncating=trunc_type)"
      ],
      "execution_count": null,
      "outputs": []
    },
    {
      "cell_type": "code",
      "metadata": {
        "id": "Lk4tqVB7co_Y",
        "colab_type": "code",
        "colab": {}
      },
      "source": [
        "# # Predicting target values for Test dataset \"Drugs\" which is our main/core dataset\n",
        "nlp_pred=model_conv.predict_classes(data)"
      ],
      "execution_count": null,
      "outputs": []
    },
    {
      "cell_type": "code",
      "metadata": {
        "id": "CemVfx5RIr4j",
        "colab_type": "code",
        "colab": {
          "base_uri": "https://localhost:8080/",
          "height": 406
        },
        "outputId": "32b63fa7-53ce-41da-ea7d-4513136e1157"
      },
      "source": [
        "lstm_op=pd.DataFrame(nlp_pred)\n",
        "lstm_op"
      ],
      "execution_count": null,
      "outputs": [
        {
          "output_type": "execute_result",
          "data": {
            "text/html": [
              "<div>\n",
              "<style scoped>\n",
              "    .dataframe tbody tr th:only-of-type {\n",
              "        vertical-align: middle;\n",
              "    }\n",
              "\n",
              "    .dataframe tbody tr th {\n",
              "        vertical-align: top;\n",
              "    }\n",
              "\n",
              "    .dataframe thead th {\n",
              "        text-align: right;\n",
              "    }\n",
              "</style>\n",
              "<table border=\"1\" class=\"dataframe\">\n",
              "  <thead>\n",
              "    <tr style=\"text-align: right;\">\n",
              "      <th></th>\n",
              "      <th>0</th>\n",
              "    </tr>\n",
              "  </thead>\n",
              "  <tbody>\n",
              "    <tr>\n",
              "      <th>0</th>\n",
              "      <td>1</td>\n",
              "    </tr>\n",
              "    <tr>\n",
              "      <th>1</th>\n",
              "      <td>4</td>\n",
              "    </tr>\n",
              "    <tr>\n",
              "      <th>2</th>\n",
              "      <td>1</td>\n",
              "    </tr>\n",
              "    <tr>\n",
              "      <th>3</th>\n",
              "      <td>4</td>\n",
              "    </tr>\n",
              "    <tr>\n",
              "      <th>4</th>\n",
              "      <td>1</td>\n",
              "    </tr>\n",
              "    <tr>\n",
              "      <th>...</th>\n",
              "      <td>...</td>\n",
              "    </tr>\n",
              "    <tr>\n",
              "      <th>42465</th>\n",
              "      <td>5</td>\n",
              "    </tr>\n",
              "    <tr>\n",
              "      <th>42466</th>\n",
              "      <td>1</td>\n",
              "    </tr>\n",
              "    <tr>\n",
              "      <th>42467</th>\n",
              "      <td>1</td>\n",
              "    </tr>\n",
              "    <tr>\n",
              "      <th>42468</th>\n",
              "      <td>1</td>\n",
              "    </tr>\n",
              "    <tr>\n",
              "      <th>42469</th>\n",
              "      <td>1</td>\n",
              "    </tr>\n",
              "  </tbody>\n",
              "</table>\n",
              "<p>42470 rows × 1 columns</p>\n",
              "</div>"
            ],
            "text/plain": [
              "       0\n",
              "0      1\n",
              "1      4\n",
              "2      1\n",
              "3      4\n",
              "4      1\n",
              "...   ..\n",
              "42465  5\n",
              "42466  1\n",
              "42467  1\n",
              "42468  1\n",
              "42469  1\n",
              "\n",
              "[42470 rows x 1 columns]"
            ]
          },
          "metadata": {
            "tags": []
          },
          "execution_count": 50
        }
      ]
    },
    {
      "cell_type": "code",
      "metadata": {
        "id": "5nRx_W86OgpP",
        "colab_type": "code",
        "colab": {
          "base_uri": "https://localhost:8080/",
          "height": 406
        },
        "outputId": "13c48486-2ca1-458c-b616-a7d445a52102"
      },
      "source": [
        "# Preprocessing test dataset, includes few tranformations\n",
        "y_target1=to_categorical(drugs['satisfaction'])\n",
        "df_target1=pd.DataFrame(y_target1)\n",
        "# idxmax helps us in reversing label encoding/ usage of to_categorical\n",
        "df_target1=df_target1.idxmax(axis=1)\n",
        "df_target1=pd.DataFrame(df_target1)\n",
        "df_target1"
      ],
      "execution_count": null,
      "outputs": [
        {
          "output_type": "execute_result",
          "data": {
            "text/html": [
              "<div>\n",
              "<style scoped>\n",
              "    .dataframe tbody tr th:only-of-type {\n",
              "        vertical-align: middle;\n",
              "    }\n",
              "\n",
              "    .dataframe tbody tr th {\n",
              "        vertical-align: top;\n",
              "    }\n",
              "\n",
              "    .dataframe thead th {\n",
              "        text-align: right;\n",
              "    }\n",
              "</style>\n",
              "<table border=\"1\" class=\"dataframe\">\n",
              "  <thead>\n",
              "    <tr style=\"text-align: right;\">\n",
              "      <th></th>\n",
              "      <th>0</th>\n",
              "    </tr>\n",
              "  </thead>\n",
              "  <tbody>\n",
              "    <tr>\n",
              "      <th>0</th>\n",
              "      <td>5</td>\n",
              "    </tr>\n",
              "    <tr>\n",
              "      <th>1</th>\n",
              "      <td>4</td>\n",
              "    </tr>\n",
              "    <tr>\n",
              "      <th>2</th>\n",
              "      <td>2</td>\n",
              "    </tr>\n",
              "    <tr>\n",
              "      <th>3</th>\n",
              "      <td>4</td>\n",
              "    </tr>\n",
              "    <tr>\n",
              "      <th>4</th>\n",
              "      <td>3</td>\n",
              "    </tr>\n",
              "    <tr>\n",
              "      <th>...</th>\n",
              "      <td>...</td>\n",
              "    </tr>\n",
              "    <tr>\n",
              "      <th>42465</th>\n",
              "      <td>3</td>\n",
              "    </tr>\n",
              "    <tr>\n",
              "      <th>42466</th>\n",
              "      <td>5</td>\n",
              "    </tr>\n",
              "    <tr>\n",
              "      <th>42467</th>\n",
              "      <td>2</td>\n",
              "    </tr>\n",
              "    <tr>\n",
              "      <th>42468</th>\n",
              "      <td>1</td>\n",
              "    </tr>\n",
              "    <tr>\n",
              "      <th>42469</th>\n",
              "      <td>4</td>\n",
              "    </tr>\n",
              "  </tbody>\n",
              "</table>\n",
              "<p>42470 rows × 1 columns</p>\n",
              "</div>"
            ],
            "text/plain": [
              "       0\n",
              "0      5\n",
              "1      4\n",
              "2      2\n",
              "3      4\n",
              "4      3\n",
              "...   ..\n",
              "42465  3\n",
              "42466  5\n",
              "42467  2\n",
              "42468  1\n",
              "42469  4\n",
              "\n",
              "[42470 rows x 1 columns]"
            ]
          },
          "metadata": {
            "tags": []
          },
          "execution_count": 51
        }
      ]
    },
    {
      "cell_type": "code",
      "metadata": {
        "id": "YPUVEqFNO-Gj",
        "colab_type": "code",
        "colab": {
          "base_uri": "https://localhost:8080/",
          "height": 34
        },
        "outputId": "2449acf0-0cb8-40d7-f15f-8bfd063e8f30"
      },
      "source": [
        "# ROC score between Target and predicted values for Test dataset \"Drugs\"\n",
        "lb.fit(df_target1)\n",
        "y_test1 = lb.transform(df_target1)\n",
        "y_pred1= lb.transform(lstm_op)\n",
        "roc_auc_score_testset=roc_auc_score(y_test1, y_pred1, average=\"macro\")\n",
        "roc_auc_score_testset"
      ],
      "execution_count": null,
      "outputs": [
        {
          "output_type": "execute_result",
          "data": {
            "text/plain": [
              "0.5080056510477985"
            ]
          },
          "metadata": {
            "tags": []
          },
          "execution_count": 104
        }
      ]
    },
    {
      "cell_type": "code",
      "metadata": {
        "id": "cIkyJsm2ltg1",
        "colab_type": "code",
        "colab": {
          "base_uri": "https://localhost:8080/",
          "height": 406
        },
        "outputId": "add27c79-66c1-4d00-dfb7-29acc808185c"
      },
      "source": [
        "lstm_op.rename(columns = {0:'lstm_score'}, inplace = True)\n",
        "lstm_op"
      ],
      "execution_count": null,
      "outputs": [
        {
          "output_type": "execute_result",
          "data": {
            "text/html": [
              "<div>\n",
              "<style scoped>\n",
              "    .dataframe tbody tr th:only-of-type {\n",
              "        vertical-align: middle;\n",
              "    }\n",
              "\n",
              "    .dataframe tbody tr th {\n",
              "        vertical-align: top;\n",
              "    }\n",
              "\n",
              "    .dataframe thead th {\n",
              "        text-align: right;\n",
              "    }\n",
              "</style>\n",
              "<table border=\"1\" class=\"dataframe\">\n",
              "  <thead>\n",
              "    <tr style=\"text-align: right;\">\n",
              "      <th></th>\n",
              "      <th>lstm_score</th>\n",
              "    </tr>\n",
              "  </thead>\n",
              "  <tbody>\n",
              "    <tr>\n",
              "      <th>0</th>\n",
              "      <td>1</td>\n",
              "    </tr>\n",
              "    <tr>\n",
              "      <th>1</th>\n",
              "      <td>4</td>\n",
              "    </tr>\n",
              "    <tr>\n",
              "      <th>2</th>\n",
              "      <td>1</td>\n",
              "    </tr>\n",
              "    <tr>\n",
              "      <th>3</th>\n",
              "      <td>4</td>\n",
              "    </tr>\n",
              "    <tr>\n",
              "      <th>4</th>\n",
              "      <td>1</td>\n",
              "    </tr>\n",
              "    <tr>\n",
              "      <th>...</th>\n",
              "      <td>...</td>\n",
              "    </tr>\n",
              "    <tr>\n",
              "      <th>42465</th>\n",
              "      <td>5</td>\n",
              "    </tr>\n",
              "    <tr>\n",
              "      <th>42466</th>\n",
              "      <td>1</td>\n",
              "    </tr>\n",
              "    <tr>\n",
              "      <th>42467</th>\n",
              "      <td>1</td>\n",
              "    </tr>\n",
              "    <tr>\n",
              "      <th>42468</th>\n",
              "      <td>1</td>\n",
              "    </tr>\n",
              "    <tr>\n",
              "      <th>42469</th>\n",
              "      <td>1</td>\n",
              "    </tr>\n",
              "  </tbody>\n",
              "</table>\n",
              "<p>42470 rows × 1 columns</p>\n",
              "</div>"
            ],
            "text/plain": [
              "       lstm_score\n",
              "0               1\n",
              "1               4\n",
              "2               1\n",
              "3               4\n",
              "4               1\n",
              "...           ...\n",
              "42465           5\n",
              "42466           1\n",
              "42467           1\n",
              "42468           1\n",
              "42469           1\n",
              "\n",
              "[42470 rows x 1 columns]"
            ]
          },
          "metadata": {
            "tags": []
          },
          "execution_count": 53
        }
      ]
    },
    {
      "cell_type": "code",
      "metadata": {
        "id": "gBDb-rdtc1nL",
        "colab_type": "code",
        "colab": {}
      },
      "source": [
        "drugs = pd.concat([drugs_copy.reset_index(), lstm_op.reset_index()], axis = 1)"
      ],
      "execution_count": null,
      "outputs": []
    },
    {
      "cell_type": "code",
      "metadata": {
        "id": "Azz3lgLcc66Y",
        "colab_type": "code",
        "colab": {
          "base_uri": "https://localhost:8080/",
          "height": 94
        },
        "outputId": "fb415829-ca69-424d-93ab-91204ab3f273"
      },
      "source": [
        "drugs.drop(['index'], axis=1, inplace=True)\n",
        "drugs.head(1)"
      ],
      "execution_count": null,
      "outputs": [
        {
          "output_type": "execute_result",
          "data": {
            "text/html": [
              "<div>\n",
              "<style scoped>\n",
              "    .dataframe tbody tr th:only-of-type {\n",
              "        vertical-align: middle;\n",
              "    }\n",
              "\n",
              "    .dataframe tbody tr th {\n",
              "        vertical-align: top;\n",
              "    }\n",
              "\n",
              "    .dataframe thead th {\n",
              "        text-align: right;\n",
              "    }\n",
              "</style>\n",
              "<table border=\"1\" class=\"dataframe\">\n",
              "  <thead>\n",
              "    <tr style=\"text-align: right;\">\n",
              "      <th></th>\n",
              "      <th>condition</th>\n",
              "      <th>drug</th>\n",
              "      <th>drugid</th>\n",
              "      <th>easeofuse</th>\n",
              "      <th>effectiveness</th>\n",
              "      <th>reviews</th>\n",
              "      <th>usefulcount</th>\n",
              "      <th>satisfaction</th>\n",
              "      <th>uniqueid</th>\n",
              "      <th>reviews_clean</th>\n",
              "      <th>lstm_score</th>\n",
              "    </tr>\n",
              "  </thead>\n",
              "  <tbody>\n",
              "    <tr>\n",
              "      <th>0</th>\n",
              "      <td>Panic Disorder</td>\n",
              "      <td>zoloft</td>\n",
              "      <td>35.0</td>\n",
              "      <td>5.0</td>\n",
              "      <td>5.0</td>\n",
              "      <td>i started having panic attacks 7 years ago and...</td>\n",
              "      <td>5.0</td>\n",
              "      <td>5.0</td>\n",
              "      <td>0</td>\n",
              "      <td>start panic attack year ago doctor put zoloft ...</td>\n",
              "      <td>1</td>\n",
              "    </tr>\n",
              "  </tbody>\n",
              "</table>\n",
              "</div>"
            ],
            "text/plain": [
              "        condition  ... lstm_score\n",
              "0  Panic Disorder  ...          1\n",
              "\n",
              "[1 rows x 11 columns]"
            ]
          },
          "metadata": {
            "tags": []
          },
          "execution_count": 55
        }
      ]
    },
    {
      "cell_type": "markdown",
      "metadata": {
        "id": "_AXFEXYQ-iWd",
        "colab_type": "text"
      },
      "source": [
        "## Feature Engineering\n",
        "We're trying to extract more information from \"Reviews\" column via Feature engineering process. Further we'll optimise the use of these features accordingly depending upon the **Importance and Feature Selection process**"
      ]
    },
    {
      "cell_type": "code",
      "metadata": {
        "trusted": true,
        "_uuid": "c67dafd5a56dfbe0ce25b56bb7763b7dcc8d9d18",
        "id": "rGGLWsjO7PJ5",
        "colab_type": "code",
        "colab": {
          "base_uri": "https://localhost:8080/",
          "height": 52
        },
        "outputId": "85822327-371d-4168-f627-41d70561a98c"
      },
      "source": [
        "#Word count in each review\n",
        "drugs['count_word']=drugs[\"reviews_clean\"].apply(lambda x: len(str(x).split()))\n",
        "\n",
        "#Unique word count \n",
        "drugs['count_unique_word']=drugs[\"reviews_clean\"].apply(lambda x: len(set(str(x).split())))\n",
        "\n",
        "#Letter count\n",
        "drugs['count_letters']=drugs[\"reviews_clean\"].apply(lambda x: len(str(x)))\n",
        "\n",
        "#punctuation count\n",
        "drugs[\"count_punctuations\"] = drugs[\"reviews\"].apply(lambda x: len([c for c in str(x) if c in string.punctuation]))\n",
        "\n",
        "\n",
        "#Number of stopwords\n",
        "stops = set(stopwords.words(\"english\"))\n",
        "drugs[\"count_stopwords\"] = drugs[\"reviews\"].apply(lambda x: len([w for w in str(x).lower().split() if w in stops]))\n",
        "\n",
        "#Average length of the words\n",
        "drugs[\"mean_word_len\"] = drugs[\"reviews_clean\"].apply(lambda x: np.mean([len(w) for w in str(x).split()]))"
      ],
      "execution_count": null,
      "outputs": [
        {
          "output_type": "stream",
          "text": [
            "/usr/local/lib/python3.6/dist-packages/numpy/core/fromnumeric.py:3335: RuntimeWarning: Mean of empty slice.\n",
            "  out=out, **kwargs)\n"
          ],
          "name": "stderr"
        }
      ]
    },
    {
      "cell_type": "code",
      "metadata": {
        "trusted": true,
        "_uuid": "f2471e72f47ee19eecd4252f1dd96940308b009f",
        "id": "Sd-jPhEl7PJ_",
        "colab_type": "code",
        "colab": {}
      },
      "source": [
        "# Label Encoding Conditions\n",
        "from sklearn.preprocessing import LabelEncoder\n",
        "label_encoder_feat = {}\n",
        "for feature in ['condition']:\n",
        "    label_encoder_feat[feature] = LabelEncoder()\n",
        "    drugs[feature] = label_encoder_feat[feature].fit_transform(drugs[feature])"
      ],
      "execution_count": null,
      "outputs": []
    },
    {
      "cell_type": "code",
      "metadata": {
        "id": "Hb5OIlubD5sm",
        "colab_type": "code",
        "colab": {}
      },
      "source": [
        "# Finding correlation among different variables in dataset.\n",
        "corr=drugs.corr(method ='pearson')"
      ],
      "execution_count": null,
      "outputs": []
    },
    {
      "cell_type": "code",
      "metadata": {
        "id": "eIlThq6pEhwh",
        "colab_type": "code",
        "colab": {
          "base_uri": "https://localhost:8080/",
          "height": 280
        },
        "outputId": "25d35418-4afa-4adb-cc0d-d84e7c8d5f77"
      },
      "source": [
        "cmap = cmap=sns.diverging_palette(5, 250, as_cmap=True)\n",
        "\n",
        "def magnify():\n",
        "    return [dict(selector=\"th\",\n",
        "                 props=[(\"font-size\", \"7pt\")]),\n",
        "            dict(selector=\"td\",\n",
        "                 props=[('padding', \"0em 0em\")]),\n",
        "            dict(selector=\"th:hover\",\n",
        "                 props=[(\"font-size\", \"12pt\")]),\n",
        "            dict(selector=\"tr:hover td:hover\",\n",
        "                 props=[('max-width', '200px'),\n",
        "                        ('font-size', '12pt')])\n",
        "]\n",
        "\n",
        "corr.style.background_gradient(cmap, axis=1)\\\n",
        "    .set_properties(**{'max-width': '80px', 'font-size': '10pt'})\\\n",
        "    .set_caption(\"Hover to magify\")\\\n",
        "    .set_precision(2)\\\n",
        "    .set_table_styles(magnify())"
      ],
      "execution_count": null,
      "outputs": [
        {
          "output_type": "execute_result",
          "data": {
            "text/html": [
              "<style  type=\"text/css\" >\n",
              "    #T_9a3b2106_c835_11ea_8958_0242ac1c0002 th {\n",
              "          font-size: 7pt;\n",
              "    }    #T_9a3b2106_c835_11ea_8958_0242ac1c0002 td {\n",
              "          padding: 0em 0em;\n",
              "    }    #T_9a3b2106_c835_11ea_8958_0242ac1c0002 th:hover {\n",
              "          font-size: 12pt;\n",
              "    }    #T_9a3b2106_c835_11ea_8958_0242ac1c0002 tr:hover td:hover {\n",
              "          max-width: 200px;\n",
              "          font-size: 12pt;\n",
              "    }    #T_9a3b2106_c835_11ea_8958_0242ac1c0002row0_col0 {\n",
              "            background-color:  #4479bb;\n",
              "            color:  #000000;\n",
              "            max-width:  80px;\n",
              "            font-size:  10pt;\n",
              "        }    #T_9a3b2106_c835_11ea_8958_0242ac1c0002row0_col1 {\n",
              "            background-color:  #d73c5b;\n",
              "            color:  #f1f1f1;\n",
              "            max-width:  80px;\n",
              "            font-size:  10pt;\n",
              "        }    #T_9a3b2106_c835_11ea_8958_0242ac1c0002row0_col2 {\n",
              "            background-color:  #dd5a74;\n",
              "            color:  #000000;\n",
              "            max-width:  80px;\n",
              "            font-size:  10pt;\n",
              "        }    #T_9a3b2106_c835_11ea_8958_0242ac1c0002row0_col3 {\n",
              "            background-color:  #dc5570;\n",
              "            color:  #000000;\n",
              "            max-width:  80px;\n",
              "            font-size:  10pt;\n",
              "        }    #T_9a3b2106_c835_11ea_8958_0242ac1c0002row0_col4 {\n",
              "            background-color:  #de5c76;\n",
              "            color:  #000000;\n",
              "            max-width:  80px;\n",
              "            font-size:  10pt;\n",
              "        }    #T_9a3b2106_c835_11ea_8958_0242ac1c0002row0_col5 {\n",
              "            background-color:  #e16c84;\n",
              "            color:  #000000;\n",
              "            max-width:  80px;\n",
              "            font-size:  10pt;\n",
              "        }    #T_9a3b2106_c835_11ea_8958_0242ac1c0002row0_col6 {\n",
              "            background-color:  #df617a;\n",
              "            color:  #000000;\n",
              "            max-width:  80px;\n",
              "            font-size:  10pt;\n",
              "        }    #T_9a3b2106_c835_11ea_8958_0242ac1c0002row0_col7 {\n",
              "            background-color:  #de5f79;\n",
              "            color:  #000000;\n",
              "            max-width:  80px;\n",
              "            font-size:  10pt;\n",
              "        }    #T_9a3b2106_c835_11ea_8958_0242ac1c0002row0_col8 {\n",
              "            background-color:  #db4f6b;\n",
              "            color:  #000000;\n",
              "            max-width:  80px;\n",
              "            font-size:  10pt;\n",
              "        }    #T_9a3b2106_c835_11ea_8958_0242ac1c0002row0_col9 {\n",
              "            background-color:  #db4f6b;\n",
              "            color:  #000000;\n",
              "            max-width:  80px;\n",
              "            font-size:  10pt;\n",
              "        }    #T_9a3b2106_c835_11ea_8958_0242ac1c0002row0_col10 {\n",
              "            background-color:  #dc516d;\n",
              "            color:  #000000;\n",
              "            max-width:  80px;\n",
              "            font-size:  10pt;\n",
              "        }    #T_9a3b2106_c835_11ea_8958_0242ac1c0002row0_col11 {\n",
              "            background-color:  #dc516d;\n",
              "            color:  #000000;\n",
              "            max-width:  80px;\n",
              "            font-size:  10pt;\n",
              "        }    #T_9a3b2106_c835_11ea_8958_0242ac1c0002row0_col12 {\n",
              "            background-color:  #db4d69;\n",
              "            color:  #000000;\n",
              "            max-width:  80px;\n",
              "            font-size:  10pt;\n",
              "        }    #T_9a3b2106_c835_11ea_8958_0242ac1c0002row0_col13 {\n",
              "            background-color:  #df617a;\n",
              "            color:  #000000;\n",
              "            max-width:  80px;\n",
              "            font-size:  10pt;\n",
              "        }    #T_9a3b2106_c835_11ea_8958_0242ac1c0002row1_col0 {\n",
              "            background-color:  #d73c5b;\n",
              "            color:  #f1f1f1;\n",
              "            max-width:  80px;\n",
              "            font-size:  10pt;\n",
              "        }    #T_9a3b2106_c835_11ea_8958_0242ac1c0002row1_col1 {\n",
              "            background-color:  #4479bb;\n",
              "            color:  #000000;\n",
              "            max-width:  80px;\n",
              "            font-size:  10pt;\n",
              "        }    #T_9a3b2106_c835_11ea_8958_0242ac1c0002row1_col2 {\n",
              "            background-color:  #dc526e;\n",
              "            color:  #000000;\n",
              "            max-width:  80px;\n",
              "            font-size:  10pt;\n",
              "        }    #T_9a3b2106_c835_11ea_8958_0242ac1c0002row1_col3 {\n",
              "            background-color:  #dd5671;\n",
              "            color:  #000000;\n",
              "            max-width:  80px;\n",
              "            font-size:  10pt;\n",
              "        }    #T_9a3b2106_c835_11ea_8958_0242ac1c0002row1_col4 {\n",
              "            background-color:  #e0667e;\n",
              "            color:  #000000;\n",
              "            max-width:  80px;\n",
              "            font-size:  10pt;\n",
              "        }    #T_9a3b2106_c835_11ea_8958_0242ac1c0002row1_col5 {\n",
              "            background-color:  #db4f6b;\n",
              "            color:  #000000;\n",
              "            max-width:  80px;\n",
              "            font-size:  10pt;\n",
              "        }    #T_9a3b2106_c835_11ea_8958_0242ac1c0002row1_col6 {\n",
              "            background-color:  #de5f79;\n",
              "            color:  #000000;\n",
              "            max-width:  80px;\n",
              "            font-size:  10pt;\n",
              "        }    #T_9a3b2106_c835_11ea_8958_0242ac1c0002row1_col7 {\n",
              "            background-color:  #de5c76;\n",
              "            color:  #000000;\n",
              "            max-width:  80px;\n",
              "            font-size:  10pt;\n",
              "        }    #T_9a3b2106_c835_11ea_8958_0242ac1c0002row1_col8 {\n",
              "            background-color:  #e57d92;\n",
              "            color:  #000000;\n",
              "            max-width:  80px;\n",
              "            font-size:  10pt;\n",
              "        }    #T_9a3b2106_c835_11ea_8958_0242ac1c0002row1_col9 {\n",
              "            background-color:  #e57f93;\n",
              "            color:  #000000;\n",
              "            max-width:  80px;\n",
              "            font-size:  10pt;\n",
              "        }    #T_9a3b2106_c835_11ea_8958_0242ac1c0002row1_col10 {\n",
              "            background-color:  #e57d92;\n",
              "            color:  #000000;\n",
              "            max-width:  80px;\n",
              "            font-size:  10pt;\n",
              "        }    #T_9a3b2106_c835_11ea_8958_0242ac1c0002row1_col11 {\n",
              "            background-color:  #e47c91;\n",
              "            color:  #000000;\n",
              "            max-width:  80px;\n",
              "            font-size:  10pt;\n",
              "        }    #T_9a3b2106_c835_11ea_8958_0242ac1c0002row1_col12 {\n",
              "            background-color:  #e57d92;\n",
              "            color:  #000000;\n",
              "            max-width:  80px;\n",
              "            font-size:  10pt;\n",
              "        }    #T_9a3b2106_c835_11ea_8958_0242ac1c0002row1_col13 {\n",
              "            background-color:  #de5e77;\n",
              "            color:  #000000;\n",
              "            max-width:  80px;\n",
              "            font-size:  10pt;\n",
              "        }    #T_9a3b2106_c835_11ea_8958_0242ac1c0002row2_col0 {\n",
              "            background-color:  #d94261;\n",
              "            color:  #f1f1f1;\n",
              "            max-width:  80px;\n",
              "            font-size:  10pt;\n",
              "        }    #T_9a3b2106_c835_11ea_8958_0242ac1c0002row2_col1 {\n",
              "            background-color:  #d73c5b;\n",
              "            color:  #f1f1f1;\n",
              "            max-width:  80px;\n",
              "            font-size:  10pt;\n",
              "        }    #T_9a3b2106_c835_11ea_8958_0242ac1c0002row2_col2 {\n",
              "            background-color:  #4479bb;\n",
              "            color:  #000000;\n",
              "            max-width:  80px;\n",
              "            font-size:  10pt;\n",
              "        }    #T_9a3b2106_c835_11ea_8958_0242ac1c0002row2_col3 {\n",
              "            background-color:  #f2f2f2;\n",
              "            color:  #000000;\n",
              "            max-width:  80px;\n",
              "            font-size:  10pt;\n",
              "        }    #T_9a3b2106_c835_11ea_8958_0242ac1c0002row2_col4 {\n",
              "            background-color:  #dd5a74;\n",
              "            color:  #000000;\n",
              "            max-width:  80px;\n",
              "            font-size:  10pt;\n",
              "        }    #T_9a3b2106_c835_11ea_8958_0242ac1c0002row2_col5 {\n",
              "            background-color:  #f2f2f2;\n",
              "            color:  #000000;\n",
              "            max-width:  80px;\n",
              "            font-size:  10pt;\n",
              "        }    #T_9a3b2106_c835_11ea_8958_0242ac1c0002row2_col6 {\n",
              "            background-color:  #db4e6a;\n",
              "            color:  #000000;\n",
              "            max-width:  80px;\n",
              "            font-size:  10pt;\n",
              "        }    #T_9a3b2106_c835_11ea_8958_0242ac1c0002row2_col7 {\n",
              "            background-color:  #dc516d;\n",
              "            color:  #000000;\n",
              "            max-width:  80px;\n",
              "            font-size:  10pt;\n",
              "        }    #T_9a3b2106_c835_11ea_8958_0242ac1c0002row2_col8 {\n",
              "            background-color:  #da4b68;\n",
              "            color:  #000000;\n",
              "            max-width:  80px;\n",
              "            font-size:  10pt;\n",
              "        }    #T_9a3b2106_c835_11ea_8958_0242ac1c0002row2_col9 {\n",
              "            background-color:  #da4b68;\n",
              "            color:  #000000;\n",
              "            max-width:  80px;\n",
              "            font-size:  10pt;\n",
              "        }    #T_9a3b2106_c835_11ea_8958_0242ac1c0002row2_col10 {\n",
              "            background-color:  #da4966;\n",
              "            color:  #000000;\n",
              "            max-width:  80px;\n",
              "            font-size:  10pt;\n",
              "        }    #T_9a3b2106_c835_11ea_8958_0242ac1c0002row2_col11 {\n",
              "            background-color:  #db4d69;\n",
              "            color:  #000000;\n",
              "            max-width:  80px;\n",
              "            font-size:  10pt;\n",
              "        }    #T_9a3b2106_c835_11ea_8958_0242ac1c0002row2_col12 {\n",
              "            background-color:  #db4f6b;\n",
              "            color:  #000000;\n",
              "            max-width:  80px;\n",
              "            font-size:  10pt;\n",
              "        }    #T_9a3b2106_c835_11ea_8958_0242ac1c0002row2_col13 {\n",
              "            background-color:  #d94764;\n",
              "            color:  #f1f1f1;\n",
              "            max-width:  80px;\n",
              "            font-size:  10pt;\n",
              "        }    #T_9a3b2106_c835_11ea_8958_0242ac1c0002row3_col0 {\n",
              "            background-color:  #d73c5b;\n",
              "            color:  #f1f1f1;\n",
              "            max-width:  80px;\n",
              "            font-size:  10pt;\n",
              "        }    #T_9a3b2106_c835_11ea_8958_0242ac1c0002row3_col1 {\n",
              "            background-color:  #d73c5b;\n",
              "            color:  #f1f1f1;\n",
              "            max-width:  80px;\n",
              "            font-size:  10pt;\n",
              "        }    #T_9a3b2106_c835_11ea_8958_0242ac1c0002row3_col2 {\n",
              "            background-color:  #f2f2f2;\n",
              "            color:  #000000;\n",
              "            max-width:  80px;\n",
              "            font-size:  10pt;\n",
              "        }    #T_9a3b2106_c835_11ea_8958_0242ac1c0002row3_col3 {\n",
              "            background-color:  #4479bb;\n",
              "            color:  #000000;\n",
              "            max-width:  80px;\n",
              "            font-size:  10pt;\n",
              "        }    #T_9a3b2106_c835_11ea_8958_0242ac1c0002row3_col4 {\n",
              "            background-color:  #de5c76;\n",
              "            color:  #000000;\n",
              "            max-width:  80px;\n",
              "            font-size:  10pt;\n",
              "        }    #T_9a3b2106_c835_11ea_8958_0242ac1c0002row3_col5 {\n",
              "            background-color:  #a0bbdc;\n",
              "            color:  #000000;\n",
              "            max-width:  80px;\n",
              "            font-size:  10pt;\n",
              "        }    #T_9a3b2106_c835_11ea_8958_0242ac1c0002row3_col6 {\n",
              "            background-color:  #da4966;\n",
              "            color:  #000000;\n",
              "            max-width:  80px;\n",
              "            font-size:  10pt;\n",
              "        }    #T_9a3b2106_c835_11ea_8958_0242ac1c0002row3_col7 {\n",
              "            background-color:  #dc526e;\n",
              "            color:  #000000;\n",
              "            max-width:  80px;\n",
              "            font-size:  10pt;\n",
              "        }    #T_9a3b2106_c835_11ea_8958_0242ac1c0002row3_col8 {\n",
              "            background-color:  #df617a;\n",
              "            color:  #000000;\n",
              "            max-width:  80px;\n",
              "            font-size:  10pt;\n",
              "        }    #T_9a3b2106_c835_11ea_8958_0242ac1c0002row3_col9 {\n",
              "            background-color:  #df627b;\n",
              "            color:  #000000;\n",
              "            max-width:  80px;\n",
              "            font-size:  10pt;\n",
              "        }    #T_9a3b2106_c835_11ea_8958_0242ac1c0002row3_col10 {\n",
              "            background-color:  #df617a;\n",
              "            color:  #000000;\n",
              "            max-width:  80px;\n",
              "            font-size:  10pt;\n",
              "        }    #T_9a3b2106_c835_11ea_8958_0242ac1c0002row3_col11 {\n",
              "            background-color:  #de5c76;\n",
              "            color:  #000000;\n",
              "            max-width:  80px;\n",
              "            font-size:  10pt;\n",
              "        }    #T_9a3b2106_c835_11ea_8958_0242ac1c0002row3_col12 {\n",
              "            background-color:  #e0657d;\n",
              "            color:  #000000;\n",
              "            max-width:  80px;\n",
              "            font-size:  10pt;\n",
              "        }    #T_9a3b2106_c835_11ea_8958_0242ac1c0002row3_col13 {\n",
              "            background-color:  #d94563;\n",
              "            color:  #f1f1f1;\n",
              "            max-width:  80px;\n",
              "            font-size:  10pt;\n",
              "        }    #T_9a3b2106_c835_11ea_8958_0242ac1c0002row4_col0 {\n",
              "            background-color:  #d94563;\n",
              "            color:  #f1f1f1;\n",
              "            max-width:  80px;\n",
              "            font-size:  10pt;\n",
              "        }    #T_9a3b2106_c835_11ea_8958_0242ac1c0002row4_col1 {\n",
              "            background-color:  #dc516d;\n",
              "            color:  #000000;\n",
              "            max-width:  80px;\n",
              "            font-size:  10pt;\n",
              "        }    #T_9a3b2106_c835_11ea_8958_0242ac1c0002row4_col2 {\n",
              "            background-color:  #dd5872;\n",
              "            color:  #000000;\n",
              "            max-width:  80px;\n",
              "            font-size:  10pt;\n",
              "        }    #T_9a3b2106_c835_11ea_8958_0242ac1c0002row4_col3 {\n",
              "            background-color:  #de5f79;\n",
              "            color:  #000000;\n",
              "            max-width:  80px;\n",
              "            font-size:  10pt;\n",
              "        }    #T_9a3b2106_c835_11ea_8958_0242ac1c0002row4_col4 {\n",
              "            background-color:  #4479bb;\n",
              "            color:  #000000;\n",
              "            max-width:  80px;\n",
              "            font-size:  10pt;\n",
              "        }    #T_9a3b2106_c835_11ea_8958_0242ac1c0002row4_col5 {\n",
              "            background-color:  #df627b;\n",
              "            color:  #000000;\n",
              "            max-width:  80px;\n",
              "            font-size:  10pt;\n",
              "        }    #T_9a3b2106_c835_11ea_8958_0242ac1c0002row4_col6 {\n",
              "            background-color:  #da4865;\n",
              "            color:  #000000;\n",
              "            max-width:  80px;\n",
              "            font-size:  10pt;\n",
              "        }    #T_9a3b2106_c835_11ea_8958_0242ac1c0002row4_col7 {\n",
              "            background-color:  #d73c5b;\n",
              "            color:  #f1f1f1;\n",
              "            max-width:  80px;\n",
              "            font-size:  10pt;\n",
              "        }    #T_9a3b2106_c835_11ea_8958_0242ac1c0002row4_col8 {\n",
              "            background-color:  #e991a3;\n",
              "            color:  #000000;\n",
              "            max-width:  80px;\n",
              "            font-size:  10pt;\n",
              "        }    #T_9a3b2106_c835_11ea_8958_0242ac1c0002row4_col9 {\n",
              "            background-color:  #e994a5;\n",
              "            color:  #000000;\n",
              "            max-width:  80px;\n",
              "            font-size:  10pt;\n",
              "        }    #T_9a3b2106_c835_11ea_8958_0242ac1c0002row4_col10 {\n",
              "            background-color:  #e991a3;\n",
              "            color:  #000000;\n",
              "            max-width:  80px;\n",
              "            font-size:  10pt;\n",
              "        }    #T_9a3b2106_c835_11ea_8958_0242ac1c0002row4_col11 {\n",
              "            background-color:  #e88d9f;\n",
              "            color:  #000000;\n",
              "            max-width:  80px;\n",
              "            font-size:  10pt;\n",
              "        }    #T_9a3b2106_c835_11ea_8958_0242ac1c0002row4_col12 {\n",
              "            background-color:  #e88ea0;\n",
              "            color:  #000000;\n",
              "            max-width:  80px;\n",
              "            font-size:  10pt;\n",
              "        }    #T_9a3b2106_c835_11ea_8958_0242ac1c0002row4_col13 {\n",
              "            background-color:  #d94764;\n",
              "            color:  #f1f1f1;\n",
              "            max-width:  80px;\n",
              "            font-size:  10pt;\n",
              "        }    #T_9a3b2106_c835_11ea_8958_0242ac1c0002row5_col0 {\n",
              "            background-color:  #dd5a74;\n",
              "            color:  #000000;\n",
              "            max-width:  80px;\n",
              "            font-size:  10pt;\n",
              "        }    #T_9a3b2106_c835_11ea_8958_0242ac1c0002row5_col1 {\n",
              "            background-color:  #d73c5b;\n",
              "            color:  #f1f1f1;\n",
              "            max-width:  80px;\n",
              "            font-size:  10pt;\n",
              "        }    #T_9a3b2106_c835_11ea_8958_0242ac1c0002row5_col2 {\n",
              "            background-color:  #f2f2f2;\n",
              "            color:  #000000;\n",
              "            max-width:  80px;\n",
              "            font-size:  10pt;\n",
              "        }    #T_9a3b2106_c835_11ea_8958_0242ac1c0002row5_col3 {\n",
              "            background-color:  #9fbadc;\n",
              "            color:  #000000;\n",
              "            max-width:  80px;\n",
              "            font-size:  10pt;\n",
              "        }    #T_9a3b2106_c835_11ea_8958_0242ac1c0002row5_col4 {\n",
              "            background-color:  #df637c;\n",
              "            color:  #000000;\n",
              "            max-width:  80px;\n",
              "            font-size:  10pt;\n",
              "        }    #T_9a3b2106_c835_11ea_8958_0242ac1c0002row5_col5 {\n",
              "            background-color:  #4479bb;\n",
              "            color:  #000000;\n",
              "            max-width:  80px;\n",
              "            font-size:  10pt;\n",
              "        }    #T_9a3b2106_c835_11ea_8958_0242ac1c0002row5_col6 {\n",
              "            background-color:  #dc516d;\n",
              "            color:  #000000;\n",
              "            max-width:  80px;\n",
              "            font-size:  10pt;\n",
              "        }    #T_9a3b2106_c835_11ea_8958_0242ac1c0002row5_col7 {\n",
              "            background-color:  #de5f79;\n",
              "            color:  #000000;\n",
              "            max-width:  80px;\n",
              "            font-size:  10pt;\n",
              "        }    #T_9a3b2106_c835_11ea_8958_0242ac1c0002row5_col8 {\n",
              "            background-color:  #d94563;\n",
              "            color:  #f1f1f1;\n",
              "            max-width:  80px;\n",
              "            font-size:  10pt;\n",
              "        }    #T_9a3b2106_c835_11ea_8958_0242ac1c0002row5_col9 {\n",
              "            background-color:  #d94462;\n",
              "            color:  #f1f1f1;\n",
              "            max-width:  80px;\n",
              "            font-size:  10pt;\n",
              "        }    #T_9a3b2106_c835_11ea_8958_0242ac1c0002row5_col10 {\n",
              "            background-color:  #d94462;\n",
              "            color:  #f1f1f1;\n",
              "            max-width:  80px;\n",
              "            font-size:  10pt;\n",
              "        }    #T_9a3b2106_c835_11ea_8958_0242ac1c0002row5_col11 {\n",
              "            background-color:  #d94261;\n",
              "            color:  #f1f1f1;\n",
              "            max-width:  80px;\n",
              "            font-size:  10pt;\n",
              "        }    #T_9a3b2106_c835_11ea_8958_0242ac1c0002row5_col12 {\n",
              "            background-color:  #da4966;\n",
              "            color:  #000000;\n",
              "            max-width:  80px;\n",
              "            font-size:  10pt;\n",
              "        }    #T_9a3b2106_c835_11ea_8958_0242ac1c0002row5_col13 {\n",
              "            background-color:  #db4d69;\n",
              "            color:  #000000;\n",
              "            max-width:  80px;\n",
              "            font-size:  10pt;\n",
              "        }    #T_9a3b2106_c835_11ea_8958_0242ac1c0002row6_col0 {\n",
              "            background-color:  #d83e5d;\n",
              "            color:  #f1f1f1;\n",
              "            max-width:  80px;\n",
              "            font-size:  10pt;\n",
              "        }    #T_9a3b2106_c835_11ea_8958_0242ac1c0002row6_col1 {\n",
              "            background-color:  #d73d5c;\n",
              "            color:  #f1f1f1;\n",
              "            max-width:  80px;\n",
              "            font-size:  10pt;\n",
              "        }    #T_9a3b2106_c835_11ea_8958_0242ac1c0002row6_col2 {\n",
              "            background-color:  #d8415f;\n",
              "            color:  #f1f1f1;\n",
              "            max-width:  80px;\n",
              "            font-size:  10pt;\n",
              "        }    #T_9a3b2106_c835_11ea_8958_0242ac1c0002row6_col3 {\n",
              "            background-color:  #d8415f;\n",
              "            color:  #f1f1f1;\n",
              "            max-width:  80px;\n",
              "            font-size:  10pt;\n",
              "        }    #T_9a3b2106_c835_11ea_8958_0242ac1c0002row6_col4 {\n",
              "            background-color:  #d73c5b;\n",
              "            color:  #f1f1f1;\n",
              "            max-width:  80px;\n",
              "            font-size:  10pt;\n",
              "        }    #T_9a3b2106_c835_11ea_8958_0242ac1c0002row6_col5 {\n",
              "            background-color:  #d94261;\n",
              "            color:  #f1f1f1;\n",
              "            max-width:  80px;\n",
              "            font-size:  10pt;\n",
              "        }    #T_9a3b2106_c835_11ea_8958_0242ac1c0002row6_col6 {\n",
              "            background-color:  #4479bb;\n",
              "            color:  #000000;\n",
              "            max-width:  80px;\n",
              "            font-size:  10pt;\n",
              "        }    #T_9a3b2106_c835_11ea_8958_0242ac1c0002row6_col7 {\n",
              "            background-color:  #d8405e;\n",
              "            color:  #f1f1f1;\n",
              "            max-width:  80px;\n",
              "            font-size:  10pt;\n",
              "        }    #T_9a3b2106_c835_11ea_8958_0242ac1c0002row6_col8 {\n",
              "            background-color:  #d73d5c;\n",
              "            color:  #f1f1f1;\n",
              "            max-width:  80px;\n",
              "            font-size:  10pt;\n",
              "        }    #T_9a3b2106_c835_11ea_8958_0242ac1c0002row6_col9 {\n",
              "            background-color:  #d73d5c;\n",
              "            color:  #f1f1f1;\n",
              "            max-width:  80px;\n",
              "            font-size:  10pt;\n",
              "        }    #T_9a3b2106_c835_11ea_8958_0242ac1c0002row6_col10 {\n",
              "            background-color:  #d73d5c;\n",
              "            color:  #f1f1f1;\n",
              "            max-width:  80px;\n",
              "            font-size:  10pt;\n",
              "        }    #T_9a3b2106_c835_11ea_8958_0242ac1c0002row6_col11 {\n",
              "            background-color:  #d83e5d;\n",
              "            color:  #f1f1f1;\n",
              "            max-width:  80px;\n",
              "            font-size:  10pt;\n",
              "        }    #T_9a3b2106_c835_11ea_8958_0242ac1c0002row6_col12 {\n",
              "            background-color:  #d73d5c;\n",
              "            color:  #f1f1f1;\n",
              "            max-width:  80px;\n",
              "            font-size:  10pt;\n",
              "        }    #T_9a3b2106_c835_11ea_8958_0242ac1c0002row6_col13 {\n",
              "            background-color:  #d73c5b;\n",
              "            color:  #f1f1f1;\n",
              "            max-width:  80px;\n",
              "            font-size:  10pt;\n",
              "        }    #T_9a3b2106_c835_11ea_8958_0242ac1c0002row7_col0 {\n",
              "            background-color:  #de5b75;\n",
              "            color:  #000000;\n",
              "            max-width:  80px;\n",
              "            font-size:  10pt;\n",
              "        }    #T_9a3b2106_c835_11ea_8958_0242ac1c0002row7_col1 {\n",
              "            background-color:  #dd5872;\n",
              "            color:  #000000;\n",
              "            max-width:  80px;\n",
              "            font-size:  10pt;\n",
              "        }    #T_9a3b2106_c835_11ea_8958_0242ac1c0002row7_col2 {\n",
              "            background-color:  #df637c;\n",
              "            color:  #000000;\n",
              "            max-width:  80px;\n",
              "            font-size:  10pt;\n",
              "        }    #T_9a3b2106_c835_11ea_8958_0242ac1c0002row7_col3 {\n",
              "            background-color:  #e0667e;\n",
              "            color:  #000000;\n",
              "            max-width:  80px;\n",
              "            font-size:  10pt;\n",
              "        }    #T_9a3b2106_c835_11ea_8958_0242ac1c0002row7_col4 {\n",
              "            background-color:  #db4e6a;\n",
              "            color:  #000000;\n",
              "            max-width:  80px;\n",
              "            font-size:  10pt;\n",
              "        }    #T_9a3b2106_c835_11ea_8958_0242ac1c0002row7_col5 {\n",
              "            background-color:  #e26f86;\n",
              "            color:  #000000;\n",
              "            max-width:  80px;\n",
              "            font-size:  10pt;\n",
              "        }    #T_9a3b2106_c835_11ea_8958_0242ac1c0002row7_col6 {\n",
              "            background-color:  #de5f79;\n",
              "            color:  #000000;\n",
              "            max-width:  80px;\n",
              "            font-size:  10pt;\n",
              "        }    #T_9a3b2106_c835_11ea_8958_0242ac1c0002row7_col7 {\n",
              "            background-color:  #4479bb;\n",
              "            color:  #000000;\n",
              "            max-width:  80px;\n",
              "            font-size:  10pt;\n",
              "        }    #T_9a3b2106_c835_11ea_8958_0242ac1c0002row7_col8 {\n",
              "            background-color:  #d73d5c;\n",
              "            color:  #f1f1f1;\n",
              "            max-width:  80px;\n",
              "            font-size:  10pt;\n",
              "        }    #T_9a3b2106_c835_11ea_8958_0242ac1c0002row7_col9 {\n",
              "            background-color:  #d73c5b;\n",
              "            color:  #f1f1f1;\n",
              "            max-width:  80px;\n",
              "            font-size:  10pt;\n",
              "        }    #T_9a3b2106_c835_11ea_8958_0242ac1c0002row7_col10 {\n",
              "            background-color:  #d73c5b;\n",
              "            color:  #f1f1f1;\n",
              "            max-width:  80px;\n",
              "            font-size:  10pt;\n",
              "        }    #T_9a3b2106_c835_11ea_8958_0242ac1c0002row7_col11 {\n",
              "            background-color:  #d8405e;\n",
              "            color:  #f1f1f1;\n",
              "            max-width:  80px;\n",
              "            font-size:  10pt;\n",
              "        }    #T_9a3b2106_c835_11ea_8958_0242ac1c0002row7_col12 {\n",
              "            background-color:  #d8415f;\n",
              "            color:  #f1f1f1;\n",
              "            max-width:  80px;\n",
              "            font-size:  10pt;\n",
              "        }    #T_9a3b2106_c835_11ea_8958_0242ac1c0002row7_col13 {\n",
              "            background-color:  #de5e77;\n",
              "            color:  #000000;\n",
              "            max-width:  80px;\n",
              "            font-size:  10pt;\n",
              "        }    #T_9a3b2106_c835_11ea_8958_0242ac1c0002row8_col0 {\n",
              "            background-color:  #da4966;\n",
              "            color:  #000000;\n",
              "            max-width:  80px;\n",
              "            font-size:  10pt;\n",
              "        }    #T_9a3b2106_c835_11ea_8958_0242ac1c0002row8_col1 {\n",
              "            background-color:  #e4798e;\n",
              "            color:  #000000;\n",
              "            max-width:  80px;\n",
              "            font-size:  10pt;\n",
              "        }    #T_9a3b2106_c835_11ea_8958_0242ac1c0002row8_col2 {\n",
              "            background-color:  #de5b75;\n",
              "            color:  #000000;\n",
              "            max-width:  80px;\n",
              "            font-size:  10pt;\n",
              "        }    #T_9a3b2106_c835_11ea_8958_0242ac1c0002row8_col3 {\n",
              "            background-color:  #e27389;\n",
              "            color:  #000000;\n",
              "            max-width:  80px;\n",
              "            font-size:  10pt;\n",
              "        }    #T_9a3b2106_c835_11ea_8958_0242ac1c0002row8_col4 {\n",
              "            background-color:  #ec9faf;\n",
              "            color:  #000000;\n",
              "            max-width:  80px;\n",
              "            font-size:  10pt;\n",
              "        }    #T_9a3b2106_c835_11ea_8958_0242ac1c0002row8_col5 {\n",
              "            background-color:  #dc546f;\n",
              "            color:  #000000;\n",
              "            max-width:  80px;\n",
              "            font-size:  10pt;\n",
              "        }    #T_9a3b2106_c835_11ea_8958_0242ac1c0002row8_col6 {\n",
              "            background-color:  #dd5a74;\n",
              "            color:  #000000;\n",
              "            max-width:  80px;\n",
              "            font-size:  10pt;\n",
              "        }    #T_9a3b2106_c835_11ea_8958_0242ac1c0002row8_col7 {\n",
              "            background-color:  #d73c5b;\n",
              "            color:  #f1f1f1;\n",
              "            max-width:  80px;\n",
              "            font-size:  10pt;\n",
              "        }    #T_9a3b2106_c835_11ea_8958_0242ac1c0002row8_col8 {\n",
              "            background-color:  #4479bb;\n",
              "            color:  #000000;\n",
              "            max-width:  80px;\n",
              "            font-size:  10pt;\n",
              "        }    #T_9a3b2106_c835_11ea_8958_0242ac1c0002row8_col9 {\n",
              "            background-color:  #477bbc;\n",
              "            color:  #000000;\n",
              "            max-width:  80px;\n",
              "            font-size:  10pt;\n",
              "        }    #T_9a3b2106_c835_11ea_8958_0242ac1c0002row8_col10 {\n",
              "            background-color:  #457abb;\n",
              "            color:  #000000;\n",
              "            max-width:  80px;\n",
              "            font-size:  10pt;\n",
              "        }    #T_9a3b2106_c835_11ea_8958_0242ac1c0002row8_col11 {\n",
              "            background-color:  #5f8cc5;\n",
              "            color:  #000000;\n",
              "            max-width:  80px;\n",
              "            font-size:  10pt;\n",
              "        }    #T_9a3b2106_c835_11ea_8958_0242ac1c0002row8_col12 {\n",
              "            background-color:  #5686c1;\n",
              "            color:  #000000;\n",
              "            max-width:  80px;\n",
              "            font-size:  10pt;\n",
              "        }    #T_9a3b2106_c835_11ea_8958_0242ac1c0002row8_col13 {\n",
              "            background-color:  #dd5671;\n",
              "            color:  #000000;\n",
              "            max-width:  80px;\n",
              "            font-size:  10pt;\n",
              "        }    #T_9a3b2106_c835_11ea_8958_0242ac1c0002row9_col0 {\n",
              "            background-color:  #da4b68;\n",
              "            color:  #000000;\n",
              "            max-width:  80px;\n",
              "            font-size:  10pt;\n",
              "        }    #T_9a3b2106_c835_11ea_8958_0242ac1c0002row9_col1 {\n",
              "            background-color:  #e47a90;\n",
              "            color:  #000000;\n",
              "            max-width:  80px;\n",
              "            font-size:  10pt;\n",
              "        }    #T_9a3b2106_c835_11ea_8958_0242ac1c0002row9_col2 {\n",
              "            background-color:  #de5e77;\n",
              "            color:  #000000;\n",
              "            max-width:  80px;\n",
              "            font-size:  10pt;\n",
              "        }    #T_9a3b2106_c835_11ea_8958_0242ac1c0002row9_col3 {\n",
              "            background-color:  #e3768c;\n",
              "            color:  #000000;\n",
              "            max-width:  80px;\n",
              "            font-size:  10pt;\n",
              "        }    #T_9a3b2106_c835_11ea_8958_0242ac1c0002row9_col4 {\n",
              "            background-color:  #eca3b1;\n",
              "            color:  #000000;\n",
              "            max-width:  80px;\n",
              "            font-size:  10pt;\n",
              "        }    #T_9a3b2106_c835_11ea_8958_0242ac1c0002row9_col5 {\n",
              "            background-color:  #dc5570;\n",
              "            color:  #000000;\n",
              "            max-width:  80px;\n",
              "            font-size:  10pt;\n",
              "        }    #T_9a3b2106_c835_11ea_8958_0242ac1c0002row9_col6 {\n",
              "            background-color:  #de5b75;\n",
              "            color:  #000000;\n",
              "            max-width:  80px;\n",
              "            font-size:  10pt;\n",
              "        }    #T_9a3b2106_c835_11ea_8958_0242ac1c0002row9_col7 {\n",
              "            background-color:  #d73c5b;\n",
              "            color:  #f1f1f1;\n",
              "            max-width:  80px;\n",
              "            font-size:  10pt;\n",
              "        }    #T_9a3b2106_c835_11ea_8958_0242ac1c0002row9_col8 {\n",
              "            background-color:  #477bbc;\n",
              "            color:  #000000;\n",
              "            max-width:  80px;\n",
              "            font-size:  10pt;\n",
              "        }    #T_9a3b2106_c835_11ea_8958_0242ac1c0002row9_col9 {\n",
              "            background-color:  #4479bb;\n",
              "            color:  #000000;\n",
              "            max-width:  80px;\n",
              "            font-size:  10pt;\n",
              "        }    #T_9a3b2106_c835_11ea_8958_0242ac1c0002row9_col10 {\n",
              "            background-color:  #477bbc;\n",
              "            color:  #000000;\n",
              "            max-width:  80px;\n",
              "            font-size:  10pt;\n",
              "        }    #T_9a3b2106_c835_11ea_8958_0242ac1c0002row9_col11 {\n",
              "            background-color:  #628fc6;\n",
              "            color:  #000000;\n",
              "            max-width:  80px;\n",
              "            font-size:  10pt;\n",
              "        }    #T_9a3b2106_c835_11ea_8958_0242ac1c0002row9_col12 {\n",
              "            background-color:  #5787c2;\n",
              "            color:  #000000;\n",
              "            max-width:  80px;\n",
              "            font-size:  10pt;\n",
              "        }    #T_9a3b2106_c835_11ea_8958_0242ac1c0002row9_col13 {\n",
              "            background-color:  #dd5872;\n",
              "            color:  #000000;\n",
              "            max-width:  80px;\n",
              "            font-size:  10pt;\n",
              "        }    #T_9a3b2106_c835_11ea_8958_0242ac1c0002row10_col0 {\n",
              "            background-color:  #da4b68;\n",
              "            color:  #000000;\n",
              "            max-width:  80px;\n",
              "            font-size:  10pt;\n",
              "        }    #T_9a3b2106_c835_11ea_8958_0242ac1c0002row10_col1 {\n",
              "            background-color:  #e4798e;\n",
              "            color:  #000000;\n",
              "            max-width:  80px;\n",
              "            font-size:  10pt;\n",
              "        }    #T_9a3b2106_c835_11ea_8958_0242ac1c0002row10_col2 {\n",
              "            background-color:  #de5b75;\n",
              "            color:  #000000;\n",
              "            max-width:  80px;\n",
              "            font-size:  10pt;\n",
              "        }    #T_9a3b2106_c835_11ea_8958_0242ac1c0002row10_col3 {\n",
              "            background-color:  #e27389;\n",
              "            color:  #000000;\n",
              "            max-width:  80px;\n",
              "            font-size:  10pt;\n",
              "        }    #T_9a3b2106_c835_11ea_8958_0242ac1c0002row10_col4 {\n",
              "            background-color:  #ec9faf;\n",
              "            color:  #000000;\n",
              "            max-width:  80px;\n",
              "            font-size:  10pt;\n",
              "        }    #T_9a3b2106_c835_11ea_8958_0242ac1c0002row10_col5 {\n",
              "            background-color:  #dc546f;\n",
              "            color:  #000000;\n",
              "            max-width:  80px;\n",
              "            font-size:  10pt;\n",
              "        }    #T_9a3b2106_c835_11ea_8958_0242ac1c0002row10_col6 {\n",
              "            background-color:  #de5b75;\n",
              "            color:  #000000;\n",
              "            max-width:  80px;\n",
              "            font-size:  10pt;\n",
              "        }    #T_9a3b2106_c835_11ea_8958_0242ac1c0002row10_col7 {\n",
              "            background-color:  #d73c5b;\n",
              "            color:  #f1f1f1;\n",
              "            max-width:  80px;\n",
              "            font-size:  10pt;\n",
              "        }    #T_9a3b2106_c835_11ea_8958_0242ac1c0002row10_col8 {\n",
              "            background-color:  #457abb;\n",
              "            color:  #000000;\n",
              "            max-width:  80px;\n",
              "            font-size:  10pt;\n",
              "        }    #T_9a3b2106_c835_11ea_8958_0242ac1c0002row10_col9 {\n",
              "            background-color:  #477bbc;\n",
              "            color:  #000000;\n",
              "            max-width:  80px;\n",
              "            font-size:  10pt;\n",
              "        }    #T_9a3b2106_c835_11ea_8958_0242ac1c0002row10_col10 {\n",
              "            background-color:  #4479bb;\n",
              "            color:  #000000;\n",
              "            max-width:  80px;\n",
              "            font-size:  10pt;\n",
              "        }    #T_9a3b2106_c835_11ea_8958_0242ac1c0002row10_col11 {\n",
              "            background-color:  #6490c6;\n",
              "            color:  #000000;\n",
              "            max-width:  80px;\n",
              "            font-size:  10pt;\n",
              "        }    #T_9a3b2106_c835_11ea_8958_0242ac1c0002row10_col12 {\n",
              "            background-color:  #5686c1;\n",
              "            color:  #000000;\n",
              "            max-width:  80px;\n",
              "            font-size:  10pt;\n",
              "        }    #T_9a3b2106_c835_11ea_8958_0242ac1c0002row10_col13 {\n",
              "            background-color:  #e0657d;\n",
              "            color:  #000000;\n",
              "            max-width:  80px;\n",
              "            font-size:  10pt;\n",
              "        }    #T_9a3b2106_c835_11ea_8958_0242ac1c0002row11_col0 {\n",
              "            background-color:  #da4865;\n",
              "            color:  #000000;\n",
              "            max-width:  80px;\n",
              "            font-size:  10pt;\n",
              "        }    #T_9a3b2106_c835_11ea_8958_0242ac1c0002row11_col1 {\n",
              "            background-color:  #e3748a;\n",
              "            color:  #000000;\n",
              "            max-width:  80px;\n",
              "            font-size:  10pt;\n",
              "        }    #T_9a3b2106_c835_11ea_8958_0242ac1c0002row11_col2 {\n",
              "            background-color:  #dd5a74;\n",
              "            color:  #000000;\n",
              "            max-width:  80px;\n",
              "            font-size:  10pt;\n",
              "        }    #T_9a3b2106_c835_11ea_8958_0242ac1c0002row11_col3 {\n",
              "            background-color:  #e16c84;\n",
              "            color:  #000000;\n",
              "            max-width:  80px;\n",
              "            font-size:  10pt;\n",
              "        }    #T_9a3b2106_c835_11ea_8958_0242ac1c0002row11_col4 {\n",
              "            background-color:  #ea99a9;\n",
              "            color:  #000000;\n",
              "            max-width:  80px;\n",
              "            font-size:  10pt;\n",
              "        }    #T_9a3b2106_c835_11ea_8958_0242ac1c0002row11_col5 {\n",
              "            background-color:  #db4f6b;\n",
              "            color:  #000000;\n",
              "            max-width:  80px;\n",
              "            font-size:  10pt;\n",
              "        }    #T_9a3b2106_c835_11ea_8958_0242ac1c0002row11_col6 {\n",
              "            background-color:  #dd5872;\n",
              "            color:  #000000;\n",
              "            max-width:  80px;\n",
              "            font-size:  10pt;\n",
              "        }    #T_9a3b2106_c835_11ea_8958_0242ac1c0002row11_col7 {\n",
              "            background-color:  #d73c5b;\n",
              "            color:  #f1f1f1;\n",
              "            max-width:  80px;\n",
              "            font-size:  10pt;\n",
              "        }    #T_9a3b2106_c835_11ea_8958_0242ac1c0002row11_col8 {\n",
              "            background-color:  #5f8cc5;\n",
              "            color:  #000000;\n",
              "            max-width:  80px;\n",
              "            font-size:  10pt;\n",
              "        }    #T_9a3b2106_c835_11ea_8958_0242ac1c0002row11_col9 {\n",
              "            background-color:  #628fc6;\n",
              "            color:  #000000;\n",
              "            max-width:  80px;\n",
              "            font-size:  10pt;\n",
              "        }    #T_9a3b2106_c835_11ea_8958_0242ac1c0002row11_col10 {\n",
              "            background-color:  #6490c6;\n",
              "            color:  #000000;\n",
              "            max-width:  80px;\n",
              "            font-size:  10pt;\n",
              "        }    #T_9a3b2106_c835_11ea_8958_0242ac1c0002row11_col11 {\n",
              "            background-color:  #4479bb;\n",
              "            color:  #000000;\n",
              "            max-width:  80px;\n",
              "            font-size:  10pt;\n",
              "        }    #T_9a3b2106_c835_11ea_8958_0242ac1c0002row11_col12 {\n",
              "            background-color:  #7da2cf;\n",
              "            color:  #000000;\n",
              "            max-width:  80px;\n",
              "            font-size:  10pt;\n",
              "        }    #T_9a3b2106_c835_11ea_8958_0242ac1c0002row11_col13 {\n",
              "            background-color:  #dc526e;\n",
              "            color:  #000000;\n",
              "            max-width:  80px;\n",
              "            font-size:  10pt;\n",
              "        }    #T_9a3b2106_c835_11ea_8958_0242ac1c0002row12_col0 {\n",
              "            background-color:  #d94261;\n",
              "            color:  #f1f1f1;\n",
              "            max-width:  80px;\n",
              "            font-size:  10pt;\n",
              "        }    #T_9a3b2106_c835_11ea_8958_0242ac1c0002row12_col1 {\n",
              "            background-color:  #e3748a;\n",
              "            color:  #000000;\n",
              "            max-width:  80px;\n",
              "            font-size:  10pt;\n",
              "        }    #T_9a3b2106_c835_11ea_8958_0242ac1c0002row12_col2 {\n",
              "            background-color:  #de5c76;\n",
              "            color:  #000000;\n",
              "            max-width:  80px;\n",
              "            font-size:  10pt;\n",
              "        }    #T_9a3b2106_c835_11ea_8958_0242ac1c0002row12_col3 {\n",
              "            background-color:  #e27389;\n",
              "            color:  #000000;\n",
              "            max-width:  80px;\n",
              "            font-size:  10pt;\n",
              "        }    #T_9a3b2106_c835_11ea_8958_0242ac1c0002row12_col4 {\n",
              "            background-color:  #ea99a9;\n",
              "            color:  #000000;\n",
              "            max-width:  80px;\n",
              "            font-size:  10pt;\n",
              "        }    #T_9a3b2106_c835_11ea_8958_0242ac1c0002row12_col5 {\n",
              "            background-color:  #dc546f;\n",
              "            color:  #000000;\n",
              "            max-width:  80px;\n",
              "            font-size:  10pt;\n",
              "        }    #T_9a3b2106_c835_11ea_8958_0242ac1c0002row12_col6 {\n",
              "            background-color:  #dc5570;\n",
              "            color:  #000000;\n",
              "            max-width:  80px;\n",
              "            font-size:  10pt;\n",
              "        }    #T_9a3b2106_c835_11ea_8958_0242ac1c0002row12_col7 {\n",
              "            background-color:  #d73c5b;\n",
              "            color:  #f1f1f1;\n",
              "            max-width:  80px;\n",
              "            font-size:  10pt;\n",
              "        }    #T_9a3b2106_c835_11ea_8958_0242ac1c0002row12_col8 {\n",
              "            background-color:  #5686c1;\n",
              "            color:  #000000;\n",
              "            max-width:  80px;\n",
              "            font-size:  10pt;\n",
              "        }    #T_9a3b2106_c835_11ea_8958_0242ac1c0002row12_col9 {\n",
              "            background-color:  #5787c2;\n",
              "            color:  #000000;\n",
              "            max-width:  80px;\n",
              "            font-size:  10pt;\n",
              "        }    #T_9a3b2106_c835_11ea_8958_0242ac1c0002row12_col10 {\n",
              "            background-color:  #5686c1;\n",
              "            color:  #000000;\n",
              "            max-width:  80px;\n",
              "            font-size:  10pt;\n",
              "        }    #T_9a3b2106_c835_11ea_8958_0242ac1c0002row12_col11 {\n",
              "            background-color:  #7da2cf;\n",
              "            color:  #000000;\n",
              "            max-width:  80px;\n",
              "            font-size:  10pt;\n",
              "        }    #T_9a3b2106_c835_11ea_8958_0242ac1c0002row12_col12 {\n",
              "            background-color:  #4479bb;\n",
              "            color:  #000000;\n",
              "            max-width:  80px;\n",
              "            font-size:  10pt;\n",
              "        }    #T_9a3b2106_c835_11ea_8958_0242ac1c0002row12_col13 {\n",
              "            background-color:  #dc526e;\n",
              "            color:  #000000;\n",
              "            max-width:  80px;\n",
              "            font-size:  10pt;\n",
              "        }    #T_9a3b2106_c835_11ea_8958_0242ac1c0002row13_col0 {\n",
              "            background-color:  #d8415f;\n",
              "            color:  #f1f1f1;\n",
              "            max-width:  80px;\n",
              "            font-size:  10pt;\n",
              "        }    #T_9a3b2106_c835_11ea_8958_0242ac1c0002row13_col1 {\n",
              "            background-color:  #d83e5d;\n",
              "            color:  #f1f1f1;\n",
              "            max-width:  80px;\n",
              "            font-size:  10pt;\n",
              "        }    #T_9a3b2106_c835_11ea_8958_0242ac1c0002row13_col2 {\n",
              "            background-color:  #d83e5d;\n",
              "            color:  #f1f1f1;\n",
              "            max-width:  80px;\n",
              "            font-size:  10pt;\n",
              "        }    #T_9a3b2106_c835_11ea_8958_0242ac1c0002row13_col3 {\n",
              "            background-color:  #d8405e;\n",
              "            color:  #f1f1f1;\n",
              "            max-width:  80px;\n",
              "            font-size:  10pt;\n",
              "        }    #T_9a3b2106_c835_11ea_8958_0242ac1c0002row13_col4 {\n",
              "            background-color:  #d83e5d;\n",
              "            color:  #f1f1f1;\n",
              "            max-width:  80px;\n",
              "            font-size:  10pt;\n",
              "        }    #T_9a3b2106_c835_11ea_8958_0242ac1c0002row13_col5 {\n",
              "            background-color:  #d8415f;\n",
              "            color:  #f1f1f1;\n",
              "            max-width:  80px;\n",
              "            font-size:  10pt;\n",
              "        }    #T_9a3b2106_c835_11ea_8958_0242ac1c0002row13_col6 {\n",
              "            background-color:  #d83e5d;\n",
              "            color:  #f1f1f1;\n",
              "            max-width:  80px;\n",
              "            font-size:  10pt;\n",
              "        }    #T_9a3b2106_c835_11ea_8958_0242ac1c0002row13_col7 {\n",
              "            background-color:  #d8415f;\n",
              "            color:  #f1f1f1;\n",
              "            max-width:  80px;\n",
              "            font-size:  10pt;\n",
              "        }    #T_9a3b2106_c835_11ea_8958_0242ac1c0002row13_col8 {\n",
              "            background-color:  #d73c5b;\n",
              "            color:  #f1f1f1;\n",
              "            max-width:  80px;\n",
              "            font-size:  10pt;\n",
              "        }    #T_9a3b2106_c835_11ea_8958_0242ac1c0002row13_col9 {\n",
              "            background-color:  #d73c5b;\n",
              "            color:  #f1f1f1;\n",
              "            max-width:  80px;\n",
              "            font-size:  10pt;\n",
              "        }    #T_9a3b2106_c835_11ea_8958_0242ac1c0002row13_col10 {\n",
              "            background-color:  #da4b68;\n",
              "            color:  #000000;\n",
              "            max-width:  80px;\n",
              "            font-size:  10pt;\n",
              "        }    #T_9a3b2106_c835_11ea_8958_0242ac1c0002row13_col11 {\n",
              "            background-color:  #d73c5b;\n",
              "            color:  #f1f1f1;\n",
              "            max-width:  80px;\n",
              "            font-size:  10pt;\n",
              "        }    #T_9a3b2106_c835_11ea_8958_0242ac1c0002row13_col12 {\n",
              "            background-color:  #d73d5c;\n",
              "            color:  #f1f1f1;\n",
              "            max-width:  80px;\n",
              "            font-size:  10pt;\n",
              "        }    #T_9a3b2106_c835_11ea_8958_0242ac1c0002row13_col13 {\n",
              "            background-color:  #4479bb;\n",
              "            color:  #000000;\n",
              "            max-width:  80px;\n",
              "            font-size:  10pt;\n",
              "        }</style><table id=\"T_9a3b2106_c835_11ea_8958_0242ac1c0002\" ><caption>Hover to magify</caption><thead>    <tr>        <th class=\"blank level0\" ></th>        <th class=\"col_heading level0 col0\" >condition</th>        <th class=\"col_heading level0 col1\" >drugid</th>        <th class=\"col_heading level0 col2\" >easeofuse</th>        <th class=\"col_heading level0 col3\" >effectiveness</th>        <th class=\"col_heading level0 col4\" >usefulcount</th>        <th class=\"col_heading level0 col5\" >satisfaction</th>        <th class=\"col_heading level0 col6\" >uniqueid</th>        <th class=\"col_heading level0 col7\" >lstm_score</th>        <th class=\"col_heading level0 col8\" >count_word</th>        <th class=\"col_heading level0 col9\" >count_unique_word</th>        <th class=\"col_heading level0 col10\" >count_letters</th>        <th class=\"col_heading level0 col11\" >count_punctuations</th>        <th class=\"col_heading level0 col12\" >count_stopwords</th>        <th class=\"col_heading level0 col13\" >mean_word_len</th>    </tr></thead><tbody>\n",
              "                <tr>\n",
              "                        <th id=\"T_9a3b2106_c835_11ea_8958_0242ac1c0002level0_row0\" class=\"row_heading level0 row0\" >condition</th>\n",
              "                        <td id=\"T_9a3b2106_c835_11ea_8958_0242ac1c0002row0_col0\" class=\"data row0 col0\" >1.00</td>\n",
              "                        <td id=\"T_9a3b2106_c835_11ea_8958_0242ac1c0002row0_col1\" class=\"data row0 col1\" >-0.11</td>\n",
              "                        <td id=\"T_9a3b2106_c835_11ea_8958_0242ac1c0002row0_col2\" class=\"data row0 col2\" >-0.02</td>\n",
              "                        <td id=\"T_9a3b2106_c835_11ea_8958_0242ac1c0002row0_col3\" class=\"data row0 col3\" >-0.03</td>\n",
              "                        <td id=\"T_9a3b2106_c835_11ea_8958_0242ac1c0002row0_col4\" class=\"data row0 col4\" >-0.01</td>\n",
              "                        <td id=\"T_9a3b2106_c835_11ea_8958_0242ac1c0002row0_col5\" class=\"data row0 col5\" >0.04</td>\n",
              "                        <td id=\"T_9a3b2106_c835_11ea_8958_0242ac1c0002row0_col6\" class=\"data row0 col6\" >0.00</td>\n",
              "                        <td id=\"T_9a3b2106_c835_11ea_8958_0242ac1c0002row0_col7\" class=\"data row0 col7\" >-0.00</td>\n",
              "                        <td id=\"T_9a3b2106_c835_11ea_8958_0242ac1c0002row0_col8\" class=\"data row0 col8\" >-0.05</td>\n",
              "                        <td id=\"T_9a3b2106_c835_11ea_8958_0242ac1c0002row0_col9\" class=\"data row0 col9\" >-0.05</td>\n",
              "                        <td id=\"T_9a3b2106_c835_11ea_8958_0242ac1c0002row0_col10\" class=\"data row0 col10\" >-0.05</td>\n",
              "                        <td id=\"T_9a3b2106_c835_11ea_8958_0242ac1c0002row0_col11\" class=\"data row0 col11\" >-0.04</td>\n",
              "                        <td id=\"T_9a3b2106_c835_11ea_8958_0242ac1c0002row0_col12\" class=\"data row0 col12\" >-0.06</td>\n",
              "                        <td id=\"T_9a3b2106_c835_11ea_8958_0242ac1c0002row0_col13\" class=\"data row0 col13\" >0.00</td>\n",
              "            </tr>\n",
              "            <tr>\n",
              "                        <th id=\"T_9a3b2106_c835_11ea_8958_0242ac1c0002level0_row1\" class=\"row_heading level0 row1\" >drugid</th>\n",
              "                        <td id=\"T_9a3b2106_c835_11ea_8958_0242ac1c0002row1_col0\" class=\"data row1 col0\" >-0.11</td>\n",
              "                        <td id=\"T_9a3b2106_c835_11ea_8958_0242ac1c0002row1_col1\" class=\"data row1 col1\" >1.00</td>\n",
              "                        <td id=\"T_9a3b2106_c835_11ea_8958_0242ac1c0002row1_col2\" class=\"data row1 col2\" >-0.04</td>\n",
              "                        <td id=\"T_9a3b2106_c835_11ea_8958_0242ac1c0002row1_col3\" class=\"data row1 col3\" >-0.03</td>\n",
              "                        <td id=\"T_9a3b2106_c835_11ea_8958_0242ac1c0002row1_col4\" class=\"data row1 col4\" >0.02</td>\n",
              "                        <td id=\"T_9a3b2106_c835_11ea_8958_0242ac1c0002row1_col5\" class=\"data row1 col5\" >-0.05</td>\n",
              "                        <td id=\"T_9a3b2106_c835_11ea_8958_0242ac1c0002row1_col6\" class=\"data row1 col6\" >-0.00</td>\n",
              "                        <td id=\"T_9a3b2106_c835_11ea_8958_0242ac1c0002row1_col7\" class=\"data row1 col7\" >-0.01</td>\n",
              "                        <td id=\"T_9a3b2106_c835_11ea_8958_0242ac1c0002row1_col8\" class=\"data row1 col8\" >0.09</td>\n",
              "                        <td id=\"T_9a3b2106_c835_11ea_8958_0242ac1c0002row1_col9\" class=\"data row1 col9\" >0.09</td>\n",
              "                        <td id=\"T_9a3b2106_c835_11ea_8958_0242ac1c0002row1_col10\" class=\"data row1 col10\" >0.09</td>\n",
              "                        <td id=\"T_9a3b2106_c835_11ea_8958_0242ac1c0002row1_col11\" class=\"data row1 col11\" >0.08</td>\n",
              "                        <td id=\"T_9a3b2106_c835_11ea_8958_0242ac1c0002row1_col12\" class=\"data row1 col12\" >0.09</td>\n",
              "                        <td id=\"T_9a3b2106_c835_11ea_8958_0242ac1c0002row1_col13\" class=\"data row1 col13\" >-0.00</td>\n",
              "            </tr>\n",
              "            <tr>\n",
              "                        <th id=\"T_9a3b2106_c835_11ea_8958_0242ac1c0002level0_row2\" class=\"row_heading level0 row2\" >easeofuse</th>\n",
              "                        <td id=\"T_9a3b2106_c835_11ea_8958_0242ac1c0002row2_col0\" class=\"data row2 col0\" >-0.02</td>\n",
              "                        <td id=\"T_9a3b2106_c835_11ea_8958_0242ac1c0002row2_col1\" class=\"data row2 col1\" >-0.04</td>\n",
              "                        <td id=\"T_9a3b2106_c835_11ea_8958_0242ac1c0002row2_col2\" class=\"data row2 col2\" >1.00</td>\n",
              "                        <td id=\"T_9a3b2106_c835_11ea_8958_0242ac1c0002row2_col3\" class=\"data row2 col3\" >0.48</td>\n",
              "                        <td id=\"T_9a3b2106_c835_11ea_8958_0242ac1c0002row2_col4\" class=\"data row2 col4\" >0.04</td>\n",
              "                        <td id=\"T_9a3b2106_c835_11ea_8958_0242ac1c0002row2_col5\" class=\"data row2 col5\" >0.49</td>\n",
              "                        <td id=\"T_9a3b2106_c835_11ea_8958_0242ac1c0002row2_col6\" class=\"data row2 col6\" >0.01</td>\n",
              "                        <td id=\"T_9a3b2106_c835_11ea_8958_0242ac1c0002row2_col7\" class=\"data row2 col7\" >0.02</td>\n",
              "                        <td id=\"T_9a3b2106_c835_11ea_8958_0242ac1c0002row2_col8\" class=\"data row2 col8\" >0.00</td>\n",
              "                        <td id=\"T_9a3b2106_c835_11ea_8958_0242ac1c0002row2_col9\" class=\"data row2 col9\" >0.01</td>\n",
              "                        <td id=\"T_9a3b2106_c835_11ea_8958_0242ac1c0002row2_col10\" class=\"data row2 col10\" >0.00</td>\n",
              "                        <td id=\"T_9a3b2106_c835_11ea_8958_0242ac1c0002row2_col11\" class=\"data row2 col11\" >0.01</td>\n",
              "                        <td id=\"T_9a3b2106_c835_11ea_8958_0242ac1c0002row2_col12\" class=\"data row2 col12\" >0.02</td>\n",
              "                        <td id=\"T_9a3b2106_c835_11ea_8958_0242ac1c0002row2_col13\" class=\"data row2 col13\" >-0.01</td>\n",
              "            </tr>\n",
              "            <tr>\n",
              "                        <th id=\"T_9a3b2106_c835_11ea_8958_0242ac1c0002level0_row3\" class=\"row_heading level0 row3\" >effectiveness</th>\n",
              "                        <td id=\"T_9a3b2106_c835_11ea_8958_0242ac1c0002row3_col0\" class=\"data row3 col0\" >-0.03</td>\n",
              "                        <td id=\"T_9a3b2106_c835_11ea_8958_0242ac1c0002row3_col1\" class=\"data row3 col1\" >-0.03</td>\n",
              "                        <td id=\"T_9a3b2106_c835_11ea_8958_0242ac1c0002row3_col2\" class=\"data row3 col2\" >0.48</td>\n",
              "                        <td id=\"T_9a3b2106_c835_11ea_8958_0242ac1c0002row3_col3\" class=\"data row3 col3\" >1.00</td>\n",
              "                        <td id=\"T_9a3b2106_c835_11ea_8958_0242ac1c0002row3_col4\" class=\"data row3 col4\" >0.06</td>\n",
              "                        <td id=\"T_9a3b2106_c835_11ea_8958_0242ac1c0002row3_col5\" class=\"data row3 col5\" >0.73</td>\n",
              "                        <td id=\"T_9a3b2106_c835_11ea_8958_0242ac1c0002row3_col6\" class=\"data row3 col6\" >0.01</td>\n",
              "                        <td id=\"T_9a3b2106_c835_11ea_8958_0242ac1c0002row3_col7\" class=\"data row3 col7\" >0.03</td>\n",
              "                        <td id=\"T_9a3b2106_c835_11ea_8958_0242ac1c0002row3_col8\" class=\"data row3 col8\" >0.07</td>\n",
              "                        <td id=\"T_9a3b2106_c835_11ea_8958_0242ac1c0002row3_col9\" class=\"data row3 col9\" >0.08</td>\n",
              "                        <td id=\"T_9a3b2106_c835_11ea_8958_0242ac1c0002row3_col10\" class=\"data row3 col10\" >0.07</td>\n",
              "                        <td id=\"T_9a3b2106_c835_11ea_8958_0242ac1c0002row3_col11\" class=\"data row3 col11\" >0.06</td>\n",
              "                        <td id=\"T_9a3b2106_c835_11ea_8958_0242ac1c0002row3_col12\" class=\"data row3 col12\" >0.09</td>\n",
              "                        <td id=\"T_9a3b2106_c835_11ea_8958_0242ac1c0002row3_col13\" class=\"data row3 col13\" >-0.00</td>\n",
              "            </tr>\n",
              "            <tr>\n",
              "                        <th id=\"T_9a3b2106_c835_11ea_8958_0242ac1c0002level0_row4\" class=\"row_heading level0 row4\" >usefulcount</th>\n",
              "                        <td id=\"T_9a3b2106_c835_11ea_8958_0242ac1c0002row4_col0\" class=\"data row4 col0\" >-0.01</td>\n",
              "                        <td id=\"T_9a3b2106_c835_11ea_8958_0242ac1c0002row4_col1\" class=\"data row4 col1\" >0.02</td>\n",
              "                        <td id=\"T_9a3b2106_c835_11ea_8958_0242ac1c0002row4_col2\" class=\"data row4 col2\" >0.04</td>\n",
              "                        <td id=\"T_9a3b2106_c835_11ea_8958_0242ac1c0002row4_col3\" class=\"data row4 col3\" >0.06</td>\n",
              "                        <td id=\"T_9a3b2106_c835_11ea_8958_0242ac1c0002row4_col4\" class=\"data row4 col4\" >1.00</td>\n",
              "                        <td id=\"T_9a3b2106_c835_11ea_8958_0242ac1c0002row4_col5\" class=\"data row4 col5\" >0.07</td>\n",
              "                        <td id=\"T_9a3b2106_c835_11ea_8958_0242ac1c0002row4_col6\" class=\"data row4 col6\" >-0.00</td>\n",
              "                        <td id=\"T_9a3b2106_c835_11ea_8958_0242ac1c0002row4_col7\" class=\"data row4 col7\" >-0.04</td>\n",
              "                        <td id=\"T_9a3b2106_c835_11ea_8958_0242ac1c0002row4_col8\" class=\"data row4 col8\" >0.21</td>\n",
              "                        <td id=\"T_9a3b2106_c835_11ea_8958_0242ac1c0002row4_col9\" class=\"data row4 col9\" >0.21</td>\n",
              "                        <td id=\"T_9a3b2106_c835_11ea_8958_0242ac1c0002row4_col10\" class=\"data row4 col10\" >0.21</td>\n",
              "                        <td id=\"T_9a3b2106_c835_11ea_8958_0242ac1c0002row4_col11\" class=\"data row4 col11\" >0.19</td>\n",
              "                        <td id=\"T_9a3b2106_c835_11ea_8958_0242ac1c0002row4_col12\" class=\"data row4 col12\" >0.20</td>\n",
              "                        <td id=\"T_9a3b2106_c835_11ea_8958_0242ac1c0002row4_col13\" class=\"data row4 col13\" >-0.00</td>\n",
              "            </tr>\n",
              "            <tr>\n",
              "                        <th id=\"T_9a3b2106_c835_11ea_8958_0242ac1c0002level0_row5\" class=\"row_heading level0 row5\" >satisfaction</th>\n",
              "                        <td id=\"T_9a3b2106_c835_11ea_8958_0242ac1c0002row5_col0\" class=\"data row5 col0\" >0.04</td>\n",
              "                        <td id=\"T_9a3b2106_c835_11ea_8958_0242ac1c0002row5_col1\" class=\"data row5 col1\" >-0.05</td>\n",
              "                        <td id=\"T_9a3b2106_c835_11ea_8958_0242ac1c0002row5_col2\" class=\"data row5 col2\" >0.49</td>\n",
              "                        <td id=\"T_9a3b2106_c835_11ea_8958_0242ac1c0002row5_col3\" class=\"data row5 col3\" >0.73</td>\n",
              "                        <td id=\"T_9a3b2106_c835_11ea_8958_0242ac1c0002row5_col4\" class=\"data row5 col4\" >0.07</td>\n",
              "                        <td id=\"T_9a3b2106_c835_11ea_8958_0242ac1c0002row5_col5\" class=\"data row5 col5\" >1.00</td>\n",
              "                        <td id=\"T_9a3b2106_c835_11ea_8958_0242ac1c0002row5_col6\" class=\"data row5 col6\" >0.01</td>\n",
              "                        <td id=\"T_9a3b2106_c835_11ea_8958_0242ac1c0002row5_col7\" class=\"data row5 col7\" >0.06</td>\n",
              "                        <td id=\"T_9a3b2106_c835_11ea_8958_0242ac1c0002row5_col8\" class=\"data row5 col8\" >-0.02</td>\n",
              "                        <td id=\"T_9a3b2106_c835_11ea_8958_0242ac1c0002row5_col9\" class=\"data row5 col9\" >-0.02</td>\n",
              "                        <td id=\"T_9a3b2106_c835_11ea_8958_0242ac1c0002row5_col10\" class=\"data row5 col10\" >-0.02</td>\n",
              "                        <td id=\"T_9a3b2106_c835_11ea_8958_0242ac1c0002row5_col11\" class=\"data row5 col11\" >-0.02</td>\n",
              "                        <td id=\"T_9a3b2106_c835_11ea_8958_0242ac1c0002row5_col12\" class=\"data row5 col12\" >-0.00</td>\n",
              "                        <td id=\"T_9a3b2106_c835_11ea_8958_0242ac1c0002row5_col13\" class=\"data row5 col13\" >0.00</td>\n",
              "            </tr>\n",
              "            <tr>\n",
              "                        <th id=\"T_9a3b2106_c835_11ea_8958_0242ac1c0002level0_row6\" class=\"row_heading level0 row6\" >uniqueid</th>\n",
              "                        <td id=\"T_9a3b2106_c835_11ea_8958_0242ac1c0002row6_col0\" class=\"data row6 col0\" >0.00</td>\n",
              "                        <td id=\"T_9a3b2106_c835_11ea_8958_0242ac1c0002row6_col1\" class=\"data row6 col1\" >-0.00</td>\n",
              "                        <td id=\"T_9a3b2106_c835_11ea_8958_0242ac1c0002row6_col2\" class=\"data row6 col2\" >0.01</td>\n",
              "                        <td id=\"T_9a3b2106_c835_11ea_8958_0242ac1c0002row6_col3\" class=\"data row6 col3\" >0.01</td>\n",
              "                        <td id=\"T_9a3b2106_c835_11ea_8958_0242ac1c0002row6_col4\" class=\"data row6 col4\" >-0.00</td>\n",
              "                        <td id=\"T_9a3b2106_c835_11ea_8958_0242ac1c0002row6_col5\" class=\"data row6 col5\" >0.01</td>\n",
              "                        <td id=\"T_9a3b2106_c835_11ea_8958_0242ac1c0002row6_col6\" class=\"data row6 col6\" >1.00</td>\n",
              "                        <td id=\"T_9a3b2106_c835_11ea_8958_0242ac1c0002row6_col7\" class=\"data row6 col7\" >0.01</td>\n",
              "                        <td id=\"T_9a3b2106_c835_11ea_8958_0242ac1c0002row6_col8\" class=\"data row6 col8\" >-0.00</td>\n",
              "                        <td id=\"T_9a3b2106_c835_11ea_8958_0242ac1c0002row6_col9\" class=\"data row6 col9\" >-0.00</td>\n",
              "                        <td id=\"T_9a3b2106_c835_11ea_8958_0242ac1c0002row6_col10\" class=\"data row6 col10\" >-0.00</td>\n",
              "                        <td id=\"T_9a3b2106_c835_11ea_8958_0242ac1c0002row6_col11\" class=\"data row6 col11\" >0.00</td>\n",
              "                        <td id=\"T_9a3b2106_c835_11ea_8958_0242ac1c0002row6_col12\" class=\"data row6 col12\" >-0.00</td>\n",
              "                        <td id=\"T_9a3b2106_c835_11ea_8958_0242ac1c0002row6_col13\" class=\"data row6 col13\" >-0.01</td>\n",
              "            </tr>\n",
              "            <tr>\n",
              "                        <th id=\"T_9a3b2106_c835_11ea_8958_0242ac1c0002level0_row7\" class=\"row_heading level0 row7\" >lstm_score</th>\n",
              "                        <td id=\"T_9a3b2106_c835_11ea_8958_0242ac1c0002row7_col0\" class=\"data row7 col0\" >-0.00</td>\n",
              "                        <td id=\"T_9a3b2106_c835_11ea_8958_0242ac1c0002row7_col1\" class=\"data row7 col1\" >-0.01</td>\n",
              "                        <td id=\"T_9a3b2106_c835_11ea_8958_0242ac1c0002row7_col2\" class=\"data row7 col2\" >0.02</td>\n",
              "                        <td id=\"T_9a3b2106_c835_11ea_8958_0242ac1c0002row7_col3\" class=\"data row7 col3\" >0.03</td>\n",
              "                        <td id=\"T_9a3b2106_c835_11ea_8958_0242ac1c0002row7_col4\" class=\"data row7 col4\" >-0.04</td>\n",
              "                        <td id=\"T_9a3b2106_c835_11ea_8958_0242ac1c0002row7_col5\" class=\"data row7 col5\" >0.06</td>\n",
              "                        <td id=\"T_9a3b2106_c835_11ea_8958_0242ac1c0002row7_col6\" class=\"data row7 col6\" >0.01</td>\n",
              "                        <td id=\"T_9a3b2106_c835_11ea_8958_0242ac1c0002row7_col7\" class=\"data row7 col7\" >1.00</td>\n",
              "                        <td id=\"T_9a3b2106_c835_11ea_8958_0242ac1c0002row7_col8\" class=\"data row7 col8\" >-0.09</td>\n",
              "                        <td id=\"T_9a3b2106_c835_11ea_8958_0242ac1c0002row7_col9\" class=\"data row7 col9\" >-0.10</td>\n",
              "                        <td id=\"T_9a3b2106_c835_11ea_8958_0242ac1c0002row7_col10\" class=\"data row7 col10\" >-0.10</td>\n",
              "                        <td id=\"T_9a3b2106_c835_11ea_8958_0242ac1c0002row7_col11\" class=\"data row7 col11\" >-0.09</td>\n",
              "                        <td id=\"T_9a3b2106_c835_11ea_8958_0242ac1c0002row7_col12\" class=\"data row7 col12\" >-0.08</td>\n",
              "                        <td id=\"T_9a3b2106_c835_11ea_8958_0242ac1c0002row7_col13\" class=\"data row7 col13\" >0.00</td>\n",
              "            </tr>\n",
              "            <tr>\n",
              "                        <th id=\"T_9a3b2106_c835_11ea_8958_0242ac1c0002level0_row8\" class=\"row_heading level0 row8\" >count_word</th>\n",
              "                        <td id=\"T_9a3b2106_c835_11ea_8958_0242ac1c0002row8_col0\" class=\"data row8 col0\" >-0.05</td>\n",
              "                        <td id=\"T_9a3b2106_c835_11ea_8958_0242ac1c0002row8_col1\" class=\"data row8 col1\" >0.09</td>\n",
              "                        <td id=\"T_9a3b2106_c835_11ea_8958_0242ac1c0002row8_col2\" class=\"data row8 col2\" >0.00</td>\n",
              "                        <td id=\"T_9a3b2106_c835_11ea_8958_0242ac1c0002row8_col3\" class=\"data row8 col3\" >0.07</td>\n",
              "                        <td id=\"T_9a3b2106_c835_11ea_8958_0242ac1c0002row8_col4\" class=\"data row8 col4\" >0.21</td>\n",
              "                        <td id=\"T_9a3b2106_c835_11ea_8958_0242ac1c0002row8_col5\" class=\"data row8 col5\" >-0.02</td>\n",
              "                        <td id=\"T_9a3b2106_c835_11ea_8958_0242ac1c0002row8_col6\" class=\"data row8 col6\" >-0.00</td>\n",
              "                        <td id=\"T_9a3b2106_c835_11ea_8958_0242ac1c0002row8_col7\" class=\"data row8 col7\" >-0.09</td>\n",
              "                        <td id=\"T_9a3b2106_c835_11ea_8958_0242ac1c0002row8_col8\" class=\"data row8 col8\" >1.00</td>\n",
              "                        <td id=\"T_9a3b2106_c835_11ea_8958_0242ac1c0002row8_col9\" class=\"data row8 col9\" >0.99</td>\n",
              "                        <td id=\"T_9a3b2106_c835_11ea_8958_0242ac1c0002row8_col10\" class=\"data row8 col10\" >0.99</td>\n",
              "                        <td id=\"T_9a3b2106_c835_11ea_8958_0242ac1c0002row8_col11\" class=\"data row8 col11\" >0.91</td>\n",
              "                        <td id=\"T_9a3b2106_c835_11ea_8958_0242ac1c0002row8_col12\" class=\"data row8 col12\" >0.94</td>\n",
              "                        <td id=\"T_9a3b2106_c835_11ea_8958_0242ac1c0002row8_col13\" class=\"data row8 col13\" >-0.01</td>\n",
              "            </tr>\n",
              "            <tr>\n",
              "                        <th id=\"T_9a3b2106_c835_11ea_8958_0242ac1c0002level0_row9\" class=\"row_heading level0 row9\" >count_unique_word</th>\n",
              "                        <td id=\"T_9a3b2106_c835_11ea_8958_0242ac1c0002row9_col0\" class=\"data row9 col0\" >-0.05</td>\n",
              "                        <td id=\"T_9a3b2106_c835_11ea_8958_0242ac1c0002row9_col1\" class=\"data row9 col1\" >0.09</td>\n",
              "                        <td id=\"T_9a3b2106_c835_11ea_8958_0242ac1c0002row9_col2\" class=\"data row9 col2\" >0.01</td>\n",
              "                        <td id=\"T_9a3b2106_c835_11ea_8958_0242ac1c0002row9_col3\" class=\"data row9 col3\" >0.08</td>\n",
              "                        <td id=\"T_9a3b2106_c835_11ea_8958_0242ac1c0002row9_col4\" class=\"data row9 col4\" >0.21</td>\n",
              "                        <td id=\"T_9a3b2106_c835_11ea_8958_0242ac1c0002row9_col5\" class=\"data row9 col5\" >-0.02</td>\n",
              "                        <td id=\"T_9a3b2106_c835_11ea_8958_0242ac1c0002row9_col6\" class=\"data row9 col6\" >-0.00</td>\n",
              "                        <td id=\"T_9a3b2106_c835_11ea_8958_0242ac1c0002row9_col7\" class=\"data row9 col7\" >-0.10</td>\n",
              "                        <td id=\"T_9a3b2106_c835_11ea_8958_0242ac1c0002row9_col8\" class=\"data row9 col8\" >0.99</td>\n",
              "                        <td id=\"T_9a3b2106_c835_11ea_8958_0242ac1c0002row9_col9\" class=\"data row9 col9\" >1.00</td>\n",
              "                        <td id=\"T_9a3b2106_c835_11ea_8958_0242ac1c0002row9_col10\" class=\"data row9 col10\" >0.99</td>\n",
              "                        <td id=\"T_9a3b2106_c835_11ea_8958_0242ac1c0002row9_col11\" class=\"data row9 col11\" >0.90</td>\n",
              "                        <td id=\"T_9a3b2106_c835_11ea_8958_0242ac1c0002row9_col12\" class=\"data row9 col12\" >0.94</td>\n",
              "                        <td id=\"T_9a3b2106_c835_11ea_8958_0242ac1c0002row9_col13\" class=\"data row9 col13\" >-0.01</td>\n",
              "            </tr>\n",
              "            <tr>\n",
              "                        <th id=\"T_9a3b2106_c835_11ea_8958_0242ac1c0002level0_row10\" class=\"row_heading level0 row10\" >count_letters</th>\n",
              "                        <td id=\"T_9a3b2106_c835_11ea_8958_0242ac1c0002row10_col0\" class=\"data row10 col0\" >-0.05</td>\n",
              "                        <td id=\"T_9a3b2106_c835_11ea_8958_0242ac1c0002row10_col1\" class=\"data row10 col1\" >0.09</td>\n",
              "                        <td id=\"T_9a3b2106_c835_11ea_8958_0242ac1c0002row10_col2\" class=\"data row10 col2\" >0.00</td>\n",
              "                        <td id=\"T_9a3b2106_c835_11ea_8958_0242ac1c0002row10_col3\" class=\"data row10 col3\" >0.07</td>\n",
              "                        <td id=\"T_9a3b2106_c835_11ea_8958_0242ac1c0002row10_col4\" class=\"data row10 col4\" >0.21</td>\n",
              "                        <td id=\"T_9a3b2106_c835_11ea_8958_0242ac1c0002row10_col5\" class=\"data row10 col5\" >-0.02</td>\n",
              "                        <td id=\"T_9a3b2106_c835_11ea_8958_0242ac1c0002row10_col6\" class=\"data row10 col6\" >-0.00</td>\n",
              "                        <td id=\"T_9a3b2106_c835_11ea_8958_0242ac1c0002row10_col7\" class=\"data row10 col7\" >-0.10</td>\n",
              "                        <td id=\"T_9a3b2106_c835_11ea_8958_0242ac1c0002row10_col8\" class=\"data row10 col8\" >0.99</td>\n",
              "                        <td id=\"T_9a3b2106_c835_11ea_8958_0242ac1c0002row10_col9\" class=\"data row10 col9\" >0.99</td>\n",
              "                        <td id=\"T_9a3b2106_c835_11ea_8958_0242ac1c0002row10_col10\" class=\"data row10 col10\" >1.00</td>\n",
              "                        <td id=\"T_9a3b2106_c835_11ea_8958_0242ac1c0002row10_col11\" class=\"data row10 col11\" >0.90</td>\n",
              "                        <td id=\"T_9a3b2106_c835_11ea_8958_0242ac1c0002row10_col12\" class=\"data row10 col12\" >0.94</td>\n",
              "                        <td id=\"T_9a3b2106_c835_11ea_8958_0242ac1c0002row10_col13\" class=\"data row10 col13\" >0.03</td>\n",
              "            </tr>\n",
              "            <tr>\n",
              "                        <th id=\"T_9a3b2106_c835_11ea_8958_0242ac1c0002level0_row11\" class=\"row_heading level0 row11\" >count_punctuations</th>\n",
              "                        <td id=\"T_9a3b2106_c835_11ea_8958_0242ac1c0002row11_col0\" class=\"data row11 col0\" >-0.04</td>\n",
              "                        <td id=\"T_9a3b2106_c835_11ea_8958_0242ac1c0002row11_col1\" class=\"data row11 col1\" >0.08</td>\n",
              "                        <td id=\"T_9a3b2106_c835_11ea_8958_0242ac1c0002row11_col2\" class=\"data row11 col2\" >0.01</td>\n",
              "                        <td id=\"T_9a3b2106_c835_11ea_8958_0242ac1c0002row11_col3\" class=\"data row11 col3\" >0.06</td>\n",
              "                        <td id=\"T_9a3b2106_c835_11ea_8958_0242ac1c0002row11_col4\" class=\"data row11 col4\" >0.19</td>\n",
              "                        <td id=\"T_9a3b2106_c835_11ea_8958_0242ac1c0002row11_col5\" class=\"data row11 col5\" >-0.02</td>\n",
              "                        <td id=\"T_9a3b2106_c835_11ea_8958_0242ac1c0002row11_col6\" class=\"data row11 col6\" >0.00</td>\n",
              "                        <td id=\"T_9a3b2106_c835_11ea_8958_0242ac1c0002row11_col7\" class=\"data row11 col7\" >-0.09</td>\n",
              "                        <td id=\"T_9a3b2106_c835_11ea_8958_0242ac1c0002row11_col8\" class=\"data row11 col8\" >0.91</td>\n",
              "                        <td id=\"T_9a3b2106_c835_11ea_8958_0242ac1c0002row11_col9\" class=\"data row11 col9\" >0.90</td>\n",
              "                        <td id=\"T_9a3b2106_c835_11ea_8958_0242ac1c0002row11_col10\" class=\"data row11 col10\" >0.90</td>\n",
              "                        <td id=\"T_9a3b2106_c835_11ea_8958_0242ac1c0002row11_col11\" class=\"data row11 col11\" >1.00</td>\n",
              "                        <td id=\"T_9a3b2106_c835_11ea_8958_0242ac1c0002row11_col12\" class=\"data row11 col12\" >0.82</td>\n",
              "                        <td id=\"T_9a3b2106_c835_11ea_8958_0242ac1c0002row11_col13\" class=\"data row11 col13\" >-0.02</td>\n",
              "            </tr>\n",
              "            <tr>\n",
              "                        <th id=\"T_9a3b2106_c835_11ea_8958_0242ac1c0002level0_row12\" class=\"row_heading level0 row12\" >count_stopwords</th>\n",
              "                        <td id=\"T_9a3b2106_c835_11ea_8958_0242ac1c0002row12_col0\" class=\"data row12 col0\" >-0.06</td>\n",
              "                        <td id=\"T_9a3b2106_c835_11ea_8958_0242ac1c0002row12_col1\" class=\"data row12 col1\" >0.09</td>\n",
              "                        <td id=\"T_9a3b2106_c835_11ea_8958_0242ac1c0002row12_col2\" class=\"data row12 col2\" >0.02</td>\n",
              "                        <td id=\"T_9a3b2106_c835_11ea_8958_0242ac1c0002row12_col3\" class=\"data row12 col3\" >0.09</td>\n",
              "                        <td id=\"T_9a3b2106_c835_11ea_8958_0242ac1c0002row12_col4\" class=\"data row12 col4\" >0.20</td>\n",
              "                        <td id=\"T_9a3b2106_c835_11ea_8958_0242ac1c0002row12_col5\" class=\"data row12 col5\" >-0.00</td>\n",
              "                        <td id=\"T_9a3b2106_c835_11ea_8958_0242ac1c0002row12_col6\" class=\"data row12 col6\" >-0.00</td>\n",
              "                        <td id=\"T_9a3b2106_c835_11ea_8958_0242ac1c0002row12_col7\" class=\"data row12 col7\" >-0.08</td>\n",
              "                        <td id=\"T_9a3b2106_c835_11ea_8958_0242ac1c0002row12_col8\" class=\"data row12 col8\" >0.94</td>\n",
              "                        <td id=\"T_9a3b2106_c835_11ea_8958_0242ac1c0002row12_col9\" class=\"data row12 col9\" >0.94</td>\n",
              "                        <td id=\"T_9a3b2106_c835_11ea_8958_0242ac1c0002row12_col10\" class=\"data row12 col10\" >0.94</td>\n",
              "                        <td id=\"T_9a3b2106_c835_11ea_8958_0242ac1c0002row12_col11\" class=\"data row12 col11\" >0.82</td>\n",
              "                        <td id=\"T_9a3b2106_c835_11ea_8958_0242ac1c0002row12_col12\" class=\"data row12 col12\" >1.00</td>\n",
              "                        <td id=\"T_9a3b2106_c835_11ea_8958_0242ac1c0002row12_col13\" class=\"data row12 col13\" >-0.01</td>\n",
              "            </tr>\n",
              "            <tr>\n",
              "                        <th id=\"T_9a3b2106_c835_11ea_8958_0242ac1c0002level0_row13\" class=\"row_heading level0 row13\" >mean_word_len</th>\n",
              "                        <td id=\"T_9a3b2106_c835_11ea_8958_0242ac1c0002row13_col0\" class=\"data row13 col0\" >0.00</td>\n",
              "                        <td id=\"T_9a3b2106_c835_11ea_8958_0242ac1c0002row13_col1\" class=\"data row13 col1\" >-0.00</td>\n",
              "                        <td id=\"T_9a3b2106_c835_11ea_8958_0242ac1c0002row13_col2\" class=\"data row13 col2\" >-0.01</td>\n",
              "                        <td id=\"T_9a3b2106_c835_11ea_8958_0242ac1c0002row13_col3\" class=\"data row13 col3\" >-0.00</td>\n",
              "                        <td id=\"T_9a3b2106_c835_11ea_8958_0242ac1c0002row13_col4\" class=\"data row13 col4\" >-0.00</td>\n",
              "                        <td id=\"T_9a3b2106_c835_11ea_8958_0242ac1c0002row13_col5\" class=\"data row13 col5\" >0.00</td>\n",
              "                        <td id=\"T_9a3b2106_c835_11ea_8958_0242ac1c0002row13_col6\" class=\"data row13 col6\" >-0.01</td>\n",
              "                        <td id=\"T_9a3b2106_c835_11ea_8958_0242ac1c0002row13_col7\" class=\"data row13 col7\" >0.00</td>\n",
              "                        <td id=\"T_9a3b2106_c835_11ea_8958_0242ac1c0002row13_col8\" class=\"data row13 col8\" >-0.01</td>\n",
              "                        <td id=\"T_9a3b2106_c835_11ea_8958_0242ac1c0002row13_col9\" class=\"data row13 col9\" >-0.01</td>\n",
              "                        <td id=\"T_9a3b2106_c835_11ea_8958_0242ac1c0002row13_col10\" class=\"data row13 col10\" >0.03</td>\n",
              "                        <td id=\"T_9a3b2106_c835_11ea_8958_0242ac1c0002row13_col11\" class=\"data row13 col11\" >-0.02</td>\n",
              "                        <td id=\"T_9a3b2106_c835_11ea_8958_0242ac1c0002row13_col12\" class=\"data row13 col12\" >-0.01</td>\n",
              "                        <td id=\"T_9a3b2106_c835_11ea_8958_0242ac1c0002row13_col13\" class=\"data row13 col13\" >1.00</td>\n",
              "            </tr>\n",
              "    </tbody></table>"
            ],
            "text/plain": [
              "<pandas.io.formats.style.Styler at 0x7f3f2f3dd710>"
            ]
          },
          "metadata": {
            "tags": []
          },
          "execution_count": 59
        }
      ]
    },
    {
      "cell_type": "code",
      "metadata": {
        "id": "1q0fyCU7UZ_A",
        "colab_type": "code",
        "colab": {}
      },
      "source": [
        "drugs = drugs.dropna(how = 'any', axis = 0)"
      ],
      "execution_count": null,
      "outputs": []
    },
    {
      "cell_type": "code",
      "metadata": {
        "id": "C7EwRBynUFKG",
        "colab_type": "code",
        "colab": {
          "base_uri": "https://localhost:8080/",
          "height": 336
        },
        "outputId": "054740e2-1e1f-4569-9edc-0e2dfc687ece"
      },
      "source": [
        "# Final check for any Nan Values in Pre-processed Dataset.\n",
        "drugs.isna().sum()"
      ],
      "execution_count": null,
      "outputs": [
        {
          "output_type": "execute_result",
          "data": {
            "text/plain": [
              "condition             0\n",
              "drug                  0\n",
              "drugid                0\n",
              "easeofuse             0\n",
              "effectiveness         0\n",
              "reviews               0\n",
              "usefulcount           0\n",
              "satisfaction          0\n",
              "uniqueid              0\n",
              "reviews_clean         0\n",
              "lstm_score            0\n",
              "count_word            0\n",
              "count_unique_word     0\n",
              "count_letters         0\n",
              "count_punctuations    0\n",
              "count_stopwords       0\n",
              "mean_word_len         0\n",
              "dtype: int64"
            ]
          },
          "metadata": {
            "tags": []
          },
          "execution_count": 61
        }
      ]
    },
    {
      "cell_type": "code",
      "metadata": {
        "id": "5oXLnxKyGrh2",
        "colab_type": "code",
        "colab": {
          "base_uri": "https://localhost:8080/",
          "height": 336
        },
        "outputId": "df87d1ff-59d4-4cb9-c1cd-971a4fa0ca4b"
      },
      "source": [
        "drugs.dtypes"
      ],
      "execution_count": null,
      "outputs": [
        {
          "output_type": "execute_result",
          "data": {
            "text/plain": [
              "condition               int64\n",
              "drug                   object\n",
              "drugid                float64\n",
              "easeofuse             float64\n",
              "effectiveness         float64\n",
              "reviews                object\n",
              "usefulcount           float64\n",
              "satisfaction          float64\n",
              "uniqueid                int64\n",
              "reviews_clean          object\n",
              "lstm_score              int64\n",
              "count_word              int64\n",
              "count_unique_word       int64\n",
              "count_letters           int64\n",
              "count_punctuations      int64\n",
              "count_stopwords         int64\n",
              "mean_word_len         float64\n",
              "dtype: object"
            ]
          },
          "metadata": {
            "tags": []
          },
          "execution_count": 62
        }
      ]
    },
    {
      "cell_type": "code",
      "metadata": {
        "id": "VFELlO4NPhNq",
        "colab_type": "code",
        "colab": {
          "base_uri": "https://localhost:8080/",
          "height": 197
        },
        "outputId": "e6b2a2c9-9162-47fc-a2a4-bd2443bfbb93"
      },
      "source": [
        "drugs.head(1)"
      ],
      "execution_count": null,
      "outputs": [
        {
          "output_type": "execute_result",
          "data": {
            "text/html": [
              "<div>\n",
              "<style scoped>\n",
              "    .dataframe tbody tr th:only-of-type {\n",
              "        vertical-align: middle;\n",
              "    }\n",
              "\n",
              "    .dataframe tbody tr th {\n",
              "        vertical-align: top;\n",
              "    }\n",
              "\n",
              "    .dataframe thead th {\n",
              "        text-align: right;\n",
              "    }\n",
              "</style>\n",
              "<table border=\"1\" class=\"dataframe\">\n",
              "  <thead>\n",
              "    <tr style=\"text-align: right;\">\n",
              "      <th></th>\n",
              "      <th>condition</th>\n",
              "      <th>drug</th>\n",
              "      <th>drugid</th>\n",
              "      <th>easeofuse</th>\n",
              "      <th>effectiveness</th>\n",
              "      <th>reviews</th>\n",
              "      <th>usefulcount</th>\n",
              "      <th>satisfaction</th>\n",
              "      <th>uniqueid</th>\n",
              "      <th>reviews_clean</th>\n",
              "      <th>lstm_score</th>\n",
              "      <th>count_word</th>\n",
              "      <th>count_unique_word</th>\n",
              "      <th>count_letters</th>\n",
              "      <th>count_punctuations</th>\n",
              "      <th>count_stopwords</th>\n",
              "      <th>mean_word_len</th>\n",
              "    </tr>\n",
              "  </thead>\n",
              "  <tbody>\n",
              "    <tr>\n",
              "      <th>0</th>\n",
              "      <td>627</td>\n",
              "      <td>zoloft</td>\n",
              "      <td>35.0</td>\n",
              "      <td>5.0</td>\n",
              "      <td>5.0</td>\n",
              "      <td>i started having panic attacks 7 years ago and...</td>\n",
              "      <td>5.0</td>\n",
              "      <td>5.0</td>\n",
              "      <td>0</td>\n",
              "      <td>start panic attack year ago doctor put zoloft ...</td>\n",
              "      <td>1</td>\n",
              "      <td>41</td>\n",
              "      <td>34</td>\n",
              "      <td>219</td>\n",
              "      <td>7</td>\n",
              "      <td>39</td>\n",
              "      <td>4.365854</td>\n",
              "    </tr>\n",
              "  </tbody>\n",
              "</table>\n",
              "</div>"
            ],
            "text/plain": [
              "   condition    drug  ...  count_stopwords  mean_word_len\n",
              "0        627  zoloft  ...               39       4.365854\n",
              "\n",
              "[1 rows x 17 columns]"
            ]
          },
          "metadata": {
            "tags": []
          },
          "execution_count": 63
        }
      ]
    },
    {
      "cell_type": "markdown",
      "metadata": {
        "id": "7MHIYRuQ7PKD",
        "colab_type": "text"
      },
      "source": [
        "# Implementing Libraries for the Deep Learning Model\n",
        "- Now we'll try to perform a classification using Neural Networks, with simple dense layers.\n"
      ]
    },
    {
      "cell_type": "code",
      "metadata": {
        "trusted": true,
        "id": "MADHXiIa7PKE",
        "colab_type": "code",
        "colab": {}
      },
      "source": [
        "# Importing Libraries for the Machine Learning Model\n",
        "import time\n",
        "from sklearn.metrics import confusion_matrix, accuracy_score, classification_report, precision_score\n",
        "from sklearn.model_selection import train_test_split"
      ],
      "execution_count": null,
      "outputs": []
    },
    {
      "cell_type": "code",
      "metadata": {
        "id": "eXKflaR1Dgnp",
        "colab_type": "code",
        "colab": {
          "base_uri": "https://localhost:8080/",
          "height": 123
        },
        "outputId": "95c4d4bb-c375-4d96-b9c9-4052ef5bf84d"
      },
      "source": [
        "# Almost Equal number of instances for all classes in Target Column.\n",
        "drugs['satisfaction'].value_counts()"
      ],
      "execution_count": null,
      "outputs": [
        {
          "output_type": "execute_result",
          "data": {
            "text/plain": [
              "1.0    8494\n",
              "2.0    8491\n",
              "4.0    8491\n",
              "5.0    8491\n",
              "3.0    8487\n",
              "Name: satisfaction, dtype: int64"
            ]
          },
          "metadata": {
            "tags": []
          },
          "execution_count": 65
        }
      ]
    },
    {
      "cell_type": "code",
      "metadata": {
        "trusted": true,
        "id": "ztlt9AC47PKH",
        "colab_type": "code",
        "colab": {
          "base_uri": "https://localhost:8080/",
          "height": 52
        },
        "outputId": "be534de6-7937-483e-9681-ec56c7775264"
      },
      "source": [
        "# Defining Features/target and splitting the data as train and test set with 30% split ratio.\n",
        "features = drugs[[ 'effectiveness', 'lstm_score', 'easeofuse', 'condition', 'count_letters', 'usefulcount'\n",
        "                   ]]\n",
        "\n",
        "target = drugs['satisfaction']\n",
        "y_target_cls=to_categorical(target)\n",
        "num_cls=y_target_cls.shape[1]\n",
        "\n",
        "X_train, X_test, y_train, y_test = train_test_split(features, y_target_cls, test_size = 0.3, shuffle=True, random_state = 42)\n",
        "print (\"The Train set size \", X_train.shape)\n",
        "print (\"The Test set size \", X_test.shape)"
      ],
      "execution_count": null,
      "outputs": [
        {
          "output_type": "stream",
          "text": [
            "The Train set size  (29717, 6)\n",
            "The Test set size  (12737, 6)\n"
          ],
          "name": "stdout"
        }
      ]
    },
    {
      "cell_type": "code",
      "metadata": {
        "id": "HhXVwKaw7ruE",
        "colab_type": "code",
        "colab": {}
      },
      "source": [
        "# Early stopping incase scores doesnt change aroung cycles.\n",
        "early_stopping = EarlyStopping(min_delta = 0.001, mode = 'max', monitor='val_auc_4', patience = 20)\n",
        "callback = [early_stopping]"
      ],
      "execution_count": null,
      "outputs": []
    },
    {
      "cell_type": "code",
      "metadata": {
        "id": "dum8j8p40wd-",
        "colab_type": "code",
        "colab": {}
      },
      "source": [
        "def create_cls_model():\n",
        "    model_cls = Sequential() \n",
        "    model_cls.add(Dense(12, input_dim=6, activation='relu'))\n",
        "    #model_cls.add(Conv1D(256, 5, activation='relu'))\n",
        "    #model_cls.add(MaxPooling1D(pool_size=4))\n",
        "    #model_cls.add(LSTM(128))\n",
        "    model_cls.add(Dense(8, activation='relu'))\n",
        "    model_cls.add(Dense(num_cls, activation='softmax'))\n",
        "    model_cls.compile(loss='categorical_crossentropy', optimizer=Adam(lr=0.001), metrics=[tf.keras.metrics.AUC()])\n",
        "    model_cls.summary()\n",
        "    return model_cls"
      ],
      "execution_count": null,
      "outputs": []
    },
    {
      "cell_type": "code",
      "metadata": {
        "id": "TU0CEN_75jje",
        "colab_type": "code",
        "colab": {
          "base_uri": "https://localhost:8080/",
          "height": 265
        },
        "outputId": "2d2996b3-9cd1-4d7a-c0c5-96c5b61234cc"
      },
      "source": [
        "model_cls = create_cls_model()"
      ],
      "execution_count": null,
      "outputs": [
        {
          "output_type": "stream",
          "text": [
            "Model: \"sequential_5\"\n",
            "_________________________________________________________________\n",
            "Layer (type)                 Output Shape              Param #   \n",
            "=================================================================\n",
            "dense_11 (Dense)             (None, 12)                84        \n",
            "_________________________________________________________________\n",
            "dense_12 (Dense)             (None, 8)                 104       \n",
            "_________________________________________________________________\n",
            "dense_13 (Dense)             (None, 6)                 54        \n",
            "=================================================================\n",
            "Total params: 242\n",
            "Trainable params: 242\n",
            "Non-trainable params: 0\n",
            "_________________________________________________________________\n"
          ],
          "name": "stdout"
        }
      ]
    },
    {
      "cell_type": "code",
      "metadata": {
        "id": "3M4nk3aD2u-w",
        "colab_type": "code",
        "colab": {
          "base_uri": "https://localhost:8080/",
          "height": 1000
        },
        "outputId": "d5721537-182d-403f-da23-98f09c667305"
      },
      "source": [
        "history_clss =model_cls.fit(x = X_train, y = y_train, validation_data = (X_test, y_test), epochs = 300, callbacks=callback)\n",
        "#history_clss =model_cls.fit(x = X_train, y = y_train, validation_split=0.3, epochs = 300, callbacks=callback)\n"
      ],
      "execution_count": null,
      "outputs": [
        {
          "output_type": "stream",
          "text": [
            "Train on 29717 samples, validate on 12737 samples\n",
            "Epoch 1/300\n",
            "29717/29717 [==============================] - 3s 89us/step - loss: 11.0195 - auc_4: 0.5151 - val_loss: 1.6431 - val_auc_4: 0.5805\n",
            "Epoch 2/300\n",
            "29717/29717 [==============================] - 2s 82us/step - loss: 1.6322 - auc_4: 0.6035 - val_loss: 1.5523 - val_auc_4: 0.6224\n",
            "Epoch 3/300\n",
            "29717/29717 [==============================] - 2s 79us/step - loss: 1.5636 - auc_4: 0.6367 - val_loss: 1.5855 - val_auc_4: 0.6476\n",
            "Epoch 4/300\n",
            "29717/29717 [==============================] - 3s 89us/step - loss: 1.5075 - auc_4: 0.6571 - val_loss: 1.4670 - val_auc_4: 0.6670\n",
            "Epoch 5/300\n",
            "29717/29717 [==============================] - 3s 102us/step - loss: 1.4510 - auc_4: 0.6760 - val_loss: 1.4195 - val_auc_4: 0.6845\n",
            "Epoch 6/300\n",
            "29717/29717 [==============================] - 3s 95us/step - loss: 1.4294 - auc_4: 0.6918 - val_loss: 1.3874 - val_auc_4: 0.6990\n",
            "Epoch 7/300\n",
            "29717/29717 [==============================] - 3s 101us/step - loss: 1.3958 - auc_4: 0.7055 - val_loss: 1.4137 - val_auc_4: 0.7110\n",
            "Epoch 8/300\n",
            "29717/29717 [==============================] - 3s 88us/step - loss: 1.3742 - auc_4: 0.7160 - val_loss: 1.3659 - val_auc_4: 0.7210\n",
            "Epoch 9/300\n",
            "29717/29717 [==============================] - 3s 89us/step - loss: 1.3497 - auc_4: 0.7257 - val_loss: 1.3111 - val_auc_4: 0.7304\n",
            "Epoch 10/300\n",
            "29717/29717 [==============================] - 3s 84us/step - loss: 1.3234 - auc_4: 0.7348 - val_loss: 1.2954 - val_auc_4: 0.7390\n",
            "Epoch 11/300\n",
            "29717/29717 [==============================] - 3s 85us/step - loss: 1.3013 - auc_4: 0.7429 - val_loss: 1.2916 - val_auc_4: 0.7467\n",
            "Epoch 12/300\n",
            "29717/29717 [==============================] - 3s 85us/step - loss: 1.2867 - auc_4: 0.7502 - val_loss: 1.2722 - val_auc_4: 0.7536\n",
            "Epoch 13/300\n",
            "29717/29717 [==============================] - 3s 86us/step - loss: 1.2803 - auc_4: 0.7567 - val_loss: 1.2951 - val_auc_4: 0.7594\n",
            "Epoch 14/300\n",
            "29717/29717 [==============================] - 3s 88us/step - loss: 1.2669 - auc_4: 0.7620 - val_loss: 1.2349 - val_auc_4: 0.7648\n",
            "Epoch 15/300\n",
            "29717/29717 [==============================] - 3s 88us/step - loss: 1.2556 - auc_4: 0.7674 - val_loss: 1.2371 - val_auc_4: 0.7698\n",
            "Epoch 16/300\n",
            "29717/29717 [==============================] - 3s 91us/step - loss: 1.2480 - auc_4: 0.7721 - val_loss: 1.2656 - val_auc_4: 0.7742\n",
            "Epoch 17/300\n",
            "29717/29717 [==============================] - 2s 83us/step - loss: 1.2448 - auc_4: 0.7761 - val_loss: 1.2310 - val_auc_4: 0.7781\n",
            "Epoch 18/300\n",
            "29717/29717 [==============================] - 3s 88us/step - loss: 1.2431 - auc_4: 0.7799 - val_loss: 1.3036 - val_auc_4: 0.7816\n",
            "Epoch 19/300\n",
            "29717/29717 [==============================] - 3s 87us/step - loss: 1.2319 - auc_4: 0.7831 - val_loss: 1.2191 - val_auc_4: 0.7848\n",
            "Epoch 20/300\n",
            "29717/29717 [==============================] - 3s 86us/step - loss: 1.2284 - auc_4: 0.7864 - val_loss: 1.2450 - val_auc_4: 0.7878\n",
            "Epoch 21/300\n",
            "29717/29717 [==============================] - 3s 90us/step - loss: 1.2186 - auc_4: 0.7892 - val_loss: 1.2406 - val_auc_4: 0.7906\n",
            "Epoch 22/300\n",
            "29717/29717 [==============================] - 3s 91us/step - loss: 1.2245 - auc_4: 0.7919 - val_loss: 1.2220 - val_auc_4: 0.7932\n",
            "Epoch 23/300\n",
            "29717/29717 [==============================] - 3s 91us/step - loss: 1.2154 - auc_4: 0.7945 - val_loss: 1.2230 - val_auc_4: 0.7957\n",
            "Epoch 24/300\n",
            "29717/29717 [==============================] - 3s 86us/step - loss: 1.2177 - auc_4: 0.7968 - val_loss: 1.2335 - val_auc_4: 0.7979\n",
            "Epoch 25/300\n",
            "29717/29717 [==============================] - 3s 87us/step - loss: 1.2122 - auc_4: 0.7990 - val_loss: 1.4113 - val_auc_4: 0.7997\n",
            "Epoch 26/300\n",
            "29717/29717 [==============================] - 3s 87us/step - loss: 1.2120 - auc_4: 0.8004 - val_loss: 1.1914 - val_auc_4: 0.8014\n",
            "Epoch 27/300\n",
            "29717/29717 [==============================] - 2s 83us/step - loss: 1.2055 - auc_4: 0.8024 - val_loss: 1.2411 - val_auc_4: 0.8032\n",
            "Epoch 28/300\n",
            "29717/29717 [==============================] - 2s 82us/step - loss: 1.2026 - auc_4: 0.8041 - val_loss: 1.1980 - val_auc_4: 0.8049\n",
            "Epoch 29/300\n",
            "29717/29717 [==============================] - 2s 82us/step - loss: 1.2024 - auc_4: 0.8058 - val_loss: 1.2101 - val_auc_4: 0.8066\n",
            "Epoch 30/300\n",
            "29717/29717 [==============================] - 3s 86us/step - loss: 1.1951 - auc_4: 0.8074 - val_loss: 1.1983 - val_auc_4: 0.8082\n",
            "Epoch 31/300\n",
            "29717/29717 [==============================] - 3s 88us/step - loss: 1.1994 - auc_4: 0.8090 - val_loss: 1.1759 - val_auc_4: 0.8098\n",
            "Epoch 32/300\n",
            "29717/29717 [==============================] - 2s 84us/step - loss: 1.1973 - auc_4: 0.8105 - val_loss: 1.2114 - val_auc_4: 0.8112\n",
            "Epoch 33/300\n",
            "29717/29717 [==============================] - 2s 82us/step - loss: 1.1871 - auc_4: 0.8118 - val_loss: 1.1974 - val_auc_4: 0.8125\n",
            "Epoch 34/300\n",
            "29717/29717 [==============================] - 2s 83us/step - loss: 1.1866 - auc_4: 0.8131 - val_loss: 1.1840 - val_auc_4: 0.8138\n",
            "Epoch 35/300\n",
            "29717/29717 [==============================] - 3s 88us/step - loss: 1.1842 - auc_4: 0.8145 - val_loss: 1.1979 - val_auc_4: 0.8151\n",
            "Epoch 36/300\n",
            "29717/29717 [==============================] - 2s 76us/step - loss: 1.1858 - auc_4: 0.8156 - val_loss: 1.1898 - val_auc_4: 0.8162\n",
            "Epoch 37/300\n",
            "29717/29717 [==============================] - 2s 80us/step - loss: 1.1694 - auc_4: 0.8168 - val_loss: 1.1610 - val_auc_4: 0.8175\n",
            "Epoch 38/300\n",
            "29717/29717 [==============================] - 2s 82us/step - loss: 1.1715 - auc_4: 0.8181 - val_loss: 1.2128 - val_auc_4: 0.8186\n",
            "Epoch 39/300\n",
            "29717/29717 [==============================] - 3s 85us/step - loss: 1.1688 - auc_4: 0.8191 - val_loss: 1.1737 - val_auc_4: 0.8197\n",
            "Epoch 40/300\n",
            "29717/29717 [==============================] - 2s 83us/step - loss: 1.1604 - auc_4: 0.8203 - val_loss: 1.1642 - val_auc_4: 0.8208\n",
            "Epoch 41/300\n",
            "29717/29717 [==============================] - 3s 86us/step - loss: 1.1556 - auc_4: 0.8214 - val_loss: 1.1399 - val_auc_4: 0.8220\n",
            "Epoch 42/300\n",
            "29717/29717 [==============================] - 3s 85us/step - loss: 1.1523 - auc_4: 0.8226 - val_loss: 1.1739 - val_auc_4: 0.8231\n",
            "Epoch 43/300\n",
            "29717/29717 [==============================] - 3s 86us/step - loss: 1.1493 - auc_4: 0.8236 - val_loss: 1.1489 - val_auc_4: 0.8241\n",
            "Epoch 44/300\n",
            "29717/29717 [==============================] - 2s 80us/step - loss: 1.1473 - auc_4: 0.8246 - val_loss: 1.1337 - val_auc_4: 0.8251\n",
            "Epoch 45/300\n",
            "29717/29717 [==============================] - 3s 87us/step - loss: 1.1462 - auc_4: 0.8256 - val_loss: 1.1596 - val_auc_4: 0.8261\n",
            "Epoch 46/300\n",
            "29717/29717 [==============================] - 2s 77us/step - loss: 1.1448 - auc_4: 0.8265 - val_loss: 1.1478 - val_auc_4: 0.8270\n",
            "Epoch 47/300\n",
            "29717/29717 [==============================] - 2s 82us/step - loss: 1.1409 - auc_4: 0.8274 - val_loss: 1.1303 - val_auc_4: 0.8279\n",
            "Epoch 48/300\n",
            "29717/29717 [==============================] - 2s 83us/step - loss: 1.1409 - auc_4: 0.8284 - val_loss: 1.1644 - val_auc_4: 0.8288\n",
            "Epoch 49/300\n",
            "29717/29717 [==============================] - 2s 84us/step - loss: 1.1345 - auc_4: 0.8292 - val_loss: 1.1263 - val_auc_4: 0.8297\n",
            "Epoch 50/300\n",
            "29717/29717 [==============================] - 2s 83us/step - loss: 1.1315 - auc_4: 0.8301 - val_loss: 1.1258 - val_auc_4: 0.8305\n",
            "Epoch 51/300\n",
            "29717/29717 [==============================] - 2s 82us/step - loss: 1.1360 - auc_4: 0.8309 - val_loss: 1.1459 - val_auc_4: 0.8313\n",
            "Epoch 52/300\n",
            "29717/29717 [==============================] - 2s 80us/step - loss: 1.1273 - auc_4: 0.8317 - val_loss: 1.1693 - val_auc_4: 0.8321\n",
            "Epoch 53/300\n",
            "29717/29717 [==============================] - 3s 87us/step - loss: 1.1316 - auc_4: 0.8324 - val_loss: 1.1463 - val_auc_4: 0.8328\n",
            "Epoch 54/300\n",
            "29717/29717 [==============================] - 3s 85us/step - loss: 1.1239 - auc_4: 0.8332 - val_loss: 1.1436 - val_auc_4: 0.8335\n",
            "Epoch 55/300\n",
            "29717/29717 [==============================] - 3s 85us/step - loss: 1.1283 - auc_4: 0.8339 - val_loss: 1.1424 - val_auc_4: 0.8342\n",
            "Epoch 56/300\n",
            "29717/29717 [==============================] - 3s 86us/step - loss: 1.1249 - auc_4: 0.8345 - val_loss: 1.1242 - val_auc_4: 0.8349\n",
            "Epoch 57/300\n",
            "29717/29717 [==============================] - 2s 78us/step - loss: 1.1247 - auc_4: 0.8352 - val_loss: 1.1415 - val_auc_4: 0.8355\n",
            "Epoch 58/300\n",
            "29717/29717 [==============================] - 3s 86us/step - loss: 1.1270 - auc_4: 0.8359 - val_loss: 1.1487 - val_auc_4: 0.8362\n",
            "Epoch 59/300\n",
            "29717/29717 [==============================] - 2s 83us/step - loss: 1.1209 - auc_4: 0.8365 - val_loss: 1.1223 - val_auc_4: 0.8368\n",
            "Epoch 60/300\n",
            "29717/29717 [==============================] - 2s 81us/step - loss: 1.1206 - auc_4: 0.8371 - val_loss: 1.1946 - val_auc_4: 0.8374\n",
            "Epoch 61/300\n",
            "29717/29717 [==============================] - 2s 82us/step - loss: 1.1221 - auc_4: 0.8376 - val_loss: 1.1143 - val_auc_4: 0.8379\n",
            "Epoch 62/300\n",
            "29717/29717 [==============================] - 2s 78us/step - loss: 1.1228 - auc_4: 0.8382 - val_loss: 1.1324 - val_auc_4: 0.8385\n",
            "Epoch 63/300\n",
            "29717/29717 [==============================] - 2s 80us/step - loss: 1.1181 - auc_4: 0.8387 - val_loss: 1.1084 - val_auc_4: 0.8390\n",
            "Epoch 64/300\n",
            "29717/29717 [==============================] - 2s 78us/step - loss: 1.1164 - auc_4: 0.8393 - val_loss: 1.1278 - val_auc_4: 0.8396\n",
            "Epoch 65/300\n",
            "29717/29717 [==============================] - 2s 77us/step - loss: 1.1159 - auc_4: 0.8399 - val_loss: 1.1084 - val_auc_4: 0.8401\n",
            "Epoch 66/300\n",
            "29717/29717 [==============================] - 2s 81us/step - loss: 1.1169 - auc_4: 0.8404 - val_loss: 1.1211 - val_auc_4: 0.8407\n",
            "Epoch 67/300\n",
            "29717/29717 [==============================] - 2s 79us/step - loss: 1.1211 - auc_4: 0.8409 - val_loss: 1.1078 - val_auc_4: 0.8411\n",
            "Epoch 68/300\n",
            "29717/29717 [==============================] - 2s 80us/step - loss: 1.1164 - auc_4: 0.8414 - val_loss: 1.1113 - val_auc_4: 0.8416\n",
            "Epoch 69/300\n",
            "29717/29717 [==============================] - 2s 83us/step - loss: 1.1173 - auc_4: 0.8419 - val_loss: 1.1150 - val_auc_4: 0.8421\n",
            "Epoch 70/300\n",
            "29717/29717 [==============================] - 3s 88us/step - loss: 1.1167 - auc_4: 0.8423 - val_loss: 1.1222 - val_auc_4: 0.8426\n",
            "Epoch 71/300\n",
            "29717/29717 [==============================] - 2s 83us/step - loss: 1.1164 - auc_4: 0.8428 - val_loss: 1.1433 - val_auc_4: 0.8430\n",
            "Epoch 72/300\n",
            "29717/29717 [==============================] - 3s 88us/step - loss: 1.1194 - auc_4: 0.8432 - val_loss: 1.1082 - val_auc_4: 0.8434\n",
            "Epoch 73/300\n",
            "29717/29717 [==============================] - 2s 81us/step - loss: 1.1131 - auc_4: 0.8436 - val_loss: 1.1278 - val_auc_4: 0.8438\n",
            "Epoch 74/300\n",
            "29717/29717 [==============================] - 2s 84us/step - loss: 1.1154 - auc_4: 0.8441 - val_loss: 1.1199 - val_auc_4: 0.8442\n",
            "Epoch 75/300\n",
            "29717/29717 [==============================] - 3s 86us/step - loss: 1.1139 - auc_4: 0.8445 - val_loss: 1.1201 - val_auc_4: 0.8446\n",
            "Epoch 76/300\n",
            "29717/29717 [==============================] - 3s 86us/step - loss: 1.1166 - auc_4: 0.8448 - val_loss: 1.1497 - val_auc_4: 0.8450\n",
            "Epoch 77/300\n",
            "29717/29717 [==============================] - 2s 82us/step - loss: 1.1157 - auc_4: 0.8452 - val_loss: 1.2061 - val_auc_4: 0.8453\n",
            "Epoch 78/300\n",
            "29717/29717 [==============================] - 2s 82us/step - loss: 1.1149 - auc_4: 0.8455 - val_loss: 1.1168 - val_auc_4: 0.8456\n",
            "Epoch 79/300\n",
            "29717/29717 [==============================] - 3s 85us/step - loss: 1.1137 - auc_4: 0.8458 - val_loss: 1.1259 - val_auc_4: 0.8460\n",
            "Epoch 80/300\n",
            "29717/29717 [==============================] - 3s 88us/step - loss: 1.1163 - auc_4: 0.8462 - val_loss: 1.1311 - val_auc_4: 0.8463\n",
            "Epoch 81/300\n",
            "29717/29717 [==============================] - 3s 90us/step - loss: 1.1136 - auc_4: 0.8465 - val_loss: 1.1799 - val_auc_4: 0.8466\n",
            "Epoch 82/300\n",
            "29717/29717 [==============================] - 3s 88us/step - loss: 1.1126 - auc_4: 0.8468 - val_loss: 1.1314 - val_auc_4: 0.8469\n",
            "Epoch 83/300\n",
            "29717/29717 [==============================] - 2s 83us/step - loss: 1.1109 - auc_4: 0.8471 - val_loss: 1.1351 - val_auc_4: 0.8472\n",
            "Epoch 84/300\n",
            "29717/29717 [==============================] - 2s 81us/step - loss: 1.1103 - auc_4: 0.8474 - val_loss: 1.1359 - val_auc_4: 0.8476\n",
            "Epoch 85/300\n",
            "29717/29717 [==============================] - 2s 80us/step - loss: 1.1118 - auc_4: 0.8477 - val_loss: 1.1962 - val_auc_4: 0.8478\n",
            "Epoch 86/300\n",
            "29717/29717 [==============================] - 2s 81us/step - loss: 1.1104 - auc_4: 0.8479 - val_loss: 1.1165 - val_auc_4: 0.8481\n",
            "Epoch 87/300\n",
            "29717/29717 [==============================] - 2s 82us/step - loss: 1.1129 - auc_4: 0.8482 - val_loss: 1.1297 - val_auc_4: 0.8484\n",
            "Epoch 88/300\n",
            "29717/29717 [==============================] - 2s 83us/step - loss: 1.1119 - auc_4: 0.8485 - val_loss: 1.1077 - val_auc_4: 0.8487\n",
            "Epoch 89/300\n",
            "29717/29717 [==============================] - 2s 83us/step - loss: 1.1098 - auc_4: 0.8488 - val_loss: 1.1144 - val_auc_4: 0.8490\n",
            "Epoch 90/300\n",
            "29717/29717 [==============================] - 3s 85us/step - loss: 1.1119 - auc_4: 0.8491 - val_loss: 1.1239 - val_auc_4: 0.8492\n",
            "Epoch 91/300\n",
            "29717/29717 [==============================] - 2s 82us/step - loss: 1.1106 - auc_4: 0.8494 - val_loss: 1.1046 - val_auc_4: 0.8495\n",
            "Epoch 92/300\n",
            "29717/29717 [==============================] - 2s 82us/step - loss: 1.1096 - auc_4: 0.8496 - val_loss: 1.1457 - val_auc_4: 0.8498\n",
            "Epoch 93/300\n",
            "29717/29717 [==============================] - 2s 79us/step - loss: 1.1110 - auc_4: 0.8499 - val_loss: 1.1544 - val_auc_4: 0.8500\n",
            "Epoch 94/300\n",
            "29717/29717 [==============================] - 2s 81us/step - loss: 1.1103 - auc_4: 0.8501 - val_loss: 1.1365 - val_auc_4: 0.8502\n",
            "Epoch 95/300\n",
            "29717/29717 [==============================] - 3s 87us/step - loss: 1.1112 - auc_4: 0.8503 - val_loss: 1.1261 - val_auc_4: 0.8505\n",
            "Epoch 96/300\n",
            "29717/29717 [==============================] - 3s 87us/step - loss: 1.1110 - auc_4: 0.8506 - val_loss: 1.1184 - val_auc_4: 0.8507\n",
            "Epoch 97/300\n",
            "29717/29717 [==============================] - 3s 90us/step - loss: 1.1128 - auc_4: 0.8508 - val_loss: 1.1258 - val_auc_4: 0.8509\n",
            "Epoch 98/300\n",
            "29717/29717 [==============================] - 2s 81us/step - loss: 1.1079 - auc_4: 0.8510 - val_loss: 1.1075 - val_auc_4: 0.8512\n",
            "Epoch 99/300\n",
            "29717/29717 [==============================] - 3s 84us/step - loss: 1.1110 - auc_4: 0.8513 - val_loss: 1.1145 - val_auc_4: 0.8514\n",
            "Epoch 100/300\n",
            "29717/29717 [==============================] - 2s 83us/step - loss: 1.1073 - auc_4: 0.8515 - val_loss: 1.1181 - val_auc_4: 0.8516\n",
            "Epoch 101/300\n",
            "29717/29717 [==============================] - 2s 84us/step - loss: 1.1110 - auc_4: 0.8518 - val_loss: 1.1069 - val_auc_4: 0.8519\n",
            "Epoch 102/300\n",
            "29717/29717 [==============================] - 2s 79us/step - loss: 1.1075 - auc_4: 0.8520 - val_loss: 1.1329 - val_auc_4: 0.8521\n",
            "Epoch 103/300\n",
            "29717/29717 [==============================] - 2s 79us/step - loss: 1.1119 - auc_4: 0.8522 - val_loss: 1.1184 - val_auc_4: 0.8523\n",
            "Epoch 104/300\n",
            "29717/29717 [==============================] - 2s 79us/step - loss: 1.1065 - auc_4: 0.8524 - val_loss: 1.1185 - val_auc_4: 0.8525\n",
            "Epoch 105/300\n",
            "29717/29717 [==============================] - 2s 82us/step - loss: 1.1060 - auc_4: 0.8526 - val_loss: 1.1041 - val_auc_4: 0.8527\n",
            "Epoch 106/300\n",
            "29717/29717 [==============================] - 2s 78us/step - loss: 1.1083 - auc_4: 0.8528 - val_loss: 1.1163 - val_auc_4: 0.8529\n",
            "Epoch 107/300\n",
            "29717/29717 [==============================] - 2s 81us/step - loss: 1.1103 - auc_4: 0.8530 - val_loss: 1.1040 - val_auc_4: 0.8531\n",
            "Epoch 108/300\n",
            "29717/29717 [==============================] - 2s 82us/step - loss: 1.1060 - auc_4: 0.8532 - val_loss: 1.1034 - val_auc_4: 0.8533\n",
            "Epoch 109/300\n",
            "29717/29717 [==============================] - 2s 80us/step - loss: 1.1054 - auc_4: 0.8534 - val_loss: 1.1101 - val_auc_4: 0.8535\n",
            "Epoch 110/300\n",
            "29717/29717 [==============================] - 3s 87us/step - loss: 1.1075 - auc_4: 0.8536 - val_loss: 1.1198 - val_auc_4: 0.8537\n",
            "Epoch 111/300\n",
            "29717/29717 [==============================] - 3s 87us/step - loss: 1.1060 - auc_4: 0.8538 - val_loss: 1.1175 - val_auc_4: 0.8539\n",
            "Epoch 112/300\n",
            "29717/29717 [==============================] - 3s 90us/step - loss: 1.1075 - auc_4: 0.8540 - val_loss: 1.1104 - val_auc_4: 0.8541\n",
            "Epoch 113/300\n",
            "29717/29717 [==============================] - 2s 79us/step - loss: 1.1072 - auc_4: 0.8542 - val_loss: 1.1100 - val_auc_4: 0.8543\n",
            "Epoch 114/300\n",
            "29717/29717 [==============================] - 3s 86us/step - loss: 1.1062 - auc_4: 0.8544 - val_loss: 1.1051 - val_auc_4: 0.8544\n",
            "Epoch 115/300\n",
            "29717/29717 [==============================] - 3s 89us/step - loss: 1.1043 - auc_4: 0.8545 - val_loss: 1.1166 - val_auc_4: 0.8546\n",
            "Epoch 116/300\n",
            "29717/29717 [==============================] - 3s 95us/step - loss: 1.1073 - auc_4: 0.8547 - val_loss: 1.1093 - val_auc_4: 0.8548\n",
            "Epoch 117/300\n",
            "29717/29717 [==============================] - 3s 95us/step - loss: 1.1081 - auc_4: 0.8549 - val_loss: 1.1031 - val_auc_4: 0.8550\n",
            "Epoch 118/300\n",
            "29717/29717 [==============================] - 2s 83us/step - loss: 1.1089 - auc_4: 0.8550 - val_loss: 1.1157 - val_auc_4: 0.8551\n",
            "Epoch 119/300\n",
            "29717/29717 [==============================] - 3s 90us/step - loss: 1.1036 - auc_4: 0.8552 - val_loss: 1.1248 - val_auc_4: 0.8553\n",
            "Epoch 120/300\n",
            "29717/29717 [==============================] - 3s 87us/step - loss: 1.1057 - auc_4: 0.8554 - val_loss: 1.1502 - val_auc_4: 0.8554\n",
            "Epoch 121/300\n",
            "29717/29717 [==============================] - 3s 88us/step - loss: 1.1019 - auc_4: 0.8555 - val_loss: 1.1195 - val_auc_4: 0.8556\n",
            "Epoch 122/300\n",
            "29717/29717 [==============================] - 3s 85us/step - loss: 1.1055 - auc_4: 0.8557 - val_loss: 1.1405 - val_auc_4: 0.8557\n",
            "Epoch 123/300\n",
            "29717/29717 [==============================] - 2s 82us/step - loss: 1.1056 - auc_4: 0.8558 - val_loss: 1.1349 - val_auc_4: 0.8559\n",
            "Epoch 124/300\n",
            "29717/29717 [==============================] - 2s 82us/step - loss: 1.1019 - auc_4: 0.8559 - val_loss: 1.1107 - val_auc_4: 0.8560\n",
            "Epoch 125/300\n",
            "29717/29717 [==============================] - 3s 85us/step - loss: 1.1025 - auc_4: 0.8561 - val_loss: 1.1101 - val_auc_4: 0.8562\n",
            "Epoch 126/300\n",
            "29717/29717 [==============================] - 3s 91us/step - loss: 1.1057 - auc_4: 0.8562 - val_loss: 1.1253 - val_auc_4: 0.8563\n",
            "Epoch 127/300\n",
            "29717/29717 [==============================] - 3s 89us/step - loss: 1.1055 - auc_4: 0.8564 - val_loss: 1.1018 - val_auc_4: 0.8564\n",
            "Epoch 128/300\n",
            "29717/29717 [==============================] - 3s 88us/step - loss: 1.1045 - auc_4: 0.8565 - val_loss: 1.1100 - val_auc_4: 0.8566\n",
            "Epoch 129/300\n",
            "29717/29717 [==============================] - 3s 100us/step - loss: 1.1042 - auc_4: 0.8567 - val_loss: 1.1446 - val_auc_4: 0.8567\n",
            "Epoch 130/300\n",
            "29717/29717 [==============================] - 3s 99us/step - loss: 1.1042 - auc_4: 0.8568 - val_loss: 1.1028 - val_auc_4: 0.8568\n",
            "Epoch 131/300\n",
            "29717/29717 [==============================] - 3s 103us/step - loss: 1.1030 - auc_4: 0.8569 - val_loss: 1.1087 - val_auc_4: 0.8570\n",
            "Epoch 132/300\n",
            "29717/29717 [==============================] - 3s 85us/step - loss: 1.1059 - auc_4: 0.8571 - val_loss: 1.1728 - val_auc_4: 0.8571\n",
            "Epoch 133/300\n",
            "29717/29717 [==============================] - 3s 84us/step - loss: 1.1028 - auc_4: 0.8571 - val_loss: 1.1023 - val_auc_4: 0.8572\n",
            "Epoch 134/300\n",
            "29717/29717 [==============================] - 3s 89us/step - loss: 1.1011 - auc_4: 0.8573 - val_loss: 1.1201 - val_auc_4: 0.8573\n",
            "Epoch 135/300\n",
            "29717/29717 [==============================] - 3s 87us/step - loss: 1.1057 - auc_4: 0.8574 - val_loss: 1.1065 - val_auc_4: 0.8575\n",
            "Epoch 136/300\n",
            "29717/29717 [==============================] - 2s 83us/step - loss: 1.1039 - auc_4: 0.8575 - val_loss: 1.1067 - val_auc_4: 0.8576\n",
            "Epoch 137/300\n",
            "29717/29717 [==============================] - 3s 85us/step - loss: 1.1025 - auc_4: 0.8577 - val_loss: 1.1225 - val_auc_4: 0.8577\n",
            "Epoch 138/300\n",
            "29717/29717 [==============================] - 2s 83us/step - loss: 1.1018 - auc_4: 0.8578 - val_loss: 1.1638 - val_auc_4: 0.8578\n",
            "Epoch 139/300\n",
            "29717/29717 [==============================] - 2s 81us/step - loss: 1.0999 - auc_4: 0.8579 - val_loss: 1.1339 - val_auc_4: 0.8579\n",
            "Epoch 140/300\n",
            "29717/29717 [==============================] - 3s 87us/step - loss: 1.1009 - auc_4: 0.8580 - val_loss: 1.1712 - val_auc_4: 0.8580\n",
            "Epoch 141/300\n",
            "29717/29717 [==============================] - 3s 86us/step - loss: 1.0996 - auc_4: 0.8581 - val_loss: 1.1043 - val_auc_4: 0.8581\n",
            "Epoch 142/300\n",
            "29717/29717 [==============================] - 3s 84us/step - loss: 1.1006 - auc_4: 0.8582 - val_loss: 1.1171 - val_auc_4: 0.8583\n",
            "Epoch 143/300\n",
            "29717/29717 [==============================] - 3s 85us/step - loss: 1.0994 - auc_4: 0.8583 - val_loss: 1.1069 - val_auc_4: 0.8584\n",
            "Epoch 144/300\n",
            "29717/29717 [==============================] - 2s 81us/step - loss: 1.1032 - auc_4: 0.8584 - val_loss: 1.1121 - val_auc_4: 0.8585\n",
            "Epoch 145/300\n",
            "29717/29717 [==============================] - 3s 86us/step - loss: 1.0996 - auc_4: 0.8585 - val_loss: 1.1131 - val_auc_4: 0.8586\n",
            "Epoch 146/300\n",
            "29717/29717 [==============================] - 3s 89us/step - loss: 1.0995 - auc_4: 0.8587 - val_loss: 1.1073 - val_auc_4: 0.8587\n",
            "Epoch 147/300\n",
            "29717/29717 [==============================] - 3s 90us/step - loss: 1.0985 - auc_4: 0.8588 - val_loss: 1.1133 - val_auc_4: 0.8588\n",
            "Epoch 148/300\n",
            "29717/29717 [==============================] - 3s 85us/step - loss: 1.1006 - auc_4: 0.8589 - val_loss: 1.0970 - val_auc_4: 0.8589\n",
            "Epoch 149/300\n",
            "29717/29717 [==============================] - 3s 86us/step - loss: 1.1004 - auc_4: 0.8590 - val_loss: 1.1206 - val_auc_4: 0.8591\n",
            "Epoch 150/300\n",
            "29717/29717 [==============================] - 3s 89us/step - loss: 1.1006 - auc_4: 0.8591 - val_loss: 1.1216 - val_auc_4: 0.8591\n",
            "Epoch 151/300\n",
            "29717/29717 [==============================] - 3s 88us/step - loss: 1.1003 - auc_4: 0.8592 - val_loss: 1.1045 - val_auc_4: 0.8592\n",
            "Epoch 152/300\n",
            "29717/29717 [==============================] - 3s 90us/step - loss: 1.1017 - auc_4: 0.8593 - val_loss: 1.1008 - val_auc_4: 0.8594\n",
            "Epoch 153/300\n",
            "29717/29717 [==============================] - 3s 84us/step - loss: 1.0997 - auc_4: 0.8594 - val_loss: 1.1094 - val_auc_4: 0.8595\n",
            "Epoch 154/300\n",
            "29717/29717 [==============================] - 2s 83us/step - loss: 1.0972 - auc_4: 0.8595 - val_loss: 1.1116 - val_auc_4: 0.8596\n",
            "Epoch 155/300\n",
            "29717/29717 [==============================] - 3s 87us/step - loss: 1.1006 - auc_4: 0.8596 - val_loss: 1.1182 - val_auc_4: 0.8597\n",
            "Epoch 156/300\n",
            "29717/29717 [==============================] - 3s 85us/step - loss: 1.1006 - auc_4: 0.8597 - val_loss: 1.1134 - val_auc_4: 0.8598\n",
            "Epoch 157/300\n",
            "29717/29717 [==============================] - 3s 90us/step - loss: 1.0990 - auc_4: 0.8598 - val_loss: 1.1083 - val_auc_4: 0.8599\n",
            "Epoch 158/300\n",
            "29717/29717 [==============================] - 3s 91us/step - loss: 1.1005 - auc_4: 0.8599 - val_loss: 1.0977 - val_auc_4: 0.8599\n",
            "Epoch 159/300\n",
            "29717/29717 [==============================] - 3s 87us/step - loss: 1.1000 - auc_4: 0.8600 - val_loss: 1.1022 - val_auc_4: 0.8600\n",
            "Epoch 160/300\n",
            "29717/29717 [==============================] - 2s 84us/step - loss: 1.0979 - auc_4: 0.8601 - val_loss: 1.1049 - val_auc_4: 0.8601\n",
            "Epoch 161/300\n",
            "29717/29717 [==============================] - 2s 81us/step - loss: 1.0999 - auc_4: 0.8602 - val_loss: 1.1073 - val_auc_4: 0.8602\n",
            "Epoch 162/300\n",
            "29717/29717 [==============================] - 2s 81us/step - loss: 1.0995 - auc_4: 0.8603 - val_loss: 1.1258 - val_auc_4: 0.8603\n",
            "Epoch 163/300\n",
            "29717/29717 [==============================] - 2s 81us/step - loss: 1.0997 - auc_4: 0.8604 - val_loss: 1.0989 - val_auc_4: 0.8604\n",
            "Epoch 164/300\n",
            "29717/29717 [==============================] - 3s 86us/step - loss: 1.0984 - auc_4: 0.8605 - val_loss: 1.1125 - val_auc_4: 0.8605\n",
            "Epoch 165/300\n",
            "29717/29717 [==============================] - 2s 84us/step - loss: 1.0982 - auc_4: 0.8606 - val_loss: 1.0979 - val_auc_4: 0.8606\n",
            "Epoch 166/300\n",
            "29717/29717 [==============================] - 3s 89us/step - loss: 1.0951 - auc_4: 0.8606 - val_loss: 1.0977 - val_auc_4: 0.8607\n",
            "Epoch 167/300\n",
            "29717/29717 [==============================] - 3s 87us/step - loss: 1.0968 - auc_4: 0.8607 - val_loss: 1.1042 - val_auc_4: 0.8608\n",
            "Epoch 168/300\n",
            "29717/29717 [==============================] - 3s 85us/step - loss: 1.1001 - auc_4: 0.8608 - val_loss: 1.1198 - val_auc_4: 0.8609\n",
            "Epoch 169/300\n",
            "29717/29717 [==============================] - 2s 83us/step - loss: 1.0937 - auc_4: 0.8609 - val_loss: 1.1166 - val_auc_4: 0.8610\n",
            "Epoch 170/300\n",
            "29717/29717 [==============================] - 2s 84us/step - loss: 1.0949 - auc_4: 0.8610 - val_loss: 1.1176 - val_auc_4: 0.8610\n",
            "Epoch 171/300\n",
            "29717/29717 [==============================] - 3s 85us/step - loss: 1.0989 - auc_4: 0.8611 - val_loss: 1.0971 - val_auc_4: 0.8611\n",
            "Epoch 172/300\n",
            "29717/29717 [==============================] - 2s 84us/step - loss: 1.0962 - auc_4: 0.8612 - val_loss: 1.1626 - val_auc_4: 0.8612\n",
            "Epoch 173/300\n",
            "29717/29717 [==============================] - 3s 86us/step - loss: 1.0971 - auc_4: 0.8612 - val_loss: 1.1078 - val_auc_4: 0.8613\n",
            "Epoch 174/300\n",
            "29717/29717 [==============================] - 3s 87us/step - loss: 1.0954 - auc_4: 0.8613 - val_loss: 1.1079 - val_auc_4: 0.8613\n",
            "Epoch 175/300\n",
            "29717/29717 [==============================] - 3s 84us/step - loss: 1.0967 - auc_4: 0.8614 - val_loss: 1.1016 - val_auc_4: 0.8614\n",
            "Epoch 176/300\n",
            "29717/29717 [==============================] - 3s 87us/step - loss: 1.0975 - auc_4: 0.8615 - val_loss: 1.0978 - val_auc_4: 0.8615\n",
            "Epoch 177/300\n",
            "29717/29717 [==============================] - 2s 81us/step - loss: 1.0946 - auc_4: 0.8616 - val_loss: 1.0998 - val_auc_4: 0.8616\n",
            "Epoch 178/300\n",
            "29717/29717 [==============================] - 2s 79us/step - loss: 1.0956 - auc_4: 0.8616 - val_loss: 1.1015 - val_auc_4: 0.8617\n",
            "Epoch 179/300\n",
            "29717/29717 [==============================] - 2s 78us/step - loss: 1.0976 - auc_4: 0.8617 - val_loss: 1.1069 - val_auc_4: 0.8618\n",
            "Epoch 180/300\n",
            "29717/29717 [==============================] - 2s 81us/step - loss: 1.0976 - auc_4: 0.8618 - val_loss: 1.1048 - val_auc_4: 0.8618\n",
            "Epoch 181/300\n",
            "29717/29717 [==============================] - 3s 88us/step - loss: 1.0952 - auc_4: 0.8619 - val_loss: 1.1052 - val_auc_4: 0.8619\n",
            "Epoch 182/300\n",
            "29717/29717 [==============================] - 3s 85us/step - loss: 1.0948 - auc_4: 0.8619 - val_loss: 1.1061 - val_auc_4: 0.8620\n",
            "Epoch 183/300\n",
            "29717/29717 [==============================] - 3s 86us/step - loss: 1.0955 - auc_4: 0.8620 - val_loss: 1.1374 - val_auc_4: 0.8621\n",
            "Epoch 184/300\n",
            "29717/29717 [==============================] - 2s 81us/step - loss: 1.0970 - auc_4: 0.8621 - val_loss: 1.1009 - val_auc_4: 0.8621\n",
            "Epoch 185/300\n",
            "29717/29717 [==============================] - 2s 79us/step - loss: 1.0959 - auc_4: 0.8622 - val_loss: 1.0952 - val_auc_4: 0.8622\n",
            "Epoch 186/300\n",
            "29717/29717 [==============================] - 3s 87us/step - loss: 1.0936 - auc_4: 0.8622 - val_loss: 1.1101 - val_auc_4: 0.8623\n",
            "Epoch 187/300\n",
            "29717/29717 [==============================] - 3s 88us/step - loss: 1.0977 - auc_4: 0.8623 - val_loss: 1.1192 - val_auc_4: 0.8623\n",
            "Epoch 188/300\n",
            "29717/29717 [==============================] - 3s 89us/step - loss: 1.0966 - auc_4: 0.8624 - val_loss: 1.0954 - val_auc_4: 0.8624\n",
            "Epoch 189/300\n",
            "29717/29717 [==============================] - 3s 85us/step - loss: 1.0953 - auc_4: 0.8625 - val_loss: 1.1004 - val_auc_4: 0.8625\n",
            "Epoch 190/300\n",
            "29717/29717 [==============================] - 3s 89us/step - loss: 1.0954 - auc_4: 0.8625 - val_loss: 1.1161 - val_auc_4: 0.8625\n",
            "Epoch 191/300\n",
            "29717/29717 [==============================] - 2s 81us/step - loss: 1.0952 - auc_4: 0.8626 - val_loss: 1.1045 - val_auc_4: 0.8626\n",
            "Epoch 192/300\n",
            "29717/29717 [==============================] - 2s 82us/step - loss: 1.0978 - auc_4: 0.8627 - val_loss: 1.1003 - val_auc_4: 0.8627\n",
            "Epoch 193/300\n",
            "29717/29717 [==============================] - 3s 87us/step - loss: 1.0948 - auc_4: 0.8627 - val_loss: 1.1279 - val_auc_4: 0.8628\n",
            "Epoch 194/300\n",
            "29717/29717 [==============================] - 3s 86us/step - loss: 1.0940 - auc_4: 0.8628 - val_loss: 1.0954 - val_auc_4: 0.8628\n",
            "Epoch 195/300\n",
            "29717/29717 [==============================] - 3s 88us/step - loss: 1.0950 - auc_4: 0.8628 - val_loss: 1.1232 - val_auc_4: 0.8629\n",
            "Epoch 196/300\n",
            "29717/29717 [==============================] - 3s 93us/step - loss: 1.0948 - auc_4: 0.8629 - val_loss: 1.1026 - val_auc_4: 0.8629\n",
            "Epoch 197/300\n",
            "29717/29717 [==============================] - 3s 86us/step - loss: 1.0959 - auc_4: 0.8630 - val_loss: 1.1050 - val_auc_4: 0.8630\n",
            "Epoch 198/300\n",
            "29717/29717 [==============================] - 2s 83us/step - loss: 1.0945 - auc_4: 0.8630 - val_loss: 1.0973 - val_auc_4: 0.8631\n",
            "Epoch 199/300\n",
            "29717/29717 [==============================] - 3s 84us/step - loss: 1.0934 - auc_4: 0.8631 - val_loss: 1.0997 - val_auc_4: 0.8631\n",
            "Epoch 200/300\n",
            "29717/29717 [==============================] - 3s 92us/step - loss: 1.0948 - auc_4: 0.8632 - val_loss: 1.1041 - val_auc_4: 0.8632\n",
            "Epoch 201/300\n",
            "29717/29717 [==============================] - 3s 92us/step - loss: 1.0939 - auc_4: 0.8632 - val_loss: 1.1014 - val_auc_4: 0.8633\n",
            "Epoch 202/300\n",
            "29717/29717 [==============================] - 3s 85us/step - loss: 1.0939 - auc_4: 0.8633 - val_loss: 1.1047 - val_auc_4: 0.8633\n",
            "Epoch 203/300\n",
            "29717/29717 [==============================] - 2s 78us/step - loss: 1.0930 - auc_4: 0.8634 - val_loss: 1.1026 - val_auc_4: 0.8634\n",
            "Epoch 204/300\n",
            "29717/29717 [==============================] - 3s 87us/step - loss: 1.0917 - auc_4: 0.8634 - val_loss: 1.1014 - val_auc_4: 0.8635\n",
            "Epoch 205/300\n",
            "29717/29717 [==============================] - 2s 82us/step - loss: 1.0920 - auc_4: 0.8635 - val_loss: 1.1096 - val_auc_4: 0.8635\n",
            "Epoch 206/300\n",
            "29717/29717 [==============================] - 2s 84us/step - loss: 1.0932 - auc_4: 0.8636 - val_loss: 1.1026 - val_auc_4: 0.8636\n",
            "Epoch 207/300\n",
            "29717/29717 [==============================] - 2s 79us/step - loss: 1.0914 - auc_4: 0.8636 - val_loss: 1.1104 - val_auc_4: 0.8636\n",
            "Epoch 208/300\n",
            "29717/29717 [==============================] - 2s 81us/step - loss: 1.0931 - auc_4: 0.8637 - val_loss: 1.1051 - val_auc_4: 0.8637\n",
            "Epoch 209/300\n",
            "29717/29717 [==============================] - 2s 83us/step - loss: 1.0917 - auc_4: 0.8637 - val_loss: 1.1054 - val_auc_4: 0.8638\n",
            "Epoch 210/300\n",
            "29717/29717 [==============================] - 2s 83us/step - loss: 1.0896 - auc_4: 0.8638 - val_loss: 1.1050 - val_auc_4: 0.8638\n",
            "Epoch 211/300\n",
            "29717/29717 [==============================] - 3s 86us/step - loss: 1.0907 - auc_4: 0.8638 - val_loss: 1.0957 - val_auc_4: 0.8639\n",
            "Epoch 212/300\n",
            "29717/29717 [==============================] - 3s 84us/step - loss: 1.0899 - auc_4: 0.8639 - val_loss: 1.0991 - val_auc_4: 0.8639\n",
            "Epoch 213/300\n",
            "29717/29717 [==============================] - 3s 85us/step - loss: 1.0940 - auc_4: 0.8640 - val_loss: 1.1084 - val_auc_4: 0.8640\n",
            "Epoch 214/300\n",
            "29717/29717 [==============================] - 3s 87us/step - loss: 1.0925 - auc_4: 0.8640 - val_loss: 1.0988 - val_auc_4: 0.8641\n",
            "Epoch 215/300\n",
            "29717/29717 [==============================] - 2s 81us/step - loss: 1.0914 - auc_4: 0.8641 - val_loss: 1.1028 - val_auc_4: 0.8641\n",
            "Epoch 216/300\n",
            "29717/29717 [==============================] - 2s 83us/step - loss: 1.0906 - auc_4: 0.8641 - val_loss: 1.1077 - val_auc_4: 0.8642\n",
            "Epoch 217/300\n",
            "29717/29717 [==============================] - 3s 84us/step - loss: 1.0915 - auc_4: 0.8642 - val_loss: 1.1178 - val_auc_4: 0.8642\n",
            "Epoch 218/300\n",
            "29717/29717 [==============================] - 3s 85us/step - loss: 1.0915 - auc_4: 0.8642 - val_loss: 1.1010 - val_auc_4: 0.8643\n",
            "Epoch 219/300\n",
            "29717/29717 [==============================] - 2s 83us/step - loss: 1.0937 - auc_4: 0.8643 - val_loss: 1.1325 - val_auc_4: 0.8643\n",
            "Epoch 220/300\n",
            "29717/29717 [==============================] - 3s 89us/step - loss: 1.0902 - auc_4: 0.8644 - val_loss: 1.0978 - val_auc_4: 0.8644\n",
            "Epoch 221/300\n",
            "29717/29717 [==============================] - 3s 87us/step - loss: 1.0906 - auc_4: 0.8644 - val_loss: 1.1055 - val_auc_4: 0.8644\n",
            "Epoch 222/300\n",
            "29717/29717 [==============================] - 2s 83us/step - loss: 1.0921 - auc_4: 0.8645 - val_loss: 1.1077 - val_auc_4: 0.8645\n",
            "Epoch 223/300\n",
            "29717/29717 [==============================] - 2s 79us/step - loss: 1.0900 - auc_4: 0.8645 - val_loss: 1.1000 - val_auc_4: 0.8645\n",
            "Epoch 224/300\n",
            "29717/29717 [==============================] - 3s 87us/step - loss: 1.0920 - auc_4: 0.8646 - val_loss: 1.1048 - val_auc_4: 0.8646\n",
            "Epoch 225/300\n",
            "29717/29717 [==============================] - 3s 91us/step - loss: 1.0924 - auc_4: 0.8646 - val_loss: 1.1133 - val_auc_4: 0.8646\n",
            "Epoch 226/300\n",
            "29717/29717 [==============================] - 3s 88us/step - loss: 1.0909 - auc_4: 0.8647 - val_loss: 1.1154 - val_auc_4: 0.8647\n",
            "Epoch 227/300\n",
            "29717/29717 [==============================] - 3s 86us/step - loss: 1.0917 - auc_4: 0.8647 - val_loss: 1.1063 - val_auc_4: 0.8647\n",
            "Epoch 228/300\n",
            "29717/29717 [==============================] - 3s 88us/step - loss: 1.0917 - auc_4: 0.8648 - val_loss: 1.0956 - val_auc_4: 0.8648\n",
            "Epoch 229/300\n",
            "29717/29717 [==============================] - 3s 87us/step - loss: 1.0907 - auc_4: 0.8648 - val_loss: 1.1148 - val_auc_4: 0.8648\n",
            "Epoch 230/300\n",
            "29717/29717 [==============================] - 3s 91us/step - loss: 1.0924 - auc_4: 0.8649 - val_loss: 1.0983 - val_auc_4: 0.8649\n",
            "Epoch 231/300\n",
            "29717/29717 [==============================] - 3s 86us/step - loss: 1.0896 - auc_4: 0.8649 - val_loss: 1.0928 - val_auc_4: 0.8649\n",
            "Epoch 232/300\n",
            "29717/29717 [==============================] - 2s 84us/step - loss: 1.0917 - auc_4: 0.8650 - val_loss: 1.0980 - val_auc_4: 0.8650\n",
            "Epoch 233/300\n",
            "29717/29717 [==============================] - 3s 88us/step - loss: 1.0913 - auc_4: 0.8650 - val_loss: 1.1019 - val_auc_4: 0.8650\n",
            "Epoch 234/300\n",
            "29717/29717 [==============================] - 3s 92us/step - loss: 1.0909 - auc_4: 0.8651 - val_loss: 1.1033 - val_auc_4: 0.8651\n",
            "Epoch 235/300\n",
            "29717/29717 [==============================] - 2s 79us/step - loss: 1.0891 - auc_4: 0.8651 - val_loss: 1.1014 - val_auc_4: 0.8651\n",
            "Epoch 236/300\n",
            "29717/29717 [==============================] - 2s 83us/step - loss: 1.0918 - auc_4: 0.8652 - val_loss: 1.0943 - val_auc_4: 0.8652\n",
            "Epoch 237/300\n",
            "29717/29717 [==============================] - 3s 90us/step - loss: 1.0913 - auc_4: 0.8652 - val_loss: 1.0964 - val_auc_4: 0.8652\n",
            "Epoch 238/300\n",
            "29717/29717 [==============================] - 3s 91us/step - loss: 1.0903 - auc_4: 0.8653 - val_loss: 1.0928 - val_auc_4: 0.8653\n",
            "Epoch 239/300\n",
            "29717/29717 [==============================] - 3s 91us/step - loss: 1.0936 - auc_4: 0.8653 - val_loss: 1.0942 - val_auc_4: 0.8653\n",
            "Epoch 240/300\n",
            "29717/29717 [==============================] - 3s 86us/step - loss: 1.0895 - auc_4: 0.8654 - val_loss: 1.1136 - val_auc_4: 0.8654\n",
            "Epoch 241/300\n",
            "29717/29717 [==============================] - 3s 87us/step - loss: 1.0914 - auc_4: 0.8654 - val_loss: 1.0962 - val_auc_4: 0.8654\n",
            "Epoch 242/300\n",
            "29717/29717 [==============================] - 3s 85us/step - loss: 1.0915 - auc_4: 0.8655 - val_loss: 1.0968 - val_auc_4: 0.8655\n",
            "Epoch 243/300\n",
            "29717/29717 [==============================] - 3s 87us/step - loss: 1.0929 - auc_4: 0.8655 - val_loss: 1.0988 - val_auc_4: 0.8655\n"
          ],
          "name": "stdout"
        }
      ]
    },
    {
      "cell_type": "code",
      "metadata": {
        "id": "n4wJy-KN77R4",
        "colab_type": "code",
        "colab": {
          "base_uri": "https://localhost:8080/",
          "height": 282
        },
        "outputId": "04a82bf8-4cda-4552-aa75-444f017ed49f"
      },
      "source": [
        "# Create count of the number of epochs\n",
        "epoch_count = range(1, len(history_clss.history['loss']) + 1)\n",
        "\n",
        "# Visualize learning curve. Here learning curve is not ideal. It should be much smoother as it decreases.\n",
        "#As mentioned before, altering different hyper parameters especially learning rate can have a positive impact\n",
        "#on accuracy and learning curve.\n",
        "plt.plot(epoch_count, history_clss.history['loss'], 'r--')\n",
        "plt.plot(epoch_count, history_clss.history['val_loss'], 'b--')\n",
        "plt.legend(['Training Loss', 'Validation Loss'])\n",
        "plt.xlabel('Epoch')\n",
        "plt.ylabel('Loss')\n",
        "plt.show()"
      ],
      "execution_count": null,
      "outputs": [
        {
          "output_type": "display_data",
          "data": {
            "image/png": "[encoded data removed]",
            "text/plain": [
              "<Figure size 432x288 with 1 Axes>"
            ]
          },
          "metadata": {
            "tags": []
          }
        }
      ]
    },
    {
      "cell_type": "code",
      "metadata": {
        "id": "BWSo8DB_wb44",
        "colab_type": "code",
        "colab": {
          "base_uri": "https://localhost:8080/",
          "height": 282
        },
        "outputId": "892e27a9-3b69-4d12-b979-0f7eb0a7e09d"
      },
      "source": [
        "# Create count of the number of epochs\n",
        "epoch_count = range(1, len(history_clss.history['loss']) + 1)\n",
        "\n",
        "# Visualize learning curve. Here learning curve is not ideal. It should be much smoother as it decreases.\n",
        "#As mentioned before, altering different hyper parameters especially learning rate can have a positive impact\n",
        "#on accuracy and learning curve.\n",
        "plt.plot(epoch_count, history_clss.history['auc_4'], 'g*')\n",
        "plt.plot(epoch_count, history_clss.history['val_auc_4'], 'y-')\n",
        "plt.legend(['Training AUC', 'Validation AUC'])\n",
        "plt.xlabel('Epoch')\n",
        "plt.ylabel('Loss')\n",
        "plt.show()"
      ],
      "execution_count": null,
      "outputs": [
        {
          "output_type": "display_data",
          "data": {
            "image/png": "[encoded data removed]",
            "text/plain": [
              "<Figure size 432x288 with 1 Axes>"
            ]
          },
          "metadata": {
            "tags": []
          }
        }
      ]
    },
    {
      "cell_type": "code",
      "metadata": {
        "id": "VcviE1dkGc25",
        "colab_type": "code",
        "colab": {
          "base_uri": "https://localhost:8080/",
          "height": 52
        },
        "outputId": "589b1afd-00fd-426c-9eea-f6d3c138db5b"
      },
      "source": [
        "nn_test=pd.DataFrame(y_test)\n",
        "nn_test=nn_test.idxmax(axis=1)\n",
        "nn_test=pd.DataFrame(nn_test)\n",
        "nn_test\n",
        "\n",
        "preds = model_cls.predict_classes(X_test)\n",
        "nn_preds=pd.DataFrame(preds)\n",
        "nn_preds\n",
        "precision_score_nn=precision_score(nn_test, nn_preds, average='macro')\n",
        "\n",
        "# We are using LabelBinarizer() coz, we need to compare results for multi-class problem, so with this function we Binarize class \n",
        "# output results and compare it with binarized target values, it helps us to check ROC for our problem.\n",
        "lb = LabelBinarizer()\n",
        "lb.fit(nn_test)\n",
        "y_test1 = lb.transform(nn_test)\n",
        "y_pred1= lb.transform(nn_preds)\n",
        "roc_auc_score_nn=roc_auc_score(y_test1, y_pred1, average=\"macro\")\n",
        "print(\"Roc_auc_score for test data: %3.5f \" % (roc_auc_score_nn))\n",
        "print(\"Precision on test dataset:\", precision_score_nn)"
      ],
      "execution_count": null,
      "outputs": [
        {
          "output_type": "stream",
          "text": [
            "Roc_auc_score for test data: 0.72539 \n",
            "Precision on test dataset: 0.5640271290493215\n"
          ],
          "name": "stdout"
        }
      ]
    },
    {
      "cell_type": "code",
      "metadata": {
        "id": "DOHjU4Qp38f7",
        "colab_type": "code",
        "colab": {
          "base_uri": "https://localhost:8080/",
          "height": 105
        },
        "outputId": "d22405f1-0137-4f66-ac3a-b00b1fdb042e"
      },
      "source": [
        "confusion_matrix(nn_preds, nn_test)"
      ],
      "execution_count": null,
      "outputs": [
        {
          "output_type": "execute_result",
          "data": {
            "text/plain": [
              "array([[1643,  290,   61,    5,    6],\n",
              "       [ 468,  910,  475,   55,    8],\n",
              "       [ 223,  704, 1005,  373,   69],\n",
              "       [ 135,  339,  634, 1473,  280],\n",
              "       [ 149,  232,  380,  716, 2104]])"
            ]
          },
          "metadata": {
            "tags": []
          },
          "execution_count": 97
        }
      ]
    },
    {
      "cell_type": "code",
      "metadata": {
        "id": "8opz7nYG5d-l",
        "colab_type": "code",
        "colab": {
          "base_uri": "https://localhost:8080/",
          "height": 70
        },
        "outputId": "8b023595-953d-492c-d66f-66d18df89cda"
      },
      "source": [
        "from sklearn.metrics import recall_score, f1_score\n",
        "print(\"Precision on test dataset:\", precision_score(nn_test, nn_preds, average='macro'))\n",
        "print(\"Recall on test dataset:\",recall_score(nn_test, nn_preds, average='macro'))\n",
        "print(\"F1-Score on test dataset:\", f1_score(nn_test, nn_preds, average='macro'))"
      ],
      "execution_count": null,
      "outputs": [
        {
          "output_type": "stream",
          "text": [
            "Precision on test dataset: 0.5640271290493215\n",
            "Recall on test dataset: 0.56064881406561\n",
            "F1-Score on test dataset: 0.5532265903540323\n"
          ],
          "name": "stdout"
        }
      ]
    },
    {
      "cell_type": "code",
      "metadata": {
        "id": "hf4-jOLr5vq3",
        "colab_type": "code",
        "colab": {
          "base_uri": "https://localhost:8080/",
          "height": 283
        },
        "outputId": "d56b0a44-e4b7-4893-ea85-4c4d64ac23e6"
      },
      "source": [
        "# Classification report\n",
        "import sklearn.metrics as metrics\n",
        "print('\\t\\t\\t\\tCLASSIFICATIION METRICS \\n \\t\\t\\tfor test dataset\\n')\n",
        "print(metrics.classification_report(nn_test, nn_preds))"
      ],
      "execution_count": null,
      "outputs": [
        {
          "output_type": "stream",
          "text": [
            "\t\t\t\tCLASSIFICATIION METRICS \n",
            " \t\t\tfor test dataset\n",
            "\n",
            "              precision    recall  f1-score   support\n",
            "\n",
            "           1       0.82      0.63      0.71      2618\n",
            "           2       0.47      0.37      0.41      2475\n",
            "           3       0.42      0.39      0.41      2555\n",
            "           4       0.51      0.56      0.54      2622\n",
            "           5       0.59      0.85      0.70      2467\n",
            "\n",
            "    accuracy                           0.56     12737\n",
            "   macro avg       0.56      0.56      0.55     12737\n",
            "weighted avg       0.57      0.56      0.55     12737\n",
            "\n"
          ],
          "name": "stdout"
        }
      ]
    },
    {
      "cell_type": "markdown",
      "metadata": {
        "id": "XjndVkydMxe7",
        "colab_type": "text"
      },
      "source": [
        "## ROC plot\n",
        "As it is a multi class problem, we'll plot curves for individual classes, and then also check micro/macro weighted averages for all classes"
      ]
    },
    {
      "cell_type": "code",
      "metadata": {
        "id": "OncL2coYJGdv",
        "colab_type": "code",
        "colab": {}
      },
      "source": [
        "from itertools import cycle\n",
        "from sklearn.metrics import roc_curve, auc\n",
        "from scipy import interp\n",
        "\n",
        "statis=target\n",
        "y = label_binarize(statis, classes=[0, 1, 2, 3, 4])\n",
        "n_classes = y.shape[1]\n",
        "\n",
        "# Compute ROC curve and ROC area for each class\n",
        "fpr = dict()\n",
        "tpr = dict()\n",
        "roc_auc = dict()\n",
        "for i in range(n_classes):\n",
        "    fpr[i], tpr[i], _ = roc_curve(y_test1[:, i], y_pred1[:, i])\n",
        "    roc_auc[i] = auc(fpr[i], tpr[i])\n",
        "\n",
        "# Compute micro-average ROC curve and ROC area\n",
        "fpr[\"micro\"], tpr[\"micro\"], _ = roc_curve(y_test1.ravel(), y_pred1.ravel())\n",
        "roc_auc[\"micro\"] = auc(fpr[\"micro\"], tpr[\"micro\"])"
      ],
      "execution_count": null,
      "outputs": []
    },
    {
      "cell_type": "code",
      "metadata": {
        "id": "sUMmYjxVJUpO",
        "colab_type": "code",
        "colab": {
          "base_uri": "https://localhost:8080/",
          "height": 298
        },
        "outputId": "b7360712-d17f-4067-a5db-4e11618b4408"
      },
      "source": [
        "# For single class ROC plot,\n",
        "plt.figure()\n",
        "lw = 2\n",
        "plt.plot(fpr[2], tpr[2], color='darkorange',\n",
        "         lw=lw, label='ROC curve (area = %0.2f)' % roc_auc[2])\n",
        "plt.plot([0, 1], [0, 1], color='navy', lw=lw, linestyle='--')\n",
        "plt.xlim([0.0, 1.0])\n",
        "plt.ylim([0.0, 1.05])\n",
        "plt.xlabel('False Positive Rate')\n",
        "plt.ylabel('True Positive Rate')\n",
        "plt.title('Receiver operating characteristic example')\n",
        "plt.legend(loc=\"lower right\")\n",
        "plt.show()"
      ],
      "execution_count": null,
      "outputs": [
        {
          "output_type": "display_data",
          "data": {
            "image/png": "[encoded data removed]",
            "text/plain": [
              "<Figure size 432x288 with 1 Axes>"
            ]
          },
          "metadata": {
            "tags": []
          }
        }
      ]
    },
    {
      "cell_type": "code",
      "metadata": {
        "id": "91PPdZxqJcGO",
        "colab_type": "code",
        "colab": {
          "base_uri": "https://localhost:8080/",
          "height": 334
        },
        "outputId": "971abf13-9c2a-47f1-cabd-c10e6b51c8f6"
      },
      "source": [
        "# For Multi-class ROC plot,\n",
        "from scipy import interp\n",
        "from itertools import cycle\n",
        "\n",
        "# First aggregate all false positive rates\n",
        "all_fpr = np.unique(np.concatenate([fpr[i] for i in range(n_classes)]))\n",
        "\n",
        "# Then interpolate all ROC curves at this points\n",
        "mean_tpr = np.zeros_like(all_fpr)\n",
        "for i in range(n_classes):\n",
        "    mean_tpr += interp(all_fpr, fpr[i], tpr[i])\n",
        "\n",
        "# Finally average it and compute AUC\n",
        "mean_tpr /= n_classes\n",
        "\n",
        "fpr[\"macro\"] = all_fpr\n",
        "tpr[\"macro\"] = mean_tpr\n",
        "roc_auc[\"macro\"] = auc(fpr[\"macro\"], tpr[\"macro\"])\n",
        "\n",
        "# Plot all ROC curves\n",
        "plt.figure()\n",
        "plt.plot(fpr[\"micro\"], tpr[\"micro\"],\n",
        "         label='micro-average ROC curve (area = {0:0.2f})'\n",
        "               ''.format(roc_auc[\"micro\"]),\n",
        "         color='deeppink', linestyle=':', linewidth=4)\n",
        "\n",
        "plt.plot(fpr[\"macro\"], tpr[\"macro\"],\n",
        "         label='macro-average ROC curve (area = {0:0.2f})'\n",
        "               ''.format(roc_auc[\"macro\"]),\n",
        "         color='navy', linestyle=':', linewidth=4)\n",
        "\n",
        "colors = cycle(['aqua', 'darkorange', 'cornflowerblue', 'yellow', 'brown'])\n",
        "for i, color in zip(range(n_classes), colors):\n",
        "    plt.plot(fpr[i], tpr[i], color=color, lw=lw,\n",
        "             label='ROC curve of class {0} (area = {1:0.2f})'\n",
        "             ''.format(i, roc_auc[i]))\n",
        "\n",
        "plt.plot([0, 1], [0, 1], 'k--', lw=lw)\n",
        "plt.xlim([0.0, 1.0])\n",
        "plt.ylim([0.0, 1.0])\n",
        "plt.xlabel('False Positive Rate')\n",
        "plt.ylabel('True Positive Rate')\n",
        "plt.title('Some extension of Receiver operating characteristic to multi-class on test data')\n",
        "plt.legend(loc=\"lower right\")\n",
        "plt.show()"
      ],
      "execution_count": null,
      "outputs": [
        {
          "output_type": "stream",
          "text": [
            "/usr/local/lib/python3.6/dist-packages/ipykernel_launcher.py:11: DeprecationWarning: scipy.interp is deprecated and will be removed in SciPy 2.0.0, use numpy.interp instead\n",
            "  # This is added back by InteractiveShellApp.init_path()\n"
          ],
          "name": "stderr"
        },
        {
          "output_type": "display_data",
          "data": {
            "image/png": "[encoded data removed]",
            "text/plain": [
              "<Figure size 432x288 with 1 Axes>"
            ]
          },
          "metadata": {
            "tags": []
          }
        }
      ]
    },
    {
      "cell_type": "code",
      "metadata": {
        "id": "Hw5jMUtKm_lW",
        "colab_type": "code",
        "colab": {}
      },
      "source": [
        ""
      ],
      "execution_count": null,
      "outputs": []
    }
  ]
}