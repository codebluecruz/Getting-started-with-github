{
  "nbformat": 4,
  "nbformat_minor": 0,
  "metadata": {
    "colab": {
      "name": "Copy of Increase RAM Reference Notes By Techhawa .ipynb",
      "provenance": [],
      "collapsed_sections": [],
      "toc_visible": true,
      "machine_shape": "hm",
      "include_colab_link": true
    },
    "kernelspec": {
      "name": "python3",
      "display_name": "Python 3"
    },
    "accelerator": "TPU"
  },
  "cells": [
    {
      "cell_type": "markdown",
      "metadata": {
        "id": "view-in-github",
        "colab_type": "text"
      },
      "source": [
        "<a href=\"https://colab.research.google.com/github/codebluecruz/Getting-started-with-github/blob/master/trial.ipynb\" target=\"_parent\"><img src=\"https://colab.research.google.com/assets/colab-badge.svg\" alt=\"Open In Colab\"/></a>"
      ]
    },
    {
      "cell_type": "markdown",
      "metadata": {
        "_uuid": "dd4d87a956090846d694ee5cb73e9d4581fa24f6",
        "id": "1TCeMoZ_7PIv",
        "colab_type": "text"
      },
      "source": [
        "# Exploratory Data Analysis w/ Python\n",
        "\n",
        "This kernel comprise exploratory data analysis on the provided data, including: \n",
        "- Data loading\n",
        "- Data cleaning \n",
        "- Descriptive Analysis\n",
        "- Temporal Analysis\n",
        "- Sentiment Analysis\n",
        "- Text Analysis\n",
        "- Importing Models\n",
        "- Comparing Classifier outputs\n",
        "- Hyperparameter Optimisation\n",
        "- Evaluating Results(Accuracy, F1-Score, Roc_auc score, ROC_AUC Cruve)\n",
        "\n"
      ]
    },
    {
      "cell_type": "code",
      "metadata": {
        "trusted": true,
        "_uuid": "8c3b51399825e356312a7849da35ecc580227f55",
        "id": "4fXWe39B7PIx",
        "colab_type": "code",
        "colab": {
          "base_uri": "https://localhost:8080/",
          "height": 125
        },
        "outputId": "ef4e3fc6-835a-49bc-835e-92b007d49430"
      },
      "source": [
        "# Importing all libraries which will be used for our model\n",
        "import pandas as pd\n",
        "import matplotlib.pyplot as plt\n",
        "from scipy import stats\n",
        "import numpy as np\n",
        "import re\n",
        "import seaborn as sns\n",
        "import string\n",
        "import html\n",
        "from sklearn.preprocessing import normalize, MinMaxScaler\n",
        "from scipy.stats import spearmanr, pearsonr\n",
        "\n",
        "# NLTK\n",
        "import nltk\n",
        "from nltk.corpus import stopwords\n",
        "from nltk.stem import SnowballStemmer\n",
        "import nltk\n",
        "nltk.download('stopwords')\n",
        "\n",
        "# Keras\n",
        "from keras.preprocessing.text import Tokenizer\n",
        "from keras.preprocessing.sequence import pad_sequences\n",
        "from keras.models import Sequential\n",
        "from keras.layers import Dense, Flatten, LSTM, Conv1D, MaxPooling1D, Dropout, Activation\n",
        "from keras.layers.embeddings import Embedding\n",
        "\n",
        "import warnings\n",
        "warnings.filterwarnings(\"ignore\", category=UserWarning, module='bs4')\n",
        "plt.style.use('ggplot')"
      ],
      "execution_count": 2,
      "outputs": [
        {
          "output_type": "stream",
          "text": [
            "/usr/local/lib/python3.6/dist-packages/statsmodels/tools/_testing.py:19: FutureWarning: pandas.util.testing is deprecated. Use the functions in the public API at pandas.testing instead.\n",
            "  import pandas.util.testing as tm\n"
          ],
          "name": "stderr"
        },
        {
          "output_type": "stream",
          "text": [
            "[nltk_data] Downloading package stopwords to /root/nltk_data...\n",
            "[nltk_data]   Unzipping corpora/stopwords.zip.\n"
          ],
          "name": "stdout"
        },
        {
          "output_type": "stream",
          "text": [
            "Using TensorFlow backend.\n"
          ],
          "name": "stderr"
        }
      ]
    },
    {
      "cell_type": "code",
      "metadata": {
        "id": "JNA-8waoDxUq",
        "colab_type": "code",
        "colab": {
          "base_uri": "https://localhost:8080/",
          "height": 125
        },
        "outputId": "7bcd66a5-91d7-4841-d65f-66ecca7d1be7"
      },
      "source": [
        "# Environment used for codefile if GooGle Collaboratory, Here we're mounting our google drive as all our data is saved on drive itself,\n",
        "# saves us from upload time.\n",
        "from google.colab import drive\n",
        "drive.mount('/content/drive')"
      ],
      "execution_count": 3,
      "outputs": [
        {
          "output_type": "stream",
          "text": [
            "Go to this URL in a browser: https://accounts.google.com/o/oauth2/auth?client_id=947318989803-6bn6qk8qdgf4n4g3pfee6491hc0brc4i.apps.googleusercontent.com&redirect_uri=urn%3aietf%3awg%3aoauth%3a2.0%3aoob&response_type=code&scope=email%20https%3a%2f%2fwww.googleapis.com%2fauth%2fdocs.test%20https%3a%2f%2fwww.googleapis.com%2fauth%2fdrive%20https%3a%2f%2fwww.googleapis.com%2fauth%2fdrive.photos.readonly%20https%3a%2f%2fwww.googleapis.com%2fauth%2fpeopleapi.readonly\n",
            "\n",
            "Enter your authorization code:\n",
            "··········\n",
            "Mounted at /content/drive\n"
          ],
          "name": "stdout"
        }
      ]
    },
    {
      "cell_type": "markdown",
      "metadata": {
        "_uuid": "9211934c152e8b40da08ba819800775662979593",
        "id": "DPR5Rjae7PI1",
        "colab_type": "text"
      },
      "source": [
        "## Loading Data\n",
        "\n",
        "Since we are just doing an exploratory analysis of the data, **we are going to concatenate test and train data into one dataset**."
      ]
    },
    {
      "cell_type": "code",
      "metadata": {
        "_kg_hide-input": false,
        "trusted": true,
        "_uuid": "8678481568c9b1bdd42da356206c2561cd521119",
        "id": "VFDWZdts7PI2",
        "colab_type": "code",
        "colab": {
          "base_uri": "https://localhost:8080/",
          "height": 72
        },
        "outputId": "8e2c37e1-7211-4608-c613-7633d38d6c36"
      },
      "source": [
        "# Reading data \n",
        "drugs = pd.read_csv('/content/drive/My Drive/newset_webmd.csv', skiprows=0)"
      ],
      "execution_count": 4,
      "outputs": [
        {
          "output_type": "stream",
          "text": [
            "/usr/local/lib/python3.6/dist-packages/IPython/core/interactiveshell.py:2718: DtypeWarning: Columns (0,1,2,3,7,9,10) have mixed types.Specify dtype option on import or set low_memory=False.\n",
            "  interactivity=interactivity, compiler=compiler, result=result)\n"
          ],
          "name": "stderr"
        }
      ]
    },
    {
      "cell_type": "code",
      "metadata": {
        "trusted": true,
        "_uuid": "a722edbd3dbf642d1d437517f259510a039e00d3",
        "id": "nK0kAzIL7PI6",
        "colab_type": "code",
        "colab": {
          "base_uri": "https://localhost:8080/",
          "height": 447
        },
        "outputId": "cf3db225-66ac-4d15-9146-709ef071b607"
      },
      "source": [
        "# droping any NaN rows from our dataset, changing all string values to LowerCase, removing Date column as it doesnt seem to be of much use.\n",
        "drugs = drugs.dropna(how = 'any', axis = 0)\n",
        "drugs.shape\n",
        "drugs.columns = drugs.columns.str.lower()\n",
        "drugs.reset_index(drop = True, inplace = True)\n",
        "drugs['condition'].isnull().sum(axis = 0)\n",
        "#dropping unnecessary columns\n",
        "drugs.drop(['date'], axis=1, inplace=True)\n",
        "drugs = drugs.drop_duplicates(subset=['reviews'], keep='first')\n",
        "\n",
        "drugs.head()"
      ],
      "execution_count": 5,
      "outputs": [
        {
          "output_type": "execute_result",
          "data": {
            "text/html": [
              "<div>\n",
              "<style scoped>\n",
              "    .dataframe tbody tr th:only-of-type {\n",
              "        vertical-align: middle;\n",
              "    }\n",
              "\n",
              "    .dataframe tbody tr th {\n",
              "        vertical-align: top;\n",
              "    }\n",
              "\n",
              "    .dataframe thead th {\n",
              "        text-align: right;\n",
              "    }\n",
              "</style>\n",
              "<table border=\"1\" class=\"dataframe\">\n",
              "  <thead>\n",
              "    <tr style=\"text-align: right;\">\n",
              "      <th></th>\n",
              "      <th>age</th>\n",
              "      <th>condition</th>\n",
              "      <th>drug</th>\n",
              "      <th>drugid</th>\n",
              "      <th>easeofuse</th>\n",
              "      <th>effectiveness</th>\n",
              "      <th>reviews</th>\n",
              "      <th>satisfaction</th>\n",
              "      <th>sex</th>\n",
              "      <th>sides</th>\n",
              "      <th>usefulcount</th>\n",
              "    </tr>\n",
              "  </thead>\n",
              "  <tbody>\n",
              "    <tr>\n",
              "      <th>0</th>\n",
              "      <td>75 or over</td>\n",
              "      <td>Incomplete or Infrequent Bowel Movements</td>\n",
              "      <td>miralax 17 gram oral powder packet</td>\n",
              "      <td>17116.0</td>\n",
              "      <td>5.0</td>\n",
              "      <td>3.0</td>\n",
              "      <td>I have success taking this drug, but have had ...</td>\n",
              "      <td>4.0</td>\n",
              "      <td>Female</td>\n",
              "      <td>Nausea , abdominal cramping, or gas may occur.</td>\n",
              "      <td>13.0</td>\n",
              "    </tr>\n",
              "    <tr>\n",
              "      <th>1</th>\n",
              "      <td>55-64</td>\n",
              "      <td>Rheumatoid Arthritis</td>\n",
              "      <td>meloxicam</td>\n",
              "      <td>911.0</td>\n",
              "      <td>4.0</td>\n",
              "      <td>4.0</td>\n",
              "      <td>unfortunately this drug causes me migrane like...</td>\n",
              "      <td>2.0</td>\n",
              "      <td>Female</td>\n",
              "      <td>Stomach  upset,  nausea ,  dizziness , or  dia...</td>\n",
              "      <td>3.0</td>\n",
              "    </tr>\n",
              "    <tr>\n",
              "      <th>2</th>\n",
              "      <td>65-74</td>\n",
              "      <td>Sensation of Spinning or Whirling</td>\n",
              "      <td>meclizine hcl</td>\n",
              "      <td>4520.0</td>\n",
              "      <td>4.0</td>\n",
              "      <td>4.0</td>\n",
              "      <td>diagnosed with vertigo, this medication taken ...</td>\n",
              "      <td>4.0</td>\n",
              "      <td>Male</td>\n",
              "      <td>Drowsiness,  dry mouth , and tiredness may occur.</td>\n",
              "      <td>10.0</td>\n",
              "    </tr>\n",
              "    <tr>\n",
              "      <th>3</th>\n",
              "      <td>25-34</td>\n",
              "      <td>Depression</td>\n",
              "      <td>mirtazapine tablet</td>\n",
              "      <td>13706.0</td>\n",
              "      <td>3.0</td>\n",
              "      <td>1.0</td>\n",
              "      <td>Placed on this medicine after being taken off ...</td>\n",
              "      <td>1.0</td>\n",
              "      <td>Female</td>\n",
              "      <td>Dizziness , drowsiness,  lightheadedness , inc...</td>\n",
              "      <td>20.0</td>\n",
              "    </tr>\n",
              "    <tr>\n",
              "      <th>4</th>\n",
              "      <td>19-24</td>\n",
              "      <td>Depression</td>\n",
              "      <td>mirtazapine</td>\n",
              "      <td>13706.0</td>\n",
              "      <td>3.0</td>\n",
              "      <td>1.0</td>\n",
              "      <td>i have only been on this drug for one week. I ...</td>\n",
              "      <td>1.0</td>\n",
              "      <td>Female</td>\n",
              "      <td>Dizziness , drowsiness,  lightheadedness , inc...</td>\n",
              "      <td>28.0</td>\n",
              "    </tr>\n",
              "  </tbody>\n",
              "</table>\n",
              "</div>"
            ],
            "text/plain": [
              "          age  ... usefulcount\n",
              "0  75 or over  ...        13.0\n",
              "1       55-64  ...         3.0\n",
              "2       65-74  ...        10.0\n",
              "3       25-34  ...        20.0\n",
              "4       19-24  ...        28.0\n",
              "\n",
              "[5 rows x 11 columns]"
            ]
          },
          "metadata": {
            "tags": []
          },
          "execution_count": 5
        }
      ]
    },
    {
      "cell_type": "markdown",
      "metadata": {
        "_uuid": "78ba9cdda16fc81c70e845bff88e402f9345922c",
        "id": "6BRPIx2R7PJD",
        "colab_type": "text"
      },
      "source": [
        "## Data Cleaning and Data Glimpse\n",
        "\n",
        "We are willing to check if this dataset have some corrupted data or non present values. \n",
        "\n",
        "**condition** is a field which present problems in 1171 registers, probably due to some bug in the data web scraping. The value of those registers is the usefulCount value with an ```span``` HTML tag and the following text: ```users found this comment helpful```. We ignored these registers."
      ]
    },
    {
      "cell_type": "code",
      "metadata": {
        "trusted": true,
        "_uuid": "1958006c6caf1d44ec2a2c26b2fb987a658b123b",
        "id": "lrbF5-GF7PJH",
        "colab_type": "code",
        "colab": {
          "base_uri": "https://localhost:8080/",
          "height": 34
        },
        "outputId": "cc5d769f-0f81-4ebc-9c74-08a7de8c7279"
      },
      "source": [
        "# Let's delete all of these corrupted rows\n",
        "print(\"Number of Corrupted Reviews: \", len(drugs[drugs.condition.str.contains(\" users found this comment helpful.\",na=False)]))\n",
        "drugs = drugs[~drugs.condition.str.contains(\" users found this comment helpful.\",na=False)]"
      ],
      "execution_count": 6,
      "outputs": [
        {
          "output_type": "stream",
          "text": [
            "Number of Corrupted Reviews:  0\n"
          ],
          "name": "stdout"
        }
      ]
    },
    {
      "cell_type": "code",
      "metadata": {
        "trusted": true,
        "_uuid": "908dba91c19c44a2ca447a29e62ea8ec9a683b46",
        "id": "74F8yLtL7PJL",
        "colab_type": "code",
        "colab": {
          "base_uri": "https://localhost:8080/",
          "height": 287
        },
        "outputId": "553b219b-6809-455e-b0d9-08458dea4ef2"
      },
      "source": [
        "drugs.describe() "
      ],
      "execution_count": 7,
      "outputs": [
        {
          "output_type": "execute_result",
          "data": {
            "text/html": [
              "<div>\n",
              "<style scoped>\n",
              "    .dataframe tbody tr th:only-of-type {\n",
              "        vertical-align: middle;\n",
              "    }\n",
              "\n",
              "    .dataframe tbody tr th {\n",
              "        vertical-align: top;\n",
              "    }\n",
              "\n",
              "    .dataframe thead th {\n",
              "        text-align: right;\n",
              "    }\n",
              "</style>\n",
              "<table border=\"1\" class=\"dataframe\">\n",
              "  <thead>\n",
              "    <tr style=\"text-align: right;\">\n",
              "      <th></th>\n",
              "      <th>drugid</th>\n",
              "      <th>easeofuse</th>\n",
              "      <th>effectiveness</th>\n",
              "      <th>satisfaction</th>\n",
              "      <th>usefulcount</th>\n",
              "    </tr>\n",
              "  </thead>\n",
              "  <tbody>\n",
              "    <tr>\n",
              "      <th>count</th>\n",
              "      <td>88837.000000</td>\n",
              "      <td>88837.000000</td>\n",
              "      <td>88837.000000</td>\n",
              "      <td>88837.000000</td>\n",
              "      <td>88837.000000</td>\n",
              "    </tr>\n",
              "    <tr>\n",
              "      <th>mean</th>\n",
              "      <td>47649.798733</td>\n",
              "      <td>4.010457</td>\n",
              "      <td>3.525164</td>\n",
              "      <td>3.054639</td>\n",
              "      <td>7.297038</td>\n",
              "    </tr>\n",
              "    <tr>\n",
              "      <th>std</th>\n",
              "      <td>59220.348814</td>\n",
              "      <td>1.346241</td>\n",
              "      <td>1.505214</td>\n",
              "      <td>1.649900</td>\n",
              "      <td>9.517133</td>\n",
              "    </tr>\n",
              "    <tr>\n",
              "      <th>min</th>\n",
              "      <td>1.000000</td>\n",
              "      <td>1.000000</td>\n",
              "      <td>1.000000</td>\n",
              "      <td>1.000000</td>\n",
              "      <td>0.000000</td>\n",
              "    </tr>\n",
              "    <tr>\n",
              "      <th>25%</th>\n",
              "      <td>6007.000000</td>\n",
              "      <td>3.000000</td>\n",
              "      <td>2.000000</td>\n",
              "      <td>1.000000</td>\n",
              "      <td>1.000000</td>\n",
              "    </tr>\n",
              "    <tr>\n",
              "      <th>50%</th>\n",
              "      <td>13561.000000</td>\n",
              "      <td>5.000000</td>\n",
              "      <td>4.000000</td>\n",
              "      <td>3.000000</td>\n",
              "      <td>4.000000</td>\n",
              "    </tr>\n",
              "    <tr>\n",
              "      <th>75%</th>\n",
              "      <td>78136.000000</td>\n",
              "      <td>5.000000</td>\n",
              "      <td>5.000000</td>\n",
              "      <td>5.000000</td>\n",
              "      <td>10.000000</td>\n",
              "    </tr>\n",
              "    <tr>\n",
              "      <th>max</th>\n",
              "      <td>178546.000000</td>\n",
              "      <td>5.000000</td>\n",
              "      <td>5.000000</td>\n",
              "      <td>5.000000</td>\n",
              "      <td>255.000000</td>\n",
              "    </tr>\n",
              "  </tbody>\n",
              "</table>\n",
              "</div>"
            ],
            "text/plain": [
              "              drugid     easeofuse  effectiveness  satisfaction   usefulcount\n",
              "count   88837.000000  88837.000000   88837.000000  88837.000000  88837.000000\n",
              "mean    47649.798733      4.010457       3.525164      3.054639      7.297038\n",
              "std     59220.348814      1.346241       1.505214      1.649900      9.517133\n",
              "min         1.000000      1.000000       1.000000      1.000000      0.000000\n",
              "25%      6007.000000      3.000000       2.000000      1.000000      1.000000\n",
              "50%     13561.000000      5.000000       4.000000      3.000000      4.000000\n",
              "75%     78136.000000      5.000000       5.000000      5.000000     10.000000\n",
              "max    178546.000000      5.000000       5.000000      5.000000    255.000000"
            ]
          },
          "metadata": {
            "tags": []
          },
          "execution_count": 7
        }
      ]
    },
    {
      "cell_type": "code",
      "metadata": {
        "trusted": true,
        "id": "RWA2D03i7PJP",
        "colab_type": "code",
        "colab": {
          "base_uri": "https://localhost:8080/",
          "height": 287
        },
        "outputId": "78ec69db-c9ee-4eee-837a-7bc6b007d521"
      },
      "source": [
        "### Thought flow for Depression Confidence Intervals\n",
        "\"\"\"\n",
        "I want to take the df, filter by condition, drug, confidence interval, sample size cutoff)\n",
        "Then loop through all the drugs for a specific condition and calculate their\n",
        "mean, top limit, and bottom limit. \n",
        "\"\"\"\n",
        "# Create Confidence Interval Function\n",
        "def confidence_interval (data, ci_percent):\n",
        "  data = np.array(data) # Makes sure our data is in a numpy array\n",
        "  mean = np.mean(data)\n",
        "  n = len(data)\n",
        "  stderr = stats.sem(data)\n",
        "  interval = stderr * stats.t.ppf((1 + ci_percent) / 2., n - 1)\n",
        "  return (mean, mean - interval, mean + interval)\n",
        "\n",
        "\n",
        "def condition_compare (drugs, condition_id, ci_percent, sample_size_cutoff):\n",
        "  output_names = [\"Drug Name\", \"Sample Mean\", \"Lower Bound\", \"Upper Bound\", \"Sample Size\"]\n",
        "  drug_compare = []\n",
        "  data = drugs[drugs.condition == condition_id]\n",
        "  for drug in data.drug.unique():\n",
        "    one_drug = data[data.drug == drug].satisfaction\n",
        "    if one_drug.size > sample_size_cutoff:\n",
        "      mean, ilower, iupper= confidence_interval(one_drug, ci_percent)\n",
        "      entry = [drug, mean, ilower, iupper, one_drug.size]\n",
        "      drug_compare.append(entry)\n",
        "  return pd.DataFrame(drug_compare, columns=output_names)\n",
        "\n",
        "\n",
        "drugs2 = condition_compare(drugs, \"Cough\", 0.95, 10).sort_values(by=\"Sample Mean\", ascending=False)\n",
        "drugs2"
      ],
      "execution_count": 8,
      "outputs": [
        {
          "output_type": "execute_result",
          "data": {
            "text/html": [
              "<div>\n",
              "<style scoped>\n",
              "    .dataframe tbody tr th:only-of-type {\n",
              "        vertical-align: middle;\n",
              "    }\n",
              "\n",
              "    .dataframe tbody tr th {\n",
              "        vertical-align: top;\n",
              "    }\n",
              "\n",
              "    .dataframe thead th {\n",
              "        text-align: right;\n",
              "    }\n",
              "</style>\n",
              "<table border=\"1\" class=\"dataframe\">\n",
              "  <thead>\n",
              "    <tr style=\"text-align: right;\">\n",
              "      <th></th>\n",
              "      <th>Drug Name</th>\n",
              "      <th>Sample Mean</th>\n",
              "      <th>Lower Bound</th>\n",
              "      <th>Upper Bound</th>\n",
              "      <th>Sample Size</th>\n",
              "    </tr>\n",
              "  </thead>\n",
              "  <tbody>\n",
              "    <tr>\n",
              "      <th>4</th>\n",
              "      <td>tussionex</td>\n",
              "      <td>4.406977</td>\n",
              "      <td>4.183008</td>\n",
              "      <td>4.630945</td>\n",
              "      <td>86</td>\n",
              "    </tr>\n",
              "    <tr>\n",
              "      <th>3</th>\n",
              "      <td>zutripro</td>\n",
              "      <td>3.846154</td>\n",
              "      <td>2.803969</td>\n",
              "      <td>4.888339</td>\n",
              "      <td>13</td>\n",
              "    </tr>\n",
              "    <tr>\n",
              "      <th>5</th>\n",
              "      <td>tussicaps</td>\n",
              "      <td>3.826087</td>\n",
              "      <td>3.092547</td>\n",
              "      <td>4.559627</td>\n",
              "      <td>23</td>\n",
              "    </tr>\n",
              "    <tr>\n",
              "      <th>0</th>\n",
              "      <td>promethazine-codeine</td>\n",
              "      <td>3.555556</td>\n",
              "      <td>2.971547</td>\n",
              "      <td>4.139564</td>\n",
              "      <td>27</td>\n",
              "    </tr>\n",
              "    <tr>\n",
              "      <th>6</th>\n",
              "      <td>tessalon perle</td>\n",
              "      <td>3.209790</td>\n",
              "      <td>2.997807</td>\n",
              "      <td>3.421773</td>\n",
              "      <td>286</td>\n",
              "    </tr>\n",
              "    <tr>\n",
              "      <th>2</th>\n",
              "      <td>promethazine vc-codeine</td>\n",
              "      <td>3.142857</td>\n",
              "      <td>2.159423</td>\n",
              "      <td>4.126291</td>\n",
              "      <td>14</td>\n",
              "    </tr>\n",
              "    <tr>\n",
              "      <th>7</th>\n",
              "      <td>virtussin ac</td>\n",
              "      <td>2.945946</td>\n",
              "      <td>2.332434</td>\n",
              "      <td>3.559458</td>\n",
              "      <td>37</td>\n",
              "    </tr>\n",
              "    <tr>\n",
              "      <th>1</th>\n",
              "      <td>promethazine-dm</td>\n",
              "      <td>2.808511</td>\n",
              "      <td>2.301296</td>\n",
              "      <td>3.315725</td>\n",
              "      <td>47</td>\n",
              "    </tr>\n",
              "  </tbody>\n",
              "</table>\n",
              "</div>"
            ],
            "text/plain": [
              "                 Drug Name  Sample Mean  Lower Bound  Upper Bound  Sample Size\n",
              "4                tussionex     4.406977     4.183008     4.630945           86\n",
              "3                 zutripro     3.846154     2.803969     4.888339           13\n",
              "5                tussicaps     3.826087     3.092547     4.559627           23\n",
              "0     promethazine-codeine     3.555556     2.971547     4.139564           27\n",
              "6           tessalon perle     3.209790     2.997807     3.421773          286\n",
              "2  promethazine vc-codeine     3.142857     2.159423     4.126291           14\n",
              "7             virtussin ac     2.945946     2.332434     3.559458           37\n",
              "1          promethazine-dm     2.808511     2.301296     3.315725           47"
            ]
          },
          "metadata": {
            "tags": []
          },
          "execution_count": 8
        }
      ]
    },
    {
      "cell_type": "code",
      "metadata": {
        "id": "YfH81ZoYzS-q",
        "colab_type": "code",
        "colab": {
          "base_uri": "https://localhost:8080/",
          "height": 464
        },
        "outputId": "821f1a5a-d48f-4909-b856-c75f824759a5"
      },
      "source": [
        "#We have created a column named \"uniqueid\" for every row, to easen up or operations.\n",
        "drugs['uniqueid'] = np.arange(len(drugs))\n",
        "drugs.head()"
      ],
      "execution_count": 9,
      "outputs": [
        {
          "output_type": "execute_result",
          "data": {
            "text/html": [
              "<div>\n",
              "<style scoped>\n",
              "    .dataframe tbody tr th:only-of-type {\n",
              "        vertical-align: middle;\n",
              "    }\n",
              "\n",
              "    .dataframe tbody tr th {\n",
              "        vertical-align: top;\n",
              "    }\n",
              "\n",
              "    .dataframe thead th {\n",
              "        text-align: right;\n",
              "    }\n",
              "</style>\n",
              "<table border=\"1\" class=\"dataframe\">\n",
              "  <thead>\n",
              "    <tr style=\"text-align: right;\">\n",
              "      <th></th>\n",
              "      <th>age</th>\n",
              "      <th>condition</th>\n",
              "      <th>drug</th>\n",
              "      <th>drugid</th>\n",
              "      <th>easeofuse</th>\n",
              "      <th>effectiveness</th>\n",
              "      <th>reviews</th>\n",
              "      <th>satisfaction</th>\n",
              "      <th>sex</th>\n",
              "      <th>sides</th>\n",
              "      <th>usefulcount</th>\n",
              "      <th>uniqueid</th>\n",
              "    </tr>\n",
              "  </thead>\n",
              "  <tbody>\n",
              "    <tr>\n",
              "      <th>0</th>\n",
              "      <td>75 or over</td>\n",
              "      <td>Incomplete or Infrequent Bowel Movements</td>\n",
              "      <td>miralax 17 gram oral powder packet</td>\n",
              "      <td>17116.0</td>\n",
              "      <td>5.0</td>\n",
              "      <td>3.0</td>\n",
              "      <td>I have success taking this drug, but have had ...</td>\n",
              "      <td>4.0</td>\n",
              "      <td>Female</td>\n",
              "      <td>Nausea , abdominal cramping, or gas may occur.</td>\n",
              "      <td>13.0</td>\n",
              "      <td>0</td>\n",
              "    </tr>\n",
              "    <tr>\n",
              "      <th>1</th>\n",
              "      <td>55-64</td>\n",
              "      <td>Rheumatoid Arthritis</td>\n",
              "      <td>meloxicam</td>\n",
              "      <td>911.0</td>\n",
              "      <td>4.0</td>\n",
              "      <td>4.0</td>\n",
              "      <td>unfortunately this drug causes me migrane like...</td>\n",
              "      <td>2.0</td>\n",
              "      <td>Female</td>\n",
              "      <td>Stomach  upset,  nausea ,  dizziness , or  dia...</td>\n",
              "      <td>3.0</td>\n",
              "      <td>1</td>\n",
              "    </tr>\n",
              "    <tr>\n",
              "      <th>2</th>\n",
              "      <td>65-74</td>\n",
              "      <td>Sensation of Spinning or Whirling</td>\n",
              "      <td>meclizine hcl</td>\n",
              "      <td>4520.0</td>\n",
              "      <td>4.0</td>\n",
              "      <td>4.0</td>\n",
              "      <td>diagnosed with vertigo, this medication taken ...</td>\n",
              "      <td>4.0</td>\n",
              "      <td>Male</td>\n",
              "      <td>Drowsiness,  dry mouth , and tiredness may occur.</td>\n",
              "      <td>10.0</td>\n",
              "      <td>2</td>\n",
              "    </tr>\n",
              "    <tr>\n",
              "      <th>3</th>\n",
              "      <td>25-34</td>\n",
              "      <td>Depression</td>\n",
              "      <td>mirtazapine tablet</td>\n",
              "      <td>13706.0</td>\n",
              "      <td>3.0</td>\n",
              "      <td>1.0</td>\n",
              "      <td>Placed on this medicine after being taken off ...</td>\n",
              "      <td>1.0</td>\n",
              "      <td>Female</td>\n",
              "      <td>Dizziness , drowsiness,  lightheadedness , inc...</td>\n",
              "      <td>20.0</td>\n",
              "      <td>3</td>\n",
              "    </tr>\n",
              "    <tr>\n",
              "      <th>4</th>\n",
              "      <td>19-24</td>\n",
              "      <td>Depression</td>\n",
              "      <td>mirtazapine</td>\n",
              "      <td>13706.0</td>\n",
              "      <td>3.0</td>\n",
              "      <td>1.0</td>\n",
              "      <td>i have only been on this drug for one week. I ...</td>\n",
              "      <td>1.0</td>\n",
              "      <td>Female</td>\n",
              "      <td>Dizziness , drowsiness,  lightheadedness , inc...</td>\n",
              "      <td>28.0</td>\n",
              "      <td>4</td>\n",
              "    </tr>\n",
              "  </tbody>\n",
              "</table>\n",
              "</div>"
            ],
            "text/plain": [
              "          age                                 condition  ... usefulcount  uniqueid\n",
              "0  75 or over  Incomplete or Infrequent Bowel Movements  ...        13.0         0\n",
              "1       55-64                      Rheumatoid Arthritis  ...         3.0         1\n",
              "2       65-74         Sensation of Spinning or Whirling  ...        10.0         2\n",
              "3       25-34                                Depression  ...        20.0         3\n",
              "4       19-24                                Depression  ...        28.0         4\n",
              "\n",
              "[5 rows x 12 columns]"
            ]
          },
          "metadata": {
            "tags": []
          },
          "execution_count": 9
        }
      ]
    },
    {
      "cell_type": "code",
      "metadata": {
        "trusted": true,
        "_uuid": "cafe21fe35819e34426b87275a8a45accb8d0538",
        "id": "iz9v5wjz7PJR",
        "colab_type": "code",
        "colab": {
          "base_uri": "https://localhost:8080/",
          "height": 323
        },
        "outputId": "6264133a-7119-4d26-bf86-f7ed85daa3ac"
      },
      "source": [
        "# We will use this groupings later on...\n",
        "\n",
        "print(\"Number of Reviews per Drug\")\n",
        "# Number of reviews per drug\n",
        "reviews_per_drug = drugs.groupby([\"drug\"]).agg({\n",
        "    \"uniqueid\": pd.Series.nunique\n",
        "})\n",
        "reviews_per_drug.describe()\n",
        "\n",
        "\n",
        "print(\"Number of Reviews per Condition\")\n",
        "# Number of reviews per condition\n",
        "reviews_per_condition = drugs.groupby([\"condition\"]).agg({\n",
        "    \"uniqueid\": pd.Series.nunique\n",
        "})\n",
        "\n",
        "reviews_per_condition.describe()"
      ],
      "execution_count": 10,
      "outputs": [
        {
          "output_type": "stream",
          "text": [
            "Number of Reviews per Drug\n",
            "Number of Reviews per Condition\n"
          ],
          "name": "stdout"
        },
        {
          "output_type": "execute_result",
          "data": {
            "text/html": [
              "<div>\n",
              "<style scoped>\n",
              "    .dataframe tbody tr th:only-of-type {\n",
              "        vertical-align: middle;\n",
              "    }\n",
              "\n",
              "    .dataframe tbody tr th {\n",
              "        vertical-align: top;\n",
              "    }\n",
              "\n",
              "    .dataframe thead th {\n",
              "        text-align: right;\n",
              "    }\n",
              "</style>\n",
              "<table border=\"1\" class=\"dataframe\">\n",
              "  <thead>\n",
              "    <tr style=\"text-align: right;\">\n",
              "      <th></th>\n",
              "      <th>uniqueid</th>\n",
              "    </tr>\n",
              "  </thead>\n",
              "  <tbody>\n",
              "    <tr>\n",
              "      <th>count</th>\n",
              "      <td>1121.000000</td>\n",
              "    </tr>\n",
              "    <tr>\n",
              "      <th>mean</th>\n",
              "      <td>79.247993</td>\n",
              "    </tr>\n",
              "    <tr>\n",
              "      <th>std</th>\n",
              "      <td>495.295557</td>\n",
              "    </tr>\n",
              "    <tr>\n",
              "      <th>min</th>\n",
              "      <td>1.000000</td>\n",
              "    </tr>\n",
              "    <tr>\n",
              "      <th>25%</th>\n",
              "      <td>2.000000</td>\n",
              "    </tr>\n",
              "    <tr>\n",
              "      <th>50%</th>\n",
              "      <td>7.000000</td>\n",
              "    </tr>\n",
              "    <tr>\n",
              "      <th>75%</th>\n",
              "      <td>26.000000</td>\n",
              "    </tr>\n",
              "    <tr>\n",
              "      <th>max</th>\n",
              "      <td>12873.000000</td>\n",
              "    </tr>\n",
              "  </tbody>\n",
              "</table>\n",
              "</div>"
            ],
            "text/plain": [
              "           uniqueid\n",
              "count   1121.000000\n",
              "mean      79.247993\n",
              "std      495.295557\n",
              "min        1.000000\n",
              "25%        2.000000\n",
              "50%        7.000000\n",
              "75%       26.000000\n",
              "max    12873.000000"
            ]
          },
          "metadata": {
            "tags": []
          },
          "execution_count": 10
        }
      ]
    },
    {
      "cell_type": "markdown",
      "metadata": {
        "id": "NwyktsbZ7PJU",
        "colab_type": "text"
      },
      "source": [
        "#### Some RegEx to clean this text up. "
      ]
    },
    {
      "cell_type": "code",
      "metadata": {
        "trusted": true,
        "id": "NJ1ZQlw07PJY",
        "colab_type": "code",
        "colab": {
          "base_uri": "https://localhost:8080/",
          "height": 534
        },
        "outputId": "d10c2097-4301-4126-f246-3c3b8eef6590"
      },
      "source": [
        "#club ratings into satisfaction_label incase we want to reduce classes and classify among Good, Neutral, Bad overall responses.\n",
        "drugs['satisfaction_label'] = drugs[\"satisfaction\"].apply(lambda x: 2 if x > 3 else (1 if ((x>1)&(x<=3)) else 0))\n",
        "\n",
        "# Inspect the lower cased reviews text. \n",
        "drugs['reviews'] = drugs['reviews'].str.lower()\n",
        "drugs.head(5)"
      ],
      "execution_count": 11,
      "outputs": [
        {
          "output_type": "execute_result",
          "data": {
            "text/html": [
              "<div>\n",
              "<style scoped>\n",
              "    .dataframe tbody tr th:only-of-type {\n",
              "        vertical-align: middle;\n",
              "    }\n",
              "\n",
              "    .dataframe tbody tr th {\n",
              "        vertical-align: top;\n",
              "    }\n",
              "\n",
              "    .dataframe thead th {\n",
              "        text-align: right;\n",
              "    }\n",
              "</style>\n",
              "<table border=\"1\" class=\"dataframe\">\n",
              "  <thead>\n",
              "    <tr style=\"text-align: right;\">\n",
              "      <th></th>\n",
              "      <th>age</th>\n",
              "      <th>condition</th>\n",
              "      <th>drug</th>\n",
              "      <th>drugid</th>\n",
              "      <th>easeofuse</th>\n",
              "      <th>effectiveness</th>\n",
              "      <th>reviews</th>\n",
              "      <th>satisfaction</th>\n",
              "      <th>sex</th>\n",
              "      <th>sides</th>\n",
              "      <th>usefulcount</th>\n",
              "      <th>uniqueid</th>\n",
              "      <th>satisfaction_label</th>\n",
              "    </tr>\n",
              "  </thead>\n",
              "  <tbody>\n",
              "    <tr>\n",
              "      <th>0</th>\n",
              "      <td>75 or over</td>\n",
              "      <td>Incomplete or Infrequent Bowel Movements</td>\n",
              "      <td>miralax 17 gram oral powder packet</td>\n",
              "      <td>17116.0</td>\n",
              "      <td>5.0</td>\n",
              "      <td>3.0</td>\n",
              "      <td>i have success taking this drug, but have had ...</td>\n",
              "      <td>4.0</td>\n",
              "      <td>Female</td>\n",
              "      <td>Nausea , abdominal cramping, or gas may occur.</td>\n",
              "      <td>13.0</td>\n",
              "      <td>0</td>\n",
              "      <td>2</td>\n",
              "    </tr>\n",
              "    <tr>\n",
              "      <th>1</th>\n",
              "      <td>55-64</td>\n",
              "      <td>Rheumatoid Arthritis</td>\n",
              "      <td>meloxicam</td>\n",
              "      <td>911.0</td>\n",
              "      <td>4.0</td>\n",
              "      <td>4.0</td>\n",
              "      <td>unfortunately this drug causes me migrane like...</td>\n",
              "      <td>2.0</td>\n",
              "      <td>Female</td>\n",
              "      <td>Stomach  upset,  nausea ,  dizziness , or  dia...</td>\n",
              "      <td>3.0</td>\n",
              "      <td>1</td>\n",
              "      <td>1</td>\n",
              "    </tr>\n",
              "    <tr>\n",
              "      <th>2</th>\n",
              "      <td>65-74</td>\n",
              "      <td>Sensation of Spinning or Whirling</td>\n",
              "      <td>meclizine hcl</td>\n",
              "      <td>4520.0</td>\n",
              "      <td>4.0</td>\n",
              "      <td>4.0</td>\n",
              "      <td>diagnosed with vertigo, this medication taken ...</td>\n",
              "      <td>4.0</td>\n",
              "      <td>Male</td>\n",
              "      <td>Drowsiness,  dry mouth , and tiredness may occur.</td>\n",
              "      <td>10.0</td>\n",
              "      <td>2</td>\n",
              "      <td>2</td>\n",
              "    </tr>\n",
              "    <tr>\n",
              "      <th>3</th>\n",
              "      <td>25-34</td>\n",
              "      <td>Depression</td>\n",
              "      <td>mirtazapine tablet</td>\n",
              "      <td>13706.0</td>\n",
              "      <td>3.0</td>\n",
              "      <td>1.0</td>\n",
              "      <td>placed on this medicine after being taken off ...</td>\n",
              "      <td>1.0</td>\n",
              "      <td>Female</td>\n",
              "      <td>Dizziness , drowsiness,  lightheadedness , inc...</td>\n",
              "      <td>20.0</td>\n",
              "      <td>3</td>\n",
              "      <td>0</td>\n",
              "    </tr>\n",
              "    <tr>\n",
              "      <th>4</th>\n",
              "      <td>19-24</td>\n",
              "      <td>Depression</td>\n",
              "      <td>mirtazapine</td>\n",
              "      <td>13706.0</td>\n",
              "      <td>3.0</td>\n",
              "      <td>1.0</td>\n",
              "      <td>i have only been on this drug for one week. i ...</td>\n",
              "      <td>1.0</td>\n",
              "      <td>Female</td>\n",
              "      <td>Dizziness , drowsiness,  lightheadedness , inc...</td>\n",
              "      <td>28.0</td>\n",
              "      <td>4</td>\n",
              "      <td>0</td>\n",
              "    </tr>\n",
              "  </tbody>\n",
              "</table>\n",
              "</div>"
            ],
            "text/plain": [
              "          age  ... satisfaction_label\n",
              "0  75 or over  ...                  2\n",
              "1       55-64  ...                  1\n",
              "2       65-74  ...                  2\n",
              "3       25-34  ...                  0\n",
              "4       19-24  ...                  0\n",
              "\n",
              "[5 rows x 13 columns]"
            ]
          },
          "metadata": {
            "tags": []
          },
          "execution_count": 11
        }
      ]
    },
    {
      "cell_type": "markdown",
      "metadata": {
        "_uuid": "1bd4479c3cf50ef94ede37c534c614d63f281d09",
        "id": "mpPlGfl97PJb",
        "colab_type": "text"
      },
      "source": [
        "## Descriptive Analysis\n"
      ]
    },
    {
      "cell_type": "markdown",
      "metadata": {
        "_uuid": "21f27039787d989de7c88dd89b85ea1987018625",
        "id": "XZUrxpOI7PJc",
        "colab_type": "text"
      },
      "source": [
        "### Top 10 Reviewed Drugs"
      ]
    },
    {
      "cell_type": "code",
      "metadata": {
        "trusted": true,
        "_uuid": "f16ea5b368c49b31858d6eeafb59e76f6eaa0ef6",
        "id": "gYDXmEh97PJc",
        "colab_type": "code",
        "colab": {
          "base_uri": "https://localhost:8080/",
          "height": 514
        },
        "outputId": "1b7390c1-3d8b-464b-f78e-71d90aac0c59"
      },
      "source": [
        "# Top 10 most reviewed drug names\n",
        "plot = drugs.drug.value_counts().nlargest(10).plot(kind='bar', title=\"Top 10 reviewed drugs\", figsize=(12,6))"
      ],
      "execution_count": 12,
      "outputs": [
        {
          "output_type": "display_data",
          "data": {
            "image/png": "[encoded data removed]",
            "text/plain": [
              "<Figure size 864x432 with 1 Axes>"
            ]
          },
          "metadata": {
            "tags": []
          }
        }
      ]
    },
    {
      "cell_type": "markdown",
      "metadata": {
        "_uuid": "99e11383a879a953948824850dd53c3213b26da6",
        "id": "u8iBWtrj7PJf",
        "colab_type": "text"
      },
      "source": [
        "### Top 10 conditions undergoing by drug reviewers"
      ]
    },
    {
      "cell_type": "code",
      "metadata": {
        "trusted": true,
        "_uuid": "bff251a70cf485ee3cef2c5b778bea947f0d5a96",
        "id": "b2Wdswkx7PJg",
        "colab_type": "code",
        "colab": {
          "base_uri": "https://localhost:8080/",
          "height": 603
        },
        "outputId": "c2fd797a-18b9-40c9-bda9-c278cdd6a52c"
      },
      "source": [
        "# Top 10 most suffered condition by reviewers\n",
        "plot = drugs.condition.value_counts().nlargest(10).plot(kind='bar', title=\"Top 10 conditions in reviews\", figsize=(12,6))"
      ],
      "execution_count": 13,
      "outputs": [
        {
          "output_type": "display_data",
          "data": {
            "image/png": "[encoded data removed]",
            "text/plain": [
              "<Figure size 864x432 with 1 Axes>"
            ]
          },
          "metadata": {
            "tags": []
          }
        }
      ]
    },
    {
      "cell_type": "markdown",
      "metadata": {
        "_uuid": "7e96f07fca2e6310085893f128d95a2a53a4f184",
        "id": "TmBO_Q687PJi",
        "colab_type": "text"
      },
      "source": [
        "### Top 10 drugs with best and worst rating\n",
        "\n",
        "When doing this analysis for all the drugs, there is a factor which affect the results: **the number of reviews of a drug**. I.e. if we want to compute the drug with best rating, the drug which in **only 1 review** was given a 10 rating would be in TOP 1. For this reason, we only consider drugs with a significant number of reviews. A significant number of reviews is when the number of reviews for a drug is above the 75% of the number of reviews distribution per drug.\n"
      ]
    },
    {
      "cell_type": "code",
      "metadata": {
        "trusted": true,
        "_uuid": "81b8bbe61ea3e8dcfb54d6eb89362c94a352e4bb",
        "id": "FFXcIGsw7PJj",
        "colab_type": "code",
        "colab": {
          "base_uri": "https://localhost:8080/",
          "height": 992
        },
        "outputId": "0cc5e168-461d-4cdb-dfa9-fb0a2aea8013"
      },
      "source": [
        "drugs_rating = drugs.groupby('drug').agg({\n",
        "    'satisfaction': np.mean,\n",
        "    'uniqueid': pd.Series.nunique\n",
        "})\n",
        "\n",
        "print(\"Significant number of reviews: More than\", reviews_per_drug.quantile(q=0.75).values[0], \"reviews\")\n",
        "\n",
        "# We only use the drugs which number of reviews is higher than a threshold\n",
        "drugs_rating = drugs_rating[drugs_rating['uniqueid'] > int(reviews_per_drug.quantile(q=0.75))]\n",
        "\n",
        "# Top 10\n",
        "top_drugs_rating = drugs_rating.nlargest(10, 'satisfaction')\n",
        "plot = top_drugs_rating.plot(y='satisfaction', kind='bar', figsize = (16, 3))\n",
        "dummy = plt.title(\"Top 10 'significant' drugs with best rating\") # Assigned to variable to prevent output\n",
        "dummy = plt.ylim(4, 5) # Assigned to variable to prevent output\n",
        "\n",
        "# Bottom 10\n",
        "bottom_drugs_rating = drugs_rating.nsmallest(10, 'satisfaction')\n",
        "plot = bottom_drugs_rating.plot(y='satisfaction', kind='bar', figsize = (16, 3))\n",
        "dummy = plt.title(\"Top 10 'significant' drugs with worst rating\") # Assigned to variable to prevent output\n",
        "dummy = plt.ylim(1, 3) # Assigned to variable to prevent output"
      ],
      "execution_count": 14,
      "outputs": [
        {
          "output_type": "stream",
          "text": [
            "Significant number of reviews: More than 20.0 reviews\n"
          ],
          "name": "stdout"
        },
        {
          "output_type": "display_data",
          "data": {
            "image/png": "[encoded data removed]",
            "text/plain": [
              "<Figure size 1152x216 with 1 Axes>"
            ]
          },
          "metadata": {
            "tags": []
          }
        },
        {
          "output_type": "display_data",
          "data": {
            "image/png": "[encoded data removed]",
            "text/plain": [
              "<Figure size 1152x216 with 1 Axes>"
            ]
          },
          "metadata": {
            "tags": []
          }
        }
      ]
    },
    {
      "cell_type": "markdown",
      "metadata": {
        "_uuid": "d6d058a52a8a2e7b297679d2b5f5f8a351d1dffb",
        "id": "59vpYdmP7PJm",
        "colab_type": "text"
      },
      "source": [
        "### Analyzing Pairs (Drug, Condition) with best and worst ratings\n",
        "\n",
        "We theorize that the rating of a drug, is strongly related to the condition that the person who reviewed was suffering. We are going to compute the top 10 best and worst rating of reviews for (Drug, condition) pairs."
      ]
    },
    {
      "cell_type": "code",
      "metadata": {
        "trusted": true,
        "_uuid": "bdd2896065bcba7fe0f3acc83eba37fc1c53c545",
        "id": "Fj2G98887PJm",
        "colab_type": "code",
        "colab": {
          "base_uri": "https://localhost:8080/",
          "height": 1000
        },
        "outputId": "40ee217f-21e6-4796-dd88-cb72bfc25064"
      },
      "source": [
        "drugs_condition_rating = drugs.groupby(['drug', 'condition']).agg({\n",
        "    'satisfaction': np.mean,\n",
        "    'uniqueid': pd.Series.nunique\n",
        "})\n",
        "\n",
        "print(\"Number of pairs (Drug, Condition):\", len(drugs_condition_rating))\n",
        "\n",
        "print(\"Significant number of reviews: More than\", drugs_condition_rating['uniqueid'].quantile(q=0.75), \"reviews\")\n",
        "\n",
        "drugs_condition_rating = drugs_condition_rating[drugs_condition_rating['uniqueid'] > int(drugs_condition_rating['uniqueid'].quantile(q=0.75))]\n",
        "# drugs_condition_rating.sort_values('rating', ascending=False)\n",
        "top_drugs_condition_rating = drugs_condition_rating.nlargest(10, 'satisfaction')\n",
        "plot = top_drugs_condition_rating.plot(y='satisfaction', kind='bar', figsize = (16, 3))\n",
        "dummy = plt.title(\"Top 10 (Drug - Condition) with best rating\") # Assigned to variable to prevent output\n",
        "dummy = plt.ylim(4, 5) # Assigned to variable to prevent output\n",
        "\n",
        "bottom_drugs_condition_rating = drugs_condition_rating.nsmallest(10, 'satisfaction')\n",
        "plot = bottom_drugs_condition_rating.plot(y='satisfaction', kind='bar', figsize = (16, 3))\n",
        "dummy = plt.title(\"Top 10 (Drug - Condition) with worst rating\") # Assigned to variable to prevent output\n",
        "dummy = plt.ylim(1, 3) # Assigned to variable to prevent output"
      ],
      "execution_count": 15,
      "outputs": [
        {
          "output_type": "stream",
          "text": [
            "Number of pairs (Drug, Condition): 5676\n",
            "Significant number of reviews: More than 9.0 reviews\n"
          ],
          "name": "stdout"
        },
        {
          "output_type": "display_data",
          "data": {
            "image/png": "[encoded data removed]",
            "text/plain": [
              "<Figure size 1152x216 with 1 Axes>"
            ]
          },
          "metadata": {
            "tags": []
          }
        },
        {
          "output_type": "display_data",
          "data": {
            "image/png": "[encoded data removed]",
            "text/plain": [
              "<Figure size 1152x216 with 1 Axes>"
            ]
          },
          "metadata": {
            "tags": []
          }
        }
      ]
    },
    {
      "cell_type": "markdown",
      "metadata": {
        "_uuid": "1f2fe1f3ad597c01b77ed36c8c0dc4e42824b85f",
        "id": "WAUBLIFT7PJp",
        "colab_type": "text"
      },
      "source": [
        "## Temporal Analysis\n",
        "\n",
        "Building a good prediction model is **no** trivial task. Temporal features ***could*** help a model to perform better if we can foresee some **temporal patterns**. We will analyze monthly patterns over different years of all the reviews."
      ]
    },
    {
      "cell_type": "code",
      "metadata": {
        "id": "tMqPWFwKL8xW",
        "colab_type": "code",
        "colab": {}
      },
      "source": [
        "# Our target column has been labeled as 1=Positive, 0= Negative, to get 1/0 output after we perform our operations on Reviews column.\n",
        "# We only want a review to be classified either as Positive(1)(if rating is above 3) or Negative(0)(if rating is 3 and less).\n",
        "labels = drugs['satisfaction'].map(lambda x : 1 if int(x) > 3 else 0)"
      ],
      "execution_count": 16,
      "outputs": []
    },
    {
      "cell_type": "code",
      "metadata": {
        "trusted": true,
        "_uuid": "a120c3db91cf8281e954a2a9f95a99e5b1a1ba74",
        "id": "bzPLytVi7PJq",
        "colab_type": "code",
        "colab": {}
      },
      "source": [
        "# Function to perform cleansing operations on our Text column\n",
        "def clean_reviews(reviews):\n",
        "    \n",
        "    ## Remove puncuation\n",
        "    reviews = reviews.translate(string.punctuation)\n",
        "    \n",
        "    ## Convert words to lower case and split them\n",
        "    reviews = reviews.lower().split()\n",
        "    \n",
        "    ## Remove stop words\n",
        "    stops = set(stopwords.words(\"english\"))\n",
        "    reviews = [w for w in reviews if not w in stops and len(w) >= 3]\n",
        "    \n",
        "    reviews = \" \".join(reviews)\n",
        "\n",
        "    # Clean the reviews\n",
        "    reviews = re.sub(r\"[^A-Za-z0-9^,!.\\/'+-=]\", \" \", reviews)\n",
        "    reviews = re.sub(r\"what's\", \"what is \", reviews)\n",
        "    reviews = re.sub(r\"\\'s\", \" \", reviews)\n",
        "    reviews = re.sub(r\"\\'ve\", \" have \", reviews)\n",
        "    reviews = re.sub(r\"n't\", \" not \", reviews)\n",
        "    reviews = re.sub(r\"i'm\", \"i am \", reviews)\n",
        "    reviews = re.sub(r\"\\'re\", \" are \", reviews)\n",
        "    reviews = re.sub(r\"\\'d\", \" would \", reviews)\n",
        "    reviews = re.sub(r\"\\'ll\", \" will \", reviews)\n",
        "    reviews = re.sub(r\",\", \" \", reviews)\n",
        "    reviews = re.sub(r\"\\.\", \" \", reviews)\n",
        "    reviews = re.sub(r\"!\", \" ! \", reviews)\n",
        "    reviews = re.sub(r\"\\/\", \" \", reviews)\n",
        "    reviews = re.sub(r\"\\^\", \" ^ \", reviews)\n",
        "    reviews = re.sub(r\"\\+\", \" + \", reviews)\n",
        "    reviews = re.sub(r\"\\-\", \" - \", reviews)\n",
        "    reviews = re.sub(r\"\\=\", \" = \", reviews)\n",
        "    reviews = re.sub(r\"'\", \" \", reviews)\n",
        "    reviews = re.sub(r\"(\\d+)(k)\", r\"\\g<1>000\", reviews)\n",
        "    reviews = re.sub(r\":\", \" : \", reviews)\n",
        "    reviews = re.sub(r\" e g \", \" eg \", reviews)\n",
        "    reviews = re.sub(r\" b g \", \" bg \", reviews)\n",
        "    reviews = re.sub(r\" u s \", \" american \", reviews)\n",
        "    reviews = re.sub(r\"\\0s\", \"0\", reviews)\n",
        "    reviews = re.sub(r\" 9 11 \", \"911\", reviews)\n",
        "    reviews = re.sub(r\"e - mail\", \"email\", reviews)\n",
        "    reviews = re.sub(r\"j k\", \"jk\", reviews)\n",
        "    reviews = re.sub(r\"\\s{2,}\", \" \", reviews)\n",
        "    \n",
        "    reviews = reviews.split()\n",
        "    stemmer = SnowballStemmer('english')\n",
        "    stemmed_words = [stemmer.stem(word) for word in reviews]\n",
        "    reviews = \" \".join(stemmed_words)\n",
        "\n",
        "    return reviews"
      ],
      "execution_count": 17,
      "outputs": []
    },
    {
      "cell_type": "code",
      "metadata": {
        "trusted": true,
        "_uuid": "f0d8ef760881866f8548e0f6a5d8c026477c8550",
        "id": "gi9pWwKF7PJu",
        "colab_type": "code",
        "colab": {}
      },
      "source": [
        "drugs['reviews_clean'] = drugs['reviews'].map(lambda x: clean_reviews(x))"
      ],
      "execution_count": 18,
      "outputs": []
    },
    {
      "cell_type": "code",
      "metadata": {
        "trusted": true,
        "_uuid": "8a28655fc06b9e44c25b8e6a1b2fde6aa570bfbd",
        "id": "oJEk0jEl7PJx",
        "colab_type": "code",
        "colab": {
          "base_uri": "https://localhost:8080/",
          "height": 34
        },
        "outputId": "775a253c-c54f-4327-fc6f-a59c57815f5a"
      },
      "source": [
        "drugs.shape"
      ],
      "execution_count": 19,
      "outputs": [
        {
          "output_type": "execute_result",
          "data": {
            "text/plain": [
              "(88837, 14)"
            ]
          },
          "metadata": {
            "tags": []
          },
          "execution_count": 19
        }
      ]
    },
    {
      "cell_type": "code",
      "metadata": {
        "id": "9YvMwVCstVnu",
        "colab_type": "code",
        "colab": {}
      },
      "source": [
        "drugs_copy=drugs"
      ],
      "execution_count": 20,
      "outputs": []
    },
    {
      "cell_type": "markdown",
      "metadata": {
        "_uuid": "70e65bc849d8b7633facf67ff44e887af54b7def",
        "id": "b5fNu_LZ7PJ2",
        "colab_type": "text"
      },
      "source": [
        "## Sentiment Analysis\n",
        "\n",
        "We will analyze the sentiment of the reviews. We theorize that **the sentiment embedded on a review can be a key factor** to determine the review rating, the review impact on people (usefulCount), or how good a drug is for an specific condition. \n",
        "\n",
        "However, reviews can expose many different manifestations, such as: condition symptoms (usually negative), feelings before the drug (usually negative), feelings after the drug (could be positive or negative), side effects (usually negative), symptoms after the drug (could be positive or negative). This mix of manifestations could make any sentiment analysis method to struggle determining a single score for the entire review. Therefore, a aspect-based S.A. could be more viable (such as the ones used by Gräßer et al.).\n",
        "\n",
        "For now, we are going to use Vader [1], a rule-based sentiment analysis approach available in Python NLTK. To **obtain a single sentiment score for every review** (-1|negative to 1|positive), and see how it correlates with ratings (spearman coeff.).\n",
        "\n",
        "Before doing this, **text** must be processed:\n",
        "\n",
        "- HTML characters are converted to legible text\n",
        "- Punctuation signs are removed\n",
        "\n",
        "[1] Gilbert, C. H. E. (2014). Vader: A parsimonious rule-based model for sentiment analysis of social media text. In Eighth International Conference on Weblogs and Social Media (ICWSM-14). Available at (20/04/16) http://comp.social.gatech.edu/papers/icwsm14.vader.hutto.pdf."
      ]
    },
    {
      "cell_type": "markdown",
      "metadata": {
        "id": "OvRhb5i1QRxq",
        "colab_type": "text"
      },
      "source": [
        "#### CNN LSTM o/p\n",
        "- We're now trying to improve our operations on Reviews column using CNN+LSTM, the reason being, LSTM takes into consideration the sequences of our model in its Cell State, which is really important for any Text Data, coz it gives meaning to it.\n",
        "- \"I Love Dogs\" in this sequence is meaningful but \"Dog Love I\" sounds confusing. than again with longer text size, the sequences or order becomes more important.\n",
        "- We'll be using embedding layer for Word Embeddings, which helps us to see semantics or meaning behind \"Reviews\", being positive or negative.\n",
        "- Tokeniser helps in encoding our data\n",
        "- We have padded our Reviews accordingly, considering the maximum length of a Review."
      ]
    },
    {
      "cell_type": "code",
      "metadata": {
        "id": "-SWUQY3P8IbY",
        "colab_type": "code",
        "colab": {}
      },
      "source": [
        "train_sentences = drugs['reviews'].map(lambda x: clean_reviews(x))"
      ],
      "execution_count": 21,
      "outputs": []
    },
    {
      "cell_type": "code",
      "metadata": {
        "id": "XkFdMWvL8AKJ",
        "colab_type": "code",
        "colab": {
          "base_uri": "https://localhost:8080/",
          "height": 70
        },
        "outputId": "92c3549d-e3f2-4ac8-c703-830ea169bafe"
      },
      "source": [
        "#TQDM is a progress bar library with good support for nested loops and Jupyter/IPython notebooks.\n",
        "# Here we are trying to find the maximum length of any Review in our text data, which is 1629 words.\n",
        "from tqdm import tqdm\n",
        "unique_words = set()\n",
        "len_max = 0\n",
        "\n",
        "for sent in tqdm(train_sentences):\n",
        "    \n",
        "    unique_words.update(sent)\n",
        "    \n",
        "    if(len_max<len(sent)):\n",
        "        len_max = len(sent)\n",
        "        \n",
        "#length of the list of unique_words gives the no of unique words\n",
        "print(len(list(unique_words)))\n",
        "print(len_max)"
      ],
      "execution_count": 22,
      "outputs": [
        {
          "output_type": "stream",
          "text": [
            "100%|██████████| 88837/88837 [00:00<00:00, 353037.35it/s]"
          ],
          "name": "stderr"
        },
        {
          "output_type": "stream",
          "text": [
            "45\n",
            "1994\n"
          ],
          "name": "stdout"
        },
        {
          "output_type": "stream",
          "text": [
            "\n"
          ],
          "name": "stderr"
        }
      ]
    },
    {
      "cell_type": "code",
      "metadata": {
        "id": "Kuq8CR5lDnqu",
        "colab_type": "code",
        "colab": {}
      },
      "source": [
        "# oov_tok replaces unknown words with \"<OOV>\" as a value\n",
        "# incase truncating is requirred out model will do so behind the text rows.\n",
        "vocabulary_size = 30000\n",
        "trunc_type='post'\n",
        "oov_tok=\"<OOV>\"\n",
        "tokenizer = Tokenizer(num_words= vocabulary_size, oov_token=oov_tok)\n",
        "tokenizer.fit_on_texts(drugs['reviews_clean'])\n",
        "\n",
        "sequences = tokenizer.texts_to_sequences(drugs['reviews_clean'])\n",
        "data = pad_sequences(sequences, maxlen=len_max, truncating=trunc_type)"
      ],
      "execution_count": 23,
      "outputs": []
    },
    {
      "cell_type": "code",
      "metadata": {
        "id": "gAHvjlXBRZpB",
        "colab_type": "code",
        "colab": {
          "base_uri": "https://localhost:8080/",
          "height": 34
        },
        "outputId": "242f37f7-10ba-483a-f837-5b6fe899ac23"
      },
      "source": [
        "print(data.shape)"
      ],
      "execution_count": 24,
      "outputs": [
        {
          "output_type": "stream",
          "text": [
            "(88837, 1994)\n"
          ],
          "name": "stdout"
        }
      ]
    },
    {
      "cell_type": "code",
      "metadata": {
        "id": "_Ak4EKYhB-Sq",
        "colab_type": "code",
        "colab": {}
      },
      "source": [
        "# Early stopping incase scores doesnt change aroung cycles.\n",
        "from keras.callbacks import EarlyStopping\n",
        "early_stopping = EarlyStopping(min_delta = 0.001, mode = 'max', monitor='val_accuracy', patience = 2)\n",
        "callback = [early_stopping]"
      ],
      "execution_count": 25,
      "outputs": []
    },
    {
      "cell_type": "code",
      "metadata": {
        "id": "y2cPs1pERxFE",
        "colab_type": "code",
        "colab": {}
      },
      "source": [
        "# we have used one LSTM layer for our operations, with a combination of a CNN Layer coz it really speeds up our task,\n",
        "# further Maxpooling helps in reducing the problem of high dimensionality coz LSTM would usually return 2D array.\n",
        "# Sigmoid activator is used coz we have binary(0/1) semantics for our reviews\n",
        "# Two layer LSTM can also be implmented(with return sequence \"True\" meaning the feedback cycle will be used) but \n",
        "# for now i have commented them out.\n",
        "def create_conv_model():\n",
        "    model_conv = Sequential()\n",
        "    model_conv.add(Embedding(vocabulary_size, 100, input_length=len_max))\n",
        "    model_conv.add(Dropout(0.2))\n",
        "    model_conv.add(Conv1D(128, 5, activation='relu'))\n",
        "    model_conv.add(MaxPooling1D(pool_size=4))\n",
        "    model_conv.add(LSTM(100))\n",
        "    #model_conv.add(LSTM(100), return_sequences=True)\n",
        "    #model_conv.add(LSTM(50))\n",
        "    model_conv.add(Dense(1, activation='sigmoid'))\n",
        "    model_conv.compile(loss='binary_crossentropy', optimizer='adam', metrics=['accuracy'])\n",
        "    model_conv.summary()\n",
        "    return model_conv"
      ],
      "execution_count": 26,
      "outputs": []
    },
    {
      "cell_type": "code",
      "metadata": {
        "id": "fDRPiYl9QA--",
        "colab_type": "code",
        "colab": {
          "base_uri": "https://localhost:8080/",
          "height": 372
        },
        "outputId": "7b95d9d6-2c13-40cb-b490-df5d915f9fc6"
      },
      "source": [
        "model_conv = create_conv_model()"
      ],
      "execution_count": 27,
      "outputs": [
        {
          "output_type": "stream",
          "text": [
            "Model: \"sequential_1\"\n",
            "_________________________________________________________________\n",
            "Layer (type)                 Output Shape              Param #   \n",
            "=================================================================\n",
            "embedding_1 (Embedding)      (None, 1994, 100)         3000000   \n",
            "_________________________________________________________________\n",
            "dropout_1 (Dropout)          (None, 1994, 100)         0         \n",
            "_________________________________________________________________\n",
            "conv1d_1 (Conv1D)            (None, 1990, 128)         64128     \n",
            "_________________________________________________________________\n",
            "max_pooling1d_1 (MaxPooling1 (None, 497, 128)          0         \n",
            "_________________________________________________________________\n",
            "lstm_1 (LSTM)                (None, 100)               91600     \n",
            "_________________________________________________________________\n",
            "dense_1 (Dense)              (None, 1)                 101       \n",
            "=================================================================\n",
            "Total params: 3,155,829\n",
            "Trainable params: 3,155,829\n",
            "Non-trainable params: 0\n",
            "_________________________________________________________________\n"
          ],
          "name": "stdout"
        }
      ]
    },
    {
      "cell_type": "code",
      "metadata": {
        "id": "tjQu8DHoh1Hy",
        "colab_type": "code",
        "colab": {
          "base_uri": "https://localhost:8080/",
          "height": 125
        },
        "outputId": "ed18ab20-6449-4745-98bd-33cc3d9bdae6"
      },
      "source": [
        "history =model_conv.fit(data, np.array(labels), validation_split=0.4, epochs = 1, callbacks=callback)"
      ],
      "execution_count": 28,
      "outputs": [
        {
          "output_type": "stream",
          "text": [
            "/usr/local/lib/python3.6/dist-packages/tensorflow/python/framework/indexed_slices.py:434: UserWarning: Converting sparse IndexedSlices to a dense Tensor of unknown shape. This may consume a large amount of memory.\n",
            "  \"Converting sparse IndexedSlices to a dense Tensor of unknown shape. \"\n"
          ],
          "name": "stderr"
        },
        {
          "output_type": "stream",
          "text": [
            "Train on 53302 samples, validate on 35535 samples\n",
            "Epoch 1/1\n",
            "53302/53302 [==============================] - 888s 17ms/step - loss: 0.5336 - accuracy: 0.7228 - val_loss: 0.5361 - val_accuracy: 0.7308\n"
          ],
          "name": "stdout"
        }
      ]
    },
    {
      "cell_type": "code",
      "metadata": {
        "id": "NEHpGRmLQHwV",
        "colab_type": "code",
        "colab": {}
      },
      "source": [
        "df_save = pd.DataFrame(data)\n",
        "df_label = pd.DataFrame(np.array(labels))"
      ],
      "execution_count": 29,
      "outputs": []
    },
    {
      "cell_type": "code",
      "metadata": {
        "id": "WJ3vbPpgr3fn",
        "colab_type": "code",
        "colab": {}
      },
      "source": [
        "df_label_copy=df_label"
      ],
      "execution_count": 30,
      "outputs": []
    },
    {
      "cell_type": "code",
      "metadata": {
        "id": "iN7fYj2BQZh1",
        "colab_type": "code",
        "colab": {
          "base_uri": "https://localhost:8080/",
          "height": 34
        },
        "outputId": "f96c3411-a5fd-4fd8-d920-b28bded47368"
      },
      "source": [
        "# the last column being our output column\n",
        "result = pd.concat([df_save, df_label], axis = 1)\n",
        "result.shape"
      ],
      "execution_count": 31,
      "outputs": [
        {
          "output_type": "execute_result",
          "data": {
            "text/plain": [
              "(88837, 1995)"
            ]
          },
          "metadata": {
            "tags": []
          },
          "execution_count": 31
        }
      ]
    },
    {
      "cell_type": "code",
      "metadata": {
        "id": "DxdLh9QeQZL7",
        "colab_type": "code",
        "colab": {
          "base_uri": "https://localhost:8080/",
          "height": 34
        },
        "outputId": "ff63113f-b9f4-4f5a-fd91-0988a8bebd5e"
      },
      "source": [
        "lstm_output=result.iloc[:,-1]\n",
        "lstm_output.shape"
      ],
      "execution_count": 32,
      "outputs": [
        {
          "output_type": "execute_result",
          "data": {
            "text/plain": [
              "(88837,)"
            ]
          },
          "metadata": {
            "tags": []
          },
          "execution_count": 32
        }
      ]
    },
    {
      "cell_type": "code",
      "metadata": {
        "id": "xRxF99Ioxol3",
        "colab_type": "code",
        "colab": {
          "base_uri": "https://localhost:8080/",
          "height": 230
        },
        "outputId": "650459a9-f20a-4e72-b677-da95bc664d71"
      },
      "source": [
        "lstm_output"
      ],
      "execution_count": 33,
      "outputs": [
        {
          "output_type": "execute_result",
          "data": {
            "text/plain": [
              "0        1\n",
              "1        0\n",
              "2        1\n",
              "3        0\n",
              "4        0\n",
              "        ..\n",
              "88832    0\n",
              "88833    0\n",
              "88834    0\n",
              "88835    0\n",
              "88836    0\n",
              "Name: 0, Length: 88837, dtype: int64"
            ]
          },
          "metadata": {
            "tags": []
          },
          "execution_count": 33
        }
      ]
    },
    {
      "cell_type": "code",
      "metadata": {
        "id": "gW5j0QiSwU5-",
        "colab_type": "code",
        "colab": {
          "base_uri": "https://localhost:8080/",
          "height": 34
        },
        "outputId": "a77e0d7d-954b-446b-f1ba-8df559efc33e"
      },
      "source": [
        "drugs.shape"
      ],
      "execution_count": 34,
      "outputs": [
        {
          "output_type": "execute_result",
          "data": {
            "text/plain": [
              "(88837, 14)"
            ]
          },
          "metadata": {
            "tags": []
          },
          "execution_count": 34
        }
      ]
    },
    {
      "cell_type": "code",
      "metadata": {
        "id": "hTm07Dk9QY5F",
        "colab_type": "code",
        "colab": {
          "base_uri": "https://localhost:8080/",
          "height": 52
        },
        "outputId": "0f120c6b-60ef-4f2b-f411-00cf874d7179"
      },
      "source": [
        "# We can see how much we have improved on correlation btw our semantics and target columns.\n",
        "np.corrcoef(lstm_output, drugs['satisfaction'])"
      ],
      "execution_count": 35,
      "outputs": [
        {
          "output_type": "execute_result",
          "data": {
            "text/plain": [
              "array([[1.        , 0.90723005],\n",
              "       [0.90723005, 1.        ]])"
            ]
          },
          "metadata": {
            "tags": []
          },
          "execution_count": 35
        }
      ]
    },
    {
      "cell_type": "code",
      "metadata": {
        "id": "tdAhpJcVUmxq",
        "colab_type": "code",
        "colab": {}
      },
      "source": [
        "drugs = pd.concat([drugs.reset_index(), lstm_output.reset_index()], axis = 1)"
      ],
      "execution_count": 36,
      "outputs": []
    },
    {
      "cell_type": "code",
      "metadata": {
        "id": "_AzzG2qMsLME",
        "colab_type": "code",
        "colab": {
          "base_uri": "https://localhost:8080/",
          "height": 34
        },
        "outputId": "513784fc-9733-4a51-c4fa-87782b3ee60f"
      },
      "source": [
        "drugs.shape"
      ],
      "execution_count": 37,
      "outputs": [
        {
          "output_type": "execute_result",
          "data": {
            "text/plain": [
              "(88837, 17)"
            ]
          },
          "metadata": {
            "tags": []
          },
          "execution_count": 37
        }
      ]
    },
    {
      "cell_type": "code",
      "metadata": {
        "id": "x4clw3sKVGot",
        "colab_type": "code",
        "colab": {
          "base_uri": "https://localhost:8080/",
          "height": 197
        },
        "outputId": "b9f49bd2-62c3-4495-9f2f-7a0e6bd06044"
      },
      "source": [
        "# We are renaming our LSTM score from \"0\" to \"lstm_score\"\n",
        "drugs.rename(columns = {0:'lstm_score'}, inplace = True)\n",
        "drugs.head(1)"
      ],
      "execution_count": 38,
      "outputs": [
        {
          "output_type": "execute_result",
          "data": {
            "text/html": [
              "<div>\n",
              "<style scoped>\n",
              "    .dataframe tbody tr th:only-of-type {\n",
              "        vertical-align: middle;\n",
              "    }\n",
              "\n",
              "    .dataframe tbody tr th {\n",
              "        vertical-align: top;\n",
              "    }\n",
              "\n",
              "    .dataframe thead th {\n",
              "        text-align: right;\n",
              "    }\n",
              "</style>\n",
              "<table border=\"1\" class=\"dataframe\">\n",
              "  <thead>\n",
              "    <tr style=\"text-align: right;\">\n",
              "      <th></th>\n",
              "      <th>index</th>\n",
              "      <th>age</th>\n",
              "      <th>condition</th>\n",
              "      <th>drug</th>\n",
              "      <th>drugid</th>\n",
              "      <th>easeofuse</th>\n",
              "      <th>effectiveness</th>\n",
              "      <th>reviews</th>\n",
              "      <th>satisfaction</th>\n",
              "      <th>sex</th>\n",
              "      <th>sides</th>\n",
              "      <th>usefulcount</th>\n",
              "      <th>uniqueid</th>\n",
              "      <th>satisfaction_label</th>\n",
              "      <th>reviews_clean</th>\n",
              "      <th>index</th>\n",
              "      <th>lstm_score</th>\n",
              "    </tr>\n",
              "  </thead>\n",
              "  <tbody>\n",
              "    <tr>\n",
              "      <th>0</th>\n",
              "      <td>0</td>\n",
              "      <td>75 or over</td>\n",
              "      <td>Incomplete or Infrequent Bowel Movements</td>\n",
              "      <td>miralax 17 gram oral powder packet</td>\n",
              "      <td>17116.0</td>\n",
              "      <td>5.0</td>\n",
              "      <td>3.0</td>\n",
              "      <td>i have success taking this drug, but have had ...</td>\n",
              "      <td>4.0</td>\n",
              "      <td>Female</td>\n",
              "      <td>Nausea , abdominal cramping, or gas may occur.</td>\n",
              "      <td>13.0</td>\n",
              "      <td>0</td>\n",
              "      <td>2</td>\n",
              "      <td>success take drug adjust dosag take hydrocodon...</td>\n",
              "      <td>0</td>\n",
              "      <td>1</td>\n",
              "    </tr>\n",
              "  </tbody>\n",
              "</table>\n",
              "</div>"
            ],
            "text/plain": [
              "  index         age  ... index lstm_score\n",
              "0     0  75 or over  ...     0          1\n",
              "\n",
              "[1 rows x 17 columns]"
            ]
          },
          "metadata": {
            "tags": []
          },
          "execution_count": 38
        }
      ]
    },
    {
      "cell_type": "code",
      "metadata": {
        "id": "BdPBB13hn-jG",
        "colab_type": "code",
        "colab": {
          "base_uri": "https://localhost:8080/",
          "height": 52
        },
        "outputId": "6a14d42a-7f09-45be-c428-50c08b7dd67d"
      },
      "source": [
        "np.corrcoef(drugs['lstm_score'], drugs['satisfaction'])"
      ],
      "execution_count": 39,
      "outputs": [
        {
          "output_type": "execute_result",
          "data": {
            "text/plain": [
              "array([[1.        , 0.90723005],\n",
              "       [0.90723005, 1.        ]])"
            ]
          },
          "metadata": {
            "tags": []
          },
          "execution_count": 39
        }
      ]
    },
    {
      "cell_type": "code",
      "metadata": {
        "id": "TYsNA8VW7ymT",
        "colab_type": "code",
        "colab": {
          "base_uri": "https://localhost:8080/",
          "height": 390
        },
        "outputId": "3033c4d4-5385-49d9-8885-3d3f18abbb7e"
      },
      "source": [
        "# Counting how many times each condition occured in our dataset, with head of 20\n",
        "drugs['condition'].value_counts().head(20)"
      ],
      "execution_count": 40,
      "outputs": [
        {
          "output_type": "execute_result",
          "data": {
            "text/plain": [
              "Other                                                        12873\n",
              "Birth Control                                                 5576\n",
              "Depression                                                    5173\n",
              "Pain                                                          3258\n",
              "Chronic Trouble Sleeping                                      2807\n",
              "Overweight                                                    2168\n",
              "High Blood Pressure                                           1959\n",
              "High Cholesterol                                              1895\n",
              "Attention Deficit Disorder with Hyperactivity                 1709\n",
              "Migraine Prevention                                           1643\n",
              "Bipolar Depression                                            1529\n",
              "Major Depressive Disorder                                     1344\n",
              "Migraine Headache                                             1283\n",
              "Disorder characterized by Stiff, Tender & Painful Muscles     1189\n",
              "Panic Disorder                                                1129\n",
              "Rheumatoid Arthritis                                          1025\n",
              "Acne                                                           973\n",
              "Asthma                                                         855\n",
              "Muscle Spasm                                                   832\n",
              "Underactive Thyroid                                            778\n",
              "Name: condition, dtype: int64"
            ]
          },
          "metadata": {
            "tags": []
          },
          "execution_count": 40
        }
      ]
    },
    {
      "cell_type": "code",
      "metadata": {
        "id": "mFEPezkWC-iK",
        "colab_type": "code",
        "colab": {
          "base_uri": "https://localhost:8080/",
          "height": 336
        },
        "outputId": "bc440f0b-0b72-4d80-838a-658c2ee1a5ac"
      },
      "source": [
        "# CHeching for any NaN values\n",
        "drugs.isna().sum()"
      ],
      "execution_count": 41,
      "outputs": [
        {
          "output_type": "execute_result",
          "data": {
            "text/plain": [
              "index                 0\n",
              "age                   0\n",
              "condition             0\n",
              "drug                  0\n",
              "drugid                0\n",
              "easeofuse             0\n",
              "effectiveness         0\n",
              "reviews               0\n",
              "satisfaction          0\n",
              "sex                   0\n",
              "sides                 0\n",
              "usefulcount           0\n",
              "uniqueid              0\n",
              "satisfaction_label    0\n",
              "reviews_clean         0\n",
              "index                 0\n",
              "lstm_score            0\n",
              "dtype: int64"
            ]
          },
          "metadata": {
            "tags": []
          },
          "execution_count": 41
        }
      ]
    },
    {
      "cell_type": "markdown",
      "metadata": {
        "id": "_AXFEXYQ-iWd",
        "colab_type": "text"
      },
      "source": [
        "# Feature Engineering"
      ]
    },
    {
      "cell_type": "code",
      "metadata": {
        "trusted": true,
        "_uuid": "c67dafd5a56dfbe0ce25b56bb7763b7dcc8d9d18",
        "id": "rGGLWsjO7PJ5",
        "colab_type": "code",
        "colab": {
          "base_uri": "https://localhost:8080/",
          "height": 52
        },
        "outputId": "d1166255-3044-422c-af5e-7afc382078c5"
      },
      "source": [
        "#Word count in each review\n",
        "drugs['count_word']=drugs[\"reviews_clean\"].apply(lambda x: len(str(x).split()))\n",
        "\n",
        "#Unique word count \n",
        "drugs['count_unique_word']=drugs[\"reviews_clean\"].apply(lambda x: len(set(str(x).split())))\n",
        "\n",
        "#Letter count\n",
        "drugs['count_letters']=drugs[\"reviews_clean\"].apply(lambda x: len(str(x)))\n",
        "\n",
        "#punctuation count\n",
        "drugs[\"count_punctuations\"] = drugs[\"reviews\"].apply(lambda x: len([c for c in str(x) if c in string.punctuation]))\n",
        "\n",
        "\n",
        "#Number of stopwords\n",
        "stops = set(stopwords.words(\"english\"))\n",
        "drugs[\"count_stopwords\"] = drugs[\"reviews\"].apply(lambda x: len([w for w in str(x).lower().split() if w in stops]))\n",
        "\n",
        "#Average length of the words\n",
        "drugs[\"mean_word_len\"] = drugs[\"reviews_clean\"].apply(lambda x: np.mean([len(w) for w in str(x).split()]))"
      ],
      "execution_count": 42,
      "outputs": [
        {
          "output_type": "stream",
          "text": [
            "/usr/local/lib/python3.6/dist-packages/numpy/core/fromnumeric.py:3335: RuntimeWarning: Mean of empty slice.\n",
            "  out=out, **kwargs)\n"
          ],
          "name": "stderr"
        }
      ]
    },
    {
      "cell_type": "code",
      "metadata": {
        "trusted": true,
        "_uuid": "f2471e72f47ee19eecd4252f1dd96940308b009f",
        "id": "Sd-jPhEl7PJ_",
        "colab_type": "code",
        "colab": {}
      },
      "source": [
        "# Label Encoding Conditions\n",
        "from sklearn.preprocessing import LabelEncoder\n",
        "label_encoder_feat = {}\n",
        "for feature in ['condition']:\n",
        "    label_encoder_feat[feature] = LabelEncoder()\n",
        "    drugs[feature] = label_encoder_feat[feature].fit_transform(drugs[feature])"
      ],
      "execution_count": 43,
      "outputs": []
    },
    {
      "cell_type": "code",
      "metadata": {
        "trusted": true,
        "_uuid": "f59cf45b806c2b619244d6e8e7f2d81f297e4d87",
        "id": "XZiW2E8t7PJ8",
        "colab_type": "code",
        "colab": {
          "base_uri": "https://localhost:8080/",
          "height": 963
        },
        "outputId": "9f91656c-0aa4-4325-c452-cad4e34fed85"
      },
      "source": [
        "# Correlation Heatmap of the features engineered\n",
        "plt.rcParams['figure.figsize'] = [17,15]\n",
        "sns.set(font_scale = 1.2)\n",
        "corr = drugs.select_dtypes(include='int64').corr()\n",
        "sns_ = sns.heatmap(corr, annot = True, cmap = 'YlGnBu')\n",
        "plt.setp(sns_.get_xticklabels(), rotation = 45);"
      ],
      "execution_count": 44,
      "outputs": [
        {
          "output_type": "display_data",
          "data": {
            "image/png": "[encoded data removed]",
            "text/plain": [
              "<Figure size 1224x1080 with 2 Axes>"
            ]
          },
          "metadata": {
            "tags": []
          }
        }
      ]
    },
    {
      "cell_type": "code",
      "metadata": {
        "id": "VFELlO4NPhNq",
        "colab_type": "code",
        "colab": {
          "base_uri": "https://localhost:8080/",
          "height": 534
        },
        "outputId": "7dbde308-7cd9-40ef-dfc9-16ec427e9405"
      },
      "source": [
        "drugs.head()"
      ],
      "execution_count": 45,
      "outputs": [
        {
          "output_type": "execute_result",
          "data": {
            "text/html": [
              "<div>\n",
              "<style scoped>\n",
              "    .dataframe tbody tr th:only-of-type {\n",
              "        vertical-align: middle;\n",
              "    }\n",
              "\n",
              "    .dataframe tbody tr th {\n",
              "        vertical-align: top;\n",
              "    }\n",
              "\n",
              "    .dataframe thead th {\n",
              "        text-align: right;\n",
              "    }\n",
              "</style>\n",
              "<table border=\"1\" class=\"dataframe\">\n",
              "  <thead>\n",
              "    <tr style=\"text-align: right;\">\n",
              "      <th></th>\n",
              "      <th>index</th>\n",
              "      <th>age</th>\n",
              "      <th>condition</th>\n",
              "      <th>drug</th>\n",
              "      <th>drugid</th>\n",
              "      <th>easeofuse</th>\n",
              "      <th>effectiveness</th>\n",
              "      <th>reviews</th>\n",
              "      <th>satisfaction</th>\n",
              "      <th>sex</th>\n",
              "      <th>sides</th>\n",
              "      <th>usefulcount</th>\n",
              "      <th>uniqueid</th>\n",
              "      <th>satisfaction_label</th>\n",
              "      <th>reviews_clean</th>\n",
              "      <th>index</th>\n",
              "      <th>lstm_score</th>\n",
              "      <th>count_word</th>\n",
              "      <th>count_unique_word</th>\n",
              "      <th>count_letters</th>\n",
              "      <th>count_punctuations</th>\n",
              "      <th>count_stopwords</th>\n",
              "      <th>mean_word_len</th>\n",
              "    </tr>\n",
              "  </thead>\n",
              "  <tbody>\n",
              "    <tr>\n",
              "      <th>0</th>\n",
              "      <td>0</td>\n",
              "      <td>75 or over</td>\n",
              "      <td>490</td>\n",
              "      <td>miralax 17 gram oral powder packet</td>\n",
              "      <td>17116.0</td>\n",
              "      <td>5.0</td>\n",
              "      <td>3.0</td>\n",
              "      <td>i have success taking this drug, but have had ...</td>\n",
              "      <td>4.0</td>\n",
              "      <td>Female</td>\n",
              "      <td>Nausea , abdominal cramping, or gas may occur.</td>\n",
              "      <td>13.0</td>\n",
              "      <td>0</td>\n",
              "      <td>2</td>\n",
              "      <td>success take drug adjust dosag take hydrocodon...</td>\n",
              "      <td>0</td>\n",
              "      <td>1</td>\n",
              "      <td>32</td>\n",
              "      <td>28</td>\n",
              "      <td>183</td>\n",
              "      <td>10</td>\n",
              "      <td>36</td>\n",
              "      <td>4.750000</td>\n",
              "    </tr>\n",
              "    <tr>\n",
              "      <th>1</th>\n",
              "      <td>1</td>\n",
              "      <td>55-64</td>\n",
              "      <td>886</td>\n",
              "      <td>meloxicam</td>\n",
              "      <td>911.0</td>\n",
              "      <td>4.0</td>\n",
              "      <td>4.0</td>\n",
              "      <td>unfortunately this drug causes me migrane like...</td>\n",
              "      <td>2.0</td>\n",
              "      <td>Female</td>\n",
              "      <td>Stomach  upset,  nausea ,  dizziness , or  dia...</td>\n",
              "      <td>3.0</td>\n",
              "      <td>1</td>\n",
              "      <td>1</td>\n",
              "      <td>unfortun drug caus migran like headach high bl...</td>\n",
              "      <td>1</td>\n",
              "      <td>0</td>\n",
              "      <td>15</td>\n",
              "      <td>15</td>\n",
              "      <td>92</td>\n",
              "      <td>3</td>\n",
              "      <td>6</td>\n",
              "      <td>5.200000</td>\n",
              "    </tr>\n",
              "    <tr>\n",
              "      <th>2</th>\n",
              "      <td>2</td>\n",
              "      <td>65-74</td>\n",
              "      <td>908</td>\n",
              "      <td>meclizine hcl</td>\n",
              "      <td>4520.0</td>\n",
              "      <td>4.0</td>\n",
              "      <td>4.0</td>\n",
              "      <td>diagnosed with vertigo, this medication taken ...</td>\n",
              "      <td>4.0</td>\n",
              "      <td>Male</td>\n",
              "      <td>Drowsiness,  dry mouth , and tiredness may occur.</td>\n",
              "      <td>10.0</td>\n",
              "      <td>2</td>\n",
              "      <td>2</td>\n",
              "      <td>diagnos vertigo medic taken first sign problem...</td>\n",
              "      <td>2</td>\n",
              "      <td>1</td>\n",
              "      <td>11</td>\n",
              "      <td>10</td>\n",
              "      <td>73</td>\n",
              "      <td>2</td>\n",
              "      <td>8</td>\n",
              "      <td>5.727273</td>\n",
              "    </tr>\n",
              "    <tr>\n",
              "      <th>3</th>\n",
              "      <td>3</td>\n",
              "      <td>25-34</td>\n",
              "      <td>309</td>\n",
              "      <td>mirtazapine tablet</td>\n",
              "      <td>13706.0</td>\n",
              "      <td>3.0</td>\n",
              "      <td>1.0</td>\n",
              "      <td>placed on this medicine after being taken off ...</td>\n",
              "      <td>1.0</td>\n",
              "      <td>Female</td>\n",
              "      <td>Dizziness , drowsiness,  lightheadedness , inc...</td>\n",
              "      <td>20.0</td>\n",
              "      <td>3</td>\n",
              "      <td>0</td>\n",
              "      <td>place medicin taken welbutrin zoloft due welbu...</td>\n",
              "      <td>3</td>\n",
              "      <td>0</td>\n",
              "      <td>74</td>\n",
              "      <td>54</td>\n",
              "      <td>440</td>\n",
              "      <td>11</td>\n",
              "      <td>60</td>\n",
              "      <td>4.959459</td>\n",
              "    </tr>\n",
              "    <tr>\n",
              "      <th>4</th>\n",
              "      <td>4</td>\n",
              "      <td>19-24</td>\n",
              "      <td>309</td>\n",
              "      <td>mirtazapine</td>\n",
              "      <td>13706.0</td>\n",
              "      <td>3.0</td>\n",
              "      <td>1.0</td>\n",
              "      <td>i have only been on this drug for one week. i ...</td>\n",
              "      <td>1.0</td>\n",
              "      <td>Female</td>\n",
              "      <td>Dizziness , drowsiness,  lightheadedness , inc...</td>\n",
              "      <td>28.0</td>\n",
              "      <td>4</td>\n",
              "      <td>0</td>\n",
              "      <td>drug one week put depress insomnia concentr wa...</td>\n",
              "      <td>4</td>\n",
              "      <td>0</td>\n",
              "      <td>22</td>\n",
              "      <td>20</td>\n",
              "      <td>138</td>\n",
              "      <td>5</td>\n",
              "      <td>36</td>\n",
              "      <td>5.318182</td>\n",
              "    </tr>\n",
              "  </tbody>\n",
              "</table>\n",
              "</div>"
            ],
            "text/plain": [
              "   index         age  ...  count_stopwords mean_word_len\n",
              "0      0  75 or over  ...               36      4.750000\n",
              "1      1       55-64  ...                6      5.200000\n",
              "2      2       65-74  ...                8      5.727273\n",
              "3      3       25-34  ...               60      4.959459\n",
              "4      4       19-24  ...               36      5.318182\n",
              "\n",
              "[5 rows x 23 columns]"
            ]
          },
          "metadata": {
            "tags": []
          },
          "execution_count": 45
        }
      ]
    },
    {
      "cell_type": "markdown",
      "metadata": {
        "id": "7MHIYRuQ7PKD",
        "colab_type": "text"
      },
      "source": [
        "# Importing Libraries for the Machine Learning Model\n"
      ]
    },
    {
      "cell_type": "code",
      "metadata": {
        "trusted": true,
        "id": "MADHXiIa7PKE",
        "colab_type": "code",
        "colab": {}
      },
      "source": [
        "# Importing Libraries for the Machine Learning Model\n",
        "from sklearn.model_selection import KFold, cross_val_score\n",
        "from xgboost import XGBClassifier\n",
        "from sklearn.naive_bayes import GaussianNB\n",
        "from lightgbm import LGBMModel,LGBMClassifier, plot_importance\n",
        "from sklearn.linear_model import SGDClassifier\n",
        "from sklearn.neighbors import KNeighborsClassifier\n",
        "from xgboost import XGBClassifier\n",
        "import time\n",
        "from sklearn.metrics import confusion_matrix, accuracy_score, classification_report, precision_score\n",
        "from sklearn.model_selection import train_test_split, cross_val_predict\n",
        "\n",
        "\n",
        "from sklearn.metrics import roc_auc_score\n",
        "from sklearn.preprocessing import LabelBinarizer"
      ],
      "execution_count": 80,
      "outputs": []
    },
    {
      "cell_type": "code",
      "metadata": {
        "id": "eXKflaR1Dgnp",
        "colab_type": "code",
        "colab": {
          "base_uri": "https://localhost:8080/",
          "height": 123
        },
        "outputId": "c2d77ca4-196f-4908-c7f8-fae848f4c35e"
      },
      "source": [
        "drugs['satisfaction'].value_counts()"
      ],
      "execution_count": 81,
      "outputs": [
        {
          "output_type": "execute_result",
          "data": {
            "text/plain": [
              "1.0    27616\n",
              "5.0    27277\n",
              "4.0    14026\n",
              "3.0    11424\n",
              "2.0     8494\n",
              "Name: satisfaction, dtype: int64"
            ]
          },
          "metadata": {
            "tags": []
          },
          "execution_count": 81
        }
      ]
    },
    {
      "cell_type": "code",
      "metadata": {
        "id": "J6y-5W6aSp-4",
        "colab_type": "code",
        "colab": {}
      },
      "source": [
        ""
      ],
      "execution_count": 81,
      "outputs": []
    },
    {
      "cell_type": "code",
      "metadata": {
        "trusted": true,
        "id": "ztlt9AC47PKH",
        "colab_type": "code",
        "colab": {
          "base_uri": "https://localhost:8080/",
          "height": 52
        },
        "outputId": "31667bf3-9218-4fd4-f226-5c4ed9eb7542"
      },
      "source": [
        "# Defining Features and splitting the data as train and test set\n",
        "features = drugs[['condition', 'usefulcount', 'easeofuse', 'effectiveness', 'lstm_score'\n",
        "                   ,'count_word', 'count_unique_word', 'count_letters', 'count_stopwords']]\n",
        "\n",
        "target = drugs['satisfaction']\n",
        "\n",
        "X_train, X_test, y_train, y_test = train_test_split(features, target, test_size = 0.3, shuffle=True, random_state = 42)\n",
        "print (\"The Train set size \", X_train.shape)\n",
        "print (\"The Test set size \", X_test.shape)"
      ],
      "execution_count": 111,
      "outputs": [
        {
          "output_type": "stream",
          "text": [
            "The Train set size  (62185, 9)\n",
            "The Test set size  (26652, 9)\n"
          ],
          "name": "stdout"
        }
      ]
    },
    {
      "cell_type": "code",
      "metadata": {
        "id": "ACh9e3BbG3jJ",
        "colab_type": "code",
        "colab": {}
      },
      "source": [
        "#from collections import Counter\n",
        "#from imblearn.over_sampling import SMOTE\n",
        "#smote=SMOTE('minority\n",
        "#X_train, y_train = SMOTE().fit_resample(X_train, y_train)\n",
        "#print(sorted(Counter(y_train).items()))\n"
      ],
      "execution_count": 113,
      "outputs": []
    },
    {
      "cell_type": "markdown",
      "metadata": {
        "id": "-A0U6r82nPPo",
        "colab_type": "text"
      },
      "source": [
        "#### Firstly we'll try and check which classifier performs the best with our training data, then we'll take that classifier and perform HyperParameter Optimisation on that model."
      ]
    },
    {
      "cell_type": "code",
      "metadata": {
        "id": "VcviE1dkGc25",
        "colab_type": "code",
        "colab": {
          "base_uri": "https://localhost:8080/",
          "height": 105
        },
        "outputId": "a33ee23d-6df5-41e7-d211-7113ebe92cbd"
      },
      "source": [
        "knn = KNeighborsClassifier()\n",
        "training_start = time.perf_counter()\n",
        "knn.fit(X_train, y_train)\n",
        "training_end = time.perf_counter()\n",
        "prediction_start = time.perf_counter()\n",
        "preds = knn.predict(X_test)\n",
        "prediction_end = time.perf_counter()\n",
        "acc_knn = (preds == y_test).sum().astype(float) / len(preds)*100\n",
        "knn_train_time = training_end-training_start\n",
        "knn_prediction_time = prediction_end-prediction_start\n",
        "precision_score_knn=precision_score(y_test, preds, average='micro')\n",
        "\n",
        "lb = LabelBinarizer()\n",
        "lb.fit(y_test)\n",
        "y_test1 = lb.transform(y_test)\n",
        "y_pred1= lb.transform(preds)\n",
        "roc_auc_score_knn=roc_auc_score(y_test1, y_pred1, average=\"macro\")\n",
        "print(\"Roc_auc_score for test data: %3.5f \" % (roc_auc_score_knn))\n",
        "print(\"Scikit-Learn's K Nearest Neighbors Classifier's prediction accuracy is: %3.2f\" % (acc_knn))\n",
        "print(\"Time consumed for training: %4.3f seconds\" % (knn_train_time))\n",
        "print(\"Time consumed for prediction: %6.5f seconds\" % (knn_prediction_time))\n",
        "print(\"Precision on test dataset:\", precision_score_knn)"
      ],
      "execution_count": 115,
      "outputs": [
        {
          "output_type": "stream",
          "text": [
            "Roc_auc_score for test data: 0.56614 \n",
            "Scikit-Learn's K Nearest Neighbors Classifier's prediction accuracy is: 38.73\n",
            "Time consumed for training: 0.122 seconds\n",
            "Time consumed for prediction: 1.05362 seconds\n",
            "Precision on test dataset: 0.38732552904097256\n"
          ],
          "name": "stdout"
        }
      ]
    },
    {
      "cell_type": "code",
      "metadata": {
        "id": "W19h8dlfESEv",
        "colab_type": "code",
        "colab": {
          "base_uri": "https://localhost:8080/",
          "height": 105
        },
        "outputId": "758ab20e-e444-4e3d-ed56-5f20e6b58a14"
      },
      "source": [
        "from sklearn.ensemble import GradientBoostingClassifier\n",
        "gbk = GradientBoostingClassifier()\n",
        "gbk.fit(X_train, y_train)\n",
        "\n",
        "training_start = time.perf_counter()\n",
        "gbk.fit(X_train, y_train)\n",
        "training_end = time.perf_counter()\n",
        "prediction_start = time.perf_counter()\n",
        "preds = gbk.predict(X_test)\n",
        "prediction_end = time.perf_counter()\n",
        "acc_gbk = (preds == y_test).sum().astype(float) / len(preds)*100\n",
        "gbk_train_time = training_end-training_start\n",
        "gbk_prediction_time = prediction_end-prediction_start\n",
        "precision_score_gbk=precision_score(y_test, preds, average='micro')\n",
        "\n",
        "y_pred1= lb.transform(preds)\n",
        "roc_auc_score_gbk=roc_auc_score(y_test1, y_pred1, average=\"macro\")\n",
        "print(\"Roc_auc_score for test data: %3.5f \" % (roc_auc_score_gbk))\n",
        "print(\"Scikit-Learn's GBK Classifier's prediction accuracy is: %3.2f\" % (acc_gbk))\n",
        "print(\"Time consumed for training: %4.3f seconds\" % (gbk_train_time))\n",
        "print(\"Time consumed for prediction: %6.5f seconds\" % (gbk_prediction_time))\n",
        "print(\"Precision on test dataset:\", precision_score_gbk)"
      ],
      "execution_count": 116,
      "outputs": [
        {
          "output_type": "stream",
          "text": [
            "Roc_auc_score for test data: 0.79923 \n",
            "Scikit-Learn's GBK Classifier's prediction accuracy is: 75.43\n",
            "Time consumed for training: 41.875 seconds\n",
            "Time consumed for prediction: 0.24263 seconds\n",
            "Precision on test dataset: 0.7542773525438992\n"
          ],
          "name": "stdout"
        }
      ]
    },
    {
      "cell_type": "code",
      "metadata": {
        "id": "8KQRp_Mj2l3Q",
        "colab_type": "code",
        "colab": {
          "base_uri": "https://localhost:8080/",
          "height": 105
        },
        "outputId": "e2f71a97-973c-4eab-84d4-f1b86dd36eb3"
      },
      "source": [
        "GNB= GaussianNB()\n",
        "training_start = time.perf_counter()\n",
        "GNB.fit(X_train, y_train)\n",
        "training_end = time.perf_counter()\n",
        "prediction_start = time.perf_counter()\n",
        "preds = GNB.predict(X_test)\n",
        "prediction_end = time.perf_counter()\n",
        "acc_gnb = (preds == y_test).sum().astype(float) / len(preds)*100\n",
        "gnb_train_time = training_end-training_start\n",
        "gnb_prediction_time = prediction_end-prediction_start\n",
        "precision_score_gnb=precision_score(y_test, preds, average='micro')\n",
        "y_pred1= lb.transform(preds)\n",
        "roc_auc_score_gnb=roc_auc_score(y_test1, y_pred1, average=\"macro\")\n",
        "print(\"Roc_auc_score for test data: %3.5f \" % (roc_auc_score_gnb))\n",
        "print(\"Naive Bayes Classifier's prediction accuracy is: %3.2f\" % (acc_gnb))\n",
        "print(\"Time consumed for training: %4.3f seconds\" % (gnb_train_time))\n",
        "print(\"Time consumed for prediction: %6.5f seconds\" % (gnb_prediction_time))\n",
        "print(\"Precision on test dataset:\", precision_score_gnb)"
      ],
      "execution_count": 117,
      "outputs": [
        {
          "output_type": "stream",
          "text": [
            "Roc_auc_score for test data: 0.78302 \n",
            "Naive Bayes Classifier's prediction accuracy is: 73.60\n",
            "Time consumed for training: 0.019 seconds\n",
            "Time consumed for prediction: 0.00873 seconds\n",
            "Precision on test dataset: 0.7359672820051028\n"
          ],
          "name": "stdout"
        }
      ]
    },
    {
      "cell_type": "code",
      "metadata": {
        "trusted": true,
        "id": "DOxSbmhO7PKK",
        "colab_type": "code",
        "colab": {
          "base_uri": "https://localhost:8080/",
          "height": 105
        },
        "outputId": "d54ad48e-7250-4843-d03e-e039f9fe8222"
      },
      "source": [
        "LGBM = LGBMClassifier(\n",
        "        n_estimators=10000,\n",
        "        learning_rate=0.10,\n",
        "        num_leaves=30,\n",
        "        subsample=.9,\n",
        "        max_depth=7,\n",
        "        reg_alpha=.1,\n",
        "        reg_lambda=.1,\n",
        "        min_split_gain=.01,\n",
        "        min_child_weight=2,\n",
        "        silent=-1,\n",
        "        verbose=-1,\n",
        "        )\n",
        "\n",
        "training_start = time.perf_counter()\n",
        "LGBM.fit(X_train, y_train)\n",
        "training_end = time.perf_counter()\n",
        "prediction_start = time.perf_counter()\n",
        "preds = LGBM.predict(X_test)\n",
        "prediction_end = time.perf_counter()\n",
        "acc_LGBM = (preds == y_test).sum().astype(float) / len(preds)*100\n",
        "LGBM_train_time = training_end-training_start\n",
        "LGBM_prediction_time = prediction_end-prediction_start\n",
        "precision_score_lgbm=precision_score(y_test, preds, average='micro')\n",
        "\n",
        "y_pred1= lb.transform(preds)\n",
        "roc_auc_score_lgbm=roc_auc_score(y_test1, y_pred1, average=\"macro\")\n",
        "print(\"Roc_auc_score for test data: %3.5f \" % (roc_auc_score_lgbm))\n",
        "print(\"Scikit-Learn's LGBM Classifier's prediction accuracy is: %3.2f\" % (acc_LGBM))\n",
        "print(\"Time consumed for training: %4.3f seconds\" % (LGBM_train_time))\n",
        "print(\"Time consumed for prediction: %6.5f seconds\" % (LGBM_prediction_time))\n",
        "print(\"Precision on test dataset:\", precision_score_lgbm)\n"
      ],
      "execution_count": 118,
      "outputs": [
        {
          "output_type": "stream",
          "text": [
            "Roc_auc_score for test data: 0.78476 \n",
            "Scikit-Learn's LGBM Classifier's prediction accuracy is: 73.12\n",
            "Time consumed for training: 149.093 seconds\n",
            "Time consumed for prediction: 16.82348 seconds\n",
            "Precision on test dataset: 0.7312396818250038\n"
          ],
          "name": "stdout"
        }
      ]
    },
    {
      "cell_type": "code",
      "metadata": {
        "id": "MUOfB2EACOCe",
        "colab_type": "code",
        "colab": {
          "base_uri": "https://localhost:8080/",
          "height": 577
        },
        "outputId": "9e676d65-cdd2-42fc-ca70-73d38b60b757"
      },
      "source": [
        "# Feature Importance Plot using LGBM\n",
        "plt.rcParams['figure.figsize'] = [12, 9]\n",
        "sns.set(style = 'whitegrid', font_scale = 1.2)\n",
        "plot_importance(LGBM);"
      ],
      "execution_count": 119,
      "outputs": [
        {
          "output_type": "display_data",
          "data": {
            "image/png": "[encoded data removed]",
            "text/plain": [
              "<Figure size 864x648 with 1 Axes>"
            ]
          },
          "metadata": {
            "tags": []
          }
        }
      ]
    },
    {
      "cell_type": "code",
      "metadata": {
        "id": "SgaAUVFAG9fM",
        "colab_type": "code",
        "colab": {
          "base_uri": "https://localhost:8080/",
          "height": 105
        },
        "outputId": "7a02cb1c-81e2-4a6e-fb2a-309daa4e1dfb"
      },
      "source": [
        "xgb = XGBClassifier(n_estimators=100)\n",
        "training_start = time.perf_counter()\n",
        "xgb.fit(X_train, y_train)\n",
        "training_end = time.perf_counter()\n",
        "prediction_start = time.perf_counter()\n",
        "preds = xgb.predict(X_test)\n",
        "prediction_end = time.perf_counter()\n",
        "acc_xgb = (preds == y_test).sum().astype(float) / len(preds)*100\n",
        "xgb_train_time = training_end-training_start\n",
        "xgb_prediction_time = prediction_end-prediction_start\n",
        "precision_score_xgb=precision_score(y_test, preds, average='micro')\n",
        "\n",
        "y_pred1= lb.transform(preds)\n",
        "roc_auc_score_xgb=roc_auc_score(y_test1, y_pred1, average=\"macro\")\n",
        "print(\"Roc_auc_score for test data: %3.5f \" % (roc_auc_score_xgb))\n",
        "print(\"XGBoost's prediction accuracy is: %3.2f\" % (acc_xgb))\n",
        "print(\"Time consumed for training: %4.3f\" % (xgb_train_time))\n",
        "print(\"Time consumed for prediction: %6.5f seconds\" % (xgb_prediction_time))\n",
        "print(\"Precision on test dataset:\", precision_score_xgb)"
      ],
      "execution_count": 120,
      "outputs": [
        {
          "output_type": "stream",
          "text": [
            "Roc_auc_score for test data: 0.79644 \n",
            "XGBoost's prediction accuracy is: 75.30\n",
            "Time consumed for training: 11.108\n",
            "Time consumed for prediction: 0.24369 seconds\n",
            "Precision on test dataset: 0.7530391715443494\n"
          ],
          "name": "stdout"
        }
      ]
    },
    {
      "cell_type": "code",
      "metadata": {
        "id": "zBnE0C03HDbf",
        "colab_type": "code",
        "colab": {
          "base_uri": "https://localhost:8080/",
          "height": 247
        },
        "outputId": "9ea2d9fe-8810-4ef9-be4f-5f9cfe91a222"
      },
      "source": [
        "from sklearn.linear_model import LogisticRegression\n",
        "\n",
        "LR = LogisticRegression()\n",
        "training_start = time.perf_counter()\n",
        "LR.fit(X_train, y_train)\n",
        "training_end = time.perf_counter()\n",
        "prediction_start = time.perf_counter()\n",
        "preds = LR.predict(X_test)\n",
        "prediction_end = time.perf_counter()\n",
        "acc_LR = (preds == y_test).sum().astype(float) / len(preds)*100\n",
        "LR_train_time = training_end-training_start\n",
        "LR_prediction_time = prediction_end-prediction_start\n",
        "precision_score_LR=precision_score(y_test, preds, average='micro')\n",
        "\n",
        "y_pred1= lb.transform(preds)\n",
        "roc_auc_score_LR=roc_auc_score(y_test1, y_pred1, average=\"macro\")\n",
        "print(\"Roc_auc_score for test data: %3.5f \" % (roc_auc_score_LR))\n",
        "print(\"Scikit-Learn's LR Classifier's prediction accuracy is: %3.2f\" % (acc_LR))\n",
        "print(\"Time consumed for training: %4.3f seconds\" % (LR_train_time))\n",
        "print(\"Time consumed for prediction: %6.5f seconds\" % (LR_prediction_time))\n",
        "print(\"Precision on test dataset:\", precision_score_LR)\n"
      ],
      "execution_count": 121,
      "outputs": [
        {
          "output_type": "stream",
          "text": [
            "Roc_auc_score for test data: 0.58638 \n",
            "Scikit-Learn's LR Classifier's prediction accuracy is: 49.23\n",
            "Time consumed for training: 4.825 seconds\n",
            "Time consumed for prediction: 0.00474 seconds\n",
            "Precision on test dataset: 0.4923082695482515\n"
          ],
          "name": "stdout"
        },
        {
          "output_type": "stream",
          "text": [
            "/usr/local/lib/python3.6/dist-packages/sklearn/linear_model/_logistic.py:940: ConvergenceWarning: lbfgs failed to converge (status=1):\n",
            "STOP: TOTAL NO. of ITERATIONS REACHED LIMIT.\n",
            "\n",
            "Increase the number of iterations (max_iter) or scale the data as shown in:\n",
            "    https://scikit-learn.org/stable/modules/preprocessing.html\n",
            "Please also refer to the documentation for alternative solver options:\n",
            "    https://scikit-learn.org/stable/modules/linear_model.html#logistic-regression\n",
            "  extra_warning_msg=_LOGISTIC_SOLVER_CONVERGENCE_MSG)\n"
          ],
          "name": "stderr"
        }
      ]
    },
    {
      "cell_type": "code",
      "metadata": {
        "id": "uBiBjrkPHIjm",
        "colab_type": "code",
        "colab": {
          "base_uri": "https://localhost:8080/",
          "height": 105
        },
        "outputId": "4d0b0ade-6cac-454a-af58-2221c81a66f5"
      },
      "source": [
        "from sklearn.neural_network import MLPClassifier\n",
        "MLP = MLPClassifier()\n",
        "training_start = time.perf_counter()\n",
        "MLP.fit(X_train, y_train)\n",
        "training_end = time.perf_counter()\n",
        "prediction_start = time.perf_counter()\n",
        "preds = MLP.predict(X_test)\n",
        "prediction_end = time.perf_counter()\n",
        "acc_MLP = (preds == y_test).sum().astype(float) / len(preds)*100\n",
        "MLP_train_time = training_end-training_start\n",
        "MLP_prediction_time = prediction_end-prediction_start\n",
        "precision_score_mlp=precision_score(y_test, preds, average='micro')\n",
        "\n",
        "y_pred1= lb.transform(preds)\n",
        "roc_auc_score_mlp=roc_auc_score(y_test1, y_pred1, average=\"macro\")\n",
        "print(\"Roc_auc_score for test data: %3.5f \" % (roc_auc_score_mlp))\n",
        "print(\"Scikit-Learn's MLP Classifier's prediction accuracy is: %3.2f\" % (acc_MLP))\n",
        "print(\"Time consumed for training: %4.3f seconds\" % (MLP_train_time))\n",
        "print(\"Time consumed for prediction: %6.5f seconds\" % (MLP_prediction_time))\n",
        "print(\"Precision on test dataset:\", precision_score_mlp)"
      ],
      "execution_count": 122,
      "outputs": [
        {
          "output_type": "stream",
          "text": [
            "Roc_auc_score for test data: 0.73018 \n",
            "Scikit-Learn's MLP Classifier's prediction accuracy is: 67.53\n",
            "Time consumed for training: 15.305 seconds\n",
            "Time consumed for prediction: 0.03022 seconds\n",
            "Precision on test dataset: 0.6752588923908149\n"
          ],
          "name": "stdout"
        }
      ]
    },
    {
      "cell_type": "code",
      "metadata": {
        "id": "oM4vEaDiCAq-",
        "colab_type": "code",
        "colab": {
          "base_uri": "https://localhost:8080/",
          "height": 105
        },
        "outputId": "b44262c8-a95c-40b1-f06a-2fe39c59adac"
      },
      "source": [
        "from sklearn.ensemble import RandomForestClassifier\n",
        "import time\n",
        "\n",
        "rfc = RandomForestClassifier(n_estimators=10)\n",
        "training_start = time.perf_counter()\n",
        "rfc.fit(X_train, y_train)\n",
        "training_end = time.perf_counter()\n",
        "prediction_start = time.perf_counter()\n",
        "preds = rfc.predict(X_test)\n",
        "prediction_end = time.perf_counter()\n",
        "acc_rfc = (preds == y_test).sum().astype(float) / len(preds)*100\n",
        "rfc_train_time = training_end-training_start\n",
        "rfc_prediction_time = prediction_end-prediction_start\n",
        "precision_score_rfc=precision_score(y_test, preds, average='micro')\n",
        "\n",
        "y_pred1= lb.transform(preds)\n",
        "roc_auc_score_rfc=roc_auc_score(y_test1, y_pred1, average=\"macro\")\n",
        "print(\"Roc_auc_score for test data: %3.5f \" % (roc_auc_score_rfc))\n",
        "print(\"Scikit-Learn's Random Forest Classifier's prediction accuracy is: %3.2f\" % (acc_rfc))\n",
        "print(\"Time consumed for training: %4.3f seconds\" % (rfc_train_time))\n",
        "print(\"Time consumed for prediction: %6.5f seconds\" % (rfc_prediction_time))\n",
        "print(\"Precision on test dataset:\", precision_score_rfc)"
      ],
      "execution_count": 123,
      "outputs": [
        {
          "output_type": "stream",
          "text": [
            "Roc_auc_score for test data: 0.77490 \n",
            "Scikit-Learn's Random Forest Classifier's prediction accuracy is: 71.61\n",
            "Time consumed for training: 1.001 seconds\n",
            "Time consumed for prediction: 0.07934 seconds\n",
            "Precision on test dataset: 0.7161188653759568\n"
          ],
          "name": "stdout"
        }
      ]
    },
    {
      "cell_type": "code",
      "metadata": {
        "id": "LeFymcsfzEwb",
        "colab_type": "code",
        "colab": {
          "base_uri": "https://localhost:8080/",
          "height": 587
        },
        "outputId": "01eb549a-2a93-4b95-e870-3a78de10837b"
      },
      "source": [
        "!pip install tpot\n",
        "from tpot import TPOTClassifier\n",
        "\n",
        "tpot_classifier = TPOTClassifier()\n",
        "\n",
        "\n",
        "training_start = time.perf_counter()\n",
        "tpot_classifier.fit(X_train,y_train) \n",
        "training_end = time.perf_counter()\n",
        "prediction_start = time.perf_counter()\n",
        "preds = tpot_classifier.predict(X_test)\n",
        "prediction_end = time.perf_counter()\n",
        "acc_rfc = (preds == y_test).sum().astype(float) / len(preds)*100\n",
        "rfc_train_time = training_end-training_start\n",
        "rfc_prediction_time = prediction_end-prediction_start\n",
        "precision_score_rfc=precision_score(y_test, preds, average='micro')\n",
        "\n",
        "y_pred1= lb.transform(preds)\n",
        "roc_auc_score_rfc=roc_auc_score(y_test1, y_pred1, average=\"macro\")\n",
        "print(\"Roc_auc_score for test data: %3.5f \" % (roc_auc_score_rfc))\n",
        "print(\"Scikit-Learn's Random Forest Classifier's prediction accuracy is: %3.2f\" % (acc_rfc))\n",
        "print(\"Time consumed for training: %4.3f seconds\" % (rfc_train_time))\n",
        "print(\"Time consumed for prediction: %6.5f seconds\" % (rfc_prediction_time))\n",
        "print(\"Precision on test dataset:\", precision_score_rfc)\n"
      ],
      "execution_count": null,
      "outputs": [
        {
          "output_type": "stream",
          "text": [
            "Collecting tpot\n",
            "\u001b[?25l  Downloading https://files.pythonhosted.org/packages/14/5e/cb87b0257033a7a396e533a634079ee151a239d180efe2a8b1d2e3584d23/TPOT-0.11.5-py3-none-any.whl (82kB)\n",
            "\r\u001b[K     |████                            | 10kB 21.5MB/s eta 0:00:01\r\u001b[K     |████████                        | 20kB 2.2MB/s eta 0:00:01\r\u001b[K     |████████████                    | 30kB 2.7MB/s eta 0:00:01\r\u001b[K     |████████████████                | 40kB 3.1MB/s eta 0:00:01\r\u001b[K     |████████████████████            | 51kB 2.6MB/s eta 0:00:01\r\u001b[K     |████████████████████████        | 61kB 2.8MB/s eta 0:00:01\r\u001b[K     |████████████████████████████    | 71kB 3.1MB/s eta 0:00:01\r\u001b[K     |███████████████████████████████▉| 81kB 3.5MB/s eta 0:00:01\r\u001b[K     |████████████████████████████████| 92kB 3.1MB/s \n",
            "\u001b[?25hRequirement already satisfied: joblib>=0.13.2 in /usr/local/lib/python3.6/dist-packages (from tpot) (0.15.1)\n",
            "Requirement already satisfied: scikit-learn>=0.22.0 in /usr/local/lib/python3.6/dist-packages (from tpot) (0.22.2.post1)\n",
            "Collecting deap>=1.2\n",
            "\u001b[?25l  Downloading https://files.pythonhosted.org/packages/0a/eb/2bd0a32e3ce757fb26264765abbaedd6d4d3640d90219a513aeabd08ee2b/deap-1.3.1-cp36-cp36m-manylinux2010_x86_64.whl (157kB)\n",
            "\r\u001b[K     |██                              | 10kB 22.6MB/s eta 0:00:01\r\u001b[K     |████▏                           | 20kB 30.1MB/s eta 0:00:01\r\u001b[K     |██████▎                         | 30kB 27.9MB/s eta 0:00:01\r\u001b[K     |████████▍                       | 40kB 31.6MB/s eta 0:00:01\r\u001b[K     |██████████▍                     | 51kB 24.0MB/s eta 0:00:01\r\u001b[K     |████████████▌                   | 61kB 14.9MB/s eta 0:00:01\r\u001b[K     |██████████████▋                 | 71kB 16.3MB/s eta 0:00:01\r\u001b[K     |████████████████▊               | 81kB 17.8MB/s eta 0:00:01\r\u001b[K     |██████████████████▊             | 92kB 18.7MB/s eta 0:00:01\r\u001b[K     |████████████████████▉           | 102kB 11.1MB/s eta 0:00:01\r\u001b[K     |███████████████████████         | 112kB 11.1MB/s eta 0:00:01\r\u001b[K     |█████████████████████████       | 122kB 11.1MB/s eta 0:00:01\r\u001b[K     |███████████████████████████▏    | 133kB 11.1MB/s eta 0:00:01\r\u001b[K     |█████████████████████████████▏  | 143kB 11.1MB/s eta 0:00:01\r\u001b[K     |███████████████████████████████▎| 153kB 11.1MB/s eta 0:00:01\r\u001b[K     |████████████████████████████████| 163kB 11.1MB/s \n",
            "\u001b[?25hCollecting stopit>=1.1.1\n",
            "  Downloading https://files.pythonhosted.org/packages/35/58/e8bb0b0fb05baf07bbac1450c447d753da65f9701f551dca79823ce15d50/stopit-1.1.2.tar.gz\n",
            "Requirement already satisfied: pandas>=0.24.2 in /usr/local/lib/python3.6/dist-packages (from tpot) (1.0.5)\n",
            "Requirement already satisfied: scipy>=1.3.1 in /usr/local/lib/python3.6/dist-packages (from tpot) (1.4.1)\n",
            "Requirement already satisfied: tqdm>=4.36.1 in /usr/local/lib/python3.6/dist-packages (from tpot) (4.41.1)\n",
            "Requirement already satisfied: numpy>=1.16.3 in /usr/local/lib/python3.6/dist-packages (from tpot) (1.18.5)\n",
            "Collecting update-checker>=0.16\n",
            "  Downloading https://files.pythonhosted.org/packages/d6/c3/aaf8a162df8e8f9d321237c7c0e63aff95b42d19f1758f96606e3cabb245/update_checker-0.17-py2.py3-none-any.whl\n",
            "Requirement already satisfied: pytz>=2017.2 in /usr/local/lib/python3.6/dist-packages (from pandas>=0.24.2->tpot) (2018.9)\n",
            "Requirement already satisfied: python-dateutil>=2.6.1 in /usr/local/lib/python3.6/dist-packages (from pandas>=0.24.2->tpot) (2.8.1)\n",
            "Requirement already satisfied: requests>=2.3.0 in /usr/local/lib/python3.6/dist-packages (from update-checker>=0.16->tpot) (2.23.0)\n",
            "Requirement already satisfied: six>=1.5 in /usr/local/lib/python3.6/dist-packages (from python-dateutil>=2.6.1->pandas>=0.24.2->tpot) (1.12.0)\n",
            "Requirement already satisfied: urllib3!=1.25.0,!=1.25.1,<1.26,>=1.21.1 in /usr/local/lib/python3.6/dist-packages (from requests>=2.3.0->update-checker>=0.16->tpot) (1.24.3)\n",
            "Requirement already satisfied: certifi>=2017.4.17 in /usr/local/lib/python3.6/dist-packages (from requests>=2.3.0->update-checker>=0.16->tpot) (2020.6.20)\n",
            "Requirement already satisfied: idna<3,>=2.5 in /usr/local/lib/python3.6/dist-packages (from requests>=2.3.0->update-checker>=0.16->tpot) (2.9)\n",
            "Requirement already satisfied: chardet<4,>=3.0.2 in /usr/local/lib/python3.6/dist-packages (from requests>=2.3.0->update-checker>=0.16->tpot) (3.0.4)\n",
            "Building wheels for collected packages: stopit\n",
            "  Building wheel for stopit (setup.py) ... \u001b[?25l\u001b[?25hdone\n",
            "  Created wheel for stopit: filename=stopit-1.1.2-cp36-none-any.whl size=11956 sha256=cac9a3654f981090a6eccfc3c4bd82bdd8080226813f2157a51466e5bdc0e1b9\n",
            "  Stored in directory: /root/.cache/pip/wheels/3c/85/2b/2580190404636bfc63e8de3dff629c03bb795021e1983a6cc7\n",
            "Successfully built stopit\n",
            "Installing collected packages: deap, stopit, update-checker, tpot\n",
            "Successfully installed deap-1.3.1 stopit-1.1.2 tpot-0.11.5 update-checker-0.17\n"
          ],
          "name": "stdout"
        }
      ]
    },
    {
      "cell_type": "code",
      "metadata": {
        "id": "lQfT18hbHX4a",
        "colab_type": "code",
        "colab": {
          "base_uri": "https://localhost:8080/",
          "height": 317
        },
        "outputId": "67bf7a2c-5763-435c-bc32-9571f78dda66"
      },
      "source": [
        "#After running all classifier models individually, we compare them all together for best performance\n",
        "-   results = pd.DataFrame({\n",
        "    'Model': ['KNN', 'GNB', 'LGBM', 'gbk', 'XGBoost', 'LR', 'MLP', 'Random Forest'],\n",
        "    'Roc_auc_score': [roc_auc_score_knn, roc_auc_score_gnb, roc_auc_score_lgbm, roc_auc_score_gbk, roc_auc_score_xgb, roc_auc_score_LR, roc_auc_score_mlp, roc_auc_score_rfc],\n",
        "    'Accuracy': [acc_knn, acc_gnb, acc_LGBM, acc_gbk, acc_xgb, acc_LR, acc_MLP, acc_rfc],\n",
        "    'Precision': [precision_score_knn, precision_score_gnb, precision_score_lgbm, precision_score_gbk, precision_score_xgb, precision_score_LR, precision_score_mlp, precision_score_rfc],\n",
        "    'Runtime Training': [knn_train_time, gnb_train_time, LGBM_train_time, gbk_train_time, \n",
        "                         xgb_train_time, LR_train_time, MLP_train_time, rfc_train_time],\n",
        "    'Runtime Prediction': [knn_prediction_time, gnb_prediction_time, LGBM_prediction_time, gbk_prediction_time,\n",
        "                          xgb_prediction_time, LR_prediction_time, MLP_prediction_time, rfc_prediction_time]})\n",
        "result_df = results.sort_values(by='Roc_auc_score', ascending=False)\n",
        "result_df = result_df.set_index('Model')\n",
        "result_df"
      ],
      "execution_count": 133,
      "outputs": [
        {
          "output_type": "execute_result",
          "data": {
            "text/html": [
              "<div>\n",
              "<style scoped>\n",
              "    .dataframe tbody tr th:only-of-type {\n",
              "        vertical-align: middle;\n",
              "    }\n",
              "\n",
              "    .dataframe tbody tr th {\n",
              "        vertical-align: top;\n",
              "    }\n",
              "\n",
              "    .dataframe thead th {\n",
              "        text-align: right;\n",
              "    }\n",
              "</style>\n",
              "<table border=\"1\" class=\"dataframe\">\n",
              "  <thead>\n",
              "    <tr style=\"text-align: right;\">\n",
              "      <th></th>\n",
              "      <th>Roc_auc_score</th>\n",
              "      <th>Accuracy</th>\n",
              "      <th>Precision</th>\n",
              "      <th>Runtime Training</th>\n",
              "      <th>Runtime Prediction</th>\n",
              "    </tr>\n",
              "    <tr>\n",
              "      <th>Model</th>\n",
              "      <th></th>\n",
              "      <th></th>\n",
              "      <th></th>\n",
              "      <th></th>\n",
              "      <th></th>\n",
              "    </tr>\n",
              "  </thead>\n",
              "  <tbody>\n",
              "    <tr>\n",
              "      <th>gbk</th>\n",
              "      <td>0.799226</td>\n",
              "      <td>75.427735</td>\n",
              "      <td>0.754277</td>\n",
              "      <td>41.874913</td>\n",
              "      <td>0.242631</td>\n",
              "    </tr>\n",
              "    <tr>\n",
              "      <th>XGBoost</th>\n",
              "      <td>0.796437</td>\n",
              "      <td>75.303917</td>\n",
              "      <td>0.753039</td>\n",
              "      <td>11.108390</td>\n",
              "      <td>0.243686</td>\n",
              "    </tr>\n",
              "    <tr>\n",
              "      <th>LGBM</th>\n",
              "      <td>0.784764</td>\n",
              "      <td>73.123968</td>\n",
              "      <td>0.731240</td>\n",
              "      <td>149.092877</td>\n",
              "      <td>16.823481</td>\n",
              "    </tr>\n",
              "    <tr>\n",
              "      <th>GNB</th>\n",
              "      <td>0.783021</td>\n",
              "      <td>73.596728</td>\n",
              "      <td>0.735967</td>\n",
              "      <td>0.018908</td>\n",
              "      <td>0.008729</td>\n",
              "    </tr>\n",
              "    <tr>\n",
              "      <th>Random Forest</th>\n",
              "      <td>0.774895</td>\n",
              "      <td>71.611887</td>\n",
              "      <td>0.716119</td>\n",
              "      <td>1.001105</td>\n",
              "      <td>0.079338</td>\n",
              "    </tr>\n",
              "    <tr>\n",
              "      <th>MLP</th>\n",
              "      <td>0.730182</td>\n",
              "      <td>67.525889</td>\n",
              "      <td>0.675259</td>\n",
              "      <td>15.304952</td>\n",
              "      <td>0.030221</td>\n",
              "    </tr>\n",
              "    <tr>\n",
              "      <th>LR</th>\n",
              "      <td>0.586378</td>\n",
              "      <td>49.230827</td>\n",
              "      <td>0.492308</td>\n",
              "      <td>4.824684</td>\n",
              "      <td>0.004737</td>\n",
              "    </tr>\n",
              "    <tr>\n",
              "      <th>KNN</th>\n",
              "      <td>0.566144</td>\n",
              "      <td>38.732553</td>\n",
              "      <td>0.387326</td>\n",
              "      <td>0.122450</td>\n",
              "      <td>1.053619</td>\n",
              "    </tr>\n",
              "  </tbody>\n",
              "</table>\n",
              "</div>"
            ],
            "text/plain": [
              "               Roc_auc_score   Accuracy  ...  Runtime Training  Runtime Prediction\n",
              "Model                                    ...                                      \n",
              "gbk                 0.799226  75.427735  ...         41.874913            0.242631\n",
              "XGBoost             0.796437  75.303917  ...         11.108390            0.243686\n",
              "LGBM                0.784764  73.123968  ...        149.092877           16.823481\n",
              "GNB                 0.783021  73.596728  ...          0.018908            0.008729\n",
              "Random Forest       0.774895  71.611887  ...          1.001105            0.079338\n",
              "MLP                 0.730182  67.525889  ...         15.304952            0.030221\n",
              "LR                  0.586378  49.230827  ...          4.824684            0.004737\n",
              "KNN                 0.566144  38.732553  ...          0.122450            1.053619\n",
              "\n",
              "[8 rows x 5 columns]"
            ]
          },
          "metadata": {
            "tags": []
          },
          "execution_count": 133
        }
      ]
    },
    {
      "cell_type": "code",
      "metadata": {
        "id": "kxZBCX53FFAr",
        "colab_type": "code",
        "colab": {
          "base_uri": "https://localhost:8080/",
          "height": 161
        },
        "outputId": "d7bd6194-f578-46ab-99a5-8b314fa9144b"
      },
      "source": [
        "from sklearn.model_selection import cross_validate\n",
        "gbk_cv = GradientBoostingClassifier(n_estimators=10)\n",
        "scoring = {'acc': 'accuracy',\n",
        "           'prec_macro': 'precision_macro',\n",
        "           'rec_micro': 'recall_macro'}\n",
        "scores = cross_validate(gbk_cv, X_train, y_train, cv=3, scoring = scoring)\n",
        "print(\"Scores:\", scores)\n",
        "#print(\"Mean:\", scores.mean())\n",
        "#print(\"Standard Deviation:\", scores.std())"
      ],
      "execution_count": 125,
      "outputs": [
        {
          "output_type": "stream",
          "text": [
            "/usr/local/lib/python3.6/dist-packages/sklearn/metrics/_classification.py:1272: UndefinedMetricWarning: Precision is ill-defined and being set to 0.0 in labels with no predicted samples. Use `zero_division` parameter to control this behavior.\n",
            "  _warn_prf(average, modifier, msg_start, len(result))\n",
            "/usr/local/lib/python3.6/dist-packages/sklearn/metrics/_classification.py:1272: UndefinedMetricWarning: Precision is ill-defined and being set to 0.0 in labels with no predicted samples. Use `zero_division` parameter to control this behavior.\n",
            "  _warn_prf(average, modifier, msg_start, len(result))\n"
          ],
          "name": "stderr"
        },
        {
          "output_type": "stream",
          "text": [
            "Scores: {'fit_time': array([2.84338403, 2.86335063, 2.87451982]), 'score_time': array([0.0581646 , 0.05739427, 0.05687904]), 'test_acc': array([0.74171451, 0.73620224, 0.74541683]), 'test_prec_macro': array([0.57725995, 0.57344753, 0.58036543]), 'test_rec_micro': array([0.64086439, 0.63851702, 0.64409806])}\n"
          ],
          "name": "stdout"
        },
        {
          "output_type": "stream",
          "text": [
            "/usr/local/lib/python3.6/dist-packages/sklearn/metrics/_classification.py:1272: UndefinedMetricWarning: Precision is ill-defined and being set to 0.0 in labels with no predicted samples. Use `zero_division` parameter to control this behavior.\n",
            "  _warn_prf(average, modifier, msg_start, len(result))\n"
          ],
          "name": "stderr"
        }
      ]
    },
    {
      "cell_type": "code",
      "metadata": {
        "id": "wDOBGC4UHk-D",
        "colab_type": "code",
        "colab": {
          "base_uri": "https://localhost:8080/",
          "height": 347
        },
        "outputId": "e581df83-6cd9-4994-f92b-3b339f5adddb"
      },
      "source": [
        "importances = pd.DataFrame({\n",
        "    #'Feature': dTreated.drop('Satisfaction', axis=1).columns,\n",
        "    'Feature': features.columns,\n",
        "    'Importance': gbk.feature_importances_\n",
        "})\n",
        "importances = importances.sort_values(by='Importance', ascending=True)\n",
        "importances = importances.set_index('Feature')\n",
        "importances"
      ],
      "execution_count": 126,
      "outputs": [
        {
          "output_type": "execute_result",
          "data": {
            "text/html": [
              "<div>\n",
              "<style scoped>\n",
              "    .dataframe tbody tr th:only-of-type {\n",
              "        vertical-align: middle;\n",
              "    }\n",
              "\n",
              "    .dataframe tbody tr th {\n",
              "        vertical-align: top;\n",
              "    }\n",
              "\n",
              "    .dataframe thead th {\n",
              "        text-align: right;\n",
              "    }\n",
              "</style>\n",
              "<table border=\"1\" class=\"dataframe\">\n",
              "  <thead>\n",
              "    <tr style=\"text-align: right;\">\n",
              "      <th></th>\n",
              "      <th>Importance</th>\n",
              "    </tr>\n",
              "    <tr>\n",
              "      <th>Feature</th>\n",
              "      <th></th>\n",
              "    </tr>\n",
              "  </thead>\n",
              "  <tbody>\n",
              "    <tr>\n",
              "      <th>count_unique_word</th>\n",
              "      <td>0.001992</td>\n",
              "    </tr>\n",
              "    <tr>\n",
              "      <th>count_word</th>\n",
              "      <td>0.002103</td>\n",
              "    </tr>\n",
              "    <tr>\n",
              "      <th>count_stopwords</th>\n",
              "      <td>0.002159</td>\n",
              "    </tr>\n",
              "    <tr>\n",
              "      <th>usefulcount</th>\n",
              "      <td>0.002693</td>\n",
              "    </tr>\n",
              "    <tr>\n",
              "      <th>count_letters</th>\n",
              "      <td>0.006432</td>\n",
              "    </tr>\n",
              "    <tr>\n",
              "      <th>condition</th>\n",
              "      <td>0.009499</td>\n",
              "    </tr>\n",
              "    <tr>\n",
              "      <th>easeofuse</th>\n",
              "      <td>0.038326</td>\n",
              "    </tr>\n",
              "    <tr>\n",
              "      <th>lstm_score</th>\n",
              "      <td>0.463567</td>\n",
              "    </tr>\n",
              "    <tr>\n",
              "      <th>effectiveness</th>\n",
              "      <td>0.473229</td>\n",
              "    </tr>\n",
              "  </tbody>\n",
              "</table>\n",
              "</div>"
            ],
            "text/plain": [
              "                   Importance\n",
              "Feature                      \n",
              "count_unique_word    0.001992\n",
              "count_word           0.002103\n",
              "count_stopwords      0.002159\n",
              "usefulcount          0.002693\n",
              "count_letters        0.006432\n",
              "condition            0.009499\n",
              "easeofuse            0.038326\n",
              "lstm_score           0.463567\n",
              "effectiveness        0.473229"
            ]
          },
          "metadata": {
            "tags": []
          },
          "execution_count": 126
        }
      ]
    },
    {
      "cell_type": "code",
      "metadata": {
        "id": "sp6Bxto5Hmu5",
        "colab_type": "code",
        "colab": {
          "base_uri": "https://localhost:8080/",
          "height": 694
        },
        "outputId": "358e4e46-5b29-4461-f028-12106191db3c"
      },
      "source": [
        "importances.plot.bar()"
      ],
      "execution_count": 127,
      "outputs": [
        {
          "output_type": "execute_result",
          "data": {
            "text/plain": [
              "<matplotlib.axes._subplots.AxesSubplot at 0x7f599829e898>"
            ]
          },
          "metadata": {
            "tags": []
          },
          "execution_count": 127
        },
        {
          "output_type": "display_data",
          "data": {
            "image/png": "[encoded data removed]",
            "text/plain": [
              "<Figure size 864x648 with 1 Axes>"
            ]
          },
          "metadata": {
            "tags": []
          }
        }
      ]
    },
    {
      "cell_type": "markdown",
      "metadata": {
        "id": "1hf14QBnSJDS",
        "colab_type": "text"
      },
      "source": [
        "# Hyperparameter Tuning"
      ]
    },
    {
      "cell_type": "code",
      "metadata": {
        "id": "4wwUyzQQSAz1",
        "colab_type": "code",
        "colab": {
          "base_uri": "https://localhost:8080/",
          "height": 443
        },
        "outputId": "4ce143e7-fd71-45e5-d3f2-2a691377b398"
      },
      "source": [
        "from pprint import pprint\n",
        "# Look at parameters used by our current forest\n",
        "print('Parameters currently in use:\\n')\n",
        "pprint(gbk.get_params())"
      ],
      "execution_count": 147,
      "outputs": [
        {
          "output_type": "stream",
          "text": [
            "Parameters currently in use:\n",
            "\n",
            "{'ccp_alpha': 0.0,\n",
            " 'criterion': 'friedman_mse',\n",
            " 'init': None,\n",
            " 'learning_rate': 0.1,\n",
            " 'loss': 'deviance',\n",
            " 'max_depth': 3,\n",
            " 'max_features': None,\n",
            " 'max_leaf_nodes': None,\n",
            " 'min_impurity_decrease': 0.0,\n",
            " 'min_impurity_split': None,\n",
            " 'min_samples_leaf': 1,\n",
            " 'min_samples_split': 2,\n",
            " 'min_weight_fraction_leaf': 0.0,\n",
            " 'n_estimators': 100,\n",
            " 'n_iter_no_change': None,\n",
            " 'presort': 'deprecated',\n",
            " 'random_state': None,\n",
            " 'subsample': 1.0,\n",
            " 'tol': 0.0001,\n",
            " 'validation_fraction': 0.1,\n",
            " 'verbose': 0,\n",
            " 'warm_start': False}\n"
          ],
          "name": "stdout"
        }
      ]
    },
    {
      "cell_type": "code",
      "metadata": {
        "id": "DxH-VP0Kv4uV",
        "colab_type": "code",
        "colab": {}
      },
      "source": [
        ""
      ],
      "execution_count": null,
      "outputs": []
    },
    {
      "cell_type": "code",
      "metadata": {
        "id": "Ec2UzuTuSAnT",
        "colab_type": "code",
        "colab": {}
      },
      "source": [
        "from sklearn.model_selection import RandomizedSearchCV\n",
        "# Number of trees in GradientBoostingClassifier()\n",
        "n_estimators = [int(x) for x in np.linspace(start = 100, stop = 500, num = 5)]\n",
        "# Number of features to consider at every split\n",
        "#max_features = ['None', 'sqrt']\n",
        "# Maximum number of levels in tree\n",
        "max_depth = [int(x) for x in np.linspace(1, 19, num = 10)]\n",
        "max_depth.append(None)\n",
        "# Minimum number of samples required to split a node\n",
        "min_samples_split = [2, 5, 10]\n",
        "# Minimum number of samples required at each leaf node\n",
        "min_samples_leaf = [1, 2, 4]\n",
        "# Method of selecting samples for training each tree\n",
        "learning_rate = [0.001, 0.01, 0.1, 0.2]\n",
        "# Create the random grid\n",
        "random_grid = {'n_estimators': n_estimators,\n",
        "               \n",
        "               'max_depth': max_depth,\n",
        "               'min_samples_split': min_samples_split,\n",
        "               'min_samples_leaf': min_samples_leaf,\n",
        "               'learning_rate': learning_rate}\n",
        "pprint(random_grid)"
      ],
      "execution_count": null,
      "outputs": []
    },
    {
      "cell_type": "code",
      "metadata": {
        "id": "Xk0NBv0lScLE",
        "colab_type": "code",
        "colab": {}
      },
      "source": [
        "# Use the random grid to search for best hyperparameters\n",
        "\n",
        "# Random search of parameters, using 3 fold cross validation, \n",
        "# search across 10 different combinations, and use all available cores\n",
        "gbk_random = RandomizedSearchCV(estimator = gbk, param_distributions = random_grid, n_iter = 1, cv = 3, verbose=2, random_state=42, n_jobs = -1)\n",
        "# Fit the random search model\n",
        "gbk_random.fit(X_train, y_train)"
      ],
      "execution_count": null,
      "outputs": []
    },
    {
      "cell_type": "code",
      "metadata": {
        "id": "9T-JGgqLScAY",
        "colab_type": "code",
        "colab": {}
      },
      "source": [
        "# Best parameter values, with best score of accuracy using Hyperparameter tuning\n",
        "gbk_random.best_params_,gbk_random.best_score_"
      ],
      "execution_count": null,
      "outputs": []
    },
    {
      "cell_type": "code",
      "metadata": {
        "id": "mP6HTwrgSb3k",
        "colab_type": "code",
        "colab": {}
      },
      "source": [
        "#implementing hyperopt tuning with set parameter values\n",
        "GBoost = GradientBoostingClassifier(max_depth=3, min_samples_leaf=1, min_samples_split=2, n_estimators=300, learning_rate=0.07)\n",
        "\n",
        "GBoost.fit(X_train, y_train)\n",
        "preds = GBoost.predict(X_test)\n",
        "\n",
        "accuracy = (preds == y_test).sum().astype(float) / len(preds)*100\n",
        "\n",
        "print(\"Gradient Boost's prediction accuracy WITH optimal hyperparameters is: %3.2f\" % (accuracy))"
      ],
      "execution_count": null,
      "outputs": []
    },
    {
      "cell_type": "code",
      "metadata": {
        "id": "3hUXuyqgSbu6",
        "colab_type": "code",
        "colab": {}
      },
      "source": [
        "scores = cross_validate(GBoost, X_train, y_train, cv=3, scoring = scoring)\n",
        "print(\"Scores:\", scores)"
      ],
      "execution_count": null,
      "outputs": []
    },
    {
      "cell_type": "code",
      "metadata": {
        "trusted": true,
        "id": "1vzE4NwI7PK-",
        "colab_type": "code",
        "colab": {}
      },
      "source": [
        "#predictions = cross_val_predict(GBoost, features, target, cv=3)\n",
        "#confusion_matrix(target, predictions)"
      ],
      "execution_count": null,
      "outputs": []
    },
    {
      "cell_type": "code",
      "metadata": {
        "id": "DOHjU4Qp38f7",
        "colab_type": "code",
        "colab": {}
      },
      "source": [
        "confusion_matrix(preds, y_test)"
      ],
      "execution_count": null,
      "outputs": []
    },
    {
      "cell_type": "code",
      "metadata": {
        "id": "8opz7nYG5d-l",
        "colab_type": "code",
        "colab": {}
      },
      "source": [
        "print(\"Precision on test dataset:\", precision_score(y_test, preds, average='micro'))\n",
        "print(\"Recall on test dataset:\",recall_score(y_test, preds, average='micro'))\n",
        "print(\"F1-Score on test dataset:\", f1_score(y_test, preds, average='micro'))"
      ],
      "execution_count": null,
      "outputs": []
    },
    {
      "cell_type": "code",
      "metadata": {
        "id": "hf4-jOLr5vq3",
        "colab_type": "code",
        "colab": {}
      },
      "source": [
        "# Classification report\n",
        "import sklearn.metrics as metrics\n",
        "print('\\t\\t\\t\\tCLASSIFICATIION METRICS \\n \\t\\t\\tfor test dataset\\n')\n",
        "print(metrics.classification_report(y_test, preds))"
      ],
      "execution_count": null,
      "outputs": []
    },
    {
      "cell_type": "code",
      "metadata": {
        "id": "WxDbFuqKJArH",
        "colab_type": "code",
        "colab": {}
      },
      "source": [
        "y_pred1= lb.transform(preds)\n",
        "# roc_auc_score for test data\n",
        "roc_auc_score(y_test1, y_pred1, average=\"macro\")"
      ],
      "execution_count": null,
      "outputs": []
    },
    {
      "cell_type": "code",
      "metadata": {
        "id": "OncL2coYJGdv",
        "colab_type": "code",
        "colab": {}
      },
      "source": [
        "from itertools import cycle\n",
        "from sklearn.metrics import roc_curve, auc\n",
        "from sklearn.preprocessing import label_binarize\n",
        "from scipy import interp\n",
        "\n",
        "statis=target\n",
        "y = label_binarize(statis, classes=[0, 1, 2, 3, 4])\n",
        "n_classes = y.shape[1]\n",
        "\n",
        "# Compute ROC curve and ROC area for each class\n",
        "fpr = dict()\n",
        "tpr = dict()\n",
        "roc_auc = dict()\n",
        "for i in range(n_classes):\n",
        "    fpr[i], tpr[i], _ = roc_curve(y_test1[:, i], y_pred1[:, i])\n",
        "    roc_auc[i] = auc(fpr[i], tpr[i])\n",
        "\n",
        "# Compute micro-average ROC curve and ROC area\n",
        "fpr[\"micro\"], tpr[\"micro\"], _ = roc_curve(y_test1.ravel(), y_pred1.ravel())\n",
        "roc_auc[\"micro\"] = auc(fpr[\"micro\"], tpr[\"micro\"])"
      ],
      "execution_count": null,
      "outputs": []
    },
    {
      "cell_type": "code",
      "metadata": {
        "id": "sUMmYjxVJUpO",
        "colab_type": "code",
        "colab": {}
      },
      "source": [
        "plt.figure()\n",
        "lw = 2\n",
        "plt.plot(fpr[2], tpr[2], color='darkorange',\n",
        "         lw=lw, label='ROC curve (area = %0.2f)' % roc_auc[2])\n",
        "plt.plot([0, 1], [0, 1], color='navy', lw=lw, linestyle='--')\n",
        "plt.xlim([0.0, 1.0])\n",
        "plt.ylim([0.0, 1.05])\n",
        "plt.xlabel('False Positive Rate')\n",
        "plt.ylabel('True Positive Rate')\n",
        "plt.title('Receiver operating characteristic example')\n",
        "plt.legend(loc=\"lower right\")\n",
        "plt.show()"
      ],
      "execution_count": null,
      "outputs": []
    },
    {
      "cell_type": "code",
      "metadata": {
        "id": "91PPdZxqJcGO",
        "colab_type": "code",
        "colab": {}
      },
      "source": [
        "from scipy import interp\n",
        "from itertools import cycle\n",
        "\n",
        "# First aggregate all false positive rates\n",
        "all_fpr = np.unique(np.concatenate([fpr[i] for i in range(n_classes)]))\n",
        "\n",
        "# Then interpolate all ROC curves at this points\n",
        "mean_tpr = np.zeros_like(all_fpr)\n",
        "for i in range(n_classes):\n",
        "    mean_tpr += interp(all_fpr, fpr[i], tpr[i])\n",
        "\n",
        "# Finally average it and compute AUC\n",
        "mean_tpr /= n_classes\n",
        "\n",
        "fpr[\"macro\"] = all_fpr\n",
        "tpr[\"macro\"] = mean_tpr\n",
        "roc_auc[\"macro\"] = auc(fpr[\"macro\"], tpr[\"macro\"])\n",
        "\n",
        "# Plot all ROC curves\n",
        "plt.figure()\n",
        "plt.plot(fpr[\"micro\"], tpr[\"micro\"],\n",
        "         label='micro-average ROC curve (area = {0:0.2f})'\n",
        "               ''.format(roc_auc[\"micro\"]),\n",
        "         color='deeppink', linestyle=':', linewidth=4)\n",
        "\n",
        "plt.plot(fpr[\"macro\"], tpr[\"macro\"],\n",
        "         label='macro-average ROC curve (area = {0:0.2f})'\n",
        "               ''.format(roc_auc[\"macro\"]),\n",
        "         color='navy', linestyle=':', linewidth=4)\n",
        "\n",
        "colors = cycle(['aqua', 'darkorange', 'cornflowerblue'])\n",
        "for i, color in zip(range(n_classes), colors):\n",
        "    plt.plot(fpr[i], tpr[i], color=color, lw=lw,\n",
        "             label='ROC curve of class {0} (area = {1:0.2f})'\n",
        "             ''.format(i, roc_auc[i]))\n",
        "\n",
        "plt.plot([0, 1], [0, 1], 'k--', lw=lw)\n",
        "plt.xlim([0.0, 1.0])\n",
        "plt.ylim([0.0, 1.0])\n",
        "plt.xlabel('False Positive Rate')\n",
        "plt.ylabel('True Positive Rate')\n",
        "plt.title('Some extension of Receiver operating characteristic to multi-class on test data')\n",
        "plt.legend(loc=\"lower right\")\n",
        "plt.show()"
      ],
      "execution_count": null,
      "outputs": []
    },
    {
      "cell_type": "code",
      "metadata": {
        "id": "BCoYUYTeY50r",
        "colab_type": "code",
        "colab": {}
      },
      "source": [
        ""
      ],
      "execution_count": null,
      "outputs": []
    }
  ]
}