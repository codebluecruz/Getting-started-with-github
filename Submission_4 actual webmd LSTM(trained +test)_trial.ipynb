{
  "nbformat": 4,
  "nbformat_minor": 0,
  "metadata": {
    "colab": {
      "name": "predicted lstm trial.ipynb",
      "provenance": [],
      "collapsed_sections": [],
      "machine_shape": "hm",
      "include_colab_link": true
    },
    "kernelspec": {
      "name": "python3",
      "display_name": "Python 3"
    },
    "accelerator": "TPU"
  },
  "cells": [
    {
      "cell_type": "markdown",
      "metadata": {
        "id": "view-in-github",
        "colab_type": "text"
      },
      "source": [
        "<a href=\"https://colab.research.google.com/github/codebluecruz/Getting-started-with-github/blob/master/Submission_4%20actual%20webmd%20LSTM(trained%20%2Btest)_trial.ipynb\" target=\"_parent\"><img src=\"https://colab.research.google.com/assets/colab-badge.svg\" alt=\"Open In Colab\"/></a>"
      ]
    },
    {
      "cell_type": "markdown",
      "metadata": {
        "_uuid": "dd4d87a956090846d694ee5cb73e9d4581fa24f6",
        "id": "1TCeMoZ_7PIv",
        "colab_type": "text"
      },
      "source": [
        "# Exploratory Data Analysis w/ Python\n",
        "\n",
        "This kernel comprise exploratory data analysis on the provided data, including: \n",
        "- Data loading\n",
        "- Data cleaning \n",
        "- Descriptive Analysis\n",
        "- Cleansing Op. on Reviews Column\n",
        "- Sentiment Analysis\n",
        "- Importing Models\n",
        "- Comparing Classifier outputs\n",
        "- Hyperparameter Optimisation\n",
        "- Evaluating Results(Accuracy, F1-Score, Roc_auc score, ROC_AUC Cruve)\n",
        "\n"
      ]
    },
    {
      "cell_type": "code",
      "metadata": {
        "trusted": true,
        "_uuid": "8c3b51399825e356312a7849da35ecc580227f55",
        "id": "4fXWe39B7PIx",
        "colab_type": "code",
        "colab": {
          "base_uri": "https://localhost:8080/",
          "height": 107
        },
        "outputId": "fb4d5b31-d73e-466c-be5c-4b6b58f87789"
      },
      "source": [
        "# Importing major libraries which will be used for our model\n",
        "import pandas as pd\n",
        "import matplotlib.pyplot as plt\n",
        "from scipy import stats\n",
        "import numpy as np\n",
        "import re\n",
        "import seaborn as sns\n",
        "import string\n",
        "import html\n",
        "from sklearn.preprocessing import normalize, MinMaxScaler\n",
        "from scipy.stats import spearmanr, pearsonr\n",
        "\n",
        "# NLTK for Text based analysis\n",
        "import nltk\n",
        "from nltk.corpus import stopwords\n",
        "from nltk.stem import SnowballStemmer\n",
        "import nltk\n",
        "nltk.download('stopwords')\n",
        "\n",
        "import warnings\n",
        "warnings.filterwarnings(\"ignore\", category=UserWarning, module='bs4')\n",
        "plt.style.use('ggplot')"
      ],
      "execution_count": 2,
      "outputs": [
        {
          "output_type": "stream",
          "text": [
            "/usr/local/lib/python3.6/dist-packages/statsmodels/tools/_testing.py:19: FutureWarning: pandas.util.testing is deprecated. Use the functions in the public API at pandas.testing instead.\n",
            "  import pandas.util.testing as tm\n"
          ],
          "name": "stderr"
        },
        {
          "output_type": "stream",
          "text": [
            "[nltk_data] Downloading package stopwords to /root/nltk_data...\n",
            "[nltk_data]   Package stopwords is already up-to-date!\n"
          ],
          "name": "stdout"
        }
      ]
    },
    {
      "cell_type": "code",
      "metadata": {
        "id": "JNA-8waoDxUq",
        "colab_type": "code",
        "colab": {
          "base_uri": "https://localhost:8080/",
          "height": 34
        },
        "outputId": "56f287c9-a27a-4911-c447-5428a5cf225b"
      },
      "source": [
        "# Environment used for codefile is Google Collaboratory, Here we're mounting our google drive as all our data is saved on drive itself,\n",
        "# saves us upload time.\n",
        "from google.colab import drive\n",
        "drive.mount('/content/drive')"
      ],
      "execution_count": 3,
      "outputs": [
        {
          "output_type": "stream",
          "text": [
            "Drive already mounted at /content/drive; to attempt to forcibly remount, call drive.mount(\"/content/drive\", force_remount=True).\n"
          ],
          "name": "stdout"
        }
      ]
    },
    {
      "cell_type": "markdown",
      "metadata": {
        "_uuid": "9211934c152e8b40da08ba819800775662979593",
        "id": "DPR5Rjae7PI1",
        "colab_type": "text"
      },
      "source": [
        "## Data Loading \n",
        "\n",
        "Since we're using Google Colab, we'll directly upload our data file from Google Drive."
      ]
    },
    {
      "cell_type": "code",
      "metadata": {
        "_kg_hide-input": false,
        "trusted": true,
        "_uuid": "8678481568c9b1bdd42da356206c2561cd521119",
        "id": "VFDWZdts7PI2",
        "colab_type": "code",
        "colab": {
          "base_uri": "https://localhost:8080/",
          "height": 72
        },
        "outputId": "677db610-1810-47fc-ca8c-726187786709"
      },
      "source": [
        "# Reading data \n",
        "drugs = pd.read_csv('/content/drive/My Drive/newset_webmd.csv', skiprows=0)\n",
        "totrainnlp = pd.read_csv('/content/drive/My Drive/totrainnlp.csv', skiprows=0)"
      ],
      "execution_count": 4,
      "outputs": [
        {
          "output_type": "stream",
          "text": [
            "/usr/local/lib/python3.6/dist-packages/IPython/core/interactiveshell.py:2718: DtypeWarning: Columns (0,1,2,3,7,9,10) have mixed types.Specify dtype option on import or set low_memory=False.\n",
            "  interactivity=interactivity, compiler=compiler, result=result)\n"
          ],
          "name": "stderr"
        }
      ]
    },
    {
      "cell_type": "markdown",
      "metadata": {
        "id": "iUT5LDrBuPxa",
        "colab_type": "text"
      },
      "source": [
        "## Data Cleansing\n",
        "Before we perform any operations on our dataset, we need to be very sure of How clean our data is, or else it will not show us actual results."
      ]
    },
    {
      "cell_type": "code",
      "metadata": {
        "trusted": true,
        "_uuid": "a722edbd3dbf642d1d437517f259510a039e00d3",
        "id": "nK0kAzIL7PI6",
        "colab_type": "code",
        "colab": {}
      },
      "source": [
        "# droping any NaN rows from our dataset, , ,\n",
        "drugs = drugs.dropna(how = 'any', axis = 0)\n",
        "# changing all column names to LowerCase for uniformity\n",
        "drugs.columns = drugs.columns.str.lower()\n",
        "drugs.reset_index(drop = True, inplace = True)\n",
        "drugs['condition'].isnull().sum(axis = 0)\n",
        "#dropping unnecessary columns\n",
        "# removing Data columns(Date, Sex, Sides(Side effects)) which doesnt seem to be of much use\n",
        "drugs.drop(['date', 'sex', 'sides','age'], axis=1, inplace=True)\n",
        "# Also we're removing all duplicate reviews which appear in our dataset, as every individual must have given unique reviews to all drugs.\n",
        "drugs = drugs.drop_duplicates(subset=['reviews'], keep='first')"
      ],
      "execution_count": 5,
      "outputs": []
    },
    {
      "cell_type": "code",
      "metadata": {
        "id": "jzWFy-uLCuYj",
        "colab_type": "code",
        "colab": {}
      },
      "source": [
        "# droping any NaN rows from our dataset, changing all string values to LowerCase, removing Date column as it doesnt seem to be of much use.\n",
        "totrainnlp = totrainnlp.dropna(how = 'any', axis = 0)\n",
        "totrainnlp.columns = totrainnlp.columns.str.lower()\n",
        "totrainnlp.reset_index(drop = True, inplace = True)\n",
        "totrainnlp['condition'].isnull().sum(axis = 0)\n",
        "#dropping unnecessary columns\n",
        "totrainnlp.drop(['date', 'sex', 'sides', 'condition', 'effectiveness', 'easeofuse', 'usefulcount', 'drug', 'drugid', 'age'], axis=1, inplace=True)\n",
        "totrainnlp = totrainnlp.drop_duplicates(subset=['reviews'], keep='first')"
      ],
      "execution_count": 6,
      "outputs": []
    },
    {
      "cell_type": "code",
      "metadata": {
        "id": "-pX1tJHiC1zQ",
        "colab_type": "code",
        "colab": {
          "base_uri": "https://localhost:8080/",
          "height": 77
        },
        "outputId": "e0695cc0-0f24-47c5-973d-7098c5e611e0"
      },
      "source": [
        "totrainnlp.head(1)"
      ],
      "execution_count": 7,
      "outputs": [
        {
          "output_type": "execute_result",
          "data": {
            "text/html": [
              "<div>\n",
              "<style scoped>\n",
              "    .dataframe tbody tr th:only-of-type {\n",
              "        vertical-align: middle;\n",
              "    }\n",
              "\n",
              "    .dataframe tbody tr th {\n",
              "        vertical-align: top;\n",
              "    }\n",
              "\n",
              "    .dataframe thead th {\n",
              "        text-align: right;\n",
              "    }\n",
              "</style>\n",
              "<table border=\"1\" class=\"dataframe\">\n",
              "  <thead>\n",
              "    <tr style=\"text-align: right;\">\n",
              "      <th></th>\n",
              "      <th>reviews</th>\n",
              "      <th>satisfaction</th>\n",
              "    </tr>\n",
              "  </thead>\n",
              "  <tbody>\n",
              "    <tr>\n",
              "      <th>0</th>\n",
              "      <td>I've been on prozac, zoloft and celexa over th...</td>\n",
              "      <td>5</td>\n",
              "    </tr>\n",
              "  </tbody>\n",
              "</table>\n",
              "</div>"
            ],
            "text/plain": [
              "                                             reviews  satisfaction\n",
              "0  I've been on prozac, zoloft and celexa over th...             5"
            ]
          },
          "metadata": {
            "tags": []
          },
          "execution_count": 7
        }
      ]
    },
    {
      "cell_type": "markdown",
      "metadata": {
        "id": "qJkSFk7Uump6",
        "colab_type": "text"
      },
      "source": [
        "### Resampling Dataset\n",
        "Here we have performed Data resampling, reason being we have 5 different classes for our dataset, and being a multi class problem it's better if we either Undersample or Oversample(SMOTE) our dataset, so to provide equal number of instances for each class.\n",
        "\n",
        "**We have performed Undersampling here, reason being dataset remains more closes to original values as it cuts down to the total number of instances present in dataset for any class**\n",
        "\n",
        "In counter1: It projects number of instances for each class, minimum being 8494 and maximum being 27616\n",
        "In counter 2: We can see the result of undersamlping our dataset. With equal instances of 8494 for each class."
      ]
    },
    {
      "cell_type": "code",
      "metadata": {
        "id": "di30muySyigE",
        "colab_type": "code",
        "colab": {
          "base_uri": "https://localhost:8080/",
          "height": 178
        },
        "outputId": "17e7dfb6-41c6-496a-9a48-76854a738241"
      },
      "source": [
        "# example of random undersampling to balance the class distribution\n",
        "from collections import Counter\n",
        "from sklearn.datasets import make_classification\n",
        "from imblearn.under_sampling import RandomUnderSampler\n",
        "# summarize class distribution in original dataset\n",
        "print(Counter(drugs['satisfaction']))\n",
        "# define undersample strategy, \"all\" metric suggests all classes will be undersampled to the least number of instances for any class.\n",
        "undersample = RandomUnderSampler(sampling_strategy='all')\n",
        "# fit and apply the transform\n",
        "X_over, y_over = undersample.fit_resample(drugs.drop(['satisfaction'], axis=1), drugs['satisfaction'])\n",
        "# summarize class distribution, we can check the result after Undersamlping.\n",
        "print(Counter(y_over))"
      ],
      "execution_count": 8,
      "outputs": [
        {
          "output_type": "stream",
          "text": [
            "/usr/local/lib/python3.6/dist-packages/sklearn/externals/six.py:31: FutureWarning: The module is deprecated in version 0.21 and will be removed in version 0.23 since we've dropped support for Python 2.7. Please rely on the official version of six (https://pypi.org/project/six/).\n",
            "  \"(https://pypi.org/project/six/).\", FutureWarning)\n",
            "/usr/local/lib/python3.6/dist-packages/sklearn/utils/deprecation.py:144: FutureWarning: The sklearn.neighbors.base module is  deprecated in version 0.22 and will be removed in version 0.24. The corresponding classes / functions should instead be imported from sklearn.neighbors. Anything that cannot be imported from sklearn.neighbors is now part of the private API.\n",
            "  warnings.warn(message, FutureWarning)\n"
          ],
          "name": "stderr"
        },
        {
          "output_type": "stream",
          "text": [
            "Counter({1.0: 27616, 5.0: 27277, 4.0: 14026, 3.0: 11424, 2.0: 8494})\n",
            "Counter({1.0: 8494, 2.0: 8494, 3.0: 8494, 4.0: 8494, 5.0: 8494})\n"
          ],
          "name": "stdout"
        },
        {
          "output_type": "stream",
          "text": [
            "/usr/local/lib/python3.6/dist-packages/sklearn/utils/deprecation.py:87: FutureWarning: Function safe_indexing is deprecated; safe_indexing is deprecated in version 0.22 and will be removed in version 0.24.\n",
            "  warnings.warn(msg, category=FutureWarning)\n"
          ],
          "name": "stderr"
        }
      ]
    },
    {
      "cell_type": "code",
      "metadata": {
        "id": "zMy5QDfWzwYI",
        "colab_type": "code",
        "colab": {}
      },
      "source": [
        "# Undersamlping was performed with Separately keeping in mind about our features(X_over) and targets(y_over).\n",
        "drugs=pd.DataFrame(X_over)\n",
        "drugs1=pd.DataFrame(y_over)"
      ],
      "execution_count": 9,
      "outputs": []
    },
    {
      "cell_type": "code",
      "metadata": {
        "id": "rmq2QdMc1Zst",
        "colab_type": "code",
        "colab": {
          "base_uri": "https://localhost:8080/",
          "height": 77
        },
        "outputId": "5f4b4d83-34a5-4d9f-8811-fc89b69a4d67"
      },
      "source": [
        "# After we perform Undersampling, system replaces the original column names with Index values, hence we're renaming our columns back to the Original names.\n",
        "drugs1.rename(columns={0:'satisfaction'}, inplace = True)\n",
        "drugs1.head(1)"
      ],
      "execution_count": 10,
      "outputs": [
        {
          "output_type": "execute_result",
          "data": {
            "text/html": [
              "<div>\n",
              "<style scoped>\n",
              "    .dataframe tbody tr th:only-of-type {\n",
              "        vertical-align: middle;\n",
              "    }\n",
              "\n",
              "    .dataframe tbody tr th {\n",
              "        vertical-align: top;\n",
              "    }\n",
              "\n",
              "    .dataframe thead th {\n",
              "        text-align: right;\n",
              "    }\n",
              "</style>\n",
              "<table border=\"1\" class=\"dataframe\">\n",
              "  <thead>\n",
              "    <tr style=\"text-align: right;\">\n",
              "      <th></th>\n",
              "      <th>satisfaction</th>\n",
              "    </tr>\n",
              "  </thead>\n",
              "  <tbody>\n",
              "    <tr>\n",
              "      <th>0</th>\n",
              "      <td>1.0</td>\n",
              "    </tr>\n",
              "  </tbody>\n",
              "</table>\n",
              "</div>"
            ],
            "text/plain": [
              "   satisfaction\n",
              "0           1.0"
            ]
          },
          "metadata": {
            "tags": []
          },
          "execution_count": 10
        }
      ]
    },
    {
      "cell_type": "code",
      "metadata": {
        "id": "C41_wBsBz5DK",
        "colab_type": "code",
        "colab": {
          "base_uri": "https://localhost:8080/",
          "height": 197
        },
        "outputId": "e0d275d6-e0aa-48a4-bbb4-6f5f7a36a302"
      },
      "source": [
        "drugs.rename(columns = {0:'condition', 1:'drug',2:'drugid',3:'easeofuse',4:'effectiveness',5:'reviews', 6:'usefulcount'}, inplace = True)\n",
        "drugs.head(5)"
      ],
      "execution_count": 11,
      "outputs": [
        {
          "output_type": "execute_result",
          "data": {
            "text/html": [
              "<div>\n",
              "<style scoped>\n",
              "    .dataframe tbody tr th:only-of-type {\n",
              "        vertical-align: middle;\n",
              "    }\n",
              "\n",
              "    .dataframe tbody tr th {\n",
              "        vertical-align: top;\n",
              "    }\n",
              "\n",
              "    .dataframe thead th {\n",
              "        text-align: right;\n",
              "    }\n",
              "</style>\n",
              "<table border=\"1\" class=\"dataframe\">\n",
              "  <thead>\n",
              "    <tr style=\"text-align: right;\">\n",
              "      <th></th>\n",
              "      <th>condition</th>\n",
              "      <th>drug</th>\n",
              "      <th>drugid</th>\n",
              "      <th>easeofuse</th>\n",
              "      <th>effectiveness</th>\n",
              "      <th>reviews</th>\n",
              "      <th>usefulcount</th>\n",
              "    </tr>\n",
              "  </thead>\n",
              "  <tbody>\n",
              "    <tr>\n",
              "      <th>0</th>\n",
              "      <td>Underactive Thyroid</td>\n",
              "      <td>synthroid</td>\n",
              "      <td>7033</td>\n",
              "      <td>3</td>\n",
              "      <td>1</td>\n",
              "      <td>medication is supposed to reduce fatigue and s...</td>\n",
              "      <td>15</td>\n",
              "    </tr>\n",
              "    <tr>\n",
              "      <th>1</th>\n",
              "      <td>Chronic Trouble Sleeping</td>\n",
              "      <td>zolpidem tartrate er</td>\n",
              "      <td>8862</td>\n",
              "      <td>3</td>\n",
              "      <td>2</td>\n",
              "      <td>For some reason, this particular Ambien CR doe...</td>\n",
              "      <td>5</td>\n",
              "    </tr>\n",
              "    <tr>\n",
              "      <th>2</th>\n",
              "      <td>Pain</td>\n",
              "      <td>tramadol hcl er</td>\n",
              "      <td>4398</td>\n",
              "      <td>5</td>\n",
              "      <td>1</td>\n",
              "      <td>Medication did not last the full 24 hours, onl...</td>\n",
              "      <td>1</td>\n",
              "    </tr>\n",
              "    <tr>\n",
              "      <th>3</th>\n",
              "      <td>Reddish Nodules Arranged in a Circle On the Skin</td>\n",
              "      <td>topicort spray, non-aerosol</td>\n",
              "      <td>5949</td>\n",
              "      <td>5</td>\n",
              "      <td>2</td>\n",
              "      <td>went back to dermatologist with spot on hand-s...</td>\n",
              "      <td>0</td>\n",
              "    </tr>\n",
              "    <tr>\n",
              "      <th>4</th>\n",
              "      <td>Other</td>\n",
              "      <td>meloxicam</td>\n",
              "      <td>911</td>\n",
              "      <td>3</td>\n",
              "      <td>1</td>\n",
              "      <td>My friend  suffered week long migraine.This pi...</td>\n",
              "      <td>5</td>\n",
              "    </tr>\n",
              "  </tbody>\n",
              "</table>\n",
              "</div>"
            ],
            "text/plain": [
              "                                          condition  ... usefulcount\n",
              "0                               Underactive Thyroid  ...          15\n",
              "1                          Chronic Trouble Sleeping  ...           5\n",
              "2                                              Pain  ...           1\n",
              "3  Reddish Nodules Arranged in a Circle On the Skin  ...           0\n",
              "4                                             Other  ...           5\n",
              "\n",
              "[5 rows x 7 columns]"
            ]
          },
          "metadata": {
            "tags": []
          },
          "execution_count": 11
        }
      ]
    },
    {
      "cell_type": "code",
      "metadata": {
        "id": "aTPJHSLE1soo",
        "colab_type": "code",
        "colab": {
          "base_uri": "https://localhost:8080/",
          "height": 77
        },
        "outputId": "80d99a8e-e1a2-4fe0-b89a-7edbc46cd848"
      },
      "source": [
        "# We need to concat our features(X_over) and targets(y_over) back in one dataset named Drugs\n",
        "drugs = pd.concat([drugs, drugs1], axis = 1)\n",
        "drugs.shape\n",
        "drugs.head(1)"
      ],
      "execution_count": 12,
      "outputs": [
        {
          "output_type": "execute_result",
          "data": {
            "text/html": [
              "<div>\n",
              "<style scoped>\n",
              "    .dataframe tbody tr th:only-of-type {\n",
              "        vertical-align: middle;\n",
              "    }\n",
              "\n",
              "    .dataframe tbody tr th {\n",
              "        vertical-align: top;\n",
              "    }\n",
              "\n",
              "    .dataframe thead th {\n",
              "        text-align: right;\n",
              "    }\n",
              "</style>\n",
              "<table border=\"1\" class=\"dataframe\">\n",
              "  <thead>\n",
              "    <tr style=\"text-align: right;\">\n",
              "      <th></th>\n",
              "      <th>condition</th>\n",
              "      <th>drug</th>\n",
              "      <th>drugid</th>\n",
              "      <th>easeofuse</th>\n",
              "      <th>effectiveness</th>\n",
              "      <th>reviews</th>\n",
              "      <th>usefulcount</th>\n",
              "      <th>satisfaction</th>\n",
              "    </tr>\n",
              "  </thead>\n",
              "  <tbody>\n",
              "    <tr>\n",
              "      <th>0</th>\n",
              "      <td>Underactive Thyroid</td>\n",
              "      <td>synthroid</td>\n",
              "      <td>7033</td>\n",
              "      <td>3</td>\n",
              "      <td>1</td>\n",
              "      <td>medication is supposed to reduce fatigue and s...</td>\n",
              "      <td>15</td>\n",
              "      <td>1.0</td>\n",
              "    </tr>\n",
              "  </tbody>\n",
              "</table>\n",
              "</div>"
            ],
            "text/plain": [
              "             condition       drug  ... usefulcount satisfaction\n",
              "0  Underactive Thyroid  synthroid  ...          15          1.0\n",
              "\n",
              "[1 rows x 8 columns]"
            ]
          },
          "metadata": {
            "tags": []
          },
          "execution_count": 12
        }
      ]
    },
    {
      "cell_type": "code",
      "metadata": {
        "id": "QjDGqGRG5j4d",
        "colab_type": "code",
        "colab": {}
      },
      "source": [
        "# shuffle data to prepare final dataset, coz after resampling our dataset was arranged in \n",
        "# ascending order of Target(y_over) values which is a problem for our Model Performance.\n",
        "drugs=drugs.sample(frac=1)"
      ],
      "execution_count": 13,
      "outputs": []
    },
    {
      "cell_type": "markdown",
      "metadata": {
        "_uuid": "78ba9cdda16fc81c70e845bff88e402f9345922c",
        "id": "6BRPIx2R7PJD",
        "colab_type": "text"
      },
      "source": [
        "## Data Glimpse\n",
        "\n",
        "We are willing to check if this dataset have some corrupted data or non present values. \n"
      ]
    },
    {
      "cell_type": "code",
      "metadata": {
        "trusted": true,
        "_uuid": "1958006c6caf1d44ec2a2c26b2fb987a658b123b",
        "id": "lrbF5-GF7PJH",
        "colab_type": "code",
        "colab": {
          "base_uri": "https://localhost:8080/",
          "height": 34
        },
        "outputId": "b5772db9-bc8f-48eb-e2f1-6d73dd4ad5fd"
      },
      "source": [
        "# Let's delete all of these corrupted rows\n",
        "print(\"Number of Corrupted Reviews: \", len(drugs[drugs.condition.str.contains(\" users found this comment helpful.\",na=False)]))\n",
        "drugs = drugs[~drugs.condition.str.contains(\" users found this comment helpful.\",na=False)]"
      ],
      "execution_count": 14,
      "outputs": [
        {
          "output_type": "stream",
          "text": [
            "Number of Corrupted Reviews:  0\n"
          ],
          "name": "stdout"
        }
      ]
    },
    {
      "cell_type": "code",
      "metadata": {
        "id": "eJ3YiKOH83gr",
        "colab_type": "code",
        "colab": {}
      },
      "source": [
        "# Converting desired columns in float dType.\n",
        "drugs['easeofuse']=drugs['easeofuse'].astype(float)\n",
        "drugs['effectiveness']=drugs['effectiveness'].astype(float)\n",
        "drugs['usefulcount']=drugs['usefulcount'].astype(float)\n",
        "drugs['drugid']=drugs['drugid'].astype(float)\n",
        "drugs['satisfaction']=drugs['satisfaction'].astype(float)"
      ],
      "execution_count": 15,
      "outputs": []
    },
    {
      "cell_type": "code",
      "metadata": {
        "trusted": true,
        "_uuid": "908dba91c19c44a2ca447a29e62ea8ec9a683b46",
        "id": "74F8yLtL7PJL",
        "colab_type": "code",
        "colab": {
          "base_uri": "https://localhost:8080/",
          "height": 287
        },
        "outputId": "32557266-c8ea-4f62-f6c5-ec24c1152775"
      },
      "source": [
        "drugs.describe()"
      ],
      "execution_count": 16,
      "outputs": [
        {
          "output_type": "execute_result",
          "data": {
            "text/html": [
              "<div>\n",
              "<style scoped>\n",
              "    .dataframe tbody tr th:only-of-type {\n",
              "        vertical-align: middle;\n",
              "    }\n",
              "\n",
              "    .dataframe tbody tr th {\n",
              "        vertical-align: top;\n",
              "    }\n",
              "\n",
              "    .dataframe thead th {\n",
              "        text-align: right;\n",
              "    }\n",
              "</style>\n",
              "<table border=\"1\" class=\"dataframe\">\n",
              "  <thead>\n",
              "    <tr style=\"text-align: right;\">\n",
              "      <th></th>\n",
              "      <th>drugid</th>\n",
              "      <th>easeofuse</th>\n",
              "      <th>effectiveness</th>\n",
              "      <th>usefulcount</th>\n",
              "      <th>satisfaction</th>\n",
              "    </tr>\n",
              "  </thead>\n",
              "  <tbody>\n",
              "    <tr>\n",
              "      <th>count</th>\n",
              "      <td>42470.000000</td>\n",
              "      <td>42470.000000</td>\n",
              "      <td>42470.000000</td>\n",
              "      <td>42470.000000</td>\n",
              "      <td>42470.00000</td>\n",
              "    </tr>\n",
              "    <tr>\n",
              "      <th>mean</th>\n",
              "      <td>46546.571227</td>\n",
              "      <td>4.019425</td>\n",
              "      <td>3.541559</td>\n",
              "      <td>6.956722</td>\n",
              "      <td>3.00000</td>\n",
              "    </tr>\n",
              "    <tr>\n",
              "      <th>std</th>\n",
              "      <td>58515.646694</td>\n",
              "      <td>1.261692</td>\n",
              "      <td>1.351659</td>\n",
              "      <td>8.970967</td>\n",
              "      <td>1.41423</td>\n",
              "    </tr>\n",
              "    <tr>\n",
              "      <th>min</th>\n",
              "      <td>1.000000</td>\n",
              "      <td>1.000000</td>\n",
              "      <td>1.000000</td>\n",
              "      <td>0.000000</td>\n",
              "      <td>1.00000</td>\n",
              "    </tr>\n",
              "    <tr>\n",
              "      <th>25%</th>\n",
              "      <td>6007.000000</td>\n",
              "      <td>3.000000</td>\n",
              "      <td>3.000000</td>\n",
              "      <td>1.000000</td>\n",
              "      <td>2.00000</td>\n",
              "    </tr>\n",
              "    <tr>\n",
              "      <th>50%</th>\n",
              "      <td>13028.000000</td>\n",
              "      <td>5.000000</td>\n",
              "      <td>4.000000</td>\n",
              "      <td>4.000000</td>\n",
              "      <td>3.00000</td>\n",
              "    </tr>\n",
              "    <tr>\n",
              "      <th>75%</th>\n",
              "      <td>78136.000000</td>\n",
              "      <td>5.000000</td>\n",
              "      <td>5.000000</td>\n",
              "      <td>9.000000</td>\n",
              "      <td>4.00000</td>\n",
              "    </tr>\n",
              "    <tr>\n",
              "      <th>max</th>\n",
              "      <td>177760.000000</td>\n",
              "      <td>5.000000</td>\n",
              "      <td>5.000000</td>\n",
              "      <td>178.000000</td>\n",
              "      <td>5.00000</td>\n",
              "    </tr>\n",
              "  </tbody>\n",
              "</table>\n",
              "</div>"
            ],
            "text/plain": [
              "              drugid     easeofuse  effectiveness   usefulcount  satisfaction\n",
              "count   42470.000000  42470.000000   42470.000000  42470.000000   42470.00000\n",
              "mean    46546.571227      4.019425       3.541559      6.956722       3.00000\n",
              "std     58515.646694      1.261692       1.351659      8.970967       1.41423\n",
              "min         1.000000      1.000000       1.000000      0.000000       1.00000\n",
              "25%      6007.000000      3.000000       3.000000      1.000000       2.00000\n",
              "50%     13028.000000      5.000000       4.000000      4.000000       3.00000\n",
              "75%     78136.000000      5.000000       5.000000      9.000000       4.00000\n",
              "max    177760.000000      5.000000       5.000000    178.000000       5.00000"
            ]
          },
          "metadata": {
            "tags": []
          },
          "execution_count": 16
        }
      ]
    },
    {
      "cell_type": "code",
      "metadata": {
        "trusted": true,
        "id": "RWA2D03i7PJP",
        "colab_type": "code",
        "colab": {
          "base_uri": "https://localhost:8080/",
          "height": 197
        },
        "outputId": "0a063c9f-0225-4184-a61c-5e2c162dcec1"
      },
      "source": [
        "### Thought flow for Depression Confidence Intervals\n",
        "\"\"\"\n",
        "I want to take the df, filter by condition, drug, confidence interval, sample size cutoff)\n",
        "Then loop through all the drugs for a specific condition and calculate their\n",
        "mean, top limit, and bottom limit. \n",
        "\"\"\"\n",
        "# Create Confidence Interval Function\n",
        "def confidence_interval (data, ci_percent):\n",
        "  data = np.array(data) # Makes sure our data is in a numpy array\n",
        "  mean = np.mean(data)\n",
        "  n = len(data)\n",
        "  stderr = stats.sem(data)\n",
        "  interval = stderr * stats.t.ppf((1 + ci_percent) / 2., n - 1)\n",
        "  return (mean, mean - interval, mean + interval)\n",
        "\n",
        "\n",
        "def condition_compare (drugs, condition_id, ci_percent, sample_size_cutoff):\n",
        "  output_names = [\"Drug Name\", \"Sample Mean\", \"Lower Bound\", \"Upper Bound\", \"Sample Size\"]\n",
        "  drug_compare = []\n",
        "  data = drugs[drugs.condition == condition_id]\n",
        "  for drug in data.drug.unique():\n",
        "    one_drug = data[data.drug == drug].satisfaction\n",
        "    if one_drug.size > sample_size_cutoff:\n",
        "      mean, ilower, iupper= confidence_interval(one_drug, ci_percent)\n",
        "      entry = [drug, mean, ilower, iupper, one_drug.size]\n",
        "      drug_compare.append(entry)\n",
        "  return pd.DataFrame(drug_compare, columns=output_names)\n",
        "\n",
        "# COndition passed on here by us is \"Cough\".\n",
        "drugs2 = condition_compare(drugs, \"Cough\", 0.95, 10).sort_values(by=\"Sample Mean\", ascending=False)\n",
        "drugs2"
      ],
      "execution_count": 17,
      "outputs": [
        {
          "output_type": "execute_result",
          "data": {
            "text/html": [
              "<div>\n",
              "<style scoped>\n",
              "    .dataframe tbody tr th:only-of-type {\n",
              "        vertical-align: middle;\n",
              "    }\n",
              "\n",
              "    .dataframe tbody tr th {\n",
              "        vertical-align: top;\n",
              "    }\n",
              "\n",
              "    .dataframe thead th {\n",
              "        text-align: right;\n",
              "    }\n",
              "</style>\n",
              "<table border=\"1\" class=\"dataframe\">\n",
              "  <thead>\n",
              "    <tr style=\"text-align: right;\">\n",
              "      <th></th>\n",
              "      <th>Drug Name</th>\n",
              "      <th>Sample Mean</th>\n",
              "      <th>Lower Bound</th>\n",
              "      <th>Upper Bound</th>\n",
              "      <th>Sample Size</th>\n",
              "    </tr>\n",
              "  </thead>\n",
              "  <tbody>\n",
              "    <tr>\n",
              "      <th>0</th>\n",
              "      <td>tussionex</td>\n",
              "      <td>4.062500</td>\n",
              "      <td>3.643467</td>\n",
              "      <td>4.481533</td>\n",
              "      <td>32</td>\n",
              "    </tr>\n",
              "    <tr>\n",
              "      <th>3</th>\n",
              "      <td>tessalon perle</td>\n",
              "      <td>3.318966</td>\n",
              "      <td>3.016425</td>\n",
              "      <td>3.621506</td>\n",
              "      <td>116</td>\n",
              "    </tr>\n",
              "    <tr>\n",
              "      <th>4</th>\n",
              "      <td>promethazine-codeine</td>\n",
              "      <td>3.200000</td>\n",
              "      <td>2.439540</td>\n",
              "      <td>3.960460</td>\n",
              "      <td>15</td>\n",
              "    </tr>\n",
              "    <tr>\n",
              "      <th>2</th>\n",
              "      <td>virtussin ac</td>\n",
              "      <td>3.000000</td>\n",
              "      <td>2.109462</td>\n",
              "      <td>3.890538</td>\n",
              "      <td>17</td>\n",
              "    </tr>\n",
              "    <tr>\n",
              "      <th>1</th>\n",
              "      <td>promethazine-dm</td>\n",
              "      <td>2.894737</td>\n",
              "      <td>2.215104</td>\n",
              "      <td>3.574370</td>\n",
              "      <td>19</td>\n",
              "    </tr>\n",
              "  </tbody>\n",
              "</table>\n",
              "</div>"
            ],
            "text/plain": [
              "              Drug Name  Sample Mean  Lower Bound  Upper Bound  Sample Size\n",
              "0             tussionex     4.062500     3.643467     4.481533           32\n",
              "3        tessalon perle     3.318966     3.016425     3.621506          116\n",
              "4  promethazine-codeine     3.200000     2.439540     3.960460           15\n",
              "2          virtussin ac     3.000000     2.109462     3.890538           17\n",
              "1       promethazine-dm     2.894737     2.215104     3.574370           19"
            ]
          },
          "metadata": {
            "tags": []
          },
          "execution_count": 17
        }
      ]
    },
    {
      "cell_type": "code",
      "metadata": {
        "id": "YfH81ZoYzS-q",
        "colab_type": "code",
        "colab": {
          "base_uri": "https://localhost:8080/",
          "height": 281
        },
        "outputId": "6a89ef03-6144-4a17-b6ea-95fadf5c65fe"
      },
      "source": [
        "#We have created a column named \"uniqueid\" for every row, to easen up our operations.\n",
        "drugs['uniqueid'] = np.arange(len(drugs))\n",
        "drugs.head()"
      ],
      "execution_count": 18,
      "outputs": [
        {
          "output_type": "execute_result",
          "data": {
            "text/html": [
              "<div>\n",
              "<style scoped>\n",
              "    .dataframe tbody tr th:only-of-type {\n",
              "        vertical-align: middle;\n",
              "    }\n",
              "\n",
              "    .dataframe tbody tr th {\n",
              "        vertical-align: top;\n",
              "    }\n",
              "\n",
              "    .dataframe thead th {\n",
              "        text-align: right;\n",
              "    }\n",
              "</style>\n",
              "<table border=\"1\" class=\"dataframe\">\n",
              "  <thead>\n",
              "    <tr style=\"text-align: right;\">\n",
              "      <th></th>\n",
              "      <th>condition</th>\n",
              "      <th>drug</th>\n",
              "      <th>drugid</th>\n",
              "      <th>easeofuse</th>\n",
              "      <th>effectiveness</th>\n",
              "      <th>reviews</th>\n",
              "      <th>usefulcount</th>\n",
              "      <th>satisfaction</th>\n",
              "      <th>uniqueid</th>\n",
              "    </tr>\n",
              "  </thead>\n",
              "  <tbody>\n",
              "    <tr>\n",
              "      <th>32079</th>\n",
              "      <td>Seasonal Runny Nose</td>\n",
              "      <td>zyrtec</td>\n",
              "      <td>12127.0</td>\n",
              "      <td>5.0</td>\n",
              "      <td>5.0</td>\n",
              "      <td>The best thing EVER for me. It took two days o...</td>\n",
              "      <td>0.0</td>\n",
              "      <td>4.0</td>\n",
              "      <td>0</td>\n",
              "    </tr>\n",
              "    <tr>\n",
              "      <th>3536</th>\n",
              "      <td>Depression</td>\n",
              "      <td>pristiq</td>\n",
              "      <td>150251.0</td>\n",
              "      <td>5.0</td>\n",
              "      <td>1.0</td>\n",
              "      <td>This was prescribed to my by a NP who felt tha...</td>\n",
              "      <td>10.0</td>\n",
              "      <td>1.0</td>\n",
              "      <td>1</td>\n",
              "    </tr>\n",
              "    <tr>\n",
              "      <th>16225</th>\n",
              "      <td>Condition in which Stomach Acid is Pushed Into...</td>\n",
              "      <td>pantoprazole sodium</td>\n",
              "      <td>17633.0</td>\n",
              "      <td>4.0</td>\n",
              "      <td>4.0</td>\n",
              "      <td>I have taken pantoprazole for over on month an...</td>\n",
              "      <td>22.0</td>\n",
              "      <td>2.0</td>\n",
              "      <td>2</td>\n",
              "    </tr>\n",
              "    <tr>\n",
              "      <th>40613</th>\n",
              "      <td>Weight Gain</td>\n",
              "      <td>phentermine hcl</td>\n",
              "      <td>4151.0</td>\n",
              "      <td>5.0</td>\n",
              "      <td>5.0</td>\n",
              "      <td>I found this medication VERY effective.  I was...</td>\n",
              "      <td>1.0</td>\n",
              "      <td>5.0</td>\n",
              "      <td>3</td>\n",
              "    </tr>\n",
              "    <tr>\n",
              "      <th>5486</th>\n",
              "      <td>Allergic Reaction caused by a Drug</td>\n",
              "      <td>prednisone tablet, delayed release (enteric co...</td>\n",
              "      <td>6007.0</td>\n",
              "      <td>2.0</td>\n",
              "      <td>1.0</td>\n",
              "      <td>Rapid heart beat, stomach issues, nervousness,...</td>\n",
              "      <td>0.0</td>\n",
              "      <td>1.0</td>\n",
              "      <td>4</td>\n",
              "    </tr>\n",
              "  </tbody>\n",
              "</table>\n",
              "</div>"
            ],
            "text/plain": [
              "                                               condition  ... uniqueid\n",
              "32079                                Seasonal Runny Nose  ...        0\n",
              "3536                                          Depression  ...        1\n",
              "16225  Condition in which Stomach Acid is Pushed Into...  ...        2\n",
              "40613                                        Weight Gain  ...        3\n",
              "5486                  Allergic Reaction caused by a Drug  ...        4\n",
              "\n",
              "[5 rows x 9 columns]"
            ]
          },
          "metadata": {
            "tags": []
          },
          "execution_count": 18
        }
      ]
    },
    {
      "cell_type": "code",
      "metadata": {
        "trusted": true,
        "_uuid": "cafe21fe35819e34426b87275a8a45accb8d0538",
        "id": "iz9v5wjz7PJR",
        "colab_type": "code",
        "colab": {
          "base_uri": "https://localhost:8080/",
          "height": 323
        },
        "outputId": "a5b730b4-1bce-48a9-91c4-b349f1c6e061"
      },
      "source": [
        "# We will use this groupings later on for Descriptive analysis...\n",
        "\n",
        "print(\"Number of Reviews per Drug\")\n",
        "# Number of reviews per drug\n",
        "reviews_per_drug = drugs.groupby([\"drug\"]).agg({\n",
        "    \"uniqueid\": pd.Series.nunique\n",
        "})\n",
        "reviews_per_drug.describe()\n",
        "\n",
        "\n",
        "print(\"Number of Reviews per Condition\")\n",
        "# Number of reviews per condition\n",
        "reviews_per_condition = drugs.groupby([\"condition\"]).agg({\n",
        "    \"uniqueid\": pd.Series.nunique\n",
        "})\n",
        "\n",
        "reviews_per_condition.describe()"
      ],
      "execution_count": 19,
      "outputs": [
        {
          "output_type": "stream",
          "text": [
            "Number of Reviews per Drug\n",
            "Number of Reviews per Condition\n"
          ],
          "name": "stdout"
        },
        {
          "output_type": "execute_result",
          "data": {
            "text/html": [
              "<div>\n",
              "<style scoped>\n",
              "    .dataframe tbody tr th:only-of-type {\n",
              "        vertical-align: middle;\n",
              "    }\n",
              "\n",
              "    .dataframe tbody tr th {\n",
              "        vertical-align: top;\n",
              "    }\n",
              "\n",
              "    .dataframe thead th {\n",
              "        text-align: right;\n",
              "    }\n",
              "</style>\n",
              "<table border=\"1\" class=\"dataframe\">\n",
              "  <thead>\n",
              "    <tr style=\"text-align: right;\">\n",
              "      <th></th>\n",
              "      <th>uniqueid</th>\n",
              "    </tr>\n",
              "  </thead>\n",
              "  <tbody>\n",
              "    <tr>\n",
              "      <th>count</th>\n",
              "      <td>942.000000</td>\n",
              "    </tr>\n",
              "    <tr>\n",
              "      <th>mean</th>\n",
              "      <td>45.084926</td>\n",
              "    </tr>\n",
              "    <tr>\n",
              "      <th>std</th>\n",
              "      <td>257.965298</td>\n",
              "    </tr>\n",
              "    <tr>\n",
              "      <th>min</th>\n",
              "      <td>1.000000</td>\n",
              "    </tr>\n",
              "    <tr>\n",
              "      <th>25%</th>\n",
              "      <td>1.000000</td>\n",
              "    </tr>\n",
              "    <tr>\n",
              "      <th>50%</th>\n",
              "      <td>5.000000</td>\n",
              "    </tr>\n",
              "    <tr>\n",
              "      <th>75%</th>\n",
              "      <td>18.000000</td>\n",
              "    </tr>\n",
              "    <tr>\n",
              "      <th>max</th>\n",
              "      <td>6066.000000</td>\n",
              "    </tr>\n",
              "  </tbody>\n",
              "</table>\n",
              "</div>"
            ],
            "text/plain": [
              "          uniqueid\n",
              "count   942.000000\n",
              "mean     45.084926\n",
              "std     257.965298\n",
              "min       1.000000\n",
              "25%       1.000000\n",
              "50%       5.000000\n",
              "75%      18.000000\n",
              "max    6066.000000"
            ]
          },
          "metadata": {
            "tags": []
          },
          "execution_count": 19
        }
      ]
    },
    {
      "cell_type": "code",
      "metadata": {
        "trusted": true,
        "id": "NJ1ZQlw07PJY",
        "colab_type": "code",
        "colab": {
          "base_uri": "https://localhost:8080/",
          "height": 281
        },
        "outputId": "42f6fad8-74a0-4d65-8c68-673415e97d73"
      },
      "source": [
        "# Conerting all reviews in our dataset, to lower case. for uniformity.\n",
        "drugs['reviews'] = drugs['reviews'].str.lower()\n",
        "drugs.head(5)"
      ],
      "execution_count": 20,
      "outputs": [
        {
          "output_type": "execute_result",
          "data": {
            "text/html": [
              "<div>\n",
              "<style scoped>\n",
              "    .dataframe tbody tr th:only-of-type {\n",
              "        vertical-align: middle;\n",
              "    }\n",
              "\n",
              "    .dataframe tbody tr th {\n",
              "        vertical-align: top;\n",
              "    }\n",
              "\n",
              "    .dataframe thead th {\n",
              "        text-align: right;\n",
              "    }\n",
              "</style>\n",
              "<table border=\"1\" class=\"dataframe\">\n",
              "  <thead>\n",
              "    <tr style=\"text-align: right;\">\n",
              "      <th></th>\n",
              "      <th>condition</th>\n",
              "      <th>drug</th>\n",
              "      <th>drugid</th>\n",
              "      <th>easeofuse</th>\n",
              "      <th>effectiveness</th>\n",
              "      <th>reviews</th>\n",
              "      <th>usefulcount</th>\n",
              "      <th>satisfaction</th>\n",
              "      <th>uniqueid</th>\n",
              "    </tr>\n",
              "  </thead>\n",
              "  <tbody>\n",
              "    <tr>\n",
              "      <th>32079</th>\n",
              "      <td>Seasonal Runny Nose</td>\n",
              "      <td>zyrtec</td>\n",
              "      <td>12127.0</td>\n",
              "      <td>5.0</td>\n",
              "      <td>5.0</td>\n",
              "      <td>the best thing ever for me. it took two days o...</td>\n",
              "      <td>0.0</td>\n",
              "      <td>4.0</td>\n",
              "      <td>0</td>\n",
              "    </tr>\n",
              "    <tr>\n",
              "      <th>3536</th>\n",
              "      <td>Depression</td>\n",
              "      <td>pristiq</td>\n",
              "      <td>150251.0</td>\n",
              "      <td>5.0</td>\n",
              "      <td>1.0</td>\n",
              "      <td>this was prescribed to my by a np who felt tha...</td>\n",
              "      <td>10.0</td>\n",
              "      <td>1.0</td>\n",
              "      <td>1</td>\n",
              "    </tr>\n",
              "    <tr>\n",
              "      <th>16225</th>\n",
              "      <td>Condition in which Stomach Acid is Pushed Into...</td>\n",
              "      <td>pantoprazole sodium</td>\n",
              "      <td>17633.0</td>\n",
              "      <td>4.0</td>\n",
              "      <td>4.0</td>\n",
              "      <td>i have taken pantoprazole for over on month an...</td>\n",
              "      <td>22.0</td>\n",
              "      <td>2.0</td>\n",
              "      <td>2</td>\n",
              "    </tr>\n",
              "    <tr>\n",
              "      <th>40613</th>\n",
              "      <td>Weight Gain</td>\n",
              "      <td>phentermine hcl</td>\n",
              "      <td>4151.0</td>\n",
              "      <td>5.0</td>\n",
              "      <td>5.0</td>\n",
              "      <td>i found this medication very effective.  i was...</td>\n",
              "      <td>1.0</td>\n",
              "      <td>5.0</td>\n",
              "      <td>3</td>\n",
              "    </tr>\n",
              "    <tr>\n",
              "      <th>5486</th>\n",
              "      <td>Allergic Reaction caused by a Drug</td>\n",
              "      <td>prednisone tablet, delayed release (enteric co...</td>\n",
              "      <td>6007.0</td>\n",
              "      <td>2.0</td>\n",
              "      <td>1.0</td>\n",
              "      <td>rapid heart beat, stomach issues, nervousness,...</td>\n",
              "      <td>0.0</td>\n",
              "      <td>1.0</td>\n",
              "      <td>4</td>\n",
              "    </tr>\n",
              "  </tbody>\n",
              "</table>\n",
              "</div>"
            ],
            "text/plain": [
              "                                               condition  ... uniqueid\n",
              "32079                                Seasonal Runny Nose  ...        0\n",
              "3536                                          Depression  ...        1\n",
              "16225  Condition in which Stomach Acid is Pushed Into...  ...        2\n",
              "40613                                        Weight Gain  ...        3\n",
              "5486                  Allergic Reaction caused by a Drug  ...        4\n",
              "\n",
              "[5 rows x 9 columns]"
            ]
          },
          "metadata": {
            "tags": []
          },
          "execution_count": 20
        }
      ]
    },
    {
      "cell_type": "markdown",
      "metadata": {
        "_uuid": "1bd4479c3cf50ef94ede37c534c614d63f281d09",
        "id": "mpPlGfl97PJb",
        "colab_type": "text"
      },
      "source": [
        "## Descriptive Analysis\n"
      ]
    },
    {
      "cell_type": "markdown",
      "metadata": {
        "_uuid": "21f27039787d989de7c88dd89b85ea1987018625",
        "id": "XZUrxpOI7PJc",
        "colab_type": "text"
      },
      "source": [
        "### Top 10 Reviewed Drugs"
      ]
    },
    {
      "cell_type": "code",
      "metadata": {
        "trusted": true,
        "_uuid": "f16ea5b368c49b31858d6eeafb59e76f6eaa0ef6",
        "id": "gYDXmEh97PJc",
        "colab_type": "code",
        "colab": {
          "base_uri": "https://localhost:8080/",
          "height": 514
        },
        "outputId": "6d9456ed-beb2-44f4-df91-d40cc0507392"
      },
      "source": [
        "# Top 10 most reviewed drug names\n",
        "plot = drugs.drug.value_counts().nlargest(10).plot(kind='bar', title=\"Top 10 reviewed drugs\", figsize=(12,6))"
      ],
      "execution_count": 21,
      "outputs": [
        {
          "output_type": "display_data",
          "data": {
            "image/png": "[encoded data removed]",
            "text/plain": [
              "<Figure size 864x432 with 1 Axes>"
            ]
          },
          "metadata": {
            "tags": []
          }
        }
      ]
    },
    {
      "cell_type": "markdown",
      "metadata": {
        "_uuid": "99e11383a879a953948824850dd53c3213b26da6",
        "id": "u8iBWtrj7PJf",
        "colab_type": "text"
      },
      "source": [
        "### Top 10 conditions undergoing by drug reviewers"
      ]
    },
    {
      "cell_type": "code",
      "metadata": {
        "trusted": true,
        "_uuid": "bff251a70cf485ee3cef2c5b778bea947f0d5a96",
        "id": "b2Wdswkx7PJg",
        "colab_type": "code",
        "colab": {
          "base_uri": "https://localhost:8080/",
          "height": 603
        },
        "outputId": "f150b10f-79b7-4958-903f-e65664384ffa"
      },
      "source": [
        "# Top 10 most suffered condition by reviewers\n",
        "plot = drugs.condition.value_counts().nlargest(10).plot(kind='bar', title=\"Top 10 conditions in reviews\", figsize=(12,6))"
      ],
      "execution_count": 22,
      "outputs": [
        {
          "output_type": "display_data",
          "data": {
            "image/png": "[encoded data removed]",
            "text/plain": [
              "<Figure size 864x432 with 1 Axes>"
            ]
          },
          "metadata": {
            "tags": []
          }
        }
      ]
    },
    {
      "cell_type": "markdown",
      "metadata": {
        "_uuid": "7e96f07fca2e6310085893f128d95a2a53a4f184",
        "id": "TmBO_Q687PJi",
        "colab_type": "text"
      },
      "source": [
        "### Top 10 drugs with best and worst rating\n",
        "\n",
        "When doing this analysis for all the drugs, there is a factor which affect the results: **the number of reviews of a drug**. I.e. if we want to compute the drug with best rating, the drug which in **only 1 review** was given a 10 rating would be in TOP 1. For this reason, we only consider drugs with a significant number of reviews. **A significant number of reviews is when the number of reviews for a drug is above the 75% of the number of reviews distribution per drug.**\n"
      ]
    },
    {
      "cell_type": "code",
      "metadata": {
        "trusted": true,
        "_uuid": "81b8bbe61ea3e8dcfb54d6eb89362c94a352e4bb",
        "id": "FFXcIGsw7PJj",
        "colab_type": "code",
        "colab": {
          "base_uri": "https://localhost:8080/",
          "height": 992
        },
        "outputId": "39fc8725-5963-42f6-abe6-ea4f60453ce8"
      },
      "source": [
        "drugs_rating = drugs.groupby('drug').agg({\n",
        "    'satisfaction': np.mean,\n",
        "    'uniqueid': pd.Series.nunique\n",
        "})\n",
        "\n",
        "print(\"Significant number of reviews: More than\", reviews_per_drug.quantile(q=0.75).values[0], \"reviews\")\n",
        "\n",
        "# We only use the drugs which number of reviews is higher than a threshold\n",
        "drugs_rating = drugs_rating[drugs_rating['uniqueid'] > int(reviews_per_drug.quantile(q=0.75))]\n",
        "\n",
        "# Top 10\n",
        "top_drugs_rating = drugs_rating.nlargest(10, 'satisfaction')\n",
        "plot = top_drugs_rating.plot(y='satisfaction', kind='bar', figsize = (16, 3))\n",
        "dummy = plt.title(\"Top 10 'significant' drugs with best rating\") # Assigned to variable to prevent output\n",
        "dummy = plt.ylim(4, 5) # Assigned to variable to prevent output\n",
        "\n",
        "# Bottom 10\n",
        "bottom_drugs_rating = drugs_rating.nsmallest(10, 'satisfaction')\n",
        "plot = bottom_drugs_rating.plot(y='satisfaction', kind='bar', figsize = (16, 3))\n",
        "dummy = plt.title(\"Top 10 'significant' drugs with worst rating\") # Assigned to variable to prevent output\n",
        "dummy = plt.ylim(1, 3) # Assigned to variable to prevent output"
      ],
      "execution_count": 23,
      "outputs": [
        {
          "output_type": "stream",
          "text": [
            "Significant number of reviews: More than 14.0 reviews\n"
          ],
          "name": "stdout"
        },
        {
          "output_type": "display_data",
          "data": {
            "image/png": "[encoded data removed]",
            "text/plain": [
              "<Figure size 1152x216 with 1 Axes>"
            ]
          },
          "metadata": {
            "tags": []
          }
        },
        {
          "output_type": "display_data",
          "data": {
            "image/png": "[encoded data removed]",
            "text/plain": [
              "<Figure size 1152x216 with 1 Axes>"
            ]
          },
          "metadata": {
            "tags": []
          }
        }
      ]
    },
    {
      "cell_type": "markdown",
      "metadata": {
        "_uuid": "d6d058a52a8a2e7b297679d2b5f5f8a351d1dffb",
        "id": "59vpYdmP7PJm",
        "colab_type": "text"
      },
      "source": [
        "### Analyzing Pairs (Drug, Condition) with best and worst ratings\n",
        "\n",
        "We theorize that the rating of a drug, is strongly related to the condition that the person who reviewed was suffering. We are going to compute the top 10 best and worst rating of reviews for (Drug, condition) pairs."
      ]
    },
    {
      "cell_type": "code",
      "metadata": {
        "trusted": true,
        "_uuid": "bdd2896065bcba7fe0f3acc83eba37fc1c53c545",
        "id": "Fj2G98887PJm",
        "colab_type": "code",
        "colab": {
          "base_uri": "https://localhost:8080/",
          "height": 1000
        },
        "outputId": "1a8c6e08-97a4-419a-8064-b2abad0f634c"
      },
      "source": [
        "drugs_condition_rating = drugs.groupby(['drug', 'condition']).agg({\n",
        "    'satisfaction': np.mean,\n",
        "    'uniqueid': pd.Series.nunique\n",
        "})\n",
        "\n",
        "print(\"Number of pairs (Drug, Condition):\", len(drugs_condition_rating))\n",
        "\n",
        "print(\"Significant number of reviews: More than\", drugs_condition_rating['uniqueid'].quantile(q=0.75), \"reviews\")\n",
        "\n",
        "drugs_condition_rating = drugs_condition_rating[drugs_condition_rating['uniqueid'] > int(drugs_condition_rating['uniqueid'].quantile(q=0.75))]\n",
        "# drugs_condition_rating.sort_values('rating', ascending=False)\n",
        "top_drugs_condition_rating = drugs_condition_rating.nlargest(10, 'satisfaction')\n",
        "plot = top_drugs_condition_rating.plot(y='satisfaction', kind='bar', figsize = (16, 3))\n",
        "dummy = plt.title(\"Top 10 (Drug - Condition) with best rating\") # Assigned to variable to prevent output\n",
        "dummy = plt.ylim(4, 5) # Assigned to variable to prevent output\n",
        "\n",
        "bottom_drugs_condition_rating = drugs_condition_rating.nsmallest(10, 'satisfaction')\n",
        "plot = bottom_drugs_condition_rating.plot(y='satisfaction', kind='bar', figsize = (16, 3))\n",
        "dummy = plt.title(\"Top 10 (Drug - Condition) with worst rating\") # Assigned to variable to prevent output\n",
        "dummy = plt.ylim(1, 3) # Assigned to variable to prevent output"
      ],
      "execution_count": 24,
      "outputs": [
        {
          "output_type": "stream",
          "text": [
            "Number of pairs (Drug, Condition): 4238\n",
            "Significant number of reviews: More than 7.0 reviews\n"
          ],
          "name": "stdout"
        },
        {
          "output_type": "display_data",
          "data": {
            "image/png": "[encoded data removed]",
            "text/plain": [
              "<Figure size 1152x216 with 1 Axes>"
            ]
          },
          "metadata": {
            "tags": []
          }
        },
        {
          "output_type": "display_data",
          "data": {
            "image/png": "[encoded data removed]",
            "text/plain": [
              "<Figure size 1152x216 with 1 Axes>"
            ]
          },
          "metadata": {
            "tags": []
          }
        }
      ]
    },
    {
      "cell_type": "markdown",
      "metadata": {
        "_uuid": "1f2fe1f3ad597c01b77ed36c8c0dc4e42824b85f",
        "id": "WAUBLIFT7PJp",
        "colab_type": "text"
      },
      "source": [
        "## Cleansing Op. on Reviews Column\n"
      ]
    },
    {
      "cell_type": "code",
      "metadata": {
        "trusted": true,
        "_uuid": "a120c3db91cf8281e954a2a9f95a99e5b1a1ba74",
        "id": "bzPLytVi7PJq",
        "colab_type": "code",
        "colab": {}
      },
      "source": [
        "# Function to perform cleansing operations on our Text column\n",
        "def clean_reviews(reviews):\n",
        "    \n",
        "    ## Remove puncuation\n",
        "    reviews = reviews.translate(string.punctuation)\n",
        "    \n",
        "    ## Convert words to lower case and split them\n",
        "    reviews = reviews.lower().split()\n",
        "    \n",
        "    ## Remove stop words\n",
        "    stops = set(stopwords.words(\"english\"))\n",
        "    reviews = [w for w in reviews if not w in stops and len(w) >= 3]\n",
        "    \n",
        "    reviews = \" \".join(reviews)\n",
        "\n",
        "    # Clean the reviews\n",
        "    reviews = re.sub(r\"[^A-Za-z0-9^,!.\\/'+-=]\", \" \", reviews)\n",
        "    reviews = re.sub(r\"what's\", \"what is \", reviews)\n",
        "    reviews = re.sub(r\"\\'s\", \" \", reviews)\n",
        "    reviews = re.sub(r\"\\'ve\", \" have \", reviews)\n",
        "    reviews = re.sub(r\"n't\", \" not \", reviews)\n",
        "    reviews = re.sub(r\"i'm\", \"i am \", reviews)\n",
        "    reviews = re.sub(r\"\\'re\", \" are \", reviews)\n",
        "    reviews = re.sub(r\"\\'d\", \" would \", reviews)\n",
        "    reviews = re.sub(r\"\\'ll\", \" will \", reviews)\n",
        "    reviews = re.sub(r\",\", \" \", reviews)\n",
        "    reviews = re.sub(r\"\\.\", \" \", reviews)\n",
        "    reviews = re.sub(r\"!\", \" ! \", reviews)\n",
        "    reviews = re.sub(r\"\\/\", \" \", reviews)\n",
        "    reviews = re.sub(r\"\\^\", \" ^ \", reviews)\n",
        "    reviews = re.sub(r\"\\+\", \" + \", reviews)\n",
        "    reviews = re.sub(r\"\\-\", \" - \", reviews)\n",
        "    reviews = re.sub(r\"\\=\", \" = \", reviews)\n",
        "    reviews = re.sub(r\"'\", \" \", reviews)\n",
        "    reviews = re.sub(r\"(\\d+)(k)\", r\"\\g<1>000\", reviews)\n",
        "    reviews = re.sub(r\":\", \" : \", reviews)\n",
        "    reviews = re.sub(r\" e g \", \" eg \", reviews)\n",
        "    reviews = re.sub(r\" b g \", \" bg \", reviews)\n",
        "    reviews = re.sub(r\" u s \", \" american \", reviews)\n",
        "    reviews = re.sub(r\"\\0s\", \"0\", reviews)\n",
        "    reviews = re.sub(r\" 9 11 \", \"911\", reviews)\n",
        "    reviews = re.sub(r\"e - mail\", \"email\", reviews)\n",
        "    reviews = re.sub(r\"j k\", \"jk\", reviews)\n",
        "    reviews = re.sub(r\"\\s{2,}\", \" \", reviews)\n",
        "    \n",
        "    reviews = reviews.split()\n",
        "    stemmer = SnowballStemmer('english')\n",
        "    stemmed_words = [stemmer.stem(word) for word in reviews]\n",
        "    reviews = \" \".join(stemmed_words)\n",
        "\n",
        "    return reviews"
      ],
      "execution_count": 25,
      "outputs": []
    },
    {
      "cell_type": "code",
      "metadata": {
        "trusted": true,
        "_uuid": "f0d8ef760881866f8548e0f6a5d8c026477c8550",
        "id": "gi9pWwKF7PJu",
        "colab_type": "code",
        "colab": {}
      },
      "source": [
        "drugs['reviews_clean'] = drugs['reviews'].map(lambda x: clean_reviews(x))"
      ],
      "execution_count": 26,
      "outputs": []
    },
    {
      "cell_type": "code",
      "metadata": {
        "trusted": true,
        "_uuid": "8a28655fc06b9e44c25b8e6a1b2fde6aa570bfbd",
        "id": "oJEk0jEl7PJx",
        "colab_type": "code",
        "colab": {
          "base_uri": "https://localhost:8080/",
          "height": 34
        },
        "outputId": "943499d4-8aac-4057-b461-27220e345442"
      },
      "source": [
        "drugs.shape"
      ],
      "execution_count": 27,
      "outputs": [
        {
          "output_type": "execute_result",
          "data": {
            "text/plain": [
              "(42470, 10)"
            ]
          },
          "metadata": {
            "tags": []
          },
          "execution_count": 27
        }
      ]
    },
    {
      "cell_type": "code",
      "metadata": {
        "id": "9YvMwVCstVnu",
        "colab_type": "code",
        "colab": {}
      },
      "source": [
        "# We have made a copy of our original dataset, for just in case.\n",
        "drugs_copy=drugs"
      ],
      "execution_count": 28,
      "outputs": []
    },
    {
      "cell_type": "markdown",
      "metadata": {
        "_uuid": "70e65bc849d8b7633facf67ff44e887af54b7def",
        "id": "b5fNu_LZ7PJ2",
        "colab_type": "text"
      },
      "source": [
        "## Sentiment Analysis\n",
        "\n",
        "Before doing this, **text** must be processed:\n",
        "\n",
        "- Punctuation signs are removed already in last step.\n",
        "- Removing special characters\n",
        "- Stemming\n",
        "- Removing Stopwords\n",
        "\n",
        "Although a RNN can learn dependencies however, it can only learn about recent information. LSTM can help solve this problem as it can understand context along with recent dependency. Hence, LSTM are a special kind of RNN where understanding context can help to be useful.\n",
        "LSTM networks are similar to RNNs with one major difference that hidden layer updates are replaced by memory cells. This makes them better at finding and exposing long range dependencies in data which is imperative for sentence structures. Image below shows a representation of LSTM sequence tagging model which has LSTM memory cells in place of hidden layers.\n",
        "-NLTK was the library used in this code file. With BeautifulSoup and Tensorflow.\n",
        "To transform each review into relevant rating for the drug, firstly NLP was performed on review columns only, separating it from the metadata.\n",
        "This contains just phrases. You must assign a sentiment label to each phrase.\n",
        "The sentiment labels are:\n",
        "1 - negative\n",
        "2 - somewhat negative\n",
        "3 - neutral\n",
        "4 - somewhat positive\n",
        "5 - positive\n"
      ]
    },
    {
      "cell_type": "markdown",
      "metadata": {
        "id": "u8nGwsugaGcT",
        "colab_type": "text"
      },
      "source": [
        "CNN LSTM\n",
        "- We're now trying to improve our operations on Reviews column using CNN+LSTM, the reason being, LSTM takes into consideration the sequences of our model in its Cell State, which is really important for any Text Data, coz it gives meaning to it.\n",
        "- \"I Love Dogs\" in this sequence is meaningful but \"Dog Love I\" sounds confusing. than again with longer text size, the sequences or order becomes more important.\n",
        "- We'll be using embedding layer for Word Embeddings, which helps us to see semantics or meaning behind \"Reviews\", being positive or negative.\n",
        "- Tokeniser helps in encoding our data\n",
        "- We have padded our Reviews accordingly, considering the maximum length of a Review."
      ]
    },
    {
      "cell_type": "markdown",
      "metadata": {
        "id": "1is62hom8kAN",
        "colab_type": "text"
      },
      "source": [
        "## LSTM Implementation"
      ]
    },
    {
      "cell_type": "code",
      "metadata": {
        "id": "fcxDmeJjk-na",
        "colab_type": "code",
        "colab": {
          "base_uri": "https://localhost:8080/",
          "height": 123
        },
        "outputId": "778221e2-6c7c-43e0-f1c6-5aa873ef9c80"
      },
      "source": [
        "# Keras\n",
        "from keras.preprocessing.text import Tokenizer\n",
        "from keras.preprocessing.sequence import pad_sequences\n",
        "from keras.models import Sequential\n",
        "from keras.layers import Dense, Flatten, LSTM, Conv1D, MaxPooling1D, Dropout, Activation\n",
        "from keras.layers.embeddings import Embedding\n",
        "from nltk.stem import WordNetLemmatizer\n",
        "lemmatizer = WordNetLemmatizer()\n",
        "from bs4 import BeautifulSoup\n",
        "from nltk.tokenize import word_tokenize\n",
        "import tensorflow as tf\n",
        "from keras.losses import categorical_crossentropy\n",
        "from keras.optimizers import Adam\n",
        "\n",
        "from tqdm import tqdm\n",
        "nltk.download('punkt') ## added for GoogleCollab\n",
        "nltk.download('wordnet') ## added for GoogleCollab"
      ],
      "execution_count": 29,
      "outputs": [
        {
          "output_type": "stream",
          "text": [
            "Using TensorFlow backend.\n"
          ],
          "name": "stderr"
        },
        {
          "output_type": "stream",
          "text": [
            "[nltk_data] Downloading package punkt to /root/nltk_data...\n",
            "[nltk_data]   Package punkt is already up-to-date!\n",
            "[nltk_data] Downloading package wordnet to /root/nltk_data...\n",
            "[nltk_data]   Package wordnet is already up-to-date!\n"
          ],
          "name": "stdout"
        },
        {
          "output_type": "execute_result",
          "data": {
            "text/plain": [
              "True"
            ]
          },
          "metadata": {
            "tags": []
          },
          "execution_count": 29
        }
      ]
    },
    {
      "cell_type": "code",
      "metadata": {
        "id": "bigAaMNEaAKm",
        "colab_type": "code",
        "colab": {}
      },
      "source": [
        "train_sentences = drugs['reviews'].map(lambda x: clean_reviews(x))\n",
        "train_sentences1 = totrainnlp['reviews'].map(lambda x: clean_reviews(x))"
      ],
      "execution_count": 30,
      "outputs": []
    },
    {
      "cell_type": "code",
      "metadata": {
        "id": "ohwG0XGcbMYj",
        "colab_type": "code",
        "colab": {}
      },
      "source": [
        "def clean_sentences(reviews):\n",
        "    reviews = []\n",
        "\n",
        "    for sent in tqdm(train_sentences):\n",
        "        \n",
        "        #remove html content\n",
        "        review_text = BeautifulSoup(sent).get_text()\n",
        "        \n",
        "        #remove non-alphabetic characters\n",
        "        review_text = re.sub(\"[^a-zA-Z]\",\" \", review_text)\n",
        "    \n",
        "        #tokenize the sentences\n",
        "        words = word_tokenize(review_text.lower())\n",
        "    \n",
        "        #lemmatize each word to its lemma\n",
        "        lemma_words = [lemmatizer.lemmatize(i) for i in words]\n",
        "    \n",
        "        reviews.append(lemma_words)\n",
        "\n",
        "    return(reviews)"
      ],
      "execution_count": 31,
      "outputs": []
    },
    {
      "cell_type": "code",
      "metadata": {
        "id": "6iEnvbDVDMzd",
        "colab_type": "code",
        "colab": {}
      },
      "source": [
        "def clean_sentences1(reviews):\n",
        "    reviews = []\n",
        "\n",
        "    for sent in tqdm(train_sentences1):\n",
        "        \n",
        "        #remove html content\n",
        "        review_text = BeautifulSoup(sent).get_text()\n",
        "        \n",
        "        #remove non-alphabetic characters\n",
        "        review_text = re.sub(\"[^a-zA-Z]\",\" \", review_text)\n",
        "    \n",
        "        #tokenize the sentences\n",
        "        words = word_tokenize(review_text.lower())\n",
        "    \n",
        "        #lemmatize each word to its lemma\n",
        "        lemma_words = [lemmatizer.lemmatize(i) for i in words]\n",
        "    \n",
        "        reviews.append(lemma_words)\n",
        "\n",
        "    return(reviews)\n"
      ],
      "execution_count": 32,
      "outputs": []
    },
    {
      "cell_type": "code",
      "metadata": {
        "id": "Mq3potOZba4v",
        "colab_type": "code",
        "colab": {
          "base_uri": "https://localhost:8080/",
          "height": 52
        },
        "outputId": "7497b5fa-5d2f-4eee-fcff-93010dac071b"
      },
      "source": [
        "train_sentences = clean_sentences(train_sentences)\n",
        "train_sentences1 = clean_sentences1(train_sentences1)"
      ],
      "execution_count": 33,
      "outputs": [
        {
          "output_type": "stream",
          "text": [
            "100%|██████████| 42470/42470 [00:29<00:00, 1464.24it/s]\n",
            "100%|██████████| 103148/103148 [01:04<00:00, 1590.26it/s]\n"
          ],
          "name": "stderr"
        }
      ]
    },
    {
      "cell_type": "code",
      "metadata": {
        "id": "9en9E_QMZ_hP",
        "colab_type": "code",
        "colab": {
          "base_uri": "https://localhost:8080/",
          "height": 70
        },
        "outputId": "a4aac960-4811-4a2d-fa7b-59a7fab89d8b"
      },
      "source": [
        "# Here we're trying to find the maximum length of any reviews given by Patient\n",
        "# Which will help us in padding our reviews in LSTM model.\n",
        "unique_words = set()\n",
        "len_max = 0\n",
        "\n",
        "for sent in tqdm(train_sentences):\n",
        "    \n",
        "    unique_words.update(sent)\n",
        "    \n",
        "    if(len_max<len(sent)):\n",
        "        len_max = len(sent)\n",
        "        \n",
        "#length of the list of unique_words gives the no of unique words\n",
        "print(len(list(unique_words)))\n",
        "print(len_max)"
      ],
      "execution_count": 34,
      "outputs": [
        {
          "output_type": "stream",
          "text": [
            "100%|██████████| 42470/42470 [00:00<00:00, 411793.74it/s]"
          ],
          "name": "stderr"
        },
        {
          "output_type": "stream",
          "text": [
            "27017\n",
            "239\n"
          ],
          "name": "stdout"
        },
        {
          "output_type": "stream",
          "text": [
            "\n"
          ],
          "name": "stderr"
        }
      ]
    },
    {
      "cell_type": "code",
      "metadata": {
        "id": "z057sUFiDjPZ",
        "colab_type": "code",
        "colab": {
          "base_uri": "https://localhost:8080/",
          "height": 70
        },
        "outputId": "5906636b-41a4-4032-940d-0a03c7fc3068"
      },
      "source": [
        "unique_words1 = set()\n",
        "len_max1 = 0\n",
        "\n",
        "for sent in tqdm(train_sentences1):\n",
        "    \n",
        "    unique_words1.update(sent)\n",
        "    \n",
        "    if(len_max1<len(sent)):\n",
        "        len_max1 = len(sent)\n",
        "        \n",
        "#length of the list of unique_words gives the no of unique words\n",
        "print(len(list(unique_words1)))\n",
        "print(len_max1)"
      ],
      "execution_count": 35,
      "outputs": [
        {
          "output_type": "stream",
          "text": [
            "100%|██████████| 103148/103148 [00:00<00:00, 416210.01it/s]"
          ],
          "name": "stderr"
        },
        {
          "output_type": "stream",
          "text": [
            "43941\n",
            "255\n"
          ],
          "name": "stdout"
        },
        {
          "output_type": "stream",
          "text": [
            "\n"
          ],
          "name": "stderr"
        }
      ]
    },
    {
      "cell_type": "code",
      "metadata": {
        "id": "8PWomkXIZ_By",
        "colab_type": "code",
        "colab": {}
      },
      "source": [
        "# oov_tok replaces unknown words with \"<OOV>\" as a value\n",
        "# incase truncating is requirred out model will do so behind the text rows.\n",
        "trunc_type='post'\n",
        "oov_tok=\"<OOV>\"\n",
        "tokenizer1 = Tokenizer(num_words= len(list(unique_words1)), oov_token=oov_tok)\n",
        "tokenizer1.fit_on_texts(train_sentences1)\n",
        "\n",
        "sequences1 = tokenizer1.texts_to_sequences(train_sentences1)\n",
        "data1 = pad_sequences(sequences1, maxlen=len_max, truncating=trunc_type)"
      ],
      "execution_count": 36,
      "outputs": []
    },
    {
      "cell_type": "code",
      "metadata": {
        "id": "AWl8u68db5pZ",
        "colab_type": "code",
        "colab": {}
      },
      "source": [
        "# Early stopping incase scores doesnt change aroung cycles.\n",
        "from keras.callbacks import EarlyStopping\n",
        "early_stopping = EarlyStopping(min_delta = 0.001, mode = 'max', monitor='val_auc', patience = 2)\n",
        "callback = [early_stopping]"
      ],
      "execution_count": 37,
      "outputs": []
    },
    {
      "cell_type": "code",
      "metadata": {
        "id": "1wn-eSYsb5Xp",
        "colab_type": "code",
        "colab": {}
      },
      "source": [
        "from keras.utils import to_categorical\n",
        "y_target=to_categorical(totrainnlp['satisfaction'])\n",
        "num_classes=y_target.shape[1]"
      ],
      "execution_count": 38,
      "outputs": []
    },
    {
      "cell_type": "code",
      "metadata": {
        "id": "-uAXAPfwcCAx",
        "colab_type": "code",
        "colab": {
          "base_uri": "https://localhost:8080/",
          "height": 34
        },
        "outputId": "61df96b3-e9c4-4033-b48d-0f56c4e1c6ee"
      },
      "source": [
        "num_classes"
      ],
      "execution_count": 39,
      "outputs": [
        {
          "output_type": "execute_result",
          "data": {
            "text/plain": [
              "6"
            ]
          },
          "metadata": {
            "tags": []
          },
          "execution_count": 39
        }
      ]
    },
    {
      "cell_type": "code",
      "metadata": {
        "id": "dt8ArWnlcBpo",
        "colab_type": "code",
        "colab": {}
      },
      "source": [
        "# we have used one LSTM layer for our operations, with a combination of a CNN Layer coz it really speeds up our task,\n",
        "# further Maxpooling helps in reducing the problem of high dimensionality coz LSTM would usually return 2D array.\n",
        "# Sigmoid activator is used coz we have binary(0/1) semantics for our reviews\n",
        "# Two layer LSTM can also be implmented(with return sequence \"True\" meaning the feedback cycle will be used) but \n",
        "# for now i have commented them out.\n",
        "\n",
        "def create_conv_model():\n",
        "    model_conv = Sequential()\n",
        "    model_conv.add(Embedding(len(list(unique_words1)), 300, input_length=len_max))\n",
        "    model_conv.add(Dropout(0.2))\n",
        "    model_conv.add(Conv1D(256, 5, activation='relu'))\n",
        "    model_conv.add(MaxPooling1D(pool_size=4))\n",
        "    model_conv.add(LSTM(128))\n",
        "    \n",
        "    model_conv.add(Dense(num_classes, activation='softmax'))\n",
        "    model_conv.compile(loss='categorical_crossentropy', optimizer=Adam(lr=0.001), metrics=[tf.keras.metrics.AUC()])\n",
        "    model_conv.summary()\n",
        "    return model_conv"
      ],
      "execution_count": 40,
      "outputs": []
    },
    {
      "cell_type": "code",
      "metadata": {
        "id": "kX3u6YSncOme",
        "colab_type": "code",
        "colab": {
          "base_uri": "https://localhost:8080/",
          "height": 372
        },
        "outputId": "d4c05ac3-adc8-4379-d8cd-961c104b35a5"
      },
      "source": [
        "model_conv = create_conv_model()"
      ],
      "execution_count": 41,
      "outputs": [
        {
          "output_type": "stream",
          "text": [
            "Model: \"sequential_1\"\n",
            "_________________________________________________________________\n",
            "Layer (type)                 Output Shape              Param #   \n",
            "=================================================================\n",
            "embedding_1 (Embedding)      (None, 239, 300)          13182300  \n",
            "_________________________________________________________________\n",
            "dropout_1 (Dropout)          (None, 239, 300)          0         \n",
            "_________________________________________________________________\n",
            "conv1d_1 (Conv1D)            (None, 235, 256)          384256    \n",
            "_________________________________________________________________\n",
            "max_pooling1d_1 (MaxPooling1 (None, 58, 256)           0         \n",
            "_________________________________________________________________\n",
            "lstm_1 (LSTM)                (None, 128)               197120    \n",
            "_________________________________________________________________\n",
            "dense_1 (Dense)              (None, 6)                 774       \n",
            "=================================================================\n",
            "Total params: 13,764,450\n",
            "Trainable params: 13,764,450\n",
            "Non-trainable params: 0\n",
            "_________________________________________________________________\n"
          ],
          "name": "stdout"
        }
      ]
    },
    {
      "cell_type": "code",
      "metadata": {
        "id": "9mIswX-6cOYC",
        "colab_type": "code",
        "colab": {
          "base_uri": "https://localhost:8080/",
          "height": 161
        },
        "outputId": "6ef178f1-36a3-4a8a-ebf6-cd2e1a865098"
      },
      "source": [
        "history =model_conv.fit(data1, y_target, validation_split=0.4, epochs = 2, callbacks=callback)"
      ],
      "execution_count": 42,
      "outputs": [
        {
          "output_type": "stream",
          "text": [
            "/usr/local/lib/python3.6/dist-packages/tensorflow/python/framework/indexed_slices.py:434: UserWarning: Converting sparse IndexedSlices to a dense Tensor of unknown shape. This may consume a large amount of memory.\n",
            "  \"Converting sparse IndexedSlices to a dense Tensor of unknown shape. \"\n"
          ],
          "name": "stderr"
        },
        {
          "output_type": "stream",
          "text": [
            "Train on 61888 samples, validate on 41260 samples\n",
            "Epoch 1/2\n",
            "61888/61888 [==============================] - 388s 6ms/step - loss: 1.3192 - auc: 0.7825 - val_loss: 1.2485 - val_auc: 0.8141\n",
            "Epoch 2/2\n",
            "61888/61888 [==============================] - 392s 6ms/step - loss: 1.1691 - auc: 0.8266 - val_loss: 1.2649 - val_auc: 0.8320\n"
          ],
          "name": "stdout"
        }
      ]
    },
    {
      "cell_type": "code",
      "metadata": {
        "id": "5HWX_A2NcXjE",
        "colab_type": "code",
        "colab": {
          "base_uri": "https://localhost:8080/",
          "height": 282
        },
        "outputId": "ca58288b-3201-4e6d-bdc4-e8537ef66658"
      },
      "source": [
        "# Create count of the number of epochs\n",
        "epoch_count = range(1, len(history.history['loss']) + 1)\n",
        "\n",
        "# Visualize learning curve. Here learning curve is not ideal. It should be much smoother as it decreases.\n",
        "#As mentioned before, altering different hyper parameters especially learning rate can have a positive impact\n",
        "#on accuracy and learning curve.\n",
        "plt.plot(epoch_count, history.history['loss'], 'r--')\n",
        "plt.plot(epoch_count, history.history['val_loss'], 'b--')\n",
        "plt.plot(epoch_count, history.history['auc'], 'g-')\n",
        "plt.plot(epoch_count, history.history['val_auc'], 'y-')\n",
        "plt.legend(['Training Loss', 'Validation Loss', 'Training AUC', 'Validation AUC'])\n",
        "plt.xlabel('Epoch')\n",
        "plt.ylabel('Loss')\n",
        "plt.show()"
      ],
      "execution_count": 43,
      "outputs": [
        {
          "output_type": "display_data",
          "data": {
            "image/png": "[encoded data removed]",
            "text/plain": [
              "<Figure size 432x288 with 1 Axes>"
            ]
          },
          "metadata": {
            "tags": []
          }
        }
      ]
    },
    {
      "cell_type": "code",
      "metadata": {
        "id": "CXUevouiIkwU",
        "colab_type": "code",
        "colab": {}
      },
      "source": [
        "# Predicting target values for Training dataset\n",
        "nlp_pred1=model_conv.predict_classes(data1)"
      ],
      "execution_count": 44,
      "outputs": []
    },
    {
      "cell_type": "code",
      "metadata": {
        "id": "Mw0J_7OfcgS4",
        "colab_type": "code",
        "colab": {
          "base_uri": "https://localhost:8080/",
          "height": 406
        },
        "outputId": "535bc5b1-aa6c-4982-e548-f19bbdbbd633"
      },
      "source": [
        "lstm_op1=pd.DataFrame(nlp_pred1)\n",
        "df_target=pd.DataFrame(y_target)\n",
        "\n",
        "df_target=df_target.idxmax(axis=1)\n",
        "df_target=pd.DataFrame(df_target)\n",
        "df_target"
      ],
      "execution_count": 45,
      "outputs": [
        {
          "output_type": "execute_result",
          "data": {
            "text/html": [
              "<div>\n",
              "<style scoped>\n",
              "    .dataframe tbody tr th:only-of-type {\n",
              "        vertical-align: middle;\n",
              "    }\n",
              "\n",
              "    .dataframe tbody tr th {\n",
              "        vertical-align: top;\n",
              "    }\n",
              "\n",
              "    .dataframe thead th {\n",
              "        text-align: right;\n",
              "    }\n",
              "</style>\n",
              "<table border=\"1\" class=\"dataframe\">\n",
              "  <thead>\n",
              "    <tr style=\"text-align: right;\">\n",
              "      <th></th>\n",
              "      <th>0</th>\n",
              "    </tr>\n",
              "  </thead>\n",
              "  <tbody>\n",
              "    <tr>\n",
              "      <th>0</th>\n",
              "      <td>5</td>\n",
              "    </tr>\n",
              "    <tr>\n",
              "      <th>1</th>\n",
              "      <td>2</td>\n",
              "    </tr>\n",
              "    <tr>\n",
              "      <th>2</th>\n",
              "      <td>4</td>\n",
              "    </tr>\n",
              "    <tr>\n",
              "      <th>3</th>\n",
              "      <td>2</td>\n",
              "    </tr>\n",
              "    <tr>\n",
              "      <th>4</th>\n",
              "      <td>1</td>\n",
              "    </tr>\n",
              "    <tr>\n",
              "      <th>...</th>\n",
              "      <td>...</td>\n",
              "    </tr>\n",
              "    <tr>\n",
              "      <th>103143</th>\n",
              "      <td>5</td>\n",
              "    </tr>\n",
              "    <tr>\n",
              "      <th>103144</th>\n",
              "      <td>1</td>\n",
              "    </tr>\n",
              "    <tr>\n",
              "      <th>103145</th>\n",
              "      <td>2</td>\n",
              "    </tr>\n",
              "    <tr>\n",
              "      <th>103146</th>\n",
              "      <td>5</td>\n",
              "    </tr>\n",
              "    <tr>\n",
              "      <th>103147</th>\n",
              "      <td>5</td>\n",
              "    </tr>\n",
              "  </tbody>\n",
              "</table>\n",
              "<p>103148 rows × 1 columns</p>\n",
              "</div>"
            ],
            "text/plain": [
              "        0\n",
              "0       5\n",
              "1       2\n",
              "2       4\n",
              "3       2\n",
              "4       1\n",
              "...    ..\n",
              "103143  5\n",
              "103144  1\n",
              "103145  2\n",
              "103146  5\n",
              "103147  5\n",
              "\n",
              "[103148 rows x 1 columns]"
            ]
          },
          "metadata": {
            "tags": []
          },
          "execution_count": 45
        }
      ]
    },
    {
      "cell_type": "code",
      "metadata": {
        "id": "-QgEdlaEVd0P",
        "colab_type": "code",
        "colab": {
          "base_uri": "https://localhost:8080/",
          "height": 406
        },
        "outputId": "ac056907-1f10-4679-9498-3b94e31f111b"
      },
      "source": [
        "lstm_op1"
      ],
      "execution_count": 46,
      "outputs": [
        {
          "output_type": "execute_result",
          "data": {
            "text/html": [
              "<div>\n",
              "<style scoped>\n",
              "    .dataframe tbody tr th:only-of-type {\n",
              "        vertical-align: middle;\n",
              "    }\n",
              "\n",
              "    .dataframe tbody tr th {\n",
              "        vertical-align: top;\n",
              "    }\n",
              "\n",
              "    .dataframe thead th {\n",
              "        text-align: right;\n",
              "    }\n",
              "</style>\n",
              "<table border=\"1\" class=\"dataframe\">\n",
              "  <thead>\n",
              "    <tr style=\"text-align: right;\">\n",
              "      <th></th>\n",
              "      <th>0</th>\n",
              "    </tr>\n",
              "  </thead>\n",
              "  <tbody>\n",
              "    <tr>\n",
              "      <th>0</th>\n",
              "      <td>5</td>\n",
              "    </tr>\n",
              "    <tr>\n",
              "      <th>1</th>\n",
              "      <td>1</td>\n",
              "    </tr>\n",
              "    <tr>\n",
              "      <th>2</th>\n",
              "      <td>5</td>\n",
              "    </tr>\n",
              "    <tr>\n",
              "      <th>3</th>\n",
              "      <td>5</td>\n",
              "    </tr>\n",
              "    <tr>\n",
              "      <th>4</th>\n",
              "      <td>1</td>\n",
              "    </tr>\n",
              "    <tr>\n",
              "      <th>...</th>\n",
              "      <td>...</td>\n",
              "    </tr>\n",
              "    <tr>\n",
              "      <th>103143</th>\n",
              "      <td>1</td>\n",
              "    </tr>\n",
              "    <tr>\n",
              "      <th>103144</th>\n",
              "      <td>1</td>\n",
              "    </tr>\n",
              "    <tr>\n",
              "      <th>103145</th>\n",
              "      <td>1</td>\n",
              "    </tr>\n",
              "    <tr>\n",
              "      <th>103146</th>\n",
              "      <td>5</td>\n",
              "    </tr>\n",
              "    <tr>\n",
              "      <th>103147</th>\n",
              "      <td>5</td>\n",
              "    </tr>\n",
              "  </tbody>\n",
              "</table>\n",
              "<p>103148 rows × 1 columns</p>\n",
              "</div>"
            ],
            "text/plain": [
              "        0\n",
              "0       5\n",
              "1       1\n",
              "2       5\n",
              "3       5\n",
              "4       1\n",
              "...    ..\n",
              "103143  1\n",
              "103144  1\n",
              "103145  1\n",
              "103146  5\n",
              "103147  5\n",
              "\n",
              "[103148 rows x 1 columns]"
            ]
          },
          "metadata": {
            "tags": []
          },
          "execution_count": 46
        }
      ]
    },
    {
      "cell_type": "code",
      "metadata": {
        "id": "vzPj-tylV_pC",
        "colab_type": "code",
        "colab": {
          "base_uri": "https://localhost:8080/",
          "height": 34
        },
        "outputId": "d527358e-03bb-41dc-807d-78343400ee3f"
      },
      "source": [
        "# ROC score between Target and predicted values for Trained dataset\n",
        "from sklearn.metrics import roc_auc_score\n",
        "from sklearn.preprocessing import LabelBinarizer\n",
        "\n",
        "lb = LabelBinarizer()\n",
        "lb.fit(df_target)\n",
        "y_test1 = lb.transform(df_target)\n",
        "y_pred1= lb.transform(lstm_op1)\n",
        "roc_auc_score_trainset=roc_auc_score(y_test1, y_pred1, average=\"macro\")\n",
        "roc_auc_score_trainset"
      ],
      "execution_count": 56,
      "outputs": [
        {
          "output_type": "execute_result",
          "data": {
            "text/plain": [
              "0.6396263461430765"
            ]
          },
          "metadata": {
            "tags": []
          },
          "execution_count": 56
        }
      ]
    },
    {
      "cell_type": "markdown",
      "metadata": {
        "id": "Qx3GMGkIVsb1",
        "colab_type": "text"
      },
      "source": [
        "### LSTM Test dataset"
      ]
    },
    {
      "cell_type": "code",
      "metadata": {
        "id": "_eeq-pHNICiR",
        "colab_type": "code",
        "colab": {}
      },
      "source": [
        "tokenizer = Tokenizer(num_words= len(list(unique_words1)), oov_token=oov_tok)\n",
        "tokenizer.fit_on_texts(train_sentences)\n",
        "\n",
        "sequences = tokenizer.texts_to_sequences(train_sentences)\n",
        "data = pad_sequences(sequences, maxlen=len_max, truncating=trunc_type)"
      ],
      "execution_count": 48,
      "outputs": []
    },
    {
      "cell_type": "code",
      "metadata": {
        "id": "Lk4tqVB7co_Y",
        "colab_type": "code",
        "colab": {}
      },
      "source": [
        "# # Predicting target values for Test dataset \"Drugs\" which is our main/core dataset\n",
        "nlp_pred=model_conv.predict_classes(data)"
      ],
      "execution_count": 49,
      "outputs": []
    },
    {
      "cell_type": "code",
      "metadata": {
        "id": "CemVfx5RIr4j",
        "colab_type": "code",
        "colab": {
          "base_uri": "https://localhost:8080/",
          "height": 406
        },
        "outputId": "e602c3e0-2142-46ba-b287-8dff22dcf399"
      },
      "source": [
        "lstm_op=pd.DataFrame(nlp_pred)\n",
        "lstm_op"
      ],
      "execution_count": 50,
      "outputs": [
        {
          "output_type": "execute_result",
          "data": {
            "text/html": [
              "<div>\n",
              "<style scoped>\n",
              "    .dataframe tbody tr th:only-of-type {\n",
              "        vertical-align: middle;\n",
              "    }\n",
              "\n",
              "    .dataframe tbody tr th {\n",
              "        vertical-align: top;\n",
              "    }\n",
              "\n",
              "    .dataframe thead th {\n",
              "        text-align: right;\n",
              "    }\n",
              "</style>\n",
              "<table border=\"1\" class=\"dataframe\">\n",
              "  <thead>\n",
              "    <tr style=\"text-align: right;\">\n",
              "      <th></th>\n",
              "      <th>0</th>\n",
              "    </tr>\n",
              "  </thead>\n",
              "  <tbody>\n",
              "    <tr>\n",
              "      <th>0</th>\n",
              "      <td>5</td>\n",
              "    </tr>\n",
              "    <tr>\n",
              "      <th>1</th>\n",
              "      <td>5</td>\n",
              "    </tr>\n",
              "    <tr>\n",
              "      <th>2</th>\n",
              "      <td>1</td>\n",
              "    </tr>\n",
              "    <tr>\n",
              "      <th>3</th>\n",
              "      <td>5</td>\n",
              "    </tr>\n",
              "    <tr>\n",
              "      <th>4</th>\n",
              "      <td>5</td>\n",
              "    </tr>\n",
              "    <tr>\n",
              "      <th>...</th>\n",
              "      <td>...</td>\n",
              "    </tr>\n",
              "    <tr>\n",
              "      <th>42465</th>\n",
              "      <td>1</td>\n",
              "    </tr>\n",
              "    <tr>\n",
              "      <th>42466</th>\n",
              "      <td>1</td>\n",
              "    </tr>\n",
              "    <tr>\n",
              "      <th>42467</th>\n",
              "      <td>5</td>\n",
              "    </tr>\n",
              "    <tr>\n",
              "      <th>42468</th>\n",
              "      <td>1</td>\n",
              "    </tr>\n",
              "    <tr>\n",
              "      <th>42469</th>\n",
              "      <td>3</td>\n",
              "    </tr>\n",
              "  </tbody>\n",
              "</table>\n",
              "<p>42470 rows × 1 columns</p>\n",
              "</div>"
            ],
            "text/plain": [
              "       0\n",
              "0      5\n",
              "1      5\n",
              "2      1\n",
              "3      5\n",
              "4      5\n",
              "...   ..\n",
              "42465  1\n",
              "42466  1\n",
              "42467  5\n",
              "42468  1\n",
              "42469  3\n",
              "\n",
              "[42470 rows x 1 columns]"
            ]
          },
          "metadata": {
            "tags": []
          },
          "execution_count": 50
        }
      ]
    },
    {
      "cell_type": "code",
      "metadata": {
        "id": "5nRx_W86OgpP",
        "colab_type": "code",
        "colab": {
          "base_uri": "https://localhost:8080/",
          "height": 406
        },
        "outputId": "50fa4775-c692-4524-e5d6-c926a5823a3a"
      },
      "source": [
        "y_target1=to_categorical(drugs['satisfaction'])\n",
        "df_target1=pd.DataFrame(y_target1)\n",
        "df_target1=df_target1.idxmax(axis=1)\n",
        "df_target1=pd.DataFrame(df_target1)\n",
        "df_target1"
      ],
      "execution_count": 51,
      "outputs": [
        {
          "output_type": "execute_result",
          "data": {
            "text/html": [
              "<div>\n",
              "<style scoped>\n",
              "    .dataframe tbody tr th:only-of-type {\n",
              "        vertical-align: middle;\n",
              "    }\n",
              "\n",
              "    .dataframe tbody tr th {\n",
              "        vertical-align: top;\n",
              "    }\n",
              "\n",
              "    .dataframe thead th {\n",
              "        text-align: right;\n",
              "    }\n",
              "</style>\n",
              "<table border=\"1\" class=\"dataframe\">\n",
              "  <thead>\n",
              "    <tr style=\"text-align: right;\">\n",
              "      <th></th>\n",
              "      <th>0</th>\n",
              "    </tr>\n",
              "  </thead>\n",
              "  <tbody>\n",
              "    <tr>\n",
              "      <th>0</th>\n",
              "      <td>4</td>\n",
              "    </tr>\n",
              "    <tr>\n",
              "      <th>1</th>\n",
              "      <td>1</td>\n",
              "    </tr>\n",
              "    <tr>\n",
              "      <th>2</th>\n",
              "      <td>2</td>\n",
              "    </tr>\n",
              "    <tr>\n",
              "      <th>3</th>\n",
              "      <td>5</td>\n",
              "    </tr>\n",
              "    <tr>\n",
              "      <th>4</th>\n",
              "      <td>1</td>\n",
              "    </tr>\n",
              "    <tr>\n",
              "      <th>...</th>\n",
              "      <td>...</td>\n",
              "    </tr>\n",
              "    <tr>\n",
              "      <th>42465</th>\n",
              "      <td>5</td>\n",
              "    </tr>\n",
              "    <tr>\n",
              "      <th>42466</th>\n",
              "      <td>5</td>\n",
              "    </tr>\n",
              "    <tr>\n",
              "      <th>42467</th>\n",
              "      <td>3</td>\n",
              "    </tr>\n",
              "    <tr>\n",
              "      <th>42468</th>\n",
              "      <td>3</td>\n",
              "    </tr>\n",
              "    <tr>\n",
              "      <th>42469</th>\n",
              "      <td>1</td>\n",
              "    </tr>\n",
              "  </tbody>\n",
              "</table>\n",
              "<p>42470 rows × 1 columns</p>\n",
              "</div>"
            ],
            "text/plain": [
              "       0\n",
              "0      4\n",
              "1      1\n",
              "2      2\n",
              "3      5\n",
              "4      1\n",
              "...   ..\n",
              "42465  5\n",
              "42466  5\n",
              "42467  3\n",
              "42468  3\n",
              "42469  1\n",
              "\n",
              "[42470 rows x 1 columns]"
            ]
          },
          "metadata": {
            "tags": []
          },
          "execution_count": 51
        }
      ]
    },
    {
      "cell_type": "code",
      "metadata": {
        "id": "YPUVEqFNO-Gj",
        "colab_type": "code",
        "colab": {
          "base_uri": "https://localhost:8080/",
          "height": 34
        },
        "outputId": "804a218b-1ea8-4435-a573-0946e8bc56a5"
      },
      "source": [
        "# ROC score between Target and predicted values for Test dataset \"Drugs\"\n",
        "lb.fit(df_target1)\n",
        "y_test1 = lb.transform(df_target1)\n",
        "y_pred1= lb.transform(lstm_op)\n",
        "roc_auc_score_testset=roc_auc_score(y_test1, y_pred1, average=\"macro\")\n",
        "roc_auc_score_testset"
      ],
      "execution_count": 59,
      "outputs": [
        {
          "output_type": "execute_result",
          "data": {
            "text/plain": [
              "0.5019719802213327"
            ]
          },
          "metadata": {
            "tags": []
          },
          "execution_count": 59
        }
      ]
    },
    {
      "cell_type": "code",
      "metadata": {
        "id": "cIkyJsm2ltg1",
        "colab_type": "code",
        "colab": {
          "base_uri": "https://localhost:8080/",
          "height": 406
        },
        "outputId": "df79f744-11a9-4884-eb1b-05959cf06687"
      },
      "source": [
        "lstm_op.rename(columns = {0:'lstm_score'}, inplace = True)\n",
        "lstm_op"
      ],
      "execution_count": 63,
      "outputs": [
        {
          "output_type": "execute_result",
          "data": {
            "text/html": [
              "<div>\n",
              "<style scoped>\n",
              "    .dataframe tbody tr th:only-of-type {\n",
              "        vertical-align: middle;\n",
              "    }\n",
              "\n",
              "    .dataframe tbody tr th {\n",
              "        vertical-align: top;\n",
              "    }\n",
              "\n",
              "    .dataframe thead th {\n",
              "        text-align: right;\n",
              "    }\n",
              "</style>\n",
              "<table border=\"1\" class=\"dataframe\">\n",
              "  <thead>\n",
              "    <tr style=\"text-align: right;\">\n",
              "      <th></th>\n",
              "      <th>lstm_score</th>\n",
              "    </tr>\n",
              "  </thead>\n",
              "  <tbody>\n",
              "    <tr>\n",
              "      <th>0</th>\n",
              "      <td>5</td>\n",
              "    </tr>\n",
              "    <tr>\n",
              "      <th>1</th>\n",
              "      <td>5</td>\n",
              "    </tr>\n",
              "    <tr>\n",
              "      <th>2</th>\n",
              "      <td>1</td>\n",
              "    </tr>\n",
              "    <tr>\n",
              "      <th>3</th>\n",
              "      <td>5</td>\n",
              "    </tr>\n",
              "    <tr>\n",
              "      <th>4</th>\n",
              "      <td>5</td>\n",
              "    </tr>\n",
              "    <tr>\n",
              "      <th>...</th>\n",
              "      <td>...</td>\n",
              "    </tr>\n",
              "    <tr>\n",
              "      <th>42465</th>\n",
              "      <td>1</td>\n",
              "    </tr>\n",
              "    <tr>\n",
              "      <th>42466</th>\n",
              "      <td>1</td>\n",
              "    </tr>\n",
              "    <tr>\n",
              "      <th>42467</th>\n",
              "      <td>5</td>\n",
              "    </tr>\n",
              "    <tr>\n",
              "      <th>42468</th>\n",
              "      <td>1</td>\n",
              "    </tr>\n",
              "    <tr>\n",
              "      <th>42469</th>\n",
              "      <td>3</td>\n",
              "    </tr>\n",
              "  </tbody>\n",
              "</table>\n",
              "<p>42470 rows × 1 columns</p>\n",
              "</div>"
            ],
            "text/plain": [
              "       lstm_score\n",
              "0               5\n",
              "1               5\n",
              "2               1\n",
              "3               5\n",
              "4               5\n",
              "...           ...\n",
              "42465           1\n",
              "42466           1\n",
              "42467           5\n",
              "42468           1\n",
              "42469           3\n",
              "\n",
              "[42470 rows x 1 columns]"
            ]
          },
          "metadata": {
            "tags": []
          },
          "execution_count": 63
        }
      ]
    },
    {
      "cell_type": "code",
      "metadata": {
        "id": "gBDb-rdtc1nL",
        "colab_type": "code",
        "colab": {}
      },
      "source": [
        "drugs = pd.concat([drugs_copy.reset_index(), lstm_op.reset_index()], axis = 1)"
      ],
      "execution_count": 64,
      "outputs": []
    },
    {
      "cell_type": "code",
      "metadata": {
        "id": "Azz3lgLcc66Y",
        "colab_type": "code",
        "colab": {
          "base_uri": "https://localhost:8080/",
          "height": 94
        },
        "outputId": "d239854c-c5a3-4ac1-990d-95a67061c03e"
      },
      "source": [
        "drugs.drop(['index'], axis=1, inplace=True)\n",
        "drugs.head(1)"
      ],
      "execution_count": 65,
      "outputs": [
        {
          "output_type": "execute_result",
          "data": {
            "text/html": [
              "<div>\n",
              "<style scoped>\n",
              "    .dataframe tbody tr th:only-of-type {\n",
              "        vertical-align: middle;\n",
              "    }\n",
              "\n",
              "    .dataframe tbody tr th {\n",
              "        vertical-align: top;\n",
              "    }\n",
              "\n",
              "    .dataframe thead th {\n",
              "        text-align: right;\n",
              "    }\n",
              "</style>\n",
              "<table border=\"1\" class=\"dataframe\">\n",
              "  <thead>\n",
              "    <tr style=\"text-align: right;\">\n",
              "      <th></th>\n",
              "      <th>condition</th>\n",
              "      <th>drug</th>\n",
              "      <th>drugid</th>\n",
              "      <th>easeofuse</th>\n",
              "      <th>effectiveness</th>\n",
              "      <th>reviews</th>\n",
              "      <th>usefulcount</th>\n",
              "      <th>satisfaction</th>\n",
              "      <th>uniqueid</th>\n",
              "      <th>reviews_clean</th>\n",
              "      <th>lstm_score</th>\n",
              "    </tr>\n",
              "  </thead>\n",
              "  <tbody>\n",
              "    <tr>\n",
              "      <th>0</th>\n",
              "      <td>Seasonal Runny Nose</td>\n",
              "      <td>zyrtec</td>\n",
              "      <td>12127.0</td>\n",
              "      <td>5.0</td>\n",
              "      <td>5.0</td>\n",
              "      <td>the best thing ever for me. it took two days o...</td>\n",
              "      <td>0.0</td>\n",
              "      <td>4.0</td>\n",
              "      <td>0</td>\n",
              "      <td>best thing ever me took two day use otc kick t...</td>\n",
              "      <td>5</td>\n",
              "    </tr>\n",
              "  </tbody>\n",
              "</table>\n",
              "</div>"
            ],
            "text/plain": [
              "             condition  ... lstm_score\n",
              "0  Seasonal Runny Nose  ...          5\n",
              "\n",
              "[1 rows x 11 columns]"
            ]
          },
          "metadata": {
            "tags": []
          },
          "execution_count": 65
        }
      ]
    },
    {
      "cell_type": "markdown",
      "metadata": {
        "id": "_AXFEXYQ-iWd",
        "colab_type": "text"
      },
      "source": [
        "## Feature Engineering\n",
        "We're trying to extract more information from \"Reviews\" column via Feature engineering process. Further we'll optimise the use of these features accordingly depending upon the **Importance and Feature Selection process**"
      ]
    },
    {
      "cell_type": "code",
      "metadata": {
        "trusted": true,
        "_uuid": "c67dafd5a56dfbe0ce25b56bb7763b7dcc8d9d18",
        "id": "rGGLWsjO7PJ5",
        "colab_type": "code",
        "colab": {
          "base_uri": "https://localhost:8080/",
          "height": 52
        },
        "outputId": "c20e30c3-99ec-4b39-c4d9-434cde3894ec"
      },
      "source": [
        "#Word count in each review\n",
        "drugs['count_word']=drugs[\"reviews_clean\"].apply(lambda x: len(str(x).split()))\n",
        "\n",
        "#Unique word count \n",
        "drugs['count_unique_word']=drugs[\"reviews_clean\"].apply(lambda x: len(set(str(x).split())))\n",
        "\n",
        "#Letter count\n",
        "drugs['count_letters']=drugs[\"reviews_clean\"].apply(lambda x: len(str(x)))\n",
        "\n",
        "#punctuation count\n",
        "drugs[\"count_punctuations\"] = drugs[\"reviews\"].apply(lambda x: len([c for c in str(x) if c in string.punctuation]))\n",
        "\n",
        "\n",
        "#Number of stopwords\n",
        "stops = set(stopwords.words(\"english\"))\n",
        "drugs[\"count_stopwords\"] = drugs[\"reviews\"].apply(lambda x: len([w for w in str(x).lower().split() if w in stops]))\n",
        "\n",
        "#Average length of the words\n",
        "drugs[\"mean_word_len\"] = drugs[\"reviews_clean\"].apply(lambda x: np.mean([len(w) for w in str(x).split()]))"
      ],
      "execution_count": 66,
      "outputs": [
        {
          "output_type": "stream",
          "text": [
            "/usr/local/lib/python3.6/dist-packages/numpy/core/fromnumeric.py:3335: RuntimeWarning: Mean of empty slice.\n",
            "  out=out, **kwargs)\n"
          ],
          "name": "stderr"
        }
      ]
    },
    {
      "cell_type": "code",
      "metadata": {
        "trusted": true,
        "_uuid": "f2471e72f47ee19eecd4252f1dd96940308b009f",
        "id": "Sd-jPhEl7PJ_",
        "colab_type": "code",
        "colab": {}
      },
      "source": [
        "# Label Encoding Conditions\n",
        "from sklearn.preprocessing import LabelEncoder\n",
        "label_encoder_feat = {}\n",
        "for feature in ['condition']:\n",
        "    label_encoder_feat[feature] = LabelEncoder()\n",
        "    drugs[feature] = label_encoder_feat[feature].fit_transform(drugs[feature])"
      ],
      "execution_count": 67,
      "outputs": []
    },
    {
      "cell_type": "code",
      "metadata": {
        "id": "Hb5OIlubD5sm",
        "colab_type": "code",
        "colab": {}
      },
      "source": [
        "corr=drugs.corr(method ='pearson')"
      ],
      "execution_count": 68,
      "outputs": []
    },
    {
      "cell_type": "code",
      "metadata": {
        "id": "eIlThq6pEhwh",
        "colab_type": "code",
        "colab": {
          "base_uri": "https://localhost:8080/",
          "height": 280
        },
        "outputId": "73b6de07-1e31-4e8b-a012-f389ce40d52f"
      },
      "source": [
        "cmap = cmap=sns.diverging_palette(5, 250, as_cmap=True)\n",
        "\n",
        "def magnify():\n",
        "    return [dict(selector=\"th\",\n",
        "                 props=[(\"font-size\", \"7pt\")]),\n",
        "            dict(selector=\"td\",\n",
        "                 props=[('padding', \"0em 0em\")]),\n",
        "            dict(selector=\"th:hover\",\n",
        "                 props=[(\"font-size\", \"12pt\")]),\n",
        "            dict(selector=\"tr:hover td:hover\",\n",
        "                 props=[('max-width', '200px'),\n",
        "                        ('font-size', '12pt')])\n",
        "]\n",
        "\n",
        "corr.style.background_gradient(cmap, axis=1)\\\n",
        "    .set_properties(**{'max-width': '80px', 'font-size': '10pt'})\\\n",
        "    .set_caption(\"Hover to magify\")\\\n",
        "    .set_precision(2)\\\n",
        "    .set_table_styles(magnify())"
      ],
      "execution_count": 69,
      "outputs": [
        {
          "output_type": "execute_result",
          "data": {
            "text/html": [
              "<style  type=\"text/css\" >\n",
              "    #T_3c98c224_c7ae_11ea_a0e8_0242ac1c0002 th {\n",
              "          font-size: 7pt;\n",
              "    }    #T_3c98c224_c7ae_11ea_a0e8_0242ac1c0002 td {\n",
              "          padding: 0em 0em;\n",
              "    }    #T_3c98c224_c7ae_11ea_a0e8_0242ac1c0002 th:hover {\n",
              "          font-size: 12pt;\n",
              "    }    #T_3c98c224_c7ae_11ea_a0e8_0242ac1c0002 tr:hover td:hover {\n",
              "          max-width: 200px;\n",
              "          font-size: 12pt;\n",
              "    }    #T_3c98c224_c7ae_11ea_a0e8_0242ac1c0002row0_col0 {\n",
              "            background-color:  #4479bb;\n",
              "            color:  #000000;\n",
              "            max-width:  80px;\n",
              "            font-size:  10pt;\n",
              "        }    #T_3c98c224_c7ae_11ea_a0e8_0242ac1c0002row0_col1 {\n",
              "            background-color:  #d73c5b;\n",
              "            color:  #f1f1f1;\n",
              "            max-width:  80px;\n",
              "            font-size:  10pt;\n",
              "        }    #T_3c98c224_c7ae_11ea_a0e8_0242ac1c0002row0_col2 {\n",
              "            background-color:  #dc5570;\n",
              "            color:  #000000;\n",
              "            max-width:  80px;\n",
              "            font-size:  10pt;\n",
              "        }    #T_3c98c224_c7ae_11ea_a0e8_0242ac1c0002row0_col3 {\n",
              "            background-color:  #dc526e;\n",
              "            color:  #000000;\n",
              "            max-width:  80px;\n",
              "            font-size:  10pt;\n",
              "        }    #T_3c98c224_c7ae_11ea_a0e8_0242ac1c0002row0_col4 {\n",
              "            background-color:  #de5c76;\n",
              "            color:  #000000;\n",
              "            max-width:  80px;\n",
              "            font-size:  10pt;\n",
              "        }    #T_3c98c224_c7ae_11ea_a0e8_0242ac1c0002row0_col5 {\n",
              "            background-color:  #e16b82;\n",
              "            color:  #000000;\n",
              "            max-width:  80px;\n",
              "            font-size:  10pt;\n",
              "        }    #T_3c98c224_c7ae_11ea_a0e8_0242ac1c0002row0_col6 {\n",
              "            background-color:  #df617a;\n",
              "            color:  #000000;\n",
              "            max-width:  80px;\n",
              "            font-size:  10pt;\n",
              "        }    #T_3c98c224_c7ae_11ea_a0e8_0242ac1c0002row0_col7 {\n",
              "            background-color:  #df637c;\n",
              "            color:  #000000;\n",
              "            max-width:  80px;\n",
              "            font-size:  10pt;\n",
              "        }    #T_3c98c224_c7ae_11ea_a0e8_0242ac1c0002row0_col8 {\n",
              "            background-color:  #db4d69;\n",
              "            color:  #000000;\n",
              "            max-width:  80px;\n",
              "            font-size:  10pt;\n",
              "        }    #T_3c98c224_c7ae_11ea_a0e8_0242ac1c0002row0_col9 {\n",
              "            background-color:  #db4d69;\n",
              "            color:  #000000;\n",
              "            max-width:  80px;\n",
              "            font-size:  10pt;\n",
              "        }    #T_3c98c224_c7ae_11ea_a0e8_0242ac1c0002row0_col10 {\n",
              "            background-color:  #db4d69;\n",
              "            color:  #000000;\n",
              "            max-width:  80px;\n",
              "            font-size:  10pt;\n",
              "        }    #T_3c98c224_c7ae_11ea_a0e8_0242ac1c0002row0_col11 {\n",
              "            background-color:  #db4e6a;\n",
              "            color:  #000000;\n",
              "            max-width:  80px;\n",
              "            font-size:  10pt;\n",
              "        }    #T_3c98c224_c7ae_11ea_a0e8_0242ac1c0002row0_col12 {\n",
              "            background-color:  #da4b68;\n",
              "            color:  #000000;\n",
              "            max-width:  80px;\n",
              "            font-size:  10pt;\n",
              "        }    #T_3c98c224_c7ae_11ea_a0e8_0242ac1c0002row0_col13 {\n",
              "            background-color:  #df617a;\n",
              "            color:  #000000;\n",
              "            max-width:  80px;\n",
              "            font-size:  10pt;\n",
              "        }    #T_3c98c224_c7ae_11ea_a0e8_0242ac1c0002row1_col0 {\n",
              "            background-color:  #d73c5b;\n",
              "            color:  #f1f1f1;\n",
              "            max-width:  80px;\n",
              "            font-size:  10pt;\n",
              "        }    #T_3c98c224_c7ae_11ea_a0e8_0242ac1c0002row1_col1 {\n",
              "            background-color:  #4479bb;\n",
              "            color:  #000000;\n",
              "            max-width:  80px;\n",
              "            font-size:  10pt;\n",
              "        }    #T_3c98c224_c7ae_11ea_a0e8_0242ac1c0002row1_col2 {\n",
              "            background-color:  #db4f6b;\n",
              "            color:  #000000;\n",
              "            max-width:  80px;\n",
              "            font-size:  10pt;\n",
              "        }    #T_3c98c224_c7ae_11ea_a0e8_0242ac1c0002row1_col3 {\n",
              "            background-color:  #dd5671;\n",
              "            color:  #000000;\n",
              "            max-width:  80px;\n",
              "            font-size:  10pt;\n",
              "        }    #T_3c98c224_c7ae_11ea_a0e8_0242ac1c0002row1_col4 {\n",
              "            background-color:  #e06880;\n",
              "            color:  #000000;\n",
              "            max-width:  80px;\n",
              "            font-size:  10pt;\n",
              "        }    #T_3c98c224_c7ae_11ea_a0e8_0242ac1c0002row1_col5 {\n",
              "            background-color:  #db4e6a;\n",
              "            color:  #000000;\n",
              "            max-width:  80px;\n",
              "            font-size:  10pt;\n",
              "        }    #T_3c98c224_c7ae_11ea_a0e8_0242ac1c0002row1_col6 {\n",
              "            background-color:  #de5c76;\n",
              "            color:  #000000;\n",
              "            max-width:  80px;\n",
              "            font-size:  10pt;\n",
              "        }    #T_3c98c224_c7ae_11ea_a0e8_0242ac1c0002row1_col7 {\n",
              "            background-color:  #dd5a74;\n",
              "            color:  #000000;\n",
              "            max-width:  80px;\n",
              "            font-size:  10pt;\n",
              "        }    #T_3c98c224_c7ae_11ea_a0e8_0242ac1c0002row1_col8 {\n",
              "            background-color:  #e47c91;\n",
              "            color:  #000000;\n",
              "            max-width:  80px;\n",
              "            font-size:  10pt;\n",
              "        }    #T_3c98c224_c7ae_11ea_a0e8_0242ac1c0002row1_col9 {\n",
              "            background-color:  #e57d92;\n",
              "            color:  #000000;\n",
              "            max-width:  80px;\n",
              "            font-size:  10pt;\n",
              "        }    #T_3c98c224_c7ae_11ea_a0e8_0242ac1c0002row1_col10 {\n",
              "            background-color:  #e47c91;\n",
              "            color:  #000000;\n",
              "            max-width:  80px;\n",
              "            font-size:  10pt;\n",
              "        }    #T_3c98c224_c7ae_11ea_a0e8_0242ac1c0002row1_col11 {\n",
              "            background-color:  #e3768c;\n",
              "            color:  #000000;\n",
              "            max-width:  80px;\n",
              "            font-size:  10pt;\n",
              "        }    #T_3c98c224_c7ae_11ea_a0e8_0242ac1c0002row1_col12 {\n",
              "            background-color:  #e47a90;\n",
              "            color:  #000000;\n",
              "            max-width:  80px;\n",
              "            font-size:  10pt;\n",
              "        }    #T_3c98c224_c7ae_11ea_a0e8_0242ac1c0002row1_col13 {\n",
              "            background-color:  #de5e77;\n",
              "            color:  #000000;\n",
              "            max-width:  80px;\n",
              "            font-size:  10pt;\n",
              "        }    #T_3c98c224_c7ae_11ea_a0e8_0242ac1c0002row2_col0 {\n",
              "            background-color:  #d94261;\n",
              "            color:  #f1f1f1;\n",
              "            max-width:  80px;\n",
              "            font-size:  10pt;\n",
              "        }    #T_3c98c224_c7ae_11ea_a0e8_0242ac1c0002row2_col1 {\n",
              "            background-color:  #d73c5b;\n",
              "            color:  #f1f1f1;\n",
              "            max-width:  80px;\n",
              "            font-size:  10pt;\n",
              "        }    #T_3c98c224_c7ae_11ea_a0e8_0242ac1c0002row2_col2 {\n",
              "            background-color:  #4479bb;\n",
              "            color:  #000000;\n",
              "            max-width:  80px;\n",
              "            font-size:  10pt;\n",
              "        }    #T_3c98c224_c7ae_11ea_a0e8_0242ac1c0002row2_col3 {\n",
              "            background-color:  #f2f2f2;\n",
              "            color:  #000000;\n",
              "            max-width:  80px;\n",
              "            font-size:  10pt;\n",
              "        }    #T_3c98c224_c7ae_11ea_a0e8_0242ac1c0002row2_col4 {\n",
              "            background-color:  #de5c76;\n",
              "            color:  #000000;\n",
              "            max-width:  80px;\n",
              "            font-size:  10pt;\n",
              "        }    #T_3c98c224_c7ae_11ea_a0e8_0242ac1c0002row2_col5 {\n",
              "            background-color:  #ecf2f8;\n",
              "            color:  #000000;\n",
              "            max-width:  80px;\n",
              "            font-size:  10pt;\n",
              "        }    #T_3c98c224_c7ae_11ea_a0e8_0242ac1c0002row2_col6 {\n",
              "            background-color:  #db4e6a;\n",
              "            color:  #000000;\n",
              "            max-width:  80px;\n",
              "            font-size:  10pt;\n",
              "        }    #T_3c98c224_c7ae_11ea_a0e8_0242ac1c0002row2_col7 {\n",
              "            background-color:  #db4d69;\n",
              "            color:  #000000;\n",
              "            max-width:  80px;\n",
              "            font-size:  10pt;\n",
              "        }    #T_3c98c224_c7ae_11ea_a0e8_0242ac1c0002row2_col8 {\n",
              "            background-color:  #db4d69;\n",
              "            color:  #000000;\n",
              "            max-width:  80px;\n",
              "            font-size:  10pt;\n",
              "        }    #T_3c98c224_c7ae_11ea_a0e8_0242ac1c0002row2_col9 {\n",
              "            background-color:  #db4e6a;\n",
              "            color:  #000000;\n",
              "            max-width:  80px;\n",
              "            font-size:  10pt;\n",
              "        }    #T_3c98c224_c7ae_11ea_a0e8_0242ac1c0002row2_col10 {\n",
              "            background-color:  #db4d69;\n",
              "            color:  #000000;\n",
              "            max-width:  80px;\n",
              "            font-size:  10pt;\n",
              "        }    #T_3c98c224_c7ae_11ea_a0e8_0242ac1c0002row2_col11 {\n",
              "            background-color:  #db4e6a;\n",
              "            color:  #000000;\n",
              "            max-width:  80px;\n",
              "            font-size:  10pt;\n",
              "        }    #T_3c98c224_c7ae_11ea_a0e8_0242ac1c0002row2_col12 {\n",
              "            background-color:  #dc526e;\n",
              "            color:  #000000;\n",
              "            max-width:  80px;\n",
              "            font-size:  10pt;\n",
              "        }    #T_3c98c224_c7ae_11ea_a0e8_0242ac1c0002row2_col13 {\n",
              "            background-color:  #da4966;\n",
              "            color:  #000000;\n",
              "            max-width:  80px;\n",
              "            font-size:  10pt;\n",
              "        }    #T_3c98c224_c7ae_11ea_a0e8_0242ac1c0002row3_col0 {\n",
              "            background-color:  #d73c5b;\n",
              "            color:  #f1f1f1;\n",
              "            max-width:  80px;\n",
              "            font-size:  10pt;\n",
              "        }    #T_3c98c224_c7ae_11ea_a0e8_0242ac1c0002row3_col1 {\n",
              "            background-color:  #d8405e;\n",
              "            color:  #f1f1f1;\n",
              "            max-width:  80px;\n",
              "            font-size:  10pt;\n",
              "        }    #T_3c98c224_c7ae_11ea_a0e8_0242ac1c0002row3_col2 {\n",
              "            background-color:  #f2f2f2;\n",
              "            color:  #000000;\n",
              "            max-width:  80px;\n",
              "            font-size:  10pt;\n",
              "        }    #T_3c98c224_c7ae_11ea_a0e8_0242ac1c0002row3_col3 {\n",
              "            background-color:  #4479bb;\n",
              "            color:  #000000;\n",
              "            max-width:  80px;\n",
              "            font-size:  10pt;\n",
              "        }    #T_3c98c224_c7ae_11ea_a0e8_0242ac1c0002row3_col4 {\n",
              "            background-color:  #de5f79;\n",
              "            color:  #000000;\n",
              "            max-width:  80px;\n",
              "            font-size:  10pt;\n",
              "        }    #T_3c98c224_c7ae_11ea_a0e8_0242ac1c0002row3_col5 {\n",
              "            background-color:  #a0bbdc;\n",
              "            color:  #000000;\n",
              "            max-width:  80px;\n",
              "            font-size:  10pt;\n",
              "        }    #T_3c98c224_c7ae_11ea_a0e8_0242ac1c0002row3_col6 {\n",
              "            background-color:  #da4b68;\n",
              "            color:  #000000;\n",
              "            max-width:  80px;\n",
              "            font-size:  10pt;\n",
              "        }    #T_3c98c224_c7ae_11ea_a0e8_0242ac1c0002row3_col7 {\n",
              "            background-color:  #da4865;\n",
              "            color:  #000000;\n",
              "            max-width:  80px;\n",
              "            font-size:  10pt;\n",
              "        }    #T_3c98c224_c7ae_11ea_a0e8_0242ac1c0002row3_col8 {\n",
              "            background-color:  #df617a;\n",
              "            color:  #000000;\n",
              "            max-width:  80px;\n",
              "            font-size:  10pt;\n",
              "        }    #T_3c98c224_c7ae_11ea_a0e8_0242ac1c0002row3_col9 {\n",
              "            background-color:  #df627b;\n",
              "            color:  #000000;\n",
              "            max-width:  80px;\n",
              "            font-size:  10pt;\n",
              "        }    #T_3c98c224_c7ae_11ea_a0e8_0242ac1c0002row3_col10 {\n",
              "            background-color:  #df617a;\n",
              "            color:  #000000;\n",
              "            max-width:  80px;\n",
              "            font-size:  10pt;\n",
              "        }    #T_3c98c224_c7ae_11ea_a0e8_0242ac1c0002row3_col11 {\n",
              "            background-color:  #de5c76;\n",
              "            color:  #000000;\n",
              "            max-width:  80px;\n",
              "            font-size:  10pt;\n",
              "        }    #T_3c98c224_c7ae_11ea_a0e8_0242ac1c0002row3_col12 {\n",
              "            background-color:  #e0657d;\n",
              "            color:  #000000;\n",
              "            max-width:  80px;\n",
              "            font-size:  10pt;\n",
              "        }    #T_3c98c224_c7ae_11ea_a0e8_0242ac1c0002row3_col13 {\n",
              "            background-color:  #d94764;\n",
              "            color:  #f1f1f1;\n",
              "            max-width:  80px;\n",
              "            font-size:  10pt;\n",
              "        }    #T_3c98c224_c7ae_11ea_a0e8_0242ac1c0002row4_col0 {\n",
              "            background-color:  #d94563;\n",
              "            color:  #f1f1f1;\n",
              "            max-width:  80px;\n",
              "            font-size:  10pt;\n",
              "        }    #T_3c98c224_c7ae_11ea_a0e8_0242ac1c0002row4_col1 {\n",
              "            background-color:  #dc516d;\n",
              "            color:  #000000;\n",
              "            max-width:  80px;\n",
              "            font-size:  10pt;\n",
              "        }    #T_3c98c224_c7ae_11ea_a0e8_0242ac1c0002row4_col2 {\n",
              "            background-color:  #dd5872;\n",
              "            color:  #000000;\n",
              "            max-width:  80px;\n",
              "            font-size:  10pt;\n",
              "        }    #T_3c98c224_c7ae_11ea_a0e8_0242ac1c0002row4_col3 {\n",
              "            background-color:  #de5e77;\n",
              "            color:  #000000;\n",
              "            max-width:  80px;\n",
              "            font-size:  10pt;\n",
              "        }    #T_3c98c224_c7ae_11ea_a0e8_0242ac1c0002row4_col4 {\n",
              "            background-color:  #4479bb;\n",
              "            color:  #000000;\n",
              "            max-width:  80px;\n",
              "            font-size:  10pt;\n",
              "        }    #T_3c98c224_c7ae_11ea_a0e8_0242ac1c0002row4_col5 {\n",
              "            background-color:  #df617a;\n",
              "            color:  #000000;\n",
              "            max-width:  80px;\n",
              "            font-size:  10pt;\n",
              "        }    #T_3c98c224_c7ae_11ea_a0e8_0242ac1c0002row4_col6 {\n",
              "            background-color:  #da4966;\n",
              "            color:  #000000;\n",
              "            max-width:  80px;\n",
              "            font-size:  10pt;\n",
              "        }    #T_3c98c224_c7ae_11ea_a0e8_0242ac1c0002row4_col7 {\n",
              "            background-color:  #d73c5b;\n",
              "            color:  #f1f1f1;\n",
              "            max-width:  80px;\n",
              "            font-size:  10pt;\n",
              "        }    #T_3c98c224_c7ae_11ea_a0e8_0242ac1c0002row4_col8 {\n",
              "            background-color:  #e78c9e;\n",
              "            color:  #000000;\n",
              "            max-width:  80px;\n",
              "            font-size:  10pt;\n",
              "        }    #T_3c98c224_c7ae_11ea_a0e8_0242ac1c0002row4_col9 {\n",
              "            background-color:  #e88ea0;\n",
              "            color:  #000000;\n",
              "            max-width:  80px;\n",
              "            font-size:  10pt;\n",
              "        }    #T_3c98c224_c7ae_11ea_a0e8_0242ac1c0002row4_col10 {\n",
              "            background-color:  #e88d9f;\n",
              "            color:  #000000;\n",
              "            max-width:  80px;\n",
              "            font-size:  10pt;\n",
              "        }    #T_3c98c224_c7ae_11ea_a0e8_0242ac1c0002row4_col11 {\n",
              "            background-color:  #e68598;\n",
              "            color:  #000000;\n",
              "            max-width:  80px;\n",
              "            font-size:  10pt;\n",
              "        }    #T_3c98c224_c7ae_11ea_a0e8_0242ac1c0002row4_col12 {\n",
              "            background-color:  #e7899c;\n",
              "            color:  #000000;\n",
              "            max-width:  80px;\n",
              "            font-size:  10pt;\n",
              "        }    #T_3c98c224_c7ae_11ea_a0e8_0242ac1c0002row4_col13 {\n",
              "            background-color:  #d94563;\n",
              "            color:  #f1f1f1;\n",
              "            max-width:  80px;\n",
              "            font-size:  10pt;\n",
              "        }    #T_3c98c224_c7ae_11ea_a0e8_0242ac1c0002row5_col0 {\n",
              "            background-color:  #dd5a74;\n",
              "            color:  #000000;\n",
              "            max-width:  80px;\n",
              "            font-size:  10pt;\n",
              "        }    #T_3c98c224_c7ae_11ea_a0e8_0242ac1c0002row5_col1 {\n",
              "            background-color:  #d73c5b;\n",
              "            color:  #f1f1f1;\n",
              "            max-width:  80px;\n",
              "            font-size:  10pt;\n",
              "        }    #T_3c98c224_c7ae_11ea_a0e8_0242ac1c0002row5_col2 {\n",
              "            background-color:  #ecf2f8;\n",
              "            color:  #000000;\n",
              "            max-width:  80px;\n",
              "            font-size:  10pt;\n",
              "        }    #T_3c98c224_c7ae_11ea_a0e8_0242ac1c0002row5_col3 {\n",
              "            background-color:  #9fbadc;\n",
              "            color:  #000000;\n",
              "            max-width:  80px;\n",
              "            font-size:  10pt;\n",
              "        }    #T_3c98c224_c7ae_11ea_a0e8_0242ac1c0002row5_col4 {\n",
              "            background-color:  #e0657d;\n",
              "            color:  #000000;\n",
              "            max-width:  80px;\n",
              "            font-size:  10pt;\n",
              "        }    #T_3c98c224_c7ae_11ea_a0e8_0242ac1c0002row5_col5 {\n",
              "            background-color:  #4479bb;\n",
              "            color:  #000000;\n",
              "            max-width:  80px;\n",
              "            font-size:  10pt;\n",
              "        }    #T_3c98c224_c7ae_11ea_a0e8_0242ac1c0002row5_col6 {\n",
              "            background-color:  #db4d69;\n",
              "            color:  #000000;\n",
              "            max-width:  80px;\n",
              "            font-size:  10pt;\n",
              "        }    #T_3c98c224_c7ae_11ea_a0e8_0242ac1c0002row5_col7 {\n",
              "            background-color:  #dc5570;\n",
              "            color:  #000000;\n",
              "            max-width:  80px;\n",
              "            font-size:  10pt;\n",
              "        }    #T_3c98c224_c7ae_11ea_a0e8_0242ac1c0002row5_col8 {\n",
              "            background-color:  #d94563;\n",
              "            color:  #f1f1f1;\n",
              "            max-width:  80px;\n",
              "            font-size:  10pt;\n",
              "        }    #T_3c98c224_c7ae_11ea_a0e8_0242ac1c0002row5_col9 {\n",
              "            background-color:  #d94563;\n",
              "            color:  #f1f1f1;\n",
              "            max-width:  80px;\n",
              "            font-size:  10pt;\n",
              "        }    #T_3c98c224_c7ae_11ea_a0e8_0242ac1c0002row5_col10 {\n",
              "            background-color:  #d94462;\n",
              "            color:  #f1f1f1;\n",
              "            max-width:  80px;\n",
              "            font-size:  10pt;\n",
              "        }    #T_3c98c224_c7ae_11ea_a0e8_0242ac1c0002row5_col11 {\n",
              "            background-color:  #d94563;\n",
              "            color:  #f1f1f1;\n",
              "            max-width:  80px;\n",
              "            font-size:  10pt;\n",
              "        }    #T_3c98c224_c7ae_11ea_a0e8_0242ac1c0002row5_col12 {\n",
              "            background-color:  #da4966;\n",
              "            color:  #000000;\n",
              "            max-width:  80px;\n",
              "            font-size:  10pt;\n",
              "        }    #T_3c98c224_c7ae_11ea_a0e8_0242ac1c0002row5_col13 {\n",
              "            background-color:  #db4d69;\n",
              "            color:  #000000;\n",
              "            max-width:  80px;\n",
              "            font-size:  10pt;\n",
              "        }    #T_3c98c224_c7ae_11ea_a0e8_0242ac1c0002row6_col0 {\n",
              "            background-color:  #d8405e;\n",
              "            color:  #f1f1f1;\n",
              "            max-width:  80px;\n",
              "            font-size:  10pt;\n",
              "        }    #T_3c98c224_c7ae_11ea_a0e8_0242ac1c0002row6_col1 {\n",
              "            background-color:  #d73c5b;\n",
              "            color:  #f1f1f1;\n",
              "            max-width:  80px;\n",
              "            font-size:  10pt;\n",
              "        }    #T_3c98c224_c7ae_11ea_a0e8_0242ac1c0002row6_col2 {\n",
              "            background-color:  #d8415f;\n",
              "            color:  #f1f1f1;\n",
              "            max-width:  80px;\n",
              "            font-size:  10pt;\n",
              "        }    #T_3c98c224_c7ae_11ea_a0e8_0242ac1c0002row6_col3 {\n",
              "            background-color:  #d8415f;\n",
              "            color:  #f1f1f1;\n",
              "            max-width:  80px;\n",
              "            font-size:  10pt;\n",
              "        }    #T_3c98c224_c7ae_11ea_a0e8_0242ac1c0002row6_col4 {\n",
              "            background-color:  #d8405e;\n",
              "            color:  #f1f1f1;\n",
              "            max-width:  80px;\n",
              "            font-size:  10pt;\n",
              "        }    #T_3c98c224_c7ae_11ea_a0e8_0242ac1c0002row6_col5 {\n",
              "            background-color:  #d8405e;\n",
              "            color:  #f1f1f1;\n",
              "            max-width:  80px;\n",
              "            font-size:  10pt;\n",
              "        }    #T_3c98c224_c7ae_11ea_a0e8_0242ac1c0002row6_col6 {\n",
              "            background-color:  #4479bb;\n",
              "            color:  #000000;\n",
              "            max-width:  80px;\n",
              "            font-size:  10pt;\n",
              "        }    #T_3c98c224_c7ae_11ea_a0e8_0242ac1c0002row6_col7 {\n",
              "            background-color:  #d8405e;\n",
              "            color:  #f1f1f1;\n",
              "            max-width:  80px;\n",
              "            font-size:  10pt;\n",
              "        }    #T_3c98c224_c7ae_11ea_a0e8_0242ac1c0002row6_col8 {\n",
              "            background-color:  #d83e5d;\n",
              "            color:  #f1f1f1;\n",
              "            max-width:  80px;\n",
              "            font-size:  10pt;\n",
              "        }    #T_3c98c224_c7ae_11ea_a0e8_0242ac1c0002row6_col9 {\n",
              "            background-color:  #d83e5d;\n",
              "            color:  #f1f1f1;\n",
              "            max-width:  80px;\n",
              "            font-size:  10pt;\n",
              "        }    #T_3c98c224_c7ae_11ea_a0e8_0242ac1c0002row6_col10 {\n",
              "            background-color:  #d83e5d;\n",
              "            color:  #f1f1f1;\n",
              "            max-width:  80px;\n",
              "            font-size:  10pt;\n",
              "        }    #T_3c98c224_c7ae_11ea_a0e8_0242ac1c0002row6_col11 {\n",
              "            background-color:  #d73d5c;\n",
              "            color:  #f1f1f1;\n",
              "            max-width:  80px;\n",
              "            font-size:  10pt;\n",
              "        }    #T_3c98c224_c7ae_11ea_a0e8_0242ac1c0002row6_col12 {\n",
              "            background-color:  #d83e5d;\n",
              "            color:  #f1f1f1;\n",
              "            max-width:  80px;\n",
              "            font-size:  10pt;\n",
              "        }    #T_3c98c224_c7ae_11ea_a0e8_0242ac1c0002row6_col13 {\n",
              "            background-color:  #d8405e;\n",
              "            color:  #f1f1f1;\n",
              "            max-width:  80px;\n",
              "            font-size:  10pt;\n",
              "        }    #T_3c98c224_c7ae_11ea_a0e8_0242ac1c0002row7_col0 {\n",
              "            background-color:  #df617a;\n",
              "            color:  #000000;\n",
              "            max-width:  80px;\n",
              "            font-size:  10pt;\n",
              "        }    #T_3c98c224_c7ae_11ea_a0e8_0242ac1c0002row7_col1 {\n",
              "            background-color:  #dc5570;\n",
              "            color:  #000000;\n",
              "            max-width:  80px;\n",
              "            font-size:  10pt;\n",
              "        }    #T_3c98c224_c7ae_11ea_a0e8_0242ac1c0002row7_col2 {\n",
              "            background-color:  #de5c76;\n",
              "            color:  #000000;\n",
              "            max-width:  80px;\n",
              "            font-size:  10pt;\n",
              "        }    #T_3c98c224_c7ae_11ea_a0e8_0242ac1c0002row7_col3 {\n",
              "            background-color:  #de5b75;\n",
              "            color:  #000000;\n",
              "            max-width:  80px;\n",
              "            font-size:  10pt;\n",
              "        }    #T_3c98c224_c7ae_11ea_a0e8_0242ac1c0002row7_col4 {\n",
              "            background-color:  #db4f6b;\n",
              "            color:  #000000;\n",
              "            max-width:  80px;\n",
              "            font-size:  10pt;\n",
              "        }    #T_3c98c224_c7ae_11ea_a0e8_0242ac1c0002row7_col5 {\n",
              "            background-color:  #df637c;\n",
              "            color:  #000000;\n",
              "            max-width:  80px;\n",
              "            font-size:  10pt;\n",
              "        }    #T_3c98c224_c7ae_11ea_a0e8_0242ac1c0002row7_col6 {\n",
              "            background-color:  #de5c76;\n",
              "            color:  #000000;\n",
              "            max-width:  80px;\n",
              "            font-size:  10pt;\n",
              "        }    #T_3c98c224_c7ae_11ea_a0e8_0242ac1c0002row7_col7 {\n",
              "            background-color:  #4479bb;\n",
              "            color:  #000000;\n",
              "            max-width:  80px;\n",
              "            font-size:  10pt;\n",
              "        }    #T_3c98c224_c7ae_11ea_a0e8_0242ac1c0002row7_col8 {\n",
              "            background-color:  #d73d5c;\n",
              "            color:  #f1f1f1;\n",
              "            max-width:  80px;\n",
              "            font-size:  10pt;\n",
              "        }    #T_3c98c224_c7ae_11ea_a0e8_0242ac1c0002row7_col9 {\n",
              "            background-color:  #d73c5b;\n",
              "            color:  #f1f1f1;\n",
              "            max-width:  80px;\n",
              "            font-size:  10pt;\n",
              "        }    #T_3c98c224_c7ae_11ea_a0e8_0242ac1c0002row7_col10 {\n",
              "            background-color:  #d73d5c;\n",
              "            color:  #f1f1f1;\n",
              "            max-width:  80px;\n",
              "            font-size:  10pt;\n",
              "        }    #T_3c98c224_c7ae_11ea_a0e8_0242ac1c0002row7_col11 {\n",
              "            background-color:  #d94261;\n",
              "            color:  #f1f1f1;\n",
              "            max-width:  80px;\n",
              "            font-size:  10pt;\n",
              "        }    #T_3c98c224_c7ae_11ea_a0e8_0242ac1c0002row7_col12 {\n",
              "            background-color:  #d8415f;\n",
              "            color:  #f1f1f1;\n",
              "            max-width:  80px;\n",
              "            font-size:  10pt;\n",
              "        }    #T_3c98c224_c7ae_11ea_a0e8_0242ac1c0002row7_col13 {\n",
              "            background-color:  #de5c76;\n",
              "            color:  #000000;\n",
              "            max-width:  80px;\n",
              "            font-size:  10pt;\n",
              "        }    #T_3c98c224_c7ae_11ea_a0e8_0242ac1c0002row8_col0 {\n",
              "            background-color:  #d94764;\n",
              "            color:  #f1f1f1;\n",
              "            max-width:  80px;\n",
              "            font-size:  10pt;\n",
              "        }    #T_3c98c224_c7ae_11ea_a0e8_0242ac1c0002row8_col1 {\n",
              "            background-color:  #e3768c;\n",
              "            color:  #000000;\n",
              "            max-width:  80px;\n",
              "            font-size:  10pt;\n",
              "        }    #T_3c98c224_c7ae_11ea_a0e8_0242ac1c0002row8_col2 {\n",
              "            background-color:  #de5b75;\n",
              "            color:  #000000;\n",
              "            max-width:  80px;\n",
              "            font-size:  10pt;\n",
              "        }    #T_3c98c224_c7ae_11ea_a0e8_0242ac1c0002row8_col3 {\n",
              "            background-color:  #e27087;\n",
              "            color:  #000000;\n",
              "            max-width:  80px;\n",
              "            font-size:  10pt;\n",
              "        }    #T_3c98c224_c7ae_11ea_a0e8_0242ac1c0002row8_col4 {\n",
              "            background-color:  #ea9aaa;\n",
              "            color:  #000000;\n",
              "            max-width:  80px;\n",
              "            font-size:  10pt;\n",
              "        }    #T_3c98c224_c7ae_11ea_a0e8_0242ac1c0002row8_col5 {\n",
              "            background-color:  #dc526e;\n",
              "            color:  #000000;\n",
              "            max-width:  80px;\n",
              "            font-size:  10pt;\n",
              "        }    #T_3c98c224_c7ae_11ea_a0e8_0242ac1c0002row8_col6 {\n",
              "            background-color:  #dd5a74;\n",
              "            color:  #000000;\n",
              "            max-width:  80px;\n",
              "            font-size:  10pt;\n",
              "        }    #T_3c98c224_c7ae_11ea_a0e8_0242ac1c0002row8_col7 {\n",
              "            background-color:  #d73c5b;\n",
              "            color:  #f1f1f1;\n",
              "            max-width:  80px;\n",
              "            font-size:  10pt;\n",
              "        }    #T_3c98c224_c7ae_11ea_a0e8_0242ac1c0002row8_col8 {\n",
              "            background-color:  #4479bb;\n",
              "            color:  #000000;\n",
              "            max-width:  80px;\n",
              "            font-size:  10pt;\n",
              "        }    #T_3c98c224_c7ae_11ea_a0e8_0242ac1c0002row8_col9 {\n",
              "            background-color:  #477bbc;\n",
              "            color:  #000000;\n",
              "            max-width:  80px;\n",
              "            font-size:  10pt;\n",
              "        }    #T_3c98c224_c7ae_11ea_a0e8_0242ac1c0002row8_col10 {\n",
              "            background-color:  #457abb;\n",
              "            color:  #000000;\n",
              "            max-width:  80px;\n",
              "            font-size:  10pt;\n",
              "        }    #T_3c98c224_c7ae_11ea_a0e8_0242ac1c0002row8_col11 {\n",
              "            background-color:  #7099cb;\n",
              "            color:  #000000;\n",
              "            max-width:  80px;\n",
              "            font-size:  10pt;\n",
              "        }    #T_3c98c224_c7ae_11ea_a0e8_0242ac1c0002row8_col12 {\n",
              "            background-color:  #5686c1;\n",
              "            color:  #000000;\n",
              "            max-width:  80px;\n",
              "            font-size:  10pt;\n",
              "        }    #T_3c98c224_c7ae_11ea_a0e8_0242ac1c0002row8_col13 {\n",
              "            background-color:  #dc546f;\n",
              "            color:  #000000;\n",
              "            max-width:  80px;\n",
              "            font-size:  10pt;\n",
              "        }    #T_3c98c224_c7ae_11ea_a0e8_0242ac1c0002row9_col0 {\n",
              "            background-color:  #da4865;\n",
              "            color:  #000000;\n",
              "            max-width:  80px;\n",
              "            font-size:  10pt;\n",
              "        }    #T_3c98c224_c7ae_11ea_a0e8_0242ac1c0002row9_col1 {\n",
              "            background-color:  #e4798e;\n",
              "            color:  #000000;\n",
              "            max-width:  80px;\n",
              "            font-size:  10pt;\n",
              "        }    #T_3c98c224_c7ae_11ea_a0e8_0242ac1c0002row9_col2 {\n",
              "            background-color:  #de5e77;\n",
              "            color:  #000000;\n",
              "            max-width:  80px;\n",
              "            font-size:  10pt;\n",
              "        }    #T_3c98c224_c7ae_11ea_a0e8_0242ac1c0002row9_col3 {\n",
              "            background-color:  #e3748a;\n",
              "            color:  #000000;\n",
              "            max-width:  80px;\n",
              "            font-size:  10pt;\n",
              "        }    #T_3c98c224_c7ae_11ea_a0e8_0242ac1c0002row9_col4 {\n",
              "            background-color:  #eb9ead;\n",
              "            color:  #000000;\n",
              "            max-width:  80px;\n",
              "            font-size:  10pt;\n",
              "        }    #T_3c98c224_c7ae_11ea_a0e8_0242ac1c0002row9_col5 {\n",
              "            background-color:  #dc546f;\n",
              "            color:  #000000;\n",
              "            max-width:  80px;\n",
              "            font-size:  10pt;\n",
              "        }    #T_3c98c224_c7ae_11ea_a0e8_0242ac1c0002row9_col6 {\n",
              "            background-color:  #de5b75;\n",
              "            color:  #000000;\n",
              "            max-width:  80px;\n",
              "            font-size:  10pt;\n",
              "        }    #T_3c98c224_c7ae_11ea_a0e8_0242ac1c0002row9_col7 {\n",
              "            background-color:  #d73c5b;\n",
              "            color:  #f1f1f1;\n",
              "            max-width:  80px;\n",
              "            font-size:  10pt;\n",
              "        }    #T_3c98c224_c7ae_11ea_a0e8_0242ac1c0002row9_col8 {\n",
              "            background-color:  #477bbc;\n",
              "            color:  #000000;\n",
              "            max-width:  80px;\n",
              "            font-size:  10pt;\n",
              "        }    #T_3c98c224_c7ae_11ea_a0e8_0242ac1c0002row9_col9 {\n",
              "            background-color:  #4479bb;\n",
              "            color:  #000000;\n",
              "            max-width:  80px;\n",
              "            font-size:  10pt;\n",
              "        }    #T_3c98c224_c7ae_11ea_a0e8_0242ac1c0002row9_col10 {\n",
              "            background-color:  #477bbc;\n",
              "            color:  #000000;\n",
              "            max-width:  80px;\n",
              "            font-size:  10pt;\n",
              "        }    #T_3c98c224_c7ae_11ea_a0e8_0242ac1c0002row9_col11 {\n",
              "            background-color:  #759ccd;\n",
              "            color:  #000000;\n",
              "            max-width:  80px;\n",
              "            font-size:  10pt;\n",
              "        }    #T_3c98c224_c7ae_11ea_a0e8_0242ac1c0002row9_col12 {\n",
              "            background-color:  #5787c2;\n",
              "            color:  #000000;\n",
              "            max-width:  80px;\n",
              "            font-size:  10pt;\n",
              "        }    #T_3c98c224_c7ae_11ea_a0e8_0242ac1c0002row9_col13 {\n",
              "            background-color:  #dd5671;\n",
              "            color:  #000000;\n",
              "            max-width:  80px;\n",
              "            font-size:  10pt;\n",
              "        }    #T_3c98c224_c7ae_11ea_a0e8_0242ac1c0002row10_col0 {\n",
              "            background-color:  #d94764;\n",
              "            color:  #f1f1f1;\n",
              "            max-width:  80px;\n",
              "            font-size:  10pt;\n",
              "        }    #T_3c98c224_c7ae_11ea_a0e8_0242ac1c0002row10_col1 {\n",
              "            background-color:  #e3768c;\n",
              "            color:  #000000;\n",
              "            max-width:  80px;\n",
              "            font-size:  10pt;\n",
              "        }    #T_3c98c224_c7ae_11ea_a0e8_0242ac1c0002row10_col2 {\n",
              "            background-color:  #dd5a74;\n",
              "            color:  #000000;\n",
              "            max-width:  80px;\n",
              "            font-size:  10pt;\n",
              "        }    #T_3c98c224_c7ae_11ea_a0e8_0242ac1c0002row10_col3 {\n",
              "            background-color:  #e27087;\n",
              "            color:  #000000;\n",
              "            max-width:  80px;\n",
              "            font-size:  10pt;\n",
              "        }    #T_3c98c224_c7ae_11ea_a0e8_0242ac1c0002row10_col4 {\n",
              "            background-color:  #eb9bab;\n",
              "            color:  #000000;\n",
              "            max-width:  80px;\n",
              "            font-size:  10pt;\n",
              "        }    #T_3c98c224_c7ae_11ea_a0e8_0242ac1c0002row10_col5 {\n",
              "            background-color:  #dc526e;\n",
              "            color:  #000000;\n",
              "            max-width:  80px;\n",
              "            font-size:  10pt;\n",
              "        }    #T_3c98c224_c7ae_11ea_a0e8_0242ac1c0002row10_col6 {\n",
              "            background-color:  #dd5a74;\n",
              "            color:  #000000;\n",
              "            max-width:  80px;\n",
              "            font-size:  10pt;\n",
              "        }    #T_3c98c224_c7ae_11ea_a0e8_0242ac1c0002row10_col7 {\n",
              "            background-color:  #d73c5b;\n",
              "            color:  #f1f1f1;\n",
              "            max-width:  80px;\n",
              "            font-size:  10pt;\n",
              "        }    #T_3c98c224_c7ae_11ea_a0e8_0242ac1c0002row10_col8 {\n",
              "            background-color:  #457abb;\n",
              "            color:  #000000;\n",
              "            max-width:  80px;\n",
              "            font-size:  10pt;\n",
              "        }    #T_3c98c224_c7ae_11ea_a0e8_0242ac1c0002row10_col9 {\n",
              "            background-color:  #477bbc;\n",
              "            color:  #000000;\n",
              "            max-width:  80px;\n",
              "            font-size:  10pt;\n",
              "        }    #T_3c98c224_c7ae_11ea_a0e8_0242ac1c0002row10_col10 {\n",
              "            background-color:  #4479bb;\n",
              "            color:  #000000;\n",
              "            max-width:  80px;\n",
              "            font-size:  10pt;\n",
              "        }    #T_3c98c224_c7ae_11ea_a0e8_0242ac1c0002row10_col11 {\n",
              "            background-color:  #759ccd;\n",
              "            color:  #000000;\n",
              "            max-width:  80px;\n",
              "            font-size:  10pt;\n",
              "        }    #T_3c98c224_c7ae_11ea_a0e8_0242ac1c0002row10_col12 {\n",
              "            background-color:  #5686c1;\n",
              "            color:  #000000;\n",
              "            max-width:  80px;\n",
              "            font-size:  10pt;\n",
              "        }    #T_3c98c224_c7ae_11ea_a0e8_0242ac1c0002row10_col13 {\n",
              "            background-color:  #df637c;\n",
              "            color:  #000000;\n",
              "            max-width:  80px;\n",
              "            font-size:  10pt;\n",
              "        }    #T_3c98c224_c7ae_11ea_a0e8_0242ac1c0002row11_col0 {\n",
              "            background-color:  #d94261;\n",
              "            color:  #f1f1f1;\n",
              "            max-width:  80px;\n",
              "            font-size:  10pt;\n",
              "        }    #T_3c98c224_c7ae_11ea_a0e8_0242ac1c0002row11_col1 {\n",
              "            background-color:  #e16c84;\n",
              "            color:  #000000;\n",
              "            max-width:  80px;\n",
              "            font-size:  10pt;\n",
              "        }    #T_3c98c224_c7ae_11ea_a0e8_0242ac1c0002row11_col2 {\n",
              "            background-color:  #dd5671;\n",
              "            color:  #000000;\n",
              "            max-width:  80px;\n",
              "            font-size:  10pt;\n",
              "        }    #T_3c98c224_c7ae_11ea_a0e8_0242ac1c0002row11_col3 {\n",
              "            background-color:  #e0667e;\n",
              "            color:  #000000;\n",
              "            max-width:  80px;\n",
              "            font-size:  10pt;\n",
              "        }    #T_3c98c224_c7ae_11ea_a0e8_0242ac1c0002row11_col4 {\n",
              "            background-color:  #e88ea0;\n",
              "            color:  #000000;\n",
              "            max-width:  80px;\n",
              "            font-size:  10pt;\n",
              "        }    #T_3c98c224_c7ae_11ea_a0e8_0242ac1c0002row11_col5 {\n",
              "            background-color:  #db4d69;\n",
              "            color:  #000000;\n",
              "            max-width:  80px;\n",
              "            font-size:  10pt;\n",
              "        }    #T_3c98c224_c7ae_11ea_a0e8_0242ac1c0002row11_col6 {\n",
              "            background-color:  #dc546f;\n",
              "            color:  #000000;\n",
              "            max-width:  80px;\n",
              "            font-size:  10pt;\n",
              "        }    #T_3c98c224_c7ae_11ea_a0e8_0242ac1c0002row11_col7 {\n",
              "            background-color:  #d73c5b;\n",
              "            color:  #f1f1f1;\n",
              "            max-width:  80px;\n",
              "            font-size:  10pt;\n",
              "        }    #T_3c98c224_c7ae_11ea_a0e8_0242ac1c0002row11_col8 {\n",
              "            background-color:  #7099cb;\n",
              "            color:  #000000;\n",
              "            max-width:  80px;\n",
              "            font-size:  10pt;\n",
              "        }    #T_3c98c224_c7ae_11ea_a0e8_0242ac1c0002row11_col9 {\n",
              "            background-color:  #759ccd;\n",
              "            color:  #000000;\n",
              "            max-width:  80px;\n",
              "            font-size:  10pt;\n",
              "        }    #T_3c98c224_c7ae_11ea_a0e8_0242ac1c0002row11_col10 {\n",
              "            background-color:  #779dcd;\n",
              "            color:  #000000;\n",
              "            max-width:  80px;\n",
              "            font-size:  10pt;\n",
              "        }    #T_3c98c224_c7ae_11ea_a0e8_0242ac1c0002row11_col11 {\n",
              "            background-color:  #4479bb;\n",
              "            color:  #000000;\n",
              "            max-width:  80px;\n",
              "            font-size:  10pt;\n",
              "        }    #T_3c98c224_c7ae_11ea_a0e8_0242ac1c0002row11_col12 {\n",
              "            background-color:  #90afd6;\n",
              "            color:  #000000;\n",
              "            max-width:  80px;\n",
              "            font-size:  10pt;\n",
              "        }    #T_3c98c224_c7ae_11ea_a0e8_0242ac1c0002row11_col13 {\n",
              "            background-color:  #db4e6a;\n",
              "            color:  #000000;\n",
              "            max-width:  80px;\n",
              "            font-size:  10pt;\n",
              "        }    #T_3c98c224_c7ae_11ea_a0e8_0242ac1c0002row12_col0 {\n",
              "            background-color:  #d8405e;\n",
              "            color:  #f1f1f1;\n",
              "            max-width:  80px;\n",
              "            font-size:  10pt;\n",
              "        }    #T_3c98c224_c7ae_11ea_a0e8_0242ac1c0002row12_col1 {\n",
              "            background-color:  #e27288;\n",
              "            color:  #000000;\n",
              "            max-width:  80px;\n",
              "            font-size:  10pt;\n",
              "        }    #T_3c98c224_c7ae_11ea_a0e8_0242ac1c0002row12_col2 {\n",
              "            background-color:  #de5b75;\n",
              "            color:  #000000;\n",
              "            max-width:  80px;\n",
              "            font-size:  10pt;\n",
              "        }    #T_3c98c224_c7ae_11ea_a0e8_0242ac1c0002row12_col3 {\n",
              "            background-color:  #e27087;\n",
              "            color:  #000000;\n",
              "            max-width:  80px;\n",
              "            font-size:  10pt;\n",
              "        }    #T_3c98c224_c7ae_11ea_a0e8_0242ac1c0002row12_col4 {\n",
              "            background-color:  #e993a4;\n",
              "            color:  #000000;\n",
              "            max-width:  80px;\n",
              "            font-size:  10pt;\n",
              "        }    #T_3c98c224_c7ae_11ea_a0e8_0242ac1c0002row12_col5 {\n",
              "            background-color:  #dc526e;\n",
              "            color:  #000000;\n",
              "            max-width:  80px;\n",
              "            font-size:  10pt;\n",
              "        }    #T_3c98c224_c7ae_11ea_a0e8_0242ac1c0002row12_col6 {\n",
              "            background-color:  #dc5570;\n",
              "            color:  #000000;\n",
              "            max-width:  80px;\n",
              "            font-size:  10pt;\n",
              "        }    #T_3c98c224_c7ae_11ea_a0e8_0242ac1c0002row12_col7 {\n",
              "            background-color:  #d73c5b;\n",
              "            color:  #f1f1f1;\n",
              "            max-width:  80px;\n",
              "            font-size:  10pt;\n",
              "        }    #T_3c98c224_c7ae_11ea_a0e8_0242ac1c0002row12_col8 {\n",
              "            background-color:  #5686c1;\n",
              "            color:  #000000;\n",
              "            max-width:  80px;\n",
              "            font-size:  10pt;\n",
              "        }    #T_3c98c224_c7ae_11ea_a0e8_0242ac1c0002row12_col9 {\n",
              "            background-color:  #5787c2;\n",
              "            color:  #000000;\n",
              "            max-width:  80px;\n",
              "            font-size:  10pt;\n",
              "        }    #T_3c98c224_c7ae_11ea_a0e8_0242ac1c0002row12_col10 {\n",
              "            background-color:  #5686c1;\n",
              "            color:  #000000;\n",
              "            max-width:  80px;\n",
              "            font-size:  10pt;\n",
              "        }    #T_3c98c224_c7ae_11ea_a0e8_0242ac1c0002row12_col11 {\n",
              "            background-color:  #90afd6;\n",
              "            color:  #000000;\n",
              "            max-width:  80px;\n",
              "            font-size:  10pt;\n",
              "        }    #T_3c98c224_c7ae_11ea_a0e8_0242ac1c0002row12_col12 {\n",
              "            background-color:  #4479bb;\n",
              "            color:  #000000;\n",
              "            max-width:  80px;\n",
              "            font-size:  10pt;\n",
              "        }    #T_3c98c224_c7ae_11ea_a0e8_0242ac1c0002row12_col13 {\n",
              "            background-color:  #dc516d;\n",
              "            color:  #000000;\n",
              "            max-width:  80px;\n",
              "            font-size:  10pt;\n",
              "        }    #T_3c98c224_c7ae_11ea_a0e8_0242ac1c0002row13_col0 {\n",
              "            background-color:  #d94261;\n",
              "            color:  #f1f1f1;\n",
              "            max-width:  80px;\n",
              "            font-size:  10pt;\n",
              "        }    #T_3c98c224_c7ae_11ea_a0e8_0242ac1c0002row13_col1 {\n",
              "            background-color:  #d8405e;\n",
              "            color:  #f1f1f1;\n",
              "            max-width:  80px;\n",
              "            font-size:  10pt;\n",
              "        }    #T_3c98c224_c7ae_11ea_a0e8_0242ac1c0002row13_col2 {\n",
              "            background-color:  #d83e5d;\n",
              "            color:  #f1f1f1;\n",
              "            max-width:  80px;\n",
              "            font-size:  10pt;\n",
              "        }    #T_3c98c224_c7ae_11ea_a0e8_0242ac1c0002row13_col3 {\n",
              "            background-color:  #d8405e;\n",
              "            color:  #f1f1f1;\n",
              "            max-width:  80px;\n",
              "            font-size:  10pt;\n",
              "        }    #T_3c98c224_c7ae_11ea_a0e8_0242ac1c0002row13_col4 {\n",
              "            background-color:  #d83e5d;\n",
              "            color:  #f1f1f1;\n",
              "            max-width:  80px;\n",
              "            font-size:  10pt;\n",
              "        }    #T_3c98c224_c7ae_11ea_a0e8_0242ac1c0002row13_col5 {\n",
              "            background-color:  #d8415f;\n",
              "            color:  #f1f1f1;\n",
              "            max-width:  80px;\n",
              "            font-size:  10pt;\n",
              "        }    #T_3c98c224_c7ae_11ea_a0e8_0242ac1c0002row13_col6 {\n",
              "            background-color:  #d8415f;\n",
              "            color:  #f1f1f1;\n",
              "            max-width:  80px;\n",
              "            font-size:  10pt;\n",
              "        }    #T_3c98c224_c7ae_11ea_a0e8_0242ac1c0002row13_col7 {\n",
              "            background-color:  #d94261;\n",
              "            color:  #f1f1f1;\n",
              "            max-width:  80px;\n",
              "            font-size:  10pt;\n",
              "        }    #T_3c98c224_c7ae_11ea_a0e8_0242ac1c0002row13_col8 {\n",
              "            background-color:  #d73c5b;\n",
              "            color:  #f1f1f1;\n",
              "            max-width:  80px;\n",
              "            font-size:  10pt;\n",
              "        }    #T_3c98c224_c7ae_11ea_a0e8_0242ac1c0002row13_col9 {\n",
              "            background-color:  #d73c5b;\n",
              "            color:  #f1f1f1;\n",
              "            max-width:  80px;\n",
              "            font-size:  10pt;\n",
              "        }    #T_3c98c224_c7ae_11ea_a0e8_0242ac1c0002row13_col10 {\n",
              "            background-color:  #da4b68;\n",
              "            color:  #000000;\n",
              "            max-width:  80px;\n",
              "            font-size:  10pt;\n",
              "        }    #T_3c98c224_c7ae_11ea_a0e8_0242ac1c0002row13_col11 {\n",
              "            background-color:  #d73c5b;\n",
              "            color:  #f1f1f1;\n",
              "            max-width:  80px;\n",
              "            font-size:  10pt;\n",
              "        }    #T_3c98c224_c7ae_11ea_a0e8_0242ac1c0002row13_col12 {\n",
              "            background-color:  #d73d5c;\n",
              "            color:  #f1f1f1;\n",
              "            max-width:  80px;\n",
              "            font-size:  10pt;\n",
              "        }    #T_3c98c224_c7ae_11ea_a0e8_0242ac1c0002row13_col13 {\n",
              "            background-color:  #4479bb;\n",
              "            color:  #000000;\n",
              "            max-width:  80px;\n",
              "            font-size:  10pt;\n",
              "        }</style><table id=\"T_3c98c224_c7ae_11ea_a0e8_0242ac1c0002\" ><caption>Hover to magify</caption><thead>    <tr>        <th class=\"blank level0\" ></th>        <th class=\"col_heading level0 col0\" >condition</th>        <th class=\"col_heading level0 col1\" >drugid</th>        <th class=\"col_heading level0 col2\" >easeofuse</th>        <th class=\"col_heading level0 col3\" >effectiveness</th>        <th class=\"col_heading level0 col4\" >usefulcount</th>        <th class=\"col_heading level0 col5\" >satisfaction</th>        <th class=\"col_heading level0 col6\" >uniqueid</th>        <th class=\"col_heading level0 col7\" >lstm_score</th>        <th class=\"col_heading level0 col8\" >count_word</th>        <th class=\"col_heading level0 col9\" >count_unique_word</th>        <th class=\"col_heading level0 col10\" >count_letters</th>        <th class=\"col_heading level0 col11\" >count_punctuations</th>        <th class=\"col_heading level0 col12\" >count_stopwords</th>        <th class=\"col_heading level0 col13\" >mean_word_len</th>    </tr></thead><tbody>\n",
              "                <tr>\n",
              "                        <th id=\"T_3c98c224_c7ae_11ea_a0e8_0242ac1c0002level0_row0\" class=\"row_heading level0 row0\" >condition</th>\n",
              "                        <td id=\"T_3c98c224_c7ae_11ea_a0e8_0242ac1c0002row0_col0\" class=\"data row0 col0\" >1.00</td>\n",
              "                        <td id=\"T_3c98c224_c7ae_11ea_a0e8_0242ac1c0002row0_col1\" class=\"data row0 col1\" >-0.11</td>\n",
              "                        <td id=\"T_3c98c224_c7ae_11ea_a0e8_0242ac1c0002row0_col2\" class=\"data row0 col2\" >-0.03</td>\n",
              "                        <td id=\"T_3c98c224_c7ae_11ea_a0e8_0242ac1c0002row0_col3\" class=\"data row0 col3\" >-0.04</td>\n",
              "                        <td id=\"T_3c98c224_c7ae_11ea_a0e8_0242ac1c0002row0_col4\" class=\"data row0 col4\" >-0.01</td>\n",
              "                        <td id=\"T_3c98c224_c7ae_11ea_a0e8_0242ac1c0002row0_col5\" class=\"data row0 col5\" >0.04</td>\n",
              "                        <td id=\"T_3c98c224_c7ae_11ea_a0e8_0242ac1c0002row0_col6\" class=\"data row0 col6\" >0.00</td>\n",
              "                        <td id=\"T_3c98c224_c7ae_11ea_a0e8_0242ac1c0002row0_col7\" class=\"data row0 col7\" >0.02</td>\n",
              "                        <td id=\"T_3c98c224_c7ae_11ea_a0e8_0242ac1c0002row0_col8\" class=\"data row0 col8\" >-0.05</td>\n",
              "                        <td id=\"T_3c98c224_c7ae_11ea_a0e8_0242ac1c0002row0_col9\" class=\"data row0 col9\" >-0.06</td>\n",
              "                        <td id=\"T_3c98c224_c7ae_11ea_a0e8_0242ac1c0002row0_col10\" class=\"data row0 col10\" >-0.05</td>\n",
              "                        <td id=\"T_3c98c224_c7ae_11ea_a0e8_0242ac1c0002row0_col11\" class=\"data row0 col11\" >-0.05</td>\n",
              "                        <td id=\"T_3c98c224_c7ae_11ea_a0e8_0242ac1c0002row0_col12\" class=\"data row0 col12\" >-0.06</td>\n",
              "                        <td id=\"T_3c98c224_c7ae_11ea_a0e8_0242ac1c0002row0_col13\" class=\"data row0 col13\" >0.00</td>\n",
              "            </tr>\n",
              "            <tr>\n",
              "                        <th id=\"T_3c98c224_c7ae_11ea_a0e8_0242ac1c0002level0_row1\" class=\"row_heading level0 row1\" >drugid</th>\n",
              "                        <td id=\"T_3c98c224_c7ae_11ea_a0e8_0242ac1c0002row1_col0\" class=\"data row1 col0\" >-0.11</td>\n",
              "                        <td id=\"T_3c98c224_c7ae_11ea_a0e8_0242ac1c0002row1_col1\" class=\"data row1 col1\" >1.00</td>\n",
              "                        <td id=\"T_3c98c224_c7ae_11ea_a0e8_0242ac1c0002row1_col2\" class=\"data row1 col2\" >-0.05</td>\n",
              "                        <td id=\"T_3c98c224_c7ae_11ea_a0e8_0242ac1c0002row1_col3\" class=\"data row1 col3\" >-0.03</td>\n",
              "                        <td id=\"T_3c98c224_c7ae_11ea_a0e8_0242ac1c0002row1_col4\" class=\"data row1 col4\" >0.03</td>\n",
              "                        <td id=\"T_3c98c224_c7ae_11ea_a0e8_0242ac1c0002row1_col5\" class=\"data row1 col5\" >-0.05</td>\n",
              "                        <td id=\"T_3c98c224_c7ae_11ea_a0e8_0242ac1c0002row1_col6\" class=\"data row1 col6\" >-0.01</td>\n",
              "                        <td id=\"T_3c98c224_c7ae_11ea_a0e8_0242ac1c0002row1_col7\" class=\"data row1 col7\" >-0.02</td>\n",
              "                        <td id=\"T_3c98c224_c7ae_11ea_a0e8_0242ac1c0002row1_col8\" class=\"data row1 col8\" >0.09</td>\n",
              "                        <td id=\"T_3c98c224_c7ae_11ea_a0e8_0242ac1c0002row1_col9\" class=\"data row1 col9\" >0.09</td>\n",
              "                        <td id=\"T_3c98c224_c7ae_11ea_a0e8_0242ac1c0002row1_col10\" class=\"data row1 col10\" >0.09</td>\n",
              "                        <td id=\"T_3c98c224_c7ae_11ea_a0e8_0242ac1c0002row1_col11\" class=\"data row1 col11\" >0.07</td>\n",
              "                        <td id=\"T_3c98c224_c7ae_11ea_a0e8_0242ac1c0002row1_col12\" class=\"data row1 col12\" >0.09</td>\n",
              "                        <td id=\"T_3c98c224_c7ae_11ea_a0e8_0242ac1c0002row1_col13\" class=\"data row1 col13\" >-0.00</td>\n",
              "            </tr>\n",
              "            <tr>\n",
              "                        <th id=\"T_3c98c224_c7ae_11ea_a0e8_0242ac1c0002level0_row2\" class=\"row_heading level0 row2\" >easeofuse</th>\n",
              "                        <td id=\"T_3c98c224_c7ae_11ea_a0e8_0242ac1c0002row2_col0\" class=\"data row2 col0\" >-0.03</td>\n",
              "                        <td id=\"T_3c98c224_c7ae_11ea_a0e8_0242ac1c0002row2_col1\" class=\"data row2 col1\" >-0.05</td>\n",
              "                        <td id=\"T_3c98c224_c7ae_11ea_a0e8_0242ac1c0002row2_col2\" class=\"data row2 col2\" >1.00</td>\n",
              "                        <td id=\"T_3c98c224_c7ae_11ea_a0e8_0242ac1c0002row2_col3\" class=\"data row2 col3\" >0.49</td>\n",
              "                        <td id=\"T_3c98c224_c7ae_11ea_a0e8_0242ac1c0002row2_col4\" class=\"data row2 col4\" >0.05</td>\n",
              "                        <td id=\"T_3c98c224_c7ae_11ea_a0e8_0242ac1c0002row2_col5\" class=\"data row2 col5\" >0.50</td>\n",
              "                        <td id=\"T_3c98c224_c7ae_11ea_a0e8_0242ac1c0002row2_col6\" class=\"data row2 col6\" >0.01</td>\n",
              "                        <td id=\"T_3c98c224_c7ae_11ea_a0e8_0242ac1c0002row2_col7\" class=\"data row2 col7\" >0.00</td>\n",
              "                        <td id=\"T_3c98c224_c7ae_11ea_a0e8_0242ac1c0002row2_col8\" class=\"data row2 col8\" >0.00</td>\n",
              "                        <td id=\"T_3c98c224_c7ae_11ea_a0e8_0242ac1c0002row2_col9\" class=\"data row2 col9\" >0.01</td>\n",
              "                        <td id=\"T_3c98c224_c7ae_11ea_a0e8_0242ac1c0002row2_col10\" class=\"data row2 col10\" >0.00</td>\n",
              "                        <td id=\"T_3c98c224_c7ae_11ea_a0e8_0242ac1c0002row2_col11\" class=\"data row2 col11\" >0.01</td>\n",
              "                        <td id=\"T_3c98c224_c7ae_11ea_a0e8_0242ac1c0002row2_col12\" class=\"data row2 col12\" >0.02</td>\n",
              "                        <td id=\"T_3c98c224_c7ae_11ea_a0e8_0242ac1c0002row2_col13\" class=\"data row2 col13\" >-0.01</td>\n",
              "            </tr>\n",
              "            <tr>\n",
              "                        <th id=\"T_3c98c224_c7ae_11ea_a0e8_0242ac1c0002level0_row3\" class=\"row_heading level0 row3\" >effectiveness</th>\n",
              "                        <td id=\"T_3c98c224_c7ae_11ea_a0e8_0242ac1c0002row3_col0\" class=\"data row3 col0\" >-0.04</td>\n",
              "                        <td id=\"T_3c98c224_c7ae_11ea_a0e8_0242ac1c0002row3_col1\" class=\"data row3 col1\" >-0.03</td>\n",
              "                        <td id=\"T_3c98c224_c7ae_11ea_a0e8_0242ac1c0002row3_col2\" class=\"data row3 col2\" >0.49</td>\n",
              "                        <td id=\"T_3c98c224_c7ae_11ea_a0e8_0242ac1c0002row3_col3\" class=\"data row3 col3\" >1.00</td>\n",
              "                        <td id=\"T_3c98c224_c7ae_11ea_a0e8_0242ac1c0002row3_col4\" class=\"data row3 col4\" >0.06</td>\n",
              "                        <td id=\"T_3c98c224_c7ae_11ea_a0e8_0242ac1c0002row3_col5\" class=\"data row3 col5\" >0.73</td>\n",
              "                        <td id=\"T_3c98c224_c7ae_11ea_a0e8_0242ac1c0002row3_col6\" class=\"data row3 col6\" >0.01</td>\n",
              "                        <td id=\"T_3c98c224_c7ae_11ea_a0e8_0242ac1c0002row3_col7\" class=\"data row3 col7\" >-0.00</td>\n",
              "                        <td id=\"T_3c98c224_c7ae_11ea_a0e8_0242ac1c0002row3_col8\" class=\"data row3 col8\" >0.07</td>\n",
              "                        <td id=\"T_3c98c224_c7ae_11ea_a0e8_0242ac1c0002row3_col9\" class=\"data row3 col9\" >0.08</td>\n",
              "                        <td id=\"T_3c98c224_c7ae_11ea_a0e8_0242ac1c0002row3_col10\" class=\"data row3 col10\" >0.07</td>\n",
              "                        <td id=\"T_3c98c224_c7ae_11ea_a0e8_0242ac1c0002row3_col11\" class=\"data row3 col11\" >0.06</td>\n",
              "                        <td id=\"T_3c98c224_c7ae_11ea_a0e8_0242ac1c0002row3_col12\" class=\"data row3 col12\" >0.08</td>\n",
              "                        <td id=\"T_3c98c224_c7ae_11ea_a0e8_0242ac1c0002row3_col13\" class=\"data row3 col13\" >-0.00</td>\n",
              "            </tr>\n",
              "            <tr>\n",
              "                        <th id=\"T_3c98c224_c7ae_11ea_a0e8_0242ac1c0002level0_row4\" class=\"row_heading level0 row4\" >usefulcount</th>\n",
              "                        <td id=\"T_3c98c224_c7ae_11ea_a0e8_0242ac1c0002row4_col0\" class=\"data row4 col0\" >-0.01</td>\n",
              "                        <td id=\"T_3c98c224_c7ae_11ea_a0e8_0242ac1c0002row4_col1\" class=\"data row4 col1\" >0.03</td>\n",
              "                        <td id=\"T_3c98c224_c7ae_11ea_a0e8_0242ac1c0002row4_col2\" class=\"data row4 col2\" >0.05</td>\n",
              "                        <td id=\"T_3c98c224_c7ae_11ea_a0e8_0242ac1c0002row4_col3\" class=\"data row4 col3\" >0.06</td>\n",
              "                        <td id=\"T_3c98c224_c7ae_11ea_a0e8_0242ac1c0002row4_col4\" class=\"data row4 col4\" >1.00</td>\n",
              "                        <td id=\"T_3c98c224_c7ae_11ea_a0e8_0242ac1c0002row4_col5\" class=\"data row4 col5\" >0.07</td>\n",
              "                        <td id=\"T_3c98c224_c7ae_11ea_a0e8_0242ac1c0002row4_col6\" class=\"data row4 col6\" >0.01</td>\n",
              "                        <td id=\"T_3c98c224_c7ae_11ea_a0e8_0242ac1c0002row4_col7\" class=\"data row4 col7\" >-0.04</td>\n",
              "                        <td id=\"T_3c98c224_c7ae_11ea_a0e8_0242ac1c0002row4_col8\" class=\"data row4 col8\" >0.19</td>\n",
              "                        <td id=\"T_3c98c224_c7ae_11ea_a0e8_0242ac1c0002row4_col9\" class=\"data row4 col9\" >0.20</td>\n",
              "                        <td id=\"T_3c98c224_c7ae_11ea_a0e8_0242ac1c0002row4_col10\" class=\"data row4 col10\" >0.20</td>\n",
              "                        <td id=\"T_3c98c224_c7ae_11ea_a0e8_0242ac1c0002row4_col11\" class=\"data row4 col11\" >0.17</td>\n",
              "                        <td id=\"T_3c98c224_c7ae_11ea_a0e8_0242ac1c0002row4_col12\" class=\"data row4 col12\" >0.18</td>\n",
              "                        <td id=\"T_3c98c224_c7ae_11ea_a0e8_0242ac1c0002row4_col13\" class=\"data row4 col13\" >-0.00</td>\n",
              "            </tr>\n",
              "            <tr>\n",
              "                        <th id=\"T_3c98c224_c7ae_11ea_a0e8_0242ac1c0002level0_row5\" class=\"row_heading level0 row5\" >satisfaction</th>\n",
              "                        <td id=\"T_3c98c224_c7ae_11ea_a0e8_0242ac1c0002row5_col0\" class=\"data row5 col0\" >0.04</td>\n",
              "                        <td id=\"T_3c98c224_c7ae_11ea_a0e8_0242ac1c0002row5_col1\" class=\"data row5 col1\" >-0.05</td>\n",
              "                        <td id=\"T_3c98c224_c7ae_11ea_a0e8_0242ac1c0002row5_col2\" class=\"data row5 col2\" >0.50</td>\n",
              "                        <td id=\"T_3c98c224_c7ae_11ea_a0e8_0242ac1c0002row5_col3\" class=\"data row5 col3\" >0.73</td>\n",
              "                        <td id=\"T_3c98c224_c7ae_11ea_a0e8_0242ac1c0002row5_col4\" class=\"data row5 col4\" >0.07</td>\n",
              "                        <td id=\"T_3c98c224_c7ae_11ea_a0e8_0242ac1c0002row5_col5\" class=\"data row5 col5\" >1.00</td>\n",
              "                        <td id=\"T_3c98c224_c7ae_11ea_a0e8_0242ac1c0002row5_col6\" class=\"data row5 col6\" >0.00</td>\n",
              "                        <td id=\"T_3c98c224_c7ae_11ea_a0e8_0242ac1c0002row5_col7\" class=\"data row5 col7\" >0.02</td>\n",
              "                        <td id=\"T_3c98c224_c7ae_11ea_a0e8_0242ac1c0002row5_col8\" class=\"data row5 col8\" >-0.02</td>\n",
              "                        <td id=\"T_3c98c224_c7ae_11ea_a0e8_0242ac1c0002row5_col9\" class=\"data row5 col9\" >-0.02</td>\n",
              "                        <td id=\"T_3c98c224_c7ae_11ea_a0e8_0242ac1c0002row5_col10\" class=\"data row5 col10\" >-0.02</td>\n",
              "                        <td id=\"T_3c98c224_c7ae_11ea_a0e8_0242ac1c0002row5_col11\" class=\"data row5 col11\" >-0.02</td>\n",
              "                        <td id=\"T_3c98c224_c7ae_11ea_a0e8_0242ac1c0002row5_col12\" class=\"data row5 col12\" >-0.01</td>\n",
              "                        <td id=\"T_3c98c224_c7ae_11ea_a0e8_0242ac1c0002row5_col13\" class=\"data row5 col13\" >0.00</td>\n",
              "            </tr>\n",
              "            <tr>\n",
              "                        <th id=\"T_3c98c224_c7ae_11ea_a0e8_0242ac1c0002level0_row6\" class=\"row_heading level0 row6\" >uniqueid</th>\n",
              "                        <td id=\"T_3c98c224_c7ae_11ea_a0e8_0242ac1c0002row6_col0\" class=\"data row6 col0\" >0.00</td>\n",
              "                        <td id=\"T_3c98c224_c7ae_11ea_a0e8_0242ac1c0002row6_col1\" class=\"data row6 col1\" >-0.01</td>\n",
              "                        <td id=\"T_3c98c224_c7ae_11ea_a0e8_0242ac1c0002row6_col2\" class=\"data row6 col2\" >0.01</td>\n",
              "                        <td id=\"T_3c98c224_c7ae_11ea_a0e8_0242ac1c0002row6_col3\" class=\"data row6 col3\" >0.01</td>\n",
              "                        <td id=\"T_3c98c224_c7ae_11ea_a0e8_0242ac1c0002row6_col4\" class=\"data row6 col4\" >0.01</td>\n",
              "                        <td id=\"T_3c98c224_c7ae_11ea_a0e8_0242ac1c0002row6_col5\" class=\"data row6 col5\" >0.00</td>\n",
              "                        <td id=\"T_3c98c224_c7ae_11ea_a0e8_0242ac1c0002row6_col6\" class=\"data row6 col6\" >1.00</td>\n",
              "                        <td id=\"T_3c98c224_c7ae_11ea_a0e8_0242ac1c0002row6_col7\" class=\"data row6 col7\" >0.01</td>\n",
              "                        <td id=\"T_3c98c224_c7ae_11ea_a0e8_0242ac1c0002row6_col8\" class=\"data row6 col8\" >0.00</td>\n",
              "                        <td id=\"T_3c98c224_c7ae_11ea_a0e8_0242ac1c0002row6_col9\" class=\"data row6 col9\" >-0.00</td>\n",
              "                        <td id=\"T_3c98c224_c7ae_11ea_a0e8_0242ac1c0002row6_col10\" class=\"data row6 col10\" >0.00</td>\n",
              "                        <td id=\"T_3c98c224_c7ae_11ea_a0e8_0242ac1c0002row6_col11\" class=\"data row6 col11\" >-0.00</td>\n",
              "                        <td id=\"T_3c98c224_c7ae_11ea_a0e8_0242ac1c0002row6_col12\" class=\"data row6 col12\" >0.00</td>\n",
              "                        <td id=\"T_3c98c224_c7ae_11ea_a0e8_0242ac1c0002row6_col13\" class=\"data row6 col13\" >0.00</td>\n",
              "            </tr>\n",
              "            <tr>\n",
              "                        <th id=\"T_3c98c224_c7ae_11ea_a0e8_0242ac1c0002level0_row7\" class=\"row_heading level0 row7\" >lstm_score</th>\n",
              "                        <td id=\"T_3c98c224_c7ae_11ea_a0e8_0242ac1c0002row7_col0\" class=\"data row7 col0\" >0.02</td>\n",
              "                        <td id=\"T_3c98c224_c7ae_11ea_a0e8_0242ac1c0002row7_col1\" class=\"data row7 col1\" >-0.02</td>\n",
              "                        <td id=\"T_3c98c224_c7ae_11ea_a0e8_0242ac1c0002row7_col2\" class=\"data row7 col2\" >0.00</td>\n",
              "                        <td id=\"T_3c98c224_c7ae_11ea_a0e8_0242ac1c0002row7_col3\" class=\"data row7 col3\" >-0.00</td>\n",
              "                        <td id=\"T_3c98c224_c7ae_11ea_a0e8_0242ac1c0002row7_col4\" class=\"data row7 col4\" >-0.04</td>\n",
              "                        <td id=\"T_3c98c224_c7ae_11ea_a0e8_0242ac1c0002row7_col5\" class=\"data row7 col5\" >0.02</td>\n",
              "                        <td id=\"T_3c98c224_c7ae_11ea_a0e8_0242ac1c0002row7_col6\" class=\"data row7 col6\" >0.01</td>\n",
              "                        <td id=\"T_3c98c224_c7ae_11ea_a0e8_0242ac1c0002row7_col7\" class=\"data row7 col7\" >1.00</td>\n",
              "                        <td id=\"T_3c98c224_c7ae_11ea_a0e8_0242ac1c0002row7_col8\" class=\"data row7 col8\" >-0.09</td>\n",
              "                        <td id=\"T_3c98c224_c7ae_11ea_a0e8_0242ac1c0002row7_col9\" class=\"data row7 col9\" >-0.10</td>\n",
              "                        <td id=\"T_3c98c224_c7ae_11ea_a0e8_0242ac1c0002row7_col10\" class=\"data row7 col10\" >-0.09</td>\n",
              "                        <td id=\"T_3c98c224_c7ae_11ea_a0e8_0242ac1c0002row7_col11\" class=\"data row7 col11\" >-0.07</td>\n",
              "                        <td id=\"T_3c98c224_c7ae_11ea_a0e8_0242ac1c0002row7_col12\" class=\"data row7 col12\" >-0.08</td>\n",
              "                        <td id=\"T_3c98c224_c7ae_11ea_a0e8_0242ac1c0002row7_col13\" class=\"data row7 col13\" >0.00</td>\n",
              "            </tr>\n",
              "            <tr>\n",
              "                        <th id=\"T_3c98c224_c7ae_11ea_a0e8_0242ac1c0002level0_row8\" class=\"row_heading level0 row8\" >count_word</th>\n",
              "                        <td id=\"T_3c98c224_c7ae_11ea_a0e8_0242ac1c0002row8_col0\" class=\"data row8 col0\" >-0.05</td>\n",
              "                        <td id=\"T_3c98c224_c7ae_11ea_a0e8_0242ac1c0002row8_col1\" class=\"data row8 col1\" >0.09</td>\n",
              "                        <td id=\"T_3c98c224_c7ae_11ea_a0e8_0242ac1c0002row8_col2\" class=\"data row8 col2\" >0.00</td>\n",
              "                        <td id=\"T_3c98c224_c7ae_11ea_a0e8_0242ac1c0002row8_col3\" class=\"data row8 col3\" >0.07</td>\n",
              "                        <td id=\"T_3c98c224_c7ae_11ea_a0e8_0242ac1c0002row8_col4\" class=\"data row8 col4\" >0.19</td>\n",
              "                        <td id=\"T_3c98c224_c7ae_11ea_a0e8_0242ac1c0002row8_col5\" class=\"data row8 col5\" >-0.02</td>\n",
              "                        <td id=\"T_3c98c224_c7ae_11ea_a0e8_0242ac1c0002row8_col6\" class=\"data row8 col6\" >0.00</td>\n",
              "                        <td id=\"T_3c98c224_c7ae_11ea_a0e8_0242ac1c0002row8_col7\" class=\"data row8 col7\" >-0.09</td>\n",
              "                        <td id=\"T_3c98c224_c7ae_11ea_a0e8_0242ac1c0002row8_col8\" class=\"data row8 col8\" >1.00</td>\n",
              "                        <td id=\"T_3c98c224_c7ae_11ea_a0e8_0242ac1c0002row8_col9\" class=\"data row8 col9\" >0.99</td>\n",
              "                        <td id=\"T_3c98c224_c7ae_11ea_a0e8_0242ac1c0002row8_col10\" class=\"data row8 col10\" >0.99</td>\n",
              "                        <td id=\"T_3c98c224_c7ae_11ea_a0e8_0242ac1c0002row8_col11\" class=\"data row8 col11\" >0.86</td>\n",
              "                        <td id=\"T_3c98c224_c7ae_11ea_a0e8_0242ac1c0002row8_col12\" class=\"data row8 col12\" >0.94</td>\n",
              "                        <td id=\"T_3c98c224_c7ae_11ea_a0e8_0242ac1c0002row8_col13\" class=\"data row8 col13\" >-0.01</td>\n",
              "            </tr>\n",
              "            <tr>\n",
              "                        <th id=\"T_3c98c224_c7ae_11ea_a0e8_0242ac1c0002level0_row9\" class=\"row_heading level0 row9\" >count_unique_word</th>\n",
              "                        <td id=\"T_3c98c224_c7ae_11ea_a0e8_0242ac1c0002row9_col0\" class=\"data row9 col0\" >-0.06</td>\n",
              "                        <td id=\"T_3c98c224_c7ae_11ea_a0e8_0242ac1c0002row9_col1\" class=\"data row9 col1\" >0.09</td>\n",
              "                        <td id=\"T_3c98c224_c7ae_11ea_a0e8_0242ac1c0002row9_col2\" class=\"data row9 col2\" >0.01</td>\n",
              "                        <td id=\"T_3c98c224_c7ae_11ea_a0e8_0242ac1c0002row9_col3\" class=\"data row9 col3\" >0.08</td>\n",
              "                        <td id=\"T_3c98c224_c7ae_11ea_a0e8_0242ac1c0002row9_col4\" class=\"data row9 col4\" >0.20</td>\n",
              "                        <td id=\"T_3c98c224_c7ae_11ea_a0e8_0242ac1c0002row9_col5\" class=\"data row9 col5\" >-0.02</td>\n",
              "                        <td id=\"T_3c98c224_c7ae_11ea_a0e8_0242ac1c0002row9_col6\" class=\"data row9 col6\" >-0.00</td>\n",
              "                        <td id=\"T_3c98c224_c7ae_11ea_a0e8_0242ac1c0002row9_col7\" class=\"data row9 col7\" >-0.10</td>\n",
              "                        <td id=\"T_3c98c224_c7ae_11ea_a0e8_0242ac1c0002row9_col8\" class=\"data row9 col8\" >0.99</td>\n",
              "                        <td id=\"T_3c98c224_c7ae_11ea_a0e8_0242ac1c0002row9_col9\" class=\"data row9 col9\" >1.00</td>\n",
              "                        <td id=\"T_3c98c224_c7ae_11ea_a0e8_0242ac1c0002row9_col10\" class=\"data row9 col10\" >0.99</td>\n",
              "                        <td id=\"T_3c98c224_c7ae_11ea_a0e8_0242ac1c0002row9_col11\" class=\"data row9 col11\" >0.85</td>\n",
              "                        <td id=\"T_3c98c224_c7ae_11ea_a0e8_0242ac1c0002row9_col12\" class=\"data row9 col12\" >0.94</td>\n",
              "                        <td id=\"T_3c98c224_c7ae_11ea_a0e8_0242ac1c0002row9_col13\" class=\"data row9 col13\" >-0.01</td>\n",
              "            </tr>\n",
              "            <tr>\n",
              "                        <th id=\"T_3c98c224_c7ae_11ea_a0e8_0242ac1c0002level0_row10\" class=\"row_heading level0 row10\" >count_letters</th>\n",
              "                        <td id=\"T_3c98c224_c7ae_11ea_a0e8_0242ac1c0002row10_col0\" class=\"data row10 col0\" >-0.05</td>\n",
              "                        <td id=\"T_3c98c224_c7ae_11ea_a0e8_0242ac1c0002row10_col1\" class=\"data row10 col1\" >0.09</td>\n",
              "                        <td id=\"T_3c98c224_c7ae_11ea_a0e8_0242ac1c0002row10_col2\" class=\"data row10 col2\" >0.00</td>\n",
              "                        <td id=\"T_3c98c224_c7ae_11ea_a0e8_0242ac1c0002row10_col3\" class=\"data row10 col3\" >0.07</td>\n",
              "                        <td id=\"T_3c98c224_c7ae_11ea_a0e8_0242ac1c0002row10_col4\" class=\"data row10 col4\" >0.20</td>\n",
              "                        <td id=\"T_3c98c224_c7ae_11ea_a0e8_0242ac1c0002row10_col5\" class=\"data row10 col5\" >-0.02</td>\n",
              "                        <td id=\"T_3c98c224_c7ae_11ea_a0e8_0242ac1c0002row10_col6\" class=\"data row10 col6\" >0.00</td>\n",
              "                        <td id=\"T_3c98c224_c7ae_11ea_a0e8_0242ac1c0002row10_col7\" class=\"data row10 col7\" >-0.09</td>\n",
              "                        <td id=\"T_3c98c224_c7ae_11ea_a0e8_0242ac1c0002row10_col8\" class=\"data row10 col8\" >0.99</td>\n",
              "                        <td id=\"T_3c98c224_c7ae_11ea_a0e8_0242ac1c0002row10_col9\" class=\"data row10 col9\" >0.99</td>\n",
              "                        <td id=\"T_3c98c224_c7ae_11ea_a0e8_0242ac1c0002row10_col10\" class=\"data row10 col10\" >1.00</td>\n",
              "                        <td id=\"T_3c98c224_c7ae_11ea_a0e8_0242ac1c0002row10_col11\" class=\"data row10 col11\" >0.84</td>\n",
              "                        <td id=\"T_3c98c224_c7ae_11ea_a0e8_0242ac1c0002row10_col12\" class=\"data row10 col12\" >0.94</td>\n",
              "                        <td id=\"T_3c98c224_c7ae_11ea_a0e8_0242ac1c0002row10_col13\" class=\"data row10 col13\" >0.03</td>\n",
              "            </tr>\n",
              "            <tr>\n",
              "                        <th id=\"T_3c98c224_c7ae_11ea_a0e8_0242ac1c0002level0_row11\" class=\"row_heading level0 row11\" >count_punctuations</th>\n",
              "                        <td id=\"T_3c98c224_c7ae_11ea_a0e8_0242ac1c0002row11_col0\" class=\"data row11 col0\" >-0.05</td>\n",
              "                        <td id=\"T_3c98c224_c7ae_11ea_a0e8_0242ac1c0002row11_col1\" class=\"data row11 col1\" >0.07</td>\n",
              "                        <td id=\"T_3c98c224_c7ae_11ea_a0e8_0242ac1c0002row11_col2\" class=\"data row11 col2\" >0.01</td>\n",
              "                        <td id=\"T_3c98c224_c7ae_11ea_a0e8_0242ac1c0002row11_col3\" class=\"data row11 col3\" >0.06</td>\n",
              "                        <td id=\"T_3c98c224_c7ae_11ea_a0e8_0242ac1c0002row11_col4\" class=\"data row11 col4\" >0.17</td>\n",
              "                        <td id=\"T_3c98c224_c7ae_11ea_a0e8_0242ac1c0002row11_col5\" class=\"data row11 col5\" >-0.02</td>\n",
              "                        <td id=\"T_3c98c224_c7ae_11ea_a0e8_0242ac1c0002row11_col6\" class=\"data row11 col6\" >-0.00</td>\n",
              "                        <td id=\"T_3c98c224_c7ae_11ea_a0e8_0242ac1c0002row11_col7\" class=\"data row11 col7\" >-0.07</td>\n",
              "                        <td id=\"T_3c98c224_c7ae_11ea_a0e8_0242ac1c0002row11_col8\" class=\"data row11 col8\" >0.86</td>\n",
              "                        <td id=\"T_3c98c224_c7ae_11ea_a0e8_0242ac1c0002row11_col9\" class=\"data row11 col9\" >0.85</td>\n",
              "                        <td id=\"T_3c98c224_c7ae_11ea_a0e8_0242ac1c0002row11_col10\" class=\"data row11 col10\" >0.84</td>\n",
              "                        <td id=\"T_3c98c224_c7ae_11ea_a0e8_0242ac1c0002row11_col11\" class=\"data row11 col11\" >1.00</td>\n",
              "                        <td id=\"T_3c98c224_c7ae_11ea_a0e8_0242ac1c0002row11_col12\" class=\"data row11 col12\" >0.77</td>\n",
              "                        <td id=\"T_3c98c224_c7ae_11ea_a0e8_0242ac1c0002row11_col13\" class=\"data row11 col13\" >-0.02</td>\n",
              "            </tr>\n",
              "            <tr>\n",
              "                        <th id=\"T_3c98c224_c7ae_11ea_a0e8_0242ac1c0002level0_row12\" class=\"row_heading level0 row12\" >count_stopwords</th>\n",
              "                        <td id=\"T_3c98c224_c7ae_11ea_a0e8_0242ac1c0002row12_col0\" class=\"data row12 col0\" >-0.06</td>\n",
              "                        <td id=\"T_3c98c224_c7ae_11ea_a0e8_0242ac1c0002row12_col1\" class=\"data row12 col1\" >0.09</td>\n",
              "                        <td id=\"T_3c98c224_c7ae_11ea_a0e8_0242ac1c0002row12_col2\" class=\"data row12 col2\" >0.02</td>\n",
              "                        <td id=\"T_3c98c224_c7ae_11ea_a0e8_0242ac1c0002row12_col3\" class=\"data row12 col3\" >0.08</td>\n",
              "                        <td id=\"T_3c98c224_c7ae_11ea_a0e8_0242ac1c0002row12_col4\" class=\"data row12 col4\" >0.18</td>\n",
              "                        <td id=\"T_3c98c224_c7ae_11ea_a0e8_0242ac1c0002row12_col5\" class=\"data row12 col5\" >-0.01</td>\n",
              "                        <td id=\"T_3c98c224_c7ae_11ea_a0e8_0242ac1c0002row12_col6\" class=\"data row12 col6\" >0.00</td>\n",
              "                        <td id=\"T_3c98c224_c7ae_11ea_a0e8_0242ac1c0002row12_col7\" class=\"data row12 col7\" >-0.08</td>\n",
              "                        <td id=\"T_3c98c224_c7ae_11ea_a0e8_0242ac1c0002row12_col8\" class=\"data row12 col8\" >0.94</td>\n",
              "                        <td id=\"T_3c98c224_c7ae_11ea_a0e8_0242ac1c0002row12_col9\" class=\"data row12 col9\" >0.94</td>\n",
              "                        <td id=\"T_3c98c224_c7ae_11ea_a0e8_0242ac1c0002row12_col10\" class=\"data row12 col10\" >0.94</td>\n",
              "                        <td id=\"T_3c98c224_c7ae_11ea_a0e8_0242ac1c0002row12_col11\" class=\"data row12 col11\" >0.77</td>\n",
              "                        <td id=\"T_3c98c224_c7ae_11ea_a0e8_0242ac1c0002row12_col12\" class=\"data row12 col12\" >1.00</td>\n",
              "                        <td id=\"T_3c98c224_c7ae_11ea_a0e8_0242ac1c0002row12_col13\" class=\"data row12 col13\" >-0.01</td>\n",
              "            </tr>\n",
              "            <tr>\n",
              "                        <th id=\"T_3c98c224_c7ae_11ea_a0e8_0242ac1c0002level0_row13\" class=\"row_heading level0 row13\" >mean_word_len</th>\n",
              "                        <td id=\"T_3c98c224_c7ae_11ea_a0e8_0242ac1c0002row13_col0\" class=\"data row13 col0\" >0.00</td>\n",
              "                        <td id=\"T_3c98c224_c7ae_11ea_a0e8_0242ac1c0002row13_col1\" class=\"data row13 col1\" >-0.00</td>\n",
              "                        <td id=\"T_3c98c224_c7ae_11ea_a0e8_0242ac1c0002row13_col2\" class=\"data row13 col2\" >-0.01</td>\n",
              "                        <td id=\"T_3c98c224_c7ae_11ea_a0e8_0242ac1c0002row13_col3\" class=\"data row13 col3\" >-0.00</td>\n",
              "                        <td id=\"T_3c98c224_c7ae_11ea_a0e8_0242ac1c0002row13_col4\" class=\"data row13 col4\" >-0.00</td>\n",
              "                        <td id=\"T_3c98c224_c7ae_11ea_a0e8_0242ac1c0002row13_col5\" class=\"data row13 col5\" >0.00</td>\n",
              "                        <td id=\"T_3c98c224_c7ae_11ea_a0e8_0242ac1c0002row13_col6\" class=\"data row13 col6\" >0.00</td>\n",
              "                        <td id=\"T_3c98c224_c7ae_11ea_a0e8_0242ac1c0002row13_col7\" class=\"data row13 col7\" >0.00</td>\n",
              "                        <td id=\"T_3c98c224_c7ae_11ea_a0e8_0242ac1c0002row13_col8\" class=\"data row13 col8\" >-0.01</td>\n",
              "                        <td id=\"T_3c98c224_c7ae_11ea_a0e8_0242ac1c0002row13_col9\" class=\"data row13 col9\" >-0.01</td>\n",
              "                        <td id=\"T_3c98c224_c7ae_11ea_a0e8_0242ac1c0002row13_col10\" class=\"data row13 col10\" >0.03</td>\n",
              "                        <td id=\"T_3c98c224_c7ae_11ea_a0e8_0242ac1c0002row13_col11\" class=\"data row13 col11\" >-0.02</td>\n",
              "                        <td id=\"T_3c98c224_c7ae_11ea_a0e8_0242ac1c0002row13_col12\" class=\"data row13 col12\" >-0.01</td>\n",
              "                        <td id=\"T_3c98c224_c7ae_11ea_a0e8_0242ac1c0002row13_col13\" class=\"data row13 col13\" >1.00</td>\n",
              "            </tr>\n",
              "    </tbody></table>"
            ],
            "text/plain": [
              "<pandas.io.formats.style.Styler at 0x7fa9e40856a0>"
            ]
          },
          "metadata": {
            "tags": []
          },
          "execution_count": 69
        }
      ]
    },
    {
      "cell_type": "code",
      "metadata": {
        "id": "1q0fyCU7UZ_A",
        "colab_type": "code",
        "colab": {}
      },
      "source": [
        "drugs = drugs.dropna(how = 'any', axis = 0)"
      ],
      "execution_count": 70,
      "outputs": []
    },
    {
      "cell_type": "code",
      "metadata": {
        "id": "C7EwRBynUFKG",
        "colab_type": "code",
        "colab": {
          "base_uri": "https://localhost:8080/",
          "height": 336
        },
        "outputId": "b60d6f04-f759-4d86-acd1-d2c0ac62360f"
      },
      "source": [
        "# Final check for any Nan Values in Pre-processed Dataset.\n",
        "drugs.isna().sum()"
      ],
      "execution_count": 71,
      "outputs": [
        {
          "output_type": "execute_result",
          "data": {
            "text/plain": [
              "condition             0\n",
              "drug                  0\n",
              "drugid                0\n",
              "easeofuse             0\n",
              "effectiveness         0\n",
              "reviews               0\n",
              "usefulcount           0\n",
              "satisfaction          0\n",
              "uniqueid              0\n",
              "reviews_clean         0\n",
              "lstm_score            0\n",
              "count_word            0\n",
              "count_unique_word     0\n",
              "count_letters         0\n",
              "count_punctuations    0\n",
              "count_stopwords       0\n",
              "mean_word_len         0\n",
              "dtype: int64"
            ]
          },
          "metadata": {
            "tags": []
          },
          "execution_count": 71
        }
      ]
    },
    {
      "cell_type": "code",
      "metadata": {
        "id": "5oXLnxKyGrh2",
        "colab_type": "code",
        "colab": {
          "base_uri": "https://localhost:8080/",
          "height": 336
        },
        "outputId": "962fc165-822d-4fb6-cc33-fcfa57128b4a"
      },
      "source": [
        "drugs.dtypes"
      ],
      "execution_count": 72,
      "outputs": [
        {
          "output_type": "execute_result",
          "data": {
            "text/plain": [
              "condition               int64\n",
              "drug                   object\n",
              "drugid                float64\n",
              "easeofuse             float64\n",
              "effectiveness         float64\n",
              "reviews                object\n",
              "usefulcount           float64\n",
              "satisfaction          float64\n",
              "uniqueid                int64\n",
              "reviews_clean          object\n",
              "lstm_score              int64\n",
              "count_word              int64\n",
              "count_unique_word       int64\n",
              "count_letters           int64\n",
              "count_punctuations      int64\n",
              "count_stopwords         int64\n",
              "mean_word_len         float64\n",
              "dtype: object"
            ]
          },
          "metadata": {
            "tags": []
          },
          "execution_count": 72
        }
      ]
    },
    {
      "cell_type": "code",
      "metadata": {
        "id": "VFELlO4NPhNq",
        "colab_type": "code",
        "colab": {
          "base_uri": "https://localhost:8080/",
          "height": 181
        },
        "outputId": "54bd47c5-b736-4fc7-d2e7-b04b92d0635d"
      },
      "source": [
        "drugs.head(1)"
      ],
      "execution_count": 73,
      "outputs": [
        {
          "output_type": "execute_result",
          "data": {
            "text/html": [
              "<div>\n",
              "<style scoped>\n",
              "    .dataframe tbody tr th:only-of-type {\n",
              "        vertical-align: middle;\n",
              "    }\n",
              "\n",
              "    .dataframe tbody tr th {\n",
              "        vertical-align: top;\n",
              "    }\n",
              "\n",
              "    .dataframe thead th {\n",
              "        text-align: right;\n",
              "    }\n",
              "</style>\n",
              "<table border=\"1\" class=\"dataframe\">\n",
              "  <thead>\n",
              "    <tr style=\"text-align: right;\">\n",
              "      <th></th>\n",
              "      <th>condition</th>\n",
              "      <th>drug</th>\n",
              "      <th>drugid</th>\n",
              "      <th>easeofuse</th>\n",
              "      <th>effectiveness</th>\n",
              "      <th>reviews</th>\n",
              "      <th>usefulcount</th>\n",
              "      <th>satisfaction</th>\n",
              "      <th>uniqueid</th>\n",
              "      <th>reviews_clean</th>\n",
              "      <th>lstm_score</th>\n",
              "      <th>count_word</th>\n",
              "      <th>count_unique_word</th>\n",
              "      <th>count_letters</th>\n",
              "      <th>count_punctuations</th>\n",
              "      <th>count_stopwords</th>\n",
              "      <th>mean_word_len</th>\n",
              "    </tr>\n",
              "  </thead>\n",
              "  <tbody>\n",
              "    <tr>\n",
              "      <th>0</th>\n",
              "      <td>755</td>\n",
              "      <td>zyrtec</td>\n",
              "      <td>12127.0</td>\n",
              "      <td>5.0</td>\n",
              "      <td>5.0</td>\n",
              "      <td>the best thing ever for me. it took two days o...</td>\n",
              "      <td>0.0</td>\n",
              "      <td>4.0</td>\n",
              "      <td>0</td>\n",
              "      <td>best thing ever me took two day use otc kick t...</td>\n",
              "      <td>5</td>\n",
              "      <td>41</td>\n",
              "      <td>33</td>\n",
              "      <td>231</td>\n",
              "      <td>11</td>\n",
              "      <td>41</td>\n",
              "      <td>4.658537</td>\n",
              "    </tr>\n",
              "  </tbody>\n",
              "</table>\n",
              "</div>"
            ],
            "text/plain": [
              "   condition    drug  ...  count_stopwords  mean_word_len\n",
              "0        755  zyrtec  ...               41       4.658537\n",
              "\n",
              "[1 rows x 17 columns]"
            ]
          },
          "metadata": {
            "tags": []
          },
          "execution_count": 73
        }
      ]
    },
    {
      "cell_type": "markdown",
      "metadata": {
        "id": "7MHIYRuQ7PKD",
        "colab_type": "text"
      },
      "source": [
        "# Importing Libraries for the Machine Learning Model\n"
      ]
    },
    {
      "cell_type": "code",
      "metadata": {
        "trusted": true,
        "id": "MADHXiIa7PKE",
        "colab_type": "code",
        "colab": {}
      },
      "source": [
        "# Importing Libraries for the Machine Learning Model\n",
        "from sklearn.model_selection import KFold, cross_val_score\n",
        "from xgboost import XGBClassifier\n",
        "from sklearn.naive_bayes import GaussianNB\n",
        "from lightgbm import LGBMModel,LGBMClassifier, plot_importance\n",
        "from sklearn.linear_model import SGDClassifier\n",
        "from sklearn.neighbors import KNeighborsClassifier\n",
        "from xgboost import XGBClassifier\n",
        "import time\n",
        "from sklearn.metrics import confusion_matrix, accuracy_score, classification_report, precision_score\n",
        "from sklearn.model_selection import train_test_split, cross_val_predict\n",
        "\n",
        "from sklearn.metrics import roc_auc_score\n",
        "from sklearn.preprocessing import LabelBinarizer"
      ],
      "execution_count": 74,
      "outputs": []
    },
    {
      "cell_type": "code",
      "metadata": {
        "id": "eXKflaR1Dgnp",
        "colab_type": "code",
        "colab": {
          "base_uri": "https://localhost:8080/",
          "height": 123
        },
        "outputId": "09db28cf-7873-45cd-f77f-f50be14ffa99"
      },
      "source": [
        "# Almost Equal number of instances for all classes in Target Column.\n",
        "drugs['satisfaction'].value_counts()"
      ],
      "execution_count": 75,
      "outputs": [
        {
          "output_type": "execute_result",
          "data": {
            "text/plain": [
              "1.0    8492\n",
              "4.0    8492\n",
              "2.0    8491\n",
              "5.0    8490\n",
              "3.0    8486\n",
              "Name: satisfaction, dtype: int64"
            ]
          },
          "metadata": {
            "tags": []
          },
          "execution_count": 75
        }
      ]
    },
    {
      "cell_type": "code",
      "metadata": {
        "trusted": true,
        "id": "ztlt9AC47PKH",
        "colab_type": "code",
        "colab": {
          "base_uri": "https://localhost:8080/",
          "height": 52
        },
        "outputId": "23f50365-f17e-44d2-fe7c-8cccfd087f2b"
      },
      "source": [
        "# Defining Features/target and splitting the data as train and test set with 30% split ratio.\n",
        "features = drugs[[ 'effectiveness', 'lstm_score', 'easeofuse', 'condition', 'count_letters',\n",
        "                   ]]\n",
        "\n",
        "target = drugs['satisfaction']\n",
        "\n",
        "X_train, X_test, y_train, y_test = train_test_split(features, target, test_size = 0.3, shuffle=True, random_state = 42)\n",
        "print (\"The Train set size \", X_train.shape)\n",
        "print (\"The Test set size \", X_test.shape)"
      ],
      "execution_count": 76,
      "outputs": [
        {
          "output_type": "stream",
          "text": [
            "The Train set size  (29715, 5)\n",
            "The Test set size  (12736, 5)\n"
          ],
          "name": "stdout"
        }
      ]
    },
    {
      "cell_type": "markdown",
      "metadata": {
        "id": "-A0U6r82nPPo",
        "colab_type": "text"
      },
      "source": [
        "#### Firstly we'll try and check which classifier performs the best with our training data, then we'll take that classifier and perform HyperParameter Optimisation on that model."
      ]
    },
    {
      "cell_type": "code",
      "metadata": {
        "id": "VcviE1dkGc25",
        "colab_type": "code",
        "colab": {
          "base_uri": "https://localhost:8080/",
          "height": 105
        },
        "outputId": "ab2f1308-2e78-40cd-ae52-b760dd27b93e"
      },
      "source": [
        "# Implementing Different Classifier(), step by step\n",
        "knn = KNeighborsClassifier()\n",
        "training_start = time.perf_counter()\n",
        "knn.fit(X_train, y_train)\n",
        "training_end = time.perf_counter()\n",
        "prediction_start = time.perf_counter()\n",
        "preds = knn.predict(X_test)\n",
        "prediction_end = time.perf_counter()\n",
        "acc_knn = (preds == y_test).sum().astype(float) / len(preds)*100\n",
        "knn_train_time = training_end-training_start\n",
        "knn_prediction_time = prediction_end-prediction_start\n",
        "precision_score_knn=precision_score(y_test, preds, average='micro')\n",
        "\n",
        "# We are using LabelBinarizer() coz, we need to compare results for multi-class problem, so with this function we Binarize class \n",
        "# output results and compare it with binarized target values, it helps us to check ROC for our problem.\n",
        "lb = LabelBinarizer()\n",
        "lb.fit(y_test)\n",
        "y_test1 = lb.transform(y_test)\n",
        "y_pred1= lb.transform(preds)\n",
        "roc_auc_score_knn=roc_auc_score(y_test1, y_pred1, average=\"macro\")\n",
        "print(\"Roc_auc_score for test data: %3.5f \" % (roc_auc_score_knn))\n",
        "print(\"Scikit-Learn's K Nearest Neighbors Classifier's prediction accuracy is: %3.2f\" % (acc_knn))\n",
        "print(\"Time consumed for training: %4.3f seconds\" % (knn_train_time))\n",
        "print(\"Time consumed for prediction: %6.5f seconds\" % (knn_prediction_time))\n",
        "print(\"Precision on test dataset:\", precision_score_knn)"
      ],
      "execution_count": 77,
      "outputs": [
        {
          "output_type": "stream",
          "text": [
            "Roc_auc_score for test data: 0.56533 \n",
            "Scikit-Learn's K Nearest Neighbors Classifier's prediction accuracy is: 30.43\n",
            "Time consumed for training: 0.036 seconds\n",
            "Time consumed for prediction: 0.37252 seconds\n",
            "Precision on test dataset: 0.30433417085427134\n"
          ],
          "name": "stdout"
        }
      ]
    },
    {
      "cell_type": "code",
      "metadata": {
        "id": "W19h8dlfESEv",
        "colab_type": "code",
        "colab": {
          "base_uri": "https://localhost:8080/",
          "height": 105
        },
        "outputId": "6c3abc13-37f4-4b61-fadd-afac1cf6a686"
      },
      "source": [
        "from sklearn.ensemble import GradientBoostingClassifier\n",
        "gbk = GradientBoostingClassifier()\n",
        "gbk.fit(X_train, y_train)\n",
        "\n",
        "training_start = time.perf_counter()\n",
        "gbk.fit(X_train, y_train)\n",
        "training_end = time.perf_counter()\n",
        "prediction_start = time.perf_counter()\n",
        "preds = gbk.predict(X_test)\n",
        "prediction_end = time.perf_counter()\n",
        "acc_gbk = (preds == y_test).sum().astype(float) / len(preds)*100\n",
        "gbk_train_time = training_end-training_start\n",
        "gbk_prediction_time = prediction_end-prediction_start\n",
        "precision_score_gbk=precision_score(y_test, preds, average='micro')\n",
        "\n",
        "y_pred1= lb.transform(preds)\n",
        "roc_auc_score_gbk=roc_auc_score(y_test1, y_pred1, average=\"macro\")\n",
        "print(\"Roc_auc_score for test data: %3.5f \" % (roc_auc_score_gbk))\n",
        "print(\"Scikit-Learn's GBK Classifier's prediction accuracy is: %3.2f\" % (acc_gbk))\n",
        "print(\"Time consumed for training: %4.3f seconds\" % (gbk_train_time))\n",
        "print(\"Time consumed for prediction: %6.5f seconds\" % (gbk_prediction_time))\n",
        "print(\"Precision on test dataset:\", precision_score_gbk)"
      ],
      "execution_count": 78,
      "outputs": [
        {
          "output_type": "stream",
          "text": [
            "Roc_auc_score for test data: 0.73752 \n",
            "Scikit-Learn's GBK Classifier's prediction accuracy is: 58.01\n",
            "Time consumed for training: 14.815 seconds\n",
            "Time consumed for prediction: 0.11569 seconds\n",
            "Precision on test dataset: 0.5800879396984925\n"
          ],
          "name": "stdout"
        }
      ]
    },
    {
      "cell_type": "code",
      "metadata": {
        "id": "8KQRp_Mj2l3Q",
        "colab_type": "code",
        "colab": {
          "base_uri": "https://localhost:8080/",
          "height": 105
        },
        "outputId": "a30294e1-efca-4030-8a08-bcb54247556c"
      },
      "source": [
        "GNB= GaussianNB()\n",
        "training_start = time.perf_counter()\n",
        "GNB.fit(X_train, y_train)\n",
        "training_end = time.perf_counter()\n",
        "prediction_start = time.perf_counter()\n",
        "preds = GNB.predict(X_test)\n",
        "prediction_end = time.perf_counter()\n",
        "acc_gnb = (preds == y_test).sum().astype(float) / len(preds)*100\n",
        "gnb_train_time = training_end-training_start\n",
        "gnb_prediction_time = prediction_end-prediction_start\n",
        "precision_score_gnb=precision_score(y_test, preds, average='micro')\n",
        "y_pred1= lb.transform(preds)\n",
        "roc_auc_score_gnb=roc_auc_score(y_test1, y_pred1, average=\"macro\")\n",
        "print(\"Roc_auc_score for test data: %3.5f \" % (roc_auc_score_gnb))\n",
        "print(\"Naive Bayes Classifier's prediction accuracy is: %3.2f\" % (acc_gnb))\n",
        "print(\"Time consumed for training: %4.3f seconds\" % (gnb_train_time))\n",
        "print(\"Time consumed for prediction: %6.5f seconds\" % (gnb_prediction_time))\n",
        "print(\"Precision on test dataset:\", precision_score_gnb)"
      ],
      "execution_count": 79,
      "outputs": [
        {
          "output_type": "stream",
          "text": [
            "Roc_auc_score for test data: 0.72509 \n",
            "Naive Bayes Classifier's prediction accuracy is: 56.01\n",
            "Time consumed for training: 0.009 seconds\n",
            "Time consumed for prediction: 0.00410 seconds\n",
            "Precision on test dataset: 0.5600659547738693\n"
          ],
          "name": "stdout"
        }
      ]
    },
    {
      "cell_type": "code",
      "metadata": {
        "trusted": true,
        "id": "DOxSbmhO7PKK",
        "colab_type": "code",
        "colab": {
          "base_uri": "https://localhost:8080/",
          "height": 105
        },
        "outputId": "0c3e7542-4efe-492a-bb64-e46a8a6f1049"
      },
      "source": [
        "LGBM = LGBMClassifier()\n",
        "training_start = time.perf_counter()\n",
        "LGBM.fit(X_train, y_train)\n",
        "training_end = time.perf_counter()\n",
        "prediction_start = time.perf_counter()\n",
        "preds = LGBM.predict(X_test)\n",
        "prediction_end = time.perf_counter()\n",
        "acc_LGBM = (preds == y_test).sum().astype(float) / len(preds)*100\n",
        "LGBM_train_time = training_end-training_start\n",
        "LGBM_prediction_time = prediction_end-prediction_start\n",
        "precision_score_lgbm=precision_score(y_test, preds, average='micro')\n",
        "\n",
        "y_pred1= lb.transform(preds)\n",
        "roc_auc_score_lgbm=roc_auc_score(y_test1, y_pred1, average=\"macro\")\n",
        "print(\"Roc_auc_score for test data: %3.5f \" % (roc_auc_score_lgbm))\n",
        "print(\"Scikit-Learn's LGBM Classifier's prediction accuracy is: %3.2f\" % (acc_LGBM))\n",
        "print(\"Time consumed for training: %4.3f seconds\" % (LGBM_train_time))\n",
        "print(\"Time consumed for prediction: %6.5f seconds\" % (LGBM_prediction_time))\n",
        "print(\"Precision on test dataset:\", precision_score_lgbm)\n"
      ],
      "execution_count": 80,
      "outputs": [
        {
          "output_type": "stream",
          "text": [
            "Roc_auc_score for test data: 0.73730 \n",
            "Scikit-Learn's LGBM Classifier's prediction accuracy is: 57.96\n",
            "Time consumed for training: 1.351 seconds\n",
            "Time consumed for prediction: 0.01741 seconds\n",
            "Precision on test dataset: 0.5796168341708543\n"
          ],
          "name": "stdout"
        }
      ]
    },
    {
      "cell_type": "code",
      "metadata": {
        "id": "MUOfB2EACOCe",
        "colab_type": "code",
        "colab": {
          "base_uri": "https://localhost:8080/",
          "height": 577
        },
        "outputId": "e90f6cc3-3356-42a7-e9e8-c75bf13cb1c5"
      },
      "source": [
        "# Feature Importance Plot using LGBM\n",
        "plt.rcParams['figure.figsize'] = [12, 9]\n",
        "sns.set(style = 'whitegrid', font_scale = 1.2)\n",
        "plot_importance(LGBM);"
      ],
      "execution_count": 81,
      "outputs": [
        {
          "output_type": "display_data",
          "data": {
            "image/png": "[encoded data removed]",
            "text/plain": [
              "<Figure size 864x648 with 1 Axes>"
            ]
          },
          "metadata": {
            "tags": []
          }
        }
      ]
    },
    {
      "cell_type": "code",
      "metadata": {
        "id": "zBnE0C03HDbf",
        "colab_type": "code",
        "colab": {
          "base_uri": "https://localhost:8080/",
          "height": 247
        },
        "outputId": "642e24a4-7ec1-4032-d9f6-5d805babf8bb"
      },
      "source": [
        "from sklearn.linear_model import LogisticRegression\n",
        "\n",
        "LR = LogisticRegression()\n",
        "training_start = time.perf_counter()\n",
        "LR.fit(X_train, y_train)\n",
        "training_end = time.perf_counter()\n",
        "prediction_start = time.perf_counter()\n",
        "preds = LR.predict(X_test)\n",
        "prediction_end = time.perf_counter()\n",
        "acc_LR = (preds == y_test).sum().astype(float) / len(preds)*100\n",
        "LR_train_time = training_end-training_start\n",
        "LR_prediction_time = prediction_end-prediction_start\n",
        "precision_score_LR=precision_score(y_test, preds, average='micro')\n",
        "\n",
        "y_pred1= lb.transform(preds)\n",
        "roc_auc_score_LR=roc_auc_score(y_test1, y_pred1, average=\"macro\")\n",
        "print(\"Roc_auc_score for test data: %3.5f \" % (roc_auc_score_LR))\n",
        "print(\"Scikit-Learn's LR Classifier's prediction accuracy is: %3.2f\" % (acc_LR))\n",
        "print(\"Time consumed for training: %4.3f seconds\" % (LR_train_time))\n",
        "print(\"Time consumed for prediction: %6.5f seconds\" % (LR_prediction_time))\n",
        "print(\"Precision on test dataset:\", precision_score_LR)\n"
      ],
      "execution_count": 82,
      "outputs": [
        {
          "output_type": "stream",
          "text": [
            "Roc_auc_score for test data: 0.59863 \n",
            "Scikit-Learn's LR Classifier's prediction accuracy is: 35.76\n",
            "Time consumed for training: 2.361 seconds\n",
            "Time consumed for prediction: 0.00300 seconds\n",
            "Precision on test dataset: 0.3576476130653266\n"
          ],
          "name": "stdout"
        },
        {
          "output_type": "stream",
          "text": [
            "/usr/local/lib/python3.6/dist-packages/sklearn/linear_model/_logistic.py:940: ConvergenceWarning: lbfgs failed to converge (status=1):\n",
            "STOP: TOTAL NO. of ITERATIONS REACHED LIMIT.\n",
            "\n",
            "Increase the number of iterations (max_iter) or scale the data as shown in:\n",
            "    https://scikit-learn.org/stable/modules/preprocessing.html\n",
            "Please also refer to the documentation for alternative solver options:\n",
            "    https://scikit-learn.org/stable/modules/linear_model.html#logistic-regression\n",
            "  extra_warning_msg=_LOGISTIC_SOLVER_CONVERGENCE_MSG)\n"
          ],
          "name": "stderr"
        }
      ]
    },
    {
      "cell_type": "code",
      "metadata": {
        "id": "oM4vEaDiCAq-",
        "colab_type": "code",
        "colab": {
          "base_uri": "https://localhost:8080/",
          "height": 105
        },
        "outputId": "4e9269a6-2ae3-4eb4-ea19-1239ad04abf3"
      },
      "source": [
        "from sklearn.ensemble import RandomForestClassifier\n",
        "import time\n",
        "\n",
        "rfc = RandomForestClassifier(n_estimators=10)\n",
        "training_start = time.perf_counter()\n",
        "rfc.fit(X_train, y_train)\n",
        "training_end = time.perf_counter()\n",
        "prediction_start = time.perf_counter()\n",
        "preds = rfc.predict(X_test)\n",
        "prediction_end = time.perf_counter()\n",
        "acc_rfc = (preds == y_test).sum().astype(float) / len(preds)*100\n",
        "rfc_train_time = training_end-training_start\n",
        "rfc_prediction_time = prediction_end-prediction_start\n",
        "precision_score_rfc=precision_score(y_test, preds, average='micro')\n",
        "\n",
        "y_pred1= lb.transform(preds)\n",
        "roc_auc_score_rfc=roc_auc_score(y_test1, y_pred1, average=\"macro\")\n",
        "print(\"Roc_auc_score for test data: %3.5f \" % (roc_auc_score_rfc))\n",
        "print(\"Scikit-Learn's Random Forest Classifier's prediction accuracy is: %3.2f\" % (acc_rfc))\n",
        "print(\"Time consumed for training: %4.3f seconds\" % (rfc_train_time))\n",
        "print(\"Time consumed for prediction: %6.5f seconds\" % (rfc_prediction_time))\n",
        "print(\"Precision on test dataset:\", precision_score_rfc)"
      ],
      "execution_count": 83,
      "outputs": [
        {
          "output_type": "stream",
          "text": [
            "Roc_auc_score for test data: 0.68299 \n",
            "Scikit-Learn's Random Forest Classifier's prediction accuracy is: 49.25\n",
            "Time consumed for training: 0.419 seconds\n",
            "Time consumed for prediction: 0.04342 seconds\n",
            "Precision on test dataset: 0.49246231155778897\n"
          ],
          "name": "stdout"
        }
      ]
    },
    {
      "cell_type": "code",
      "metadata": {
        "id": "lQfT18hbHX4a",
        "colab_type": "code",
        "colab": {
          "base_uri": "https://localhost:8080/",
          "height": 257
        },
        "outputId": "966d0740-dbeb-4107-ffc3-06d0eba28f7a"
      },
      "source": [
        "#After running all classifier models individually, we compare them all together for best performance\n",
        "results = pd.DataFrame({\n",
        "    'Model': ['KNN', 'GNB', 'LGBM', 'gbk', 'LR', 'Random Forest'],\n",
        "    'Roc_auc_score': [roc_auc_score_knn, roc_auc_score_gnb, roc_auc_score_lgbm, roc_auc_score_gbk, roc_auc_score_LR, roc_auc_score_rfc],\n",
        "    'Accuracy': [acc_knn, acc_gnb, acc_LGBM, acc_gbk, acc_LR, acc_rfc],\n",
        "    'Precision': [precision_score_knn, precision_score_gnb, precision_score_lgbm, precision_score_gbk, precision_score_LR, precision_score_rfc],\n",
        "    'Runtime Training': [knn_train_time, gnb_train_time, LGBM_train_time, gbk_train_time, \n",
        "                         LR_train_time, rfc_train_time],\n",
        "    'Runtime Prediction': [knn_prediction_time, gnb_prediction_time, LGBM_prediction_time, gbk_prediction_time,\n",
        "                          LR_prediction_time, rfc_prediction_time]})\n",
        "result_df = results.sort_values(by='Roc_auc_score', ascending=False)\n",
        "result_df = result_df.set_index('Model')\n",
        "result_df"
      ],
      "execution_count": 84,
      "outputs": [
        {
          "output_type": "execute_result",
          "data": {
            "text/html": [
              "<div>\n",
              "<style scoped>\n",
              "    .dataframe tbody tr th:only-of-type {\n",
              "        vertical-align: middle;\n",
              "    }\n",
              "\n",
              "    .dataframe tbody tr th {\n",
              "        vertical-align: top;\n",
              "    }\n",
              "\n",
              "    .dataframe thead th {\n",
              "        text-align: right;\n",
              "    }\n",
              "</style>\n",
              "<table border=\"1\" class=\"dataframe\">\n",
              "  <thead>\n",
              "    <tr style=\"text-align: right;\">\n",
              "      <th></th>\n",
              "      <th>Roc_auc_score</th>\n",
              "      <th>Accuracy</th>\n",
              "      <th>Precision</th>\n",
              "      <th>Runtime Training</th>\n",
              "      <th>Runtime Prediction</th>\n",
              "    </tr>\n",
              "    <tr>\n",
              "      <th>Model</th>\n",
              "      <th></th>\n",
              "      <th></th>\n",
              "      <th></th>\n",
              "      <th></th>\n",
              "      <th></th>\n",
              "    </tr>\n",
              "  </thead>\n",
              "  <tbody>\n",
              "    <tr>\n",
              "      <th>gbk</th>\n",
              "      <td>0.737523</td>\n",
              "      <td>58.008794</td>\n",
              "      <td>0.580088</td>\n",
              "      <td>14.814665</td>\n",
              "      <td>0.115685</td>\n",
              "    </tr>\n",
              "    <tr>\n",
              "      <th>LGBM</th>\n",
              "      <td>0.737302</td>\n",
              "      <td>57.961683</td>\n",
              "      <td>0.579617</td>\n",
              "      <td>1.350911</td>\n",
              "      <td>0.017408</td>\n",
              "    </tr>\n",
              "    <tr>\n",
              "      <th>GNB</th>\n",
              "      <td>0.725088</td>\n",
              "      <td>56.006595</td>\n",
              "      <td>0.560066</td>\n",
              "      <td>0.009232</td>\n",
              "      <td>0.004096</td>\n",
              "    </tr>\n",
              "    <tr>\n",
              "      <th>Random Forest</th>\n",
              "      <td>0.682987</td>\n",
              "      <td>49.246231</td>\n",
              "      <td>0.492462</td>\n",
              "      <td>0.419017</td>\n",
              "      <td>0.043423</td>\n",
              "    </tr>\n",
              "    <tr>\n",
              "      <th>LR</th>\n",
              "      <td>0.598632</td>\n",
              "      <td>35.764761</td>\n",
              "      <td>0.357648</td>\n",
              "      <td>2.361178</td>\n",
              "      <td>0.003003</td>\n",
              "    </tr>\n",
              "    <tr>\n",
              "      <th>KNN</th>\n",
              "      <td>0.565329</td>\n",
              "      <td>30.433417</td>\n",
              "      <td>0.304334</td>\n",
              "      <td>0.035975</td>\n",
              "      <td>0.372516</td>\n",
              "    </tr>\n",
              "  </tbody>\n",
              "</table>\n",
              "</div>"
            ],
            "text/plain": [
              "               Roc_auc_score   Accuracy  ...  Runtime Training  Runtime Prediction\n",
              "Model                                    ...                                      \n",
              "gbk                 0.737523  58.008794  ...         14.814665            0.115685\n",
              "LGBM                0.737302  57.961683  ...          1.350911            0.017408\n",
              "GNB                 0.725088  56.006595  ...          0.009232            0.004096\n",
              "Random Forest       0.682987  49.246231  ...          0.419017            0.043423\n",
              "LR                  0.598632  35.764761  ...          2.361178            0.003003\n",
              "KNN                 0.565329  30.433417  ...          0.035975            0.372516\n",
              "\n",
              "[6 rows x 5 columns]"
            ]
          },
          "metadata": {
            "tags": []
          },
          "execution_count": 84
        }
      ]
    },
    {
      "cell_type": "code",
      "metadata": {
        "id": "kxZBCX53FFAr",
        "colab_type": "code",
        "colab": {
          "base_uri": "https://localhost:8080/",
          "height": 54
        },
        "outputId": "d79e5827-3f69-48eb-9d63-c0e18bf0f140"
      },
      "source": [
        "from sklearn.model_selection import cross_validate\n",
        "gbk_cv = GradientBoostingClassifier(n_estimators=10)\n",
        "scoring = {'acc': 'accuracy',\n",
        "           'prec_macro': 'precision_macro',\n",
        "           'rec_micro': 'recall_macro'}\n",
        "scores = cross_validate(gbk_cv, X_train, y_train, cv=3, scoring = scoring)\n",
        "print(\"Scores:\", scores)\n",
        "#print(\"Mean:\", scores.mean())\n",
        "#print(\"Standard Deviation:\", scores.std())"
      ],
      "execution_count": 85,
      "outputs": [
        {
          "output_type": "stream",
          "text": [
            "Scores: {'fit_time': array([1.02516794, 1.03702354, 1.03617573]), 'score_time': array([0.03096819, 0.03078341, 0.03136373]), 'test_acc': array([0.57758708, 0.58011106, 0.58253407]), 'test_prec_macro': array([0.59052905, 0.59401628, 0.59403913]), 'test_rec_micro': array([0.57768452, 0.58014421, 0.58259809])}\n"
          ],
          "name": "stdout"
        }
      ]
    },
    {
      "cell_type": "code",
      "metadata": {
        "id": "wDOBGC4UHk-D",
        "colab_type": "code",
        "colab": {
          "base_uri": "https://localhost:8080/",
          "height": 227
        },
        "outputId": "b96452bd-852e-4ec2-a27d-4840b5026432"
      },
      "source": [
        "importances = pd.DataFrame({\n",
        "    #'Feature': dTreated.drop('Satisfaction', axis=1).columns,\n",
        "    'Feature': features.columns,\n",
        "    'Importance': gbk.feature_importances_\n",
        "})\n",
        "importances = importances.sort_values(by='Importance', ascending=True)\n",
        "importances = importances.set_index('Feature')\n",
        "importances"
      ],
      "execution_count": 86,
      "outputs": [
        {
          "output_type": "execute_result",
          "data": {
            "text/html": [
              "<div>\n",
              "<style scoped>\n",
              "    .dataframe tbody tr th:only-of-type {\n",
              "        vertical-align: middle;\n",
              "    }\n",
              "\n",
              "    .dataframe tbody tr th {\n",
              "        vertical-align: top;\n",
              "    }\n",
              "\n",
              "    .dataframe thead th {\n",
              "        text-align: right;\n",
              "    }\n",
              "</style>\n",
              "<table border=\"1\" class=\"dataframe\">\n",
              "  <thead>\n",
              "    <tr style=\"text-align: right;\">\n",
              "      <th></th>\n",
              "      <th>Importance</th>\n",
              "    </tr>\n",
              "    <tr>\n",
              "      <th>Feature</th>\n",
              "      <th></th>\n",
              "    </tr>\n",
              "  </thead>\n",
              "  <tbody>\n",
              "    <tr>\n",
              "      <th>lstm_score</th>\n",
              "      <td>0.001373</td>\n",
              "    </tr>\n",
              "    <tr>\n",
              "      <th>count_letters</th>\n",
              "      <td>0.026286</td>\n",
              "    </tr>\n",
              "    <tr>\n",
              "      <th>condition</th>\n",
              "      <td>0.043998</td>\n",
              "    </tr>\n",
              "    <tr>\n",
              "      <th>easeofuse</th>\n",
              "      <td>0.100030</td>\n",
              "    </tr>\n",
              "    <tr>\n",
              "      <th>effectiveness</th>\n",
              "      <td>0.828313</td>\n",
              "    </tr>\n",
              "  </tbody>\n",
              "</table>\n",
              "</div>"
            ],
            "text/plain": [
              "               Importance\n",
              "Feature                  \n",
              "lstm_score       0.001373\n",
              "count_letters    0.026286\n",
              "condition        0.043998\n",
              "easeofuse        0.100030\n",
              "effectiveness    0.828313"
            ]
          },
          "metadata": {
            "tags": []
          },
          "execution_count": 86
        }
      ]
    },
    {
      "cell_type": "code",
      "metadata": {
        "id": "sp6Bxto5Hmu5",
        "colab_type": "code",
        "colab": {
          "base_uri": "https://localhost:8080/",
          "height": 654
        },
        "outputId": "7815b10f-22b9-4e46-a63d-1e8f51f70d99"
      },
      "source": [
        "importances.plot.bar()"
      ],
      "execution_count": 87,
      "outputs": [
        {
          "output_type": "execute_result",
          "data": {
            "text/plain": [
              "<matplotlib.axes._subplots.AxesSubplot at 0x7fa9c7174128>"
            ]
          },
          "metadata": {
            "tags": []
          },
          "execution_count": 87
        },
        {
          "output_type": "display_data",
          "data": {
            "image/png": "[encoded data removed]",
            "text/plain": [
              "<Figure size 864x648 with 1 Axes>"
            ]
          },
          "metadata": {
            "tags": []
          }
        }
      ]
    },
    {
      "cell_type": "markdown",
      "metadata": {
        "id": "1hf14QBnSJDS",
        "colab_type": "text"
      },
      "source": [
        "# Hyperparameter Tuning"
      ]
    },
    {
      "cell_type": "code",
      "metadata": {
        "id": "4wwUyzQQSAz1",
        "colab_type": "code",
        "colab": {
          "base_uri": "https://localhost:8080/",
          "height": 443
        },
        "outputId": "8346f026-da4a-4fd8-c95c-e7e446134a40"
      },
      "source": [
        "from pprint import pprint\n",
        "# Look at parameters used by our best classifier\n",
        "print('Parameters currently in use:\\n')\n",
        "pprint(gbk.get_params())"
      ],
      "execution_count": 88,
      "outputs": [
        {
          "output_type": "stream",
          "text": [
            "Parameters currently in use:\n",
            "\n",
            "{'ccp_alpha': 0.0,\n",
            " 'criterion': 'friedman_mse',\n",
            " 'init': None,\n",
            " 'learning_rate': 0.1,\n",
            " 'loss': 'deviance',\n",
            " 'max_depth': 3,\n",
            " 'max_features': None,\n",
            " 'max_leaf_nodes': None,\n",
            " 'min_impurity_decrease': 0.0,\n",
            " 'min_impurity_split': None,\n",
            " 'min_samples_leaf': 1,\n",
            " 'min_samples_split': 2,\n",
            " 'min_weight_fraction_leaf': 0.0,\n",
            " 'n_estimators': 100,\n",
            " 'n_iter_no_change': None,\n",
            " 'presort': 'deprecated',\n",
            " 'random_state': None,\n",
            " 'subsample': 1.0,\n",
            " 'tol': 0.0001,\n",
            " 'validation_fraction': 0.1,\n",
            " 'verbose': 0,\n",
            " 'warm_start': False}\n"
          ],
          "name": "stdout"
        }
      ]
    },
    {
      "cell_type": "code",
      "metadata": {
        "id": "Ec2UzuTuSAnT",
        "colab_type": "code",
        "colab": {
          "base_uri": "https://localhost:8080/",
          "height": 105
        },
        "outputId": "82a65739-ae50-41c5-c71e-2d78c0208979"
      },
      "source": [
        "from sklearn.model_selection import RandomizedSearchCV\n",
        "# Number of trees in GradientBoostingClassifier()\n",
        "n_estimators = [int(x) for x in np.linspace(start = 100, stop = 500, num = 5)]\n",
        "# Number of features to consider at every split\n",
        "# Maximum number of levels in tree\n",
        "max_depth = [int(x) for x in np.linspace(1, 19, num = 10)]\n",
        "max_depth.append(None)\n",
        "# Minimum number of samples required to split a node\n",
        "min_samples_split = [2, 5, 10]\n",
        "# Minimum number of samples required at each leaf node\n",
        "min_samples_leaf = [1, 2, 4]\n",
        "# Method of selecting samples for training each tree\n",
        "learning_rate = [0.001, 0.07, 0.1, 0.2]\n",
        "# Create the random grid\n",
        "random_grid = {'n_estimators': n_estimators,\n",
        "               \n",
        "               'max_depth': max_depth,\n",
        "               'min_samples_split': min_samples_split,\n",
        "               'min_samples_leaf': min_samples_leaf,\n",
        "               'learning_rate': learning_rate}\n",
        "pprint(random_grid)"
      ],
      "execution_count": 89,
      "outputs": [
        {
          "output_type": "stream",
          "text": [
            "{'learning_rate': [0.001, 0.07, 0.1, 0.2],\n",
            " 'max_depth': [1, 3, 5, 7, 9, 11, 13, 15, 17, 19, None],\n",
            " 'min_samples_leaf': [1, 2, 4],\n",
            " 'min_samples_split': [2, 5, 10],\n",
            " 'n_estimators': [100, 200, 300, 400, 500]}\n"
          ],
          "name": "stdout"
        }
      ]
    },
    {
      "cell_type": "code",
      "metadata": {
        "id": "Xk0NBv0lScLE",
        "colab_type": "code",
        "colab": {
          "base_uri": "https://localhost:8080/",
          "height": 603
        },
        "outputId": "1881a993-666c-4a89-8274-0f2b6bedd380"
      },
      "source": [
        "# Use the random grid to search for best hyperparameters\n",
        "\n",
        "# Random search of parameters, using 3 fold cross validation, \n",
        "# search across 10 different combinations, and use all available cores\n",
        "gbk_random = RandomizedSearchCV(estimator = gbk, param_distributions = random_grid, n_iter = 3, cv = 3, verbose=2, random_state=42, n_jobs = -1)\n",
        "# Fit the random search model\n",
        "gbk_random.fit(X_train, y_train)"
      ],
      "execution_count": 90,
      "outputs": [
        {
          "output_type": "stream",
          "text": [
            "Fitting 3 folds for each of 3 candidates, totalling 9 fits\n"
          ],
          "name": "stdout"
        },
        {
          "output_type": "stream",
          "text": [
            "[Parallel(n_jobs=-1)]: Using backend LokyBackend with 40 concurrent workers.\n",
            "[Parallel(n_jobs=-1)]: Done   5 out of   9 | elapsed:  1.3min remaining:  1.1min\n",
            "[Parallel(n_jobs=-1)]: Done   9 out of   9 | elapsed:  7.9min finished\n"
          ],
          "name": "stderr"
        },
        {
          "output_type": "execute_result",
          "data": {
            "text/plain": [
              "RandomizedSearchCV(cv=3, error_score=nan,\n",
              "                   estimator=GradientBoostingClassifier(ccp_alpha=0.0,\n",
              "                                                        criterion='friedman_mse',\n",
              "                                                        init=None,\n",
              "                                                        learning_rate=0.1,\n",
              "                                                        loss='deviance',\n",
              "                                                        max_depth=3,\n",
              "                                                        max_features=None,\n",
              "                                                        max_leaf_nodes=None,\n",
              "                                                        min_impurity_decrease=0.0,\n",
              "                                                        min_impurity_split=None,\n",
              "                                                        min_samples_leaf=1,\n",
              "                                                        min_samples_split=2,\n",
              "                                                        min_weight_fraction_leaf=0.0,\n",
              "                                                        n_estimators=100,\n",
              "                                                        n_ite...\n",
              "                                                        verbose=0,\n",
              "                                                        warm_start=False),\n",
              "                   iid='deprecated', n_iter=3, n_jobs=-1,\n",
              "                   param_distributions={'learning_rate': [0.001, 0.07, 0.1,\n",
              "                                                          0.2],\n",
              "                                        'max_depth': [1, 3, 5, 7, 9, 11, 13, 15,\n",
              "                                                      17, 19, None],\n",
              "                                        'min_samples_leaf': [1, 2, 4],\n",
              "                                        'min_samples_split': [2, 5, 10],\n",
              "                                        'n_estimators': [100, 200, 300, 400,\n",
              "                                                         500]},\n",
              "                   pre_dispatch='2*n_jobs', random_state=42, refit=True,\n",
              "                   return_train_score=False, scoring=None, verbose=2)"
            ]
          },
          "metadata": {
            "tags": []
          },
          "execution_count": 90
        }
      ]
    },
    {
      "cell_type": "code",
      "metadata": {
        "id": "9T-JGgqLScAY",
        "colab_type": "code",
        "colab": {
          "base_uri": "https://localhost:8080/",
          "height": 123
        },
        "outputId": "8bd12d31-66af-4c31-f9b1-dc113d63c78d"
      },
      "source": [
        "# Best parameter values, with best score of accuracy using Hyperparameter tuning\n",
        "gbk_random.best_params_,gbk_random.best_score_"
      ],
      "execution_count": 91,
      "outputs": [
        {
          "output_type": "execute_result",
          "data": {
            "text/plain": [
              "({'learning_rate': 0.1,\n",
              "  'max_depth': 7,\n",
              "  'min_samples_leaf': 1,\n",
              "  'min_samples_split': 2,\n",
              "  'n_estimators': 200},\n",
              " 0.553525155645297)"
            ]
          },
          "metadata": {
            "tags": []
          },
          "execution_count": 91
        }
      ]
    },
    {
      "cell_type": "code",
      "metadata": {
        "id": "mP6HTwrgSb3k",
        "colab_type": "code",
        "colab": {
          "base_uri": "https://localhost:8080/",
          "height": 52
        },
        "outputId": "8777f865-4ad3-4040-9555-8cf87f486528"
      },
      "source": [
        "#implementing hyperopt tuning with set parameter values\n",
        "GBoost = GradientBoostingClassifier(max_depth=3, min_samples_leaf=1, min_samples_split=2, n_estimators=400, learning_rate=0.07)\n",
        "#max_depth=3, min_samples_leaf=1, min_samples_split=2, n_estimators=400, learning_rate=0.07\n",
        "\n",
        "GBoost.fit(X_train, y_train)\n",
        "preds = GBoost.predict(X_test)\n",
        "\n",
        "accuracy = (preds == y_test).sum().astype(float) / len(preds)*100\n",
        "\n",
        "y_pred1= lb.transform(preds)\n",
        "roc_auc_score_gbk=roc_auc_score(y_test1, y_pred1, average=\"macro\")\n",
        "print(\"Roc_auc_score for test data: %3.5f \" % (roc_auc_score_gbk))\n",
        "\n",
        "print(\"Gradient Boost's prediction accuracy WITH optimal hyperparameters is: %3.2f\" % (accuracy))"
      ],
      "execution_count": 92,
      "outputs": [
        {
          "output_type": "stream",
          "text": [
            "Roc_auc_score for test data: 0.73707 \n",
            "Gradient Boost's prediction accuracy WITH optimal hyperparameters is: 57.92\n"
          ],
          "name": "stdout"
        }
      ]
    },
    {
      "cell_type": "code",
      "metadata": {
        "id": "3hUXuyqgSbu6",
        "colab_type": "code",
        "colab": {
          "base_uri": "https://localhost:8080/",
          "height": 54
        },
        "outputId": "3f47e36c-16d8-4409-fdb6-64a6dd55e59a"
      },
      "source": [
        "scores = cross_validate(GBoost, X_train, y_train, cv=3, scoring = scoring)\n",
        "print(\"Scores:\", scores)"
      ],
      "execution_count": 93,
      "outputs": [
        {
          "output_type": "stream",
          "text": [
            "Scores: {'fit_time': array([40.07200146, 41.14840794, 39.85198474]), 'score_time': array([0.29024053, 0.2876966 , 0.28272367]), 'test_acc': array([0.57405351, 0.57809187, 0.58101969]), 'test_prec_macro': array([0.57897567, 0.58176333, 0.58564209]), 'test_rec_micro': array([0.57401888, 0.5780158 , 0.58091099])}\n"
          ],
          "name": "stdout"
        }
      ]
    },
    {
      "cell_type": "code",
      "metadata": {
        "id": "DOHjU4Qp38f7",
        "colab_type": "code",
        "colab": {
          "base_uri": "https://localhost:8080/",
          "height": 105
        },
        "outputId": "d153c1ae-a675-4e6a-e373-6e8bd5395e89"
      },
      "source": [
        "confusion_matrix(preds, y_test)"
      ],
      "execution_count": 94,
      "outputs": [
        {
          "output_type": "execute_result",
          "data": {
            "text/plain": [
              "array([[1628,  230,   71,    8,   12],\n",
              "       [ 472,  998,  471,  108,   38],\n",
              "       [ 174,  677, 1034,  243,   35],\n",
              "       [ 139,  381,  688, 1605,  370],\n",
              "       [ 117,  214,  351,  560, 2112]])"
            ]
          },
          "metadata": {
            "tags": []
          },
          "execution_count": 94
        }
      ]
    },
    {
      "cell_type": "code",
      "metadata": {
        "id": "8opz7nYG5d-l",
        "colab_type": "code",
        "colab": {
          "base_uri": "https://localhost:8080/",
          "height": 70
        },
        "outputId": "3776c69e-5c94-434d-d752-76cb45a7208c"
      },
      "source": [
        "from sklearn.metrics import recall_score, f1_score\n",
        "print(\"Precision on test dataset:\", precision_score(y_test, preds, average='micro'))\n",
        "print(\"Recall on test dataset:\",recall_score(y_test, preds, average='micro'))\n",
        "print(\"F1-Score on test dataset:\", f1_score(y_test, preds, average='micro'))"
      ],
      "execution_count": 95,
      "outputs": [
        {
          "output_type": "stream",
          "text": [
            "Precision on test dataset: 0.5792242462311558\n",
            "Recall on test dataset: 0.5792242462311558\n",
            "F1-Score on test dataset: 0.5792242462311558\n"
          ],
          "name": "stdout"
        }
      ]
    },
    {
      "cell_type": "code",
      "metadata": {
        "id": "hf4-jOLr5vq3",
        "colab_type": "code",
        "colab": {
          "base_uri": "https://localhost:8080/",
          "height": 283
        },
        "outputId": "6df25837-3012-49ca-da2b-92ab062eddc4"
      },
      "source": [
        "# Classification report\n",
        "import sklearn.metrics as metrics\n",
        "print('\\t\\t\\t\\tCLASSIFICATIION METRICS \\n \\t\\t\\tfor test dataset\\n')\n",
        "print(metrics.classification_report(y_test, preds))"
      ],
      "execution_count": 96,
      "outputs": [
        {
          "output_type": "stream",
          "text": [
            "\t\t\t\tCLASSIFICATIION METRICS \n",
            " \t\t\tfor test dataset\n",
            "\n",
            "              precision    recall  f1-score   support\n",
            "\n",
            "         1.0       0.84      0.64      0.73      2530\n",
            "         2.0       0.48      0.40      0.44      2500\n",
            "         3.0       0.48      0.40      0.43      2615\n",
            "         4.0       0.50      0.64      0.56      2524\n",
            "         5.0       0.63      0.82      0.71      2567\n",
            "\n",
            "    accuracy                           0.58     12736\n",
            "   macro avg       0.59      0.58      0.57     12736\n",
            "weighted avg       0.58      0.58      0.57     12736\n",
            "\n"
          ],
          "name": "stdout"
        }
      ]
    },
    {
      "cell_type": "code",
      "metadata": {
        "id": "WxDbFuqKJArH",
        "colab_type": "code",
        "colab": {
          "base_uri": "https://localhost:8080/",
          "height": 34
        },
        "outputId": "d07f7828-3411-4f36-9c80-fea00b7ea753"
      },
      "source": [
        "y_pred1= lb.transform(preds)\n",
        "# roc_auc_score for test data\n",
        "roc_auc_score(y_test1, y_pred1, average=\"macro\")"
      ],
      "execution_count": 97,
      "outputs": [
        {
          "output_type": "execute_result",
          "data": {
            "text/plain": [
              "0.737068351086848"
            ]
          },
          "metadata": {
            "tags": []
          },
          "execution_count": 97
        }
      ]
    },
    {
      "cell_type": "markdown",
      "metadata": {
        "id": "XjndVkydMxe7",
        "colab_type": "text"
      },
      "source": [
        "## ROC plot\n",
        "As it is a multi class problem, we'll plot curves for individual classes, and then also check micro/macro weighted averages for all classes"
      ]
    },
    {
      "cell_type": "code",
      "metadata": {
        "id": "OncL2coYJGdv",
        "colab_type": "code",
        "colab": {}
      },
      "source": [
        "from itertools import cycle\n",
        "from sklearn.metrics import roc_curve, auc\n",
        "from sklearn.preprocessing import label_binarize\n",
        "from scipy import interp\n",
        "\n",
        "statis=target\n",
        "y = label_binarize(statis, classes=[0, 1, 2, 3, 4])\n",
        "n_classes = y.shape[1]\n",
        "\n",
        "# Compute ROC curve and ROC area for each class\n",
        "fpr = dict()\n",
        "tpr = dict()\n",
        "roc_auc = dict()\n",
        "for i in range(n_classes):\n",
        "    fpr[i], tpr[i], _ = roc_curve(y_test1[:, i], y_pred1[:, i])\n",
        "    roc_auc[i] = auc(fpr[i], tpr[i])\n",
        "\n",
        "# Compute micro-average ROC curve and ROC area\n",
        "fpr[\"micro\"], tpr[\"micro\"], _ = roc_curve(y_test1.ravel(), y_pred1.ravel())\n",
        "roc_auc[\"micro\"] = auc(fpr[\"micro\"], tpr[\"micro\"])"
      ],
      "execution_count": 98,
      "outputs": []
    },
    {
      "cell_type": "code",
      "metadata": {
        "id": "sUMmYjxVJUpO",
        "colab_type": "code",
        "colab": {
          "base_uri": "https://localhost:8080/",
          "height": 577
        },
        "outputId": "abedd1b2-1b52-43d7-f6d0-cfbfbf3bff48"
      },
      "source": [
        "# For single class ROC plot,\n",
        "plt.figure()\n",
        "lw = 2\n",
        "plt.plot(fpr[2], tpr[2], color='darkorange',\n",
        "         lw=lw, label='ROC curve (area = %0.2f)' % roc_auc[2])\n",
        "plt.plot([0, 1], [0, 1], color='navy', lw=lw, linestyle='--')\n",
        "plt.xlim([0.0, 1.0])\n",
        "plt.ylim([0.0, 1.05])\n",
        "plt.xlabel('False Positive Rate')\n",
        "plt.ylabel('True Positive Rate')\n",
        "plt.title('Receiver operating characteristic example')\n",
        "plt.legend(loc=\"lower right\")\n",
        "plt.show()"
      ],
      "execution_count": 99,
      "outputs": [
        {
          "output_type": "display_data",
          "data": {
            "image/png": "[encoded data removed]",
            "text/plain": [
              "<Figure size 864x648 with 1 Axes>"
            ]
          },
          "metadata": {
            "tags": []
          }
        }
      ]
    },
    {
      "cell_type": "code",
      "metadata": {
        "id": "91PPdZxqJcGO",
        "colab_type": "code",
        "colab": {
          "base_uri": "https://localhost:8080/",
          "height": 613
        },
        "outputId": "bd9f03d9-4dd0-4b94-ca42-66158ec9697c"
      },
      "source": [
        "# For Multi-class ROC plot,\n",
        "from scipy import interp\n",
        "from itertools import cycle\n",
        "\n",
        "# First aggregate all false positive rates\n",
        "all_fpr = np.unique(np.concatenate([fpr[i] for i in range(n_classes)]))\n",
        "\n",
        "# Then interpolate all ROC curves at this points\n",
        "mean_tpr = np.zeros_like(all_fpr)\n",
        "for i in range(n_classes):\n",
        "    mean_tpr += interp(all_fpr, fpr[i], tpr[i])\n",
        "\n",
        "# Finally average it and compute AUC\n",
        "mean_tpr /= n_classes\n",
        "\n",
        "fpr[\"macro\"] = all_fpr\n",
        "tpr[\"macro\"] = mean_tpr\n",
        "roc_auc[\"macro\"] = auc(fpr[\"macro\"], tpr[\"macro\"])\n",
        "\n",
        "# Plot all ROC curves\n",
        "plt.figure()\n",
        "plt.plot(fpr[\"micro\"], tpr[\"micro\"],\n",
        "         label='micro-average ROC curve (area = {0:0.2f})'\n",
        "               ''.format(roc_auc[\"micro\"]),\n",
        "         color='deeppink', linestyle=':', linewidth=4)\n",
        "\n",
        "plt.plot(fpr[\"macro\"], tpr[\"macro\"],\n",
        "         label='macro-average ROC curve (area = {0:0.2f})'\n",
        "               ''.format(roc_auc[\"macro\"]),\n",
        "         color='navy', linestyle=':', linewidth=4)\n",
        "\n",
        "colors = cycle(['aqua', 'darkorange', 'cornflowerblue'])\n",
        "for i, color in zip(range(n_classes), colors):\n",
        "    plt.plot(fpr[i], tpr[i], color=color, lw=lw,\n",
        "             label='ROC curve of class {0} (area = {1:0.2f})'\n",
        "             ''.format(i, roc_auc[i]))\n",
        "\n",
        "plt.plot([0, 1], [0, 1], 'k--', lw=lw)\n",
        "plt.xlim([0.0, 1.0])\n",
        "plt.ylim([0.0, 1.0])\n",
        "plt.xlabel('False Positive Rate')\n",
        "plt.ylabel('True Positive Rate')\n",
        "plt.title('Some extension of Receiver operating characteristic to multi-class on test data')\n",
        "plt.legend(loc=\"lower right\")\n",
        "plt.show()"
      ],
      "execution_count": 100,
      "outputs": [
        {
          "output_type": "stream",
          "text": [
            "/usr/local/lib/python3.6/dist-packages/ipykernel_launcher.py:11: DeprecationWarning: scipy.interp is deprecated and will be removed in SciPy 2.0.0, use numpy.interp instead\n",
            "  # This is added back by InteractiveShellApp.init_path()\n"
          ],
          "name": "stderr"
        },
        {
          "output_type": "display_data",
          "data": {
            "image/png": "[encoded data removed]",
            "text/plain": [
              "<Figure size 864x648 with 1 Axes>"
            ]
          },
          "metadata": {
            "tags": []
          }
        }
      ]
    }
  ]
}