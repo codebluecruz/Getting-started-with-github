{
  "nbformat": 4,
  "nbformat_minor": 0,
  "metadata": {
    "colab": {
      "name": "FO_With HO_ RF_RS_ROC.ipynb",
      "provenance": [],
      "collapsed_sections": [],
      "include_colab_link": true
    },
    "kernelspec": {
      "name": "python3",
      "display_name": "Python 3"
    }
  },
  "cells": [
    {
      "cell_type": "markdown",
      "metadata": {
        "id": "view-in-github",
        "colab_type": "text"
      },
      "source": [
        "<a href=\"https://colab.research.google.com/github/codebluecruz/Getting-started-with-github/blob/master/FO_With_HO__RF_RS_ROC_Vtreat_on_FinalWebmd.ipynb\" target=\"_parent\"><img src=\"https://colab.research.google.com/assets/colab-badge.svg\" alt=\"Open In Colab\"/></a>"
      ]
    },
    {
      "cell_type": "code",
      "metadata": {
        "id": "IwvV9oQqYbD-",
        "colab_type": "code",
        "colab": {
          "base_uri": "https://localhost:8080/",
          "height": 72
        },
        "outputId": "8b4ed59e-9ee8-462a-ac48-4604831b1cbb"
      },
      "source": [
        "import numpy as np\n",
        "import pandas as pd\n",
        "import matplotlib.pyplot as plt\n",
        "from matplotlib import style\n",
        "import seaborn as sns\n",
        "sns.set_style('whitegrid')\n",
        "from sklearn.model_selection import train_test_split, cross_val_predict\n",
        "from sklearn.svm import SVC\n",
        "from sklearn.ensemble import RandomForestClassifier\n",
        "from sklearn.linear_model import SGDClassifier\n",
        "from sklearn.neighbors import KNeighborsClassifier\n",
        "from sklearn.naive_bayes import GaussianNB\n",
        "from sklearn.decomposition import PCA\n",
        "from xgboost import XGBClassifier\n",
        "from sklearn.preprocessing import LabelEncoder, MinMaxScaler\n",
        "from sklearn.metrics import confusion_matrix, precision_score, recall_score, f1_score\n",
        "import time\n",
        "import warnings\n",
        "warnings.filterwarnings(\"ignore\", category=DeprecationWarning)\n",
        "%matplotlib inline\n",
        "\n",
        "SMALL_SIZE = 10\n",
        "MEDIUM_SIZE = 12\n",
        "\n",
        "plt.rc('font', size=SMALL_SIZE)\n",
        "plt.rc('axes', titlesize=MEDIUM_SIZE)\n",
        "plt.rc('axes', labelsize=MEDIUM_SIZE)\n",
        "plt.rcParams['figure.dpi']=150"
      ],
      "execution_count": 1,
      "outputs": [
        {
          "output_type": "stream",
          "text": [
            "/usr/local/lib/python3.6/dist-packages/statsmodels/tools/_testing.py:19: FutureWarning: pandas.util.testing is deprecated. Use the functions in the public API at pandas.testing instead.\n",
            "  import pandas.util.testing as tm\n"
          ],
          "name": "stderr"
        }
      ]
    },
    {
      "cell_type": "code",
      "metadata": {
        "id": "ZYo8JrswYgyP",
        "colab_type": "code",
        "colab": {}
      },
      "source": [
        "import numpy as np # linear algebra\n",
        "import pandas as pd # data processing, CSV file I/O (e.g. pd.read_csv)\n",
        "# Input data files are available in the read-only \"../input/\" directory\n",
        "# For example, running this (by clicking run or pressing Shift+Enter) will list all files under the input directory\n",
        "import os\n",
        "for dirname, _, filenames in os.walk('/kaggle/input'):\n",
        "  for filename in filenames:\n",
        "    print(os.path.join(dirname, filename))"
      ],
      "execution_count": 2,
      "outputs": []
    },
    {
      "cell_type": "code",
      "metadata": {
        "id": "UBqXoYARZNi0",
        "colab_type": "code",
        "colab": {}
      },
      "source": [
        "sdss_df = pd.read_csv('WebMd_Final_withSR.csv', skiprows=0)"
      ],
      "execution_count": 3,
      "outputs": []
    },
    {
      "cell_type": "code",
      "metadata": {
        "id": "s3r1VcexZh3L",
        "colab_type": "code",
        "colab": {
          "base_uri": "https://localhost:8080/",
          "height": 601
        },
        "outputId": "b6c4c77e-7bab-431b-9e0b-0f2564beb2dc"
      },
      "source": [
        "sdss_df.head()"
      ],
      "execution_count": 4,
      "outputs": [
        {
          "output_type": "execute_result",
          "data": {
            "text/html": [
              "<div>\n",
              "<style scoped>\n",
              "    .dataframe tbody tr th:only-of-type {\n",
              "        vertical-align: middle;\n",
              "    }\n",
              "\n",
              "    .dataframe tbody tr th {\n",
              "        vertical-align: top;\n",
              "    }\n",
              "\n",
              "    .dataframe thead th {\n",
              "        text-align: right;\n",
              "    }\n",
              "</style>\n",
              "<table border=\"1\" class=\"dataframe\">\n",
              "  <thead>\n",
              "    <tr style=\"text-align: right;\">\n",
              "      <th></th>\n",
              "      <th>Age</th>\n",
              "      <th>Condition</th>\n",
              "      <th>Date</th>\n",
              "      <th>Drug</th>\n",
              "      <th>DrugId</th>\n",
              "      <th>EaseofUse</th>\n",
              "      <th>Effectiveness</th>\n",
              "      <th>Reviews</th>\n",
              "      <th>Sentiment_Rating</th>\n",
              "      <th>Sex</th>\n",
              "      <th>Sides</th>\n",
              "      <th>UsefulCount</th>\n",
              "      <th>Satisfaction</th>\n",
              "    </tr>\n",
              "  </thead>\n",
              "  <tbody>\n",
              "    <tr>\n",
              "      <th>0</th>\n",
              "      <td>75 or over</td>\n",
              "      <td>Stuffy Nose</td>\n",
              "      <td>9/21/2014</td>\n",
              "      <td>25dph-7.5peh</td>\n",
              "      <td>146724</td>\n",
              "      <td>5</td>\n",
              "      <td>5</td>\n",
              "      <td>I'm a retired physician and of all the meds I ...</td>\n",
              "      <td>5</td>\n",
              "      <td>Male</td>\n",
              "      <td>Drowsiness,  dizziness ,  dry mouth /nose/thro...</td>\n",
              "      <td>0</td>\n",
              "      <td>5</td>\n",
              "    </tr>\n",
              "    <tr>\n",
              "      <th>1</th>\n",
              "      <td>25-34</td>\n",
              "      <td>Cold Symptoms</td>\n",
              "      <td>1/13/2011</td>\n",
              "      <td>25dph-7.5peh</td>\n",
              "      <td>146724</td>\n",
              "      <td>5</td>\n",
              "      <td>5</td>\n",
              "      <td>cleared me right up even with my throat hurtin...</td>\n",
              "      <td>5</td>\n",
              "      <td>Female</td>\n",
              "      <td>Drowsiness,  dizziness ,  dry mouth /nose/thro...</td>\n",
              "      <td>1</td>\n",
              "      <td>5</td>\n",
              "    </tr>\n",
              "    <tr>\n",
              "      <th>2</th>\n",
              "      <td>65-74</td>\n",
              "      <td>Other</td>\n",
              "      <td>7/16/2012</td>\n",
              "      <td>warfarin (bulk) 100 % powder</td>\n",
              "      <td>144731</td>\n",
              "      <td>2</td>\n",
              "      <td>3</td>\n",
              "      <td>why did my PTINR go from a normal of 2.5 to ov...</td>\n",
              "      <td>5</td>\n",
              "      <td>Female</td>\n",
              "      <td></td>\n",
              "      <td>0</td>\n",
              "      <td>3</td>\n",
              "    </tr>\n",
              "    <tr>\n",
              "      <th>3</th>\n",
              "      <td>75 or over</td>\n",
              "      <td>Other</td>\n",
              "      <td>9/23/2010</td>\n",
              "      <td>warfarin (bulk) 100 % powder</td>\n",
              "      <td>144731</td>\n",
              "      <td>2</td>\n",
              "      <td>2</td>\n",
              "      <td>FALLING AND DON'T REALISE IT</td>\n",
              "      <td>1</td>\n",
              "      <td>Female</td>\n",
              "      <td></td>\n",
              "      <td>0</td>\n",
              "      <td>1</td>\n",
              "    </tr>\n",
              "    <tr>\n",
              "      <th>4</th>\n",
              "      <td>35-44</td>\n",
              "      <td>Other</td>\n",
              "      <td>01-06-2009</td>\n",
              "      <td>warfarin (bulk) 100 % powder</td>\n",
              "      <td>144731</td>\n",
              "      <td>1</td>\n",
              "      <td>1</td>\n",
              "      <td>My grandfather was prescribed this medication ...</td>\n",
              "      <td>1</td>\n",
              "      <td>Male</td>\n",
              "      <td></td>\n",
              "      <td>1</td>\n",
              "      <td>1</td>\n",
              "    </tr>\n",
              "  </tbody>\n",
              "</table>\n",
              "</div>"
            ],
            "text/plain": [
              "          Age      Condition  ... UsefulCount Satisfaction\n",
              "0  75 or over    Stuffy Nose  ...           0            5\n",
              "1       25-34  Cold Symptoms  ...           1            5\n",
              "2       65-74          Other  ...           0            3\n",
              "3  75 or over          Other  ...           0            1\n",
              "4       35-44          Other  ...           1            1\n",
              "\n",
              "[5 rows x 13 columns]"
            ]
          },
          "metadata": {
            "tags": []
          },
          "execution_count": 4
        }
      ]
    },
    {
      "cell_type": "code",
      "metadata": {
        "id": "LlUJ-oltZr7r",
        "colab_type": "code",
        "colab": {
          "base_uri": "https://localhost:8080/",
          "height": 372
        },
        "outputId": "23d8db00-acd7-45d0-a034-8eb772537f76"
      },
      "source": [
        "sdss_df.info()"
      ],
      "execution_count": 5,
      "outputs": [
        {
          "output_type": "stream",
          "text": [
            "<class 'pandas.core.frame.DataFrame'>\n",
            "RangeIndex: 99988 entries, 0 to 99987\n",
            "Data columns (total 13 columns):\n",
            " #   Column            Non-Null Count  Dtype \n",
            "---  ------            --------------  ----- \n",
            " 0   Age               99988 non-null  object\n",
            " 1   Condition         99988 non-null  object\n",
            " 2   Date              99988 non-null  object\n",
            " 3   Drug              99988 non-null  object\n",
            " 4   DrugId            99988 non-null  int64 \n",
            " 5   EaseofUse         99988 non-null  int64 \n",
            " 6   Effectiveness     99988 non-null  int64 \n",
            " 7   Reviews           99988 non-null  object\n",
            " 8   Sentiment_Rating  99988 non-null  int64 \n",
            " 9   Sex               99988 non-null  object\n",
            " 10  Sides             99988 non-null  object\n",
            " 11  UsefulCount       99988 non-null  int64 \n",
            " 12  Satisfaction      99988 non-null  int64 \n",
            "dtypes: int64(6), object(7)\n",
            "memory usage: 9.9+ MB\n"
          ],
          "name": "stdout"
        }
      ]
    },
    {
      "cell_type": "code",
      "metadata": {
        "id": "dfVO3ueMZ0Jz",
        "colab_type": "code",
        "colab": {
          "base_uri": "https://localhost:8080/",
          "height": 287
        },
        "outputId": "8c4a5ad2-722c-4187-d019-eba91711e879"
      },
      "source": [
        "sdss_df.describe()"
      ],
      "execution_count": 6,
      "outputs": [
        {
          "output_type": "execute_result",
          "data": {
            "text/html": [
              "<div>\n",
              "<style scoped>\n",
              "    .dataframe tbody tr th:only-of-type {\n",
              "        vertical-align: middle;\n",
              "    }\n",
              "\n",
              "    .dataframe tbody tr th {\n",
              "        vertical-align: top;\n",
              "    }\n",
              "\n",
              "    .dataframe thead th {\n",
              "        text-align: right;\n",
              "    }\n",
              "</style>\n",
              "<table border=\"1\" class=\"dataframe\">\n",
              "  <thead>\n",
              "    <tr style=\"text-align: right;\">\n",
              "      <th></th>\n",
              "      <th>DrugId</th>\n",
              "      <th>EaseofUse</th>\n",
              "      <th>Effectiveness</th>\n",
              "      <th>Sentiment_Rating</th>\n",
              "      <th>UsefulCount</th>\n",
              "      <th>Satisfaction</th>\n",
              "    </tr>\n",
              "  </thead>\n",
              "  <tbody>\n",
              "    <tr>\n",
              "      <th>count</th>\n",
              "      <td>99988.000000</td>\n",
              "      <td>99988.000000</td>\n",
              "      <td>99988.000000</td>\n",
              "      <td>99988.000000</td>\n",
              "      <td>99988.000000</td>\n",
              "      <td>99988.000000</td>\n",
              "    </tr>\n",
              "    <tr>\n",
              "      <th>mean</th>\n",
              "      <td>31735.897668</td>\n",
              "      <td>4.028193</td>\n",
              "      <td>3.513882</td>\n",
              "      <td>3.300116</td>\n",
              "      <td>6.689393</td>\n",
              "      <td>3.113674</td>\n",
              "    </tr>\n",
              "    <tr>\n",
              "      <th>std</th>\n",
              "      <td>48797.503040</td>\n",
              "      <td>1.303018</td>\n",
              "      <td>1.429267</td>\n",
              "      <td>1.777164</td>\n",
              "      <td>9.086882</td>\n",
              "      <td>1.592108</td>\n",
              "    </tr>\n",
              "    <tr>\n",
              "      <th>min</th>\n",
              "      <td>43.000000</td>\n",
              "      <td>1.000000</td>\n",
              "      <td>1.000000</td>\n",
              "      <td>1.000000</td>\n",
              "      <td>0.000000</td>\n",
              "      <td>1.000000</td>\n",
              "    </tr>\n",
              "    <tr>\n",
              "      <th>25%</th>\n",
              "      <td>2798.000000</td>\n",
              "      <td>3.000000</td>\n",
              "      <td>3.000000</td>\n",
              "      <td>1.000000</td>\n",
              "      <td>1.000000</td>\n",
              "      <td>1.000000</td>\n",
              "    </tr>\n",
              "    <tr>\n",
              "      <th>50%</th>\n",
              "      <td>8486.000000</td>\n",
              "      <td>5.000000</td>\n",
              "      <td>4.000000</td>\n",
              "      <td>4.000000</td>\n",
              "      <td>4.000000</td>\n",
              "      <td>3.000000</td>\n",
              "    </tr>\n",
              "    <tr>\n",
              "      <th>75%</th>\n",
              "      <td>20663.000000</td>\n",
              "      <td>5.000000</td>\n",
              "      <td>5.000000</td>\n",
              "      <td>5.000000</td>\n",
              "      <td>9.000000</td>\n",
              "      <td>5.000000</td>\n",
              "    </tr>\n",
              "    <tr>\n",
              "      <th>max</th>\n",
              "      <td>178044.000000</td>\n",
              "      <td>5.000000</td>\n",
              "      <td>5.000000</td>\n",
              "      <td>5.000000</td>\n",
              "      <td>154.000000</td>\n",
              "      <td>5.000000</td>\n",
              "    </tr>\n",
              "  </tbody>\n",
              "</table>\n",
              "</div>"
            ],
            "text/plain": [
              "              DrugId     EaseofUse  ...   UsefulCount  Satisfaction\n",
              "count   99988.000000  99988.000000  ...  99988.000000  99988.000000\n",
              "mean    31735.897668      4.028193  ...      6.689393      3.113674\n",
              "std     48797.503040      1.303018  ...      9.086882      1.592108\n",
              "min        43.000000      1.000000  ...      0.000000      1.000000\n",
              "25%      2798.000000      3.000000  ...      1.000000      1.000000\n",
              "50%      8486.000000      5.000000  ...      4.000000      3.000000\n",
              "75%     20663.000000      5.000000  ...      9.000000      5.000000\n",
              "max    178044.000000      5.000000  ...    154.000000      5.000000\n",
              "\n",
              "[8 rows x 6 columns]"
            ]
          },
          "metadata": {
            "tags": []
          },
          "execution_count": 6
        }
      ]
    },
    {
      "cell_type": "code",
      "metadata": {
        "id": "D14SgDAjZ1kp",
        "colab_type": "code",
        "colab": {
          "base_uri": "https://localhost:8080/",
          "height": 123
        },
        "outputId": "7774c07b-6047-453d-a445-113d88987320"
      },
      "source": [
        "sdss_df['Satisfaction'].value_counts()"
      ],
      "execution_count": 7,
      "outputs": [
        {
          "output_type": "execute_result",
          "data": {
            "text/plain": [
              "5    29168\n",
              "1    27494\n",
              "4    18055\n",
              "3    15234\n",
              "2    10037\n",
              "Name: Satisfaction, dtype: int64"
            ]
          },
          "metadata": {
            "tags": []
          },
          "execution_count": 7
        }
      ]
    },
    {
      "cell_type": "code",
      "metadata": {
        "id": "wwchwKYeZ5V0",
        "colab_type": "code",
        "colab": {
          "base_uri": "https://localhost:8080/",
          "height": 70
        },
        "outputId": "65e75cba-8f6d-4246-c506-337d5a50ef92"
      },
      "source": [
        "sdss_df.columns.values"
      ],
      "execution_count": 8,
      "outputs": [
        {
          "output_type": "execute_result",
          "data": {
            "text/plain": [
              "array(['Age', 'Condition', 'Date', 'Drug', 'DrugId', 'EaseofUse',\n",
              "       'Effectiveness', 'Reviews', 'Sentiment_Rating', 'Sex', 'Sides',\n",
              "       'UsefulCount', 'Satisfaction'], dtype=object)"
            ]
          },
          "metadata": {
            "tags": []
          },
          "execution_count": 8
        }
      ]
    },
    {
      "cell_type": "code",
      "metadata": {
        "id": "sxqdD2cMcu7-",
        "colab_type": "code",
        "colab": {
          "base_uri": "https://localhost:8080/",
          "height": 605
        },
        "outputId": "eb7b3e9b-9fc4-48d4-aed2-a7ee1c3c3e2b"
      },
      "source": [
        "import seaborn as sns\n",
        "# Heatmap of the correlation matrix\n",
        "plt.rcParams['figure.figsize'] = [10,9]\n",
        "sns.set(font_scale = 1.2)\n",
        "corr = sdss_df.select_dtypes(include = 'int64').corr()\n",
        "sns_heat = sns.heatmap(corr, annot = True, vmin=-1, vmax=1, center=0,\n",
        "cmap=sns.diverging_palette(20, 220, n=200), square=True);\n",
        "plt.setp(sns_heat.get_xticklabels(), rotation = 45);"
      ],
      "execution_count": 9,
      "outputs": [
        {
          "output_type": "display_data",
          "data": {
            "image/png": "[encoded data removed]",
            "text/plain": [
              "<Figure size 720x648 with 2 Axes>"
            ]
          },
          "metadata": {
            "tags": []
          }
        }
      ]
    },
    {
      "cell_type": "code",
      "metadata": {
        "id": "Dk6Qer9RdXjE",
        "colab_type": "code",
        "colab": {
          "base_uri": "https://localhost:8080/",
          "height": 601
        },
        "outputId": "b567f1cd-e918-48b8-bb23-8cd01b83bdfa"
      },
      "source": [
        "sdss_df_fe = sdss_df\n",
        "\n",
        "# encode class labels to integers\n",
        "le = LabelEncoder()\n",
        "y_encoded = le.fit_transform(sdss_df_fe['Satisfaction'])\n",
        "sdss_df_fe['Satisfaction'] = y_encoded\n",
        "\n",
        "# Principal Component Analysis\n",
        "pca = PCA(n_components=3)\n",
        "ugriz = pca.fit_transform(sdss_df_fe[['EaseofUse', 'Effectiveness', 'UsefulCount', 'Sentiment_Rating']])\n",
        "\n",
        "# update dataframe \n",
        "sdss_df_fe = pd.concat((sdss_df_fe, pd.DataFrame(ugriz)), axis=1)\n",
        "sdss_df_fe.rename({0: 'PCA_1', 1: 'PCA_2', 2: 'PCA_3'}, axis=1, inplace = True)\n",
        "#sdss_df_fe.drop(['EaseofUse', 'Effectiveness', 'UsefulCount', 'Sentiment_Rating'], axis=1, inplace=True)\n",
        "sdss_df_fe.drop(['PCA_1', 'PCA_2', 'PCA_3'], axis=1, inplace=True)\n",
        "sdss_df_fe.head()"
      ],
      "execution_count": 10,
      "outputs": [
        {
          "output_type": "execute_result",
          "data": {
            "text/html": [
              "<div>\n",
              "<style scoped>\n",
              "    .dataframe tbody tr th:only-of-type {\n",
              "        vertical-align: middle;\n",
              "    }\n",
              "\n",
              "    .dataframe tbody tr th {\n",
              "        vertical-align: top;\n",
              "    }\n",
              "\n",
              "    .dataframe thead th {\n",
              "        text-align: right;\n",
              "    }\n",
              "</style>\n",
              "<table border=\"1\" class=\"dataframe\">\n",
              "  <thead>\n",
              "    <tr style=\"text-align: right;\">\n",
              "      <th></th>\n",
              "      <th>Age</th>\n",
              "      <th>Condition</th>\n",
              "      <th>Date</th>\n",
              "      <th>Drug</th>\n",
              "      <th>DrugId</th>\n",
              "      <th>EaseofUse</th>\n",
              "      <th>Effectiveness</th>\n",
              "      <th>Reviews</th>\n",
              "      <th>Sentiment_Rating</th>\n",
              "      <th>Sex</th>\n",
              "      <th>Sides</th>\n",
              "      <th>UsefulCount</th>\n",
              "      <th>Satisfaction</th>\n",
              "    </tr>\n",
              "  </thead>\n",
              "  <tbody>\n",
              "    <tr>\n",
              "      <th>0</th>\n",
              "      <td>75 or over</td>\n",
              "      <td>Stuffy Nose</td>\n",
              "      <td>9/21/2014</td>\n",
              "      <td>25dph-7.5peh</td>\n",
              "      <td>146724</td>\n",
              "      <td>5</td>\n",
              "      <td>5</td>\n",
              "      <td>I'm a retired physician and of all the meds I ...</td>\n",
              "      <td>5</td>\n",
              "      <td>Male</td>\n",
              "      <td>Drowsiness,  dizziness ,  dry mouth /nose/thro...</td>\n",
              "      <td>0</td>\n",
              "      <td>4</td>\n",
              "    </tr>\n",
              "    <tr>\n",
              "      <th>1</th>\n",
              "      <td>25-34</td>\n",
              "      <td>Cold Symptoms</td>\n",
              "      <td>1/13/2011</td>\n",
              "      <td>25dph-7.5peh</td>\n",
              "      <td>146724</td>\n",
              "      <td>5</td>\n",
              "      <td>5</td>\n",
              "      <td>cleared me right up even with my throat hurtin...</td>\n",
              "      <td>5</td>\n",
              "      <td>Female</td>\n",
              "      <td>Drowsiness,  dizziness ,  dry mouth /nose/thro...</td>\n",
              "      <td>1</td>\n",
              "      <td>4</td>\n",
              "    </tr>\n",
              "    <tr>\n",
              "      <th>2</th>\n",
              "      <td>65-74</td>\n",
              "      <td>Other</td>\n",
              "      <td>7/16/2012</td>\n",
              "      <td>warfarin (bulk) 100 % powder</td>\n",
              "      <td>144731</td>\n",
              "      <td>2</td>\n",
              "      <td>3</td>\n",
              "      <td>why did my PTINR go from a normal of 2.5 to ov...</td>\n",
              "      <td>5</td>\n",
              "      <td>Female</td>\n",
              "      <td></td>\n",
              "      <td>0</td>\n",
              "      <td>2</td>\n",
              "    </tr>\n",
              "    <tr>\n",
              "      <th>3</th>\n",
              "      <td>75 or over</td>\n",
              "      <td>Other</td>\n",
              "      <td>9/23/2010</td>\n",
              "      <td>warfarin (bulk) 100 % powder</td>\n",
              "      <td>144731</td>\n",
              "      <td>2</td>\n",
              "      <td>2</td>\n",
              "      <td>FALLING AND DON'T REALISE IT</td>\n",
              "      <td>1</td>\n",
              "      <td>Female</td>\n",
              "      <td></td>\n",
              "      <td>0</td>\n",
              "      <td>0</td>\n",
              "    </tr>\n",
              "    <tr>\n",
              "      <th>4</th>\n",
              "      <td>35-44</td>\n",
              "      <td>Other</td>\n",
              "      <td>01-06-2009</td>\n",
              "      <td>warfarin (bulk) 100 % powder</td>\n",
              "      <td>144731</td>\n",
              "      <td>1</td>\n",
              "      <td>1</td>\n",
              "      <td>My grandfather was prescribed this medication ...</td>\n",
              "      <td>1</td>\n",
              "      <td>Male</td>\n",
              "      <td></td>\n",
              "      <td>1</td>\n",
              "      <td>0</td>\n",
              "    </tr>\n",
              "  </tbody>\n",
              "</table>\n",
              "</div>"
            ],
            "text/plain": [
              "          Age      Condition  ... UsefulCount Satisfaction\n",
              "0  75 or over    Stuffy Nose  ...           0            4\n",
              "1       25-34  Cold Symptoms  ...           1            4\n",
              "2       65-74          Other  ...           0            2\n",
              "3  75 or over          Other  ...           0            0\n",
              "4       35-44          Other  ...           1            0\n",
              "\n",
              "[5 rows x 13 columns]"
            ]
          },
          "metadata": {
            "tags": []
          },
          "execution_count": 10
        }
      ]
    },
    {
      "cell_type": "code",
      "metadata": {
        "id": "QsKp9YY8sU1Z",
        "colab_type": "code",
        "colab": {}
      },
      "source": [
        "sdss_df_fe.drop(['Age', 'Date', 'Drug', 'Reviews'], axis=1, inplace=True)"
      ],
      "execution_count": 12,
      "outputs": []
    },
    {
      "cell_type": "code",
      "metadata": {
        "id": "v20Oqee_oaLb",
        "colab_type": "code",
        "colab": {
          "base_uri": "https://localhost:8080/",
          "height": 214
        },
        "outputId": "17c20681-2446-41cb-8c71-3c9982b93d71"
      },
      "source": [
        "!pip install vtreat"
      ],
      "execution_count": 13,
      "outputs": [
        {
          "output_type": "stream",
          "text": [
            "Collecting vtreat\n",
            "  Downloading https://files.pythonhosted.org/packages/5e/19/d1009ee458b15d0f4b07f085656a3931ae478ff9ecee357b37d54720e323/vtreat-0.4.3-py3-none-any.whl\n",
            "Requirement already satisfied: numpy in /usr/local/lib/python3.6/dist-packages (from vtreat) (1.18.5)\n",
            "Requirement already satisfied: scipy in /usr/local/lib/python3.6/dist-packages (from vtreat) (1.4.1)\n",
            "Requirement already satisfied: pandas in /usr/local/lib/python3.6/dist-packages (from vtreat) (1.0.4)\n",
            "Requirement already satisfied: python-dateutil>=2.6.1 in /usr/local/lib/python3.6/dist-packages (from pandas->vtreat) (2.8.1)\n",
            "Requirement already satisfied: pytz>=2017.2 in /usr/local/lib/python3.6/dist-packages (from pandas->vtreat) (2018.9)\n",
            "Requirement already satisfied: six>=1.5 in /usr/local/lib/python3.6/dist-packages (from python-dateutil>=2.6.1->pandas->vtreat) (1.12.0)\n",
            "Installing collected packages: vtreat\n",
            "Successfully installed vtreat-0.4.3\n"
          ],
          "name": "stdout"
        }
      ]
    },
    {
      "cell_type": "code",
      "metadata": {
        "id": "wVXaqxxBoaEr",
        "colab_type": "code",
        "colab": {}
      },
      "source": [
        "import vtreat"
      ],
      "execution_count": 14,
      "outputs": []
    },
    {
      "cell_type": "code",
      "metadata": {
        "id": "YNlj562_oZ-d",
        "colab_type": "code",
        "colab": {}
      },
      "source": [
        "plan = vtreat.NumericOutcomeTreatment(outcome_name=\"Satisfaction\",params=vtreat.vtreat_parameters({'filter_to_recommended':False}))"
      ],
      "execution_count": 15,
      "outputs": []
    },
    {
      "cell_type": "code",
      "metadata": {
        "id": "UizI4LUJo0Ik",
        "colab_type": "code",
        "colab": {
          "base_uri": "https://localhost:8080/",
          "height": 34
        },
        "outputId": "ec4368e8-e439-4382-84cc-a8ec3ed5c67b"
      },
      "source": [
        "plan.fit(sdss_df_fe, sdss_df_fe[\"Satisfaction\"])"
      ],
      "execution_count": 16,
      "outputs": [
        {
          "output_type": "execute_result",
          "data": {
            "text/plain": [
              "vtreat.vtreat_api.NumericOutcomeTreatment(outcome_name='Satisfaction', cols_to_copy=['Satisfaction'], )"
            ]
          },
          "metadata": {
            "tags": []
          },
          "execution_count": 16
        }
      ]
    },
    {
      "cell_type": "code",
      "metadata": {
        "id": "ZfaW3Tszo0C0",
        "colab_type": "code",
        "colab": {
          "base_uri": "https://localhost:8080/",
          "height": 737
        },
        "outputId": "ec225b0c-6f9c-436f-d5ca-9ea8dc513b83"
      },
      "source": [
        "plan.score_frame_"
      ],
      "execution_count": 17,
      "outputs": [
        {
          "output_type": "execute_result",
          "data": {
            "text/html": [
              "<div>\n",
              "<style scoped>\n",
              "    .dataframe tbody tr th:only-of-type {\n",
              "        vertical-align: middle;\n",
              "    }\n",
              "\n",
              "    .dataframe tbody tr th {\n",
              "        vertical-align: top;\n",
              "    }\n",
              "\n",
              "    .dataframe thead th {\n",
              "        text-align: right;\n",
              "    }\n",
              "</style>\n",
              "<table border=\"1\" class=\"dataframe\">\n",
              "  <thead>\n",
              "    <tr style=\"text-align: right;\">\n",
              "      <th></th>\n",
              "      <th>variable</th>\n",
              "      <th>orig_variable</th>\n",
              "      <th>treatment</th>\n",
              "      <th>y_aware</th>\n",
              "      <th>has_range</th>\n",
              "      <th>PearsonR</th>\n",
              "      <th>R2</th>\n",
              "      <th>significance</th>\n",
              "      <th>vcount</th>\n",
              "      <th>default_threshold</th>\n",
              "      <th>recommended</th>\n",
              "    </tr>\n",
              "  </thead>\n",
              "  <tbody>\n",
              "    <tr>\n",
              "      <th>0</th>\n",
              "      <td>DrugId</td>\n",
              "      <td>DrugId</td>\n",
              "      <td>clean_copy</td>\n",
              "      <td>False</td>\n",
              "      <td>True</td>\n",
              "      <td>-0.039095</td>\n",
              "      <td>0.001528</td>\n",
              "      <td>3.954059e-35</td>\n",
              "      <td>5.0</td>\n",
              "      <td>0.040000</td>\n",
              "      <td>True</td>\n",
              "    </tr>\n",
              "    <tr>\n",
              "      <th>1</th>\n",
              "      <td>EaseofUse</td>\n",
              "      <td>EaseofUse</td>\n",
              "      <td>clean_copy</td>\n",
              "      <td>False</td>\n",
              "      <td>True</td>\n",
              "      <td>0.551458</td>\n",
              "      <td>0.304106</td>\n",
              "      <td>0.000000e+00</td>\n",
              "      <td>5.0</td>\n",
              "      <td>0.040000</td>\n",
              "      <td>True</td>\n",
              "    </tr>\n",
              "    <tr>\n",
              "      <th>2</th>\n",
              "      <td>Effectiveness</td>\n",
              "      <td>Effectiveness</td>\n",
              "      <td>clean_copy</td>\n",
              "      <td>False</td>\n",
              "      <td>True</td>\n",
              "      <td>0.780908</td>\n",
              "      <td>0.609817</td>\n",
              "      <td>0.000000e+00</td>\n",
              "      <td>5.0</td>\n",
              "      <td>0.040000</td>\n",
              "      <td>True</td>\n",
              "    </tr>\n",
              "    <tr>\n",
              "      <th>3</th>\n",
              "      <td>Sentiment_Rating</td>\n",
              "      <td>Sentiment_Rating</td>\n",
              "      <td>clean_copy</td>\n",
              "      <td>False</td>\n",
              "      <td>True</td>\n",
              "      <td>0.633558</td>\n",
              "      <td>0.401395</td>\n",
              "      <td>0.000000e+00</td>\n",
              "      <td>5.0</td>\n",
              "      <td>0.040000</td>\n",
              "      <td>True</td>\n",
              "    </tr>\n",
              "    <tr>\n",
              "      <th>4</th>\n",
              "      <td>UsefulCount</td>\n",
              "      <td>UsefulCount</td>\n",
              "      <td>clean_copy</td>\n",
              "      <td>False</td>\n",
              "      <td>True</td>\n",
              "      <td>0.001200</td>\n",
              "      <td>0.000001</td>\n",
              "      <td>7.044360e-01</td>\n",
              "      <td>5.0</td>\n",
              "      <td>0.040000</td>\n",
              "      <td>False</td>\n",
              "    </tr>\n",
              "    <tr>\n",
              "      <th>5</th>\n",
              "      <td>Condition_impact_code</td>\n",
              "      <td>Condition</td>\n",
              "      <td>impact_code</td>\n",
              "      <td>True</td>\n",
              "      <td>True</td>\n",
              "      <td>0.235839</td>\n",
              "      <td>0.055620</td>\n",
              "      <td>0.000000e+00</td>\n",
              "      <td>3.0</td>\n",
              "      <td>0.066667</td>\n",
              "      <td>True</td>\n",
              "    </tr>\n",
              "    <tr>\n",
              "      <th>6</th>\n",
              "      <td>Condition_deviation_code</td>\n",
              "      <td>Condition</td>\n",
              "      <td>deviation_code</td>\n",
              "      <td>True</td>\n",
              "      <td>True</td>\n",
              "      <td>-0.084996</td>\n",
              "      <td>0.007224</td>\n",
              "      <td>1.119721e-159</td>\n",
              "      <td>3.0</td>\n",
              "      <td>0.066667</td>\n",
              "      <td>False</td>\n",
              "    </tr>\n",
              "    <tr>\n",
              "      <th>7</th>\n",
              "      <td>Condition_prevalence_code</td>\n",
              "      <td>Condition</td>\n",
              "      <td>prevalence_code</td>\n",
              "      <td>False</td>\n",
              "      <td>True</td>\n",
              "      <td>0.013218</td>\n",
              "      <td>0.000175</td>\n",
              "      <td>2.919033e-05</td>\n",
              "      <td>3.0</td>\n",
              "      <td>0.066667</td>\n",
              "      <td>True</td>\n",
              "    </tr>\n",
              "    <tr>\n",
              "      <th>8</th>\n",
              "      <td>Condition_lev_Pain</td>\n",
              "      <td>Condition</td>\n",
              "      <td>indicator_code</td>\n",
              "      <td>False</td>\n",
              "      <td>True</td>\n",
              "      <td>0.104639</td>\n",
              "      <td>0.010949</td>\n",
              "      <td>2.211397e-241</td>\n",
              "      <td>5.0</td>\n",
              "      <td>0.040000</td>\n",
              "      <td>True</td>\n",
              "    </tr>\n",
              "    <tr>\n",
              "      <th>9</th>\n",
              "      <td>Condition_lev_Other</td>\n",
              "      <td>Condition</td>\n",
              "      <td>indicator_code</td>\n",
              "      <td>False</td>\n",
              "      <td>True</td>\n",
              "      <td>-0.021973</td>\n",
              "      <td>0.000483</td>\n",
              "      <td>3.684744e-12</td>\n",
              "      <td>5.0</td>\n",
              "      <td>0.040000</td>\n",
              "      <td>True</td>\n",
              "    </tr>\n",
              "    <tr>\n",
              "      <th>10</th>\n",
              "      <td>Condition_lev_High Blood Pressure</td>\n",
              "      <td>Condition</td>\n",
              "      <td>indicator_code</td>\n",
              "      <td>False</td>\n",
              "      <td>True</td>\n",
              "      <td>-0.084356</td>\n",
              "      <td>0.007116</td>\n",
              "      <td>2.654810e-157</td>\n",
              "      <td>5.0</td>\n",
              "      <td>0.040000</td>\n",
              "      <td>True</td>\n",
              "    </tr>\n",
              "    <tr>\n",
              "      <th>11</th>\n",
              "      <td>Sex_impact_code</td>\n",
              "      <td>Sex</td>\n",
              "      <td>impact_code</td>\n",
              "      <td>True</td>\n",
              "      <td>True</td>\n",
              "      <td>0.068896</td>\n",
              "      <td>0.004747</td>\n",
              "      <td>1.818303e-105</td>\n",
              "      <td>3.0</td>\n",
              "      <td>0.066667</td>\n",
              "      <td>True</td>\n",
              "    </tr>\n",
              "    <tr>\n",
              "      <th>12</th>\n",
              "      <td>Sex_deviation_code</td>\n",
              "      <td>Sex</td>\n",
              "      <td>deviation_code</td>\n",
              "      <td>True</td>\n",
              "      <td>True</td>\n",
              "      <td>-0.068706</td>\n",
              "      <td>0.004720</td>\n",
              "      <td>6.795045e-105</td>\n",
              "      <td>3.0</td>\n",
              "      <td>0.066667</td>\n",
              "      <td>False</td>\n",
              "    </tr>\n",
              "    <tr>\n",
              "      <th>13</th>\n",
              "      <td>Sex_prevalence_code</td>\n",
              "      <td>Sex</td>\n",
              "      <td>prevalence_code</td>\n",
              "      <td>False</td>\n",
              "      <td>True</td>\n",
              "      <td>-0.039303</td>\n",
              "      <td>0.001545</td>\n",
              "      <td>1.735749e-35</td>\n",
              "      <td>3.0</td>\n",
              "      <td>0.066667</td>\n",
              "      <td>True</td>\n",
              "    </tr>\n",
              "    <tr>\n",
              "      <th>14</th>\n",
              "      <td>Sex_lev_Female</td>\n",
              "      <td>Sex</td>\n",
              "      <td>indicator_code</td>\n",
              "      <td>False</td>\n",
              "      <td>True</td>\n",
              "      <td>-0.053417</td>\n",
              "      <td>0.002853</td>\n",
              "      <td>4.283371e-64</td>\n",
              "      <td>5.0</td>\n",
              "      <td>0.040000</td>\n",
              "      <td>True</td>\n",
              "    </tr>\n",
              "    <tr>\n",
              "      <th>15</th>\n",
              "      <td>Sex_lev_Male</td>\n",
              "      <td>Sex</td>\n",
              "      <td>indicator_code</td>\n",
              "      <td>False</td>\n",
              "      <td>True</td>\n",
              "      <td>0.068465</td>\n",
              "      <td>0.004687</td>\n",
              "      <td>3.579415e-104</td>\n",
              "      <td>5.0</td>\n",
              "      <td>0.040000</td>\n",
              "      <td>True</td>\n",
              "    </tr>\n",
              "    <tr>\n",
              "      <th>16</th>\n",
              "      <td>Sides_impact_code</td>\n",
              "      <td>Sides</td>\n",
              "      <td>impact_code</td>\n",
              "      <td>True</td>\n",
              "      <td>True</td>\n",
              "      <td>0.260115</td>\n",
              "      <td>0.067660</td>\n",
              "      <td>0.000000e+00</td>\n",
              "      <td>3.0</td>\n",
              "      <td>0.066667</td>\n",
              "      <td>True</td>\n",
              "    </tr>\n",
              "    <tr>\n",
              "      <th>17</th>\n",
              "      <td>Sides_deviation_code</td>\n",
              "      <td>Sides</td>\n",
              "      <td>deviation_code</td>\n",
              "      <td>True</td>\n",
              "      <td>True</td>\n",
              "      <td>-0.135220</td>\n",
              "      <td>0.018285</td>\n",
              "      <td>0.000000e+00</td>\n",
              "      <td>3.0</td>\n",
              "      <td>0.066667</td>\n",
              "      <td>False</td>\n",
              "    </tr>\n",
              "    <tr>\n",
              "      <th>18</th>\n",
              "      <td>Sides_prevalence_code</td>\n",
              "      <td>Sides</td>\n",
              "      <td>prevalence_code</td>\n",
              "      <td>False</td>\n",
              "      <td>True</td>\n",
              "      <td>0.025123</td>\n",
              "      <td>0.000631</td>\n",
              "      <td>1.939288e-15</td>\n",
              "      <td>3.0</td>\n",
              "      <td>0.066667</td>\n",
              "      <td>True</td>\n",
              "    </tr>\n",
              "  </tbody>\n",
              "</table>\n",
              "</div>"
            ],
            "text/plain": [
              "                             variable  ... recommended\n",
              "0                              DrugId  ...        True\n",
              "1                           EaseofUse  ...        True\n",
              "2                       Effectiveness  ...        True\n",
              "3                    Sentiment_Rating  ...        True\n",
              "4                         UsefulCount  ...       False\n",
              "5               Condition_impact_code  ...        True\n",
              "6            Condition_deviation_code  ...       False\n",
              "7           Condition_prevalence_code  ...        True\n",
              "8                  Condition_lev_Pain  ...        True\n",
              "9                 Condition_lev_Other  ...        True\n",
              "10  Condition_lev_High Blood Pressure  ...        True\n",
              "11                    Sex_impact_code  ...        True\n",
              "12                 Sex_deviation_code  ...       False\n",
              "13                Sex_prevalence_code  ...        True\n",
              "14                     Sex_lev_Female  ...        True\n",
              "15                       Sex_lev_Male  ...        True\n",
              "16                  Sides_impact_code  ...        True\n",
              "17               Sides_deviation_code  ...       False\n",
              "18              Sides_prevalence_code  ...        True\n",
              "\n",
              "[19 rows x 11 columns]"
            ]
          },
          "metadata": {
            "tags": []
          },
          "execution_count": 17
        }
      ]
    },
    {
      "cell_type": "code",
      "metadata": {
        "id": "2TSNJ6xaoz9x",
        "colab_type": "code",
        "colab": {
          "base_uri": "https://localhost:8080/",
          "height": 496
        },
        "outputId": "65255353-3c60-4e0e-b0ed-c4003b5d7b5a"
      },
      "source": [
        "dTreated = plan.transform(sdss_df_fe)\n",
        "dTreated"
      ],
      "execution_count": 18,
      "outputs": [
        {
          "output_type": "stream",
          "text": [
            "/usr/local/lib/python3.6/dist-packages/vtreat/vtreat_api.py:109: UserWarning: possibly called transform on same data used to fit\n",
            "(this causes over-fit, please use fit_transform() instead)\n",
            "  \"(this causes over-fit, please use fit_transform() instead)\")\n"
          ],
          "name": "stderr"
        },
        {
          "output_type": "execute_result",
          "data": {
            "text/html": [
              "<div>\n",
              "<style scoped>\n",
              "    .dataframe tbody tr th:only-of-type {\n",
              "        vertical-align: middle;\n",
              "    }\n",
              "\n",
              "    .dataframe tbody tr th {\n",
              "        vertical-align: top;\n",
              "    }\n",
              "\n",
              "    .dataframe thead th {\n",
              "        text-align: right;\n",
              "    }\n",
              "</style>\n",
              "<table border=\"1\" class=\"dataframe\">\n",
              "  <thead>\n",
              "    <tr style=\"text-align: right;\">\n",
              "      <th></th>\n",
              "      <th>Satisfaction</th>\n",
              "      <th>DrugId</th>\n",
              "      <th>EaseofUse</th>\n",
              "      <th>Effectiveness</th>\n",
              "      <th>Sentiment_Rating</th>\n",
              "      <th>UsefulCount</th>\n",
              "      <th>Condition_impact_code</th>\n",
              "      <th>Condition_deviation_code</th>\n",
              "      <th>Condition_prevalence_code</th>\n",
              "      <th>Condition_lev_Pain</th>\n",
              "      <th>Condition_lev_Other</th>\n",
              "      <th>Condition_lev_High Blood Pressure</th>\n",
              "      <th>Sex_impact_code</th>\n",
              "      <th>Sex_deviation_code</th>\n",
              "      <th>Sex_prevalence_code</th>\n",
              "      <th>Sex_lev_Female</th>\n",
              "      <th>Sex_lev_Male</th>\n",
              "      <th>Sides_impact_code</th>\n",
              "      <th>Sides_deviation_code</th>\n",
              "      <th>Sides_prevalence_code</th>\n",
              "    </tr>\n",
              "  </thead>\n",
              "  <tbody>\n",
              "    <tr>\n",
              "      <th>0</th>\n",
              "      <td>4</td>\n",
              "      <td>146724.0</td>\n",
              "      <td>5.0</td>\n",
              "      <td>5.0</td>\n",
              "      <td>5.0</td>\n",
              "      <td>0.0</td>\n",
              "      <td>0.033414</td>\n",
              "      <td>1.718146</td>\n",
              "      <td>0.001490</td>\n",
              "      <td>0.0</td>\n",
              "      <td>0.0</td>\n",
              "      <td>0.0</td>\n",
              "      <td>0.168719</td>\n",
              "      <td>1.532790</td>\n",
              "      <td>0.293135</td>\n",
              "      <td>0.0</td>\n",
              "      <td>1.0</td>\n",
              "      <td>1.019466</td>\n",
              "      <td>1.484138</td>\n",
              "      <td>0.000470</td>\n",
              "    </tr>\n",
              "    <tr>\n",
              "      <th>1</th>\n",
              "      <td>4</td>\n",
              "      <td>146724.0</td>\n",
              "      <td>5.0</td>\n",
              "      <td>5.0</td>\n",
              "      <td>5.0</td>\n",
              "      <td>1.0</td>\n",
              "      <td>-0.531780</td>\n",
              "      <td>1.614679</td>\n",
              "      <td>0.003990</td>\n",
              "      <td>0.0</td>\n",
              "      <td>0.0</td>\n",
              "      <td>0.0</td>\n",
              "      <td>-0.064357</td>\n",
              "      <td>1.610700</td>\n",
              "      <td>0.635106</td>\n",
              "      <td>1.0</td>\n",
              "      <td>0.0</td>\n",
              "      <td>1.019466</td>\n",
              "      <td>1.484138</td>\n",
              "      <td>0.000470</td>\n",
              "    </tr>\n",
              "    <tr>\n",
              "      <th>2</th>\n",
              "      <td>2</td>\n",
              "      <td>144731.0</td>\n",
              "      <td>2.0</td>\n",
              "      <td>3.0</td>\n",
              "      <td>5.0</td>\n",
              "      <td>0.0</td>\n",
              "      <td>-0.095991</td>\n",
              "      <td>1.644010</td>\n",
              "      <td>0.117204</td>\n",
              "      <td>0.0</td>\n",
              "      <td>1.0</td>\n",
              "      <td>0.0</td>\n",
              "      <td>-0.064357</td>\n",
              "      <td>1.610700</td>\n",
              "      <td>0.635106</td>\n",
              "      <td>1.0</td>\n",
              "      <td>0.0</td>\n",
              "      <td>-0.222787</td>\n",
              "      <td>1.723198</td>\n",
              "      <td>0.035674</td>\n",
              "    </tr>\n",
              "    <tr>\n",
              "      <th>3</th>\n",
              "      <td>0</td>\n",
              "      <td>144731.0</td>\n",
              "      <td>2.0</td>\n",
              "      <td>2.0</td>\n",
              "      <td>1.0</td>\n",
              "      <td>0.0</td>\n",
              "      <td>-0.095991</td>\n",
              "      <td>1.644010</td>\n",
              "      <td>0.117204</td>\n",
              "      <td>0.0</td>\n",
              "      <td>1.0</td>\n",
              "      <td>0.0</td>\n",
              "      <td>-0.064357</td>\n",
              "      <td>1.610700</td>\n",
              "      <td>0.635106</td>\n",
              "      <td>1.0</td>\n",
              "      <td>0.0</td>\n",
              "      <td>-0.222787</td>\n",
              "      <td>1.723198</td>\n",
              "      <td>0.035674</td>\n",
              "    </tr>\n",
              "    <tr>\n",
              "      <th>4</th>\n",
              "      <td>0</td>\n",
              "      <td>144731.0</td>\n",
              "      <td>1.0</td>\n",
              "      <td>1.0</td>\n",
              "      <td>1.0</td>\n",
              "      <td>1.0</td>\n",
              "      <td>-0.095991</td>\n",
              "      <td>1.644010</td>\n",
              "      <td>0.117204</td>\n",
              "      <td>0.0</td>\n",
              "      <td>1.0</td>\n",
              "      <td>0.0</td>\n",
              "      <td>0.168719</td>\n",
              "      <td>1.532790</td>\n",
              "      <td>0.293135</td>\n",
              "      <td>0.0</td>\n",
              "      <td>1.0</td>\n",
              "      <td>-0.222787</td>\n",
              "      <td>1.723198</td>\n",
              "      <td>0.035674</td>\n",
              "    </tr>\n",
              "    <tr>\n",
              "      <th>...</th>\n",
              "      <td>...</td>\n",
              "      <td>...</td>\n",
              "      <td>...</td>\n",
              "      <td>...</td>\n",
              "      <td>...</td>\n",
              "      <td>...</td>\n",
              "      <td>...</td>\n",
              "      <td>...</td>\n",
              "      <td>...</td>\n",
              "      <td>...</td>\n",
              "      <td>...</td>\n",
              "      <td>...</td>\n",
              "      <td>...</td>\n",
              "      <td>...</td>\n",
              "      <td>...</td>\n",
              "      <td>...</td>\n",
              "      <td>...</td>\n",
              "      <td>...</td>\n",
              "      <td>...</td>\n",
              "      <td>...</td>\n",
              "    </tr>\n",
              "    <tr>\n",
              "      <th>99983</th>\n",
              "      <td>1</td>\n",
              "      <td>4520.0</td>\n",
              "      <td>5.0</td>\n",
              "      <td>3.0</td>\n",
              "      <td>3.0</td>\n",
              "      <td>4.0</td>\n",
              "      <td>-0.044575</td>\n",
              "      <td>1.559825</td>\n",
              "      <td>0.001750</td>\n",
              "      <td>0.0</td>\n",
              "      <td>0.0</td>\n",
              "      <td>0.0</td>\n",
              "      <td>0.168719</td>\n",
              "      <td>1.532790</td>\n",
              "      <td>0.293135</td>\n",
              "      <td>0.0</td>\n",
              "      <td>1.0</td>\n",
              "      <td>0.106440</td>\n",
              "      <td>1.560750</td>\n",
              "      <td>0.002530</td>\n",
              "    </tr>\n",
              "    <tr>\n",
              "      <th>99984</th>\n",
              "      <td>4</td>\n",
              "      <td>13706.0</td>\n",
              "      <td>5.0</td>\n",
              "      <td>5.0</td>\n",
              "      <td>5.0</td>\n",
              "      <td>1.0</td>\n",
              "      <td>0.297732</td>\n",
              "      <td>1.647747</td>\n",
              "      <td>0.002730</td>\n",
              "      <td>0.0</td>\n",
              "      <td>0.0</td>\n",
              "      <td>0.0</td>\n",
              "      <td>-0.064357</td>\n",
              "      <td>1.610700</td>\n",
              "      <td>0.635106</td>\n",
              "      <td>1.0</td>\n",
              "      <td>0.0</td>\n",
              "      <td>-0.137559</td>\n",
              "      <td>1.605796</td>\n",
              "      <td>0.003590</td>\n",
              "    </tr>\n",
              "    <tr>\n",
              "      <th>99985</th>\n",
              "      <td>0</td>\n",
              "      <td>13706.0</td>\n",
              "      <td>1.0</td>\n",
              "      <td>1.0</td>\n",
              "      <td>5.0</td>\n",
              "      <td>1.0</td>\n",
              "      <td>-0.095991</td>\n",
              "      <td>1.644010</td>\n",
              "      <td>0.117204</td>\n",
              "      <td>0.0</td>\n",
              "      <td>1.0</td>\n",
              "      <td>0.0</td>\n",
              "      <td>-0.119163</td>\n",
              "      <td>1.615923</td>\n",
              "      <td>0.071759</td>\n",
              "      <td>0.0</td>\n",
              "      <td>0.0</td>\n",
              "      <td>-0.137559</td>\n",
              "      <td>1.605796</td>\n",
              "      <td>0.003590</td>\n",
              "    </tr>\n",
              "    <tr>\n",
              "      <th>99986</th>\n",
              "      <td>0</td>\n",
              "      <td>20420.0</td>\n",
              "      <td>1.0</td>\n",
              "      <td>4.0</td>\n",
              "      <td>1.0</td>\n",
              "      <td>4.0</td>\n",
              "      <td>-0.484337</td>\n",
              "      <td>1.618790</td>\n",
              "      <td>0.037935</td>\n",
              "      <td>0.0</td>\n",
              "      <td>0.0</td>\n",
              "      <td>0.0</td>\n",
              "      <td>-0.064357</td>\n",
              "      <td>1.610700</td>\n",
              "      <td>0.635106</td>\n",
              "      <td>1.0</td>\n",
              "      <td>0.0</td>\n",
              "      <td>-0.486857</td>\n",
              "      <td>1.715701</td>\n",
              "      <td>0.001910</td>\n",
              "    </tr>\n",
              "    <tr>\n",
              "      <th>99987</th>\n",
              "      <td>4</td>\n",
              "      <td>3683.0</td>\n",
              "      <td>5.0</td>\n",
              "      <td>5.0</td>\n",
              "      <td>5.0</td>\n",
              "      <td>1.0</td>\n",
              "      <td>0.351306</td>\n",
              "      <td>1.536461</td>\n",
              "      <td>0.002200</td>\n",
              "      <td>0.0</td>\n",
              "      <td>0.0</td>\n",
              "      <td>0.0</td>\n",
              "      <td>0.168719</td>\n",
              "      <td>1.532790</td>\n",
              "      <td>0.293135</td>\n",
              "      <td>0.0</td>\n",
              "      <td>1.0</td>\n",
              "      <td>0.184386</td>\n",
              "      <td>1.682857</td>\n",
              "      <td>0.001690</td>\n",
              "    </tr>\n",
              "  </tbody>\n",
              "</table>\n",
              "<p>99988 rows × 20 columns</p>\n",
              "</div>"
            ],
            "text/plain": [
              "       Satisfaction    DrugId  ...  Sides_deviation_code  Sides_prevalence_code\n",
              "0                 4  146724.0  ...              1.484138               0.000470\n",
              "1                 4  146724.0  ...              1.484138               0.000470\n",
              "2                 2  144731.0  ...              1.723198               0.035674\n",
              "3                 0  144731.0  ...              1.723198               0.035674\n",
              "4                 0  144731.0  ...              1.723198               0.035674\n",
              "...             ...       ...  ...                   ...                    ...\n",
              "99983             1    4520.0  ...              1.560750               0.002530\n",
              "99984             4   13706.0  ...              1.605796               0.003590\n",
              "99985             0   13706.0  ...              1.605796               0.003590\n",
              "99986             0   20420.0  ...              1.715701               0.001910\n",
              "99987             4    3683.0  ...              1.682857               0.001690\n",
              "\n",
              "[99988 rows x 20 columns]"
            ]
          },
          "metadata": {
            "tags": []
          },
          "execution_count": 18
        }
      ]
    },
    {
      "cell_type": "code",
      "metadata": {
        "id": "pqJhsV8uozox",
        "colab_type": "code",
        "colab": {
          "base_uri": "https://localhost:8080/",
          "height": 390
        },
        "outputId": "9df253c9-77ff-49ec-ec1b-c8d1a07ed1a6"
      },
      "source": [
        "dTreated.isnull().sum()"
      ],
      "execution_count": 19,
      "outputs": [
        {
          "output_type": "execute_result",
          "data": {
            "text/plain": [
              "Satisfaction                         0.0\n",
              "DrugId                               0.0\n",
              "EaseofUse                            0.0\n",
              "Effectiveness                        0.0\n",
              "Sentiment_Rating                     0.0\n",
              "UsefulCount                          0.0\n",
              "Condition_impact_code                0.0\n",
              "Condition_deviation_code             0.0\n",
              "Condition_prevalence_code            0.0\n",
              "Condition_lev_Pain                   0.0\n",
              "Condition_lev_Other                  0.0\n",
              "Condition_lev_High Blood Pressure    0.0\n",
              "Sex_impact_code                      0.0\n",
              "Sex_deviation_code                   0.0\n",
              "Sex_prevalence_code                  0.0\n",
              "Sex_lev_Female                       0.0\n",
              "Sex_lev_Male                         0.0\n",
              "Sides_impact_code                    0.0\n",
              "Sides_deviation_code                 0.0\n",
              "Sides_prevalence_code                0.0\n",
              "dtype: float64"
            ]
          },
          "metadata": {
            "tags": []
          },
          "execution_count": 19
        }
      ]
    },
    {
      "cell_type": "code",
      "metadata": {
        "id": "VrFIBVC_ozjn",
        "colab_type": "code",
        "colab": {
          "base_uri": "https://localhost:8080/",
          "height": 390
        },
        "outputId": "4e670aaf-4d6b-439f-bdbe-65d74966df3f"
      },
      "source": [
        "print(dTreated.dtypes)"
      ],
      "execution_count": 20,
      "outputs": [
        {
          "output_type": "stream",
          "text": [
            "Satisfaction                                        int64\n",
            "DrugId                                            float64\n",
            "EaseofUse                                         float64\n",
            "Effectiveness                                     float64\n",
            "Sentiment_Rating                                  float64\n",
            "UsefulCount                                       float64\n",
            "Condition_impact_code                             float64\n",
            "Condition_deviation_code                          float64\n",
            "Condition_prevalence_code                         float64\n",
            "Condition_lev_Pain                   Sparse[float64, 0.0]\n",
            "Condition_lev_Other                  Sparse[float64, 0.0]\n",
            "Condition_lev_High Blood Pressure    Sparse[float64, 0.0]\n",
            "Sex_impact_code                                   float64\n",
            "Sex_deviation_code                                float64\n",
            "Sex_prevalence_code                               float64\n",
            "Sex_lev_Female                       Sparse[float64, 0.0]\n",
            "Sex_lev_Male                         Sparse[float64, 0.0]\n",
            "Sides_impact_code                                 float64\n",
            "Sides_deviation_code                              float64\n",
            "Sides_prevalence_code                             float64\n",
            "dtype: object\n"
          ],
          "name": "stdout"
        }
      ]
    },
    {
      "cell_type": "code",
      "metadata": {
        "id": "juzK3MCTozes",
        "colab_type": "code",
        "colab": {}
      },
      "source": [
        "#dTreated.drop(['Condition_lev_Other', 'Sides_lev_Nausea ,  vomiting , loss of appetite,  heartburn ,  trouble sleeping , increased  sweating , or  acne  may occur_'], axis=1, inplace=True)"
      ],
      "execution_count": null,
      "outputs": []
    },
    {
      "cell_type": "code",
      "metadata": {
        "id": "ub5pelfxwfOw",
        "colab_type": "code",
        "colab": {}
      },
      "source": [
        "\n",
        "dTreated.drop(['Sex_lev_Male', 'Sex_lev_Female', 'Condition_lev_Pain', 'Condition_lev_Other', 'Condition_lev_High Blood Pressure'], axis=1, inplace=True)"
      ],
      "execution_count": 21,
      "outputs": []
    },
    {
      "cell_type": "code",
      "metadata": {
        "id": "frkKBL8Rtq1m",
        "colab_type": "code",
        "colab": {}
      },
      "source": [
        "\n",
        "dTreated.drop(['Sex_impact_code', 'Sex_deviation_code', 'Sex_prevalence_code'], axis=1, inplace=True)"
      ],
      "execution_count": 37,
      "outputs": []
    },
    {
      "cell_type": "code",
      "metadata": {
        "id": "mnas9do2ozZx",
        "colab_type": "code",
        "colab": {
          "base_uri": "https://localhost:8080/",
          "height": 247
        },
        "outputId": "1b7ca265-d233-4eb0-8516-869b6b4661e3"
      },
      "source": [
        "print(dTreated.dtypes)"
      ],
      "execution_count": 38,
      "outputs": [
        {
          "output_type": "stream",
          "text": [
            "Satisfaction                   int64\n",
            "DrugId                       float64\n",
            "EaseofUse                    float64\n",
            "Effectiveness                float64\n",
            "Sentiment_Rating             float64\n",
            "UsefulCount                  float64\n",
            "Condition_impact_code        float64\n",
            "Condition_deviation_code     float64\n",
            "Condition_prevalence_code    float64\n",
            "Sides_impact_code            float64\n",
            "Sides_deviation_code         float64\n",
            "Sides_prevalence_code        float64\n",
            "dtype: object\n"
          ],
          "name": "stdout"
        }
      ]
    },
    {
      "cell_type": "code",
      "metadata": {
        "id": "vZxsLUH7eU5s",
        "colab_type": "code",
        "colab": {}
      },
      "source": [
        "scaler = MinMaxScaler()\n",
        "sdss = scaler.fit_transform(dTreated.drop('Satisfaction', axis=1))\n"
      ],
      "execution_count": 39,
      "outputs": []
    },
    {
      "cell_type": "code",
      "metadata": {
        "id": "cWRNtCELegIl",
        "colab_type": "code",
        "colab": {}
      },
      "source": [
        "X_train, X_test, y_train, y_test = train_test_split(sdss, dTreated['Satisfaction'], test_size=0.33)"
      ],
      "execution_count": 40,
      "outputs": []
    },
    {
      "cell_type": "code",
      "metadata": {
        "id": "aNvVt5SufuVl",
        "colab_type": "code",
        "colab": {
          "base_uri": "https://localhost:8080/",
          "height": 70
        },
        "outputId": "7dfcda6a-16ce-4369-e86c-9edb6bf9af45"
      },
      "source": [
        "knn = KNeighborsClassifier()\n",
        "training_start = time.perf_counter()\n",
        "knn.fit(X_train, y_train)\n",
        "training_end = time.perf_counter()\n",
        "prediction_start = time.perf_counter()\n",
        "preds = knn.predict(X_test)\n",
        "prediction_end = time.perf_counter()\n",
        "acc_knn = (preds == y_test).sum().astype(float) / len(preds)*100\n",
        "knn_train_time = training_end-training_start\n",
        "knn_prediction_time = prediction_end-prediction_start\n",
        "print(\"Scikit-Learn's K Nearest Neighbors Classifier's prediction accuracy is: %3.2f\" % (acc_knn))\n",
        "print(\"Time consumed for training: %4.3f seconds\" % (knn_train_time))\n",
        "print(\"Time consumed for prediction: %6.5f seconds\" % (knn_prediction_time))"
      ],
      "execution_count": 41,
      "outputs": [
        {
          "output_type": "stream",
          "text": [
            "Scikit-Learn's K Nearest Neighbors Classifier's prediction accuracy is: 67.25\n",
            "Time consumed for training: 0.240 seconds\n",
            "Time consumed for prediction: 2.92412 seconds\n"
          ],
          "name": "stdout"
        }
      ]
    },
    {
      "cell_type": "code",
      "metadata": {
        "id": "88u3t5JigRNc",
        "colab_type": "code",
        "colab": {
          "base_uri": "https://localhost:8080/",
          "height": 70
        },
        "outputId": "8976f3b5-a177-4b9b-b5c2-09d706e4c410"
      },
      "source": [
        "from sklearn.preprocessing import MaxAbsScaler\n",
        "scaler_gnb = MaxAbsScaler()\n",
        "sdss = scaler_gnb.fit_transform(dTreated.drop('Satisfaction', axis=1))\n",
        "X_train_gnb, X_test_gnb, y_train_gnb, y_test_gnb = train_test_split(sdss, dTreated['Satisfaction'], test_size=0.33)\n",
        "\n",
        "gnb = GaussianNB()\n",
        "training_start = time.perf_counter()\n",
        "gnb.fit(X_train_gnb, y_train_gnb)\n",
        "training_end = time.perf_counter()\n",
        "prediction_start = time.perf_counter()\n",
        "preds = gnb.predict(X_test_gnb)\n",
        "prediction_end = time.perf_counter()\n",
        "acc_gnb = (preds == y_test_gnb).sum().astype(float) / len(preds)*100\n",
        "gnb_train_time = training_end-training_start\n",
        "gnb_prediction_time = prediction_end-prediction_start\n",
        "print(\"Scikit-Learn's Gaussian Naive Bayes Classifier's prediction accuracy is: %3.2f\" % (acc_gnb))\n",
        "print(\"Time consumed for training: %4.3f seconds\" % (gnb_train_time))\n",
        "print(\"Time consumed for prediction: %6.5f seconds\" % (gnb_prediction_time))"
      ],
      "execution_count": 42,
      "outputs": [
        {
          "output_type": "stream",
          "text": [
            "Scikit-Learn's Gaussian Naive Bayes Classifier's prediction accuracy is: 65.41\n",
            "Time consumed for training: 0.024 seconds\n",
            "Time consumed for prediction: 0.01631 seconds\n"
          ],
          "name": "stdout"
        }
      ]
    },
    {
      "cell_type": "code",
      "metadata": {
        "id": "3h-LITkqgV0E",
        "colab_type": "code",
        "colab": {
          "base_uri": "https://localhost:8080/",
          "height": 70
        },
        "outputId": "19f27fbd-d72e-4dd6-b9bc-7daf2130a8d3"
      },
      "source": [
        "xgb = XGBClassifier(n_estimators=100)\n",
        "training_start = time.perf_counter()\n",
        "xgb.fit(X_train, y_train)\n",
        "training_end = time.perf_counter()\n",
        "prediction_start = time.perf_counter()\n",
        "preds = xgb.predict(X_test)\n",
        "prediction_end = time.perf_counter()\n",
        "acc_xgb = (preds == y_test).sum().astype(float) / len(preds)*100\n",
        "xgb_train_time = training_end-training_start\n",
        "xgb_prediction_time = prediction_end-prediction_start\n",
        "print(\"XGBoost's prediction accuracy is: %3.2f\" % (acc_xgb))\n",
        "print(\"Time consumed for training: %4.3f\" % (xgb_train_time))\n",
        "print(\"Time consumed for prediction: %6.5f seconds\" % (xgb_prediction_time))"
      ],
      "execution_count": 43,
      "outputs": [
        {
          "output_type": "stream",
          "text": [
            "XGBoost's prediction accuracy is: 68.84\n",
            "Time consumed for training: 13.881\n",
            "Time consumed for prediction: 0.54331 seconds\n"
          ],
          "name": "stdout"
        }
      ]
    },
    {
      "cell_type": "code",
      "metadata": {
        "id": "KjtKNARjgfrr",
        "colab_type": "code",
        "colab": {
          "base_uri": "https://localhost:8080/",
          "height": 70
        },
        "outputId": "943b281d-3b26-4369-c4f4-1b9a496ec743"
      },
      "source": [
        "rfc = RandomForestClassifier(n_estimators=10)\n",
        "training_start = time.perf_counter()\n",
        "rfc.fit(X_train, y_train)\n",
        "training_end = time.perf_counter()\n",
        "prediction_start = time.perf_counter()\n",
        "preds = rfc.predict(X_test)\n",
        "prediction_end = time.perf_counter()\n",
        "acc_rfc = (preds == y_test).sum().astype(float) / len(preds)*100\n",
        "rfc_train_time = training_end-training_start\n",
        "rfc_prediction_time = prediction_end-prediction_start\n",
        "print(\"Scikit-Learn's Random Forest Classifier's prediction accuracy is: %3.2f\" % (acc_rfc))\n",
        "print(\"Time consumed for training: %4.3f seconds\" % (rfc_train_time))\n",
        "print(\"Time consumed for prediction: %6.5f seconds\" % (rfc_prediction_time))"
      ],
      "execution_count": 44,
      "outputs": [
        {
          "output_type": "stream",
          "text": [
            "Scikit-Learn's Random Forest Classifier's prediction accuracy is: 72.18\n",
            "Time consumed for training: 0.942 seconds\n",
            "Time consumed for prediction: 0.10518 seconds\n"
          ],
          "name": "stdout"
        }
      ]
    },
    {
      "cell_type": "code",
      "metadata": {
        "id": "AKQwbqIxgjCO",
        "colab_type": "code",
        "colab": {
          "base_uri": "https://localhost:8080/",
          "height": 70
        },
        "outputId": "abd674ff-6e97-4f92-86cb-42bd512ba331"
      },
      "source": [
        "svc = SVC()\n",
        "training_start = time.perf_counter()\n",
        "svc.fit(X_train, y_train)\n",
        "training_end = time.perf_counter()\n",
        "prediction_start = time.perf_counter()\n",
        "preds = svc.predict(X_test)\n",
        "prediction_end = time.perf_counter()\n",
        "acc_svc = (preds == y_test).sum().astype(float) / len(preds)*100\n",
        "svc_train_time = training_end-training_start\n",
        "svc_prediction_time = prediction_end-prediction_start\n",
        "print(\"Scikit-Learn's Support Vector Machine Classifier's prediction accuracy is: %3.2f\" % (acc_svc))\n",
        "print(\"Time consumed for training: %4.3f seconds\" % (svc_train_time))\n",
        "print(\"Time consumed for prediction: %6.5f seconds\" % (svc_prediction_time))\n"
      ],
      "execution_count": 45,
      "outputs": [
        {
          "output_type": "stream",
          "text": [
            "Scikit-Learn's Support Vector Machine Classifier's prediction accuracy is: 68.34\n",
            "Time consumed for training: 172.659 seconds\n",
            "Time consumed for prediction: 52.85697 seconds\n"
          ],
          "name": "stdout"
        }
      ]
    },
    {
      "cell_type": "code",
      "metadata": {
        "id": "Ivf7VJgrO0kR",
        "colab_type": "code",
        "colab": {
          "base_uri": "https://localhost:8080/",
          "height": 70
        },
        "outputId": "c8114275-c76d-47b2-b452-c2da6176c444"
      },
      "source": [
        "from sklearn.ensemble import GradientBoostingClassifier\n",
        "gbk = GradientBoostingClassifier()\n",
        "gbk.fit(X_train, y_train)\n",
        "\n",
        "training_start = time.perf_counter()\n",
        "gbk.fit(X_train, y_train)\n",
        "training_end = time.perf_counter()\n",
        "prediction_start = time.perf_counter()\n",
        "preds = gbk.predict(X_test)\n",
        "prediction_end = time.perf_counter()\n",
        "acc_gbk = (preds == y_test).sum().astype(float) / len(preds)*100\n",
        "gbk_train_time = training_end-training_start\n",
        "gbk_prediction_time = prediction_end-prediction_start\n",
        "print(\"Scikit-Learn's Support Vector Machine Classifier's prediction accuracy is: %3.2f\" % (acc_gbk))\n",
        "print(\"Time consumed for training: %4.3f seconds\" % (gbk_train_time))\n",
        "print(\"Time consumed for prediction: %6.5f seconds\" % (gbk_prediction_time))\n",
        "\n"
      ],
      "execution_count": 46,
      "outputs": [
        {
          "output_type": "stream",
          "text": [
            "Scikit-Learn's Support Vector Machine Classifier's prediction accuracy is: 68.91\n",
            "Time consumed for training: 50.677 seconds\n",
            "Time consumed for prediction: 0.31643 seconds\n"
          ],
          "name": "stdout"
        }
      ]
    },
    {
      "cell_type": "code",
      "metadata": {
        "id": "3zuV940BP5D5",
        "colab_type": "code",
        "colab": {
          "base_uri": "https://localhost:8080/",
          "height": 123
        },
        "outputId": "e35b8cf7-7d21-415a-8b4a-ce6dea5ef866"
      },
      "source": [
        "from sklearn.metrics import accuracy_score\n",
        "from sklearn.model_selection import cross_val_score, KFold\n",
        "\n",
        "k_fold = KFold(n_splits=10, shuffle=True, random_state=0)\n",
        "\n",
        "\n",
        "gbkpred = gbk.predict(X_test)\n",
        "print(confusion_matrix(y_test, gbkpred ))\n",
        "print(round(accuracy_score(y_test, gbkpred),2)*100)\n",
        "GBKCV = (cross_val_score(gbk, X_train, y_train, cv=k_fold, n_jobs=1, scoring = 'accuracy').mean())\n"
      ],
      "execution_count": 47,
      "outputs": [
        {
          "output_type": "stream",
          "text": [
            "[[7722  387  484  236  235]\n",
            " [1308  633  936  309  158]\n",
            " [ 668  302 2511 1107  434]\n",
            " [ 232   43  627 3879 1176]\n",
            " [ 171   14  135 1297 7993]]\n",
            "69.0\n"
          ],
          "name": "stdout"
        }
      ]
    },
    {
      "cell_type": "code",
      "metadata": {
        "id": "JfhwJvEjlZbN",
        "colab_type": "code",
        "colab": {
          "base_uri": "https://localhost:8080/",
          "height": 212
        },
        "outputId": "da0f2e53-269d-4864-9e8b-52e17d1b66bc"
      },
      "source": [
        "from sklearn.linear_model import LogisticRegression\n",
        "\n",
        "LR = LogisticRegression()\n",
        "training_start = time.perf_counter()\n",
        "LR.fit(X_train, y_train)\n",
        "training_end = time.perf_counter()\n",
        "prediction_start = time.perf_counter()\n",
        "preds = LR.predict(X_test)\n",
        "prediction_end = time.perf_counter()\n",
        "acc_LR = (preds == y_test).sum().astype(float) / len(preds)*100\n",
        "LR_train_time = training_end-training_start\n",
        "LR_prediction_time = prediction_end-prediction_start\n",
        "print(\"Scikit-Learn's LR Classifier's prediction accuracy is: %3.2f\" % (acc_LR))\n",
        "print(\"Time consumed for training: %4.3f seconds\" % (LR_train_time))\n",
        "print(\"Time consumed for prediction: %6.5f seconds\" % (LR_prediction_time))\n"
      ],
      "execution_count": 48,
      "outputs": [
        {
          "output_type": "stream",
          "text": [
            "Scikit-Learn's LR Classifier's prediction accuracy is: 64.12\n",
            "Time consumed for training: 5.115 seconds\n",
            "Time consumed for prediction: 0.00362 seconds\n"
          ],
          "name": "stdout"
        },
        {
          "output_type": "stream",
          "text": [
            "/usr/local/lib/python3.6/dist-packages/sklearn/linear_model/_logistic.py:940: ConvergenceWarning: lbfgs failed to converge (status=1):\n",
            "STOP: TOTAL NO. of ITERATIONS REACHED LIMIT.\n",
            "\n",
            "Increase the number of iterations (max_iter) or scale the data as shown in:\n",
            "    https://scikit-learn.org/stable/modules/preprocessing.html\n",
            "Please also refer to the documentation for alternative solver options:\n",
            "    https://scikit-learn.org/stable/modules/linear_model.html#logistic-regression\n",
            "  extra_warning_msg=_LOGISTIC_SOLVER_CONVERGENCE_MSG)\n"
          ],
          "name": "stderr"
        }
      ]
    },
    {
      "cell_type": "code",
      "metadata": {
        "id": "KqLmEocTglpF",
        "colab_type": "code",
        "colab": {
          "base_uri": "https://localhost:8080/",
          "height": 287
        },
        "outputId": "9885c0f9-1355-4e34-d226-b7e6f2ea2a6c"
      },
      "source": [
        "results = pd.DataFrame({\n",
        "    'Model': ['KNN', 'Naive Bayes', \n",
        "              'XGBoost', 'Random Forest', 'SVC', 'LR', 'gbk'],\n",
        "    'Score': [acc_knn, acc_gnb, acc_xgb, acc_rfc, acc_svc, acc_LR, acc_gbk],\n",
        "    'Runtime Training': [knn_train_time, gnb_train_time, xgb_train_time, rfc_train_time, \n",
        "                         svc_train_time, LR_train_time, gbk_train_time],\n",
        "    'Runtime Prediction': [knn_prediction_time, gnb_prediction_time, xgb_prediction_time, rfc_prediction_time,\n",
        "                          svc_prediction_time, LR_prediction_time, gbk_prediction_time]})\n",
        "result_df = results.sort_values(by='Score', ascending=False)\n",
        "result_df = result_df.set_index('Model')\n",
        "result_df"
      ],
      "execution_count": 49,
      "outputs": [
        {
          "output_type": "execute_result",
          "data": {
            "text/html": [
              "<div>\n",
              "<style scoped>\n",
              "    .dataframe tbody tr th:only-of-type {\n",
              "        vertical-align: middle;\n",
              "    }\n",
              "\n",
              "    .dataframe tbody tr th {\n",
              "        vertical-align: top;\n",
              "    }\n",
              "\n",
              "    .dataframe thead th {\n",
              "        text-align: right;\n",
              "    }\n",
              "</style>\n",
              "<table border=\"1\" class=\"dataframe\">\n",
              "  <thead>\n",
              "    <tr style=\"text-align: right;\">\n",
              "      <th></th>\n",
              "      <th>Score</th>\n",
              "      <th>Runtime Training</th>\n",
              "      <th>Runtime Prediction</th>\n",
              "    </tr>\n",
              "    <tr>\n",
              "      <th>Model</th>\n",
              "      <th></th>\n",
              "      <th></th>\n",
              "      <th></th>\n",
              "    </tr>\n",
              "  </thead>\n",
              "  <tbody>\n",
              "    <tr>\n",
              "      <th>Random Forest</th>\n",
              "      <td>72.179289</td>\n",
              "      <td>0.942078</td>\n",
              "      <td>0.105185</td>\n",
              "    </tr>\n",
              "    <tr>\n",
              "      <th>gbk</th>\n",
              "      <td>68.909295</td>\n",
              "      <td>50.677109</td>\n",
              "      <td>0.316432</td>\n",
              "    </tr>\n",
              "    <tr>\n",
              "      <th>XGBoost</th>\n",
              "      <td>68.836561</td>\n",
              "      <td>13.881405</td>\n",
              "      <td>0.543313</td>\n",
              "    </tr>\n",
              "    <tr>\n",
              "      <th>SVC</th>\n",
              "      <td>68.342577</td>\n",
              "      <td>172.658970</td>\n",
              "      <td>52.856972</td>\n",
              "    </tr>\n",
              "    <tr>\n",
              "      <th>KNN</th>\n",
              "      <td>67.248538</td>\n",
              "      <td>0.239676</td>\n",
              "      <td>2.924118</td>\n",
              "    </tr>\n",
              "    <tr>\n",
              "      <th>Naive Bayes</th>\n",
              "      <td>65.408977</td>\n",
              "      <td>0.024486</td>\n",
              "      <td>0.016308</td>\n",
              "    </tr>\n",
              "    <tr>\n",
              "      <th>LR</th>\n",
              "      <td>64.120981</td>\n",
              "      <td>5.115056</td>\n",
              "      <td>0.003616</td>\n",
              "    </tr>\n",
              "  </tbody>\n",
              "</table>\n",
              "</div>"
            ],
            "text/plain": [
              "                   Score  Runtime Training  Runtime Prediction\n",
              "Model                                                         \n",
              "Random Forest  72.179289          0.942078            0.105185\n",
              "gbk            68.909295         50.677109            0.316432\n",
              "XGBoost        68.836561         13.881405            0.543313\n",
              "SVC            68.342577        172.658970           52.856972\n",
              "KNN            67.248538          0.239676            2.924118\n",
              "Naive Bayes    65.408977          0.024486            0.016308\n",
              "LR             64.120981          5.115056            0.003616"
            ]
          },
          "metadata": {
            "tags": []
          },
          "execution_count": 49
        }
      ]
    },
    {
      "cell_type": "code",
      "metadata": {
        "id": "SoC7dnI0gsul",
        "colab_type": "code",
        "colab": {
          "base_uri": "https://localhost:8080/",
          "height": 87
        },
        "outputId": "767f7cb4-2725-4e20-9f51-92e4d2735ec0"
      },
      "source": [
        "\n",
        "rfc_cv = RandomForestClassifier(n_estimators=100)\n",
        "scores = cross_val_score(rfc_cv, X_train, y_train, cv=10, scoring = \"accuracy\")\n",
        "print(\"Scores:\", scores)\n",
        "print(\"Mean:\", scores.mean())\n",
        "print(\"Standard Deviation:\", scores.std())"
      ],
      "execution_count": 50,
      "outputs": [
        {
          "output_type": "stream",
          "text": [
            "Scores: [0.72626866 0.72563069 0.727422   0.71473354 0.71100164 0.72533214\n",
            " 0.71846544 0.72219734 0.72786983 0.71503209]\n",
            "Mean: 0.7213953385780457\n",
            "Standard Deviation: 0.005809926153282577\n"
          ],
          "name": "stdout"
        }
      ]
    },
    {
      "cell_type": "code",
      "metadata": {
        "id": "F9nvz9nSi4Rd",
        "colab_type": "code",
        "colab": {}
      },
      "source": [
        "#xgb_cv = XGBClassifier(n_estimators=100)\n",
        "#scores = cross_val_score(xgb_cv, X_train, y_train, cv=10, scoring = \"accuracy\")\n",
        "#print(\"Scores:\", scores)\n",
        "#print(\"Mean:\", scores.mean())\n",
        "#print(\"Standard Deviation:\", scores.std())"
      ],
      "execution_count": 35,
      "outputs": []
    },
    {
      "cell_type": "code",
      "metadata": {
        "id": "HQ8iEbMQi-TV",
        "colab_type": "code",
        "colab": {
          "base_uri": "https://localhost:8080/",
          "height": 407
        },
        "outputId": "f25607b0-b6ec-43fc-ede5-bab9e2d20a7d"
      },
      "source": [
        "importances = pd.DataFrame({\n",
        "    'Feature': dTreated.drop('Satisfaction', axis=1).columns,\n",
        "    'Importance': rfc.feature_importances_\n",
        "})\n",
        "importances = importances.sort_values(by='Importance', ascending=True)\n",
        "importances = importances.set_index('Feature')\n",
        "importances"
      ],
      "execution_count": 52,
      "outputs": [
        {
          "output_type": "execute_result",
          "data": {
            "text/html": [
              "<div>\n",
              "<style scoped>\n",
              "    .dataframe tbody tr th:only-of-type {\n",
              "        vertical-align: middle;\n",
              "    }\n",
              "\n",
              "    .dataframe tbody tr th {\n",
              "        vertical-align: top;\n",
              "    }\n",
              "\n",
              "    .dataframe thead th {\n",
              "        text-align: right;\n",
              "    }\n",
              "</style>\n",
              "<table border=\"1\" class=\"dataframe\">\n",
              "  <thead>\n",
              "    <tr style=\"text-align: right;\">\n",
              "      <th></th>\n",
              "      <th>Importance</th>\n",
              "    </tr>\n",
              "    <tr>\n",
              "      <th>Feature</th>\n",
              "      <th></th>\n",
              "    </tr>\n",
              "  </thead>\n",
              "  <tbody>\n",
              "    <tr>\n",
              "      <th>Sides_prevalence_code</th>\n",
              "      <td>0.031026</td>\n",
              "    </tr>\n",
              "    <tr>\n",
              "      <th>Condition_prevalence_code</th>\n",
              "      <td>0.034219</td>\n",
              "    </tr>\n",
              "    <tr>\n",
              "      <th>Sides_deviation_code</th>\n",
              "      <td>0.035767</td>\n",
              "    </tr>\n",
              "    <tr>\n",
              "      <th>Sides_impact_code</th>\n",
              "      <td>0.038046</td>\n",
              "    </tr>\n",
              "    <tr>\n",
              "      <th>Condition_deviation_code</th>\n",
              "      <td>0.038361</td>\n",
              "    </tr>\n",
              "    <tr>\n",
              "      <th>Condition_impact_code</th>\n",
              "      <td>0.041975</td>\n",
              "    </tr>\n",
              "    <tr>\n",
              "      <th>DrugId</th>\n",
              "      <td>0.061282</td>\n",
              "    </tr>\n",
              "    <tr>\n",
              "      <th>EaseofUse</th>\n",
              "      <td>0.111456</td>\n",
              "    </tr>\n",
              "    <tr>\n",
              "      <th>Sentiment_Rating</th>\n",
              "      <td>0.128858</td>\n",
              "    </tr>\n",
              "    <tr>\n",
              "      <th>UsefulCount</th>\n",
              "      <td>0.181650</td>\n",
              "    </tr>\n",
              "    <tr>\n",
              "      <th>Effectiveness</th>\n",
              "      <td>0.297360</td>\n",
              "    </tr>\n",
              "  </tbody>\n",
              "</table>\n",
              "</div>"
            ],
            "text/plain": [
              "                           Importance\n",
              "Feature                              \n",
              "Sides_prevalence_code        0.031026\n",
              "Condition_prevalence_code    0.034219\n",
              "Sides_deviation_code         0.035767\n",
              "Sides_impact_code            0.038046\n",
              "Condition_deviation_code     0.038361\n",
              "Condition_impact_code        0.041975\n",
              "DrugId                       0.061282\n",
              "EaseofUse                    0.111456\n",
              "Sentiment_Rating             0.128858\n",
              "UsefulCount                  0.181650\n",
              "Effectiveness                0.297360"
            ]
          },
          "metadata": {
            "tags": []
          },
          "execution_count": 52
        }
      ]
    },
    {
      "cell_type": "code",
      "metadata": {
        "id": "j-Zg9I36jCaG",
        "colab_type": "code",
        "colab": {
          "base_uri": "https://localhost:8080/",
          "height": 748
        },
        "outputId": "75c41d4d-4ec0-4a28-f513-c48cca6144f0"
      },
      "source": [
        "importances.plot.bar()"
      ],
      "execution_count": 53,
      "outputs": [
        {
          "output_type": "execute_result",
          "data": {
            "text/plain": [
              "<matplotlib.axes._subplots.AxesSubplot at 0x7f56dc013978>"
            ]
          },
          "metadata": {
            "tags": []
          },
          "execution_count": 53
        },
        {
          "output_type": "display_data",
          "data": {
            "image/png": "[encoded data removed]",
            "text/plain": [
              "<Figure size 720x648 with 1 Axes>"
            ]
          },
          "metadata": {
            "tags": []
          }
        }
      ]
    },
    {
      "cell_type": "code",
      "metadata": {
        "id": "1mT9JX2IjznF",
        "colab_type": "code",
        "colab": {
          "base_uri": "https://localhost:8080/",
          "height": 143
        },
        "outputId": "800494d4-eabd-4874-87c9-5b97d67dc434"
      },
      "source": [
        "#RandomForestClassifier\n",
        "score = cross_val_score(rfc_cv, X_train, y_train, cv=10, scoring = \"accuracy\")\n",
        "print(score)\n",
        "\n",
        "from sklearn.model_selection import KFold\n",
        "\n",
        "# Defining Features and splitting the data as train and test set\n",
        "features = sdss_df_fe[['EaseofUse', 'Effectiveness', 'UsefulCount', 'Sentiment_Rating']]\n",
        "target = sdss_df_fe['Satisfaction']\n",
        "target.isnull().sum().sum()\n",
        "features = features.fillna(features.mean())\n",
        "features.isnull().sum().sum()\n",
        "train_data, test_data, train_targets, test_targets = train_test_split(features, target, test_size = 0.3, shuffle=True, random_state = 42)\n",
        "print (\"The Train set size \", X_train.shape)\n",
        "print (\"The Test set size \", X_test.shape)\n",
        "num_folds=2\n",
        "random_state=42\n",
        "n_iter=50\n",
        "kf = KFold(n_splits=num_folds, random_state=random_state)"
      ],
      "execution_count": 54,
      "outputs": [
        {
          "output_type": "stream",
          "text": [
            "[0.7280597  0.72727273 0.72607852 0.71353933 0.71010599 0.72204807\n",
            " 0.71801761 0.7236901  0.73010897 0.71458427]\n",
            "The Train set size  (66991, 11)\n",
            "The Test set size  (32997, 11)\n"
          ],
          "name": "stdout"
        },
        {
          "output_type": "stream",
          "text": [
            "/usr/local/lib/python3.6/dist-packages/sklearn/model_selection/_split.py:296: FutureWarning: Setting a random_state has no effect since shuffle is False. This will raise an error in 0.24. You should leave random_state to its default (None), or set shuffle=True.\n",
            "  FutureWarning\n"
          ],
          "name": "stderr"
        }
      ]
    },
    {
      "cell_type": "code",
      "metadata": {
        "id": "5VbEAeT3y9gc",
        "colab_type": "code",
        "colab": {}
      },
      "source": [
        "X_train, X_test, y_train, y_test = train_test_split(dTreated.drop('Satisfaction', axis=1), dTreated['Satisfaction'],test_size=0.33)"
      ],
      "execution_count": 55,
      "outputs": []
    },
    {
      "cell_type": "code",
      "metadata": {
        "id": "k-dpS5R93GUS",
        "colab_type": "code",
        "colab": {
          "base_uri": "https://localhost:8080/",
          "height": 390
        },
        "outputId": "fa1db090-4dd1-4957-dd98-ea250892bd5a"
      },
      "source": [
        "from pprint import pprint\n",
        "# Look at parameters used by our current forest\n",
        "print('Parameters currently in use:\\n')\n",
        "pprint(rfc.get_params())"
      ],
      "execution_count": 56,
      "outputs": [
        {
          "output_type": "stream",
          "text": [
            "Parameters currently in use:\n",
            "\n",
            "{'bootstrap': True,\n",
            " 'ccp_alpha': 0.0,\n",
            " 'class_weight': None,\n",
            " 'criterion': 'gini',\n",
            " 'max_depth': None,\n",
            " 'max_features': 'auto',\n",
            " 'max_leaf_nodes': None,\n",
            " 'max_samples': None,\n",
            " 'min_impurity_decrease': 0.0,\n",
            " 'min_impurity_split': None,\n",
            " 'min_samples_leaf': 1,\n",
            " 'min_samples_split': 2,\n",
            " 'min_weight_fraction_leaf': 0.0,\n",
            " 'n_estimators': 10,\n",
            " 'n_jobs': None,\n",
            " 'oob_score': False,\n",
            " 'random_state': None,\n",
            " 'verbose': 0,\n",
            " 'warm_start': False}\n"
          ],
          "name": "stdout"
        }
      ]
    },
    {
      "cell_type": "code",
      "metadata": {
        "id": "rweiZoHr3GAl",
        "colab_type": "code",
        "colab": {
          "base_uri": "https://localhost:8080/",
          "height": 123
        },
        "outputId": "3da24dac-8350-4309-806d-c7d91733a338"
      },
      "source": [
        "from sklearn.model_selection import RandomizedSearchCV\n",
        "# Number of trees in random forest\n",
        "n_estimators = [int(x) for x in np.linspace(start = 200, stop = 2000, num = 10)]\n",
        "# Number of features to consider at every split\n",
        "max_features = ['auto', 'sqrt']\n",
        "# Maximum number of levels in tree\n",
        "max_depth = [int(x) for x in np.linspace(10, 110, num = 11)]\n",
        "max_depth.append(None)\n",
        "# Minimum number of samples required to split a node\n",
        "min_samples_split = [2, 5, 10]\n",
        "# Minimum number of samples required at each leaf node\n",
        "min_samples_leaf = [1, 2, 4]\n",
        "# Method of selecting samples for training each tree\n",
        "bootstrap = [True, False]\n",
        "# Create the random grid\n",
        "random_grid = {'n_estimators': n_estimators,\n",
        "               'max_features': max_features,\n",
        "               'max_depth': max_depth,\n",
        "               'min_samples_split': min_samples_split,\n",
        "               'min_samples_leaf': min_samples_leaf,\n",
        "               'bootstrap': bootstrap}\n",
        "pprint(random_grid)"
      ],
      "execution_count": 105,
      "outputs": [
        {
          "output_type": "stream",
          "text": [
            "{'bootstrap': [True, False],\n",
            " 'max_depth': [10, 20, 30, 40, 50, 60, 70, 80, 90, 100, 110, None],\n",
            " 'max_features': ['auto', 'sqrt'],\n",
            " 'min_samples_leaf': [1, 2, 4],\n",
            " 'min_samples_split': [2, 5, 10],\n",
            " 'n_estimators': [200, 400, 600, 800, 1000, 1200, 1400, 1600, 1800, 2000]}\n"
          ],
          "name": "stdout"
        }
      ]
    },
    {
      "cell_type": "code",
      "metadata": {
        "id": "nyPa2kmf3FpH",
        "colab_type": "code",
        "colab": {
          "base_uri": "https://localhost:8080/",
          "height": 658
        },
        "outputId": "481b37e0-2dd9-4c25-bfbb-8139a7ae7ee2"
      },
      "source": [
        "# Use the random grid to search for best hyperparameters\n",
        "\n",
        "# Random search of parameters, using 3 fold cross validation, \n",
        "# search across 100 different combinations, and use all available cores\n",
        "rf_random = RandomizedSearchCV(estimator = rfc, param_distributions = random_grid, n_iter = 100, cv = 3, verbose=2, random_state=42, n_jobs = -1)\n",
        "# Fit the random search model\n",
        "rf_random.fit(X_train, y_train)"
      ],
      "execution_count": 106,
      "outputs": [
        {
          "output_type": "stream",
          "text": [
            "Fitting 3 folds for each of 100 candidates, totalling 300 fits\n"
          ],
          "name": "stdout"
        },
        {
          "output_type": "stream",
          "text": [
            "[Parallel(n_jobs=-1)]: Using backend LokyBackend with 2 concurrent workers.\n",
            "/usr/local/lib/python3.6/dist-packages/joblib/externals/loky/process_executor.py:691: UserWarning: A worker stopped while some jobs were given to the executor. This can be caused by a too short worker timeout or by a memory leak.\n",
            "  \"timeout or by a memory leak.\", UserWarning\n",
            "[Parallel(n_jobs=-1)]: Done  37 tasks      | elapsed:  9.8min\n",
            "[Parallel(n_jobs=-1)]: Done 158 tasks      | elapsed: 43.0min\n",
            "[Parallel(n_jobs=-1)]: Done 300 out of 300 | elapsed: 77.6min finished\n"
          ],
          "name": "stderr"
        },
        {
          "output_type": "execute_result",
          "data": {
            "text/plain": [
              "RandomizedSearchCV(cv=3, error_score=nan,\n",
              "                   estimator=RandomForestClassifier(bootstrap=True,\n",
              "                                                    ccp_alpha=0.0,\n",
              "                                                    class_weight=None,\n",
              "                                                    criterion='gini',\n",
              "                                                    max_depth=None,\n",
              "                                                    max_features='auto',\n",
              "                                                    max_leaf_nodes=None,\n",
              "                                                    max_samples=None,\n",
              "                                                    min_impurity_decrease=0.0,\n",
              "                                                    min_impurity_split=None,\n",
              "                                                    min_samples_leaf=1,\n",
              "                                                    min_samples_split=2,\n",
              "                                                    min_weight_fraction_leaf=0.0,\n",
              "                                                    n_estimators=10,\n",
              "                                                    n_jobs=...\n",
              "                   param_distributions={'bootstrap': [True, False],\n",
              "                                        'max_depth': [10, 20, 30, 40, 50, 60,\n",
              "                                                      70, 80, 90, 100, 110,\n",
              "                                                      None],\n",
              "                                        'max_features': ['auto', 'sqrt'],\n",
              "                                        'min_samples_leaf': [1, 2, 4],\n",
              "                                        'min_samples_split': [2, 5, 10],\n",
              "                                        'n_estimators': [200, 400, 600, 800,\n",
              "                                                         1000, 1200, 1400, 1600,\n",
              "                                                         1800, 2000]},\n",
              "                   pre_dispatch='2*n_jobs', random_state=42, refit=True,\n",
              "                   return_train_score=False, scoring=None, verbose=2)"
            ]
          },
          "metadata": {
            "tags": []
          },
          "execution_count": 106
        }
      ]
    },
    {
      "cell_type": "code",
      "metadata": {
        "id": "fhnXhSXO3ya2",
        "colab_type": "code",
        "colab": {
          "base_uri": "https://localhost:8080/",
          "height": 141
        },
        "outputId": "019eb36f-730a-450d-b7d2-3c7759bfde86"
      },
      "source": [
        "rf_random.best_params_,rf_random.best_score_\n"
      ],
      "execution_count": null,
      "outputs": [
        {
          "output_type": "execute_result",
          "data": {
            "text/plain": [
              "({'bootstrap': True,\n",
              "  'max_depth': 10,\n",
              "  'max_features': 'sqrt',\n",
              "  'min_samples_leaf': 1,\n",
              "  'min_samples_split': 5,\n",
              "  'n_estimators': 2000},\n",
              " 0.6654391499733753)"
            ]
          },
          "metadata": {
            "tags": []
          },
          "execution_count": 247
        }
      ]
    },
    {
      "cell_type": "code",
      "metadata": {
        "id": "AWfDxQCjz5EV",
        "colab_type": "code",
        "colab": {
          "base_uri": "https://localhost:8080/",
          "height": 34
        },
        "outputId": "9482a783-50bf-4466-c7f2-705da8743cef"
      },
      "source": [
        "RForest = RandomForestClassifier(bootstrap=True, max_depth=10, max_features='sqrt', min_samples_leaf=1, min_samples_split=4, n_estimators=2000)\n",
        "\n",
        "RForest.fit(X_train, y_train)\n",
        "preds = RForest.predict(X_test)\n",
        "\n",
        "accuracy = (preds == y_test).sum().astype(float) / len(preds)*100\n",
        "\n",
        "print(\"RandomForest's prediction accuracy WITH optimal hyperparameters is: %3.2f\" % (accuracy))"
      ],
      "execution_count": 73,
      "outputs": [
        {
          "output_type": "stream",
          "text": [
            "RandomForest's prediction accuracy WITH optimal hyperparameters is: 69.23\n"
          ],
          "name": "stdout"
        }
      ]
    },
    {
      "cell_type": "code",
      "metadata": {
        "id": "X_UODtGhz1fQ",
        "colab_type": "code",
        "colab": {}
      },
      "source": [
        "y_pred = RForest.predict(X_test)"
      ],
      "execution_count": 75,
      "outputs": []
    },
    {
      "cell_type": "code",
      "metadata": {
        "id": "_kcCV_RW1T64",
        "colab_type": "code",
        "colab": {
          "base_uri": "https://localhost:8080/",
          "height": 87
        },
        "outputId": "642ab726-df7d-4c21-9972-250bb3dec3c2"
      },
      "source": [
        "#xgb_cv = RandomForestClassifier(n_estimators=100)\n",
        "scores = cross_val_score(RForest, X_train, y_train, cv=10, scoring = \"accuracy\")\n",
        "print(\"Scores:\", scores)\n",
        "print(\"Mean:\", scores.mean())\n",
        "print(\"Standard Deviation:\", scores.std())"
      ],
      "execution_count": 76,
      "outputs": [
        {
          "output_type": "stream",
          "text": [
            "Scores: [0.68522388 0.68517689 0.70562771 0.7007016  0.70025377 0.69278997\n",
            " 0.69920884 0.68517689 0.6969697  0.6932378 ]\n",
            "Mean: 0.6944367036291894\n",
            "Standard Deviation: 0.006985903132022665\n"
          ],
          "name": "stdout"
        }
      ]
    },
    {
      "cell_type": "code",
      "metadata": {
        "id": "9nVcqVzu1bLt",
        "colab_type": "code",
        "colab": {
          "base_uri": "https://localhost:8080/",
          "height": 34
        },
        "outputId": "fb45a070-4fd5-4b58-f194-b200d3575e5e"
      },
      "source": [
        "unique, counts = np.unique(dTreated['Satisfaction'], return_counts=True)\n",
        "dict(zip(unique, counts))"
      ],
      "execution_count": 77,
      "outputs": [
        {
          "output_type": "execute_result",
          "data": {
            "text/plain": [
              "{0: 27494, 1: 10037, 2: 15234, 3: 18055, 4: 29168}"
            ]
          },
          "metadata": {
            "tags": []
          },
          "execution_count": 77
        }
      ]
    },
    {
      "cell_type": "code",
      "metadata": {
        "id": "ZyqhW9TY1dO5",
        "colab_type": "code",
        "colab": {
          "base_uri": "https://localhost:8080/",
          "height": 105
        },
        "outputId": "e3a72a87-a4d1-4037-ab10-b169439766f4"
      },
      "source": [
        "predictions = cross_val_predict(RForest, sdss, dTreated['Satisfaction'], cv=3)\n",
        "confusion_matrix(dTreated['Satisfaction'], predictions)"
      ],
      "execution_count": 78,
      "outputs": [
        {
          "output_type": "execute_result",
          "data": {
            "text/plain": [
              "array([[23680,   909,  1226,   693,   986],\n",
              "       [ 4735,  1260,  2533,   928,   581],\n",
              "       [ 2990,   591,  6923,  3236,  1494],\n",
              "       [ 1109,    49,  2441, 10827,  3629],\n",
              "       [  494,    27,   675,  3854, 24118]])"
            ]
          },
          "metadata": {
            "tags": []
          },
          "execution_count": 78
        }
      ]
    },
    {
      "cell_type": "code",
      "metadata": {
        "id": "bho7ptZu1dvk",
        "colab_type": "code",
        "colab": {
          "base_uri": "https://localhost:8080/",
          "height": 52
        },
        "outputId": "887175cc-fc6c-44e8-d41d-3a8dfda4f1a9"
      },
      "source": [
        "print(\"Precision:\", precision_score(dTreated['Satisfaction'], predictions, average='micro'))\n",
        "print(\"Recall:\",recall_score(dTreated['Satisfaction'], predictions, average='micro'))"
      ],
      "execution_count": 79,
      "outputs": [
        {
          "output_type": "stream",
          "text": [
            "Precision: 0.6681601792215066\n",
            "Recall: 0.6681601792215066\n"
          ],
          "name": "stdout"
        }
      ]
    },
    {
      "cell_type": "code",
      "metadata": {
        "id": "rBIOONtr1uYZ",
        "colab_type": "code",
        "colab": {
          "base_uri": "https://localhost:8080/",
          "height": 34
        },
        "outputId": "4adb1762-9a83-47b6-a7a2-c5c0e3a36b2d"
      },
      "source": [
        "print(\"F1-Score:\", f1_score(dTreated['Satisfaction'], predictions, average='micro'))"
      ],
      "execution_count": 80,
      "outputs": [
        {
          "output_type": "stream",
          "text": [
            "F1-Score: 0.6681601792215066\n"
          ],
          "name": "stdout"
        }
      ]
    },
    {
      "cell_type": "code",
      "metadata": {
        "id": "0IwT_rBU2eCm",
        "colab_type": "code",
        "colab": {
          "base_uri": "https://localhost:8080/",
          "height": 265
        },
        "outputId": "53460867-b951-412e-ab51-c2517f36c171"
      },
      "source": [
        "# Classification report\n",
        "import sklearn.metrics as metrics\n",
        "print('\\t\\t\\t\\tCLASSIFICATIION METRICS\\n')\n",
        "print(metrics.classification_report(dTreated['Satisfaction'], predictions))"
      ],
      "execution_count": 81,
      "outputs": [
        {
          "output_type": "stream",
          "text": [
            "\t\t\t\tCLASSIFICATIION METRICS\n",
            "\n",
            "              precision    recall  f1-score   support\n",
            "\n",
            "           0       0.72      0.86      0.78     27494\n",
            "           1       0.44      0.13      0.20     10037\n",
            "           2       0.50      0.45      0.48     15234\n",
            "           3       0.55      0.60      0.58     18055\n",
            "           4       0.78      0.83      0.80     29168\n",
            "\n",
            "    accuracy                           0.67     99988\n",
            "   macro avg       0.60      0.57      0.57     99988\n",
            "weighted avg       0.65      0.67      0.65     99988\n",
            "\n"
          ],
          "name": "stdout"
        }
      ]
    },
    {
      "cell_type": "code",
      "metadata": {
        "id": "bHxNF7OWW1Wb",
        "colab_type": "code",
        "colab": {
          "base_uri": "https://localhost:8080/",
          "height": 34
        },
        "outputId": "43ed05d5-ee3f-4cfa-9f83-755bd21fcd29"
      },
      "source": [
        "from sklearn.metrics import roc_auc_score\n",
        "from sklearn.preprocessing import LabelBinarizer\n",
        "lb = LabelBinarizer()\n",
        "lb.fit(y_test)\n",
        "y_test1 = lb.transform(y_test)\n",
        "y_pred1= lb.transform(y_pred)\n",
        "roc_auc_score(y_test1, y_pred1, average=\"macro\")"
      ],
      "execution_count": 83,
      "outputs": [
        {
          "output_type": "execute_result",
          "data": {
            "text/plain": [
              "0.7619290802697346"
            ]
          },
          "metadata": {
            "tags": []
          },
          "execution_count": 83
        }
      ]
    },
    {
      "cell_type": "code",
      "metadata": {
        "id": "EShbbIRFdy_d",
        "colab_type": "code",
        "colab": {}
      },
      "source": [
        "from itertools import cycle\n",
        "from sklearn.metrics import roc_curve, auc\n",
        "from sklearn.preprocessing import label_binarize\n",
        "from scipy import interp\n",
        "\n",
        "\n",
        "\n",
        "statis=dTreated['Satisfaction']\n",
        "y = label_binarize(statis, classes=[0, 1, 2, 3, 4])\n",
        "n_classes = y.shape[1]\n",
        "\n",
        "\n",
        "# Compute ROC curve and ROC area for each class\n",
        "fpr = dict()\n",
        "tpr = dict()\n",
        "roc_auc = dict()\n",
        "for i in range(n_classes):\n",
        "    fpr[i], tpr[i], _ = roc_curve(y_test1[:, i], y_pred1[:, i])\n",
        "    roc_auc[i] = auc(fpr[i], tpr[i])\n",
        "\n",
        "# Compute micro-average ROC curve and ROC area\n",
        "fpr[\"micro\"], tpr[\"micro\"], _ = roc_curve(y_test1.ravel(), y_pred1.ravel())\n",
        "roc_auc[\"micro\"] = auc(fpr[\"micro\"], tpr[\"micro\"])\n",
        "\n",
        "\n"
      ],
      "execution_count": 84,
      "outputs": []
    },
    {
      "cell_type": "code",
      "metadata": {
        "id": "nhpglilToo5S",
        "colab_type": "code",
        "colab": {
          "base_uri": "https://localhost:8080/",
          "height": 577
        },
        "outputId": "a24cf414-43e5-4ea1-a645-f98ede376b9f"
      },
      "source": [
        "plt.figure()\n",
        "lw = 2\n",
        "plt.plot(fpr[2], tpr[2], color='darkorange',\n",
        "         lw=lw, label='ROC curve (area = %0.2f)' % roc_auc[2])\n",
        "plt.plot([0, 1], [0, 1], color='navy', lw=lw, linestyle='--')\n",
        "plt.xlim([0.0, 1.0])\n",
        "plt.ylim([0.0, 1.05])\n",
        "plt.xlabel('False Positive Rate')\n",
        "plt.ylabel('True Positive Rate')\n",
        "plt.title('Receiver operating characteristic example')\n",
        "plt.legend(loc=\"lower right\")\n",
        "plt.show()"
      ],
      "execution_count": 85,
      "outputs": [
        {
          "output_type": "display_data",
          "data": {
            "image/png": "[encoded data removed]",
            "text/plain": [
              "<Figure size 720x648 with 1 Axes>"
            ]
          },
          "metadata": {
            "tags": []
          }
        }
      ]
    },
    {
      "cell_type": "code",
      "metadata": {
        "id": "zEnNBzygpotH",
        "colab_type": "code",
        "colab": {
          "base_uri": "https://localhost:8080/",
          "height": 577
        },
        "outputId": "1403a478-d6e4-4013-d34e-674885d57010"
      },
      "source": [
        "from scipy import interp\n",
        "from itertools import cycle\n",
        "\n",
        "# First aggregate all false positive rates\n",
        "all_fpr = np.unique(np.concatenate([fpr[i] for i in range(n_classes)]))\n",
        "\n",
        "# Then interpolate all ROC curves at this points\n",
        "mean_tpr = np.zeros_like(all_fpr)\n",
        "for i in range(n_classes):\n",
        "    mean_tpr += interp(all_fpr, fpr[i], tpr[i])\n",
        "\n",
        "# Finally average it and compute AUC\n",
        "mean_tpr /= n_classes\n",
        "\n",
        "fpr[\"macro\"] = all_fpr\n",
        "tpr[\"macro\"] = mean_tpr\n",
        "roc_auc[\"macro\"] = auc(fpr[\"macro\"], tpr[\"macro\"])\n",
        "\n",
        "# Plot all ROC curves\n",
        "plt.figure()\n",
        "plt.plot(fpr[\"micro\"], tpr[\"micro\"],\n",
        "         label='micro-average ROC curve (area = {0:0.2f})'\n",
        "               ''.format(roc_auc[\"micro\"]),\n",
        "         color='deeppink', linestyle=':', linewidth=4)\n",
        "\n",
        "plt.plot(fpr[\"macro\"], tpr[\"macro\"],\n",
        "         label='macro-average ROC curve (area = {0:0.2f})'\n",
        "               ''.format(roc_auc[\"macro\"]),\n",
        "         color='navy', linestyle=':', linewidth=4)\n",
        "\n",
        "colors = cycle(['aqua', 'darkorange', 'cornflowerblue'])\n",
        "for i, color in zip(range(n_classes), colors):\n",
        "    plt.plot(fpr[i], tpr[i], color=color, lw=lw,\n",
        "             label='ROC curve of class {0} (area = {1:0.2f})'\n",
        "             ''.format(i, roc_auc[i]))\n",
        "\n",
        "plt.plot([0, 1], [0, 1], 'k--', lw=lw)\n",
        "plt.xlim([0.0, 1.0])\n",
        "plt.ylim([0.0, 1.05])\n",
        "plt.xlabel('False Positive Rate')\n",
        "plt.ylabel('True Positive Rate')\n",
        "plt.title('Some extension of Receiver operating characteristic to multi-class')\n",
        "plt.legend(loc=\"lower right\")\n",
        "plt.show()"
      ],
      "execution_count": 86,
      "outputs": [
        {
          "output_type": "display_data",
          "data": {
            "image/png": "[encoded data removed]",
            "text/plain": [
              "<Figure size 720x648 with 1 Axes>"
            ]
          },
          "metadata": {
            "tags": []
          }
        }
      ]
    },
    {
      "cell_type": "code",
      "metadata": {
        "id": "oP9Tofo-sD7B",
        "colab_type": "code",
        "colab": {}
      },
      "source": [
        ""
      ],
      "execution_count": null,
      "outputs": []
    }
  ]
}