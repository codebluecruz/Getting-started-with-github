{
  "nbformat": 4,
  "nbformat_minor": 0,
  "metadata": {
    "colab": {
      "name": "predicted lstm trial.ipynb",
      "provenance": [],
      "collapsed_sections": [],
      "machine_shape": "hm",
      "include_colab_link": true
    },
    "kernelspec": {
      "name": "python3",
      "display_name": "Python 3"
    },
    "accelerator": "TPU"
  },
  "cells": [
    {
      "cell_type": "markdown",
      "metadata": {
        "id": "view-in-github",
        "colab_type": "text"
      },
      "source": [
        "<a href=\"https://colab.research.google.com/github/codebluecruz/Getting-started-with-github/blob/master/actual%20full%20webmd%20lstm%20.ipynb\" target=\"_parent\"><img src=\"https://colab.research.google.com/assets/colab-badge.svg\" alt=\"Open In Colab\"/></a>"
      ]
    },
    {
      "cell_type": "markdown",
      "metadata": {
        "_uuid": "dd4d87a956090846d694ee5cb73e9d4581fa24f6",
        "id": "1TCeMoZ_7PIv",
        "colab_type": "text"
      },
      "source": [
        "# Exploratory Data Analysis w/ Python\n",
        "\n",
        "This kernel comprise exploratory data analysis on the provided data, including: \n",
        "- Data loading\n",
        "- Data cleaning \n",
        "- Descriptive Analysis\n",
        "- Temporal Analysis\n",
        "- Sentiment Analysis\n",
        "- Text Analysis\n",
        "- Importing Models\n",
        "- Comparing Classifier outputs\n",
        "- Hyperparameter Optimisation\n",
        "- Evaluating Results(Accuracy, F1-Score, Roc_auc score, ROC_AUC Cruve)\n",
        "\n"
      ]
    },
    {
      "cell_type": "code",
      "metadata": {
        "trusted": true,
        "_uuid": "8c3b51399825e356312a7849da35ecc580227f55",
        "id": "4fXWe39B7PIx",
        "colab_type": "code",
        "colab": {
          "base_uri": "https://localhost:8080/",
          "height": 52
        },
        "outputId": "6177fb94-a499-4edf-89ee-c2ab962a4e58"
      },
      "source": [
        "# Importing all libraries which will be used for our model\n",
        "import pandas as pd\n",
        "import matplotlib.pyplot as plt\n",
        "from scipy import stats\n",
        "import numpy as np\n",
        "import re\n",
        "import seaborn as sns\n",
        "import string\n",
        "import html\n",
        "from sklearn.preprocessing import normalize, MinMaxScaler\n",
        "from scipy.stats import spearmanr, pearsonr\n",
        "\n",
        "# NLTK\n",
        "import nltk\n",
        "from nltk.corpus import stopwords\n",
        "from nltk.stem import SnowballStemmer\n",
        "import nltk\n",
        "nltk.download('stopwords')\n",
        "\n",
        "import warnings\n",
        "warnings.filterwarnings(\"ignore\", category=UserWarning, module='bs4')\n",
        "plt.style.use('ggplot')"
      ],
      "execution_count": 121,
      "outputs": [
        {
          "output_type": "stream",
          "text": [
            "[nltk_data] Downloading package stopwords to /root/nltk_data...\n",
            "[nltk_data]   Package stopwords is already up-to-date!\n"
          ],
          "name": "stdout"
        }
      ]
    },
    {
      "cell_type": "code",
      "metadata": {
        "id": "JNA-8waoDxUq",
        "colab_type": "code",
        "colab": {
          "base_uri": "https://localhost:8080/",
          "height": 34
        },
        "outputId": "dded9f2e-e6e1-40cc-9794-0c775bb95e62"
      },
      "source": [
        "# Environment used for codefile if GooGle Collaboratory, Here we're mounting our google drive as all our data is saved on drive itself,\n",
        "# saves us from upload time.\n",
        "from google.colab import drive\n",
        "drive.mount('/content/drive')"
      ],
      "execution_count": 122,
      "outputs": [
        {
          "output_type": "stream",
          "text": [
            "Drive already mounted at /content/drive; to attempt to forcibly remount, call drive.mount(\"/content/drive\", force_remount=True).\n"
          ],
          "name": "stdout"
        }
      ]
    },
    {
      "cell_type": "markdown",
      "metadata": {
        "_uuid": "9211934c152e8b40da08ba819800775662979593",
        "id": "DPR5Rjae7PI1",
        "colab_type": "text"
      },
      "source": [
        "## Loading Data\n",
        "\n",
        "Since we are just doing an exploratory analysis of the data, **we are going to concatenate test and train data into one dataset**."
      ]
    },
    {
      "cell_type": "code",
      "metadata": {
        "_kg_hide-input": false,
        "trusted": true,
        "_uuid": "8678481568c9b1bdd42da356206c2561cd521119",
        "id": "VFDWZdts7PI2",
        "colab_type": "code",
        "colab": {}
      },
      "source": [
        "# Reading data \n",
        "drugs = pd.read_csv('/content/drive/My Drive/full webmd.csv', skiprows=0)"
      ],
      "execution_count": 123,
      "outputs": []
    },
    {
      "cell_type": "code",
      "metadata": {
        "trusted": true,
        "_uuid": "a722edbd3dbf642d1d437517f259510a039e00d3",
        "id": "nK0kAzIL7PI6",
        "colab_type": "code",
        "colab": {}
      },
      "source": [
        "# droping any NaN rows from our dataset, changing all string values to LowerCase, removing Date column as it doesnt seem to be of much use.\n",
        "drugs = drugs.dropna(how = 'any', axis = 0)\n",
        "drugs.shape\n",
        "drugs.columns = drugs.columns.str.lower()\n",
        "drugs.reset_index(drop = True, inplace = True)\n",
        "drugs['condition'].isnull().sum(axis = 0)\n",
        "#dropping unnecessary columns\n",
        "drugs.drop(['date', 'sex', 'sides'], axis=1, inplace=True)\n",
        "drugs = drugs.drop_duplicates(subset=['reviews'], keep='first')"
      ],
      "execution_count": 124,
      "outputs": []
    },
    {
      "cell_type": "code",
      "metadata": {
        "id": "di30muySyigE",
        "colab_type": "code",
        "colab": {
          "base_uri": "https://localhost:8080/",
          "height": 107
        },
        "outputId": "026d4947-7dfd-4a18-e9be-cdf402d671ec"
      },
      "source": [
        "# example of random undersampling to balance the class distribution\n",
        "from collections import Counter\n",
        "from sklearn.datasets import make_classification\n",
        "from imblearn.under_sampling import RandomUnderSampler\n",
        "# define dataset\n",
        "#X, y = make_classification(n_samples=10000, weights=[0.99], flip_y=0)\n",
        "# summarize class distribution\n",
        "print(Counter(drugs['satisfaction']))\n",
        "# define undersample strategy\n",
        "undersample = RandomUnderSampler(sampling_strategy='all')\n",
        "# fit and apply the transform\n",
        "X_over, y_over = undersample.fit_resample(drugs.drop(['satisfaction'], axis=1), drugs['satisfaction'])\n",
        "# summarize class distribution\n",
        "print(Counter(y_over))"
      ],
      "execution_count": 125,
      "outputs": [
        {
          "output_type": "stream",
          "text": [
            "Counter({1: 76722, 5: 75740, 4: 40218, 3: 33260, 2: 24219})\n",
            "Counter({1: 24219, 2: 24219, 3: 24219, 4: 24219, 5: 24219})\n"
          ],
          "name": "stdout"
        },
        {
          "output_type": "stream",
          "text": [
            "/usr/local/lib/python3.6/dist-packages/sklearn/utils/deprecation.py:87: FutureWarning: Function safe_indexing is deprecated; safe_indexing is deprecated in version 0.22 and will be removed in version 0.24.\n",
            "  warnings.warn(msg, category=FutureWarning)\n"
          ],
          "name": "stderr"
        }
      ]
    },
    {
      "cell_type": "code",
      "metadata": {
        "id": "zMy5QDfWzwYI",
        "colab_type": "code",
        "colab": {}
      },
      "source": [
        "drugs=pd.DataFrame(X_over)\n",
        "drugs1=pd.DataFrame(y_over)"
      ],
      "execution_count": 126,
      "outputs": []
    },
    {
      "cell_type": "code",
      "metadata": {
        "id": "rmq2QdMc1Zst",
        "colab_type": "code",
        "colab": {
          "base_uri": "https://localhost:8080/",
          "height": 77
        },
        "outputId": "3a653d3d-2e0d-4e9a-e482-b52b9af9c1dd"
      },
      "source": [
        "drugs1.rename(columns={0:'satisfaction'}, inplace = True)\n",
        "drugs1.head(1)"
      ],
      "execution_count": 127,
      "outputs": [
        {
          "output_type": "execute_result",
          "data": {
            "text/html": [
              "<div>\n",
              "<style scoped>\n",
              "    .dataframe tbody tr th:only-of-type {\n",
              "        vertical-align: middle;\n",
              "    }\n",
              "\n",
              "    .dataframe tbody tr th {\n",
              "        vertical-align: top;\n",
              "    }\n",
              "\n",
              "    .dataframe thead th {\n",
              "        text-align: right;\n",
              "    }\n",
              "</style>\n",
              "<table border=\"1\" class=\"dataframe\">\n",
              "  <thead>\n",
              "    <tr style=\"text-align: right;\">\n",
              "      <th></th>\n",
              "      <th>satisfaction</th>\n",
              "    </tr>\n",
              "  </thead>\n",
              "  <tbody>\n",
              "    <tr>\n",
              "      <th>0</th>\n",
              "      <td>1</td>\n",
              "    </tr>\n",
              "  </tbody>\n",
              "</table>\n",
              "</div>"
            ],
            "text/plain": [
              "   satisfaction\n",
              "0             1"
            ]
          },
          "metadata": {
            "tags": []
          },
          "execution_count": 127
        }
      ]
    },
    {
      "cell_type": "code",
      "metadata": {
        "id": "C41_wBsBz5DK",
        "colab_type": "code",
        "colab": {
          "base_uri": "https://localhost:8080/",
          "height": 77
        },
        "outputId": "7fca88a8-7415-4e26-ed74-8fd2dd953b05"
      },
      "source": [
        "drugs.rename(columns = {0:'age', 1:'condition',2:'drug',3:'drugid',4:'easeofuse',5:'effectiveness', 6:'reviews',7:'usefulcount'}, inplace = True)\n",
        "drugs.head(1)"
      ],
      "execution_count": 128,
      "outputs": [
        {
          "output_type": "execute_result",
          "data": {
            "text/html": [
              "<div>\n",
              "<style scoped>\n",
              "    .dataframe tbody tr th:only-of-type {\n",
              "        vertical-align: middle;\n",
              "    }\n",
              "\n",
              "    .dataframe tbody tr th {\n",
              "        vertical-align: top;\n",
              "    }\n",
              "\n",
              "    .dataframe thead th {\n",
              "        text-align: right;\n",
              "    }\n",
              "</style>\n",
              "<table border=\"1\" class=\"dataframe\">\n",
              "  <thead>\n",
              "    <tr style=\"text-align: right;\">\n",
              "      <th></th>\n",
              "      <th>age</th>\n",
              "      <th>condition</th>\n",
              "      <th>drug</th>\n",
              "      <th>drugid</th>\n",
              "      <th>easeofuse</th>\n",
              "      <th>effectiveness</th>\n",
              "      <th>reviews</th>\n",
              "      <th>usefulcount</th>\n",
              "    </tr>\n",
              "  </thead>\n",
              "  <tbody>\n",
              "    <tr>\n",
              "      <th>0</th>\n",
              "      <td>65-74</td>\n",
              "      <td>Pneumonia caused by Bacteria</td>\n",
              "      <td>clarithromycin er</td>\n",
              "      <td>5030</td>\n",
              "      <td>1</td>\n",
              "      <td>2</td>\n",
              "      <td>took this medicine for only seven days,I felt ...</td>\n",
              "      <td>2</td>\n",
              "    </tr>\n",
              "  </tbody>\n",
              "</table>\n",
              "</div>"
            ],
            "text/plain": [
              "     age  ... usefulcount\n",
              "0  65-74  ...           2\n",
              "\n",
              "[1 rows x 8 columns]"
            ]
          },
          "metadata": {
            "tags": []
          },
          "execution_count": 128
        }
      ]
    },
    {
      "cell_type": "code",
      "metadata": {
        "id": "aTPJHSLE1soo",
        "colab_type": "code",
        "colab": {
          "base_uri": "https://localhost:8080/",
          "height": 77
        },
        "outputId": "410eba01-3466-41ea-a5d5-6d7364a6ca31"
      },
      "source": [
        "drugs = pd.concat([drugs, drugs1], axis = 1)\n",
        "drugs.shape\n",
        "drugs.head(1)"
      ],
      "execution_count": 129,
      "outputs": [
        {
          "output_type": "execute_result",
          "data": {
            "text/html": [
              "<div>\n",
              "<style scoped>\n",
              "    .dataframe tbody tr th:only-of-type {\n",
              "        vertical-align: middle;\n",
              "    }\n",
              "\n",
              "    .dataframe tbody tr th {\n",
              "        vertical-align: top;\n",
              "    }\n",
              "\n",
              "    .dataframe thead th {\n",
              "        text-align: right;\n",
              "    }\n",
              "</style>\n",
              "<table border=\"1\" class=\"dataframe\">\n",
              "  <thead>\n",
              "    <tr style=\"text-align: right;\">\n",
              "      <th></th>\n",
              "      <th>age</th>\n",
              "      <th>condition</th>\n",
              "      <th>drug</th>\n",
              "      <th>drugid</th>\n",
              "      <th>easeofuse</th>\n",
              "      <th>effectiveness</th>\n",
              "      <th>reviews</th>\n",
              "      <th>usefulcount</th>\n",
              "      <th>satisfaction</th>\n",
              "    </tr>\n",
              "  </thead>\n",
              "  <tbody>\n",
              "    <tr>\n",
              "      <th>0</th>\n",
              "      <td>65-74</td>\n",
              "      <td>Pneumonia caused by Bacteria</td>\n",
              "      <td>clarithromycin er</td>\n",
              "      <td>5030</td>\n",
              "      <td>1</td>\n",
              "      <td>2</td>\n",
              "      <td>took this medicine for only seven days,I felt ...</td>\n",
              "      <td>2</td>\n",
              "      <td>1</td>\n",
              "    </tr>\n",
              "  </tbody>\n",
              "</table>\n",
              "</div>"
            ],
            "text/plain": [
              "     age                     condition  ... usefulcount satisfaction\n",
              "0  65-74  Pneumonia caused by Bacteria  ...           2            1\n",
              "\n",
              "[1 rows x 9 columns]"
            ]
          },
          "metadata": {
            "tags": []
          },
          "execution_count": 129
        }
      ]
    },
    {
      "cell_type": "code",
      "metadata": {
        "id": "QjDGqGRG5j4d",
        "colab_type": "code",
        "colab": {}
      },
      "source": [
        "# shuffle data to prepare final dataset\n",
        "drugs=drugs.sample(frac=1)"
      ],
      "execution_count": 130,
      "outputs": []
    },
    {
      "cell_type": "markdown",
      "metadata": {
        "_uuid": "78ba9cdda16fc81c70e845bff88e402f9345922c",
        "id": "6BRPIx2R7PJD",
        "colab_type": "text"
      },
      "source": [
        "## Data Cleaning and Data Glimpse\n",
        "\n",
        "We are willing to check if this dataset have some corrupted data or non present values. \n",
        "\n",
        "**condition** is a field which present problems in 1171 registers, probably due to some bug in the data web scraping. The value of those registers is the usefulCount value with an ```span``` HTML tag and the following text: ```users found this comment helpful```. We ignored these registers."
      ]
    },
    {
      "cell_type": "code",
      "metadata": {
        "trusted": true,
        "_uuid": "1958006c6caf1d44ec2a2c26b2fb987a658b123b",
        "id": "lrbF5-GF7PJH",
        "colab_type": "code",
        "colab": {
          "base_uri": "https://localhost:8080/",
          "height": 34
        },
        "outputId": "d3148aef-b52b-4ca1-9ba1-4db50e9ac232"
      },
      "source": [
        "# Let's delete all of these corrupted rows\n",
        "print(\"Number of Corrupted Reviews: \", len(drugs[drugs.condition.str.contains(\" users found this comment helpful.\",na=False)]))\n",
        "drugs = drugs[~drugs.condition.str.contains(\" users found this comment helpful.\",na=False)]"
      ],
      "execution_count": 131,
      "outputs": [
        {
          "output_type": "stream",
          "text": [
            "Number of Corrupted Reviews:  0\n"
          ],
          "name": "stdout"
        }
      ]
    },
    {
      "cell_type": "code",
      "metadata": {
        "trusted": true,
        "_uuid": "908dba91c19c44a2ca447a29e62ea8ec9a683b46",
        "id": "74F8yLtL7PJL",
        "colab_type": "code",
        "colab": {
          "base_uri": "https://localhost:8080/",
          "height": 287
        },
        "outputId": "6d5197bf-26bd-4bc0-b87d-eff5489992d1"
      },
      "source": [
        "drugs.describe()"
      ],
      "execution_count": 132,
      "outputs": [
        {
          "output_type": "execute_result",
          "data": {
            "text/html": [
              "<div>\n",
              "<style scoped>\n",
              "    .dataframe tbody tr th:only-of-type {\n",
              "        vertical-align: middle;\n",
              "    }\n",
              "\n",
              "    .dataframe tbody tr th {\n",
              "        vertical-align: top;\n",
              "    }\n",
              "\n",
              "    .dataframe thead th {\n",
              "        text-align: right;\n",
              "    }\n",
              "</style>\n",
              "<table border=\"1\" class=\"dataframe\">\n",
              "  <thead>\n",
              "    <tr style=\"text-align: right;\">\n",
              "      <th></th>\n",
              "      <th>satisfaction</th>\n",
              "    </tr>\n",
              "  </thead>\n",
              "  <tbody>\n",
              "    <tr>\n",
              "      <th>count</th>\n",
              "      <td>121095.000000</td>\n",
              "    </tr>\n",
              "    <tr>\n",
              "      <th>mean</th>\n",
              "      <td>3.000000</td>\n",
              "    </tr>\n",
              "    <tr>\n",
              "      <th>std</th>\n",
              "      <td>1.414219</td>\n",
              "    </tr>\n",
              "    <tr>\n",
              "      <th>min</th>\n",
              "      <td>1.000000</td>\n",
              "    </tr>\n",
              "    <tr>\n",
              "      <th>25%</th>\n",
              "      <td>2.000000</td>\n",
              "    </tr>\n",
              "    <tr>\n",
              "      <th>50%</th>\n",
              "      <td>3.000000</td>\n",
              "    </tr>\n",
              "    <tr>\n",
              "      <th>75%</th>\n",
              "      <td>4.000000</td>\n",
              "    </tr>\n",
              "    <tr>\n",
              "      <th>max</th>\n",
              "      <td>5.000000</td>\n",
              "    </tr>\n",
              "  </tbody>\n",
              "</table>\n",
              "</div>"
            ],
            "text/plain": [
              "        satisfaction\n",
              "count  121095.000000\n",
              "mean        3.000000\n",
              "std         1.414219\n",
              "min         1.000000\n",
              "25%         2.000000\n",
              "50%         3.000000\n",
              "75%         4.000000\n",
              "max         5.000000"
            ]
          },
          "metadata": {
            "tags": []
          },
          "execution_count": 132
        }
      ]
    },
    {
      "cell_type": "code",
      "metadata": {
        "trusted": true,
        "id": "RWA2D03i7PJP",
        "colab_type": "code",
        "colab": {
          "base_uri": "https://localhost:8080/",
          "height": 467
        },
        "outputId": "04818f5d-eec0-40a5-82db-abba5db56b17"
      },
      "source": [
        "### Thought flow for Depression Confidence Intervals\n",
        "\"\"\"\n",
        "I want to take the df, filter by condition, drug, confidence interval, sample size cutoff)\n",
        "Then loop through all the drugs for a specific condition and calculate their\n",
        "mean, top limit, and bottom limit. \n",
        "\"\"\"\n",
        "# Create Confidence Interval Function\n",
        "def confidence_interval (data, ci_percent):\n",
        "  data = np.array(data) # Makes sure our data is in a numpy array\n",
        "  mean = np.mean(data)\n",
        "  n = len(data)\n",
        "  stderr = stats.sem(data)\n",
        "  interval = stderr * stats.t.ppf((1 + ci_percent) / 2., n - 1)\n",
        "  return (mean, mean - interval, mean + interval)\n",
        "\n",
        "\n",
        "def condition_compare (drugs, condition_id, ci_percent, sample_size_cutoff):\n",
        "  output_names = [\"Drug Name\", \"Sample Mean\", \"Lower Bound\", \"Upper Bound\", \"Sample Size\"]\n",
        "  drug_compare = []\n",
        "  data = drugs[drugs.condition == condition_id]\n",
        "  for drug in data.drug.unique():\n",
        "    one_drug = data[data.drug == drug].satisfaction\n",
        "    if one_drug.size > sample_size_cutoff:\n",
        "      mean, ilower, iupper= confidence_interval(one_drug, ci_percent)\n",
        "      entry = [drug, mean, ilower, iupper, one_drug.size]\n",
        "      drug_compare.append(entry)\n",
        "  return pd.DataFrame(drug_compare, columns=output_names)\n",
        "\n",
        "\n",
        "drugs2 = condition_compare(drugs, \"Cough\", 0.95, 10).sort_values(by=\"Sample Mean\", ascending=False)\n",
        "drugs2"
      ],
      "execution_count": 133,
      "outputs": [
        {
          "output_type": "execute_result",
          "data": {
            "text/html": [
              "<div>\n",
              "<style scoped>\n",
              "    .dataframe tbody tr th:only-of-type {\n",
              "        vertical-align: middle;\n",
              "    }\n",
              "\n",
              "    .dataframe tbody tr th {\n",
              "        vertical-align: top;\n",
              "    }\n",
              "\n",
              "    .dataframe thead th {\n",
              "        text-align: right;\n",
              "    }\n",
              "</style>\n",
              "<table border=\"1\" class=\"dataframe\">\n",
              "  <thead>\n",
              "    <tr style=\"text-align: right;\">\n",
              "      <th></th>\n",
              "      <th>Drug Name</th>\n",
              "      <th>Sample Mean</th>\n",
              "      <th>Lower Bound</th>\n",
              "      <th>Upper Bound</th>\n",
              "      <th>Sample Size</th>\n",
              "    </tr>\n",
              "  </thead>\n",
              "  <tbody>\n",
              "    <tr>\n",
              "      <th>3</th>\n",
              "      <td>tussionex</td>\n",
              "      <td>4.073171</td>\n",
              "      <td>3.717532</td>\n",
              "      <td>4.428809</td>\n",
              "      <td>41</td>\n",
              "    </tr>\n",
              "    <tr>\n",
              "      <th>12</th>\n",
              "      <td>promethazine-codeine</td>\n",
              "      <td>3.545455</td>\n",
              "      <td>2.787552</td>\n",
              "      <td>4.303357</td>\n",
              "      <td>11</td>\n",
              "    </tr>\n",
              "    <tr>\n",
              "      <th>0</th>\n",
              "      <td>tessalon perle</td>\n",
              "      <td>3.289256</td>\n",
              "      <td>2.989473</td>\n",
              "      <td>3.589040</td>\n",
              "      <td>121</td>\n",
              "    </tr>\n",
              "    <tr>\n",
              "      <th>13</th>\n",
              "      <td>hydrocodone-homatropine mbr</td>\n",
              "      <td>3.176471</td>\n",
              "      <td>2.421802</td>\n",
              "      <td>3.931139</td>\n",
              "      <td>17</td>\n",
              "    </tr>\n",
              "    <tr>\n",
              "      <th>11</th>\n",
              "      <td>virtussin ac</td>\n",
              "      <td>3.142857</td>\n",
              "      <td>2.084082</td>\n",
              "      <td>4.201633</td>\n",
              "      <td>14</td>\n",
              "    </tr>\n",
              "    <tr>\n",
              "      <th>9</th>\n",
              "      <td>hydromet</td>\n",
              "      <td>3.083333</td>\n",
              "      <td>2.569402</td>\n",
              "      <td>3.597265</td>\n",
              "      <td>36</td>\n",
              "    </tr>\n",
              "    <tr>\n",
              "      <th>8</th>\n",
              "      <td>promethazine-dm</td>\n",
              "      <td>2.952381</td>\n",
              "      <td>2.269950</td>\n",
              "      <td>3.634811</td>\n",
              "      <td>21</td>\n",
              "    </tr>\n",
              "    <tr>\n",
              "      <th>2</th>\n",
              "      <td>cheratussin ac</td>\n",
              "      <td>2.880597</td>\n",
              "      <td>2.492545</td>\n",
              "      <td>3.268649</td>\n",
              "      <td>67</td>\n",
              "    </tr>\n",
              "    <tr>\n",
              "      <th>6</th>\n",
              "      <td>mucinex dm</td>\n",
              "      <td>2.781818</td>\n",
              "      <td>2.520292</td>\n",
              "      <td>3.043344</td>\n",
              "      <td>110</td>\n",
              "    </tr>\n",
              "    <tr>\n",
              "      <th>5</th>\n",
              "      <td>benzonatate</td>\n",
              "      <td>2.692308</td>\n",
              "      <td>2.517418</td>\n",
              "      <td>2.867197</td>\n",
              "      <td>299</td>\n",
              "    </tr>\n",
              "    <tr>\n",
              "      <th>10</th>\n",
              "      <td>bromfed dm</td>\n",
              "      <td>2.583333</td>\n",
              "      <td>1.484231</td>\n",
              "      <td>3.682436</td>\n",
              "      <td>12</td>\n",
              "    </tr>\n",
              "    <tr>\n",
              "      <th>1</th>\n",
              "      <td>mucinex</td>\n",
              "      <td>2.453608</td>\n",
              "      <td>2.179138</td>\n",
              "      <td>2.728079</td>\n",
              "      <td>97</td>\n",
              "    </tr>\n",
              "    <tr>\n",
              "      <th>7</th>\n",
              "      <td>delsym</td>\n",
              "      <td>2.045455</td>\n",
              "      <td>1.490037</td>\n",
              "      <td>2.600872</td>\n",
              "      <td>22</td>\n",
              "    </tr>\n",
              "    <tr>\n",
              "      <th>4</th>\n",
              "      <td>iophen-c nr</td>\n",
              "      <td>1.923077</td>\n",
              "      <td>1.125137</td>\n",
              "      <td>2.721017</td>\n",
              "      <td>13</td>\n",
              "    </tr>\n",
              "  </tbody>\n",
              "</table>\n",
              "</div>"
            ],
            "text/plain": [
              "                      Drug Name  Sample Mean  ...  Upper Bound  Sample Size\n",
              "3                     tussionex     4.073171  ...     4.428809           41\n",
              "12         promethazine-codeine     3.545455  ...     4.303357           11\n",
              "0                tessalon perle     3.289256  ...     3.589040          121\n",
              "13  hydrocodone-homatropine mbr     3.176471  ...     3.931139           17\n",
              "11                 virtussin ac     3.142857  ...     4.201633           14\n",
              "9                      hydromet     3.083333  ...     3.597265           36\n",
              "8               promethazine-dm     2.952381  ...     3.634811           21\n",
              "2                cheratussin ac     2.880597  ...     3.268649           67\n",
              "6                    mucinex dm     2.781818  ...     3.043344          110\n",
              "5                   benzonatate     2.692308  ...     2.867197          299\n",
              "10                   bromfed dm     2.583333  ...     3.682436           12\n",
              "1                       mucinex     2.453608  ...     2.728079           97\n",
              "7                        delsym     2.045455  ...     2.600872           22\n",
              "4                   iophen-c nr     1.923077  ...     2.721017           13\n",
              "\n",
              "[14 rows x 5 columns]"
            ]
          },
          "metadata": {
            "tags": []
          },
          "execution_count": 133
        }
      ]
    },
    {
      "cell_type": "code",
      "metadata": {
        "id": "YfH81ZoYzS-q",
        "colab_type": "code",
        "colab": {
          "base_uri": "https://localhost:8080/",
          "height": 281
        },
        "outputId": "0a81b1d8-fd9f-4436-f579-152f163292e2"
      },
      "source": [
        "#We have created a column named \"uniqueid\" for every row, to easen up or operations.\n",
        "drugs['uniqueid'] = np.arange(len(drugs))\n",
        "drugs.head()"
      ],
      "execution_count": 134,
      "outputs": [
        {
          "output_type": "execute_result",
          "data": {
            "text/html": [
              "<div>\n",
              "<style scoped>\n",
              "    .dataframe tbody tr th:only-of-type {\n",
              "        vertical-align: middle;\n",
              "    }\n",
              "\n",
              "    .dataframe tbody tr th {\n",
              "        vertical-align: top;\n",
              "    }\n",
              "\n",
              "    .dataframe thead th {\n",
              "        text-align: right;\n",
              "    }\n",
              "</style>\n",
              "<table border=\"1\" class=\"dataframe\">\n",
              "  <thead>\n",
              "    <tr style=\"text-align: right;\">\n",
              "      <th></th>\n",
              "      <th>age</th>\n",
              "      <th>condition</th>\n",
              "      <th>drug</th>\n",
              "      <th>drugid</th>\n",
              "      <th>easeofuse</th>\n",
              "      <th>effectiveness</th>\n",
              "      <th>reviews</th>\n",
              "      <th>usefulcount</th>\n",
              "      <th>satisfaction</th>\n",
              "      <th>uniqueid</th>\n",
              "    </tr>\n",
              "  </thead>\n",
              "  <tbody>\n",
              "    <tr>\n",
              "      <th>84696</th>\n",
              "      <td>25-34</td>\n",
              "      <td>Other</td>\n",
              "      <td>yaz</td>\n",
              "      <td>95358</td>\n",
              "      <td>5</td>\n",
              "      <td>4</td>\n",
              "      <td>Well all I can say is that I have not been on ...</td>\n",
              "      <td>3</td>\n",
              "      <td>4</td>\n",
              "      <td>0</td>\n",
              "    </tr>\n",
              "    <tr>\n",
              "      <th>100288</th>\n",
              "      <td>19-24</td>\n",
              "      <td>Other</td>\n",
              "      <td>tacrolimus tablet, extended release 24 hr</td>\n",
              "      <td>10097</td>\n",
              "      <td>5</td>\n",
              "      <td>5</td>\n",
              "      <td>I have been taking this pill for almost a year...</td>\n",
              "      <td>1</td>\n",
              "      <td>5</td>\n",
              "      <td>1</td>\n",
              "    </tr>\n",
              "    <tr>\n",
              "      <th>105834</th>\n",
              "      <td>25-34</td>\n",
              "      <td>Attention Deficit Disorder with Hyperactivity</td>\n",
              "      <td>adderall</td>\n",
              "      <td>63163</td>\n",
              "      <td>5</td>\n",
              "      <td>5</td>\n",
              "      <td>This drug has been a life saver for me. I am t...</td>\n",
              "      <td>48</td>\n",
              "      <td>5</td>\n",
              "      <td>2</td>\n",
              "    </tr>\n",
              "    <tr>\n",
              "      <th>8149</th>\n",
              "      <td>45-54</td>\n",
              "      <td>Atopic Dermatitis</td>\n",
              "      <td>desoximetasone spray, non-aerosol</td>\n",
              "      <td>4272</td>\n",
              "      <td>5</td>\n",
              "      <td>1</td>\n",
              "      <td>doesnt appear to change anything</td>\n",
              "      <td>9</td>\n",
              "      <td>1</td>\n",
              "      <td>3</td>\n",
              "    </tr>\n",
              "    <tr>\n",
              "      <th>59888</th>\n",
              "      <td>35-44</td>\n",
              "      <td>Overweight</td>\n",
              "      <td>phentermine hcl</td>\n",
              "      <td>4151</td>\n",
              "      <td>3</td>\n",
              "      <td>3</td>\n",
              "      <td>i have been on phen. for 8 wks and have lost 1...</td>\n",
              "      <td>1</td>\n",
              "      <td>3</td>\n",
              "      <td>4</td>\n",
              "    </tr>\n",
              "  </tbody>\n",
              "</table>\n",
              "</div>"
            ],
            "text/plain": [
              "          age  ... uniqueid\n",
              "84696   25-34  ...        0\n",
              "100288  19-24  ...        1\n",
              "105834  25-34  ...        2\n",
              "8149    45-54  ...        3\n",
              "59888   35-44  ...        4\n",
              "\n",
              "[5 rows x 10 columns]"
            ]
          },
          "metadata": {
            "tags": []
          },
          "execution_count": 134
        }
      ]
    },
    {
      "cell_type": "code",
      "metadata": {
        "trusted": true,
        "_uuid": "cafe21fe35819e34426b87275a8a45accb8d0538",
        "id": "iz9v5wjz7PJR",
        "colab_type": "code",
        "colab": {
          "base_uri": "https://localhost:8080/",
          "height": 323
        },
        "outputId": "4bd97515-ff9a-4366-cdea-52544f7414be"
      },
      "source": [
        "# We will use this groupings later on...\n",
        "\n",
        "print(\"Number of Reviews per Drug\")\n",
        "# Number of reviews per drug\n",
        "reviews_per_drug = drugs.groupby([\"drug\"]).agg({\n",
        "    \"uniqueid\": pd.Series.nunique\n",
        "})\n",
        "reviews_per_drug.describe()\n",
        "\n",
        "\n",
        "print(\"Number of Reviews per Condition\")\n",
        "# Number of reviews per condition\n",
        "reviews_per_condition = drugs.groupby([\"condition\"]).agg({\n",
        "    \"uniqueid\": pd.Series.nunique\n",
        "})\n",
        "\n",
        "reviews_per_condition.describe()"
      ],
      "execution_count": 135,
      "outputs": [
        {
          "output_type": "stream",
          "text": [
            "Number of Reviews per Drug\n",
            "Number of Reviews per Condition\n"
          ],
          "name": "stdout"
        },
        {
          "output_type": "execute_result",
          "data": {
            "text/html": [
              "<div>\n",
              "<style scoped>\n",
              "    .dataframe tbody tr th:only-of-type {\n",
              "        vertical-align: middle;\n",
              "    }\n",
              "\n",
              "    .dataframe tbody tr th {\n",
              "        vertical-align: top;\n",
              "    }\n",
              "\n",
              "    .dataframe thead th {\n",
              "        text-align: right;\n",
              "    }\n",
              "</style>\n",
              "<table border=\"1\" class=\"dataframe\">\n",
              "  <thead>\n",
              "    <tr style=\"text-align: right;\">\n",
              "      <th></th>\n",
              "      <th>uniqueid</th>\n",
              "    </tr>\n",
              "  </thead>\n",
              "  <tbody>\n",
              "    <tr>\n",
              "      <th>count</th>\n",
              "      <td>1471.000000</td>\n",
              "    </tr>\n",
              "    <tr>\n",
              "      <th>mean</th>\n",
              "      <td>82.321550</td>\n",
              "    </tr>\n",
              "    <tr>\n",
              "      <th>std</th>\n",
              "      <td>581.007625</td>\n",
              "    </tr>\n",
              "    <tr>\n",
              "      <th>min</th>\n",
              "      <td>1.000000</td>\n",
              "    </tr>\n",
              "    <tr>\n",
              "      <th>25%</th>\n",
              "      <td>2.000000</td>\n",
              "    </tr>\n",
              "    <tr>\n",
              "      <th>50%</th>\n",
              "      <td>7.000000</td>\n",
              "    </tr>\n",
              "    <tr>\n",
              "      <th>75%</th>\n",
              "      <td>26.000000</td>\n",
              "    </tr>\n",
              "    <tr>\n",
              "      <th>max</th>\n",
              "      <td>16795.000000</td>\n",
              "    </tr>\n",
              "  </tbody>\n",
              "</table>\n",
              "</div>"
            ],
            "text/plain": [
              "           uniqueid\n",
              "count   1471.000000\n",
              "mean      82.321550\n",
              "std      581.007625\n",
              "min        1.000000\n",
              "25%        2.000000\n",
              "50%        7.000000\n",
              "75%       26.000000\n",
              "max    16795.000000"
            ]
          },
          "metadata": {
            "tags": []
          },
          "execution_count": 135
        }
      ]
    },
    {
      "cell_type": "code",
      "metadata": {
        "trusted": true,
        "id": "NJ1ZQlw07PJY",
        "colab_type": "code",
        "colab": {
          "base_uri": "https://localhost:8080/",
          "height": 281
        },
        "outputId": "ba123228-80d9-46f8-ed98-5730c2bb9426"
      },
      "source": [
        "# Inspect the lower cased reviews text. \n",
        "drugs['reviews'] = drugs['reviews'].str.lower()\n",
        "drugs.head(5)"
      ],
      "execution_count": 136,
      "outputs": [
        {
          "output_type": "execute_result",
          "data": {
            "text/html": [
              "<div>\n",
              "<style scoped>\n",
              "    .dataframe tbody tr th:only-of-type {\n",
              "        vertical-align: middle;\n",
              "    }\n",
              "\n",
              "    .dataframe tbody tr th {\n",
              "        vertical-align: top;\n",
              "    }\n",
              "\n",
              "    .dataframe thead th {\n",
              "        text-align: right;\n",
              "    }\n",
              "</style>\n",
              "<table border=\"1\" class=\"dataframe\">\n",
              "  <thead>\n",
              "    <tr style=\"text-align: right;\">\n",
              "      <th></th>\n",
              "      <th>age</th>\n",
              "      <th>condition</th>\n",
              "      <th>drug</th>\n",
              "      <th>drugid</th>\n",
              "      <th>easeofuse</th>\n",
              "      <th>effectiveness</th>\n",
              "      <th>reviews</th>\n",
              "      <th>usefulcount</th>\n",
              "      <th>satisfaction</th>\n",
              "      <th>uniqueid</th>\n",
              "    </tr>\n",
              "  </thead>\n",
              "  <tbody>\n",
              "    <tr>\n",
              "      <th>84696</th>\n",
              "      <td>25-34</td>\n",
              "      <td>Other</td>\n",
              "      <td>yaz</td>\n",
              "      <td>95358</td>\n",
              "      <td>5</td>\n",
              "      <td>4</td>\n",
              "      <td>well all i can say is that i have not been on ...</td>\n",
              "      <td>3</td>\n",
              "      <td>4</td>\n",
              "      <td>0</td>\n",
              "    </tr>\n",
              "    <tr>\n",
              "      <th>100288</th>\n",
              "      <td>19-24</td>\n",
              "      <td>Other</td>\n",
              "      <td>tacrolimus tablet, extended release 24 hr</td>\n",
              "      <td>10097</td>\n",
              "      <td>5</td>\n",
              "      <td>5</td>\n",
              "      <td>i have been taking this pill for almost a year...</td>\n",
              "      <td>1</td>\n",
              "      <td>5</td>\n",
              "      <td>1</td>\n",
              "    </tr>\n",
              "    <tr>\n",
              "      <th>105834</th>\n",
              "      <td>25-34</td>\n",
              "      <td>Attention Deficit Disorder with Hyperactivity</td>\n",
              "      <td>adderall</td>\n",
              "      <td>63163</td>\n",
              "      <td>5</td>\n",
              "      <td>5</td>\n",
              "      <td>this drug has been a life saver for me. i am t...</td>\n",
              "      <td>48</td>\n",
              "      <td>5</td>\n",
              "      <td>2</td>\n",
              "    </tr>\n",
              "    <tr>\n",
              "      <th>8149</th>\n",
              "      <td>45-54</td>\n",
              "      <td>Atopic Dermatitis</td>\n",
              "      <td>desoximetasone spray, non-aerosol</td>\n",
              "      <td>4272</td>\n",
              "      <td>5</td>\n",
              "      <td>1</td>\n",
              "      <td>doesnt appear to change anything</td>\n",
              "      <td>9</td>\n",
              "      <td>1</td>\n",
              "      <td>3</td>\n",
              "    </tr>\n",
              "    <tr>\n",
              "      <th>59888</th>\n",
              "      <td>35-44</td>\n",
              "      <td>Overweight</td>\n",
              "      <td>phentermine hcl</td>\n",
              "      <td>4151</td>\n",
              "      <td>3</td>\n",
              "      <td>3</td>\n",
              "      <td>i have been on phen. for 8 wks and have lost 1...</td>\n",
              "      <td>1</td>\n",
              "      <td>3</td>\n",
              "      <td>4</td>\n",
              "    </tr>\n",
              "  </tbody>\n",
              "</table>\n",
              "</div>"
            ],
            "text/plain": [
              "          age  ... uniqueid\n",
              "84696   25-34  ...        0\n",
              "100288  19-24  ...        1\n",
              "105834  25-34  ...        2\n",
              "8149    45-54  ...        3\n",
              "59888   35-44  ...        4\n",
              "\n",
              "[5 rows x 10 columns]"
            ]
          },
          "metadata": {
            "tags": []
          },
          "execution_count": 136
        }
      ]
    },
    {
      "cell_type": "markdown",
      "metadata": {
        "_uuid": "1bd4479c3cf50ef94ede37c534c614d63f281d09",
        "id": "mpPlGfl97PJb",
        "colab_type": "text"
      },
      "source": [
        "## Descriptive Analysis\n"
      ]
    },
    {
      "cell_type": "markdown",
      "metadata": {
        "_uuid": "21f27039787d989de7c88dd89b85ea1987018625",
        "id": "XZUrxpOI7PJc",
        "colab_type": "text"
      },
      "source": [
        "### Top 10 Reviewed Drugs"
      ]
    },
    {
      "cell_type": "code",
      "metadata": {
        "trusted": true,
        "_uuid": "f16ea5b368c49b31858d6eeafb59e76f6eaa0ef6",
        "id": "gYDXmEh97PJc",
        "colab_type": "code",
        "colab": {
          "base_uri": "https://localhost:8080/",
          "height": 580
        },
        "outputId": "4940bca3-bfe3-4372-9089-4f854250ba4d"
      },
      "source": [
        "# Top 10 most reviewed drug names\n",
        "plot = drugs.drug.value_counts().nlargest(10).plot(kind='bar', title=\"Top 10 reviewed drugs\", figsize=(12,6))"
      ],
      "execution_count": 137,
      "outputs": [
        {
          "output_type": "display_data",
          "data": {
            "image/png": "[encoded data removed]",
            "text/plain": [
              "<Figure size 864x432 with 1 Axes>"
            ]
          },
          "metadata": {
            "tags": []
          }
        }
      ]
    },
    {
      "cell_type": "markdown",
      "metadata": {
        "_uuid": "99e11383a879a953948824850dd53c3213b26da6",
        "id": "u8iBWtrj7PJf",
        "colab_type": "text"
      },
      "source": [
        "### Top 10 conditions undergoing by drug reviewers"
      ]
    },
    {
      "cell_type": "code",
      "metadata": {
        "trusted": true,
        "_uuid": "bff251a70cf485ee3cef2c5b778bea947f0d5a96",
        "id": "b2Wdswkx7PJg",
        "colab_type": "code",
        "colab": {
          "base_uri": "https://localhost:8080/",
          "height": 680
        },
        "outputId": "9b22c5cb-adfe-4e69-9009-8220c8f2df27"
      },
      "source": [
        "# Top 10 most suffered condition by reviewers\n",
        "plot = drugs.condition.value_counts().nlargest(10).plot(kind='bar', title=\"Top 10 conditions in reviews\", figsize=(12,6))"
      ],
      "execution_count": 138,
      "outputs": [
        {
          "output_type": "display_data",
          "data": {
            "image/png": "[encoded data removed]",
            "text/plain": [
              "<Figure size 864x432 with 1 Axes>"
            ]
          },
          "metadata": {
            "tags": []
          }
        }
      ]
    },
    {
      "cell_type": "markdown",
      "metadata": {
        "_uuid": "7e96f07fca2e6310085893f128d95a2a53a4f184",
        "id": "TmBO_Q687PJi",
        "colab_type": "text"
      },
      "source": [
        "### Top 10 drugs with best and worst rating\n",
        "\n",
        "When doing this analysis for all the drugs, there is a factor which affect the results: **the number of reviews of a drug**. I.e. if we want to compute the drug with best rating, the drug which in **only 1 review** was given a 10 rating would be in TOP 1. For this reason, we only consider drugs with a significant number of reviews. A significant number of reviews is when the number of reviews for a drug is above the 75% of the number of reviews distribution per drug.\n"
      ]
    },
    {
      "cell_type": "code",
      "metadata": {
        "trusted": true,
        "_uuid": "81b8bbe61ea3e8dcfb54d6eb89362c94a352e4bb",
        "id": "FFXcIGsw7PJj",
        "colab_type": "code",
        "colab": {
          "base_uri": "https://localhost:8080/",
          "height": 1000
        },
        "outputId": "73e422ae-63ac-4fed-d598-36d758007bd1"
      },
      "source": [
        "drugs_rating = drugs.groupby('drug').agg({\n",
        "    'satisfaction': np.mean,\n",
        "    'uniqueid': pd.Series.nunique\n",
        "})\n",
        "\n",
        "print(\"Significant number of reviews: More than\", reviews_per_drug.quantile(q=0.75).values[0], \"reviews\")\n",
        "\n",
        "# We only use the drugs which number of reviews is higher than a threshold\n",
        "drugs_rating = drugs_rating[drugs_rating['uniqueid'] > int(reviews_per_drug.quantile(q=0.75))]\n",
        "\n",
        "# Top 10\n",
        "top_drugs_rating = drugs_rating.nlargest(10, 'satisfaction')\n",
        "plot = top_drugs_rating.plot(y='satisfaction', kind='bar', figsize = (16, 3))\n",
        "dummy = plt.title(\"Top 10 'significant' drugs with best rating\") # Assigned to variable to prevent output\n",
        "dummy = plt.ylim(4, 5) # Assigned to variable to prevent output\n",
        "\n",
        "# Bottom 10\n",
        "bottom_drugs_rating = drugs_rating.nsmallest(10, 'satisfaction')\n",
        "plot = bottom_drugs_rating.plot(y='satisfaction', kind='bar', figsize = (16, 3))\n",
        "dummy = plt.title(\"Top 10 'significant' drugs with worst rating\") # Assigned to variable to prevent output\n",
        "dummy = plt.ylim(1, 3) # Assigned to variable to prevent output"
      ],
      "execution_count": 139,
      "outputs": [
        {
          "output_type": "stream",
          "text": [
            "Significant number of reviews: More than 13.0 reviews\n"
          ],
          "name": "stdout"
        },
        {
          "output_type": "display_data",
          "data": {
            "image/png": "[encoded data removed]",
            "text/plain": [
              "<Figure size 1152x216 with 1 Axes>"
            ]
          },
          "metadata": {
            "tags": []
          }
        },
        {
          "output_type": "display_data",
          "data": {
            "image/png": "[encoded data removed]",
            "text/plain": [
              "<Figure size 1152x216 with 1 Axes>"
            ]
          },
          "metadata": {
            "tags": []
          }
        }
      ]
    },
    {
      "cell_type": "markdown",
      "metadata": {
        "_uuid": "d6d058a52a8a2e7b297679d2b5f5f8a351d1dffb",
        "id": "59vpYdmP7PJm",
        "colab_type": "text"
      },
      "source": [
        "### Analyzing Pairs (Drug, Condition) with best and worst ratings\n",
        "\n",
        "We theorize that the rating of a drug, is strongly related to the condition that the person who reviewed was suffering. We are going to compute the top 10 best and worst rating of reviews for (Drug, condition) pairs."
      ]
    },
    {
      "cell_type": "code",
      "metadata": {
        "trusted": true,
        "_uuid": "bdd2896065bcba7fe0f3acc83eba37fc1c53c545",
        "id": "Fj2G98887PJm",
        "colab_type": "code",
        "colab": {
          "base_uri": "https://localhost:8080/",
          "height": 1000
        },
        "outputId": "4bc56d99-4012-4b82-bb5e-adf8c2e87649"
      },
      "source": [
        "drugs_condition_rating = drugs.groupby(['drug', 'condition']).agg({\n",
        "    'satisfaction': np.mean,\n",
        "    'uniqueid': pd.Series.nunique\n",
        "})\n",
        "\n",
        "print(\"Number of pairs (Drug, Condition):\", len(drugs_condition_rating))\n",
        "\n",
        "print(\"Significant number of reviews: More than\", drugs_condition_rating['uniqueid'].quantile(q=0.75), \"reviews\")\n",
        "\n",
        "drugs_condition_rating = drugs_condition_rating[drugs_condition_rating['uniqueid'] > int(drugs_condition_rating['uniqueid'].quantile(q=0.75))]\n",
        "# drugs_condition_rating.sort_values('rating', ascending=False)\n",
        "top_drugs_condition_rating = drugs_condition_rating.nlargest(10, 'satisfaction')\n",
        "plot = top_drugs_condition_rating.plot(y='satisfaction', kind='bar', figsize = (16, 3))\n",
        "dummy = plt.title(\"Top 10 (Drug - Condition) with best rating\") # Assigned to variable to prevent output\n",
        "dummy = plt.ylim(4, 5) # Assigned to variable to prevent output\n",
        "\n",
        "bottom_drugs_condition_rating = drugs_condition_rating.nsmallest(10, 'satisfaction')\n",
        "plot = bottom_drugs_condition_rating.plot(y='satisfaction', kind='bar', figsize = (16, 3))\n",
        "dummy = plt.title(\"Top 10 (Drug - Condition) with worst rating\") # Assigned to variable to prevent output\n",
        "dummy = plt.ylim(1, 3) # Assigned to variable to prevent output"
      ],
      "execution_count": 140,
      "outputs": [
        {
          "output_type": "stream",
          "text": [
            "Number of pairs (Drug, Condition): 12429\n",
            "Significant number of reviews: More than 6.0 reviews\n"
          ],
          "name": "stdout"
        },
        {
          "output_type": "display_data",
          "data": {
            "image/png": "[encoded data removed]",
            "text/plain": [
              "<Figure size 1152x216 with 1 Axes>"
            ]
          },
          "metadata": {
            "tags": []
          }
        },
        {
          "output_type": "display_data",
          "data": {
            "image/png": "[encoded data removed]",
            "text/plain": [
              "<Figure size 1152x216 with 1 Axes>"
            ]
          },
          "metadata": {
            "tags": []
          }
        }
      ]
    },
    {
      "cell_type": "markdown",
      "metadata": {
        "_uuid": "1f2fe1f3ad597c01b77ed36c8c0dc4e42824b85f",
        "id": "WAUBLIFT7PJp",
        "colab_type": "text"
      },
      "source": [
        "## Temporal Analysis\n",
        "\n",
        "Building a good prediction model is **no** trivial task. Temporal features ***could*** help a model to perform better if we can foresee some **temporal patterns**. We will analyze monthly patterns over different years of all the reviews."
      ]
    },
    {
      "cell_type": "code",
      "metadata": {
        "id": "tMqPWFwKL8xW",
        "colab_type": "code",
        "colab": {}
      },
      "source": [
        "# Our target column has been labeled as 1=Positive, 0= Negative, to get 1/0 output after we perform our operations on Reviews column.\n",
        "# We only want a review to be classified either as Positive(1)(if rating is above 3) or Negative(0)(if rating is 3 and less).\n",
        "labels = drugs['satisfaction'].map(lambda x : 1 if int(x) > 3 else 0)"
      ],
      "execution_count": 141,
      "outputs": []
    },
    {
      "cell_type": "code",
      "metadata": {
        "trusted": true,
        "_uuid": "a120c3db91cf8281e954a2a9f95a99e5b1a1ba74",
        "id": "bzPLytVi7PJq",
        "colab_type": "code",
        "colab": {}
      },
      "source": [
        "# Function to perform cleansing operations on our Text column\n",
        "def clean_reviews(reviews):\n",
        "    \n",
        "    ## Remove puncuation\n",
        "    reviews = reviews.translate(string.punctuation)\n",
        "    \n",
        "    ## Convert words to lower case and split them\n",
        "    reviews = reviews.lower().split()\n",
        "    \n",
        "    ## Remove stop words\n",
        "    stops = set(stopwords.words(\"english\"))\n",
        "    reviews = [w for w in reviews if not w in stops and len(w) >= 3]\n",
        "    \n",
        "    reviews = \" \".join(reviews)\n",
        "\n",
        "    # Clean the reviews\n",
        "    reviews = re.sub(r\"[^A-Za-z0-9^,!.\\/'+-=]\", \" \", reviews)\n",
        "    reviews = re.sub(r\"what's\", \"what is \", reviews)\n",
        "    reviews = re.sub(r\"\\'s\", \" \", reviews)\n",
        "    reviews = re.sub(r\"\\'ve\", \" have \", reviews)\n",
        "    reviews = re.sub(r\"n't\", \" not \", reviews)\n",
        "    reviews = re.sub(r\"i'm\", \"i am \", reviews)\n",
        "    reviews = re.sub(r\"\\'re\", \" are \", reviews)\n",
        "    reviews = re.sub(r\"\\'d\", \" would \", reviews)\n",
        "    reviews = re.sub(r\"\\'ll\", \" will \", reviews)\n",
        "    reviews = re.sub(r\",\", \" \", reviews)\n",
        "    reviews = re.sub(r\"\\.\", \" \", reviews)\n",
        "    reviews = re.sub(r\"!\", \" ! \", reviews)\n",
        "    reviews = re.sub(r\"\\/\", \" \", reviews)\n",
        "    reviews = re.sub(r\"\\^\", \" ^ \", reviews)\n",
        "    reviews = re.sub(r\"\\+\", \" + \", reviews)\n",
        "    reviews = re.sub(r\"\\-\", \" - \", reviews)\n",
        "    reviews = re.sub(r\"\\=\", \" = \", reviews)\n",
        "    reviews = re.sub(r\"'\", \" \", reviews)\n",
        "    reviews = re.sub(r\"(\\d+)(k)\", r\"\\g<1>000\", reviews)\n",
        "    reviews = re.sub(r\":\", \" : \", reviews)\n",
        "    reviews = re.sub(r\" e g \", \" eg \", reviews)\n",
        "    reviews = re.sub(r\" b g \", \" bg \", reviews)\n",
        "    reviews = re.sub(r\" u s \", \" american \", reviews)\n",
        "    reviews = re.sub(r\"\\0s\", \"0\", reviews)\n",
        "    reviews = re.sub(r\" 9 11 \", \"911\", reviews)\n",
        "    reviews = re.sub(r\"e - mail\", \"email\", reviews)\n",
        "    reviews = re.sub(r\"j k\", \"jk\", reviews)\n",
        "    reviews = re.sub(r\"\\s{2,}\", \" \", reviews)\n",
        "    \n",
        "    reviews = reviews.split()\n",
        "    stemmer = SnowballStemmer('english')\n",
        "    stemmed_words = [stemmer.stem(word) for word in reviews]\n",
        "    reviews = \" \".join(stemmed_words)\n",
        "\n",
        "    return reviews"
      ],
      "execution_count": 142,
      "outputs": []
    },
    {
      "cell_type": "code",
      "metadata": {
        "trusted": true,
        "_uuid": "f0d8ef760881866f8548e0f6a5d8c026477c8550",
        "id": "gi9pWwKF7PJu",
        "colab_type": "code",
        "colab": {}
      },
      "source": [
        "drugs['reviews_clean'] = drugs['reviews'].map(lambda x: clean_reviews(x))"
      ],
      "execution_count": 143,
      "outputs": []
    },
    {
      "cell_type": "code",
      "metadata": {
        "trusted": true,
        "_uuid": "8a28655fc06b9e44c25b8e6a1b2fde6aa570bfbd",
        "id": "oJEk0jEl7PJx",
        "colab_type": "code",
        "colab": {
          "base_uri": "https://localhost:8080/",
          "height": 34
        },
        "outputId": "0ff3fe05-5827-41ad-bb22-47c11ec2b9aa"
      },
      "source": [
        "drugs.shape"
      ],
      "execution_count": 144,
      "outputs": [
        {
          "output_type": "execute_result",
          "data": {
            "text/plain": [
              "(121095, 11)"
            ]
          },
          "metadata": {
            "tags": []
          },
          "execution_count": 144
        }
      ]
    },
    {
      "cell_type": "code",
      "metadata": {
        "id": "9YvMwVCstVnu",
        "colab_type": "code",
        "colab": {}
      },
      "source": [
        "drugs_copy=drugs"
      ],
      "execution_count": 145,
      "outputs": []
    },
    {
      "cell_type": "markdown",
      "metadata": {
        "_uuid": "70e65bc849d8b7633facf67ff44e887af54b7def",
        "id": "b5fNu_LZ7PJ2",
        "colab_type": "text"
      },
      "source": [
        "## Sentiment Analysis\n",
        "\n",
        "We will analyze the sentiment of the reviews. We theorize that **the sentiment embedded on a review can be a key factor** to determine the review rating, the review impact on people (usefulCount), or how good a drug is for an specific condition. \n",
        "\n",
        "However, reviews can expose many different manifestations, such as: condition symptoms (usually negative), feelings before the drug (usually negative), feelings after the drug (could be positive or negative), side effects (usually negative), symptoms after the drug (could be positive or negative). This mix of manifestations could make any sentiment analysis method to struggle determining a single score for the entire review. Therefore, a aspect-based S.A. could be more viable (such as the ones used by Gräßer et al.).\n",
        "\n",
        "For now, we are going to use Vader [1], a rule-based sentiment analysis approach available in Python NLTK. To **obtain a single sentiment score for every review** (-1|negative to 1|positive), and see how it correlates with ratings (spearman coeff.).\n",
        "\n",
        "Before doing this, **text** must be processed:\n",
        "\n",
        "- HTML characters are converted to legible text\n",
        "- Punctuation signs are removed\n",
        "\n",
        "[1] Gilbert, C. H. E. (2014). Vader: A parsimonious rule-based model for sentiment analysis of social media text. In Eighth International Conference on Weblogs and Social Media (ICWSM-14). Available at (20/04/16) http://comp.social.gatech.edu/papers/icwsm14.vader.hutto.pdf."
      ]
    },
    {
      "cell_type": "code",
      "metadata": {
        "id": "zCnwM4zDvSTm",
        "colab_type": "code",
        "colab": {}
      },
      "source": [
        ""
      ],
      "execution_count": 145,
      "outputs": []
    },
    {
      "cell_type": "code",
      "metadata": {
        "id": "-SWUQY3P8IbY",
        "colab_type": "code",
        "colab": {}
      },
      "source": [
        "train_sentences = drugs['reviews'].map(lambda x: clean_reviews(x))"
      ],
      "execution_count": 146,
      "outputs": []
    },
    {
      "cell_type": "code",
      "metadata": {
        "id": "3IrTdhlIBR8p",
        "colab_type": "code",
        "colab": {
          "base_uri": "https://localhost:8080/",
          "height": 230
        },
        "outputId": "6d01432d-54a1-42a4-ac13-ea90d363b035"
      },
      "source": [
        "drugs['reviews']"
      ],
      "execution_count": 147,
      "outputs": [
        {
          "output_type": "execute_result",
          "data": {
            "text/plain": [
              "84696     well all i can say is that i have not been on ...\n",
              "100288    i have been taking this pill for almost a year...\n",
              "105834    this drug has been a life saver for me. i am t...\n",
              "8149                       doesnt appear to change anything\n",
              "59888     i have been on phen. for 8 wks and have lost 1...\n",
              "                                ...                        \n",
              "51955     have taken this for about a month.  i am more ...\n",
              "1641      my wife underwent a surgery for intestinal obs...\n",
              "94347     i have been on zoloft for two and a half weeks...\n",
              "21732     when can i quit this drug?? lol i was told to ...\n",
              "115986    it took three months to work but since then i ...\n",
              "Name: reviews, Length: 121095, dtype: object"
            ]
          },
          "metadata": {
            "tags": []
          },
          "execution_count": 147
        }
      ]
    },
    {
      "cell_type": "code",
      "metadata": {
        "id": "2ZsvBmp1nNSX",
        "colab_type": "code",
        "colab": {
          "base_uri": "https://localhost:8080/",
          "height": 230
        },
        "outputId": "efd9505d-43a1-42b2-d29e-34ae63ebb408"
      },
      "source": [
        "train_sentences"
      ],
      "execution_count": 148,
      "outputs": [
        {
          "output_type": "execute_result",
          "data": {
            "text/plain": [
              "84696     well say birth control year far i am feel real...\n",
              "100288    take pill almost year fsgs nephrot syndrom hug...\n",
              "105834    drug life saver me typic add patient mind race...\n",
              "8149                              doesnt appear chang anyth\n",
              "59888     phen wks lost 12lbs diet exercis defin hit pla...\n",
              "                                ...                        \n",
              "51955     taken month tire sleep alot longer much energi...\n",
              "1641      wife underw surgeri intestin obstruct lost maj...\n",
              "94347     zoloft two half week feel work i am still slee...\n",
              "21732     quit drug lol told expect breakthrough bleed e...\n",
              "115986      took three month work sinc migrain use two week\n",
              "Name: reviews, Length: 121095, dtype: object"
            ]
          },
          "metadata": {
            "tags": []
          },
          "execution_count": 148
        }
      ]
    },
    {
      "cell_type": "code",
      "metadata": {
        "id": "XVkgQqlInM90",
        "colab_type": "code",
        "colab": {
          "base_uri": "https://localhost:8080/",
          "height": 87
        },
        "outputId": "ac8f1a69-5b62-4544-f597-8f8647434747"
      },
      "source": [
        "from nltk.stem import WordNetLemmatizer\n",
        "lemmatizer = WordNetLemmatizer()\n",
        "from bs4 import BeautifulSoup\n",
        "from nltk.tokenize import word_tokenize\n",
        "from tqdm import tqdm\n",
        "nltk.download('punkt') ## added for GoogleCollab\n",
        "nltk.download('wordnet') ## added for GoogleCollab\n",
        "\n",
        "\n",
        "def clean_sentences(reviews):\n",
        "    reviews = []\n",
        "\n",
        "    for sent in tqdm(train_sentences):\n",
        "        \n",
        "        #remove html content\n",
        "        review_text = BeautifulSoup(sent).get_text()\n",
        "        \n",
        "        #remove non-alphabetic characters\n",
        "        review_text = re.sub(\"[^a-zA-Z]\",\" \", review_text)\n",
        "    \n",
        "        #tokenize the sentences\n",
        "        words = word_tokenize(review_text.lower())\n",
        "    \n",
        "        #lemmatize each word to its lemma\n",
        "        lemma_words = [lemmatizer.lemmatize(i) for i in words]\n",
        "    \n",
        "        reviews.append(lemma_words)\n",
        "\n",
        "    return(reviews)"
      ],
      "execution_count": 149,
      "outputs": [
        {
          "output_type": "stream",
          "text": [
            "[nltk_data] Downloading package punkt to /root/nltk_data...\n",
            "[nltk_data]   Unzipping tokenizers/punkt.zip.\n",
            "[nltk_data] Downloading package wordnet to /root/nltk_data...\n",
            "[nltk_data]   Unzipping corpora/wordnet.zip.\n"
          ],
          "name": "stdout"
        }
      ]
    },
    {
      "cell_type": "code",
      "metadata": {
        "id": "Wb6VE6REnMq8",
        "colab_type": "code",
        "colab": {
          "base_uri": "https://localhost:8080/",
          "height": 34
        },
        "outputId": "45c80b5d-9c47-461e-f97d-4728ddedc2f6"
      },
      "source": [
        "train_sentences = clean_sentences(train_sentences)"
      ],
      "execution_count": 150,
      "outputs": [
        {
          "output_type": "stream",
          "text": [
            "100%|██████████| 121095/121095 [01:13<00:00, 1641.75it/s]\n"
          ],
          "name": "stderr"
        }
      ]
    },
    {
      "cell_type": "code",
      "metadata": {
        "id": "H2_EIqPAnMaQ",
        "colab_type": "code",
        "colab": {
          "base_uri": "https://localhost:8080/",
          "height": 70
        },
        "outputId": "62f28a6c-378c-4d11-b26c-b5aa3ff77a57"
      },
      "source": [
        "unique_words = set()\n",
        "len_max = 0\n",
        "\n",
        "for sent in tqdm(train_sentences):\n",
        "    \n",
        "    unique_words.update(sent)\n",
        "    \n",
        "    if(len_max<len(sent)):\n",
        "        len_max = len(sent)\n",
        "        \n",
        "#length of the list of unique_words gives the no of unique words\n",
        "print(len(list(unique_words)))\n",
        "print(len_max)"
      ],
      "execution_count": 151,
      "outputs": [
        {
          "output_type": "stream",
          "text": [
            "100%|██████████| 121095/121095 [00:00<00:00, 487801.57it/s]"
          ],
          "name": "stderr"
        },
        {
          "output_type": "stream",
          "text": [
            "48678\n",
            "325\n"
          ],
          "name": "stdout"
        },
        {
          "output_type": "stream",
          "text": [
            "\n"
          ],
          "name": "stderr"
        }
      ]
    },
    {
      "cell_type": "code",
      "metadata": {
        "id": "Kuq8CR5lDnqu",
        "colab_type": "code",
        "colab": {
          "base_uri": "https://localhost:8080/",
          "height": 34
        },
        "outputId": "aa1ea1d4-93fd-4404-f2ea-25dcef6976c1"
      },
      "source": [
        "# Keras\n",
        "from keras.preprocessing.text import Tokenizer\n",
        "from keras.preprocessing.sequence import pad_sequences\n",
        "from keras.models import Sequential\n",
        "from keras.layers import Dense, Flatten, LSTM, Conv1D, MaxPooling1D, Dropout, Activation\n",
        "from keras.layers.embeddings import Embedding\n",
        "\n",
        "# oov_tok replaces unknown words with \"<OOV>\" as a value\n",
        "# incase truncating is requirred out model will do so behind the text rows.\n",
        "trunc_type='post'\n",
        "oov_tok=\"<OOV>\"\n",
        "tokenizer = Tokenizer(num_words= len(list(unique_words)), oov_token=oov_tok)\n",
        "tokenizer.fit_on_texts(train_sentences)\n",
        "\n",
        "sequences = tokenizer.texts_to_sequences(train_sentences)\n",
        "data = pad_sequences(sequences, maxlen=len_max, truncating=trunc_type)"
      ],
      "execution_count": 153,
      "outputs": [
        {
          "output_type": "stream",
          "text": [
            "Using TensorFlow backend.\n"
          ],
          "name": "stderr"
        }
      ]
    },
    {
      "cell_type": "code",
      "metadata": {
        "id": "_Ak4EKYhB-Sq",
        "colab_type": "code",
        "colab": {}
      },
      "source": [
        "# Early stopping incase scores doesnt change aroung cycles.\n",
        "from keras.callbacks import EarlyStopping\n",
        "early_stopping = EarlyStopping(min_delta = 0.001, mode = 'max', monitor='val_auc', patience = 2)\n",
        "callback = [early_stopping]"
      ],
      "execution_count": 154,
      "outputs": []
    },
    {
      "cell_type": "code",
      "metadata": {
        "id": "gAR7Fow8KOYy",
        "colab_type": "code",
        "colab": {}
      },
      "source": [
        "from keras.utils import to_categorical\n",
        "#target=train.Satisfaction.values\n",
        "y_target=to_categorical(drugs['satisfaction'])\n",
        "num_classes=y_target.shape[1]"
      ],
      "execution_count": 155,
      "outputs": []
    },
    {
      "cell_type": "code",
      "metadata": {
        "id": "bwBR2qr6L159",
        "colab_type": "code",
        "colab": {
          "base_uri": "https://localhost:8080/",
          "height": 34
        },
        "outputId": "1f7fb71b-63a5-4b0a-82d4-edf31fe39e2d"
      },
      "source": [
        "num_classes"
      ],
      "execution_count": 156,
      "outputs": [
        {
          "output_type": "execute_result",
          "data": {
            "text/plain": [
              "6"
            ]
          },
          "metadata": {
            "tags": []
          },
          "execution_count": 156
        }
      ]
    },
    {
      "cell_type": "code",
      "metadata": {
        "id": "y2cPs1pERxFE",
        "colab_type": "code",
        "colab": {}
      },
      "source": [
        "# we have used one LSTM layer for our operations, with a combination of a CNN Layer coz it really speeds up our task,\n",
        "# further Maxpooling helps in reducing the problem of high dimensionality coz LSTM would usually return 2D array.\n",
        "# Sigmoid activator is used coz we have binary(0/1) semantics for our reviews\n",
        "# Two layer LSTM can also be implmented(with return sequence \"True\" meaning the feedback cycle will be used) but \n",
        "# for now i have commented them out.\n",
        "import tensorflow as tf\n",
        "from keras.losses import categorical_crossentropy\n",
        "from keras.optimizers import Adam\n",
        "\n",
        "def create_conv_model():\n",
        "    model_conv = Sequential()\n",
        "    model_conv.add(Embedding(len(list(unique_words)), 300, input_length=len_max))\n",
        "    model_conv.add(Dropout(0.2))\n",
        "    model_conv.add(Conv1D(256, 5, activation='relu'))\n",
        "    model_conv.add(MaxPooling1D(pool_size=4))\n",
        "    model_conv.add(LSTM(128))\n",
        "    \n",
        "    model_conv.add(Dense(num_classes, activation='softmax'))\n",
        "    model_conv.compile(loss='categorical_crossentropy', optimizer=Adam(lr=0.001), metrics=[tf.keras.metrics.AUC()])\n",
        "    model_conv.summary()\n",
        "    return model_conv"
      ],
      "execution_count": 157,
      "outputs": []
    },
    {
      "cell_type": "code",
      "metadata": {
        "id": "fDRPiYl9QA--",
        "colab_type": "code",
        "colab": {
          "base_uri": "https://localhost:8080/",
          "height": 372
        },
        "outputId": "7b769438-a6b4-427a-f425-4ef308116a3b"
      },
      "source": [
        "model_conv = create_conv_model()"
      ],
      "execution_count": 158,
      "outputs": [
        {
          "output_type": "stream",
          "text": [
            "Model: \"sequential_1\"\n",
            "_________________________________________________________________\n",
            "Layer (type)                 Output Shape              Param #   \n",
            "=================================================================\n",
            "embedding_1 (Embedding)      (None, 325, 300)          14603400  \n",
            "_________________________________________________________________\n",
            "dropout_1 (Dropout)          (None, 325, 300)          0         \n",
            "_________________________________________________________________\n",
            "conv1d_1 (Conv1D)            (None, 321, 256)          384256    \n",
            "_________________________________________________________________\n",
            "max_pooling1d_1 (MaxPooling1 (None, 80, 256)           0         \n",
            "_________________________________________________________________\n",
            "lstm_1 (LSTM)                (None, 128)               197120    \n",
            "_________________________________________________________________\n",
            "dense_1 (Dense)              (None, 6)                 774       \n",
            "=================================================================\n",
            "Total params: 15,185,550\n",
            "Trainable params: 15,185,550\n",
            "Non-trainable params: 0\n",
            "_________________________________________________________________\n"
          ],
          "name": "stdout"
        }
      ]
    },
    {
      "cell_type": "code",
      "metadata": {
        "id": "tjQu8DHoh1Hy",
        "colab_type": "code",
        "colab": {
          "base_uri": "https://localhost:8080/",
          "height": 161
        },
        "outputId": "e2b26981-47cb-4493-aa45-8f9480a5e0f0"
      },
      "source": [
        "history =model_conv.fit(data, y_target, validation_split=0.4, epochs = 2, callbacks=callback)"
      ],
      "execution_count": 159,
      "outputs": [
        {
          "output_type": "stream",
          "text": [
            "/usr/local/lib/python3.6/dist-packages/tensorflow/python/framework/indexed_slices.py:434: UserWarning: Converting sparse IndexedSlices to a dense Tensor of unknown shape. This may consume a large amount of memory.\n",
            "  \"Converting sparse IndexedSlices to a dense Tensor of unknown shape. \"\n"
          ],
          "name": "stderr"
        },
        {
          "output_type": "stream",
          "text": [
            "Train on 72657 samples, validate on 48438 samples\n",
            "Epoch 1/2\n",
            "72657/72657 [==============================] - 466s 6ms/step - loss: 1.4101 - auc: 0.7376 - val_loss: 1.3632 - val_auc: 0.7766\n",
            "Epoch 2/2\n",
            "72657/72657 [==============================] - 466s 6ms/step - loss: 1.2561 - auc: 0.7915 - val_loss: 1.3823 - val_auc: 0.7982\n"
          ],
          "name": "stdout"
        }
      ]
    },
    {
      "cell_type": "code",
      "metadata": {
        "id": "D15NRouzmnvb",
        "colab_type": "code",
        "colab": {
          "base_uri": "https://localhost:8080/",
          "height": 560
        },
        "outputId": "c5b1e5b2-5d81-4c8b-84b7-4f8273eb7de1"
      },
      "source": [
        "import matplotlib.pyplot as plt\n",
        "\n",
        "# Create count of the number of epochs\n",
        "epoch_count = range(1, len(history.history['loss']) + 1)\n",
        "\n",
        "# Visualize learning curve. Here learning curve is not ideal. It should be much smoother as it decreases.\n",
        "#As mentioned before, altering different hyper parameters especially learning rate can have a positive impact\n",
        "#on accuracy and learning curve.\n",
        "plt.plot(epoch_count, history.history['loss'], 'r--')\n",
        "plt.plot(epoch_count, history.history['val_loss'], 'b--')\n",
        "plt.plot(epoch_count, history.history['auc'], 'g-')\n",
        "plt.plot(epoch_count, history.history['val_auc'], 'y-')\n",
        "plt.legend(['Training Loss', 'Validation Loss', 'Training AUC', 'Validation AUC'])\n",
        "plt.xlabel('Epoch')\n",
        "plt.ylabel('Loss')\n",
        "plt.show()"
      ],
      "execution_count": 161,
      "outputs": [
        {
          "output_type": "display_data",
          "data": {
            "image/png": "[encoded data removed]",
            "text/plain": [
              "<Figure size 864x648 with 1 Axes>"
            ]
          },
          "metadata": {
            "tags": []
          }
        }
      ]
    },
    {
      "cell_type": "code",
      "metadata": {
        "id": "rf4cY-YkhAW-",
        "colab_type": "code",
        "colab": {}
      },
      "source": [
        "nlp_pred=model_conv.predict_classes(data)"
      ],
      "execution_count": 162,
      "outputs": []
    },
    {
      "cell_type": "code",
      "metadata": {
        "id": "LNMd2WkpoGpr",
        "colab_type": "code",
        "colab": {}
      },
      "source": [
        "lstm_op=pd.DataFrame(nlp_pred)\n",
        "#df_labels=pd.DataFrame(labels)\n",
        "df_target=pd.DataFrame(y_target)"
      ],
      "execution_count": 163,
      "outputs": []
    },
    {
      "cell_type": "code",
      "metadata": {
        "id": "2BA2xiloSrBD",
        "colab_type": "code",
        "colab": {
          "base_uri": "https://localhost:8080/",
          "height": 406
        },
        "outputId": "0509e16b-111f-4d2b-8ac9-86a3c859de0d"
      },
      "source": [
        "lstm_op"
      ],
      "execution_count": 164,
      "outputs": [
        {
          "output_type": "execute_result",
          "data": {
            "text/html": [
              "<div>\n",
              "<style scoped>\n",
              "    .dataframe tbody tr th:only-of-type {\n",
              "        vertical-align: middle;\n",
              "    }\n",
              "\n",
              "    .dataframe tbody tr th {\n",
              "        vertical-align: top;\n",
              "    }\n",
              "\n",
              "    .dataframe thead th {\n",
              "        text-align: right;\n",
              "    }\n",
              "</style>\n",
              "<table border=\"1\" class=\"dataframe\">\n",
              "  <thead>\n",
              "    <tr style=\"text-align: right;\">\n",
              "      <th></th>\n",
              "      <th>0</th>\n",
              "    </tr>\n",
              "  </thead>\n",
              "  <tbody>\n",
              "    <tr>\n",
              "      <th>0</th>\n",
              "      <td>4</td>\n",
              "    </tr>\n",
              "    <tr>\n",
              "      <th>1</th>\n",
              "      <td>5</td>\n",
              "    </tr>\n",
              "    <tr>\n",
              "      <th>2</th>\n",
              "      <td>5</td>\n",
              "    </tr>\n",
              "    <tr>\n",
              "      <th>3</th>\n",
              "      <td>2</td>\n",
              "    </tr>\n",
              "    <tr>\n",
              "      <th>4</th>\n",
              "      <td>4</td>\n",
              "    </tr>\n",
              "    <tr>\n",
              "      <th>...</th>\n",
              "      <td>...</td>\n",
              "    </tr>\n",
              "    <tr>\n",
              "      <th>121090</th>\n",
              "      <td>4</td>\n",
              "    </tr>\n",
              "    <tr>\n",
              "      <th>121091</th>\n",
              "      <td>5</td>\n",
              "    </tr>\n",
              "    <tr>\n",
              "      <th>121092</th>\n",
              "      <td>3</td>\n",
              "    </tr>\n",
              "    <tr>\n",
              "      <th>121093</th>\n",
              "      <td>4</td>\n",
              "    </tr>\n",
              "    <tr>\n",
              "      <th>121094</th>\n",
              "      <td>5</td>\n",
              "    </tr>\n",
              "  </tbody>\n",
              "</table>\n",
              "<p>121095 rows × 1 columns</p>\n",
              "</div>"
            ],
            "text/plain": [
              "        0\n",
              "0       4\n",
              "1       5\n",
              "2       5\n",
              "3       2\n",
              "4       4\n",
              "...    ..\n",
              "121090  4\n",
              "121091  5\n",
              "121092  3\n",
              "121093  4\n",
              "121094  5\n",
              "\n",
              "[121095 rows x 1 columns]"
            ]
          },
          "metadata": {
            "tags": []
          },
          "execution_count": 164
        }
      ]
    },
    {
      "cell_type": "code",
      "metadata": {
        "id": "uJPRm4cdSuNb",
        "colab_type": "code",
        "colab": {
          "base_uri": "https://localhost:8080/",
          "height": 406
        },
        "outputId": "9ba65a18-e085-46c5-9081-5cc5e6103d81"
      },
      "source": [
        "df_target"
      ],
      "execution_count": 165,
      "outputs": [
        {
          "output_type": "execute_result",
          "data": {
            "text/html": [
              "<div>\n",
              "<style scoped>\n",
              "    .dataframe tbody tr th:only-of-type {\n",
              "        vertical-align: middle;\n",
              "    }\n",
              "\n",
              "    .dataframe tbody tr th {\n",
              "        vertical-align: top;\n",
              "    }\n",
              "\n",
              "    .dataframe thead th {\n",
              "        text-align: right;\n",
              "    }\n",
              "</style>\n",
              "<table border=\"1\" class=\"dataframe\">\n",
              "  <thead>\n",
              "    <tr style=\"text-align: right;\">\n",
              "      <th></th>\n",
              "      <th>0</th>\n",
              "      <th>1</th>\n",
              "      <th>2</th>\n",
              "      <th>3</th>\n",
              "      <th>4</th>\n",
              "      <th>5</th>\n",
              "    </tr>\n",
              "  </thead>\n",
              "  <tbody>\n",
              "    <tr>\n",
              "      <th>0</th>\n",
              "      <td>0.0</td>\n",
              "      <td>0.0</td>\n",
              "      <td>0.0</td>\n",
              "      <td>0.0</td>\n",
              "      <td>1.0</td>\n",
              "      <td>0.0</td>\n",
              "    </tr>\n",
              "    <tr>\n",
              "      <th>1</th>\n",
              "      <td>0.0</td>\n",
              "      <td>0.0</td>\n",
              "      <td>0.0</td>\n",
              "      <td>0.0</td>\n",
              "      <td>0.0</td>\n",
              "      <td>1.0</td>\n",
              "    </tr>\n",
              "    <tr>\n",
              "      <th>2</th>\n",
              "      <td>0.0</td>\n",
              "      <td>0.0</td>\n",
              "      <td>0.0</td>\n",
              "      <td>0.0</td>\n",
              "      <td>0.0</td>\n",
              "      <td>1.0</td>\n",
              "    </tr>\n",
              "    <tr>\n",
              "      <th>3</th>\n",
              "      <td>0.0</td>\n",
              "      <td>1.0</td>\n",
              "      <td>0.0</td>\n",
              "      <td>0.0</td>\n",
              "      <td>0.0</td>\n",
              "      <td>0.0</td>\n",
              "    </tr>\n",
              "    <tr>\n",
              "      <th>4</th>\n",
              "      <td>0.0</td>\n",
              "      <td>0.0</td>\n",
              "      <td>0.0</td>\n",
              "      <td>1.0</td>\n",
              "      <td>0.0</td>\n",
              "      <td>0.0</td>\n",
              "    </tr>\n",
              "    <tr>\n",
              "      <th>...</th>\n",
              "      <td>...</td>\n",
              "      <td>...</td>\n",
              "      <td>...</td>\n",
              "      <td>...</td>\n",
              "      <td>...</td>\n",
              "      <td>...</td>\n",
              "    </tr>\n",
              "    <tr>\n",
              "      <th>121090</th>\n",
              "      <td>0.0</td>\n",
              "      <td>0.0</td>\n",
              "      <td>0.0</td>\n",
              "      <td>1.0</td>\n",
              "      <td>0.0</td>\n",
              "      <td>0.0</td>\n",
              "    </tr>\n",
              "    <tr>\n",
              "      <th>121091</th>\n",
              "      <td>0.0</td>\n",
              "      <td>1.0</td>\n",
              "      <td>0.0</td>\n",
              "      <td>0.0</td>\n",
              "      <td>0.0</td>\n",
              "      <td>0.0</td>\n",
              "    </tr>\n",
              "    <tr>\n",
              "      <th>121092</th>\n",
              "      <td>0.0</td>\n",
              "      <td>0.0</td>\n",
              "      <td>0.0</td>\n",
              "      <td>0.0</td>\n",
              "      <td>1.0</td>\n",
              "      <td>0.0</td>\n",
              "    </tr>\n",
              "    <tr>\n",
              "      <th>121093</th>\n",
              "      <td>0.0</td>\n",
              "      <td>1.0</td>\n",
              "      <td>0.0</td>\n",
              "      <td>0.0</td>\n",
              "      <td>0.0</td>\n",
              "      <td>0.0</td>\n",
              "    </tr>\n",
              "    <tr>\n",
              "      <th>121094</th>\n",
              "      <td>0.0</td>\n",
              "      <td>0.0</td>\n",
              "      <td>0.0</td>\n",
              "      <td>0.0</td>\n",
              "      <td>0.0</td>\n",
              "      <td>1.0</td>\n",
              "    </tr>\n",
              "  </tbody>\n",
              "</table>\n",
              "<p>121095 rows × 6 columns</p>\n",
              "</div>"
            ],
            "text/plain": [
              "          0    1    2    3    4    5\n",
              "0       0.0  0.0  0.0  0.0  1.0  0.0\n",
              "1       0.0  0.0  0.0  0.0  0.0  1.0\n",
              "2       0.0  0.0  0.0  0.0  0.0  1.0\n",
              "3       0.0  1.0  0.0  0.0  0.0  0.0\n",
              "4       0.0  0.0  0.0  1.0  0.0  0.0\n",
              "...     ...  ...  ...  ...  ...  ...\n",
              "121090  0.0  0.0  0.0  1.0  0.0  0.0\n",
              "121091  0.0  1.0  0.0  0.0  0.0  0.0\n",
              "121092  0.0  0.0  0.0  0.0  1.0  0.0\n",
              "121093  0.0  1.0  0.0  0.0  0.0  0.0\n",
              "121094  0.0  0.0  0.0  0.0  0.0  1.0\n",
              "\n",
              "[121095 rows x 6 columns]"
            ]
          },
          "metadata": {
            "tags": []
          },
          "execution_count": 165
        }
      ]
    },
    {
      "cell_type": "code",
      "metadata": {
        "id": "RHq0orXXCPf4",
        "colab_type": "code",
        "colab": {
          "base_uri": "https://localhost:8080/",
          "height": 406
        },
        "outputId": "77d2ae98-726d-4814-806b-7e8a717f71af"
      },
      "source": [
        "lstm_op.rename(columns = {0:'lstm_score'}, inplace = True)\n",
        "lstm_op"
      ],
      "execution_count": 166,
      "outputs": [
        {
          "output_type": "execute_result",
          "data": {
            "text/html": [
              "<div>\n",
              "<style scoped>\n",
              "    .dataframe tbody tr th:only-of-type {\n",
              "        vertical-align: middle;\n",
              "    }\n",
              "\n",
              "    .dataframe tbody tr th {\n",
              "        vertical-align: top;\n",
              "    }\n",
              "\n",
              "    .dataframe thead th {\n",
              "        text-align: right;\n",
              "    }\n",
              "</style>\n",
              "<table border=\"1\" class=\"dataframe\">\n",
              "  <thead>\n",
              "    <tr style=\"text-align: right;\">\n",
              "      <th></th>\n",
              "      <th>lstm_score</th>\n",
              "    </tr>\n",
              "  </thead>\n",
              "  <tbody>\n",
              "    <tr>\n",
              "      <th>0</th>\n",
              "      <td>4</td>\n",
              "    </tr>\n",
              "    <tr>\n",
              "      <th>1</th>\n",
              "      <td>5</td>\n",
              "    </tr>\n",
              "    <tr>\n",
              "      <th>2</th>\n",
              "      <td>5</td>\n",
              "    </tr>\n",
              "    <tr>\n",
              "      <th>3</th>\n",
              "      <td>2</td>\n",
              "    </tr>\n",
              "    <tr>\n",
              "      <th>4</th>\n",
              "      <td>4</td>\n",
              "    </tr>\n",
              "    <tr>\n",
              "      <th>...</th>\n",
              "      <td>...</td>\n",
              "    </tr>\n",
              "    <tr>\n",
              "      <th>121090</th>\n",
              "      <td>4</td>\n",
              "    </tr>\n",
              "    <tr>\n",
              "      <th>121091</th>\n",
              "      <td>5</td>\n",
              "    </tr>\n",
              "    <tr>\n",
              "      <th>121092</th>\n",
              "      <td>3</td>\n",
              "    </tr>\n",
              "    <tr>\n",
              "      <th>121093</th>\n",
              "      <td>4</td>\n",
              "    </tr>\n",
              "    <tr>\n",
              "      <th>121094</th>\n",
              "      <td>5</td>\n",
              "    </tr>\n",
              "  </tbody>\n",
              "</table>\n",
              "<p>121095 rows × 1 columns</p>\n",
              "</div>"
            ],
            "text/plain": [
              "        lstm_score\n",
              "0                4\n",
              "1                5\n",
              "2                5\n",
              "3                2\n",
              "4                4\n",
              "...            ...\n",
              "121090           4\n",
              "121091           5\n",
              "121092           3\n",
              "121093           4\n",
              "121094           5\n",
              "\n",
              "[121095 rows x 1 columns]"
            ]
          },
          "metadata": {
            "tags": []
          },
          "execution_count": 166
        }
      ]
    },
    {
      "cell_type": "code",
      "metadata": {
        "id": "iN7fYj2BQZh1",
        "colab_type": "code",
        "colab": {}
      },
      "source": [
        "# the last column being our output column\n",
        "#drugs = pd.concat([drugs, lstm_op], axis = 1)\n",
        "drugs = pd.concat([drugs_copy.reset_index(), lstm_op.reset_index()], axis = 1)\n"
      ],
      "execution_count": 167,
      "outputs": []
    },
    {
      "cell_type": "code",
      "metadata": {
        "id": "iLUK08tSUrOd",
        "colab_type": "code",
        "colab": {
          "base_uri": "https://localhost:8080/",
          "height": 397
        },
        "outputId": "4802f6b0-e2a7-4597-ada7-7504d6d125d5"
      },
      "source": [
        "drugs.head()"
      ],
      "execution_count": 168,
      "outputs": [
        {
          "output_type": "execute_result",
          "data": {
            "text/html": [
              "<div>\n",
              "<style scoped>\n",
              "    .dataframe tbody tr th:only-of-type {\n",
              "        vertical-align: middle;\n",
              "    }\n",
              "\n",
              "    .dataframe tbody tr th {\n",
              "        vertical-align: top;\n",
              "    }\n",
              "\n",
              "    .dataframe thead th {\n",
              "        text-align: right;\n",
              "    }\n",
              "</style>\n",
              "<table border=\"1\" class=\"dataframe\">\n",
              "  <thead>\n",
              "    <tr style=\"text-align: right;\">\n",
              "      <th></th>\n",
              "      <th>index</th>\n",
              "      <th>age</th>\n",
              "      <th>condition</th>\n",
              "      <th>drug</th>\n",
              "      <th>drugid</th>\n",
              "      <th>easeofuse</th>\n",
              "      <th>effectiveness</th>\n",
              "      <th>reviews</th>\n",
              "      <th>usefulcount</th>\n",
              "      <th>satisfaction</th>\n",
              "      <th>uniqueid</th>\n",
              "      <th>reviews_clean</th>\n",
              "      <th>index</th>\n",
              "      <th>lstm_score</th>\n",
              "    </tr>\n",
              "  </thead>\n",
              "  <tbody>\n",
              "    <tr>\n",
              "      <th>0</th>\n",
              "      <td>84696</td>\n",
              "      <td>25-34</td>\n",
              "      <td>Other</td>\n",
              "      <td>yaz</td>\n",
              "      <td>95358</td>\n",
              "      <td>5</td>\n",
              "      <td>4</td>\n",
              "      <td>well all i can say is that i have not been on ...</td>\n",
              "      <td>3</td>\n",
              "      <td>4</td>\n",
              "      <td>0</td>\n",
              "      <td>well say birth control year far i am feel real...</td>\n",
              "      <td>0</td>\n",
              "      <td>4</td>\n",
              "    </tr>\n",
              "    <tr>\n",
              "      <th>1</th>\n",
              "      <td>100288</td>\n",
              "      <td>19-24</td>\n",
              "      <td>Other</td>\n",
              "      <td>tacrolimus tablet, extended release 24 hr</td>\n",
              "      <td>10097</td>\n",
              "      <td>5</td>\n",
              "      <td>5</td>\n",
              "      <td>i have been taking this pill for almost a year...</td>\n",
              "      <td>1</td>\n",
              "      <td>5</td>\n",
              "      <td>1</td>\n",
              "      <td>take pill almost year fsgs nephrot syndrom hug...</td>\n",
              "      <td>1</td>\n",
              "      <td>5</td>\n",
              "    </tr>\n",
              "    <tr>\n",
              "      <th>2</th>\n",
              "      <td>105834</td>\n",
              "      <td>25-34</td>\n",
              "      <td>Attention Deficit Disorder with Hyperactivity</td>\n",
              "      <td>adderall</td>\n",
              "      <td>63163</td>\n",
              "      <td>5</td>\n",
              "      <td>5</td>\n",
              "      <td>this drug has been a life saver for me. i am t...</td>\n",
              "      <td>48</td>\n",
              "      <td>5</td>\n",
              "      <td>2</td>\n",
              "      <td>drug life saver me typic add patient mind race...</td>\n",
              "      <td>2</td>\n",
              "      <td>5</td>\n",
              "    </tr>\n",
              "    <tr>\n",
              "      <th>3</th>\n",
              "      <td>8149</td>\n",
              "      <td>45-54</td>\n",
              "      <td>Atopic Dermatitis</td>\n",
              "      <td>desoximetasone spray, non-aerosol</td>\n",
              "      <td>4272</td>\n",
              "      <td>5</td>\n",
              "      <td>1</td>\n",
              "      <td>doesnt appear to change anything</td>\n",
              "      <td>9</td>\n",
              "      <td>1</td>\n",
              "      <td>3</td>\n",
              "      <td>doesnt appear chang anyth</td>\n",
              "      <td>3</td>\n",
              "      <td>2</td>\n",
              "    </tr>\n",
              "    <tr>\n",
              "      <th>4</th>\n",
              "      <td>59888</td>\n",
              "      <td>35-44</td>\n",
              "      <td>Overweight</td>\n",
              "      <td>phentermine hcl</td>\n",
              "      <td>4151</td>\n",
              "      <td>3</td>\n",
              "      <td>3</td>\n",
              "      <td>i have been on phen. for 8 wks and have lost 1...</td>\n",
              "      <td>1</td>\n",
              "      <td>3</td>\n",
              "      <td>4</td>\n",
              "      <td>phen wks lost 12lbs diet exercis defin hit pla...</td>\n",
              "      <td>4</td>\n",
              "      <td>4</td>\n",
              "    </tr>\n",
              "  </tbody>\n",
              "</table>\n",
              "</div>"
            ],
            "text/plain": [
              "    index    age  ... index lstm_score\n",
              "0   84696  25-34  ...     0          4\n",
              "1  100288  19-24  ...     1          5\n",
              "2  105834  25-34  ...     2          5\n",
              "3    8149  45-54  ...     3          2\n",
              "4   59888  35-44  ...     4          4\n",
              "\n",
              "[5 rows x 14 columns]"
            ]
          },
          "metadata": {
            "tags": []
          },
          "execution_count": 168
        }
      ]
    },
    {
      "cell_type": "code",
      "metadata": {
        "id": "BdPBB13hn-jG",
        "colab_type": "code",
        "colab": {
          "base_uri": "https://localhost:8080/",
          "height": 94
        },
        "outputId": "2efd139e-1192-48c3-b8e2-92b9c8d8446a"
      },
      "source": [
        "drugs.drop(['index'], axis=1, inplace=True)\n",
        "drugs.head(1)"
      ],
      "execution_count": 169,
      "outputs": [
        {
          "output_type": "execute_result",
          "data": {
            "text/html": [
              "<div>\n",
              "<style scoped>\n",
              "    .dataframe tbody tr th:only-of-type {\n",
              "        vertical-align: middle;\n",
              "    }\n",
              "\n",
              "    .dataframe tbody tr th {\n",
              "        vertical-align: top;\n",
              "    }\n",
              "\n",
              "    .dataframe thead th {\n",
              "        text-align: right;\n",
              "    }\n",
              "</style>\n",
              "<table border=\"1\" class=\"dataframe\">\n",
              "  <thead>\n",
              "    <tr style=\"text-align: right;\">\n",
              "      <th></th>\n",
              "      <th>age</th>\n",
              "      <th>condition</th>\n",
              "      <th>drug</th>\n",
              "      <th>drugid</th>\n",
              "      <th>easeofuse</th>\n",
              "      <th>effectiveness</th>\n",
              "      <th>reviews</th>\n",
              "      <th>usefulcount</th>\n",
              "      <th>satisfaction</th>\n",
              "      <th>uniqueid</th>\n",
              "      <th>reviews_clean</th>\n",
              "      <th>lstm_score</th>\n",
              "    </tr>\n",
              "  </thead>\n",
              "  <tbody>\n",
              "    <tr>\n",
              "      <th>0</th>\n",
              "      <td>25-34</td>\n",
              "      <td>Other</td>\n",
              "      <td>yaz</td>\n",
              "      <td>95358</td>\n",
              "      <td>5</td>\n",
              "      <td>4</td>\n",
              "      <td>well all i can say is that i have not been on ...</td>\n",
              "      <td>3</td>\n",
              "      <td>4</td>\n",
              "      <td>0</td>\n",
              "      <td>well say birth control year far i am feel real...</td>\n",
              "      <td>4</td>\n",
              "    </tr>\n",
              "  </tbody>\n",
              "</table>\n",
              "</div>"
            ],
            "text/plain": [
              "     age  ... lstm_score\n",
              "0  25-34  ...          4\n",
              "\n",
              "[1 rows x 12 columns]"
            ]
          },
          "metadata": {
            "tags": []
          },
          "execution_count": 169
        }
      ]
    },
    {
      "cell_type": "code",
      "metadata": {
        "id": "8nl5YnQRvR5A",
        "colab_type": "code",
        "colab": {}
      },
      "source": [
        ""
      ],
      "execution_count": 169,
      "outputs": []
    },
    {
      "cell_type": "code",
      "metadata": {
        "id": "TYsNA8VW7ymT",
        "colab_type": "code",
        "colab": {
          "base_uri": "https://localhost:8080/",
          "height": 390
        },
        "outputId": "9fff9030-c705-46b6-bf3b-92ea78676a19"
      },
      "source": [
        "# Counting how many times each condition occured in our dataset, with head of 20\n",
        "drugs['condition'].value_counts().head(20)"
      ],
      "execution_count": 170,
      "outputs": [
        {
          "output_type": "execute_result",
          "data": {
            "text/plain": [
              "Other                                                        16795\n",
              "High Blood Pressure                                           7773\n",
              "Pain                                                          6157\n",
              "Birth Control                                                 5775\n",
              "Depression                                                    5652\n",
              "Chronic Trouble Sleeping                                      2592\n",
              "Attention Deficit Disorder with Hyperactivity                 2400\n",
              "Neuropathic Pain                                              2225\n",
              "Type 2 Diabetes Mellitus                                      2069\n",
              "Bipolar Depression                                            1853\n",
              "Major Depressive Disorder                                     1801\n",
              "Overweight                                                    1668\n",
              "Panic Disorder                                                1462\n",
              "High Cholesterol                                              1414\n",
              "Rheumatoid Arthritis                                          1399\n",
              "Repeated Episodes of Anxiety                                  1387\n",
              "Disorder characterized by Stiff, Tender & Painful Muscles     1319\n",
              "Migraine Prevention                                           1142\n",
              "Migraine Headache                                             1115\n",
              "Acne                                                          1014\n",
              "Name: condition, dtype: int64"
            ]
          },
          "metadata": {
            "tags": []
          },
          "execution_count": 170
        }
      ]
    },
    {
      "cell_type": "markdown",
      "metadata": {
        "id": "_AXFEXYQ-iWd",
        "colab_type": "text"
      },
      "source": [
        "# Feature Engineering"
      ]
    },
    {
      "cell_type": "code",
      "metadata": {
        "trusted": true,
        "_uuid": "c67dafd5a56dfbe0ce25b56bb7763b7dcc8d9d18",
        "id": "rGGLWsjO7PJ5",
        "colab_type": "code",
        "colab": {
          "base_uri": "https://localhost:8080/",
          "height": 52
        },
        "outputId": "ae393ff5-22cd-462a-94c5-d6ce0c123092"
      },
      "source": [
        "#Word count in each review\n",
        "drugs['count_word']=drugs[\"reviews_clean\"].apply(lambda x: len(str(x).split()))\n",
        "\n",
        "#Unique word count \n",
        "drugs['count_unique_word']=drugs[\"reviews_clean\"].apply(lambda x: len(set(str(x).split())))\n",
        "\n",
        "#Letter count\n",
        "drugs['count_letters']=drugs[\"reviews_clean\"].apply(lambda x: len(str(x)))\n",
        "\n",
        "#punctuation count\n",
        "drugs[\"count_punctuations\"] = drugs[\"reviews\"].apply(lambda x: len([c for c in str(x) if c in string.punctuation]))\n",
        "\n",
        "\n",
        "#Number of stopwords\n",
        "stops = set(stopwords.words(\"english\"))\n",
        "drugs[\"count_stopwords\"] = drugs[\"reviews\"].apply(lambda x: len([w for w in str(x).lower().split() if w in stops]))\n",
        "\n",
        "#Average length of the words\n",
        "drugs[\"mean_word_len\"] = drugs[\"reviews_clean\"].apply(lambda x: np.mean([len(w) for w in str(x).split()]))"
      ],
      "execution_count": 171,
      "outputs": [
        {
          "output_type": "stream",
          "text": [
            "/usr/local/lib/python3.6/dist-packages/numpy/core/fromnumeric.py:3335: RuntimeWarning: Mean of empty slice.\n",
            "  out=out, **kwargs)\n"
          ],
          "name": "stderr"
        }
      ]
    },
    {
      "cell_type": "code",
      "metadata": {
        "trusted": true,
        "_uuid": "f2471e72f47ee19eecd4252f1dd96940308b009f",
        "id": "Sd-jPhEl7PJ_",
        "colab_type": "code",
        "colab": {}
      },
      "source": [
        "# Label Encoding Conditions\n",
        "from sklearn.preprocessing import LabelEncoder\n",
        "label_encoder_feat = {}\n",
        "for feature in ['condition']:\n",
        "    label_encoder_feat[feature] = LabelEncoder()\n",
        "    drugs[feature] = label_encoder_feat[feature].fit_transform(drugs[feature])"
      ],
      "execution_count": 172,
      "outputs": []
    },
    {
      "cell_type": "code",
      "metadata": {
        "id": "AnpcOH8OHIoS",
        "colab_type": "code",
        "colab": {}
      },
      "source": [
        "drugs['easeofuse']=drugs['easeofuse'].astype(float)\n",
        "drugs['effectiveness']=drugs['effectiveness'].astype(float)\n",
        "drugs['usefulcount']=drugs['usefulcount'].astype(float)"
      ],
      "execution_count": 173,
      "outputs": []
    },
    {
      "cell_type": "code",
      "metadata": {
        "id": "Hb5OIlubD5sm",
        "colab_type": "code",
        "colab": {}
      },
      "source": [
        "corr=drugs.corr(method ='pearson')"
      ],
      "execution_count": 174,
      "outputs": []
    },
    {
      "cell_type": "code",
      "metadata": {
        "id": "eIlThq6pEhwh",
        "colab_type": "code",
        "colab": {
          "base_uri": "https://localhost:8080/",
          "height": 263
        },
        "outputId": "37a49ce6-14fa-4e02-e794-919b91f6ad14"
      },
      "source": [
        "cmap = cmap=sns.diverging_palette(5, 250, as_cmap=True)\n",
        "\n",
        "def magnify():\n",
        "    return [dict(selector=\"th\",\n",
        "                 props=[(\"font-size\", \"7pt\")]),\n",
        "            dict(selector=\"td\",\n",
        "                 props=[('padding', \"0em 0em\")]),\n",
        "            dict(selector=\"th:hover\",\n",
        "                 props=[(\"font-size\", \"12pt\")]),\n",
        "            dict(selector=\"tr:hover td:hover\",\n",
        "                 props=[('max-width', '200px'),\n",
        "                        ('font-size', '12pt')])\n",
        "]\n",
        "\n",
        "corr.style.background_gradient(cmap, axis=1)\\\n",
        "    .set_properties(**{'max-width': '80px', 'font-size': '10pt'})\\\n",
        "    .set_caption(\"Hover to magify\")\\\n",
        "    .set_precision(2)\\\n",
        "    .set_table_styles(magnify())"
      ],
      "execution_count": 175,
      "outputs": [
        {
          "output_type": "execute_result",
          "data": {
            "text/html": [
              "<style  type=\"text/css\" >\n",
              "    #T_a0b3b9f8_c45c_11ea_8b21_0242ac1c0002 th {\n",
              "          font-size: 7pt;\n",
              "    }    #T_a0b3b9f8_c45c_11ea_8b21_0242ac1c0002 td {\n",
              "          padding: 0em 0em;\n",
              "    }    #T_a0b3b9f8_c45c_11ea_8b21_0242ac1c0002 th:hover {\n",
              "          font-size: 12pt;\n",
              "    }    #T_a0b3b9f8_c45c_11ea_8b21_0242ac1c0002 tr:hover td:hover {\n",
              "          max-width: 200px;\n",
              "          font-size: 12pt;\n",
              "    }    #T_a0b3b9f8_c45c_11ea_8b21_0242ac1c0002row0_col0 {\n",
              "            background-color:  #4479bb;\n",
              "            color:  #000000;\n",
              "            max-width:  80px;\n",
              "            font-size:  10pt;\n",
              "        }    #T_a0b3b9f8_c45c_11ea_8b21_0242ac1c0002row0_col1 {\n",
              "            background-color:  #da4865;\n",
              "            color:  #000000;\n",
              "            max-width:  80px;\n",
              "            font-size:  10pt;\n",
              "        }    #T_a0b3b9f8_c45c_11ea_8b21_0242ac1c0002row0_col2 {\n",
              "            background-color:  #d94462;\n",
              "            color:  #f1f1f1;\n",
              "            max-width:  80px;\n",
              "            font-size:  10pt;\n",
              "        }    #T_a0b3b9f8_c45c_11ea_8b21_0242ac1c0002row0_col3 {\n",
              "            background-color:  #da4b68;\n",
              "            color:  #000000;\n",
              "            max-width:  80px;\n",
              "            font-size:  10pt;\n",
              "        }    #T_a0b3b9f8_c45c_11ea_8b21_0242ac1c0002row0_col4 {\n",
              "            background-color:  #de5b75;\n",
              "            color:  #000000;\n",
              "            max-width:  80px;\n",
              "            font-size:  10pt;\n",
              "        }    #T_a0b3b9f8_c45c_11ea_8b21_0242ac1c0002row0_col5 {\n",
              "            background-color:  #db4f6b;\n",
              "            color:  #000000;\n",
              "            max-width:  80px;\n",
              "            font-size:  10pt;\n",
              "        }    #T_a0b3b9f8_c45c_11ea_8b21_0242ac1c0002row0_col6 {\n",
              "            background-color:  #dd5a74;\n",
              "            color:  #000000;\n",
              "            max-width:  80px;\n",
              "            font-size:  10pt;\n",
              "        }    #T_a0b3b9f8_c45c_11ea_8b21_0242ac1c0002row0_col7 {\n",
              "            background-color:  #d73d5c;\n",
              "            color:  #f1f1f1;\n",
              "            max-width:  80px;\n",
              "            font-size:  10pt;\n",
              "        }    #T_a0b3b9f8_c45c_11ea_8b21_0242ac1c0002row0_col8 {\n",
              "            background-color:  #d73d5c;\n",
              "            color:  #f1f1f1;\n",
              "            max-width:  80px;\n",
              "            font-size:  10pt;\n",
              "        }    #T_a0b3b9f8_c45c_11ea_8b21_0242ac1c0002row0_col9 {\n",
              "            background-color:  #d73d5c;\n",
              "            color:  #f1f1f1;\n",
              "            max-width:  80px;\n",
              "            font-size:  10pt;\n",
              "        }    #T_a0b3b9f8_c45c_11ea_8b21_0242ac1c0002row0_col10 {\n",
              "            background-color:  #d83e5d;\n",
              "            color:  #f1f1f1;\n",
              "            max-width:  80px;\n",
              "            font-size:  10pt;\n",
              "        }    #T_a0b3b9f8_c45c_11ea_8b21_0242ac1c0002row0_col11 {\n",
              "            background-color:  #d73c5b;\n",
              "            color:  #f1f1f1;\n",
              "            max-width:  80px;\n",
              "            font-size:  10pt;\n",
              "        }    #T_a0b3b9f8_c45c_11ea_8b21_0242ac1c0002row0_col12 {\n",
              "            background-color:  #dc526e;\n",
              "            color:  #000000;\n",
              "            max-width:  80px;\n",
              "            font-size:  10pt;\n",
              "        }    #T_a0b3b9f8_c45c_11ea_8b21_0242ac1c0002row1_col0 {\n",
              "            background-color:  #d73c5b;\n",
              "            color:  #f1f1f1;\n",
              "            max-width:  80px;\n",
              "            font-size:  10pt;\n",
              "        }    #T_a0b3b9f8_c45c_11ea_8b21_0242ac1c0002row1_col1 {\n",
              "            background-color:  #4479bb;\n",
              "            color:  #000000;\n",
              "            max-width:  80px;\n",
              "            font-size:  10pt;\n",
              "        }    #T_a0b3b9f8_c45c_11ea_8b21_0242ac1c0002row1_col2 {\n",
              "            background-color:  #f2f2f2;\n",
              "            color:  #000000;\n",
              "            max-width:  80px;\n",
              "            font-size:  10pt;\n",
              "        }    #T_a0b3b9f8_c45c_11ea_8b21_0242ac1c0002row1_col3 {\n",
              "            background-color:  #dc516d;\n",
              "            color:  #000000;\n",
              "            max-width:  80px;\n",
              "            font-size:  10pt;\n",
              "        }    #T_a0b3b9f8_c45c_11ea_8b21_0242ac1c0002row1_col4 {\n",
              "            background-color:  #f2f2f2;\n",
              "            color:  #000000;\n",
              "            max-width:  80px;\n",
              "            font-size:  10pt;\n",
              "        }    #T_a0b3b9f8_c45c_11ea_8b21_0242ac1c0002row1_col5 {\n",
              "            background-color:  #d94261;\n",
              "            color:  #f1f1f1;\n",
              "            max-width:  80px;\n",
              "            font-size:  10pt;\n",
              "        }    #T_a0b3b9f8_c45c_11ea_8b21_0242ac1c0002row1_col6 {\n",
              "            background-color:  #f3c5ce;\n",
              "            color:  #000000;\n",
              "            max-width:  80px;\n",
              "            font-size:  10pt;\n",
              "        }    #T_a0b3b9f8_c45c_11ea_8b21_0242ac1c0002row1_col7 {\n",
              "            background-color:  #d8405e;\n",
              "            color:  #f1f1f1;\n",
              "            max-width:  80px;\n",
              "            font-size:  10pt;\n",
              "        }    #T_a0b3b9f8_c45c_11ea_8b21_0242ac1c0002row1_col8 {\n",
              "            background-color:  #d8405e;\n",
              "            color:  #f1f1f1;\n",
              "            max-width:  80px;\n",
              "            font-size:  10pt;\n",
              "        }    #T_a0b3b9f8_c45c_11ea_8b21_0242ac1c0002row1_col9 {\n",
              "            background-color:  #d83e5d;\n",
              "            color:  #f1f1f1;\n",
              "            max-width:  80px;\n",
              "            font-size:  10pt;\n",
              "        }    #T_a0b3b9f8_c45c_11ea_8b21_0242ac1c0002row1_col10 {\n",
              "            background-color:  #d8415f;\n",
              "            color:  #f1f1f1;\n",
              "            max-width:  80px;\n",
              "            font-size:  10pt;\n",
              "        }    #T_a0b3b9f8_c45c_11ea_8b21_0242ac1c0002row1_col11 {\n",
              "            background-color:  #d94462;\n",
              "            color:  #f1f1f1;\n",
              "            max-width:  80px;\n",
              "            font-size:  10pt;\n",
              "        }    #T_a0b3b9f8_c45c_11ea_8b21_0242ac1c0002row1_col12 {\n",
              "            background-color:  #d8415f;\n",
              "            color:  #f1f1f1;\n",
              "            max-width:  80px;\n",
              "            font-size:  10pt;\n",
              "        }    #T_a0b3b9f8_c45c_11ea_8b21_0242ac1c0002row2_col0 {\n",
              "            background-color:  #d73c5b;\n",
              "            color:  #f1f1f1;\n",
              "            max-width:  80px;\n",
              "            font-size:  10pt;\n",
              "        }    #T_a0b3b9f8_c45c_11ea_8b21_0242ac1c0002row2_col1 {\n",
              "            background-color:  #f2f2f2;\n",
              "            color:  #000000;\n",
              "            max-width:  80px;\n",
              "            font-size:  10pt;\n",
              "        }    #T_a0b3b9f8_c45c_11ea_8b21_0242ac1c0002row2_col2 {\n",
              "            background-color:  #4479bb;\n",
              "            color:  #000000;\n",
              "            max-width:  80px;\n",
              "            font-size:  10pt;\n",
              "        }    #T_a0b3b9f8_c45c_11ea_8b21_0242ac1c0002row2_col3 {\n",
              "            background-color:  #de5b75;\n",
              "            color:  #000000;\n",
              "            max-width:  80px;\n",
              "            font-size:  10pt;\n",
              "        }    #T_a0b3b9f8_c45c_11ea_8b21_0242ac1c0002row2_col4 {\n",
              "            background-color:  #9fbadc;\n",
              "            color:  #000000;\n",
              "            max-width:  80px;\n",
              "            font-size:  10pt;\n",
              "        }    #T_a0b3b9f8_c45c_11ea_8b21_0242ac1c0002row2_col5 {\n",
              "            background-color:  #d94764;\n",
              "            color:  #f1f1f1;\n",
              "            max-width:  80px;\n",
              "            font-size:  10pt;\n",
              "        }    #T_a0b3b9f8_c45c_11ea_8b21_0242ac1c0002row2_col6 {\n",
              "            background-color:  #f2f2f2;\n",
              "            color:  #000000;\n",
              "            max-width:  80px;\n",
              "            font-size:  10pt;\n",
              "        }    #T_a0b3b9f8_c45c_11ea_8b21_0242ac1c0002row2_col7 {\n",
              "            background-color:  #de5e77;\n",
              "            color:  #000000;\n",
              "            max-width:  80px;\n",
              "            font-size:  10pt;\n",
              "        }    #T_a0b3b9f8_c45c_11ea_8b21_0242ac1c0002row2_col8 {\n",
              "            background-color:  #de5f79;\n",
              "            color:  #000000;\n",
              "            max-width:  80px;\n",
              "            font-size:  10pt;\n",
              "        }    #T_a0b3b9f8_c45c_11ea_8b21_0242ac1c0002row2_col9 {\n",
              "            background-color:  #de5e77;\n",
              "            color:  #000000;\n",
              "            max-width:  80px;\n",
              "            font-size:  10pt;\n",
              "        }    #T_a0b3b9f8_c45c_11ea_8b21_0242ac1c0002row2_col10 {\n",
              "            background-color:  #dd5a74;\n",
              "            color:  #000000;\n",
              "            max-width:  80px;\n",
              "            font-size:  10pt;\n",
              "        }    #T_a0b3b9f8_c45c_11ea_8b21_0242ac1c0002row2_col11 {\n",
              "            background-color:  #df627b;\n",
              "            color:  #000000;\n",
              "            max-width:  80px;\n",
              "            font-size:  10pt;\n",
              "        }    #T_a0b3b9f8_c45c_11ea_8b21_0242ac1c0002row2_col12 {\n",
              "            background-color:  #d94764;\n",
              "            color:  #f1f1f1;\n",
              "            max-width:  80px;\n",
              "            font-size:  10pt;\n",
              "        }    #T_a0b3b9f8_c45c_11ea_8b21_0242ac1c0002row3_col0 {\n",
              "            background-color:  #d73c5b;\n",
              "            color:  #f1f1f1;\n",
              "            max-width:  80px;\n",
              "            font-size:  10pt;\n",
              "        }    #T_a0b3b9f8_c45c_11ea_8b21_0242ac1c0002row3_col1 {\n",
              "            background-color:  #db4e6a;\n",
              "            color:  #000000;\n",
              "            max-width:  80px;\n",
              "            font-size:  10pt;\n",
              "        }    #T_a0b3b9f8_c45c_11ea_8b21_0242ac1c0002row3_col2 {\n",
              "            background-color:  #dc546f;\n",
              "            color:  #000000;\n",
              "            max-width:  80px;\n",
              "            font-size:  10pt;\n",
              "        }    #T_a0b3b9f8_c45c_11ea_8b21_0242ac1c0002row3_col3 {\n",
              "            background-color:  #4479bb;\n",
              "            color:  #000000;\n",
              "            max-width:  80px;\n",
              "            font-size:  10pt;\n",
              "        }    #T_a0b3b9f8_c45c_11ea_8b21_0242ac1c0002row3_col4 {\n",
              "            background-color:  #db4f6b;\n",
              "            color:  #000000;\n",
              "            max-width:  80px;\n",
              "            font-size:  10pt;\n",
              "        }    #T_a0b3b9f8_c45c_11ea_8b21_0242ac1c0002row3_col5 {\n",
              "            background-color:  #d8405e;\n",
              "            color:  #f1f1f1;\n",
              "            max-width:  80px;\n",
              "            font-size:  10pt;\n",
              "        }    #T_a0b3b9f8_c45c_11ea_8b21_0242ac1c0002row3_col6 {\n",
              "            background-color:  #da4966;\n",
              "            color:  #000000;\n",
              "            max-width:  80px;\n",
              "            font-size:  10pt;\n",
              "        }    #T_a0b3b9f8_c45c_11ea_8b21_0242ac1c0002row3_col7 {\n",
              "            background-color:  #e88d9f;\n",
              "            color:  #000000;\n",
              "            max-width:  80px;\n",
              "            font-size:  10pt;\n",
              "        }    #T_a0b3b9f8_c45c_11ea_8b21_0242ac1c0002row3_col8 {\n",
              "            background-color:  #e890a1;\n",
              "            color:  #000000;\n",
              "            max-width:  80px;\n",
              "            font-size:  10pt;\n",
              "        }    #T_a0b3b9f8_c45c_11ea_8b21_0242ac1c0002row3_col9 {\n",
              "            background-color:  #e88d9f;\n",
              "            color:  #000000;\n",
              "            max-width:  80px;\n",
              "            font-size:  10pt;\n",
              "        }    #T_a0b3b9f8_c45c_11ea_8b21_0242ac1c0002row3_col10 {\n",
              "            background-color:  #e68699;\n",
              "            color:  #000000;\n",
              "            max-width:  80px;\n",
              "            font-size:  10pt;\n",
              "        }    #T_a0b3b9f8_c45c_11ea_8b21_0242ac1c0002row3_col11 {\n",
              "            background-color:  #e7899c;\n",
              "            color:  #000000;\n",
              "            max-width:  80px;\n",
              "            font-size:  10pt;\n",
              "        }    #T_a0b3b9f8_c45c_11ea_8b21_0242ac1c0002row3_col12 {\n",
              "            background-color:  #d83e5d;\n",
              "            color:  #f1f1f1;\n",
              "            max-width:  80px;\n",
              "            font-size:  10pt;\n",
              "        }    #T_a0b3b9f8_c45c_11ea_8b21_0242ac1c0002row4_col0 {\n",
              "            background-color:  #dc516d;\n",
              "            color:  #000000;\n",
              "            max-width:  80px;\n",
              "            font-size:  10pt;\n",
              "        }    #T_a0b3b9f8_c45c_11ea_8b21_0242ac1c0002row4_col1 {\n",
              "            background-color:  #f2f2f2;\n",
              "            color:  #000000;\n",
              "            max-width:  80px;\n",
              "            font-size:  10pt;\n",
              "        }    #T_a0b3b9f8_c45c_11ea_8b21_0242ac1c0002row4_col2 {\n",
              "            background-color:  #9fbadc;\n",
              "            color:  #000000;\n",
              "            max-width:  80px;\n",
              "            font-size:  10pt;\n",
              "        }    #T_a0b3b9f8_c45c_11ea_8b21_0242ac1c0002row4_col3 {\n",
              "            background-color:  #dd5671;\n",
              "            color:  #000000;\n",
              "            max-width:  80px;\n",
              "            font-size:  10pt;\n",
              "        }    #T_a0b3b9f8_c45c_11ea_8b21_0242ac1c0002row4_col4 {\n",
              "            background-color:  #4479bb;\n",
              "            color:  #000000;\n",
              "            max-width:  80px;\n",
              "            font-size:  10pt;\n",
              "        }    #T_a0b3b9f8_c45c_11ea_8b21_0242ac1c0002row4_col5 {\n",
              "            background-color:  #d94563;\n",
              "            color:  #f1f1f1;\n",
              "            max-width:  80px;\n",
              "            font-size:  10pt;\n",
              "        }    #T_a0b3b9f8_c45c_11ea_8b21_0242ac1c0002row4_col6 {\n",
              "            background-color:  #b9cde6;\n",
              "            color:  #000000;\n",
              "            max-width:  80px;\n",
              "            font-size:  10pt;\n",
              "        }    #T_a0b3b9f8_c45c_11ea_8b21_0242ac1c0002row4_col7 {\n",
              "            background-color:  #d73d5c;\n",
              "            color:  #f1f1f1;\n",
              "            max-width:  80px;\n",
              "            font-size:  10pt;\n",
              "        }    #T_a0b3b9f8_c45c_11ea_8b21_0242ac1c0002row4_col8 {\n",
              "            background-color:  #d73c5b;\n",
              "            color:  #f1f1f1;\n",
              "            max-width:  80px;\n",
              "            font-size:  10pt;\n",
              "        }    #T_a0b3b9f8_c45c_11ea_8b21_0242ac1c0002row4_col9 {\n",
              "            background-color:  #d73c5b;\n",
              "            color:  #f1f1f1;\n",
              "            max-width:  80px;\n",
              "            font-size:  10pt;\n",
              "        }    #T_a0b3b9f8_c45c_11ea_8b21_0242ac1c0002row4_col10 {\n",
              "            background-color:  #d73c5b;\n",
              "            color:  #f1f1f1;\n",
              "            max-width:  80px;\n",
              "            font-size:  10pt;\n",
              "        }    #T_a0b3b9f8_c45c_11ea_8b21_0242ac1c0002row4_col11 {\n",
              "            background-color:  #d94261;\n",
              "            color:  #f1f1f1;\n",
              "            max-width:  80px;\n",
              "            font-size:  10pt;\n",
              "        }    #T_a0b3b9f8_c45c_11ea_8b21_0242ac1c0002row4_col12 {\n",
              "            background-color:  #d94563;\n",
              "            color:  #f1f1f1;\n",
              "            max-width:  80px;\n",
              "            font-size:  10pt;\n",
              "        }    #T_a0b3b9f8_c45c_11ea_8b21_0242ac1c0002row5_col0 {\n",
              "            background-color:  #d73c5b;\n",
              "            color:  #f1f1f1;\n",
              "            max-width:  80px;\n",
              "            font-size:  10pt;\n",
              "        }    #T_a0b3b9f8_c45c_11ea_8b21_0242ac1c0002row5_col1 {\n",
              "            background-color:  #d73c5b;\n",
              "            color:  #f1f1f1;\n",
              "            max-width:  80px;\n",
              "            font-size:  10pt;\n",
              "        }    #T_a0b3b9f8_c45c_11ea_8b21_0242ac1c0002row5_col2 {\n",
              "            background-color:  #d73c5b;\n",
              "            color:  #f1f1f1;\n",
              "            max-width:  80px;\n",
              "            font-size:  10pt;\n",
              "        }    #T_a0b3b9f8_c45c_11ea_8b21_0242ac1c0002row5_col3 {\n",
              "            background-color:  #d73d5c;\n",
              "            color:  #f1f1f1;\n",
              "            max-width:  80px;\n",
              "            font-size:  10pt;\n",
              "        }    #T_a0b3b9f8_c45c_11ea_8b21_0242ac1c0002row5_col4 {\n",
              "            background-color:  #d73c5b;\n",
              "            color:  #f1f1f1;\n",
              "            max-width:  80px;\n",
              "            font-size:  10pt;\n",
              "        }    #T_a0b3b9f8_c45c_11ea_8b21_0242ac1c0002row5_col5 {\n",
              "            background-color:  #4479bb;\n",
              "            color:  #000000;\n",
              "            max-width:  80px;\n",
              "            font-size:  10pt;\n",
              "        }    #T_a0b3b9f8_c45c_11ea_8b21_0242ac1c0002row5_col6 {\n",
              "            background-color:  #d83e5d;\n",
              "            color:  #f1f1f1;\n",
              "            max-width:  80px;\n",
              "            font-size:  10pt;\n",
              "        }    #T_a0b3b9f8_c45c_11ea_8b21_0242ac1c0002row5_col7 {\n",
              "            background-color:  #d73d5c;\n",
              "            color:  #f1f1f1;\n",
              "            max-width:  80px;\n",
              "            font-size:  10pt;\n",
              "        }    #T_a0b3b9f8_c45c_11ea_8b21_0242ac1c0002row5_col8 {\n",
              "            background-color:  #d73d5c;\n",
              "            color:  #f1f1f1;\n",
              "            max-width:  80px;\n",
              "            font-size:  10pt;\n",
              "        }    #T_a0b3b9f8_c45c_11ea_8b21_0242ac1c0002row5_col9 {\n",
              "            background-color:  #d73d5c;\n",
              "            color:  #f1f1f1;\n",
              "            max-width:  80px;\n",
              "            font-size:  10pt;\n",
              "        }    #T_a0b3b9f8_c45c_11ea_8b21_0242ac1c0002row5_col10 {\n",
              "            background-color:  #d73d5c;\n",
              "            color:  #f1f1f1;\n",
              "            max-width:  80px;\n",
              "            font-size:  10pt;\n",
              "        }    #T_a0b3b9f8_c45c_11ea_8b21_0242ac1c0002row5_col11 {\n",
              "            background-color:  #d73d5c;\n",
              "            color:  #f1f1f1;\n",
              "            max-width:  80px;\n",
              "            font-size:  10pt;\n",
              "        }    #T_a0b3b9f8_c45c_11ea_8b21_0242ac1c0002row5_col12 {\n",
              "            background-color:  #d73c5b;\n",
              "            color:  #f1f1f1;\n",
              "            max-width:  80px;\n",
              "            font-size:  10pt;\n",
              "        }    #T_a0b3b9f8_c45c_11ea_8b21_0242ac1c0002row6_col0 {\n",
              "            background-color:  #db4f6b;\n",
              "            color:  #000000;\n",
              "            max-width:  80px;\n",
              "            font-size:  10pt;\n",
              "        }    #T_a0b3b9f8_c45c_11ea_8b21_0242ac1c0002row6_col1 {\n",
              "            background-color:  #f3c6cf;\n",
              "            color:  #000000;\n",
              "            max-width:  80px;\n",
              "            font-size:  10pt;\n",
              "        }    #T_a0b3b9f8_c45c_11ea_8b21_0242ac1c0002row6_col2 {\n",
              "            background-color:  #f2f2f2;\n",
              "            color:  #000000;\n",
              "            max-width:  80px;\n",
              "            font-size:  10pt;\n",
              "        }    #T_a0b3b9f8_c45c_11ea_8b21_0242ac1c0002row6_col3 {\n",
              "            background-color:  #db4e6a;\n",
              "            color:  #000000;\n",
              "            max-width:  80px;\n",
              "            font-size:  10pt;\n",
              "        }    #T_a0b3b9f8_c45c_11ea_8b21_0242ac1c0002row6_col4 {\n",
              "            background-color:  #b9cde6;\n",
              "            color:  #000000;\n",
              "            max-width:  80px;\n",
              "            font-size:  10pt;\n",
              "        }    #T_a0b3b9f8_c45c_11ea_8b21_0242ac1c0002row6_col5 {\n",
              "            background-color:  #da4865;\n",
              "            color:  #000000;\n",
              "            max-width:  80px;\n",
              "            font-size:  10pt;\n",
              "        }    #T_a0b3b9f8_c45c_11ea_8b21_0242ac1c0002row6_col6 {\n",
              "            background-color:  #4479bb;\n",
              "            color:  #000000;\n",
              "            max-width:  80px;\n",
              "            font-size:  10pt;\n",
              "        }    #T_a0b3b9f8_c45c_11ea_8b21_0242ac1c0002row6_col7 {\n",
              "            background-color:  #d73d5c;\n",
              "            color:  #f1f1f1;\n",
              "            max-width:  80px;\n",
              "            font-size:  10pt;\n",
              "        }    #T_a0b3b9f8_c45c_11ea_8b21_0242ac1c0002row6_col8 {\n",
              "            background-color:  #d73c5b;\n",
              "            color:  #f1f1f1;\n",
              "            max-width:  80px;\n",
              "            font-size:  10pt;\n",
              "        }    #T_a0b3b9f8_c45c_11ea_8b21_0242ac1c0002row6_col9 {\n",
              "            background-color:  #d73c5b;\n",
              "            color:  #f1f1f1;\n",
              "            max-width:  80px;\n",
              "            font-size:  10pt;\n",
              "        }    #T_a0b3b9f8_c45c_11ea_8b21_0242ac1c0002row6_col10 {\n",
              "            background-color:  #d73c5b;\n",
              "            color:  #f1f1f1;\n",
              "            max-width:  80px;\n",
              "            font-size:  10pt;\n",
              "        }    #T_a0b3b9f8_c45c_11ea_8b21_0242ac1c0002row6_col11 {\n",
              "            background-color:  #d94261;\n",
              "            color:  #f1f1f1;\n",
              "            max-width:  80px;\n",
              "            font-size:  10pt;\n",
              "        }    #T_a0b3b9f8_c45c_11ea_8b21_0242ac1c0002row6_col12 {\n",
              "            background-color:  #d94462;\n",
              "            color:  #f1f1f1;\n",
              "            max-width:  80px;\n",
              "            font-size:  10pt;\n",
              "        }    #T_a0b3b9f8_c45c_11ea_8b21_0242ac1c0002row7_col0 {\n",
              "            background-color:  #d73c5b;\n",
              "            color:  #f1f1f1;\n",
              "            max-width:  80px;\n",
              "            font-size:  10pt;\n",
              "        }    #T_a0b3b9f8_c45c_11ea_8b21_0242ac1c0002row7_col1 {\n",
              "            background-color:  #da4b68;\n",
              "            color:  #000000;\n",
              "            max-width:  80px;\n",
              "            font-size:  10pt;\n",
              "        }    #T_a0b3b9f8_c45c_11ea_8b21_0242ac1c0002row7_col2 {\n",
              "            background-color:  #df637c;\n",
              "            color:  #000000;\n",
              "            max-width:  80px;\n",
              "            font-size:  10pt;\n",
              "        }    #T_a0b3b9f8_c45c_11ea_8b21_0242ac1c0002row7_col3 {\n",
              "            background-color:  #ea99a9;\n",
              "            color:  #000000;\n",
              "            max-width:  80px;\n",
              "            font-size:  10pt;\n",
              "        }    #T_a0b3b9f8_c45c_11ea_8b21_0242ac1c0002row7_col4 {\n",
              "            background-color:  #d94563;\n",
              "            color:  #f1f1f1;\n",
              "            max-width:  80px;\n",
              "            font-size:  10pt;\n",
              "        }    #T_a0b3b9f8_c45c_11ea_8b21_0242ac1c0002row7_col5 {\n",
              "            background-color:  #db4e6a;\n",
              "            color:  #000000;\n",
              "            max-width:  80px;\n",
              "            font-size:  10pt;\n",
              "        }    #T_a0b3b9f8_c45c_11ea_8b21_0242ac1c0002row7_col6 {\n",
              "            background-color:  #d94563;\n",
              "            color:  #f1f1f1;\n",
              "            max-width:  80px;\n",
              "            font-size:  10pt;\n",
              "        }    #T_a0b3b9f8_c45c_11ea_8b21_0242ac1c0002row7_col7 {\n",
              "            background-color:  #4479bb;\n",
              "            color:  #000000;\n",
              "            max-width:  80px;\n",
              "            font-size:  10pt;\n",
              "        }    #T_a0b3b9f8_c45c_11ea_8b21_0242ac1c0002row7_col8 {\n",
              "            background-color:  #477bbc;\n",
              "            color:  #000000;\n",
              "            max-width:  80px;\n",
              "            font-size:  10pt;\n",
              "        }    #T_a0b3b9f8_c45c_11ea_8b21_0242ac1c0002row7_col9 {\n",
              "            background-color:  #457abb;\n",
              "            color:  #000000;\n",
              "            max-width:  80px;\n",
              "            font-size:  10pt;\n",
              "        }    #T_a0b3b9f8_c45c_11ea_8b21_0242ac1c0002row7_col10 {\n",
              "            background-color:  #6691c7;\n",
              "            color:  #000000;\n",
              "            max-width:  80px;\n",
              "            font-size:  10pt;\n",
              "        }    #T_a0b3b9f8_c45c_11ea_8b21_0242ac1c0002row7_col11 {\n",
              "            background-color:  #5787c2;\n",
              "            color:  #000000;\n",
              "            max-width:  80px;\n",
              "            font-size:  10pt;\n",
              "        }    #T_a0b3b9f8_c45c_11ea_8b21_0242ac1c0002row7_col12 {\n",
              "            background-color:  #da4865;\n",
              "            color:  #000000;\n",
              "            max-width:  80px;\n",
              "            font-size:  10pt;\n",
              "        }    #T_a0b3b9f8_c45c_11ea_8b21_0242ac1c0002row8_col0 {\n",
              "            background-color:  #d73c5b;\n",
              "            color:  #f1f1f1;\n",
              "            max-width:  80px;\n",
              "            font-size:  10pt;\n",
              "        }    #T_a0b3b9f8_c45c_11ea_8b21_0242ac1c0002row8_col1 {\n",
              "            background-color:  #db4d69;\n",
              "            color:  #000000;\n",
              "            max-width:  80px;\n",
              "            font-size:  10pt;\n",
              "        }    #T_a0b3b9f8_c45c_11ea_8b21_0242ac1c0002row8_col2 {\n",
              "            background-color:  #e0657d;\n",
              "            color:  #000000;\n",
              "            max-width:  80px;\n",
              "            font-size:  10pt;\n",
              "        }    #T_a0b3b9f8_c45c_11ea_8b21_0242ac1c0002row8_col3 {\n",
              "            background-color:  #eb9bab;\n",
              "            color:  #000000;\n",
              "            max-width:  80px;\n",
              "            font-size:  10pt;\n",
              "        }    #T_a0b3b9f8_c45c_11ea_8b21_0242ac1c0002row8_col4 {\n",
              "            background-color:  #d94563;\n",
              "            color:  #f1f1f1;\n",
              "            max-width:  80px;\n",
              "            font-size:  10pt;\n",
              "        }    #T_a0b3b9f8_c45c_11ea_8b21_0242ac1c0002row8_col5 {\n",
              "            background-color:  #db4f6b;\n",
              "            color:  #000000;\n",
              "            max-width:  80px;\n",
              "            font-size:  10pt;\n",
              "        }    #T_a0b3b9f8_c45c_11ea_8b21_0242ac1c0002row8_col6 {\n",
              "            background-color:  #d94563;\n",
              "            color:  #f1f1f1;\n",
              "            max-width:  80px;\n",
              "            font-size:  10pt;\n",
              "        }    #T_a0b3b9f8_c45c_11ea_8b21_0242ac1c0002row8_col7 {\n",
              "            background-color:  #477bbc;\n",
              "            color:  #000000;\n",
              "            max-width:  80px;\n",
              "            font-size:  10pt;\n",
              "        }    #T_a0b3b9f8_c45c_11ea_8b21_0242ac1c0002row8_col8 {\n",
              "            background-color:  #4479bb;\n",
              "            color:  #000000;\n",
              "            max-width:  80px;\n",
              "            font-size:  10pt;\n",
              "        }    #T_a0b3b9f8_c45c_11ea_8b21_0242ac1c0002row8_col9 {\n",
              "            background-color:  #477bbc;\n",
              "            color:  #000000;\n",
              "            max-width:  80px;\n",
              "            font-size:  10pt;\n",
              "        }    #T_a0b3b9f8_c45c_11ea_8b21_0242ac1c0002row8_col10 {\n",
              "            background-color:  #6a94c9;\n",
              "            color:  #000000;\n",
              "            max-width:  80px;\n",
              "            font-size:  10pt;\n",
              "        }    #T_a0b3b9f8_c45c_11ea_8b21_0242ac1c0002row8_col11 {\n",
              "            background-color:  #5887c2;\n",
              "            color:  #000000;\n",
              "            max-width:  80px;\n",
              "            font-size:  10pt;\n",
              "        }    #T_a0b3b9f8_c45c_11ea_8b21_0242ac1c0002row8_col12 {\n",
              "            background-color:  #da4966;\n",
              "            color:  #000000;\n",
              "            max-width:  80px;\n",
              "            font-size:  10pt;\n",
              "        }    #T_a0b3b9f8_c45c_11ea_8b21_0242ac1c0002row9_col0 {\n",
              "            background-color:  #d73c5b;\n",
              "            color:  #f1f1f1;\n",
              "            max-width:  80px;\n",
              "            font-size:  10pt;\n",
              "        }    #T_a0b3b9f8_c45c_11ea_8b21_0242ac1c0002row9_col1 {\n",
              "            background-color:  #da4966;\n",
              "            color:  #000000;\n",
              "            max-width:  80px;\n",
              "            font-size:  10pt;\n",
              "        }    #T_a0b3b9f8_c45c_11ea_8b21_0242ac1c0002row9_col2 {\n",
              "            background-color:  #df637c;\n",
              "            color:  #000000;\n",
              "            max-width:  80px;\n",
              "            font-size:  10pt;\n",
              "        }    #T_a0b3b9f8_c45c_11ea_8b21_0242ac1c0002row9_col3 {\n",
              "            background-color:  #ea99a9;\n",
              "            color:  #000000;\n",
              "            max-width:  80px;\n",
              "            font-size:  10pt;\n",
              "        }    #T_a0b3b9f8_c45c_11ea_8b21_0242ac1c0002row9_col4 {\n",
              "            background-color:  #d94462;\n",
              "            color:  #f1f1f1;\n",
              "            max-width:  80px;\n",
              "            font-size:  10pt;\n",
              "        }    #T_a0b3b9f8_c45c_11ea_8b21_0242ac1c0002row9_col5 {\n",
              "            background-color:  #db4e6a;\n",
              "            color:  #000000;\n",
              "            max-width:  80px;\n",
              "            font-size:  10pt;\n",
              "        }    #T_a0b3b9f8_c45c_11ea_8b21_0242ac1c0002row9_col6 {\n",
              "            background-color:  #d94462;\n",
              "            color:  #f1f1f1;\n",
              "            max-width:  80px;\n",
              "            font-size:  10pt;\n",
              "        }    #T_a0b3b9f8_c45c_11ea_8b21_0242ac1c0002row9_col7 {\n",
              "            background-color:  #457abb;\n",
              "            color:  #000000;\n",
              "            max-width:  80px;\n",
              "            font-size:  10pt;\n",
              "        }    #T_a0b3b9f8_c45c_11ea_8b21_0242ac1c0002row9_col8 {\n",
              "            background-color:  #477bbc;\n",
              "            color:  #000000;\n",
              "            max-width:  80px;\n",
              "            font-size:  10pt;\n",
              "        }    #T_a0b3b9f8_c45c_11ea_8b21_0242ac1c0002row9_col9 {\n",
              "            background-color:  #4479bb;\n",
              "            color:  #000000;\n",
              "            max-width:  80px;\n",
              "            font-size:  10pt;\n",
              "        }    #T_a0b3b9f8_c45c_11ea_8b21_0242ac1c0002row9_col10 {\n",
              "            background-color:  #6b95c9;\n",
              "            color:  #000000;\n",
              "            max-width:  80px;\n",
              "            font-size:  10pt;\n",
              "        }    #T_a0b3b9f8_c45c_11ea_8b21_0242ac1c0002row9_col11 {\n",
              "            background-color:  #5686c1;\n",
              "            color:  #000000;\n",
              "            max-width:  80px;\n",
              "            font-size:  10pt;\n",
              "        }    #T_a0b3b9f8_c45c_11ea_8b21_0242ac1c0002row9_col12 {\n",
              "            background-color:  #dc546f;\n",
              "            color:  #000000;\n",
              "            max-width:  80px;\n",
              "            font-size:  10pt;\n",
              "        }    #T_a0b3b9f8_c45c_11ea_8b21_0242ac1c0002row10_col0 {\n",
              "            background-color:  #d73c5b;\n",
              "            color:  #f1f1f1;\n",
              "            max-width:  80px;\n",
              "            font-size:  10pt;\n",
              "        }    #T_a0b3b9f8_c45c_11ea_8b21_0242ac1c0002row10_col1 {\n",
              "            background-color:  #da4b68;\n",
              "            color:  #000000;\n",
              "            max-width:  80px;\n",
              "            font-size:  10pt;\n",
              "        }    #T_a0b3b9f8_c45c_11ea_8b21_0242ac1c0002row10_col2 {\n",
              "            background-color:  #de5e77;\n",
              "            color:  #000000;\n",
              "            max-width:  80px;\n",
              "            font-size:  10pt;\n",
              "        }    #T_a0b3b9f8_c45c_11ea_8b21_0242ac1c0002row10_col3 {\n",
              "            background-color:  #e890a1;\n",
              "            color:  #000000;\n",
              "            max-width:  80px;\n",
              "            font-size:  10pt;\n",
              "        }    #T_a0b3b9f8_c45c_11ea_8b21_0242ac1c0002row10_col4 {\n",
              "            background-color:  #d8415f;\n",
              "            color:  #f1f1f1;\n",
              "            max-width:  80px;\n",
              "            font-size:  10pt;\n",
              "        }    #T_a0b3b9f8_c45c_11ea_8b21_0242ac1c0002row10_col5 {\n",
              "            background-color:  #db4d69;\n",
              "            color:  #000000;\n",
              "            max-width:  80px;\n",
              "            font-size:  10pt;\n",
              "        }    #T_a0b3b9f8_c45c_11ea_8b21_0242ac1c0002row10_col6 {\n",
              "            background-color:  #d94261;\n",
              "            color:  #f1f1f1;\n",
              "            max-width:  80px;\n",
              "            font-size:  10pt;\n",
              "        }    #T_a0b3b9f8_c45c_11ea_8b21_0242ac1c0002row10_col7 {\n",
              "            background-color:  #6691c7;\n",
              "            color:  #000000;\n",
              "            max-width:  80px;\n",
              "            font-size:  10pt;\n",
              "        }    #T_a0b3b9f8_c45c_11ea_8b21_0242ac1c0002row10_col8 {\n",
              "            background-color:  #6a94c9;\n",
              "            color:  #000000;\n",
              "            max-width:  80px;\n",
              "            font-size:  10pt;\n",
              "        }    #T_a0b3b9f8_c45c_11ea_8b21_0242ac1c0002row10_col9 {\n",
              "            background-color:  #6b95c9;\n",
              "            color:  #000000;\n",
              "            max-width:  80px;\n",
              "            font-size:  10pt;\n",
              "        }    #T_a0b3b9f8_c45c_11ea_8b21_0242ac1c0002row10_col10 {\n",
              "            background-color:  #4479bb;\n",
              "            color:  #000000;\n",
              "            max-width:  80px;\n",
              "            font-size:  10pt;\n",
              "        }    #T_a0b3b9f8_c45c_11ea_8b21_0242ac1c0002row10_col11 {\n",
              "            background-color:  #86a8d3;\n",
              "            color:  #000000;\n",
              "            max-width:  80px;\n",
              "            font-size:  10pt;\n",
              "        }    #T_a0b3b9f8_c45c_11ea_8b21_0242ac1c0002row10_col12 {\n",
              "            background-color:  #d94563;\n",
              "            color:  #f1f1f1;\n",
              "            max-width:  80px;\n",
              "            font-size:  10pt;\n",
              "        }    #T_a0b3b9f8_c45c_11ea_8b21_0242ac1c0002row11_col0 {\n",
              "            background-color:  #d73c5b;\n",
              "            color:  #f1f1f1;\n",
              "            max-width:  80px;\n",
              "            font-size:  10pt;\n",
              "        }    #T_a0b3b9f8_c45c_11ea_8b21_0242ac1c0002row11_col1 {\n",
              "            background-color:  #dc526e;\n",
              "            color:  #000000;\n",
              "            max-width:  80px;\n",
              "            font-size:  10pt;\n",
              "        }    #T_a0b3b9f8_c45c_11ea_8b21_0242ac1c0002row11_col2 {\n",
              "            background-color:  #e16981;\n",
              "            color:  #000000;\n",
              "            max-width:  80px;\n",
              "            font-size:  10pt;\n",
              "        }    #T_a0b3b9f8_c45c_11ea_8b21_0242ac1c0002row11_col3 {\n",
              "            background-color:  #ea96a7;\n",
              "            color:  #000000;\n",
              "            max-width:  80px;\n",
              "            font-size:  10pt;\n",
              "        }    #T_a0b3b9f8_c45c_11ea_8b21_0242ac1c0002row11_col4 {\n",
              "            background-color:  #db4d69;\n",
              "            color:  #000000;\n",
              "            max-width:  80px;\n",
              "            font-size:  10pt;\n",
              "        }    #T_a0b3b9f8_c45c_11ea_8b21_0242ac1c0002row11_col5 {\n",
              "            background-color:  #dc516d;\n",
              "            color:  #000000;\n",
              "            max-width:  80px;\n",
              "            font-size:  10pt;\n",
              "        }    #T_a0b3b9f8_c45c_11ea_8b21_0242ac1c0002row11_col6 {\n",
              "            background-color:  #db4e6a;\n",
              "            color:  #000000;\n",
              "            max-width:  80px;\n",
              "            font-size:  10pt;\n",
              "        }    #T_a0b3b9f8_c45c_11ea_8b21_0242ac1c0002row11_col7 {\n",
              "            background-color:  #5787c2;\n",
              "            color:  #000000;\n",
              "            max-width:  80px;\n",
              "            font-size:  10pt;\n",
              "        }    #T_a0b3b9f8_c45c_11ea_8b21_0242ac1c0002row11_col8 {\n",
              "            background-color:  #5887c2;\n",
              "            color:  #000000;\n",
              "            max-width:  80px;\n",
              "            font-size:  10pt;\n",
              "        }    #T_a0b3b9f8_c45c_11ea_8b21_0242ac1c0002row11_col9 {\n",
              "            background-color:  #5686c1;\n",
              "            color:  #000000;\n",
              "            max-width:  80px;\n",
              "            font-size:  10pt;\n",
              "        }    #T_a0b3b9f8_c45c_11ea_8b21_0242ac1c0002row11_col10 {\n",
              "            background-color:  #85a7d2;\n",
              "            color:  #000000;\n",
              "            max-width:  80px;\n",
              "            font-size:  10pt;\n",
              "        }    #T_a0b3b9f8_c45c_11ea_8b21_0242ac1c0002row11_col11 {\n",
              "            background-color:  #4479bb;\n",
              "            color:  #000000;\n",
              "            max-width:  80px;\n",
              "            font-size:  10pt;\n",
              "        }    #T_a0b3b9f8_c45c_11ea_8b21_0242ac1c0002row11_col12 {\n",
              "            background-color:  #db4d69;\n",
              "            color:  #000000;\n",
              "            max-width:  80px;\n",
              "            font-size:  10pt;\n",
              "        }    #T_a0b3b9f8_c45c_11ea_8b21_0242ac1c0002row12_col0 {\n",
              "            background-color:  #d94462;\n",
              "            color:  #f1f1f1;\n",
              "            max-width:  80px;\n",
              "            font-size:  10pt;\n",
              "        }    #T_a0b3b9f8_c45c_11ea_8b21_0242ac1c0002row12_col1 {\n",
              "            background-color:  #d8415f;\n",
              "            color:  #f1f1f1;\n",
              "            max-width:  80px;\n",
              "            font-size:  10pt;\n",
              "        }    #T_a0b3b9f8_c45c_11ea_8b21_0242ac1c0002row12_col2 {\n",
              "            background-color:  #d8415f;\n",
              "            color:  #f1f1f1;\n",
              "            max-width:  80px;\n",
              "            font-size:  10pt;\n",
              "        }    #T_a0b3b9f8_c45c_11ea_8b21_0242ac1c0002row12_col3 {\n",
              "            background-color:  #d8415f;\n",
              "            color:  #f1f1f1;\n",
              "            max-width:  80px;\n",
              "            font-size:  10pt;\n",
              "        }    #T_a0b3b9f8_c45c_11ea_8b21_0242ac1c0002row12_col4 {\n",
              "            background-color:  #d94261;\n",
              "            color:  #f1f1f1;\n",
              "            max-width:  80px;\n",
              "            font-size:  10pt;\n",
              "        }    #T_a0b3b9f8_c45c_11ea_8b21_0242ac1c0002row12_col5 {\n",
              "            background-color:  #d94261;\n",
              "            color:  #f1f1f1;\n",
              "            max-width:  80px;\n",
              "            font-size:  10pt;\n",
              "        }    #T_a0b3b9f8_c45c_11ea_8b21_0242ac1c0002row12_col6 {\n",
              "            background-color:  #d8415f;\n",
              "            color:  #f1f1f1;\n",
              "            max-width:  80px;\n",
              "            font-size:  10pt;\n",
              "        }    #T_a0b3b9f8_c45c_11ea_8b21_0242ac1c0002row12_col7 {\n",
              "            background-color:  #d73d5c;\n",
              "            color:  #f1f1f1;\n",
              "            max-width:  80px;\n",
              "            font-size:  10pt;\n",
              "        }    #T_a0b3b9f8_c45c_11ea_8b21_0242ac1c0002row12_col8 {\n",
              "            background-color:  #d73d5c;\n",
              "            color:  #f1f1f1;\n",
              "            max-width:  80px;\n",
              "            font-size:  10pt;\n",
              "        }    #T_a0b3b9f8_c45c_11ea_8b21_0242ac1c0002row12_col9 {\n",
              "            background-color:  #da4865;\n",
              "            color:  #000000;\n",
              "            max-width:  80px;\n",
              "            font-size:  10pt;\n",
              "        }    #T_a0b3b9f8_c45c_11ea_8b21_0242ac1c0002row12_col10 {\n",
              "            background-color:  #d73c5b;\n",
              "            color:  #f1f1f1;\n",
              "            max-width:  80px;\n",
              "            font-size:  10pt;\n",
              "        }    #T_a0b3b9f8_c45c_11ea_8b21_0242ac1c0002row12_col11 {\n",
              "            background-color:  #d83e5d;\n",
              "            color:  #f1f1f1;\n",
              "            max-width:  80px;\n",
              "            font-size:  10pt;\n",
              "        }    #T_a0b3b9f8_c45c_11ea_8b21_0242ac1c0002row12_col12 {\n",
              "            background-color:  #4479bb;\n",
              "            color:  #000000;\n",
              "            max-width:  80px;\n",
              "            font-size:  10pt;\n",
              "        }</style><table id=\"T_a0b3b9f8_c45c_11ea_8b21_0242ac1c0002\" ><caption>Hover to magify</caption><thead>    <tr>        <th class=\"blank level0\" ></th>        <th class=\"col_heading level0 col0\" >condition</th>        <th class=\"col_heading level0 col1\" >easeofuse</th>        <th class=\"col_heading level0 col2\" >effectiveness</th>        <th class=\"col_heading level0 col3\" >usefulcount</th>        <th class=\"col_heading level0 col4\" >satisfaction</th>        <th class=\"col_heading level0 col5\" >uniqueid</th>        <th class=\"col_heading level0 col6\" >lstm_score</th>        <th class=\"col_heading level0 col7\" >count_word</th>        <th class=\"col_heading level0 col8\" >count_unique_word</th>        <th class=\"col_heading level0 col9\" >count_letters</th>        <th class=\"col_heading level0 col10\" >count_punctuations</th>        <th class=\"col_heading level0 col11\" >count_stopwords</th>        <th class=\"col_heading level0 col12\" >mean_word_len</th>    </tr></thead><tbody>\n",
              "                <tr>\n",
              "                        <th id=\"T_a0b3b9f8_c45c_11ea_8b21_0242ac1c0002level0_row0\" class=\"row_heading level0 row0\" >condition</th>\n",
              "                        <td id=\"T_a0b3b9f8_c45c_11ea_8b21_0242ac1c0002row0_col0\" class=\"data row0 col0\" >1.00</td>\n",
              "                        <td id=\"T_a0b3b9f8_c45c_11ea_8b21_0242ac1c0002row0_col1\" class=\"data row0 col1\" >-0.02</td>\n",
              "                        <td id=\"T_a0b3b9f8_c45c_11ea_8b21_0242ac1c0002row0_col2\" class=\"data row0 col2\" >-0.04</td>\n",
              "                        <td id=\"T_a0b3b9f8_c45c_11ea_8b21_0242ac1c0002row0_col3\" class=\"data row0 col3\" >-0.01</td>\n",
              "                        <td id=\"T_a0b3b9f8_c45c_11ea_8b21_0242ac1c0002row0_col4\" class=\"data row0 col4\" >0.03</td>\n",
              "                        <td id=\"T_a0b3b9f8_c45c_11ea_8b21_0242ac1c0002row0_col5\" class=\"data row0 col5\" >-0.00</td>\n",
              "                        <td id=\"T_a0b3b9f8_c45c_11ea_8b21_0242ac1c0002row0_col6\" class=\"data row0 col6\" >0.03</td>\n",
              "                        <td id=\"T_a0b3b9f8_c45c_11ea_8b21_0242ac1c0002row0_col7\" class=\"data row0 col7\" >-0.06</td>\n",
              "                        <td id=\"T_a0b3b9f8_c45c_11ea_8b21_0242ac1c0002row0_col8\" class=\"data row0 col8\" >-0.06</td>\n",
              "                        <td id=\"T_a0b3b9f8_c45c_11ea_8b21_0242ac1c0002row0_col9\" class=\"data row0 col9\" >-0.05</td>\n",
              "                        <td id=\"T_a0b3b9f8_c45c_11ea_8b21_0242ac1c0002row0_col10\" class=\"data row0 col10\" >-0.05</td>\n",
              "                        <td id=\"T_a0b3b9f8_c45c_11ea_8b21_0242ac1c0002row0_col11\" class=\"data row0 col11\" >-0.06</td>\n",
              "                        <td id=\"T_a0b3b9f8_c45c_11ea_8b21_0242ac1c0002row0_col12\" class=\"data row0 col12\" >0.00</td>\n",
              "            </tr>\n",
              "            <tr>\n",
              "                        <th id=\"T_a0b3b9f8_c45c_11ea_8b21_0242ac1c0002level0_row1\" class=\"row_heading level0 row1\" >easeofuse</th>\n",
              "                        <td id=\"T_a0b3b9f8_c45c_11ea_8b21_0242ac1c0002row1_col0\" class=\"data row1 col0\" >-0.02</td>\n",
              "                        <td id=\"T_a0b3b9f8_c45c_11ea_8b21_0242ac1c0002row1_col1\" class=\"data row1 col1\" >1.00</td>\n",
              "                        <td id=\"T_a0b3b9f8_c45c_11ea_8b21_0242ac1c0002row1_col2\" class=\"data row1 col2\" >0.48</td>\n",
              "                        <td id=\"T_a0b3b9f8_c45c_11ea_8b21_0242ac1c0002row1_col3\" class=\"data row1 col3\" >0.04</td>\n",
              "                        <td id=\"T_a0b3b9f8_c45c_11ea_8b21_0242ac1c0002row1_col4\" class=\"data row1 col4\" >0.50</td>\n",
              "                        <td id=\"T_a0b3b9f8_c45c_11ea_8b21_0242ac1c0002row1_col5\" class=\"data row1 col5\" >-0.00</td>\n",
              "                        <td id=\"T_a0b3b9f8_c45c_11ea_8b21_0242ac1c0002row1_col6\" class=\"data row1 col6\" >0.36</td>\n",
              "                        <td id=\"T_a0b3b9f8_c45c_11ea_8b21_0242ac1c0002row1_col7\" class=\"data row1 col7\" >-0.01</td>\n",
              "                        <td id=\"T_a0b3b9f8_c45c_11ea_8b21_0242ac1c0002row1_col8\" class=\"data row1 col8\" >-0.01</td>\n",
              "                        <td id=\"T_a0b3b9f8_c45c_11ea_8b21_0242ac1c0002row1_col9\" class=\"data row1 col9\" >-0.01</td>\n",
              "                        <td id=\"T_a0b3b9f8_c45c_11ea_8b21_0242ac1c0002row1_col10\" class=\"data row1 col10\" >-0.01</td>\n",
              "                        <td id=\"T_a0b3b9f8_c45c_11ea_8b21_0242ac1c0002row1_col11\" class=\"data row1 col11\" >0.00</td>\n",
              "                        <td id=\"T_a0b3b9f8_c45c_11ea_8b21_0242ac1c0002row1_col12\" class=\"data row1 col12\" >-0.00</td>\n",
              "            </tr>\n",
              "            <tr>\n",
              "                        <th id=\"T_a0b3b9f8_c45c_11ea_8b21_0242ac1c0002level0_row2\" class=\"row_heading level0 row2\" >effectiveness</th>\n",
              "                        <td id=\"T_a0b3b9f8_c45c_11ea_8b21_0242ac1c0002row2_col0\" class=\"data row2 col0\" >-0.04</td>\n",
              "                        <td id=\"T_a0b3b9f8_c45c_11ea_8b21_0242ac1c0002row2_col1\" class=\"data row2 col1\" >0.48</td>\n",
              "                        <td id=\"T_a0b3b9f8_c45c_11ea_8b21_0242ac1c0002row2_col2\" class=\"data row2 col2\" >1.00</td>\n",
              "                        <td id=\"T_a0b3b9f8_c45c_11ea_8b21_0242ac1c0002row2_col3\" class=\"data row2 col3\" >0.06</td>\n",
              "                        <td id=\"T_a0b3b9f8_c45c_11ea_8b21_0242ac1c0002row2_col4\" class=\"data row2 col4\" >0.73</td>\n",
              "                        <td id=\"T_a0b3b9f8_c45c_11ea_8b21_0242ac1c0002row2_col5\" class=\"data row2 col5\" >-0.00</td>\n",
              "                        <td id=\"T_a0b3b9f8_c45c_11ea_8b21_0242ac1c0002row2_col6\" class=\"data row2 col6\" >0.49</td>\n",
              "                        <td id=\"T_a0b3b9f8_c45c_11ea_8b21_0242ac1c0002row2_col7\" class=\"data row2 col7\" >0.06</td>\n",
              "                        <td id=\"T_a0b3b9f8_c45c_11ea_8b21_0242ac1c0002row2_col8\" class=\"data row2 col8\" >0.07</td>\n",
              "                        <td id=\"T_a0b3b9f8_c45c_11ea_8b21_0242ac1c0002row2_col9\" class=\"data row2 col9\" >0.06</td>\n",
              "                        <td id=\"T_a0b3b9f8_c45c_11ea_8b21_0242ac1c0002row2_col10\" class=\"data row2 col10\" >0.05</td>\n",
              "                        <td id=\"T_a0b3b9f8_c45c_11ea_8b21_0242ac1c0002row2_col11\" class=\"data row2 col11\" >0.07</td>\n",
              "                        <td id=\"T_a0b3b9f8_c45c_11ea_8b21_0242ac1c0002row2_col12\" class=\"data row2 col12\" >-0.00</td>\n",
              "            </tr>\n",
              "            <tr>\n",
              "                        <th id=\"T_a0b3b9f8_c45c_11ea_8b21_0242ac1c0002level0_row3\" class=\"row_heading level0 row3\" >usefulcount</th>\n",
              "                        <td id=\"T_a0b3b9f8_c45c_11ea_8b21_0242ac1c0002row3_col0\" class=\"data row3 col0\" >-0.01</td>\n",
              "                        <td id=\"T_a0b3b9f8_c45c_11ea_8b21_0242ac1c0002row3_col1\" class=\"data row3 col1\" >0.04</td>\n",
              "                        <td id=\"T_a0b3b9f8_c45c_11ea_8b21_0242ac1c0002row3_col2\" class=\"data row3 col2\" >0.06</td>\n",
              "                        <td id=\"T_a0b3b9f8_c45c_11ea_8b21_0242ac1c0002row3_col3\" class=\"data row3 col3\" >1.00</td>\n",
              "                        <td id=\"T_a0b3b9f8_c45c_11ea_8b21_0242ac1c0002row3_col4\" class=\"data row3 col4\" >0.05</td>\n",
              "                        <td id=\"T_a0b3b9f8_c45c_11ea_8b21_0242ac1c0002row3_col5\" class=\"data row3 col5\" >0.00</td>\n",
              "                        <td id=\"T_a0b3b9f8_c45c_11ea_8b21_0242ac1c0002row3_col6\" class=\"data row3 col6\" >0.03</td>\n",
              "                        <td id=\"T_a0b3b9f8_c45c_11ea_8b21_0242ac1c0002row3_col7\" class=\"data row3 col7\" >0.21</td>\n",
              "                        <td id=\"T_a0b3b9f8_c45c_11ea_8b21_0242ac1c0002row3_col8\" class=\"data row3 col8\" >0.22</td>\n",
              "                        <td id=\"T_a0b3b9f8_c45c_11ea_8b21_0242ac1c0002row3_col9\" class=\"data row3 col9\" >0.22</td>\n",
              "                        <td id=\"T_a0b3b9f8_c45c_11ea_8b21_0242ac1c0002row3_col10\" class=\"data row3 col10\" >0.20</td>\n",
              "                        <td id=\"T_a0b3b9f8_c45c_11ea_8b21_0242ac1c0002row3_col11\" class=\"data row3 col11\" >0.20</td>\n",
              "                        <td id=\"T_a0b3b9f8_c45c_11ea_8b21_0242ac1c0002row3_col12\" class=\"data row3 col12\" >-0.00</td>\n",
              "            </tr>\n",
              "            <tr>\n",
              "                        <th id=\"T_a0b3b9f8_c45c_11ea_8b21_0242ac1c0002level0_row4\" class=\"row_heading level0 row4\" >satisfaction</th>\n",
              "                        <td id=\"T_a0b3b9f8_c45c_11ea_8b21_0242ac1c0002row4_col0\" class=\"data row4 col0\" >0.03</td>\n",
              "                        <td id=\"T_a0b3b9f8_c45c_11ea_8b21_0242ac1c0002row4_col1\" class=\"data row4 col1\" >0.50</td>\n",
              "                        <td id=\"T_a0b3b9f8_c45c_11ea_8b21_0242ac1c0002row4_col2\" class=\"data row4 col2\" >0.73</td>\n",
              "                        <td id=\"T_a0b3b9f8_c45c_11ea_8b21_0242ac1c0002row4_col3\" class=\"data row4 col3\" >0.05</td>\n",
              "                        <td id=\"T_a0b3b9f8_c45c_11ea_8b21_0242ac1c0002row4_col4\" class=\"data row4 col4\" >1.00</td>\n",
              "                        <td id=\"T_a0b3b9f8_c45c_11ea_8b21_0242ac1c0002row4_col5\" class=\"data row4 col5\" >-0.00</td>\n",
              "                        <td id=\"T_a0b3b9f8_c45c_11ea_8b21_0242ac1c0002row4_col6\" class=\"data row4 col6\" >0.66</td>\n",
              "                        <td id=\"T_a0b3b9f8_c45c_11ea_8b21_0242ac1c0002row4_col7\" class=\"data row4 col7\" >-0.03</td>\n",
              "                        <td id=\"T_a0b3b9f8_c45c_11ea_8b21_0242ac1c0002row4_col8\" class=\"data row4 col8\" >-0.03</td>\n",
              "                        <td id=\"T_a0b3b9f8_c45c_11ea_8b21_0242ac1c0002row4_col9\" class=\"data row4 col9\" >-0.03</td>\n",
              "                        <td id=\"T_a0b3b9f8_c45c_11ea_8b21_0242ac1c0002row4_col10\" class=\"data row4 col10\" >-0.03</td>\n",
              "                        <td id=\"T_a0b3b9f8_c45c_11ea_8b21_0242ac1c0002row4_col11\" class=\"data row4 col11\" >-0.01</td>\n",
              "                        <td id=\"T_a0b3b9f8_c45c_11ea_8b21_0242ac1c0002row4_col12\" class=\"data row4 col12\" >0.00</td>\n",
              "            </tr>\n",
              "            <tr>\n",
              "                        <th id=\"T_a0b3b9f8_c45c_11ea_8b21_0242ac1c0002level0_row5\" class=\"row_heading level0 row5\" >uniqueid</th>\n",
              "                        <td id=\"T_a0b3b9f8_c45c_11ea_8b21_0242ac1c0002row5_col0\" class=\"data row5 col0\" >-0.00</td>\n",
              "                        <td id=\"T_a0b3b9f8_c45c_11ea_8b21_0242ac1c0002row5_col1\" class=\"data row5 col1\" >-0.00</td>\n",
              "                        <td id=\"T_a0b3b9f8_c45c_11ea_8b21_0242ac1c0002row5_col2\" class=\"data row5 col2\" >-0.00</td>\n",
              "                        <td id=\"T_a0b3b9f8_c45c_11ea_8b21_0242ac1c0002row5_col3\" class=\"data row5 col3\" >0.00</td>\n",
              "                        <td id=\"T_a0b3b9f8_c45c_11ea_8b21_0242ac1c0002row5_col4\" class=\"data row5 col4\" >-0.00</td>\n",
              "                        <td id=\"T_a0b3b9f8_c45c_11ea_8b21_0242ac1c0002row5_col5\" class=\"data row5 col5\" >1.00</td>\n",
              "                        <td id=\"T_a0b3b9f8_c45c_11ea_8b21_0242ac1c0002row5_col6\" class=\"data row5 col6\" >0.01</td>\n",
              "                        <td id=\"T_a0b3b9f8_c45c_11ea_8b21_0242ac1c0002row5_col7\" class=\"data row5 col7\" >0.00</td>\n",
              "                        <td id=\"T_a0b3b9f8_c45c_11ea_8b21_0242ac1c0002row5_col8\" class=\"data row5 col8\" >0.00</td>\n",
              "                        <td id=\"T_a0b3b9f8_c45c_11ea_8b21_0242ac1c0002row5_col9\" class=\"data row5 col9\" >0.00</td>\n",
              "                        <td id=\"T_a0b3b9f8_c45c_11ea_8b21_0242ac1c0002row5_col10\" class=\"data row5 col10\" >0.00</td>\n",
              "                        <td id=\"T_a0b3b9f8_c45c_11ea_8b21_0242ac1c0002row5_col11\" class=\"data row5 col11\" >0.00</td>\n",
              "                        <td id=\"T_a0b3b9f8_c45c_11ea_8b21_0242ac1c0002row5_col12\" class=\"data row5 col12\" >0.00</td>\n",
              "            </tr>\n",
              "            <tr>\n",
              "                        <th id=\"T_a0b3b9f8_c45c_11ea_8b21_0242ac1c0002level0_row6\" class=\"row_heading level0 row6\" >lstm_score</th>\n",
              "                        <td id=\"T_a0b3b9f8_c45c_11ea_8b21_0242ac1c0002row6_col0\" class=\"data row6 col0\" >0.03</td>\n",
              "                        <td id=\"T_a0b3b9f8_c45c_11ea_8b21_0242ac1c0002row6_col1\" class=\"data row6 col1\" >0.36</td>\n",
              "                        <td id=\"T_a0b3b9f8_c45c_11ea_8b21_0242ac1c0002row6_col2\" class=\"data row6 col2\" >0.49</td>\n",
              "                        <td id=\"T_a0b3b9f8_c45c_11ea_8b21_0242ac1c0002row6_col3\" class=\"data row6 col3\" >0.03</td>\n",
              "                        <td id=\"T_a0b3b9f8_c45c_11ea_8b21_0242ac1c0002row6_col4\" class=\"data row6 col4\" >0.66</td>\n",
              "                        <td id=\"T_a0b3b9f8_c45c_11ea_8b21_0242ac1c0002row6_col5\" class=\"data row6 col5\" >0.01</td>\n",
              "                        <td id=\"T_a0b3b9f8_c45c_11ea_8b21_0242ac1c0002row6_col6\" class=\"data row6 col6\" >1.00</td>\n",
              "                        <td id=\"T_a0b3b9f8_c45c_11ea_8b21_0242ac1c0002row6_col7\" class=\"data row6 col7\" >-0.02</td>\n",
              "                        <td id=\"T_a0b3b9f8_c45c_11ea_8b21_0242ac1c0002row6_col8\" class=\"data row6 col8\" >-0.03</td>\n",
              "                        <td id=\"T_a0b3b9f8_c45c_11ea_8b21_0242ac1c0002row6_col9\" class=\"data row6 col9\" >-0.03</td>\n",
              "                        <td id=\"T_a0b3b9f8_c45c_11ea_8b21_0242ac1c0002row6_col10\" class=\"data row6 col10\" >-0.03</td>\n",
              "                        <td id=\"T_a0b3b9f8_c45c_11ea_8b21_0242ac1c0002row6_col11\" class=\"data row6 col11\" >-0.01</td>\n",
              "                        <td id=\"T_a0b3b9f8_c45c_11ea_8b21_0242ac1c0002row6_col12\" class=\"data row6 col12\" >-0.00</td>\n",
              "            </tr>\n",
              "            <tr>\n",
              "                        <th id=\"T_a0b3b9f8_c45c_11ea_8b21_0242ac1c0002level0_row7\" class=\"row_heading level0 row7\" >count_word</th>\n",
              "                        <td id=\"T_a0b3b9f8_c45c_11ea_8b21_0242ac1c0002row7_col0\" class=\"data row7 col0\" >-0.06</td>\n",
              "                        <td id=\"T_a0b3b9f8_c45c_11ea_8b21_0242ac1c0002row7_col1\" class=\"data row7 col1\" >-0.01</td>\n",
              "                        <td id=\"T_a0b3b9f8_c45c_11ea_8b21_0242ac1c0002row7_col2\" class=\"data row7 col2\" >0.06</td>\n",
              "                        <td id=\"T_a0b3b9f8_c45c_11ea_8b21_0242ac1c0002row7_col3\" class=\"data row7 col3\" >0.21</td>\n",
              "                        <td id=\"T_a0b3b9f8_c45c_11ea_8b21_0242ac1c0002row7_col4\" class=\"data row7 col4\" >-0.03</td>\n",
              "                        <td id=\"T_a0b3b9f8_c45c_11ea_8b21_0242ac1c0002row7_col5\" class=\"data row7 col5\" >0.00</td>\n",
              "                        <td id=\"T_a0b3b9f8_c45c_11ea_8b21_0242ac1c0002row7_col6\" class=\"data row7 col6\" >-0.02</td>\n",
              "                        <td id=\"T_a0b3b9f8_c45c_11ea_8b21_0242ac1c0002row7_col7\" class=\"data row7 col7\" >1.00</td>\n",
              "                        <td id=\"T_a0b3b9f8_c45c_11ea_8b21_0242ac1c0002row7_col8\" class=\"data row7 col8\" >0.99</td>\n",
              "                        <td id=\"T_a0b3b9f8_c45c_11ea_8b21_0242ac1c0002row7_col9\" class=\"data row7 col9\" >0.99</td>\n",
              "                        <td id=\"T_a0b3b9f8_c45c_11ea_8b21_0242ac1c0002row7_col10\" class=\"data row7 col10\" >0.90</td>\n",
              "                        <td id=\"T_a0b3b9f8_c45c_11ea_8b21_0242ac1c0002row7_col11\" class=\"data row7 col11\" >0.94</td>\n",
              "                        <td id=\"T_a0b3b9f8_c45c_11ea_8b21_0242ac1c0002row7_col12\" class=\"data row7 col12\" >-0.02</td>\n",
              "            </tr>\n",
              "            <tr>\n",
              "                        <th id=\"T_a0b3b9f8_c45c_11ea_8b21_0242ac1c0002level0_row8\" class=\"row_heading level0 row8\" >count_unique_word</th>\n",
              "                        <td id=\"T_a0b3b9f8_c45c_11ea_8b21_0242ac1c0002row8_col0\" class=\"data row8 col0\" >-0.06</td>\n",
              "                        <td id=\"T_a0b3b9f8_c45c_11ea_8b21_0242ac1c0002row8_col1\" class=\"data row8 col1\" >-0.01</td>\n",
              "                        <td id=\"T_a0b3b9f8_c45c_11ea_8b21_0242ac1c0002row8_col2\" class=\"data row8 col2\" >0.07</td>\n",
              "                        <td id=\"T_a0b3b9f8_c45c_11ea_8b21_0242ac1c0002row8_col3\" class=\"data row8 col3\" >0.22</td>\n",
              "                        <td id=\"T_a0b3b9f8_c45c_11ea_8b21_0242ac1c0002row8_col4\" class=\"data row8 col4\" >-0.03</td>\n",
              "                        <td id=\"T_a0b3b9f8_c45c_11ea_8b21_0242ac1c0002row8_col5\" class=\"data row8 col5\" >0.00</td>\n",
              "                        <td id=\"T_a0b3b9f8_c45c_11ea_8b21_0242ac1c0002row8_col6\" class=\"data row8 col6\" >-0.03</td>\n",
              "                        <td id=\"T_a0b3b9f8_c45c_11ea_8b21_0242ac1c0002row8_col7\" class=\"data row8 col7\" >0.99</td>\n",
              "                        <td id=\"T_a0b3b9f8_c45c_11ea_8b21_0242ac1c0002row8_col8\" class=\"data row8 col8\" >1.00</td>\n",
              "                        <td id=\"T_a0b3b9f8_c45c_11ea_8b21_0242ac1c0002row8_col9\" class=\"data row8 col9\" >0.99</td>\n",
              "                        <td id=\"T_a0b3b9f8_c45c_11ea_8b21_0242ac1c0002row8_col10\" class=\"data row8 col10\" >0.88</td>\n",
              "                        <td id=\"T_a0b3b9f8_c45c_11ea_8b21_0242ac1c0002row8_col11\" class=\"data row8 col11\" >0.94</td>\n",
              "                        <td id=\"T_a0b3b9f8_c45c_11ea_8b21_0242ac1c0002row8_col12\" class=\"data row8 col12\" >-0.02</td>\n",
              "            </tr>\n",
              "            <tr>\n",
              "                        <th id=\"T_a0b3b9f8_c45c_11ea_8b21_0242ac1c0002level0_row9\" class=\"row_heading level0 row9\" >count_letters</th>\n",
              "                        <td id=\"T_a0b3b9f8_c45c_11ea_8b21_0242ac1c0002row9_col0\" class=\"data row9 col0\" >-0.05</td>\n",
              "                        <td id=\"T_a0b3b9f8_c45c_11ea_8b21_0242ac1c0002row9_col1\" class=\"data row9 col1\" >-0.01</td>\n",
              "                        <td id=\"T_a0b3b9f8_c45c_11ea_8b21_0242ac1c0002row9_col2\" class=\"data row9 col2\" >0.06</td>\n",
              "                        <td id=\"T_a0b3b9f8_c45c_11ea_8b21_0242ac1c0002row9_col3\" class=\"data row9 col3\" >0.22</td>\n",
              "                        <td id=\"T_a0b3b9f8_c45c_11ea_8b21_0242ac1c0002row9_col4\" class=\"data row9 col4\" >-0.03</td>\n",
              "                        <td id=\"T_a0b3b9f8_c45c_11ea_8b21_0242ac1c0002row9_col5\" class=\"data row9 col5\" >0.00</td>\n",
              "                        <td id=\"T_a0b3b9f8_c45c_11ea_8b21_0242ac1c0002row9_col6\" class=\"data row9 col6\" >-0.03</td>\n",
              "                        <td id=\"T_a0b3b9f8_c45c_11ea_8b21_0242ac1c0002row9_col7\" class=\"data row9 col7\" >0.99</td>\n",
              "                        <td id=\"T_a0b3b9f8_c45c_11ea_8b21_0242ac1c0002row9_col8\" class=\"data row9 col8\" >0.99</td>\n",
              "                        <td id=\"T_a0b3b9f8_c45c_11ea_8b21_0242ac1c0002row9_col9\" class=\"data row9 col9\" >1.00</td>\n",
              "                        <td id=\"T_a0b3b9f8_c45c_11ea_8b21_0242ac1c0002row9_col10\" class=\"data row9 col10\" >0.88</td>\n",
              "                        <td id=\"T_a0b3b9f8_c45c_11ea_8b21_0242ac1c0002row9_col11\" class=\"data row9 col11\" >0.94</td>\n",
              "                        <td id=\"T_a0b3b9f8_c45c_11ea_8b21_0242ac1c0002row9_col12\" class=\"data row9 col12\" >0.02</td>\n",
              "            </tr>\n",
              "            <tr>\n",
              "                        <th id=\"T_a0b3b9f8_c45c_11ea_8b21_0242ac1c0002level0_row10\" class=\"row_heading level0 row10\" >count_punctuations</th>\n",
              "                        <td id=\"T_a0b3b9f8_c45c_11ea_8b21_0242ac1c0002row10_col0\" class=\"data row10 col0\" >-0.05</td>\n",
              "                        <td id=\"T_a0b3b9f8_c45c_11ea_8b21_0242ac1c0002row10_col1\" class=\"data row10 col1\" >-0.01</td>\n",
              "                        <td id=\"T_a0b3b9f8_c45c_11ea_8b21_0242ac1c0002row10_col2\" class=\"data row10 col2\" >0.05</td>\n",
              "                        <td id=\"T_a0b3b9f8_c45c_11ea_8b21_0242ac1c0002row10_col3\" class=\"data row10 col3\" >0.20</td>\n",
              "                        <td id=\"T_a0b3b9f8_c45c_11ea_8b21_0242ac1c0002row10_col4\" class=\"data row10 col4\" >-0.03</td>\n",
              "                        <td id=\"T_a0b3b9f8_c45c_11ea_8b21_0242ac1c0002row10_col5\" class=\"data row10 col5\" >0.00</td>\n",
              "                        <td id=\"T_a0b3b9f8_c45c_11ea_8b21_0242ac1c0002row10_col6\" class=\"data row10 col6\" >-0.03</td>\n",
              "                        <td id=\"T_a0b3b9f8_c45c_11ea_8b21_0242ac1c0002row10_col7\" class=\"data row10 col7\" >0.90</td>\n",
              "                        <td id=\"T_a0b3b9f8_c45c_11ea_8b21_0242ac1c0002row10_col8\" class=\"data row10 col8\" >0.88</td>\n",
              "                        <td id=\"T_a0b3b9f8_c45c_11ea_8b21_0242ac1c0002row10_col9\" class=\"data row10 col9\" >0.88</td>\n",
              "                        <td id=\"T_a0b3b9f8_c45c_11ea_8b21_0242ac1c0002row10_col10\" class=\"data row10 col10\" >1.00</td>\n",
              "                        <td id=\"T_a0b3b9f8_c45c_11ea_8b21_0242ac1c0002row10_col11\" class=\"data row10 col11\" >0.80</td>\n",
              "                        <td id=\"T_a0b3b9f8_c45c_11ea_8b21_0242ac1c0002row10_col12\" class=\"data row10 col12\" >-0.02</td>\n",
              "            </tr>\n",
              "            <tr>\n",
              "                        <th id=\"T_a0b3b9f8_c45c_11ea_8b21_0242ac1c0002level0_row11\" class=\"row_heading level0 row11\" >count_stopwords</th>\n",
              "                        <td id=\"T_a0b3b9f8_c45c_11ea_8b21_0242ac1c0002row11_col0\" class=\"data row11 col0\" >-0.06</td>\n",
              "                        <td id=\"T_a0b3b9f8_c45c_11ea_8b21_0242ac1c0002row11_col1\" class=\"data row11 col1\" >0.00</td>\n",
              "                        <td id=\"T_a0b3b9f8_c45c_11ea_8b21_0242ac1c0002row11_col2\" class=\"data row11 col2\" >0.07</td>\n",
              "                        <td id=\"T_a0b3b9f8_c45c_11ea_8b21_0242ac1c0002row11_col3\" class=\"data row11 col3\" >0.20</td>\n",
              "                        <td id=\"T_a0b3b9f8_c45c_11ea_8b21_0242ac1c0002row11_col4\" class=\"data row11 col4\" >-0.01</td>\n",
              "                        <td id=\"T_a0b3b9f8_c45c_11ea_8b21_0242ac1c0002row11_col5\" class=\"data row11 col5\" >0.00</td>\n",
              "                        <td id=\"T_a0b3b9f8_c45c_11ea_8b21_0242ac1c0002row11_col6\" class=\"data row11 col6\" >-0.01</td>\n",
              "                        <td id=\"T_a0b3b9f8_c45c_11ea_8b21_0242ac1c0002row11_col7\" class=\"data row11 col7\" >0.94</td>\n",
              "                        <td id=\"T_a0b3b9f8_c45c_11ea_8b21_0242ac1c0002row11_col8\" class=\"data row11 col8\" >0.94</td>\n",
              "                        <td id=\"T_a0b3b9f8_c45c_11ea_8b21_0242ac1c0002row11_col9\" class=\"data row11 col9\" >0.94</td>\n",
              "                        <td id=\"T_a0b3b9f8_c45c_11ea_8b21_0242ac1c0002row11_col10\" class=\"data row11 col10\" >0.80</td>\n",
              "                        <td id=\"T_a0b3b9f8_c45c_11ea_8b21_0242ac1c0002row11_col11\" class=\"data row11 col11\" >1.00</td>\n",
              "                        <td id=\"T_a0b3b9f8_c45c_11ea_8b21_0242ac1c0002row11_col12\" class=\"data row11 col12\" >-0.01</td>\n",
              "            </tr>\n",
              "            <tr>\n",
              "                        <th id=\"T_a0b3b9f8_c45c_11ea_8b21_0242ac1c0002level0_row12\" class=\"row_heading level0 row12\" >mean_word_len</th>\n",
              "                        <td id=\"T_a0b3b9f8_c45c_11ea_8b21_0242ac1c0002row12_col0\" class=\"data row12 col0\" >0.00</td>\n",
              "                        <td id=\"T_a0b3b9f8_c45c_11ea_8b21_0242ac1c0002row12_col1\" class=\"data row12 col1\" >-0.00</td>\n",
              "                        <td id=\"T_a0b3b9f8_c45c_11ea_8b21_0242ac1c0002row12_col2\" class=\"data row12 col2\" >-0.00</td>\n",
              "                        <td id=\"T_a0b3b9f8_c45c_11ea_8b21_0242ac1c0002row12_col3\" class=\"data row12 col3\" >-0.00</td>\n",
              "                        <td id=\"T_a0b3b9f8_c45c_11ea_8b21_0242ac1c0002row12_col4\" class=\"data row12 col4\" >0.00</td>\n",
              "                        <td id=\"T_a0b3b9f8_c45c_11ea_8b21_0242ac1c0002row12_col5\" class=\"data row12 col5\" >0.00</td>\n",
              "                        <td id=\"T_a0b3b9f8_c45c_11ea_8b21_0242ac1c0002row12_col6\" class=\"data row12 col6\" >-0.00</td>\n",
              "                        <td id=\"T_a0b3b9f8_c45c_11ea_8b21_0242ac1c0002row12_col7\" class=\"data row12 col7\" >-0.02</td>\n",
              "                        <td id=\"T_a0b3b9f8_c45c_11ea_8b21_0242ac1c0002row12_col8\" class=\"data row12 col8\" >-0.02</td>\n",
              "                        <td id=\"T_a0b3b9f8_c45c_11ea_8b21_0242ac1c0002row12_col9\" class=\"data row12 col9\" >0.02</td>\n",
              "                        <td id=\"T_a0b3b9f8_c45c_11ea_8b21_0242ac1c0002row12_col10\" class=\"data row12 col10\" >-0.02</td>\n",
              "                        <td id=\"T_a0b3b9f8_c45c_11ea_8b21_0242ac1c0002row12_col11\" class=\"data row12 col11\" >-0.01</td>\n",
              "                        <td id=\"T_a0b3b9f8_c45c_11ea_8b21_0242ac1c0002row12_col12\" class=\"data row12 col12\" >1.00</td>\n",
              "            </tr>\n",
              "    </tbody></table>"
            ],
            "text/plain": [
              "<pandas.io.formats.style.Styler at 0x7f08610afc50>"
            ]
          },
          "metadata": {
            "tags": []
          },
          "execution_count": 175
        }
      ]
    },
    {
      "cell_type": "code",
      "metadata": {
        "id": "1q0fyCU7UZ_A",
        "colab_type": "code",
        "colab": {}
      },
      "source": [
        "drugs = drugs.dropna(how = 'any', axis = 0)"
      ],
      "execution_count": 177,
      "outputs": []
    },
    {
      "cell_type": "code",
      "metadata": {
        "id": "C7EwRBynUFKG",
        "colab_type": "code",
        "colab": {
          "base_uri": "https://localhost:8080/",
          "height": 354
        },
        "outputId": "3b524842-a7f4-47ee-e3c5-a64fa18ee1fa"
      },
      "source": [
        "drugs.isna().sum()"
      ],
      "execution_count": 178,
      "outputs": [
        {
          "output_type": "execute_result",
          "data": {
            "text/plain": [
              "age                   0\n",
              "condition             0\n",
              "drug                  0\n",
              "drugid                0\n",
              "easeofuse             0\n",
              "effectiveness         0\n",
              "reviews               0\n",
              "usefulcount           0\n",
              "satisfaction          0\n",
              "uniqueid              0\n",
              "reviews_clean         0\n",
              "lstm_score            0\n",
              "count_word            0\n",
              "count_unique_word     0\n",
              "count_letters         0\n",
              "count_punctuations    0\n",
              "count_stopwords       0\n",
              "mean_word_len         0\n",
              "dtype: int64"
            ]
          },
          "metadata": {
            "tags": []
          },
          "execution_count": 178
        }
      ]
    },
    {
      "cell_type": "code",
      "metadata": {
        "id": "5oXLnxKyGrh2",
        "colab_type": "code",
        "colab": {
          "base_uri": "https://localhost:8080/",
          "height": 354
        },
        "outputId": "12ceaac6-851c-479f-845c-6c25844c6a13"
      },
      "source": [
        "drugs.dtypes"
      ],
      "execution_count": 179,
      "outputs": [
        {
          "output_type": "execute_result",
          "data": {
            "text/plain": [
              "age                    object\n",
              "condition               int64\n",
              "drug                   object\n",
              "drugid                 object\n",
              "easeofuse             float64\n",
              "effectiveness         float64\n",
              "reviews                object\n",
              "usefulcount           float64\n",
              "satisfaction            int64\n",
              "uniqueid                int64\n",
              "reviews_clean          object\n",
              "lstm_score              int64\n",
              "count_word              int64\n",
              "count_unique_word       int64\n",
              "count_letters           int64\n",
              "count_punctuations      int64\n",
              "count_stopwords         int64\n",
              "mean_word_len         float64\n",
              "dtype: object"
            ]
          },
          "metadata": {
            "tags": []
          },
          "execution_count": 179
        }
      ]
    },
    {
      "cell_type": "code",
      "metadata": {
        "id": "VFELlO4NPhNq",
        "colab_type": "code",
        "colab": {
          "base_uri": "https://localhost:8080/",
          "height": 181
        },
        "outputId": "60ccc78d-d800-4d3e-eedd-f1d2c535f150"
      },
      "source": [
        "drugs.head(1)"
      ],
      "execution_count": 180,
      "outputs": [
        {
          "output_type": "execute_result",
          "data": {
            "text/html": [
              "<div>\n",
              "<style scoped>\n",
              "    .dataframe tbody tr th:only-of-type {\n",
              "        vertical-align: middle;\n",
              "    }\n",
              "\n",
              "    .dataframe tbody tr th {\n",
              "        vertical-align: top;\n",
              "    }\n",
              "\n",
              "    .dataframe thead th {\n",
              "        text-align: right;\n",
              "    }\n",
              "</style>\n",
              "<table border=\"1\" class=\"dataframe\">\n",
              "  <thead>\n",
              "    <tr style=\"text-align: right;\">\n",
              "      <th></th>\n",
              "      <th>age</th>\n",
              "      <th>condition</th>\n",
              "      <th>drug</th>\n",
              "      <th>drugid</th>\n",
              "      <th>easeofuse</th>\n",
              "      <th>effectiveness</th>\n",
              "      <th>reviews</th>\n",
              "      <th>usefulcount</th>\n",
              "      <th>satisfaction</th>\n",
              "      <th>uniqueid</th>\n",
              "      <th>reviews_clean</th>\n",
              "      <th>lstm_score</th>\n",
              "      <th>count_word</th>\n",
              "      <th>count_unique_word</th>\n",
              "      <th>count_letters</th>\n",
              "      <th>count_punctuations</th>\n",
              "      <th>count_stopwords</th>\n",
              "      <th>mean_word_len</th>\n",
              "    </tr>\n",
              "  </thead>\n",
              "  <tbody>\n",
              "    <tr>\n",
              "      <th>0</th>\n",
              "      <td>25-34</td>\n",
              "      <td>954</td>\n",
              "      <td>yaz</td>\n",
              "      <td>95358</td>\n",
              "      <td>5.0</td>\n",
              "      <td>4.0</td>\n",
              "      <td>well all i can say is that i have not been on ...</td>\n",
              "      <td>3.0</td>\n",
              "      <td>4</td>\n",
              "      <td>0</td>\n",
              "      <td>well say birth control year far i am feel real...</td>\n",
              "      <td>4</td>\n",
              "      <td>50</td>\n",
              "      <td>49</td>\n",
              "      <td>272</td>\n",
              "      <td>15</td>\n",
              "      <td>56</td>\n",
              "      <td>4.46</td>\n",
              "    </tr>\n",
              "  </tbody>\n",
              "</table>\n",
              "</div>"
            ],
            "text/plain": [
              "     age  condition drug  ... count_punctuations  count_stopwords  mean_word_len\n",
              "0  25-34        954  yaz  ...                 15               56           4.46\n",
              "\n",
              "[1 rows x 18 columns]"
            ]
          },
          "metadata": {
            "tags": []
          },
          "execution_count": 180
        }
      ]
    },
    {
      "cell_type": "markdown",
      "metadata": {
        "id": "7MHIYRuQ7PKD",
        "colab_type": "text"
      },
      "source": [
        "# Importing Libraries for the Machine Learning Model\n"
      ]
    },
    {
      "cell_type": "code",
      "metadata": {
        "trusted": true,
        "id": "MADHXiIa7PKE",
        "colab_type": "code",
        "colab": {}
      },
      "source": [
        "# Importing Libraries for the Machine Learning Model\n",
        "from sklearn.model_selection import KFold, cross_val_score\n",
        "from xgboost import XGBClassifier\n",
        "from sklearn.naive_bayes import GaussianNB\n",
        "from lightgbm import LGBMModel,LGBMClassifier, plot_importance\n",
        "from sklearn.linear_model import SGDClassifier\n",
        "from sklearn.neighbors import KNeighborsClassifier\n",
        "from xgboost import XGBClassifier\n",
        "import time\n",
        "from sklearn.metrics import confusion_matrix, accuracy_score, classification_report, precision_score\n",
        "from sklearn.model_selection import train_test_split, cross_val_predict\n",
        "\n",
        "\n",
        "from sklearn.metrics import roc_auc_score\n",
        "from sklearn.preprocessing import LabelBinarizer"
      ],
      "execution_count": 181,
      "outputs": []
    },
    {
      "cell_type": "code",
      "metadata": {
        "id": "eXKflaR1Dgnp",
        "colab_type": "code",
        "colab": {
          "base_uri": "https://localhost:8080/",
          "height": 123
        },
        "outputId": "0eb37102-39c8-4519-a216-a9ffaad9e92d"
      },
      "source": [
        "drugs['satisfaction'].value_counts()"
      ],
      "execution_count": 182,
      "outputs": [
        {
          "output_type": "execute_result",
          "data": {
            "text/plain": [
              "5    24217\n",
              "1    24214\n",
              "2    24209\n",
              "4    24207\n",
              "3    24201\n",
              "Name: satisfaction, dtype: int64"
            ]
          },
          "metadata": {
            "tags": []
          },
          "execution_count": 182
        }
      ]
    },
    {
      "cell_type": "code",
      "metadata": {
        "trusted": true,
        "id": "ztlt9AC47PKH",
        "colab_type": "code",
        "colab": {
          "base_uri": "https://localhost:8080/",
          "height": 52
        },
        "outputId": "3f1daf2d-5aa2-450d-a88e-0660104e102c"
      },
      "source": [
        "# Defining Features and splitting the data as train and test set\n",
        "features = drugs[[ 'effectiveness', 'easeofuse', 'condition', 'count_letters', 'lstm_score'\n",
        "                   ]]\n",
        "\n",
        "target = drugs['satisfaction']\n",
        "\n",
        "X_train, X_test, y_train, y_test = train_test_split(features, target, test_size = 0.3, shuffle=True, random_state = 42)\n",
        "print (\"The Train set size \", X_train.shape)\n",
        "print (\"The Test set size \", X_test.shape)"
      ],
      "execution_count": 183,
      "outputs": [
        {
          "output_type": "stream",
          "text": [
            "The Train set size  (84733, 5)\n",
            "The Test set size  (36315, 5)\n"
          ],
          "name": "stdout"
        }
      ]
    },
    {
      "cell_type": "markdown",
      "metadata": {
        "id": "-A0U6r82nPPo",
        "colab_type": "text"
      },
      "source": [
        "#### Firstly we'll try and check which classifier performs the best with our training data, then we'll take that classifier and perform HyperParameter Optimisation on that model."
      ]
    },
    {
      "cell_type": "code",
      "metadata": {
        "id": "VcviE1dkGc25",
        "colab_type": "code",
        "colab": {
          "base_uri": "https://localhost:8080/",
          "height": 105
        },
        "outputId": "25ba2c96-4210-46cd-bfc0-c3473eddd0bd"
      },
      "source": [
        "knn = KNeighborsClassifier()\n",
        "training_start = time.perf_counter()\n",
        "knn.fit(X_train, y_train)\n",
        "training_end = time.perf_counter()\n",
        "prediction_start = time.perf_counter()\n",
        "preds = knn.predict(X_test)\n",
        "prediction_end = time.perf_counter()\n",
        "acc_knn = (preds == y_test).sum().astype(float) / len(preds)*100\n",
        "knn_train_time = training_end-training_start\n",
        "knn_prediction_time = prediction_end-prediction_start\n",
        "precision_score_knn=precision_score(y_test, preds, average='micro')\n",
        "\n",
        "lb = LabelBinarizer()\n",
        "lb.fit(y_test)\n",
        "y_test1 = lb.transform(y_test)\n",
        "y_pred1= lb.transform(preds)\n",
        "roc_auc_score_knn=roc_auc_score(y_test1, y_pred1, average=\"macro\")\n",
        "print(\"Roc_auc_score for test data: %3.5f \" % (roc_auc_score_knn))\n",
        "print(\"Scikit-Learn's K Nearest Neighbors Classifier's prediction accuracy is: %3.2f\" % (acc_knn))\n",
        "print(\"Time consumed for training: %4.3f seconds\" % (knn_train_time))\n",
        "print(\"Time consumed for prediction: %6.5f seconds\" % (knn_prediction_time))\n",
        "print(\"Precision on test dataset:\", precision_score_knn)"
      ],
      "execution_count": 184,
      "outputs": [
        {
          "output_type": "stream",
          "text": [
            "Roc_auc_score for test data: 0.61992 \n",
            "Scikit-Learn's K Nearest Neighbors Classifier's prediction accuracy is: 39.21\n",
            "Time consumed for training: 0.128 seconds\n",
            "Time consumed for prediction: 1.12335 seconds\n",
            "Precision on test dataset: 0.3920693928128872\n"
          ],
          "name": "stdout"
        }
      ]
    },
    {
      "cell_type": "code",
      "metadata": {
        "id": "W19h8dlfESEv",
        "colab_type": "code",
        "colab": {
          "base_uri": "https://localhost:8080/",
          "height": 105
        },
        "outputId": "aa3db36a-ba26-4e7f-da5f-e53e18b14746"
      },
      "source": [
        "from sklearn.ensemble import GradientBoostingClassifier\n",
        "gbk = GradientBoostingClassifier()\n",
        "gbk.fit(X_train, y_train)\n",
        "\n",
        "training_start = time.perf_counter()\n",
        "gbk.fit(X_train, y_train)\n",
        "training_end = time.perf_counter()\n",
        "prediction_start = time.perf_counter()\n",
        "preds = gbk.predict(X_test)\n",
        "prediction_end = time.perf_counter()\n",
        "acc_gbk = (preds == y_test).sum().astype(float) / len(preds)*100\n",
        "gbk_train_time = training_end-training_start\n",
        "gbk_prediction_time = prediction_end-prediction_start\n",
        "precision_score_gbk=precision_score(y_test, preds, average='micro')\n",
        "\n",
        "y_pred1= lb.transform(preds)\n",
        "roc_auc_score_gbk=roc_auc_score(y_test1, y_pred1, average=\"macro\")\n",
        "print(\"Roc_auc_score for test data: %3.5f \" % (roc_auc_score_gbk))\n",
        "print(\"Scikit-Learn's GBK Classifier's prediction accuracy is: %3.2f\" % (acc_gbk))\n",
        "print(\"Time consumed for training: %4.3f seconds\" % (gbk_train_time))\n",
        "print(\"Time consumed for prediction: %6.5f seconds\" % (gbk_prediction_time))\n",
        "print(\"Precision on test dataset:\", precision_score_gbk)"
      ],
      "execution_count": 185,
      "outputs": [
        {
          "output_type": "stream",
          "text": [
            "Roc_auc_score for test data: 0.77235 \n",
            "Scikit-Learn's GBK Classifier's prediction accuracy is: 63.58\n",
            "Time consumed for training: 40.641 seconds\n",
            "Time consumed for prediction: 0.35553 seconds\n",
            "Precision on test dataset: 0.6357703428335398\n"
          ],
          "name": "stdout"
        }
      ]
    },
    {
      "cell_type": "code",
      "metadata": {
        "id": "8KQRp_Mj2l3Q",
        "colab_type": "code",
        "colab": {
          "base_uri": "https://localhost:8080/",
          "height": 105
        },
        "outputId": "9333df0c-f9d6-4191-b153-a28d4bdd88a4"
      },
      "source": [
        "GNB= GaussianNB()\n",
        "training_start = time.perf_counter()\n",
        "GNB.fit(X_train, y_train)\n",
        "training_end = time.perf_counter()\n",
        "prediction_start = time.perf_counter()\n",
        "preds = GNB.predict(X_test)\n",
        "prediction_end = time.perf_counter()\n",
        "acc_gnb = (preds == y_test).sum().astype(float) / len(preds)*100\n",
        "gnb_train_time = training_end-training_start\n",
        "gnb_prediction_time = prediction_end-prediction_start\n",
        "precision_score_gnb=precision_score(y_test, preds, average='micro')\n",
        "y_pred1= lb.transform(preds)\n",
        "roc_auc_score_gnb=roc_auc_score(y_test1, y_pred1, average=\"macro\")\n",
        "print(\"Roc_auc_score for test data: %3.5f \" % (roc_auc_score_gnb))\n",
        "print(\"Naive Bayes Classifier's prediction accuracy is: %3.2f\" % (acc_gnb))\n",
        "print(\"Time consumed for training: %4.3f seconds\" % (gnb_train_time))\n",
        "print(\"Time consumed for prediction: %6.5f seconds\" % (gnb_prediction_time))\n",
        "print(\"Precision on test dataset:\", precision_score_gnb)"
      ],
      "execution_count": 186,
      "outputs": [
        {
          "output_type": "stream",
          "text": [
            "Roc_auc_score for test data: 0.73923 \n",
            "Naive Bayes Classifier's prediction accuracy is: 58.28\n",
            "Time consumed for training: 0.019 seconds\n",
            "Time consumed for prediction: 0.00738 seconds\n",
            "Precision on test dataset: 0.5827619441002341\n"
          ],
          "name": "stdout"
        }
      ]
    },
    {
      "cell_type": "code",
      "metadata": {
        "trusted": true,
        "id": "DOxSbmhO7PKK",
        "colab_type": "code",
        "colab": {
          "base_uri": "https://localhost:8080/",
          "height": 105
        },
        "outputId": "6c4061a1-782d-41c4-98a6-f37cd7539122"
      },
      "source": [
        "LGBM = LGBMClassifier(\n",
        "        \n",
        "        )\n",
        "#n_estimators=10000,\n",
        "#        learning_rate=0.10,\n",
        "#        num_leaves=30,\n",
        "#        subsample=.9,\n",
        "#        max_depth=7,\n",
        "#        reg_alpha=.1,\n",
        "#        reg_lambda=.1,\n",
        "#        min_split_gain=.01,\n",
        "#        min_child_weight=2,\n",
        "#        silent=-1,\n",
        "#        verbose=-1,\n",
        "training_start = time.perf_counter()\n",
        "LGBM.fit(X_train, y_train)\n",
        "training_end = time.perf_counter()\n",
        "prediction_start = time.perf_counter()\n",
        "preds = LGBM.predict(X_test)\n",
        "prediction_end = time.perf_counter()\n",
        "acc_LGBM = (preds == y_test).sum().astype(float) / len(preds)*100\n",
        "LGBM_train_time = training_end-training_start\n",
        "LGBM_prediction_time = prediction_end-prediction_start\n",
        "precision_score_lgbm=precision_score(y_test, preds, average='micro')\n",
        "\n",
        "y_pred1= lb.transform(preds)\n",
        "roc_auc_score_lgbm=roc_auc_score(y_test1, y_pred1, average=\"macro\")\n",
        "print(\"Roc_auc_score for test data: %3.5f \" % (roc_auc_score_lgbm))\n",
        "print(\"Scikit-Learn's LGBM Classifier's prediction accuracy is: %3.2f\" % (acc_LGBM))\n",
        "print(\"Time consumed for training: %4.3f seconds\" % (LGBM_train_time))\n",
        "print(\"Time consumed for prediction: %6.5f seconds\" % (LGBM_prediction_time))\n",
        "print(\"Precision on test dataset:\", precision_score_lgbm)\n"
      ],
      "execution_count": 187,
      "outputs": [
        {
          "output_type": "stream",
          "text": [
            "Roc_auc_score for test data: 0.77290 \n",
            "Scikit-Learn's LGBM Classifier's prediction accuracy is: 63.67\n",
            "Time consumed for training: 1.914 seconds\n",
            "Time consumed for prediction: 0.04864 seconds\n",
            "Precision on test dataset: 0.6366515214098857\n"
          ],
          "name": "stdout"
        }
      ]
    },
    {
      "cell_type": "code",
      "metadata": {
        "id": "MUOfB2EACOCe",
        "colab_type": "code",
        "colab": {
          "base_uri": "https://localhost:8080/",
          "height": 577
        },
        "outputId": "cb967076-f113-4a66-baae-284a8fee59b7"
      },
      "source": [
        "# Feature Importance Plot using LGBM\n",
        "plt.rcParams['figure.figsize'] = [12, 9]\n",
        "sns.set(style = 'whitegrid', font_scale = 1.2)\n",
        "plot_importance(LGBM);"
      ],
      "execution_count": 188,
      "outputs": [
        {
          "output_type": "display_data",
          "data": {
            "image/png": "[encoded data removed]",
            "text/plain": [
              "<Figure size 864x648 with 1 Axes>"
            ]
          },
          "metadata": {
            "tags": []
          }
        }
      ]
    },
    {
      "cell_type": "code",
      "metadata": {
        "id": "zBnE0C03HDbf",
        "colab_type": "code",
        "colab": {
          "base_uri": "https://localhost:8080/",
          "height": 247
        },
        "outputId": "b053c37c-111a-4e7b-d9fe-9da601f3a3de"
      },
      "source": [
        "from sklearn.linear_model import LogisticRegression\n",
        "\n",
        "LR = LogisticRegression()\n",
        "training_start = time.perf_counter()\n",
        "LR.fit(X_train, y_train)\n",
        "training_end = time.perf_counter()\n",
        "prediction_start = time.perf_counter()\n",
        "preds = LR.predict(X_test)\n",
        "prediction_end = time.perf_counter()\n",
        "acc_LR = (preds == y_test).sum().astype(float) / len(preds)*100\n",
        "LR_train_time = training_end-training_start\n",
        "LR_prediction_time = prediction_end-prediction_start\n",
        "precision_score_LR=precision_score(y_test, preds, average='micro')\n",
        "\n",
        "y_pred1= lb.transform(preds)\n",
        "roc_auc_score_LR=roc_auc_score(y_test1, y_pred1, average=\"macro\")\n",
        "print(\"Roc_auc_score for test data: %3.5f \" % (roc_auc_score_LR))\n",
        "print(\"Scikit-Learn's LR Classifier's prediction accuracy is: %3.2f\" % (acc_LR))\n",
        "print(\"Time consumed for training: %4.3f seconds\" % (LR_train_time))\n",
        "print(\"Time consumed for prediction: %6.5f seconds\" % (LR_prediction_time))\n",
        "print(\"Precision on test dataset:\", precision_score_LR)\n"
      ],
      "execution_count": 189,
      "outputs": [
        {
          "output_type": "stream",
          "text": [
            "Roc_auc_score for test data: 0.59883 \n",
            "Scikit-Learn's LR Classifier's prediction accuracy is: 35.78\n",
            "Time consumed for training: 5.519 seconds\n",
            "Time consumed for prediction: 0.00444 seconds\n",
            "Precision on test dataset: 0.35775850199642023\n"
          ],
          "name": "stdout"
        },
        {
          "output_type": "stream",
          "text": [
            "/usr/local/lib/python3.6/dist-packages/sklearn/linear_model/_logistic.py:940: ConvergenceWarning: lbfgs failed to converge (status=1):\n",
            "STOP: TOTAL NO. of ITERATIONS REACHED LIMIT.\n",
            "\n",
            "Increase the number of iterations (max_iter) or scale the data as shown in:\n",
            "    https://scikit-learn.org/stable/modules/preprocessing.html\n",
            "Please also refer to the documentation for alternative solver options:\n",
            "    https://scikit-learn.org/stable/modules/linear_model.html#logistic-regression\n",
            "  extra_warning_msg=_LOGISTIC_SOLVER_CONVERGENCE_MSG)\n"
          ],
          "name": "stderr"
        }
      ]
    },
    {
      "cell_type": "code",
      "metadata": {
        "id": "oM4vEaDiCAq-",
        "colab_type": "code",
        "colab": {
          "base_uri": "https://localhost:8080/",
          "height": 105
        },
        "outputId": "7c6d4dbe-51f8-4682-a9bf-8415e1af1edf"
      },
      "source": [
        "from sklearn.ensemble import RandomForestClassifier\n",
        "import time\n",
        "\n",
        "rfc = RandomForestClassifier(n_estimators=10)\n",
        "training_start = time.perf_counter()\n",
        "rfc.fit(X_train, y_train)\n",
        "training_end = time.perf_counter()\n",
        "prediction_start = time.perf_counter()\n",
        "preds = rfc.predict(X_test)\n",
        "prediction_end = time.perf_counter()\n",
        "acc_rfc = (preds == y_test).sum().astype(float) / len(preds)*100\n",
        "rfc_train_time = training_end-training_start\n",
        "rfc_prediction_time = prediction_end-prediction_start\n",
        "precision_score_rfc=precision_score(y_test, preds, average='micro')\n",
        "\n",
        "y_pred1= lb.transform(preds)\n",
        "roc_auc_score_rfc=roc_auc_score(y_test1, y_pred1, average=\"macro\")\n",
        "print(\"Roc_auc_score for test data: %3.5f \" % (roc_auc_score_rfc))\n",
        "print(\"Scikit-Learn's Random Forest Classifier's prediction accuracy is: %3.2f\" % (acc_rfc))\n",
        "print(\"Time consumed for training: %4.3f seconds\" % (rfc_train_time))\n",
        "print(\"Time consumed for prediction: %6.5f seconds\" % (rfc_prediction_time))\n",
        "print(\"Precision on test dataset:\", precision_score_rfc)"
      ],
      "execution_count": 190,
      "outputs": [
        {
          "output_type": "stream",
          "text": [
            "Roc_auc_score for test data: 0.72284 \n",
            "Scikit-Learn's Random Forest Classifier's prediction accuracy is: 55.67\n",
            "Time consumed for training: 1.136 seconds\n",
            "Time consumed for prediction: 0.13023 seconds\n",
            "Precision on test dataset: 0.5567121024370095\n"
          ],
          "name": "stdout"
        }
      ]
    },
    {
      "cell_type": "code",
      "metadata": {
        "id": "lQfT18hbHX4a",
        "colab_type": "code",
        "colab": {
          "base_uri": "https://localhost:8080/",
          "height": 257
        },
        "outputId": "ba89a01b-dd9b-4e74-dd2f-0744f78853de"
      },
      "source": [
        "#After running all classifier models individually, we compare them all together for best performance\n",
        "results = pd.DataFrame({\n",
        "    'Model': ['KNN', 'GNB', 'LGBM', 'gbk', 'LR', 'Random Forest'],\n",
        "    'Roc_auc_score': [roc_auc_score_knn, roc_auc_score_gnb, roc_auc_score_lgbm, roc_auc_score_gbk, roc_auc_score_LR, roc_auc_score_rfc],\n",
        "    'Accuracy': [acc_knn, acc_gnb, acc_LGBM, acc_gbk, acc_LR, acc_rfc],\n",
        "    'Precision': [precision_score_knn, precision_score_gnb, precision_score_lgbm, precision_score_gbk, precision_score_LR, precision_score_rfc],\n",
        "    'Runtime Training': [knn_train_time, gnb_train_time, LGBM_train_time, gbk_train_time, \n",
        "                         LR_train_time, rfc_train_time],\n",
        "    'Runtime Prediction': [knn_prediction_time, gnb_prediction_time, LGBM_prediction_time, gbk_prediction_time,\n",
        "                          LR_prediction_time, rfc_prediction_time]})\n",
        "result_df = results.sort_values(by='Roc_auc_score', ascending=False)\n",
        "result_df = result_df.set_index('Model')\n",
        "result_df"
      ],
      "execution_count": 191,
      "outputs": [
        {
          "output_type": "execute_result",
          "data": {
            "text/html": [
              "<div>\n",
              "<style scoped>\n",
              "    .dataframe tbody tr th:only-of-type {\n",
              "        vertical-align: middle;\n",
              "    }\n",
              "\n",
              "    .dataframe tbody tr th {\n",
              "        vertical-align: top;\n",
              "    }\n",
              "\n",
              "    .dataframe thead th {\n",
              "        text-align: right;\n",
              "    }\n",
              "</style>\n",
              "<table border=\"1\" class=\"dataframe\">\n",
              "  <thead>\n",
              "    <tr style=\"text-align: right;\">\n",
              "      <th></th>\n",
              "      <th>Roc_auc_score</th>\n",
              "      <th>Accuracy</th>\n",
              "      <th>Precision</th>\n",
              "      <th>Runtime Training</th>\n",
              "      <th>Runtime Prediction</th>\n",
              "    </tr>\n",
              "    <tr>\n",
              "      <th>Model</th>\n",
              "      <th></th>\n",
              "      <th></th>\n",
              "      <th></th>\n",
              "      <th></th>\n",
              "      <th></th>\n",
              "    </tr>\n",
              "  </thead>\n",
              "  <tbody>\n",
              "    <tr>\n",
              "      <th>LGBM</th>\n",
              "      <td>0.772905</td>\n",
              "      <td>63.665152</td>\n",
              "      <td>0.636652</td>\n",
              "      <td>1.914020</td>\n",
              "      <td>0.048640</td>\n",
              "    </tr>\n",
              "    <tr>\n",
              "      <th>gbk</th>\n",
              "      <td>0.772347</td>\n",
              "      <td>63.577034</td>\n",
              "      <td>0.635770</td>\n",
              "      <td>40.641071</td>\n",
              "      <td>0.355528</td>\n",
              "    </tr>\n",
              "    <tr>\n",
              "      <th>GNB</th>\n",
              "      <td>0.739230</td>\n",
              "      <td>58.276194</td>\n",
              "      <td>0.582762</td>\n",
              "      <td>0.018992</td>\n",
              "      <td>0.007376</td>\n",
              "    </tr>\n",
              "    <tr>\n",
              "      <th>Random Forest</th>\n",
              "      <td>0.722843</td>\n",
              "      <td>55.671210</td>\n",
              "      <td>0.556712</td>\n",
              "      <td>1.135582</td>\n",
              "      <td>0.130230</td>\n",
              "    </tr>\n",
              "    <tr>\n",
              "      <th>KNN</th>\n",
              "      <td>0.619921</td>\n",
              "      <td>39.206939</td>\n",
              "      <td>0.392069</td>\n",
              "      <td>0.128360</td>\n",
              "      <td>1.123349</td>\n",
              "    </tr>\n",
              "    <tr>\n",
              "      <th>LR</th>\n",
              "      <td>0.598831</td>\n",
              "      <td>35.775850</td>\n",
              "      <td>0.357759</td>\n",
              "      <td>5.518766</td>\n",
              "      <td>0.004439</td>\n",
              "    </tr>\n",
              "  </tbody>\n",
              "</table>\n",
              "</div>"
            ],
            "text/plain": [
              "               Roc_auc_score   Accuracy  ...  Runtime Training  Runtime Prediction\n",
              "Model                                    ...                                      \n",
              "LGBM                0.772905  63.665152  ...          1.914020            0.048640\n",
              "gbk                 0.772347  63.577034  ...         40.641071            0.355528\n",
              "GNB                 0.739230  58.276194  ...          0.018992            0.007376\n",
              "Random Forest       0.722843  55.671210  ...          1.135582            0.130230\n",
              "KNN                 0.619921  39.206939  ...          0.128360            1.123349\n",
              "LR                  0.598831  35.775850  ...          5.518766            0.004439\n",
              "\n",
              "[6 rows x 5 columns]"
            ]
          },
          "metadata": {
            "tags": []
          },
          "execution_count": 191
        }
      ]
    },
    {
      "cell_type": "code",
      "metadata": {
        "id": "kxZBCX53FFAr",
        "colab_type": "code",
        "colab": {
          "base_uri": "https://localhost:8080/",
          "height": 54
        },
        "outputId": "306a356a-80bb-4353-b590-eaa1b9517881"
      },
      "source": [
        "from sklearn.model_selection import cross_validate\n",
        "gbk_cv = GradientBoostingClassifier(n_estimators=10)\n",
        "scoring = {'acc': 'accuracy',\n",
        "           'prec_macro': 'precision_macro',\n",
        "           'rec_micro': 'recall_macro'}\n",
        "scores = cross_validate(gbk_cv, X_train, y_train, cv=3, scoring = scoring)\n",
        "print(\"Scores:\", scores)\n",
        "#print(\"Mean:\", scores.mean())\n",
        "#print(\"Standard Deviation:\", scores.std())"
      ],
      "execution_count": 192,
      "outputs": [
        {
          "output_type": "stream",
          "text": [
            "Scores: {'fit_time': array([2.72269344, 2.70103836, 2.71921825]), 'score_time': array([0.07172203, 0.07129335, 0.07091522]), 'test_acc': array([0.62577447, 0.6225393 , 0.62692961]), 'test_prec_macro': array([0.61985706, 0.61568476, 0.6199539 ]), 'test_rec_micro': array([0.62574089, 0.62250571, 0.6269251 ])}\n"
          ],
          "name": "stdout"
        }
      ]
    },
    {
      "cell_type": "code",
      "metadata": {
        "id": "wDOBGC4UHk-D",
        "colab_type": "code",
        "colab": {
          "base_uri": "https://localhost:8080/",
          "height": 227
        },
        "outputId": "78000c11-cc04-4982-f89a-10ffb835b7c5"
      },
      "source": [
        "importances = pd.DataFrame({\n",
        "    #'Feature': dTreated.drop('Satisfaction', axis=1).columns,\n",
        "    'Feature': features.columns,\n",
        "    'Importance': gbk.feature_importances_\n",
        "})\n",
        "importances = importances.sort_values(by='Importance', ascending=True)\n",
        "importances = importances.set_index('Feature')\n",
        "importances"
      ],
      "execution_count": 193,
      "outputs": [
        {
          "output_type": "execute_result",
          "data": {
            "text/html": [
              "<div>\n",
              "<style scoped>\n",
              "    .dataframe tbody tr th:only-of-type {\n",
              "        vertical-align: middle;\n",
              "    }\n",
              "\n",
              "    .dataframe tbody tr th {\n",
              "        vertical-align: top;\n",
              "    }\n",
              "\n",
              "    .dataframe thead th {\n",
              "        text-align: right;\n",
              "    }\n",
              "</style>\n",
              "<table border=\"1\" class=\"dataframe\">\n",
              "  <thead>\n",
              "    <tr style=\"text-align: right;\">\n",
              "      <th></th>\n",
              "      <th>Importance</th>\n",
              "    </tr>\n",
              "    <tr>\n",
              "      <th>Feature</th>\n",
              "      <th></th>\n",
              "    </tr>\n",
              "  </thead>\n",
              "  <tbody>\n",
              "    <tr>\n",
              "      <th>condition</th>\n",
              "      <td>0.011056</td>\n",
              "    </tr>\n",
              "    <tr>\n",
              "      <th>count_letters</th>\n",
              "      <td>0.017953</td>\n",
              "    </tr>\n",
              "    <tr>\n",
              "      <th>easeofuse</th>\n",
              "      <td>0.047823</td>\n",
              "    </tr>\n",
              "    <tr>\n",
              "      <th>lstm_score</th>\n",
              "      <td>0.251386</td>\n",
              "    </tr>\n",
              "    <tr>\n",
              "      <th>effectiveness</th>\n",
              "      <td>0.671782</td>\n",
              "    </tr>\n",
              "  </tbody>\n",
              "</table>\n",
              "</div>"
            ],
            "text/plain": [
              "               Importance\n",
              "Feature                  \n",
              "condition        0.011056\n",
              "count_letters    0.017953\n",
              "easeofuse        0.047823\n",
              "lstm_score       0.251386\n",
              "effectiveness    0.671782"
            ]
          },
          "metadata": {
            "tags": []
          },
          "execution_count": 193
        }
      ]
    },
    {
      "cell_type": "code",
      "metadata": {
        "id": "sp6Bxto5Hmu5",
        "colab_type": "code",
        "colab": {
          "base_uri": "https://localhost:8080/",
          "height": 655
        },
        "outputId": "a54f84f5-d1bb-4d80-f61e-cb488172271a"
      },
      "source": [
        "importances.plot.bar()"
      ],
      "execution_count": 194,
      "outputs": [
        {
          "output_type": "execute_result",
          "data": {
            "text/plain": [
              "<matplotlib.axes._subplots.AxesSubplot at 0x7f0860edf4e0>"
            ]
          },
          "metadata": {
            "tags": []
          },
          "execution_count": 194
        },
        {
          "output_type": "display_data",
          "data": {
            "image/png": "[encoded data removed]",
            "text/plain": [
              "<Figure size 864x648 with 1 Axes>"
            ]
          },
          "metadata": {
            "tags": []
          }
        }
      ]
    },
    {
      "cell_type": "markdown",
      "metadata": {
        "id": "1hf14QBnSJDS",
        "colab_type": "text"
      },
      "source": [
        "# Hyperparameter Tuning"
      ]
    },
    {
      "cell_type": "code",
      "metadata": {
        "id": "4wwUyzQQSAz1",
        "colab_type": "code",
        "colab": {
          "base_uri": "https://localhost:8080/",
          "height": 443
        },
        "outputId": "447b5334-56e7-4026-8818-d6c1483eeec6"
      },
      "source": [
        "from pprint import pprint\n",
        "# Look at parameters used by our current forest\n",
        "print('Parameters currently in use:\\n')\n",
        "pprint(gbk.get_params())"
      ],
      "execution_count": 195,
      "outputs": [
        {
          "output_type": "stream",
          "text": [
            "Parameters currently in use:\n",
            "\n",
            "{'ccp_alpha': 0.0,\n",
            " 'criterion': 'friedman_mse',\n",
            " 'init': None,\n",
            " 'learning_rate': 0.1,\n",
            " 'loss': 'deviance',\n",
            " 'max_depth': 3,\n",
            " 'max_features': None,\n",
            " 'max_leaf_nodes': None,\n",
            " 'min_impurity_decrease': 0.0,\n",
            " 'min_impurity_split': None,\n",
            " 'min_samples_leaf': 1,\n",
            " 'min_samples_split': 2,\n",
            " 'min_weight_fraction_leaf': 0.0,\n",
            " 'n_estimators': 100,\n",
            " 'n_iter_no_change': None,\n",
            " 'presort': 'deprecated',\n",
            " 'random_state': None,\n",
            " 'subsample': 1.0,\n",
            " 'tol': 0.0001,\n",
            " 'validation_fraction': 0.1,\n",
            " 'verbose': 0,\n",
            " 'warm_start': False}\n"
          ],
          "name": "stdout"
        }
      ]
    },
    {
      "cell_type": "code",
      "metadata": {
        "id": "Ec2UzuTuSAnT",
        "colab_type": "code",
        "colab": {
          "base_uri": "https://localhost:8080/",
          "height": 105
        },
        "outputId": "2159f909-cc17-46c5-ade7-c44839794c73"
      },
      "source": [
        "from sklearn.model_selection import RandomizedSearchCV\n",
        "# Number of trees in GradientBoostingClassifier()\n",
        "n_estimators = [int(x) for x in np.linspace(start = 100, stop = 500, num = 5)]\n",
        "# Number of features to consider at every split\n",
        "#max_features = ['None', 'sqrt']\n",
        "# Maximum number of levels in tree\n",
        "max_depth = [int(x) for x in np.linspace(1, 19, num = 10)]\n",
        "max_depth.append(None)\n",
        "# Minimum number of samples required to split a node\n",
        "min_samples_split = [2, 5, 10]\n",
        "# Minimum number of samples required at each leaf node\n",
        "min_samples_leaf = [1, 2, 4]\n",
        "# Method of selecting samples for training each tree\n",
        "learning_rate = [0.001, 0.01, 0.1, 0.2]\n",
        "# Create the random grid\n",
        "random_grid = {'n_estimators': n_estimators,\n",
        "               \n",
        "               'max_depth': max_depth,\n",
        "               'min_samples_split': min_samples_split,\n",
        "               'min_samples_leaf': min_samples_leaf,\n",
        "               'learning_rate': learning_rate}\n",
        "pprint(random_grid)"
      ],
      "execution_count": 196,
      "outputs": [
        {
          "output_type": "stream",
          "text": [
            "{'learning_rate': [0.001, 0.01, 0.1, 0.2],\n",
            " 'max_depth': [1, 3, 5, 7, 9, 11, 13, 15, 17, 19, None],\n",
            " 'min_samples_leaf': [1, 2, 4],\n",
            " 'min_samples_split': [2, 5, 10],\n",
            " 'n_estimators': [100, 200, 300, 400, 500]}\n"
          ],
          "name": "stdout"
        }
      ]
    },
    {
      "cell_type": "code",
      "metadata": {
        "id": "Xk0NBv0lScLE",
        "colab_type": "code",
        "colab": {
          "base_uri": "https://localhost:8080/",
          "height": 585
        },
        "outputId": "e90a0fcc-176e-428c-870d-d148491ffb4b"
      },
      "source": [
        "# Use the random grid to search for best hyperparameters\n",
        "\n",
        "# Random search of parameters, using 3 fold cross validation, \n",
        "# search across 10 different combinations, and use all available cores\n",
        "gbk_random = RandomizedSearchCV(estimator = gbk, param_distributions = random_grid, n_iter = 1, cv = 3, verbose=2, random_state=42, n_jobs = -1)\n",
        "# Fit the random search model\n",
        "gbk_random.fit(X_train, y_train)"
      ],
      "execution_count": 197,
      "outputs": [
        {
          "output_type": "stream",
          "text": [
            "Fitting 3 folds for each of 1 candidates, totalling 3 fits\n"
          ],
          "name": "stdout"
        },
        {
          "output_type": "stream",
          "text": [
            "[Parallel(n_jobs=-1)]: Using backend LokyBackend with 40 concurrent workers.\n",
            "[Parallel(n_jobs=-1)]: Done   3 out of   3 | elapsed:  1.8min finished\n"
          ],
          "name": "stderr"
        },
        {
          "output_type": "execute_result",
          "data": {
            "text/plain": [
              "RandomizedSearchCV(cv=3, error_score=nan,\n",
              "                   estimator=GradientBoostingClassifier(ccp_alpha=0.0,\n",
              "                                                        criterion='friedman_mse',\n",
              "                                                        init=None,\n",
              "                                                        learning_rate=0.1,\n",
              "                                                        loss='deviance',\n",
              "                                                        max_depth=3,\n",
              "                                                        max_features=None,\n",
              "                                                        max_leaf_nodes=None,\n",
              "                                                        min_impurity_decrease=0.0,\n",
              "                                                        min_impurity_split=None,\n",
              "                                                        min_samples_leaf=1,\n",
              "                                                        min_samples_split=2,\n",
              "                                                        min_weight_fraction_leaf=0.0,\n",
              "                                                        n_estimators=100,\n",
              "                                                        n_ite...\n",
              "                                                        verbose=0,\n",
              "                                                        warm_start=False),\n",
              "                   iid='deprecated', n_iter=1, n_jobs=-1,\n",
              "                   param_distributions={'learning_rate': [0.001, 0.01, 0.1,\n",
              "                                                          0.2],\n",
              "                                        'max_depth': [1, 3, 5, 7, 9, 11, 13, 15,\n",
              "                                                      17, 19, None],\n",
              "                                        'min_samples_leaf': [1, 2, 4],\n",
              "                                        'min_samples_split': [2, 5, 10],\n",
              "                                        'n_estimators': [100, 200, 300, 400,\n",
              "                                                         500]},\n",
              "                   pre_dispatch='2*n_jobs', random_state=42, refit=True,\n",
              "                   return_train_score=False, scoring=None, verbose=2)"
            ]
          },
          "metadata": {
            "tags": []
          },
          "execution_count": 197
        }
      ]
    },
    {
      "cell_type": "code",
      "metadata": {
        "id": "9T-JGgqLScAY",
        "colab_type": "code",
        "colab": {
          "base_uri": "https://localhost:8080/",
          "height": 123
        },
        "outputId": "7203c2d4-32a2-48e4-e7ad-fe5422c6a575"
      },
      "source": [
        "# Best parameter values, with best score of accuracy using Hyperparameter tuning\n",
        "gbk_random.best_params_,gbk_random.best_score_"
      ],
      "execution_count": 198,
      "outputs": [
        {
          "output_type": "execute_result",
          "data": {
            "text/plain": [
              "({'learning_rate': 0.1,\n",
              "  'max_depth': 7,\n",
              "  'min_samples_leaf': 1,\n",
              "  'min_samples_split': 2,\n",
              "  'n_estimators': 200},\n",
              " 0.6247624877335487)"
            ]
          },
          "metadata": {
            "tags": []
          },
          "execution_count": 198
        }
      ]
    },
    {
      "cell_type": "code",
      "metadata": {
        "id": "mP6HTwrgSb3k",
        "colab_type": "code",
        "colab": {
          "base_uri": "https://localhost:8080/",
          "height": 34
        },
        "outputId": "ac504e83-69d0-4842-ce7a-a273cadb0810"
      },
      "source": [
        "#implementing hyperopt tuning with set parameter values\n",
        "GBoost = GradientBoostingClassifier(max_depth=3, min_samples_leaf=1, min_samples_split=2, n_estimators=400, learning_rate=0.07)\n",
        "#max_depth=3, min_samples_leaf=1, min_samples_split=2, n_estimators=400, learning_rate=0.07\n",
        "\n",
        "GBoost.fit(X_train, y_train)\n",
        "preds = GBoost.predict(X_test)\n",
        "\n",
        "accuracy = (preds == y_test).sum().astype(float) / len(preds)*100\n",
        "\n",
        "print(\"Gradient Boost's prediction accuracy WITH optimal hyperparameters is: %3.2f\" % (accuracy))"
      ],
      "execution_count": 199,
      "outputs": [
        {
          "output_type": "stream",
          "text": [
            "Gradient Boost's prediction accuracy WITH optimal hyperparameters is: 63.53\n"
          ],
          "name": "stdout"
        }
      ]
    },
    {
      "cell_type": "code",
      "metadata": {
        "id": "3hUXuyqgSbu6",
        "colab_type": "code",
        "colab": {
          "base_uri": "https://localhost:8080/",
          "height": 54
        },
        "outputId": "8c9ca9d7-ed7e-4454-e7db-46dee81806ee"
      },
      "source": [
        "scores = cross_validate(GBoost, X_train, y_train, cv=3, scoring = scoring)\n",
        "print(\"Scores:\", scores)"
      ],
      "execution_count": 200,
      "outputs": [
        {
          "output_type": "stream",
          "text": [
            "Scores: {'fit_time': array([106.52706838, 106.49497819, 106.49097586]), 'score_time': array([0.83973742, 0.83874631, 0.83182478]), 'test_acc': array([0.6393344 , 0.6373035 , 0.63868432]), 'test_prec_macro': array([0.63523058, 0.63360889, 0.63519927]), 'test_rec_micro': array([0.63930361, 0.63727876, 0.6386653 ])}\n"
          ],
          "name": "stdout"
        }
      ]
    },
    {
      "cell_type": "code",
      "metadata": {
        "id": "DOHjU4Qp38f7",
        "colab_type": "code",
        "colab": {
          "base_uri": "https://localhost:8080/",
          "height": 105
        },
        "outputId": "ed85bc85-ce30-40f5-9482-39793a628968"
      },
      "source": [
        "confusion_matrix(preds, y_test)"
      ],
      "execution_count": 201,
      "outputs": [
        {
          "output_type": "execute_result",
          "data": {
            "text/plain": [
              "array([[5579, 1160,  333,  114,   97],\n",
              "       [1234, 3797, 1571,  409,  114],\n",
              "       [ 274, 1580, 3548, 1124,  207],\n",
              "       [ 116,  479, 1281, 4319,  939],\n",
              "       [ 148,  213,  515, 1335, 5829]])"
            ]
          },
          "metadata": {
            "tags": []
          },
          "execution_count": 201
        }
      ]
    },
    {
      "cell_type": "code",
      "metadata": {
        "id": "8opz7nYG5d-l",
        "colab_type": "code",
        "colab": {
          "base_uri": "https://localhost:8080/",
          "height": 70
        },
        "outputId": "d7c07f23-4788-4eac-c01c-c6ed18f0da86"
      },
      "source": [
        "from sklearn.metrics import recall_score, f1_score\n",
        "print(\"Precision on test dataset:\", precision_score(y_test, preds, average='micro'))\n",
        "print(\"Recall on test dataset:\",recall_score(y_test, preds, average='micro'))\n",
        "print(\"F1-Score on test dataset:\", f1_score(y_test, preds, average='micro'))"
      ],
      "execution_count": 202,
      "outputs": [
        {
          "output_type": "stream",
          "text": [
            "Precision on test dataset: 0.6353297535453669\n",
            "Recall on test dataset: 0.6353297535453669\n",
            "F1-Score on test dataset: 0.6353297535453669\n"
          ],
          "name": "stdout"
        }
      ]
    },
    {
      "cell_type": "code",
      "metadata": {
        "id": "hf4-jOLr5vq3",
        "colab_type": "code",
        "colab": {
          "base_uri": "https://localhost:8080/",
          "height": 283
        },
        "outputId": "8a879023-1fd8-452a-b9c6-8ee93e5fcde4"
      },
      "source": [
        "# Classification report\n",
        "import sklearn.metrics as metrics\n",
        "print('\\t\\t\\t\\tCLASSIFICATIION METRICS \\n \\t\\t\\tfor test dataset\\n')\n",
        "print(metrics.classification_report(y_test, preds))"
      ],
      "execution_count": 203,
      "outputs": [
        {
          "output_type": "stream",
          "text": [
            "\t\t\t\tCLASSIFICATIION METRICS \n",
            " \t\t\tfor test dataset\n",
            "\n",
            "              precision    recall  f1-score   support\n",
            "\n",
            "           1       0.77      0.76      0.76      7351\n",
            "           2       0.53      0.53      0.53      7229\n",
            "           3       0.53      0.49      0.51      7248\n",
            "           4       0.61      0.59      0.60      7301\n",
            "           5       0.72      0.81      0.77      7186\n",
            "\n",
            "    accuracy                           0.64     36315\n",
            "   macro avg       0.63      0.64      0.63     36315\n",
            "weighted avg       0.63      0.64      0.63     36315\n",
            "\n"
          ],
          "name": "stdout"
        }
      ]
    },
    {
      "cell_type": "code",
      "metadata": {
        "id": "WxDbFuqKJArH",
        "colab_type": "code",
        "colab": {
          "base_uri": "https://localhost:8080/",
          "height": 34
        },
        "outputId": "ae33b78d-672b-4b38-d75e-dcd7ca3c6ac1"
      },
      "source": [
        "y_pred1= lb.transform(preds)\n",
        "# roc_auc_score for test data\n",
        "roc_auc_score(y_test1, y_pred1, average=\"macro\")"
      ],
      "execution_count": 204,
      "outputs": [
        {
          "output_type": "execute_result",
          "data": {
            "text/plain": [
              "0.772067637992998"
            ]
          },
          "metadata": {
            "tags": []
          },
          "execution_count": 204
        }
      ]
    },
    {
      "cell_type": "code",
      "metadata": {
        "id": "OncL2coYJGdv",
        "colab_type": "code",
        "colab": {}
      },
      "source": [
        "from itertools import cycle\n",
        "from sklearn.metrics import roc_curve, auc\n",
        "from sklearn.preprocessing import label_binarize\n",
        "from scipy import interp\n",
        "\n",
        "statis=target\n",
        "y = label_binarize(statis, classes=[0, 1, 2, 3, 4])\n",
        "n_classes = y.shape[1]\n",
        "\n",
        "# Compute ROC curve and ROC area for each class\n",
        "fpr = dict()\n",
        "tpr = dict()\n",
        "roc_auc = dict()\n",
        "for i in range(n_classes):\n",
        "    fpr[i], tpr[i], _ = roc_curve(y_test1[:, i], y_pred1[:, i])\n",
        "    roc_auc[i] = auc(fpr[i], tpr[i])\n",
        "\n",
        "# Compute micro-average ROC curve and ROC area\n",
        "fpr[\"micro\"], tpr[\"micro\"], _ = roc_curve(y_test1.ravel(), y_pred1.ravel())\n",
        "roc_auc[\"micro\"] = auc(fpr[\"micro\"], tpr[\"micro\"])"
      ],
      "execution_count": 205,
      "outputs": []
    },
    {
      "cell_type": "code",
      "metadata": {
        "id": "sUMmYjxVJUpO",
        "colab_type": "code",
        "colab": {
          "base_uri": "https://localhost:8080/",
          "height": 577
        },
        "outputId": "a30fc572-5364-46db-fd92-3ebaad81ec44"
      },
      "source": [
        "plt.figure()\n",
        "lw = 2\n",
        "plt.plot(fpr[2], tpr[2], color='darkorange',\n",
        "         lw=lw, label='ROC curve (area = %0.2f)' % roc_auc[2])\n",
        "plt.plot([0, 1], [0, 1], color='navy', lw=lw, linestyle='--')\n",
        "plt.xlim([0.0, 1.0])\n",
        "plt.ylim([0.0, 1.05])\n",
        "plt.xlabel('False Positive Rate')\n",
        "plt.ylabel('True Positive Rate')\n",
        "plt.title('Receiver operating characteristic example')\n",
        "plt.legend(loc=\"lower right\")\n",
        "plt.show()"
      ],
      "execution_count": 206,
      "outputs": [
        {
          "output_type": "display_data",
          "data": {
            "image/png": "[encoded data removed]",
            "text/plain": [
              "<Figure size 864x648 with 1 Axes>"
            ]
          },
          "metadata": {
            "tags": []
          }
        }
      ]
    },
    {
      "cell_type": "code",
      "metadata": {
        "id": "91PPdZxqJcGO",
        "colab_type": "code",
        "colab": {
          "base_uri": "https://localhost:8080/",
          "height": 613
        },
        "outputId": "164458db-9606-4f49-bc2c-bc0b7e0f1734"
      },
      "source": [
        "from scipy import interp\n",
        "from itertools import cycle\n",
        "\n",
        "# First aggregate all false positive rates\n",
        "all_fpr = np.unique(np.concatenate([fpr[i] for i in range(n_classes)]))\n",
        "\n",
        "# Then interpolate all ROC curves at this points\n",
        "mean_tpr = np.zeros_like(all_fpr)\n",
        "for i in range(n_classes):\n",
        "    mean_tpr += interp(all_fpr, fpr[i], tpr[i])\n",
        "\n",
        "# Finally average it and compute AUC\n",
        "mean_tpr /= n_classes\n",
        "\n",
        "fpr[\"macro\"] = all_fpr\n",
        "tpr[\"macro\"] = mean_tpr\n",
        "roc_auc[\"macro\"] = auc(fpr[\"macro\"], tpr[\"macro\"])\n",
        "\n",
        "# Plot all ROC curves\n",
        "plt.figure()\n",
        "plt.plot(fpr[\"micro\"], tpr[\"micro\"],\n",
        "         label='micro-average ROC curve (area = {0:0.2f})'\n",
        "               ''.format(roc_auc[\"micro\"]),\n",
        "         color='deeppink', linestyle=':', linewidth=4)\n",
        "\n",
        "plt.plot(fpr[\"macro\"], tpr[\"macro\"],\n",
        "         label='macro-average ROC curve (area = {0:0.2f})'\n",
        "               ''.format(roc_auc[\"macro\"]),\n",
        "         color='navy', linestyle=':', linewidth=4)\n",
        "\n",
        "colors = cycle(['aqua', 'darkorange', 'cornflowerblue'])\n",
        "for i, color in zip(range(n_classes), colors):\n",
        "    plt.plot(fpr[i], tpr[i], color=color, lw=lw,\n",
        "             label='ROC curve of class {0} (area = {1:0.2f})'\n",
        "             ''.format(i, roc_auc[i]))\n",
        "\n",
        "plt.plot([0, 1], [0, 1], 'k--', lw=lw)\n",
        "plt.xlim([0.0, 1.0])\n",
        "plt.ylim([0.0, 1.0])\n",
        "plt.xlabel('False Positive Rate')\n",
        "plt.ylabel('True Positive Rate')\n",
        "plt.title('Some extension of Receiver operating characteristic to multi-class on test data')\n",
        "plt.legend(loc=\"lower right\")\n",
        "plt.show()"
      ],
      "execution_count": 207,
      "outputs": [
        {
          "output_type": "stream",
          "text": [
            "/usr/local/lib/python3.6/dist-packages/ipykernel_launcher.py:10: DeprecationWarning: scipy.interp is deprecated and will be removed in SciPy 2.0.0, use numpy.interp instead\n",
            "  # Remove the CWD from sys.path while we load stuff.\n"
          ],
          "name": "stderr"
        },
        {
          "output_type": "display_data",
          "data": {
            "image/png": "[encoded data removed]",
            "text/plain": [
              "<Figure size 864x648 with 1 Axes>"
            ]
          },
          "metadata": {
            "tags": []
          }
        }
      ]
    },
    {
      "cell_type": "code",
      "metadata": {
        "id": "BCoYUYTeY50r",
        "colab_type": "code",
        "colab": {}
      },
      "source": [
        ""
      ],
      "execution_count": 207,
      "outputs": []
    }
  ]
}