{
  "nbformat": 4,
  "nbformat_minor": 0,
  "metadata": {
    "colab": {
      "name": "predicted lstm trial.ipynb",
      "provenance": [],
      "collapsed_sections": [],
      "machine_shape": "hm",
      "include_colab_link": true
    },
    "kernelspec": {
      "name": "python3",
      "display_name": "Python 3"
    },
    "accelerator": "TPU"
  },
  "cells": [
    {
      "cell_type": "markdown",
      "metadata": {
        "id": "view-in-github",
        "colab_type": "text"
      },
      "source": [
        "<a href=\"https://colab.research.google.com/github/codebluecruz/Getting-started-with-github/blob/master/actual%20webmd%20textblob_trial.ipynb\" target=\"_parent\"><img src=\"https://colab.research.google.com/assets/colab-badge.svg\" alt=\"Open In Colab\"/></a>"
      ]
    },
    {
      "cell_type": "markdown",
      "metadata": {
        "_uuid": "dd4d87a956090846d694ee5cb73e9d4581fa24f6",
        "id": "1TCeMoZ_7PIv",
        "colab_type": "text"
      },
      "source": [
        "# Exploratory Data Analysis w/ Python\n",
        "\n",
        "This kernel comprise exploratory data analysis on the provided data, including: \n",
        "- Data loading\n",
        "- Data cleaning \n",
        "- Descriptive Analysis\n",
        "- Temporal Analysis\n",
        "- Sentiment Analysis\n",
        "- Text Analysis\n",
        "- Importing Models\n",
        "- Comparing Classifier outputs\n",
        "- Hyperparameter Optimisation\n",
        "- Evaluating Results(Accuracy, F1-Score, Roc_auc score, ROC_AUC Cruve)\n",
        "\n"
      ]
    },
    {
      "cell_type": "code",
      "metadata": {
        "trusted": true,
        "_uuid": "8c3b51399825e356312a7849da35ecc580227f55",
        "id": "4fXWe39B7PIx",
        "colab_type": "code",
        "colab": {
          "base_uri": "https://localhost:8080/",
          "height": 107
        },
        "outputId": "1328f329-0817-45a6-e696-84cd7d67e912"
      },
      "source": [
        "# Importing all libraries which will be used for our model\n",
        "import pandas as pd\n",
        "import matplotlib.pyplot as plt\n",
        "from scipy import stats\n",
        "import numpy as np\n",
        "import re\n",
        "import seaborn as sns\n",
        "import string\n",
        "import html\n",
        "from sklearn.preprocessing import normalize, MinMaxScaler\n",
        "from scipy.stats import spearmanr, pearsonr\n",
        "\n",
        "# NLTK\n",
        "import nltk\n",
        "from nltk.corpus import stopwords\n",
        "from nltk.stem import SnowballStemmer\n",
        "import nltk\n",
        "nltk.download('stopwords')\n",
        "\n",
        "import warnings\n",
        "warnings.filterwarnings(\"ignore\", category=UserWarning, module='bs4')\n",
        "plt.style.use('ggplot')"
      ],
      "execution_count": 1,
      "outputs": [
        {
          "output_type": "stream",
          "text": [
            "/usr/local/lib/python3.6/dist-packages/statsmodels/tools/_testing.py:19: FutureWarning: pandas.util.testing is deprecated. Use the functions in the public API at pandas.testing instead.\n",
            "  import pandas.util.testing as tm\n"
          ],
          "name": "stderr"
        },
        {
          "output_type": "stream",
          "text": [
            "[nltk_data] Downloading package stopwords to /root/nltk_data...\n",
            "[nltk_data]   Unzipping corpora/stopwords.zip.\n"
          ],
          "name": "stdout"
        }
      ]
    },
    {
      "cell_type": "code",
      "metadata": {
        "id": "JNA-8waoDxUq",
        "colab_type": "code",
        "colab": {
          "base_uri": "https://localhost:8080/",
          "height": 125
        },
        "outputId": "f3fa763b-8a23-4225-d615-db7d696b58be"
      },
      "source": [
        "# Environment used for codefile if GooGle Collaboratory, Here we're mounting our google drive as all our data is saved on drive itself,\n",
        "# saves us from upload time.\n",
        "from google.colab import drive\n",
        "drive.mount('/content/drive')"
      ],
      "execution_count": 2,
      "outputs": [
        {
          "output_type": "stream",
          "text": [
            "Go to this URL in a browser: https://accounts.google.com/o/oauth2/auth?client_id=947318989803-6bn6qk8qdgf4n4g3pfee6491hc0brc4i.apps.googleusercontent.com&redirect_uri=urn%3aietf%3awg%3aoauth%3a2.0%3aoob&response_type=code&scope=email%20https%3a%2f%2fwww.googleapis.com%2fauth%2fdocs.test%20https%3a%2f%2fwww.googleapis.com%2fauth%2fdrive%20https%3a%2f%2fwww.googleapis.com%2fauth%2fdrive.photos.readonly%20https%3a%2f%2fwww.googleapis.com%2fauth%2fpeopleapi.readonly\n",
            "\n",
            "Enter your authorization code:\n",
            "··········\n",
            "Mounted at /content/drive\n"
          ],
          "name": "stdout"
        }
      ]
    },
    {
      "cell_type": "markdown",
      "metadata": {
        "_uuid": "9211934c152e8b40da08ba819800775662979593",
        "id": "DPR5Rjae7PI1",
        "colab_type": "text"
      },
      "source": [
        "## Loading Data\n",
        "\n",
        "Since we are just doing an exploratory analysis of the data, **we are going to concatenate test and train data into one dataset**."
      ]
    },
    {
      "cell_type": "code",
      "metadata": {
        "_kg_hide-input": false,
        "trusted": true,
        "_uuid": "8678481568c9b1bdd42da356206c2561cd521119",
        "id": "VFDWZdts7PI2",
        "colab_type": "code",
        "colab": {
          "base_uri": "https://localhost:8080/",
          "height": 72
        },
        "outputId": "fec959a4-d0e8-4d94-f5fa-e9a4a09b6e80"
      },
      "source": [
        "# Reading data \n",
        "drugs = pd.read_csv('/content/drive/My Drive/newset_webmd.csv', skiprows=0)"
      ],
      "execution_count": 3,
      "outputs": [
        {
          "output_type": "stream",
          "text": [
            "/usr/local/lib/python3.6/dist-packages/IPython/core/interactiveshell.py:2718: DtypeWarning: Columns (0,1,2,3,7,9,10) have mixed types.Specify dtype option on import or set low_memory=False.\n",
            "  interactivity=interactivity, compiler=compiler, result=result)\n"
          ],
          "name": "stderr"
        }
      ]
    },
    {
      "cell_type": "code",
      "metadata": {
        "trusted": true,
        "_uuid": "a722edbd3dbf642d1d437517f259510a039e00d3",
        "id": "nK0kAzIL7PI6",
        "colab_type": "code",
        "colab": {}
      },
      "source": [
        "# droping any NaN rows from our dataset, changing all string values to LowerCase, removing Date column as it doesnt seem to be of much use.\n",
        "drugs = drugs.dropna(how = 'any', axis = 0)\n",
        "drugs.shape\n",
        "drugs.columns = drugs.columns.str.lower()\n",
        "drugs.reset_index(drop = True, inplace = True)\n",
        "drugs['condition'].isnull().sum(axis = 0)\n",
        "#dropping unnecessary columns\n",
        "drugs.drop(['date', 'sex', 'sides'], axis=1, inplace=True)\n",
        "drugs = drugs.drop_duplicates(subset=['reviews'], keep='first')"
      ],
      "execution_count": 4,
      "outputs": []
    },
    {
      "cell_type": "code",
      "metadata": {
        "id": "di30muySyigE",
        "colab_type": "code",
        "colab": {
          "base_uri": "https://localhost:8080/",
          "height": 178
        },
        "outputId": "87c59a4b-dfcf-47ab-ac94-78b5f0cda955"
      },
      "source": [
        "# example of random undersampling to balance the class distribution\n",
        "from collections import Counter\n",
        "from sklearn.datasets import make_classification\n",
        "from imblearn.under_sampling import RandomUnderSampler\n",
        "# define dataset\n",
        "#X, y = make_classification(n_samples=10000, weights=[0.99], flip_y=0)\n",
        "# summarize class distribution\n",
        "print(Counter(drugs['satisfaction']))\n",
        "# define undersample strategy\n",
        "undersample = RandomUnderSampler(sampling_strategy='all')\n",
        "# fit and apply the transform\n",
        "X_over, y_over = undersample.fit_resample(drugs.drop(['satisfaction'], axis=1), drugs['satisfaction'])\n",
        "# summarize class distribution\n",
        "print(Counter(y_over))"
      ],
      "execution_count": 5,
      "outputs": [
        {
          "output_type": "stream",
          "text": [
            "/usr/local/lib/python3.6/dist-packages/sklearn/externals/six.py:31: FutureWarning: The module is deprecated in version 0.21 and will be removed in version 0.23 since we've dropped support for Python 2.7. Please rely on the official version of six (https://pypi.org/project/six/).\n",
            "  \"(https://pypi.org/project/six/).\", FutureWarning)\n",
            "/usr/local/lib/python3.6/dist-packages/sklearn/utils/deprecation.py:144: FutureWarning: The sklearn.neighbors.base module is  deprecated in version 0.22 and will be removed in version 0.24. The corresponding classes / functions should instead be imported from sklearn.neighbors. Anything that cannot be imported from sklearn.neighbors is now part of the private API.\n",
            "  warnings.warn(message, FutureWarning)\n"
          ],
          "name": "stderr"
        },
        {
          "output_type": "stream",
          "text": [
            "Counter({1.0: 27616, 5.0: 27277, 4.0: 14026, 3.0: 11424, 2.0: 8494})\n",
            "Counter({1.0: 8494, 2.0: 8494, 3.0: 8494, 4.0: 8494, 5.0: 8494})\n"
          ],
          "name": "stdout"
        },
        {
          "output_type": "stream",
          "text": [
            "/usr/local/lib/python3.6/dist-packages/sklearn/utils/deprecation.py:87: FutureWarning: Function safe_indexing is deprecated; safe_indexing is deprecated in version 0.22 and will be removed in version 0.24.\n",
            "  warnings.warn(msg, category=FutureWarning)\n"
          ],
          "name": "stderr"
        }
      ]
    },
    {
      "cell_type": "code",
      "metadata": {
        "id": "zMy5QDfWzwYI",
        "colab_type": "code",
        "colab": {}
      },
      "source": [
        "drugs=pd.DataFrame(X_over)\n",
        "drugs1=pd.DataFrame(y_over)"
      ],
      "execution_count": 6,
      "outputs": []
    },
    {
      "cell_type": "code",
      "metadata": {
        "id": "rmq2QdMc1Zst",
        "colab_type": "code",
        "colab": {
          "base_uri": "https://localhost:8080/",
          "height": 77
        },
        "outputId": "5e00fce5-45c7-49a5-dce2-7786e512408c"
      },
      "source": [
        "drugs1.rename(columns={0:'satisfaction'}, inplace = True)\n",
        "drugs1.head(1)"
      ],
      "execution_count": 7,
      "outputs": [
        {
          "output_type": "execute_result",
          "data": {
            "text/html": [
              "<div>\n",
              "<style scoped>\n",
              "    .dataframe tbody tr th:only-of-type {\n",
              "        vertical-align: middle;\n",
              "    }\n",
              "\n",
              "    .dataframe tbody tr th {\n",
              "        vertical-align: top;\n",
              "    }\n",
              "\n",
              "    .dataframe thead th {\n",
              "        text-align: right;\n",
              "    }\n",
              "</style>\n",
              "<table border=\"1\" class=\"dataframe\">\n",
              "  <thead>\n",
              "    <tr style=\"text-align: right;\">\n",
              "      <th></th>\n",
              "      <th>satisfaction</th>\n",
              "    </tr>\n",
              "  </thead>\n",
              "  <tbody>\n",
              "    <tr>\n",
              "      <th>0</th>\n",
              "      <td>1.0</td>\n",
              "    </tr>\n",
              "  </tbody>\n",
              "</table>\n",
              "</div>"
            ],
            "text/plain": [
              "   satisfaction\n",
              "0           1.0"
            ]
          },
          "metadata": {
            "tags": []
          },
          "execution_count": 7
        }
      ]
    },
    {
      "cell_type": "code",
      "metadata": {
        "id": "C41_wBsBz5DK",
        "colab_type": "code",
        "colab": {
          "base_uri": "https://localhost:8080/",
          "height": 77
        },
        "outputId": "ffc01982-c55e-4c5d-d6b8-4bcb6129566d"
      },
      "source": [
        "drugs.rename(columns = {0:'age', 1:'condition',2:'drug',3:'drugid',4:'easeofuse',5:'effectiveness', 6:'reviews',7:'usefulcount'}, inplace = True)\n",
        "drugs.head(1)"
      ],
      "execution_count": 8,
      "outputs": [
        {
          "output_type": "execute_result",
          "data": {
            "text/html": [
              "<div>\n",
              "<style scoped>\n",
              "    .dataframe tbody tr th:only-of-type {\n",
              "        vertical-align: middle;\n",
              "    }\n",
              "\n",
              "    .dataframe tbody tr th {\n",
              "        vertical-align: top;\n",
              "    }\n",
              "\n",
              "    .dataframe thead th {\n",
              "        text-align: right;\n",
              "    }\n",
              "</style>\n",
              "<table border=\"1\" class=\"dataframe\">\n",
              "  <thead>\n",
              "    <tr style=\"text-align: right;\">\n",
              "      <th></th>\n",
              "      <th>age</th>\n",
              "      <th>condition</th>\n",
              "      <th>drug</th>\n",
              "      <th>drugid</th>\n",
              "      <th>easeofuse</th>\n",
              "      <th>effectiveness</th>\n",
              "      <th>reviews</th>\n",
              "      <th>usefulcount</th>\n",
              "    </tr>\n",
              "  </thead>\n",
              "  <tbody>\n",
              "    <tr>\n",
              "      <th>0</th>\n",
              "      <td>65-74</td>\n",
              "      <td>High Blood Pressure</td>\n",
              "      <td>valsartan</td>\n",
              "      <td>849</td>\n",
              "      <td>5</td>\n",
              "      <td>2</td>\n",
              "      <td>After 30 days on meds saw a continued increase...</td>\n",
              "      <td>17</td>\n",
              "    </tr>\n",
              "  </tbody>\n",
              "</table>\n",
              "</div>"
            ],
            "text/plain": [
              "     age  ... usefulcount\n",
              "0  65-74  ...          17\n",
              "\n",
              "[1 rows x 8 columns]"
            ]
          },
          "metadata": {
            "tags": []
          },
          "execution_count": 8
        }
      ]
    },
    {
      "cell_type": "code",
      "metadata": {
        "id": "aTPJHSLE1soo",
        "colab_type": "code",
        "colab": {
          "base_uri": "https://localhost:8080/",
          "height": 77
        },
        "outputId": "8a9a6653-6c9c-42a3-8962-adbf40052163"
      },
      "source": [
        "drugs = pd.concat([drugs, drugs1], axis = 1)\n",
        "drugs.shape\n",
        "drugs.head(1)"
      ],
      "execution_count": 9,
      "outputs": [
        {
          "output_type": "execute_result",
          "data": {
            "text/html": [
              "<div>\n",
              "<style scoped>\n",
              "    .dataframe tbody tr th:only-of-type {\n",
              "        vertical-align: middle;\n",
              "    }\n",
              "\n",
              "    .dataframe tbody tr th {\n",
              "        vertical-align: top;\n",
              "    }\n",
              "\n",
              "    .dataframe thead th {\n",
              "        text-align: right;\n",
              "    }\n",
              "</style>\n",
              "<table border=\"1\" class=\"dataframe\">\n",
              "  <thead>\n",
              "    <tr style=\"text-align: right;\">\n",
              "      <th></th>\n",
              "      <th>age</th>\n",
              "      <th>condition</th>\n",
              "      <th>drug</th>\n",
              "      <th>drugid</th>\n",
              "      <th>easeofuse</th>\n",
              "      <th>effectiveness</th>\n",
              "      <th>reviews</th>\n",
              "      <th>usefulcount</th>\n",
              "      <th>satisfaction</th>\n",
              "    </tr>\n",
              "  </thead>\n",
              "  <tbody>\n",
              "    <tr>\n",
              "      <th>0</th>\n",
              "      <td>65-74</td>\n",
              "      <td>High Blood Pressure</td>\n",
              "      <td>valsartan</td>\n",
              "      <td>849</td>\n",
              "      <td>5</td>\n",
              "      <td>2</td>\n",
              "      <td>After 30 days on meds saw a continued increase...</td>\n",
              "      <td>17</td>\n",
              "      <td>1.0</td>\n",
              "    </tr>\n",
              "  </tbody>\n",
              "</table>\n",
              "</div>"
            ],
            "text/plain": [
              "     age            condition  ... usefulcount satisfaction\n",
              "0  65-74  High Blood Pressure  ...          17          1.0\n",
              "\n",
              "[1 rows x 9 columns]"
            ]
          },
          "metadata": {
            "tags": []
          },
          "execution_count": 9
        }
      ]
    },
    {
      "cell_type": "code",
      "metadata": {
        "id": "QjDGqGRG5j4d",
        "colab_type": "code",
        "colab": {}
      },
      "source": [
        "# shuffle data to prepare final dataset\n",
        "drugs=drugs.sample(frac=1)"
      ],
      "execution_count": 10,
      "outputs": []
    },
    {
      "cell_type": "markdown",
      "metadata": {
        "_uuid": "78ba9cdda16fc81c70e845bff88e402f9345922c",
        "id": "6BRPIx2R7PJD",
        "colab_type": "text"
      },
      "source": [
        "## Data Cleaning and Data Glimpse\n",
        "\n",
        "We are willing to check if this dataset have some corrupted data or non present values. \n",
        "\n",
        "**condition** is a field which present problems in 1171 registers, probably due to some bug in the data web scraping. The value of those registers is the usefulCount value with an ```span``` HTML tag and the following text: ```users found this comment helpful```. We ignored these registers."
      ]
    },
    {
      "cell_type": "code",
      "metadata": {
        "trusted": true,
        "_uuid": "1958006c6caf1d44ec2a2c26b2fb987a658b123b",
        "id": "lrbF5-GF7PJH",
        "colab_type": "code",
        "colab": {
          "base_uri": "https://localhost:8080/",
          "height": 34
        },
        "outputId": "013a0cd2-d646-4569-981a-12936517779b"
      },
      "source": [
        "# Let's delete all of these corrupted rows\n",
        "print(\"Number of Corrupted Reviews: \", len(drugs[drugs.condition.str.contains(\" users found this comment helpful.\",na=False)]))\n",
        "drugs = drugs[~drugs.condition.str.contains(\" users found this comment helpful.\",na=False)]"
      ],
      "execution_count": 11,
      "outputs": [
        {
          "output_type": "stream",
          "text": [
            "Number of Corrupted Reviews:  0\n"
          ],
          "name": "stdout"
        }
      ]
    },
    {
      "cell_type": "code",
      "metadata": {
        "trusted": true,
        "_uuid": "908dba91c19c44a2ca447a29e62ea8ec9a683b46",
        "id": "74F8yLtL7PJL",
        "colab_type": "code",
        "colab": {
          "base_uri": "https://localhost:8080/",
          "height": 287
        },
        "outputId": "f9f12d44-7a12-4cd4-c4ea-21ffe0d99dd3"
      },
      "source": [
        "drugs.describe()"
      ],
      "execution_count": 12,
      "outputs": [
        {
          "output_type": "execute_result",
          "data": {
            "text/html": [
              "<div>\n",
              "<style scoped>\n",
              "    .dataframe tbody tr th:only-of-type {\n",
              "        vertical-align: middle;\n",
              "    }\n",
              "\n",
              "    .dataframe tbody tr th {\n",
              "        vertical-align: top;\n",
              "    }\n",
              "\n",
              "    .dataframe thead th {\n",
              "        text-align: right;\n",
              "    }\n",
              "</style>\n",
              "<table border=\"1\" class=\"dataframe\">\n",
              "  <thead>\n",
              "    <tr style=\"text-align: right;\">\n",
              "      <th></th>\n",
              "      <th>satisfaction</th>\n",
              "    </tr>\n",
              "  </thead>\n",
              "  <tbody>\n",
              "    <tr>\n",
              "      <th>count</th>\n",
              "      <td>42470.00000</td>\n",
              "    </tr>\n",
              "    <tr>\n",
              "      <th>mean</th>\n",
              "      <td>3.00000</td>\n",
              "    </tr>\n",
              "    <tr>\n",
              "      <th>std</th>\n",
              "      <td>1.41423</td>\n",
              "    </tr>\n",
              "    <tr>\n",
              "      <th>min</th>\n",
              "      <td>1.00000</td>\n",
              "    </tr>\n",
              "    <tr>\n",
              "      <th>25%</th>\n",
              "      <td>2.00000</td>\n",
              "    </tr>\n",
              "    <tr>\n",
              "      <th>50%</th>\n",
              "      <td>3.00000</td>\n",
              "    </tr>\n",
              "    <tr>\n",
              "      <th>75%</th>\n",
              "      <td>4.00000</td>\n",
              "    </tr>\n",
              "    <tr>\n",
              "      <th>max</th>\n",
              "      <td>5.00000</td>\n",
              "    </tr>\n",
              "  </tbody>\n",
              "</table>\n",
              "</div>"
            ],
            "text/plain": [
              "       satisfaction\n",
              "count   42470.00000\n",
              "mean        3.00000\n",
              "std         1.41423\n",
              "min         1.00000\n",
              "25%         2.00000\n",
              "50%         3.00000\n",
              "75%         4.00000\n",
              "max         5.00000"
            ]
          },
          "metadata": {
            "tags": []
          },
          "execution_count": 12
        }
      ]
    },
    {
      "cell_type": "code",
      "metadata": {
        "trusted": true,
        "id": "RWA2D03i7PJP",
        "colab_type": "code",
        "colab": {
          "base_uri": "https://localhost:8080/",
          "height": 197
        },
        "outputId": "f4188f7a-13bf-45be-fd7d-ac1b9e6596c2"
      },
      "source": [
        "### Thought flow for Depression Confidence Intervals\n",
        "\"\"\"\n",
        "I want to take the df, filter by condition, drug, confidence interval, sample size cutoff)\n",
        "Then loop through all the drugs for a specific condition and calculate their\n",
        "mean, top limit, and bottom limit. \n",
        "\"\"\"\n",
        "# Create Confidence Interval Function\n",
        "def confidence_interval (data, ci_percent):\n",
        "  data = np.array(data) # Makes sure our data is in a numpy array\n",
        "  mean = np.mean(data)\n",
        "  n = len(data)\n",
        "  stderr = stats.sem(data)\n",
        "  interval = stderr * stats.t.ppf((1 + ci_percent) / 2., n - 1)\n",
        "  return (mean, mean - interval, mean + interval)\n",
        "\n",
        "\n",
        "def condition_compare (drugs, condition_id, ci_percent, sample_size_cutoff):\n",
        "  output_names = [\"Drug Name\", \"Sample Mean\", \"Lower Bound\", \"Upper Bound\", \"Sample Size\"]\n",
        "  drug_compare = []\n",
        "  data = drugs[drugs.condition == condition_id]\n",
        "  for drug in data.drug.unique():\n",
        "    one_drug = data[data.drug == drug].satisfaction\n",
        "    if one_drug.size > sample_size_cutoff:\n",
        "      mean, ilower, iupper= confidence_interval(one_drug, ci_percent)\n",
        "      entry = [drug, mean, ilower, iupper, one_drug.size]\n",
        "      drug_compare.append(entry)\n",
        "  return pd.DataFrame(drug_compare, columns=output_names)\n",
        "\n",
        "\n",
        "drugs2 = condition_compare(drugs, \"Cough\", 0.95, 10).sort_values(by=\"Sample Mean\", ascending=False)\n",
        "drugs2"
      ],
      "execution_count": 13,
      "outputs": [
        {
          "output_type": "execute_result",
          "data": {
            "text/html": [
              "<div>\n",
              "<style scoped>\n",
              "    .dataframe tbody tr th:only-of-type {\n",
              "        vertical-align: middle;\n",
              "    }\n",
              "\n",
              "    .dataframe tbody tr th {\n",
              "        vertical-align: top;\n",
              "    }\n",
              "\n",
              "    .dataframe thead th {\n",
              "        text-align: right;\n",
              "    }\n",
              "</style>\n",
              "<table border=\"1\" class=\"dataframe\">\n",
              "  <thead>\n",
              "    <tr style=\"text-align: right;\">\n",
              "      <th></th>\n",
              "      <th>Drug Name</th>\n",
              "      <th>Sample Mean</th>\n",
              "      <th>Lower Bound</th>\n",
              "      <th>Upper Bound</th>\n",
              "      <th>Sample Size</th>\n",
              "    </tr>\n",
              "  </thead>\n",
              "  <tbody>\n",
              "    <tr>\n",
              "      <th>3</th>\n",
              "      <td>tussionex</td>\n",
              "      <td>3.942857</td>\n",
              "      <td>3.552588</td>\n",
              "      <td>4.333126</td>\n",
              "      <td>35</td>\n",
              "    </tr>\n",
              "    <tr>\n",
              "      <th>2</th>\n",
              "      <td>promethazine-codeine</td>\n",
              "      <td>3.411765</td>\n",
              "      <td>2.683308</td>\n",
              "      <td>4.140222</td>\n",
              "      <td>17</td>\n",
              "    </tr>\n",
              "    <tr>\n",
              "      <th>4</th>\n",
              "      <td>promethazine-dm</td>\n",
              "      <td>3.095238</td>\n",
              "      <td>2.437096</td>\n",
              "      <td>3.753380</td>\n",
              "      <td>21</td>\n",
              "    </tr>\n",
              "    <tr>\n",
              "      <th>0</th>\n",
              "      <td>tessalon perle</td>\n",
              "      <td>2.880952</td>\n",
              "      <td>2.576295</td>\n",
              "      <td>3.185610</td>\n",
              "      <td>126</td>\n",
              "    </tr>\n",
              "    <tr>\n",
              "      <th>1</th>\n",
              "      <td>virtussin ac</td>\n",
              "      <td>2.666667</td>\n",
              "      <td>1.786901</td>\n",
              "      <td>3.546432</td>\n",
              "      <td>15</td>\n",
              "    </tr>\n",
              "  </tbody>\n",
              "</table>\n",
              "</div>"
            ],
            "text/plain": [
              "              Drug Name  Sample Mean  Lower Bound  Upper Bound  Sample Size\n",
              "3             tussionex     3.942857     3.552588     4.333126           35\n",
              "2  promethazine-codeine     3.411765     2.683308     4.140222           17\n",
              "4       promethazine-dm     3.095238     2.437096     3.753380           21\n",
              "0        tessalon perle     2.880952     2.576295     3.185610          126\n",
              "1          virtussin ac     2.666667     1.786901     3.546432           15"
            ]
          },
          "metadata": {
            "tags": []
          },
          "execution_count": 13
        }
      ]
    },
    {
      "cell_type": "code",
      "metadata": {
        "id": "YfH81ZoYzS-q",
        "colab_type": "code",
        "colab": {
          "base_uri": "https://localhost:8080/",
          "height": 347
        },
        "outputId": "64d314e7-f87e-464a-8f8f-df1218798a9e"
      },
      "source": [
        "#We have created a column named \"uniqueid\" for every row, to easen up or operations.\n",
        "drugs['uniqueid'] = np.arange(len(drugs))\n",
        "drugs.head()"
      ],
      "execution_count": 14,
      "outputs": [
        {
          "output_type": "execute_result",
          "data": {
            "text/html": [
              "<div>\n",
              "<style scoped>\n",
              "    .dataframe tbody tr th:only-of-type {\n",
              "        vertical-align: middle;\n",
              "    }\n",
              "\n",
              "    .dataframe tbody tr th {\n",
              "        vertical-align: top;\n",
              "    }\n",
              "\n",
              "    .dataframe thead th {\n",
              "        text-align: right;\n",
              "    }\n",
              "</style>\n",
              "<table border=\"1\" class=\"dataframe\">\n",
              "  <thead>\n",
              "    <tr style=\"text-align: right;\">\n",
              "      <th></th>\n",
              "      <th>age</th>\n",
              "      <th>condition</th>\n",
              "      <th>drug</th>\n",
              "      <th>drugid</th>\n",
              "      <th>easeofuse</th>\n",
              "      <th>effectiveness</th>\n",
              "      <th>reviews</th>\n",
              "      <th>usefulcount</th>\n",
              "      <th>satisfaction</th>\n",
              "      <th>uniqueid</th>\n",
              "    </tr>\n",
              "  </thead>\n",
              "  <tbody>\n",
              "    <tr>\n",
              "      <th>18095</th>\n",
              "      <td>19-24</td>\n",
              "      <td>Birth Control</td>\n",
              "      <td>skyla intrauterine device</td>\n",
              "      <td>163305</td>\n",
              "      <td>3</td>\n",
              "      <td>5</td>\n",
              "      <td>I have been on the skyla for 4 months now, and...</td>\n",
              "      <td>2</td>\n",
              "      <td>3.0</td>\n",
              "      <td>0</td>\n",
              "    </tr>\n",
              "    <tr>\n",
              "      <th>21854</th>\n",
              "      <td>45-54</td>\n",
              "      <td>Sarcoidosis</td>\n",
              "      <td>prednisone concentrate</td>\n",
              "      <td>6007</td>\n",
              "      <td>2</td>\n",
              "      <td>3</td>\n",
              "      <td>Too many side affects,,,horrible!</td>\n",
              "      <td>3</td>\n",
              "      <td>3.0</td>\n",
              "      <td>1</td>\n",
              "    </tr>\n",
              "    <tr>\n",
              "      <th>40007</th>\n",
              "      <td>45-54</td>\n",
              "      <td>Other</td>\n",
              "      <td>provigil</td>\n",
              "      <td>16964</td>\n",
              "      <td>5</td>\n",
              "      <td>5</td>\n",
              "      <td>I have taken provigil for fatigue due to MS ab...</td>\n",
              "      <td>22</td>\n",
              "      <td>5.0</td>\n",
              "      <td>2</td>\n",
              "    </tr>\n",
              "    <tr>\n",
              "      <th>39811</th>\n",
              "      <td>25-34</td>\n",
              "      <td>Other</td>\n",
              "      <td>prodrin 65 mg-20 mg-325 mg tablet non-opioid a...</td>\n",
              "      <td>151495</td>\n",
              "      <td>4</td>\n",
              "      <td>5</td>\n",
              "      <td>I have suffered for migraines for 3 or 4 years...</td>\n",
              "      <td>17</td>\n",
              "      <td>5.0</td>\n",
              "      <td>3</td>\n",
              "    </tr>\n",
              "    <tr>\n",
              "      <th>3265</th>\n",
              "      <td>45-54</td>\n",
              "      <td>Joint Damage causing Pain and Loss of Function</td>\n",
              "      <td>piroxicam</td>\n",
              "      <td>10942</td>\n",
              "      <td>3</td>\n",
              "      <td>4</td>\n",
              "      <td>I have knee and back problems. I was prescribe...</td>\n",
              "      <td>9</td>\n",
              "      <td>1.0</td>\n",
              "      <td>4</td>\n",
              "    </tr>\n",
              "  </tbody>\n",
              "</table>\n",
              "</div>"
            ],
            "text/plain": [
              "         age  ... uniqueid\n",
              "18095  19-24  ...        0\n",
              "21854  45-54  ...        1\n",
              "40007  45-54  ...        2\n",
              "39811  25-34  ...        3\n",
              "3265   45-54  ...        4\n",
              "\n",
              "[5 rows x 10 columns]"
            ]
          },
          "metadata": {
            "tags": []
          },
          "execution_count": 14
        }
      ]
    },
    {
      "cell_type": "code",
      "metadata": {
        "trusted": true,
        "_uuid": "cafe21fe35819e34426b87275a8a45accb8d0538",
        "id": "iz9v5wjz7PJR",
        "colab_type": "code",
        "colab": {
          "base_uri": "https://localhost:8080/",
          "height": 323
        },
        "outputId": "1efa59e7-9b4f-453b-9f1e-8ff08f128f0b"
      },
      "source": [
        "# We will use this groupings later on...\n",
        "\n",
        "print(\"Number of Reviews per Drug\")\n",
        "# Number of reviews per drug\n",
        "reviews_per_drug = drugs.groupby([\"drug\"]).agg({\n",
        "    \"uniqueid\": pd.Series.nunique\n",
        "})\n",
        "reviews_per_drug.describe()\n",
        "\n",
        "\n",
        "print(\"Number of Reviews per Condition\")\n",
        "# Number of reviews per condition\n",
        "reviews_per_condition = drugs.groupby([\"condition\"]).agg({\n",
        "    \"uniqueid\": pd.Series.nunique\n",
        "})\n",
        "\n",
        "reviews_per_condition.describe()"
      ],
      "execution_count": 15,
      "outputs": [
        {
          "output_type": "stream",
          "text": [
            "Number of Reviews per Drug\n",
            "Number of Reviews per Condition\n"
          ],
          "name": "stdout"
        },
        {
          "output_type": "execute_result",
          "data": {
            "text/html": [
              "<div>\n",
              "<style scoped>\n",
              "    .dataframe tbody tr th:only-of-type {\n",
              "        vertical-align: middle;\n",
              "    }\n",
              "\n",
              "    .dataframe tbody tr th {\n",
              "        vertical-align: top;\n",
              "    }\n",
              "\n",
              "    .dataframe thead th {\n",
              "        text-align: right;\n",
              "    }\n",
              "</style>\n",
              "<table border=\"1\" class=\"dataframe\">\n",
              "  <thead>\n",
              "    <tr style=\"text-align: right;\">\n",
              "      <th></th>\n",
              "      <th>uniqueid</th>\n",
              "    </tr>\n",
              "  </thead>\n",
              "  <tbody>\n",
              "    <tr>\n",
              "      <th>count</th>\n",
              "      <td>938.000000</td>\n",
              "    </tr>\n",
              "    <tr>\n",
              "      <th>mean</th>\n",
              "      <td>45.277186</td>\n",
              "    </tr>\n",
              "    <tr>\n",
              "      <th>std</th>\n",
              "      <td>257.775870</td>\n",
              "    </tr>\n",
              "    <tr>\n",
              "      <th>min</th>\n",
              "      <td>1.000000</td>\n",
              "    </tr>\n",
              "    <tr>\n",
              "      <th>25%</th>\n",
              "      <td>2.000000</td>\n",
              "    </tr>\n",
              "    <tr>\n",
              "      <th>50%</th>\n",
              "      <td>5.000000</td>\n",
              "    </tr>\n",
              "    <tr>\n",
              "      <th>75%</th>\n",
              "      <td>18.000000</td>\n",
              "    </tr>\n",
              "    <tr>\n",
              "      <th>max</th>\n",
              "      <td>6038.000000</td>\n",
              "    </tr>\n",
              "  </tbody>\n",
              "</table>\n",
              "</div>"
            ],
            "text/plain": [
              "          uniqueid\n",
              "count   938.000000\n",
              "mean     45.277186\n",
              "std     257.775870\n",
              "min       1.000000\n",
              "25%       2.000000\n",
              "50%       5.000000\n",
              "75%      18.000000\n",
              "max    6038.000000"
            ]
          },
          "metadata": {
            "tags": []
          },
          "execution_count": 15
        }
      ]
    },
    {
      "cell_type": "code",
      "metadata": {
        "trusted": true,
        "id": "NJ1ZQlw07PJY",
        "colab_type": "code",
        "colab": {
          "base_uri": "https://localhost:8080/",
          "height": 347
        },
        "outputId": "b065bc2b-665f-4896-d476-8e1c2faf86c0"
      },
      "source": [
        "# Inspect the lower cased reviews text. \n",
        "drugs['reviews'] = drugs['reviews'].str.lower()\n",
        "drugs.head(5)"
      ],
      "execution_count": 16,
      "outputs": [
        {
          "output_type": "execute_result",
          "data": {
            "text/html": [
              "<div>\n",
              "<style scoped>\n",
              "    .dataframe tbody tr th:only-of-type {\n",
              "        vertical-align: middle;\n",
              "    }\n",
              "\n",
              "    .dataframe tbody tr th {\n",
              "        vertical-align: top;\n",
              "    }\n",
              "\n",
              "    .dataframe thead th {\n",
              "        text-align: right;\n",
              "    }\n",
              "</style>\n",
              "<table border=\"1\" class=\"dataframe\">\n",
              "  <thead>\n",
              "    <tr style=\"text-align: right;\">\n",
              "      <th></th>\n",
              "      <th>age</th>\n",
              "      <th>condition</th>\n",
              "      <th>drug</th>\n",
              "      <th>drugid</th>\n",
              "      <th>easeofuse</th>\n",
              "      <th>effectiveness</th>\n",
              "      <th>reviews</th>\n",
              "      <th>usefulcount</th>\n",
              "      <th>satisfaction</th>\n",
              "      <th>uniqueid</th>\n",
              "    </tr>\n",
              "  </thead>\n",
              "  <tbody>\n",
              "    <tr>\n",
              "      <th>18095</th>\n",
              "      <td>19-24</td>\n",
              "      <td>Birth Control</td>\n",
              "      <td>skyla intrauterine device</td>\n",
              "      <td>163305</td>\n",
              "      <td>3</td>\n",
              "      <td>5</td>\n",
              "      <td>i have been on the skyla for 4 months now, and...</td>\n",
              "      <td>2</td>\n",
              "      <td>3.0</td>\n",
              "      <td>0</td>\n",
              "    </tr>\n",
              "    <tr>\n",
              "      <th>21854</th>\n",
              "      <td>45-54</td>\n",
              "      <td>Sarcoidosis</td>\n",
              "      <td>prednisone concentrate</td>\n",
              "      <td>6007</td>\n",
              "      <td>2</td>\n",
              "      <td>3</td>\n",
              "      <td>too many side affects,,,horrible!</td>\n",
              "      <td>3</td>\n",
              "      <td>3.0</td>\n",
              "      <td>1</td>\n",
              "    </tr>\n",
              "    <tr>\n",
              "      <th>40007</th>\n",
              "      <td>45-54</td>\n",
              "      <td>Other</td>\n",
              "      <td>provigil</td>\n",
              "      <td>16964</td>\n",
              "      <td>5</td>\n",
              "      <td>5</td>\n",
              "      <td>i have taken provigil for fatigue due to ms ab...</td>\n",
              "      <td>22</td>\n",
              "      <td>5.0</td>\n",
              "      <td>2</td>\n",
              "    </tr>\n",
              "    <tr>\n",
              "      <th>39811</th>\n",
              "      <td>25-34</td>\n",
              "      <td>Other</td>\n",
              "      <td>prodrin 65 mg-20 mg-325 mg tablet non-opioid a...</td>\n",
              "      <td>151495</td>\n",
              "      <td>4</td>\n",
              "      <td>5</td>\n",
              "      <td>i have suffered for migraines for 3 or 4 years...</td>\n",
              "      <td>17</td>\n",
              "      <td>5.0</td>\n",
              "      <td>3</td>\n",
              "    </tr>\n",
              "    <tr>\n",
              "      <th>3265</th>\n",
              "      <td>45-54</td>\n",
              "      <td>Joint Damage causing Pain and Loss of Function</td>\n",
              "      <td>piroxicam</td>\n",
              "      <td>10942</td>\n",
              "      <td>3</td>\n",
              "      <td>4</td>\n",
              "      <td>i have knee and back problems. i was prescribe...</td>\n",
              "      <td>9</td>\n",
              "      <td>1.0</td>\n",
              "      <td>4</td>\n",
              "    </tr>\n",
              "  </tbody>\n",
              "</table>\n",
              "</div>"
            ],
            "text/plain": [
              "         age  ... uniqueid\n",
              "18095  19-24  ...        0\n",
              "21854  45-54  ...        1\n",
              "40007  45-54  ...        2\n",
              "39811  25-34  ...        3\n",
              "3265   45-54  ...        4\n",
              "\n",
              "[5 rows x 10 columns]"
            ]
          },
          "metadata": {
            "tags": []
          },
          "execution_count": 16
        }
      ]
    },
    {
      "cell_type": "markdown",
      "metadata": {
        "_uuid": "1bd4479c3cf50ef94ede37c534c614d63f281d09",
        "id": "mpPlGfl97PJb",
        "colab_type": "text"
      },
      "source": [
        "## Descriptive Analysis\n"
      ]
    },
    {
      "cell_type": "markdown",
      "metadata": {
        "_uuid": "21f27039787d989de7c88dd89b85ea1987018625",
        "id": "XZUrxpOI7PJc",
        "colab_type": "text"
      },
      "source": [
        "### Top 10 Reviewed Drugs"
      ]
    },
    {
      "cell_type": "code",
      "metadata": {
        "trusted": true,
        "_uuid": "f16ea5b368c49b31858d6eeafb59e76f6eaa0ef6",
        "id": "gYDXmEh97PJc",
        "colab_type": "code",
        "colab": {
          "base_uri": "https://localhost:8080/",
          "height": 514
        },
        "outputId": "8227c07c-412e-45c2-b439-5b79d6f0c79e"
      },
      "source": [
        "# Top 10 most reviewed drug names\n",
        "plot = drugs.drug.value_counts().nlargest(10).plot(kind='bar', title=\"Top 10 reviewed drugs\", figsize=(12,6))"
      ],
      "execution_count": 17,
      "outputs": [
        {
          "output_type": "display_data",
          "data": {
            "image/png": "[encoded data removed]",
            "text/plain": [
              "<Figure size 864x432 with 1 Axes>"
            ]
          },
          "metadata": {
            "tags": [],
            "needs_background": "light"
          }
        }
      ]
    },
    {
      "cell_type": "markdown",
      "metadata": {
        "_uuid": "99e11383a879a953948824850dd53c3213b26da6",
        "id": "u8iBWtrj7PJf",
        "colab_type": "text"
      },
      "source": [
        "### Top 10 conditions undergoing by drug reviewers"
      ]
    },
    {
      "cell_type": "code",
      "metadata": {
        "trusted": true,
        "_uuid": "bff251a70cf485ee3cef2c5b778bea947f0d5a96",
        "id": "b2Wdswkx7PJg",
        "colab_type": "code",
        "colab": {
          "base_uri": "https://localhost:8080/",
          "height": 603
        },
        "outputId": "8395501b-fa80-444f-808d-c055753b05ea"
      },
      "source": [
        "# Top 10 most suffered condition by reviewers\n",
        "plot = drugs.condition.value_counts().nlargest(10).plot(kind='bar', title=\"Top 10 conditions in reviews\", figsize=(12,6))"
      ],
      "execution_count": 18,
      "outputs": [
        {
          "output_type": "display_data",
          "data": {
            "image/png": "[encoded data removed]",
            "text/plain": [
              "<Figure size 864x432 with 1 Axes>"
            ]
          },
          "metadata": {
            "tags": [],
            "needs_background": "light"
          }
        }
      ]
    },
    {
      "cell_type": "markdown",
      "metadata": {
        "_uuid": "7e96f07fca2e6310085893f128d95a2a53a4f184",
        "id": "TmBO_Q687PJi",
        "colab_type": "text"
      },
      "source": [
        "### Top 10 drugs with best and worst rating\n",
        "\n",
        "When doing this analysis for all the drugs, there is a factor which affect the results: **the number of reviews of a drug**. I.e. if we want to compute the drug with best rating, the drug which in **only 1 review** was given a 10 rating would be in TOP 1. For this reason, we only consider drugs with a significant number of reviews. A significant number of reviews is when the number of reviews for a drug is above the 75% of the number of reviews distribution per drug.\n"
      ]
    },
    {
      "cell_type": "code",
      "metadata": {
        "trusted": true,
        "_uuid": "81b8bbe61ea3e8dcfb54d6eb89362c94a352e4bb",
        "id": "FFXcIGsw7PJj",
        "colab_type": "code",
        "colab": {
          "base_uri": "https://localhost:8080/",
          "height": 910
        },
        "outputId": "664e621d-43db-43c6-9e9e-cd867641d46c"
      },
      "source": [
        "drugs_rating = drugs.groupby('drug').agg({\n",
        "    'satisfaction': np.mean,\n",
        "    'uniqueid': pd.Series.nunique\n",
        "})\n",
        "\n",
        "print(\"Significant number of reviews: More than\", reviews_per_drug.quantile(q=0.75).values[0], \"reviews\")\n",
        "\n",
        "# We only use the drugs which number of reviews is higher than a threshold\n",
        "drugs_rating = drugs_rating[drugs_rating['uniqueid'] > int(reviews_per_drug.quantile(q=0.75))]\n",
        "\n",
        "# Top 10\n",
        "top_drugs_rating = drugs_rating.nlargest(10, 'satisfaction')\n",
        "plot = top_drugs_rating.plot(y='satisfaction', kind='bar', figsize = (16, 3))\n",
        "dummy = plt.title(\"Top 10 'significant' drugs with best rating\") # Assigned to variable to prevent output\n",
        "dummy = plt.ylim(4, 5) # Assigned to variable to prevent output\n",
        "\n",
        "# Bottom 10\n",
        "bottom_drugs_rating = drugs_rating.nsmallest(10, 'satisfaction')\n",
        "plot = bottom_drugs_rating.plot(y='satisfaction', kind='bar', figsize = (16, 3))\n",
        "dummy = plt.title(\"Top 10 'significant' drugs with worst rating\") # Assigned to variable to prevent output\n",
        "dummy = plt.ylim(1, 3) # Assigned to variable to prevent output"
      ],
      "execution_count": 19,
      "outputs": [
        {
          "output_type": "stream",
          "text": [
            "Significant number of reviews: More than 14.0 reviews\n"
          ],
          "name": "stdout"
        },
        {
          "output_type": "display_data",
          "data": {
            "image/png": "[encoded data removed]",
            "text/plain": [
              "<Figure size 1152x216 with 1 Axes>"
            ]
          },
          "metadata": {
            "tags": [],
            "needs_background": "light"
          }
        },
        {
          "output_type": "display_data",
          "data": {
            "image/png": "[encoded data removed]",
            "text/plain": [
              "<Figure size 1152x216 with 1 Axes>"
            ]
          },
          "metadata": {
            "tags": [],
            "needs_background": "light"
          }
        }
      ]
    },
    {
      "cell_type": "markdown",
      "metadata": {
        "_uuid": "d6d058a52a8a2e7b297679d2b5f5f8a351d1dffb",
        "id": "59vpYdmP7PJm",
        "colab_type": "text"
      },
      "source": [
        "### Analyzing Pairs (Drug, Condition) with best and worst ratings\n",
        "\n",
        "We theorize that the rating of a drug, is strongly related to the condition that the person who reviewed was suffering. We are going to compute the top 10 best and worst rating of reviews for (Drug, condition) pairs."
      ]
    },
    {
      "cell_type": "code",
      "metadata": {
        "trusted": true,
        "_uuid": "bdd2896065bcba7fe0f3acc83eba37fc1c53c545",
        "id": "Fj2G98887PJm",
        "colab_type": "code",
        "colab": {
          "base_uri": "https://localhost:8080/",
          "height": 1000
        },
        "outputId": "0b136450-e26d-4f51-9298-36487c4c25a4"
      },
      "source": [
        "drugs_condition_rating = drugs.groupby(['drug', 'condition']).agg({\n",
        "    'satisfaction': np.mean,\n",
        "    'uniqueid': pd.Series.nunique\n",
        "})\n",
        "\n",
        "print(\"Number of pairs (Drug, Condition):\", len(drugs_condition_rating))\n",
        "\n",
        "print(\"Significant number of reviews: More than\", drugs_condition_rating['uniqueid'].quantile(q=0.75), \"reviews\")\n",
        "\n",
        "drugs_condition_rating = drugs_condition_rating[drugs_condition_rating['uniqueid'] > int(drugs_condition_rating['uniqueid'].quantile(q=0.75))]\n",
        "# drugs_condition_rating.sort_values('rating', ascending=False)\n",
        "top_drugs_condition_rating = drugs_condition_rating.nlargest(10, 'satisfaction')\n",
        "plot = top_drugs_condition_rating.plot(y='satisfaction', kind='bar', figsize = (16, 3))\n",
        "dummy = plt.title(\"Top 10 (Drug - Condition) with best rating\") # Assigned to variable to prevent output\n",
        "dummy = plt.ylim(4, 5) # Assigned to variable to prevent output\n",
        "\n",
        "bottom_drugs_condition_rating = drugs_condition_rating.nsmallest(10, 'satisfaction')\n",
        "plot = bottom_drugs_condition_rating.plot(y='satisfaction', kind='bar', figsize = (16, 3))\n",
        "dummy = plt.title(\"Top 10 (Drug - Condition) with worst rating\") # Assigned to variable to prevent output\n",
        "dummy = plt.ylim(1, 3) # Assigned to variable to prevent output"
      ],
      "execution_count": 20,
      "outputs": [
        {
          "output_type": "stream",
          "text": [
            "Number of pairs (Drug, Condition): 4186\n",
            "Significant number of reviews: More than 7.0 reviews\n"
          ],
          "name": "stdout"
        },
        {
          "output_type": "display_data",
          "data": {
            "image/png": "[encoded data removed]",
            "text/plain": [
              "<Figure size 1152x216 with 1 Axes>"
            ]
          },
          "metadata": {
            "tags": [],
            "needs_background": "light"
          }
        },
        {
          "output_type": "display_data",
          "data": {
            "image/png": "[encoded data removed]",
            "text/plain": [
              "<Figure size 1152x216 with 1 Axes>"
            ]
          },
          "metadata": {
            "tags": [],
            "needs_background": "light"
          }
        }
      ]
    },
    {
      "cell_type": "markdown",
      "metadata": {
        "_uuid": "1f2fe1f3ad597c01b77ed36c8c0dc4e42824b85f",
        "id": "WAUBLIFT7PJp",
        "colab_type": "text"
      },
      "source": [
        "## Temporal Analysis\n",
        "\n",
        "Building a good prediction model is **no** trivial task. Temporal features ***could*** help a model to perform better if we can foresee some **temporal patterns**. We will analyze monthly patterns over different years of all the reviews."
      ]
    },
    {
      "cell_type": "code",
      "metadata": {
        "id": "tMqPWFwKL8xW",
        "colab_type": "code",
        "colab": {}
      },
      "source": [
        "# Our target column has been labeled as 1=Positive, 0= Negative, to get 1/0 output after we perform our operations on Reviews column.\n",
        "# We only want a review to be classified either as Positive(1)(if rating is above 3) or Negative(0)(if rating is 3 and less).\n",
        "labels = drugs['satisfaction'].map(lambda x : 1 if int(x) > 3 else 0)"
      ],
      "execution_count": 21,
      "outputs": []
    },
    {
      "cell_type": "code",
      "metadata": {
        "trusted": true,
        "_uuid": "a120c3db91cf8281e954a2a9f95a99e5b1a1ba74",
        "id": "bzPLytVi7PJq",
        "colab_type": "code",
        "colab": {}
      },
      "source": [
        "# Function to perform cleansing operations on our Text column\n",
        "def clean_reviews(reviews):\n",
        "    \n",
        "    ## Remove puncuation\n",
        "    reviews = reviews.translate(string.punctuation)\n",
        "    \n",
        "    ## Convert words to lower case and split them\n",
        "    reviews = reviews.lower().split()\n",
        "    \n",
        "    ## Remove stop words\n",
        "    stops = set(stopwords.words(\"english\"))\n",
        "    reviews = [w for w in reviews if not w in stops and len(w) >= 3]\n",
        "    \n",
        "    reviews = \" \".join(reviews)\n",
        "\n",
        "    # Clean the reviews\n",
        "    reviews = re.sub(r\"[^A-Za-z0-9^,!.\\/'+-=]\", \" \", reviews)\n",
        "    reviews = re.sub(r\"what's\", \"what is \", reviews)\n",
        "    reviews = re.sub(r\"\\'s\", \" \", reviews)\n",
        "    reviews = re.sub(r\"\\'ve\", \" have \", reviews)\n",
        "    reviews = re.sub(r\"n't\", \" not \", reviews)\n",
        "    reviews = re.sub(r\"i'm\", \"i am \", reviews)\n",
        "    reviews = re.sub(r\"\\'re\", \" are \", reviews)\n",
        "    reviews = re.sub(r\"\\'d\", \" would \", reviews)\n",
        "    reviews = re.sub(r\"\\'ll\", \" will \", reviews)\n",
        "    reviews = re.sub(r\",\", \" \", reviews)\n",
        "    reviews = re.sub(r\"\\.\", \" \", reviews)\n",
        "    reviews = re.sub(r\"!\", \" ! \", reviews)\n",
        "    reviews = re.sub(r\"\\/\", \" \", reviews)\n",
        "    reviews = re.sub(r\"\\^\", \" ^ \", reviews)\n",
        "    reviews = re.sub(r\"\\+\", \" + \", reviews)\n",
        "    reviews = re.sub(r\"\\-\", \" - \", reviews)\n",
        "    reviews = re.sub(r\"\\=\", \" = \", reviews)\n",
        "    reviews = re.sub(r\"'\", \" \", reviews)\n",
        "    reviews = re.sub(r\"(\\d+)(k)\", r\"\\g<1>000\", reviews)\n",
        "    reviews = re.sub(r\":\", \" : \", reviews)\n",
        "    reviews = re.sub(r\" e g \", \" eg \", reviews)\n",
        "    reviews = re.sub(r\" b g \", \" bg \", reviews)\n",
        "    reviews = re.sub(r\" u s \", \" american \", reviews)\n",
        "    reviews = re.sub(r\"\\0s\", \"0\", reviews)\n",
        "    reviews = re.sub(r\" 9 11 \", \"911\", reviews)\n",
        "    reviews = re.sub(r\"e - mail\", \"email\", reviews)\n",
        "    reviews = re.sub(r\"j k\", \"jk\", reviews)\n",
        "    reviews = re.sub(r\"\\s{2,}\", \" \", reviews)\n",
        "    \n",
        "    reviews = reviews.split()\n",
        "    stemmer = SnowballStemmer('english')\n",
        "    stemmed_words = [stemmer.stem(word) for word in reviews]\n",
        "    reviews = \" \".join(stemmed_words)\n",
        "\n",
        "    return reviews"
      ],
      "execution_count": 22,
      "outputs": []
    },
    {
      "cell_type": "code",
      "metadata": {
        "trusted": true,
        "_uuid": "f0d8ef760881866f8548e0f6a5d8c026477c8550",
        "id": "gi9pWwKF7PJu",
        "colab_type": "code",
        "colab": {}
      },
      "source": [
        "drugs['reviews_clean'] = drugs['reviews'].map(lambda x: clean_reviews(x))"
      ],
      "execution_count": 23,
      "outputs": []
    },
    {
      "cell_type": "code",
      "metadata": {
        "trusted": true,
        "_uuid": "8a28655fc06b9e44c25b8e6a1b2fde6aa570bfbd",
        "id": "oJEk0jEl7PJx",
        "colab_type": "code",
        "colab": {
          "base_uri": "https://localhost:8080/",
          "height": 34
        },
        "outputId": "6a0317f8-a371-4a61-bbf0-e24d086a2fe7"
      },
      "source": [
        "drugs.shape"
      ],
      "execution_count": 24,
      "outputs": [
        {
          "output_type": "execute_result",
          "data": {
            "text/plain": [
              "(42470, 11)"
            ]
          },
          "metadata": {
            "tags": []
          },
          "execution_count": 24
        }
      ]
    },
    {
      "cell_type": "code",
      "metadata": {
        "id": "9YvMwVCstVnu",
        "colab_type": "code",
        "colab": {}
      },
      "source": [
        "drugs_copy=drugs"
      ],
      "execution_count": 25,
      "outputs": []
    },
    {
      "cell_type": "markdown",
      "metadata": {
        "_uuid": "70e65bc849d8b7633facf67ff44e887af54b7def",
        "id": "b5fNu_LZ7PJ2",
        "colab_type": "text"
      },
      "source": [
        "## Sentiment Analysis\n",
        "\n",
        "We will analyze the sentiment of the reviews. We theorize that **the sentiment embedded on a review can be a key factor** to determine the review rating, the review impact on people (usefulCount), or how good a drug is for an specific condition. \n",
        "\n",
        "However, reviews can expose many different manifestations, such as: condition symptoms (usually negative), feelings before the drug (usually negative), feelings after the drug (could be positive or negative), side effects (usually negative), symptoms after the drug (could be positive or negative). This mix of manifestations could make any sentiment analysis method to struggle determining a single score for the entire review. Therefore, a aspect-based S.A. could be more viable (such as the ones used by Gräßer et al.).\n",
        "\n",
        "For now, we are going to use Vader [1], a rule-based sentiment analysis approach available in Python NLTK. To **obtain a single sentiment score for every review** (-1|negative to 1|positive), and see how it correlates with ratings (spearman coeff.).\n",
        "\n",
        "Before doing this, **text** must be processed:\n",
        "\n",
        "- HTML characters are converted to legible text\n",
        "- Punctuation signs are removed\n",
        "\n",
        "[1] Gilbert, C. H. E. (2014). Vader: A parsimonious rule-based model for sentiment analysis of social media text. In Eighth International Conference on Weblogs and Social Media (ICWSM-14). Available at (20/04/16) http://comp.social.gatech.edu/papers/icwsm14.vader.hutto.pdf."
      ]
    },
    {
      "cell_type": "code",
      "metadata": {
        "id": "pEPR8GtflIvw",
        "colab_type": "code",
        "colab": {}
      },
      "source": [
        "#TextBlob\n",
        "from textblob import TextBlob\n",
        "from collections import Counter\n",
        "from sklearn.metrics import confusion_matrix, precision_score, recall_score, f1_score\n",
        "from sklearn.preprocessing import LabelEncoder"
      ],
      "execution_count": 26,
      "outputs": []
    },
    {
      "cell_type": "code",
      "metadata": {
        "id": "zR0XOYkclIdU",
        "colab_type": "code",
        "colab": {
          "base_uri": "https://localhost:8080/",
          "height": 90
        },
        "outputId": "427ed7b8-98bb-4f9d-d011-34f40d4b5087"
      },
      "source": [
        "# VADER\n",
        "nltk.download('vader_lexicon')\n",
        "from nltk.sentiment.vader import SentimentIntensityAnalyzer"
      ],
      "execution_count": 27,
      "outputs": [
        {
          "output_type": "stream",
          "text": [
            "[nltk_data] Downloading package vader_lexicon to /root/nltk_data...\n"
          ],
          "name": "stdout"
        },
        {
          "output_type": "stream",
          "text": [
            "/usr/local/lib/python3.6/dist-packages/nltk/twitter/__init__.py:20: UserWarning: The twython library has not been installed. Some functionality from the twitter package will not be available.\n",
            "  warnings.warn(\"The twython library has not been installed. \"\n"
          ],
          "name": "stderr"
        }
      ]
    },
    {
      "cell_type": "code",
      "metadata": {
        "id": "rJEJoBlgkvpG",
        "colab_type": "code",
        "colab": {}
      },
      "source": [
        "# TextBlob operations, which return values in btw -1 to +1, for sentiment polarity using pretrained lexicon with vectorised values.\n",
        "def sentiment(reviews):\n",
        "    # Sentiment polarity of the reviews\n",
        "    pol = []\n",
        "    for i in reviews:\n",
        "        analysis = TextBlob(i)\n",
        "        pol.append(analysis.sentiment.polarity)\n",
        "    return pol\n",
        "drugs['sentiment_textblob'] = sentiment(drugs['reviews'])\n"
      ],
      "execution_count": 28,
      "outputs": []
    },
    {
      "cell_type": "code",
      "metadata": {
        "id": "3q0-oqB8kvcU",
        "colab_type": "code",
        "colab": {
          "base_uri": "https://localhost:8080/",
          "height": 52
        },
        "outputId": "388b60f8-0e2e-4e60-cc92-bf64d3cd9c41"
      },
      "source": [
        "# Correlation with our Target column \"Satisfaction\"\n",
        "np.corrcoef(drugs['sentiment_textblob'], drugs['satisfaction'])"
      ],
      "execution_count": 29,
      "outputs": [
        {
          "output_type": "execute_result",
          "data": {
            "text/plain": [
              "array([[1.        , 0.28203158],\n",
              "       [0.28203158, 1.        ]])"
            ]
          },
          "metadata": {
            "tags": []
          },
          "execution_count": 29
        }
      ]
    },
    {
      "cell_type": "code",
      "metadata": {
        "id": "zskv2n7qkvQH",
        "colab_type": "code",
        "colab": {}
      },
      "source": [
        "\n",
        "# Importing Vader, another method we're using to extract sentiment polarity from our Reviews Column\n",
        "analyser = SentimentIntensityAnalyzer()"
      ],
      "execution_count": 30,
      "outputs": []
    },
    {
      "cell_type": "code",
      "metadata": {
        "id": "mtobgWeVk-6Y",
        "colab_type": "code",
        "colab": {
          "base_uri": "https://localhost:8080/",
          "height": 70
        },
        "outputId": "3afa9157-44e5-4a60-e44b-494805447427"
      },
      "source": [
        "%time   #to calulate the time it takes the algorithm to compute a VADER score\n",
        "i=0 #counter\n",
        "compval1 = [ ]  #empty list to hold our computed 'compound' VADER scores\n",
        "while (i<len(drugs)):\n",
        "    k = analyser.polarity_scores(drugs.iloc[i]['reviews'])\n",
        "    compval1.append(k['compound'])\n",
        "    i = i+1\n",
        "    \n",
        "#converting sentiment values to numpy for easier usage\n",
        "compval1 = np.array(compval1)\n",
        "len(compval1)"
      ],
      "execution_count": 31,
      "outputs": [
        {
          "output_type": "stream",
          "text": [
            "CPU times: user 2 µs, sys: 0 ns, total: 2 µs\n",
            "Wall time: 4.53 µs\n"
          ],
          "name": "stdout"
        },
        {
          "output_type": "execute_result",
          "data": {
            "text/plain": [
              "42470"
            ]
          },
          "metadata": {
            "tags": []
          },
          "execution_count": 31
        }
      ]
    },
    {
      "cell_type": "code",
      "metadata": {
        "id": "fcxDmeJjk-na",
        "colab_type": "code",
        "colab": {
          "base_uri": "https://localhost:8080/",
          "height": 52
        },
        "outputId": "e37e0b66-a8ed-47e2-cff0-a1a2e1e2a4d4"
      },
      "source": [
        "# We can see correlation of Vader_score with our Target column, which turns out to be lil better than Textblob output.\n",
        "drugs['Vader_score'] = compval1\n",
        "np.corrcoef(drugs['Vader_score'], drugs['satisfaction'])"
      ],
      "execution_count": 32,
      "outputs": [
        {
          "output_type": "execute_result",
          "data": {
            "text/plain": [
              "array([[1.        , 0.32992177],\n",
              "       [0.32992177, 1.        ]])"
            ]
          },
          "metadata": {
            "tags": []
          },
          "execution_count": 32
        }
      ]
    },
    {
      "cell_type": "code",
      "metadata": {
        "id": "guR_OKIBk-dm",
        "colab_type": "code",
        "colab": {}
      },
      "source": [
        ""
      ],
      "execution_count": 32,
      "outputs": []
    },
    {
      "cell_type": "code",
      "metadata": {
        "id": "TYsNA8VW7ymT",
        "colab_type": "code",
        "colab": {
          "base_uri": "https://localhost:8080/",
          "height": 390
        },
        "outputId": "1792c442-8ee8-4c7a-96d4-1295c284c19a"
      },
      "source": [
        "# Counting how many times each condition occured in our dataset, with head of 20\n",
        "drugs['condition'].value_counts().head(20)"
      ],
      "execution_count": 33,
      "outputs": [
        {
          "output_type": "execute_result",
          "data": {
            "text/plain": [
              "Other                                                        6038\n",
              "Birth Control                                                2703\n",
              "Depression                                                   2608\n",
              "Pain                                                         1607\n",
              "Chronic Trouble Sleeping                                     1407\n",
              "High Blood Pressure                                          1007\n",
              "Overweight                                                    955\n",
              "Attention Deficit Disorder with Hyperactivity                 877\n",
              "High Cholesterol                                              853\n",
              "Migraine Prevention                                           788\n",
              "Bipolar Depression                                            779\n",
              "Major Depressive Disorder                                     652\n",
              "Disorder characterized by Stiff, Tender & Painful Muscles     571\n",
              "Migraine Headache                                             563\n",
              "Panic Disorder                                                544\n",
              "Rheumatoid Arthritis                                          517\n",
              "Acne                                                          463\n",
              "Asthma                                                        410\n",
              "Muscle Spasm                                                  377\n",
              "Underactive Thyroid                                           369\n",
              "Name: condition, dtype: int64"
            ]
          },
          "metadata": {
            "tags": []
          },
          "execution_count": 33
        }
      ]
    },
    {
      "cell_type": "markdown",
      "metadata": {
        "id": "_AXFEXYQ-iWd",
        "colab_type": "text"
      },
      "source": [
        "# Feature Engineering"
      ]
    },
    {
      "cell_type": "code",
      "metadata": {
        "trusted": true,
        "_uuid": "c67dafd5a56dfbe0ce25b56bb7763b7dcc8d9d18",
        "id": "rGGLWsjO7PJ5",
        "colab_type": "code",
        "colab": {
          "base_uri": "https://localhost:8080/",
          "height": 52
        },
        "outputId": "54ec5c78-b56f-4b0f-d636-b42dab447e94"
      },
      "source": [
        "#Word count in each review\n",
        "drugs['count_word']=drugs[\"reviews_clean\"].apply(lambda x: len(str(x).split()))\n",
        "\n",
        "#Unique word count \n",
        "drugs['count_unique_word']=drugs[\"reviews_clean\"].apply(lambda x: len(set(str(x).split())))\n",
        "\n",
        "#Letter count\n",
        "drugs['count_letters']=drugs[\"reviews_clean\"].apply(lambda x: len(str(x)))\n",
        "\n",
        "#punctuation count\n",
        "drugs[\"count_punctuations\"] = drugs[\"reviews\"].apply(lambda x: len([c for c in str(x) if c in string.punctuation]))\n",
        "\n",
        "\n",
        "#Number of stopwords\n",
        "stops = set(stopwords.words(\"english\"))\n",
        "drugs[\"count_stopwords\"] = drugs[\"reviews\"].apply(lambda x: len([w for w in str(x).lower().split() if w in stops]))\n",
        "\n",
        "#Average length of the words\n",
        "drugs[\"mean_word_len\"] = drugs[\"reviews_clean\"].apply(lambda x: np.mean([len(w) for w in str(x).split()]))"
      ],
      "execution_count": 34,
      "outputs": [
        {
          "output_type": "stream",
          "text": [
            "/usr/local/lib/python3.6/dist-packages/numpy/core/fromnumeric.py:3335: RuntimeWarning: Mean of empty slice.\n",
            "  out=out, **kwargs)\n"
          ],
          "name": "stderr"
        }
      ]
    },
    {
      "cell_type": "code",
      "metadata": {
        "trusted": true,
        "_uuid": "f2471e72f47ee19eecd4252f1dd96940308b009f",
        "id": "Sd-jPhEl7PJ_",
        "colab_type": "code",
        "colab": {}
      },
      "source": [
        "# Label Encoding Conditions\n",
        "from sklearn.preprocessing import LabelEncoder\n",
        "label_encoder_feat = {}\n",
        "for feature in ['condition']:\n",
        "    label_encoder_feat[feature] = LabelEncoder()\n",
        "    drugs[feature] = label_encoder_feat[feature].fit_transform(drugs[feature])"
      ],
      "execution_count": 35,
      "outputs": []
    },
    {
      "cell_type": "code",
      "metadata": {
        "id": "AnpcOH8OHIoS",
        "colab_type": "code",
        "colab": {}
      },
      "source": [
        "drugs['easeofuse']=drugs['easeofuse'].astype(float)\n",
        "drugs['effectiveness']=drugs['effectiveness'].astype(float)\n",
        "drugs['usefulcount']=drugs['usefulcount'].astype(float)"
      ],
      "execution_count": 36,
      "outputs": []
    },
    {
      "cell_type": "code",
      "metadata": {
        "id": "Hb5OIlubD5sm",
        "colab_type": "code",
        "colab": {}
      },
      "source": [
        "corr=drugs.corr(method ='pearson')"
      ],
      "execution_count": 37,
      "outputs": []
    },
    {
      "cell_type": "code",
      "metadata": {
        "id": "eIlThq6pEhwh",
        "colab_type": "code",
        "colab": {
          "base_uri": "https://localhost:8080/",
          "height": 287
        },
        "outputId": "1bb8f6d2-2d0d-42e9-b14d-d738f4b5a861"
      },
      "source": [
        "cmap = cmap=sns.diverging_palette(5, 250, as_cmap=True)\n",
        "\n",
        "def magnify():\n",
        "    return [dict(selector=\"th\",\n",
        "                 props=[(\"font-size\", \"7pt\")]),\n",
        "            dict(selector=\"td\",\n",
        "                 props=[('padding', \"0em 0em\")]),\n",
        "            dict(selector=\"th:hover\",\n",
        "                 props=[(\"font-size\", \"12pt\")]),\n",
        "            dict(selector=\"tr:hover td:hover\",\n",
        "                 props=[('max-width', '200px'),\n",
        "                        ('font-size', '12pt')])\n",
        "]\n",
        "\n",
        "corr.style.background_gradient(cmap, axis=1)\\\n",
        "    .set_properties(**{'max-width': '80px', 'font-size': '10pt'})\\\n",
        "    .set_caption(\"Hover to magify\")\\\n",
        "    .set_precision(2)\\\n",
        "    .set_table_styles(magnify())"
      ],
      "execution_count": 38,
      "outputs": [
        {
          "output_type": "execute_result",
          "data": {
            "text/html": [
              "<style  type=\"text/css\" >\n",
              "    #T_a9cf21d0_c452_11ea_8b21_0242ac1c0002 th {\n",
              "          font-size: 7pt;\n",
              "    }    #T_a9cf21d0_c452_11ea_8b21_0242ac1c0002 td {\n",
              "          padding: 0em 0em;\n",
              "    }    #T_a9cf21d0_c452_11ea_8b21_0242ac1c0002 th:hover {\n",
              "          font-size: 12pt;\n",
              "    }    #T_a9cf21d0_c452_11ea_8b21_0242ac1c0002 tr:hover td:hover {\n",
              "          max-width: 200px;\n",
              "          font-size: 12pt;\n",
              "    }    #T_a9cf21d0_c452_11ea_8b21_0242ac1c0002row0_col0 {\n",
              "            background-color:  #4479bb;\n",
              "            color:  #000000;\n",
              "            max-width:  80px;\n",
              "            font-size:  10pt;\n",
              "        }    #T_a9cf21d0_c452_11ea_8b21_0242ac1c0002row0_col1 {\n",
              "            background-color:  #d94764;\n",
              "            color:  #f1f1f1;\n",
              "            max-width:  80px;\n",
              "            font-size:  10pt;\n",
              "        }    #T_a9cf21d0_c452_11ea_8b21_0242ac1c0002row0_col2 {\n",
              "            background-color:  #d94261;\n",
              "            color:  #f1f1f1;\n",
              "            max-width:  80px;\n",
              "            font-size:  10pt;\n",
              "        }    #T_a9cf21d0_c452_11ea_8b21_0242ac1c0002row0_col3 {\n",
              "            background-color:  #db4e6a;\n",
              "            color:  #000000;\n",
              "            max-width:  80px;\n",
              "            font-size:  10pt;\n",
              "        }    #T_a9cf21d0_c452_11ea_8b21_0242ac1c0002row0_col4 {\n",
              "            background-color:  #de5b75;\n",
              "            color:  #000000;\n",
              "            max-width:  80px;\n",
              "            font-size:  10pt;\n",
              "        }    #T_a9cf21d0_c452_11ea_8b21_0242ac1c0002row0_col5 {\n",
              "            background-color:  #db4e6a;\n",
              "            color:  #000000;\n",
              "            max-width:  80px;\n",
              "            font-size:  10pt;\n",
              "        }    #T_a9cf21d0_c452_11ea_8b21_0242ac1c0002row0_col6 {\n",
              "            background-color:  #da4b68;\n",
              "            color:  #000000;\n",
              "            max-width:  80px;\n",
              "            font-size:  10pt;\n",
              "        }    #T_a9cf21d0_c452_11ea_8b21_0242ac1c0002row0_col7 {\n",
              "            background-color:  #d94563;\n",
              "            color:  #f1f1f1;\n",
              "            max-width:  80px;\n",
              "            font-size:  10pt;\n",
              "        }    #T_a9cf21d0_c452_11ea_8b21_0242ac1c0002row0_col8 {\n",
              "            background-color:  #d73d5c;\n",
              "            color:  #f1f1f1;\n",
              "            max-width:  80px;\n",
              "            font-size:  10pt;\n",
              "        }    #T_a9cf21d0_c452_11ea_8b21_0242ac1c0002row0_col9 {\n",
              "            background-color:  #d73d5c;\n",
              "            color:  #f1f1f1;\n",
              "            max-width:  80px;\n",
              "            font-size:  10pt;\n",
              "        }    #T_a9cf21d0_c452_11ea_8b21_0242ac1c0002row0_col10 {\n",
              "            background-color:  #d83e5d;\n",
              "            color:  #f1f1f1;\n",
              "            max-width:  80px;\n",
              "            font-size:  10pt;\n",
              "        }    #T_a9cf21d0_c452_11ea_8b21_0242ac1c0002row0_col11 {\n",
              "            background-color:  #d83e5d;\n",
              "            color:  #f1f1f1;\n",
              "            max-width:  80px;\n",
              "            font-size:  10pt;\n",
              "        }    #T_a9cf21d0_c452_11ea_8b21_0242ac1c0002row0_col12 {\n",
              "            background-color:  #d73c5b;\n",
              "            color:  #f1f1f1;\n",
              "            max-width:  80px;\n",
              "            font-size:  10pt;\n",
              "        }    #T_a9cf21d0_c452_11ea_8b21_0242ac1c0002row0_col13 {\n",
              "            background-color:  #db4f6b;\n",
              "            color:  #000000;\n",
              "            max-width:  80px;\n",
              "            font-size:  10pt;\n",
              "        }    #T_a9cf21d0_c452_11ea_8b21_0242ac1c0002row1_col0 {\n",
              "            background-color:  #d73c5b;\n",
              "            color:  #f1f1f1;\n",
              "            max-width:  80px;\n",
              "            font-size:  10pt;\n",
              "        }    #T_a9cf21d0_c452_11ea_8b21_0242ac1c0002row1_col1 {\n",
              "            background-color:  #4479bb;\n",
              "            color:  #000000;\n",
              "            max-width:  80px;\n",
              "            font-size:  10pt;\n",
              "        }    #T_a9cf21d0_c452_11ea_8b21_0242ac1c0002row1_col2 {\n",
              "            background-color:  #f2f2f2;\n",
              "            color:  #000000;\n",
              "            max-width:  80px;\n",
              "            font-size:  10pt;\n",
              "        }    #T_a9cf21d0_c452_11ea_8b21_0242ac1c0002row1_col3 {\n",
              "            background-color:  #dc526e;\n",
              "            color:  #000000;\n",
              "            max-width:  80px;\n",
              "            font-size:  10pt;\n",
              "        }    #T_a9cf21d0_c452_11ea_8b21_0242ac1c0002row1_col4 {\n",
              "            background-color:  #f2f2f2;\n",
              "            color:  #000000;\n",
              "            max-width:  80px;\n",
              "            font-size:  10pt;\n",
              "        }    #T_a9cf21d0_c452_11ea_8b21_0242ac1c0002row1_col5 {\n",
              "            background-color:  #d8415f;\n",
              "            color:  #f1f1f1;\n",
              "            max-width:  80px;\n",
              "            font-size:  10pt;\n",
              "        }    #T_a9cf21d0_c452_11ea_8b21_0242ac1c0002row1_col6 {\n",
              "            background-color:  #e68699;\n",
              "            color:  #000000;\n",
              "            max-width:  80px;\n",
              "            font-size:  10pt;\n",
              "        }    #T_a9cf21d0_c452_11ea_8b21_0242ac1c0002row1_col7 {\n",
              "            background-color:  #e7879b;\n",
              "            color:  #000000;\n",
              "            max-width:  80px;\n",
              "            font-size:  10pt;\n",
              "        }    #T_a9cf21d0_c452_11ea_8b21_0242ac1c0002row1_col8 {\n",
              "            background-color:  #d8415f;\n",
              "            color:  #f1f1f1;\n",
              "            max-width:  80px;\n",
              "            font-size:  10pt;\n",
              "        }    #T_a9cf21d0_c452_11ea_8b21_0242ac1c0002row1_col9 {\n",
              "            background-color:  #d94261;\n",
              "            color:  #f1f1f1;\n",
              "            max-width:  80px;\n",
              "            font-size:  10pt;\n",
              "        }    #T_a9cf21d0_c452_11ea_8b21_0242ac1c0002row1_col10 {\n",
              "            background-color:  #d8415f;\n",
              "            color:  #f1f1f1;\n",
              "            max-width:  80px;\n",
              "            font-size:  10pt;\n",
              "        }    #T_a9cf21d0_c452_11ea_8b21_0242ac1c0002row1_col11 {\n",
              "            background-color:  #d94462;\n",
              "            color:  #f1f1f1;\n",
              "            max-width:  80px;\n",
              "            font-size:  10pt;\n",
              "        }    #T_a9cf21d0_c452_11ea_8b21_0242ac1c0002row1_col12 {\n",
              "            background-color:  #d94563;\n",
              "            color:  #f1f1f1;\n",
              "            max-width:  80px;\n",
              "            font-size:  10pt;\n",
              "        }    #T_a9cf21d0_c452_11ea_8b21_0242ac1c0002row1_col13 {\n",
              "            background-color:  #d8405e;\n",
              "            color:  #f1f1f1;\n",
              "            max-width:  80px;\n",
              "            font-size:  10pt;\n",
              "        }    #T_a9cf21d0_c452_11ea_8b21_0242ac1c0002row2_col0 {\n",
              "            background-color:  #d73c5b;\n",
              "            color:  #f1f1f1;\n",
              "            max-width:  80px;\n",
              "            font-size:  10pt;\n",
              "        }    #T_a9cf21d0_c452_11ea_8b21_0242ac1c0002row2_col1 {\n",
              "            background-color:  #f2f2f2;\n",
              "            color:  #000000;\n",
              "            max-width:  80px;\n",
              "            font-size:  10pt;\n",
              "        }    #T_a9cf21d0_c452_11ea_8b21_0242ac1c0002row2_col2 {\n",
              "            background-color:  #4479bb;\n",
              "            color:  #000000;\n",
              "            max-width:  80px;\n",
              "            font-size:  10pt;\n",
              "        }    #T_a9cf21d0_c452_11ea_8b21_0242ac1c0002row2_col3 {\n",
              "            background-color:  #dd5a74;\n",
              "            color:  #000000;\n",
              "            max-width:  80px;\n",
              "            font-size:  10pt;\n",
              "        }    #T_a9cf21d0_c452_11ea_8b21_0242ac1c0002row2_col4 {\n",
              "            background-color:  #a0bbdc;\n",
              "            color:  #000000;\n",
              "            max-width:  80px;\n",
              "            font-size:  10pt;\n",
              "        }    #T_a9cf21d0_c452_11ea_8b21_0242ac1c0002row2_col5 {\n",
              "            background-color:  #d94563;\n",
              "            color:  #f1f1f1;\n",
              "            max-width:  80px;\n",
              "            font-size:  10pt;\n",
              "        }    #T_a9cf21d0_c452_11ea_8b21_0242ac1c0002row2_col6 {\n",
              "            background-color:  #e994a5;\n",
              "            color:  #000000;\n",
              "            max-width:  80px;\n",
              "            font-size:  10pt;\n",
              "        }    #T_a9cf21d0_c452_11ea_8b21_0242ac1c0002row2_col7 {\n",
              "            background-color:  #eb9bab;\n",
              "            color:  #000000;\n",
              "            max-width:  80px;\n",
              "            font-size:  10pt;\n",
              "        }    #T_a9cf21d0_c452_11ea_8b21_0242ac1c0002row2_col8 {\n",
              "            background-color:  #df617a;\n",
              "            color:  #000000;\n",
              "            max-width:  80px;\n",
              "            font-size:  10pt;\n",
              "        }    #T_a9cf21d0_c452_11ea_8b21_0242ac1c0002row2_col9 {\n",
              "            background-color:  #df637c;\n",
              "            color:  #000000;\n",
              "            max-width:  80px;\n",
              "            font-size:  10pt;\n",
              "        }    #T_a9cf21d0_c452_11ea_8b21_0242ac1c0002row2_col10 {\n",
              "            background-color:  #df617a;\n",
              "            color:  #000000;\n",
              "            max-width:  80px;\n",
              "            font-size:  10pt;\n",
              "        }    #T_a9cf21d0_c452_11ea_8b21_0242ac1c0002row2_col11 {\n",
              "            background-color:  #de5c76;\n",
              "            color:  #000000;\n",
              "            max-width:  80px;\n",
              "            font-size:  10pt;\n",
              "        }    #T_a9cf21d0_c452_11ea_8b21_0242ac1c0002row2_col12 {\n",
              "            background-color:  #e0657d;\n",
              "            color:  #000000;\n",
              "            max-width:  80px;\n",
              "            font-size:  10pt;\n",
              "        }    #T_a9cf21d0_c452_11ea_8b21_0242ac1c0002row2_col13 {\n",
              "            background-color:  #d94563;\n",
              "            color:  #f1f1f1;\n",
              "            max-width:  80px;\n",
              "            font-size:  10pt;\n",
              "        }    #T_a9cf21d0_c452_11ea_8b21_0242ac1c0002row3_col0 {\n",
              "            background-color:  #d73c5b;\n",
              "            color:  #f1f1f1;\n",
              "            max-width:  80px;\n",
              "            font-size:  10pt;\n",
              "        }    #T_a9cf21d0_c452_11ea_8b21_0242ac1c0002row3_col1 {\n",
              "            background-color:  #db4d69;\n",
              "            color:  #000000;\n",
              "            max-width:  80px;\n",
              "            font-size:  10pt;\n",
              "        }    #T_a9cf21d0_c452_11ea_8b21_0242ac1c0002row3_col2 {\n",
              "            background-color:  #db4f6b;\n",
              "            color:  #000000;\n",
              "            max-width:  80px;\n",
              "            font-size:  10pt;\n",
              "        }    #T_a9cf21d0_c452_11ea_8b21_0242ac1c0002row3_col3 {\n",
              "            background-color:  #4479bb;\n",
              "            color:  #000000;\n",
              "            max-width:  80px;\n",
              "            font-size:  10pt;\n",
              "        }    #T_a9cf21d0_c452_11ea_8b21_0242ac1c0002row3_col4 {\n",
              "            background-color:  #dc526e;\n",
              "            color:  #000000;\n",
              "            max-width:  80px;\n",
              "            font-size:  10pt;\n",
              "        }    #T_a9cf21d0_c452_11ea_8b21_0242ac1c0002row3_col5 {\n",
              "            background-color:  #d73c5b;\n",
              "            color:  #f1f1f1;\n",
              "            max-width:  80px;\n",
              "            font-size:  10pt;\n",
              "        }    #T_a9cf21d0_c452_11ea_8b21_0242ac1c0002row3_col6 {\n",
              "            background-color:  #da4865;\n",
              "            color:  #000000;\n",
              "            max-width:  80px;\n",
              "            font-size:  10pt;\n",
              "        }    #T_a9cf21d0_c452_11ea_8b21_0242ac1c0002row3_col7 {\n",
              "            background-color:  #d83e5d;\n",
              "            color:  #f1f1f1;\n",
              "            max-width:  80px;\n",
              "            font-size:  10pt;\n",
              "        }    #T_a9cf21d0_c452_11ea_8b21_0242ac1c0002row3_col8 {\n",
              "            background-color:  #e68699;\n",
              "            color:  #000000;\n",
              "            max-width:  80px;\n",
              "            font-size:  10pt;\n",
              "        }    #T_a9cf21d0_c452_11ea_8b21_0242ac1c0002row3_col9 {\n",
              "            background-color:  #e7899c;\n",
              "            color:  #000000;\n",
              "            max-width:  80px;\n",
              "            font-size:  10pt;\n",
              "        }    #T_a9cf21d0_c452_11ea_8b21_0242ac1c0002row3_col10 {\n",
              "            background-color:  #e68699;\n",
              "            color:  #000000;\n",
              "            max-width:  80px;\n",
              "            font-size:  10pt;\n",
              "        }    #T_a9cf21d0_c452_11ea_8b21_0242ac1c0002row3_col11 {\n",
              "            background-color:  #e47c91;\n",
              "            color:  #000000;\n",
              "            max-width:  80px;\n",
              "            font-size:  10pt;\n",
              "        }    #T_a9cf21d0_c452_11ea_8b21_0242ac1c0002row3_col12 {\n",
              "            background-color:  #e58195;\n",
              "            color:  #000000;\n",
              "            max-width:  80px;\n",
              "            font-size:  10pt;\n",
              "        }    #T_a9cf21d0_c452_11ea_8b21_0242ac1c0002row3_col13 {\n",
              "            background-color:  #d73c5b;\n",
              "            color:  #f1f1f1;\n",
              "            max-width:  80px;\n",
              "            font-size:  10pt;\n",
              "        }    #T_a9cf21d0_c452_11ea_8b21_0242ac1c0002row4_col0 {\n",
              "            background-color:  #dc516d;\n",
              "            color:  #000000;\n",
              "            max-width:  80px;\n",
              "            font-size:  10pt;\n",
              "        }    #T_a9cf21d0_c452_11ea_8b21_0242ac1c0002row4_col1 {\n",
              "            background-color:  #f2f2f2;\n",
              "            color:  #000000;\n",
              "            max-width:  80px;\n",
              "            font-size:  10pt;\n",
              "        }    #T_a9cf21d0_c452_11ea_8b21_0242ac1c0002row4_col2 {\n",
              "            background-color:  #a0bbdc;\n",
              "            color:  #000000;\n",
              "            max-width:  80px;\n",
              "            font-size:  10pt;\n",
              "        }    #T_a9cf21d0_c452_11ea_8b21_0242ac1c0002row4_col3 {\n",
              "            background-color:  #dd5a74;\n",
              "            color:  #000000;\n",
              "            max-width:  80px;\n",
              "            font-size:  10pt;\n",
              "        }    #T_a9cf21d0_c452_11ea_8b21_0242ac1c0002row4_col4 {\n",
              "            background-color:  #4479bb;\n",
              "            color:  #000000;\n",
              "            max-width:  80px;\n",
              "            font-size:  10pt;\n",
              "        }    #T_a9cf21d0_c452_11ea_8b21_0242ac1c0002row4_col5 {\n",
              "            background-color:  #d94261;\n",
              "            color:  #f1f1f1;\n",
              "            max-width:  80px;\n",
              "            font-size:  10pt;\n",
              "        }    #T_a9cf21d0_c452_11ea_8b21_0242ac1c0002row4_col6 {\n",
              "            background-color:  #eda8b6;\n",
              "            color:  #000000;\n",
              "            max-width:  80px;\n",
              "            font-size:  10pt;\n",
              "        }    #T_a9cf21d0_c452_11ea_8b21_0242ac1c0002row4_col7 {\n",
              "            background-color:  #f1b9c4;\n",
              "            color:  #000000;\n",
              "            max-width:  80px;\n",
              "            font-size:  10pt;\n",
              "        }    #T_a9cf21d0_c452_11ea_8b21_0242ac1c0002row4_col8 {\n",
              "            background-color:  #d73c5b;\n",
              "            color:  #f1f1f1;\n",
              "            max-width:  80px;\n",
              "            font-size:  10pt;\n",
              "        }    #T_a9cf21d0_c452_11ea_8b21_0242ac1c0002row4_col9 {\n",
              "            background-color:  #d73c5b;\n",
              "            color:  #f1f1f1;\n",
              "            max-width:  80px;\n",
              "            font-size:  10pt;\n",
              "        }    #T_a9cf21d0_c452_11ea_8b21_0242ac1c0002row4_col10 {\n",
              "            background-color:  #d73c5b;\n",
              "            color:  #f1f1f1;\n",
              "            max-width:  80px;\n",
              "            font-size:  10pt;\n",
              "        }    #T_a9cf21d0_c452_11ea_8b21_0242ac1c0002row4_col11 {\n",
              "            background-color:  #d73c5b;\n",
              "            color:  #f1f1f1;\n",
              "            max-width:  80px;\n",
              "            font-size:  10pt;\n",
              "        }    #T_a9cf21d0_c452_11ea_8b21_0242ac1c0002row4_col12 {\n",
              "            background-color:  #d8415f;\n",
              "            color:  #f1f1f1;\n",
              "            max-width:  80px;\n",
              "            font-size:  10pt;\n",
              "        }    #T_a9cf21d0_c452_11ea_8b21_0242ac1c0002row4_col13 {\n",
              "            background-color:  #d94462;\n",
              "            color:  #f1f1f1;\n",
              "            max-width:  80px;\n",
              "            font-size:  10pt;\n",
              "        }    #T_a9cf21d0_c452_11ea_8b21_0242ac1c0002row5_col0 {\n",
              "            background-color:  #d73c5b;\n",
              "            color:  #f1f1f1;\n",
              "            max-width:  80px;\n",
              "            font-size:  10pt;\n",
              "        }    #T_a9cf21d0_c452_11ea_8b21_0242ac1c0002row5_col1 {\n",
              "            background-color:  #d73d5c;\n",
              "            color:  #f1f1f1;\n",
              "            max-width:  80px;\n",
              "            font-size:  10pt;\n",
              "        }    #T_a9cf21d0_c452_11ea_8b21_0242ac1c0002row5_col2 {\n",
              "            background-color:  #d73c5b;\n",
              "            color:  #f1f1f1;\n",
              "            max-width:  80px;\n",
              "            font-size:  10pt;\n",
              "        }    #T_a9cf21d0_c452_11ea_8b21_0242ac1c0002row5_col3 {\n",
              "            background-color:  #d73c5b;\n",
              "            color:  #f1f1f1;\n",
              "            max-width:  80px;\n",
              "            font-size:  10pt;\n",
              "        }    #T_a9cf21d0_c452_11ea_8b21_0242ac1c0002row5_col4 {\n",
              "            background-color:  #d73c5b;\n",
              "            color:  #f1f1f1;\n",
              "            max-width:  80px;\n",
              "            font-size:  10pt;\n",
              "        }    #T_a9cf21d0_c452_11ea_8b21_0242ac1c0002row5_col5 {\n",
              "            background-color:  #4479bb;\n",
              "            color:  #000000;\n",
              "            max-width:  80px;\n",
              "            font-size:  10pt;\n",
              "        }    #T_a9cf21d0_c452_11ea_8b21_0242ac1c0002row5_col6 {\n",
              "            background-color:  #d73c5b;\n",
              "            color:  #f1f1f1;\n",
              "            max-width:  80px;\n",
              "            font-size:  10pt;\n",
              "        }    #T_a9cf21d0_c452_11ea_8b21_0242ac1c0002row5_col7 {\n",
              "            background-color:  #d73c5b;\n",
              "            color:  #f1f1f1;\n",
              "            max-width:  80px;\n",
              "            font-size:  10pt;\n",
              "        }    #T_a9cf21d0_c452_11ea_8b21_0242ac1c0002row5_col8 {\n",
              "            background-color:  #d83e5d;\n",
              "            color:  #f1f1f1;\n",
              "            max-width:  80px;\n",
              "            font-size:  10pt;\n",
              "        }    #T_a9cf21d0_c452_11ea_8b21_0242ac1c0002row5_col9 {\n",
              "            background-color:  #d73d5c;\n",
              "            color:  #f1f1f1;\n",
              "            max-width:  80px;\n",
              "            font-size:  10pt;\n",
              "        }    #T_a9cf21d0_c452_11ea_8b21_0242ac1c0002row5_col10 {\n",
              "            background-color:  #d83e5d;\n",
              "            color:  #f1f1f1;\n",
              "            max-width:  80px;\n",
              "            font-size:  10pt;\n",
              "        }    #T_a9cf21d0_c452_11ea_8b21_0242ac1c0002row5_col11 {\n",
              "            background-color:  #d73d5c;\n",
              "            color:  #f1f1f1;\n",
              "            max-width:  80px;\n",
              "            font-size:  10pt;\n",
              "        }    #T_a9cf21d0_c452_11ea_8b21_0242ac1c0002row5_col12 {\n",
              "            background-color:  #d73d5c;\n",
              "            color:  #f1f1f1;\n",
              "            max-width:  80px;\n",
              "            font-size:  10pt;\n",
              "        }    #T_a9cf21d0_c452_11ea_8b21_0242ac1c0002row5_col13 {\n",
              "            background-color:  #d73c5b;\n",
              "            color:  #f1f1f1;\n",
              "            max-width:  80px;\n",
              "            font-size:  10pt;\n",
              "        }    #T_a9cf21d0_c452_11ea_8b21_0242ac1c0002row6_col0 {\n",
              "            background-color:  #d73c5b;\n",
              "            color:  #f1f1f1;\n",
              "            max-width:  80px;\n",
              "            font-size:  10pt;\n",
              "        }    #T_a9cf21d0_c452_11ea_8b21_0242ac1c0002row6_col1 {\n",
              "            background-color:  #e68396;\n",
              "            color:  #000000;\n",
              "            max-width:  80px;\n",
              "            font-size:  10pt;\n",
              "        }    #T_a9cf21d0_c452_11ea_8b21_0242ac1c0002row6_col2 {\n",
              "            background-color:  #e88ea0;\n",
              "            color:  #000000;\n",
              "            max-width:  80px;\n",
              "            font-size:  10pt;\n",
              "        }    #T_a9cf21d0_c452_11ea_8b21_0242ac1c0002row6_col3 {\n",
              "            background-color:  #da4966;\n",
              "            color:  #000000;\n",
              "            max-width:  80px;\n",
              "            font-size:  10pt;\n",
              "        }    #T_a9cf21d0_c452_11ea_8b21_0242ac1c0002row6_col4 {\n",
              "            background-color:  #eda6b4;\n",
              "            color:  #000000;\n",
              "            max-width:  80px;\n",
              "            font-size:  10pt;\n",
              "        }    #T_a9cf21d0_c452_11ea_8b21_0242ac1c0002row6_col5 {\n",
              "            background-color:  #d73d5c;\n",
              "            color:  #f1f1f1;\n",
              "            max-width:  80px;\n",
              "            font-size:  10pt;\n",
              "        }    #T_a9cf21d0_c452_11ea_8b21_0242ac1c0002row6_col6 {\n",
              "            background-color:  #4479bb;\n",
              "            color:  #000000;\n",
              "            max-width:  80px;\n",
              "            font-size:  10pt;\n",
              "        }    #T_a9cf21d0_c452_11ea_8b21_0242ac1c0002row6_col7 {\n",
              "            background-color:  #f6d2d9;\n",
              "            color:  #000000;\n",
              "            max-width:  80px;\n",
              "            font-size:  10pt;\n",
              "        }    #T_a9cf21d0_c452_11ea_8b21_0242ac1c0002row6_col8 {\n",
              "            background-color:  #d73c5b;\n",
              "            color:  #f1f1f1;\n",
              "            max-width:  80px;\n",
              "            font-size:  10pt;\n",
              "        }    #T_a9cf21d0_c452_11ea_8b21_0242ac1c0002row6_col9 {\n",
              "            background-color:  #d73c5b;\n",
              "            color:  #f1f1f1;\n",
              "            max-width:  80px;\n",
              "            font-size:  10pt;\n",
              "        }    #T_a9cf21d0_c452_11ea_8b21_0242ac1c0002row6_col10 {\n",
              "            background-color:  #d73c5b;\n",
              "            color:  #f1f1f1;\n",
              "            max-width:  80px;\n",
              "            font-size:  10pt;\n",
              "        }    #T_a9cf21d0_c452_11ea_8b21_0242ac1c0002row6_col11 {\n",
              "            background-color:  #d73c5b;\n",
              "            color:  #f1f1f1;\n",
              "            max-width:  80px;\n",
              "            font-size:  10pt;\n",
              "        }    #T_a9cf21d0_c452_11ea_8b21_0242ac1c0002row6_col12 {\n",
              "            background-color:  #d73d5c;\n",
              "            color:  #f1f1f1;\n",
              "            max-width:  80px;\n",
              "            font-size:  10pt;\n",
              "        }    #T_a9cf21d0_c452_11ea_8b21_0242ac1c0002row6_col13 {\n",
              "            background-color:  #d83e5d;\n",
              "            color:  #f1f1f1;\n",
              "            max-width:  80px;\n",
              "            font-size:  10pt;\n",
              "        }    #T_a9cf21d0_c452_11ea_8b21_0242ac1c0002row7_col0 {\n",
              "            background-color:  #d73c5b;\n",
              "            color:  #f1f1f1;\n",
              "            max-width:  80px;\n",
              "            font-size:  10pt;\n",
              "        }    #T_a9cf21d0_c452_11ea_8b21_0242ac1c0002row7_col1 {\n",
              "            background-color:  #e78a9d;\n",
              "            color:  #000000;\n",
              "            max-width:  80px;\n",
              "            font-size:  10pt;\n",
              "        }    #T_a9cf21d0_c452_11ea_8b21_0242ac1c0002row7_col2 {\n",
              "            background-color:  #ea9aaa;\n",
              "            color:  #000000;\n",
              "            max-width:  80px;\n",
              "            font-size:  10pt;\n",
              "        }    #T_a9cf21d0_c452_11ea_8b21_0242ac1c0002row7_col3 {\n",
              "            background-color:  #d94764;\n",
              "            color:  #f1f1f1;\n",
              "            max-width:  80px;\n",
              "            font-size:  10pt;\n",
              "        }    #T_a9cf21d0_c452_11ea_8b21_0242ac1c0002row7_col4 {\n",
              "            background-color:  #f1bbc6;\n",
              "            color:  #000000;\n",
              "            max-width:  80px;\n",
              "            font-size:  10pt;\n",
              "        }    #T_a9cf21d0_c452_11ea_8b21_0242ac1c0002row7_col5 {\n",
              "            background-color:  #d94261;\n",
              "            color:  #f1f1f1;\n",
              "            max-width:  80px;\n",
              "            font-size:  10pt;\n",
              "        }    #T_a9cf21d0_c452_11ea_8b21_0242ac1c0002row7_col6 {\n",
              "            background-color:  #f7d6dd;\n",
              "            color:  #000000;\n",
              "            max-width:  80px;\n",
              "            font-size:  10pt;\n",
              "        }    #T_a9cf21d0_c452_11ea_8b21_0242ac1c0002row7_col7 {\n",
              "            background-color:  #4479bb;\n",
              "            color:  #000000;\n",
              "            max-width:  80px;\n",
              "            font-size:  10pt;\n",
              "        }    #T_a9cf21d0_c452_11ea_8b21_0242ac1c0002row7_col8 {\n",
              "            background-color:  #d73d5c;\n",
              "            color:  #f1f1f1;\n",
              "            max-width:  80px;\n",
              "            font-size:  10pt;\n",
              "        }    #T_a9cf21d0_c452_11ea_8b21_0242ac1c0002row7_col9 {\n",
              "            background-color:  #d73d5c;\n",
              "            color:  #f1f1f1;\n",
              "            max-width:  80px;\n",
              "            font-size:  10pt;\n",
              "        }    #T_a9cf21d0_c452_11ea_8b21_0242ac1c0002row7_col10 {\n",
              "            background-color:  #d73c5b;\n",
              "            color:  #f1f1f1;\n",
              "            max-width:  80px;\n",
              "            font-size:  10pt;\n",
              "        }    #T_a9cf21d0_c452_11ea_8b21_0242ac1c0002row7_col11 {\n",
              "            background-color:  #d83e5d;\n",
              "            color:  #f1f1f1;\n",
              "            max-width:  80px;\n",
              "            font-size:  10pt;\n",
              "        }    #T_a9cf21d0_c452_11ea_8b21_0242ac1c0002row7_col12 {\n",
              "            background-color:  #d8415f;\n",
              "            color:  #f1f1f1;\n",
              "            max-width:  80px;\n",
              "            font-size:  10pt;\n",
              "        }    #T_a9cf21d0_c452_11ea_8b21_0242ac1c0002row7_col13 {\n",
              "            background-color:  #d94462;\n",
              "            color:  #f1f1f1;\n",
              "            max-width:  80px;\n",
              "            font-size:  10pt;\n",
              "        }    #T_a9cf21d0_c452_11ea_8b21_0242ac1c0002row8_col0 {\n",
              "            background-color:  #d73c5b;\n",
              "            color:  #f1f1f1;\n",
              "            max-width:  80px;\n",
              "            font-size:  10pt;\n",
              "        }    #T_a9cf21d0_c452_11ea_8b21_0242ac1c0002row8_col1 {\n",
              "            background-color:  #da4b68;\n",
              "            color:  #000000;\n",
              "            max-width:  80px;\n",
              "            font-size:  10pt;\n",
              "        }    #T_a9cf21d0_c452_11ea_8b21_0242ac1c0002row8_col2 {\n",
              "            background-color:  #e0667e;\n",
              "            color:  #000000;\n",
              "            max-width:  80px;\n",
              "            font-size:  10pt;\n",
              "        }    #T_a9cf21d0_c452_11ea_8b21_0242ac1c0002row8_col3 {\n",
              "            background-color:  #e991a3;\n",
              "            color:  #000000;\n",
              "            max-width:  80px;\n",
              "            font-size:  10pt;\n",
              "        }    #T_a9cf21d0_c452_11ea_8b21_0242ac1c0002row8_col4 {\n",
              "            background-color:  #d94462;\n",
              "            color:  #f1f1f1;\n",
              "            max-width:  80px;\n",
              "            font-size:  10pt;\n",
              "        }    #T_a9cf21d0_c452_11ea_8b21_0242ac1c0002row8_col5 {\n",
              "            background-color:  #db4d69;\n",
              "            color:  #000000;\n",
              "            max-width:  80px;\n",
              "            font-size:  10pt;\n",
              "        }    #T_a9cf21d0_c452_11ea_8b21_0242ac1c0002row8_col6 {\n",
              "            background-color:  #da4865;\n",
              "            color:  #000000;\n",
              "            max-width:  80px;\n",
              "            font-size:  10pt;\n",
              "        }    #T_a9cf21d0_c452_11ea_8b21_0242ac1c0002row8_col7 {\n",
              "            background-color:  #d94462;\n",
              "            color:  #f1f1f1;\n",
              "            max-width:  80px;\n",
              "            font-size:  10pt;\n",
              "        }    #T_a9cf21d0_c452_11ea_8b21_0242ac1c0002row8_col8 {\n",
              "            background-color:  #4479bb;\n",
              "            color:  #000000;\n",
              "            max-width:  80px;\n",
              "            font-size:  10pt;\n",
              "        }    #T_a9cf21d0_c452_11ea_8b21_0242ac1c0002row8_col9 {\n",
              "            background-color:  #477bbc;\n",
              "            color:  #000000;\n",
              "            max-width:  80px;\n",
              "            font-size:  10pt;\n",
              "        }    #T_a9cf21d0_c452_11ea_8b21_0242ac1c0002row8_col10 {\n",
              "            background-color:  #457abb;\n",
              "            color:  #000000;\n",
              "            max-width:  80px;\n",
              "            font-size:  10pt;\n",
              "        }    #T_a9cf21d0_c452_11ea_8b21_0242ac1c0002row8_col11 {\n",
              "            background-color:  #7099cb;\n",
              "            color:  #000000;\n",
              "            max-width:  80px;\n",
              "            font-size:  10pt;\n",
              "        }    #T_a9cf21d0_c452_11ea_8b21_0242ac1c0002row8_col12 {\n",
              "            background-color:  #5686c1;\n",
              "            color:  #000000;\n",
              "            max-width:  80px;\n",
              "            font-size:  10pt;\n",
              "        }    #T_a9cf21d0_c452_11ea_8b21_0242ac1c0002row8_col13 {\n",
              "            background-color:  #d94764;\n",
              "            color:  #f1f1f1;\n",
              "            max-width:  80px;\n",
              "            font-size:  10pt;\n",
              "        }    #T_a9cf21d0_c452_11ea_8b21_0242ac1c0002row9_col0 {\n",
              "            background-color:  #d73c5b;\n",
              "            color:  #f1f1f1;\n",
              "            max-width:  80px;\n",
              "            font-size:  10pt;\n",
              "        }    #T_a9cf21d0_c452_11ea_8b21_0242ac1c0002row9_col1 {\n",
              "            background-color:  #db4d69;\n",
              "            color:  #000000;\n",
              "            max-width:  80px;\n",
              "            font-size:  10pt;\n",
              "        }    #T_a9cf21d0_c452_11ea_8b21_0242ac1c0002row9_col2 {\n",
              "            background-color:  #e06880;\n",
              "            color:  #000000;\n",
              "            max-width:  80px;\n",
              "            font-size:  10pt;\n",
              "        }    #T_a9cf21d0_c452_11ea_8b21_0242ac1c0002row9_col3 {\n",
              "            background-color:  #ea96a7;\n",
              "            color:  #000000;\n",
              "            max-width:  80px;\n",
              "            font-size:  10pt;\n",
              "        }    #T_a9cf21d0_c452_11ea_8b21_0242ac1c0002row9_col4 {\n",
              "            background-color:  #d94462;\n",
              "            color:  #f1f1f1;\n",
              "            max-width:  80px;\n",
              "            font-size:  10pt;\n",
              "        }    #T_a9cf21d0_c452_11ea_8b21_0242ac1c0002row9_col5 {\n",
              "            background-color:  #db4d69;\n",
              "            color:  #000000;\n",
              "            max-width:  80px;\n",
              "            font-size:  10pt;\n",
              "        }    #T_a9cf21d0_c452_11ea_8b21_0242ac1c0002row9_col6 {\n",
              "            background-color:  #da4865;\n",
              "            color:  #000000;\n",
              "            max-width:  80px;\n",
              "            font-size:  10pt;\n",
              "        }    #T_a9cf21d0_c452_11ea_8b21_0242ac1c0002row9_col7 {\n",
              "            background-color:  #d94462;\n",
              "            color:  #f1f1f1;\n",
              "            max-width:  80px;\n",
              "            font-size:  10pt;\n",
              "        }    #T_a9cf21d0_c452_11ea_8b21_0242ac1c0002row9_col8 {\n",
              "            background-color:  #477bbc;\n",
              "            color:  #000000;\n",
              "            max-width:  80px;\n",
              "            font-size:  10pt;\n",
              "        }    #T_a9cf21d0_c452_11ea_8b21_0242ac1c0002row9_col9 {\n",
              "            background-color:  #4479bb;\n",
              "            color:  #000000;\n",
              "            max-width:  80px;\n",
              "            font-size:  10pt;\n",
              "        }    #T_a9cf21d0_c452_11ea_8b21_0242ac1c0002row9_col10 {\n",
              "            background-color:  #477bbc;\n",
              "            color:  #000000;\n",
              "            max-width:  80px;\n",
              "            font-size:  10pt;\n",
              "        }    #T_a9cf21d0_c452_11ea_8b21_0242ac1c0002row9_col11 {\n",
              "            background-color:  #759ccd;\n",
              "            color:  #000000;\n",
              "            max-width:  80px;\n",
              "            font-size:  10pt;\n",
              "        }    #T_a9cf21d0_c452_11ea_8b21_0242ac1c0002row9_col12 {\n",
              "            background-color:  #5787c2;\n",
              "            color:  #000000;\n",
              "            max-width:  80px;\n",
              "            font-size:  10pt;\n",
              "        }    #T_a9cf21d0_c452_11ea_8b21_0242ac1c0002row9_col13 {\n",
              "            background-color:  #da4865;\n",
              "            color:  #000000;\n",
              "            max-width:  80px;\n",
              "            font-size:  10pt;\n",
              "        }    #T_a9cf21d0_c452_11ea_8b21_0242ac1c0002row10_col0 {\n",
              "            background-color:  #d73c5b;\n",
              "            color:  #f1f1f1;\n",
              "            max-width:  80px;\n",
              "            font-size:  10pt;\n",
              "        }    #T_a9cf21d0_c452_11ea_8b21_0242ac1c0002row10_col1 {\n",
              "            background-color:  #da4966;\n",
              "            color:  #000000;\n",
              "            max-width:  80px;\n",
              "            font-size:  10pt;\n",
              "        }    #T_a9cf21d0_c452_11ea_8b21_0242ac1c0002row10_col2 {\n",
              "            background-color:  #e0657d;\n",
              "            color:  #000000;\n",
              "            max-width:  80px;\n",
              "            font-size:  10pt;\n",
              "        }    #T_a9cf21d0_c452_11ea_8b21_0242ac1c0002row10_col3 {\n",
              "            background-color:  #e993a4;\n",
              "            color:  #000000;\n",
              "            max-width:  80px;\n",
              "            font-size:  10pt;\n",
              "        }    #T_a9cf21d0_c452_11ea_8b21_0242ac1c0002row10_col4 {\n",
              "            background-color:  #d94261;\n",
              "            color:  #f1f1f1;\n",
              "            max-width:  80px;\n",
              "            font-size:  10pt;\n",
              "        }    #T_a9cf21d0_c452_11ea_8b21_0242ac1c0002row10_col5 {\n",
              "            background-color:  #db4d69;\n",
              "            color:  #000000;\n",
              "            max-width:  80px;\n",
              "            font-size:  10pt;\n",
              "        }    #T_a9cf21d0_c452_11ea_8b21_0242ac1c0002row10_col6 {\n",
              "            background-color:  #da4865;\n",
              "            color:  #000000;\n",
              "            max-width:  80px;\n",
              "            font-size:  10pt;\n",
              "        }    #T_a9cf21d0_c452_11ea_8b21_0242ac1c0002row10_col7 {\n",
              "            background-color:  #d8415f;\n",
              "            color:  #f1f1f1;\n",
              "            max-width:  80px;\n",
              "            font-size:  10pt;\n",
              "        }    #T_a9cf21d0_c452_11ea_8b21_0242ac1c0002row10_col8 {\n",
              "            background-color:  #457abb;\n",
              "            color:  #000000;\n",
              "            max-width:  80px;\n",
              "            font-size:  10pt;\n",
              "        }    #T_a9cf21d0_c452_11ea_8b21_0242ac1c0002row10_col9 {\n",
              "            background-color:  #477bbc;\n",
              "            color:  #000000;\n",
              "            max-width:  80px;\n",
              "            font-size:  10pt;\n",
              "        }    #T_a9cf21d0_c452_11ea_8b21_0242ac1c0002row10_col10 {\n",
              "            background-color:  #4479bb;\n",
              "            color:  #000000;\n",
              "            max-width:  80px;\n",
              "            font-size:  10pt;\n",
              "        }    #T_a9cf21d0_c452_11ea_8b21_0242ac1c0002row10_col11 {\n",
              "            background-color:  #779dcd;\n",
              "            color:  #000000;\n",
              "            max-width:  80px;\n",
              "            font-size:  10pt;\n",
              "        }    #T_a9cf21d0_c452_11ea_8b21_0242ac1c0002row10_col12 {\n",
              "            background-color:  #5686c1;\n",
              "            color:  #000000;\n",
              "            max-width:  80px;\n",
              "            font-size:  10pt;\n",
              "        }    #T_a9cf21d0_c452_11ea_8b21_0242ac1c0002row10_col13 {\n",
              "            background-color:  #dd5671;\n",
              "            color:  #000000;\n",
              "            max-width:  80px;\n",
              "            font-size:  10pt;\n",
              "        }    #T_a9cf21d0_c452_11ea_8b21_0242ac1c0002row11_col0 {\n",
              "            background-color:  #d73c5b;\n",
              "            color:  #f1f1f1;\n",
              "            max-width:  80px;\n",
              "            font-size:  10pt;\n",
              "        }    #T_a9cf21d0_c452_11ea_8b21_0242ac1c0002row11_col1 {\n",
              "            background-color:  #db4d69;\n",
              "            color:  #000000;\n",
              "            max-width:  80px;\n",
              "            font-size:  10pt;\n",
              "        }    #T_a9cf21d0_c452_11ea_8b21_0242ac1c0002row11_col2 {\n",
              "            background-color:  #df617a;\n",
              "            color:  #000000;\n",
              "            max-width:  80px;\n",
              "            font-size:  10pt;\n",
              "        }    #T_a9cf21d0_c452_11ea_8b21_0242ac1c0002row11_col3 {\n",
              "            background-color:  #e7899c;\n",
              "            color:  #000000;\n",
              "            max-width:  80px;\n",
              "            font-size:  10pt;\n",
              "        }    #T_a9cf21d0_c452_11ea_8b21_0242ac1c0002row11_col4 {\n",
              "            background-color:  #d94261;\n",
              "            color:  #f1f1f1;\n",
              "            max-width:  80px;\n",
              "            font-size:  10pt;\n",
              "        }    #T_a9cf21d0_c452_11ea_8b21_0242ac1c0002row11_col5 {\n",
              "            background-color:  #da4b68;\n",
              "            color:  #000000;\n",
              "            max-width:  80px;\n",
              "            font-size:  10pt;\n",
              "        }    #T_a9cf21d0_c452_11ea_8b21_0242ac1c0002row11_col6 {\n",
              "            background-color:  #d94764;\n",
              "            color:  #f1f1f1;\n",
              "            max-width:  80px;\n",
              "            font-size:  10pt;\n",
              "        }    #T_a9cf21d0_c452_11ea_8b21_0242ac1c0002row11_col7 {\n",
              "            background-color:  #d94462;\n",
              "            color:  #f1f1f1;\n",
              "            max-width:  80px;\n",
              "            font-size:  10pt;\n",
              "        }    #T_a9cf21d0_c452_11ea_8b21_0242ac1c0002row11_col8 {\n",
              "            background-color:  #7099cb;\n",
              "            color:  #000000;\n",
              "            max-width:  80px;\n",
              "            font-size:  10pt;\n",
              "        }    #T_a9cf21d0_c452_11ea_8b21_0242ac1c0002row11_col9 {\n",
              "            background-color:  #759ccd;\n",
              "            color:  #000000;\n",
              "            max-width:  80px;\n",
              "            font-size:  10pt;\n",
              "        }    #T_a9cf21d0_c452_11ea_8b21_0242ac1c0002row11_col10 {\n",
              "            background-color:  #779dcd;\n",
              "            color:  #000000;\n",
              "            max-width:  80px;\n",
              "            font-size:  10pt;\n",
              "        }    #T_a9cf21d0_c452_11ea_8b21_0242ac1c0002row11_col11 {\n",
              "            background-color:  #4479bb;\n",
              "            color:  #000000;\n",
              "            max-width:  80px;\n",
              "            font-size:  10pt;\n",
              "        }    #T_a9cf21d0_c452_11ea_8b21_0242ac1c0002row11_col12 {\n",
              "            background-color:  #8faed6;\n",
              "            color:  #000000;\n",
              "            max-width:  80px;\n",
              "            font-size:  10pt;\n",
              "        }    #T_a9cf21d0_c452_11ea_8b21_0242ac1c0002row11_col13 {\n",
              "            background-color:  #d94563;\n",
              "            color:  #f1f1f1;\n",
              "            max-width:  80px;\n",
              "            font-size:  10pt;\n",
              "        }    #T_a9cf21d0_c452_11ea_8b21_0242ac1c0002row12_col0 {\n",
              "            background-color:  #d73c5b;\n",
              "            color:  #f1f1f1;\n",
              "            max-width:  80px;\n",
              "            font-size:  10pt;\n",
              "        }    #T_a9cf21d0_c452_11ea_8b21_0242ac1c0002row12_col1 {\n",
              "            background-color:  #dc526e;\n",
              "            color:  #000000;\n",
              "            max-width:  80px;\n",
              "            font-size:  10pt;\n",
              "        }    #T_a9cf21d0_c452_11ea_8b21_0242ac1c0002row12_col2 {\n",
              "            background-color:  #e16c84;\n",
              "            color:  #000000;\n",
              "            max-width:  80px;\n",
              "            font-size:  10pt;\n",
              "        }    #T_a9cf21d0_c452_11ea_8b21_0242ac1c0002row12_col3 {\n",
              "            background-color:  #e890a1;\n",
              "            color:  #000000;\n",
              "            max-width:  80px;\n",
              "            font-size:  10pt;\n",
              "        }    #T_a9cf21d0_c452_11ea_8b21_0242ac1c0002row12_col4 {\n",
              "            background-color:  #da4b68;\n",
              "            color:  #000000;\n",
              "            max-width:  80px;\n",
              "            font-size:  10pt;\n",
              "        }    #T_a9cf21d0_c452_11ea_8b21_0242ac1c0002row12_col5 {\n",
              "            background-color:  #db4f6b;\n",
              "            color:  #000000;\n",
              "            max-width:  80px;\n",
              "            font-size:  10pt;\n",
              "        }    #T_a9cf21d0_c452_11ea_8b21_0242ac1c0002row12_col6 {\n",
              "            background-color:  #db4e6a;\n",
              "            color:  #000000;\n",
              "            max-width:  80px;\n",
              "            font-size:  10pt;\n",
              "        }    #T_a9cf21d0_c452_11ea_8b21_0242ac1c0002row12_col7 {\n",
              "            background-color:  #da4b68;\n",
              "            color:  #000000;\n",
              "            max-width:  80px;\n",
              "            font-size:  10pt;\n",
              "        }    #T_a9cf21d0_c452_11ea_8b21_0242ac1c0002row12_col8 {\n",
              "            background-color:  #5686c1;\n",
              "            color:  #000000;\n",
              "            max-width:  80px;\n",
              "            font-size:  10pt;\n",
              "        }    #T_a9cf21d0_c452_11ea_8b21_0242ac1c0002row12_col9 {\n",
              "            background-color:  #5787c2;\n",
              "            color:  #000000;\n",
              "            max-width:  80px;\n",
              "            font-size:  10pt;\n",
              "        }    #T_a9cf21d0_c452_11ea_8b21_0242ac1c0002row12_col10 {\n",
              "            background-color:  #5686c1;\n",
              "            color:  #000000;\n",
              "            max-width:  80px;\n",
              "            font-size:  10pt;\n",
              "        }    #T_a9cf21d0_c452_11ea_8b21_0242ac1c0002row12_col11 {\n",
              "            background-color:  #8faed6;\n",
              "            color:  #000000;\n",
              "            max-width:  80px;\n",
              "            font-size:  10pt;\n",
              "        }    #T_a9cf21d0_c452_11ea_8b21_0242ac1c0002row12_col12 {\n",
              "            background-color:  #4479bb;\n",
              "            color:  #000000;\n",
              "            max-width:  80px;\n",
              "            font-size:  10pt;\n",
              "        }    #T_a9cf21d0_c452_11ea_8b21_0242ac1c0002row12_col13 {\n",
              "            background-color:  #da4b68;\n",
              "            color:  #000000;\n",
              "            max-width:  80px;\n",
              "            font-size:  10pt;\n",
              "        }    #T_a9cf21d0_c452_11ea_8b21_0242ac1c0002row13_col0 {\n",
              "            background-color:  #d8415f;\n",
              "            color:  #f1f1f1;\n",
              "            max-width:  80px;\n",
              "            font-size:  10pt;\n",
              "        }    #T_a9cf21d0_c452_11ea_8b21_0242ac1c0002row13_col1 {\n",
              "            background-color:  #d83e5d;\n",
              "            color:  #f1f1f1;\n",
              "            max-width:  80px;\n",
              "            font-size:  10pt;\n",
              "        }    #T_a9cf21d0_c452_11ea_8b21_0242ac1c0002row13_col2 {\n",
              "            background-color:  #d8405e;\n",
              "            color:  #f1f1f1;\n",
              "            max-width:  80px;\n",
              "            font-size:  10pt;\n",
              "        }    #T_a9cf21d0_c452_11ea_8b21_0242ac1c0002row13_col3 {\n",
              "            background-color:  #d83e5d;\n",
              "            color:  #f1f1f1;\n",
              "            max-width:  80px;\n",
              "            font-size:  10pt;\n",
              "        }    #T_a9cf21d0_c452_11ea_8b21_0242ac1c0002row13_col4 {\n",
              "            background-color:  #d8415f;\n",
              "            color:  #f1f1f1;\n",
              "            max-width:  80px;\n",
              "            font-size:  10pt;\n",
              "        }    #T_a9cf21d0_c452_11ea_8b21_0242ac1c0002row13_col5 {\n",
              "            background-color:  #d83e5d;\n",
              "            color:  #f1f1f1;\n",
              "            max-width:  80px;\n",
              "            font-size:  10pt;\n",
              "        }    #T_a9cf21d0_c452_11ea_8b21_0242ac1c0002row13_col6 {\n",
              "            background-color:  #d8405e;\n",
              "            color:  #f1f1f1;\n",
              "            max-width:  80px;\n",
              "            font-size:  10pt;\n",
              "        }    #T_a9cf21d0_c452_11ea_8b21_0242ac1c0002row13_col7 {\n",
              "            background-color:  #d8405e;\n",
              "            color:  #f1f1f1;\n",
              "            max-width:  80px;\n",
              "            font-size:  10pt;\n",
              "        }    #T_a9cf21d0_c452_11ea_8b21_0242ac1c0002row13_col8 {\n",
              "            background-color:  #d73c5b;\n",
              "            color:  #f1f1f1;\n",
              "            max-width:  80px;\n",
              "            font-size:  10pt;\n",
              "        }    #T_a9cf21d0_c452_11ea_8b21_0242ac1c0002row13_col9 {\n",
              "            background-color:  #d73c5b;\n",
              "            color:  #f1f1f1;\n",
              "            max-width:  80px;\n",
              "            font-size:  10pt;\n",
              "        }    #T_a9cf21d0_c452_11ea_8b21_0242ac1c0002row13_col10 {\n",
              "            background-color:  #da4b68;\n",
              "            color:  #000000;\n",
              "            max-width:  80px;\n",
              "            font-size:  10pt;\n",
              "        }    #T_a9cf21d0_c452_11ea_8b21_0242ac1c0002row13_col11 {\n",
              "            background-color:  #d73c5b;\n",
              "            color:  #f1f1f1;\n",
              "            max-width:  80px;\n",
              "            font-size:  10pt;\n",
              "        }    #T_a9cf21d0_c452_11ea_8b21_0242ac1c0002row13_col12 {\n",
              "            background-color:  #d73d5c;\n",
              "            color:  #f1f1f1;\n",
              "            max-width:  80px;\n",
              "            font-size:  10pt;\n",
              "        }    #T_a9cf21d0_c452_11ea_8b21_0242ac1c0002row13_col13 {\n",
              "            background-color:  #4479bb;\n",
              "            color:  #000000;\n",
              "            max-width:  80px;\n",
              "            font-size:  10pt;\n",
              "        }</style><table id=\"T_a9cf21d0_c452_11ea_8b21_0242ac1c0002\" ><caption>Hover to magify</caption><thead>    <tr>        <th class=\"blank level0\" ></th>        <th class=\"col_heading level0 col0\" >condition</th>        <th class=\"col_heading level0 col1\" >easeofuse</th>        <th class=\"col_heading level0 col2\" >effectiveness</th>        <th class=\"col_heading level0 col3\" >usefulcount</th>        <th class=\"col_heading level0 col4\" >satisfaction</th>        <th class=\"col_heading level0 col5\" >uniqueid</th>        <th class=\"col_heading level0 col6\" >sentiment_textblob</th>        <th class=\"col_heading level0 col7\" >Vader_score</th>        <th class=\"col_heading level0 col8\" >count_word</th>        <th class=\"col_heading level0 col9\" >count_unique_word</th>        <th class=\"col_heading level0 col10\" >count_letters</th>        <th class=\"col_heading level0 col11\" >count_punctuations</th>        <th class=\"col_heading level0 col12\" >count_stopwords</th>        <th class=\"col_heading level0 col13\" >mean_word_len</th>    </tr></thead><tbody>\n",
              "                <tr>\n",
              "                        <th id=\"T_a9cf21d0_c452_11ea_8b21_0242ac1c0002level0_row0\" class=\"row_heading level0 row0\" >condition</th>\n",
              "                        <td id=\"T_a9cf21d0_c452_11ea_8b21_0242ac1c0002row0_col0\" class=\"data row0 col0\" >1.00</td>\n",
              "                        <td id=\"T_a9cf21d0_c452_11ea_8b21_0242ac1c0002row0_col1\" class=\"data row0 col1\" >-0.02</td>\n",
              "                        <td id=\"T_a9cf21d0_c452_11ea_8b21_0242ac1c0002row0_col2\" class=\"data row0 col2\" >-0.03</td>\n",
              "                        <td id=\"T_a9cf21d0_c452_11ea_8b21_0242ac1c0002row0_col3\" class=\"data row0 col3\" >-0.00</td>\n",
              "                        <td id=\"T_a9cf21d0_c452_11ea_8b21_0242ac1c0002row0_col4\" class=\"data row0 col4\" >0.04</td>\n",
              "                        <td id=\"T_a9cf21d0_c452_11ea_8b21_0242ac1c0002row0_col5\" class=\"data row0 col5\" >-0.00</td>\n",
              "                        <td id=\"T_a9cf21d0_c452_11ea_8b21_0242ac1c0002row0_col6\" class=\"data row0 col6\" >-0.01</td>\n",
              "                        <td id=\"T_a9cf21d0_c452_11ea_8b21_0242ac1c0002row0_col7\" class=\"data row0 col7\" >-0.03</td>\n",
              "                        <td id=\"T_a9cf21d0_c452_11ea_8b21_0242ac1c0002row0_col8\" class=\"data row0 col8\" >-0.05</td>\n",
              "                        <td id=\"T_a9cf21d0_c452_11ea_8b21_0242ac1c0002row0_col9\" class=\"data row0 col9\" >-0.05</td>\n",
              "                        <td id=\"T_a9cf21d0_c452_11ea_8b21_0242ac1c0002row0_col10\" class=\"data row0 col10\" >-0.05</td>\n",
              "                        <td id=\"T_a9cf21d0_c452_11ea_8b21_0242ac1c0002row0_col11\" class=\"data row0 col11\" >-0.05</td>\n",
              "                        <td id=\"T_a9cf21d0_c452_11ea_8b21_0242ac1c0002row0_col12\" class=\"data row0 col12\" >-0.06</td>\n",
              "                        <td id=\"T_a9cf21d0_c452_11ea_8b21_0242ac1c0002row0_col13\" class=\"data row0 col13\" >0.00</td>\n",
              "            </tr>\n",
              "            <tr>\n",
              "                        <th id=\"T_a9cf21d0_c452_11ea_8b21_0242ac1c0002level0_row1\" class=\"row_heading level0 row1\" >easeofuse</th>\n",
              "                        <td id=\"T_a9cf21d0_c452_11ea_8b21_0242ac1c0002row1_col0\" class=\"data row1 col0\" >-0.02</td>\n",
              "                        <td id=\"T_a9cf21d0_c452_11ea_8b21_0242ac1c0002row1_col1\" class=\"data row1 col1\" >1.00</td>\n",
              "                        <td id=\"T_a9cf21d0_c452_11ea_8b21_0242ac1c0002row1_col2\" class=\"data row1 col2\" >0.48</td>\n",
              "                        <td id=\"T_a9cf21d0_c452_11ea_8b21_0242ac1c0002row1_col3\" class=\"data row1 col3\" >0.04</td>\n",
              "                        <td id=\"T_a9cf21d0_c452_11ea_8b21_0242ac1c0002row1_col4\" class=\"data row1 col4\" >0.49</td>\n",
              "                        <td id=\"T_a9cf21d0_c452_11ea_8b21_0242ac1c0002row1_col5\" class=\"data row1 col5\" >-0.00</td>\n",
              "                        <td id=\"T_a9cf21d0_c452_11ea_8b21_0242ac1c0002row1_col6\" class=\"data row1 col6\" >0.19</td>\n",
              "                        <td id=\"T_a9cf21d0_c452_11ea_8b21_0242ac1c0002row1_col7\" class=\"data row1 col7\" >0.19</td>\n",
              "                        <td id=\"T_a9cf21d0_c452_11ea_8b21_0242ac1c0002row1_col8\" class=\"data row1 col8\" >-0.00</td>\n",
              "                        <td id=\"T_a9cf21d0_c452_11ea_8b21_0242ac1c0002row1_col9\" class=\"data row1 col9\" >0.00</td>\n",
              "                        <td id=\"T_a9cf21d0_c452_11ea_8b21_0242ac1c0002row1_col10\" class=\"data row1 col10\" >-0.00</td>\n",
              "                        <td id=\"T_a9cf21d0_c452_11ea_8b21_0242ac1c0002row1_col11\" class=\"data row1 col11\" >0.00</td>\n",
              "                        <td id=\"T_a9cf21d0_c452_11ea_8b21_0242ac1c0002row1_col12\" class=\"data row1 col12\" >0.01</td>\n",
              "                        <td id=\"T_a9cf21d0_c452_11ea_8b21_0242ac1c0002row1_col13\" class=\"data row1 col13\" >-0.01</td>\n",
              "            </tr>\n",
              "            <tr>\n",
              "                        <th id=\"T_a9cf21d0_c452_11ea_8b21_0242ac1c0002level0_row2\" class=\"row_heading level0 row2\" >effectiveness</th>\n",
              "                        <td id=\"T_a9cf21d0_c452_11ea_8b21_0242ac1c0002row2_col0\" class=\"data row2 col0\" >-0.03</td>\n",
              "                        <td id=\"T_a9cf21d0_c452_11ea_8b21_0242ac1c0002row2_col1\" class=\"data row2 col1\" >0.48</td>\n",
              "                        <td id=\"T_a9cf21d0_c452_11ea_8b21_0242ac1c0002row2_col2\" class=\"data row2 col2\" >1.00</td>\n",
              "                        <td id=\"T_a9cf21d0_c452_11ea_8b21_0242ac1c0002row2_col3\" class=\"data row2 col3\" >0.05</td>\n",
              "                        <td id=\"T_a9cf21d0_c452_11ea_8b21_0242ac1c0002row2_col4\" class=\"data row2 col4\" >0.73</td>\n",
              "                        <td id=\"T_a9cf21d0_c452_11ea_8b21_0242ac1c0002row2_col5\" class=\"data row2 col5\" >-0.00</td>\n",
              "                        <td id=\"T_a9cf21d0_c452_11ea_8b21_0242ac1c0002row2_col6\" class=\"data row2 col6\" >0.22</td>\n",
              "                        <td id=\"T_a9cf21d0_c452_11ea_8b21_0242ac1c0002row2_col7\" class=\"data row2 col7\" >0.24</td>\n",
              "                        <td id=\"T_a9cf21d0_c452_11ea_8b21_0242ac1c0002row2_col8\" class=\"data row2 col8\" >0.08</td>\n",
              "                        <td id=\"T_a9cf21d0_c452_11ea_8b21_0242ac1c0002row2_col9\" class=\"data row2 col9\" >0.08</td>\n",
              "                        <td id=\"T_a9cf21d0_c452_11ea_8b21_0242ac1c0002row2_col10\" class=\"data row2 col10\" >0.07</td>\n",
              "                        <td id=\"T_a9cf21d0_c452_11ea_8b21_0242ac1c0002row2_col11\" class=\"data row2 col11\" >0.06</td>\n",
              "                        <td id=\"T_a9cf21d0_c452_11ea_8b21_0242ac1c0002row2_col12\" class=\"data row2 col12\" >0.09</td>\n",
              "                        <td id=\"T_a9cf21d0_c452_11ea_8b21_0242ac1c0002row2_col13\" class=\"data row2 col13\" >-0.00</td>\n",
              "            </tr>\n",
              "            <tr>\n",
              "                        <th id=\"T_a9cf21d0_c452_11ea_8b21_0242ac1c0002level0_row3\" class=\"row_heading level0 row3\" >usefulcount</th>\n",
              "                        <td id=\"T_a9cf21d0_c452_11ea_8b21_0242ac1c0002row3_col0\" class=\"data row3 col0\" >-0.00</td>\n",
              "                        <td id=\"T_a9cf21d0_c452_11ea_8b21_0242ac1c0002row3_col1\" class=\"data row3 col1\" >0.04</td>\n",
              "                        <td id=\"T_a9cf21d0_c452_11ea_8b21_0242ac1c0002row3_col2\" class=\"data row3 col2\" >0.05</td>\n",
              "                        <td id=\"T_a9cf21d0_c452_11ea_8b21_0242ac1c0002row3_col3\" class=\"data row3 col3\" >1.00</td>\n",
              "                        <td id=\"T_a9cf21d0_c452_11ea_8b21_0242ac1c0002row3_col4\" class=\"data row3 col4\" >0.06</td>\n",
              "                        <td id=\"T_a9cf21d0_c452_11ea_8b21_0242ac1c0002row3_col5\" class=\"data row3 col5\" >-0.00</td>\n",
              "                        <td id=\"T_a9cf21d0_c452_11ea_8b21_0242ac1c0002row3_col6\" class=\"data row3 col6\" >0.03</td>\n",
              "                        <td id=\"T_a9cf21d0_c452_11ea_8b21_0242ac1c0002row3_col7\" class=\"data row3 col7\" >0.01</td>\n",
              "                        <td id=\"T_a9cf21d0_c452_11ea_8b21_0242ac1c0002row3_col8\" class=\"data row3 col8\" >0.20</td>\n",
              "                        <td id=\"T_a9cf21d0_c452_11ea_8b21_0242ac1c0002row3_col9\" class=\"data row3 col9\" >0.21</td>\n",
              "                        <td id=\"T_a9cf21d0_c452_11ea_8b21_0242ac1c0002row3_col10\" class=\"data row3 col10\" >0.20</td>\n",
              "                        <td id=\"T_a9cf21d0_c452_11ea_8b21_0242ac1c0002row3_col11\" class=\"data row3 col11\" >0.18</td>\n",
              "                        <td id=\"T_a9cf21d0_c452_11ea_8b21_0242ac1c0002row3_col12\" class=\"data row3 col12\" >0.19</td>\n",
              "                        <td id=\"T_a9cf21d0_c452_11ea_8b21_0242ac1c0002row3_col13\" class=\"data row3 col13\" >-0.00</td>\n",
              "            </tr>\n",
              "            <tr>\n",
              "                        <th id=\"T_a9cf21d0_c452_11ea_8b21_0242ac1c0002level0_row4\" class=\"row_heading level0 row4\" >satisfaction</th>\n",
              "                        <td id=\"T_a9cf21d0_c452_11ea_8b21_0242ac1c0002row4_col0\" class=\"data row4 col0\" >0.04</td>\n",
              "                        <td id=\"T_a9cf21d0_c452_11ea_8b21_0242ac1c0002row4_col1\" class=\"data row4 col1\" >0.49</td>\n",
              "                        <td id=\"T_a9cf21d0_c452_11ea_8b21_0242ac1c0002row4_col2\" class=\"data row4 col2\" >0.73</td>\n",
              "                        <td id=\"T_a9cf21d0_c452_11ea_8b21_0242ac1c0002row4_col3\" class=\"data row4 col3\" >0.06</td>\n",
              "                        <td id=\"T_a9cf21d0_c452_11ea_8b21_0242ac1c0002row4_col4\" class=\"data row4 col4\" >1.00</td>\n",
              "                        <td id=\"T_a9cf21d0_c452_11ea_8b21_0242ac1c0002row4_col5\" class=\"data row4 col5\" >-0.01</td>\n",
              "                        <td id=\"T_a9cf21d0_c452_11ea_8b21_0242ac1c0002row4_col6\" class=\"data row4 col6\" >0.28</td>\n",
              "                        <td id=\"T_a9cf21d0_c452_11ea_8b21_0242ac1c0002row4_col7\" class=\"data row4 col7\" >0.33</td>\n",
              "                        <td id=\"T_a9cf21d0_c452_11ea_8b21_0242ac1c0002row4_col8\" class=\"data row4 col8\" >-0.02</td>\n",
              "                        <td id=\"T_a9cf21d0_c452_11ea_8b21_0242ac1c0002row4_col9\" class=\"data row4 col9\" >-0.02</td>\n",
              "                        <td id=\"T_a9cf21d0_c452_11ea_8b21_0242ac1c0002row4_col10\" class=\"data row4 col10\" >-0.03</td>\n",
              "                        <td id=\"T_a9cf21d0_c452_11ea_8b21_0242ac1c0002row4_col11\" class=\"data row4 col11\" >-0.02</td>\n",
              "                        <td id=\"T_a9cf21d0_c452_11ea_8b21_0242ac1c0002row4_col12\" class=\"data row4 col12\" >-0.01</td>\n",
              "                        <td id=\"T_a9cf21d0_c452_11ea_8b21_0242ac1c0002row4_col13\" class=\"data row4 col13\" >0.00</td>\n",
              "            </tr>\n",
              "            <tr>\n",
              "                        <th id=\"T_a9cf21d0_c452_11ea_8b21_0242ac1c0002level0_row5\" class=\"row_heading level0 row5\" >uniqueid</th>\n",
              "                        <td id=\"T_a9cf21d0_c452_11ea_8b21_0242ac1c0002row5_col0\" class=\"data row5 col0\" >-0.00</td>\n",
              "                        <td id=\"T_a9cf21d0_c452_11ea_8b21_0242ac1c0002row5_col1\" class=\"data row5 col1\" >-0.00</td>\n",
              "                        <td id=\"T_a9cf21d0_c452_11ea_8b21_0242ac1c0002row5_col2\" class=\"data row5 col2\" >-0.00</td>\n",
              "                        <td id=\"T_a9cf21d0_c452_11ea_8b21_0242ac1c0002row5_col3\" class=\"data row5 col3\" >-0.00</td>\n",
              "                        <td id=\"T_a9cf21d0_c452_11ea_8b21_0242ac1c0002row5_col4\" class=\"data row5 col4\" >-0.01</td>\n",
              "                        <td id=\"T_a9cf21d0_c452_11ea_8b21_0242ac1c0002row5_col5\" class=\"data row5 col5\" >1.00</td>\n",
              "                        <td id=\"T_a9cf21d0_c452_11ea_8b21_0242ac1c0002row5_col6\" class=\"data row5 col6\" >-0.01</td>\n",
              "                        <td id=\"T_a9cf21d0_c452_11ea_8b21_0242ac1c0002row5_col7\" class=\"data row5 col7\" >-0.00</td>\n",
              "                        <td id=\"T_a9cf21d0_c452_11ea_8b21_0242ac1c0002row5_col8\" class=\"data row5 col8\" >0.00</td>\n",
              "                        <td id=\"T_a9cf21d0_c452_11ea_8b21_0242ac1c0002row5_col9\" class=\"data row5 col9\" >0.00</td>\n",
              "                        <td id=\"T_a9cf21d0_c452_11ea_8b21_0242ac1c0002row5_col10\" class=\"data row5 col10\" >0.00</td>\n",
              "                        <td id=\"T_a9cf21d0_c452_11ea_8b21_0242ac1c0002row5_col11\" class=\"data row5 col11\" >0.00</td>\n",
              "                        <td id=\"T_a9cf21d0_c452_11ea_8b21_0242ac1c0002row5_col12\" class=\"data row5 col12\" >0.00</td>\n",
              "                        <td id=\"T_a9cf21d0_c452_11ea_8b21_0242ac1c0002row5_col13\" class=\"data row5 col13\" >-0.00</td>\n",
              "            </tr>\n",
              "            <tr>\n",
              "                        <th id=\"T_a9cf21d0_c452_11ea_8b21_0242ac1c0002level0_row6\" class=\"row_heading level0 row6\" >sentiment_textblob</th>\n",
              "                        <td id=\"T_a9cf21d0_c452_11ea_8b21_0242ac1c0002row6_col0\" class=\"data row6 col0\" >-0.01</td>\n",
              "                        <td id=\"T_a9cf21d0_c452_11ea_8b21_0242ac1c0002row6_col1\" class=\"data row6 col1\" >0.19</td>\n",
              "                        <td id=\"T_a9cf21d0_c452_11ea_8b21_0242ac1c0002row6_col2\" class=\"data row6 col2\" >0.22</td>\n",
              "                        <td id=\"T_a9cf21d0_c452_11ea_8b21_0242ac1c0002row6_col3\" class=\"data row6 col3\" >0.03</td>\n",
              "                        <td id=\"T_a9cf21d0_c452_11ea_8b21_0242ac1c0002row6_col4\" class=\"data row6 col4\" >0.28</td>\n",
              "                        <td id=\"T_a9cf21d0_c452_11ea_8b21_0242ac1c0002row6_col5\" class=\"data row6 col5\" >-0.01</td>\n",
              "                        <td id=\"T_a9cf21d0_c452_11ea_8b21_0242ac1c0002row6_col6\" class=\"data row6 col6\" >1.00</td>\n",
              "                        <td id=\"T_a9cf21d0_c452_11ea_8b21_0242ac1c0002row6_col7\" class=\"data row6 col7\" >0.41</td>\n",
              "                        <td id=\"T_a9cf21d0_c452_11ea_8b21_0242ac1c0002row6_col8\" class=\"data row6 col8\" >-0.01</td>\n",
              "                        <td id=\"T_a9cf21d0_c452_11ea_8b21_0242ac1c0002row6_col9\" class=\"data row6 col9\" >-0.01</td>\n",
              "                        <td id=\"T_a9cf21d0_c452_11ea_8b21_0242ac1c0002row6_col10\" class=\"data row6 col10\" >-0.01</td>\n",
              "                        <td id=\"T_a9cf21d0_c452_11ea_8b21_0242ac1c0002row6_col11\" class=\"data row6 col11\" >-0.01</td>\n",
              "                        <td id=\"T_a9cf21d0_c452_11ea_8b21_0242ac1c0002row6_col12\" class=\"data row6 col12\" >-0.00</td>\n",
              "                        <td id=\"T_a9cf21d0_c452_11ea_8b21_0242ac1c0002row6_col13\" class=\"data row6 col13\" >-0.00</td>\n",
              "            </tr>\n",
              "            <tr>\n",
              "                        <th id=\"T_a9cf21d0_c452_11ea_8b21_0242ac1c0002level0_row7\" class=\"row_heading level0 row7\" >Vader_score</th>\n",
              "                        <td id=\"T_a9cf21d0_c452_11ea_8b21_0242ac1c0002row7_col0\" class=\"data row7 col0\" >-0.03</td>\n",
              "                        <td id=\"T_a9cf21d0_c452_11ea_8b21_0242ac1c0002row7_col1\" class=\"data row7 col1\" >0.19</td>\n",
              "                        <td id=\"T_a9cf21d0_c452_11ea_8b21_0242ac1c0002row7_col2\" class=\"data row7 col2\" >0.24</td>\n",
              "                        <td id=\"T_a9cf21d0_c452_11ea_8b21_0242ac1c0002row7_col3\" class=\"data row7 col3\" >0.01</td>\n",
              "                        <td id=\"T_a9cf21d0_c452_11ea_8b21_0242ac1c0002row7_col4\" class=\"data row7 col4\" >0.33</td>\n",
              "                        <td id=\"T_a9cf21d0_c452_11ea_8b21_0242ac1c0002row7_col5\" class=\"data row7 col5\" >-0.00</td>\n",
              "                        <td id=\"T_a9cf21d0_c452_11ea_8b21_0242ac1c0002row7_col6\" class=\"data row7 col6\" >0.41</td>\n",
              "                        <td id=\"T_a9cf21d0_c452_11ea_8b21_0242ac1c0002row7_col7\" class=\"data row7 col7\" >1.00</td>\n",
              "                        <td id=\"T_a9cf21d0_c452_11ea_8b21_0242ac1c0002row7_col8\" class=\"data row7 col8\" >-0.02</td>\n",
              "                        <td id=\"T_a9cf21d0_c452_11ea_8b21_0242ac1c0002row7_col9\" class=\"data row7 col9\" >-0.02</td>\n",
              "                        <td id=\"T_a9cf21d0_c452_11ea_8b21_0242ac1c0002row7_col10\" class=\"data row7 col10\" >-0.03</td>\n",
              "                        <td id=\"T_a9cf21d0_c452_11ea_8b21_0242ac1c0002row7_col11\" class=\"data row7 col11\" >-0.02</td>\n",
              "                        <td id=\"T_a9cf21d0_c452_11ea_8b21_0242ac1c0002row7_col12\" class=\"data row7 col12\" >-0.01</td>\n",
              "                        <td id=\"T_a9cf21d0_c452_11ea_8b21_0242ac1c0002row7_col13\" class=\"data row7 col13\" >-0.00</td>\n",
              "            </tr>\n",
              "            <tr>\n",
              "                        <th id=\"T_a9cf21d0_c452_11ea_8b21_0242ac1c0002level0_row8\" class=\"row_heading level0 row8\" >count_word</th>\n",
              "                        <td id=\"T_a9cf21d0_c452_11ea_8b21_0242ac1c0002row8_col0\" class=\"data row8 col0\" >-0.05</td>\n",
              "                        <td id=\"T_a9cf21d0_c452_11ea_8b21_0242ac1c0002row8_col1\" class=\"data row8 col1\" >-0.00</td>\n",
              "                        <td id=\"T_a9cf21d0_c452_11ea_8b21_0242ac1c0002row8_col2\" class=\"data row8 col2\" >0.08</td>\n",
              "                        <td id=\"T_a9cf21d0_c452_11ea_8b21_0242ac1c0002row8_col3\" class=\"data row8 col3\" >0.20</td>\n",
              "                        <td id=\"T_a9cf21d0_c452_11ea_8b21_0242ac1c0002row8_col4\" class=\"data row8 col4\" >-0.02</td>\n",
              "                        <td id=\"T_a9cf21d0_c452_11ea_8b21_0242ac1c0002row8_col5\" class=\"data row8 col5\" >0.00</td>\n",
              "                        <td id=\"T_a9cf21d0_c452_11ea_8b21_0242ac1c0002row8_col6\" class=\"data row8 col6\" >-0.01</td>\n",
              "                        <td id=\"T_a9cf21d0_c452_11ea_8b21_0242ac1c0002row8_col7\" class=\"data row8 col7\" >-0.02</td>\n",
              "                        <td id=\"T_a9cf21d0_c452_11ea_8b21_0242ac1c0002row8_col8\" class=\"data row8 col8\" >1.00</td>\n",
              "                        <td id=\"T_a9cf21d0_c452_11ea_8b21_0242ac1c0002row8_col9\" class=\"data row8 col9\" >0.99</td>\n",
              "                        <td id=\"T_a9cf21d0_c452_11ea_8b21_0242ac1c0002row8_col10\" class=\"data row8 col10\" >0.99</td>\n",
              "                        <td id=\"T_a9cf21d0_c452_11ea_8b21_0242ac1c0002row8_col11\" class=\"data row8 col11\" >0.87</td>\n",
              "                        <td id=\"T_a9cf21d0_c452_11ea_8b21_0242ac1c0002row8_col12\" class=\"data row8 col12\" >0.95</td>\n",
              "                        <td id=\"T_a9cf21d0_c452_11ea_8b21_0242ac1c0002row8_col13\" class=\"data row8 col13\" >-0.01</td>\n",
              "            </tr>\n",
              "            <tr>\n",
              "                        <th id=\"T_a9cf21d0_c452_11ea_8b21_0242ac1c0002level0_row9\" class=\"row_heading level0 row9\" >count_unique_word</th>\n",
              "                        <td id=\"T_a9cf21d0_c452_11ea_8b21_0242ac1c0002row9_col0\" class=\"data row9 col0\" >-0.05</td>\n",
              "                        <td id=\"T_a9cf21d0_c452_11ea_8b21_0242ac1c0002row9_col1\" class=\"data row9 col1\" >0.00</td>\n",
              "                        <td id=\"T_a9cf21d0_c452_11ea_8b21_0242ac1c0002row9_col2\" class=\"data row9 col2\" >0.08</td>\n",
              "                        <td id=\"T_a9cf21d0_c452_11ea_8b21_0242ac1c0002row9_col3\" class=\"data row9 col3\" >0.21</td>\n",
              "                        <td id=\"T_a9cf21d0_c452_11ea_8b21_0242ac1c0002row9_col4\" class=\"data row9 col4\" >-0.02</td>\n",
              "                        <td id=\"T_a9cf21d0_c452_11ea_8b21_0242ac1c0002row9_col5\" class=\"data row9 col5\" >0.00</td>\n",
              "                        <td id=\"T_a9cf21d0_c452_11ea_8b21_0242ac1c0002row9_col6\" class=\"data row9 col6\" >-0.01</td>\n",
              "                        <td id=\"T_a9cf21d0_c452_11ea_8b21_0242ac1c0002row9_col7\" class=\"data row9 col7\" >-0.02</td>\n",
              "                        <td id=\"T_a9cf21d0_c452_11ea_8b21_0242ac1c0002row9_col8\" class=\"data row9 col8\" >0.99</td>\n",
              "                        <td id=\"T_a9cf21d0_c452_11ea_8b21_0242ac1c0002row9_col9\" class=\"data row9 col9\" >1.00</td>\n",
              "                        <td id=\"T_a9cf21d0_c452_11ea_8b21_0242ac1c0002row9_col10\" class=\"data row9 col10\" >0.99</td>\n",
              "                        <td id=\"T_a9cf21d0_c452_11ea_8b21_0242ac1c0002row9_col11\" class=\"data row9 col11\" >0.85</td>\n",
              "                        <td id=\"T_a9cf21d0_c452_11ea_8b21_0242ac1c0002row9_col12\" class=\"data row9 col12\" >0.94</td>\n",
              "                        <td id=\"T_a9cf21d0_c452_11ea_8b21_0242ac1c0002row9_col13\" class=\"data row9 col13\" >-0.01</td>\n",
              "            </tr>\n",
              "            <tr>\n",
              "                        <th id=\"T_a9cf21d0_c452_11ea_8b21_0242ac1c0002level0_row10\" class=\"row_heading level0 row10\" >count_letters</th>\n",
              "                        <td id=\"T_a9cf21d0_c452_11ea_8b21_0242ac1c0002row10_col0\" class=\"data row10 col0\" >-0.05</td>\n",
              "                        <td id=\"T_a9cf21d0_c452_11ea_8b21_0242ac1c0002row10_col1\" class=\"data row10 col1\" >-0.00</td>\n",
              "                        <td id=\"T_a9cf21d0_c452_11ea_8b21_0242ac1c0002row10_col2\" class=\"data row10 col2\" >0.07</td>\n",
              "                        <td id=\"T_a9cf21d0_c452_11ea_8b21_0242ac1c0002row10_col3\" class=\"data row10 col3\" >0.20</td>\n",
              "                        <td id=\"T_a9cf21d0_c452_11ea_8b21_0242ac1c0002row10_col4\" class=\"data row10 col4\" >-0.03</td>\n",
              "                        <td id=\"T_a9cf21d0_c452_11ea_8b21_0242ac1c0002row10_col5\" class=\"data row10 col5\" >0.00</td>\n",
              "                        <td id=\"T_a9cf21d0_c452_11ea_8b21_0242ac1c0002row10_col6\" class=\"data row10 col6\" >-0.01</td>\n",
              "                        <td id=\"T_a9cf21d0_c452_11ea_8b21_0242ac1c0002row10_col7\" class=\"data row10 col7\" >-0.03</td>\n",
              "                        <td id=\"T_a9cf21d0_c452_11ea_8b21_0242ac1c0002row10_col8\" class=\"data row10 col8\" >0.99</td>\n",
              "                        <td id=\"T_a9cf21d0_c452_11ea_8b21_0242ac1c0002row10_col9\" class=\"data row10 col9\" >0.99</td>\n",
              "                        <td id=\"T_a9cf21d0_c452_11ea_8b21_0242ac1c0002row10_col10\" class=\"data row10 col10\" >1.00</td>\n",
              "                        <td id=\"T_a9cf21d0_c452_11ea_8b21_0242ac1c0002row10_col11\" class=\"data row10 col11\" >0.85</td>\n",
              "                        <td id=\"T_a9cf21d0_c452_11ea_8b21_0242ac1c0002row10_col12\" class=\"data row10 col12\" >0.95</td>\n",
              "                        <td id=\"T_a9cf21d0_c452_11ea_8b21_0242ac1c0002row10_col13\" class=\"data row10 col13\" >0.03</td>\n",
              "            </tr>\n",
              "            <tr>\n",
              "                        <th id=\"T_a9cf21d0_c452_11ea_8b21_0242ac1c0002level0_row11\" class=\"row_heading level0 row11\" >count_punctuations</th>\n",
              "                        <td id=\"T_a9cf21d0_c452_11ea_8b21_0242ac1c0002row11_col0\" class=\"data row11 col0\" >-0.05</td>\n",
              "                        <td id=\"T_a9cf21d0_c452_11ea_8b21_0242ac1c0002row11_col1\" class=\"data row11 col1\" >0.00</td>\n",
              "                        <td id=\"T_a9cf21d0_c452_11ea_8b21_0242ac1c0002row11_col2\" class=\"data row11 col2\" >0.06</td>\n",
              "                        <td id=\"T_a9cf21d0_c452_11ea_8b21_0242ac1c0002row11_col3\" class=\"data row11 col3\" >0.18</td>\n",
              "                        <td id=\"T_a9cf21d0_c452_11ea_8b21_0242ac1c0002row11_col4\" class=\"data row11 col4\" >-0.02</td>\n",
              "                        <td id=\"T_a9cf21d0_c452_11ea_8b21_0242ac1c0002row11_col5\" class=\"data row11 col5\" >0.00</td>\n",
              "                        <td id=\"T_a9cf21d0_c452_11ea_8b21_0242ac1c0002row11_col6\" class=\"data row11 col6\" >-0.01</td>\n",
              "                        <td id=\"T_a9cf21d0_c452_11ea_8b21_0242ac1c0002row11_col7\" class=\"data row11 col7\" >-0.02</td>\n",
              "                        <td id=\"T_a9cf21d0_c452_11ea_8b21_0242ac1c0002row11_col8\" class=\"data row11 col8\" >0.87</td>\n",
              "                        <td id=\"T_a9cf21d0_c452_11ea_8b21_0242ac1c0002row11_col9\" class=\"data row11 col9\" >0.85</td>\n",
              "                        <td id=\"T_a9cf21d0_c452_11ea_8b21_0242ac1c0002row11_col10\" class=\"data row11 col10\" >0.85</td>\n",
              "                        <td id=\"T_a9cf21d0_c452_11ea_8b21_0242ac1c0002row11_col11\" class=\"data row11 col11\" >1.00</td>\n",
              "                        <td id=\"T_a9cf21d0_c452_11ea_8b21_0242ac1c0002row11_col12\" class=\"data row11 col12\" >0.78</td>\n",
              "                        <td id=\"T_a9cf21d0_c452_11ea_8b21_0242ac1c0002row11_col13\" class=\"data row11 col13\" >-0.02</td>\n",
              "            </tr>\n",
              "            <tr>\n",
              "                        <th id=\"T_a9cf21d0_c452_11ea_8b21_0242ac1c0002level0_row12\" class=\"row_heading level0 row12\" >count_stopwords</th>\n",
              "                        <td id=\"T_a9cf21d0_c452_11ea_8b21_0242ac1c0002row12_col0\" class=\"data row12 col0\" >-0.06</td>\n",
              "                        <td id=\"T_a9cf21d0_c452_11ea_8b21_0242ac1c0002row12_col1\" class=\"data row12 col1\" >0.01</td>\n",
              "                        <td id=\"T_a9cf21d0_c452_11ea_8b21_0242ac1c0002row12_col2\" class=\"data row12 col2\" >0.09</td>\n",
              "                        <td id=\"T_a9cf21d0_c452_11ea_8b21_0242ac1c0002row12_col3\" class=\"data row12 col3\" >0.19</td>\n",
              "                        <td id=\"T_a9cf21d0_c452_11ea_8b21_0242ac1c0002row12_col4\" class=\"data row12 col4\" >-0.01</td>\n",
              "                        <td id=\"T_a9cf21d0_c452_11ea_8b21_0242ac1c0002row12_col5\" class=\"data row12 col5\" >0.00</td>\n",
              "                        <td id=\"T_a9cf21d0_c452_11ea_8b21_0242ac1c0002row12_col6\" class=\"data row12 col6\" >-0.00</td>\n",
              "                        <td id=\"T_a9cf21d0_c452_11ea_8b21_0242ac1c0002row12_col7\" class=\"data row12 col7\" >-0.01</td>\n",
              "                        <td id=\"T_a9cf21d0_c452_11ea_8b21_0242ac1c0002row12_col8\" class=\"data row12 col8\" >0.95</td>\n",
              "                        <td id=\"T_a9cf21d0_c452_11ea_8b21_0242ac1c0002row12_col9\" class=\"data row12 col9\" >0.94</td>\n",
              "                        <td id=\"T_a9cf21d0_c452_11ea_8b21_0242ac1c0002row12_col10\" class=\"data row12 col10\" >0.95</td>\n",
              "                        <td id=\"T_a9cf21d0_c452_11ea_8b21_0242ac1c0002row12_col11\" class=\"data row12 col11\" >0.78</td>\n",
              "                        <td id=\"T_a9cf21d0_c452_11ea_8b21_0242ac1c0002row12_col12\" class=\"data row12 col12\" >1.00</td>\n",
              "                        <td id=\"T_a9cf21d0_c452_11ea_8b21_0242ac1c0002row12_col13\" class=\"data row12 col13\" >-0.01</td>\n",
              "            </tr>\n",
              "            <tr>\n",
              "                        <th id=\"T_a9cf21d0_c452_11ea_8b21_0242ac1c0002level0_row13\" class=\"row_heading level0 row13\" >mean_word_len</th>\n",
              "                        <td id=\"T_a9cf21d0_c452_11ea_8b21_0242ac1c0002row13_col0\" class=\"data row13 col0\" >0.00</td>\n",
              "                        <td id=\"T_a9cf21d0_c452_11ea_8b21_0242ac1c0002row13_col1\" class=\"data row13 col1\" >-0.01</td>\n",
              "                        <td id=\"T_a9cf21d0_c452_11ea_8b21_0242ac1c0002row13_col2\" class=\"data row13 col2\" >-0.00</td>\n",
              "                        <td id=\"T_a9cf21d0_c452_11ea_8b21_0242ac1c0002row13_col3\" class=\"data row13 col3\" >-0.00</td>\n",
              "                        <td id=\"T_a9cf21d0_c452_11ea_8b21_0242ac1c0002row13_col4\" class=\"data row13 col4\" >0.00</td>\n",
              "                        <td id=\"T_a9cf21d0_c452_11ea_8b21_0242ac1c0002row13_col5\" class=\"data row13 col5\" >-0.00</td>\n",
              "                        <td id=\"T_a9cf21d0_c452_11ea_8b21_0242ac1c0002row13_col6\" class=\"data row13 col6\" >-0.00</td>\n",
              "                        <td id=\"T_a9cf21d0_c452_11ea_8b21_0242ac1c0002row13_col7\" class=\"data row13 col7\" >-0.00</td>\n",
              "                        <td id=\"T_a9cf21d0_c452_11ea_8b21_0242ac1c0002row13_col8\" class=\"data row13 col8\" >-0.01</td>\n",
              "                        <td id=\"T_a9cf21d0_c452_11ea_8b21_0242ac1c0002row13_col9\" class=\"data row13 col9\" >-0.01</td>\n",
              "                        <td id=\"T_a9cf21d0_c452_11ea_8b21_0242ac1c0002row13_col10\" class=\"data row13 col10\" >0.03</td>\n",
              "                        <td id=\"T_a9cf21d0_c452_11ea_8b21_0242ac1c0002row13_col11\" class=\"data row13 col11\" >-0.02</td>\n",
              "                        <td id=\"T_a9cf21d0_c452_11ea_8b21_0242ac1c0002row13_col12\" class=\"data row13 col12\" >-0.01</td>\n",
              "                        <td id=\"T_a9cf21d0_c452_11ea_8b21_0242ac1c0002row13_col13\" class=\"data row13 col13\" >1.00</td>\n",
              "            </tr>\n",
              "    </tbody></table>"
            ],
            "text/plain": [
              "<pandas.io.formats.style.Styler at 0x7f09320db128>"
            ]
          },
          "metadata": {
            "tags": []
          },
          "execution_count": 38
        }
      ]
    },
    {
      "cell_type": "code",
      "metadata": {
        "trusted": true,
        "_uuid": "f59cf45b806c2b619244d6e8e7f2d81f297e4d87",
        "id": "XZiW2E8t7PJ8",
        "colab_type": "code",
        "colab": {}
      },
      "source": [
        "# Correlation Heatmap of the features engineered\n",
        "#plt.rcParams['figure.figsize'] = [17,15]\n",
        "#sns.set(font_scale = 1.2)\n",
        "#corr = drugs.select_dtypes(include='float64').corr()\n",
        "#sns_ = sns.heatmap(corr, annot = True, cmap = 'YlGnBu')\n",
        "#plt.setp(sns_.get_xticklabels(), rotation = 45);"
      ],
      "execution_count": 39,
      "outputs": []
    },
    {
      "cell_type": "code",
      "metadata": {
        "id": "1q0fyCU7UZ_A",
        "colab_type": "code",
        "colab": {}
      },
      "source": [
        "drugs = drugs.dropna(how = 'any', axis = 0)"
      ],
      "execution_count": 40,
      "outputs": []
    },
    {
      "cell_type": "code",
      "metadata": {
        "id": "C7EwRBynUFKG",
        "colab_type": "code",
        "colab": {
          "base_uri": "https://localhost:8080/",
          "height": 372
        },
        "outputId": "322a7e23-1eba-4dca-d86f-964080516117"
      },
      "source": [
        "drugs.isna().sum()"
      ],
      "execution_count": 41,
      "outputs": [
        {
          "output_type": "execute_result",
          "data": {
            "text/plain": [
              "age                   0\n",
              "condition             0\n",
              "drug                  0\n",
              "drugid                0\n",
              "easeofuse             0\n",
              "effectiveness         0\n",
              "reviews               0\n",
              "usefulcount           0\n",
              "satisfaction          0\n",
              "uniqueid              0\n",
              "reviews_clean         0\n",
              "sentiment_textblob    0\n",
              "Vader_score           0\n",
              "count_word            0\n",
              "count_unique_word     0\n",
              "count_letters         0\n",
              "count_punctuations    0\n",
              "count_stopwords       0\n",
              "mean_word_len         0\n",
              "dtype: int64"
            ]
          },
          "metadata": {
            "tags": []
          },
          "execution_count": 41
        }
      ]
    },
    {
      "cell_type": "code",
      "metadata": {
        "id": "5oXLnxKyGrh2",
        "colab_type": "code",
        "colab": {
          "base_uri": "https://localhost:8080/",
          "height": 372
        },
        "outputId": "61fa5380-75ab-40d9-8ebc-11ba32f58cca"
      },
      "source": [
        "drugs.dtypes"
      ],
      "execution_count": 42,
      "outputs": [
        {
          "output_type": "execute_result",
          "data": {
            "text/plain": [
              "age                    object\n",
              "condition               int64\n",
              "drug                   object\n",
              "drugid                 object\n",
              "easeofuse             float64\n",
              "effectiveness         float64\n",
              "reviews                object\n",
              "usefulcount           float64\n",
              "satisfaction          float64\n",
              "uniqueid                int64\n",
              "reviews_clean          object\n",
              "sentiment_textblob    float64\n",
              "Vader_score           float64\n",
              "count_word              int64\n",
              "count_unique_word       int64\n",
              "count_letters           int64\n",
              "count_punctuations      int64\n",
              "count_stopwords         int64\n",
              "mean_word_len         float64\n",
              "dtype: object"
            ]
          },
          "metadata": {
            "tags": []
          },
          "execution_count": 42
        }
      ]
    },
    {
      "cell_type": "code",
      "metadata": {
        "id": "VFELlO4NPhNq",
        "colab_type": "code",
        "colab": {
          "base_uri": "https://localhost:8080/",
          "height": 214
        },
        "outputId": "df220382-cb97-4f3a-bdea-f092c948ee5e"
      },
      "source": [
        "drugs.head(1)"
      ],
      "execution_count": 43,
      "outputs": [
        {
          "output_type": "execute_result",
          "data": {
            "text/html": [
              "<div>\n",
              "<style scoped>\n",
              "    .dataframe tbody tr th:only-of-type {\n",
              "        vertical-align: middle;\n",
              "    }\n",
              "\n",
              "    .dataframe tbody tr th {\n",
              "        vertical-align: top;\n",
              "    }\n",
              "\n",
              "    .dataframe thead th {\n",
              "        text-align: right;\n",
              "    }\n",
              "</style>\n",
              "<table border=\"1\" class=\"dataframe\">\n",
              "  <thead>\n",
              "    <tr style=\"text-align: right;\">\n",
              "      <th></th>\n",
              "      <th>age</th>\n",
              "      <th>condition</th>\n",
              "      <th>drug</th>\n",
              "      <th>drugid</th>\n",
              "      <th>easeofuse</th>\n",
              "      <th>effectiveness</th>\n",
              "      <th>reviews</th>\n",
              "      <th>usefulcount</th>\n",
              "      <th>satisfaction</th>\n",
              "      <th>uniqueid</th>\n",
              "      <th>reviews_clean</th>\n",
              "      <th>sentiment_textblob</th>\n",
              "      <th>Vader_score</th>\n",
              "      <th>count_word</th>\n",
              "      <th>count_unique_word</th>\n",
              "      <th>count_letters</th>\n",
              "      <th>count_punctuations</th>\n",
              "      <th>count_stopwords</th>\n",
              "      <th>mean_word_len</th>\n",
              "    </tr>\n",
              "  </thead>\n",
              "  <tbody>\n",
              "    <tr>\n",
              "      <th>18095</th>\n",
              "      <td>19-24</td>\n",
              "      <td>127</td>\n",
              "      <td>skyla intrauterine device</td>\n",
              "      <td>163305</td>\n",
              "      <td>3.0</td>\n",
              "      <td>5.0</td>\n",
              "      <td>i have been on the skyla for 4 months now, and...</td>\n",
              "      <td>2.0</td>\n",
              "      <td>3.0</td>\n",
              "      <td>0</td>\n",
              "      <td>skyla month now sporad cramp come pleas horrib...</td>\n",
              "      <td>0.28</td>\n",
              "      <td>0.9531</td>\n",
              "      <td>38</td>\n",
              "      <td>33</td>\n",
              "      <td>204</td>\n",
              "      <td>11</td>\n",
              "      <td>28</td>\n",
              "      <td>4.394737</td>\n",
              "    </tr>\n",
              "  </tbody>\n",
              "</table>\n",
              "</div>"
            ],
            "text/plain": [
              "         age  condition  ... count_stopwords mean_word_len\n",
              "18095  19-24        127  ...              28      4.394737\n",
              "\n",
              "[1 rows x 19 columns]"
            ]
          },
          "metadata": {
            "tags": []
          },
          "execution_count": 43
        }
      ]
    },
    {
      "cell_type": "markdown",
      "metadata": {
        "id": "7MHIYRuQ7PKD",
        "colab_type": "text"
      },
      "source": [
        "# Importing Libraries for the Machine Learning Model\n"
      ]
    },
    {
      "cell_type": "code",
      "metadata": {
        "trusted": true,
        "id": "MADHXiIa7PKE",
        "colab_type": "code",
        "colab": {}
      },
      "source": [
        "# Importing Libraries for the Machine Learning Model\n",
        "from sklearn.model_selection import KFold, cross_val_score\n",
        "from xgboost import XGBClassifier\n",
        "from sklearn.naive_bayes import GaussianNB\n",
        "from lightgbm import LGBMModel,LGBMClassifier, plot_importance\n",
        "from sklearn.linear_model import SGDClassifier\n",
        "from sklearn.neighbors import KNeighborsClassifier\n",
        "from xgboost import XGBClassifier\n",
        "import time\n",
        "from sklearn.metrics import confusion_matrix, accuracy_score, classification_report, precision_score\n",
        "from sklearn.model_selection import train_test_split, cross_val_predict\n",
        "\n",
        "\n",
        "from sklearn.metrics import roc_auc_score\n",
        "from sklearn.preprocessing import LabelBinarizer"
      ],
      "execution_count": 44,
      "outputs": []
    },
    {
      "cell_type": "code",
      "metadata": {
        "id": "eXKflaR1Dgnp",
        "colab_type": "code",
        "colab": {
          "base_uri": "https://localhost:8080/",
          "height": 123
        },
        "outputId": "277fabe1-73e8-43fc-bf40-cb8fdf35b955"
      },
      "source": [
        "drugs['satisfaction'].value_counts()"
      ],
      "execution_count": 45,
      "outputs": [
        {
          "output_type": "execute_result",
          "data": {
            "text/plain": [
              "1.0    8494\n",
              "4.0    8492\n",
              "2.0    8491\n",
              "5.0    8489\n",
              "3.0    8488\n",
              "Name: satisfaction, dtype: int64"
            ]
          },
          "metadata": {
            "tags": []
          },
          "execution_count": 45
        }
      ]
    },
    {
      "cell_type": "code",
      "metadata": {
        "trusted": true,
        "id": "ztlt9AC47PKH",
        "colab_type": "code",
        "colab": {
          "base_uri": "https://localhost:8080/",
          "height": 52
        },
        "outputId": "fdb61901-f30c-4198-81f9-e84b858fcd6a"
      },
      "source": [
        "# Defining Features and splitting the data as train and test set\n",
        "features = drugs[[ 'effectiveness', 'sentiment_textblob', 'easeofuse', 'condition', 'count_letters',\n",
        "                   ]]\n",
        "\n",
        "target = drugs['satisfaction']\n",
        "\n",
        "X_train, X_test, y_train, y_test = train_test_split(features, target, test_size = 0.3, shuffle=True, random_state = 42)\n",
        "print (\"The Train set size \", X_train.shape)\n",
        "print (\"The Test set size \", X_test.shape)"
      ],
      "execution_count": 71,
      "outputs": [
        {
          "output_type": "stream",
          "text": [
            "The Train set size  (29717, 5)\n",
            "The Test set size  (12737, 5)\n"
          ],
          "name": "stdout"
        }
      ]
    },
    {
      "cell_type": "markdown",
      "metadata": {
        "id": "-A0U6r82nPPo",
        "colab_type": "text"
      },
      "source": [
        "#### Firstly we'll try and check which classifier performs the best with our training data, then we'll take that classifier and perform HyperParameter Optimisation on that model."
      ]
    },
    {
      "cell_type": "code",
      "metadata": {
        "id": "VcviE1dkGc25",
        "colab_type": "code",
        "colab": {
          "base_uri": "https://localhost:8080/",
          "height": 105
        },
        "outputId": "11460428-6caf-4f6d-e934-7773b80e6a72"
      },
      "source": [
        "knn = KNeighborsClassifier()\n",
        "training_start = time.perf_counter()\n",
        "knn.fit(X_train, y_train)\n",
        "training_end = time.perf_counter()\n",
        "prediction_start = time.perf_counter()\n",
        "preds = knn.predict(X_test)\n",
        "prediction_end = time.perf_counter()\n",
        "acc_knn = (preds == y_test).sum().astype(float) / len(preds)*100\n",
        "knn_train_time = training_end-training_start\n",
        "knn_prediction_time = prediction_end-prediction_start\n",
        "precision_score_knn=precision_score(y_test, preds, average='micro')\n",
        "\n",
        "lb = LabelBinarizer()\n",
        "lb.fit(y_test)\n",
        "y_test1 = lb.transform(y_test)\n",
        "y_pred1= lb.transform(preds)\n",
        "roc_auc_score_knn=roc_auc_score(y_test1, y_pred1, average=\"macro\")\n",
        "print(\"Roc_auc_score for test data: %3.5f \" % (roc_auc_score_knn))\n",
        "print(\"Scikit-Learn's K Nearest Neighbors Classifier's prediction accuracy is: %3.2f\" % (acc_knn))\n",
        "print(\"Time consumed for training: %4.3f seconds\" % (knn_train_time))\n",
        "print(\"Time consumed for prediction: %6.5f seconds\" % (knn_prediction_time))\n",
        "print(\"Precision on test dataset:\", precision_score_knn)"
      ],
      "execution_count": 72,
      "outputs": [
        {
          "output_type": "stream",
          "text": [
            "Roc_auc_score for test data: 0.57268 \n",
            "Scikit-Learn's K Nearest Neighbors Classifier's prediction accuracy is: 31.62\n",
            "Time consumed for training: 0.032 seconds\n",
            "Time consumed for prediction: 0.37197 seconds\n",
            "Precision on test dataset: 0.3162440135039648\n"
          ],
          "name": "stdout"
        }
      ]
    },
    {
      "cell_type": "code",
      "metadata": {
        "id": "W19h8dlfESEv",
        "colab_type": "code",
        "colab": {
          "base_uri": "https://localhost:8080/",
          "height": 105
        },
        "outputId": "02fd2233-44c5-4ac2-e147-a48291d7b2f0"
      },
      "source": [
        "from sklearn.ensemble import GradientBoostingClassifier\n",
        "gbk = GradientBoostingClassifier()\n",
        "gbk.fit(X_train, y_train)\n",
        "\n",
        "training_start = time.perf_counter()\n",
        "gbk.fit(X_train, y_train)\n",
        "training_end = time.perf_counter()\n",
        "prediction_start = time.perf_counter()\n",
        "preds = gbk.predict(X_test)\n",
        "prediction_end = time.perf_counter()\n",
        "acc_gbk = (preds == y_test).sum().astype(float) / len(preds)*100\n",
        "gbk_train_time = training_end-training_start\n",
        "gbk_prediction_time = prediction_end-prediction_start\n",
        "precision_score_gbk=precision_score(y_test, preds, average='micro')\n",
        "\n",
        "y_pred1= lb.transform(preds)\n",
        "roc_auc_score_gbk=roc_auc_score(y_test1, y_pred1, average=\"macro\")\n",
        "print(\"Roc_auc_score for test data: %3.5f \" % (roc_auc_score_gbk))\n",
        "print(\"Scikit-Learn's GBK Classifier's prediction accuracy is: %3.2f\" % (acc_gbk))\n",
        "print(\"Time consumed for training: %4.3f seconds\" % (gbk_train_time))\n",
        "print(\"Time consumed for prediction: %6.5f seconds\" % (gbk_prediction_time))\n",
        "print(\"Precision on test dataset:\", precision_score_gbk)"
      ],
      "execution_count": 73,
      "outputs": [
        {
          "output_type": "stream",
          "text": [
            "Roc_auc_score for test data: 0.73832 \n",
            "Scikit-Learn's GBK Classifier's prediction accuracy is: 58.20\n",
            "Time consumed for training: 16.943 seconds\n",
            "Time consumed for prediction: 0.11481 seconds\n",
            "Precision on test dataset: 0.5820051817539452\n"
          ],
          "name": "stdout"
        }
      ]
    },
    {
      "cell_type": "code",
      "metadata": {
        "id": "8KQRp_Mj2l3Q",
        "colab_type": "code",
        "colab": {
          "base_uri": "https://localhost:8080/",
          "height": 105
        },
        "outputId": "bb576ac7-7a25-4555-9a2a-537739560ac5"
      },
      "source": [
        "GNB= GaussianNB()\n",
        "training_start = time.perf_counter()\n",
        "GNB.fit(X_train, y_train)\n",
        "training_end = time.perf_counter()\n",
        "prediction_start = time.perf_counter()\n",
        "preds = GNB.predict(X_test)\n",
        "prediction_end = time.perf_counter()\n",
        "acc_gnb = (preds == y_test).sum().astype(float) / len(preds)*100\n",
        "gnb_train_time = training_end-training_start\n",
        "gnb_prediction_time = prediction_end-prediction_start\n",
        "precision_score_gnb=precision_score(y_test, preds, average='micro')\n",
        "y_pred1= lb.transform(preds)\n",
        "roc_auc_score_gnb=roc_auc_score(y_test1, y_pred1, average=\"macro\")\n",
        "print(\"Roc_auc_score for test data: %3.5f \" % (roc_auc_score_gnb))\n",
        "print(\"Naive Bayes Classifier's prediction accuracy is: %3.2f\" % (acc_gnb))\n",
        "print(\"Time consumed for training: %4.3f seconds\" % (gnb_train_time))\n",
        "print(\"Time consumed for prediction: %6.5f seconds\" % (gnb_prediction_time))\n",
        "print(\"Precision on test dataset:\", precision_score_gnb)"
      ],
      "execution_count": 74,
      "outputs": [
        {
          "output_type": "stream",
          "text": [
            "Roc_auc_score for test data: 0.72160 \n",
            "Naive Bayes Classifier's prediction accuracy is: 55.54\n",
            "Time consumed for training: 0.008 seconds\n",
            "Time consumed for prediction: 0.00354 seconds\n",
            "Precision on test dataset: 0.5553898092172411\n"
          ],
          "name": "stdout"
        }
      ]
    },
    {
      "cell_type": "code",
      "metadata": {
        "trusted": true,
        "id": "DOxSbmhO7PKK",
        "colab_type": "code",
        "colab": {
          "base_uri": "https://localhost:8080/",
          "height": 105
        },
        "outputId": "87231598-7371-4493-adb4-c2d8d1aecd19"
      },
      "source": [
        "LGBM = LGBMClassifier(\n",
        "        \n",
        "        )\n",
        "#n_estimators=10000,\n",
        "#        learning_rate=0.10,\n",
        "#        num_leaves=30,\n",
        "#        subsample=.9,\n",
        "#        max_depth=7,\n",
        "#        reg_alpha=.1,\n",
        "#        reg_lambda=.1,\n",
        "#        min_split_gain=.01,\n",
        "#        min_child_weight=2,\n",
        "#        silent=-1,\n",
        "#        verbose=-1,\n",
        "training_start = time.perf_counter()\n",
        "LGBM.fit(X_train, y_train)\n",
        "training_end = time.perf_counter()\n",
        "prediction_start = time.perf_counter()\n",
        "preds = LGBM.predict(X_test)\n",
        "prediction_end = time.perf_counter()\n",
        "acc_LGBM = (preds == y_test).sum().astype(float) / len(preds)*100\n",
        "LGBM_train_time = training_end-training_start\n",
        "LGBM_prediction_time = prediction_end-prediction_start\n",
        "precision_score_lgbm=precision_score(y_test, preds, average='micro')\n",
        "\n",
        "y_pred1= lb.transform(preds)\n",
        "roc_auc_score_lgbm=roc_auc_score(y_test1, y_pred1, average=\"macro\")\n",
        "print(\"Roc_auc_score for test data: %3.5f \" % (roc_auc_score_lgbm))\n",
        "print(\"Scikit-Learn's LGBM Classifier's prediction accuracy is: %3.2f\" % (acc_LGBM))\n",
        "print(\"Time consumed for training: %4.3f seconds\" % (LGBM_train_time))\n",
        "print(\"Time consumed for prediction: %6.5f seconds\" % (LGBM_prediction_time))\n",
        "print(\"Precision on test dataset:\", precision_score_lgbm)\n"
      ],
      "execution_count": 75,
      "outputs": [
        {
          "output_type": "stream",
          "text": [
            "Roc_auc_score for test data: 0.73992 \n",
            "Scikit-Learn's LGBM Classifier's prediction accuracy is: 58.47\n",
            "Time consumed for training: 1.328 seconds\n",
            "Time consumed for prediction: 0.01666 seconds\n",
            "Precision on test dataset: 0.5846745701499568\n"
          ],
          "name": "stdout"
        }
      ]
    },
    {
      "cell_type": "code",
      "metadata": {
        "id": "MUOfB2EACOCe",
        "colab_type": "code",
        "colab": {
          "base_uri": "https://localhost:8080/",
          "height": 577
        },
        "outputId": "4a1071e4-6b52-4a31-d9b7-97b47173995e"
      },
      "source": [
        "# Feature Importance Plot using LGBM\n",
        "plt.rcParams['figure.figsize'] = [12, 9]\n",
        "sns.set(style = 'whitegrid', font_scale = 1.2)\n",
        "plot_importance(LGBM);"
      ],
      "execution_count": 76,
      "outputs": [
        {
          "output_type": "display_data",
          "data": {
            "image/png": "[encoded data removed]",
            "text/plain": [
              "<Figure size 864x648 with 1 Axes>"
            ]
          },
          "metadata": {
            "tags": []
          }
        }
      ]
    },
    {
      "cell_type": "code",
      "metadata": {
        "id": "zBnE0C03HDbf",
        "colab_type": "code",
        "colab": {
          "base_uri": "https://localhost:8080/",
          "height": 247
        },
        "outputId": "5ba4fa67-f137-47d5-ea6c-74cc085b0a2c"
      },
      "source": [
        "from sklearn.linear_model import LogisticRegression\n",
        "\n",
        "LR = LogisticRegression()\n",
        "training_start = time.perf_counter()\n",
        "LR.fit(X_train, y_train)\n",
        "training_end = time.perf_counter()\n",
        "prediction_start = time.perf_counter()\n",
        "preds = LR.predict(X_test)\n",
        "prediction_end = time.perf_counter()\n",
        "acc_LR = (preds == y_test).sum().astype(float) / len(preds)*100\n",
        "LR_train_time = training_end-training_start\n",
        "LR_prediction_time = prediction_end-prediction_start\n",
        "precision_score_LR=precision_score(y_test, preds, average='micro')\n",
        "\n",
        "y_pred1= lb.transform(preds)\n",
        "roc_auc_score_LR=roc_auc_score(y_test1, y_pred1, average=\"macro\")\n",
        "print(\"Roc_auc_score for test data: %3.5f \" % (roc_auc_score_LR))\n",
        "print(\"Scikit-Learn's LR Classifier's prediction accuracy is: %3.2f\" % (acc_LR))\n",
        "print(\"Time consumed for training: %4.3f seconds\" % (LR_train_time))\n",
        "print(\"Time consumed for prediction: %6.5f seconds\" % (LR_prediction_time))\n",
        "print(\"Precision on test dataset:\", precision_score_LR)\n"
      ],
      "execution_count": 77,
      "outputs": [
        {
          "output_type": "stream",
          "text": [
            "Roc_auc_score for test data: 0.61461 \n",
            "Scikit-Learn's LR Classifier's prediction accuracy is: 38.38\n",
            "Time consumed for training: 2.010 seconds\n",
            "Time consumed for prediction: 0.00250 seconds\n",
            "Precision on test dataset: 0.3838423490617885\n"
          ],
          "name": "stdout"
        },
        {
          "output_type": "stream",
          "text": [
            "/usr/local/lib/python3.6/dist-packages/sklearn/linear_model/_logistic.py:940: ConvergenceWarning: lbfgs failed to converge (status=1):\n",
            "STOP: TOTAL NO. of ITERATIONS REACHED LIMIT.\n",
            "\n",
            "Increase the number of iterations (max_iter) or scale the data as shown in:\n",
            "    https://scikit-learn.org/stable/modules/preprocessing.html\n",
            "Please also refer to the documentation for alternative solver options:\n",
            "    https://scikit-learn.org/stable/modules/linear_model.html#logistic-regression\n",
            "  extra_warning_msg=_LOGISTIC_SOLVER_CONVERGENCE_MSG)\n"
          ],
          "name": "stderr"
        }
      ]
    },
    {
      "cell_type": "code",
      "metadata": {
        "id": "oM4vEaDiCAq-",
        "colab_type": "code",
        "colab": {
          "base_uri": "https://localhost:8080/",
          "height": 105
        },
        "outputId": "c6fd6679-97ff-4340-fb00-025cc98a5c1e"
      },
      "source": [
        "from sklearn.ensemble import RandomForestClassifier\n",
        "import time\n",
        "\n",
        "rfc = RandomForestClassifier(n_estimators=10)\n",
        "training_start = time.perf_counter()\n",
        "rfc.fit(X_train, y_train)\n",
        "training_end = time.perf_counter()\n",
        "prediction_start = time.perf_counter()\n",
        "preds = rfc.predict(X_test)\n",
        "prediction_end = time.perf_counter()\n",
        "acc_rfc = (preds == y_test).sum().astype(float) / len(preds)*100\n",
        "rfc_train_time = training_end-training_start\n",
        "rfc_prediction_time = prediction_end-prediction_start\n",
        "precision_score_rfc=precision_score(y_test, preds, average='micro')\n",
        "\n",
        "y_pred1= lb.transform(preds)\n",
        "roc_auc_score_rfc=roc_auc_score(y_test1, y_pred1, average=\"macro\")\n",
        "print(\"Roc_auc_score for test data: %3.5f \" % (roc_auc_score_rfc))\n",
        "print(\"Scikit-Learn's Random Forest Classifier's prediction accuracy is: %3.2f\" % (acc_rfc))\n",
        "print(\"Time consumed for training: %4.3f seconds\" % (rfc_train_time))\n",
        "print(\"Time consumed for prediction: %6.5f seconds\" % (rfc_prediction_time))\n",
        "print(\"Precision on test dataset:\", precision_score_rfc)"
      ],
      "execution_count": 78,
      "outputs": [
        {
          "output_type": "stream",
          "text": [
            "Roc_auc_score for test data: 0.69164 \n",
            "Scikit-Learn's Random Forest Classifier's prediction accuracy is: 50.71\n",
            "Time consumed for training: 0.495 seconds\n",
            "Time consumed for prediction: 0.04067 seconds\n",
            "Precision on test dataset: 0.5071052838187956\n"
          ],
          "name": "stdout"
        }
      ]
    },
    {
      "cell_type": "code",
      "metadata": {
        "id": "lQfT18hbHX4a",
        "colab_type": "code",
        "colab": {
          "base_uri": "https://localhost:8080/",
          "height": 257
        },
        "outputId": "359cc6f0-ec1f-4b5f-c24c-2fadf8659fa5"
      },
      "source": [
        "#After running all classifier models individually, we compare them all together for best performance\n",
        "results = pd.DataFrame({\n",
        "    'Model': ['KNN', 'GNB', 'LGBM', 'gbk', 'LR', 'Random Forest'],\n",
        "    'Roc_auc_score': [roc_auc_score_knn, roc_auc_score_gnb, roc_auc_score_lgbm, roc_auc_score_gbk, roc_auc_score_LR, roc_auc_score_rfc],\n",
        "    'Accuracy': [acc_knn, acc_gnb, acc_LGBM, acc_gbk, acc_LR, acc_rfc],\n",
        "    'Precision': [precision_score_knn, precision_score_gnb, precision_score_lgbm, precision_score_gbk, precision_score_LR, precision_score_rfc],\n",
        "    'Runtime Training': [knn_train_time, gnb_train_time, LGBM_train_time, gbk_train_time, \n",
        "                         LR_train_time, rfc_train_time],\n",
        "    'Runtime Prediction': [knn_prediction_time, gnb_prediction_time, LGBM_prediction_time, gbk_prediction_time,\n",
        "                          LR_prediction_time, rfc_prediction_time]})\n",
        "result_df = results.sort_values(by='Roc_auc_score', ascending=False)\n",
        "result_df = result_df.set_index('Model')\n",
        "result_df"
      ],
      "execution_count": 79,
      "outputs": [
        {
          "output_type": "execute_result",
          "data": {
            "text/html": [
              "<div>\n",
              "<style scoped>\n",
              "    .dataframe tbody tr th:only-of-type {\n",
              "        vertical-align: middle;\n",
              "    }\n",
              "\n",
              "    .dataframe tbody tr th {\n",
              "        vertical-align: top;\n",
              "    }\n",
              "\n",
              "    .dataframe thead th {\n",
              "        text-align: right;\n",
              "    }\n",
              "</style>\n",
              "<table border=\"1\" class=\"dataframe\">\n",
              "  <thead>\n",
              "    <tr style=\"text-align: right;\">\n",
              "      <th></th>\n",
              "      <th>Roc_auc_score</th>\n",
              "      <th>Accuracy</th>\n",
              "      <th>Precision</th>\n",
              "      <th>Runtime Training</th>\n",
              "      <th>Runtime Prediction</th>\n",
              "    </tr>\n",
              "    <tr>\n",
              "      <th>Model</th>\n",
              "      <th></th>\n",
              "      <th></th>\n",
              "      <th></th>\n",
              "      <th></th>\n",
              "      <th></th>\n",
              "    </tr>\n",
              "  </thead>\n",
              "  <tbody>\n",
              "    <tr>\n",
              "      <th>LGBM</th>\n",
              "      <td>0.739922</td>\n",
              "      <td>58.467457</td>\n",
              "      <td>0.584675</td>\n",
              "      <td>1.327630</td>\n",
              "      <td>0.016656</td>\n",
              "    </tr>\n",
              "    <tr>\n",
              "      <th>gbk</th>\n",
              "      <td>0.738316</td>\n",
              "      <td>58.200518</td>\n",
              "      <td>0.582005</td>\n",
              "      <td>16.942749</td>\n",
              "      <td>0.114805</td>\n",
              "    </tr>\n",
              "    <tr>\n",
              "      <th>GNB</th>\n",
              "      <td>0.721603</td>\n",
              "      <td>55.538981</td>\n",
              "      <td>0.555390</td>\n",
              "      <td>0.008244</td>\n",
              "      <td>0.003539</td>\n",
              "    </tr>\n",
              "    <tr>\n",
              "      <th>Random Forest</th>\n",
              "      <td>0.691639</td>\n",
              "      <td>50.710528</td>\n",
              "      <td>0.507105</td>\n",
              "      <td>0.495055</td>\n",
              "      <td>0.040674</td>\n",
              "    </tr>\n",
              "    <tr>\n",
              "      <th>LR</th>\n",
              "      <td>0.614615</td>\n",
              "      <td>38.384235</td>\n",
              "      <td>0.383842</td>\n",
              "      <td>2.009983</td>\n",
              "      <td>0.002496</td>\n",
              "    </tr>\n",
              "    <tr>\n",
              "      <th>KNN</th>\n",
              "      <td>0.572675</td>\n",
              "      <td>31.624401</td>\n",
              "      <td>0.316244</td>\n",
              "      <td>0.032200</td>\n",
              "      <td>0.371974</td>\n",
              "    </tr>\n",
              "  </tbody>\n",
              "</table>\n",
              "</div>"
            ],
            "text/plain": [
              "               Roc_auc_score   Accuracy  ...  Runtime Training  Runtime Prediction\n",
              "Model                                    ...                                      \n",
              "LGBM                0.739922  58.467457  ...          1.327630            0.016656\n",
              "gbk                 0.738316  58.200518  ...         16.942749            0.114805\n",
              "GNB                 0.721603  55.538981  ...          0.008244            0.003539\n",
              "Random Forest       0.691639  50.710528  ...          0.495055            0.040674\n",
              "LR                  0.614615  38.384235  ...          2.009983            0.002496\n",
              "KNN                 0.572675  31.624401  ...          0.032200            0.371974\n",
              "\n",
              "[6 rows x 5 columns]"
            ]
          },
          "metadata": {
            "tags": []
          },
          "execution_count": 79
        }
      ]
    },
    {
      "cell_type": "code",
      "metadata": {
        "id": "kxZBCX53FFAr",
        "colab_type": "code",
        "colab": {
          "base_uri": "https://localhost:8080/",
          "height": 54
        },
        "outputId": "f02ae800-bbca-4365-acb4-003d1dd60376"
      },
      "source": [
        "from sklearn.model_selection import cross_validate\n",
        "gbk_cv = GradientBoostingClassifier(n_estimators=10)\n",
        "scoring = {'acc': 'accuracy',\n",
        "           'prec_macro': 'precision_macro',\n",
        "           'rec_micro': 'recall_macro'}\n",
        "scores = cross_validate(gbk_cv, X_train, y_train, cv=3, scoring = scoring)\n",
        "print(\"Scores:\", scores)\n",
        "#print(\"Mean:\", scores.mean())\n",
        "#print(\"Standard Deviation:\", scores.std())"
      ],
      "execution_count": 80,
      "outputs": [
        {
          "output_type": "stream",
          "text": [
            "Scores: {'fit_time': array([1.14435387, 1.14368653, 1.140553  ]), 'score_time': array([0.02920437, 0.02919436, 0.02930641]), 'test_acc': array([0.57995154, 0.57833636, 0.58273599]), 'test_prec_macro': array([0.59238854, 0.59087286, 0.59749444]), 'test_rec_micro': array([0.58027555, 0.578568  , 0.58295006])}\n"
          ],
          "name": "stdout"
        }
      ]
    },
    {
      "cell_type": "code",
      "metadata": {
        "id": "wDOBGC4UHk-D",
        "colab_type": "code",
        "colab": {
          "base_uri": "https://localhost:8080/",
          "height": 227
        },
        "outputId": "7ae58df7-d614-4951-9250-db8bc3d04b65"
      },
      "source": [
        "importances = pd.DataFrame({\n",
        "    #'Feature': dTreated.drop('Satisfaction', axis=1).columns,\n",
        "    'Feature': features.columns,\n",
        "    'Importance': gbk.feature_importances_\n",
        "})\n",
        "importances = importances.sort_values(by='Importance', ascending=True)\n",
        "importances = importances.set_index('Feature')\n",
        "importances"
      ],
      "execution_count": 81,
      "outputs": [
        {
          "output_type": "execute_result",
          "data": {
            "text/html": [
              "<div>\n",
              "<style scoped>\n",
              "    .dataframe tbody tr th:only-of-type {\n",
              "        vertical-align: middle;\n",
              "    }\n",
              "\n",
              "    .dataframe tbody tr th {\n",
              "        vertical-align: top;\n",
              "    }\n",
              "\n",
              "    .dataframe thead th {\n",
              "        text-align: right;\n",
              "    }\n",
              "</style>\n",
              "<table border=\"1\" class=\"dataframe\">\n",
              "  <thead>\n",
              "    <tr style=\"text-align: right;\">\n",
              "      <th></th>\n",
              "      <th>Importance</th>\n",
              "    </tr>\n",
              "    <tr>\n",
              "      <th>Feature</th>\n",
              "      <th></th>\n",
              "    </tr>\n",
              "  </thead>\n",
              "  <tbody>\n",
              "    <tr>\n",
              "      <th>count_letters</th>\n",
              "      <td>0.028608</td>\n",
              "    </tr>\n",
              "    <tr>\n",
              "      <th>condition</th>\n",
              "      <td>0.034171</td>\n",
              "    </tr>\n",
              "    <tr>\n",
              "      <th>sentiment_textblob</th>\n",
              "      <td>0.035982</td>\n",
              "    </tr>\n",
              "    <tr>\n",
              "      <th>easeofuse</th>\n",
              "      <td>0.093624</td>\n",
              "    </tr>\n",
              "    <tr>\n",
              "      <th>effectiveness</th>\n",
              "      <td>0.807616</td>\n",
              "    </tr>\n",
              "  </tbody>\n",
              "</table>\n",
              "</div>"
            ],
            "text/plain": [
              "                    Importance\n",
              "Feature                       \n",
              "count_letters         0.028608\n",
              "condition             0.034171\n",
              "sentiment_textblob    0.035982\n",
              "easeofuse             0.093624\n",
              "effectiveness         0.807616"
            ]
          },
          "metadata": {
            "tags": []
          },
          "execution_count": 81
        }
      ]
    },
    {
      "cell_type": "code",
      "metadata": {
        "id": "sp6Bxto5Hmu5",
        "colab_type": "code",
        "colab": {
          "base_uri": "https://localhost:8080/",
          "height": 694
        },
        "outputId": "dc92039b-0fc8-4cdb-aa30-fcbc21152aa2"
      },
      "source": [
        "importances.plot.bar()"
      ],
      "execution_count": 82,
      "outputs": [
        {
          "output_type": "execute_result",
          "data": {
            "text/plain": [
              "<matplotlib.axes._subplots.AxesSubplot at 0x7f0932079a20>"
            ]
          },
          "metadata": {
            "tags": []
          },
          "execution_count": 82
        },
        {
          "output_type": "display_data",
          "data": {
            "image/png": "[encoded data removed]",
            "text/plain": [
              "<Figure size 864x648 with 1 Axes>"
            ]
          },
          "metadata": {
            "tags": []
          }
        }
      ]
    },
    {
      "cell_type": "markdown",
      "metadata": {
        "id": "1hf14QBnSJDS",
        "colab_type": "text"
      },
      "source": [
        "# Hyperparameter Tuning"
      ]
    },
    {
      "cell_type": "code",
      "metadata": {
        "id": "4wwUyzQQSAz1",
        "colab_type": "code",
        "colab": {
          "base_uri": "https://localhost:8080/",
          "height": 443
        },
        "outputId": "c86d3c41-8301-43e1-9021-7a887f80f2b9"
      },
      "source": [
        "from pprint import pprint\n",
        "# Look at parameters used by our current forest\n",
        "print('Parameters currently in use:\\n')\n",
        "pprint(gbk.get_params())"
      ],
      "execution_count": 83,
      "outputs": [
        {
          "output_type": "stream",
          "text": [
            "Parameters currently in use:\n",
            "\n",
            "{'ccp_alpha': 0.0,\n",
            " 'criterion': 'friedman_mse',\n",
            " 'init': None,\n",
            " 'learning_rate': 0.1,\n",
            " 'loss': 'deviance',\n",
            " 'max_depth': 3,\n",
            " 'max_features': None,\n",
            " 'max_leaf_nodes': None,\n",
            " 'min_impurity_decrease': 0.0,\n",
            " 'min_impurity_split': None,\n",
            " 'min_samples_leaf': 1,\n",
            " 'min_samples_split': 2,\n",
            " 'min_weight_fraction_leaf': 0.0,\n",
            " 'n_estimators': 100,\n",
            " 'n_iter_no_change': None,\n",
            " 'presort': 'deprecated',\n",
            " 'random_state': None,\n",
            " 'subsample': 1.0,\n",
            " 'tol': 0.0001,\n",
            " 'validation_fraction': 0.1,\n",
            " 'verbose': 0,\n",
            " 'warm_start': False}\n"
          ],
          "name": "stdout"
        }
      ]
    },
    {
      "cell_type": "code",
      "metadata": {
        "id": "Ec2UzuTuSAnT",
        "colab_type": "code",
        "colab": {
          "base_uri": "https://localhost:8080/",
          "height": 105
        },
        "outputId": "1b4ca5d7-516d-456d-bad8-6b1f81562694"
      },
      "source": [
        "from sklearn.model_selection import RandomizedSearchCV\n",
        "# Number of trees in GradientBoostingClassifier()\n",
        "n_estimators = [int(x) for x in np.linspace(start = 100, stop = 500, num = 5)]\n",
        "# Number of features to consider at every split\n",
        "#max_features = ['None', 'sqrt']\n",
        "# Maximum number of levels in tree\n",
        "max_depth = [int(x) for x in np.linspace(1, 19, num = 10)]\n",
        "max_depth.append(None)\n",
        "# Minimum number of samples required to split a node\n",
        "min_samples_split = [2, 5, 10]\n",
        "# Minimum number of samples required at each leaf node\n",
        "min_samples_leaf = [1, 2, 4]\n",
        "# Method of selecting samples for training each tree\n",
        "learning_rate = [0.001, 0.01, 0.1, 0.2]\n",
        "# Create the random grid\n",
        "random_grid = {'n_estimators': n_estimators,\n",
        "               \n",
        "               'max_depth': max_depth,\n",
        "               'min_samples_split': min_samples_split,\n",
        "               'min_samples_leaf': min_samples_leaf,\n",
        "               'learning_rate': learning_rate}\n",
        "pprint(random_grid)"
      ],
      "execution_count": 84,
      "outputs": [
        {
          "output_type": "stream",
          "text": [
            "{'learning_rate': [0.001, 0.01, 0.1, 0.2],\n",
            " 'max_depth': [1, 3, 5, 7, 9, 11, 13, 15, 17, 19, None],\n",
            " 'min_samples_leaf': [1, 2, 4],\n",
            " 'min_samples_split': [2, 5, 10],\n",
            " 'n_estimators': [100, 200, 300, 400, 500]}\n"
          ],
          "name": "stdout"
        }
      ]
    },
    {
      "cell_type": "code",
      "metadata": {
        "id": "Xk0NBv0lScLE",
        "colab_type": "code",
        "colab": {
          "base_uri": "https://localhost:8080/",
          "height": 585
        },
        "outputId": "70adb1ad-bca7-46de-89c8-d913d564634e"
      },
      "source": [
        "# Use the random grid to search for best hyperparameters\n",
        "\n",
        "# Random search of parameters, using 3 fold cross validation, \n",
        "# search across 10 different combinations, and use all available cores\n",
        "gbk_random = RandomizedSearchCV(estimator = gbk, param_distributions = random_grid, n_iter = 1, cv = 3, verbose=2, random_state=42, n_jobs = -1)\n",
        "# Fit the random search model\n",
        "gbk_random.fit(X_train, y_train)"
      ],
      "execution_count": 85,
      "outputs": [
        {
          "output_type": "stream",
          "text": [
            "Fitting 3 folds for each of 1 candidates, totalling 3 fits\n"
          ],
          "name": "stdout"
        },
        {
          "output_type": "stream",
          "text": [
            "[Parallel(n_jobs=-1)]: Using backend LokyBackend with 40 concurrent workers.\n",
            "[Parallel(n_jobs=-1)]: Done   3 out of   3 | elapsed:   47.7s finished\n"
          ],
          "name": "stderr"
        },
        {
          "output_type": "execute_result",
          "data": {
            "text/plain": [
              "RandomizedSearchCV(cv=3, error_score=nan,\n",
              "                   estimator=GradientBoostingClassifier(ccp_alpha=0.0,\n",
              "                                                        criterion='friedman_mse',\n",
              "                                                        init=None,\n",
              "                                                        learning_rate=0.1,\n",
              "                                                        loss='deviance',\n",
              "                                                        max_depth=3,\n",
              "                                                        max_features=None,\n",
              "                                                        max_leaf_nodes=None,\n",
              "                                                        min_impurity_decrease=0.0,\n",
              "                                                        min_impurity_split=None,\n",
              "                                                        min_samples_leaf=1,\n",
              "                                                        min_samples_split=2,\n",
              "                                                        min_weight_fraction_leaf=0.0,\n",
              "                                                        n_estimators=100,\n",
              "                                                        n_ite...\n",
              "                                                        verbose=0,\n",
              "                                                        warm_start=False),\n",
              "                   iid='deprecated', n_iter=1, n_jobs=-1,\n",
              "                   param_distributions={'learning_rate': [0.001, 0.01, 0.1,\n",
              "                                                          0.2],\n",
              "                                        'max_depth': [1, 3, 5, 7, 9, 11, 13, 15,\n",
              "                                                      17, 19, None],\n",
              "                                        'min_samples_leaf': [1, 2, 4],\n",
              "                                        'min_samples_split': [2, 5, 10],\n",
              "                                        'n_estimators': [100, 200, 300, 400,\n",
              "                                                         500]},\n",
              "                   pre_dispatch='2*n_jobs', random_state=42, refit=True,\n",
              "                   return_train_score=False, scoring=None, verbose=2)"
            ]
          },
          "metadata": {
            "tags": []
          },
          "execution_count": 85
        }
      ]
    },
    {
      "cell_type": "code",
      "metadata": {
        "id": "9T-JGgqLScAY",
        "colab_type": "code",
        "colab": {
          "base_uri": "https://localhost:8080/",
          "height": 123
        },
        "outputId": "6fc60ae7-9d93-4b38-ef9c-7896789114e2"
      },
      "source": [
        "# Best parameter values, with best score of accuracy using Hyperparameter tuning\n",
        "gbk_random.best_params_,gbk_random.best_score_"
      ],
      "execution_count": 86,
      "outputs": [
        {
          "output_type": "execute_result",
          "data": {
            "text/plain": [
              "({'learning_rate': 0.1,\n",
              "  'max_depth': 7,\n",
              "  'min_samples_leaf': 1,\n",
              "  'min_samples_split': 2,\n",
              "  'n_estimators': 200},\n",
              " 0.5607900568558313)"
            ]
          },
          "metadata": {
            "tags": []
          },
          "execution_count": 86
        }
      ]
    },
    {
      "cell_type": "code",
      "metadata": {
        "id": "mP6HTwrgSb3k",
        "colab_type": "code",
        "colab": {
          "base_uri": "https://localhost:8080/",
          "height": 34
        },
        "outputId": "18c3cb52-a876-4ed3-f040-6760244d5397"
      },
      "source": [
        "#implementing hyperopt tuning with set parameter values\n",
        "GBoost = GradientBoostingClassifier(max_depth=3, min_samples_leaf=1, min_samples_split=2, n_estimators=400, learning_rate=0.07)\n",
        "#max_depth=3, min_samples_leaf=1, min_samples_split=2, n_estimators=400, learning_rate=0.07\n",
        "\n",
        "GBoost.fit(X_train, y_train)\n",
        "preds = GBoost.predict(X_test)\n",
        "\n",
        "accuracy = (preds == y_test).sum().astype(float) / len(preds)*100\n",
        "\n",
        "print(\"Gradient Boost's prediction accuracy WITH optimal hyperparameters is: %3.2f\" % (accuracy))"
      ],
      "execution_count": 87,
      "outputs": [
        {
          "output_type": "stream",
          "text": [
            "Gradient Boost's prediction accuracy WITH optimal hyperparameters is: 58.09\n"
          ],
          "name": "stdout"
        }
      ]
    },
    {
      "cell_type": "code",
      "metadata": {
        "id": "3hUXuyqgSbu6",
        "colab_type": "code",
        "colab": {
          "base_uri": "https://localhost:8080/",
          "height": 54
        },
        "outputId": "8507ab7d-a128-442f-8dfa-af7b368b7f3e"
      },
      "source": [
        "scores = cross_validate(GBoost, X_train, y_train, cv=3, scoring = scoring)\n",
        "print(\"Scores:\", scores)"
      ],
      "execution_count": 88,
      "outputs": [
        {
          "output_type": "stream",
          "text": [
            "Scores: {'fit_time': array([45.32637286, 45.2477901 , 45.20896554]), 'score_time': array([0.27854609, 0.27555132, 0.27936602]), 'test_acc': array([0.58368665, 0.57823541, 0.5795053 ]), 'test_prec_macro': array([0.58585932, 0.57675052, 0.58191797]), 'test_rec_micro': array([0.58400221, 0.57852616, 0.57975865])}\n"
          ],
          "name": "stdout"
        }
      ]
    },
    {
      "cell_type": "code",
      "metadata": {
        "id": "DOHjU4Qp38f7",
        "colab_type": "code",
        "colab": {
          "base_uri": "https://localhost:8080/",
          "height": 105
        },
        "outputId": "27093225-aa80-4f37-a8b2-910ac75a6157"
      },
      "source": [
        "confusion_matrix(preds, y_test)"
      ],
      "execution_count": 89,
      "outputs": [
        {
          "output_type": "execute_result",
          "data": {
            "text/plain": [
              "array([[1605,  288,   76,   20,   12],\n",
              "       [ 492, 1078,  439,  118,   34],\n",
              "       [ 211,  664,  970,  257,   39],\n",
              "       [ 131,  343,  698, 1634,  366],\n",
              "       [  98,  192,  314,  546, 2112]])"
            ]
          },
          "metadata": {
            "tags": []
          },
          "execution_count": 89
        }
      ]
    },
    {
      "cell_type": "code",
      "metadata": {
        "id": "8opz7nYG5d-l",
        "colab_type": "code",
        "colab": {
          "base_uri": "https://localhost:8080/",
          "height": 70
        },
        "outputId": "f4c794e5-24f5-4dd4-d5d1-d154fdad42c5"
      },
      "source": [
        "from sklearn.metrics import recall_score, f1_score\n",
        "print(\"Precision on test dataset:\", precision_score(y_test, preds, average='micro'))\n",
        "print(\"Recall on test dataset:\",recall_score(y_test, preds, average='micro'))\n",
        "print(\"F1-Score on test dataset:\", f1_score(y_test, preds, average='micro'))"
      ],
      "execution_count": 90,
      "outputs": [
        {
          "output_type": "stream",
          "text": [
            "Precision on test dataset: 0.5809060218261757\n",
            "Recall on test dataset: 0.5809060218261757\n",
            "F1-Score on test dataset: 0.5809060218261757\n"
          ],
          "name": "stdout"
        }
      ]
    },
    {
      "cell_type": "code",
      "metadata": {
        "id": "hf4-jOLr5vq3",
        "colab_type": "code",
        "colab": {
          "base_uri": "https://localhost:8080/",
          "height": 283
        },
        "outputId": "8a78a739-ee5f-423b-a078-af8ad46dd5ea"
      },
      "source": [
        "# Classification report\n",
        "import sklearn.metrics as metrics\n",
        "print('\\t\\t\\t\\tCLASSIFICATIION METRICS \\n \\t\\t\\tfor test dataset\\n')\n",
        "print(metrics.classification_report(y_test, preds))"
      ],
      "execution_count": 91,
      "outputs": [
        {
          "output_type": "stream",
          "text": [
            "\t\t\t\tCLASSIFICATIION METRICS \n",
            " \t\t\tfor test dataset\n",
            "\n",
            "              precision    recall  f1-score   support\n",
            "\n",
            "         1.0       0.80      0.63      0.71      2537\n",
            "         2.0       0.50      0.42      0.46      2565\n",
            "         3.0       0.45      0.39      0.42      2497\n",
            "         4.0       0.52      0.63      0.57      2575\n",
            "         5.0       0.65      0.82      0.73      2563\n",
            "\n",
            "    accuracy                           0.58     12737\n",
            "   macro avg       0.58      0.58      0.58     12737\n",
            "weighted avg       0.58      0.58      0.58     12737\n",
            "\n"
          ],
          "name": "stdout"
        }
      ]
    },
    {
      "cell_type": "code",
      "metadata": {
        "id": "WxDbFuqKJArH",
        "colab_type": "code",
        "colab": {
          "base_uri": "https://localhost:8080/",
          "height": 34
        },
        "outputId": "df017f1f-45d0-4647-9c73-eb10bf3a6bc6"
      },
      "source": [
        "y_pred1= lb.transform(preds)\n",
        "# roc_auc_score for test data\n",
        "roc_auc_score(y_test1, y_pred1, average=\"macro\")"
      ],
      "execution_count": 92,
      "outputs": [
        {
          "output_type": "execute_result",
          "data": {
            "text/plain": [
              "0.7375944360614825"
            ]
          },
          "metadata": {
            "tags": []
          },
          "execution_count": 92
        }
      ]
    },
    {
      "cell_type": "code",
      "metadata": {
        "id": "OncL2coYJGdv",
        "colab_type": "code",
        "colab": {}
      },
      "source": [
        "from itertools import cycle\n",
        "from sklearn.metrics import roc_curve, auc\n",
        "from sklearn.preprocessing import label_binarize\n",
        "from scipy import interp\n",
        "\n",
        "statis=target\n",
        "y = label_binarize(statis, classes=[0, 1, 2, 3, 4])\n",
        "n_classes = y.shape[1]\n",
        "\n",
        "# Compute ROC curve and ROC area for each class\n",
        "fpr = dict()\n",
        "tpr = dict()\n",
        "roc_auc = dict()\n",
        "for i in range(n_classes):\n",
        "    fpr[i], tpr[i], _ = roc_curve(y_test1[:, i], y_pred1[:, i])\n",
        "    roc_auc[i] = auc(fpr[i], tpr[i])\n",
        "\n",
        "# Compute micro-average ROC curve and ROC area\n",
        "fpr[\"micro\"], tpr[\"micro\"], _ = roc_curve(y_test1.ravel(), y_pred1.ravel())\n",
        "roc_auc[\"micro\"] = auc(fpr[\"micro\"], tpr[\"micro\"])"
      ],
      "execution_count": 93,
      "outputs": []
    },
    {
      "cell_type": "code",
      "metadata": {
        "id": "sUMmYjxVJUpO",
        "colab_type": "code",
        "colab": {
          "base_uri": "https://localhost:8080/",
          "height": 577
        },
        "outputId": "d188829c-d769-40c2-f279-07bbbbaa777f"
      },
      "source": [
        "plt.figure()\n",
        "lw = 2\n",
        "plt.plot(fpr[2], tpr[2], color='darkorange',\n",
        "         lw=lw, label='ROC curve (area = %0.2f)' % roc_auc[2])\n",
        "plt.plot([0, 1], [0, 1], color='navy', lw=lw, linestyle='--')\n",
        "plt.xlim([0.0, 1.0])\n",
        "plt.ylim([0.0, 1.05])\n",
        "plt.xlabel('False Positive Rate')\n",
        "plt.ylabel('True Positive Rate')\n",
        "plt.title('Receiver operating characteristic example')\n",
        "plt.legend(loc=\"lower right\")\n",
        "plt.show()"
      ],
      "execution_count": 94,
      "outputs": [
        {
          "output_type": "display_data",
          "data": {
            "image/png": "[encoded data removed]",
            "text/plain": [
              "<Figure size 864x648 with 1 Axes>"
            ]
          },
          "metadata": {
            "tags": []
          }
        }
      ]
    },
    {
      "cell_type": "code",
      "metadata": {
        "id": "91PPdZxqJcGO",
        "colab_type": "code",
        "colab": {
          "base_uri": "https://localhost:8080/",
          "height": 633
        },
        "outputId": "ad1ebfd7-8835-427c-8a21-5157d606948b"
      },
      "source": [
        "from scipy import interp\n",
        "from itertools import cycle\n",
        "\n",
        "# First aggregate all false positive rates\n",
        "all_fpr = np.unique(np.concatenate([fpr[i] for i in range(n_classes)]))\n",
        "\n",
        "# Then interpolate all ROC curves at this points\n",
        "mean_tpr = np.zeros_like(all_fpr)\n",
        "for i in range(n_classes):\n",
        "    mean_tpr += interp(all_fpr, fpr[i], tpr[i])\n",
        "\n",
        "# Finally average it and compute AUC\n",
        "mean_tpr /= n_classes\n",
        "\n",
        "fpr[\"macro\"] = all_fpr\n",
        "tpr[\"macro\"] = mean_tpr\n",
        "roc_auc[\"macro\"] = auc(fpr[\"macro\"], tpr[\"macro\"])\n",
        "\n",
        "# Plot all ROC curves\n",
        "plt.figure()\n",
        "plt.plot(fpr[\"micro\"], tpr[\"micro\"],\n",
        "         label='micro-average ROC curve (area = {0:0.2f})'\n",
        "               ''.format(roc_auc[\"micro\"]),\n",
        "         color='deeppink', linestyle=':', linewidth=4)\n",
        "\n",
        "plt.plot(fpr[\"macro\"], tpr[\"macro\"],\n",
        "         label='macro-average ROC curve (area = {0:0.2f})'\n",
        "               ''.format(roc_auc[\"macro\"]),\n",
        "         color='navy', linestyle=':', linewidth=4)\n",
        "\n",
        "colors = cycle(['aqua', 'darkorange', 'cornflowerblue'])\n",
        "for i, color in zip(range(n_classes), colors):\n",
        "    plt.plot(fpr[i], tpr[i], color=color, lw=lw,\n",
        "             label='ROC curve of class {0} (area = {1:0.2f})'\n",
        "             ''.format(i, roc_auc[i]))\n",
        "\n",
        "plt.plot([0, 1], [0, 1], 'k--', lw=lw)\n",
        "plt.xlim([0.0, 1.0])\n",
        "plt.ylim([0.0, 1.0])\n",
        "plt.xlabel('False Positive Rate')\n",
        "plt.ylabel('True Positive Rate')\n",
        "plt.title('Some extension of Receiver operating characteristic to multi-class on test data')\n",
        "plt.legend(loc=\"lower right\")\n",
        "plt.show()"
      ],
      "execution_count": 95,
      "outputs": [
        {
          "output_type": "stream",
          "text": [
            "/usr/local/lib/python3.6/dist-packages/ipykernel_launcher.py:10: DeprecationWarning: scipy.interp is deprecated and will be removed in SciPy 2.0.0, use numpy.interp instead\n",
            "  # Remove the CWD from sys.path while we load stuff.\n"
          ],
          "name": "stderr"
        },
        {
          "output_type": "display_data",
          "data": {
            "image/png": "[encoded data removed]",
            "text/plain": [
              "<Figure size 864x648 with 1 Axes>"
            ]
          },
          "metadata": {
            "tags": []
          }
        }
      ]
    },
    {
      "cell_type": "code",
      "metadata": {
        "id": "BCoYUYTeY50r",
        "colab_type": "code",
        "colab": {}
      },
      "source": [
        ""
      ],
      "execution_count": 95,
      "outputs": []
    }
  ]
}