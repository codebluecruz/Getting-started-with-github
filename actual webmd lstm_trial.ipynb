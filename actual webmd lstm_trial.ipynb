{
  "nbformat": 4,
  "nbformat_minor": 0,
  "metadata": {
    "colab": {
      "name": "predicted lstm trial.ipynb",
      "provenance": [],
      "collapsed_sections": [],
      "machine_shape": "hm",
      "include_colab_link": true
    },
    "kernelspec": {
      "name": "python3",
      "display_name": "Python 3"
    },
    "accelerator": "TPU"
  },
  "cells": [
    {
      "cell_type": "markdown",
      "metadata": {
        "id": "view-in-github",
        "colab_type": "text"
      },
      "source": [
        "<a href=\"https://colab.research.google.com/github/codebluecruz/Getting-started-with-github/blob/master/actual%20webmd%20lstm_trial.ipynb\" target=\"_parent\"><img src=\"https://colab.research.google.com/assets/colab-badge.svg\" alt=\"Open In Colab\"/></a>"
      ]
    },
    {
      "cell_type": "markdown",
      "metadata": {
        "_uuid": "dd4d87a956090846d694ee5cb73e9d4581fa24f6",
        "id": "1TCeMoZ_7PIv",
        "colab_type": "text"
      },
      "source": [
        "# Exploratory Data Analysis w/ Python\n",
        "\n",
        "This kernel comprise exploratory data analysis on the provided data, including: \n",
        "- Data loading\n",
        "- Data cleaning \n",
        "- Descriptive Analysis\n",
        "- Temporal Analysis\n",
        "- Sentiment Analysis\n",
        "- Text Analysis\n",
        "- Importing Models\n",
        "- Comparing Classifier outputs\n",
        "- Hyperparameter Optimisation\n",
        "- Evaluating Results(Accuracy, F1-Score, Roc_auc score, ROC_AUC Cruve)\n",
        "\n"
      ]
    },
    {
      "cell_type": "code",
      "metadata": {
        "trusted": true,
        "_uuid": "8c3b51399825e356312a7849da35ecc580227f55",
        "id": "4fXWe39B7PIx",
        "colab_type": "code",
        "colab": {
          "base_uri": "https://localhost:8080/",
          "height": 52
        },
        "outputId": "6fc3b45a-fd75-4242-f66f-6fe31dc91af5"
      },
      "source": [
        "# Importing all libraries which will be used for our model\n",
        "import pandas as pd\n",
        "import matplotlib.pyplot as plt\n",
        "from scipy import stats\n",
        "import numpy as np\n",
        "import re\n",
        "import seaborn as sns\n",
        "import string\n",
        "import html\n",
        "from sklearn.preprocessing import normalize, MinMaxScaler\n",
        "from scipy.stats import spearmanr, pearsonr\n",
        "\n",
        "# NLTK\n",
        "import nltk\n",
        "from nltk.corpus import stopwords\n",
        "from nltk.stem import SnowballStemmer\n",
        "import nltk\n",
        "nltk.download('stopwords')\n",
        "\n",
        "# Keras\n",
        "from keras.preprocessing.text import Tokenizer\n",
        "from keras.preprocessing.sequence import pad_sequences\n",
        "from keras.models import Sequential\n",
        "from keras.layers import Dense, Flatten, LSTM, Conv1D, MaxPooling1D, Dropout, Activation\n",
        "from keras.layers.embeddings import Embedding\n",
        "\n",
        "import warnings\n",
        "warnings.filterwarnings(\"ignore\", category=UserWarning, module='bs4')\n",
        "plt.style.use('ggplot')"
      ],
      "execution_count": 223,
      "outputs": [
        {
          "output_type": "stream",
          "text": [
            "[nltk_data] Downloading package stopwords to /root/nltk_data...\n",
            "[nltk_data]   Package stopwords is already up-to-date!\n"
          ],
          "name": "stdout"
        }
      ]
    },
    {
      "cell_type": "code",
      "metadata": {
        "id": "JNA-8waoDxUq",
        "colab_type": "code",
        "colab": {
          "base_uri": "https://localhost:8080/",
          "height": 34
        },
        "outputId": "f5a5eb15-ef65-4087-abf6-8a65c8d05557"
      },
      "source": [
        "# Environment used for codefile if GooGle Collaboratory, Here we're mounting our google drive as all our data is saved on drive itself,\n",
        "# saves us from upload time.\n",
        "from google.colab import drive\n",
        "drive.mount('/content/drive')"
      ],
      "execution_count": 224,
      "outputs": [
        {
          "output_type": "stream",
          "text": [
            "Drive already mounted at /content/drive; to attempt to forcibly remount, call drive.mount(\"/content/drive\", force_remount=True).\n"
          ],
          "name": "stdout"
        }
      ]
    },
    {
      "cell_type": "markdown",
      "metadata": {
        "_uuid": "9211934c152e8b40da08ba819800775662979593",
        "id": "DPR5Rjae7PI1",
        "colab_type": "text"
      },
      "source": [
        "## Loading Data\n",
        "\n",
        "Since we are just doing an exploratory analysis of the data, **we are going to concatenate test and train data into one dataset**."
      ]
    },
    {
      "cell_type": "code",
      "metadata": {
        "_kg_hide-input": false,
        "trusted": true,
        "_uuid": "8678481568c9b1bdd42da356206c2561cd521119",
        "id": "VFDWZdts7PI2",
        "colab_type": "code",
        "colab": {
          "base_uri": "https://localhost:8080/",
          "height": 72
        },
        "outputId": "c9a94ca0-94e9-4444-c1a6-ba553995a185"
      },
      "source": [
        "# Reading data \n",
        "drugs = pd.read_csv('/content/drive/My Drive/newset_webmd.csv', skiprows=0)"
      ],
      "execution_count": 375,
      "outputs": [
        {
          "output_type": "stream",
          "text": [
            "/usr/local/lib/python3.6/dist-packages/IPython/core/interactiveshell.py:2718: DtypeWarning: Columns (0,1,2,3,7,9,10) have mixed types.Specify dtype option on import or set low_memory=False.\n",
            "  interactivity=interactivity, compiler=compiler, result=result)\n"
          ],
          "name": "stderr"
        }
      ]
    },
    {
      "cell_type": "code",
      "metadata": {
        "trusted": true,
        "_uuid": "a722edbd3dbf642d1d437517f259510a039e00d3",
        "id": "nK0kAzIL7PI6",
        "colab_type": "code",
        "colab": {}
      },
      "source": [
        "# droping any NaN rows from our dataset, changing all string values to LowerCase, removing Date column as it doesnt seem to be of much use.\n",
        "drugs = drugs.dropna(how = 'any', axis = 0)\n",
        "drugs.shape\n",
        "drugs.columns = drugs.columns.str.lower()\n",
        "drugs.reset_index(drop = True, inplace = True)\n",
        "drugs['condition'].isnull().sum(axis = 0)\n",
        "#dropping unnecessary columns\n",
        "drugs.drop(['date', 'sex', 'sides'], axis=1, inplace=True)\n",
        "drugs = drugs.drop_duplicates(subset=['reviews'], keep='first')"
      ],
      "execution_count": 376,
      "outputs": []
    },
    {
      "cell_type": "code",
      "metadata": {
        "id": "di30muySyigE",
        "colab_type": "code",
        "colab": {
          "base_uri": "https://localhost:8080/",
          "height": 107
        },
        "outputId": "18480411-0ca7-420b-b1f6-43964849aeff"
      },
      "source": [
        "# example of random undersampling to balance the class distribution\n",
        "from collections import Counter\n",
        "from sklearn.datasets import make_classification\n",
        "from imblearn.under_sampling import RandomUnderSampler\n",
        "# define dataset\n",
        "#X, y = make_classification(n_samples=10000, weights=[0.99], flip_y=0)\n",
        "# summarize class distribution\n",
        "print(Counter(drugs['satisfaction']))\n",
        "# define undersample strategy\n",
        "undersample = RandomUnderSampler(sampling_strategy='all')\n",
        "# fit and apply the transform\n",
        "X_over, y_over = undersample.fit_resample(drugs.drop(['satisfaction'], axis=1), drugs['satisfaction'])\n",
        "# summarize class distribution\n",
        "print(Counter(y_over))"
      ],
      "execution_count": 377,
      "outputs": [
        {
          "output_type": "stream",
          "text": [
            "Counter({1.0: 27616, 5.0: 27277, 4.0: 14026, 3.0: 11424, 2.0: 8494})\n",
            "Counter({1.0: 8494, 2.0: 8494, 3.0: 8494, 4.0: 8494, 5.0: 8494})\n"
          ],
          "name": "stdout"
        },
        {
          "output_type": "stream",
          "text": [
            "/usr/local/lib/python3.6/dist-packages/sklearn/utils/deprecation.py:87: FutureWarning: Function safe_indexing is deprecated; safe_indexing is deprecated in version 0.22 and will be removed in version 0.24.\n",
            "  warnings.warn(msg, category=FutureWarning)\n"
          ],
          "name": "stderr"
        }
      ]
    },
    {
      "cell_type": "code",
      "metadata": {
        "id": "zMy5QDfWzwYI",
        "colab_type": "code",
        "colab": {}
      },
      "source": [
        "drugs=pd.DataFrame(X_over)\n",
        "drugs1=pd.DataFrame(y_over)"
      ],
      "execution_count": 378,
      "outputs": []
    },
    {
      "cell_type": "code",
      "metadata": {
        "id": "rmq2QdMc1Zst",
        "colab_type": "code",
        "colab": {
          "base_uri": "https://localhost:8080/",
          "height": 77
        },
        "outputId": "64aa29ae-228d-4c3d-d65b-a1c9534d3cd4"
      },
      "source": [
        "drugs1.rename(columns={0:'satisfaction'}, inplace = True)\n",
        "drugs1.head(1)"
      ],
      "execution_count": 379,
      "outputs": [
        {
          "output_type": "execute_result",
          "data": {
            "text/html": [
              "<div>\n",
              "<style scoped>\n",
              "    .dataframe tbody tr th:only-of-type {\n",
              "        vertical-align: middle;\n",
              "    }\n",
              "\n",
              "    .dataframe tbody tr th {\n",
              "        vertical-align: top;\n",
              "    }\n",
              "\n",
              "    .dataframe thead th {\n",
              "        text-align: right;\n",
              "    }\n",
              "</style>\n",
              "<table border=\"1\" class=\"dataframe\">\n",
              "  <thead>\n",
              "    <tr style=\"text-align: right;\">\n",
              "      <th></th>\n",
              "      <th>satisfaction</th>\n",
              "    </tr>\n",
              "  </thead>\n",
              "  <tbody>\n",
              "    <tr>\n",
              "      <th>0</th>\n",
              "      <td>1.0</td>\n",
              "    </tr>\n",
              "  </tbody>\n",
              "</table>\n",
              "</div>"
            ],
            "text/plain": [
              "   satisfaction\n",
              "0           1.0"
            ]
          },
          "metadata": {
            "tags": []
          },
          "execution_count": 379
        }
      ]
    },
    {
      "cell_type": "code",
      "metadata": {
        "id": "C41_wBsBz5DK",
        "colab_type": "code",
        "colab": {
          "base_uri": "https://localhost:8080/",
          "height": 77
        },
        "outputId": "cab4754e-c0be-442b-f9a4-2897929f64ae"
      },
      "source": [
        "drugs.rename(columns = {0:'age', 1:'condition',2:'drug',3:'drugid',4:'easeofuse',5:'effectiveness', 6:'reviews',7:'usefulcount'}, inplace = True)\n",
        "drugs.head(1)"
      ],
      "execution_count": 380,
      "outputs": [
        {
          "output_type": "execute_result",
          "data": {
            "text/html": [
              "<div>\n",
              "<style scoped>\n",
              "    .dataframe tbody tr th:only-of-type {\n",
              "        vertical-align: middle;\n",
              "    }\n",
              "\n",
              "    .dataframe tbody tr th {\n",
              "        vertical-align: top;\n",
              "    }\n",
              "\n",
              "    .dataframe thead th {\n",
              "        text-align: right;\n",
              "    }\n",
              "</style>\n",
              "<table border=\"1\" class=\"dataframe\">\n",
              "  <thead>\n",
              "    <tr style=\"text-align: right;\">\n",
              "      <th></th>\n",
              "      <th>age</th>\n",
              "      <th>condition</th>\n",
              "      <th>drug</th>\n",
              "      <th>drugid</th>\n",
              "      <th>easeofuse</th>\n",
              "      <th>effectiveness</th>\n",
              "      <th>reviews</th>\n",
              "      <th>usefulcount</th>\n",
              "    </tr>\n",
              "  </thead>\n",
              "  <tbody>\n",
              "    <tr>\n",
              "      <th>0</th>\n",
              "      <td>55-64</td>\n",
              "      <td>\"Change of Life\" Signs</td>\n",
              "      <td>venlafaxine hcl</td>\n",
              "      <td>4870</td>\n",
              "      <td>4</td>\n",
              "      <td>1</td>\n",
              "      <td>does nothing for hot flashes</td>\n",
              "      <td>0</td>\n",
              "    </tr>\n",
              "  </tbody>\n",
              "</table>\n",
              "</div>"
            ],
            "text/plain": [
              "     age               condition  ...                       reviews usefulcount\n",
              "0  55-64  \"Change of Life\" Signs  ...  does nothing for hot flashes           0\n",
              "\n",
              "[1 rows x 8 columns]"
            ]
          },
          "metadata": {
            "tags": []
          },
          "execution_count": 380
        }
      ]
    },
    {
      "cell_type": "code",
      "metadata": {
        "id": "aTPJHSLE1soo",
        "colab_type": "code",
        "colab": {
          "base_uri": "https://localhost:8080/",
          "height": 77
        },
        "outputId": "6c704d46-12f3-4e34-c254-2806d05859ee"
      },
      "source": [
        "drugs = pd.concat([drugs, drugs1], axis = 1)\n",
        "drugs.shape\n",
        "drugs.head(1)"
      ],
      "execution_count": 381,
      "outputs": [
        {
          "output_type": "execute_result",
          "data": {
            "text/html": [
              "<div>\n",
              "<style scoped>\n",
              "    .dataframe tbody tr th:only-of-type {\n",
              "        vertical-align: middle;\n",
              "    }\n",
              "\n",
              "    .dataframe tbody tr th {\n",
              "        vertical-align: top;\n",
              "    }\n",
              "\n",
              "    .dataframe thead th {\n",
              "        text-align: right;\n",
              "    }\n",
              "</style>\n",
              "<table border=\"1\" class=\"dataframe\">\n",
              "  <thead>\n",
              "    <tr style=\"text-align: right;\">\n",
              "      <th></th>\n",
              "      <th>age</th>\n",
              "      <th>condition</th>\n",
              "      <th>drug</th>\n",
              "      <th>drugid</th>\n",
              "      <th>easeofuse</th>\n",
              "      <th>effectiveness</th>\n",
              "      <th>reviews</th>\n",
              "      <th>usefulcount</th>\n",
              "      <th>satisfaction</th>\n",
              "    </tr>\n",
              "  </thead>\n",
              "  <tbody>\n",
              "    <tr>\n",
              "      <th>0</th>\n",
              "      <td>55-64</td>\n",
              "      <td>\"Change of Life\" Signs</td>\n",
              "      <td>venlafaxine hcl</td>\n",
              "      <td>4870</td>\n",
              "      <td>4</td>\n",
              "      <td>1</td>\n",
              "      <td>does nothing for hot flashes</td>\n",
              "      <td>0</td>\n",
              "      <td>1.0</td>\n",
              "    </tr>\n",
              "  </tbody>\n",
              "</table>\n",
              "</div>"
            ],
            "text/plain": [
              "     age               condition  ... usefulcount satisfaction\n",
              "0  55-64  \"Change of Life\" Signs  ...           0          1.0\n",
              "\n",
              "[1 rows x 9 columns]"
            ]
          },
          "metadata": {
            "tags": []
          },
          "execution_count": 381
        }
      ]
    },
    {
      "cell_type": "code",
      "metadata": {
        "id": "QjDGqGRG5j4d",
        "colab_type": "code",
        "colab": {}
      },
      "source": [
        "# shuffle data to prepare final dataset\n",
        "drugs=drugs.sample(frac=1)"
      ],
      "execution_count": 382,
      "outputs": []
    },
    {
      "cell_type": "markdown",
      "metadata": {
        "_uuid": "78ba9cdda16fc81c70e845bff88e402f9345922c",
        "id": "6BRPIx2R7PJD",
        "colab_type": "text"
      },
      "source": [
        "## Data Cleaning and Data Glimpse\n",
        "\n",
        "We are willing to check if this dataset have some corrupted data or non present values. \n",
        "\n",
        "**condition** is a field which present problems in 1171 registers, probably due to some bug in the data web scraping. The value of those registers is the usefulCount value with an ```span``` HTML tag and the following text: ```users found this comment helpful```. We ignored these registers."
      ]
    },
    {
      "cell_type": "code",
      "metadata": {
        "trusted": true,
        "_uuid": "1958006c6caf1d44ec2a2c26b2fb987a658b123b",
        "id": "lrbF5-GF7PJH",
        "colab_type": "code",
        "colab": {
          "base_uri": "https://localhost:8080/",
          "height": 34
        },
        "outputId": "ab571b9d-0545-4316-f48e-cda15b23464b"
      },
      "source": [
        "# Let's delete all of these corrupted rows\n",
        "print(\"Number of Corrupted Reviews: \", len(drugs[drugs.condition.str.contains(\" users found this comment helpful.\",na=False)]))\n",
        "drugs = drugs[~drugs.condition.str.contains(\" users found this comment helpful.\",na=False)]"
      ],
      "execution_count": 383,
      "outputs": [
        {
          "output_type": "stream",
          "text": [
            "Number of Corrupted Reviews:  0\n"
          ],
          "name": "stdout"
        }
      ]
    },
    {
      "cell_type": "code",
      "metadata": {
        "trusted": true,
        "_uuid": "908dba91c19c44a2ca447a29e62ea8ec9a683b46",
        "id": "74F8yLtL7PJL",
        "colab_type": "code",
        "colab": {
          "base_uri": "https://localhost:8080/",
          "height": 287
        },
        "outputId": "7d54d78f-36b4-4627-da17-7090eb04d411"
      },
      "source": [
        "drugs.describe()"
      ],
      "execution_count": 384,
      "outputs": [
        {
          "output_type": "execute_result",
          "data": {
            "text/html": [
              "<div>\n",
              "<style scoped>\n",
              "    .dataframe tbody tr th:only-of-type {\n",
              "        vertical-align: middle;\n",
              "    }\n",
              "\n",
              "    .dataframe tbody tr th {\n",
              "        vertical-align: top;\n",
              "    }\n",
              "\n",
              "    .dataframe thead th {\n",
              "        text-align: right;\n",
              "    }\n",
              "</style>\n",
              "<table border=\"1\" class=\"dataframe\">\n",
              "  <thead>\n",
              "    <tr style=\"text-align: right;\">\n",
              "      <th></th>\n",
              "      <th>satisfaction</th>\n",
              "    </tr>\n",
              "  </thead>\n",
              "  <tbody>\n",
              "    <tr>\n",
              "      <th>count</th>\n",
              "      <td>42470.00000</td>\n",
              "    </tr>\n",
              "    <tr>\n",
              "      <th>mean</th>\n",
              "      <td>3.00000</td>\n",
              "    </tr>\n",
              "    <tr>\n",
              "      <th>std</th>\n",
              "      <td>1.41423</td>\n",
              "    </tr>\n",
              "    <tr>\n",
              "      <th>min</th>\n",
              "      <td>1.00000</td>\n",
              "    </tr>\n",
              "    <tr>\n",
              "      <th>25%</th>\n",
              "      <td>2.00000</td>\n",
              "    </tr>\n",
              "    <tr>\n",
              "      <th>50%</th>\n",
              "      <td>3.00000</td>\n",
              "    </tr>\n",
              "    <tr>\n",
              "      <th>75%</th>\n",
              "      <td>4.00000</td>\n",
              "    </tr>\n",
              "    <tr>\n",
              "      <th>max</th>\n",
              "      <td>5.00000</td>\n",
              "    </tr>\n",
              "  </tbody>\n",
              "</table>\n",
              "</div>"
            ],
            "text/plain": [
              "       satisfaction\n",
              "count   42470.00000\n",
              "mean        3.00000\n",
              "std         1.41423\n",
              "min         1.00000\n",
              "25%         2.00000\n",
              "50%         3.00000\n",
              "75%         4.00000\n",
              "max         5.00000"
            ]
          },
          "metadata": {
            "tags": []
          },
          "execution_count": 384
        }
      ]
    },
    {
      "cell_type": "code",
      "metadata": {
        "trusted": true,
        "id": "RWA2D03i7PJP",
        "colab_type": "code",
        "colab": {
          "base_uri": "https://localhost:8080/",
          "height": 227
        },
        "outputId": "0074a7ff-7ac0-4a43-a0cc-f6e352af593c"
      },
      "source": [
        "### Thought flow for Depression Confidence Intervals\n",
        "\"\"\"\n",
        "I want to take the df, filter by condition, drug, confidence interval, sample size cutoff)\n",
        "Then loop through all the drugs for a specific condition and calculate their\n",
        "mean, top limit, and bottom limit. \n",
        "\"\"\"\n",
        "# Create Confidence Interval Function\n",
        "def confidence_interval (data, ci_percent):\n",
        "  data = np.array(data) # Makes sure our data is in a numpy array\n",
        "  mean = np.mean(data)\n",
        "  n = len(data)\n",
        "  stderr = stats.sem(data)\n",
        "  interval = stderr * stats.t.ppf((1 + ci_percent) / 2., n - 1)\n",
        "  return (mean, mean - interval, mean + interval)\n",
        "\n",
        "\n",
        "def condition_compare (drugs, condition_id, ci_percent, sample_size_cutoff):\n",
        "  output_names = [\"Drug Name\", \"Sample Mean\", \"Lower Bound\", \"Upper Bound\", \"Sample Size\"]\n",
        "  drug_compare = []\n",
        "  data = drugs[drugs.condition == condition_id]\n",
        "  for drug in data.drug.unique():\n",
        "    one_drug = data[data.drug == drug].satisfaction\n",
        "    if one_drug.size > sample_size_cutoff:\n",
        "      mean, ilower, iupper= confidence_interval(one_drug, ci_percent)\n",
        "      entry = [drug, mean, ilower, iupper, one_drug.size]\n",
        "      drug_compare.append(entry)\n",
        "  return pd.DataFrame(drug_compare, columns=output_names)\n",
        "\n",
        "\n",
        "drugs2 = condition_compare(drugs, \"Cough\", 0.95, 10).sort_values(by=\"Sample Mean\", ascending=False)\n",
        "drugs2"
      ],
      "execution_count": 385,
      "outputs": [
        {
          "output_type": "execute_result",
          "data": {
            "text/html": [
              "<div>\n",
              "<style scoped>\n",
              "    .dataframe tbody tr th:only-of-type {\n",
              "        vertical-align: middle;\n",
              "    }\n",
              "\n",
              "    .dataframe tbody tr th {\n",
              "        vertical-align: top;\n",
              "    }\n",
              "\n",
              "    .dataframe thead th {\n",
              "        text-align: right;\n",
              "    }\n",
              "</style>\n",
              "<table border=\"1\" class=\"dataframe\">\n",
              "  <thead>\n",
              "    <tr style=\"text-align: right;\">\n",
              "      <th></th>\n",
              "      <th>Drug Name</th>\n",
              "      <th>Sample Mean</th>\n",
              "      <th>Lower Bound</th>\n",
              "      <th>Upper Bound</th>\n",
              "      <th>Sample Size</th>\n",
              "    </tr>\n",
              "  </thead>\n",
              "  <tbody>\n",
              "    <tr>\n",
              "      <th>2</th>\n",
              "      <td>tussionex</td>\n",
              "      <td>4.000000</td>\n",
              "      <td>3.561457</td>\n",
              "      <td>4.438543</td>\n",
              "      <td>30</td>\n",
              "    </tr>\n",
              "    <tr>\n",
              "      <th>4</th>\n",
              "      <td>tussicaps</td>\n",
              "      <td>3.636364</td>\n",
              "      <td>2.541800</td>\n",
              "      <td>4.730927</td>\n",
              "      <td>11</td>\n",
              "    </tr>\n",
              "    <tr>\n",
              "      <th>0</th>\n",
              "      <td>tessalon perle</td>\n",
              "      <td>3.252033</td>\n",
              "      <td>2.956171</td>\n",
              "      <td>3.547894</td>\n",
              "      <td>123</td>\n",
              "    </tr>\n",
              "    <tr>\n",
              "      <th>3</th>\n",
              "      <td>promethazine-codeine</td>\n",
              "      <td>3.214286</td>\n",
              "      <td>2.392154</td>\n",
              "      <td>4.036417</td>\n",
              "      <td>14</td>\n",
              "    </tr>\n",
              "    <tr>\n",
              "      <th>1</th>\n",
              "      <td>promethazine-dm</td>\n",
              "      <td>2.809524</td>\n",
              "      <td>2.053037</td>\n",
              "      <td>3.566011</td>\n",
              "      <td>21</td>\n",
              "    </tr>\n",
              "    <tr>\n",
              "      <th>5</th>\n",
              "      <td>virtussin ac</td>\n",
              "      <td>2.736842</td>\n",
              "      <td>1.859181</td>\n",
              "      <td>3.614503</td>\n",
              "      <td>19</td>\n",
              "    </tr>\n",
              "  </tbody>\n",
              "</table>\n",
              "</div>"
            ],
            "text/plain": [
              "              Drug Name  Sample Mean  Lower Bound  Upper Bound  Sample Size\n",
              "2             tussionex     4.000000     3.561457     4.438543           30\n",
              "4             tussicaps     3.636364     2.541800     4.730927           11\n",
              "0        tessalon perle     3.252033     2.956171     3.547894          123\n",
              "3  promethazine-codeine     3.214286     2.392154     4.036417           14\n",
              "1       promethazine-dm     2.809524     2.053037     3.566011           21\n",
              "5          virtussin ac     2.736842     1.859181     3.614503           19"
            ]
          },
          "metadata": {
            "tags": []
          },
          "execution_count": 385
        }
      ]
    },
    {
      "cell_type": "code",
      "metadata": {
        "id": "YfH81ZoYzS-q",
        "colab_type": "code",
        "colab": {
          "base_uri": "https://localhost:8080/",
          "height": 314
        },
        "outputId": "12460a81-f607-4bec-bac2-00cd60699266"
      },
      "source": [
        "#We have created a column named \"uniqueid\" for every row, to easen up or operations.\n",
        "drugs['uniqueid'] = np.arange(len(drugs))\n",
        "drugs.head()"
      ],
      "execution_count": 386,
      "outputs": [
        {
          "output_type": "execute_result",
          "data": {
            "text/html": [
              "<div>\n",
              "<style scoped>\n",
              "    .dataframe tbody tr th:only-of-type {\n",
              "        vertical-align: middle;\n",
              "    }\n",
              "\n",
              "    .dataframe tbody tr th {\n",
              "        vertical-align: top;\n",
              "    }\n",
              "\n",
              "    .dataframe thead th {\n",
              "        text-align: right;\n",
              "    }\n",
              "</style>\n",
              "<table border=\"1\" class=\"dataframe\">\n",
              "  <thead>\n",
              "    <tr style=\"text-align: right;\">\n",
              "      <th></th>\n",
              "      <th>age</th>\n",
              "      <th>condition</th>\n",
              "      <th>drug</th>\n",
              "      <th>drugid</th>\n",
              "      <th>easeofuse</th>\n",
              "      <th>effectiveness</th>\n",
              "      <th>reviews</th>\n",
              "      <th>usefulcount</th>\n",
              "      <th>satisfaction</th>\n",
              "      <th>uniqueid</th>\n",
              "    </tr>\n",
              "  </thead>\n",
              "  <tbody>\n",
              "    <tr>\n",
              "      <th>9045</th>\n",
              "      <td>45-54</td>\n",
              "      <td>A Progressive Disease of the Thyroid Gland</td>\n",
              "      <td>synthroid</td>\n",
              "      <td>7033</td>\n",
              "      <td>3</td>\n",
              "      <td>2</td>\n",
              "      <td>Is not helping me to get my TSH where it needs...</td>\n",
              "      <td>3</td>\n",
              "      <td>2.0</td>\n",
              "      <td>0</td>\n",
              "    </tr>\n",
              "    <tr>\n",
              "      <th>14780</th>\n",
              "      <td>25-34</td>\n",
              "      <td>Inactive Tuberculosis</td>\n",
              "      <td>rifampin</td>\n",
              "      <td>1744</td>\n",
              "      <td>2</td>\n",
              "      <td>4</td>\n",
              "      <td>I was exposed to TB at some point in my career...</td>\n",
              "      <td>5</td>\n",
              "      <td>2.0</td>\n",
              "      <td>1</td>\n",
              "    </tr>\n",
              "    <tr>\n",
              "      <th>25898</th>\n",
              "      <td>55-64</td>\n",
              "      <td>Migraine Prevention</td>\n",
              "      <td>propranolol hcl er</td>\n",
              "      <td>10404</td>\n",
              "      <td>5</td>\n",
              "      <td>5</td>\n",
              "      <td>Male, 64. Migraines for many years. Been on th...</td>\n",
              "      <td>12</td>\n",
              "      <td>4.0</td>\n",
              "      <td>2</td>\n",
              "    </tr>\n",
              "    <tr>\n",
              "      <th>30072</th>\n",
              "      <td>55-64</td>\n",
              "      <td>Obstructive Pulmonary Disease</td>\n",
              "      <td>prednisone concentrate</td>\n",
              "      <td>6007</td>\n",
              "      <td>5</td>\n",
              "      <td>3</td>\n",
              "      <td>I've been taking Prednisone off and on my whol...</td>\n",
              "      <td>7</td>\n",
              "      <td>4.0</td>\n",
              "      <td>3</td>\n",
              "    </tr>\n",
              "    <tr>\n",
              "      <th>9990</th>\n",
              "      <td>65-74</td>\n",
              "      <td>Depression</td>\n",
              "      <td>wellbutrin xl</td>\n",
              "      <td>76851</td>\n",
              "      <td>4</td>\n",
              "      <td>3</td>\n",
              "      <td>confusion talking too much depression may be d...</td>\n",
              "      <td>5</td>\n",
              "      <td>2.0</td>\n",
              "      <td>4</td>\n",
              "    </tr>\n",
              "  </tbody>\n",
              "</table>\n",
              "</div>"
            ],
            "text/plain": [
              "         age  ... uniqueid\n",
              "9045   45-54  ...        0\n",
              "14780  25-34  ...        1\n",
              "25898  55-64  ...        2\n",
              "30072  55-64  ...        3\n",
              "9990   65-74  ...        4\n",
              "\n",
              "[5 rows x 10 columns]"
            ]
          },
          "metadata": {
            "tags": []
          },
          "execution_count": 386
        }
      ]
    },
    {
      "cell_type": "code",
      "metadata": {
        "trusted": true,
        "_uuid": "cafe21fe35819e34426b87275a8a45accb8d0538",
        "id": "iz9v5wjz7PJR",
        "colab_type": "code",
        "colab": {
          "base_uri": "https://localhost:8080/",
          "height": 323
        },
        "outputId": "2ead7217-bfcc-4a55-8f38-8f7a0b44615e"
      },
      "source": [
        "# We will use this groupings later on...\n",
        "\n",
        "print(\"Number of Reviews per Drug\")\n",
        "# Number of reviews per drug\n",
        "reviews_per_drug = drugs.groupby([\"drug\"]).agg({\n",
        "    \"uniqueid\": pd.Series.nunique\n",
        "})\n",
        "reviews_per_drug.describe()\n",
        "\n",
        "\n",
        "print(\"Number of Reviews per Condition\")\n",
        "# Number of reviews per condition\n",
        "reviews_per_condition = drugs.groupby([\"condition\"]).agg({\n",
        "    \"uniqueid\": pd.Series.nunique\n",
        "})\n",
        "\n",
        "reviews_per_condition.describe()"
      ],
      "execution_count": 387,
      "outputs": [
        {
          "output_type": "stream",
          "text": [
            "Number of Reviews per Drug\n",
            "Number of Reviews per Condition\n"
          ],
          "name": "stdout"
        },
        {
          "output_type": "execute_result",
          "data": {
            "text/html": [
              "<div>\n",
              "<style scoped>\n",
              "    .dataframe tbody tr th:only-of-type {\n",
              "        vertical-align: middle;\n",
              "    }\n",
              "\n",
              "    .dataframe tbody tr th {\n",
              "        vertical-align: top;\n",
              "    }\n",
              "\n",
              "    .dataframe thead th {\n",
              "        text-align: right;\n",
              "    }\n",
              "</style>\n",
              "<table border=\"1\" class=\"dataframe\">\n",
              "  <thead>\n",
              "    <tr style=\"text-align: right;\">\n",
              "      <th></th>\n",
              "      <th>uniqueid</th>\n",
              "    </tr>\n",
              "  </thead>\n",
              "  <tbody>\n",
              "    <tr>\n",
              "      <th>count</th>\n",
              "      <td>940.000000</td>\n",
              "    </tr>\n",
              "    <tr>\n",
              "      <th>mean</th>\n",
              "      <td>45.180851</td>\n",
              "    </tr>\n",
              "    <tr>\n",
              "      <th>std</th>\n",
              "      <td>257.504790</td>\n",
              "    </tr>\n",
              "    <tr>\n",
              "      <th>min</th>\n",
              "      <td>1.000000</td>\n",
              "    </tr>\n",
              "    <tr>\n",
              "      <th>25%</th>\n",
              "      <td>2.000000</td>\n",
              "    </tr>\n",
              "    <tr>\n",
              "      <th>50%</th>\n",
              "      <td>5.000000</td>\n",
              "    </tr>\n",
              "    <tr>\n",
              "      <th>75%</th>\n",
              "      <td>18.000000</td>\n",
              "    </tr>\n",
              "    <tr>\n",
              "      <th>max</th>\n",
              "      <td>6043.000000</td>\n",
              "    </tr>\n",
              "  </tbody>\n",
              "</table>\n",
              "</div>"
            ],
            "text/plain": [
              "          uniqueid\n",
              "count   940.000000\n",
              "mean     45.180851\n",
              "std     257.504790\n",
              "min       1.000000\n",
              "25%       2.000000\n",
              "50%       5.000000\n",
              "75%      18.000000\n",
              "max    6043.000000"
            ]
          },
          "metadata": {
            "tags": []
          },
          "execution_count": 387
        }
      ]
    },
    {
      "cell_type": "code",
      "metadata": {
        "trusted": true,
        "id": "NJ1ZQlw07PJY",
        "colab_type": "code",
        "colab": {
          "base_uri": "https://localhost:8080/",
          "height": 314
        },
        "outputId": "9b7a5c78-24fe-4e2c-929f-9307cecf5017"
      },
      "source": [
        "# Inspect the lower cased reviews text. \n",
        "drugs['reviews'] = drugs['reviews'].str.lower()\n",
        "drugs.head(5)"
      ],
      "execution_count": 388,
      "outputs": [
        {
          "output_type": "execute_result",
          "data": {
            "text/html": [
              "<div>\n",
              "<style scoped>\n",
              "    .dataframe tbody tr th:only-of-type {\n",
              "        vertical-align: middle;\n",
              "    }\n",
              "\n",
              "    .dataframe tbody tr th {\n",
              "        vertical-align: top;\n",
              "    }\n",
              "\n",
              "    .dataframe thead th {\n",
              "        text-align: right;\n",
              "    }\n",
              "</style>\n",
              "<table border=\"1\" class=\"dataframe\">\n",
              "  <thead>\n",
              "    <tr style=\"text-align: right;\">\n",
              "      <th></th>\n",
              "      <th>age</th>\n",
              "      <th>condition</th>\n",
              "      <th>drug</th>\n",
              "      <th>drugid</th>\n",
              "      <th>easeofuse</th>\n",
              "      <th>effectiveness</th>\n",
              "      <th>reviews</th>\n",
              "      <th>usefulcount</th>\n",
              "      <th>satisfaction</th>\n",
              "      <th>uniqueid</th>\n",
              "    </tr>\n",
              "  </thead>\n",
              "  <tbody>\n",
              "    <tr>\n",
              "      <th>9045</th>\n",
              "      <td>45-54</td>\n",
              "      <td>A Progressive Disease of the Thyroid Gland</td>\n",
              "      <td>synthroid</td>\n",
              "      <td>7033</td>\n",
              "      <td>3</td>\n",
              "      <td>2</td>\n",
              "      <td>is not helping me to get my tsh where it needs...</td>\n",
              "      <td>3</td>\n",
              "      <td>2.0</td>\n",
              "      <td>0</td>\n",
              "    </tr>\n",
              "    <tr>\n",
              "      <th>14780</th>\n",
              "      <td>25-34</td>\n",
              "      <td>Inactive Tuberculosis</td>\n",
              "      <td>rifampin</td>\n",
              "      <td>1744</td>\n",
              "      <td>2</td>\n",
              "      <td>4</td>\n",
              "      <td>i was exposed to tb at some point in my career...</td>\n",
              "      <td>5</td>\n",
              "      <td>2.0</td>\n",
              "      <td>1</td>\n",
              "    </tr>\n",
              "    <tr>\n",
              "      <th>25898</th>\n",
              "      <td>55-64</td>\n",
              "      <td>Migraine Prevention</td>\n",
              "      <td>propranolol hcl er</td>\n",
              "      <td>10404</td>\n",
              "      <td>5</td>\n",
              "      <td>5</td>\n",
              "      <td>male, 64. migraines for many years. been on th...</td>\n",
              "      <td>12</td>\n",
              "      <td>4.0</td>\n",
              "      <td>2</td>\n",
              "    </tr>\n",
              "    <tr>\n",
              "      <th>30072</th>\n",
              "      <td>55-64</td>\n",
              "      <td>Obstructive Pulmonary Disease</td>\n",
              "      <td>prednisone concentrate</td>\n",
              "      <td>6007</td>\n",
              "      <td>5</td>\n",
              "      <td>3</td>\n",
              "      <td>i've been taking prednisone off and on my whol...</td>\n",
              "      <td>7</td>\n",
              "      <td>4.0</td>\n",
              "      <td>3</td>\n",
              "    </tr>\n",
              "    <tr>\n",
              "      <th>9990</th>\n",
              "      <td>65-74</td>\n",
              "      <td>Depression</td>\n",
              "      <td>wellbutrin xl</td>\n",
              "      <td>76851</td>\n",
              "      <td>4</td>\n",
              "      <td>3</td>\n",
              "      <td>confusion talking too much depression may be d...</td>\n",
              "      <td>5</td>\n",
              "      <td>2.0</td>\n",
              "      <td>4</td>\n",
              "    </tr>\n",
              "  </tbody>\n",
              "</table>\n",
              "</div>"
            ],
            "text/plain": [
              "         age  ... uniqueid\n",
              "9045   45-54  ...        0\n",
              "14780  25-34  ...        1\n",
              "25898  55-64  ...        2\n",
              "30072  55-64  ...        3\n",
              "9990   65-74  ...        4\n",
              "\n",
              "[5 rows x 10 columns]"
            ]
          },
          "metadata": {
            "tags": []
          },
          "execution_count": 388
        }
      ]
    },
    {
      "cell_type": "markdown",
      "metadata": {
        "_uuid": "1bd4479c3cf50ef94ede37c534c614d63f281d09",
        "id": "mpPlGfl97PJb",
        "colab_type": "text"
      },
      "source": [
        "## Descriptive Analysis\n"
      ]
    },
    {
      "cell_type": "markdown",
      "metadata": {
        "_uuid": "21f27039787d989de7c88dd89b85ea1987018625",
        "id": "XZUrxpOI7PJc",
        "colab_type": "text"
      },
      "source": [
        "### Top 10 Reviewed Drugs"
      ]
    },
    {
      "cell_type": "code",
      "metadata": {
        "trusted": true,
        "_uuid": "f16ea5b368c49b31858d6eeafb59e76f6eaa0ef6",
        "id": "gYDXmEh97PJc",
        "colab_type": "code",
        "colab": {
          "base_uri": "https://localhost:8080/",
          "height": 562
        },
        "outputId": "68f5d86c-92f2-426d-8637-737a0fe40687"
      },
      "source": [
        "# Top 10 most reviewed drug names\n",
        "plot = drugs.drug.value_counts().nlargest(10).plot(kind='bar', title=\"Top 10 reviewed drugs\", figsize=(12,6))"
      ],
      "execution_count": 389,
      "outputs": [
        {
          "output_type": "display_data",
          "data": {
            "image/png": "[encoded data removed]",
            "text/plain": [
              "<Figure size 864x432 with 1 Axes>"
            ]
          },
          "metadata": {
            "tags": []
          }
        }
      ]
    },
    {
      "cell_type": "markdown",
      "metadata": {
        "_uuid": "99e11383a879a953948824850dd53c3213b26da6",
        "id": "u8iBWtrj7PJf",
        "colab_type": "text"
      },
      "source": [
        "### Top 10 conditions undergoing by drug reviewers"
      ]
    },
    {
      "cell_type": "code",
      "metadata": {
        "trusted": true,
        "_uuid": "bff251a70cf485ee3cef2c5b778bea947f0d5a96",
        "id": "b2Wdswkx7PJg",
        "colab_type": "code",
        "colab": {
          "base_uri": "https://localhost:8080/",
          "height": 680
        },
        "outputId": "8ae5746f-0521-4dfc-d550-7c1fc279355d"
      },
      "source": [
        "# Top 10 most suffered condition by reviewers\n",
        "plot = drugs.condition.value_counts().nlargest(10).plot(kind='bar', title=\"Top 10 conditions in reviews\", figsize=(12,6))"
      ],
      "execution_count": 390,
      "outputs": [
        {
          "output_type": "display_data",
          "data": {
            "image/png": "[encoded data removed]",
            "text/plain": [
              "<Figure size 864x432 with 1 Axes>"
            ]
          },
          "metadata": {
            "tags": []
          }
        }
      ]
    },
    {
      "cell_type": "markdown",
      "metadata": {
        "_uuid": "7e96f07fca2e6310085893f128d95a2a53a4f184",
        "id": "TmBO_Q687PJi",
        "colab_type": "text"
      },
      "source": [
        "### Top 10 drugs with best and worst rating\n",
        "\n",
        "When doing this analysis for all the drugs, there is a factor which affect the results: **the number of reviews of a drug**. I.e. if we want to compute the drug with best rating, the drug which in **only 1 review** was given a 10 rating would be in TOP 1. For this reason, we only consider drugs with a significant number of reviews. A significant number of reviews is when the number of reviews for a drug is above the 75% of the number of reviews distribution per drug.\n"
      ]
    },
    {
      "cell_type": "code",
      "metadata": {
        "trusted": true,
        "_uuid": "81b8bbe61ea3e8dcfb54d6eb89362c94a352e4bb",
        "id": "FFXcIGsw7PJj",
        "colab_type": "code",
        "colab": {
          "base_uri": "https://localhost:8080/",
          "height": 1000
        },
        "outputId": "b2c3b284-4545-46c5-d620-9d46c4bcdfd7"
      },
      "source": [
        "drugs_rating = drugs.groupby('drug').agg({\n",
        "    'satisfaction': np.mean,\n",
        "    'uniqueid': pd.Series.nunique\n",
        "})\n",
        "\n",
        "print(\"Significant number of reviews: More than\", reviews_per_drug.quantile(q=0.75).values[0], \"reviews\")\n",
        "\n",
        "# We only use the drugs which number of reviews is higher than a threshold\n",
        "drugs_rating = drugs_rating[drugs_rating['uniqueid'] > int(reviews_per_drug.quantile(q=0.75))]\n",
        "\n",
        "# Top 10\n",
        "top_drugs_rating = drugs_rating.nlargest(10, 'satisfaction')\n",
        "plot = top_drugs_rating.plot(y='satisfaction', kind='bar', figsize = (16, 3))\n",
        "dummy = plt.title(\"Top 10 'significant' drugs with best rating\") # Assigned to variable to prevent output\n",
        "dummy = plt.ylim(4, 5) # Assigned to variable to prevent output\n",
        "\n",
        "# Bottom 10\n",
        "bottom_drugs_rating = drugs_rating.nsmallest(10, 'satisfaction')\n",
        "plot = bottom_drugs_rating.plot(y='satisfaction', kind='bar', figsize = (16, 3))\n",
        "dummy = plt.title(\"Top 10 'significant' drugs with worst rating\") # Assigned to variable to prevent output\n",
        "dummy = plt.ylim(1, 3) # Assigned to variable to prevent output"
      ],
      "execution_count": 391,
      "outputs": [
        {
          "output_type": "stream",
          "text": [
            "Significant number of reviews: More than 15.0 reviews\n"
          ],
          "name": "stdout"
        },
        {
          "output_type": "display_data",
          "data": {
            "image/png": "[encoded data removed]",
            "text/plain": [
              "<Figure size 1152x216 with 1 Axes>"
            ]
          },
          "metadata": {
            "tags": []
          }
        },
        {
          "output_type": "display_data",
          "data": {
            "image/png": "[encoded data removed]",
            "text/plain": [
              "<Figure size 1152x216 with 1 Axes>"
            ]
          },
          "metadata": {
            "tags": []
          }
        }
      ]
    },
    {
      "cell_type": "markdown",
      "metadata": {
        "_uuid": "d6d058a52a8a2e7b297679d2b5f5f8a351d1dffb",
        "id": "59vpYdmP7PJm",
        "colab_type": "text"
      },
      "source": [
        "### Analyzing Pairs (Drug, Condition) with best and worst ratings\n",
        "\n",
        "We theorize that the rating of a drug, is strongly related to the condition that the person who reviewed was suffering. We are going to compute the top 10 best and worst rating of reviews for (Drug, condition) pairs."
      ]
    },
    {
      "cell_type": "code",
      "metadata": {
        "trusted": true,
        "_uuid": "bdd2896065bcba7fe0f3acc83eba37fc1c53c545",
        "id": "Fj2G98887PJm",
        "colab_type": "code",
        "colab": {
          "base_uri": "https://localhost:8080/",
          "height": 1000
        },
        "outputId": "f1fdf98f-52b3-4889-e32b-4cafff42ada7"
      },
      "source": [
        "drugs_condition_rating = drugs.groupby(['drug', 'condition']).agg({\n",
        "    'satisfaction': np.mean,\n",
        "    'uniqueid': pd.Series.nunique\n",
        "})\n",
        "\n",
        "print(\"Number of pairs (Drug, Condition):\", len(drugs_condition_rating))\n",
        "\n",
        "print(\"Significant number of reviews: More than\", drugs_condition_rating['uniqueid'].quantile(q=0.75), \"reviews\")\n",
        "\n",
        "drugs_condition_rating = drugs_condition_rating[drugs_condition_rating['uniqueid'] > int(drugs_condition_rating['uniqueid'].quantile(q=0.75))]\n",
        "# drugs_condition_rating.sort_values('rating', ascending=False)\n",
        "top_drugs_condition_rating = drugs_condition_rating.nlargest(10, 'satisfaction')\n",
        "plot = top_drugs_condition_rating.plot(y='satisfaction', kind='bar', figsize = (16, 3))\n",
        "dummy = plt.title(\"Top 10 (Drug - Condition) with best rating\") # Assigned to variable to prevent output\n",
        "dummy = plt.ylim(4, 5) # Assigned to variable to prevent output\n",
        "\n",
        "bottom_drugs_condition_rating = drugs_condition_rating.nsmallest(10, 'satisfaction')\n",
        "plot = bottom_drugs_condition_rating.plot(y='satisfaction', kind='bar', figsize = (16, 3))\n",
        "dummy = plt.title(\"Top 10 (Drug - Condition) with worst rating\") # Assigned to variable to prevent output\n",
        "dummy = plt.ylim(1, 3) # Assigned to variable to prevent output"
      ],
      "execution_count": 392,
      "outputs": [
        {
          "output_type": "stream",
          "text": [
            "Number of pairs (Drug, Condition): 4176\n",
            "Significant number of reviews: More than 7.0 reviews\n"
          ],
          "name": "stdout"
        },
        {
          "output_type": "display_data",
          "data": {
            "image/png": "[encoded data removed]",
            "text/plain": [
              "<Figure size 1152x216 with 1 Axes>"
            ]
          },
          "metadata": {
            "tags": []
          }
        },
        {
          "output_type": "display_data",
          "data": {
            "image/png": "[encoded data removed]",
            "text/plain": [
              "<Figure size 1152x216 with 1 Axes>"
            ]
          },
          "metadata": {
            "tags": []
          }
        }
      ]
    },
    {
      "cell_type": "markdown",
      "metadata": {
        "_uuid": "1f2fe1f3ad597c01b77ed36c8c0dc4e42824b85f",
        "id": "WAUBLIFT7PJp",
        "colab_type": "text"
      },
      "source": [
        "## Temporal Analysis\n",
        "\n",
        "Building a good prediction model is **no** trivial task. Temporal features ***could*** help a model to perform better if we can foresee some **temporal patterns**. We will analyze monthly patterns over different years of all the reviews."
      ]
    },
    {
      "cell_type": "code",
      "metadata": {
        "id": "tMqPWFwKL8xW",
        "colab_type": "code",
        "colab": {}
      },
      "source": [
        "# Our target column has been labeled as 1=Positive, 0= Negative, to get 1/0 output after we perform our operations on Reviews column.\n",
        "# We only want a review to be classified either as Positive(1)(if rating is above 3) or Negative(0)(if rating is 3 and less).\n",
        "labels = drugs['satisfaction'].map(lambda x : 1 if int(x) > 3 else 0)"
      ],
      "execution_count": 393,
      "outputs": []
    },
    {
      "cell_type": "code",
      "metadata": {
        "trusted": true,
        "_uuid": "a120c3db91cf8281e954a2a9f95a99e5b1a1ba74",
        "id": "bzPLytVi7PJq",
        "colab_type": "code",
        "colab": {}
      },
      "source": [
        "# Function to perform cleansing operations on our Text column\n",
        "def clean_reviews(reviews):\n",
        "    \n",
        "    ## Remove puncuation\n",
        "    reviews = reviews.translate(string.punctuation)\n",
        "    \n",
        "    ## Convert words to lower case and split them\n",
        "    reviews = reviews.lower().split()\n",
        "    \n",
        "    ## Remove stop words\n",
        "    stops = set(stopwords.words(\"english\"))\n",
        "    reviews = [w for w in reviews if not w in stops and len(w) >= 3]\n",
        "    \n",
        "    reviews = \" \".join(reviews)\n",
        "\n",
        "    # Clean the reviews\n",
        "    reviews = re.sub(r\"[^A-Za-z0-9^,!.\\/'+-=]\", \" \", reviews)\n",
        "    reviews = re.sub(r\"what's\", \"what is \", reviews)\n",
        "    reviews = re.sub(r\"\\'s\", \" \", reviews)\n",
        "    reviews = re.sub(r\"\\'ve\", \" have \", reviews)\n",
        "    reviews = re.sub(r\"n't\", \" not \", reviews)\n",
        "    reviews = re.sub(r\"i'm\", \"i am \", reviews)\n",
        "    reviews = re.sub(r\"\\'re\", \" are \", reviews)\n",
        "    reviews = re.sub(r\"\\'d\", \" would \", reviews)\n",
        "    reviews = re.sub(r\"\\'ll\", \" will \", reviews)\n",
        "    reviews = re.sub(r\",\", \" \", reviews)\n",
        "    reviews = re.sub(r\"\\.\", \" \", reviews)\n",
        "    reviews = re.sub(r\"!\", \" ! \", reviews)\n",
        "    reviews = re.sub(r\"\\/\", \" \", reviews)\n",
        "    reviews = re.sub(r\"\\^\", \" ^ \", reviews)\n",
        "    reviews = re.sub(r\"\\+\", \" + \", reviews)\n",
        "    reviews = re.sub(r\"\\-\", \" - \", reviews)\n",
        "    reviews = re.sub(r\"\\=\", \" = \", reviews)\n",
        "    reviews = re.sub(r\"'\", \" \", reviews)\n",
        "    reviews = re.sub(r\"(\\d+)(k)\", r\"\\g<1>000\", reviews)\n",
        "    reviews = re.sub(r\":\", \" : \", reviews)\n",
        "    reviews = re.sub(r\" e g \", \" eg \", reviews)\n",
        "    reviews = re.sub(r\" b g \", \" bg \", reviews)\n",
        "    reviews = re.sub(r\" u s \", \" american \", reviews)\n",
        "    reviews = re.sub(r\"\\0s\", \"0\", reviews)\n",
        "    reviews = re.sub(r\" 9 11 \", \"911\", reviews)\n",
        "    reviews = re.sub(r\"e - mail\", \"email\", reviews)\n",
        "    reviews = re.sub(r\"j k\", \"jk\", reviews)\n",
        "    reviews = re.sub(r\"\\s{2,}\", \" \", reviews)\n",
        "    \n",
        "    reviews = reviews.split()\n",
        "    stemmer = SnowballStemmer('english')\n",
        "    stemmed_words = [stemmer.stem(word) for word in reviews]\n",
        "    reviews = \" \".join(stemmed_words)\n",
        "\n",
        "    return reviews"
      ],
      "execution_count": 394,
      "outputs": []
    },
    {
      "cell_type": "code",
      "metadata": {
        "trusted": true,
        "_uuid": "f0d8ef760881866f8548e0f6a5d8c026477c8550",
        "id": "gi9pWwKF7PJu",
        "colab_type": "code",
        "colab": {}
      },
      "source": [
        "drugs['reviews_clean'] = drugs['reviews'].map(lambda x: clean_reviews(x))"
      ],
      "execution_count": 395,
      "outputs": []
    },
    {
      "cell_type": "code",
      "metadata": {
        "trusted": true,
        "_uuid": "8a28655fc06b9e44c25b8e6a1b2fde6aa570bfbd",
        "id": "oJEk0jEl7PJx",
        "colab_type": "code",
        "colab": {
          "base_uri": "https://localhost:8080/",
          "height": 34
        },
        "outputId": "975d1202-ca0a-4bbb-8ed3-9c5533222b69"
      },
      "source": [
        "drugs.shape"
      ],
      "execution_count": 396,
      "outputs": [
        {
          "output_type": "execute_result",
          "data": {
            "text/plain": [
              "(42470, 11)"
            ]
          },
          "metadata": {
            "tags": []
          },
          "execution_count": 396
        }
      ]
    },
    {
      "cell_type": "code",
      "metadata": {
        "id": "9YvMwVCstVnu",
        "colab_type": "code",
        "colab": {}
      },
      "source": [
        "drugs_copy=drugs"
      ],
      "execution_count": 397,
      "outputs": []
    },
    {
      "cell_type": "markdown",
      "metadata": {
        "_uuid": "70e65bc849d8b7633facf67ff44e887af54b7def",
        "id": "b5fNu_LZ7PJ2",
        "colab_type": "text"
      },
      "source": [
        "## Sentiment Analysis\n",
        "\n",
        "We will analyze the sentiment of the reviews. We theorize that **the sentiment embedded on a review can be a key factor** to determine the review rating, the review impact on people (usefulCount), or how good a drug is for an specific condition. \n",
        "\n",
        "However, reviews can expose many different manifestations, such as: condition symptoms (usually negative), feelings before the drug (usually negative), feelings after the drug (could be positive or negative), side effects (usually negative), symptoms after the drug (could be positive or negative). This mix of manifestations could make any sentiment analysis method to struggle determining a single score for the entire review. Therefore, a aspect-based S.A. could be more viable (such as the ones used by Gräßer et al.).\n",
        "\n",
        "For now, we are going to use Vader [1], a rule-based sentiment analysis approach available in Python NLTK. To **obtain a single sentiment score for every review** (-1|negative to 1|positive), and see how it correlates with ratings (spearman coeff.).\n",
        "\n",
        "Before doing this, **text** must be processed:\n",
        "\n",
        "- HTML characters are converted to legible text\n",
        "- Punctuation signs are removed\n",
        "\n",
        "[1] Gilbert, C. H. E. (2014). Vader: A parsimonious rule-based model for sentiment analysis of social media text. In Eighth International Conference on Weblogs and Social Media (ICWSM-14). Available at (20/04/16) http://comp.social.gatech.edu/papers/icwsm14.vader.hutto.pdf."
      ]
    },
    {
      "cell_type": "markdown",
      "metadata": {
        "id": "OvRhb5i1QRxq",
        "colab_type": "text"
      },
      "source": [
        "#### CNN LSTM o/p\n",
        "- We're now trying to improve our operations on Reviews column using CNN+LSTM, the reason being, LSTM takes into consideration the sequences of our model in its Cell State, which is really important for any Text Data, coz it gives meaning to it.\n",
        "- \"I Love Dogs\" in this sequence is meaningful but \"Dog Love I\" sounds confusing. than again with longer text size, the sequences or order becomes more important.\n",
        "- We'll be using embedding layer for Word Embeddings, which helps us to see semantics or meaning behind \"Reviews\", being positive or negative.\n",
        "- Tokeniser helps in encoding our data\n",
        "- We have padded our Reviews accordingly, considering the maximum length of a Review."
      ]
    },
    {
      "cell_type": "code",
      "metadata": {
        "id": "-SWUQY3P8IbY",
        "colab_type": "code",
        "colab": {}
      },
      "source": [
        "train_sentences = drugs['reviews'].map(lambda x: clean_reviews(x))"
      ],
      "execution_count": 398,
      "outputs": []
    },
    {
      "cell_type": "code",
      "metadata": {
        "id": "3IrTdhlIBR8p",
        "colab_type": "code",
        "colab": {
          "base_uri": "https://localhost:8080/",
          "height": 230
        },
        "outputId": "f2b35724-005a-4e42-b3c8-0e66e4ff3f4e"
      },
      "source": [
        "drugs['reviews']"
      ],
      "execution_count": 399,
      "outputs": [
        {
          "output_type": "execute_result",
          "data": {
            "text/plain": [
              "9045     is not helping me to get my tsh where it needs...\n",
              "14780    i was exposed to tb at some point in my career...\n",
              "25898    male, 64. migraines for many years. been on th...\n",
              "30072    i've been taking prednisone off and on my whol...\n",
              "9990     confusion talking too much depression may be d...\n",
              "                               ...                        \n",
              "13876    i took this for three years and gained 25 lbs....\n",
              "40575    i think this med is a great pain reliever i ha...\n",
              "28368    makes me a little slow to respond or light fee...\n",
              "7691     i was switched from my previous birth control,...\n",
              "32791    i am on prometrium 200 mgs., take for ten days...\n",
              "Name: reviews, Length: 42470, dtype: object"
            ]
          },
          "metadata": {
            "tags": []
          },
          "execution_count": 399
        }
      ]
    },
    {
      "cell_type": "code",
      "metadata": {
        "id": "2ZsvBmp1nNSX",
        "colab_type": "code",
        "colab": {
          "base_uri": "https://localhost:8080/",
          "height": 230
        },
        "outputId": "e69bc5f2-448a-41fb-ca96-942b8f09e98b"
      },
      "source": [
        "train_sentences"
      ],
      "execution_count": 400,
      "outputs": [
        {
          "output_type": "execute_result",
          "data": {
            "text/plain": [
              "9045                          help get tsh need be + + + +\n",
              "14780    expos point career i am sure when found ltbi l...\n",
              "25898    male 64 migrain mani year medicin month zero h...\n",
              "30072    i have take prednison whole life born asthma n...\n",
              "9990                  confus talk much depress may decreas\n",
              "                               ...                        \n",
              "13876    took three year gain lbs work often feel like ...\n",
              "40575    think med great pain reliev tmj sever migrain ...\n",
              "28368    make littl slow respond light feel howev benef...\n",
              "7691     switch previous birth control loestrin fe drug...\n",
              "32791    prometrium 200 mgs take ten day begin two week...\n",
              "Name: reviews, Length: 42470, dtype: object"
            ]
          },
          "metadata": {
            "tags": []
          },
          "execution_count": 400
        }
      ]
    },
    {
      "cell_type": "code",
      "metadata": {
        "id": "XVkgQqlInM90",
        "colab_type": "code",
        "colab": {
          "base_uri": "https://localhost:8080/",
          "height": 87
        },
        "outputId": "109558be-3b86-4a63-89b2-777c078edb5f"
      },
      "source": [
        "from nltk.stem import WordNetLemmatizer\n",
        "lemmatizer = WordNetLemmatizer()\n",
        "from bs4 import BeautifulSoup\n",
        "from nltk.tokenize import word_tokenize\n",
        "from tqdm import tqdm\n",
        "nltk.download('punkt') ## added for GoogleCollab\n",
        "nltk.download('wordnet') ## added for GoogleCollab\n",
        "\n",
        "\n",
        "def clean_sentences(reviews):\n",
        "    reviews = []\n",
        "\n",
        "    for sent in tqdm(train_sentences):\n",
        "        \n",
        "        #remove html content\n",
        "        review_text = BeautifulSoup(sent).get_text()\n",
        "        \n",
        "        #remove non-alphabetic characters\n",
        "        review_text = re.sub(\"[^a-zA-Z]\",\" \", review_text)\n",
        "    \n",
        "        #tokenize the sentences\n",
        "        words = word_tokenize(review_text.lower())\n",
        "    \n",
        "        #lemmatize each word to its lemma\n",
        "        lemma_words = [lemmatizer.lemmatize(i) for i in words]\n",
        "    \n",
        "        reviews.append(lemma_words)\n",
        "\n",
        "    return(reviews)"
      ],
      "execution_count": 401,
      "outputs": [
        {
          "output_type": "stream",
          "text": [
            "[nltk_data] Downloading package punkt to /root/nltk_data...\n",
            "[nltk_data]   Package punkt is already up-to-date!\n",
            "[nltk_data] Downloading package wordnet to /root/nltk_data...\n",
            "[nltk_data]   Package wordnet is already up-to-date!\n"
          ],
          "name": "stdout"
        }
      ]
    },
    {
      "cell_type": "code",
      "metadata": {
        "id": "Wb6VE6REnMq8",
        "colab_type": "code",
        "colab": {
          "base_uri": "https://localhost:8080/",
          "height": 34
        },
        "outputId": "4885c2fd-9334-450d-b9e7-bb2bfc27d1b5"
      },
      "source": [
        "train_sentences = clean_sentences(train_sentences)"
      ],
      "execution_count": 402,
      "outputs": [
        {
          "output_type": "stream",
          "text": [
            "100%|██████████| 42470/42470 [00:26<00:00, 1605.21it/s]\n"
          ],
          "name": "stderr"
        }
      ]
    },
    {
      "cell_type": "code",
      "metadata": {
        "id": "H2_EIqPAnMaQ",
        "colab_type": "code",
        "colab": {
          "base_uri": "https://localhost:8080/",
          "height": 70
        },
        "outputId": "49813e69-1f49-40e4-a5e6-c4b8029da67d"
      },
      "source": [
        "unique_words = set()\n",
        "len_max = 0\n",
        "\n",
        "for sent in tqdm(train_sentences):\n",
        "    \n",
        "    unique_words.update(sent)\n",
        "    \n",
        "    if(len_max<len(sent)):\n",
        "        len_max = len(sent)\n",
        "        \n",
        "#length of the list of unique_words gives the no of unique words\n",
        "print(len(list(unique_words)))\n",
        "print(len_max)"
      ],
      "execution_count": 403,
      "outputs": [
        {
          "output_type": "stream",
          "text": [
            "100%|██████████| 42470/42470 [00:00<00:00, 380031.34it/s]"
          ],
          "name": "stderr"
        },
        {
          "output_type": "stream",
          "text": [
            "26698\n",
            "236\n"
          ],
          "name": "stdout"
        },
        {
          "output_type": "stream",
          "text": [
            "\n"
          ],
          "name": "stderr"
        }
      ]
    },
    {
      "cell_type": "code",
      "metadata": {
        "id": "Kuq8CR5lDnqu",
        "colab_type": "code",
        "colab": {}
      },
      "source": [
        "# oov_tok replaces unknown words with \"<OOV>\" as a value\n",
        "# incase truncating is requirred out model will do so behind the text rows.\n",
        "trunc_type='post'\n",
        "oov_tok=\"<OOV>\"\n",
        "tokenizer = Tokenizer(num_words= len(list(unique_words)), oov_token=oov_tok)\n",
        "tokenizer.fit_on_texts(train_sentences)\n",
        "\n",
        "sequences = tokenizer.texts_to_sequences(train_sentences)\n",
        "data = pad_sequences(sequences, maxlen=len_max, truncating=trunc_type)"
      ],
      "execution_count": 404,
      "outputs": []
    },
    {
      "cell_type": "code",
      "metadata": {
        "id": "_Ak4EKYhB-Sq",
        "colab_type": "code",
        "colab": {}
      },
      "source": [
        "# Early stopping incase scores doesnt change aroung cycles.\n",
        "from keras.callbacks import EarlyStopping\n",
        "early_stopping = EarlyStopping(min_delta = 0.001, mode = 'max', monitor='val_auc', patience = 2)\n",
        "callback = [early_stopping]"
      ],
      "execution_count": 405,
      "outputs": []
    },
    {
      "cell_type": "code",
      "metadata": {
        "id": "gAR7Fow8KOYy",
        "colab_type": "code",
        "colab": {}
      },
      "source": [
        "from keras.utils import to_categorical\n",
        "#target=train.Satisfaction.values\n",
        "y_target=to_categorical(drugs['satisfaction'])\n",
        "num_classes=y_target.shape[1]"
      ],
      "execution_count": 406,
      "outputs": []
    },
    {
      "cell_type": "code",
      "metadata": {
        "id": "bwBR2qr6L159",
        "colab_type": "code",
        "colab": {
          "base_uri": "https://localhost:8080/",
          "height": 34
        },
        "outputId": "2f5b08d0-6cfc-43a7-b857-0d486093ab51"
      },
      "source": [
        "num_classes"
      ],
      "execution_count": 407,
      "outputs": [
        {
          "output_type": "execute_result",
          "data": {
            "text/plain": [
              "6"
            ]
          },
          "metadata": {
            "tags": []
          },
          "execution_count": 407
        }
      ]
    },
    {
      "cell_type": "code",
      "metadata": {
        "id": "y2cPs1pERxFE",
        "colab_type": "code",
        "colab": {}
      },
      "source": [
        "# we have used one LSTM layer for our operations, with a combination of a CNN Layer coz it really speeds up our task,\n",
        "# further Maxpooling helps in reducing the problem of high dimensionality coz LSTM would usually return 2D array.\n",
        "# Sigmoid activator is used coz we have binary(0/1) semantics for our reviews\n",
        "# Two layer LSTM can also be implmented(with return sequence \"True\" meaning the feedback cycle will be used) but \n",
        "# for now i have commented them out.\n",
        "import tensorflow as tf\n",
        "from keras.losses import categorical_crossentropy\n",
        "from keras.optimizers import Adam\n",
        "\n",
        "def create_conv_model():\n",
        "    model_conv = Sequential()\n",
        "    model_conv.add(Embedding(len(list(unique_words)), 300, input_length=len_max))\n",
        "    model_conv.add(Dropout(0.2))\n",
        "    model_conv.add(Conv1D(256, 5, activation='relu'))\n",
        "    model_conv.add(MaxPooling1D(pool_size=4))\n",
        "    model_conv.add(LSTM(128))\n",
        "    \n",
        "    model_conv.add(Dense(num_classes, activation='softmax'))\n",
        "    model_conv.compile(loss='categorical_crossentropy', optimizer=Adam(lr=0.001), metrics=[tf.keras.metrics.AUC()])\n",
        "    model_conv.summary()\n",
        "    return model_conv"
      ],
      "execution_count": 408,
      "outputs": []
    },
    {
      "cell_type": "code",
      "metadata": {
        "id": "fDRPiYl9QA--",
        "colab_type": "code",
        "colab": {
          "base_uri": "https://localhost:8080/",
          "height": 372
        },
        "outputId": "8e4cc7ef-4b92-49e9-ad30-c442956bb4e2"
      },
      "source": [
        "model_conv = create_conv_model()"
      ],
      "execution_count": 409,
      "outputs": [
        {
          "output_type": "stream",
          "text": [
            "Model: \"sequential_9\"\n",
            "_________________________________________________________________\n",
            "Layer (type)                 Output Shape              Param #   \n",
            "=================================================================\n",
            "embedding_9 (Embedding)      (None, 236, 300)          8009400   \n",
            "_________________________________________________________________\n",
            "dropout_9 (Dropout)          (None, 236, 300)          0         \n",
            "_________________________________________________________________\n",
            "conv1d_9 (Conv1D)            (None, 232, 256)          384256    \n",
            "_________________________________________________________________\n",
            "max_pooling1d_9 (MaxPooling1 (None, 58, 256)           0         \n",
            "_________________________________________________________________\n",
            "lstm_9 (LSTM)                (None, 128)               197120    \n",
            "_________________________________________________________________\n",
            "dense_9 (Dense)              (None, 6)                 774       \n",
            "=================================================================\n",
            "Total params: 8,591,550\n",
            "Trainable params: 8,591,550\n",
            "Non-trainable params: 0\n",
            "_________________________________________________________________\n"
          ],
          "name": "stdout"
        }
      ]
    },
    {
      "cell_type": "code",
      "metadata": {
        "id": "tjQu8DHoh1Hy",
        "colab_type": "code",
        "colab": {
          "base_uri": "https://localhost:8080/",
          "height": 196
        },
        "outputId": "a00bc05c-a07a-42d7-d097-de7606c4e124"
      },
      "source": [
        "history =model_conv.fit(data, y_target, validation_split=0.4, epochs = 2, callbacks=callback)"
      ],
      "execution_count": 410,
      "outputs": [
        {
          "output_type": "stream",
          "text": [
            "/usr/local/lib/python3.6/dist-packages/tensorflow/python/framework/indexed_slices.py:434: UserWarning: Converting sparse IndexedSlices to a dense Tensor of unknown shape. This may consume a large amount of memory.\n",
            "  \"Converting sparse IndexedSlices to a dense Tensor of unknown shape. \"\n"
          ],
          "name": "stderr"
        },
        {
          "output_type": "stream",
          "text": [
            "Train on 25482 samples, validate on 16988 samples\n",
            "Epoch 1/2\n",
            "25482/25482 [==============================] - 150s 6ms/step - loss: 1.4503 - auc_8: 0.7018 - val_loss: 1.3836 - val_auc_8: 0.7599\n",
            "Epoch 2/2\n",
            "   32/25482 [..............................] - ETA: 2:13 - loss: 1.2498 - auc_8: 0.7654"
          ],
          "name": "stdout"
        },
        {
          "output_type": "stream",
          "text": [
            "/usr/local/lib/python3.6/dist-packages/keras/callbacks/callbacks.py:846: RuntimeWarning: Early stopping conditioned on metric `val_auc` which is not available. Available metrics are: val_loss,val_auc_8,loss,auc_8\n",
            "  (self.monitor, ','.join(list(logs.keys()))), RuntimeWarning\n"
          ],
          "name": "stderr"
        },
        {
          "output_type": "stream",
          "text": [
            "25482/25482 [==============================] - 153s 6ms/step - loss: 1.2369 - auc_8: 0.7826 - val_loss: 1.3986 - val_auc_8: 0.7930\n"
          ],
          "name": "stdout"
        }
      ]
    },
    {
      "cell_type": "code",
      "metadata": {
        "id": "D15NRouzmnvb",
        "colab_type": "code",
        "colab": {
          "base_uri": "https://localhost:8080/",
          "height": 561
        },
        "outputId": "6e0702b8-22da-437a-f537-bc3755b22a00"
      },
      "source": [
        "import matplotlib.pyplot as plt\n",
        "\n",
        "# Create count of the number of epochs\n",
        "epoch_count = range(1, len(history.history['loss']) + 1)\n",
        "\n",
        "# Visualize learning curve. Here learning curve is not ideal. It should be much smoother as it decreases.\n",
        "#As mentioned before, altering different hyper parameters especially learning rate can have a positive impact\n",
        "#on accuracy and learning curve.\n",
        "plt.plot(epoch_count, history.history['loss'], 'r--')\n",
        "plt.plot(epoch_count, history.history['val_loss'], 'b--')\n",
        "plt.plot(epoch_count, history.history['auc_8'], 'g-')\n",
        "plt.plot(epoch_count, history.history['val_auc_8'], 'y-')\n",
        "plt.legend(['Training Loss', 'Validation Loss', 'Training AUC', 'Validation AUC'])\n",
        "plt.xlabel('Epoch')\n",
        "plt.ylabel('Loss')\n",
        "plt.show()"
      ],
      "execution_count": 411,
      "outputs": [
        {
          "output_type": "display_data",
          "data": {
            "image/png": "[encoded data removed]",
            "text/plain": [
              "<Figure size 864x648 with 1 Axes>"
            ]
          },
          "metadata": {
            "tags": []
          }
        }
      ]
    },
    {
      "cell_type": "code",
      "metadata": {
        "id": "NEHpGRmLQHwV",
        "colab_type": "code",
        "colab": {}
      },
      "source": [
        "#df_save = pd.DataFrame(data)\n",
        "#df_label = pd.DataFrame(np.array(labels))\n",
        "#np.array(labels)"
      ],
      "execution_count": 412,
      "outputs": []
    },
    {
      "cell_type": "code",
      "metadata": {
        "id": "WJ3vbPpgr3fn",
        "colab_type": "code",
        "colab": {}
      },
      "source": [
        "#df_label_copy=df_label"
      ],
      "execution_count": 413,
      "outputs": []
    },
    {
      "cell_type": "code",
      "metadata": {
        "id": "rf4cY-YkhAW-",
        "colab_type": "code",
        "colab": {}
      },
      "source": [
        "nlp_pred=model_conv.predict_classes(data)"
      ],
      "execution_count": 414,
      "outputs": []
    },
    {
      "cell_type": "code",
      "metadata": {
        "id": "LNMd2WkpoGpr",
        "colab_type": "code",
        "colab": {}
      },
      "source": [
        "lstm_op=pd.DataFrame(nlp_pred)\n",
        "#df_labels=pd.DataFrame(labels)\n",
        "df_target=pd.DataFrame(y_target)"
      ],
      "execution_count": 415,
      "outputs": []
    },
    {
      "cell_type": "code",
      "metadata": {
        "id": "2BA2xiloSrBD",
        "colab_type": "code",
        "colab": {
          "base_uri": "https://localhost:8080/",
          "height": 406
        },
        "outputId": "42e3d8b7-fa1d-4073-aa5d-3d578d3ea4dc"
      },
      "source": [
        "lstm_op"
      ],
      "execution_count": 416,
      "outputs": [
        {
          "output_type": "execute_result",
          "data": {
            "text/html": [
              "<div>\n",
              "<style scoped>\n",
              "    .dataframe tbody tr th:only-of-type {\n",
              "        vertical-align: middle;\n",
              "    }\n",
              "\n",
              "    .dataframe tbody tr th {\n",
              "        vertical-align: top;\n",
              "    }\n",
              "\n",
              "    .dataframe thead th {\n",
              "        text-align: right;\n",
              "    }\n",
              "</style>\n",
              "<table border=\"1\" class=\"dataframe\">\n",
              "  <thead>\n",
              "    <tr style=\"text-align: right;\">\n",
              "      <th></th>\n",
              "      <th>0</th>\n",
              "    </tr>\n",
              "  </thead>\n",
              "  <tbody>\n",
              "    <tr>\n",
              "      <th>0</th>\n",
              "      <td>3</td>\n",
              "    </tr>\n",
              "    <tr>\n",
              "      <th>1</th>\n",
              "      <td>4</td>\n",
              "    </tr>\n",
              "    <tr>\n",
              "      <th>2</th>\n",
              "      <td>5</td>\n",
              "    </tr>\n",
              "    <tr>\n",
              "      <th>3</th>\n",
              "      <td>5</td>\n",
              "    </tr>\n",
              "    <tr>\n",
              "      <th>4</th>\n",
              "      <td>2</td>\n",
              "    </tr>\n",
              "    <tr>\n",
              "      <th>...</th>\n",
              "      <td>...</td>\n",
              "    </tr>\n",
              "    <tr>\n",
              "      <th>42465</th>\n",
              "      <td>1</td>\n",
              "    </tr>\n",
              "    <tr>\n",
              "      <th>42466</th>\n",
              "      <td>5</td>\n",
              "    </tr>\n",
              "    <tr>\n",
              "      <th>42467</th>\n",
              "      <td>4</td>\n",
              "    </tr>\n",
              "    <tr>\n",
              "      <th>42468</th>\n",
              "      <td>1</td>\n",
              "    </tr>\n",
              "    <tr>\n",
              "      <th>42469</th>\n",
              "      <td>2</td>\n",
              "    </tr>\n",
              "  </tbody>\n",
              "</table>\n",
              "<p>42470 rows × 1 columns</p>\n",
              "</div>"
            ],
            "text/plain": [
              "       0\n",
              "0      3\n",
              "1      4\n",
              "2      5\n",
              "3      5\n",
              "4      2\n",
              "...   ..\n",
              "42465  1\n",
              "42466  5\n",
              "42467  4\n",
              "42468  1\n",
              "42469  2\n",
              "\n",
              "[42470 rows x 1 columns]"
            ]
          },
          "metadata": {
            "tags": []
          },
          "execution_count": 416
        }
      ]
    },
    {
      "cell_type": "code",
      "metadata": {
        "id": "uJPRm4cdSuNb",
        "colab_type": "code",
        "colab": {
          "base_uri": "https://localhost:8080/",
          "height": 406
        },
        "outputId": "1c360e6b-f625-42ba-8a7d-42b27a1d0f5d"
      },
      "source": [
        "df_target"
      ],
      "execution_count": 418,
      "outputs": [
        {
          "output_type": "execute_result",
          "data": {
            "text/html": [
              "<div>\n",
              "<style scoped>\n",
              "    .dataframe tbody tr th:only-of-type {\n",
              "        vertical-align: middle;\n",
              "    }\n",
              "\n",
              "    .dataframe tbody tr th {\n",
              "        vertical-align: top;\n",
              "    }\n",
              "\n",
              "    .dataframe thead th {\n",
              "        text-align: right;\n",
              "    }\n",
              "</style>\n",
              "<table border=\"1\" class=\"dataframe\">\n",
              "  <thead>\n",
              "    <tr style=\"text-align: right;\">\n",
              "      <th></th>\n",
              "      <th>0</th>\n",
              "      <th>1</th>\n",
              "      <th>2</th>\n",
              "      <th>3</th>\n",
              "      <th>4</th>\n",
              "      <th>5</th>\n",
              "    </tr>\n",
              "  </thead>\n",
              "  <tbody>\n",
              "    <tr>\n",
              "      <th>0</th>\n",
              "      <td>0.0</td>\n",
              "      <td>0.0</td>\n",
              "      <td>1.0</td>\n",
              "      <td>0.0</td>\n",
              "      <td>0.0</td>\n",
              "      <td>0.0</td>\n",
              "    </tr>\n",
              "    <tr>\n",
              "      <th>1</th>\n",
              "      <td>0.0</td>\n",
              "      <td>0.0</td>\n",
              "      <td>1.0</td>\n",
              "      <td>0.0</td>\n",
              "      <td>0.0</td>\n",
              "      <td>0.0</td>\n",
              "    </tr>\n",
              "    <tr>\n",
              "      <th>2</th>\n",
              "      <td>0.0</td>\n",
              "      <td>0.0</td>\n",
              "      <td>0.0</td>\n",
              "      <td>0.0</td>\n",
              "      <td>1.0</td>\n",
              "      <td>0.0</td>\n",
              "    </tr>\n",
              "    <tr>\n",
              "      <th>3</th>\n",
              "      <td>0.0</td>\n",
              "      <td>0.0</td>\n",
              "      <td>0.0</td>\n",
              "      <td>0.0</td>\n",
              "      <td>1.0</td>\n",
              "      <td>0.0</td>\n",
              "    </tr>\n",
              "    <tr>\n",
              "      <th>4</th>\n",
              "      <td>0.0</td>\n",
              "      <td>0.0</td>\n",
              "      <td>1.0</td>\n",
              "      <td>0.0</td>\n",
              "      <td>0.0</td>\n",
              "      <td>0.0</td>\n",
              "    </tr>\n",
              "    <tr>\n",
              "      <th>...</th>\n",
              "      <td>...</td>\n",
              "      <td>...</td>\n",
              "      <td>...</td>\n",
              "      <td>...</td>\n",
              "      <td>...</td>\n",
              "      <td>...</td>\n",
              "    </tr>\n",
              "    <tr>\n",
              "      <th>42465</th>\n",
              "      <td>0.0</td>\n",
              "      <td>0.0</td>\n",
              "      <td>1.0</td>\n",
              "      <td>0.0</td>\n",
              "      <td>0.0</td>\n",
              "      <td>0.0</td>\n",
              "    </tr>\n",
              "    <tr>\n",
              "      <th>42466</th>\n",
              "      <td>0.0</td>\n",
              "      <td>0.0</td>\n",
              "      <td>0.0</td>\n",
              "      <td>0.0</td>\n",
              "      <td>0.0</td>\n",
              "      <td>1.0</td>\n",
              "    </tr>\n",
              "    <tr>\n",
              "      <th>42467</th>\n",
              "      <td>0.0</td>\n",
              "      <td>0.0</td>\n",
              "      <td>0.0</td>\n",
              "      <td>0.0</td>\n",
              "      <td>1.0</td>\n",
              "      <td>0.0</td>\n",
              "    </tr>\n",
              "    <tr>\n",
              "      <th>42468</th>\n",
              "      <td>0.0</td>\n",
              "      <td>1.0</td>\n",
              "      <td>0.0</td>\n",
              "      <td>0.0</td>\n",
              "      <td>0.0</td>\n",
              "      <td>0.0</td>\n",
              "    </tr>\n",
              "    <tr>\n",
              "      <th>42469</th>\n",
              "      <td>0.0</td>\n",
              "      <td>0.0</td>\n",
              "      <td>0.0</td>\n",
              "      <td>0.0</td>\n",
              "      <td>1.0</td>\n",
              "      <td>0.0</td>\n",
              "    </tr>\n",
              "  </tbody>\n",
              "</table>\n",
              "<p>42470 rows × 6 columns</p>\n",
              "</div>"
            ],
            "text/plain": [
              "         0    1    2    3    4    5\n",
              "0      0.0  0.0  1.0  0.0  0.0  0.0\n",
              "1      0.0  0.0  1.0  0.0  0.0  0.0\n",
              "2      0.0  0.0  0.0  0.0  1.0  0.0\n",
              "3      0.0  0.0  0.0  0.0  1.0  0.0\n",
              "4      0.0  0.0  1.0  0.0  0.0  0.0\n",
              "...    ...  ...  ...  ...  ...  ...\n",
              "42465  0.0  0.0  1.0  0.0  0.0  0.0\n",
              "42466  0.0  0.0  0.0  0.0  0.0  1.0\n",
              "42467  0.0  0.0  0.0  0.0  1.0  0.0\n",
              "42468  0.0  1.0  0.0  0.0  0.0  0.0\n",
              "42469  0.0  0.0  0.0  0.0  1.0  0.0\n",
              "\n",
              "[42470 rows x 6 columns]"
            ]
          },
          "metadata": {
            "tags": []
          },
          "execution_count": 418
        }
      ]
    },
    {
      "cell_type": "code",
      "metadata": {
        "id": "RHq0orXXCPf4",
        "colab_type": "code",
        "colab": {
          "base_uri": "https://localhost:8080/",
          "height": 406
        },
        "outputId": "1829aa20-1dde-4c3c-c8c4-e8d8b02da5bd"
      },
      "source": [
        "lstm_op.rename(columns = {0:'lstm_score'}, inplace = True)\n",
        "lstm_op"
      ],
      "execution_count": 419,
      "outputs": [
        {
          "output_type": "execute_result",
          "data": {
            "text/html": [
              "<div>\n",
              "<style scoped>\n",
              "    .dataframe tbody tr th:only-of-type {\n",
              "        vertical-align: middle;\n",
              "    }\n",
              "\n",
              "    .dataframe tbody tr th {\n",
              "        vertical-align: top;\n",
              "    }\n",
              "\n",
              "    .dataframe thead th {\n",
              "        text-align: right;\n",
              "    }\n",
              "</style>\n",
              "<table border=\"1\" class=\"dataframe\">\n",
              "  <thead>\n",
              "    <tr style=\"text-align: right;\">\n",
              "      <th></th>\n",
              "      <th>lstm_score</th>\n",
              "    </tr>\n",
              "  </thead>\n",
              "  <tbody>\n",
              "    <tr>\n",
              "      <th>0</th>\n",
              "      <td>3</td>\n",
              "    </tr>\n",
              "    <tr>\n",
              "      <th>1</th>\n",
              "      <td>4</td>\n",
              "    </tr>\n",
              "    <tr>\n",
              "      <th>2</th>\n",
              "      <td>5</td>\n",
              "    </tr>\n",
              "    <tr>\n",
              "      <th>3</th>\n",
              "      <td>5</td>\n",
              "    </tr>\n",
              "    <tr>\n",
              "      <th>4</th>\n",
              "      <td>2</td>\n",
              "    </tr>\n",
              "    <tr>\n",
              "      <th>...</th>\n",
              "      <td>...</td>\n",
              "    </tr>\n",
              "    <tr>\n",
              "      <th>42465</th>\n",
              "      <td>1</td>\n",
              "    </tr>\n",
              "    <tr>\n",
              "      <th>42466</th>\n",
              "      <td>5</td>\n",
              "    </tr>\n",
              "    <tr>\n",
              "      <th>42467</th>\n",
              "      <td>4</td>\n",
              "    </tr>\n",
              "    <tr>\n",
              "      <th>42468</th>\n",
              "      <td>1</td>\n",
              "    </tr>\n",
              "    <tr>\n",
              "      <th>42469</th>\n",
              "      <td>2</td>\n",
              "    </tr>\n",
              "  </tbody>\n",
              "</table>\n",
              "<p>42470 rows × 1 columns</p>\n",
              "</div>"
            ],
            "text/plain": [
              "       lstm_score\n",
              "0               3\n",
              "1               4\n",
              "2               5\n",
              "3               5\n",
              "4               2\n",
              "...           ...\n",
              "42465           1\n",
              "42466           5\n",
              "42467           4\n",
              "42468           1\n",
              "42469           2\n",
              "\n",
              "[42470 rows x 1 columns]"
            ]
          },
          "metadata": {
            "tags": []
          },
          "execution_count": 419
        }
      ]
    },
    {
      "cell_type": "code",
      "metadata": {
        "id": "iN7fYj2BQZh1",
        "colab_type": "code",
        "colab": {}
      },
      "source": [
        "# the last column being our output column\n",
        "#drugs = pd.concat([drugs, lstm_op], axis = 1)\n",
        "drugs = pd.concat([drugs_copy.reset_index(), lstm_op.reset_index()], axis = 1)\n"
      ],
      "execution_count": 420,
      "outputs": []
    },
    {
      "cell_type": "code",
      "metadata": {
        "id": "iLUK08tSUrOd",
        "colab_type": "code",
        "colab": {
          "base_uri": "https://localhost:8080/",
          "height": 567
        },
        "outputId": "8a6ebe3c-466a-45ef-9b13-76dfc61027bc"
      },
      "source": [
        "drugs.head()"
      ],
      "execution_count": 421,
      "outputs": [
        {
          "output_type": "execute_result",
          "data": {
            "text/html": [
              "<div>\n",
              "<style scoped>\n",
              "    .dataframe tbody tr th:only-of-type {\n",
              "        vertical-align: middle;\n",
              "    }\n",
              "\n",
              "    .dataframe tbody tr th {\n",
              "        vertical-align: top;\n",
              "    }\n",
              "\n",
              "    .dataframe thead th {\n",
              "        text-align: right;\n",
              "    }\n",
              "</style>\n",
              "<table border=\"1\" class=\"dataframe\">\n",
              "  <thead>\n",
              "    <tr style=\"text-align: right;\">\n",
              "      <th></th>\n",
              "      <th>index</th>\n",
              "      <th>age</th>\n",
              "      <th>condition</th>\n",
              "      <th>drug</th>\n",
              "      <th>drugid</th>\n",
              "      <th>easeofuse</th>\n",
              "      <th>effectiveness</th>\n",
              "      <th>reviews</th>\n",
              "      <th>usefulcount</th>\n",
              "      <th>satisfaction</th>\n",
              "      <th>uniqueid</th>\n",
              "      <th>reviews_clean</th>\n",
              "      <th>index</th>\n",
              "      <th>lstm_score</th>\n",
              "    </tr>\n",
              "  </thead>\n",
              "  <tbody>\n",
              "    <tr>\n",
              "      <th>0</th>\n",
              "      <td>9045</td>\n",
              "      <td>45-54</td>\n",
              "      <td>A Progressive Disease of the Thyroid Gland</td>\n",
              "      <td>synthroid</td>\n",
              "      <td>7033</td>\n",
              "      <td>3</td>\n",
              "      <td>2</td>\n",
              "      <td>is not helping me to get my tsh where it needs...</td>\n",
              "      <td>3</td>\n",
              "      <td>2.0</td>\n",
              "      <td>0</td>\n",
              "      <td>help get tsh need be + + + +</td>\n",
              "      <td>0</td>\n",
              "      <td>3</td>\n",
              "    </tr>\n",
              "    <tr>\n",
              "      <th>1</th>\n",
              "      <td>14780</td>\n",
              "      <td>25-34</td>\n",
              "      <td>Inactive Tuberculosis</td>\n",
              "      <td>rifampin</td>\n",
              "      <td>1744</td>\n",
              "      <td>2</td>\n",
              "      <td>4</td>\n",
              "      <td>i was exposed to tb at some point in my career...</td>\n",
              "      <td>5</td>\n",
              "      <td>2.0</td>\n",
              "      <td>1</td>\n",
              "      <td>expos point career i am sure when found ltbi l...</td>\n",
              "      <td>1</td>\n",
              "      <td>4</td>\n",
              "    </tr>\n",
              "    <tr>\n",
              "      <th>2</th>\n",
              "      <td>25898</td>\n",
              "      <td>55-64</td>\n",
              "      <td>Migraine Prevention</td>\n",
              "      <td>propranolol hcl er</td>\n",
              "      <td>10404</td>\n",
              "      <td>5</td>\n",
              "      <td>5</td>\n",
              "      <td>male, 64. migraines for many years. been on th...</td>\n",
              "      <td>12</td>\n",
              "      <td>4.0</td>\n",
              "      <td>2</td>\n",
              "      <td>male 64 migrain mani year medicin month zero h...</td>\n",
              "      <td>2</td>\n",
              "      <td>5</td>\n",
              "    </tr>\n",
              "    <tr>\n",
              "      <th>3</th>\n",
              "      <td>30072</td>\n",
              "      <td>55-64</td>\n",
              "      <td>Obstructive Pulmonary Disease</td>\n",
              "      <td>prednisone concentrate</td>\n",
              "      <td>6007</td>\n",
              "      <td>5</td>\n",
              "      <td>3</td>\n",
              "      <td>i've been taking prednisone off and on my whol...</td>\n",
              "      <td>7</td>\n",
              "      <td>4.0</td>\n",
              "      <td>3</td>\n",
              "      <td>i have take prednison whole life born asthma n...</td>\n",
              "      <td>3</td>\n",
              "      <td>5</td>\n",
              "    </tr>\n",
              "    <tr>\n",
              "      <th>4</th>\n",
              "      <td>9990</td>\n",
              "      <td>65-74</td>\n",
              "      <td>Depression</td>\n",
              "      <td>wellbutrin xl</td>\n",
              "      <td>76851</td>\n",
              "      <td>4</td>\n",
              "      <td>3</td>\n",
              "      <td>confusion talking too much depression may be d...</td>\n",
              "      <td>5</td>\n",
              "      <td>2.0</td>\n",
              "      <td>4</td>\n",
              "      <td>confus talk much depress may decreas</td>\n",
              "      <td>4</td>\n",
              "      <td>2</td>\n",
              "    </tr>\n",
              "  </tbody>\n",
              "</table>\n",
              "</div>"
            ],
            "text/plain": [
              "   index    age  ... index lstm_score\n",
              "0   9045  45-54  ...     0          3\n",
              "1  14780  25-34  ...     1          4\n",
              "2  25898  55-64  ...     2          5\n",
              "3  30072  55-64  ...     3          5\n",
              "4   9990  65-74  ...     4          2\n",
              "\n",
              "[5 rows x 14 columns]"
            ]
          },
          "metadata": {
            "tags": []
          },
          "execution_count": 421
        }
      ]
    },
    {
      "cell_type": "code",
      "metadata": {
        "id": "DxdLh9QeQZL7",
        "colab_type": "code",
        "colab": {}
      },
      "source": [
        "#lstm_output=result.iloc[:,-1]\n",
        "#lstm_output.shape"
      ],
      "execution_count": 422,
      "outputs": []
    },
    {
      "cell_type": "code",
      "metadata": {
        "id": "xRxF99Ioxol3",
        "colab_type": "code",
        "colab": {}
      },
      "source": [
        "#lstm_output"
      ],
      "execution_count": 423,
      "outputs": []
    },
    {
      "cell_type": "code",
      "metadata": {
        "id": "RO37YP6laVgS",
        "colab_type": "code",
        "colab": {}
      },
      "source": [
        "#df_n = lstm_output.apply(lambda x: x.idxmax(), axis = 1)"
      ],
      "execution_count": 424,
      "outputs": []
    },
    {
      "cell_type": "code",
      "metadata": {
        "id": "gW5j0QiSwU5-",
        "colab_type": "code",
        "colab": {}
      },
      "source": [
        "#df_n"
      ],
      "execution_count": 425,
      "outputs": []
    },
    {
      "cell_type": "code",
      "metadata": {
        "id": "hTm07Dk9QY5F",
        "colab_type": "code",
        "colab": {}
      },
      "source": [
        "# We can see how much we have improved on correlation btw our semantics and target columns.\n",
        "#np.corrcoef(lstm_op, drugs['satisfaction'])"
      ],
      "execution_count": 426,
      "outputs": []
    },
    {
      "cell_type": "code",
      "metadata": {
        "id": "tdAhpJcVUmxq",
        "colab_type": "code",
        "colab": {}
      },
      "source": [
        "#drugs = pd.concat([drugs.reset_index(), lstm_output.reset_index()], axis = 1)"
      ],
      "execution_count": 427,
      "outputs": []
    },
    {
      "cell_type": "code",
      "metadata": {
        "id": "_AzzG2qMsLME",
        "colab_type": "code",
        "colab": {}
      },
      "source": [
        "#drugs.shape"
      ],
      "execution_count": 428,
      "outputs": []
    },
    {
      "cell_type": "code",
      "metadata": {
        "id": "x4clw3sKVGot",
        "colab_type": "code",
        "colab": {}
      },
      "source": [
        "# We are renaming our LSTM score from \"0\" to \"lstm_score\"\n",
        "#drugs.rename(columns = {0:'lstm_score'}, inplace = True)\n",
        "#drugs.head(1)"
      ],
      "execution_count": 429,
      "outputs": []
    },
    {
      "cell_type": "code",
      "metadata": {
        "id": "BdPBB13hn-jG",
        "colab_type": "code",
        "colab": {
          "base_uri": "https://localhost:8080/",
          "height": 127
        },
        "outputId": "9f8714c3-3402-42c5-a2f6-28361ad82c75"
      },
      "source": [
        "drugs.drop(['index'], axis=1, inplace=True)\n",
        "drugs.head(1)"
      ],
      "execution_count": 430,
      "outputs": [
        {
          "output_type": "execute_result",
          "data": {
            "text/html": [
              "<div>\n",
              "<style scoped>\n",
              "    .dataframe tbody tr th:only-of-type {\n",
              "        vertical-align: middle;\n",
              "    }\n",
              "\n",
              "    .dataframe tbody tr th {\n",
              "        vertical-align: top;\n",
              "    }\n",
              "\n",
              "    .dataframe thead th {\n",
              "        text-align: right;\n",
              "    }\n",
              "</style>\n",
              "<table border=\"1\" class=\"dataframe\">\n",
              "  <thead>\n",
              "    <tr style=\"text-align: right;\">\n",
              "      <th></th>\n",
              "      <th>age</th>\n",
              "      <th>condition</th>\n",
              "      <th>drug</th>\n",
              "      <th>drugid</th>\n",
              "      <th>easeofuse</th>\n",
              "      <th>effectiveness</th>\n",
              "      <th>reviews</th>\n",
              "      <th>usefulcount</th>\n",
              "      <th>satisfaction</th>\n",
              "      <th>uniqueid</th>\n",
              "      <th>reviews_clean</th>\n",
              "      <th>lstm_score</th>\n",
              "    </tr>\n",
              "  </thead>\n",
              "  <tbody>\n",
              "    <tr>\n",
              "      <th>0</th>\n",
              "      <td>45-54</td>\n",
              "      <td>A Progressive Disease of the Thyroid Gland</td>\n",
              "      <td>synthroid</td>\n",
              "      <td>7033</td>\n",
              "      <td>3</td>\n",
              "      <td>2</td>\n",
              "      <td>is not helping me to get my tsh where it needs...</td>\n",
              "      <td>3</td>\n",
              "      <td>2.0</td>\n",
              "      <td>0</td>\n",
              "      <td>help get tsh need be + + + +</td>\n",
              "      <td>3</td>\n",
              "    </tr>\n",
              "  </tbody>\n",
              "</table>\n",
              "</div>"
            ],
            "text/plain": [
              "     age  ... lstm_score\n",
              "0  45-54  ...          3\n",
              "\n",
              "[1 rows x 12 columns]"
            ]
          },
          "metadata": {
            "tags": []
          },
          "execution_count": 430
        }
      ]
    },
    {
      "cell_type": "code",
      "metadata": {
        "id": "TYsNA8VW7ymT",
        "colab_type": "code",
        "colab": {
          "base_uri": "https://localhost:8080/",
          "height": 390
        },
        "outputId": "3af7e7ec-8eb5-48fd-ad68-05b9c77d2e91"
      },
      "source": [
        "# Counting how many times each condition occured in our dataset, with head of 20\n",
        "drugs['condition'].value_counts().head(20)"
      ],
      "execution_count": 431,
      "outputs": [
        {
          "output_type": "execute_result",
          "data": {
            "text/plain": [
              "Other                                                        6043\n",
              "Birth Control                                                2712\n",
              "Depression                                                   2580\n",
              "Pain                                                         1585\n",
              "Chronic Trouble Sleeping                                     1407\n",
              "Overweight                                                   1026\n",
              "High Blood Pressure                                          1000\n",
              "Attention Deficit Disorder with Hyperactivity                 898\n",
              "High Cholesterol                                              868\n",
              "Bipolar Depression                                            782\n",
              "Migraine Prevention                                           776\n",
              "Major Depressive Disorder                                     668\n",
              "Disorder characterized by Stiff, Tender & Painful Muscles     579\n",
              "Panic Disorder                                                548\n",
              "Migraine Headache                                             523\n",
              "Rheumatoid Arthritis                                          500\n",
              "Acne                                                          433\n",
              "Asthma                                                        402\n",
              "Muscle Spasm                                                  393\n",
              "Underactive Thyroid                                           375\n",
              "Name: condition, dtype: int64"
            ]
          },
          "metadata": {
            "tags": []
          },
          "execution_count": 431
        }
      ]
    },
    {
      "cell_type": "markdown",
      "metadata": {
        "id": "_AXFEXYQ-iWd",
        "colab_type": "text"
      },
      "source": [
        "# Feature Engineering"
      ]
    },
    {
      "cell_type": "code",
      "metadata": {
        "trusted": true,
        "_uuid": "c67dafd5a56dfbe0ce25b56bb7763b7dcc8d9d18",
        "id": "rGGLWsjO7PJ5",
        "colab_type": "code",
        "colab": {
          "base_uri": "https://localhost:8080/",
          "height": 52
        },
        "outputId": "7f0d8d14-1fb9-4b41-ef88-7aba07b196fe"
      },
      "source": [
        "#Word count in each review\n",
        "drugs['count_word']=drugs[\"reviews_clean\"].apply(lambda x: len(str(x).split()))\n",
        "\n",
        "#Unique word count \n",
        "drugs['count_unique_word']=drugs[\"reviews_clean\"].apply(lambda x: len(set(str(x).split())))\n",
        "\n",
        "#Letter count\n",
        "drugs['count_letters']=drugs[\"reviews_clean\"].apply(lambda x: len(str(x)))\n",
        "\n",
        "#punctuation count\n",
        "drugs[\"count_punctuations\"] = drugs[\"reviews\"].apply(lambda x: len([c for c in str(x) if c in string.punctuation]))\n",
        "\n",
        "\n",
        "#Number of stopwords\n",
        "stops = set(stopwords.words(\"english\"))\n",
        "drugs[\"count_stopwords\"] = drugs[\"reviews\"].apply(lambda x: len([w for w in str(x).lower().split() if w in stops]))\n",
        "\n",
        "#Average length of the words\n",
        "drugs[\"mean_word_len\"] = drugs[\"reviews_clean\"].apply(lambda x: np.mean([len(w) for w in str(x).split()]))"
      ],
      "execution_count": 432,
      "outputs": [
        {
          "output_type": "stream",
          "text": [
            "/usr/local/lib/python3.6/dist-packages/numpy/core/fromnumeric.py:3335: RuntimeWarning: Mean of empty slice.\n",
            "  out=out, **kwargs)\n"
          ],
          "name": "stderr"
        }
      ]
    },
    {
      "cell_type": "code",
      "metadata": {
        "trusted": true,
        "_uuid": "f2471e72f47ee19eecd4252f1dd96940308b009f",
        "id": "Sd-jPhEl7PJ_",
        "colab_type": "code",
        "colab": {}
      },
      "source": [
        "# Label Encoding Conditions\n",
        "from sklearn.preprocessing import LabelEncoder\n",
        "label_encoder_feat = {}\n",
        "for feature in ['condition']:\n",
        "    label_encoder_feat[feature] = LabelEncoder()\n",
        "    drugs[feature] = label_encoder_feat[feature].fit_transform(drugs[feature])"
      ],
      "execution_count": 433,
      "outputs": []
    },
    {
      "cell_type": "code",
      "metadata": {
        "id": "AnpcOH8OHIoS",
        "colab_type": "code",
        "colab": {}
      },
      "source": [
        "drugs['easeofuse']=drugs['easeofuse'].astype(float)\n",
        "drugs['effectiveness']=drugs['effectiveness'].astype(float)\n",
        "drugs['usefulcount']=drugs['usefulcount'].astype(float)"
      ],
      "execution_count": 434,
      "outputs": []
    },
    {
      "cell_type": "code",
      "metadata": {
        "id": "Hb5OIlubD5sm",
        "colab_type": "code",
        "colab": {}
      },
      "source": [
        "corr=drugs.corr(method ='pearson')"
      ],
      "execution_count": 435,
      "outputs": []
    },
    {
      "cell_type": "code",
      "metadata": {
        "id": "eIlThq6pEhwh",
        "colab_type": "code",
        "colab": {
          "base_uri": "https://localhost:8080/",
          "height": 263
        },
        "outputId": "bf2c0458-f955-4452-b602-56744b0da495"
      },
      "source": [
        "cmap = cmap=sns.diverging_palette(5, 250, as_cmap=True)\n",
        "\n",
        "def magnify():\n",
        "    return [dict(selector=\"th\",\n",
        "                 props=[(\"font-size\", \"7pt\")]),\n",
        "            dict(selector=\"td\",\n",
        "                 props=[('padding', \"0em 0em\")]),\n",
        "            dict(selector=\"th:hover\",\n",
        "                 props=[(\"font-size\", \"12pt\")]),\n",
        "            dict(selector=\"tr:hover td:hover\",\n",
        "                 props=[('max-width', '200px'),\n",
        "                        ('font-size', '12pt')])\n",
        "]\n",
        "\n",
        "corr.style.background_gradient(cmap, axis=1)\\\n",
        "    .set_properties(**{'max-width': '80px', 'font-size': '10pt'})\\\n",
        "    .set_caption(\"Hover to magify\")\\\n",
        "    .set_precision(2)\\\n",
        "    .set_table_styles(magnify())"
      ],
      "execution_count": 436,
      "outputs": [
        {
          "output_type": "execute_result",
          "data": {
            "text/html": [
              "<style  type=\"text/css\" >\n",
              "    #T_ec1bdd50_c44b_11ea_83b5_0242ac1c0002 th {\n",
              "          font-size: 7pt;\n",
              "    }    #T_ec1bdd50_c44b_11ea_83b5_0242ac1c0002 td {\n",
              "          padding: 0em 0em;\n",
              "    }    #T_ec1bdd50_c44b_11ea_83b5_0242ac1c0002 th:hover {\n",
              "          font-size: 12pt;\n",
              "    }    #T_ec1bdd50_c44b_11ea_83b5_0242ac1c0002 tr:hover td:hover {\n",
              "          max-width: 200px;\n",
              "          font-size: 12pt;\n",
              "    }    #T_ec1bdd50_c44b_11ea_83b5_0242ac1c0002row0_col0 {\n",
              "            background-color:  #4479bb;\n",
              "            color:  #000000;\n",
              "            max-width:  80px;\n",
              "            font-size:  10pt;\n",
              "        }    #T_ec1bdd50_c44b_11ea_83b5_0242ac1c0002row0_col1 {\n",
              "            background-color:  #d94563;\n",
              "            color:  #f1f1f1;\n",
              "            max-width:  80px;\n",
              "            font-size:  10pt;\n",
              "        }    #T_ec1bdd50_c44b_11ea_83b5_0242ac1c0002row0_col2 {\n",
              "            background-color:  #d8415f;\n",
              "            color:  #f1f1f1;\n",
              "            max-width:  80px;\n",
              "            font-size:  10pt;\n",
              "        }    #T_ec1bdd50_c44b_11ea_83b5_0242ac1c0002row0_col3 {\n",
              "            background-color:  #da4b68;\n",
              "            color:  #000000;\n",
              "            max-width:  80px;\n",
              "            font-size:  10pt;\n",
              "        }    #T_ec1bdd50_c44b_11ea_83b5_0242ac1c0002row0_col4 {\n",
              "            background-color:  #de5b75;\n",
              "            color:  #000000;\n",
              "            max-width:  80px;\n",
              "            font-size:  10pt;\n",
              "        }    #T_ec1bdd50_c44b_11ea_83b5_0242ac1c0002row0_col5 {\n",
              "            background-color:  #db4e6a;\n",
              "            color:  #000000;\n",
              "            max-width:  80px;\n",
              "            font-size:  10pt;\n",
              "        }    #T_ec1bdd50_c44b_11ea_83b5_0242ac1c0002row0_col6 {\n",
              "            background-color:  #dc5570;\n",
              "            color:  #000000;\n",
              "            max-width:  80px;\n",
              "            font-size:  10pt;\n",
              "        }    #T_ec1bdd50_c44b_11ea_83b5_0242ac1c0002row0_col7 {\n",
              "            background-color:  #d73d5c;\n",
              "            color:  #f1f1f1;\n",
              "            max-width:  80px;\n",
              "            font-size:  10pt;\n",
              "        }    #T_ec1bdd50_c44b_11ea_83b5_0242ac1c0002row0_col8 {\n",
              "            background-color:  #d73d5c;\n",
              "            color:  #f1f1f1;\n",
              "            max-width:  80px;\n",
              "            font-size:  10pt;\n",
              "        }    #T_ec1bdd50_c44b_11ea_83b5_0242ac1c0002row0_col9 {\n",
              "            background-color:  #d83e5d;\n",
              "            color:  #f1f1f1;\n",
              "            max-width:  80px;\n",
              "            font-size:  10pt;\n",
              "        }    #T_ec1bdd50_c44b_11ea_83b5_0242ac1c0002row0_col10 {\n",
              "            background-color:  #d83e5d;\n",
              "            color:  #f1f1f1;\n",
              "            max-width:  80px;\n",
              "            font-size:  10pt;\n",
              "        }    #T_ec1bdd50_c44b_11ea_83b5_0242ac1c0002row0_col11 {\n",
              "            background-color:  #d73c5b;\n",
              "            color:  #f1f1f1;\n",
              "            max-width:  80px;\n",
              "            font-size:  10pt;\n",
              "        }    #T_ec1bdd50_c44b_11ea_83b5_0242ac1c0002row0_col12 {\n",
              "            background-color:  #dc526e;\n",
              "            color:  #000000;\n",
              "            max-width:  80px;\n",
              "            font-size:  10pt;\n",
              "        }    #T_ec1bdd50_c44b_11ea_83b5_0242ac1c0002row1_col0 {\n",
              "            background-color:  #d73c5b;\n",
              "            color:  #f1f1f1;\n",
              "            max-width:  80px;\n",
              "            font-size:  10pt;\n",
              "        }    #T_ec1bdd50_c44b_11ea_83b5_0242ac1c0002row1_col1 {\n",
              "            background-color:  #4479bb;\n",
              "            color:  #000000;\n",
              "            max-width:  80px;\n",
              "            font-size:  10pt;\n",
              "        }    #T_ec1bdd50_c44b_11ea_83b5_0242ac1c0002row1_col2 {\n",
              "            background-color:  #f2f2f2;\n",
              "            color:  #000000;\n",
              "            max-width:  80px;\n",
              "            font-size:  10pt;\n",
              "        }    #T_ec1bdd50_c44b_11ea_83b5_0242ac1c0002row1_col3 {\n",
              "            background-color:  #dc526e;\n",
              "            color:  #000000;\n",
              "            max-width:  80px;\n",
              "            font-size:  10pt;\n",
              "        }    #T_ec1bdd50_c44b_11ea_83b5_0242ac1c0002row1_col4 {\n",
              "            background-color:  #f2f2f2;\n",
              "            color:  #000000;\n",
              "            max-width:  80px;\n",
              "            font-size:  10pt;\n",
              "        }    #T_ec1bdd50_c44b_11ea_83b5_0242ac1c0002row1_col5 {\n",
              "            background-color:  #d94261;\n",
              "            color:  #f1f1f1;\n",
              "            max-width:  80px;\n",
              "            font-size:  10pt;\n",
              "        }    #T_ec1bdd50_c44b_11ea_83b5_0242ac1c0002row1_col6 {\n",
              "            background-color:  #f2c1cb;\n",
              "            color:  #000000;\n",
              "            max-width:  80px;\n",
              "            font-size:  10pt;\n",
              "        }    #T_ec1bdd50_c44b_11ea_83b5_0242ac1c0002row1_col7 {\n",
              "            background-color:  #d94462;\n",
              "            color:  #f1f1f1;\n",
              "            max-width:  80px;\n",
              "            font-size:  10pt;\n",
              "        }    #T_ec1bdd50_c44b_11ea_83b5_0242ac1c0002row1_col8 {\n",
              "            background-color:  #d94563;\n",
              "            color:  #f1f1f1;\n",
              "            max-width:  80px;\n",
              "            font-size:  10pt;\n",
              "        }    #T_ec1bdd50_c44b_11ea_83b5_0242ac1c0002row1_col9 {\n",
              "            background-color:  #d94462;\n",
              "            color:  #f1f1f1;\n",
              "            max-width:  80px;\n",
              "            font-size:  10pt;\n",
              "        }    #T_ec1bdd50_c44b_11ea_83b5_0242ac1c0002row1_col10 {\n",
              "            background-color:  #d94563;\n",
              "            color:  #f1f1f1;\n",
              "            max-width:  80px;\n",
              "            font-size:  10pt;\n",
              "        }    #T_ec1bdd50_c44b_11ea_83b5_0242ac1c0002row1_col11 {\n",
              "            background-color:  #da4865;\n",
              "            color:  #000000;\n",
              "            max-width:  80px;\n",
              "            font-size:  10pt;\n",
              "        }    #T_ec1bdd50_c44b_11ea_83b5_0242ac1c0002row1_col12 {\n",
              "            background-color:  #d73c5b;\n",
              "            color:  #f1f1f1;\n",
              "            max-width:  80px;\n",
              "            font-size:  10pt;\n",
              "        }    #T_ec1bdd50_c44b_11ea_83b5_0242ac1c0002row2_col0 {\n",
              "            background-color:  #d73c5b;\n",
              "            color:  #f1f1f1;\n",
              "            max-width:  80px;\n",
              "            font-size:  10pt;\n",
              "        }    #T_ec1bdd50_c44b_11ea_83b5_0242ac1c0002row2_col1 {\n",
              "            background-color:  #f2f2f2;\n",
              "            color:  #000000;\n",
              "            max-width:  80px;\n",
              "            font-size:  10pt;\n",
              "        }    #T_ec1bdd50_c44b_11ea_83b5_0242ac1c0002row2_col2 {\n",
              "            background-color:  #4479bb;\n",
              "            color:  #000000;\n",
              "            max-width:  80px;\n",
              "            font-size:  10pt;\n",
              "        }    #T_ec1bdd50_c44b_11ea_83b5_0242ac1c0002row2_col3 {\n",
              "            background-color:  #de5c76;\n",
              "            color:  #000000;\n",
              "            max-width:  80px;\n",
              "            font-size:  10pt;\n",
              "        }    #T_ec1bdd50_c44b_11ea_83b5_0242ac1c0002row2_col4 {\n",
              "            background-color:  #a2bcdd;\n",
              "            color:  #000000;\n",
              "            max-width:  80px;\n",
              "            font-size:  10pt;\n",
              "        }    #T_ec1bdd50_c44b_11ea_83b5_0242ac1c0002row2_col5 {\n",
              "            background-color:  #d94563;\n",
              "            color:  #f1f1f1;\n",
              "            max-width:  80px;\n",
              "            font-size:  10pt;\n",
              "        }    #T_ec1bdd50_c44b_11ea_83b5_0242ac1c0002row2_col6 {\n",
              "            background-color:  #f2f2f2;\n",
              "            color:  #000000;\n",
              "            max-width:  80px;\n",
              "            font-size:  10pt;\n",
              "        }    #T_ec1bdd50_c44b_11ea_83b5_0242ac1c0002row2_col7 {\n",
              "            background-color:  #de5f79;\n",
              "            color:  #000000;\n",
              "            max-width:  80px;\n",
              "            font-size:  10pt;\n",
              "        }    #T_ec1bdd50_c44b_11ea_83b5_0242ac1c0002row2_col8 {\n",
              "            background-color:  #df627b;\n",
              "            color:  #000000;\n",
              "            max-width:  80px;\n",
              "            font-size:  10pt;\n",
              "        }    #T_ec1bdd50_c44b_11ea_83b5_0242ac1c0002row2_col9 {\n",
              "            background-color:  #de5f79;\n",
              "            color:  #000000;\n",
              "            max-width:  80px;\n",
              "            font-size:  10pt;\n",
              "        }    #T_ec1bdd50_c44b_11ea_83b5_0242ac1c0002row2_col10 {\n",
              "            background-color:  #de5b75;\n",
              "            color:  #000000;\n",
              "            max-width:  80px;\n",
              "            font-size:  10pt;\n",
              "        }    #T_ec1bdd50_c44b_11ea_83b5_0242ac1c0002row2_col11 {\n",
              "            background-color:  #df637c;\n",
              "            color:  #000000;\n",
              "            max-width:  80px;\n",
              "            font-size:  10pt;\n",
              "        }    #T_ec1bdd50_c44b_11ea_83b5_0242ac1c0002row2_col12 {\n",
              "            background-color:  #d8415f;\n",
              "            color:  #f1f1f1;\n",
              "            max-width:  80px;\n",
              "            font-size:  10pt;\n",
              "        }    #T_ec1bdd50_c44b_11ea_83b5_0242ac1c0002row3_col0 {\n",
              "            background-color:  #d73d5c;\n",
              "            color:  #f1f1f1;\n",
              "            max-width:  80px;\n",
              "            font-size:  10pt;\n",
              "        }    #T_ec1bdd50_c44b_11ea_83b5_0242ac1c0002row3_col1 {\n",
              "            background-color:  #db4e6a;\n",
              "            color:  #000000;\n",
              "            max-width:  80px;\n",
              "            font-size:  10pt;\n",
              "        }    #T_ec1bdd50_c44b_11ea_83b5_0242ac1c0002row3_col2 {\n",
              "            background-color:  #dc5570;\n",
              "            color:  #000000;\n",
              "            max-width:  80px;\n",
              "            font-size:  10pt;\n",
              "        }    #T_ec1bdd50_c44b_11ea_83b5_0242ac1c0002row3_col3 {\n",
              "            background-color:  #4479bb;\n",
              "            color:  #000000;\n",
              "            max-width:  80px;\n",
              "            font-size:  10pt;\n",
              "        }    #T_ec1bdd50_c44b_11ea_83b5_0242ac1c0002row3_col4 {\n",
              "            background-color:  #dd5872;\n",
              "            color:  #000000;\n",
              "            max-width:  80px;\n",
              "            font-size:  10pt;\n",
              "        }    #T_ec1bdd50_c44b_11ea_83b5_0242ac1c0002row3_col5 {\n",
              "            background-color:  #d83e5d;\n",
              "            color:  #f1f1f1;\n",
              "            max-width:  80px;\n",
              "            font-size:  10pt;\n",
              "        }    #T_ec1bdd50_c44b_11ea_83b5_0242ac1c0002row3_col6 {\n",
              "            background-color:  #db4f6b;\n",
              "            color:  #000000;\n",
              "            max-width:  80px;\n",
              "            font-size:  10pt;\n",
              "        }    #T_ec1bdd50_c44b_11ea_83b5_0242ac1c0002row3_col7 {\n",
              "            background-color:  #e68699;\n",
              "            color:  #000000;\n",
              "            max-width:  80px;\n",
              "            font-size:  10pt;\n",
              "        }    #T_ec1bdd50_c44b_11ea_83b5_0242ac1c0002row3_col8 {\n",
              "            background-color:  #e7899c;\n",
              "            color:  #000000;\n",
              "            max-width:  80px;\n",
              "            font-size:  10pt;\n",
              "        }    #T_ec1bdd50_c44b_11ea_83b5_0242ac1c0002row3_col9 {\n",
              "            background-color:  #e68699;\n",
              "            color:  #000000;\n",
              "            max-width:  80px;\n",
              "            font-size:  10pt;\n",
              "        }    #T_ec1bdd50_c44b_11ea_83b5_0242ac1c0002row3_col10 {\n",
              "            background-color:  #e58094;\n",
              "            color:  #000000;\n",
              "            max-width:  80px;\n",
              "            font-size:  10pt;\n",
              "        }    #T_ec1bdd50_c44b_11ea_83b5_0242ac1c0002row3_col11 {\n",
              "            background-color:  #e58195;\n",
              "            color:  #000000;\n",
              "            max-width:  80px;\n",
              "            font-size:  10pt;\n",
              "        }    #T_ec1bdd50_c44b_11ea_83b5_0242ac1c0002row3_col12 {\n",
              "            background-color:  #d73c5b;\n",
              "            color:  #f1f1f1;\n",
              "            max-width:  80px;\n",
              "            font-size:  10pt;\n",
              "        }    #T_ec1bdd50_c44b_11ea_83b5_0242ac1c0002row4_col0 {\n",
              "            background-color:  #dc526e;\n",
              "            color:  #000000;\n",
              "            max-width:  80px;\n",
              "            font-size:  10pt;\n",
              "        }    #T_ec1bdd50_c44b_11ea_83b5_0242ac1c0002row4_col1 {\n",
              "            background-color:  #f2f2f2;\n",
              "            color:  #000000;\n",
              "            max-width:  80px;\n",
              "            font-size:  10pt;\n",
              "        }    #T_ec1bdd50_c44b_11ea_83b5_0242ac1c0002row4_col2 {\n",
              "            background-color:  #a2bcdd;\n",
              "            color:  #000000;\n",
              "            max-width:  80px;\n",
              "            font-size:  10pt;\n",
              "        }    #T_ec1bdd50_c44b_11ea_83b5_0242ac1c0002row4_col3 {\n",
              "            background-color:  #de5c76;\n",
              "            color:  #000000;\n",
              "            max-width:  80px;\n",
              "            font-size:  10pt;\n",
              "        }    #T_ec1bdd50_c44b_11ea_83b5_0242ac1c0002row4_col4 {\n",
              "            background-color:  #4479bb;\n",
              "            color:  #000000;\n",
              "            max-width:  80px;\n",
              "            font-size:  10pt;\n",
              "        }    #T_ec1bdd50_c44b_11ea_83b5_0242ac1c0002row4_col5 {\n",
              "            background-color:  #d94462;\n",
              "            color:  #f1f1f1;\n",
              "            max-width:  80px;\n",
              "            font-size:  10pt;\n",
              "        }    #T_ec1bdd50_c44b_11ea_83b5_0242ac1c0002row4_col6 {\n",
              "            background-color:  #b3c9e3;\n",
              "            color:  #000000;\n",
              "            max-width:  80px;\n",
              "            font-size:  10pt;\n",
              "        }    #T_ec1bdd50_c44b_11ea_83b5_0242ac1c0002row4_col7 {\n",
              "            background-color:  #d73c5b;\n",
              "            color:  #f1f1f1;\n",
              "            max-width:  80px;\n",
              "            font-size:  10pt;\n",
              "        }    #T_ec1bdd50_c44b_11ea_83b5_0242ac1c0002row4_col8 {\n",
              "            background-color:  #d73c5b;\n",
              "            color:  #f1f1f1;\n",
              "            max-width:  80px;\n",
              "            font-size:  10pt;\n",
              "        }    #T_ec1bdd50_c44b_11ea_83b5_0242ac1c0002row4_col9 {\n",
              "            background-color:  #d73c5b;\n",
              "            color:  #f1f1f1;\n",
              "            max-width:  80px;\n",
              "            font-size:  10pt;\n",
              "        }    #T_ec1bdd50_c44b_11ea_83b5_0242ac1c0002row4_col10 {\n",
              "            background-color:  #d73c5b;\n",
              "            color:  #f1f1f1;\n",
              "            max-width:  80px;\n",
              "            font-size:  10pt;\n",
              "        }    #T_ec1bdd50_c44b_11ea_83b5_0242ac1c0002row4_col11 {\n",
              "            background-color:  #d8415f;\n",
              "            color:  #f1f1f1;\n",
              "            max-width:  80px;\n",
              "            font-size:  10pt;\n",
              "        }    #T_ec1bdd50_c44b_11ea_83b5_0242ac1c0002row4_col12 {\n",
              "            background-color:  #d8405e;\n",
              "            color:  #f1f1f1;\n",
              "            max-width:  80px;\n",
              "            font-size:  10pt;\n",
              "        }    #T_ec1bdd50_c44b_11ea_83b5_0242ac1c0002row5_col0 {\n",
              "            background-color:  #d83e5d;\n",
              "            color:  #f1f1f1;\n",
              "            max-width:  80px;\n",
              "            font-size:  10pt;\n",
              "        }    #T_ec1bdd50_c44b_11ea_83b5_0242ac1c0002row5_col1 {\n",
              "            background-color:  #d73d5c;\n",
              "            color:  #f1f1f1;\n",
              "            max-width:  80px;\n",
              "            font-size:  10pt;\n",
              "        }    #T_ec1bdd50_c44b_11ea_83b5_0242ac1c0002row5_col2 {\n",
              "            background-color:  #d73d5c;\n",
              "            color:  #f1f1f1;\n",
              "            max-width:  80px;\n",
              "            font-size:  10pt;\n",
              "        }    #T_ec1bdd50_c44b_11ea_83b5_0242ac1c0002row5_col3 {\n",
              "            background-color:  #d83e5d;\n",
              "            color:  #f1f1f1;\n",
              "            max-width:  80px;\n",
              "            font-size:  10pt;\n",
              "        }    #T_ec1bdd50_c44b_11ea_83b5_0242ac1c0002row5_col4 {\n",
              "            background-color:  #d73d5c;\n",
              "            color:  #f1f1f1;\n",
              "            max-width:  80px;\n",
              "            font-size:  10pt;\n",
              "        }    #T_ec1bdd50_c44b_11ea_83b5_0242ac1c0002row5_col5 {\n",
              "            background-color:  #4479bb;\n",
              "            color:  #000000;\n",
              "            max-width:  80px;\n",
              "            font-size:  10pt;\n",
              "        }    #T_ec1bdd50_c44b_11ea_83b5_0242ac1c0002row5_col6 {\n",
              "            background-color:  #d8405e;\n",
              "            color:  #f1f1f1;\n",
              "            max-width:  80px;\n",
              "            font-size:  10pt;\n",
              "        }    #T_ec1bdd50_c44b_11ea_83b5_0242ac1c0002row5_col7 {\n",
              "            background-color:  #d83e5d;\n",
              "            color:  #f1f1f1;\n",
              "            max-width:  80px;\n",
              "            font-size:  10pt;\n",
              "        }    #T_ec1bdd50_c44b_11ea_83b5_0242ac1c0002row5_col8 {\n",
              "            background-color:  #d83e5d;\n",
              "            color:  #f1f1f1;\n",
              "            max-width:  80px;\n",
              "            font-size:  10pt;\n",
              "        }    #T_ec1bdd50_c44b_11ea_83b5_0242ac1c0002row5_col9 {\n",
              "            background-color:  #d83e5d;\n",
              "            color:  #f1f1f1;\n",
              "            max-width:  80px;\n",
              "            font-size:  10pt;\n",
              "        }    #T_ec1bdd50_c44b_11ea_83b5_0242ac1c0002row5_col10 {\n",
              "            background-color:  #d83e5d;\n",
              "            color:  #f1f1f1;\n",
              "            max-width:  80px;\n",
              "            font-size:  10pt;\n",
              "        }    #T_ec1bdd50_c44b_11ea_83b5_0242ac1c0002row5_col11 {\n",
              "            background-color:  #d8405e;\n",
              "            color:  #f1f1f1;\n",
              "            max-width:  80px;\n",
              "            font-size:  10pt;\n",
              "        }    #T_ec1bdd50_c44b_11ea_83b5_0242ac1c0002row5_col12 {\n",
              "            background-color:  #d73c5b;\n",
              "            color:  #f1f1f1;\n",
              "            max-width:  80px;\n",
              "            font-size:  10pt;\n",
              "        }    #T_ec1bdd50_c44b_11ea_83b5_0242ac1c0002row6_col0 {\n",
              "            background-color:  #db4d69;\n",
              "            color:  #000000;\n",
              "            max-width:  80px;\n",
              "            font-size:  10pt;\n",
              "        }    #T_ec1bdd50_c44b_11ea_83b5_0242ac1c0002row6_col1 {\n",
              "            background-color:  #f3c2cc;\n",
              "            color:  #000000;\n",
              "            max-width:  80px;\n",
              "            font-size:  10pt;\n",
              "        }    #T_ec1bdd50_c44b_11ea_83b5_0242ac1c0002row6_col2 {\n",
              "            background-color:  #f2f2f2;\n",
              "            color:  #000000;\n",
              "            max-width:  80px;\n",
              "            font-size:  10pt;\n",
              "        }    #T_ec1bdd50_c44b_11ea_83b5_0242ac1c0002row6_col3 {\n",
              "            background-color:  #dc5570;\n",
              "            color:  #000000;\n",
              "            max-width:  80px;\n",
              "            font-size:  10pt;\n",
              "        }    #T_ec1bdd50_c44b_11ea_83b5_0242ac1c0002row6_col4 {\n",
              "            background-color:  #b3c9e3;\n",
              "            color:  #000000;\n",
              "            max-width:  80px;\n",
              "            font-size:  10pt;\n",
              "        }    #T_ec1bdd50_c44b_11ea_83b5_0242ac1c0002row6_col5 {\n",
              "            background-color:  #d94764;\n",
              "            color:  #f1f1f1;\n",
              "            max-width:  80px;\n",
              "            font-size:  10pt;\n",
              "        }    #T_ec1bdd50_c44b_11ea_83b5_0242ac1c0002row6_col6 {\n",
              "            background-color:  #4479bb;\n",
              "            color:  #000000;\n",
              "            max-width:  80px;\n",
              "            font-size:  10pt;\n",
              "        }    #T_ec1bdd50_c44b_11ea_83b5_0242ac1c0002row6_col7 {\n",
              "            background-color:  #d73c5b;\n",
              "            color:  #f1f1f1;\n",
              "            max-width:  80px;\n",
              "            font-size:  10pt;\n",
              "        }    #T_ec1bdd50_c44b_11ea_83b5_0242ac1c0002row6_col8 {\n",
              "            background-color:  #d73c5b;\n",
              "            color:  #f1f1f1;\n",
              "            max-width:  80px;\n",
              "            font-size:  10pt;\n",
              "        }    #T_ec1bdd50_c44b_11ea_83b5_0242ac1c0002row6_col9 {\n",
              "            background-color:  #d73c5b;\n",
              "            color:  #f1f1f1;\n",
              "            max-width:  80px;\n",
              "            font-size:  10pt;\n",
              "        }    #T_ec1bdd50_c44b_11ea_83b5_0242ac1c0002row6_col10 {\n",
              "            background-color:  #d73d5c;\n",
              "            color:  #f1f1f1;\n",
              "            max-width:  80px;\n",
              "            font-size:  10pt;\n",
              "        }    #T_ec1bdd50_c44b_11ea_83b5_0242ac1c0002row6_col11 {\n",
              "            background-color:  #d8405e;\n",
              "            color:  #f1f1f1;\n",
              "            max-width:  80px;\n",
              "            font-size:  10pt;\n",
              "        }    #T_ec1bdd50_c44b_11ea_83b5_0242ac1c0002row6_col12 {\n",
              "            background-color:  #d73c5b;\n",
              "            color:  #f1f1f1;\n",
              "            max-width:  80px;\n",
              "            font-size:  10pt;\n",
              "        }    #T_ec1bdd50_c44b_11ea_83b5_0242ac1c0002row7_col0 {\n",
              "            background-color:  #da4966;\n",
              "            color:  #000000;\n",
              "            max-width:  80px;\n",
              "            font-size:  10pt;\n",
              "        }    #T_ec1bdd50_c44b_11ea_83b5_0242ac1c0002row7_col1 {\n",
              "            background-color:  #de5b75;\n",
              "            color:  #000000;\n",
              "            max-width:  80px;\n",
              "            font-size:  10pt;\n",
              "        }    #T_ec1bdd50_c44b_11ea_83b5_0242ac1c0002row7_col2 {\n",
              "            background-color:  #e27288;\n",
              "            color:  #000000;\n",
              "            max-width:  80px;\n",
              "            font-size:  10pt;\n",
              "        }    #T_ec1bdd50_c44b_11ea_83b5_0242ac1c0002row7_col3 {\n",
              "            background-color:  #eb9bab;\n",
              "            color:  #000000;\n",
              "            max-width:  80px;\n",
              "            font-size:  10pt;\n",
              "        }    #T_ec1bdd50_c44b_11ea_83b5_0242ac1c0002row7_col4 {\n",
              "            background-color:  #dc516d;\n",
              "            color:  #000000;\n",
              "            max-width:  80px;\n",
              "            font-size:  10pt;\n",
              "        }    #T_ec1bdd50_c44b_11ea_83b5_0242ac1c0002row7_col5 {\n",
              "            background-color:  #de5b75;\n",
              "            color:  #000000;\n",
              "            max-width:  80px;\n",
              "            font-size:  10pt;\n",
              "        }    #T_ec1bdd50_c44b_11ea_83b5_0242ac1c0002row7_col6 {\n",
              "            background-color:  #dc516d;\n",
              "            color:  #000000;\n",
              "            max-width:  80px;\n",
              "            font-size:  10pt;\n",
              "        }    #T_ec1bdd50_c44b_11ea_83b5_0242ac1c0002row7_col7 {\n",
              "            background-color:  #4479bb;\n",
              "            color:  #000000;\n",
              "            max-width:  80px;\n",
              "            font-size:  10pt;\n",
              "        }    #T_ec1bdd50_c44b_11ea_83b5_0242ac1c0002row7_col8 {\n",
              "            background-color:  #477bbc;\n",
              "            color:  #000000;\n",
              "            max-width:  80px;\n",
              "            font-size:  10pt;\n",
              "        }    #T_ec1bdd50_c44b_11ea_83b5_0242ac1c0002row7_col9 {\n",
              "            background-color:  #457abb;\n",
              "            color:  #000000;\n",
              "            max-width:  80px;\n",
              "            font-size:  10pt;\n",
              "        }    #T_ec1bdd50_c44b_11ea_83b5_0242ac1c0002row7_col10 {\n",
              "            background-color:  #5f8cc5;\n",
              "            color:  #000000;\n",
              "            max-width:  80px;\n",
              "            font-size:  10pt;\n",
              "        }    #T_ec1bdd50_c44b_11ea_83b5_0242ac1c0002row7_col11 {\n",
              "            background-color:  #5686c1;\n",
              "            color:  #000000;\n",
              "            max-width:  80px;\n",
              "            font-size:  10pt;\n",
              "        }    #T_ec1bdd50_c44b_11ea_83b5_0242ac1c0002row7_col12 {\n",
              "            background-color:  #d73c5b;\n",
              "            color:  #f1f1f1;\n",
              "            max-width:  80px;\n",
              "            font-size:  10pt;\n",
              "        }    #T_ec1bdd50_c44b_11ea_83b5_0242ac1c0002row8_col0 {\n",
              "            background-color:  #d94764;\n",
              "            color:  #f1f1f1;\n",
              "            max-width:  80px;\n",
              "            font-size:  10pt;\n",
              "        }    #T_ec1bdd50_c44b_11ea_83b5_0242ac1c0002row8_col1 {\n",
              "            background-color:  #dd5a74;\n",
              "            color:  #000000;\n",
              "            max-width:  80px;\n",
              "            font-size:  10pt;\n",
              "        }    #T_ec1bdd50_c44b_11ea_83b5_0242ac1c0002row8_col2 {\n",
              "            background-color:  #e27087;\n",
              "            color:  #000000;\n",
              "            max-width:  80px;\n",
              "            font-size:  10pt;\n",
              "        }    #T_ec1bdd50_c44b_11ea_83b5_0242ac1c0002row8_col3 {\n",
              "            background-color:  #eb9bab;\n",
              "            color:  #000000;\n",
              "            max-width:  80px;\n",
              "            font-size:  10pt;\n",
              "        }    #T_ec1bdd50_c44b_11ea_83b5_0242ac1c0002row8_col4 {\n",
              "            background-color:  #db4e6a;\n",
              "            color:  #000000;\n",
              "            max-width:  80px;\n",
              "            font-size:  10pt;\n",
              "        }    #T_ec1bdd50_c44b_11ea_83b5_0242ac1c0002row8_col5 {\n",
              "            background-color:  #dd5671;\n",
              "            color:  #000000;\n",
              "            max-width:  80px;\n",
              "            font-size:  10pt;\n",
              "        }    #T_ec1bdd50_c44b_11ea_83b5_0242ac1c0002row8_col6 {\n",
              "            background-color:  #db4e6a;\n",
              "            color:  #000000;\n",
              "            max-width:  80px;\n",
              "            font-size:  10pt;\n",
              "        }    #T_ec1bdd50_c44b_11ea_83b5_0242ac1c0002row8_col7 {\n",
              "            background-color:  #477bbc;\n",
              "            color:  #000000;\n",
              "            max-width:  80px;\n",
              "            font-size:  10pt;\n",
              "        }    #T_ec1bdd50_c44b_11ea_83b5_0242ac1c0002row8_col8 {\n",
              "            background-color:  #4479bb;\n",
              "            color:  #000000;\n",
              "            max-width:  80px;\n",
              "            font-size:  10pt;\n",
              "        }    #T_ec1bdd50_c44b_11ea_83b5_0242ac1c0002row8_col9 {\n",
              "            background-color:  #477bbc;\n",
              "            color:  #000000;\n",
              "            max-width:  80px;\n",
              "            font-size:  10pt;\n",
              "        }    #T_ec1bdd50_c44b_11ea_83b5_0242ac1c0002row8_col10 {\n",
              "            background-color:  #6490c6;\n",
              "            color:  #000000;\n",
              "            max-width:  80px;\n",
              "            font-size:  10pt;\n",
              "        }    #T_ec1bdd50_c44b_11ea_83b5_0242ac1c0002row8_col11 {\n",
              "            background-color:  #5787c2;\n",
              "            color:  #000000;\n",
              "            max-width:  80px;\n",
              "            font-size:  10pt;\n",
              "        }    #T_ec1bdd50_c44b_11ea_83b5_0242ac1c0002row8_col12 {\n",
              "            background-color:  #d73c5b;\n",
              "            color:  #f1f1f1;\n",
              "            max-width:  80px;\n",
              "            font-size:  10pt;\n",
              "        }    #T_ec1bdd50_c44b_11ea_83b5_0242ac1c0002row9_col0 {\n",
              "            background-color:  #d73c5b;\n",
              "            color:  #f1f1f1;\n",
              "            max-width:  80px;\n",
              "            font-size:  10pt;\n",
              "        }    #T_ec1bdd50_c44b_11ea_83b5_0242ac1c0002row9_col1 {\n",
              "            background-color:  #da4b68;\n",
              "            color:  #000000;\n",
              "            max-width:  80px;\n",
              "            font-size:  10pt;\n",
              "        }    #T_ec1bdd50_c44b_11ea_83b5_0242ac1c0002row9_col2 {\n",
              "            background-color:  #df637c;\n",
              "            color:  #000000;\n",
              "            max-width:  80px;\n",
              "            font-size:  10pt;\n",
              "        }    #T_ec1bdd50_c44b_11ea_83b5_0242ac1c0002row9_col3 {\n",
              "            background-color:  #e890a1;\n",
              "            color:  #000000;\n",
              "            max-width:  80px;\n",
              "            font-size:  10pt;\n",
              "        }    #T_ec1bdd50_c44b_11ea_83b5_0242ac1c0002row9_col4 {\n",
              "            background-color:  #d8415f;\n",
              "            color:  #f1f1f1;\n",
              "            max-width:  80px;\n",
              "            font-size:  10pt;\n",
              "        }    #T_ec1bdd50_c44b_11ea_83b5_0242ac1c0002row9_col5 {\n",
              "            background-color:  #da4b68;\n",
              "            color:  #000000;\n",
              "            max-width:  80px;\n",
              "            font-size:  10pt;\n",
              "        }    #T_ec1bdd50_c44b_11ea_83b5_0242ac1c0002row9_col6 {\n",
              "            background-color:  #d8415f;\n",
              "            color:  #f1f1f1;\n",
              "            max-width:  80px;\n",
              "            font-size:  10pt;\n",
              "        }    #T_ec1bdd50_c44b_11ea_83b5_0242ac1c0002row9_col7 {\n",
              "            background-color:  #457abb;\n",
              "            color:  #000000;\n",
              "            max-width:  80px;\n",
              "            font-size:  10pt;\n",
              "        }    #T_ec1bdd50_c44b_11ea_83b5_0242ac1c0002row9_col8 {\n",
              "            background-color:  #477bbc;\n",
              "            color:  #000000;\n",
              "            max-width:  80px;\n",
              "            font-size:  10pt;\n",
              "        }    #T_ec1bdd50_c44b_11ea_83b5_0242ac1c0002row9_col9 {\n",
              "            background-color:  #4479bb;\n",
              "            color:  #000000;\n",
              "            max-width:  80px;\n",
              "            font-size:  10pt;\n",
              "        }    #T_ec1bdd50_c44b_11ea_83b5_0242ac1c0002row9_col10 {\n",
              "            background-color:  #6590c7;\n",
              "            color:  #000000;\n",
              "            max-width:  80px;\n",
              "            font-size:  10pt;\n",
              "        }    #T_ec1bdd50_c44b_11ea_83b5_0242ac1c0002row9_col11 {\n",
              "            background-color:  #5686c1;\n",
              "            color:  #000000;\n",
              "            max-width:  80px;\n",
              "            font-size:  10pt;\n",
              "        }    #T_ec1bdd50_c44b_11ea_83b5_0242ac1c0002row9_col12 {\n",
              "            background-color:  #d73d5c;\n",
              "            color:  #f1f1f1;\n",
              "            max-width:  80px;\n",
              "            font-size:  10pt;\n",
              "        }    #T_ec1bdd50_c44b_11ea_83b5_0242ac1c0002row10_col0 {\n",
              "            background-color:  #dc5570;\n",
              "            color:  #000000;\n",
              "            max-width:  80px;\n",
              "            font-size:  10pt;\n",
              "        }    #T_ec1bdd50_c44b_11ea_83b5_0242ac1c0002row10_col1 {\n",
              "            background-color:  #e0667e;\n",
              "            color:  #000000;\n",
              "            max-width:  80px;\n",
              "            font-size:  10pt;\n",
              "        }    #T_ec1bdd50_c44b_11ea_83b5_0242ac1c0002row10_col2 {\n",
              "            background-color:  #e3768c;\n",
              "            color:  #000000;\n",
              "            max-width:  80px;\n",
              "            font-size:  10pt;\n",
              "        }    #T_ec1bdd50_c44b_11ea_83b5_0242ac1c0002row10_col3 {\n",
              "            background-color:  #eb9ead;\n",
              "            color:  #000000;\n",
              "            max-width:  80px;\n",
              "            font-size:  10pt;\n",
              "        }    #T_ec1bdd50_c44b_11ea_83b5_0242ac1c0002row10_col4 {\n",
              "            background-color:  #de5b75;\n",
              "            color:  #000000;\n",
              "            max-width:  80px;\n",
              "            font-size:  10pt;\n",
              "        }    #T_ec1bdd50_c44b_11ea_83b5_0242ac1c0002row10_col5 {\n",
              "            background-color:  #df637c;\n",
              "            color:  #000000;\n",
              "            max-width:  80px;\n",
              "            font-size:  10pt;\n",
              "        }    #T_ec1bdd50_c44b_11ea_83b5_0242ac1c0002row10_col6 {\n",
              "            background-color:  #de5c76;\n",
              "            color:  #000000;\n",
              "            max-width:  80px;\n",
              "            font-size:  10pt;\n",
              "        }    #T_ec1bdd50_c44b_11ea_83b5_0242ac1c0002row10_col7 {\n",
              "            background-color:  #5f8cc5;\n",
              "            color:  #000000;\n",
              "            max-width:  80px;\n",
              "            font-size:  10pt;\n",
              "        }    #T_ec1bdd50_c44b_11ea_83b5_0242ac1c0002row10_col8 {\n",
              "            background-color:  #628fc6;\n",
              "            color:  #000000;\n",
              "            max-width:  80px;\n",
              "            font-size:  10pt;\n",
              "        }    #T_ec1bdd50_c44b_11ea_83b5_0242ac1c0002row10_col9 {\n",
              "            background-color:  #6490c6;\n",
              "            color:  #000000;\n",
              "            max-width:  80px;\n",
              "            font-size:  10pt;\n",
              "        }    #T_ec1bdd50_c44b_11ea_83b5_0242ac1c0002row10_col10 {\n",
              "            background-color:  #4479bb;\n",
              "            color:  #000000;\n",
              "            max-width:  80px;\n",
              "            font-size:  10pt;\n",
              "        }    #T_ec1bdd50_c44b_11ea_83b5_0242ac1c0002row10_col11 {\n",
              "            background-color:  #7ba0cf;\n",
              "            color:  #000000;\n",
              "            max-width:  80px;\n",
              "            font-size:  10pt;\n",
              "        }    #T_ec1bdd50_c44b_11ea_83b5_0242ac1c0002row10_col12 {\n",
              "            background-color:  #d73c5b;\n",
              "            color:  #f1f1f1;\n",
              "            max-width:  80px;\n",
              "            font-size:  10pt;\n",
              "        }    #T_ec1bdd50_c44b_11ea_83b5_0242ac1c0002row11_col0 {\n",
              "            background-color:  #d8405e;\n",
              "            color:  #f1f1f1;\n",
              "            max-width:  80px;\n",
              "            font-size:  10pt;\n",
              "        }    #T_ec1bdd50_c44b_11ea_83b5_0242ac1c0002row11_col1 {\n",
              "            background-color:  #dd5671;\n",
              "            color:  #000000;\n",
              "            max-width:  80px;\n",
              "            font-size:  10pt;\n",
              "        }    #T_ec1bdd50_c44b_11ea_83b5_0242ac1c0002row11_col2 {\n",
              "            background-color:  #e16d85;\n",
              "            color:  #000000;\n",
              "            max-width:  80px;\n",
              "            font-size:  10pt;\n",
              "        }    #T_ec1bdd50_c44b_11ea_83b5_0242ac1c0002row11_col3 {\n",
              "            background-color:  #e991a3;\n",
              "            color:  #000000;\n",
              "            max-width:  80px;\n",
              "            font-size:  10pt;\n",
              "        }    #T_ec1bdd50_c44b_11ea_83b5_0242ac1c0002row11_col4 {\n",
              "            background-color:  #db4e6a;\n",
              "            color:  #000000;\n",
              "            max-width:  80px;\n",
              "            font-size:  10pt;\n",
              "        }    #T_ec1bdd50_c44b_11ea_83b5_0242ac1c0002row11_col5 {\n",
              "            background-color:  #dc546f;\n",
              "            color:  #000000;\n",
              "            max-width:  80px;\n",
              "            font-size:  10pt;\n",
              "        }    #T_ec1bdd50_c44b_11ea_83b5_0242ac1c0002row11_col6 {\n",
              "            background-color:  #db4d69;\n",
              "            color:  #000000;\n",
              "            max-width:  80px;\n",
              "            font-size:  10pt;\n",
              "        }    #T_ec1bdd50_c44b_11ea_83b5_0242ac1c0002row11_col7 {\n",
              "            background-color:  #5686c1;\n",
              "            color:  #000000;\n",
              "            max-width:  80px;\n",
              "            font-size:  10pt;\n",
              "        }    #T_ec1bdd50_c44b_11ea_83b5_0242ac1c0002row11_col8 {\n",
              "            background-color:  #5787c2;\n",
              "            color:  #000000;\n",
              "            max-width:  80px;\n",
              "            font-size:  10pt;\n",
              "        }    #T_ec1bdd50_c44b_11ea_83b5_0242ac1c0002row11_col9 {\n",
              "            background-color:  #5686c1;\n",
              "            color:  #000000;\n",
              "            max-width:  80px;\n",
              "            font-size:  10pt;\n",
              "        }    #T_ec1bdd50_c44b_11ea_83b5_0242ac1c0002row11_col10 {\n",
              "            background-color:  #7ea2d0;\n",
              "            color:  #000000;\n",
              "            max-width:  80px;\n",
              "            font-size:  10pt;\n",
              "        }    #T_ec1bdd50_c44b_11ea_83b5_0242ac1c0002row11_col11 {\n",
              "            background-color:  #4479bb;\n",
              "            color:  #000000;\n",
              "            max-width:  80px;\n",
              "            font-size:  10pt;\n",
              "        }    #T_ec1bdd50_c44b_11ea_83b5_0242ac1c0002row11_col12 {\n",
              "            background-color:  #d73c5b;\n",
              "            color:  #f1f1f1;\n",
              "            max-width:  80px;\n",
              "            font-size:  10pt;\n",
              "        }    #T_ec1bdd50_c44b_11ea_83b5_0242ac1c0002row12_col0 {\n",
              "            background-color:  #e06880;\n",
              "            color:  #000000;\n",
              "            max-width:  80px;\n",
              "            font-size:  10pt;\n",
              "        }    #T_ec1bdd50_c44b_11ea_83b5_0242ac1c0002row12_col1 {\n",
              "            background-color:  #de5c76;\n",
              "            color:  #000000;\n",
              "            max-width:  80px;\n",
              "            font-size:  10pt;\n",
              "        }    #T_ec1bdd50_c44b_11ea_83b5_0242ac1c0002row12_col2 {\n",
              "            background-color:  #de5f79;\n",
              "            color:  #000000;\n",
              "            max-width:  80px;\n",
              "            font-size:  10pt;\n",
              "        }    #T_ec1bdd50_c44b_11ea_83b5_0242ac1c0002row12_col3 {\n",
              "            background-color:  #de5f79;\n",
              "            color:  #000000;\n",
              "            max-width:  80px;\n",
              "            font-size:  10pt;\n",
              "        }    #T_ec1bdd50_c44b_11ea_83b5_0242ac1c0002row12_col4 {\n",
              "            background-color:  #de5f79;\n",
              "            color:  #000000;\n",
              "            max-width:  80px;\n",
              "            font-size:  10pt;\n",
              "        }    #T_ec1bdd50_c44b_11ea_83b5_0242ac1c0002row12_col5 {\n",
              "            background-color:  #df617a;\n",
              "            color:  #000000;\n",
              "            max-width:  80px;\n",
              "            font-size:  10pt;\n",
              "        }    #T_ec1bdd50_c44b_11ea_83b5_0242ac1c0002row12_col6 {\n",
              "            background-color:  #de5c76;\n",
              "            color:  #000000;\n",
              "            max-width:  80px;\n",
              "            font-size:  10pt;\n",
              "        }    #T_ec1bdd50_c44b_11ea_83b5_0242ac1c0002row12_col7 {\n",
              "            background-color:  #d94563;\n",
              "            color:  #f1f1f1;\n",
              "            max-width:  80px;\n",
              "            font-size:  10pt;\n",
              "        }    #T_ec1bdd50_c44b_11ea_83b5_0242ac1c0002row12_col8 {\n",
              "            background-color:  #da4865;\n",
              "            color:  #000000;\n",
              "            max-width:  80px;\n",
              "            font-size:  10pt;\n",
              "        }    #T_ec1bdd50_c44b_11ea_83b5_0242ac1c0002row12_col9 {\n",
              "            background-color:  #dd5671;\n",
              "            color:  #000000;\n",
              "            max-width:  80px;\n",
              "            font-size:  10pt;\n",
              "        }    #T_ec1bdd50_c44b_11ea_83b5_0242ac1c0002row12_col10 {\n",
              "            background-color:  #d73c5b;\n",
              "            color:  #f1f1f1;\n",
              "            max-width:  80px;\n",
              "            font-size:  10pt;\n",
              "        }    #T_ec1bdd50_c44b_11ea_83b5_0242ac1c0002row12_col11 {\n",
              "            background-color:  #db4e6a;\n",
              "            color:  #000000;\n",
              "            max-width:  80px;\n",
              "            font-size:  10pt;\n",
              "        }    #T_ec1bdd50_c44b_11ea_83b5_0242ac1c0002row12_col12 {\n",
              "            background-color:  #4479bb;\n",
              "            color:  #000000;\n",
              "            max-width:  80px;\n",
              "            font-size:  10pt;\n",
              "        }</style><table id=\"T_ec1bdd50_c44b_11ea_83b5_0242ac1c0002\" ><caption>Hover to magify</caption><thead>    <tr>        <th class=\"blank level0\" ></th>        <th class=\"col_heading level0 col0\" >condition</th>        <th class=\"col_heading level0 col1\" >easeofuse</th>        <th class=\"col_heading level0 col2\" >effectiveness</th>        <th class=\"col_heading level0 col3\" >usefulcount</th>        <th class=\"col_heading level0 col4\" >satisfaction</th>        <th class=\"col_heading level0 col5\" >uniqueid</th>        <th class=\"col_heading level0 col6\" >lstm_score</th>        <th class=\"col_heading level0 col7\" >count_word</th>        <th class=\"col_heading level0 col8\" >count_unique_word</th>        <th class=\"col_heading level0 col9\" >count_letters</th>        <th class=\"col_heading level0 col10\" >count_punctuations</th>        <th class=\"col_heading level0 col11\" >count_stopwords</th>        <th class=\"col_heading level0 col12\" >mean_word_len</th>    </tr></thead><tbody>\n",
              "                <tr>\n",
              "                        <th id=\"T_ec1bdd50_c44b_11ea_83b5_0242ac1c0002level0_row0\" class=\"row_heading level0 row0\" >condition</th>\n",
              "                        <td id=\"T_ec1bdd50_c44b_11ea_83b5_0242ac1c0002row0_col0\" class=\"data row0 col0\" >1.00</td>\n",
              "                        <td id=\"T_ec1bdd50_c44b_11ea_83b5_0242ac1c0002row0_col1\" class=\"data row0 col1\" >-0.02</td>\n",
              "                        <td id=\"T_ec1bdd50_c44b_11ea_83b5_0242ac1c0002row0_col2\" class=\"data row0 col2\" >-0.03</td>\n",
              "                        <td id=\"T_ec1bdd50_c44b_11ea_83b5_0242ac1c0002row0_col3\" class=\"data row0 col3\" >-0.01</td>\n",
              "                        <td id=\"T_ec1bdd50_c44b_11ea_83b5_0242ac1c0002row0_col4\" class=\"data row0 col4\" >0.04</td>\n",
              "                        <td id=\"T_ec1bdd50_c44b_11ea_83b5_0242ac1c0002row0_col5\" class=\"data row0 col5\" >0.00</td>\n",
              "                        <td id=\"T_ec1bdd50_c44b_11ea_83b5_0242ac1c0002row0_col6\" class=\"data row0 col6\" >0.02</td>\n",
              "                        <td id=\"T_ec1bdd50_c44b_11ea_83b5_0242ac1c0002row0_col7\" class=\"data row0 col7\" >-0.05</td>\n",
              "                        <td id=\"T_ec1bdd50_c44b_11ea_83b5_0242ac1c0002row0_col8\" class=\"data row0 col8\" >-0.05</td>\n",
              "                        <td id=\"T_ec1bdd50_c44b_11ea_83b5_0242ac1c0002row0_col9\" class=\"data row0 col9\" >-0.04</td>\n",
              "                        <td id=\"T_ec1bdd50_c44b_11ea_83b5_0242ac1c0002row0_col10\" class=\"data row0 col10\" >-0.04</td>\n",
              "                        <td id=\"T_ec1bdd50_c44b_11ea_83b5_0242ac1c0002row0_col11\" class=\"data row0 col11\" >-0.05</td>\n",
              "                        <td id=\"T_ec1bdd50_c44b_11ea_83b5_0242ac1c0002row0_col12\" class=\"data row0 col12\" >0.01</td>\n",
              "            </tr>\n",
              "            <tr>\n",
              "                        <th id=\"T_ec1bdd50_c44b_11ea_83b5_0242ac1c0002level0_row1\" class=\"row_heading level0 row1\" >easeofuse</th>\n",
              "                        <td id=\"T_ec1bdd50_c44b_11ea_83b5_0242ac1c0002row1_col0\" class=\"data row1 col0\" >-0.02</td>\n",
              "                        <td id=\"T_ec1bdd50_c44b_11ea_83b5_0242ac1c0002row1_col1\" class=\"data row1 col1\" >1.00</td>\n",
              "                        <td id=\"T_ec1bdd50_c44b_11ea_83b5_0242ac1c0002row1_col2\" class=\"data row1 col2\" >0.47</td>\n",
              "                        <td id=\"T_ec1bdd50_c44b_11ea_83b5_0242ac1c0002row1_col3\" class=\"data row1 col3\" >0.04</td>\n",
              "                        <td id=\"T_ec1bdd50_c44b_11ea_83b5_0242ac1c0002row1_col4\" class=\"data row1 col4\" >0.49</td>\n",
              "                        <td id=\"T_ec1bdd50_c44b_11ea_83b5_0242ac1c0002row1_col5\" class=\"data row1 col5\" >-0.00</td>\n",
              "                        <td id=\"T_ec1bdd50_c44b_11ea_83b5_0242ac1c0002row1_col6\" class=\"data row1 col6\" >0.35</td>\n",
              "                        <td id=\"T_ec1bdd50_c44b_11ea_83b5_0242ac1c0002row1_col7\" class=\"data row1 col7\" >0.00</td>\n",
              "                        <td id=\"T_ec1bdd50_c44b_11ea_83b5_0242ac1c0002row1_col8\" class=\"data row1 col8\" >0.01</td>\n",
              "                        <td id=\"T_ec1bdd50_c44b_11ea_83b5_0242ac1c0002row1_col9\" class=\"data row1 col9\" >0.00</td>\n",
              "                        <td id=\"T_ec1bdd50_c44b_11ea_83b5_0242ac1c0002row1_col10\" class=\"data row1 col10\" >0.01</td>\n",
              "                        <td id=\"T_ec1bdd50_c44b_11ea_83b5_0242ac1c0002row1_col11\" class=\"data row1 col11\" >0.02</td>\n",
              "                        <td id=\"T_ec1bdd50_c44b_11ea_83b5_0242ac1c0002row1_col12\" class=\"data row1 col12\" >-0.02</td>\n",
              "            </tr>\n",
              "            <tr>\n",
              "                        <th id=\"T_ec1bdd50_c44b_11ea_83b5_0242ac1c0002level0_row2\" class=\"row_heading level0 row2\" >effectiveness</th>\n",
              "                        <td id=\"T_ec1bdd50_c44b_11ea_83b5_0242ac1c0002row2_col0\" class=\"data row2 col0\" >-0.03</td>\n",
              "                        <td id=\"T_ec1bdd50_c44b_11ea_83b5_0242ac1c0002row2_col1\" class=\"data row2 col1\" >0.47</td>\n",
              "                        <td id=\"T_ec1bdd50_c44b_11ea_83b5_0242ac1c0002row2_col2\" class=\"data row2 col2\" >1.00</td>\n",
              "                        <td id=\"T_ec1bdd50_c44b_11ea_83b5_0242ac1c0002row2_col3\" class=\"data row2 col3\" >0.06</td>\n",
              "                        <td id=\"T_ec1bdd50_c44b_11ea_83b5_0242ac1c0002row2_col4\" class=\"data row2 col4\" >0.73</td>\n",
              "                        <td id=\"T_ec1bdd50_c44b_11ea_83b5_0242ac1c0002row2_col5\" class=\"data row2 col5\" >-0.00</td>\n",
              "                        <td id=\"T_ec1bdd50_c44b_11ea_83b5_0242ac1c0002row2_col6\" class=\"data row2 col6\" >0.49</td>\n",
              "                        <td id=\"T_ec1bdd50_c44b_11ea_83b5_0242ac1c0002row2_col7\" class=\"data row2 col7\" >0.07</td>\n",
              "                        <td id=\"T_ec1bdd50_c44b_11ea_83b5_0242ac1c0002row2_col8\" class=\"data row2 col8\" >0.08</td>\n",
              "                        <td id=\"T_ec1bdd50_c44b_11ea_83b5_0242ac1c0002row2_col9\" class=\"data row2 col9\" >0.07</td>\n",
              "                        <td id=\"T_ec1bdd50_c44b_11ea_83b5_0242ac1c0002row2_col10\" class=\"data row2 col10\" >0.06</td>\n",
              "                        <td id=\"T_ec1bdd50_c44b_11ea_83b5_0242ac1c0002row2_col11\" class=\"data row2 col11\" >0.08</td>\n",
              "                        <td id=\"T_ec1bdd50_c44b_11ea_83b5_0242ac1c0002row2_col12\" class=\"data row2 col12\" >-0.01</td>\n",
              "            </tr>\n",
              "            <tr>\n",
              "                        <th id=\"T_ec1bdd50_c44b_11ea_83b5_0242ac1c0002level0_row3\" class=\"row_heading level0 row3\" >usefulcount</th>\n",
              "                        <td id=\"T_ec1bdd50_c44b_11ea_83b5_0242ac1c0002row3_col0\" class=\"data row3 col0\" >-0.01</td>\n",
              "                        <td id=\"T_ec1bdd50_c44b_11ea_83b5_0242ac1c0002row3_col1\" class=\"data row3 col1\" >0.04</td>\n",
              "                        <td id=\"T_ec1bdd50_c44b_11ea_83b5_0242ac1c0002row3_col2\" class=\"data row3 col2\" >0.06</td>\n",
              "                        <td id=\"T_ec1bdd50_c44b_11ea_83b5_0242ac1c0002row3_col3\" class=\"data row3 col3\" >1.00</td>\n",
              "                        <td id=\"T_ec1bdd50_c44b_11ea_83b5_0242ac1c0002row3_col4\" class=\"data row3 col4\" >0.07</td>\n",
              "                        <td id=\"T_ec1bdd50_c44b_11ea_83b5_0242ac1c0002row3_col5\" class=\"data row3 col5\" >-0.00</td>\n",
              "                        <td id=\"T_ec1bdd50_c44b_11ea_83b5_0242ac1c0002row3_col6\" class=\"data row3 col6\" >0.05</td>\n",
              "                        <td id=\"T_ec1bdd50_c44b_11ea_83b5_0242ac1c0002row3_col7\" class=\"data row3 col7\" >0.19</td>\n",
              "                        <td id=\"T_ec1bdd50_c44b_11ea_83b5_0242ac1c0002row3_col8\" class=\"data row3 col8\" >0.20</td>\n",
              "                        <td id=\"T_ec1bdd50_c44b_11ea_83b5_0242ac1c0002row3_col9\" class=\"data row3 col9\" >0.20</td>\n",
              "                        <td id=\"T_ec1bdd50_c44b_11ea_83b5_0242ac1c0002row3_col10\" class=\"data row3 col10\" >0.18</td>\n",
              "                        <td id=\"T_ec1bdd50_c44b_11ea_83b5_0242ac1c0002row3_col11\" class=\"data row3 col11\" >0.18</td>\n",
              "                        <td id=\"T_ec1bdd50_c44b_11ea_83b5_0242ac1c0002row3_col12\" class=\"data row3 col12\" >-0.01</td>\n",
              "            </tr>\n",
              "            <tr>\n",
              "                        <th id=\"T_ec1bdd50_c44b_11ea_83b5_0242ac1c0002level0_row4\" class=\"row_heading level0 row4\" >satisfaction</th>\n",
              "                        <td id=\"T_ec1bdd50_c44b_11ea_83b5_0242ac1c0002row4_col0\" class=\"data row4 col0\" >0.04</td>\n",
              "                        <td id=\"T_ec1bdd50_c44b_11ea_83b5_0242ac1c0002row4_col1\" class=\"data row4 col1\" >0.49</td>\n",
              "                        <td id=\"T_ec1bdd50_c44b_11ea_83b5_0242ac1c0002row4_col2\" class=\"data row4 col2\" >0.73</td>\n",
              "                        <td id=\"T_ec1bdd50_c44b_11ea_83b5_0242ac1c0002row4_col3\" class=\"data row4 col3\" >0.07</td>\n",
              "                        <td id=\"T_ec1bdd50_c44b_11ea_83b5_0242ac1c0002row4_col4\" class=\"data row4 col4\" >1.00</td>\n",
              "                        <td id=\"T_ec1bdd50_c44b_11ea_83b5_0242ac1c0002row4_col5\" class=\"data row4 col5\" >-0.00</td>\n",
              "                        <td id=\"T_ec1bdd50_c44b_11ea_83b5_0242ac1c0002row4_col6\" class=\"data row4 col6\" >0.67</td>\n",
              "                        <td id=\"T_ec1bdd50_c44b_11ea_83b5_0242ac1c0002row4_col7\" class=\"data row4 col7\" >-0.02</td>\n",
              "                        <td id=\"T_ec1bdd50_c44b_11ea_83b5_0242ac1c0002row4_col8\" class=\"data row4 col8\" >-0.03</td>\n",
              "                        <td id=\"T_ec1bdd50_c44b_11ea_83b5_0242ac1c0002row4_col9\" class=\"data row4 col9\" >-0.03</td>\n",
              "                        <td id=\"T_ec1bdd50_c44b_11ea_83b5_0242ac1c0002row4_col10\" class=\"data row4 col10\" >-0.03</td>\n",
              "                        <td id=\"T_ec1bdd50_c44b_11ea_83b5_0242ac1c0002row4_col11\" class=\"data row4 col11\" >-0.01</td>\n",
              "                        <td id=\"T_ec1bdd50_c44b_11ea_83b5_0242ac1c0002row4_col12\" class=\"data row4 col12\" >-0.01</td>\n",
              "            </tr>\n",
              "            <tr>\n",
              "                        <th id=\"T_ec1bdd50_c44b_11ea_83b5_0242ac1c0002level0_row5\" class=\"row_heading level0 row5\" >uniqueid</th>\n",
              "                        <td id=\"T_ec1bdd50_c44b_11ea_83b5_0242ac1c0002row5_col0\" class=\"data row5 col0\" >0.00</td>\n",
              "                        <td id=\"T_ec1bdd50_c44b_11ea_83b5_0242ac1c0002row5_col1\" class=\"data row5 col1\" >-0.00</td>\n",
              "                        <td id=\"T_ec1bdd50_c44b_11ea_83b5_0242ac1c0002row5_col2\" class=\"data row5 col2\" >-0.00</td>\n",
              "                        <td id=\"T_ec1bdd50_c44b_11ea_83b5_0242ac1c0002row5_col3\" class=\"data row5 col3\" >-0.00</td>\n",
              "                        <td id=\"T_ec1bdd50_c44b_11ea_83b5_0242ac1c0002row5_col4\" class=\"data row5 col4\" >-0.00</td>\n",
              "                        <td id=\"T_ec1bdd50_c44b_11ea_83b5_0242ac1c0002row5_col5\" class=\"data row5 col5\" >1.00</td>\n",
              "                        <td id=\"T_ec1bdd50_c44b_11ea_83b5_0242ac1c0002row5_col6\" class=\"data row5 col6\" >0.01</td>\n",
              "                        <td id=\"T_ec1bdd50_c44b_11ea_83b5_0242ac1c0002row5_col7\" class=\"data row5 col7\" >0.00</td>\n",
              "                        <td id=\"T_ec1bdd50_c44b_11ea_83b5_0242ac1c0002row5_col8\" class=\"data row5 col8\" >0.00</td>\n",
              "                        <td id=\"T_ec1bdd50_c44b_11ea_83b5_0242ac1c0002row5_col9\" class=\"data row5 col9\" >0.00</td>\n",
              "                        <td id=\"T_ec1bdd50_c44b_11ea_83b5_0242ac1c0002row5_col10\" class=\"data row5 col10\" >0.00</td>\n",
              "                        <td id=\"T_ec1bdd50_c44b_11ea_83b5_0242ac1c0002row5_col11\" class=\"data row5 col11\" >0.00</td>\n",
              "                        <td id=\"T_ec1bdd50_c44b_11ea_83b5_0242ac1c0002row5_col12\" class=\"data row5 col12\" >-0.01</td>\n",
              "            </tr>\n",
              "            <tr>\n",
              "                        <th id=\"T_ec1bdd50_c44b_11ea_83b5_0242ac1c0002level0_row6\" class=\"row_heading level0 row6\" >lstm_score</th>\n",
              "                        <td id=\"T_ec1bdd50_c44b_11ea_83b5_0242ac1c0002row6_col0\" class=\"data row6 col0\" >0.02</td>\n",
              "                        <td id=\"T_ec1bdd50_c44b_11ea_83b5_0242ac1c0002row6_col1\" class=\"data row6 col1\" >0.35</td>\n",
              "                        <td id=\"T_ec1bdd50_c44b_11ea_83b5_0242ac1c0002row6_col2\" class=\"data row6 col2\" >0.49</td>\n",
              "                        <td id=\"T_ec1bdd50_c44b_11ea_83b5_0242ac1c0002row6_col3\" class=\"data row6 col3\" >0.05</td>\n",
              "                        <td id=\"T_ec1bdd50_c44b_11ea_83b5_0242ac1c0002row6_col4\" class=\"data row6 col4\" >0.67</td>\n",
              "                        <td id=\"T_ec1bdd50_c44b_11ea_83b5_0242ac1c0002row6_col5\" class=\"data row6 col5\" >0.01</td>\n",
              "                        <td id=\"T_ec1bdd50_c44b_11ea_83b5_0242ac1c0002row6_col6\" class=\"data row6 col6\" >1.00</td>\n",
              "                        <td id=\"T_ec1bdd50_c44b_11ea_83b5_0242ac1c0002row6_col7\" class=\"data row6 col7\" >-0.02</td>\n",
              "                        <td id=\"T_ec1bdd50_c44b_11ea_83b5_0242ac1c0002row6_col8\" class=\"data row6 col8\" >-0.03</td>\n",
              "                        <td id=\"T_ec1bdd50_c44b_11ea_83b5_0242ac1c0002row6_col9\" class=\"data row6 col9\" >-0.03</td>\n",
              "                        <td id=\"T_ec1bdd50_c44b_11ea_83b5_0242ac1c0002row6_col10\" class=\"data row6 col10\" >-0.02</td>\n",
              "                        <td id=\"T_ec1bdd50_c44b_11ea_83b5_0242ac1c0002row6_col11\" class=\"data row6 col11\" >-0.01</td>\n",
              "                        <td id=\"T_ec1bdd50_c44b_11ea_83b5_0242ac1c0002row6_col12\" class=\"data row6 col12\" >-0.02</td>\n",
              "            </tr>\n",
              "            <tr>\n",
              "                        <th id=\"T_ec1bdd50_c44b_11ea_83b5_0242ac1c0002level0_row7\" class=\"row_heading level0 row7\" >count_word</th>\n",
              "                        <td id=\"T_ec1bdd50_c44b_11ea_83b5_0242ac1c0002row7_col0\" class=\"data row7 col0\" >-0.05</td>\n",
              "                        <td id=\"T_ec1bdd50_c44b_11ea_83b5_0242ac1c0002row7_col1\" class=\"data row7 col1\" >0.00</td>\n",
              "                        <td id=\"T_ec1bdd50_c44b_11ea_83b5_0242ac1c0002row7_col2\" class=\"data row7 col2\" >0.07</td>\n",
              "                        <td id=\"T_ec1bdd50_c44b_11ea_83b5_0242ac1c0002row7_col3\" class=\"data row7 col3\" >0.19</td>\n",
              "                        <td id=\"T_ec1bdd50_c44b_11ea_83b5_0242ac1c0002row7_col4\" class=\"data row7 col4\" >-0.02</td>\n",
              "                        <td id=\"T_ec1bdd50_c44b_11ea_83b5_0242ac1c0002row7_col5\" class=\"data row7 col5\" >0.00</td>\n",
              "                        <td id=\"T_ec1bdd50_c44b_11ea_83b5_0242ac1c0002row7_col6\" class=\"data row7 col6\" >-0.02</td>\n",
              "                        <td id=\"T_ec1bdd50_c44b_11ea_83b5_0242ac1c0002row7_col7\" class=\"data row7 col7\" >1.00</td>\n",
              "                        <td id=\"T_ec1bdd50_c44b_11ea_83b5_0242ac1c0002row7_col8\" class=\"data row7 col8\" >0.99</td>\n",
              "                        <td id=\"T_ec1bdd50_c44b_11ea_83b5_0242ac1c0002row7_col9\" class=\"data row7 col9\" >1.00</td>\n",
              "                        <td id=\"T_ec1bdd50_c44b_11ea_83b5_0242ac1c0002row7_col10\" class=\"data row7 col10\" >0.91</td>\n",
              "                        <td id=\"T_ec1bdd50_c44b_11ea_83b5_0242ac1c0002row7_col11\" class=\"data row7 col11\" >0.94</td>\n",
              "                        <td id=\"T_ec1bdd50_c44b_11ea_83b5_0242ac1c0002row7_col12\" class=\"data row7 col12\" >-0.09</td>\n",
              "            </tr>\n",
              "            <tr>\n",
              "                        <th id=\"T_ec1bdd50_c44b_11ea_83b5_0242ac1c0002level0_row8\" class=\"row_heading level0 row8\" >count_unique_word</th>\n",
              "                        <td id=\"T_ec1bdd50_c44b_11ea_83b5_0242ac1c0002row8_col0\" class=\"data row8 col0\" >-0.05</td>\n",
              "                        <td id=\"T_ec1bdd50_c44b_11ea_83b5_0242ac1c0002row8_col1\" class=\"data row8 col1\" >0.01</td>\n",
              "                        <td id=\"T_ec1bdd50_c44b_11ea_83b5_0242ac1c0002row8_col2\" class=\"data row8 col2\" >0.08</td>\n",
              "                        <td id=\"T_ec1bdd50_c44b_11ea_83b5_0242ac1c0002row8_col3\" class=\"data row8 col3\" >0.20</td>\n",
              "                        <td id=\"T_ec1bdd50_c44b_11ea_83b5_0242ac1c0002row8_col4\" class=\"data row8 col4\" >-0.03</td>\n",
              "                        <td id=\"T_ec1bdd50_c44b_11ea_83b5_0242ac1c0002row8_col5\" class=\"data row8 col5\" >0.00</td>\n",
              "                        <td id=\"T_ec1bdd50_c44b_11ea_83b5_0242ac1c0002row8_col6\" class=\"data row8 col6\" >-0.03</td>\n",
              "                        <td id=\"T_ec1bdd50_c44b_11ea_83b5_0242ac1c0002row8_col7\" class=\"data row8 col7\" >0.99</td>\n",
              "                        <td id=\"T_ec1bdd50_c44b_11ea_83b5_0242ac1c0002row8_col8\" class=\"data row8 col8\" >1.00</td>\n",
              "                        <td id=\"T_ec1bdd50_c44b_11ea_83b5_0242ac1c0002row8_col9\" class=\"data row8 col9\" >0.99</td>\n",
              "                        <td id=\"T_ec1bdd50_c44b_11ea_83b5_0242ac1c0002row8_col10\" class=\"data row8 col10\" >0.90</td>\n",
              "                        <td id=\"T_ec1bdd50_c44b_11ea_83b5_0242ac1c0002row8_col11\" class=\"data row8 col11\" >0.94</td>\n",
              "                        <td id=\"T_ec1bdd50_c44b_11ea_83b5_0242ac1c0002row8_col12\" class=\"data row8 col12\" >-0.08</td>\n",
              "            </tr>\n",
              "            <tr>\n",
              "                        <th id=\"T_ec1bdd50_c44b_11ea_83b5_0242ac1c0002level0_row9\" class=\"row_heading level0 row9\" >count_letters</th>\n",
              "                        <td id=\"T_ec1bdd50_c44b_11ea_83b5_0242ac1c0002row9_col0\" class=\"data row9 col0\" >-0.04</td>\n",
              "                        <td id=\"T_ec1bdd50_c44b_11ea_83b5_0242ac1c0002row9_col1\" class=\"data row9 col1\" >0.00</td>\n",
              "                        <td id=\"T_ec1bdd50_c44b_11ea_83b5_0242ac1c0002row9_col2\" class=\"data row9 col2\" >0.07</td>\n",
              "                        <td id=\"T_ec1bdd50_c44b_11ea_83b5_0242ac1c0002row9_col3\" class=\"data row9 col3\" >0.20</td>\n",
              "                        <td id=\"T_ec1bdd50_c44b_11ea_83b5_0242ac1c0002row9_col4\" class=\"data row9 col4\" >-0.03</td>\n",
              "                        <td id=\"T_ec1bdd50_c44b_11ea_83b5_0242ac1c0002row9_col5\" class=\"data row9 col5\" >0.00</td>\n",
              "                        <td id=\"T_ec1bdd50_c44b_11ea_83b5_0242ac1c0002row9_col6\" class=\"data row9 col6\" >-0.03</td>\n",
              "                        <td id=\"T_ec1bdd50_c44b_11ea_83b5_0242ac1c0002row9_col7\" class=\"data row9 col7\" >1.00</td>\n",
              "                        <td id=\"T_ec1bdd50_c44b_11ea_83b5_0242ac1c0002row9_col8\" class=\"data row9 col8\" >0.99</td>\n",
              "                        <td id=\"T_ec1bdd50_c44b_11ea_83b5_0242ac1c0002row9_col9\" class=\"data row9 col9\" >1.00</td>\n",
              "                        <td id=\"T_ec1bdd50_c44b_11ea_83b5_0242ac1c0002row9_col10\" class=\"data row9 col10\" >0.90</td>\n",
              "                        <td id=\"T_ec1bdd50_c44b_11ea_83b5_0242ac1c0002row9_col11\" class=\"data row9 col11\" >0.95</td>\n",
              "                        <td id=\"T_ec1bdd50_c44b_11ea_83b5_0242ac1c0002row9_col12\" class=\"data row9 col12\" >-0.04</td>\n",
              "            </tr>\n",
              "            <tr>\n",
              "                        <th id=\"T_ec1bdd50_c44b_11ea_83b5_0242ac1c0002level0_row10\" class=\"row_heading level0 row10\" >count_punctuations</th>\n",
              "                        <td id=\"T_ec1bdd50_c44b_11ea_83b5_0242ac1c0002row10_col0\" class=\"data row10 col0\" >-0.04</td>\n",
              "                        <td id=\"T_ec1bdd50_c44b_11ea_83b5_0242ac1c0002row10_col1\" class=\"data row10 col1\" >0.01</td>\n",
              "                        <td id=\"T_ec1bdd50_c44b_11ea_83b5_0242ac1c0002row10_col2\" class=\"data row10 col2\" >0.06</td>\n",
              "                        <td id=\"T_ec1bdd50_c44b_11ea_83b5_0242ac1c0002row10_col3\" class=\"data row10 col3\" >0.18</td>\n",
              "                        <td id=\"T_ec1bdd50_c44b_11ea_83b5_0242ac1c0002row10_col4\" class=\"data row10 col4\" >-0.03</td>\n",
              "                        <td id=\"T_ec1bdd50_c44b_11ea_83b5_0242ac1c0002row10_col5\" class=\"data row10 col5\" >0.00</td>\n",
              "                        <td id=\"T_ec1bdd50_c44b_11ea_83b5_0242ac1c0002row10_col6\" class=\"data row10 col6\" >-0.02</td>\n",
              "                        <td id=\"T_ec1bdd50_c44b_11ea_83b5_0242ac1c0002row10_col7\" class=\"data row10 col7\" >0.91</td>\n",
              "                        <td id=\"T_ec1bdd50_c44b_11ea_83b5_0242ac1c0002row10_col8\" class=\"data row10 col8\" >0.90</td>\n",
              "                        <td id=\"T_ec1bdd50_c44b_11ea_83b5_0242ac1c0002row10_col9\" class=\"data row10 col9\" >0.90</td>\n",
              "                        <td id=\"T_ec1bdd50_c44b_11ea_83b5_0242ac1c0002row10_col10\" class=\"data row10 col10\" >1.00</td>\n",
              "                        <td id=\"T_ec1bdd50_c44b_11ea_83b5_0242ac1c0002row10_col11\" class=\"data row10 col11\" >0.82</td>\n",
              "                        <td id=\"T_ec1bdd50_c44b_11ea_83b5_0242ac1c0002row10_col12\" class=\"data row10 col12\" >-0.12</td>\n",
              "            </tr>\n",
              "            <tr>\n",
              "                        <th id=\"T_ec1bdd50_c44b_11ea_83b5_0242ac1c0002level0_row11\" class=\"row_heading level0 row11\" >count_stopwords</th>\n",
              "                        <td id=\"T_ec1bdd50_c44b_11ea_83b5_0242ac1c0002row11_col0\" class=\"data row11 col0\" >-0.05</td>\n",
              "                        <td id=\"T_ec1bdd50_c44b_11ea_83b5_0242ac1c0002row11_col1\" class=\"data row11 col1\" >0.02</td>\n",
              "                        <td id=\"T_ec1bdd50_c44b_11ea_83b5_0242ac1c0002row11_col2\" class=\"data row11 col2\" >0.08</td>\n",
              "                        <td id=\"T_ec1bdd50_c44b_11ea_83b5_0242ac1c0002row11_col3\" class=\"data row11 col3\" >0.18</td>\n",
              "                        <td id=\"T_ec1bdd50_c44b_11ea_83b5_0242ac1c0002row11_col4\" class=\"data row11 col4\" >-0.01</td>\n",
              "                        <td id=\"T_ec1bdd50_c44b_11ea_83b5_0242ac1c0002row11_col5\" class=\"data row11 col5\" >0.00</td>\n",
              "                        <td id=\"T_ec1bdd50_c44b_11ea_83b5_0242ac1c0002row11_col6\" class=\"data row11 col6\" >-0.01</td>\n",
              "                        <td id=\"T_ec1bdd50_c44b_11ea_83b5_0242ac1c0002row11_col7\" class=\"data row11 col7\" >0.94</td>\n",
              "                        <td id=\"T_ec1bdd50_c44b_11ea_83b5_0242ac1c0002row11_col8\" class=\"data row11 col8\" >0.94</td>\n",
              "                        <td id=\"T_ec1bdd50_c44b_11ea_83b5_0242ac1c0002row11_col9\" class=\"data row11 col9\" >0.95</td>\n",
              "                        <td id=\"T_ec1bdd50_c44b_11ea_83b5_0242ac1c0002row11_col10\" class=\"data row11 col10\" >0.82</td>\n",
              "                        <td id=\"T_ec1bdd50_c44b_11ea_83b5_0242ac1c0002row11_col11\" class=\"data row11 col11\" >1.00</td>\n",
              "                        <td id=\"T_ec1bdd50_c44b_11ea_83b5_0242ac1c0002row11_col12\" class=\"data row11 col12\" >-0.07</td>\n",
              "            </tr>\n",
              "            <tr>\n",
              "                        <th id=\"T_ec1bdd50_c44b_11ea_83b5_0242ac1c0002level0_row12\" class=\"row_heading level0 row12\" >mean_word_len</th>\n",
              "                        <td id=\"T_ec1bdd50_c44b_11ea_83b5_0242ac1c0002row12_col0\" class=\"data row12 col0\" >0.01</td>\n",
              "                        <td id=\"T_ec1bdd50_c44b_11ea_83b5_0242ac1c0002row12_col1\" class=\"data row12 col1\" >-0.02</td>\n",
              "                        <td id=\"T_ec1bdd50_c44b_11ea_83b5_0242ac1c0002row12_col2\" class=\"data row12 col2\" >-0.01</td>\n",
              "                        <td id=\"T_ec1bdd50_c44b_11ea_83b5_0242ac1c0002row12_col3\" class=\"data row12 col3\" >-0.01</td>\n",
              "                        <td id=\"T_ec1bdd50_c44b_11ea_83b5_0242ac1c0002row12_col4\" class=\"data row12 col4\" >-0.01</td>\n",
              "                        <td id=\"T_ec1bdd50_c44b_11ea_83b5_0242ac1c0002row12_col5\" class=\"data row12 col5\" >-0.01</td>\n",
              "                        <td id=\"T_ec1bdd50_c44b_11ea_83b5_0242ac1c0002row12_col6\" class=\"data row12 col6\" >-0.02</td>\n",
              "                        <td id=\"T_ec1bdd50_c44b_11ea_83b5_0242ac1c0002row12_col7\" class=\"data row12 col7\" >-0.09</td>\n",
              "                        <td id=\"T_ec1bdd50_c44b_11ea_83b5_0242ac1c0002row12_col8\" class=\"data row12 col8\" >-0.08</td>\n",
              "                        <td id=\"T_ec1bdd50_c44b_11ea_83b5_0242ac1c0002row12_col9\" class=\"data row12 col9\" >-0.04</td>\n",
              "                        <td id=\"T_ec1bdd50_c44b_11ea_83b5_0242ac1c0002row12_col10\" class=\"data row12 col10\" >-0.12</td>\n",
              "                        <td id=\"T_ec1bdd50_c44b_11ea_83b5_0242ac1c0002row12_col11\" class=\"data row12 col11\" >-0.07</td>\n",
              "                        <td id=\"T_ec1bdd50_c44b_11ea_83b5_0242ac1c0002row12_col12\" class=\"data row12 col12\" >1.00</td>\n",
              "            </tr>\n",
              "    </tbody></table>"
            ],
            "text/plain": [
              "<pandas.io.formats.style.Styler at 0x7f073a3c6b70>"
            ]
          },
          "metadata": {
            "tags": []
          },
          "execution_count": 436
        }
      ]
    },
    {
      "cell_type": "code",
      "metadata": {
        "trusted": true,
        "_uuid": "f59cf45b806c2b619244d6e8e7f2d81f297e4d87",
        "id": "XZiW2E8t7PJ8",
        "colab_type": "code",
        "colab": {}
      },
      "source": [
        "# Correlation Heatmap of the features engineered\n",
        "#plt.rcParams['figure.figsize'] = [17,15]\n",
        "#sns.set(font_scale = 1.2)\n",
        "#corr = drugs.select_dtypes(include='float64').corr()\n",
        "#sns_ = sns.heatmap(corr, annot = True, cmap = 'YlGnBu')\n",
        "#plt.setp(sns_.get_xticklabels(), rotation = 45);"
      ],
      "execution_count": 437,
      "outputs": []
    },
    {
      "cell_type": "code",
      "metadata": {
        "id": "1q0fyCU7UZ_A",
        "colab_type": "code",
        "colab": {}
      },
      "source": [
        "drugs = drugs.dropna(how = 'any', axis = 0)"
      ],
      "execution_count": 438,
      "outputs": []
    },
    {
      "cell_type": "code",
      "metadata": {
        "id": "C7EwRBynUFKG",
        "colab_type": "code",
        "colab": {
          "base_uri": "https://localhost:8080/",
          "height": 354
        },
        "outputId": "bd0fc096-bba5-459b-8304-06a92ddd752f"
      },
      "source": [
        "drugs.isna().sum()"
      ],
      "execution_count": 439,
      "outputs": [
        {
          "output_type": "execute_result",
          "data": {
            "text/plain": [
              "age                   0\n",
              "condition             0\n",
              "drug                  0\n",
              "drugid                0\n",
              "easeofuse             0\n",
              "effectiveness         0\n",
              "reviews               0\n",
              "usefulcount           0\n",
              "satisfaction          0\n",
              "uniqueid              0\n",
              "reviews_clean         0\n",
              "lstm_score            0\n",
              "count_word            0\n",
              "count_unique_word     0\n",
              "count_letters         0\n",
              "count_punctuations    0\n",
              "count_stopwords       0\n",
              "mean_word_len         0\n",
              "dtype: int64"
            ]
          },
          "metadata": {
            "tags": []
          },
          "execution_count": 439
        }
      ]
    },
    {
      "cell_type": "code",
      "metadata": {
        "id": "5oXLnxKyGrh2",
        "colab_type": "code",
        "colab": {
          "base_uri": "https://localhost:8080/",
          "height": 354
        },
        "outputId": "0eea80fc-aed1-4fc7-edd8-07c66039c149"
      },
      "source": [
        "drugs.dtypes"
      ],
      "execution_count": 440,
      "outputs": [
        {
          "output_type": "execute_result",
          "data": {
            "text/plain": [
              "age                    object\n",
              "condition               int64\n",
              "drug                   object\n",
              "drugid                 object\n",
              "easeofuse             float64\n",
              "effectiveness         float64\n",
              "reviews                object\n",
              "usefulcount           float64\n",
              "satisfaction          float64\n",
              "uniqueid                int64\n",
              "reviews_clean          object\n",
              "lstm_score              int64\n",
              "count_word              int64\n",
              "count_unique_word       int64\n",
              "count_letters           int64\n",
              "count_punctuations      int64\n",
              "count_stopwords         int64\n",
              "mean_word_len         float64\n",
              "dtype: object"
            ]
          },
          "metadata": {
            "tags": []
          },
          "execution_count": 440
        }
      ]
    },
    {
      "cell_type": "code",
      "metadata": {
        "id": "VFELlO4NPhNq",
        "colab_type": "code",
        "colab": {
          "base_uri": "https://localhost:8080/",
          "height": 197
        },
        "outputId": "9eb565d5-e597-455d-de44-682ae28bccdf"
      },
      "source": [
        "drugs.head(1)"
      ],
      "execution_count": 441,
      "outputs": [
        {
          "output_type": "execute_result",
          "data": {
            "text/html": [
              "<div>\n",
              "<style scoped>\n",
              "    .dataframe tbody tr th:only-of-type {\n",
              "        vertical-align: middle;\n",
              "    }\n",
              "\n",
              "    .dataframe tbody tr th {\n",
              "        vertical-align: top;\n",
              "    }\n",
              "\n",
              "    .dataframe thead th {\n",
              "        text-align: right;\n",
              "    }\n",
              "</style>\n",
              "<table border=\"1\" class=\"dataframe\">\n",
              "  <thead>\n",
              "    <tr style=\"text-align: right;\">\n",
              "      <th></th>\n",
              "      <th>age</th>\n",
              "      <th>condition</th>\n",
              "      <th>drug</th>\n",
              "      <th>drugid</th>\n",
              "      <th>easeofuse</th>\n",
              "      <th>effectiveness</th>\n",
              "      <th>reviews</th>\n",
              "      <th>usefulcount</th>\n",
              "      <th>satisfaction</th>\n",
              "      <th>uniqueid</th>\n",
              "      <th>reviews_clean</th>\n",
              "      <th>lstm_score</th>\n",
              "      <th>count_word</th>\n",
              "      <th>count_unique_word</th>\n",
              "      <th>count_letters</th>\n",
              "      <th>count_punctuations</th>\n",
              "      <th>count_stopwords</th>\n",
              "      <th>mean_word_len</th>\n",
              "    </tr>\n",
              "  </thead>\n",
              "  <tbody>\n",
              "    <tr>\n",
              "      <th>0</th>\n",
              "      <td>45-54</td>\n",
              "      <td>5</td>\n",
              "      <td>synthroid</td>\n",
              "      <td>7033</td>\n",
              "      <td>3.0</td>\n",
              "      <td>2.0</td>\n",
              "      <td>is not helping me to get my tsh where it needs...</td>\n",
              "      <td>3.0</td>\n",
              "      <td>2.0</td>\n",
              "      <td>0</td>\n",
              "      <td>help get tsh need be + + + +</td>\n",
              "      <td>3</td>\n",
              "      <td>9</td>\n",
              "      <td>6</td>\n",
              "      <td>28</td>\n",
              "      <td>1</td>\n",
              "      <td>8</td>\n",
              "      <td>2.222222</td>\n",
              "    </tr>\n",
              "  </tbody>\n",
              "</table>\n",
              "</div>"
            ],
            "text/plain": [
              "     age  condition  ... count_stopwords mean_word_len\n",
              "0  45-54          5  ...               8      2.222222\n",
              "\n",
              "[1 rows x 18 columns]"
            ]
          },
          "metadata": {
            "tags": []
          },
          "execution_count": 441
        }
      ]
    },
    {
      "cell_type": "markdown",
      "metadata": {
        "id": "7MHIYRuQ7PKD",
        "colab_type": "text"
      },
      "source": [
        "# Importing Libraries for the Machine Learning Model\n"
      ]
    },
    {
      "cell_type": "code",
      "metadata": {
        "trusted": true,
        "id": "MADHXiIa7PKE",
        "colab_type": "code",
        "colab": {}
      },
      "source": [
        "# Importing Libraries for the Machine Learning Model\n",
        "from sklearn.model_selection import KFold, cross_val_score\n",
        "from xgboost import XGBClassifier\n",
        "from sklearn.naive_bayes import GaussianNB\n",
        "from lightgbm import LGBMModel,LGBMClassifier, plot_importance\n",
        "from sklearn.linear_model import SGDClassifier\n",
        "from sklearn.neighbors import KNeighborsClassifier\n",
        "from xgboost import XGBClassifier\n",
        "import time\n",
        "from sklearn.metrics import confusion_matrix, accuracy_score, classification_report, precision_score\n",
        "from sklearn.model_selection import train_test_split, cross_val_predict\n",
        "\n",
        "\n",
        "from sklearn.metrics import roc_auc_score\n",
        "from sklearn.preprocessing import LabelBinarizer"
      ],
      "execution_count": 442,
      "outputs": []
    },
    {
      "cell_type": "code",
      "metadata": {
        "id": "eXKflaR1Dgnp",
        "colab_type": "code",
        "colab": {
          "base_uri": "https://localhost:8080/",
          "height": 123
        },
        "outputId": "d631a0bb-2d52-46ce-f757-dbb9394d7298"
      },
      "source": [
        "drugs['satisfaction'].value_counts()"
      ],
      "execution_count": 443,
      "outputs": [
        {
          "output_type": "execute_result",
          "data": {
            "text/plain": [
              "1.0    8493\n",
              "5.0    8492\n",
              "2.0    8491\n",
              "4.0    8490\n",
              "3.0    8487\n",
              "Name: satisfaction, dtype: int64"
            ]
          },
          "metadata": {
            "tags": []
          },
          "execution_count": 443
        }
      ]
    },
    {
      "cell_type": "code",
      "metadata": {
        "trusted": true,
        "id": "ztlt9AC47PKH",
        "colab_type": "code",
        "colab": {
          "base_uri": "https://localhost:8080/",
          "height": 52
        },
        "outputId": "7f1c8725-6dfd-4c35-c87b-24c5d04acd40"
      },
      "source": [
        "# Defining Features and splitting the data as train and test set\n",
        "features = drugs[[ 'effectiveness', 'lstm_score', 'easeofuse', 'condition', 'count_letters',\n",
        "                   ]]\n",
        "\n",
        "target = drugs['satisfaction']\n",
        "\n",
        "X_train, X_test, y_train, y_test = train_test_split(features, target, test_size = 0.3, shuffle=True, random_state = 42)\n",
        "print (\"The Train set size \", X_train.shape)\n",
        "print (\"The Test set size \", X_test.shape)"
      ],
      "execution_count": 444,
      "outputs": [
        {
          "output_type": "stream",
          "text": [
            "The Train set size  (29717, 5)\n",
            "The Test set size  (12736, 5)\n"
          ],
          "name": "stdout"
        }
      ]
    },
    {
      "cell_type": "markdown",
      "metadata": {
        "id": "-A0U6r82nPPo",
        "colab_type": "text"
      },
      "source": [
        "#### Firstly we'll try and check which classifier performs the best with our training data, then we'll take that classifier and perform HyperParameter Optimisation on that model."
      ]
    },
    {
      "cell_type": "code",
      "metadata": {
        "id": "VcviE1dkGc25",
        "colab_type": "code",
        "colab": {
          "base_uri": "https://localhost:8080/",
          "height": 105
        },
        "outputId": "c1ea1321-4ef0-4058-9adc-d54bc37ee044"
      },
      "source": [
        "knn = KNeighborsClassifier()\n",
        "training_start = time.perf_counter()\n",
        "knn.fit(X_train, y_train)\n",
        "training_end = time.perf_counter()\n",
        "prediction_start = time.perf_counter()\n",
        "preds = knn.predict(X_test)\n",
        "prediction_end = time.perf_counter()\n",
        "acc_knn = (preds == y_test).sum().astype(float) / len(preds)*100\n",
        "knn_train_time = training_end-training_start\n",
        "knn_prediction_time = prediction_end-prediction_start\n",
        "precision_score_knn=precision_score(y_test, preds, average='micro')\n",
        "\n",
        "lb = LabelBinarizer()\n",
        "lb.fit(y_test)\n",
        "y_test1 = lb.transform(y_test)\n",
        "y_pred1= lb.transform(preds)\n",
        "roc_auc_score_knn=roc_auc_score(y_test1, y_pred1, average=\"macro\")\n",
        "print(\"Roc_auc_score for test data: %3.5f \" % (roc_auc_score_knn))\n",
        "print(\"Scikit-Learn's K Nearest Neighbors Classifier's prediction accuracy is: %3.2f\" % (acc_knn))\n",
        "print(\"Time consumed for training: %4.3f seconds\" % (knn_train_time))\n",
        "print(\"Time consumed for prediction: %6.5f seconds\" % (knn_prediction_time))\n",
        "print(\"Precision on test dataset:\", precision_score_knn)"
      ],
      "execution_count": 445,
      "outputs": [
        {
          "output_type": "stream",
          "text": [
            "Roc_auc_score for test data: 0.59089 \n",
            "Scikit-Learn's K Nearest Neighbors Classifier's prediction accuracy is: 34.58\n",
            "Time consumed for training: 0.032 seconds\n",
            "Time consumed for prediction: 0.38874 seconds\n",
            "Precision on test dataset: 0.3457914572864322\n"
          ],
          "name": "stdout"
        }
      ]
    },
    {
      "cell_type": "code",
      "metadata": {
        "id": "W19h8dlfESEv",
        "colab_type": "code",
        "colab": {
          "base_uri": "https://localhost:8080/",
          "height": 105
        },
        "outputId": "9df0bf87-c496-46a1-fa41-5cfc15718182"
      },
      "source": [
        "from sklearn.ensemble import GradientBoostingClassifier\n",
        "gbk = GradientBoostingClassifier()\n",
        "gbk.fit(X_train, y_train)\n",
        "\n",
        "training_start = time.perf_counter()\n",
        "gbk.fit(X_train, y_train)\n",
        "training_end = time.perf_counter()\n",
        "prediction_start = time.perf_counter()\n",
        "preds = gbk.predict(X_test)\n",
        "prediction_end = time.perf_counter()\n",
        "acc_gbk = (preds == y_test).sum().astype(float) / len(preds)*100\n",
        "gbk_train_time = training_end-training_start\n",
        "gbk_prediction_time = prediction_end-prediction_start\n",
        "precision_score_gbk=precision_score(y_test, preds, average='micro')\n",
        "\n",
        "y_pred1= lb.transform(preds)\n",
        "roc_auc_score_gbk=roc_auc_score(y_test1, y_pred1, average=\"macro\")\n",
        "print(\"Roc_auc_score for test data: %3.5f \" % (roc_auc_score_gbk))\n",
        "print(\"Scikit-Learn's GBK Classifier's prediction accuracy is: %3.2f\" % (acc_gbk))\n",
        "print(\"Time consumed for training: %4.3f seconds\" % (gbk_train_time))\n",
        "print(\"Time consumed for prediction: %6.5f seconds\" % (gbk_prediction_time))\n",
        "print(\"Precision on test dataset:\", precision_score_gbk)"
      ],
      "execution_count": 446,
      "outputs": [
        {
          "output_type": "stream",
          "text": [
            "Roc_auc_score for test data: 0.77039 \n",
            "Scikit-Learn's GBK Classifier's prediction accuracy is: 63.25\n",
            "Time consumed for training: 14.896 seconds\n",
            "Time consumed for prediction: 0.12167 seconds\n",
            "Precision on test dataset: 0.632537688442211\n"
          ],
          "name": "stdout"
        }
      ]
    },
    {
      "cell_type": "code",
      "metadata": {
        "id": "8KQRp_Mj2l3Q",
        "colab_type": "code",
        "colab": {
          "base_uri": "https://localhost:8080/",
          "height": 105
        },
        "outputId": "491381fd-cf07-494a-fe46-393f67a4ea54"
      },
      "source": [
        "GNB= GaussianNB()\n",
        "training_start = time.perf_counter()\n",
        "GNB.fit(X_train, y_train)\n",
        "training_end = time.perf_counter()\n",
        "prediction_start = time.perf_counter()\n",
        "preds = GNB.predict(X_test)\n",
        "prediction_end = time.perf_counter()\n",
        "acc_gnb = (preds == y_test).sum().astype(float) / len(preds)*100\n",
        "gnb_train_time = training_end-training_start\n",
        "gnb_prediction_time = prediction_end-prediction_start\n",
        "precision_score_gnb=precision_score(y_test, preds, average='micro')\n",
        "y_pred1= lb.transform(preds)\n",
        "roc_auc_score_gnb=roc_auc_score(y_test1, y_pred1, average=\"macro\")\n",
        "print(\"Roc_auc_score for test data: %3.5f \" % (roc_auc_score_gnb))\n",
        "print(\"Naive Bayes Classifier's prediction accuracy is: %3.2f\" % (acc_gnb))\n",
        "print(\"Time consumed for training: %4.3f seconds\" % (gnb_train_time))\n",
        "print(\"Time consumed for prediction: %6.5f seconds\" % (gnb_prediction_time))\n",
        "print(\"Precision on test dataset:\", precision_score_gnb)"
      ],
      "execution_count": 447,
      "outputs": [
        {
          "output_type": "stream",
          "text": [
            "Roc_auc_score for test data: 0.73480 \n",
            "Naive Bayes Classifier's prediction accuracy is: 57.51\n",
            "Time consumed for training: 0.009 seconds\n",
            "Time consumed for prediction: 0.00354 seconds\n",
            "Precision on test dataset: 0.5751413316582915\n"
          ],
          "name": "stdout"
        }
      ]
    },
    {
      "cell_type": "code",
      "metadata": {
        "trusted": true,
        "id": "DOxSbmhO7PKK",
        "colab_type": "code",
        "colab": {
          "base_uri": "https://localhost:8080/",
          "height": 105
        },
        "outputId": "084fcfff-862d-4f69-eaa4-01f21808180a"
      },
      "source": [
        "LGBM = LGBMClassifier(\n",
        "        \n",
        "        )\n",
        "#n_estimators=10000,\n",
        "#        learning_rate=0.10,\n",
        "#        num_leaves=30,\n",
        "#        subsample=.9,\n",
        "#        max_depth=7,\n",
        "#        reg_alpha=.1,\n",
        "#        reg_lambda=.1,\n",
        "#        min_split_gain=.01,\n",
        "#        min_child_weight=2,\n",
        "#        silent=-1,\n",
        "#        verbose=-1,\n",
        "training_start = time.perf_counter()\n",
        "LGBM.fit(X_train, y_train)\n",
        "training_end = time.perf_counter()\n",
        "prediction_start = time.perf_counter()\n",
        "preds = LGBM.predict(X_test)\n",
        "prediction_end = time.perf_counter()\n",
        "acc_LGBM = (preds == y_test).sum().astype(float) / len(preds)*100\n",
        "LGBM_train_time = training_end-training_start\n",
        "LGBM_prediction_time = prediction_end-prediction_start\n",
        "precision_score_lgbm=precision_score(y_test, preds, average='micro')\n",
        "\n",
        "y_pred1= lb.transform(preds)\n",
        "roc_auc_score_lgbm=roc_auc_score(y_test1, y_pred1, average=\"macro\")\n",
        "print(\"Roc_auc_score for test data: %3.5f \" % (roc_auc_score_lgbm))\n",
        "print(\"Scikit-Learn's LGBM Classifier's prediction accuracy is: %3.2f\" % (acc_LGBM))\n",
        "print(\"Time consumed for training: %4.3f seconds\" % (LGBM_train_time))\n",
        "print(\"Time consumed for prediction: %6.5f seconds\" % (LGBM_prediction_time))\n",
        "print(\"Precision on test dataset:\", precision_score_lgbm)\n"
      ],
      "execution_count": 448,
      "outputs": [
        {
          "output_type": "stream",
          "text": [
            "Roc_auc_score for test data: 0.77024 \n",
            "Scikit-Learn's LGBM Classifier's prediction accuracy is: 63.22\n",
            "Time consumed for training: 1.610 seconds\n",
            "Time consumed for prediction: 0.02229 seconds\n",
            "Precision on test dataset: 0.6322236180904522\n"
          ],
          "name": "stdout"
        }
      ]
    },
    {
      "cell_type": "code",
      "metadata": {
        "id": "MUOfB2EACOCe",
        "colab_type": "code",
        "colab": {
          "base_uri": "https://localhost:8080/",
          "height": 577
        },
        "outputId": "1cde9e9a-ff0d-4f80-94e1-b86730def24c"
      },
      "source": [
        "# Feature Importance Plot using LGBM\n",
        "plt.rcParams['figure.figsize'] = [12, 9]\n",
        "sns.set(style = 'whitegrid', font_scale = 1.2)\n",
        "plot_importance(LGBM);"
      ],
      "execution_count": 449,
      "outputs": [
        {
          "output_type": "display_data",
          "data": {
            "image/png": "[encoded data removed]",
            "text/plain": [
              "<Figure size 864x648 with 1 Axes>"
            ]
          },
          "metadata": {
            "tags": []
          }
        }
      ]
    },
    {
      "cell_type": "code",
      "metadata": {
        "id": "zBnE0C03HDbf",
        "colab_type": "code",
        "colab": {
          "base_uri": "https://localhost:8080/",
          "height": 247
        },
        "outputId": "615d3f42-d30a-4529-dd58-d2245664be28"
      },
      "source": [
        "from sklearn.linear_model import LogisticRegression\n",
        "\n",
        "LR = LogisticRegression()\n",
        "training_start = time.perf_counter()\n",
        "LR.fit(X_train, y_train)\n",
        "training_end = time.perf_counter()\n",
        "prediction_start = time.perf_counter()\n",
        "preds = LR.predict(X_test)\n",
        "prediction_end = time.perf_counter()\n",
        "acc_LR = (preds == y_test).sum().astype(float) / len(preds)*100\n",
        "LR_train_time = training_end-training_start\n",
        "LR_prediction_time = prediction_end-prediction_start\n",
        "precision_score_LR=precision_score(y_test, preds, average='micro')\n",
        "\n",
        "y_pred1= lb.transform(preds)\n",
        "roc_auc_score_LR=roc_auc_score(y_test1, y_pred1, average=\"macro\")\n",
        "print(\"Roc_auc_score for test data: %3.5f \" % (roc_auc_score_LR))\n",
        "print(\"Scikit-Learn's LR Classifier's prediction accuracy is: %3.2f\" % (acc_LR))\n",
        "print(\"Time consumed for training: %4.3f seconds\" % (LR_train_time))\n",
        "print(\"Time consumed for prediction: %6.5f seconds\" % (LR_prediction_time))\n",
        "print(\"Precision on test dataset:\", precision_score_LR)\n"
      ],
      "execution_count": 450,
      "outputs": [
        {
          "output_type": "stream",
          "text": [
            "Roc_auc_score for test data: 0.62756 \n",
            "Scikit-Learn's LR Classifier's prediction accuracy is: 40.42\n",
            "Time consumed for training: 2.320 seconds\n",
            "Time consumed for prediction: 0.00302 seconds\n",
            "Precision on test dataset: 0.4042085427135678\n"
          ],
          "name": "stdout"
        },
        {
          "output_type": "stream",
          "text": [
            "/usr/local/lib/python3.6/dist-packages/sklearn/linear_model/_logistic.py:940: ConvergenceWarning: lbfgs failed to converge (status=1):\n",
            "STOP: TOTAL NO. of ITERATIONS REACHED LIMIT.\n",
            "\n",
            "Increase the number of iterations (max_iter) or scale the data as shown in:\n",
            "    https://scikit-learn.org/stable/modules/preprocessing.html\n",
            "Please also refer to the documentation for alternative solver options:\n",
            "    https://scikit-learn.org/stable/modules/linear_model.html#logistic-regression\n",
            "  extra_warning_msg=_LOGISTIC_SOLVER_CONVERGENCE_MSG)\n"
          ],
          "name": "stderr"
        }
      ]
    },
    {
      "cell_type": "code",
      "metadata": {
        "id": "oM4vEaDiCAq-",
        "colab_type": "code",
        "colab": {
          "base_uri": "https://localhost:8080/",
          "height": 105
        },
        "outputId": "b1e7796f-8a9d-4b59-f870-b5b255417464"
      },
      "source": [
        "from sklearn.ensemble import RandomForestClassifier\n",
        "import time\n",
        "\n",
        "rfc = RandomForestClassifier(n_estimators=10)\n",
        "training_start = time.perf_counter()\n",
        "rfc.fit(X_train, y_train)\n",
        "training_end = time.perf_counter()\n",
        "prediction_start = time.perf_counter()\n",
        "preds = rfc.predict(X_test)\n",
        "prediction_end = time.perf_counter()\n",
        "acc_rfc = (preds == y_test).sum().astype(float) / len(preds)*100\n",
        "rfc_train_time = training_end-training_start\n",
        "rfc_prediction_time = prediction_end-prediction_start\n",
        "precision_score_rfc=precision_score(y_test, preds, average='micro')\n",
        "\n",
        "y_pred1= lb.transform(preds)\n",
        "roc_auc_score_rfc=roc_auc_score(y_test1, y_pred1, average=\"macro\")\n",
        "print(\"Roc_auc_score for test data: %3.5f \" % (roc_auc_score_rfc))\n",
        "print(\"Scikit-Learn's Random Forest Classifier's prediction accuracy is: %3.2f\" % (acc_rfc))\n",
        "print(\"Time consumed for training: %4.3f seconds\" % (rfc_train_time))\n",
        "print(\"Time consumed for prediction: %6.5f seconds\" % (rfc_prediction_time))\n",
        "print(\"Precision on test dataset:\", precision_score_rfc)"
      ],
      "execution_count": 451,
      "outputs": [
        {
          "output_type": "stream",
          "text": [
            "Roc_auc_score for test data: 0.72872 \n",
            "Scikit-Learn's Random Forest Classifier's prediction accuracy is: 56.60\n",
            "Time consumed for training: 0.405 seconds\n",
            "Time consumed for prediction: 0.04124 seconds\n",
            "Precision on test dataset: 0.5660332914572864\n"
          ],
          "name": "stdout"
        }
      ]
    },
    {
      "cell_type": "code",
      "metadata": {
        "id": "lQfT18hbHX4a",
        "colab_type": "code",
        "colab": {
          "base_uri": "https://localhost:8080/",
          "height": 257
        },
        "outputId": "c55e9c38-468d-4443-9400-ddf5491ec849"
      },
      "source": [
        "#After running all classifier models individually, we compare them all together for best performance\n",
        "results = pd.DataFrame({\n",
        "    'Model': ['KNN', 'GNB', 'LGBM', 'gbk', 'LR', 'Random Forest'],\n",
        "    'Roc_auc_score': [roc_auc_score_knn, roc_auc_score_gnb, roc_auc_score_lgbm, roc_auc_score_gbk, roc_auc_score_LR, roc_auc_score_rfc],\n",
        "    'Accuracy': [acc_knn, acc_gnb, acc_LGBM, acc_gbk, acc_LR, acc_rfc],\n",
        "    'Precision': [precision_score_knn, precision_score_gnb, precision_score_lgbm, precision_score_gbk, precision_score_LR, precision_score_rfc],\n",
        "    'Runtime Training': [knn_train_time, gnb_train_time, LGBM_train_time, gbk_train_time, \n",
        "                         LR_train_time, rfc_train_time],\n",
        "    'Runtime Prediction': [knn_prediction_time, gnb_prediction_time, LGBM_prediction_time, gbk_prediction_time,\n",
        "                          LR_prediction_time, rfc_prediction_time]})\n",
        "result_df = results.sort_values(by='Roc_auc_score', ascending=False)\n",
        "result_df = result_df.set_index('Model')\n",
        "result_df"
      ],
      "execution_count": 452,
      "outputs": [
        {
          "output_type": "execute_result",
          "data": {
            "text/html": [
              "<div>\n",
              "<style scoped>\n",
              "    .dataframe tbody tr th:only-of-type {\n",
              "        vertical-align: middle;\n",
              "    }\n",
              "\n",
              "    .dataframe tbody tr th {\n",
              "        vertical-align: top;\n",
              "    }\n",
              "\n",
              "    .dataframe thead th {\n",
              "        text-align: right;\n",
              "    }\n",
              "</style>\n",
              "<table border=\"1\" class=\"dataframe\">\n",
              "  <thead>\n",
              "    <tr style=\"text-align: right;\">\n",
              "      <th></th>\n",
              "      <th>Roc_auc_score</th>\n",
              "      <th>Accuracy</th>\n",
              "      <th>Precision</th>\n",
              "      <th>Runtime Training</th>\n",
              "      <th>Runtime Prediction</th>\n",
              "    </tr>\n",
              "    <tr>\n",
              "      <th>Model</th>\n",
              "      <th></th>\n",
              "      <th></th>\n",
              "      <th></th>\n",
              "      <th></th>\n",
              "      <th></th>\n",
              "    </tr>\n",
              "  </thead>\n",
              "  <tbody>\n",
              "    <tr>\n",
              "      <th>gbk</th>\n",
              "      <td>0.770393</td>\n",
              "      <td>63.253769</td>\n",
              "      <td>0.632538</td>\n",
              "      <td>14.895503</td>\n",
              "      <td>0.121666</td>\n",
              "    </tr>\n",
              "    <tr>\n",
              "      <th>LGBM</th>\n",
              "      <td>0.770237</td>\n",
              "      <td>63.222362</td>\n",
              "      <td>0.632224</td>\n",
              "      <td>1.609524</td>\n",
              "      <td>0.022287</td>\n",
              "    </tr>\n",
              "    <tr>\n",
              "      <th>GNB</th>\n",
              "      <td>0.734802</td>\n",
              "      <td>57.514133</td>\n",
              "      <td>0.575141</td>\n",
              "      <td>0.008682</td>\n",
              "      <td>0.003544</td>\n",
              "    </tr>\n",
              "    <tr>\n",
              "      <th>Random Forest</th>\n",
              "      <td>0.728725</td>\n",
              "      <td>56.603329</td>\n",
              "      <td>0.566033</td>\n",
              "      <td>0.405473</td>\n",
              "      <td>0.041241</td>\n",
              "    </tr>\n",
              "    <tr>\n",
              "      <th>LR</th>\n",
              "      <td>0.627564</td>\n",
              "      <td>40.420854</td>\n",
              "      <td>0.404209</td>\n",
              "      <td>2.319899</td>\n",
              "      <td>0.003019</td>\n",
              "    </tr>\n",
              "    <tr>\n",
              "      <th>KNN</th>\n",
              "      <td>0.590893</td>\n",
              "      <td>34.579146</td>\n",
              "      <td>0.345791</td>\n",
              "      <td>0.032337</td>\n",
              "      <td>0.388738</td>\n",
              "    </tr>\n",
              "  </tbody>\n",
              "</table>\n",
              "</div>"
            ],
            "text/plain": [
              "               Roc_auc_score   Accuracy  ...  Runtime Training  Runtime Prediction\n",
              "Model                                    ...                                      \n",
              "gbk                 0.770393  63.253769  ...         14.895503            0.121666\n",
              "LGBM                0.770237  63.222362  ...          1.609524            0.022287\n",
              "GNB                 0.734802  57.514133  ...          0.008682            0.003544\n",
              "Random Forest       0.728725  56.603329  ...          0.405473            0.041241\n",
              "LR                  0.627564  40.420854  ...          2.319899            0.003019\n",
              "KNN                 0.590893  34.579146  ...          0.032337            0.388738\n",
              "\n",
              "[6 rows x 5 columns]"
            ]
          },
          "metadata": {
            "tags": []
          },
          "execution_count": 452
        }
      ]
    },
    {
      "cell_type": "code",
      "metadata": {
        "id": "kxZBCX53FFAr",
        "colab_type": "code",
        "colab": {
          "base_uri": "https://localhost:8080/",
          "height": 54
        },
        "outputId": "c49a9b8e-5261-46ec-8d85-4a36ed3bb649"
      },
      "source": [
        "from sklearn.model_selection import cross_validate\n",
        "gbk_cv = GradientBoostingClassifier(n_estimators=10)\n",
        "scoring = {'acc': 'accuracy',\n",
        "           'prec_macro': 'precision_macro',\n",
        "           'rec_micro': 'recall_macro'}\n",
        "scores = cross_validate(gbk_cv, X_train, y_train, cv=3, scoring = scoring)\n",
        "print(\"Scores:\", scores)\n",
        "#print(\"Mean:\", scores.mean())\n",
        "#print(\"Standard Deviation:\", scores.std())"
      ],
      "execution_count": 453,
      "outputs": [
        {
          "output_type": "stream",
          "text": [
            "Scores: {'fit_time': array([1.03595829, 1.03939795, 1.03713393]), 'score_time': array([0.03010798, 0.0301466 , 0.03005624]), 'test_acc': array([0.61740359, 0.6213406 , 0.62301868]), 'test_prec_macro': array([0.61359779, 0.61760227, 0.6221036 ]), 'test_rec_micro': array([0.61735331, 0.62134563, 0.62313733])}\n"
          ],
          "name": "stdout"
        }
      ]
    },
    {
      "cell_type": "code",
      "metadata": {
        "id": "wDOBGC4UHk-D",
        "colab_type": "code",
        "colab": {
          "base_uri": "https://localhost:8080/",
          "height": 227
        },
        "outputId": "d06a96fd-7f13-46a3-95f9-df78d92a2a97"
      },
      "source": [
        "importances = pd.DataFrame({\n",
        "    #'Feature': dTreated.drop('Satisfaction', axis=1).columns,\n",
        "    'Feature': features.columns,\n",
        "    'Importance': gbk.feature_importances_\n",
        "})\n",
        "importances = importances.sort_values(by='Importance', ascending=True)\n",
        "importances = importances.set_index('Feature')\n",
        "importances"
      ],
      "execution_count": 454,
      "outputs": [
        {
          "output_type": "execute_result",
          "data": {
            "text/html": [
              "<div>\n",
              "<style scoped>\n",
              "    .dataframe tbody tr th:only-of-type {\n",
              "        vertical-align: middle;\n",
              "    }\n",
              "\n",
              "    .dataframe tbody tr th {\n",
              "        vertical-align: top;\n",
              "    }\n",
              "\n",
              "    .dataframe thead th {\n",
              "        text-align: right;\n",
              "    }\n",
              "</style>\n",
              "<table border=\"1\" class=\"dataframe\">\n",
              "  <thead>\n",
              "    <tr style=\"text-align: right;\">\n",
              "      <th></th>\n",
              "      <th>Importance</th>\n",
              "    </tr>\n",
              "    <tr>\n",
              "      <th>Feature</th>\n",
              "      <th></th>\n",
              "    </tr>\n",
              "  </thead>\n",
              "  <tbody>\n",
              "    <tr>\n",
              "      <th>condition</th>\n",
              "      <td>0.016948</td>\n",
              "    </tr>\n",
              "    <tr>\n",
              "      <th>count_letters</th>\n",
              "      <td>0.018094</td>\n",
              "    </tr>\n",
              "    <tr>\n",
              "      <th>easeofuse</th>\n",
              "      <td>0.047387</td>\n",
              "    </tr>\n",
              "    <tr>\n",
              "      <th>lstm_score</th>\n",
              "      <td>0.278739</td>\n",
              "    </tr>\n",
              "    <tr>\n",
              "      <th>effectiveness</th>\n",
              "      <td>0.638831</td>\n",
              "    </tr>\n",
              "  </tbody>\n",
              "</table>\n",
              "</div>"
            ],
            "text/plain": [
              "               Importance\n",
              "Feature                  \n",
              "condition        0.016948\n",
              "count_letters    0.018094\n",
              "easeofuse        0.047387\n",
              "lstm_score       0.278739\n",
              "effectiveness    0.638831"
            ]
          },
          "metadata": {
            "tags": []
          },
          "execution_count": 454
        }
      ]
    },
    {
      "cell_type": "code",
      "metadata": {
        "id": "sp6Bxto5Hmu5",
        "colab_type": "code",
        "colab": {
          "base_uri": "https://localhost:8080/",
          "height": 654
        },
        "outputId": "3cfb6a6c-6237-4e3e-867c-da92e2987bf8"
      },
      "source": [
        "importances.plot.bar()"
      ],
      "execution_count": 455,
      "outputs": [
        {
          "output_type": "execute_result",
          "data": {
            "text/plain": [
              "<matplotlib.axes._subplots.AxesSubplot at 0x7f06dee08dd8>"
            ]
          },
          "metadata": {
            "tags": []
          },
          "execution_count": 455
        },
        {
          "output_type": "display_data",
          "data": {
            "image/png": "[encoded data removed]",
            "text/plain": [
              "<Figure size 864x648 with 1 Axes>"
            ]
          },
          "metadata": {
            "tags": []
          }
        }
      ]
    },
    {
      "cell_type": "markdown",
      "metadata": {
        "id": "1hf14QBnSJDS",
        "colab_type": "text"
      },
      "source": [
        "# Hyperparameter Tuning"
      ]
    },
    {
      "cell_type": "code",
      "metadata": {
        "id": "4wwUyzQQSAz1",
        "colab_type": "code",
        "colab": {
          "base_uri": "https://localhost:8080/",
          "height": 443
        },
        "outputId": "aa1ee703-eea0-477e-f3a5-6bf2a10caf72"
      },
      "source": [
        "from pprint import pprint\n",
        "# Look at parameters used by our current forest\n",
        "print('Parameters currently in use:\\n')\n",
        "pprint(gbk.get_params())"
      ],
      "execution_count": 456,
      "outputs": [
        {
          "output_type": "stream",
          "text": [
            "Parameters currently in use:\n",
            "\n",
            "{'ccp_alpha': 0.0,\n",
            " 'criterion': 'friedman_mse',\n",
            " 'init': None,\n",
            " 'learning_rate': 0.1,\n",
            " 'loss': 'deviance',\n",
            " 'max_depth': 3,\n",
            " 'max_features': None,\n",
            " 'max_leaf_nodes': None,\n",
            " 'min_impurity_decrease': 0.0,\n",
            " 'min_impurity_split': None,\n",
            " 'min_samples_leaf': 1,\n",
            " 'min_samples_split': 2,\n",
            " 'min_weight_fraction_leaf': 0.0,\n",
            " 'n_estimators': 100,\n",
            " 'n_iter_no_change': None,\n",
            " 'presort': 'deprecated',\n",
            " 'random_state': None,\n",
            " 'subsample': 1.0,\n",
            " 'tol': 0.0001,\n",
            " 'validation_fraction': 0.1,\n",
            " 'verbose': 0,\n",
            " 'warm_start': False}\n"
          ],
          "name": "stdout"
        }
      ]
    },
    {
      "cell_type": "code",
      "metadata": {
        "id": "Ec2UzuTuSAnT",
        "colab_type": "code",
        "colab": {
          "base_uri": "https://localhost:8080/",
          "height": 105
        },
        "outputId": "93f51e85-3563-42eb-90a6-c341a46933c3"
      },
      "source": [
        "from sklearn.model_selection import RandomizedSearchCV\n",
        "# Number of trees in GradientBoostingClassifier()\n",
        "n_estimators = [int(x) for x in np.linspace(start = 100, stop = 500, num = 5)]\n",
        "# Number of features to consider at every split\n",
        "#max_features = ['None', 'sqrt']\n",
        "# Maximum number of levels in tree\n",
        "max_depth = [int(x) for x in np.linspace(1, 19, num = 10)]\n",
        "max_depth.append(None)\n",
        "# Minimum number of samples required to split a node\n",
        "min_samples_split = [2, 5, 10]\n",
        "# Minimum number of samples required at each leaf node\n",
        "min_samples_leaf = [1, 2, 4]\n",
        "# Method of selecting samples for training each tree\n",
        "learning_rate = [0.001, 0.01, 0.1, 0.2]\n",
        "# Create the random grid\n",
        "random_grid = {'n_estimators': n_estimators,\n",
        "               \n",
        "               'max_depth': max_depth,\n",
        "               'min_samples_split': min_samples_split,\n",
        "               'min_samples_leaf': min_samples_leaf,\n",
        "               'learning_rate': learning_rate}\n",
        "pprint(random_grid)"
      ],
      "execution_count": 457,
      "outputs": [
        {
          "output_type": "stream",
          "text": [
            "{'learning_rate': [0.001, 0.01, 0.1, 0.2],\n",
            " 'max_depth': [1, 3, 5, 7, 9, 11, 13, 15, 17, 19, None],\n",
            " 'min_samples_leaf': [1, 2, 4],\n",
            " 'min_samples_split': [2, 5, 10],\n",
            " 'n_estimators': [100, 200, 300, 400, 500]}\n"
          ],
          "name": "stdout"
        }
      ]
    },
    {
      "cell_type": "code",
      "metadata": {
        "id": "Xk0NBv0lScLE",
        "colab_type": "code",
        "colab": {
          "base_uri": "https://localhost:8080/",
          "height": 585
        },
        "outputId": "6157ed52-f72e-4998-d398-295b97f850b5"
      },
      "source": [
        "# Use the random grid to search for best hyperparameters\n",
        "\n",
        "# Random search of parameters, using 3 fold cross validation, \n",
        "# search across 10 different combinations, and use all available cores\n",
        "gbk_random = RandomizedSearchCV(estimator = gbk, param_distributions = random_grid, n_iter = 1, cv = 3, verbose=2, random_state=42, n_jobs = -1)\n",
        "# Fit the random search model\n",
        "gbk_random.fit(X_train, y_train)"
      ],
      "execution_count": 458,
      "outputs": [
        {
          "output_type": "stream",
          "text": [
            "Fitting 3 folds for each of 1 candidates, totalling 3 fits\n"
          ],
          "name": "stdout"
        },
        {
          "output_type": "stream",
          "text": [
            "[Parallel(n_jobs=-1)]: Using backend LokyBackend with 40 concurrent workers.\n",
            "[Parallel(n_jobs=-1)]: Done   3 out of   3 | elapsed:   39.6s finished\n"
          ],
          "name": "stderr"
        },
        {
          "output_type": "execute_result",
          "data": {
            "text/plain": [
              "RandomizedSearchCV(cv=3, error_score=nan,\n",
              "                   estimator=GradientBoostingClassifier(ccp_alpha=0.0,\n",
              "                                                        criterion='friedman_mse',\n",
              "                                                        init=None,\n",
              "                                                        learning_rate=0.1,\n",
              "                                                        loss='deviance',\n",
              "                                                        max_depth=3,\n",
              "                                                        max_features=None,\n",
              "                                                        max_leaf_nodes=None,\n",
              "                                                        min_impurity_decrease=0.0,\n",
              "                                                        min_impurity_split=None,\n",
              "                                                        min_samples_leaf=1,\n",
              "                                                        min_samples_split=2,\n",
              "                                                        min_weight_fraction_leaf=0.0,\n",
              "                                                        n_estimators=100,\n",
              "                                                        n_ite...\n",
              "                                                        verbose=0,\n",
              "                                                        warm_start=False),\n",
              "                   iid='deprecated', n_iter=1, n_jobs=-1,\n",
              "                   param_distributions={'learning_rate': [0.001, 0.01, 0.1,\n",
              "                                                          0.2],\n",
              "                                        'max_depth': [1, 3, 5, 7, 9, 11, 13, 15,\n",
              "                                                      17, 19, None],\n",
              "                                        'min_samples_leaf': [1, 2, 4],\n",
              "                                        'min_samples_split': [2, 5, 10],\n",
              "                                        'n_estimators': [100, 200, 300, 400,\n",
              "                                                         500]},\n",
              "                   pre_dispatch='2*n_jobs', random_state=42, refit=True,\n",
              "                   return_train_score=False, scoring=None, verbose=2)"
            ]
          },
          "metadata": {
            "tags": []
          },
          "execution_count": 458
        }
      ]
    },
    {
      "cell_type": "code",
      "metadata": {
        "id": "9T-JGgqLScAY",
        "colab_type": "code",
        "colab": {
          "base_uri": "https://localhost:8080/",
          "height": 123
        },
        "outputId": "0bb5dbd4-9f32-49b5-d78a-cbbb88348dd4"
      },
      "source": [
        "# Best parameter values, with best score of accuracy using Hyperparameter tuning\n",
        "gbk_random.best_params_,gbk_random.best_score_"
      ],
      "execution_count": 459,
      "outputs": [
        {
          "output_type": "execute_result",
          "data": {
            "text/plain": [
              "({'learning_rate': 0.1,\n",
              "  'max_depth': 7,\n",
              "  'min_samples_leaf': 1,\n",
              "  'min_samples_split': 2,\n",
              "  'n_estimators': 200},\n",
              " 0.6081703873724128)"
            ]
          },
          "metadata": {
            "tags": []
          },
          "execution_count": 459
        }
      ]
    },
    {
      "cell_type": "code",
      "metadata": {
        "id": "mP6HTwrgSb3k",
        "colab_type": "code",
        "colab": {
          "base_uri": "https://localhost:8080/",
          "height": 34
        },
        "outputId": "57a339f1-a962-42f3-bc1a-4bf4f8dbd2bb"
      },
      "source": [
        "#implementing hyperopt tuning with set parameter values\n",
        "GBoost = GradientBoostingClassifier(max_depth=3, min_samples_leaf=1, min_samples_split=2, n_estimators=400, learning_rate=0.07)\n",
        "#max_depth=3, min_samples_leaf=1, min_samples_split=2, n_estimators=400, learning_rate=0.07\n",
        "\n",
        "GBoost.fit(X_train, y_train)\n",
        "preds = GBoost.predict(X_test)\n",
        "\n",
        "accuracy = (preds == y_test).sum().astype(float) / len(preds)*100\n",
        "\n",
        "print(\"Gradient Boost's prediction accuracy WITH optimal hyperparameters is: %3.2f\" % (accuracy))"
      ],
      "execution_count": 477,
      "outputs": [
        {
          "output_type": "stream",
          "text": [
            "Gradient Boost's prediction accuracy WITH optimal hyperparameters is: 63.40\n"
          ],
          "name": "stdout"
        }
      ]
    },
    {
      "cell_type": "code",
      "metadata": {
        "id": "3hUXuyqgSbu6",
        "colab_type": "code",
        "colab": {
          "base_uri": "https://localhost:8080/",
          "height": 54
        },
        "outputId": "435f0e40-5ac4-43ea-fe50-3009535d59b7"
      },
      "source": [
        "scores = cross_validate(GBoost, X_train, y_train, cv=3, scoring = scoring)\n",
        "print(\"Scores:\", scores)"
      ],
      "execution_count": 478,
      "outputs": [
        {
          "output_type": "stream",
          "text": [
            "Scores: {'fit_time': array([40.17642808, 39.89439535, 39.58676553]), 'score_time': array([0.29381943, 0.29856038, 0.29381299]), 'test_acc': array([0.63204119, 0.62911367, 0.63483089]), 'test_prec_macro': array([0.62770038, 0.62461977, 0.63124409]), 'test_rec_micro': array([0.63193607, 0.62902654, 0.63480718])}\n"
          ],
          "name": "stdout"
        }
      ]
    },
    {
      "cell_type": "code",
      "metadata": {
        "id": "DOHjU4Qp38f7",
        "colab_type": "code",
        "colab": {
          "base_uri": "https://localhost:8080/",
          "height": 105
        },
        "outputId": "8c80ff43-9205-4433-cf41-bd2c20232abd"
      },
      "source": [
        "confusion_matrix(preds, y_test)"
      ],
      "execution_count": 480,
      "outputs": [
        {
          "output_type": "execute_result",
          "data": {
            "text/plain": [
              "array([[1978,  461,  136,   33,   30],\n",
              "       [ 425, 1388,  637,  138,   43],\n",
              "       [  89,  471, 1230,  441,  106],\n",
              "       [  42,  152,  399, 1465,  323],\n",
              "       [  64,   97,  173,  402, 2013]])"
            ]
          },
          "metadata": {
            "tags": []
          },
          "execution_count": 480
        }
      ]
    },
    {
      "cell_type": "code",
      "metadata": {
        "id": "8opz7nYG5d-l",
        "colab_type": "code",
        "colab": {
          "base_uri": "https://localhost:8080/",
          "height": 70
        },
        "outputId": "9fd243cf-d1b5-4fd8-df04-8374734b35b7"
      },
      "source": [
        "from sklearn.metrics import recall_score, f1_score\n",
        "print(\"Precision on test dataset:\", precision_score(y_test, preds, average='micro'))\n",
        "print(\"Recall on test dataset:\",recall_score(y_test, preds, average='micro'))\n",
        "print(\"F1-Score on test dataset:\", f1_score(y_test, preds, average='micro'))"
      ],
      "execution_count": 481,
      "outputs": [
        {
          "output_type": "stream",
          "text": [
            "Precision on test dataset: 0.6339510050251256\n",
            "Recall on test dataset: 0.6339510050251256\n",
            "F1-Score on test dataset: 0.6339510050251256\n"
          ],
          "name": "stdout"
        }
      ]
    },
    {
      "cell_type": "code",
      "metadata": {
        "id": "hf4-jOLr5vq3",
        "colab_type": "code",
        "colab": {
          "base_uri": "https://localhost:8080/",
          "height": 283
        },
        "outputId": "d113136c-7bd5-4b7c-85e5-ff5bb3c97528"
      },
      "source": [
        "# Classification report\n",
        "import sklearn.metrics as metrics\n",
        "print('\\t\\t\\t\\tCLASSIFICATIION METRICS \\n \\t\\t\\tfor test dataset\\n')\n",
        "print(metrics.classification_report(y_test, preds))"
      ],
      "execution_count": 482,
      "outputs": [
        {
          "output_type": "stream",
          "text": [
            "\t\t\t\tCLASSIFICATIION METRICS \n",
            " \t\t\tfor test dataset\n",
            "\n",
            "              precision    recall  f1-score   support\n",
            "\n",
            "         1.0       0.75      0.76      0.76      2598\n",
            "         2.0       0.53      0.54      0.53      2569\n",
            "         3.0       0.53      0.48      0.50      2575\n",
            "         4.0       0.62      0.59      0.60      2479\n",
            "         5.0       0.73      0.80      0.76      2515\n",
            "\n",
            "    accuracy                           0.63     12736\n",
            "   macro avg       0.63      0.63      0.63     12736\n",
            "weighted avg       0.63      0.63      0.63     12736\n",
            "\n"
          ],
          "name": "stdout"
        }
      ]
    },
    {
      "cell_type": "code",
      "metadata": {
        "id": "WxDbFuqKJArH",
        "colab_type": "code",
        "colab": {
          "base_uri": "https://localhost:8080/",
          "height": 34
        },
        "outputId": "a03b068d-e2f4-41d3-bf8e-2888779da12d"
      },
      "source": [
        "y_pred1= lb.transform(preds)\n",
        "# roc_auc_score for test data\n",
        "roc_auc_score(y_test1, y_pred1, average=\"macro\")"
      ],
      "execution_count": 483,
      "outputs": [
        {
          "output_type": "execute_result",
          "data": {
            "text/plain": [
              "0.7713055224711969"
            ]
          },
          "metadata": {
            "tags": []
          },
          "execution_count": 483
        }
      ]
    },
    {
      "cell_type": "code",
      "metadata": {
        "id": "OncL2coYJGdv",
        "colab_type": "code",
        "colab": {}
      },
      "source": [
        "from itertools import cycle\n",
        "from sklearn.metrics import roc_curve, auc\n",
        "from sklearn.preprocessing import label_binarize\n",
        "from scipy import interp\n",
        "\n",
        "statis=target\n",
        "y = label_binarize(statis, classes=[0, 1, 2, 3, 4])\n",
        "n_classes = y.shape[1]\n",
        "\n",
        "# Compute ROC curve and ROC area for each class\n",
        "fpr = dict()\n",
        "tpr = dict()\n",
        "roc_auc = dict()\n",
        "for i in range(n_classes):\n",
        "    fpr[i], tpr[i], _ = roc_curve(y_test1[:, i], y_pred1[:, i])\n",
        "    roc_auc[i] = auc(fpr[i], tpr[i])\n",
        "\n",
        "# Compute micro-average ROC curve and ROC area\n",
        "fpr[\"micro\"], tpr[\"micro\"], _ = roc_curve(y_test1.ravel(), y_pred1.ravel())\n",
        "roc_auc[\"micro\"] = auc(fpr[\"micro\"], tpr[\"micro\"])"
      ],
      "execution_count": 484,
      "outputs": []
    },
    {
      "cell_type": "code",
      "metadata": {
        "id": "sUMmYjxVJUpO",
        "colab_type": "code",
        "colab": {
          "base_uri": "https://localhost:8080/",
          "height": 577
        },
        "outputId": "77da7274-9e26-4079-ae43-da035592e869"
      },
      "source": [
        "plt.figure()\n",
        "lw = 2\n",
        "plt.plot(fpr[2], tpr[2], color='darkorange',\n",
        "         lw=lw, label='ROC curve (area = %0.2f)' % roc_auc[2])\n",
        "plt.plot([0, 1], [0, 1], color='navy', lw=lw, linestyle='--')\n",
        "plt.xlim([0.0, 1.0])\n",
        "plt.ylim([0.0, 1.05])\n",
        "plt.xlabel('False Positive Rate')\n",
        "plt.ylabel('True Positive Rate')\n",
        "plt.title('Receiver operating characteristic example')\n",
        "plt.legend(loc=\"lower right\")\n",
        "plt.show()"
      ],
      "execution_count": 485,
      "outputs": [
        {
          "output_type": "display_data",
          "data": {
            "image/png": "[encoded data removed]",
            "text/plain": [
              "<Figure size 864x648 with 1 Axes>"
            ]
          },
          "metadata": {
            "tags": []
          }
        }
      ]
    },
    {
      "cell_type": "code",
      "metadata": {
        "id": "91PPdZxqJcGO",
        "colab_type": "code",
        "colab": {
          "base_uri": "https://localhost:8080/",
          "height": 633
        },
        "outputId": "17cdcc93-7890-44cd-cd97-4200eaa3e01e"
      },
      "source": [
        "from scipy import interp\n",
        "from itertools import cycle\n",
        "\n",
        "# First aggregate all false positive rates\n",
        "all_fpr = np.unique(np.concatenate([fpr[i] for i in range(n_classes)]))\n",
        "\n",
        "# Then interpolate all ROC curves at this points\n",
        "mean_tpr = np.zeros_like(all_fpr)\n",
        "for i in range(n_classes):\n",
        "    mean_tpr += interp(all_fpr, fpr[i], tpr[i])\n",
        "\n",
        "# Finally average it and compute AUC\n",
        "mean_tpr /= n_classes\n",
        "\n",
        "fpr[\"macro\"] = all_fpr\n",
        "tpr[\"macro\"] = mean_tpr\n",
        "roc_auc[\"macro\"] = auc(fpr[\"macro\"], tpr[\"macro\"])\n",
        "\n",
        "# Plot all ROC curves\n",
        "plt.figure()\n",
        "plt.plot(fpr[\"micro\"], tpr[\"micro\"],\n",
        "         label='micro-average ROC curve (area = {0:0.2f})'\n",
        "               ''.format(roc_auc[\"micro\"]),\n",
        "         color='deeppink', linestyle=':', linewidth=4)\n",
        "\n",
        "plt.plot(fpr[\"macro\"], tpr[\"macro\"],\n",
        "         label='macro-average ROC curve (area = {0:0.2f})'\n",
        "               ''.format(roc_auc[\"macro\"]),\n",
        "         color='navy', linestyle=':', linewidth=4)\n",
        "\n",
        "colors = cycle(['aqua', 'darkorange', 'cornflowerblue'])\n",
        "for i, color in zip(range(n_classes), colors):\n",
        "    plt.plot(fpr[i], tpr[i], color=color, lw=lw,\n",
        "             label='ROC curve of class {0} (area = {1:0.2f})'\n",
        "             ''.format(i, roc_auc[i]))\n",
        "\n",
        "plt.plot([0, 1], [0, 1], 'k--', lw=lw)\n",
        "plt.xlim([0.0, 1.0])\n",
        "plt.ylim([0.0, 1.0])\n",
        "plt.xlabel('False Positive Rate')\n",
        "plt.ylabel('True Positive Rate')\n",
        "plt.title('Some extension of Receiver operating characteristic to multi-class on test data')\n",
        "plt.legend(loc=\"lower right\")\n",
        "plt.show()"
      ],
      "execution_count": 486,
      "outputs": [
        {
          "output_type": "stream",
          "text": [
            "/usr/local/lib/python3.6/dist-packages/ipykernel_launcher.py:10: DeprecationWarning: scipy.interp is deprecated and will be removed in SciPy 2.0.0, use numpy.interp instead\n",
            "  # Remove the CWD from sys.path while we load stuff.\n"
          ],
          "name": "stderr"
        },
        {
          "output_type": "display_data",
          "data": {
            "image/png": "[encoded data removed]",
            "text/plain": [
              "<Figure size 864x648 with 1 Axes>"
            ]
          },
          "metadata": {
            "tags": []
          }
        }
      ]
    },
    {
      "cell_type": "code",
      "metadata": {
        "id": "BCoYUYTeY50r",
        "colab_type": "code",
        "colab": {}
      },
      "source": [
        ""
      ],
      "execution_count": 486,
      "outputs": []
    }
  ]
}