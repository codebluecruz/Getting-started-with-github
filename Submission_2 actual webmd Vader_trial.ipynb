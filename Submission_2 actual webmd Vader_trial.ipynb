{
  "nbformat": 4,
  "nbformat_minor": 0,
  "metadata": {
    "colab": {
      "name": "predicted lstm trial.ipynb",
      "provenance": [],
      "collapsed_sections": [],
      "machine_shape": "hm",
      "include_colab_link": true
    },
    "kernelspec": {
      "name": "python3",
      "display_name": "Python 3"
    }
  },
  "cells": [
    {
      "cell_type": "markdown",
      "metadata": {
        "id": "view-in-github",
        "colab_type": "text"
      },
      "source": [
        "<a href=\"https://colab.research.google.com/github/codebluecruz/Getting-started-with-github/blob/master/Submission_2%20actual%20webmd%20Vader_trial.ipynb\" target=\"_parent\"><img src=\"https://colab.research.google.com/assets/colab-badge.svg\" alt=\"Open In Colab\"/></a>"
      ]
    },
    {
      "cell_type": "markdown",
      "metadata": {
        "_uuid": "dd4d87a956090846d694ee5cb73e9d4581fa24f6",
        "id": "1TCeMoZ_7PIv",
        "colab_type": "text"
      },
      "source": [
        "# Exploratory Data Analysis w/ Python\n",
        "\n",
        "This kernel comprise exploratory data analysis on the provided data, including: \n",
        "- Data loading\n",
        "- Data cleaning \n",
        "- Descriptive Analysis\n",
        "- Cleansing Op. on Reviews Column\n",
        "- Sentiment Analysis\n",
        "- Importing Models\n",
        "- Comparing Classifier outputs\n",
        "- Hyperparameter Optimisation\n",
        "- Evaluating Results(Accuracy, F1-Score, Roc_auc score, ROC_AUC Cruve)\n",
        "\n"
      ]
    },
    {
      "cell_type": "code",
      "metadata": {
        "trusted": true,
        "_uuid": "8c3b51399825e356312a7849da35ecc580227f55",
        "id": "4fXWe39B7PIx",
        "colab_type": "code",
        "colab": {
          "base_uri": "https://localhost:8080/",
          "height": 107
        },
        "outputId": "8f0373c2-4d4d-4b22-c128-8ac99bae4899"
      },
      "source": [
        "# Importing major libraries which will be used for our model\n",
        "import pandas as pd\n",
        "import matplotlib.pyplot as plt\n",
        "from scipy import stats\n",
        "import numpy as np\n",
        "import re\n",
        "import seaborn as sns\n",
        "import string\n",
        "import html\n",
        "from sklearn.preprocessing import normalize, MinMaxScaler\n",
        "from scipy.stats import spearmanr, pearsonr\n",
        "\n",
        "# NLTK for Text based analysis\n",
        "import nltk\n",
        "from nltk.corpus import stopwords\n",
        "from nltk.stem import SnowballStemmer\n",
        "import nltk\n",
        "nltk.download('stopwords')\n",
        "\n",
        "import warnings\n",
        "warnings.filterwarnings(\"ignore\", category=UserWarning, module='bs4')\n",
        "plt.style.use('ggplot')"
      ],
      "execution_count": 1,
      "outputs": [
        {
          "output_type": "stream",
          "text": [
            "/usr/local/lib/python3.6/dist-packages/statsmodels/tools/_testing.py:19: FutureWarning: pandas.util.testing is deprecated. Use the functions in the public API at pandas.testing instead.\n",
            "  import pandas.util.testing as tm\n"
          ],
          "name": "stderr"
        },
        {
          "output_type": "stream",
          "text": [
            "[nltk_data] Downloading package stopwords to /root/nltk_data...\n",
            "[nltk_data]   Unzipping corpora/stopwords.zip.\n"
          ],
          "name": "stdout"
        }
      ]
    },
    {
      "cell_type": "code",
      "metadata": {
        "id": "JNA-8waoDxUq",
        "colab_type": "code",
        "colab": {
          "base_uri": "https://localhost:8080/",
          "height": 125
        },
        "outputId": "9912d028-66fe-4e29-b523-71d6136351d9"
      },
      "source": [
        "# Environment used for codefile is Google Collaboratory, Here we're mounting our google drive as all our data is saved on drive itself,\n",
        "# saves us upload time.\n",
        "from google.colab import drive\n",
        "drive.mount('/content/drive')"
      ],
      "execution_count": 2,
      "outputs": [
        {
          "output_type": "stream",
          "text": [
            "Go to this URL in a browser: https://accounts.google.com/o/oauth2/auth?client_id=947318989803-6bn6qk8qdgf4n4g3pfee6491hc0brc4i.apps.googleusercontent.com&redirect_uri=urn%3aietf%3awg%3aoauth%3a2.0%3aoob&response_type=code&scope=email%20https%3a%2f%2fwww.googleapis.com%2fauth%2fdocs.test%20https%3a%2f%2fwww.googleapis.com%2fauth%2fdrive%20https%3a%2f%2fwww.googleapis.com%2fauth%2fdrive.photos.readonly%20https%3a%2f%2fwww.googleapis.com%2fauth%2fpeopleapi.readonly\n",
            "\n",
            "Enter your authorization code:\n",
            "··········\n",
            "Mounted at /content/drive\n"
          ],
          "name": "stdout"
        }
      ]
    },
    {
      "cell_type": "markdown",
      "metadata": {
        "_uuid": "9211934c152e8b40da08ba819800775662979593",
        "id": "DPR5Rjae7PI1",
        "colab_type": "text"
      },
      "source": [
        "## Data Loading \n",
        "\n",
        "Since we're using Google Colab, we'll directly upload our data file from Google Drive."
      ]
    },
    {
      "cell_type": "code",
      "metadata": {
        "_kg_hide-input": false,
        "trusted": true,
        "_uuid": "8678481568c9b1bdd42da356206c2561cd521119",
        "id": "VFDWZdts7PI2",
        "colab_type": "code",
        "colab": {
          "base_uri": "https://localhost:8080/",
          "height": 72
        },
        "outputId": "815b2e23-2fa0-41b2-9627-133ca4224717"
      },
      "source": [
        "# Reading data \n",
        "drugs = pd.read_csv('/content/drive/My Drive/newset_webmd.csv', skiprows=0)"
      ],
      "execution_count": 23,
      "outputs": [
        {
          "output_type": "stream",
          "text": [
            "/usr/local/lib/python3.6/dist-packages/IPython/core/interactiveshell.py:2718: DtypeWarning: Columns (0,1,2,3,7,9,10) have mixed types.Specify dtype option on import or set low_memory=False.\n",
            "  interactivity=interactivity, compiler=compiler, result=result)\n"
          ],
          "name": "stderr"
        }
      ]
    },
    {
      "cell_type": "markdown",
      "metadata": {
        "id": "iUT5LDrBuPxa",
        "colab_type": "text"
      },
      "source": [
        "## Data Cleansing\n",
        "Before we perform any operations on our dataset, we need to be very sure of How clean our data is, or else it will not show us actual results."
      ]
    },
    {
      "cell_type": "code",
      "metadata": {
        "trusted": true,
        "_uuid": "a722edbd3dbf642d1d437517f259510a039e00d3",
        "id": "nK0kAzIL7PI6",
        "colab_type": "code",
        "colab": {}
      },
      "source": [
        "# droping any NaN rows from our dataset, , ,\n",
        "drugs = drugs.dropna(how = 'any', axis = 0)\n",
        "# changing all column names to LowerCase for uniformity\n",
        "drugs.columns = drugs.columns.str.lower()\n",
        "drugs.reset_index(drop = True, inplace = True)\n",
        "drugs['condition'].isnull().sum(axis = 0)\n",
        "#dropping unnecessary columns\n",
        "# removing Data columns(Date, Sex, Sides(Side effects)) which doesnt seem to be of much use\n",
        "drugs.drop(['date', 'sex', 'sides','age'], axis=1, inplace=True)\n",
        "# Also we're removing all duplicate reviews which appear in our dataset, as every individual must have given unique reviews to all drugs.\n",
        "drugs = drugs.drop_duplicates(subset=['reviews'], keep='first')"
      ],
      "execution_count": 24,
      "outputs": []
    },
    {
      "cell_type": "markdown",
      "metadata": {
        "id": "qJkSFk7Uump6",
        "colab_type": "text"
      },
      "source": [
        "### Resampling Dataset\n",
        "Here we have performed Data resampling, reason being we have 5 different classes for our dataset, and being a multi class problem it's better if we either Undersample or Oversample(SMOTE) our dataset, so to provide equal number of instances for each class.\n",
        "\n",
        "**We have performed Undersampling here, reason being dataset remains more closes to original values as it cuts down to the total number of instances present in dataset for any class**\n",
        "\n",
        "In counter1: It projects number of instances for each class, minimum being 8494 and maximum being 27616\n",
        "In counter 2: We can see the result of undersamlping our dataset. With equal instances of 8494 for each class."
      ]
    },
    {
      "cell_type": "code",
      "metadata": {
        "id": "di30muySyigE",
        "colab_type": "code",
        "colab": {
          "base_uri": "https://localhost:8080/",
          "height": 107
        },
        "outputId": "1373cc96-bd9b-47a2-f78d-c4b2eb20ed6a"
      },
      "source": [
        "# example of random undersampling to balance the class distribution\n",
        "from collections import Counter\n",
        "from sklearn.datasets import make_classification\n",
        "from imblearn.under_sampling import RandomUnderSampler\n",
        "# summarize class distribution in original dataset\n",
        "print(Counter(drugs['satisfaction']))\n",
        "# define undersample strategy, \"all\" metric suggests all classes will be undersampled to the least number of instances for any class.\n",
        "undersample = RandomUnderSampler(sampling_strategy='all')\n",
        "# fit and apply the transform\n",
        "X_over, y_over = undersample.fit_resample(drugs.drop(['satisfaction'], axis=1), drugs['satisfaction'])\n",
        "# summarize class distribution, we can check the result after Undersamlping.\n",
        "print(Counter(y_over))"
      ],
      "execution_count": 25,
      "outputs": [
        {
          "output_type": "stream",
          "text": [
            "Counter({1.0: 27616, 5.0: 27277, 4.0: 14026, 3.0: 11424, 2.0: 8494})\n",
            "Counter({1.0: 8494, 2.0: 8494, 3.0: 8494, 4.0: 8494, 5.0: 8494})\n"
          ],
          "name": "stdout"
        },
        {
          "output_type": "stream",
          "text": [
            "/usr/local/lib/python3.6/dist-packages/sklearn/utils/deprecation.py:87: FutureWarning: Function safe_indexing is deprecated; safe_indexing is deprecated in version 0.22 and will be removed in version 0.24.\n",
            "  warnings.warn(msg, category=FutureWarning)\n"
          ],
          "name": "stderr"
        }
      ]
    },
    {
      "cell_type": "code",
      "metadata": {
        "id": "zMy5QDfWzwYI",
        "colab_type": "code",
        "colab": {}
      },
      "source": [
        "# Undersamlping was performed with Separately keeping in mind about our features(X_over) and targets(y_over).\n",
        "drugs=pd.DataFrame(X_over)\n",
        "drugs1=pd.DataFrame(y_over)"
      ],
      "execution_count": 26,
      "outputs": []
    },
    {
      "cell_type": "code",
      "metadata": {
        "id": "rmq2QdMc1Zst",
        "colab_type": "code",
        "colab": {
          "base_uri": "https://localhost:8080/",
          "height": 77
        },
        "outputId": "4b09ac8c-b7ba-4832-99d6-593610f77f85"
      },
      "source": [
        "# After we perform Undersampling, system replaces the original column names with Index values, hence we're renaming our columns back to the Original names.\n",
        "drugs1.rename(columns={0:'satisfaction'}, inplace = True)\n",
        "drugs1.head(1)"
      ],
      "execution_count": 27,
      "outputs": [
        {
          "output_type": "execute_result",
          "data": {
            "text/html": [
              "<div>\n",
              "<style scoped>\n",
              "    .dataframe tbody tr th:only-of-type {\n",
              "        vertical-align: middle;\n",
              "    }\n",
              "\n",
              "    .dataframe tbody tr th {\n",
              "        vertical-align: top;\n",
              "    }\n",
              "\n",
              "    .dataframe thead th {\n",
              "        text-align: right;\n",
              "    }\n",
              "</style>\n",
              "<table border=\"1\" class=\"dataframe\">\n",
              "  <thead>\n",
              "    <tr style=\"text-align: right;\">\n",
              "      <th></th>\n",
              "      <th>satisfaction</th>\n",
              "    </tr>\n",
              "  </thead>\n",
              "  <tbody>\n",
              "    <tr>\n",
              "      <th>0</th>\n",
              "      <td>1.0</td>\n",
              "    </tr>\n",
              "  </tbody>\n",
              "</table>\n",
              "</div>"
            ],
            "text/plain": [
              "   satisfaction\n",
              "0           1.0"
            ]
          },
          "metadata": {
            "tags": []
          },
          "execution_count": 27
        }
      ]
    },
    {
      "cell_type": "code",
      "metadata": {
        "id": "C41_wBsBz5DK",
        "colab_type": "code",
        "colab": {
          "base_uri": "https://localhost:8080/",
          "height": 197
        },
        "outputId": "20240f46-b6ab-48d5-b06e-265f0117d35f"
      },
      "source": [
        "drugs.rename(columns = {0:'condition', 1:'drug',2:'drugid',3:'easeofuse',4:'effectiveness',5:'reviews', 6:'usefulcount'}, inplace = True)\n",
        "drugs.head(5)"
      ],
      "execution_count": 30,
      "outputs": [
        {
          "output_type": "execute_result",
          "data": {
            "text/html": [
              "<div>\n",
              "<style scoped>\n",
              "    .dataframe tbody tr th:only-of-type {\n",
              "        vertical-align: middle;\n",
              "    }\n",
              "\n",
              "    .dataframe tbody tr th {\n",
              "        vertical-align: top;\n",
              "    }\n",
              "\n",
              "    .dataframe thead th {\n",
              "        text-align: right;\n",
              "    }\n",
              "</style>\n",
              "<table border=\"1\" class=\"dataframe\">\n",
              "  <thead>\n",
              "    <tr style=\"text-align: right;\">\n",
              "      <th></th>\n",
              "      <th>condition</th>\n",
              "      <th>drug</th>\n",
              "      <th>drugid</th>\n",
              "      <th>easeofuse</th>\n",
              "      <th>effectiveness</th>\n",
              "      <th>reviews</th>\n",
              "      <th>usefulcount</th>\n",
              "    </tr>\n",
              "  </thead>\n",
              "  <tbody>\n",
              "    <tr>\n",
              "      <th>0</th>\n",
              "      <td>Acne</td>\n",
              "      <td>yaz</td>\n",
              "      <td>95358</td>\n",
              "      <td>4</td>\n",
              "      <td>1</td>\n",
              "      <td>worstened my acne</td>\n",
              "      <td>0</td>\n",
              "    </tr>\n",
              "    <tr>\n",
              "      <th>1</th>\n",
              "      <td>Birth Control</td>\n",
              "      <td>tri-estarylla</td>\n",
              "      <td>163763</td>\n",
              "      <td>1</td>\n",
              "      <td>1</td>\n",
              "      <td>Had increased anxiety, mood swings, depression...</td>\n",
              "      <td>0</td>\n",
              "    </tr>\n",
              "    <tr>\n",
              "      <th>2</th>\n",
              "      <td>Depression</td>\n",
              "      <td>remeron tablet</td>\n",
              "      <td>13707</td>\n",
              "      <td>5</td>\n",
              "      <td>4</td>\n",
              "      <td>This medication worked very well for my depres...</td>\n",
              "      <td>28</td>\n",
              "    </tr>\n",
              "    <tr>\n",
              "      <th>3</th>\n",
              "      <td>Urinary Tract Infection due to E. Coli Bacteria</td>\n",
              "      <td>macrodantin</td>\n",
              "      <td>5181</td>\n",
              "      <td>4</td>\n",
              "      <td>1</td>\n",
              "      <td>i have an infection with pain in the right kid...</td>\n",
              "      <td>0</td>\n",
              "    </tr>\n",
              "    <tr>\n",
              "      <th>4</th>\n",
              "      <td>Other</td>\n",
              "      <td>provigil</td>\n",
              "      <td>16964</td>\n",
              "      <td>4</td>\n",
              "      <td>2</td>\n",
              "      <td>I started taking Provigil for fatique related ...</td>\n",
              "      <td>18</td>\n",
              "    </tr>\n",
              "  </tbody>\n",
              "</table>\n",
              "</div>"
            ],
            "text/plain": [
              "                                         condition  ... usefulcount\n",
              "0                                             Acne  ...           0\n",
              "1                                    Birth Control  ...           0\n",
              "2                                       Depression  ...          28\n",
              "3  Urinary Tract Infection due to E. Coli Bacteria  ...           0\n",
              "4                                            Other  ...          18\n",
              "\n",
              "[5 rows x 7 columns]"
            ]
          },
          "metadata": {
            "tags": []
          },
          "execution_count": 30
        }
      ]
    },
    {
      "cell_type": "code",
      "metadata": {
        "id": "aTPJHSLE1soo",
        "colab_type": "code",
        "colab": {
          "base_uri": "https://localhost:8080/",
          "height": 77
        },
        "outputId": "41650640-1698-43c2-d342-4ccb8bde6fbd"
      },
      "source": [
        "# We need to concat our features(X_over) and targets(y_over) back in one dataset named Drugs\n",
        "drugs = pd.concat([drugs, drugs1], axis = 1)\n",
        "drugs.shape\n",
        "drugs.head(1)"
      ],
      "execution_count": 31,
      "outputs": [
        {
          "output_type": "execute_result",
          "data": {
            "text/html": [
              "<div>\n",
              "<style scoped>\n",
              "    .dataframe tbody tr th:only-of-type {\n",
              "        vertical-align: middle;\n",
              "    }\n",
              "\n",
              "    .dataframe tbody tr th {\n",
              "        vertical-align: top;\n",
              "    }\n",
              "\n",
              "    .dataframe thead th {\n",
              "        text-align: right;\n",
              "    }\n",
              "</style>\n",
              "<table border=\"1\" class=\"dataframe\">\n",
              "  <thead>\n",
              "    <tr style=\"text-align: right;\">\n",
              "      <th></th>\n",
              "      <th>condition</th>\n",
              "      <th>drug</th>\n",
              "      <th>drugid</th>\n",
              "      <th>easeofuse</th>\n",
              "      <th>effectiveness</th>\n",
              "      <th>reviews</th>\n",
              "      <th>usefulcount</th>\n",
              "      <th>satisfaction</th>\n",
              "    </tr>\n",
              "  </thead>\n",
              "  <tbody>\n",
              "    <tr>\n",
              "      <th>0</th>\n",
              "      <td>Acne</td>\n",
              "      <td>yaz</td>\n",
              "      <td>95358</td>\n",
              "      <td>4</td>\n",
              "      <td>1</td>\n",
              "      <td>worstened my acne</td>\n",
              "      <td>0</td>\n",
              "      <td>1.0</td>\n",
              "    </tr>\n",
              "  </tbody>\n",
              "</table>\n",
              "</div>"
            ],
            "text/plain": [
              "  condition drug drugid  ...            reviews usefulcount satisfaction\n",
              "0      Acne  yaz  95358  ...  worstened my acne           0          1.0\n",
              "\n",
              "[1 rows x 8 columns]"
            ]
          },
          "metadata": {
            "tags": []
          },
          "execution_count": 31
        }
      ]
    },
    {
      "cell_type": "code",
      "metadata": {
        "id": "QjDGqGRG5j4d",
        "colab_type": "code",
        "colab": {}
      },
      "source": [
        "# shuffle data to prepare final dataset, coz after resampling our dataset was arranged in \n",
        "# ascending order of Target(y_over) values which is a problem for our Model Performance.\n",
        "drugs=drugs.sample(frac=1)"
      ],
      "execution_count": 32,
      "outputs": []
    },
    {
      "cell_type": "markdown",
      "metadata": {
        "_uuid": "78ba9cdda16fc81c70e845bff88e402f9345922c",
        "id": "6BRPIx2R7PJD",
        "colab_type": "text"
      },
      "source": [
        "## Data Glimpse\n",
        "\n",
        "We are willing to check if this dataset have some corrupted data or non present values. \n"
      ]
    },
    {
      "cell_type": "code",
      "metadata": {
        "trusted": true,
        "_uuid": "1958006c6caf1d44ec2a2c26b2fb987a658b123b",
        "id": "lrbF5-GF7PJH",
        "colab_type": "code",
        "colab": {
          "base_uri": "https://localhost:8080/",
          "height": 34
        },
        "outputId": "49a46776-efa3-4060-f14d-49faec988b00"
      },
      "source": [
        "# Let's delete all of these corrupted rows\n",
        "print(\"Number of Corrupted Reviews: \", len(drugs[drugs.condition.str.contains(\" users found this comment helpful.\",na=False)]))\n",
        "drugs = drugs[~drugs.condition.str.contains(\" users found this comment helpful.\",na=False)]"
      ],
      "execution_count": 33,
      "outputs": [
        {
          "output_type": "stream",
          "text": [
            "Number of Corrupted Reviews:  0\n"
          ],
          "name": "stdout"
        }
      ]
    },
    {
      "cell_type": "code",
      "metadata": {
        "id": "eJ3YiKOH83gr",
        "colab_type": "code",
        "colab": {}
      },
      "source": [
        "# Converting desired columns in float dType.\n",
        "drugs['easeofuse']=drugs['easeofuse'].astype(float)\n",
        "drugs['effectiveness']=drugs['effectiveness'].astype(float)\n",
        "drugs['usefulcount']=drugs['usefulcount'].astype(float)\n",
        "drugs['drugid']=drugs['drugid'].astype(float)\n",
        "drugs['satisfaction']=drugs['satisfaction'].astype(float)"
      ],
      "execution_count": 34,
      "outputs": []
    },
    {
      "cell_type": "code",
      "metadata": {
        "trusted": true,
        "_uuid": "908dba91c19c44a2ca447a29e62ea8ec9a683b46",
        "id": "74F8yLtL7PJL",
        "colab_type": "code",
        "colab": {
          "base_uri": "https://localhost:8080/",
          "height": 287
        },
        "outputId": "4749a885-3885-4412-8b49-4e0637a4002a"
      },
      "source": [
        "# If we use Describe() for our cleaned Dataset \"drugs\", it only shows \"satisfaction\" column coz most of other columns\n",
        "# are in dType: Object, which we'll convert to float later on.\n",
        "drugs.describe()"
      ],
      "execution_count": 35,
      "outputs": [
        {
          "output_type": "execute_result",
          "data": {
            "text/html": [
              "<div>\n",
              "<style scoped>\n",
              "    .dataframe tbody tr th:only-of-type {\n",
              "        vertical-align: middle;\n",
              "    }\n",
              "\n",
              "    .dataframe tbody tr th {\n",
              "        vertical-align: top;\n",
              "    }\n",
              "\n",
              "    .dataframe thead th {\n",
              "        text-align: right;\n",
              "    }\n",
              "</style>\n",
              "<table border=\"1\" class=\"dataframe\">\n",
              "  <thead>\n",
              "    <tr style=\"text-align: right;\">\n",
              "      <th></th>\n",
              "      <th>drugid</th>\n",
              "      <th>easeofuse</th>\n",
              "      <th>effectiveness</th>\n",
              "      <th>usefulcount</th>\n",
              "      <th>satisfaction</th>\n",
              "    </tr>\n",
              "  </thead>\n",
              "  <tbody>\n",
              "    <tr>\n",
              "      <th>count</th>\n",
              "      <td>42470.000000</td>\n",
              "      <td>42470.000000</td>\n",
              "      <td>42470.000000</td>\n",
              "      <td>42470.000000</td>\n",
              "      <td>42470.00000</td>\n",
              "    </tr>\n",
              "    <tr>\n",
              "      <th>mean</th>\n",
              "      <td>46373.618507</td>\n",
              "      <td>4.021403</td>\n",
              "      <td>3.538945</td>\n",
              "      <td>6.904615</td>\n",
              "      <td>3.00000</td>\n",
              "    </tr>\n",
              "    <tr>\n",
              "      <th>std</th>\n",
              "      <td>58486.554043</td>\n",
              "      <td>1.259661</td>\n",
              "      <td>1.355199</td>\n",
              "      <td>8.937741</td>\n",
              "      <td>1.41423</td>\n",
              "    </tr>\n",
              "    <tr>\n",
              "      <th>min</th>\n",
              "      <td>1.000000</td>\n",
              "      <td>1.000000</td>\n",
              "      <td>1.000000</td>\n",
              "      <td>0.000000</td>\n",
              "      <td>1.00000</td>\n",
              "    </tr>\n",
              "    <tr>\n",
              "      <th>25%</th>\n",
              "      <td>6007.000000</td>\n",
              "      <td>3.000000</td>\n",
              "      <td>3.000000</td>\n",
              "      <td>1.000000</td>\n",
              "      <td>2.00000</td>\n",
              "    </tr>\n",
              "    <tr>\n",
              "      <th>50%</th>\n",
              "      <td>12566.000000</td>\n",
              "      <td>5.000000</td>\n",
              "      <td>4.000000</td>\n",
              "      <td>4.000000</td>\n",
              "      <td>3.00000</td>\n",
              "    </tr>\n",
              "    <tr>\n",
              "      <th>75%</th>\n",
              "      <td>78126.000000</td>\n",
              "      <td>5.000000</td>\n",
              "      <td>5.000000</td>\n",
              "      <td>9.000000</td>\n",
              "      <td>4.00000</td>\n",
              "    </tr>\n",
              "    <tr>\n",
              "      <th>max</th>\n",
              "      <td>178546.000000</td>\n",
              "      <td>5.000000</td>\n",
              "      <td>5.000000</td>\n",
              "      <td>255.000000</td>\n",
              "      <td>5.00000</td>\n",
              "    </tr>\n",
              "  </tbody>\n",
              "</table>\n",
              "</div>"
            ],
            "text/plain": [
              "              drugid     easeofuse  effectiveness   usefulcount  satisfaction\n",
              "count   42470.000000  42470.000000   42470.000000  42470.000000   42470.00000\n",
              "mean    46373.618507      4.021403       3.538945      6.904615       3.00000\n",
              "std     58486.554043      1.259661       1.355199      8.937741       1.41423\n",
              "min         1.000000      1.000000       1.000000      0.000000       1.00000\n",
              "25%      6007.000000      3.000000       3.000000      1.000000       2.00000\n",
              "50%     12566.000000      5.000000       4.000000      4.000000       3.00000\n",
              "75%     78126.000000      5.000000       5.000000      9.000000       4.00000\n",
              "max    178546.000000      5.000000       5.000000    255.000000       5.00000"
            ]
          },
          "metadata": {
            "tags": []
          },
          "execution_count": 35
        }
      ]
    },
    {
      "cell_type": "code",
      "metadata": {
        "trusted": true,
        "id": "RWA2D03i7PJP",
        "colab_type": "code",
        "colab": {
          "base_uri": "https://localhost:8080/",
          "height": 167
        },
        "outputId": "1d14a758-e8f0-4df2-b3f3-12b0e2b6386f"
      },
      "source": [
        "### Thought flow for Depression Confidence Intervals\n",
        "\"\"\"\n",
        "I want to take the df, filter by condition, drug, confidence interval, sample size cutoff)\n",
        "Then loop through all the drugs for a specific condition and calculate their\n",
        "mean, top limit, and bottom limit. \n",
        "\"\"\"\n",
        "# Create Confidence Interval Function\n",
        "def confidence_interval (data, ci_percent):\n",
        "  data = np.array(data) # Makes sure our data is in a numpy array\n",
        "  mean = np.mean(data)\n",
        "  n = len(data)\n",
        "  stderr = stats.sem(data)\n",
        "  interval = stderr * stats.t.ppf((1 + ci_percent) / 2., n - 1)\n",
        "  return (mean, mean - interval, mean + interval)\n",
        "\n",
        "\n",
        "def condition_compare (drugs, condition_id, ci_percent, sample_size_cutoff):\n",
        "  output_names = [\"Drug Name\", \"Sample Mean\", \"Lower Bound\", \"Upper Bound\", \"Sample Size\"]\n",
        "  drug_compare = []\n",
        "  data = drugs[drugs.condition == condition_id]\n",
        "  for drug in data.drug.unique():\n",
        "    one_drug = data[data.drug == drug].satisfaction\n",
        "    if one_drug.size > sample_size_cutoff:\n",
        "      mean, ilower, iupper= confidence_interval(one_drug, ci_percent)\n",
        "      entry = [drug, mean, ilower, iupper, one_drug.size]\n",
        "      drug_compare.append(entry)\n",
        "  return pd.DataFrame(drug_compare, columns=output_names)\n",
        "\n",
        "# COndition passed on here by us is \"Cough\".\n",
        "drugs2 = condition_compare(drugs, \"Cough\", 0.95, 10).sort_values(by=\"Sample Mean\", ascending=False)\n",
        "drugs2"
      ],
      "execution_count": 36,
      "outputs": [
        {
          "output_type": "execute_result",
          "data": {
            "text/html": [
              "<div>\n",
              "<style scoped>\n",
              "    .dataframe tbody tr th:only-of-type {\n",
              "        vertical-align: middle;\n",
              "    }\n",
              "\n",
              "    .dataframe tbody tr th {\n",
              "        vertical-align: top;\n",
              "    }\n",
              "\n",
              "    .dataframe thead th {\n",
              "        text-align: right;\n",
              "    }\n",
              "</style>\n",
              "<table border=\"1\" class=\"dataframe\">\n",
              "  <thead>\n",
              "    <tr style=\"text-align: right;\">\n",
              "      <th></th>\n",
              "      <th>Drug Name</th>\n",
              "      <th>Sample Mean</th>\n",
              "      <th>Lower Bound</th>\n",
              "      <th>Upper Bound</th>\n",
              "      <th>Sample Size</th>\n",
              "    </tr>\n",
              "  </thead>\n",
              "  <tbody>\n",
              "    <tr>\n",
              "      <th>1</th>\n",
              "      <td>tussionex</td>\n",
              "      <td>4.209302</td>\n",
              "      <td>3.904803</td>\n",
              "      <td>4.513802</td>\n",
              "      <td>43</td>\n",
              "    </tr>\n",
              "    <tr>\n",
              "      <th>3</th>\n",
              "      <td>promethazine-codeine</td>\n",
              "      <td>3.692308</td>\n",
              "      <td>3.175727</td>\n",
              "      <td>4.208889</td>\n",
              "      <td>13</td>\n",
              "    </tr>\n",
              "    <tr>\n",
              "      <th>0</th>\n",
              "      <td>tessalon perle</td>\n",
              "      <td>3.109091</td>\n",
              "      <td>2.786981</td>\n",
              "      <td>3.431201</td>\n",
              "      <td>110</td>\n",
              "    </tr>\n",
              "    <tr>\n",
              "      <th>2</th>\n",
              "      <td>promethazine-dm</td>\n",
              "      <td>2.588235</td>\n",
              "      <td>1.774094</td>\n",
              "      <td>3.402376</td>\n",
              "      <td>17</td>\n",
              "    </tr>\n",
              "  </tbody>\n",
              "</table>\n",
              "</div>"
            ],
            "text/plain": [
              "              Drug Name  Sample Mean  Lower Bound  Upper Bound  Sample Size\n",
              "1             tussionex     4.209302     3.904803     4.513802           43\n",
              "3  promethazine-codeine     3.692308     3.175727     4.208889           13\n",
              "0        tessalon perle     3.109091     2.786981     3.431201          110\n",
              "2       promethazine-dm     2.588235     1.774094     3.402376           17"
            ]
          },
          "metadata": {
            "tags": []
          },
          "execution_count": 36
        }
      ]
    },
    {
      "cell_type": "code",
      "metadata": {
        "id": "YfH81ZoYzS-q",
        "colab_type": "code",
        "colab": {
          "base_uri": "https://localhost:8080/",
          "height": 231
        },
        "outputId": "d344156a-be08-4f9f-9fa0-fd31e626441a"
      },
      "source": [
        "#We have created a column named \"uniqueid\" for every row, to easen up our operations.\n",
        "drugs['uniqueid'] = np.arange(len(drugs))\n",
        "drugs.head()"
      ],
      "execution_count": 37,
      "outputs": [
        {
          "output_type": "execute_result",
          "data": {
            "text/html": [
              "<div>\n",
              "<style scoped>\n",
              "    .dataframe tbody tr th:only-of-type {\n",
              "        vertical-align: middle;\n",
              "    }\n",
              "\n",
              "    .dataframe tbody tr th {\n",
              "        vertical-align: top;\n",
              "    }\n",
              "\n",
              "    .dataframe thead th {\n",
              "        text-align: right;\n",
              "    }\n",
              "</style>\n",
              "<table border=\"1\" class=\"dataframe\">\n",
              "  <thead>\n",
              "    <tr style=\"text-align: right;\">\n",
              "      <th></th>\n",
              "      <th>condition</th>\n",
              "      <th>drug</th>\n",
              "      <th>drugid</th>\n",
              "      <th>easeofuse</th>\n",
              "      <th>effectiveness</th>\n",
              "      <th>reviews</th>\n",
              "      <th>usefulcount</th>\n",
              "      <th>satisfaction</th>\n",
              "      <th>uniqueid</th>\n",
              "    </tr>\n",
              "  </thead>\n",
              "  <tbody>\n",
              "    <tr>\n",
              "      <th>8343</th>\n",
              "      <td>Birth Control</td>\n",
              "      <td>mirena intrauterine device</td>\n",
              "      <td>20420.0</td>\n",
              "      <td>3.0</td>\n",
              "      <td>5.0</td>\n",
              "      <td>i had mirena for two months and had it removed...</td>\n",
              "      <td>5.0</td>\n",
              "      <td>1.0</td>\n",
              "      <td>0</td>\n",
              "    </tr>\n",
              "    <tr>\n",
              "      <th>33467</th>\n",
              "      <td>Systemic Lupus Erythematosus</td>\n",
              "      <td>plaquenil</td>\n",
              "      <td>6986.0</td>\n",
              "      <td>3.0</td>\n",
              "      <td>3.0</td>\n",
              "      <td>Well I started this meds this two months ago a...</td>\n",
              "      <td>18.0</td>\n",
              "      <td>4.0</td>\n",
              "      <td>1</td>\n",
              "    </tr>\n",
              "    <tr>\n",
              "      <th>16933</th>\n",
              "      <td>Chronic Trouble Sleeping</td>\n",
              "      <td>trazodone hcl</td>\n",
              "      <td>11188.0</td>\n",
              "      <td>4.0</td>\n",
              "      <td>3.0</td>\n",
              "      <td>since being forced off Amitriptyline and put o...</td>\n",
              "      <td>12.0</td>\n",
              "      <td>2.0</td>\n",
              "      <td>2</td>\n",
              "    </tr>\n",
              "    <tr>\n",
              "      <th>7389</th>\n",
              "      <td>Disorder characterized by Stiff, Tender &amp; Pain...</td>\n",
              "      <td>ultram</td>\n",
              "      <td>11276.0</td>\n",
              "      <td>4.0</td>\n",
              "      <td>1.0</td>\n",
              "      <td>OMG I took a pill 15 hours ago and i am still ...</td>\n",
              "      <td>3.0</td>\n",
              "      <td>1.0</td>\n",
              "      <td>3</td>\n",
              "    </tr>\n",
              "    <tr>\n",
              "      <th>40761</th>\n",
              "      <td>Depression</td>\n",
              "      <td>pristiq</td>\n",
              "      <td>150251.0</td>\n",
              "      <td>5.0</td>\n",
              "      <td>5.0</td>\n",
              "      <td>I had been on Effexor for several years follow...</td>\n",
              "      <td>27.0</td>\n",
              "      <td>5.0</td>\n",
              "      <td>4</td>\n",
              "    </tr>\n",
              "  </tbody>\n",
              "</table>\n",
              "</div>"
            ],
            "text/plain": [
              "                                               condition  ... uniqueid\n",
              "8343                                       Birth Control  ...        0\n",
              "33467                       Systemic Lupus Erythematosus  ...        1\n",
              "16933                           Chronic Trouble Sleeping  ...        2\n",
              "7389   Disorder characterized by Stiff, Tender & Pain...  ...        3\n",
              "40761                                         Depression  ...        4\n",
              "\n",
              "[5 rows x 9 columns]"
            ]
          },
          "metadata": {
            "tags": []
          },
          "execution_count": 37
        }
      ]
    },
    {
      "cell_type": "code",
      "metadata": {
        "trusted": true,
        "_uuid": "cafe21fe35819e34426b87275a8a45accb8d0538",
        "id": "iz9v5wjz7PJR",
        "colab_type": "code",
        "colab": {
          "base_uri": "https://localhost:8080/",
          "height": 323
        },
        "outputId": "134357a7-b54e-4934-820d-638e345a813f"
      },
      "source": [
        "# We will use this groupings later on for Descriptive analysis...\n",
        "\n",
        "print(\"Number of Reviews per Drug\")\n",
        "# Number of reviews per drug\n",
        "reviews_per_drug = drugs.groupby([\"drug\"]).agg({\n",
        "    \"uniqueid\": pd.Series.nunique\n",
        "})\n",
        "reviews_per_drug.describe()\n",
        "\n",
        "\n",
        "print(\"Number of Reviews per Condition\")\n",
        "# Number of reviews per condition\n",
        "reviews_per_condition = drugs.groupby([\"condition\"]).agg({\n",
        "    \"uniqueid\": pd.Series.nunique\n",
        "})\n",
        "\n",
        "reviews_per_condition.describe()"
      ],
      "execution_count": 38,
      "outputs": [
        {
          "output_type": "stream",
          "text": [
            "Number of Reviews per Drug\n",
            "Number of Reviews per Condition\n"
          ],
          "name": "stdout"
        },
        {
          "output_type": "execute_result",
          "data": {
            "text/html": [
              "<div>\n",
              "<style scoped>\n",
              "    .dataframe tbody tr th:only-of-type {\n",
              "        vertical-align: middle;\n",
              "    }\n",
              "\n",
              "    .dataframe tbody tr th {\n",
              "        vertical-align: top;\n",
              "    }\n",
              "\n",
              "    .dataframe thead th {\n",
              "        text-align: right;\n",
              "    }\n",
              "</style>\n",
              "<table border=\"1\" class=\"dataframe\">\n",
              "  <thead>\n",
              "    <tr style=\"text-align: right;\">\n",
              "      <th></th>\n",
              "      <th>uniqueid</th>\n",
              "    </tr>\n",
              "  </thead>\n",
              "  <tbody>\n",
              "    <tr>\n",
              "      <th>count</th>\n",
              "      <td>963.000000</td>\n",
              "    </tr>\n",
              "    <tr>\n",
              "      <th>mean</th>\n",
              "      <td>44.101765</td>\n",
              "    </tr>\n",
              "    <tr>\n",
              "      <th>std</th>\n",
              "      <td>253.661609</td>\n",
              "    </tr>\n",
              "    <tr>\n",
              "      <th>min</th>\n",
              "      <td>1.000000</td>\n",
              "    </tr>\n",
              "    <tr>\n",
              "      <th>25%</th>\n",
              "      <td>1.000000</td>\n",
              "    </tr>\n",
              "    <tr>\n",
              "      <th>50%</th>\n",
              "      <td>4.000000</td>\n",
              "    </tr>\n",
              "    <tr>\n",
              "      <th>75%</th>\n",
              "      <td>17.000000</td>\n",
              "    </tr>\n",
              "    <tr>\n",
              "      <th>max</th>\n",
              "      <td>6005.000000</td>\n",
              "    </tr>\n",
              "  </tbody>\n",
              "</table>\n",
              "</div>"
            ],
            "text/plain": [
              "          uniqueid\n",
              "count   963.000000\n",
              "mean     44.101765\n",
              "std     253.661609\n",
              "min       1.000000\n",
              "25%       1.000000\n",
              "50%       4.000000\n",
              "75%      17.000000\n",
              "max    6005.000000"
            ]
          },
          "metadata": {
            "tags": []
          },
          "execution_count": 38
        }
      ]
    },
    {
      "cell_type": "code",
      "metadata": {
        "trusted": true,
        "id": "NJ1ZQlw07PJY",
        "colab_type": "code",
        "colab": {
          "base_uri": "https://localhost:8080/",
          "height": 231
        },
        "outputId": "4d9a8963-f6d9-4fa6-dfa6-2ba27945e952"
      },
      "source": [
        "# Conerting all reviews in our dataset, to lower case. for uniformity.\n",
        "drugs['reviews'] = drugs['reviews'].str.lower()\n",
        "drugs.head(5)"
      ],
      "execution_count": 39,
      "outputs": [
        {
          "output_type": "execute_result",
          "data": {
            "text/html": [
              "<div>\n",
              "<style scoped>\n",
              "    .dataframe tbody tr th:only-of-type {\n",
              "        vertical-align: middle;\n",
              "    }\n",
              "\n",
              "    .dataframe tbody tr th {\n",
              "        vertical-align: top;\n",
              "    }\n",
              "\n",
              "    .dataframe thead th {\n",
              "        text-align: right;\n",
              "    }\n",
              "</style>\n",
              "<table border=\"1\" class=\"dataframe\">\n",
              "  <thead>\n",
              "    <tr style=\"text-align: right;\">\n",
              "      <th></th>\n",
              "      <th>condition</th>\n",
              "      <th>drug</th>\n",
              "      <th>drugid</th>\n",
              "      <th>easeofuse</th>\n",
              "      <th>effectiveness</th>\n",
              "      <th>reviews</th>\n",
              "      <th>usefulcount</th>\n",
              "      <th>satisfaction</th>\n",
              "      <th>uniqueid</th>\n",
              "    </tr>\n",
              "  </thead>\n",
              "  <tbody>\n",
              "    <tr>\n",
              "      <th>8343</th>\n",
              "      <td>Birth Control</td>\n",
              "      <td>mirena intrauterine device</td>\n",
              "      <td>20420.0</td>\n",
              "      <td>3.0</td>\n",
              "      <td>5.0</td>\n",
              "      <td>i had mirena for two months and had it removed...</td>\n",
              "      <td>5.0</td>\n",
              "      <td>1.0</td>\n",
              "      <td>0</td>\n",
              "    </tr>\n",
              "    <tr>\n",
              "      <th>33467</th>\n",
              "      <td>Systemic Lupus Erythematosus</td>\n",
              "      <td>plaquenil</td>\n",
              "      <td>6986.0</td>\n",
              "      <td>3.0</td>\n",
              "      <td>3.0</td>\n",
              "      <td>well i started this meds this two months ago a...</td>\n",
              "      <td>18.0</td>\n",
              "      <td>4.0</td>\n",
              "      <td>1</td>\n",
              "    </tr>\n",
              "    <tr>\n",
              "      <th>16933</th>\n",
              "      <td>Chronic Trouble Sleeping</td>\n",
              "      <td>trazodone hcl</td>\n",
              "      <td>11188.0</td>\n",
              "      <td>4.0</td>\n",
              "      <td>3.0</td>\n",
              "      <td>since being forced off amitriptyline and put o...</td>\n",
              "      <td>12.0</td>\n",
              "      <td>2.0</td>\n",
              "      <td>2</td>\n",
              "    </tr>\n",
              "    <tr>\n",
              "      <th>7389</th>\n",
              "      <td>Disorder characterized by Stiff, Tender &amp; Pain...</td>\n",
              "      <td>ultram</td>\n",
              "      <td>11276.0</td>\n",
              "      <td>4.0</td>\n",
              "      <td>1.0</td>\n",
              "      <td>omg i took a pill 15 hours ago and i am still ...</td>\n",
              "      <td>3.0</td>\n",
              "      <td>1.0</td>\n",
              "      <td>3</td>\n",
              "    </tr>\n",
              "    <tr>\n",
              "      <th>40761</th>\n",
              "      <td>Depression</td>\n",
              "      <td>pristiq</td>\n",
              "      <td>150251.0</td>\n",
              "      <td>5.0</td>\n",
              "      <td>5.0</td>\n",
              "      <td>i had been on effexor for several years follow...</td>\n",
              "      <td>27.0</td>\n",
              "      <td>5.0</td>\n",
              "      <td>4</td>\n",
              "    </tr>\n",
              "  </tbody>\n",
              "</table>\n",
              "</div>"
            ],
            "text/plain": [
              "                                               condition  ... uniqueid\n",
              "8343                                       Birth Control  ...        0\n",
              "33467                       Systemic Lupus Erythematosus  ...        1\n",
              "16933                           Chronic Trouble Sleeping  ...        2\n",
              "7389   Disorder characterized by Stiff, Tender & Pain...  ...        3\n",
              "40761                                         Depression  ...        4\n",
              "\n",
              "[5 rows x 9 columns]"
            ]
          },
          "metadata": {
            "tags": []
          },
          "execution_count": 39
        }
      ]
    },
    {
      "cell_type": "markdown",
      "metadata": {
        "_uuid": "1bd4479c3cf50ef94ede37c534c614d63f281d09",
        "id": "mpPlGfl97PJb",
        "colab_type": "text"
      },
      "source": [
        "## Descriptive Analysis\n"
      ]
    },
    {
      "cell_type": "markdown",
      "metadata": {
        "_uuid": "21f27039787d989de7c88dd89b85ea1987018625",
        "id": "XZUrxpOI7PJc",
        "colab_type": "text"
      },
      "source": [
        "### Top 10 Reviewed Drugs"
      ]
    },
    {
      "cell_type": "code",
      "metadata": {
        "trusted": true,
        "_uuid": "f16ea5b368c49b31858d6eeafb59e76f6eaa0ef6",
        "id": "gYDXmEh97PJc",
        "colab_type": "code",
        "colab": {
          "base_uri": "https://localhost:8080/",
          "height": 514
        },
        "outputId": "07cc9683-d9ba-4e92-eaa7-2dc9c026985c"
      },
      "source": [
        "# Top 10 most reviewed drug names\n",
        "plot = drugs.drug.value_counts().nlargest(10).plot(kind='bar', title=\"Top 10 reviewed drugs\", figsize=(12,6))"
      ],
      "execution_count": 40,
      "outputs": [
        {
          "output_type": "display_data",
          "data": {
            "image/png": "[encoded data removed]",
            "text/plain": [
              "<Figure size 864x432 with 1 Axes>"
            ]
          },
          "metadata": {
            "tags": [],
            "needs_background": "light"
          }
        }
      ]
    },
    {
      "cell_type": "markdown",
      "metadata": {
        "_uuid": "99e11383a879a953948824850dd53c3213b26da6",
        "id": "u8iBWtrj7PJf",
        "colab_type": "text"
      },
      "source": [
        "### Top 10 conditions undergoing by drug reviewers"
      ]
    },
    {
      "cell_type": "code",
      "metadata": {
        "trusted": true,
        "_uuid": "bff251a70cf485ee3cef2c5b778bea947f0d5a96",
        "id": "b2Wdswkx7PJg",
        "colab_type": "code",
        "colab": {
          "base_uri": "https://localhost:8080/",
          "height": 603
        },
        "outputId": "e03e41c9-93b2-48cb-e1d7-94bb6626c3b8"
      },
      "source": [
        "# Top 10 most suffered condition by reviewers\n",
        "plot = drugs.condition.value_counts().nlargest(10).plot(kind='bar', title=\"Top 10 conditions in reviews\", figsize=(12,6))"
      ],
      "execution_count": 41,
      "outputs": [
        {
          "output_type": "display_data",
          "data": {
            "image/png": "[encoded data removed]",
            "text/plain": [
              "<Figure size 864x432 with 1 Axes>"
            ]
          },
          "metadata": {
            "tags": [],
            "needs_background": "light"
          }
        }
      ]
    },
    {
      "cell_type": "markdown",
      "metadata": {
        "_uuid": "7e96f07fca2e6310085893f128d95a2a53a4f184",
        "id": "TmBO_Q687PJi",
        "colab_type": "text"
      },
      "source": [
        "### Top 10 drugs with best and worst rating\n",
        "\n",
        "When doing this analysis for all the drugs, there is a factor which affect the results: **the number of reviews of a drug**. I.e. if we want to compute the drug with best rating, the drug which in **only 1 review** was given a 10 rating would be in TOP 1. For this reason, we only consider drugs with a significant number of reviews. **A significant number of reviews is when the number of reviews for a drug is above the 75% of the number of reviews distribution per drug.**\n"
      ]
    },
    {
      "cell_type": "code",
      "metadata": {
        "trusted": true,
        "_uuid": "81b8bbe61ea3e8dcfb54d6eb89362c94a352e4bb",
        "id": "FFXcIGsw7PJj",
        "colab_type": "code",
        "colab": {
          "base_uri": "https://localhost:8080/",
          "height": 927
        },
        "outputId": "8485d94e-1b14-4f30-cddc-481ed27edd33"
      },
      "source": [
        "drugs_rating = drugs.groupby('drug').agg({\n",
        "    'satisfaction': np.mean,\n",
        "    'uniqueid': pd.Series.nunique\n",
        "})\n",
        "\n",
        "print(\"Significant number of reviews: More than\", reviews_per_drug.quantile(q=0.75).values[0], \"reviews\")\n",
        "\n",
        "# We only use the drugs which number of reviews is higher than a threshold\n",
        "drugs_rating = drugs_rating[drugs_rating['uniqueid'] > int(reviews_per_drug.quantile(q=0.75))]\n",
        "\n",
        "# Top 10\n",
        "top_drugs_rating = drugs_rating.nlargest(10, 'satisfaction')\n",
        "plot = top_drugs_rating.plot(y='satisfaction', kind='bar', figsize = (16, 3))\n",
        "dummy = plt.title(\"Top 10 'significant' drugs with best rating\") # Assigned to variable to prevent output\n",
        "dummy = plt.ylim(4, 5) # Assigned to variable to prevent output\n",
        "\n",
        "# Bottom 10\n",
        "bottom_drugs_rating = drugs_rating.nsmallest(10, 'satisfaction')\n",
        "plot = bottom_drugs_rating.plot(y='satisfaction', kind='bar', figsize = (16, 3))\n",
        "dummy = plt.title(\"Top 10 'significant' drugs with worst rating\") # Assigned to variable to prevent output\n",
        "dummy = plt.ylim(1, 3) # Assigned to variable to prevent output"
      ],
      "execution_count": 42,
      "outputs": [
        {
          "output_type": "stream",
          "text": [
            "Significant number of reviews: More than 14.0 reviews\n"
          ],
          "name": "stdout"
        },
        {
          "output_type": "display_data",
          "data": {
            "image/png": "[encoded data removed]",
            "text/plain": [
              "<Figure size 1152x216 with 1 Axes>"
            ]
          },
          "metadata": {
            "tags": [],
            "needs_background": "light"
          }
        },
        {
          "output_type": "display_data",
          "data": {
            "image/png": "[encoded data removed]",
            "text/plain": [
              "<Figure size 1152x216 with 1 Axes>"
            ]
          },
          "metadata": {
            "tags": [],
            "needs_background": "light"
          }
        }
      ]
    },
    {
      "cell_type": "markdown",
      "metadata": {
        "_uuid": "d6d058a52a8a2e7b297679d2b5f5f8a351d1dffb",
        "id": "59vpYdmP7PJm",
        "colab_type": "text"
      },
      "source": [
        "### Analyzing Pairs (Drug, Condition) with best and worst ratings\n",
        "\n",
        "We theorize that the rating of a drug, is strongly related to the condition that the person who reviewed was suffering. We are going to compute the top 10 best and worst rating of reviews for (Drug, condition) pairs."
      ]
    },
    {
      "cell_type": "code",
      "metadata": {
        "trusted": true,
        "_uuid": "bdd2896065bcba7fe0f3acc83eba37fc1c53c545",
        "id": "Fj2G98887PJm",
        "colab_type": "code",
        "colab": {
          "base_uri": "https://localhost:8080/",
          "height": 1000
        },
        "outputId": "ebe9653c-68cf-41a0-d8d1-9673ecd6911f"
      },
      "source": [
        "drugs_condition_rating = drugs.groupby(['drug', 'condition']).agg({\n",
        "    'satisfaction': np.mean,\n",
        "    'uniqueid': pd.Series.nunique\n",
        "})\n",
        "\n",
        "print(\"Number of pairs (Drug, Condition):\", len(drugs_condition_rating))\n",
        "\n",
        "print(\"Significant number of reviews: More than\", drugs_condition_rating['uniqueid'].quantile(q=0.75), \"reviews\")\n",
        "\n",
        "drugs_condition_rating = drugs_condition_rating[drugs_condition_rating['uniqueid'] > int(drugs_condition_rating['uniqueid'].quantile(q=0.75))]\n",
        "# drugs_condition_rating.sort_values('rating', ascending=False)\n",
        "top_drugs_condition_rating = drugs_condition_rating.nlargest(10, 'satisfaction')\n",
        "plot = top_drugs_condition_rating.plot(y='satisfaction', kind='bar', figsize = (16, 3))\n",
        "dummy = plt.title(\"Top 10 (Drug - Condition) with best rating\") # Assigned to variable to prevent output\n",
        "dummy = plt.ylim(4, 5) # Assigned to variable to prevent output\n",
        "\n",
        "bottom_drugs_condition_rating = drugs_condition_rating.nsmallest(10, 'satisfaction')\n",
        "plot = bottom_drugs_condition_rating.plot(y='satisfaction', kind='bar', figsize = (16, 3))\n",
        "dummy = plt.title(\"Top 10 (Drug - Condition) with worst rating\") # Assigned to variable to prevent output\n",
        "dummy = plt.ylim(1, 3) # Assigned to variable to prevent output"
      ],
      "execution_count": 43,
      "outputs": [
        {
          "output_type": "stream",
          "text": [
            "Number of pairs (Drug, Condition): 4197\n",
            "Significant number of reviews: More than 7.0 reviews\n"
          ],
          "name": "stdout"
        },
        {
          "output_type": "display_data",
          "data": {
            "image/png": "[encoded data removed]",
            "text/plain": [
              "<Figure size 1152x216 with 1 Axes>"
            ]
          },
          "metadata": {
            "tags": [],
            "needs_background": "light"
          }
        },
        {
          "output_type": "display_data",
          "data": {
            "image/png": "[encoded data removed]",
            "text/plain": [
              "<Figure size 1152x216 with 1 Axes>"
            ]
          },
          "metadata": {
            "tags": [],
            "needs_background": "light"
          }
        }
      ]
    },
    {
      "cell_type": "markdown",
      "metadata": {
        "_uuid": "1f2fe1f3ad597c01b77ed36c8c0dc4e42824b85f",
        "id": "WAUBLIFT7PJp",
        "colab_type": "text"
      },
      "source": [
        "## Cleansing Op. on Reviews Column\n"
      ]
    },
    {
      "cell_type": "code",
      "metadata": {
        "trusted": true,
        "_uuid": "a120c3db91cf8281e954a2a9f95a99e5b1a1ba74",
        "id": "bzPLytVi7PJq",
        "colab_type": "code",
        "colab": {}
      },
      "source": [
        "# Function to perform cleansing operations on our Text column\n",
        "def clean_reviews(reviews):\n",
        "    \n",
        "    ## Remove puncuation\n",
        "    reviews = reviews.translate(string.punctuation)\n",
        "    \n",
        "    ## Convert words to lower case and split them\n",
        "    reviews = reviews.lower().split()\n",
        "    \n",
        "    ## Remove stop words\n",
        "    stops = set(stopwords.words(\"english\"))\n",
        "    reviews = [w for w in reviews if not w in stops and len(w) >= 3]\n",
        "    \n",
        "    reviews = \" \".join(reviews)\n",
        "\n",
        "    # Clean the reviews\n",
        "    reviews = re.sub(r\"[^A-Za-z0-9^,!.\\/'+-=]\", \" \", reviews)\n",
        "    reviews = re.sub(r\"what's\", \"what is \", reviews)\n",
        "    reviews = re.sub(r\"\\'s\", \" \", reviews)\n",
        "    reviews = re.sub(r\"\\'ve\", \" have \", reviews)\n",
        "    reviews = re.sub(r\"n't\", \" not \", reviews)\n",
        "    reviews = re.sub(r\"i'm\", \"i am \", reviews)\n",
        "    reviews = re.sub(r\"\\'re\", \" are \", reviews)\n",
        "    reviews = re.sub(r\"\\'d\", \" would \", reviews)\n",
        "    reviews = re.sub(r\"\\'ll\", \" will \", reviews)\n",
        "    reviews = re.sub(r\",\", \" \", reviews)\n",
        "    reviews = re.sub(r\"\\.\", \" \", reviews)\n",
        "    reviews = re.sub(r\"!\", \" ! \", reviews)\n",
        "    reviews = re.sub(r\"\\/\", \" \", reviews)\n",
        "    reviews = re.sub(r\"\\^\", \" ^ \", reviews)\n",
        "    reviews = re.sub(r\"\\+\", \" + \", reviews)\n",
        "    reviews = re.sub(r\"\\-\", \" - \", reviews)\n",
        "    reviews = re.sub(r\"\\=\", \" = \", reviews)\n",
        "    reviews = re.sub(r\"'\", \" \", reviews)\n",
        "    reviews = re.sub(r\"(\\d+)(k)\", r\"\\g<1>000\", reviews)\n",
        "    reviews = re.sub(r\":\", \" : \", reviews)\n",
        "    reviews = re.sub(r\" e g \", \" eg \", reviews)\n",
        "    reviews = re.sub(r\" b g \", \" bg \", reviews)\n",
        "    reviews = re.sub(r\" u s \", \" american \", reviews)\n",
        "    reviews = re.sub(r\"\\0s\", \"0\", reviews)\n",
        "    reviews = re.sub(r\" 9 11 \", \"911\", reviews)\n",
        "    reviews = re.sub(r\"e - mail\", \"email\", reviews)\n",
        "    reviews = re.sub(r\"j k\", \"jk\", reviews)\n",
        "    reviews = re.sub(r\"\\s{2,}\", \" \", reviews)\n",
        "    \n",
        "    reviews = reviews.split()\n",
        "    stemmer = SnowballStemmer('english')\n",
        "    stemmed_words = [stemmer.stem(word) for word in reviews]\n",
        "    reviews = \" \".join(stemmed_words)\n",
        "\n",
        "    return reviews"
      ],
      "execution_count": 44,
      "outputs": []
    },
    {
      "cell_type": "code",
      "metadata": {
        "trusted": true,
        "_uuid": "f0d8ef760881866f8548e0f6a5d8c026477c8550",
        "id": "gi9pWwKF7PJu",
        "colab_type": "code",
        "colab": {}
      },
      "source": [
        "drugs['reviews_clean'] = drugs['reviews'].map(lambda x: clean_reviews(x))"
      ],
      "execution_count": 45,
      "outputs": []
    },
    {
      "cell_type": "code",
      "metadata": {
        "trusted": true,
        "_uuid": "8a28655fc06b9e44c25b8e6a1b2fde6aa570bfbd",
        "id": "oJEk0jEl7PJx",
        "colab_type": "code",
        "colab": {
          "base_uri": "https://localhost:8080/",
          "height": 34
        },
        "outputId": "d408d0ff-02bc-415d-cd5b-aff1aaa1e367"
      },
      "source": [
        "drugs.shape"
      ],
      "execution_count": 46,
      "outputs": [
        {
          "output_type": "execute_result",
          "data": {
            "text/plain": [
              "(42470, 10)"
            ]
          },
          "metadata": {
            "tags": []
          },
          "execution_count": 46
        }
      ]
    },
    {
      "cell_type": "code",
      "metadata": {
        "id": "9YvMwVCstVnu",
        "colab_type": "code",
        "colab": {}
      },
      "source": [
        "# We have made a copy of our original dataset, for just in case.\n",
        "drugs_copy=drugs"
      ],
      "execution_count": 47,
      "outputs": []
    },
    {
      "cell_type": "markdown",
      "metadata": {
        "_uuid": "70e65bc849d8b7633facf67ff44e887af54b7def",
        "id": "b5fNu_LZ7PJ2",
        "colab_type": "text"
      },
      "source": [
        "## Sentiment Analysis\n",
        "\n",
        "We will analyze the sentiment of the reviews. We theorize that **the sentiment embedded on a review can be a key factor** to determine the review rating, the review impact on people (usefulCount), or how good a drug is for an specific condition. \n",
        "\n",
        "However, reviews can expose many different manifestations, such as: condition symptoms (usually negative), feelings before the drug (usually negative), feelings after the drug (could be positive or negative), side effects (usually negative), symptoms after the drug (could be positive or negative). This mix of manifestations could make any sentiment analysis method to struggle determining a single score for the entire review. Therefore, a aspect-based S.A. could be more viable (such as the ones used by Gräßer et al.).\n",
        "\n",
        "For now, we are going to use Text blob Sentiment Polarity analysis, and Vader [1], a rule-based sentiment analysis approach available in Python NLTK. To **obtain a single sentiment score for every review** (-1|negative to 1|positive), and see how it correlates with ratings (spearman coeff.).\n",
        "\n",
        "Before doing this, **text** must be processed:\n",
        "\n",
        "- Punctuation signs are removed already in last step.\n",
        "- Removing special characters\n",
        "- Stemming\n",
        "- Removing Stopwords\n",
        "\n",
        "[1] Gilbert, C. H. E. (2014). Vader: A parsimonious rule-based model for sentiment analysis of social media text. In Eighth International Conference on Weblogs and Social Media (ICWSM-14). Available at (20/04/16) http://comp.social.gatech.edu/papers/icwsm14.vader.hutto.pdf."
      ]
    },
    {
      "cell_type": "markdown",
      "metadata": {
        "id": "1is62hom8kAN",
        "colab_type": "text"
      },
      "source": [
        "## Textblob Implementation"
      ]
    },
    {
      "cell_type": "code",
      "metadata": {
        "id": "pEPR8GtflIvw",
        "colab_type": "code",
        "colab": {}
      },
      "source": [
        "#TextBlob\n",
        "from textblob import TextBlob\n",
        "from collections import Counter\n",
        "from sklearn.metrics import confusion_matrix, precision_score, recall_score, f1_score\n",
        "from sklearn.preprocessing import LabelEncoder"
      ],
      "execution_count": 48,
      "outputs": []
    },
    {
      "cell_type": "code",
      "metadata": {
        "id": "rJEJoBlgkvpG",
        "colab_type": "code",
        "colab": {}
      },
      "source": [
        "# TextBlob operations, which return values in btw -1 to +1, for sentiment polarity using pretrained lexicon with vectorised values.\n",
        "def sentiment(reviews):\n",
        "    # Sentiment polarity of the reviews\n",
        "    pol = []\n",
        "    for i in reviews:\n",
        "        analysis = TextBlob(i)\n",
        "        pol.append(analysis.sentiment.polarity)\n",
        "    return pol\n",
        "drugs['sentiment_textblob'] = sentiment(drugs['reviews'])\n"
      ],
      "execution_count": 49,
      "outputs": []
    },
    {
      "cell_type": "code",
      "metadata": {
        "id": "3q0-oqB8kvcU",
        "colab_type": "code",
        "colab": {
          "base_uri": "https://localhost:8080/",
          "height": 52
        },
        "outputId": "53b690f9-18bc-44a2-fd5e-724269bca1fa"
      },
      "source": [
        "# Correlation with our Target column \"Satisfaction\"\n",
        "np.corrcoef(drugs['sentiment_textblob'], drugs['satisfaction'])"
      ],
      "execution_count": 50,
      "outputs": [
        {
          "output_type": "execute_result",
          "data": {
            "text/plain": [
              "array([[1.        , 0.28266116],\n",
              "       [0.28266116, 1.        ]])"
            ]
          },
          "metadata": {
            "tags": []
          },
          "execution_count": 50
        }
      ]
    },
    {
      "cell_type": "markdown",
      "metadata": {
        "id": "fWyLhsMR8cW6",
        "colab_type": "text"
      },
      "source": [
        "## Vader Implementation"
      ]
    },
    {
      "cell_type": "code",
      "metadata": {
        "id": "zR0XOYkclIdU",
        "colab_type": "code",
        "colab": {
          "base_uri": "https://localhost:8080/",
          "height": 90
        },
        "outputId": "611148a4-3b6b-4485-f251-34ca61f94320"
      },
      "source": [
        "# VADER\n",
        "nltk.download('vader_lexicon')\n",
        "from nltk.sentiment.vader import SentimentIntensityAnalyzer"
      ],
      "execution_count": 51,
      "outputs": [
        {
          "output_type": "stream",
          "text": [
            "[nltk_data] Downloading package vader_lexicon to /root/nltk_data...\n"
          ],
          "name": "stdout"
        },
        {
          "output_type": "stream",
          "text": [
            "/usr/local/lib/python3.6/dist-packages/nltk/twitter/__init__.py:20: UserWarning: The twython library has not been installed. Some functionality from the twitter package will not be available.\n",
            "  warnings.warn(\"The twython library has not been installed. \"\n"
          ],
          "name": "stderr"
        }
      ]
    },
    {
      "cell_type": "code",
      "metadata": {
        "id": "zskv2n7qkvQH",
        "colab_type": "code",
        "colab": {}
      },
      "source": [
        "# Importing Vader, another method we're using to extract sentiment polarity from our Reviews Column.\n",
        "analyser = SentimentIntensityAnalyzer()"
      ],
      "execution_count": 52,
      "outputs": []
    },
    {
      "cell_type": "code",
      "metadata": {
        "id": "mtobgWeVk-6Y",
        "colab_type": "code",
        "colab": {
          "base_uri": "https://localhost:8080/",
          "height": 70
        },
        "outputId": "8c41fba0-5315-43ea-fa18-5abf071dfdd4"
      },
      "source": [
        "%time   #to calulate the time it takes the algorithm to compute a VADER score\n",
        "i=0 #counter\n",
        "compval1 = [ ]  #empty list to hold our computed 'compound' VADER scores\n",
        "while (i<len(drugs)):\n",
        "    k = analyser.polarity_scores(drugs.iloc[i]['reviews'])\n",
        "    compval1.append(k['compound'])\n",
        "    i = i+1\n",
        "    \n",
        "#converting sentiment values to numpy for easier usage\n",
        "compval1 = np.array(compval1)\n",
        "len(compval1)"
      ],
      "execution_count": 53,
      "outputs": [
        {
          "output_type": "stream",
          "text": [
            "CPU times: user 2 µs, sys: 0 ns, total: 2 µs\n",
            "Wall time: 4.77 µs\n"
          ],
          "name": "stdout"
        },
        {
          "output_type": "execute_result",
          "data": {
            "text/plain": [
              "42470"
            ]
          },
          "metadata": {
            "tags": []
          },
          "execution_count": 53
        }
      ]
    },
    {
      "cell_type": "code",
      "metadata": {
        "id": "fcxDmeJjk-na",
        "colab_type": "code",
        "colab": {
          "base_uri": "https://localhost:8080/",
          "height": 52
        },
        "outputId": "8c95609a-a4d4-4593-ab2e-1308ad4c7963"
      },
      "source": [
        "# We can see correlation of Vader_score with our Target column, which turns out to be better than Textblob output.\n",
        "drugs['Vader_score'] = compval1\n",
        "np.corrcoef(drugs['Vader_score'], drugs['satisfaction'])"
      ],
      "execution_count": 54,
      "outputs": [
        {
          "output_type": "execute_result",
          "data": {
            "text/plain": [
              "array([[1.        , 0.32602717],\n",
              "       [0.32602717, 1.        ]])"
            ]
          },
          "metadata": {
            "tags": []
          },
          "execution_count": 54
        }
      ]
    },
    {
      "cell_type": "markdown",
      "metadata": {
        "id": "_AXFEXYQ-iWd",
        "colab_type": "text"
      },
      "source": [
        "## Feature Engineering\n",
        "We're trying to extract more information from \"Reviews\" column via Feature engineering process. Further we'll optimise the use of these features accordingly depending upon the **Importance and Feature Selection process**"
      ]
    },
    {
      "cell_type": "code",
      "metadata": {
        "trusted": true,
        "_uuid": "c67dafd5a56dfbe0ce25b56bb7763b7dcc8d9d18",
        "id": "rGGLWsjO7PJ5",
        "colab_type": "code",
        "colab": {
          "base_uri": "https://localhost:8080/",
          "height": 52
        },
        "outputId": "2635b31b-2f76-4a29-dc44-324cb6089976"
      },
      "source": [
        "#Word count in each review\n",
        "drugs['count_word']=drugs[\"reviews_clean\"].apply(lambda x: len(str(x).split()))\n",
        "\n",
        "#Unique word count \n",
        "drugs['count_unique_word']=drugs[\"reviews_clean\"].apply(lambda x: len(set(str(x).split())))\n",
        "\n",
        "#Letter count\n",
        "drugs['count_letters']=drugs[\"reviews_clean\"].apply(lambda x: len(str(x)))\n",
        "\n",
        "#punctuation count\n",
        "drugs[\"count_punctuations\"] = drugs[\"reviews\"].apply(lambda x: len([c for c in str(x) if c in string.punctuation]))\n",
        "\n",
        "\n",
        "#Number of stopwords\n",
        "stops = set(stopwords.words(\"english\"))\n",
        "drugs[\"count_stopwords\"] = drugs[\"reviews\"].apply(lambda x: len([w for w in str(x).lower().split() if w in stops]))\n",
        "\n",
        "#Average length of the words\n",
        "drugs[\"mean_word_len\"] = drugs[\"reviews_clean\"].apply(lambda x: np.mean([len(w) for w in str(x).split()]))"
      ],
      "execution_count": 55,
      "outputs": [
        {
          "output_type": "stream",
          "text": [
            "/usr/local/lib/python3.6/dist-packages/numpy/core/fromnumeric.py:3335: RuntimeWarning: Mean of empty slice.\n",
            "  out=out, **kwargs)\n"
          ],
          "name": "stderr"
        }
      ]
    },
    {
      "cell_type": "code",
      "metadata": {
        "trusted": true,
        "_uuid": "f2471e72f47ee19eecd4252f1dd96940308b009f",
        "id": "Sd-jPhEl7PJ_",
        "colab_type": "code",
        "colab": {}
      },
      "source": [
        "# Label Encoding Conditions\n",
        "from sklearn.preprocessing import LabelEncoder\n",
        "label_encoder_feat = {}\n",
        "for feature in ['condition']:\n",
        "    label_encoder_feat[feature] = LabelEncoder()\n",
        "    drugs[feature] = label_encoder_feat[feature].fit_transform(drugs[feature])"
      ],
      "execution_count": 56,
      "outputs": []
    },
    {
      "cell_type": "code",
      "metadata": {
        "id": "Hb5OIlubD5sm",
        "colab_type": "code",
        "colab": {}
      },
      "source": [
        "corr=drugs.corr(method ='pearson')"
      ],
      "execution_count": 57,
      "outputs": []
    },
    {
      "cell_type": "code",
      "metadata": {
        "id": "eIlThq6pEhwh",
        "colab_type": "code",
        "colab": {
          "base_uri": "https://localhost:8080/",
          "height": 296
        },
        "outputId": "1dc8317b-68f6-43e5-d630-caf1ce971e61"
      },
      "source": [
        "cmap = cmap=sns.diverging_palette(5, 250, as_cmap=True)\n",
        "\n",
        "def magnify():\n",
        "    return [dict(selector=\"th\",\n",
        "                 props=[(\"font-size\", \"7pt\")]),\n",
        "            dict(selector=\"td\",\n",
        "                 props=[('padding', \"0em 0em\")]),\n",
        "            dict(selector=\"th:hover\",\n",
        "                 props=[(\"font-size\", \"12pt\")]),\n",
        "            dict(selector=\"tr:hover td:hover\",\n",
        "                 props=[('max-width', '200px'),\n",
        "                        ('font-size', '12pt')])\n",
        "]\n",
        "\n",
        "corr.style.background_gradient(cmap, axis=1)\\\n",
        "    .set_properties(**{'max-width': '80px', 'font-size': '10pt'})\\\n",
        "    .set_caption(\"Hover to magify\")\\\n",
        "    .set_precision(2)\\\n",
        "    .set_table_styles(magnify())"
      ],
      "execution_count": 58,
      "outputs": [
        {
          "output_type": "execute_result",
          "data": {
            "text/html": [
              "<style  type=\"text/css\" >\n",
              "    #T_7f686710_c76f_11ea_a888_0242ac1c0002 th {\n",
              "          font-size: 7pt;\n",
              "    }    #T_7f686710_c76f_11ea_a888_0242ac1c0002 td {\n",
              "          padding: 0em 0em;\n",
              "    }    #T_7f686710_c76f_11ea_a888_0242ac1c0002 th:hover {\n",
              "          font-size: 12pt;\n",
              "    }    #T_7f686710_c76f_11ea_a888_0242ac1c0002 tr:hover td:hover {\n",
              "          max-width: 200px;\n",
              "          font-size: 12pt;\n",
              "    }    #T_7f686710_c76f_11ea_a888_0242ac1c0002row0_col0 {\n",
              "            background-color:  #4479bb;\n",
              "            color:  #000000;\n",
              "            max-width:  80px;\n",
              "            font-size:  10pt;\n",
              "        }    #T_7f686710_c76f_11ea_a888_0242ac1c0002row0_col1 {\n",
              "            background-color:  #d73c5b;\n",
              "            color:  #f1f1f1;\n",
              "            max-width:  80px;\n",
              "            font-size:  10pt;\n",
              "        }    #T_7f686710_c76f_11ea_a888_0242ac1c0002row0_col2 {\n",
              "            background-color:  #dd5872;\n",
              "            color:  #000000;\n",
              "            max-width:  80px;\n",
              "            font-size:  10pt;\n",
              "        }    #T_7f686710_c76f_11ea_a888_0242ac1c0002row0_col3 {\n",
              "            background-color:  #dc546f;\n",
              "            color:  #000000;\n",
              "            max-width:  80px;\n",
              "            font-size:  10pt;\n",
              "        }    #T_7f686710_c76f_11ea_a888_0242ac1c0002row0_col4 {\n",
              "            background-color:  #de5e77;\n",
              "            color:  #000000;\n",
              "            max-width:  80px;\n",
              "            font-size:  10pt;\n",
              "        }    #T_7f686710_c76f_11ea_a888_0242ac1c0002row0_col5 {\n",
              "            background-color:  #e16b82;\n",
              "            color:  #000000;\n",
              "            max-width:  80px;\n",
              "            font-size:  10pt;\n",
              "        }    #T_7f686710_c76f_11ea_a888_0242ac1c0002row0_col6 {\n",
              "            background-color:  #de5e77;\n",
              "            color:  #000000;\n",
              "            max-width:  80px;\n",
              "            font-size:  10pt;\n",
              "        }    #T_7f686710_c76f_11ea_a888_0242ac1c0002row0_col7 {\n",
              "            background-color:  #dd5872;\n",
              "            color:  #000000;\n",
              "            max-width:  80px;\n",
              "            font-size:  10pt;\n",
              "        }    #T_7f686710_c76f_11ea_a888_0242ac1c0002row0_col8 {\n",
              "            background-color:  #dc546f;\n",
              "            color:  #000000;\n",
              "            max-width:  80px;\n",
              "            font-size:  10pt;\n",
              "        }    #T_7f686710_c76f_11ea_a888_0242ac1c0002row0_col9 {\n",
              "            background-color:  #db4f6b;\n",
              "            color:  #000000;\n",
              "            max-width:  80px;\n",
              "            font-size:  10pt;\n",
              "        }    #T_7f686710_c76f_11ea_a888_0242ac1c0002row0_col10 {\n",
              "            background-color:  #db4e6a;\n",
              "            color:  #000000;\n",
              "            max-width:  80px;\n",
              "            font-size:  10pt;\n",
              "        }    #T_7f686710_c76f_11ea_a888_0242ac1c0002row0_col11 {\n",
              "            background-color:  #db4f6b;\n",
              "            color:  #000000;\n",
              "            max-width:  80px;\n",
              "            font-size:  10pt;\n",
              "        }    #T_7f686710_c76f_11ea_a888_0242ac1c0002row0_col12 {\n",
              "            background-color:  #db4f6b;\n",
              "            color:  #000000;\n",
              "            max-width:  80px;\n",
              "            font-size:  10pt;\n",
              "        }    #T_7f686710_c76f_11ea_a888_0242ac1c0002row0_col13 {\n",
              "            background-color:  #db4d69;\n",
              "            color:  #000000;\n",
              "            max-width:  80px;\n",
              "            font-size:  10pt;\n",
              "        }    #T_7f686710_c76f_11ea_a888_0242ac1c0002row0_col14 {\n",
              "            background-color:  #de5f79;\n",
              "            color:  #000000;\n",
              "            max-width:  80px;\n",
              "            font-size:  10pt;\n",
              "        }    #T_7f686710_c76f_11ea_a888_0242ac1c0002row1_col0 {\n",
              "            background-color:  #d73c5b;\n",
              "            color:  #f1f1f1;\n",
              "            max-width:  80px;\n",
              "            font-size:  10pt;\n",
              "        }    #T_7f686710_c76f_11ea_a888_0242ac1c0002row1_col1 {\n",
              "            background-color:  #4479bb;\n",
              "            color:  #000000;\n",
              "            max-width:  80px;\n",
              "            font-size:  10pt;\n",
              "        }    #T_7f686710_c76f_11ea_a888_0242ac1c0002row1_col2 {\n",
              "            background-color:  #dc516d;\n",
              "            color:  #000000;\n",
              "            max-width:  80px;\n",
              "            font-size:  10pt;\n",
              "        }    #T_7f686710_c76f_11ea_a888_0242ac1c0002row1_col3 {\n",
              "            background-color:  #dc5570;\n",
              "            color:  #000000;\n",
              "            max-width:  80px;\n",
              "            font-size:  10pt;\n",
              "        }    #T_7f686710_c76f_11ea_a888_0242ac1c0002row1_col4 {\n",
              "            background-color:  #e16981;\n",
              "            color:  #000000;\n",
              "            max-width:  80px;\n",
              "            font-size:  10pt;\n",
              "        }    #T_7f686710_c76f_11ea_a888_0242ac1c0002row1_col5 {\n",
              "            background-color:  #db4f6b;\n",
              "            color:  #000000;\n",
              "            max-width:  80px;\n",
              "            font-size:  10pt;\n",
              "        }    #T_7f686710_c76f_11ea_a888_0242ac1c0002row1_col6 {\n",
              "            background-color:  #de5e77;\n",
              "            color:  #000000;\n",
              "            max-width:  80px;\n",
              "            font-size:  10pt;\n",
              "        }    #T_7f686710_c76f_11ea_a888_0242ac1c0002row1_col7 {\n",
              "            background-color:  #de5e77;\n",
              "            color:  #000000;\n",
              "            max-width:  80px;\n",
              "            font-size:  10pt;\n",
              "        }    #T_7f686710_c76f_11ea_a888_0242ac1c0002row1_col8 {\n",
              "            background-color:  #df627b;\n",
              "            color:  #000000;\n",
              "            max-width:  80px;\n",
              "            font-size:  10pt;\n",
              "        }    #T_7f686710_c76f_11ea_a888_0242ac1c0002row1_col9 {\n",
              "            background-color:  #e47c91;\n",
              "            color:  #000000;\n",
              "            max-width:  80px;\n",
              "            font-size:  10pt;\n",
              "        }    #T_7f686710_c76f_11ea_a888_0242ac1c0002row1_col10 {\n",
              "            background-color:  #e47c91;\n",
              "            color:  #000000;\n",
              "            max-width:  80px;\n",
              "            font-size:  10pt;\n",
              "        }    #T_7f686710_c76f_11ea_a888_0242ac1c0002row1_col11 {\n",
              "            background-color:  #e47c91;\n",
              "            color:  #000000;\n",
              "            max-width:  80px;\n",
              "            font-size:  10pt;\n",
              "        }    #T_7f686710_c76f_11ea_a888_0242ac1c0002row1_col12 {\n",
              "            background-color:  #e3788d;\n",
              "            color:  #000000;\n",
              "            max-width:  80px;\n",
              "            font-size:  10pt;\n",
              "        }    #T_7f686710_c76f_11ea_a888_0242ac1c0002row1_col13 {\n",
              "            background-color:  #e47a90;\n",
              "            color:  #000000;\n",
              "            max-width:  80px;\n",
              "            font-size:  10pt;\n",
              "        }    #T_7f686710_c76f_11ea_a888_0242ac1c0002row1_col14 {\n",
              "            background-color:  #de5e77;\n",
              "            color:  #000000;\n",
              "            max-width:  80px;\n",
              "            font-size:  10pt;\n",
              "        }    #T_7f686710_c76f_11ea_a888_0242ac1c0002row2_col0 {\n",
              "            background-color:  #d94261;\n",
              "            color:  #f1f1f1;\n",
              "            max-width:  80px;\n",
              "            font-size:  10pt;\n",
              "        }    #T_7f686710_c76f_11ea_a888_0242ac1c0002row2_col1 {\n",
              "            background-color:  #d73c5b;\n",
              "            color:  #f1f1f1;\n",
              "            max-width:  80px;\n",
              "            font-size:  10pt;\n",
              "        }    #T_7f686710_c76f_11ea_a888_0242ac1c0002row2_col2 {\n",
              "            background-color:  #4479bb;\n",
              "            color:  #000000;\n",
              "            max-width:  80px;\n",
              "            font-size:  10pt;\n",
              "        }    #T_7f686710_c76f_11ea_a888_0242ac1c0002row2_col3 {\n",
              "            background-color:  #f2f2f2;\n",
              "            color:  #000000;\n",
              "            max-width:  80px;\n",
              "            font-size:  10pt;\n",
              "        }    #T_7f686710_c76f_11ea_a888_0242ac1c0002row2_col4 {\n",
              "            background-color:  #dd5872;\n",
              "            color:  #000000;\n",
              "            max-width:  80px;\n",
              "            font-size:  10pt;\n",
              "        }    #T_7f686710_c76f_11ea_a888_0242ac1c0002row2_col5 {\n",
              "            background-color:  #f2f2f2;\n",
              "            color:  #000000;\n",
              "            max-width:  80px;\n",
              "            font-size:  10pt;\n",
              "        }    #T_7f686710_c76f_11ea_a888_0242ac1c0002row2_col6 {\n",
              "            background-color:  #da4865;\n",
              "            color:  #000000;\n",
              "            max-width:  80px;\n",
              "            font-size:  10pt;\n",
              "        }    #T_7f686710_c76f_11ea_a888_0242ac1c0002row2_col7 {\n",
              "            background-color:  #e88d9f;\n",
              "            color:  #000000;\n",
              "            max-width:  80px;\n",
              "            font-size:  10pt;\n",
              "        }    #T_7f686710_c76f_11ea_a888_0242ac1c0002row2_col8 {\n",
              "            background-color:  #e88ea0;\n",
              "            color:  #000000;\n",
              "            max-width:  80px;\n",
              "            font-size:  10pt;\n",
              "        }    #T_7f686710_c76f_11ea_a888_0242ac1c0002row2_col9 {\n",
              "            background-color:  #da4966;\n",
              "            color:  #000000;\n",
              "            max-width:  80px;\n",
              "            font-size:  10pt;\n",
              "        }    #T_7f686710_c76f_11ea_a888_0242ac1c0002row2_col10 {\n",
              "            background-color:  #da4b68;\n",
              "            color:  #000000;\n",
              "            max-width:  80px;\n",
              "            font-size:  10pt;\n",
              "        }    #T_7f686710_c76f_11ea_a888_0242ac1c0002row2_col11 {\n",
              "            background-color:  #da4966;\n",
              "            color:  #000000;\n",
              "            max-width:  80px;\n",
              "            font-size:  10pt;\n",
              "        }    #T_7f686710_c76f_11ea_a888_0242ac1c0002row2_col12 {\n",
              "            background-color:  #da4b68;\n",
              "            color:  #000000;\n",
              "            max-width:  80px;\n",
              "            font-size:  10pt;\n",
              "        }    #T_7f686710_c76f_11ea_a888_0242ac1c0002row2_col13 {\n",
              "            background-color:  #db4e6a;\n",
              "            color:  #000000;\n",
              "            max-width:  80px;\n",
              "            font-size:  10pt;\n",
              "        }    #T_7f686710_c76f_11ea_a888_0242ac1c0002row2_col14 {\n",
              "            background-color:  #d94764;\n",
              "            color:  #f1f1f1;\n",
              "            max-width:  80px;\n",
              "            font-size:  10pt;\n",
              "        }    #T_7f686710_c76f_11ea_a888_0242ac1c0002row3_col0 {\n",
              "            background-color:  #d73c5b;\n",
              "            color:  #f1f1f1;\n",
              "            max-width:  80px;\n",
              "            font-size:  10pt;\n",
              "        }    #T_7f686710_c76f_11ea_a888_0242ac1c0002row3_col1 {\n",
              "            background-color:  #d73d5c;\n",
              "            color:  #f1f1f1;\n",
              "            max-width:  80px;\n",
              "            font-size:  10pt;\n",
              "        }    #T_7f686710_c76f_11ea_a888_0242ac1c0002row3_col2 {\n",
              "            background-color:  #f2f2f2;\n",
              "            color:  #000000;\n",
              "            max-width:  80px;\n",
              "            font-size:  10pt;\n",
              "        }    #T_7f686710_c76f_11ea_a888_0242ac1c0002row3_col3 {\n",
              "            background-color:  #4479bb;\n",
              "            color:  #000000;\n",
              "            max-width:  80px;\n",
              "            font-size:  10pt;\n",
              "        }    #T_7f686710_c76f_11ea_a888_0242ac1c0002row3_col4 {\n",
              "            background-color:  #de5b75;\n",
              "            color:  #000000;\n",
              "            max-width:  80px;\n",
              "            font-size:  10pt;\n",
              "        }    #T_7f686710_c76f_11ea_a888_0242ac1c0002row3_col5 {\n",
              "            background-color:  #a0bbdc;\n",
              "            color:  #000000;\n",
              "            max-width:  80px;\n",
              "            font-size:  10pt;\n",
              "        }    #T_7f686710_c76f_11ea_a888_0242ac1c0002row3_col6 {\n",
              "            background-color:  #da4865;\n",
              "            color:  #000000;\n",
              "            max-width:  80px;\n",
              "            font-size:  10pt;\n",
              "        }    #T_7f686710_c76f_11ea_a888_0242ac1c0002row3_col7 {\n",
              "            background-color:  #ea96a7;\n",
              "            color:  #000000;\n",
              "            max-width:  80px;\n",
              "            font-size:  10pt;\n",
              "        }    #T_7f686710_c76f_11ea_a888_0242ac1c0002row3_col8 {\n",
              "            background-color:  #eb9bab;\n",
              "            color:  #000000;\n",
              "            max-width:  80px;\n",
              "            font-size:  10pt;\n",
              "        }    #T_7f686710_c76f_11ea_a888_0242ac1c0002row3_col9 {\n",
              "            background-color:  #df617a;\n",
              "            color:  #000000;\n",
              "            max-width:  80px;\n",
              "            font-size:  10pt;\n",
              "        }    #T_7f686710_c76f_11ea_a888_0242ac1c0002row3_col10 {\n",
              "            background-color:  #df627b;\n",
              "            color:  #000000;\n",
              "            max-width:  80px;\n",
              "            font-size:  10pt;\n",
              "        }    #T_7f686710_c76f_11ea_a888_0242ac1c0002row3_col11 {\n",
              "            background-color:  #df617a;\n",
              "            color:  #000000;\n",
              "            max-width:  80px;\n",
              "            font-size:  10pt;\n",
              "        }    #T_7f686710_c76f_11ea_a888_0242ac1c0002row3_col12 {\n",
              "            background-color:  #de5b75;\n",
              "            color:  #000000;\n",
              "            max-width:  80px;\n",
              "            font-size:  10pt;\n",
              "        }    #T_7f686710_c76f_11ea_a888_0242ac1c0002row3_col13 {\n",
              "            background-color:  #e0657d;\n",
              "            color:  #000000;\n",
              "            max-width:  80px;\n",
              "            font-size:  10pt;\n",
              "        }    #T_7f686710_c76f_11ea_a888_0242ac1c0002row3_col14 {\n",
              "            background-color:  #d94563;\n",
              "            color:  #f1f1f1;\n",
              "            max-width:  80px;\n",
              "            font-size:  10pt;\n",
              "        }    #T_7f686710_c76f_11ea_a888_0242ac1c0002row4_col0 {\n",
              "            background-color:  #d73d5c;\n",
              "            color:  #f1f1f1;\n",
              "            max-width:  80px;\n",
              "            font-size:  10pt;\n",
              "        }    #T_7f686710_c76f_11ea_a888_0242ac1c0002row4_col1 {\n",
              "            background-color:  #da4865;\n",
              "            color:  #000000;\n",
              "            max-width:  80px;\n",
              "            font-size:  10pt;\n",
              "        }    #T_7f686710_c76f_11ea_a888_0242ac1c0002row4_col2 {\n",
              "            background-color:  #db4d69;\n",
              "            color:  #000000;\n",
              "            max-width:  80px;\n",
              "            font-size:  10pt;\n",
              "        }    #T_7f686710_c76f_11ea_a888_0242ac1c0002row4_col3 {\n",
              "            background-color:  #dc516d;\n",
              "            color:  #000000;\n",
              "            max-width:  80px;\n",
              "            font-size:  10pt;\n",
              "        }    #T_7f686710_c76f_11ea_a888_0242ac1c0002row4_col4 {\n",
              "            background-color:  #4479bb;\n",
              "            color:  #000000;\n",
              "            max-width:  80px;\n",
              "            font-size:  10pt;\n",
              "        }    #T_7f686710_c76f_11ea_a888_0242ac1c0002row4_col5 {\n",
              "            background-color:  #dc546f;\n",
              "            color:  #000000;\n",
              "            max-width:  80px;\n",
              "            font-size:  10pt;\n",
              "        }    #T_7f686710_c76f_11ea_a888_0242ac1c0002row4_col6 {\n",
              "            background-color:  #d73c5b;\n",
              "            color:  #f1f1f1;\n",
              "            max-width:  80px;\n",
              "            font-size:  10pt;\n",
              "        }    #T_7f686710_c76f_11ea_a888_0242ac1c0002row4_col7 {\n",
              "            background-color:  #d94764;\n",
              "            color:  #f1f1f1;\n",
              "            max-width:  80px;\n",
              "            font-size:  10pt;\n",
              "        }    #T_7f686710_c76f_11ea_a888_0242ac1c0002row4_col8 {\n",
              "            background-color:  #d8405e;\n",
              "            color:  #f1f1f1;\n",
              "            max-width:  80px;\n",
              "            font-size:  10pt;\n",
              "        }    #T_7f686710_c76f_11ea_a888_0242ac1c0002row4_col9 {\n",
              "            background-color:  #e68699;\n",
              "            color:  #000000;\n",
              "            max-width:  80px;\n",
              "            font-size:  10pt;\n",
              "        }    #T_7f686710_c76f_11ea_a888_0242ac1c0002row4_col10 {\n",
              "            background-color:  #e7899c;\n",
              "            color:  #000000;\n",
              "            max-width:  80px;\n",
              "            font-size:  10pt;\n",
              "        }    #T_7f686710_c76f_11ea_a888_0242ac1c0002row4_col11 {\n",
              "            background-color:  #e7879b;\n",
              "            color:  #000000;\n",
              "            max-width:  80px;\n",
              "            font-size:  10pt;\n",
              "        }    #T_7f686710_c76f_11ea_a888_0242ac1c0002row4_col12 {\n",
              "            background-color:  #e57d92;\n",
              "            color:  #000000;\n",
              "            max-width:  80px;\n",
              "            font-size:  10pt;\n",
              "        }    #T_7f686710_c76f_11ea_a888_0242ac1c0002row4_col13 {\n",
              "            background-color:  #e68396;\n",
              "            color:  #000000;\n",
              "            max-width:  80px;\n",
              "            font-size:  10pt;\n",
              "        }    #T_7f686710_c76f_11ea_a888_0242ac1c0002row4_col14 {\n",
              "            background-color:  #d73c5b;\n",
              "            color:  #f1f1f1;\n",
              "            max-width:  80px;\n",
              "            font-size:  10pt;\n",
              "        }    #T_7f686710_c76f_11ea_a888_0242ac1c0002row5_col0 {\n",
              "            background-color:  #dd5872;\n",
              "            color:  #000000;\n",
              "            max-width:  80px;\n",
              "            font-size:  10pt;\n",
              "        }    #T_7f686710_c76f_11ea_a888_0242ac1c0002row5_col1 {\n",
              "            background-color:  #d73c5b;\n",
              "            color:  #f1f1f1;\n",
              "            max-width:  80px;\n",
              "            font-size:  10pt;\n",
              "        }    #T_7f686710_c76f_11ea_a888_0242ac1c0002row5_col2 {\n",
              "            background-color:  #f2f2f2;\n",
              "            color:  #000000;\n",
              "            max-width:  80px;\n",
              "            font-size:  10pt;\n",
              "        }    #T_7f686710_c76f_11ea_a888_0242ac1c0002row5_col3 {\n",
              "            background-color:  #9fbadc;\n",
              "            color:  #000000;\n",
              "            max-width:  80px;\n",
              "            font-size:  10pt;\n",
              "        }    #T_7f686710_c76f_11ea_a888_0242ac1c0002row5_col4 {\n",
              "            background-color:  #df617a;\n",
              "            color:  #000000;\n",
              "            max-width:  80px;\n",
              "            font-size:  10pt;\n",
              "        }    #T_7f686710_c76f_11ea_a888_0242ac1c0002row5_col5 {\n",
              "            background-color:  #4479bb;\n",
              "            color:  #000000;\n",
              "            max-width:  80px;\n",
              "            font-size:  10pt;\n",
              "        }    #T_7f686710_c76f_11ea_a888_0242ac1c0002row5_col6 {\n",
              "            background-color:  #db4d69;\n",
              "            color:  #000000;\n",
              "            max-width:  80px;\n",
              "            font-size:  10pt;\n",
              "        }    #T_7f686710_c76f_11ea_a888_0242ac1c0002row5_col7 {\n",
              "            background-color:  #eeaebb;\n",
              "            color:  #000000;\n",
              "            max-width:  80px;\n",
              "            font-size:  10pt;\n",
              "        }    #T_7f686710_c76f_11ea_a888_0242ac1c0002row5_col8 {\n",
              "            background-color:  #f2bdc8;\n",
              "            color:  #000000;\n",
              "            max-width:  80px;\n",
              "            font-size:  10pt;\n",
              "        }    #T_7f686710_c76f_11ea_a888_0242ac1c0002row5_col9 {\n",
              "            background-color:  #d94462;\n",
              "            color:  #f1f1f1;\n",
              "            max-width:  80px;\n",
              "            font-size:  10pt;\n",
              "        }    #T_7f686710_c76f_11ea_a888_0242ac1c0002row5_col10 {\n",
              "            background-color:  #d94261;\n",
              "            color:  #f1f1f1;\n",
              "            max-width:  80px;\n",
              "            font-size:  10pt;\n",
              "        }    #T_7f686710_c76f_11ea_a888_0242ac1c0002row5_col11 {\n",
              "            background-color:  #d94261;\n",
              "            color:  #f1f1f1;\n",
              "            max-width:  80px;\n",
              "            font-size:  10pt;\n",
              "        }    #T_7f686710_c76f_11ea_a888_0242ac1c0002row5_col12 {\n",
              "            background-color:  #d94261;\n",
              "            color:  #f1f1f1;\n",
              "            max-width:  80px;\n",
              "            font-size:  10pt;\n",
              "        }    #T_7f686710_c76f_11ea_a888_0242ac1c0002row5_col13 {\n",
              "            background-color:  #da4865;\n",
              "            color:  #000000;\n",
              "            max-width:  80px;\n",
              "            font-size:  10pt;\n",
              "        }    #T_7f686710_c76f_11ea_a888_0242ac1c0002row5_col14 {\n",
              "            background-color:  #da4b68;\n",
              "            color:  #000000;\n",
              "            max-width:  80px;\n",
              "            font-size:  10pt;\n",
              "        }    #T_7f686710_c76f_11ea_a888_0242ac1c0002row6_col0 {\n",
              "            background-color:  #d73c5b;\n",
              "            color:  #f1f1f1;\n",
              "            max-width:  80px;\n",
              "            font-size:  10pt;\n",
              "        }    #T_7f686710_c76f_11ea_a888_0242ac1c0002row6_col1 {\n",
              "            background-color:  #d73c5b;\n",
              "            color:  #f1f1f1;\n",
              "            max-width:  80px;\n",
              "            font-size:  10pt;\n",
              "        }    #T_7f686710_c76f_11ea_a888_0242ac1c0002row6_col2 {\n",
              "            background-color:  #d73c5b;\n",
              "            color:  #f1f1f1;\n",
              "            max-width:  80px;\n",
              "            font-size:  10pt;\n",
              "        }    #T_7f686710_c76f_11ea_a888_0242ac1c0002row6_col3 {\n",
              "            background-color:  #d83e5d;\n",
              "            color:  #f1f1f1;\n",
              "            max-width:  80px;\n",
              "            font-size:  10pt;\n",
              "        }    #T_7f686710_c76f_11ea_a888_0242ac1c0002row6_col4 {\n",
              "            background-color:  #d73c5b;\n",
              "            color:  #f1f1f1;\n",
              "            max-width:  80px;\n",
              "            font-size:  10pt;\n",
              "        }    #T_7f686710_c76f_11ea_a888_0242ac1c0002row6_col5 {\n",
              "            background-color:  #d83e5d;\n",
              "            color:  #f1f1f1;\n",
              "            max-width:  80px;\n",
              "            font-size:  10pt;\n",
              "        }    #T_7f686710_c76f_11ea_a888_0242ac1c0002row6_col6 {\n",
              "            background-color:  #4479bb;\n",
              "            color:  #000000;\n",
              "            max-width:  80px;\n",
              "            font-size:  10pt;\n",
              "        }    #T_7f686710_c76f_11ea_a888_0242ac1c0002row6_col7 {\n",
              "            background-color:  #d83e5d;\n",
              "            color:  #f1f1f1;\n",
              "            max-width:  80px;\n",
              "            font-size:  10pt;\n",
              "        }    #T_7f686710_c76f_11ea_a888_0242ac1c0002row6_col8 {\n",
              "            background-color:  #d83e5d;\n",
              "            color:  #f1f1f1;\n",
              "            max-width:  80px;\n",
              "            font-size:  10pt;\n",
              "        }    #T_7f686710_c76f_11ea_a888_0242ac1c0002row6_col9 {\n",
              "            background-color:  #d73c5b;\n",
              "            color:  #f1f1f1;\n",
              "            max-width:  80px;\n",
              "            font-size:  10pt;\n",
              "        }    #T_7f686710_c76f_11ea_a888_0242ac1c0002row6_col10 {\n",
              "            background-color:  #d73d5c;\n",
              "            color:  #f1f1f1;\n",
              "            max-width:  80px;\n",
              "            font-size:  10pt;\n",
              "        }    #T_7f686710_c76f_11ea_a888_0242ac1c0002row6_col11 {\n",
              "            background-color:  #d73c5b;\n",
              "            color:  #f1f1f1;\n",
              "            max-width:  80px;\n",
              "            font-size:  10pt;\n",
              "        }    #T_7f686710_c76f_11ea_a888_0242ac1c0002row6_col12 {\n",
              "            background-color:  #d73d5c;\n",
              "            color:  #f1f1f1;\n",
              "            max-width:  80px;\n",
              "            font-size:  10pt;\n",
              "        }    #T_7f686710_c76f_11ea_a888_0242ac1c0002row6_col13 {\n",
              "            background-color:  #d73c5b;\n",
              "            color:  #f1f1f1;\n",
              "            max-width:  80px;\n",
              "            font-size:  10pt;\n",
              "        }    #T_7f686710_c76f_11ea_a888_0242ac1c0002row6_col14 {\n",
              "            background-color:  #d73c5b;\n",
              "            color:  #f1f1f1;\n",
              "            max-width:  80px;\n",
              "            font-size:  10pt;\n",
              "        }    #T_7f686710_c76f_11ea_a888_0242ac1c0002row7_col0 {\n",
              "            background-color:  #d73c5b;\n",
              "            color:  #f1f1f1;\n",
              "            max-width:  80px;\n",
              "            font-size:  10pt;\n",
              "        }    #T_7f686710_c76f_11ea_a888_0242ac1c0002row7_col1 {\n",
              "            background-color:  #d8405e;\n",
              "            color:  #f1f1f1;\n",
              "            max-width:  80px;\n",
              "            font-size:  10pt;\n",
              "        }    #T_7f686710_c76f_11ea_a888_0242ac1c0002row7_col2 {\n",
              "            background-color:  #e68699;\n",
              "            color:  #000000;\n",
              "            max-width:  80px;\n",
              "            font-size:  10pt;\n",
              "        }    #T_7f686710_c76f_11ea_a888_0242ac1c0002row7_col3 {\n",
              "            background-color:  #e991a3;\n",
              "            color:  #000000;\n",
              "            max-width:  80px;\n",
              "            font-size:  10pt;\n",
              "        }    #T_7f686710_c76f_11ea_a888_0242ac1c0002row7_col4 {\n",
              "            background-color:  #db4d69;\n",
              "            color:  #000000;\n",
              "            max-width:  80px;\n",
              "            font-size:  10pt;\n",
              "        }    #T_7f686710_c76f_11ea_a888_0242ac1c0002row7_col5 {\n",
              "            background-color:  #eda7b5;\n",
              "            color:  #000000;\n",
              "            max-width:  80px;\n",
              "            font-size:  10pt;\n",
              "        }    #T_7f686710_c76f_11ea_a888_0242ac1c0002row7_col6 {\n",
              "            background-color:  #d94261;\n",
              "            color:  #f1f1f1;\n",
              "            max-width:  80px;\n",
              "            font-size:  10pt;\n",
              "        }    #T_7f686710_c76f_11ea_a888_0242ac1c0002row7_col7 {\n",
              "            background-color:  #4479bb;\n",
              "            color:  #000000;\n",
              "            max-width:  80px;\n",
              "            font-size:  10pt;\n",
              "        }    #T_7f686710_c76f_11ea_a888_0242ac1c0002row7_col8 {\n",
              "            background-color:  #f6d3da;\n",
              "            color:  #000000;\n",
              "            max-width:  80px;\n",
              "            font-size:  10pt;\n",
              "        }    #T_7f686710_c76f_11ea_a888_0242ac1c0002row7_col9 {\n",
              "            background-color:  #d83e5d;\n",
              "            color:  #f1f1f1;\n",
              "            max-width:  80px;\n",
              "            font-size:  10pt;\n",
              "        }    #T_7f686710_c76f_11ea_a888_0242ac1c0002row7_col10 {\n",
              "            background-color:  #d73d5c;\n",
              "            color:  #f1f1f1;\n",
              "            max-width:  80px;\n",
              "            font-size:  10pt;\n",
              "        }    #T_7f686710_c76f_11ea_a888_0242ac1c0002row7_col11 {\n",
              "            background-color:  #d83e5d;\n",
              "            color:  #f1f1f1;\n",
              "            max-width:  80px;\n",
              "            font-size:  10pt;\n",
              "        }    #T_7f686710_c76f_11ea_a888_0242ac1c0002row7_col12 {\n",
              "            background-color:  #d73d5c;\n",
              "            color:  #f1f1f1;\n",
              "            max-width:  80px;\n",
              "            font-size:  10pt;\n",
              "        }    #T_7f686710_c76f_11ea_a888_0242ac1c0002row7_col13 {\n",
              "            background-color:  #d8405e;\n",
              "            color:  #f1f1f1;\n",
              "            max-width:  80px;\n",
              "            font-size:  10pt;\n",
              "        }    #T_7f686710_c76f_11ea_a888_0242ac1c0002row7_col14 {\n",
              "            background-color:  #d8415f;\n",
              "            color:  #f1f1f1;\n",
              "            max-width:  80px;\n",
              "            font-size:  10pt;\n",
              "        }    #T_7f686710_c76f_11ea_a888_0242ac1c0002row8_col0 {\n",
              "            background-color:  #d73d5c;\n",
              "            color:  #f1f1f1;\n",
              "            max-width:  80px;\n",
              "            font-size:  10pt;\n",
              "        }    #T_7f686710_c76f_11ea_a888_0242ac1c0002row8_col1 {\n",
              "            background-color:  #da4b68;\n",
              "            color:  #000000;\n",
              "            max-width:  80px;\n",
              "            font-size:  10pt;\n",
              "        }    #T_7f686710_c76f_11ea_a888_0242ac1c0002row8_col2 {\n",
              "            background-color:  #e88d9f;\n",
              "            color:  #000000;\n",
              "            max-width:  80px;\n",
              "            font-size:  10pt;\n",
              "        }    #T_7f686710_c76f_11ea_a888_0242ac1c0002row8_col3 {\n",
              "            background-color:  #eb9dac;\n",
              "            color:  #000000;\n",
              "            max-width:  80px;\n",
              "            font-size:  10pt;\n",
              "        }    #T_7f686710_c76f_11ea_a888_0242ac1c0002row8_col4 {\n",
              "            background-color:  #da4b68;\n",
              "            color:  #000000;\n",
              "            max-width:  80px;\n",
              "            font-size:  10pt;\n",
              "        }    #T_7f686710_c76f_11ea_a888_0242ac1c0002row8_col5 {\n",
              "            background-color:  #f1bbc6;\n",
              "            color:  #000000;\n",
              "            max-width:  80px;\n",
              "            font-size:  10pt;\n",
              "        }    #T_7f686710_c76f_11ea_a888_0242ac1c0002row8_col6 {\n",
              "            background-color:  #da4966;\n",
              "            color:  #000000;\n",
              "            max-width:  80px;\n",
              "            font-size:  10pt;\n",
              "        }    #T_7f686710_c76f_11ea_a888_0242ac1c0002row8_col7 {\n",
              "            background-color:  #f7d7de;\n",
              "            color:  #000000;\n",
              "            max-width:  80px;\n",
              "            font-size:  10pt;\n",
              "        }    #T_7f686710_c76f_11ea_a888_0242ac1c0002row8_col8 {\n",
              "            background-color:  #4479bb;\n",
              "            color:  #000000;\n",
              "            max-width:  80px;\n",
              "            font-size:  10pt;\n",
              "        }    #T_7f686710_c76f_11ea_a888_0242ac1c0002row8_col9 {\n",
              "            background-color:  #d73d5c;\n",
              "            color:  #f1f1f1;\n",
              "            max-width:  80px;\n",
              "            font-size:  10pt;\n",
              "        }    #T_7f686710_c76f_11ea_a888_0242ac1c0002row8_col10 {\n",
              "            background-color:  #d73d5c;\n",
              "            color:  #f1f1f1;\n",
              "            max-width:  80px;\n",
              "            font-size:  10pt;\n",
              "        }    #T_7f686710_c76f_11ea_a888_0242ac1c0002row8_col11 {\n",
              "            background-color:  #d73c5b;\n",
              "            color:  #f1f1f1;\n",
              "            max-width:  80px;\n",
              "            font-size:  10pt;\n",
              "        }    #T_7f686710_c76f_11ea_a888_0242ac1c0002row8_col12 {\n",
              "            background-color:  #d8405e;\n",
              "            color:  #f1f1f1;\n",
              "            max-width:  80px;\n",
              "            font-size:  10pt;\n",
              "        }    #T_7f686710_c76f_11ea_a888_0242ac1c0002row8_col13 {\n",
              "            background-color:  #d8415f;\n",
              "            color:  #f1f1f1;\n",
              "            max-width:  80px;\n",
              "            font-size:  10pt;\n",
              "        }    #T_7f686710_c76f_11ea_a888_0242ac1c0002row8_col14 {\n",
              "            background-color:  #d94764;\n",
              "            color:  #f1f1f1;\n",
              "            max-width:  80px;\n",
              "            font-size:  10pt;\n",
              "        }    #T_7f686710_c76f_11ea_a888_0242ac1c0002row9_col0 {\n",
              "            background-color:  #d73c5b;\n",
              "            color:  #f1f1f1;\n",
              "            max-width:  80px;\n",
              "            font-size:  10pt;\n",
              "        }    #T_7f686710_c76f_11ea_a888_0242ac1c0002row9_col1 {\n",
              "            background-color:  #e16981;\n",
              "            color:  #000000;\n",
              "            max-width:  80px;\n",
              "            font-size:  10pt;\n",
              "        }    #T_7f686710_c76f_11ea_a888_0242ac1c0002row9_col2 {\n",
              "            background-color:  #da4b68;\n",
              "            color:  #000000;\n",
              "            max-width:  80px;\n",
              "            font-size:  10pt;\n",
              "        }    #T_7f686710_c76f_11ea_a888_0242ac1c0002row9_col3 {\n",
              "            background-color:  #e0657d;\n",
              "            color:  #000000;\n",
              "            max-width:  80px;\n",
              "            font-size:  10pt;\n",
              "        }    #T_7f686710_c76f_11ea_a888_0242ac1c0002row9_col4 {\n",
              "            background-color:  #e991a3;\n",
              "            color:  #000000;\n",
              "            max-width:  80px;\n",
              "            font-size:  10pt;\n",
              "        }    #T_7f686710_c76f_11ea_a888_0242ac1c0002row9_col5 {\n",
              "            background-color:  #d94462;\n",
              "            color:  #f1f1f1;\n",
              "            max-width:  80px;\n",
              "            font-size:  10pt;\n",
              "        }    #T_7f686710_c76f_11ea_a888_0242ac1c0002row9_col6 {\n",
              "            background-color:  #da4b68;\n",
              "            color:  #000000;\n",
              "            max-width:  80px;\n",
              "            font-size:  10pt;\n",
              "        }    #T_7f686710_c76f_11ea_a888_0242ac1c0002row9_col7 {\n",
              "            background-color:  #da4865;\n",
              "            color:  #000000;\n",
              "            max-width:  80px;\n",
              "            font-size:  10pt;\n",
              "        }    #T_7f686710_c76f_11ea_a888_0242ac1c0002row9_col8 {\n",
              "            background-color:  #d8405e;\n",
              "            color:  #f1f1f1;\n",
              "            max-width:  80px;\n",
              "            font-size:  10pt;\n",
              "        }    #T_7f686710_c76f_11ea_a888_0242ac1c0002row9_col9 {\n",
              "            background-color:  #4479bb;\n",
              "            color:  #000000;\n",
              "            max-width:  80px;\n",
              "            font-size:  10pt;\n",
              "        }    #T_7f686710_c76f_11ea_a888_0242ac1c0002row9_col10 {\n",
              "            background-color:  #477bbc;\n",
              "            color:  #000000;\n",
              "            max-width:  80px;\n",
              "            font-size:  10pt;\n",
              "        }    #T_7f686710_c76f_11ea_a888_0242ac1c0002row9_col11 {\n",
              "            background-color:  #457abb;\n",
              "            color:  #000000;\n",
              "            max-width:  80px;\n",
              "            font-size:  10pt;\n",
              "        }    #T_7f686710_c76f_11ea_a888_0242ac1c0002row9_col12 {\n",
              "            background-color:  #7099cb;\n",
              "            color:  #000000;\n",
              "            max-width:  80px;\n",
              "            font-size:  10pt;\n",
              "        }    #T_7f686710_c76f_11ea_a888_0242ac1c0002row9_col13 {\n",
              "            background-color:  #5686c1;\n",
              "            color:  #000000;\n",
              "            max-width:  80px;\n",
              "            font-size:  10pt;\n",
              "        }    #T_7f686710_c76f_11ea_a888_0242ac1c0002row9_col14 {\n",
              "            background-color:  #d94563;\n",
              "            color:  #f1f1f1;\n",
              "            max-width:  80px;\n",
              "            font-size:  10pt;\n",
              "        }    #T_7f686710_c76f_11ea_a888_0242ac1c0002row10_col0 {\n",
              "            background-color:  #d73c5b;\n",
              "            color:  #f1f1f1;\n",
              "            max-width:  80px;\n",
              "            font-size:  10pt;\n",
              "        }    #T_7f686710_c76f_11ea_a888_0242ac1c0002row10_col1 {\n",
              "            background-color:  #e16b82;\n",
              "            color:  #000000;\n",
              "            max-width:  80px;\n",
              "            font-size:  10pt;\n",
              "        }    #T_7f686710_c76f_11ea_a888_0242ac1c0002row10_col2 {\n",
              "            background-color:  #db4d69;\n",
              "            color:  #000000;\n",
              "            max-width:  80px;\n",
              "            font-size:  10pt;\n",
              "        }    #T_7f686710_c76f_11ea_a888_0242ac1c0002row10_col3 {\n",
              "            background-color:  #e06880;\n",
              "            color:  #000000;\n",
              "            max-width:  80px;\n",
              "            font-size:  10pt;\n",
              "        }    #T_7f686710_c76f_11ea_a888_0242ac1c0002row10_col4 {\n",
              "            background-color:  #e994a5;\n",
              "            color:  #000000;\n",
              "            max-width:  80px;\n",
              "            font-size:  10pt;\n",
              "        }    #T_7f686710_c76f_11ea_a888_0242ac1c0002row10_col5 {\n",
              "            background-color:  #d94261;\n",
              "            color:  #f1f1f1;\n",
              "            max-width:  80px;\n",
              "            font-size:  10pt;\n",
              "        }    #T_7f686710_c76f_11ea_a888_0242ac1c0002row10_col6 {\n",
              "            background-color:  #da4b68;\n",
              "            color:  #000000;\n",
              "            max-width:  80px;\n",
              "            font-size:  10pt;\n",
              "        }    #T_7f686710_c76f_11ea_a888_0242ac1c0002row10_col7 {\n",
              "            background-color:  #da4865;\n",
              "            color:  #000000;\n",
              "            max-width:  80px;\n",
              "            font-size:  10pt;\n",
              "        }    #T_7f686710_c76f_11ea_a888_0242ac1c0002row10_col8 {\n",
              "            background-color:  #d8415f;\n",
              "            color:  #f1f1f1;\n",
              "            max-width:  80px;\n",
              "            font-size:  10pt;\n",
              "        }    #T_7f686710_c76f_11ea_a888_0242ac1c0002row10_col9 {\n",
              "            background-color:  #477bbc;\n",
              "            color:  #000000;\n",
              "            max-width:  80px;\n",
              "            font-size:  10pt;\n",
              "        }    #T_7f686710_c76f_11ea_a888_0242ac1c0002row10_col10 {\n",
              "            background-color:  #4479bb;\n",
              "            color:  #000000;\n",
              "            max-width:  80px;\n",
              "            font-size:  10pt;\n",
              "        }    #T_7f686710_c76f_11ea_a888_0242ac1c0002row10_col11 {\n",
              "            background-color:  #487cbc;\n",
              "            color:  #000000;\n",
              "            max-width:  80px;\n",
              "            font-size:  10pt;\n",
              "        }    #T_7f686710_c76f_11ea_a888_0242ac1c0002row10_col12 {\n",
              "            background-color:  #759ccd;\n",
              "            color:  #000000;\n",
              "            max-width:  80px;\n",
              "            font-size:  10pt;\n",
              "        }    #T_7f686710_c76f_11ea_a888_0242ac1c0002row10_col13 {\n",
              "            background-color:  #5787c2;\n",
              "            color:  #000000;\n",
              "            max-width:  80px;\n",
              "            font-size:  10pt;\n",
              "        }    #T_7f686710_c76f_11ea_a888_0242ac1c0002row10_col14 {\n",
              "            background-color:  #d94764;\n",
              "            color:  #f1f1f1;\n",
              "            max-width:  80px;\n",
              "            font-size:  10pt;\n",
              "        }    #T_7f686710_c76f_11ea_a888_0242ac1c0002row11_col0 {\n",
              "            background-color:  #d73c5b;\n",
              "            color:  #f1f1f1;\n",
              "            max-width:  80px;\n",
              "            font-size:  10pt;\n",
              "        }    #T_7f686710_c76f_11ea_a888_0242ac1c0002row11_col1 {\n",
              "            background-color:  #e16981;\n",
              "            color:  #000000;\n",
              "            max-width:  80px;\n",
              "            font-size:  10pt;\n",
              "        }    #T_7f686710_c76f_11ea_a888_0242ac1c0002row11_col2 {\n",
              "            background-color:  #da4966;\n",
              "            color:  #000000;\n",
              "            max-width:  80px;\n",
              "            font-size:  10pt;\n",
              "        }    #T_7f686710_c76f_11ea_a888_0242ac1c0002row11_col3 {\n",
              "            background-color:  #e0657d;\n",
              "            color:  #000000;\n",
              "            max-width:  80px;\n",
              "            font-size:  10pt;\n",
              "        }    #T_7f686710_c76f_11ea_a888_0242ac1c0002row11_col4 {\n",
              "            background-color:  #e991a3;\n",
              "            color:  #000000;\n",
              "            max-width:  80px;\n",
              "            font-size:  10pt;\n",
              "        }    #T_7f686710_c76f_11ea_a888_0242ac1c0002row11_col5 {\n",
              "            background-color:  #d94261;\n",
              "            color:  #f1f1f1;\n",
              "            max-width:  80px;\n",
              "            font-size:  10pt;\n",
              "        }    #T_7f686710_c76f_11ea_a888_0242ac1c0002row11_col6 {\n",
              "            background-color:  #da4966;\n",
              "            color:  #000000;\n",
              "            max-width:  80px;\n",
              "            font-size:  10pt;\n",
              "        }    #T_7f686710_c76f_11ea_a888_0242ac1c0002row11_col7 {\n",
              "            background-color:  #d94764;\n",
              "            color:  #f1f1f1;\n",
              "            max-width:  80px;\n",
              "            font-size:  10pt;\n",
              "        }    #T_7f686710_c76f_11ea_a888_0242ac1c0002row11_col8 {\n",
              "            background-color:  #d83e5d;\n",
              "            color:  #f1f1f1;\n",
              "            max-width:  80px;\n",
              "            font-size:  10pt;\n",
              "        }    #T_7f686710_c76f_11ea_a888_0242ac1c0002row11_col9 {\n",
              "            background-color:  #457abb;\n",
              "            color:  #000000;\n",
              "            max-width:  80px;\n",
              "            font-size:  10pt;\n",
              "        }    #T_7f686710_c76f_11ea_a888_0242ac1c0002row11_col10 {\n",
              "            background-color:  #487cbc;\n",
              "            color:  #000000;\n",
              "            max-width:  80px;\n",
              "            font-size:  10pt;\n",
              "        }    #T_7f686710_c76f_11ea_a888_0242ac1c0002row11_col11 {\n",
              "            background-color:  #4479bb;\n",
              "            color:  #000000;\n",
              "            max-width:  80px;\n",
              "            font-size:  10pt;\n",
              "        }    #T_7f686710_c76f_11ea_a888_0242ac1c0002row11_col12 {\n",
              "            background-color:  #779dcd;\n",
              "            color:  #000000;\n",
              "            max-width:  80px;\n",
              "            font-size:  10pt;\n",
              "        }    #T_7f686710_c76f_11ea_a888_0242ac1c0002row11_col13 {\n",
              "            background-color:  #5686c1;\n",
              "            color:  #000000;\n",
              "            max-width:  80px;\n",
              "            font-size:  10pt;\n",
              "        }    #T_7f686710_c76f_11ea_a888_0242ac1c0002row11_col14 {\n",
              "            background-color:  #dc5570;\n",
              "            color:  #000000;\n",
              "            max-width:  80px;\n",
              "            font-size:  10pt;\n",
              "        }    #T_7f686710_c76f_11ea_a888_0242ac1c0002row12_col0 {\n",
              "            background-color:  #d73c5b;\n",
              "            color:  #f1f1f1;\n",
              "            max-width:  80px;\n",
              "            font-size:  10pt;\n",
              "        }    #T_7f686710_c76f_11ea_a888_0242ac1c0002row12_col1 {\n",
              "            background-color:  #e0657d;\n",
              "            color:  #000000;\n",
              "            max-width:  80px;\n",
              "            font-size:  10pt;\n",
              "        }    #T_7f686710_c76f_11ea_a888_0242ac1c0002row12_col2 {\n",
              "            background-color:  #db4d69;\n",
              "            color:  #000000;\n",
              "            max-width:  80px;\n",
              "            font-size:  10pt;\n",
              "        }    #T_7f686710_c76f_11ea_a888_0242ac1c0002row12_col3 {\n",
              "            background-color:  #de5f79;\n",
              "            color:  #000000;\n",
              "            max-width:  80px;\n",
              "            font-size:  10pt;\n",
              "        }    #T_7f686710_c76f_11ea_a888_0242ac1c0002row12_col4 {\n",
              "            background-color:  #e7899c;\n",
              "            color:  #000000;\n",
              "            max-width:  80px;\n",
              "            font-size:  10pt;\n",
              "        }    #T_7f686710_c76f_11ea_a888_0242ac1c0002row12_col5 {\n",
              "            background-color:  #d8415f;\n",
              "            color:  #f1f1f1;\n",
              "            max-width:  80px;\n",
              "            font-size:  10pt;\n",
              "        }    #T_7f686710_c76f_11ea_a888_0242ac1c0002row12_col6 {\n",
              "            background-color:  #da4b68;\n",
              "            color:  #000000;\n",
              "            max-width:  80px;\n",
              "            font-size:  10pt;\n",
              "        }    #T_7f686710_c76f_11ea_a888_0242ac1c0002row12_col7 {\n",
              "            background-color:  #d94563;\n",
              "            color:  #f1f1f1;\n",
              "            max-width:  80px;\n",
              "            font-size:  10pt;\n",
              "        }    #T_7f686710_c76f_11ea_a888_0242ac1c0002row12_col8 {\n",
              "            background-color:  #d94261;\n",
              "            color:  #f1f1f1;\n",
              "            max-width:  80px;\n",
              "            font-size:  10pt;\n",
              "        }    #T_7f686710_c76f_11ea_a888_0242ac1c0002row12_col9 {\n",
              "            background-color:  #7099cb;\n",
              "            color:  #000000;\n",
              "            max-width:  80px;\n",
              "            font-size:  10pt;\n",
              "        }    #T_7f686710_c76f_11ea_a888_0242ac1c0002row12_col10 {\n",
              "            background-color:  #759ccd;\n",
              "            color:  #000000;\n",
              "            max-width:  80px;\n",
              "            font-size:  10pt;\n",
              "        }    #T_7f686710_c76f_11ea_a888_0242ac1c0002row12_col11 {\n",
              "            background-color:  #779dcd;\n",
              "            color:  #000000;\n",
              "            max-width:  80px;\n",
              "            font-size:  10pt;\n",
              "        }    #T_7f686710_c76f_11ea_a888_0242ac1c0002row12_col12 {\n",
              "            background-color:  #4479bb;\n",
              "            color:  #000000;\n",
              "            max-width:  80px;\n",
              "            font-size:  10pt;\n",
              "        }    #T_7f686710_c76f_11ea_a888_0242ac1c0002row12_col13 {\n",
              "            background-color:  #90afd6;\n",
              "            color:  #000000;\n",
              "            max-width:  80px;\n",
              "            font-size:  10pt;\n",
              "        }    #T_7f686710_c76f_11ea_a888_0242ac1c0002row12_col14 {\n",
              "            background-color:  #d94462;\n",
              "            color:  #f1f1f1;\n",
              "            max-width:  80px;\n",
              "            font-size:  10pt;\n",
              "        }    #T_7f686710_c76f_11ea_a888_0242ac1c0002row13_col0 {\n",
              "            background-color:  #d73c5b;\n",
              "            color:  #f1f1f1;\n",
              "            max-width:  80px;\n",
              "            font-size:  10pt;\n",
              "        }    #T_7f686710_c76f_11ea_a888_0242ac1c0002row13_col1 {\n",
              "            background-color:  #e16b82;\n",
              "            color:  #000000;\n",
              "            max-width:  80px;\n",
              "            font-size:  10pt;\n",
              "        }    #T_7f686710_c76f_11ea_a888_0242ac1c0002row13_col2 {\n",
              "            background-color:  #dc526e;\n",
              "            color:  #000000;\n",
              "            max-width:  80px;\n",
              "            font-size:  10pt;\n",
              "        }    #T_7f686710_c76f_11ea_a888_0242ac1c0002row13_col3 {\n",
              "            background-color:  #e16c84;\n",
              "            color:  #000000;\n",
              "            max-width:  80px;\n",
              "            font-size:  10pt;\n",
              "        }    #T_7f686710_c76f_11ea_a888_0242ac1c0002row13_col4 {\n",
              "            background-color:  #e890a1;\n",
              "            color:  #000000;\n",
              "            max-width:  80px;\n",
              "            font-size:  10pt;\n",
              "        }    #T_7f686710_c76f_11ea_a888_0242ac1c0002row13_col5 {\n",
              "            background-color:  #da4b68;\n",
              "            color:  #000000;\n",
              "            max-width:  80px;\n",
              "            font-size:  10pt;\n",
              "        }    #T_7f686710_c76f_11ea_a888_0242ac1c0002row13_col6 {\n",
              "            background-color:  #da4b68;\n",
              "            color:  #000000;\n",
              "            max-width:  80px;\n",
              "            font-size:  10pt;\n",
              "        }    #T_7f686710_c76f_11ea_a888_0242ac1c0002row13_col7 {\n",
              "            background-color:  #db4d69;\n",
              "            color:  #000000;\n",
              "            max-width:  80px;\n",
              "            font-size:  10pt;\n",
              "        }    #T_7f686710_c76f_11ea_a888_0242ac1c0002row13_col8 {\n",
              "            background-color:  #d94764;\n",
              "            color:  #f1f1f1;\n",
              "            max-width:  80px;\n",
              "            font-size:  10pt;\n",
              "        }    #T_7f686710_c76f_11ea_a888_0242ac1c0002row13_col9 {\n",
              "            background-color:  #5686c1;\n",
              "            color:  #000000;\n",
              "            max-width:  80px;\n",
              "            font-size:  10pt;\n",
              "        }    #T_7f686710_c76f_11ea_a888_0242ac1c0002row13_col10 {\n",
              "            background-color:  #5787c2;\n",
              "            color:  #000000;\n",
              "            max-width:  80px;\n",
              "            font-size:  10pt;\n",
              "        }    #T_7f686710_c76f_11ea_a888_0242ac1c0002row13_col11 {\n",
              "            background-color:  #5686c1;\n",
              "            color:  #000000;\n",
              "            max-width:  80px;\n",
              "            font-size:  10pt;\n",
              "        }    #T_7f686710_c76f_11ea_a888_0242ac1c0002row13_col12 {\n",
              "            background-color:  #8faed6;\n",
              "            color:  #000000;\n",
              "            max-width:  80px;\n",
              "            font-size:  10pt;\n",
              "        }    #T_7f686710_c76f_11ea_a888_0242ac1c0002row13_col13 {\n",
              "            background-color:  #4479bb;\n",
              "            color:  #000000;\n",
              "            max-width:  80px;\n",
              "            font-size:  10pt;\n",
              "        }    #T_7f686710_c76f_11ea_a888_0242ac1c0002row13_col14 {\n",
              "            background-color:  #da4966;\n",
              "            color:  #000000;\n",
              "            max-width:  80px;\n",
              "            font-size:  10pt;\n",
              "        }    #T_7f686710_c76f_11ea_a888_0242ac1c0002row14_col0 {\n",
              "            background-color:  #d8415f;\n",
              "            color:  #f1f1f1;\n",
              "            max-width:  80px;\n",
              "            font-size:  10pt;\n",
              "        }    #T_7f686710_c76f_11ea_a888_0242ac1c0002row14_col1 {\n",
              "            background-color:  #d8405e;\n",
              "            color:  #f1f1f1;\n",
              "            max-width:  80px;\n",
              "            font-size:  10pt;\n",
              "        }    #T_7f686710_c76f_11ea_a888_0242ac1c0002row14_col2 {\n",
              "            background-color:  #d83e5d;\n",
              "            color:  #f1f1f1;\n",
              "            max-width:  80px;\n",
              "            font-size:  10pt;\n",
              "        }    #T_7f686710_c76f_11ea_a888_0242ac1c0002row14_col3 {\n",
              "            background-color:  #d8405e;\n",
              "            color:  #f1f1f1;\n",
              "            max-width:  80px;\n",
              "            font-size:  10pt;\n",
              "        }    #T_7f686710_c76f_11ea_a888_0242ac1c0002row14_col4 {\n",
              "            background-color:  #d83e5d;\n",
              "            color:  #f1f1f1;\n",
              "            max-width:  80px;\n",
              "            font-size:  10pt;\n",
              "        }    #T_7f686710_c76f_11ea_a888_0242ac1c0002row14_col5 {\n",
              "            background-color:  #d8415f;\n",
              "            color:  #f1f1f1;\n",
              "            max-width:  80px;\n",
              "            font-size:  10pt;\n",
              "        }    #T_7f686710_c76f_11ea_a888_0242ac1c0002row14_col6 {\n",
              "            background-color:  #d8405e;\n",
              "            color:  #f1f1f1;\n",
              "            max-width:  80px;\n",
              "            font-size:  10pt;\n",
              "        }    #T_7f686710_c76f_11ea_a888_0242ac1c0002row14_col7 {\n",
              "            background-color:  #d8405e;\n",
              "            color:  #f1f1f1;\n",
              "            max-width:  80px;\n",
              "            font-size:  10pt;\n",
              "        }    #T_7f686710_c76f_11ea_a888_0242ac1c0002row14_col8 {\n",
              "            background-color:  #d8405e;\n",
              "            color:  #f1f1f1;\n",
              "            max-width:  80px;\n",
              "            font-size:  10pt;\n",
              "        }    #T_7f686710_c76f_11ea_a888_0242ac1c0002row14_col9 {\n",
              "            background-color:  #d73c5b;\n",
              "            color:  #f1f1f1;\n",
              "            max-width:  80px;\n",
              "            font-size:  10pt;\n",
              "        }    #T_7f686710_c76f_11ea_a888_0242ac1c0002row14_col10 {\n",
              "            background-color:  #d73c5b;\n",
              "            color:  #f1f1f1;\n",
              "            max-width:  80px;\n",
              "            font-size:  10pt;\n",
              "        }    #T_7f686710_c76f_11ea_a888_0242ac1c0002row14_col11 {\n",
              "            background-color:  #da4b68;\n",
              "            color:  #000000;\n",
              "            max-width:  80px;\n",
              "            font-size:  10pt;\n",
              "        }    #T_7f686710_c76f_11ea_a888_0242ac1c0002row14_col12 {\n",
              "            background-color:  #d73c5b;\n",
              "            color:  #f1f1f1;\n",
              "            max-width:  80px;\n",
              "            font-size:  10pt;\n",
              "        }    #T_7f686710_c76f_11ea_a888_0242ac1c0002row14_col13 {\n",
              "            background-color:  #d73d5c;\n",
              "            color:  #f1f1f1;\n",
              "            max-width:  80px;\n",
              "            font-size:  10pt;\n",
              "        }    #T_7f686710_c76f_11ea_a888_0242ac1c0002row14_col14 {\n",
              "            background-color:  #4479bb;\n",
              "            color:  #000000;\n",
              "            max-width:  80px;\n",
              "            font-size:  10pt;\n",
              "        }</style><table id=\"T_7f686710_c76f_11ea_a888_0242ac1c0002\" ><caption>Hover to magify</caption><thead>    <tr>        <th class=\"blank level0\" ></th>        <th class=\"col_heading level0 col0\" >condition</th>        <th class=\"col_heading level0 col1\" >drugid</th>        <th class=\"col_heading level0 col2\" >easeofuse</th>        <th class=\"col_heading level0 col3\" >effectiveness</th>        <th class=\"col_heading level0 col4\" >usefulcount</th>        <th class=\"col_heading level0 col5\" >satisfaction</th>        <th class=\"col_heading level0 col6\" >uniqueid</th>        <th class=\"col_heading level0 col7\" >sentiment_textblob</th>        <th class=\"col_heading level0 col8\" >Vader_score</th>        <th class=\"col_heading level0 col9\" >count_word</th>        <th class=\"col_heading level0 col10\" >count_unique_word</th>        <th class=\"col_heading level0 col11\" >count_letters</th>        <th class=\"col_heading level0 col12\" >count_punctuations</th>        <th class=\"col_heading level0 col13\" >count_stopwords</th>        <th class=\"col_heading level0 col14\" >mean_word_len</th>    </tr></thead><tbody>\n",
              "                <tr>\n",
              "                        <th id=\"T_7f686710_c76f_11ea_a888_0242ac1c0002level0_row0\" class=\"row_heading level0 row0\" >condition</th>\n",
              "                        <td id=\"T_7f686710_c76f_11ea_a888_0242ac1c0002row0_col0\" class=\"data row0 col0\" >1.00</td>\n",
              "                        <td id=\"T_7f686710_c76f_11ea_a888_0242ac1c0002row0_col1\" class=\"data row0 col1\" >-0.11</td>\n",
              "                        <td id=\"T_7f686710_c76f_11ea_a888_0242ac1c0002row0_col2\" class=\"data row0 col2\" >-0.02</td>\n",
              "                        <td id=\"T_7f686710_c76f_11ea_a888_0242ac1c0002row0_col3\" class=\"data row0 col3\" >-0.03</td>\n",
              "                        <td id=\"T_7f686710_c76f_11ea_a888_0242ac1c0002row0_col4\" class=\"data row0 col4\" >-0.00</td>\n",
              "                        <td id=\"T_7f686710_c76f_11ea_a888_0242ac1c0002row0_col5\" class=\"data row0 col5\" >0.04</td>\n",
              "                        <td id=\"T_7f686710_c76f_11ea_a888_0242ac1c0002row0_col6\" class=\"data row0 col6\" >-0.00</td>\n",
              "                        <td id=\"T_7f686710_c76f_11ea_a888_0242ac1c0002row0_col7\" class=\"data row0 col7\" >-0.02</td>\n",
              "                        <td id=\"T_7f686710_c76f_11ea_a888_0242ac1c0002row0_col8\" class=\"data row0 col8\" >-0.03</td>\n",
              "                        <td id=\"T_7f686710_c76f_11ea_a888_0242ac1c0002row0_col9\" class=\"data row0 col9\" >-0.05</td>\n",
              "                        <td id=\"T_7f686710_c76f_11ea_a888_0242ac1c0002row0_col10\" class=\"data row0 col10\" >-0.05</td>\n",
              "                        <td id=\"T_7f686710_c76f_11ea_a888_0242ac1c0002row0_col11\" class=\"data row0 col11\" >-0.04</td>\n",
              "                        <td id=\"T_7f686710_c76f_11ea_a888_0242ac1c0002row0_col12\" class=\"data row0 col12\" >-0.04</td>\n",
              "                        <td id=\"T_7f686710_c76f_11ea_a888_0242ac1c0002row0_col13\" class=\"data row0 col13\" >-0.05</td>\n",
              "                        <td id=\"T_7f686710_c76f_11ea_a888_0242ac1c0002row0_col14\" class=\"data row0 col14\" >0.00</td>\n",
              "            </tr>\n",
              "            <tr>\n",
              "                        <th id=\"T_7f686710_c76f_11ea_a888_0242ac1c0002level0_row1\" class=\"row_heading level0 row1\" >drugid</th>\n",
              "                        <td id=\"T_7f686710_c76f_11ea_a888_0242ac1c0002row1_col0\" class=\"data row1 col0\" >-0.11</td>\n",
              "                        <td id=\"T_7f686710_c76f_11ea_a888_0242ac1c0002row1_col1\" class=\"data row1 col1\" >1.00</td>\n",
              "                        <td id=\"T_7f686710_c76f_11ea_a888_0242ac1c0002row1_col2\" class=\"data row1 col2\" >-0.04</td>\n",
              "                        <td id=\"T_7f686710_c76f_11ea_a888_0242ac1c0002row1_col3\" class=\"data row1 col3\" >-0.03</td>\n",
              "                        <td id=\"T_7f686710_c76f_11ea_a888_0242ac1c0002row1_col4\" class=\"data row1 col4\" >0.03</td>\n",
              "                        <td id=\"T_7f686710_c76f_11ea_a888_0242ac1c0002row1_col5\" class=\"data row1 col5\" >-0.05</td>\n",
              "                        <td id=\"T_7f686710_c76f_11ea_a888_0242ac1c0002row1_col6\" class=\"data row1 col6\" >-0.00</td>\n",
              "                        <td id=\"T_7f686710_c76f_11ea_a888_0242ac1c0002row1_col7\" class=\"data row1 col7\" >-0.00</td>\n",
              "                        <td id=\"T_7f686710_c76f_11ea_a888_0242ac1c0002row1_col8\" class=\"data row1 col8\" >0.01</td>\n",
              "                        <td id=\"T_7f686710_c76f_11ea_a888_0242ac1c0002row1_col9\" class=\"data row1 col9\" >0.09</td>\n",
              "                        <td id=\"T_7f686710_c76f_11ea_a888_0242ac1c0002row1_col10\" class=\"data row1 col10\" >0.09</td>\n",
              "                        <td id=\"T_7f686710_c76f_11ea_a888_0242ac1c0002row1_col11\" class=\"data row1 col11\" >0.09</td>\n",
              "                        <td id=\"T_7f686710_c76f_11ea_a888_0242ac1c0002row1_col12\" class=\"data row1 col12\" >0.07</td>\n",
              "                        <td id=\"T_7f686710_c76f_11ea_a888_0242ac1c0002row1_col13\" class=\"data row1 col13\" >0.08</td>\n",
              "                        <td id=\"T_7f686710_c76f_11ea_a888_0242ac1c0002row1_col14\" class=\"data row1 col14\" >-0.00</td>\n",
              "            </tr>\n",
              "            <tr>\n",
              "                        <th id=\"T_7f686710_c76f_11ea_a888_0242ac1c0002level0_row2\" class=\"row_heading level0 row2\" >easeofuse</th>\n",
              "                        <td id=\"T_7f686710_c76f_11ea_a888_0242ac1c0002row2_col0\" class=\"data row2 col0\" >-0.02</td>\n",
              "                        <td id=\"T_7f686710_c76f_11ea_a888_0242ac1c0002row2_col1\" class=\"data row2 col1\" >-0.04</td>\n",
              "                        <td id=\"T_7f686710_c76f_11ea_a888_0242ac1c0002row2_col2\" class=\"data row2 col2\" >1.00</td>\n",
              "                        <td id=\"T_7f686710_c76f_11ea_a888_0242ac1c0002row2_col3\" class=\"data row2 col3\" >0.48</td>\n",
              "                        <td id=\"T_7f686710_c76f_11ea_a888_0242ac1c0002row2_col4\" class=\"data row2 col4\" >0.04</td>\n",
              "                        <td id=\"T_7f686710_c76f_11ea_a888_0242ac1c0002row2_col5\" class=\"data row2 col5\" >0.49</td>\n",
              "                        <td id=\"T_7f686710_c76f_11ea_a888_0242ac1c0002row2_col6\" class=\"data row2 col6\" >-0.00</td>\n",
              "                        <td id=\"T_7f686710_c76f_11ea_a888_0242ac1c0002row2_col7\" class=\"data row2 col7\" >0.19</td>\n",
              "                        <td id=\"T_7f686710_c76f_11ea_a888_0242ac1c0002row2_col8\" class=\"data row2 col8\" >0.20</td>\n",
              "                        <td id=\"T_7f686710_c76f_11ea_a888_0242ac1c0002row2_col9\" class=\"data row2 col9\" >0.00</td>\n",
              "                        <td id=\"T_7f686710_c76f_11ea_a888_0242ac1c0002row2_col10\" class=\"data row2 col10\" >0.00</td>\n",
              "                        <td id=\"T_7f686710_c76f_11ea_a888_0242ac1c0002row2_col11\" class=\"data row2 col11\" >-0.00</td>\n",
              "                        <td id=\"T_7f686710_c76f_11ea_a888_0242ac1c0002row2_col12\" class=\"data row2 col12\" >0.01</td>\n",
              "                        <td id=\"T_7f686710_c76f_11ea_a888_0242ac1c0002row2_col13\" class=\"data row2 col13\" >0.01</td>\n",
              "                        <td id=\"T_7f686710_c76f_11ea_a888_0242ac1c0002row2_col14\" class=\"data row2 col14\" >-0.01</td>\n",
              "            </tr>\n",
              "            <tr>\n",
              "                        <th id=\"T_7f686710_c76f_11ea_a888_0242ac1c0002level0_row3\" class=\"row_heading level0 row3\" >effectiveness</th>\n",
              "                        <td id=\"T_7f686710_c76f_11ea_a888_0242ac1c0002row3_col0\" class=\"data row3 col0\" >-0.03</td>\n",
              "                        <td id=\"T_7f686710_c76f_11ea_a888_0242ac1c0002row3_col1\" class=\"data row3 col1\" >-0.03</td>\n",
              "                        <td id=\"T_7f686710_c76f_11ea_a888_0242ac1c0002row3_col2\" class=\"data row3 col2\" >0.48</td>\n",
              "                        <td id=\"T_7f686710_c76f_11ea_a888_0242ac1c0002row3_col3\" class=\"data row3 col3\" >1.00</td>\n",
              "                        <td id=\"T_7f686710_c76f_11ea_a888_0242ac1c0002row3_col4\" class=\"data row3 col4\" >0.06</td>\n",
              "                        <td id=\"T_7f686710_c76f_11ea_a888_0242ac1c0002row3_col5\" class=\"data row3 col5\" >0.73</td>\n",
              "                        <td id=\"T_7f686710_c76f_11ea_a888_0242ac1c0002row3_col6\" class=\"data row3 col6\" >0.01</td>\n",
              "                        <td id=\"T_7f686710_c76f_11ea_a888_0242ac1c0002row3_col7\" class=\"data row3 col7\" >0.22</td>\n",
              "                        <td id=\"T_7f686710_c76f_11ea_a888_0242ac1c0002row3_col8\" class=\"data row3 col8\" >0.24</td>\n",
              "                        <td id=\"T_7f686710_c76f_11ea_a888_0242ac1c0002row3_col9\" class=\"data row3 col9\" >0.08</td>\n",
              "                        <td id=\"T_7f686710_c76f_11ea_a888_0242ac1c0002row3_col10\" class=\"data row3 col10\" >0.08</td>\n",
              "                        <td id=\"T_7f686710_c76f_11ea_a888_0242ac1c0002row3_col11\" class=\"data row3 col11\" >0.07</td>\n",
              "                        <td id=\"T_7f686710_c76f_11ea_a888_0242ac1c0002row3_col12\" class=\"data row3 col12\" >0.06</td>\n",
              "                        <td id=\"T_7f686710_c76f_11ea_a888_0242ac1c0002row3_col13\" class=\"data row3 col13\" >0.09</td>\n",
              "                        <td id=\"T_7f686710_c76f_11ea_a888_0242ac1c0002row3_col14\" class=\"data row3 col14\" >-0.00</td>\n",
              "            </tr>\n",
              "            <tr>\n",
              "                        <th id=\"T_7f686710_c76f_11ea_a888_0242ac1c0002level0_row4\" class=\"row_heading level0 row4\" >usefulcount</th>\n",
              "                        <td id=\"T_7f686710_c76f_11ea_a888_0242ac1c0002row4_col0\" class=\"data row4 col0\" >-0.00</td>\n",
              "                        <td id=\"T_7f686710_c76f_11ea_a888_0242ac1c0002row4_col1\" class=\"data row4 col1\" >0.03</td>\n",
              "                        <td id=\"T_7f686710_c76f_11ea_a888_0242ac1c0002row4_col2\" class=\"data row4 col2\" >0.04</td>\n",
              "                        <td id=\"T_7f686710_c76f_11ea_a888_0242ac1c0002row4_col3\" class=\"data row4 col3\" >0.06</td>\n",
              "                        <td id=\"T_7f686710_c76f_11ea_a888_0242ac1c0002row4_col4\" class=\"data row4 col4\" >1.00</td>\n",
              "                        <td id=\"T_7f686710_c76f_11ea_a888_0242ac1c0002row4_col5\" class=\"data row4 col5\" >0.06</td>\n",
              "                        <td id=\"T_7f686710_c76f_11ea_a888_0242ac1c0002row4_col6\" class=\"data row4 col6\" >-0.00</td>\n",
              "                        <td id=\"T_7f686710_c76f_11ea_a888_0242ac1c0002row4_col7\" class=\"data row4 col7\" >0.03</td>\n",
              "                        <td id=\"T_7f686710_c76f_11ea_a888_0242ac1c0002row4_col8\" class=\"data row4 col8\" >0.01</td>\n",
              "                        <td id=\"T_7f686710_c76f_11ea_a888_0242ac1c0002row4_col9\" class=\"data row4 col9\" >0.20</td>\n",
              "                        <td id=\"T_7f686710_c76f_11ea_a888_0242ac1c0002row4_col10\" class=\"data row4 col10\" >0.21</td>\n",
              "                        <td id=\"T_7f686710_c76f_11ea_a888_0242ac1c0002row4_col11\" class=\"data row4 col11\" >0.20</td>\n",
              "                        <td id=\"T_7f686710_c76f_11ea_a888_0242ac1c0002row4_col12\" class=\"data row4 col12\" >0.18</td>\n",
              "                        <td id=\"T_7f686710_c76f_11ea_a888_0242ac1c0002row4_col13\" class=\"data row4 col13\" >0.19</td>\n",
              "                        <td id=\"T_7f686710_c76f_11ea_a888_0242ac1c0002row4_col14\" class=\"data row4 col14\" >-0.00</td>\n",
              "            </tr>\n",
              "            <tr>\n",
              "                        <th id=\"T_7f686710_c76f_11ea_a888_0242ac1c0002level0_row5\" class=\"row_heading level0 row5\" >satisfaction</th>\n",
              "                        <td id=\"T_7f686710_c76f_11ea_a888_0242ac1c0002row5_col0\" class=\"data row5 col0\" >0.04</td>\n",
              "                        <td id=\"T_7f686710_c76f_11ea_a888_0242ac1c0002row5_col1\" class=\"data row5 col1\" >-0.05</td>\n",
              "                        <td id=\"T_7f686710_c76f_11ea_a888_0242ac1c0002row5_col2\" class=\"data row5 col2\" >0.49</td>\n",
              "                        <td id=\"T_7f686710_c76f_11ea_a888_0242ac1c0002row5_col3\" class=\"data row5 col3\" >0.73</td>\n",
              "                        <td id=\"T_7f686710_c76f_11ea_a888_0242ac1c0002row5_col4\" class=\"data row5 col4\" >0.06</td>\n",
              "                        <td id=\"T_7f686710_c76f_11ea_a888_0242ac1c0002row5_col5\" class=\"data row5 col5\" >1.00</td>\n",
              "                        <td id=\"T_7f686710_c76f_11ea_a888_0242ac1c0002row5_col6\" class=\"data row5 col6\" >0.00</td>\n",
              "                        <td id=\"T_7f686710_c76f_11ea_a888_0242ac1c0002row5_col7\" class=\"data row5 col7\" >0.28</td>\n",
              "                        <td id=\"T_7f686710_c76f_11ea_a888_0242ac1c0002row5_col8\" class=\"data row5 col8\" >0.33</td>\n",
              "                        <td id=\"T_7f686710_c76f_11ea_a888_0242ac1c0002row5_col9\" class=\"data row5 col9\" >-0.02</td>\n",
              "                        <td id=\"T_7f686710_c76f_11ea_a888_0242ac1c0002row5_col10\" class=\"data row5 col10\" >-0.02</td>\n",
              "                        <td id=\"T_7f686710_c76f_11ea_a888_0242ac1c0002row5_col11\" class=\"data row5 col11\" >-0.02</td>\n",
              "                        <td id=\"T_7f686710_c76f_11ea_a888_0242ac1c0002row5_col12\" class=\"data row5 col12\" >-0.02</td>\n",
              "                        <td id=\"T_7f686710_c76f_11ea_a888_0242ac1c0002row5_col13\" class=\"data row5 col13\" >-0.01</td>\n",
              "                        <td id=\"T_7f686710_c76f_11ea_a888_0242ac1c0002row5_col14\" class=\"data row5 col14\" >0.00</td>\n",
              "            </tr>\n",
              "            <tr>\n",
              "                        <th id=\"T_7f686710_c76f_11ea_a888_0242ac1c0002level0_row6\" class=\"row_heading level0 row6\" >uniqueid</th>\n",
              "                        <td id=\"T_7f686710_c76f_11ea_a888_0242ac1c0002row6_col0\" class=\"data row6 col0\" >-0.00</td>\n",
              "                        <td id=\"T_7f686710_c76f_11ea_a888_0242ac1c0002row6_col1\" class=\"data row6 col1\" >-0.00</td>\n",
              "                        <td id=\"T_7f686710_c76f_11ea_a888_0242ac1c0002row6_col2\" class=\"data row6 col2\" >-0.00</td>\n",
              "                        <td id=\"T_7f686710_c76f_11ea_a888_0242ac1c0002row6_col3\" class=\"data row6 col3\" >0.01</td>\n",
              "                        <td id=\"T_7f686710_c76f_11ea_a888_0242ac1c0002row6_col4\" class=\"data row6 col4\" >-0.00</td>\n",
              "                        <td id=\"T_7f686710_c76f_11ea_a888_0242ac1c0002row6_col5\" class=\"data row6 col5\" >0.00</td>\n",
              "                        <td id=\"T_7f686710_c76f_11ea_a888_0242ac1c0002row6_col6\" class=\"data row6 col6\" >1.00</td>\n",
              "                        <td id=\"T_7f686710_c76f_11ea_a888_0242ac1c0002row6_col7\" class=\"data row6 col7\" >0.01</td>\n",
              "                        <td id=\"T_7f686710_c76f_11ea_a888_0242ac1c0002row6_col8\" class=\"data row6 col8\" >0.00</td>\n",
              "                        <td id=\"T_7f686710_c76f_11ea_a888_0242ac1c0002row6_col9\" class=\"data row6 col9\" >-0.00</td>\n",
              "                        <td id=\"T_7f686710_c76f_11ea_a888_0242ac1c0002row6_col10\" class=\"data row6 col10\" >0.00</td>\n",
              "                        <td id=\"T_7f686710_c76f_11ea_a888_0242ac1c0002row6_col11\" class=\"data row6 col11\" >-0.00</td>\n",
              "                        <td id=\"T_7f686710_c76f_11ea_a888_0242ac1c0002row6_col12\" class=\"data row6 col12\" >0.00</td>\n",
              "                        <td id=\"T_7f686710_c76f_11ea_a888_0242ac1c0002row6_col13\" class=\"data row6 col13\" >-0.00</td>\n",
              "                        <td id=\"T_7f686710_c76f_11ea_a888_0242ac1c0002row6_col14\" class=\"data row6 col14\" >-0.00</td>\n",
              "            </tr>\n",
              "            <tr>\n",
              "                        <th id=\"T_7f686710_c76f_11ea_a888_0242ac1c0002level0_row7\" class=\"row_heading level0 row7\" >sentiment_textblob</th>\n",
              "                        <td id=\"T_7f686710_c76f_11ea_a888_0242ac1c0002row7_col0\" class=\"data row7 col0\" >-0.02</td>\n",
              "                        <td id=\"T_7f686710_c76f_11ea_a888_0242ac1c0002row7_col1\" class=\"data row7 col1\" >-0.00</td>\n",
              "                        <td id=\"T_7f686710_c76f_11ea_a888_0242ac1c0002row7_col2\" class=\"data row7 col2\" >0.19</td>\n",
              "                        <td id=\"T_7f686710_c76f_11ea_a888_0242ac1c0002row7_col3\" class=\"data row7 col3\" >0.22</td>\n",
              "                        <td id=\"T_7f686710_c76f_11ea_a888_0242ac1c0002row7_col4\" class=\"data row7 col4\" >0.03</td>\n",
              "                        <td id=\"T_7f686710_c76f_11ea_a888_0242ac1c0002row7_col5\" class=\"data row7 col5\" >0.28</td>\n",
              "                        <td id=\"T_7f686710_c76f_11ea_a888_0242ac1c0002row7_col6\" class=\"data row7 col6\" >0.01</td>\n",
              "                        <td id=\"T_7f686710_c76f_11ea_a888_0242ac1c0002row7_col7\" class=\"data row7 col7\" >1.00</td>\n",
              "                        <td id=\"T_7f686710_c76f_11ea_a888_0242ac1c0002row7_col8\" class=\"data row7 col8\" >0.41</td>\n",
              "                        <td id=\"T_7f686710_c76f_11ea_a888_0242ac1c0002row7_col9\" class=\"data row7 col9\" >-0.01</td>\n",
              "                        <td id=\"T_7f686710_c76f_11ea_a888_0242ac1c0002row7_col10\" class=\"data row7 col10\" >-0.01</td>\n",
              "                        <td id=\"T_7f686710_c76f_11ea_a888_0242ac1c0002row7_col11\" class=\"data row7 col11\" >-0.01</td>\n",
              "                        <td id=\"T_7f686710_c76f_11ea_a888_0242ac1c0002row7_col12\" class=\"data row7 col12\" >-0.01</td>\n",
              "                        <td id=\"T_7f686710_c76f_11ea_a888_0242ac1c0002row7_col13\" class=\"data row7 col13\" >-0.00</td>\n",
              "                        <td id=\"T_7f686710_c76f_11ea_a888_0242ac1c0002row7_col14\" class=\"data row7 col14\" >-0.00</td>\n",
              "            </tr>\n",
              "            <tr>\n",
              "                        <th id=\"T_7f686710_c76f_11ea_a888_0242ac1c0002level0_row8\" class=\"row_heading level0 row8\" >Vader_score</th>\n",
              "                        <td id=\"T_7f686710_c76f_11ea_a888_0242ac1c0002row8_col0\" class=\"data row8 col0\" >-0.03</td>\n",
              "                        <td id=\"T_7f686710_c76f_11ea_a888_0242ac1c0002row8_col1\" class=\"data row8 col1\" >0.01</td>\n",
              "                        <td id=\"T_7f686710_c76f_11ea_a888_0242ac1c0002row8_col2\" class=\"data row8 col2\" >0.20</td>\n",
              "                        <td id=\"T_7f686710_c76f_11ea_a888_0242ac1c0002row8_col3\" class=\"data row8 col3\" >0.24</td>\n",
              "                        <td id=\"T_7f686710_c76f_11ea_a888_0242ac1c0002row8_col4\" class=\"data row8 col4\" >0.01</td>\n",
              "                        <td id=\"T_7f686710_c76f_11ea_a888_0242ac1c0002row8_col5\" class=\"data row8 col5\" >0.33</td>\n",
              "                        <td id=\"T_7f686710_c76f_11ea_a888_0242ac1c0002row8_col6\" class=\"data row8 col6\" >0.00</td>\n",
              "                        <td id=\"T_7f686710_c76f_11ea_a888_0242ac1c0002row8_col7\" class=\"data row8 col7\" >0.41</td>\n",
              "                        <td id=\"T_7f686710_c76f_11ea_a888_0242ac1c0002row8_col8\" class=\"data row8 col8\" >1.00</td>\n",
              "                        <td id=\"T_7f686710_c76f_11ea_a888_0242ac1c0002row8_col9\" class=\"data row8 col9\" >-0.03</td>\n",
              "                        <td id=\"T_7f686710_c76f_11ea_a888_0242ac1c0002row8_col10\" class=\"data row8 col10\" >-0.03</td>\n",
              "                        <td id=\"T_7f686710_c76f_11ea_a888_0242ac1c0002row8_col11\" class=\"data row8 col11\" >-0.04</td>\n",
              "                        <td id=\"T_7f686710_c76f_11ea_a888_0242ac1c0002row8_col12\" class=\"data row8 col12\" >-0.02</td>\n",
              "                        <td id=\"T_7f686710_c76f_11ea_a888_0242ac1c0002row8_col13\" class=\"data row8 col13\" >-0.02</td>\n",
              "                        <td id=\"T_7f686710_c76f_11ea_a888_0242ac1c0002row8_col14\" class=\"data row8 col14\" >-0.00</td>\n",
              "            </tr>\n",
              "            <tr>\n",
              "                        <th id=\"T_7f686710_c76f_11ea_a888_0242ac1c0002level0_row9\" class=\"row_heading level0 row9\" >count_word</th>\n",
              "                        <td id=\"T_7f686710_c76f_11ea_a888_0242ac1c0002row9_col0\" class=\"data row9 col0\" >-0.05</td>\n",
              "                        <td id=\"T_7f686710_c76f_11ea_a888_0242ac1c0002row9_col1\" class=\"data row9 col1\" >0.09</td>\n",
              "                        <td id=\"T_7f686710_c76f_11ea_a888_0242ac1c0002row9_col2\" class=\"data row9 col2\" >0.00</td>\n",
              "                        <td id=\"T_7f686710_c76f_11ea_a888_0242ac1c0002row9_col3\" class=\"data row9 col3\" >0.08</td>\n",
              "                        <td id=\"T_7f686710_c76f_11ea_a888_0242ac1c0002row9_col4\" class=\"data row9 col4\" >0.20</td>\n",
              "                        <td id=\"T_7f686710_c76f_11ea_a888_0242ac1c0002row9_col5\" class=\"data row9 col5\" >-0.02</td>\n",
              "                        <td id=\"T_7f686710_c76f_11ea_a888_0242ac1c0002row9_col6\" class=\"data row9 col6\" >-0.00</td>\n",
              "                        <td id=\"T_7f686710_c76f_11ea_a888_0242ac1c0002row9_col7\" class=\"data row9 col7\" >-0.01</td>\n",
              "                        <td id=\"T_7f686710_c76f_11ea_a888_0242ac1c0002row9_col8\" class=\"data row9 col8\" >-0.03</td>\n",
              "                        <td id=\"T_7f686710_c76f_11ea_a888_0242ac1c0002row9_col9\" class=\"data row9 col9\" >1.00</td>\n",
              "                        <td id=\"T_7f686710_c76f_11ea_a888_0242ac1c0002row9_col10\" class=\"data row9 col10\" >0.99</td>\n",
              "                        <td id=\"T_7f686710_c76f_11ea_a888_0242ac1c0002row9_col11\" class=\"data row9 col11\" >0.99</td>\n",
              "                        <td id=\"T_7f686710_c76f_11ea_a888_0242ac1c0002row9_col12\" class=\"data row9 col12\" >0.87</td>\n",
              "                        <td id=\"T_7f686710_c76f_11ea_a888_0242ac1c0002row9_col13\" class=\"data row9 col13\" >0.94</td>\n",
              "                        <td id=\"T_7f686710_c76f_11ea_a888_0242ac1c0002row9_col14\" class=\"data row9 col14\" >-0.01</td>\n",
              "            </tr>\n",
              "            <tr>\n",
              "                        <th id=\"T_7f686710_c76f_11ea_a888_0242ac1c0002level0_row10\" class=\"row_heading level0 row10\" >count_unique_word</th>\n",
              "                        <td id=\"T_7f686710_c76f_11ea_a888_0242ac1c0002row10_col0\" class=\"data row10 col0\" >-0.05</td>\n",
              "                        <td id=\"T_7f686710_c76f_11ea_a888_0242ac1c0002row10_col1\" class=\"data row10 col1\" >0.09</td>\n",
              "                        <td id=\"T_7f686710_c76f_11ea_a888_0242ac1c0002row10_col2\" class=\"data row10 col2\" >0.00</td>\n",
              "                        <td id=\"T_7f686710_c76f_11ea_a888_0242ac1c0002row10_col3\" class=\"data row10 col3\" >0.08</td>\n",
              "                        <td id=\"T_7f686710_c76f_11ea_a888_0242ac1c0002row10_col4\" class=\"data row10 col4\" >0.21</td>\n",
              "                        <td id=\"T_7f686710_c76f_11ea_a888_0242ac1c0002row10_col5\" class=\"data row10 col5\" >-0.02</td>\n",
              "                        <td id=\"T_7f686710_c76f_11ea_a888_0242ac1c0002row10_col6\" class=\"data row10 col6\" >0.00</td>\n",
              "                        <td id=\"T_7f686710_c76f_11ea_a888_0242ac1c0002row10_col7\" class=\"data row10 col7\" >-0.01</td>\n",
              "                        <td id=\"T_7f686710_c76f_11ea_a888_0242ac1c0002row10_col8\" class=\"data row10 col8\" >-0.03</td>\n",
              "                        <td id=\"T_7f686710_c76f_11ea_a888_0242ac1c0002row10_col9\" class=\"data row10 col9\" >0.99</td>\n",
              "                        <td id=\"T_7f686710_c76f_11ea_a888_0242ac1c0002row10_col10\" class=\"data row10 col10\" >1.00</td>\n",
              "                        <td id=\"T_7f686710_c76f_11ea_a888_0242ac1c0002row10_col11\" class=\"data row10 col11\" >0.99</td>\n",
              "                        <td id=\"T_7f686710_c76f_11ea_a888_0242ac1c0002row10_col12\" class=\"data row10 col12\" >0.85</td>\n",
              "                        <td id=\"T_7f686710_c76f_11ea_a888_0242ac1c0002row10_col13\" class=\"data row10 col13\" >0.94</td>\n",
              "                        <td id=\"T_7f686710_c76f_11ea_a888_0242ac1c0002row10_col14\" class=\"data row10 col14\" >-0.01</td>\n",
              "            </tr>\n",
              "            <tr>\n",
              "                        <th id=\"T_7f686710_c76f_11ea_a888_0242ac1c0002level0_row11\" class=\"row_heading level0 row11\" >count_letters</th>\n",
              "                        <td id=\"T_7f686710_c76f_11ea_a888_0242ac1c0002row11_col0\" class=\"data row11 col0\" >-0.04</td>\n",
              "                        <td id=\"T_7f686710_c76f_11ea_a888_0242ac1c0002row11_col1\" class=\"data row11 col1\" >0.09</td>\n",
              "                        <td id=\"T_7f686710_c76f_11ea_a888_0242ac1c0002row11_col2\" class=\"data row11 col2\" >-0.00</td>\n",
              "                        <td id=\"T_7f686710_c76f_11ea_a888_0242ac1c0002row11_col3\" class=\"data row11 col3\" >0.07</td>\n",
              "                        <td id=\"T_7f686710_c76f_11ea_a888_0242ac1c0002row11_col4\" class=\"data row11 col4\" >0.20</td>\n",
              "                        <td id=\"T_7f686710_c76f_11ea_a888_0242ac1c0002row11_col5\" class=\"data row11 col5\" >-0.02</td>\n",
              "                        <td id=\"T_7f686710_c76f_11ea_a888_0242ac1c0002row11_col6\" class=\"data row11 col6\" >-0.00</td>\n",
              "                        <td id=\"T_7f686710_c76f_11ea_a888_0242ac1c0002row11_col7\" class=\"data row11 col7\" >-0.01</td>\n",
              "                        <td id=\"T_7f686710_c76f_11ea_a888_0242ac1c0002row11_col8\" class=\"data row11 col8\" >-0.04</td>\n",
              "                        <td id=\"T_7f686710_c76f_11ea_a888_0242ac1c0002row11_col9\" class=\"data row11 col9\" >0.99</td>\n",
              "                        <td id=\"T_7f686710_c76f_11ea_a888_0242ac1c0002row11_col10\" class=\"data row11 col10\" >0.99</td>\n",
              "                        <td id=\"T_7f686710_c76f_11ea_a888_0242ac1c0002row11_col11\" class=\"data row11 col11\" >1.00</td>\n",
              "                        <td id=\"T_7f686710_c76f_11ea_a888_0242ac1c0002row11_col12\" class=\"data row11 col12\" >0.85</td>\n",
              "                        <td id=\"T_7f686710_c76f_11ea_a888_0242ac1c0002row11_col13\" class=\"data row11 col13\" >0.94</td>\n",
              "                        <td id=\"T_7f686710_c76f_11ea_a888_0242ac1c0002row11_col14\" class=\"data row11 col14\" >0.03</td>\n",
              "            </tr>\n",
              "            <tr>\n",
              "                        <th id=\"T_7f686710_c76f_11ea_a888_0242ac1c0002level0_row12\" class=\"row_heading level0 row12\" >count_punctuations</th>\n",
              "                        <td id=\"T_7f686710_c76f_11ea_a888_0242ac1c0002row12_col0\" class=\"data row12 col0\" >-0.04</td>\n",
              "                        <td id=\"T_7f686710_c76f_11ea_a888_0242ac1c0002row12_col1\" class=\"data row12 col1\" >0.07</td>\n",
              "                        <td id=\"T_7f686710_c76f_11ea_a888_0242ac1c0002row12_col2\" class=\"data row12 col2\" >0.01</td>\n",
              "                        <td id=\"T_7f686710_c76f_11ea_a888_0242ac1c0002row12_col3\" class=\"data row12 col3\" >0.06</td>\n",
              "                        <td id=\"T_7f686710_c76f_11ea_a888_0242ac1c0002row12_col4\" class=\"data row12 col4\" >0.18</td>\n",
              "                        <td id=\"T_7f686710_c76f_11ea_a888_0242ac1c0002row12_col5\" class=\"data row12 col5\" >-0.02</td>\n",
              "                        <td id=\"T_7f686710_c76f_11ea_a888_0242ac1c0002row12_col6\" class=\"data row12 col6\" >0.00</td>\n",
              "                        <td id=\"T_7f686710_c76f_11ea_a888_0242ac1c0002row12_col7\" class=\"data row12 col7\" >-0.01</td>\n",
              "                        <td id=\"T_7f686710_c76f_11ea_a888_0242ac1c0002row12_col8\" class=\"data row12 col8\" >-0.02</td>\n",
              "                        <td id=\"T_7f686710_c76f_11ea_a888_0242ac1c0002row12_col9\" class=\"data row12 col9\" >0.87</td>\n",
              "                        <td id=\"T_7f686710_c76f_11ea_a888_0242ac1c0002row12_col10\" class=\"data row12 col10\" >0.85</td>\n",
              "                        <td id=\"T_7f686710_c76f_11ea_a888_0242ac1c0002row12_col11\" class=\"data row12 col11\" >0.85</td>\n",
              "                        <td id=\"T_7f686710_c76f_11ea_a888_0242ac1c0002row12_col12\" class=\"data row12 col12\" >1.00</td>\n",
              "                        <td id=\"T_7f686710_c76f_11ea_a888_0242ac1c0002row12_col13\" class=\"data row12 col13\" >0.77</td>\n",
              "                        <td id=\"T_7f686710_c76f_11ea_a888_0242ac1c0002row12_col14\" class=\"data row12 col14\" >-0.02</td>\n",
              "            </tr>\n",
              "            <tr>\n",
              "                        <th id=\"T_7f686710_c76f_11ea_a888_0242ac1c0002level0_row13\" class=\"row_heading level0 row13\" >count_stopwords</th>\n",
              "                        <td id=\"T_7f686710_c76f_11ea_a888_0242ac1c0002row13_col0\" class=\"data row13 col0\" >-0.05</td>\n",
              "                        <td id=\"T_7f686710_c76f_11ea_a888_0242ac1c0002row13_col1\" class=\"data row13 col1\" >0.08</td>\n",
              "                        <td id=\"T_7f686710_c76f_11ea_a888_0242ac1c0002row13_col2\" class=\"data row13 col2\" >0.01</td>\n",
              "                        <td id=\"T_7f686710_c76f_11ea_a888_0242ac1c0002row13_col3\" class=\"data row13 col3\" >0.09</td>\n",
              "                        <td id=\"T_7f686710_c76f_11ea_a888_0242ac1c0002row13_col4\" class=\"data row13 col4\" >0.19</td>\n",
              "                        <td id=\"T_7f686710_c76f_11ea_a888_0242ac1c0002row13_col5\" class=\"data row13 col5\" >-0.01</td>\n",
              "                        <td id=\"T_7f686710_c76f_11ea_a888_0242ac1c0002row13_col6\" class=\"data row13 col6\" >-0.00</td>\n",
              "                        <td id=\"T_7f686710_c76f_11ea_a888_0242ac1c0002row13_col7\" class=\"data row13 col7\" >-0.00</td>\n",
              "                        <td id=\"T_7f686710_c76f_11ea_a888_0242ac1c0002row13_col8\" class=\"data row13 col8\" >-0.02</td>\n",
              "                        <td id=\"T_7f686710_c76f_11ea_a888_0242ac1c0002row13_col9\" class=\"data row13 col9\" >0.94</td>\n",
              "                        <td id=\"T_7f686710_c76f_11ea_a888_0242ac1c0002row13_col10\" class=\"data row13 col10\" >0.94</td>\n",
              "                        <td id=\"T_7f686710_c76f_11ea_a888_0242ac1c0002row13_col11\" class=\"data row13 col11\" >0.94</td>\n",
              "                        <td id=\"T_7f686710_c76f_11ea_a888_0242ac1c0002row13_col12\" class=\"data row13 col12\" >0.77</td>\n",
              "                        <td id=\"T_7f686710_c76f_11ea_a888_0242ac1c0002row13_col13\" class=\"data row13 col13\" >1.00</td>\n",
              "                        <td id=\"T_7f686710_c76f_11ea_a888_0242ac1c0002row13_col14\" class=\"data row13 col14\" >-0.01</td>\n",
              "            </tr>\n",
              "            <tr>\n",
              "                        <th id=\"T_7f686710_c76f_11ea_a888_0242ac1c0002level0_row14\" class=\"row_heading level0 row14\" >mean_word_len</th>\n",
              "                        <td id=\"T_7f686710_c76f_11ea_a888_0242ac1c0002row14_col0\" class=\"data row14 col0\" >0.00</td>\n",
              "                        <td id=\"T_7f686710_c76f_11ea_a888_0242ac1c0002row14_col1\" class=\"data row14 col1\" >-0.00</td>\n",
              "                        <td id=\"T_7f686710_c76f_11ea_a888_0242ac1c0002row14_col2\" class=\"data row14 col2\" >-0.01</td>\n",
              "                        <td id=\"T_7f686710_c76f_11ea_a888_0242ac1c0002row14_col3\" class=\"data row14 col3\" >-0.00</td>\n",
              "                        <td id=\"T_7f686710_c76f_11ea_a888_0242ac1c0002row14_col4\" class=\"data row14 col4\" >-0.00</td>\n",
              "                        <td id=\"T_7f686710_c76f_11ea_a888_0242ac1c0002row14_col5\" class=\"data row14 col5\" >0.00</td>\n",
              "                        <td id=\"T_7f686710_c76f_11ea_a888_0242ac1c0002row14_col6\" class=\"data row14 col6\" >-0.00</td>\n",
              "                        <td id=\"T_7f686710_c76f_11ea_a888_0242ac1c0002row14_col7\" class=\"data row14 col7\" >-0.00</td>\n",
              "                        <td id=\"T_7f686710_c76f_11ea_a888_0242ac1c0002row14_col8\" class=\"data row14 col8\" >-0.00</td>\n",
              "                        <td id=\"T_7f686710_c76f_11ea_a888_0242ac1c0002row14_col9\" class=\"data row14 col9\" >-0.01</td>\n",
              "                        <td id=\"T_7f686710_c76f_11ea_a888_0242ac1c0002row14_col10\" class=\"data row14 col10\" >-0.01</td>\n",
              "                        <td id=\"T_7f686710_c76f_11ea_a888_0242ac1c0002row14_col11\" class=\"data row14 col11\" >0.03</td>\n",
              "                        <td id=\"T_7f686710_c76f_11ea_a888_0242ac1c0002row14_col12\" class=\"data row14 col12\" >-0.02</td>\n",
              "                        <td id=\"T_7f686710_c76f_11ea_a888_0242ac1c0002row14_col13\" class=\"data row14 col13\" >-0.01</td>\n",
              "                        <td id=\"T_7f686710_c76f_11ea_a888_0242ac1c0002row14_col14\" class=\"data row14 col14\" >1.00</td>\n",
              "            </tr>\n",
              "    </tbody></table>"
            ],
            "text/plain": [
              "<pandas.io.formats.style.Styler at 0x7fbc5536cf60>"
            ]
          },
          "metadata": {
            "tags": []
          },
          "execution_count": 58
        }
      ]
    },
    {
      "cell_type": "code",
      "metadata": {
        "id": "1q0fyCU7UZ_A",
        "colab_type": "code",
        "colab": {}
      },
      "source": [
        "drugs = drugs.dropna(how = 'any', axis = 0)"
      ],
      "execution_count": 59,
      "outputs": []
    },
    {
      "cell_type": "code",
      "metadata": {
        "id": "C7EwRBynUFKG",
        "colab_type": "code",
        "colab": {
          "base_uri": "https://localhost:8080/",
          "height": 354
        },
        "outputId": "1936d536-d807-4d82-c70d-9ccd6ebbbc52"
      },
      "source": [
        "# Final check for any Nan Values in Pre-processed Dataset.\n",
        "drugs.isna().sum()"
      ],
      "execution_count": 60,
      "outputs": [
        {
          "output_type": "execute_result",
          "data": {
            "text/plain": [
              "condition             0\n",
              "drug                  0\n",
              "drugid                0\n",
              "easeofuse             0\n",
              "effectiveness         0\n",
              "reviews               0\n",
              "usefulcount           0\n",
              "satisfaction          0\n",
              "uniqueid              0\n",
              "reviews_clean         0\n",
              "sentiment_textblob    0\n",
              "Vader_score           0\n",
              "count_word            0\n",
              "count_unique_word     0\n",
              "count_letters         0\n",
              "count_punctuations    0\n",
              "count_stopwords       0\n",
              "mean_word_len         0\n",
              "dtype: int64"
            ]
          },
          "metadata": {
            "tags": []
          },
          "execution_count": 60
        }
      ]
    },
    {
      "cell_type": "code",
      "metadata": {
        "id": "5oXLnxKyGrh2",
        "colab_type": "code",
        "colab": {
          "base_uri": "https://localhost:8080/",
          "height": 354
        },
        "outputId": "8b641bfb-6955-4702-9985-3b3a0c33f330"
      },
      "source": [
        "drugs.dtypes"
      ],
      "execution_count": 61,
      "outputs": [
        {
          "output_type": "execute_result",
          "data": {
            "text/plain": [
              "condition               int64\n",
              "drug                   object\n",
              "drugid                float64\n",
              "easeofuse             float64\n",
              "effectiveness         float64\n",
              "reviews                object\n",
              "usefulcount           float64\n",
              "satisfaction          float64\n",
              "uniqueid                int64\n",
              "reviews_clean          object\n",
              "sentiment_textblob    float64\n",
              "Vader_score           float64\n",
              "count_word              int64\n",
              "count_unique_word       int64\n",
              "count_letters           int64\n",
              "count_punctuations      int64\n",
              "count_stopwords         int64\n",
              "mean_word_len         float64\n",
              "dtype: object"
            ]
          },
          "metadata": {
            "tags": []
          },
          "execution_count": 61
        }
      ]
    },
    {
      "cell_type": "code",
      "metadata": {
        "id": "VFELlO4NPhNq",
        "colab_type": "code",
        "colab": {
          "base_uri": "https://localhost:8080/",
          "height": 181
        },
        "outputId": "91325980-2779-49d4-cf4e-bb2d2dbb2c2a"
      },
      "source": [
        "drugs.head(1)"
      ],
      "execution_count": 62,
      "outputs": [
        {
          "output_type": "execute_result",
          "data": {
            "text/html": [
              "<div>\n",
              "<style scoped>\n",
              "    .dataframe tbody tr th:only-of-type {\n",
              "        vertical-align: middle;\n",
              "    }\n",
              "\n",
              "    .dataframe tbody tr th {\n",
              "        vertical-align: top;\n",
              "    }\n",
              "\n",
              "    .dataframe thead th {\n",
              "        text-align: right;\n",
              "    }\n",
              "</style>\n",
              "<table border=\"1\" class=\"dataframe\">\n",
              "  <thead>\n",
              "    <tr style=\"text-align: right;\">\n",
              "      <th></th>\n",
              "      <th>condition</th>\n",
              "      <th>drug</th>\n",
              "      <th>drugid</th>\n",
              "      <th>easeofuse</th>\n",
              "      <th>effectiveness</th>\n",
              "      <th>reviews</th>\n",
              "      <th>usefulcount</th>\n",
              "      <th>satisfaction</th>\n",
              "      <th>uniqueid</th>\n",
              "      <th>reviews_clean</th>\n",
              "      <th>sentiment_textblob</th>\n",
              "      <th>Vader_score</th>\n",
              "      <th>count_word</th>\n",
              "      <th>count_unique_word</th>\n",
              "      <th>count_letters</th>\n",
              "      <th>count_punctuations</th>\n",
              "      <th>count_stopwords</th>\n",
              "      <th>mean_word_len</th>\n",
              "    </tr>\n",
              "  </thead>\n",
              "  <tbody>\n",
              "    <tr>\n",
              "      <th>8343</th>\n",
              "      <td>135</td>\n",
              "      <td>mirena intrauterine device</td>\n",
              "      <td>20420.0</td>\n",
              "      <td>3.0</td>\n",
              "      <td>5.0</td>\n",
              "      <td>i had mirena for two months and had it removed...</td>\n",
              "      <td>5.0</td>\n",
              "      <td>1.0</td>\n",
              "      <td>0</td>\n",
              "      <td>mirena two month remov day ago week insert sta...</td>\n",
              "      <td>-0.088542</td>\n",
              "      <td>-0.7303</td>\n",
              "      <td>45</td>\n",
              "      <td>41</td>\n",
              "      <td>253</td>\n",
              "      <td>16</td>\n",
              "      <td>51</td>\n",
              "      <td>4.644444</td>\n",
              "    </tr>\n",
              "  </tbody>\n",
              "</table>\n",
              "</div>"
            ],
            "text/plain": [
              "      condition                        drug  ...  count_stopwords  mean_word_len\n",
              "8343        135  mirena intrauterine device  ...               51       4.644444\n",
              "\n",
              "[1 rows x 18 columns]"
            ]
          },
          "metadata": {
            "tags": []
          },
          "execution_count": 62
        }
      ]
    },
    {
      "cell_type": "markdown",
      "metadata": {
        "id": "7MHIYRuQ7PKD",
        "colab_type": "text"
      },
      "source": [
        "# Importing Libraries for the Machine Learning Model\n"
      ]
    },
    {
      "cell_type": "code",
      "metadata": {
        "trusted": true,
        "id": "MADHXiIa7PKE",
        "colab_type": "code",
        "colab": {}
      },
      "source": [
        "# Importing Libraries for the Machine Learning Model\n",
        "from sklearn.model_selection import KFold, cross_val_score\n",
        "from xgboost import XGBClassifier\n",
        "from sklearn.naive_bayes import GaussianNB\n",
        "from lightgbm import LGBMModel,LGBMClassifier, plot_importance\n",
        "from sklearn.linear_model import SGDClassifier\n",
        "from sklearn.neighbors import KNeighborsClassifier\n",
        "from xgboost import XGBClassifier\n",
        "import time\n",
        "from sklearn.metrics import confusion_matrix, accuracy_score, classification_report, precision_score\n",
        "from sklearn.model_selection import train_test_split, cross_val_predict\n",
        "\n",
        "from sklearn.metrics import roc_auc_score\n",
        "from sklearn.preprocessing import LabelBinarizer"
      ],
      "execution_count": 63,
      "outputs": []
    },
    {
      "cell_type": "code",
      "metadata": {
        "id": "eXKflaR1Dgnp",
        "colab_type": "code",
        "colab": {
          "base_uri": "https://localhost:8080/",
          "height": 123
        },
        "outputId": "1557bb15-e0fe-4ce0-d8bc-ce5c4af9b2a6"
      },
      "source": [
        "# Almost Equal number of instances for all classes in Target Column.\n",
        "drugs['satisfaction'].value_counts()"
      ],
      "execution_count": 64,
      "outputs": [
        {
          "output_type": "execute_result",
          "data": {
            "text/plain": [
              "5.0    8493\n",
              "1.0    8493\n",
              "2.0    8491\n",
              "4.0    8491\n",
              "3.0    8488\n",
              "Name: satisfaction, dtype: int64"
            ]
          },
          "metadata": {
            "tags": []
          },
          "execution_count": 64
        }
      ]
    },
    {
      "cell_type": "code",
      "metadata": {
        "trusted": true,
        "id": "ztlt9AC47PKH",
        "colab_type": "code",
        "colab": {
          "base_uri": "https://localhost:8080/",
          "height": 52
        },
        "outputId": "575bb42d-802d-4e78-fdd5-23acabc9946e"
      },
      "source": [
        "# Defining Features/target and splitting the data as train and test set with 30% split ratio.\n",
        "features = drugs[[ 'effectiveness', 'Vader_score', 'easeofuse', 'condition', 'count_letters',\n",
        "                   ]]\n",
        "\n",
        "target = drugs['satisfaction']\n",
        "\n",
        "X_train, X_test, y_train, y_test = train_test_split(features, target, test_size = 0.3, shuffle=True, random_state = 42)\n",
        "print (\"The Train set size \", X_train.shape)\n",
        "print (\"The Test set size \", X_test.shape)"
      ],
      "execution_count": 125,
      "outputs": [
        {
          "output_type": "stream",
          "text": [
            "The Train set size  (29719, 5)\n",
            "The Test set size  (12737, 5)\n"
          ],
          "name": "stdout"
        }
      ]
    },
    {
      "cell_type": "markdown",
      "metadata": {
        "id": "-A0U6r82nPPo",
        "colab_type": "text"
      },
      "source": [
        "#### Firstly we'll try and check which classifier performs the best with our training data, then we'll take that classifier and perform HyperParameter Optimisation on that model."
      ]
    },
    {
      "cell_type": "code",
      "metadata": {
        "id": "VcviE1dkGc25",
        "colab_type": "code",
        "colab": {
          "base_uri": "https://localhost:8080/",
          "height": 105
        },
        "outputId": "6e066cb5-ef9b-47b4-caf2-228198301b42"
      },
      "source": [
        "# Implementing Different Classifier(), step by step\n",
        "knn = KNeighborsClassifier()\n",
        "training_start = time.perf_counter()\n",
        "knn.fit(X_train, y_train)\n",
        "training_end = time.perf_counter()\n",
        "prediction_start = time.perf_counter()\n",
        "preds = knn.predict(X_test)\n",
        "prediction_end = time.perf_counter()\n",
        "acc_knn = (preds == y_test).sum().astype(float) / len(preds)*100\n",
        "knn_train_time = training_end-training_start\n",
        "knn_prediction_time = prediction_end-prediction_start\n",
        "precision_score_knn=precision_score(y_test, preds, average='micro')\n",
        "\n",
        "# We are using LabelBinarizer() coz, we need to compare results for multi-class problem, so with this function we Binarize class \n",
        "# output results and compare it with binarized target values, it helps us to check ROC for our problem.\n",
        "lb = LabelBinarizer()\n",
        "lb.fit(y_test)\n",
        "y_test1 = lb.transform(y_test)\n",
        "y_pred1= lb.transform(preds)\n",
        "roc_auc_score_knn=roc_auc_score(y_test1, y_pred1, average=\"macro\")\n",
        "print(\"Roc_auc_score for test data: %3.5f \" % (roc_auc_score_knn))\n",
        "print(\"Scikit-Learn's K Nearest Neighbors Classifier's prediction accuracy is: %3.2f\" % (acc_knn))\n",
        "print(\"Time consumed for training: %4.3f seconds\" % (knn_train_time))\n",
        "print(\"Time consumed for prediction: %6.5f seconds\" % (knn_prediction_time))\n",
        "print(\"Precision on test dataset:\", precision_score_knn)"
      ],
      "execution_count": 126,
      "outputs": [
        {
          "output_type": "stream",
          "text": [
            "Roc_auc_score for test data: 0.57235 \n",
            "Scikit-Learn's K Nearest Neighbors Classifier's prediction accuracy is: 31.55\n",
            "Time consumed for training: 0.038 seconds\n",
            "Time consumed for prediction: 0.41671 seconds\n",
            "Precision on test dataset: 0.31553741069325586\n"
          ],
          "name": "stdout"
        }
      ]
    },
    {
      "cell_type": "code",
      "metadata": {
        "id": "W19h8dlfESEv",
        "colab_type": "code",
        "colab": {
          "base_uri": "https://localhost:8080/",
          "height": 105
        },
        "outputId": "6106bcef-69c9-4952-c5da-465f62a3eb8b"
      },
      "source": [
        "from sklearn.ensemble import GradientBoostingClassifier\n",
        "gbk = GradientBoostingClassifier()\n",
        "gbk.fit(X_train, y_train)\n",
        "\n",
        "training_start = time.perf_counter()\n",
        "gbk.fit(X_train, y_train)\n",
        "training_end = time.perf_counter()\n",
        "prediction_start = time.perf_counter()\n",
        "preds = gbk.predict(X_test)\n",
        "prediction_end = time.perf_counter()\n",
        "acc_gbk = (preds == y_test).sum().astype(float) / len(preds)*100\n",
        "gbk_train_time = training_end-training_start\n",
        "gbk_prediction_time = prediction_end-prediction_start\n",
        "precision_score_gbk=precision_score(y_test, preds, average='micro')\n",
        "\n",
        "y_pred1= lb.transform(preds)\n",
        "roc_auc_score_gbk=roc_auc_score(y_test1, y_pred1, average=\"macro\")\n",
        "print(\"Roc_auc_score for test data: %3.5f \" % (roc_auc_score_gbk))\n",
        "print(\"Scikit-Learn's GBK Classifier's prediction accuracy is: %3.2f\" % (acc_gbk))\n",
        "print(\"Time consumed for training: %4.3f seconds\" % (gbk_train_time))\n",
        "print(\"Time consumed for prediction: %6.5f seconds\" % (gbk_prediction_time))\n",
        "print(\"Precision on test dataset:\", precision_score_gbk)"
      ],
      "execution_count": 127,
      "outputs": [
        {
          "output_type": "stream",
          "text": [
            "Roc_auc_score for test data: 0.74390 \n",
            "Scikit-Learn's GBK Classifier's prediction accuracy is: 59.10\n",
            "Time consumed for training: 18.368 seconds\n",
            "Time consumed for prediction: 0.11215 seconds\n",
            "Precision on test dataset: 0.5910339954463374\n"
          ],
          "name": "stdout"
        }
      ]
    },
    {
      "cell_type": "code",
      "metadata": {
        "id": "8KQRp_Mj2l3Q",
        "colab_type": "code",
        "colab": {
          "base_uri": "https://localhost:8080/",
          "height": 105
        },
        "outputId": "f4ec479f-13d1-4b88-e809-f7b13550ed4f"
      },
      "source": [
        "GNB= GaussianNB()\n",
        "training_start = time.perf_counter()\n",
        "GNB.fit(X_train, y_train)\n",
        "training_end = time.perf_counter()\n",
        "prediction_start = time.perf_counter()\n",
        "preds = GNB.predict(X_test)\n",
        "prediction_end = time.perf_counter()\n",
        "acc_gnb = (preds == y_test).sum().astype(float) / len(preds)*100\n",
        "gnb_train_time = training_end-training_start\n",
        "gnb_prediction_time = prediction_end-prediction_start\n",
        "precision_score_gnb=precision_score(y_test, preds, average='micro')\n",
        "y_pred1= lb.transform(preds)\n",
        "roc_auc_score_gnb=roc_auc_score(y_test1, y_pred1, average=\"macro\")\n",
        "print(\"Roc_auc_score for test data: %3.5f \" % (roc_auc_score_gnb))\n",
        "print(\"Naive Bayes Classifier's prediction accuracy is: %3.2f\" % (acc_gnb))\n",
        "print(\"Time consumed for training: %4.3f seconds\" % (gnb_train_time))\n",
        "print(\"Time consumed for prediction: %6.5f seconds\" % (gnb_prediction_time))\n",
        "print(\"Precision on test dataset:\", precision_score_gnb)"
      ],
      "execution_count": 128,
      "outputs": [
        {
          "output_type": "stream",
          "text": [
            "Roc_auc_score for test data: 0.72785 \n",
            "Naive Bayes Classifier's prediction accuracy is: 56.54\n",
            "Time consumed for training: 0.011 seconds\n",
            "Time consumed for prediction: 0.00406 seconds\n",
            "Precision on test dataset: 0.5653607599905787\n"
          ],
          "name": "stdout"
        }
      ]
    },
    {
      "cell_type": "code",
      "metadata": {
        "trusted": true,
        "id": "DOxSbmhO7PKK",
        "colab_type": "code",
        "colab": {
          "base_uri": "https://localhost:8080/",
          "height": 105
        },
        "outputId": "dd1f56ea-61dd-420d-db11-e5f0f2ff0d2b"
      },
      "source": [
        "LGBM = LGBMClassifier()\n",
        "training_start = time.perf_counter()\n",
        "LGBM.fit(X_train, y_train)\n",
        "training_end = time.perf_counter()\n",
        "prediction_start = time.perf_counter()\n",
        "preds = LGBM.predict(X_test)\n",
        "prediction_end = time.perf_counter()\n",
        "acc_LGBM = (preds == y_test).sum().astype(float) / len(preds)*100\n",
        "LGBM_train_time = training_end-training_start\n",
        "LGBM_prediction_time = prediction_end-prediction_start\n",
        "precision_score_lgbm=precision_score(y_test, preds, average='micro')\n",
        "\n",
        "y_pred1= lb.transform(preds)\n",
        "roc_auc_score_lgbm=roc_auc_score(y_test1, y_pred1, average=\"macro\")\n",
        "print(\"Roc_auc_score for test data: %3.5f \" % (roc_auc_score_lgbm))\n",
        "print(\"Scikit-Learn's LGBM Classifier's prediction accuracy is: %3.2f\" % (acc_LGBM))\n",
        "print(\"Time consumed for training: %4.3f seconds\" % (LGBM_train_time))\n",
        "print(\"Time consumed for prediction: %6.5f seconds\" % (LGBM_prediction_time))\n",
        "print(\"Precision on test dataset:\", precision_score_lgbm)\n"
      ],
      "execution_count": 129,
      "outputs": [
        {
          "output_type": "stream",
          "text": [
            "Roc_auc_score for test data: 0.74327 \n",
            "Scikit-Learn's LGBM Classifier's prediction accuracy is: 59.00\n",
            "Time consumed for training: 1.039 seconds\n",
            "Time consumed for prediction: 0.11698 seconds\n",
            "Precision on test dataset: 0.59001334694198\n"
          ],
          "name": "stdout"
        }
      ]
    },
    {
      "cell_type": "code",
      "metadata": {
        "id": "MUOfB2EACOCe",
        "colab_type": "code",
        "colab": {
          "base_uri": "https://localhost:8080/",
          "height": 577
        },
        "outputId": "fa0c5fad-7ebc-41ba-e4a7-5f6c9ab66679"
      },
      "source": [
        "# Feature Importance Plot using LGBM\n",
        "plt.rcParams['figure.figsize'] = [12, 9]\n",
        "sns.set(style = 'whitegrid', font_scale = 1.2)\n",
        "plot_importance(LGBM);"
      ],
      "execution_count": 130,
      "outputs": [
        {
          "output_type": "display_data",
          "data": {
            "image/png": "[encoded data removed]",
            "text/plain": [
              "<Figure size 864x648 with 1 Axes>"
            ]
          },
          "metadata": {
            "tags": []
          }
        }
      ]
    },
    {
      "cell_type": "code",
      "metadata": {
        "id": "zBnE0C03HDbf",
        "colab_type": "code",
        "colab": {
          "base_uri": "https://localhost:8080/",
          "height": 247
        },
        "outputId": "2107a3af-90c7-4fd2-8bf1-2891194ae790"
      },
      "source": [
        "from sklearn.linear_model import LogisticRegression\n",
        "\n",
        "LR = LogisticRegression()\n",
        "training_start = time.perf_counter()\n",
        "LR.fit(X_train, y_train)\n",
        "training_end = time.perf_counter()\n",
        "prediction_start = time.perf_counter()\n",
        "preds = LR.predict(X_test)\n",
        "prediction_end = time.perf_counter()\n",
        "acc_LR = (preds == y_test).sum().astype(float) / len(preds)*100\n",
        "LR_train_time = training_end-training_start\n",
        "LR_prediction_time = prediction_end-prediction_start\n",
        "precision_score_LR=precision_score(y_test, preds, average='micro')\n",
        "\n",
        "y_pred1= lb.transform(preds)\n",
        "roc_auc_score_LR=roc_auc_score(y_test1, y_pred1, average=\"macro\")\n",
        "print(\"Roc_auc_score for test data: %3.5f \" % (roc_auc_score_LR))\n",
        "print(\"Scikit-Learn's LR Classifier's prediction accuracy is: %3.2f\" % (acc_LR))\n",
        "print(\"Time consumed for training: %4.3f seconds\" % (LR_train_time))\n",
        "print(\"Time consumed for prediction: %6.5f seconds\" % (LR_prediction_time))\n",
        "print(\"Precision on test dataset:\", precision_score_LR)\n"
      ],
      "execution_count": 131,
      "outputs": [
        {
          "output_type": "stream",
          "text": [
            "Roc_auc_score for test data: 0.62548 \n",
            "Scikit-Learn's LR Classifier's prediction accuracy is: 40.05\n",
            "Time consumed for training: 2.210 seconds\n",
            "Time consumed for prediction: 0.00264 seconds\n",
            "Precision on test dataset: 0.40048677082515505\n"
          ],
          "name": "stdout"
        },
        {
          "output_type": "stream",
          "text": [
            "/usr/local/lib/python3.6/dist-packages/sklearn/linear_model/_logistic.py:940: ConvergenceWarning: lbfgs failed to converge (status=1):\n",
            "STOP: TOTAL NO. of ITERATIONS REACHED LIMIT.\n",
            "\n",
            "Increase the number of iterations (max_iter) or scale the data as shown in:\n",
            "    https://scikit-learn.org/stable/modules/preprocessing.html\n",
            "Please also refer to the documentation for alternative solver options:\n",
            "    https://scikit-learn.org/stable/modules/linear_model.html#logistic-regression\n",
            "  extra_warning_msg=_LOGISTIC_SOLVER_CONVERGENCE_MSG)\n"
          ],
          "name": "stderr"
        }
      ]
    },
    {
      "cell_type": "code",
      "metadata": {
        "id": "oM4vEaDiCAq-",
        "colab_type": "code",
        "colab": {
          "base_uri": "https://localhost:8080/",
          "height": 105
        },
        "outputId": "a6483ee7-c7a5-4161-aacc-e050de7e92b4"
      },
      "source": [
        "from sklearn.ensemble import RandomForestClassifier\n",
        "import time\n",
        "\n",
        "rfc = RandomForestClassifier(n_estimators=10)\n",
        "training_start = time.perf_counter()\n",
        "rfc.fit(X_train, y_train)\n",
        "training_end = time.perf_counter()\n",
        "prediction_start = time.perf_counter()\n",
        "preds = rfc.predict(X_test)\n",
        "prediction_end = time.perf_counter()\n",
        "acc_rfc = (preds == y_test).sum().astype(float) / len(preds)*100\n",
        "rfc_train_time = training_end-training_start\n",
        "rfc_prediction_time = prediction_end-prediction_start\n",
        "precision_score_rfc=precision_score(y_test, preds, average='micro')\n",
        "\n",
        "y_pred1= lb.transform(preds)\n",
        "roc_auc_score_rfc=roc_auc_score(y_test1, y_pred1, average=\"macro\")\n",
        "print(\"Roc_auc_score for test data: %3.5f \" % (roc_auc_score_rfc))\n",
        "print(\"Scikit-Learn's Random Forest Classifier's prediction accuracy is: %3.2f\" % (acc_rfc))\n",
        "print(\"Time consumed for training: %4.3f seconds\" % (rfc_train_time))\n",
        "print(\"Time consumed for prediction: %6.5f seconds\" % (rfc_prediction_time))\n",
        "print(\"Precision on test dataset:\", precision_score_rfc)"
      ],
      "execution_count": 132,
      "outputs": [
        {
          "output_type": "stream",
          "text": [
            "Roc_auc_score for test data: 0.70154 \n",
            "Scikit-Learn's Random Forest Classifier's prediction accuracy is: 52.27\n",
            "Time consumed for training: 0.507 seconds\n",
            "Time consumed for prediction: 0.04322 seconds\n",
            "Precision on test dataset: 0.5226505456543927\n"
          ],
          "name": "stdout"
        }
      ]
    },
    {
      "cell_type": "code",
      "metadata": {
        "id": "lQfT18hbHX4a",
        "colab_type": "code",
        "colab": {
          "base_uri": "https://localhost:8080/",
          "height": 257
        },
        "outputId": "d0494046-36e0-4e06-df4a-825dcbce8084"
      },
      "source": [
        "#After running all classifier models individually, we compare them all together for best performance\n",
        "results = pd.DataFrame({\n",
        "    'Model': ['KNN', 'GNB', 'LGBM', 'gbk', 'LR', 'Random Forest'],\n",
        "    'Roc_auc_score': [roc_auc_score_knn, roc_auc_score_gnb, roc_auc_score_lgbm, roc_auc_score_gbk, roc_auc_score_LR, roc_auc_score_rfc],\n",
        "    'Accuracy': [acc_knn, acc_gnb, acc_LGBM, acc_gbk, acc_LR, acc_rfc],\n",
        "    'Precision': [precision_score_knn, precision_score_gnb, precision_score_lgbm, precision_score_gbk, precision_score_LR, precision_score_rfc],\n",
        "    'Runtime Training': [knn_train_time, gnb_train_time, LGBM_train_time, gbk_train_time, \n",
        "                         LR_train_time, rfc_train_time],\n",
        "    'Runtime Prediction': [knn_prediction_time, gnb_prediction_time, LGBM_prediction_time, gbk_prediction_time,\n",
        "                          LR_prediction_time, rfc_prediction_time]})\n",
        "result_df = results.sort_values(by='Roc_auc_score', ascending=False)\n",
        "result_df = result_df.set_index('Model')\n",
        "result_df"
      ],
      "execution_count": 133,
      "outputs": [
        {
          "output_type": "execute_result",
          "data": {
            "text/html": [
              "<div>\n",
              "<style scoped>\n",
              "    .dataframe tbody tr th:only-of-type {\n",
              "        vertical-align: middle;\n",
              "    }\n",
              "\n",
              "    .dataframe tbody tr th {\n",
              "        vertical-align: top;\n",
              "    }\n",
              "\n",
              "    .dataframe thead th {\n",
              "        text-align: right;\n",
              "    }\n",
              "</style>\n",
              "<table border=\"1\" class=\"dataframe\">\n",
              "  <thead>\n",
              "    <tr style=\"text-align: right;\">\n",
              "      <th></th>\n",
              "      <th>Roc_auc_score</th>\n",
              "      <th>Accuracy</th>\n",
              "      <th>Precision</th>\n",
              "      <th>Runtime Training</th>\n",
              "      <th>Runtime Prediction</th>\n",
              "    </tr>\n",
              "    <tr>\n",
              "      <th>Model</th>\n",
              "      <th></th>\n",
              "      <th></th>\n",
              "      <th></th>\n",
              "      <th></th>\n",
              "      <th></th>\n",
              "    </tr>\n",
              "  </thead>\n",
              "  <tbody>\n",
              "    <tr>\n",
              "      <th>gbk</th>\n",
              "      <td>0.743897</td>\n",
              "      <td>59.103400</td>\n",
              "      <td>0.591034</td>\n",
              "      <td>18.367621</td>\n",
              "      <td>0.112146</td>\n",
              "    </tr>\n",
              "    <tr>\n",
              "      <th>LGBM</th>\n",
              "      <td>0.743267</td>\n",
              "      <td>59.001335</td>\n",
              "      <td>0.590013</td>\n",
              "      <td>1.038687</td>\n",
              "      <td>0.116984</td>\n",
              "    </tr>\n",
              "    <tr>\n",
              "      <th>GNB</th>\n",
              "      <td>0.727854</td>\n",
              "      <td>56.536076</td>\n",
              "      <td>0.565361</td>\n",
              "      <td>0.010681</td>\n",
              "      <td>0.004064</td>\n",
              "    </tr>\n",
              "    <tr>\n",
              "      <th>Random Forest</th>\n",
              "      <td>0.701545</td>\n",
              "      <td>52.265055</td>\n",
              "      <td>0.522651</td>\n",
              "      <td>0.507463</td>\n",
              "      <td>0.043218</td>\n",
              "    </tr>\n",
              "    <tr>\n",
              "      <th>LR</th>\n",
              "      <td>0.625478</td>\n",
              "      <td>40.048677</td>\n",
              "      <td>0.400487</td>\n",
              "      <td>2.209639</td>\n",
              "      <td>0.002642</td>\n",
              "    </tr>\n",
              "    <tr>\n",
              "      <th>KNN</th>\n",
              "      <td>0.572349</td>\n",
              "      <td>31.553741</td>\n",
              "      <td>0.315537</td>\n",
              "      <td>0.038190</td>\n",
              "      <td>0.416708</td>\n",
              "    </tr>\n",
              "  </tbody>\n",
              "</table>\n",
              "</div>"
            ],
            "text/plain": [
              "               Roc_auc_score   Accuracy  ...  Runtime Training  Runtime Prediction\n",
              "Model                                    ...                                      \n",
              "gbk                 0.743897  59.103400  ...         18.367621            0.112146\n",
              "LGBM                0.743267  59.001335  ...          1.038687            0.116984\n",
              "GNB                 0.727854  56.536076  ...          0.010681            0.004064\n",
              "Random Forest       0.701545  52.265055  ...          0.507463            0.043218\n",
              "LR                  0.625478  40.048677  ...          2.209639            0.002642\n",
              "KNN                 0.572349  31.553741  ...          0.038190            0.416708\n",
              "\n",
              "[6 rows x 5 columns]"
            ]
          },
          "metadata": {
            "tags": []
          },
          "execution_count": 133
        }
      ]
    },
    {
      "cell_type": "code",
      "metadata": {
        "id": "kxZBCX53FFAr",
        "colab_type": "code",
        "colab": {
          "base_uri": "https://localhost:8080/",
          "height": 54
        },
        "outputId": "18c55635-496b-4bd0-b553-35f0cbf43ac9"
      },
      "source": [
        "from sklearn.model_selection import cross_validate\n",
        "gbk_cv = GradientBoostingClassifier(n_estimators=10)\n",
        "scoring = {'acc': 'accuracy',\n",
        "           'prec_macro': 'precision_macro',\n",
        "           'rec_micro': 'recall_macro'}\n",
        "scores = cross_validate(gbk_cv, X_train, y_train, cv=3, scoring = scoring)\n",
        "print(\"Scores:\", scores)\n",
        "#print(\"Mean:\", scores.mean())\n",
        "#print(\"Standard Deviation:\", scores.std())"
      ],
      "execution_count": 134,
      "outputs": [
        {
          "output_type": "stream",
          "text": [
            "Scores: {'fit_time': array([1.23962116, 1.2320168 , 1.22431111]), 'score_time': array([0.03024101, 0.0301733 , 0.02980185]), 'test_acc': array([0.58070051, 0.56955381, 0.57712497]), 'test_prec_macro': array([0.59762016, 0.5921669 , 0.58790068]), 'test_rec_micro': array([0.58120578, 0.57004265, 0.57755176])}\n"
          ],
          "name": "stdout"
        }
      ]
    },
    {
      "cell_type": "code",
      "metadata": {
        "id": "wDOBGC4UHk-D",
        "colab_type": "code",
        "colab": {
          "base_uri": "https://localhost:8080/",
          "height": 227
        },
        "outputId": "86f21047-251b-4a65-a424-fe20c5194073"
      },
      "source": [
        "importances = pd.DataFrame({\n",
        "    #'Feature': dTreated.drop('Satisfaction', axis=1).columns,\n",
        "    'Feature': features.columns,\n",
        "    'Importance': gbk.feature_importances_\n",
        "})\n",
        "importances = importances.sort_values(by='Importance', ascending=True)\n",
        "importances = importances.set_index('Feature')\n",
        "importances"
      ],
      "execution_count": 135,
      "outputs": [
        {
          "output_type": "execute_result",
          "data": {
            "text/html": [
              "<div>\n",
              "<style scoped>\n",
              "    .dataframe tbody tr th:only-of-type {\n",
              "        vertical-align: middle;\n",
              "    }\n",
              "\n",
              "    .dataframe tbody tr th {\n",
              "        vertical-align: top;\n",
              "    }\n",
              "\n",
              "    .dataframe thead th {\n",
              "        text-align: right;\n",
              "    }\n",
              "</style>\n",
              "<table border=\"1\" class=\"dataframe\">\n",
              "  <thead>\n",
              "    <tr style=\"text-align: right;\">\n",
              "      <th></th>\n",
              "      <th>Importance</th>\n",
              "    </tr>\n",
              "    <tr>\n",
              "      <th>Feature</th>\n",
              "      <th></th>\n",
              "    </tr>\n",
              "  </thead>\n",
              "  <tbody>\n",
              "    <tr>\n",
              "      <th>count_letters</th>\n",
              "      <td>0.022220</td>\n",
              "    </tr>\n",
              "    <tr>\n",
              "      <th>condition</th>\n",
              "      <td>0.037738</td>\n",
              "    </tr>\n",
              "    <tr>\n",
              "      <th>Vader_score</th>\n",
              "      <td>0.048949</td>\n",
              "    </tr>\n",
              "    <tr>\n",
              "      <th>easeofuse</th>\n",
              "      <td>0.088551</td>\n",
              "    </tr>\n",
              "    <tr>\n",
              "      <th>effectiveness</th>\n",
              "      <td>0.802542</td>\n",
              "    </tr>\n",
              "  </tbody>\n",
              "</table>\n",
              "</div>"
            ],
            "text/plain": [
              "               Importance\n",
              "Feature                  \n",
              "count_letters    0.022220\n",
              "condition        0.037738\n",
              "Vader_score      0.048949\n",
              "easeofuse        0.088551\n",
              "effectiveness    0.802542"
            ]
          },
          "metadata": {
            "tags": []
          },
          "execution_count": 135
        }
      ]
    },
    {
      "cell_type": "code",
      "metadata": {
        "id": "sp6Bxto5Hmu5",
        "colab_type": "code",
        "colab": {
          "base_uri": "https://localhost:8080/",
          "height": 654
        },
        "outputId": "3dc10df9-fbd9-4619-f710-248c218537d3"
      },
      "source": [
        "importances.plot.bar()"
      ],
      "execution_count": 136,
      "outputs": [
        {
          "output_type": "execute_result",
          "data": {
            "text/plain": [
              "<matplotlib.axes._subplots.AxesSubplot at 0x7fbc549959e8>"
            ]
          },
          "metadata": {
            "tags": []
          },
          "execution_count": 136
        },
        {
          "output_type": "display_data",
          "data": {
            "image/png": "[encoded data removed]",
            "text/plain": [
              "<Figure size 864x648 with 1 Axes>"
            ]
          },
          "metadata": {
            "tags": []
          }
        }
      ]
    },
    {
      "cell_type": "markdown",
      "metadata": {
        "id": "1hf14QBnSJDS",
        "colab_type": "text"
      },
      "source": [
        "# Hyperparameter Tuning"
      ]
    },
    {
      "cell_type": "code",
      "metadata": {
        "id": "4wwUyzQQSAz1",
        "colab_type": "code",
        "colab": {
          "base_uri": "https://localhost:8080/",
          "height": 443
        },
        "outputId": "d99a5979-25bc-4bc5-cd51-29a6875cc7b0"
      },
      "source": [
        "from pprint import pprint\n",
        "# Look at parameters used by our best classifier\n",
        "print('Parameters currently in use:\\n')\n",
        "pprint(gbk.get_params())"
      ],
      "execution_count": 137,
      "outputs": [
        {
          "output_type": "stream",
          "text": [
            "Parameters currently in use:\n",
            "\n",
            "{'ccp_alpha': 0.0,\n",
            " 'criterion': 'friedman_mse',\n",
            " 'init': None,\n",
            " 'learning_rate': 0.1,\n",
            " 'loss': 'deviance',\n",
            " 'max_depth': 3,\n",
            " 'max_features': None,\n",
            " 'max_leaf_nodes': None,\n",
            " 'min_impurity_decrease': 0.0,\n",
            " 'min_impurity_split': None,\n",
            " 'min_samples_leaf': 1,\n",
            " 'min_samples_split': 2,\n",
            " 'min_weight_fraction_leaf': 0.0,\n",
            " 'n_estimators': 100,\n",
            " 'n_iter_no_change': None,\n",
            " 'presort': 'deprecated',\n",
            " 'random_state': None,\n",
            " 'subsample': 1.0,\n",
            " 'tol': 0.0001,\n",
            " 'validation_fraction': 0.1,\n",
            " 'verbose': 0,\n",
            " 'warm_start': False}\n"
          ],
          "name": "stdout"
        }
      ]
    },
    {
      "cell_type": "code",
      "metadata": {
        "id": "Ec2UzuTuSAnT",
        "colab_type": "code",
        "colab": {
          "base_uri": "https://localhost:8080/",
          "height": 105
        },
        "outputId": "63fa0798-3b73-432b-b2f7-bae7a8dcf885"
      },
      "source": [
        "from sklearn.model_selection import RandomizedSearchCV\n",
        "# Number of trees in GradientBoostingClassifier()\n",
        "n_estimators = [int(x) for x in np.linspace(start = 100, stop = 500, num = 5)]\n",
        "# Number of features to consider at every split\n",
        "# Maximum number of levels in tree\n",
        "max_depth = [int(x) for x in np.linspace(1, 19, num = 10)]\n",
        "max_depth.append(None)\n",
        "# Minimum number of samples required to split a node\n",
        "min_samples_split = [2, 5, 10]\n",
        "# Minimum number of samples required at each leaf node\n",
        "min_samples_leaf = [1, 2, 4]\n",
        "# Method of selecting samples for training each tree\n",
        "learning_rate = [0.001, 0.07, 0.1, 0.2]\n",
        "# Create the random grid\n",
        "random_grid = {'n_estimators': n_estimators,\n",
        "               \n",
        "               'max_depth': max_depth,\n",
        "               'min_samples_split': min_samples_split,\n",
        "               'min_samples_leaf': min_samples_leaf,\n",
        "               'learning_rate': learning_rate}\n",
        "pprint(random_grid)"
      ],
      "execution_count": 138,
      "outputs": [
        {
          "output_type": "stream",
          "text": [
            "{'learning_rate': [0.001, 0.07, 0.1, 0.2],\n",
            " 'max_depth': [1, 3, 5, 7, 9, 11, 13, 15, 17, 19, None],\n",
            " 'min_samples_leaf': [1, 2, 4],\n",
            " 'min_samples_split': [2, 5, 10],\n",
            " 'n_estimators': [100, 200, 300, 400, 500]}\n"
          ],
          "name": "stdout"
        }
      ]
    },
    {
      "cell_type": "code",
      "metadata": {
        "id": "Xk0NBv0lScLE",
        "colab_type": "code",
        "colab": {
          "base_uri": "https://localhost:8080/",
          "height": 603
        },
        "outputId": "b9d3c822-cd89-40ec-d0e2-bd96ee69f698"
      },
      "source": [
        "# Use the random grid to search for best hyperparameters\n",
        "\n",
        "# Random search of parameters, using 3 fold cross validation, \n",
        "# search across 10 different combinations, and use all available cores\n",
        "gbk_random = RandomizedSearchCV(estimator = gbk, param_distributions = random_grid, n_iter = 3, cv = 3, verbose=2, random_state=42, n_jobs = -1)\n",
        "# Fit the random search model\n",
        "gbk_random.fit(X_train, y_train)"
      ],
      "execution_count": 139,
      "outputs": [
        {
          "output_type": "stream",
          "text": [
            "Fitting 3 folds for each of 3 candidates, totalling 9 fits\n"
          ],
          "name": "stdout"
        },
        {
          "output_type": "stream",
          "text": [
            "[Parallel(n_jobs=-1)]: Using backend LokyBackend with 4 concurrent workers.\n",
            "[Parallel(n_jobs=-1)]: Done   7 out of   9 | elapsed: 10.2min remaining:  2.9min\n",
            "[Parallel(n_jobs=-1)]: Done   9 out of   9 | elapsed: 12.2min finished\n"
          ],
          "name": "stderr"
        },
        {
          "output_type": "execute_result",
          "data": {
            "text/plain": [
              "RandomizedSearchCV(cv=3, error_score=nan,\n",
              "                   estimator=GradientBoostingClassifier(ccp_alpha=0.0,\n",
              "                                                        criterion='friedman_mse',\n",
              "                                                        init=None,\n",
              "                                                        learning_rate=0.1,\n",
              "                                                        loss='deviance',\n",
              "                                                        max_depth=3,\n",
              "                                                        max_features=None,\n",
              "                                                        max_leaf_nodes=None,\n",
              "                                                        min_impurity_decrease=0.0,\n",
              "                                                        min_impurity_split=None,\n",
              "                                                        min_samples_leaf=1,\n",
              "                                                        min_samples_split=2,\n",
              "                                                        min_weight_fraction_leaf=0.0,\n",
              "                                                        n_estimators=100,\n",
              "                                                        n_ite...\n",
              "                                                        verbose=0,\n",
              "                                                        warm_start=False),\n",
              "                   iid='deprecated', n_iter=3, n_jobs=-1,\n",
              "                   param_distributions={'learning_rate': [0.001, 0.07, 0.1,\n",
              "                                                          0.2],\n",
              "                                        'max_depth': [1, 3, 5, 7, 9, 11, 13, 15,\n",
              "                                                      17, 19, None],\n",
              "                                        'min_samples_leaf': [1, 2, 4],\n",
              "                                        'min_samples_split': [2, 5, 10],\n",
              "                                        'n_estimators': [100, 200, 300, 400,\n",
              "                                                         500]},\n",
              "                   pre_dispatch='2*n_jobs', random_state=42, refit=True,\n",
              "                   return_train_score=False, scoring=None, verbose=2)"
            ]
          },
          "metadata": {
            "tags": []
          },
          "execution_count": 139
        }
      ]
    },
    {
      "cell_type": "code",
      "metadata": {
        "id": "9T-JGgqLScAY",
        "colab_type": "code",
        "colab": {
          "base_uri": "https://localhost:8080/",
          "height": 123
        },
        "outputId": "88400b9d-acef-49f5-ba29-04848f0675dd"
      },
      "source": [
        "# Best parameter values, with best score of accuracy using Hyperparameter tuning\n",
        "gbk_random.best_params_,gbk_random.best_score_"
      ],
      "execution_count": 140,
      "outputs": [
        {
          "output_type": "execute_result",
          "data": {
            "text/plain": [
              "({'learning_rate': 0.1,\n",
              "  'max_depth': 7,\n",
              "  'min_samples_leaf': 1,\n",
              "  'min_samples_split': 2,\n",
              "  'n_estimators': 200},\n",
              " 0.5626366802215582)"
            ]
          },
          "metadata": {
            "tags": []
          },
          "execution_count": 140
        }
      ]
    },
    {
      "cell_type": "code",
      "metadata": {
        "id": "mP6HTwrgSb3k",
        "colab_type": "code",
        "colab": {
          "base_uri": "https://localhost:8080/",
          "height": 52
        },
        "outputId": "32dd2c35-6d3a-415b-e08d-df92cf7ce435"
      },
      "source": [
        "#implementing hyperopt tuning with set parameter values\n",
        "GBoost = GradientBoostingClassifier(max_depth=3, min_samples_leaf=1, min_samples_split=2, n_estimators=400, learning_rate=0.07)\n",
        "#max_depth=3, min_samples_leaf=1, min_samples_split=2, n_estimators=400, learning_rate=0.07\n",
        "\n",
        "GBoost.fit(X_train, y_train)\n",
        "preds = GBoost.predict(X_test)\n",
        "\n",
        "accuracy = (preds == y_test).sum().astype(float) / len(preds)*100\n",
        "\n",
        "y_pred1= lb.transform(preds)\n",
        "roc_auc_score_gbk=roc_auc_score(y_test1, y_pred1, average=\"macro\")\n",
        "print(\"Roc_auc_score for test data: %3.5f \" % (roc_auc_score_gbk))\n",
        "\n",
        "print(\"Gradient Boost's prediction accuracy WITH optimal hyperparameters is: %3.2f\" % (accuracy))"
      ],
      "execution_count": 141,
      "outputs": [
        {
          "output_type": "stream",
          "text": [
            "Roc_auc_score for test data: 0.74359 \n",
            "Gradient Boost's prediction accuracy WITH optimal hyperparameters is: 59.05\n"
          ],
          "name": "stdout"
        }
      ]
    },
    {
      "cell_type": "code",
      "metadata": {
        "id": "3hUXuyqgSbu6",
        "colab_type": "code",
        "colab": {
          "base_uri": "https://localhost:8080/",
          "height": 54
        },
        "outputId": "ad1a4f71-2699-4a08-d0b0-5720106717f3"
      },
      "source": [
        "scores = cross_validate(GBoost, X_train, y_train, cv=3, scoring = scoring)\n",
        "print(\"Scores:\", scores)"
      ],
      "execution_count": 142,
      "outputs": [
        {
          "output_type": "stream",
          "text": [
            "Scores: {'fit_time': array([49.08741474, 49.27542591, 48.90617943]), 'score_time': array([0.28126669, 0.27486038, 0.27638006]), 'test_acc': array([0.58726153, 0.57773067, 0.5839895 ]), 'test_prec_macro': array([0.58954807, 0.58039934, 0.58619528]), 'test_rec_micro': array([0.58759672, 0.57805878, 0.58429807])}\n"
          ],
          "name": "stdout"
        }
      ]
    },
    {
      "cell_type": "code",
      "metadata": {
        "id": "DOHjU4Qp38f7",
        "colab_type": "code",
        "colab": {
          "base_uri": "https://localhost:8080/",
          "height": 105
        },
        "outputId": "8897e8d9-9599-4207-82bc-d9ebd957f78c"
      },
      "source": [
        "confusion_matrix(preds, y_test)"
      ],
      "execution_count": 143,
      "outputs": [
        {
          "output_type": "execute_result",
          "data": {
            "text/plain": [
              "array([[1701,  274,   74,   15,   18],\n",
              "       [ 432, 1041,  453,  127,   29],\n",
              "       [ 176,  671, 1025,  252,   49],\n",
              "       [ 129,  367,  661, 1648,  366],\n",
              "       [  81,  174,  319,  549, 2106]])"
            ]
          },
          "metadata": {
            "tags": []
          },
          "execution_count": 143
        }
      ]
    },
    {
      "cell_type": "code",
      "metadata": {
        "id": "8opz7nYG5d-l",
        "colab_type": "code",
        "colab": {
          "base_uri": "https://localhost:8080/",
          "height": 70
        },
        "outputId": "04c91a36-16eb-4924-f7b0-479f6cf516a5"
      },
      "source": [
        "from sklearn.metrics import recall_score, f1_score\n",
        "print(\"Precision on test dataset:\", precision_score(y_test, preds, average='micro'))\n",
        "print(\"Recall on test dataset:\",recall_score(y_test, preds, average='micro'))\n",
        "print(\"F1-Score on test dataset:\", f1_score(y_test, preds, average='micro'))"
      ],
      "execution_count": 144,
      "outputs": [
        {
          "output_type": "stream",
          "text": [
            "Precision on test dataset: 0.5904844154824527\n",
            "Recall on test dataset: 0.5904844154824527\n",
            "F1-Score on test dataset: 0.5904844154824527\n"
          ],
          "name": "stdout"
        }
      ]
    },
    {
      "cell_type": "code",
      "metadata": {
        "id": "hf4-jOLr5vq3",
        "colab_type": "code",
        "colab": {
          "base_uri": "https://localhost:8080/",
          "height": 283
        },
        "outputId": "ad41f73c-5d99-4594-a7a0-1afe118fc9fd"
      },
      "source": [
        "# Classification report\n",
        "import sklearn.metrics as metrics\n",
        "print('\\t\\t\\t\\tCLASSIFICATIION METRICS \\n \\t\\t\\tfor test dataset\\n')\n",
        "print(metrics.classification_report(y_test, preds))"
      ],
      "execution_count": 145,
      "outputs": [
        {
          "output_type": "stream",
          "text": [
            "\t\t\t\tCLASSIFICATIION METRICS \n",
            " \t\t\tfor test dataset\n",
            "\n",
            "              precision    recall  f1-score   support\n",
            "\n",
            "         1.0       0.82      0.68      0.74      2519\n",
            "         2.0       0.50      0.41      0.45      2527\n",
            "         3.0       0.47      0.40      0.44      2532\n",
            "         4.0       0.52      0.64      0.57      2591\n",
            "         5.0       0.65      0.82      0.73      2568\n",
            "\n",
            "    accuracy                           0.59     12737\n",
            "   macro avg       0.59      0.59      0.59     12737\n",
            "weighted avg       0.59      0.59      0.59     12737\n",
            "\n"
          ],
          "name": "stdout"
        }
      ]
    },
    {
      "cell_type": "code",
      "metadata": {
        "id": "WxDbFuqKJArH",
        "colab_type": "code",
        "colab": {
          "base_uri": "https://localhost:8080/",
          "height": 34
        },
        "outputId": "2831a3db-39be-438a-c8cc-af61d4b3f873"
      },
      "source": [
        "y_pred1= lb.transform(preds)\n",
        "# roc_auc_score for test data\n",
        "roc_auc_score(y_test1, y_pred1, average=\"macro\")"
      ],
      "execution_count": 146,
      "outputs": [
        {
          "output_type": "execute_result",
          "data": {
            "text/plain": [
              "0.7435896566960608"
            ]
          },
          "metadata": {
            "tags": []
          },
          "execution_count": 146
        }
      ]
    },
    {
      "cell_type": "markdown",
      "metadata": {
        "id": "XjndVkydMxe7",
        "colab_type": "text"
      },
      "source": [
        "## ROC plot\n",
        "As it is a multi class problem, we'll plot curves for individual classes, and then also check micro/macro weighted averages for all classes"
      ]
    },
    {
      "cell_type": "code",
      "metadata": {
        "id": "OncL2coYJGdv",
        "colab_type": "code",
        "colab": {}
      },
      "source": [
        "from itertools import cycle\n",
        "from sklearn.metrics import roc_curve, auc\n",
        "from sklearn.preprocessing import label_binarize\n",
        "from scipy import interp\n",
        "\n",
        "statis=target\n",
        "y = label_binarize(statis, classes=[0, 1, 2, 3, 4])\n",
        "n_classes = y.shape[1]\n",
        "\n",
        "# Compute ROC curve and ROC area for each class\n",
        "fpr = dict()\n",
        "tpr = dict()\n",
        "roc_auc = dict()\n",
        "for i in range(n_classes):\n",
        "    fpr[i], tpr[i], _ = roc_curve(y_test1[:, i], y_pred1[:, i])\n",
        "    roc_auc[i] = auc(fpr[i], tpr[i])\n",
        "\n",
        "# Compute micro-average ROC curve and ROC area\n",
        "fpr[\"micro\"], tpr[\"micro\"], _ = roc_curve(y_test1.ravel(), y_pred1.ravel())\n",
        "roc_auc[\"micro\"] = auc(fpr[\"micro\"], tpr[\"micro\"])"
      ],
      "execution_count": 147,
      "outputs": []
    },
    {
      "cell_type": "code",
      "metadata": {
        "id": "sUMmYjxVJUpO",
        "colab_type": "code",
        "colab": {
          "base_uri": "https://localhost:8080/",
          "height": 577
        },
        "outputId": "6d2ddfd5-7456-478c-b013-6b303492495c"
      },
      "source": [
        "# For single class ROC plot,\n",
        "plt.figure()\n",
        "lw = 2\n",
        "plt.plot(fpr[2], tpr[2], color='darkorange',\n",
        "         lw=lw, label='ROC curve (area = %0.2f)' % roc_auc[2])\n",
        "plt.plot([0, 1], [0, 1], color='navy', lw=lw, linestyle='--')\n",
        "plt.xlim([0.0, 1.0])\n",
        "plt.ylim([0.0, 1.05])\n",
        "plt.xlabel('False Positive Rate')\n",
        "plt.ylabel('True Positive Rate')\n",
        "plt.title('Receiver operating characteristic example')\n",
        "plt.legend(loc=\"lower right\")\n",
        "plt.show()"
      ],
      "execution_count": 148,
      "outputs": [
        {
          "output_type": "display_data",
          "data": {
            "image/png": "[encoded data removed]",
            "text/plain": [
              "<Figure size 864x648 with 1 Axes>"
            ]
          },
          "metadata": {
            "tags": []
          }
        }
      ]
    },
    {
      "cell_type": "code",
      "metadata": {
        "id": "91PPdZxqJcGO",
        "colab_type": "code",
        "colab": {
          "base_uri": "https://localhost:8080/",
          "height": 613
        },
        "outputId": "fc329f92-2f01-44b1-8ac9-d1c138a7096d"
      },
      "source": [
        "# For Multi-class ROC plot,\n",
        "from scipy import interp\n",
        "from itertools import cycle\n",
        "\n",
        "# First aggregate all false positive rates\n",
        "all_fpr = np.unique(np.concatenate([fpr[i] for i in range(n_classes)]))\n",
        "\n",
        "# Then interpolate all ROC curves at this points\n",
        "mean_tpr = np.zeros_like(all_fpr)\n",
        "for i in range(n_classes):\n",
        "    mean_tpr += interp(all_fpr, fpr[i], tpr[i])\n",
        "\n",
        "# Finally average it and compute AUC\n",
        "mean_tpr /= n_classes\n",
        "\n",
        "fpr[\"macro\"] = all_fpr\n",
        "tpr[\"macro\"] = mean_tpr\n",
        "roc_auc[\"macro\"] = auc(fpr[\"macro\"], tpr[\"macro\"])\n",
        "\n",
        "# Plot all ROC curves\n",
        "plt.figure()\n",
        "plt.plot(fpr[\"micro\"], tpr[\"micro\"],\n",
        "         label='micro-average ROC curve (area = {0:0.2f})'\n",
        "               ''.format(roc_auc[\"micro\"]),\n",
        "         color='deeppink', linestyle=':', linewidth=4)\n",
        "\n",
        "plt.plot(fpr[\"macro\"], tpr[\"macro\"],\n",
        "         label='macro-average ROC curve (area = {0:0.2f})'\n",
        "               ''.format(roc_auc[\"macro\"]),\n",
        "         color='navy', linestyle=':', linewidth=4)\n",
        "\n",
        "colors = cycle(['aqua', 'darkorange', 'cornflowerblue'])\n",
        "for i, color in zip(range(n_classes), colors):\n",
        "    plt.plot(fpr[i], tpr[i], color=color, lw=lw,\n",
        "             label='ROC curve of class {0} (area = {1:0.2f})'\n",
        "             ''.format(i, roc_auc[i]))\n",
        "\n",
        "plt.plot([0, 1], [0, 1], 'k--', lw=lw)\n",
        "plt.xlim([0.0, 1.0])\n",
        "plt.ylim([0.0, 1.0])\n",
        "plt.xlabel('False Positive Rate')\n",
        "plt.ylabel('True Positive Rate')\n",
        "plt.title('Some extension of Receiver operating characteristic to multi-class on test data')\n",
        "plt.legend(loc=\"lower right\")\n",
        "plt.show()"
      ],
      "execution_count": 149,
      "outputs": [
        {
          "output_type": "stream",
          "text": [
            "/usr/local/lib/python3.6/dist-packages/ipykernel_launcher.py:11: DeprecationWarning: scipy.interp is deprecated and will be removed in SciPy 2.0.0, use numpy.interp instead\n",
            "  # This is added back by InteractiveShellApp.init_path()\n"
          ],
          "name": "stderr"
        },
        {
          "output_type": "display_data",
          "data": {
            "image/png": "[encoded data removed]",
            "text/plain": [
              "<Figure size 864x648 with 1 Axes>"
            ]
          },
          "metadata": {
            "tags": []
          }
        }
      ]
    }
  ]
}